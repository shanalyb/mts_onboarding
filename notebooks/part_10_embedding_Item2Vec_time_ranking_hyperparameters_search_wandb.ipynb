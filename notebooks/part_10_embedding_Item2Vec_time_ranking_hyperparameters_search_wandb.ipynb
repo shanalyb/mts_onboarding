{
  "cells": [
    {
      "cell_type": "code",
      "execution_count": null,
      "metadata": {
        "id": "Owp20xO1OoDo"
      },
      "outputs": [],
      "source": [
        "%pip install wandb -Uqq"
      ]
    },
    {
      "cell_type": "code",
      "execution_count": null,
      "metadata": {
        "colab": {
          "base_uri": "https://localhost:8080/"
        },
        "id": "ArTWd-2aeX7r",
        "outputId": "0d24cc87-b9d6-44ab-aadd-55df7c28d668"
      },
      "outputs": [
        {
          "output_type": "stream",
          "name": "stdout",
          "text": [
            "\u001b[K     |████████████████████████████████| 13.5 MB 6.6 MB/s \n",
            "\u001b[K     |████████████████████████████████| 188 kB 50.7 MB/s \n",
            "\u001b[?25h"
          ]
        }
      ],
      "source": [
        "%pip install nmslib -Uqq"
      ]
    },
    {
      "cell_type": "code",
      "execution_count": null,
      "metadata": {
        "colab": {
          "base_uri": "https://localhost:8080/"
        },
        "id": "xzhrK1x9FJ6z",
        "outputId": "c5b26bd6-5b43-4266-d1d7-c36736aefcd8"
      },
      "outputs": [
        {
          "output_type": "stream",
          "name": "stdout",
          "text": [
            "\u001b[K     |████████████████████████████████| 2.0 MB 6.4 MB/s \n",
            "\u001b[K     |████████████████████████████████| 24.1 MB 2.2 MB/s \n",
            "\u001b[?25h"
          ]
        }
      ],
      "source": [
        "%pip install LibRecommender -Uqq"
      ]
    },
    {
      "cell_type": "code",
      "execution_count": null,
      "metadata": {
        "colab": {
          "base_uri": "https://localhost:8080/"
        },
        "id": "WpVLVrPtnGdZ",
        "outputId": "9a7400e7-e135-435e-f515-f7b168da0978"
      },
      "outputs": [
        {
          "output_type": "stream",
          "name": "stdout",
          "text": [
            "\u001b[K     |████████████████████████████████| 4.7 MB 7.4 MB/s \n",
            "\u001b[?25h"
          ]
        }
      ],
      "source": [
        "%pip install faiss==1.5.3 -Uqq"
      ]
    },
    {
      "cell_type": "code",
      "execution_count": null,
      "metadata": {
        "colab": {
          "base_uri": "https://localhost:8080/"
        },
        "id": "LecCNFAYXuBT",
        "outputId": "6e2a810c-f565-48b8-b125-8eae42c2e233"
      },
      "outputs": [
        {
          "output_type": "stream",
          "name": "stdout",
          "text": [
            "\u001b[K     |████████████████████████████████| 45 kB 2.5 MB/s \n",
            "\u001b[K     |████████████████████████████████| 246 kB 14.9 MB/s \n",
            "\u001b[?25h"
          ]
        }
      ],
      "source": [
        "%pip install ujson redis -Uqq"
      ]
    },
    {
      "cell_type": "code",
      "source": [
        "import wandb\n",
        "wandb.login()"
      ],
      "metadata": {
        "id": "F_JurJjZxmPY"
      },
      "execution_count": null,
      "outputs": []
    },
    {
      "cell_type": "code",
      "execution_count": null,
      "metadata": {
        "id": "6LS6-YnNY5rT"
      },
      "outputs": [],
      "source": [
        "import os\n",
        "from pathlib import Path\n",
        "\n",
        "import numpy as np\n",
        "import pandas as pd\n",
        "\n",
        "from libreco.data import random_split, split_by_ratio_chrono, DatasetPure\n",
        "from libreco.algorithms import Item2Vec   # pure data\n",
        "from libreco.evaluation import evaluate\n",
        "\n",
        "import warnings\n",
        "warnings.filterwarnings('ignore')\n",
        "warnings.simplefilter('ignore')"
      ]
    },
    {
      "cell_type": "code",
      "execution_count": null,
      "metadata": {
        "id": "sYjMJUUITNWs"
      },
      "outputs": [],
      "source": [
        "from libserving.serialization import save_embed"
      ]
    },
    {
      "cell_type": "code",
      "source": [
        "MODEL_PATH = \"/content/drive/MyDrive/Colab Notebooks/00-MTC/models/Item2Vec\" \n",
        "if not os.path.isdir(MODEL_PATH):\n",
        "    os.mkdir(MODEL_PATH)  \n",
        "MODEL_NAME = 'Item2Vec'"
      ],
      "metadata": {
        "id": "OGF58N8oR6WL"
      },
      "execution_count": null,
      "outputs": []
    },
    {
      "cell_type": "code",
      "execution_count": null,
      "metadata": {
        "colab": {
          "base_uri": "https://localhost:8080/"
        },
        "id": "zCMxhyEnHErG",
        "outputId": "5b1f3a61-e811-4e95-b397-b88c2f63aa9b"
      },
      "outputs": [
        {
          "output_type": "stream",
          "name": "stdout",
          "text": [
            "random neg item sampling elapsed: 0.099s\n",
            "random neg item sampling elapsed: 0.011s\n",
            "random neg item sampling elapsed: 0.011s\n",
            "n_users: 610, n_items: 8237, data sparsity: 1.6056 %\n"
          ]
        }
      ],
      "source": [
        "data = pd.read_csv(\"https://s3-us-west-2.amazonaws.com/recommender-tutorial/ratings.csv\")\n",
        "data.columns = [\"user\", \"item\", \"label\", \"time\"]\n",
        "data[\"label\"] = 1 \n",
        "\n",
        "train_data, eval_data, test_data = split_by_ratio_chrono(data, multi_ratios=[0.8, 0.1, 0.1])\n",
        "\n",
        "train_data, data_info = DatasetPure.build_trainset(train_data)\n",
        "eval_data = DatasetPure.build_evalset(eval_data)\n",
        "test_data = DatasetPure.build_testset(test_data)\n",
        "train_data.build_negative_samples(data_info)  # sample negative items for each record\n",
        "eval_data.build_negative_samples(data_info) \n",
        "test_data.build_negative_samples(data_info)\n",
        "print(data_info)   # n_users: 5894, n_items: 3253, data sparsity: 0.4172 %"
      ]
    },
    {
      "cell_type": "code",
      "source": [
        "window_size = max(len(seq) for seq in data_info.user_consumed.values()) + 5\n",
        "print('max window_size:', window_size)"
      ],
      "metadata": {
        "colab": {
          "base_uri": "https://localhost:8080/"
        },
        "id": "ss7gBhkj8Pf7",
        "outputId": "5b709a47-159e-4bc4-c3fb-0209320372b7"
      },
      "execution_count": null,
      "outputs": [
        {
          "output_type": "stream",
          "name": "stdout",
          "text": [
            "max window_size: 2163\n"
          ]
        }
      ]
    },
    {
      "cell_type": "code",
      "source": [
        "window_size_2 = window_size // 2\n",
        "window_size_2"
      ],
      "metadata": {
        "colab": {
          "base_uri": "https://localhost:8080/"
        },
        "id": "NcE8lz0M8cSh",
        "outputId": "a4d3fe6d-7005-4346-b8a8-d6af15801f86"
      },
      "execution_count": null,
      "outputs": [
        {
          "output_type": "execute_result",
          "data": {
            "text/plain": [
              "1081"
            ]
          },
          "metadata": {},
          "execution_count": 7
        }
      ]
    },
    {
      "cell_type": "code",
      "source": [
        "window_size_3 = window_size // 3\n",
        "window_size_3"
      ],
      "metadata": {
        "colab": {
          "base_uri": "https://localhost:8080/"
        },
        "id": "xM7Rpb7o8iy1",
        "outputId": "58e69e76-5111-43db-85a1-0cb12c8aec35"
      },
      "execution_count": null,
      "outputs": [
        {
          "output_type": "execute_result",
          "data": {
            "text/plain": [
              "721"
            ]
          },
          "metadata": {},
          "execution_count": 8
        }
      ]
    },
    {
      "cell_type": "code",
      "source": [
        "window_size_4 = window_size // 4\n",
        "window_size_4"
      ],
      "metadata": {
        "colab": {
          "base_uri": "https://localhost:8080/"
        },
        "id": "cN3EGCcD8mJl",
        "outputId": "584d8de0-c827-41a4-e56d-cf0687d92980"
      },
      "execution_count": null,
      "outputs": [
        {
          "output_type": "execute_result",
          "data": {
            "text/plain": [
              "540"
            ]
          },
          "metadata": {},
          "execution_count": 9
        }
      ]
    },
    {
      "cell_type": "code",
      "execution_count": null,
      "metadata": {
        "colab": {
          "base_uri": "https://localhost:8080/",
          "height": 1000,
          "referenced_widgets": [
            "72b4bbc9236a4e619238705bea67cf0c",
            "6c4542d1c0964e85bd3180ad1f87033c",
            "bde3569cac8b48759c196d5e1e03415e",
            "b06a30850ae541c1a604351f422e0cf8",
            "778451d8d06c44a2be8d2292f210f47d",
            "4a90a9ad21704b87bb68b39a84271653",
            "1aac8efd712c4146b2c19eb1db1582fc",
            "cc6c12ea45304983843bc790a366985c",
            "0b723f00430c4945ba8512f473f7b0ad",
            "70c748cdf90a4f089447d0c57aabd8c6",
            "caebcf9d4191448a848b06497e9d3aa4",
            "d8f84961b3af4ea6a8c287502f86ebc9",
            "ccbe49b5e4094f0d8b3bc8953e2fa382",
            "d3ecef1acc9e483a8f546538dc062ba6",
            "f59b84a01e994b189ef3c6a3bc4d210d",
            "54ba5c0082124293af8052c2a1d4a6c2",
            "aeb494a303704cf28298f4b860d08e76",
            "1a1d77defef042b7bbfddf28a2bb6104",
            "8d5cfe00bbe4400ba6ee7737b7eda473",
            "e004eb147d9e4be5acac82ef22ed05ba",
            "d4e83abc448b4e6fa97277d1e5767797",
            "167b51e715494007b73f8d83ec962304",
            "9275a1d4b7ee4e9cb493a2295d9a2ba8",
            "c22936489cfa4fa5a4228363b1b171a9",
            "1cf3fa38516b47508071d92f0d1fc998",
            "ca7f45d284df4a49940aa717f442030b",
            "f529918661b24456ae5de4296f286018",
            "ea2e19e01da9464d89320bc214904b6c",
            "af4c864c7e9945f5b57f55661ed20b1d",
            "66b3dff4ff864bb3b3ce105b8b34d635",
            "e9dc3d26f5a347abbe3f4ea35b06aebb",
            "e47659c1bf284a4e9f19f92560e683a3",
            "05798f3d6f814334ae7c9e7d39ef3c54",
            "423934e14ce24256aafd5af608987976",
            "58cc06abe6784bcd9a8b1331c58470c7",
            "641c4bdd912041a3b9a609465e16dc3f",
            "ad528396cb7a4cc0b2ab22117bfefdfd",
            "40f631f046ff481386da7ea0cf188bbe",
            "29e98f5cd3674af5834676134b0fcf07",
            "93f869c831cb4045bacb98188e19732b",
            "517ddea381e347b79c4d19ea655e7bee",
            "4250085b9f9649d899206c680961cb54",
            "72fa6c2ba4914ecfa454fdfc98abb55b",
            "9cbe20448c07425593860bb9b0ab2e42",
            "cf1452382539467d9324d2d38ed49939",
            "53bf752f6b9d4279a2047e3087951e34",
            "bc1b39b969284363a50a4488d8580ac7",
            "28b0e1ebcaf4483b822c17e52e3e7444",
            "c46f7492a3024c32b33d8bcbf3364065",
            "8b02c25c31164c84ab0edad3428f6b6f",
            "9eeb302666e1495884e05f496b08e2c2",
            "653055ffed344c1eb42722084473615f",
            "adce135fe9304271a006ac19255cbee3",
            "c1038bd22a844356bf6544e71bfdd537",
            "480047aeac8b4ec09ec52a9275f644f7",
            "7cafadb4a0744ab0847da838514b7c24",
            "8fc0a534023b4c459cd66ca73d0ef01c",
            "daa75043877d45ebb5c4bc858d2f7094",
            "2edc7d3cdeeb440c82dee569e25e98f5",
            "97681cbac1224b938e79d7c240147cd6",
            "5d4f3377f02a47848132345d3273925d",
            "a74d7a0192f24f48b8a33d34be8b08c9",
            "86b60db7ccd846dd9c0333ccf229138b",
            "edb05bcdf0874de29b60977067d98a1e",
            "efca4efd30184590968d50615cdb0f18",
            "bb5b2144942848668a7a03ca5f2dca47",
            "244f18247b724c4a9cc1b6a5094b8752",
            "af5d7e861d25425eb9ec6bba9ba82fa8",
            "dc4b9a5d33c9413a998de8fba9f06d40",
            "f0480f7a17274d3fbce8c04543742d18",
            "c52d4a9b316b49bcb5c03287dac54db9",
            "b1d13c98daba4c9c85af154ce97e74a0",
            "27065803f22648b5bcd015701aa91321",
            "82aad7389a764fa6a1af47958c7ba9fe",
            "c37d8cc8fec0471abb92b0f4f07bba1a",
            "cfd3828fb7cd4756bae7d1e9796f4577",
            "e86bcd011c594f79b0e2feb4a998024a",
            "589d9032918f4e1187089da5735b5df8",
            "4c480176394b438d8149aedf90194c91",
            "a79644fe11494ddab10b3c3ddf5d67fa",
            "989966dc1a674383afb2e4dbe91db418",
            "7286c739809e4f2595c83b94fdd41142",
            "8c4d6aa5310143248c90bdc630b33631",
            "edc9923dec60443dab41e84068ce511e",
            "e6079a587dc34b7d96813a4af5ece7d1",
            "9c6e1b59aaa04721985c5752cc678dcb",
            "00871aeb8dd74fa2aac2ad7a49c68639",
            "fb025cd185ea44c1a40a1af89518e1fa",
            "3dfbc069a10848838a7b6b414413407e",
            "f84a389731dc47b2966918ca72f475a9",
            "74eb3a7e5e23425299154b8c8c8926b4",
            "181db248a4f44fd7bb20c71b96eee49c",
            "8ac9c6e3fa0d48d7bb04901507798b06",
            "4d0ab7a30f414cd8a1cf833c3d56b9b0",
            "301cb48c52394851bd5496f7d1e9377b",
            "cbf50fa6d5be4843b855580943f94366",
            "5a6d1f590b2043bfa1b0692481c74909",
            "acfd18fb29df44e484e7f9bf49c3e392",
            "827077c817334c2f84e86935bf6f312f",
            "fd58ed7d853c4cbb83da448982c66666",
            "93cdcaa6f7234c208cfce95f0bf5f9e7",
            "5c7209dff11d4ecea054bdcf84e1168e",
            "da1a2ea9f21b420c9d58529940bcb685",
            "9618e8738dc94cdcb3e55b3c5e33684f",
            "89bf5607ab854cf38103cb47507f58c9",
            "b5fca6a3c94d4144a5c602ee832742cd",
            "5d21e7498c924f819d904314d5458b69",
            "91d9f1c8eaf44f058d9e5e2cd65d2884",
            "62bcb9d168f040e5909df83d53d5c3bf",
            "e2dc6d9b5cbe411a8b26a8684be2da37",
            "4d0ca275a56f4c5fa3941f6a3f2f2543",
            "c848b3b975724229adfee9f7b3a40059",
            "d1432b926a8343be81ad5252fb6b110a",
            "d76e3c3c8689406baae9b0e56c231b6d",
            "cbda6b77ffe44924a0ef76a0cc95da34",
            "578b4b6ca8d241db9a9a6ae85c8ecb17",
            "a16477400cd241b98809b7401e816bef",
            "210b29b2e1c24bafb17138c87b76e055",
            "06d6038314724cfa86c8fd289f9b42b3",
            "333112fddd6347e397cc60e59b48883e",
            "d75e7b52c3cc42cfb9b668d5ab12bef9",
            "8007d8e8771a4cad8cb835aa542966fe",
            "4392627d4a8148f8aaa5b23eb5693b2b",
            "941f8afda8cb472daaa9c2fc063d8124",
            "b0e73527e20e41bdaeed11b72e5310fa",
            "a38fca787e7d44749092c65c441e7a04",
            "74f8763f0fe945deb8d9b0303bb399dd",
            "d075467449194e7784a4dda23de4d5ca",
            "0dd06f7419094220aca64d14dbe27d83",
            "7d4734144d7d4b68999c0a54261a4fe6",
            "e2478a9a38844ec28b354aa2a0962d88",
            "bb3bacdd729f48f69bca125ccb1c55d5",
            "90647b9f7637487f8cfb22351c8c3db6",
            "f483e223942447968e4311daa8d262d2",
            "a9b791d09ee341548d017a9af3a0b0b2",
            "8903725575ae4e06a99a255b8e3a4497",
            "514526ae53fb4539aab7200e1fdce127",
            "fbda4c0fddc5487fab98b7e97e168a8b",
            "0e72b386134c469ca894edf4796e526e",
            "5eab19ef34e1421ca6df869295b4318b",
            "1367336bf2354dddb7d4ddc9eed037c9",
            "5df0e5448a8b41d9a0c4bb8f658f214e",
            "ee6ff8557e124dca90a0a4afc5d0e0e7",
            "64dd4b12faea42a3b3a528a662d87a98",
            "7d851105f25a439b82faa4dbb72d1827",
            "90e8d1d3e66c48b3865ff63b5ae9041a",
            "9fc99cdd73af42e5ba9c6c943869c3c6",
            "60ec90db1c5f41f1b2cd80c2aeb02779",
            "82c56d37cb3a4c36bd1f788af0e61fb6",
            "f4ffb02af6f64a6384efe822732ba6d8",
            "c97f870e734e43e194683afddbfbd480",
            "daf6e30abc5b4bd4abb0ee2ac02de3d8",
            "76e83175a16148b088fb29dcf857b932",
            "3dd672a5939e474c97a456b1cb513797",
            "075b9a4a128a4471b0a47645a413d194",
            "b4354097721e4890b9504e92baec0ab9",
            "7744b67613644986988b4c6968e09e96",
            "a6e12a3d5e894070b93c6331f3b20c77",
            "da351200099248a1a9055f3b33483914",
            "1d7740110bf54956b36e2771dc13da75",
            "7aa0369ad7b44af9b85d62073a55f2c1",
            "8dc970aa6215455cb02f4d218886f8f3",
            "0407421507834324acff901d8c75accc",
            "4ce44c02c1d0486fbd69a085c0e01497",
            "95d244d010764ae88739373ed6999e48",
            "eafb58a2d429401fa8d743eb12bd21b9",
            "2ff17e447d6e4cbba7256989586d5e3c",
            "0f56dbd8322d431da8f7d6d387b91709",
            "8fc6032ebc014594abc6f8c3965efe62",
            "5127d30c8a77465ab5c1cd661f0ed8a9",
            "2fdc970efbe14934a91d235a5f559456",
            "4c1e9baf318f4f7480c259f995358a4e",
            "67750a981663423eaad7145e4dcd98d7",
            "88c2f0be8f6348309ba353bb651050e7",
            "5bd43a2e82fc4669a5077ff165d403dd",
            "57ee63758e89483089ad9da7fbda5c33"
          ]
        },
        "id": "o7oiUUXcQAji",
        "outputId": "b419bc78-9bff-4456-e629-7631b9b3899d"
      },
      "outputs": [
        {
          "metadata": {
            "tags": null
          },
          "name": "stdout",
          "output_type": "stream",
          "text": [
            "Create sweep with ID: cmrz31in\n",
            "Sweep URL: https://wandb.ai/iloncka-ds/recsys-app/sweeps/cmrz31in\n"
          ]
        },
        {
          "metadata": {
            "tags": null
          },
          "name": "stderr",
          "output_type": "stream",
          "text": [
            "\u001b[34m\u001b[1mwandb\u001b[0m: Agent Starting Run: 3vxtwqr5 with config:\n",
            "\u001b[34m\u001b[1mwandb\u001b[0m: \tembed_size: 64\n",
            "\u001b[34m\u001b[1mwandb\u001b[0m: \tn_epochs: 20\n",
            "\u001b[34m\u001b[1mwandb\u001b[0m: \tnorm_embed: False\n",
            "\u001b[34m\u001b[1mwandb\u001b[0m: \twindow_size: 2160\n",
            "ERROR:wandb.jupyter:Failed to detect the name of this notebook, you can set it manually with the WANDB_NOTEBOOK_NAME environment variable to enable code saving.\n",
            "\u001b[34m\u001b[1mwandb\u001b[0m: Currently logged in as: \u001b[33miloncka-ds\u001b[0m. Use \u001b[1m`wandb login --relogin`\u001b[0m to force relogin\n"
          ]
        },
        {
          "data": {
            "text/html": [
              "Tracking run with wandb version 0.13.5"
            ],
            "text/plain": [
              "<IPython.core.display.HTML object>"
            ]
          },
          "metadata": {},
          "output_type": "display_data"
        },
        {
          "data": {
            "text/html": [
              "Run data is saved locally in <code>/content/wandb/run-20221107_073939-3vxtwqr5</code>"
            ],
            "text/plain": [
              "<IPython.core.display.HTML object>"
            ]
          },
          "metadata": {},
          "output_type": "display_data"
        },
        {
          "data": {
            "text/html": [
              "Syncing run <strong><a href=\"https://wandb.ai/iloncka-ds/recsys-app/runs/3vxtwqr5\" target=\"_blank\">volcanic-sweep-1</a></strong> to <a href=\"https://wandb.ai/iloncka-ds/recsys-app\" target=\"_blank\">Weights & Biases</a> (<a href=\"https://wandb.me/run\" target=\"_blank\">docs</a>)<br/>Sweep page:  <a href=\"https://wandb.ai/iloncka-ds/recsys-app/sweeps/cmrz31in\" target=\"_blank\">https://wandb.ai/iloncka-ds/recsys-app/sweeps/cmrz31in</a>"
            ],
            "text/plain": [
              "<IPython.core.display.HTML object>"
            ]
          },
          "metadata": {},
          "output_type": "display_data"
        },
        {
          "metadata": {
            "tags": null
          },
          "name": "stdout",
          "output_type": "stream",
          "text": [
            "\u001b[31mwindow size: 2160, using too large window size may slow down training.\u001b[0m\n",
            "Training start time: \u001b[35m2022-11-07 07:39:40\u001b[0m\n"
          ]
        },
        {
          "metadata": {
            "tags": null
          },
          "name": "stderr",
          "output_type": "stream",
          "text": [
            "Item2vec iter0: 100%|██████████| 610/610 [00:00<00:00, 11207.89it/s]\n",
            "Item2vec iter1: 100%|██████████| 610/610 [00:05<00:00, 121.84it/s]\n",
            "Item2vec iter2: 100%|██████████| 610/610 [00:04<00:00, 137.16it/s]\n",
            "Item2vec iter3: 100%|██████████| 610/610 [00:04<00:00, 140.25it/s]\n",
            "Item2vec iter4: 100%|██████████| 610/610 [00:04<00:00, 132.08it/s]\n",
            "Item2vec iter5: 100%|██████████| 610/610 [00:04<00:00, 125.74it/s]\n",
            "Item2vec iter6: 100%|██████████| 610/610 [00:04<00:00, 127.56it/s]\n",
            "Item2vec iter7: 100%|██████████| 610/610 [00:04<00:00, 133.28it/s]\n",
            "Item2vec iter8: 100%|██████████| 610/610 [00:04<00:00, 127.38it/s]\n",
            "Item2vec iter9: 100%|██████████| 610/610 [00:04<00:00, 127.67it/s]\n",
            "Item2vec iter10: 100%|██████████| 610/610 [00:04<00:00, 125.60it/s]\n",
            "Item2vec iter11: 100%|██████████| 610/610 [00:04<00:00, 122.25it/s]\n",
            "Item2vec iter12: 100%|██████████| 610/610 [00:04<00:00, 125.85it/s]\n",
            "Item2vec iter13: 100%|██████████| 610/610 [00:04<00:00, 123.95it/s]\n",
            "Item2vec iter14: 100%|██████████| 610/610 [00:04<00:00, 126.23it/s]\n",
            "Item2vec iter15: 100%|██████████| 610/610 [00:04<00:00, 129.08it/s]\n",
            "Item2vec iter16: 100%|██████████| 610/610 [00:04<00:00, 125.80it/s]\n",
            "Item2vec iter17: 100%|██████████| 610/610 [00:04<00:00, 128.76it/s]\n",
            "Item2vec iter18: 100%|██████████| 610/610 [00:04<00:00, 127.02it/s]\n",
            "Item2vec iter19: 100%|██████████| 610/610 [00:05<00:00, 120.03it/s]\n",
            "Item2vec iter20: 100%|██████████| 610/610 [00:04<00:00, 123.60it/s]\n"
          ]
        },
        {
          "metadata": {
            "tags": null
          },
          "name": "stdout",
          "output_type": "stream",
          "text": [
            "gensim word2vec training elapsed: 542.510s\n"
          ]
        },
        {
          "metadata": {
            "tags": null
          },
          "name": "stderr",
          "output_type": "stream",
          "text": [
            "eval_pred: 100%|██████████| 3/3 [00:00<00:00, 183.39it/s]\n",
            "eval_rec: 100%|██████████| 608/608 [00:00<00:00, 1436.45it/s]\n"
          ]
        },
        {
          "data": {
            "text/html": [
              "Waiting for W&B process to finish... <strong style=\"color:green\">(success).</strong>"
            ],
            "text/plain": [
              "<IPython.core.display.HTML object>"
            ]
          },
          "metadata": {},
          "output_type": "display_data"
        },
        {
          "data": {
            "application/vnd.jupyter.widget-view+json": {
              "model_id": "72b4bbc9236a4e619238705bea67cf0c",
              "version_major": 2,
              "version_minor": 0
            },
            "text/plain": [
              "VBox(children=(Label(value='0.001 MB of 0.001 MB uploaded (0.000 MB deduped)\\r'), FloatProgress(value=1.0, max…"
            ]
          },
          "metadata": {},
          "output_type": "display_data"
        },
        {
          "data": {
            "text/html": [
              "<style>\n",
              "    table.wandb td:nth-child(1) { padding: 0 10px; text-align: left ; width: auto;} td:nth-child(2) {text-align: left ; width: 100%}\n",
              "    .wandb-row { display: flex; flex-direction: row; flex-wrap: wrap; justify-content: flex-start; width: 100% }\n",
              "    .wandb-col { display: flex; flex-direction: column; flex-basis: 100%; flex: 1; padding: 10px; }\n",
              "    </style>\n",
              "<div class=\"wandb-row\"><div class=\"wandb-col\"><h3>Run history:</h3><br/><table class=\"wandb\"><tr><td>loss</td><td>▁</td></tr><tr><td>map</td><td>▁</td></tr><tr><td>ndcg</td><td>▁</td></tr><tr><td>precision</td><td>▁</td></tr><tr><td>recall</td><td>▁</td></tr><tr><td>roc_auc</td><td>▁</td></tr></table><br/></div><div class=\"wandb-col\"><h3>Run summary:</h3><br/><table class=\"wandb\"><tr><td>loss</td><td>1.14052</td></tr><tr><td>map</td><td>0.0053</td></tr><tr><td>ndcg</td><td>0.00799</td></tr><tr><td>precision</td><td>0.00181</td></tr><tr><td>recall</td><td>0.00099</td></tr><tr><td>roc_auc</td><td>0.47027</td></tr></table><br/></div></div>"
            ],
            "text/plain": [
              "<IPython.core.display.HTML object>"
            ]
          },
          "metadata": {},
          "output_type": "display_data"
        },
        {
          "data": {
            "text/html": [
              "Synced <strong style=\"color:#cdcd00\">volcanic-sweep-1</strong>: <a href=\"https://wandb.ai/iloncka-ds/recsys-app/runs/3vxtwqr5\" target=\"_blank\">https://wandb.ai/iloncka-ds/recsys-app/runs/3vxtwqr5</a><br/>Synced 5 W&B file(s), 0 media file(s), 0 artifact file(s) and 0 other file(s)"
            ],
            "text/plain": [
              "<IPython.core.display.HTML object>"
            ]
          },
          "metadata": {},
          "output_type": "display_data"
        },
        {
          "data": {
            "text/html": [
              "Find logs at: <code>./wandb/run-20221107_073939-3vxtwqr5/logs</code>"
            ],
            "text/plain": [
              "<IPython.core.display.HTML object>"
            ]
          },
          "metadata": {},
          "output_type": "display_data"
        },
        {
          "metadata": {
            "tags": null
          },
          "name": "stderr",
          "output_type": "stream",
          "text": [
            "\u001b[34m\u001b[1mwandb\u001b[0m: Agent Starting Run: 8a5xbzdo with config:\n",
            "\u001b[34m\u001b[1mwandb\u001b[0m: \tembed_size: 32\n",
            "\u001b[34m\u001b[1mwandb\u001b[0m: \tn_epochs: 10\n",
            "\u001b[34m\u001b[1mwandb\u001b[0m: \tnorm_embed: False\n",
            "\u001b[34m\u001b[1mwandb\u001b[0m: \twindow_size: 540\n",
            "Failed to detect the name of this notebook, you can set it manually with the WANDB_NOTEBOOK_NAME environment variable to enable code saving.\n"
          ]
        },
        {
          "data": {
            "text/html": [
              "Tracking run with wandb version 0.13.5"
            ],
            "text/plain": [
              "<IPython.core.display.HTML object>"
            ]
          },
          "metadata": {},
          "output_type": "display_data"
        },
        {
          "data": {
            "text/html": [
              "Run data is saved locally in <code>/content/wandb/run-20221107_074855-8a5xbzdo</code>"
            ],
            "text/plain": [
              "<IPython.core.display.HTML object>"
            ]
          },
          "metadata": {},
          "output_type": "display_data"
        },
        {
          "data": {
            "text/html": [
              "Syncing run <strong><a href=\"https://wandb.ai/iloncka-ds/recsys-app/runs/8a5xbzdo\" target=\"_blank\">confused-sweep-2</a></strong> to <a href=\"https://wandb.ai/iloncka-ds/recsys-app\" target=\"_blank\">Weights & Biases</a> (<a href=\"https://wandb.me/run\" target=\"_blank\">docs</a>)<br/>Sweep page:  <a href=\"https://wandb.ai/iloncka-ds/recsys-app/sweeps/cmrz31in\" target=\"_blank\">https://wandb.ai/iloncka-ds/recsys-app/sweeps/cmrz31in</a>"
            ],
            "text/plain": [
              "<IPython.core.display.HTML object>"
            ]
          },
          "metadata": {},
          "output_type": "display_data"
        },
        {
          "metadata": {
            "tags": null
          },
          "name": "stdout",
          "output_type": "stream",
          "text": [
            "\u001b[31mwindow size: 540, using too large window size may slow down training.\u001b[0m\n",
            "Training start time: \u001b[35m2022-11-07 07:48:58\u001b[0m\n"
          ]
        },
        {
          "metadata": {
            "tags": null
          },
          "name": "stderr",
          "output_type": "stream",
          "text": [
            "Item2vec iter0: 100%|██████████| 610/610 [00:00<00:00, 11732.27it/s]\n",
            "Item2vec iter1: 100%|██████████| 610/610 [00:03<00:00, 163.79it/s]\n",
            "Item2vec iter2: 100%|██████████| 610/610 [00:02<00:00, 219.00it/s]\n",
            "Item2vec iter3: 100%|██████████| 610/610 [00:02<00:00, 210.41it/s]\n",
            "Item2vec iter4: 100%|██████████| 610/610 [00:02<00:00, 221.71it/s]\n",
            "Item2vec iter5: 100%|██████████| 610/610 [00:02<00:00, 216.99it/s]\n",
            "Item2vec iter6: 100%|██████████| 610/610 [00:02<00:00, 224.18it/s]\n",
            "Item2vec iter7: 100%|██████████| 610/610 [00:02<00:00, 216.57it/s]\n",
            "Item2vec iter8: 100%|██████████| 610/610 [00:02<00:00, 215.36it/s]\n",
            "Item2vec iter9: 100%|██████████| 610/610 [00:02<00:00, 214.43it/s]\n",
            "Item2vec iter10: 100%|██████████| 610/610 [00:02<00:00, 216.91it/s]\n"
          ]
        },
        {
          "metadata": {
            "tags": null
          },
          "name": "stdout",
          "output_type": "stream",
          "text": [
            "gensim word2vec training elapsed: 133.458s\n"
          ]
        },
        {
          "metadata": {
            "tags": null
          },
          "name": "stderr",
          "output_type": "stream",
          "text": [
            "eval_pred: 100%|██████████| 3/3 [00:00<00:00, 269.11it/s]\n",
            "eval_rec: 100%|██████████| 608/608 [00:00<00:00, 1749.07it/s]\n"
          ]
        },
        {
          "data": {
            "text/html": [
              "Waiting for W&B process to finish... <strong style=\"color:green\">(success).</strong>"
            ],
            "text/plain": [
              "<IPython.core.display.HTML object>"
            ]
          },
          "metadata": {},
          "output_type": "display_data"
        },
        {
          "data": {
            "text/html": [
              "<style>\n",
              "    table.wandb td:nth-child(1) { padding: 0 10px; text-align: left ; width: auto;} td:nth-child(2) {text-align: left ; width: 100%}\n",
              "    .wandb-row { display: flex; flex-direction: row; flex-wrap: wrap; justify-content: flex-start; width: 100% }\n",
              "    .wandb-col { display: flex; flex-direction: column; flex-basis: 100%; flex: 1; padding: 10px; }\n",
              "    </style>\n",
              "<div class=\"wandb-row\"><div class=\"wandb-col\"><h3>Run history:</h3><br/><table class=\"wandb\"><tr><td>loss</td><td>▁</td></tr><tr><td>map</td><td>▁</td></tr><tr><td>ndcg</td><td>▁</td></tr><tr><td>precision</td><td>▁</td></tr><tr><td>recall</td><td>▁</td></tr><tr><td>roc_auc</td><td>▁</td></tr></table><br/></div><div class=\"wandb-col\"><h3>Run summary:</h3><br/><table class=\"wandb\"><tr><td>loss</td><td>1.181</td></tr><tr><td>map</td><td>0.01812</td></tr><tr><td>ndcg</td><td>0.02528</td></tr><tr><td>precision</td><td>0.00609</td></tr><tr><td>recall</td><td>0.00788</td></tr><tr><td>roc_auc</td><td>0.46976</td></tr></table><br/></div></div>"
            ],
            "text/plain": [
              "<IPython.core.display.HTML object>"
            ]
          },
          "metadata": {},
          "output_type": "display_data"
        },
        {
          "data": {
            "text/html": [
              "Synced <strong style=\"color:#cdcd00\">confused-sweep-2</strong>: <a href=\"https://wandb.ai/iloncka-ds/recsys-app/runs/8a5xbzdo\" target=\"_blank\">https://wandb.ai/iloncka-ds/recsys-app/runs/8a5xbzdo</a><br/>Synced 5 W&B file(s), 0 media file(s), 0 artifact file(s) and 0 other file(s)"
            ],
            "text/plain": [
              "<IPython.core.display.HTML object>"
            ]
          },
          "metadata": {},
          "output_type": "display_data"
        },
        {
          "data": {
            "text/html": [
              "Find logs at: <code>./wandb/run-20221107_074855-8a5xbzdo/logs</code>"
            ],
            "text/plain": [
              "<IPython.core.display.HTML object>"
            ]
          },
          "metadata": {},
          "output_type": "display_data"
        },
        {
          "metadata": {
            "tags": null
          },
          "name": "stderr",
          "output_type": "stream",
          "text": [
            "\u001b[34m\u001b[1mwandb\u001b[0m: Agent Starting Run: jxlrl4n5 with config:\n",
            "\u001b[34m\u001b[1mwandb\u001b[0m: \tembed_size: 64\n",
            "\u001b[34m\u001b[1mwandb\u001b[0m: \tn_epochs: 5\n",
            "\u001b[34m\u001b[1mwandb\u001b[0m: \tnorm_embed: True\n",
            "\u001b[34m\u001b[1mwandb\u001b[0m: \twindow_size: 540\n",
            "Failed to detect the name of this notebook, you can set it manually with the WANDB_NOTEBOOK_NAME environment variable to enable code saving.\n"
          ]
        },
        {
          "data": {
            "text/html": [
              "Tracking run with wandb version 0.13.5"
            ],
            "text/plain": [
              "<IPython.core.display.HTML object>"
            ]
          },
          "metadata": {},
          "output_type": "display_data"
        },
        {
          "data": {
            "text/html": [
              "Run data is saved locally in <code>/content/wandb/run-20221107_075124-jxlrl4n5</code>"
            ],
            "text/plain": [
              "<IPython.core.display.HTML object>"
            ]
          },
          "metadata": {},
          "output_type": "display_data"
        },
        {
          "data": {
            "text/html": [
              "Syncing run <strong><a href=\"https://wandb.ai/iloncka-ds/recsys-app/runs/jxlrl4n5\" target=\"_blank\">grateful-sweep-3</a></strong> to <a href=\"https://wandb.ai/iloncka-ds/recsys-app\" target=\"_blank\">Weights & Biases</a> (<a href=\"https://wandb.me/run\" target=\"_blank\">docs</a>)<br/>Sweep page:  <a href=\"https://wandb.ai/iloncka-ds/recsys-app/sweeps/cmrz31in\" target=\"_blank\">https://wandb.ai/iloncka-ds/recsys-app/sweeps/cmrz31in</a>"
            ],
            "text/plain": [
              "<IPython.core.display.HTML object>"
            ]
          },
          "metadata": {},
          "output_type": "display_data"
        },
        {
          "metadata": {
            "tags": null
          },
          "name": "stdout",
          "output_type": "stream",
          "text": [
            "\u001b[31mwindow size: 540, using too large window size may slow down training.\u001b[0m\n",
            "Training start time: \u001b[35m2022-11-07 07:51:26\u001b[0m\n"
          ]
        },
        {
          "metadata": {
            "tags": null
          },
          "name": "stderr",
          "output_type": "stream",
          "text": [
            "Item2vec iter0: 100%|██████████| 610/610 [00:00<00:00, 12322.94it/s]\n",
            "Item2vec iter1: 100%|██████████| 610/610 [00:03<00:00, 169.77it/s]\n",
            "Item2vec iter2: 100%|██████████| 610/610 [00:03<00:00, 169.00it/s]\n",
            "Item2vec iter3: 100%|██████████| 610/610 [00:03<00:00, 160.47it/s]\n",
            "Item2vec iter4: 100%|██████████| 610/610 [00:03<00:00, 172.40it/s]\n",
            "Item2vec iter5: 100%|██████████| 610/610 [00:03<00:00, 155.41it/s]\n"
          ]
        },
        {
          "metadata": {
            "tags": null
          },
          "name": "stdout",
          "output_type": "stream",
          "text": [
            "gensim word2vec training elapsed: 88.845s\n"
          ]
        },
        {
          "metadata": {
            "tags": null
          },
          "name": "stderr",
          "output_type": "stream",
          "text": [
            "eval_pred: 100%|██████████| 3/3 [00:00<00:00, 250.84it/s]\n",
            "eval_rec: 100%|██████████| 608/608 [00:00<00:00, 1810.43it/s]\n"
          ]
        },
        {
          "data": {
            "text/html": [
              "Waiting for W&B process to finish... <strong style=\"color:green\">(success).</strong>"
            ],
            "text/plain": [
              "<IPython.core.display.HTML object>"
            ]
          },
          "metadata": {},
          "output_type": "display_data"
        },
        {
          "data": {
            "text/html": [
              "<style>\n",
              "    table.wandb td:nth-child(1) { padding: 0 10px; text-align: left ; width: auto;} td:nth-child(2) {text-align: left ; width: 100%}\n",
              "    .wandb-row { display: flex; flex-direction: row; flex-wrap: wrap; justify-content: flex-start; width: 100% }\n",
              "    .wandb-col { display: flex; flex-direction: column; flex-basis: 100%; flex: 1; padding: 10px; }\n",
              "    </style>\n",
              "<div class=\"wandb-row\"><div class=\"wandb-col\"><h3>Run history:</h3><br/><table class=\"wandb\"><tr><td>loss</td><td>▁</td></tr><tr><td>map</td><td>▁</td></tr><tr><td>ndcg</td><td>▁</td></tr><tr><td>precision</td><td>▁</td></tr><tr><td>recall</td><td>▁</td></tr><tr><td>roc_auc</td><td>▁</td></tr></table><br/></div><div class=\"wandb-col\"><h3>Run summary:</h3><br/><table class=\"wandb\"><tr><td>loss</td><td>0.70433</td></tr><tr><td>map</td><td>0.02815</td></tr><tr><td>ndcg</td><td>0.04313</td></tr><tr><td>precision</td><td>0.01151</td></tr><tr><td>recall</td><td>0.02753</td></tr><tr><td>roc_auc</td><td>0.68974</td></tr></table><br/></div></div>"
            ],
            "text/plain": [
              "<IPython.core.display.HTML object>"
            ]
          },
          "metadata": {},
          "output_type": "display_data"
        },
        {
          "data": {
            "text/html": [
              "Synced <strong style=\"color:#cdcd00\">grateful-sweep-3</strong>: <a href=\"https://wandb.ai/iloncka-ds/recsys-app/runs/jxlrl4n5\" target=\"_blank\">https://wandb.ai/iloncka-ds/recsys-app/runs/jxlrl4n5</a><br/>Synced 5 W&B file(s), 0 media file(s), 0 artifact file(s) and 0 other file(s)"
            ],
            "text/plain": [
              "<IPython.core.display.HTML object>"
            ]
          },
          "metadata": {},
          "output_type": "display_data"
        },
        {
          "data": {
            "text/html": [
              "Find logs at: <code>./wandb/run-20221107_075124-jxlrl4n5/logs</code>"
            ],
            "text/plain": [
              "<IPython.core.display.HTML object>"
            ]
          },
          "metadata": {},
          "output_type": "display_data"
        },
        {
          "metadata": {
            "tags": null
          },
          "name": "stderr",
          "output_type": "stream",
          "text": [
            "\u001b[34m\u001b[1mwandb\u001b[0m: Agent Starting Run: 0x0hiacs with config:\n",
            "\u001b[34m\u001b[1mwandb\u001b[0m: \tembed_size: 16\n",
            "\u001b[34m\u001b[1mwandb\u001b[0m: \tn_epochs: 5\n",
            "\u001b[34m\u001b[1mwandb\u001b[0m: \tnorm_embed: False\n",
            "\u001b[34m\u001b[1mwandb\u001b[0m: \twindow_size: 2160\n",
            "Failed to detect the name of this notebook, you can set it manually with the WANDB_NOTEBOOK_NAME environment variable to enable code saving.\n"
          ]
        },
        {
          "data": {
            "text/html": [
              "Tracking run with wandb version 0.13.5"
            ],
            "text/plain": [
              "<IPython.core.display.HTML object>"
            ]
          },
          "metadata": {},
          "output_type": "display_data"
        },
        {
          "data": {
            "text/html": [
              "Run data is saved locally in <code>/content/wandb/run-20221107_075306-0x0hiacs</code>"
            ],
            "text/plain": [
              "<IPython.core.display.HTML object>"
            ]
          },
          "metadata": {},
          "output_type": "display_data"
        },
        {
          "data": {
            "text/html": [
              "Syncing run <strong><a href=\"https://wandb.ai/iloncka-ds/recsys-app/runs/0x0hiacs\" target=\"_blank\">jolly-sweep-4</a></strong> to <a href=\"https://wandb.ai/iloncka-ds/recsys-app\" target=\"_blank\">Weights & Biases</a> (<a href=\"https://wandb.me/run\" target=\"_blank\">docs</a>)<br/>Sweep page:  <a href=\"https://wandb.ai/iloncka-ds/recsys-app/sweeps/cmrz31in\" target=\"_blank\">https://wandb.ai/iloncka-ds/recsys-app/sweeps/cmrz31in</a>"
            ],
            "text/plain": [
              "<IPython.core.display.HTML object>"
            ]
          },
          "metadata": {},
          "output_type": "display_data"
        },
        {
          "metadata": {
            "tags": null
          },
          "name": "stdout",
          "output_type": "stream",
          "text": [
            "\u001b[31mwindow size: 2160, using too large window size may slow down training.\u001b[0m\n",
            "Training start time: \u001b[35m2022-11-07 07:53:08\u001b[0m\n"
          ]
        },
        {
          "metadata": {
            "tags": null
          },
          "name": "stderr",
          "output_type": "stream",
          "text": [
            "Item2vec iter0: 100%|██████████| 610/610 [00:00<00:00, 14424.96it/s]\n",
            "Item2vec iter1: 100%|██████████| 610/610 [00:04<00:00, 130.81it/s]\n",
            "Item2vec iter2: 100%|██████████| 610/610 [00:04<00:00, 126.65it/s]\n",
            "Item2vec iter3: 100%|██████████| 610/610 [00:04<00:00, 131.56it/s]\n",
            "Item2vec iter4: 100%|██████████| 610/610 [00:04<00:00, 125.24it/s]\n",
            "Item2vec iter5: 100%|██████████| 610/610 [00:04<00:00, 123.27it/s]\n"
          ]
        },
        {
          "metadata": {
            "tags": null
          },
          "name": "stdout",
          "output_type": "stream",
          "text": [
            "gensim word2vec training elapsed: 132.235s\n"
          ]
        },
        {
          "metadata": {
            "tags": null
          },
          "name": "stderr",
          "output_type": "stream",
          "text": [
            "eval_pred: 100%|██████████| 3/3 [00:00<00:00, 384.12it/s]\n",
            "eval_rec: 100%|██████████| 608/608 [00:00<00:00, 1654.13it/s]\n"
          ]
        },
        {
          "data": {
            "text/html": [
              "Waiting for W&B process to finish... <strong style=\"color:green\">(success).</strong>"
            ],
            "text/plain": [
              "<IPython.core.display.HTML object>"
            ]
          },
          "metadata": {},
          "output_type": "display_data"
        },
        {
          "data": {
            "application/vnd.jupyter.widget-view+json": {
              "model_id": "0b723f00430c4945ba8512f473f7b0ad",
              "version_major": 2,
              "version_minor": 0
            },
            "text/plain": [
              "VBox(children=(Label(value='0.001 MB of 0.001 MB uploaded (0.000 MB deduped)\\r'), FloatProgress(value=1.0, max…"
            ]
          },
          "metadata": {},
          "output_type": "display_data"
        },
        {
          "data": {
            "text/html": [
              "<style>\n",
              "    table.wandb td:nth-child(1) { padding: 0 10px; text-align: left ; width: auto;} td:nth-child(2) {text-align: left ; width: 100%}\n",
              "    .wandb-row { display: flex; flex-direction: row; flex-wrap: wrap; justify-content: flex-start; width: 100% }\n",
              "    .wandb-col { display: flex; flex-direction: column; flex-basis: 100%; flex: 1; padding: 10px; }\n",
              "    </style>\n",
              "<div class=\"wandb-row\"><div class=\"wandb-col\"><h3>Run history:</h3><br/><table class=\"wandb\"><tr><td>loss</td><td>▁</td></tr><tr><td>map</td><td>▁</td></tr><tr><td>ndcg</td><td>▁</td></tr><tr><td>precision</td><td>▁</td></tr><tr><td>recall</td><td>▁</td></tr><tr><td>roc_auc</td><td>▁</td></tr></table><br/></div><div class=\"wandb-col\"><h3>Run summary:</h3><br/><table class=\"wandb\"><tr><td>loss</td><td>1.14196</td></tr><tr><td>map</td><td>0.00595</td></tr><tr><td>ndcg</td><td>0.00853</td></tr><tr><td>precision</td><td>0.00197</td></tr><tr><td>recall</td><td>0.00047</td></tr><tr><td>roc_auc</td><td>0.42227</td></tr></table><br/></div></div>"
            ],
            "text/plain": [
              "<IPython.core.display.HTML object>"
            ]
          },
          "metadata": {},
          "output_type": "display_data"
        },
        {
          "data": {
            "text/html": [
              "Synced <strong style=\"color:#cdcd00\">jolly-sweep-4</strong>: <a href=\"https://wandb.ai/iloncka-ds/recsys-app/runs/0x0hiacs\" target=\"_blank\">https://wandb.ai/iloncka-ds/recsys-app/runs/0x0hiacs</a><br/>Synced 5 W&B file(s), 0 media file(s), 0 artifact file(s) and 0 other file(s)"
            ],
            "text/plain": [
              "<IPython.core.display.HTML object>"
            ]
          },
          "metadata": {},
          "output_type": "display_data"
        },
        {
          "data": {
            "text/html": [
              "Find logs at: <code>./wandb/run-20221107_075306-0x0hiacs/logs</code>"
            ],
            "text/plain": [
              "<IPython.core.display.HTML object>"
            ]
          },
          "metadata": {},
          "output_type": "display_data"
        },
        {
          "metadata": {
            "tags": null
          },
          "name": "stderr",
          "output_type": "stream",
          "text": [
            "\u001b[34m\u001b[1mwandb\u001b[0m: Agent Starting Run: 3kn8qd40 with config:\n",
            "\u001b[34m\u001b[1mwandb\u001b[0m: \tembed_size: 32\n",
            "\u001b[34m\u001b[1mwandb\u001b[0m: \tn_epochs: 5\n",
            "\u001b[34m\u001b[1mwandb\u001b[0m: \tnorm_embed: False\n",
            "\u001b[34m\u001b[1mwandb\u001b[0m: \twindow_size: 1080\n",
            "Failed to detect the name of this notebook, you can set it manually with the WANDB_NOTEBOOK_NAME environment variable to enable code saving.\n"
          ]
        },
        {
          "data": {
            "text/html": [
              "Tracking run with wandb version 0.13.5"
            ],
            "text/plain": [
              "<IPython.core.display.HTML object>"
            ]
          },
          "metadata": {},
          "output_type": "display_data"
        },
        {
          "data": {
            "text/html": [
              "Run data is saved locally in <code>/content/wandb/run-20221107_075530-3kn8qd40</code>"
            ],
            "text/plain": [
              "<IPython.core.display.HTML object>"
            ]
          },
          "metadata": {},
          "output_type": "display_data"
        },
        {
          "data": {
            "text/html": [
              "Syncing run <strong><a href=\"https://wandb.ai/iloncka-ds/recsys-app/runs/3kn8qd40\" target=\"_blank\">spring-sweep-5</a></strong> to <a href=\"https://wandb.ai/iloncka-ds/recsys-app\" target=\"_blank\">Weights & Biases</a> (<a href=\"https://wandb.me/run\" target=\"_blank\">docs</a>)<br/>Sweep page:  <a href=\"https://wandb.ai/iloncka-ds/recsys-app/sweeps/cmrz31in\" target=\"_blank\">https://wandb.ai/iloncka-ds/recsys-app/sweeps/cmrz31in</a>"
            ],
            "text/plain": [
              "<IPython.core.display.HTML object>"
            ]
          },
          "metadata": {},
          "output_type": "display_data"
        },
        {
          "metadata": {
            "tags": null
          },
          "name": "stdout",
          "output_type": "stream",
          "text": [
            "\u001b[31mwindow size: 1080, using too large window size may slow down training.\u001b[0m\n",
            "Training start time: \u001b[35m2022-11-07 07:55:31\u001b[0m\n"
          ]
        },
        {
          "metadata": {
            "tags": null
          },
          "name": "stderr",
          "output_type": "stream",
          "text": [
            "Item2vec iter0: 100%|██████████| 610/610 [00:00<00:00, 17558.06it/s]\n",
            "Item2vec iter1: 100%|██████████| 610/610 [00:03<00:00, 180.03it/s]\n",
            "Item2vec iter2: 100%|██████████| 610/610 [00:03<00:00, 186.24it/s]\n",
            "Item2vec iter3: 100%|██████████| 610/610 [00:05<00:00, 104.34it/s]\n",
            "Item2vec iter4: 100%|██████████| 610/610 [00:03<00:00, 176.82it/s]\n",
            "Item2vec iter5: 100%|██████████| 610/610 [00:03<00:00, 171.99it/s]\n"
          ]
        },
        {
          "metadata": {
            "tags": null
          },
          "name": "stdout",
          "output_type": "stream",
          "text": [
            "gensim word2vec training elapsed: 97.680s\n"
          ]
        },
        {
          "metadata": {
            "tags": null
          },
          "name": "stderr",
          "output_type": "stream",
          "text": [
            "eval_pred: 100%|██████████| 3/3 [00:00<00:00, 199.01it/s]\n",
            "eval_rec: 100%|██████████| 608/608 [00:00<00:00, 1632.55it/s]\n"
          ]
        },
        {
          "data": {
            "text/html": [
              "Waiting for W&B process to finish... <strong style=\"color:green\">(success).</strong>"
            ],
            "text/plain": [
              "<IPython.core.display.HTML object>"
            ]
          },
          "metadata": {},
          "output_type": "display_data"
        },
        {
          "data": {
            "application/vnd.jupyter.widget-view+json": {
              "model_id": "aeb494a303704cf28298f4b860d08e76",
              "version_major": 2,
              "version_minor": 0
            },
            "text/plain": [
              "VBox(children=(Label(value='0.001 MB of 0.001 MB uploaded (0.000 MB deduped)\\r'), FloatProgress(value=1.0, max…"
            ]
          },
          "metadata": {},
          "output_type": "display_data"
        },
        {
          "data": {
            "text/html": [
              "<style>\n",
              "    table.wandb td:nth-child(1) { padding: 0 10px; text-align: left ; width: auto;} td:nth-child(2) {text-align: left ; width: 100%}\n",
              "    .wandb-row { display: flex; flex-direction: row; flex-wrap: wrap; justify-content: flex-start; width: 100% }\n",
              "    .wandb-col { display: flex; flex-direction: column; flex-basis: 100%; flex: 1; padding: 10px; }\n",
              "    </style>\n",
              "<div class=\"wandb-row\"><div class=\"wandb-col\"><h3>Run history:</h3><br/><table class=\"wandb\"><tr><td>loss</td><td>▁</td></tr><tr><td>map</td><td>▁</td></tr><tr><td>ndcg</td><td>▁</td></tr><tr><td>precision</td><td>▁</td></tr><tr><td>recall</td><td>▁</td></tr><tr><td>roc_auc</td><td>▁</td></tr></table><br/></div><div class=\"wandb-col\"><h3>Run summary:</h3><br/><table class=\"wandb\"><tr><td>loss</td><td>1.12314</td></tr><tr><td>map</td><td>0.01233</td></tr><tr><td>ndcg</td><td>0.01697</td></tr><tr><td>precision</td><td>0.00362</td></tr><tr><td>recall</td><td>0.00354</td></tr><tr><td>roc_auc</td><td>0.45257</td></tr></table><br/></div></div>"
            ],
            "text/plain": [
              "<IPython.core.display.HTML object>"
            ]
          },
          "metadata": {},
          "output_type": "display_data"
        },
        {
          "data": {
            "text/html": [
              "Synced <strong style=\"color:#cdcd00\">spring-sweep-5</strong>: <a href=\"https://wandb.ai/iloncka-ds/recsys-app/runs/3kn8qd40\" target=\"_blank\">https://wandb.ai/iloncka-ds/recsys-app/runs/3kn8qd40</a><br/>Synced 5 W&B file(s), 0 media file(s), 0 artifact file(s) and 0 other file(s)"
            ],
            "text/plain": [
              "<IPython.core.display.HTML object>"
            ]
          },
          "metadata": {},
          "output_type": "display_data"
        },
        {
          "data": {
            "text/html": [
              "Find logs at: <code>./wandb/run-20221107_075530-3kn8qd40/logs</code>"
            ],
            "text/plain": [
              "<IPython.core.display.HTML object>"
            ]
          },
          "metadata": {},
          "output_type": "display_data"
        },
        {
          "metadata": {
            "tags": null
          },
          "name": "stderr",
          "output_type": "stream",
          "text": [
            "\u001b[34m\u001b[1mwandb\u001b[0m: Agent Starting Run: 5g3zj8qc with config:\n",
            "\u001b[34m\u001b[1mwandb\u001b[0m: \tembed_size: 32\n",
            "\u001b[34m\u001b[1mwandb\u001b[0m: \tn_epochs: 20\n",
            "\u001b[34m\u001b[1mwandb\u001b[0m: \tnorm_embed: False\n",
            "\u001b[34m\u001b[1mwandb\u001b[0m: \twindow_size: 540\n",
            "Failed to detect the name of this notebook, you can set it manually with the WANDB_NOTEBOOK_NAME environment variable to enable code saving.\n"
          ]
        },
        {
          "data": {
            "text/html": [
              "Tracking run with wandb version 0.13.5"
            ],
            "text/plain": [
              "<IPython.core.display.HTML object>"
            ]
          },
          "metadata": {},
          "output_type": "display_data"
        },
        {
          "data": {
            "text/html": [
              "Run data is saved locally in <code>/content/wandb/run-20221107_075724-5g3zj8qc</code>"
            ],
            "text/plain": [
              "<IPython.core.display.HTML object>"
            ]
          },
          "metadata": {},
          "output_type": "display_data"
        },
        {
          "data": {
            "text/html": [
              "Syncing run <strong><a href=\"https://wandb.ai/iloncka-ds/recsys-app/runs/5g3zj8qc\" target=\"_blank\">divine-sweep-6</a></strong> to <a href=\"https://wandb.ai/iloncka-ds/recsys-app\" target=\"_blank\">Weights & Biases</a> (<a href=\"https://wandb.me/run\" target=\"_blank\">docs</a>)<br/>Sweep page:  <a href=\"https://wandb.ai/iloncka-ds/recsys-app/sweeps/cmrz31in\" target=\"_blank\">https://wandb.ai/iloncka-ds/recsys-app/sweeps/cmrz31in</a>"
            ],
            "text/plain": [
              "<IPython.core.display.HTML object>"
            ]
          },
          "metadata": {},
          "output_type": "display_data"
        },
        {
          "metadata": {
            "tags": null
          },
          "name": "stdout",
          "output_type": "stream",
          "text": [
            "\u001b[31mwindow size: 540, using too large window size may slow down training.\u001b[0m\n",
            "Training start time: \u001b[35m2022-11-07 07:57:26\u001b[0m\n"
          ]
        },
        {
          "metadata": {
            "tags": null
          },
          "name": "stderr",
          "output_type": "stream",
          "text": [
            "Item2vec iter0: 100%|██████████| 610/610 [00:00<00:00, 11576.99it/s]\n",
            "Item2vec iter1: 100%|██████████| 610/610 [00:02<00:00, 214.21it/s]\n",
            "Item2vec iter2: 100%|██████████| 610/610 [00:02<00:00, 215.18it/s]\n",
            "Item2vec iter3: 100%|██████████| 610/610 [00:02<00:00, 216.26it/s]\n",
            "Item2vec iter4: 100%|██████████| 610/610 [00:02<00:00, 219.81it/s]\n",
            "Item2vec iter5: 100%|██████████| 610/610 [00:02<00:00, 216.58it/s]\n",
            "Item2vec iter6: 100%|██████████| 610/610 [00:02<00:00, 216.06it/s]\n",
            "Item2vec iter7: 100%|██████████| 610/610 [00:02<00:00, 203.78it/s]\n",
            "Item2vec iter8: 100%|██████████| 610/610 [00:02<00:00, 215.10it/s]\n",
            "Item2vec iter9: 100%|██████████| 610/610 [00:02<00:00, 209.22it/s]\n",
            "Item2vec iter10: 100%|██████████| 610/610 [00:02<00:00, 212.03it/s]\n",
            "Item2vec iter11: 100%|██████████| 610/610 [00:02<00:00, 215.64it/s]\n",
            "Item2vec iter12: 100%|██████████| 610/610 [00:02<00:00, 216.63it/s]\n",
            "Item2vec iter13: 100%|██████████| 610/610 [00:02<00:00, 208.18it/s]\n",
            "Item2vec iter14: 100%|██████████| 610/610 [00:02<00:00, 209.39it/s]\n",
            "Item2vec iter15: 100%|██████████| 610/610 [00:02<00:00, 210.60it/s]\n",
            "Item2vec iter16: 100%|██████████| 610/610 [00:02<00:00, 207.73it/s]\n",
            "Item2vec iter17: 100%|██████████| 610/610 [00:02<00:00, 207.94it/s]\n",
            "Item2vec iter18: 100%|██████████| 610/610 [00:02<00:00, 208.13it/s]\n",
            "Item2vec iter19: 100%|██████████| 610/610 [00:02<00:00, 208.17it/s]\n",
            "Item2vec iter20: 100%|██████████| 610/610 [00:02<00:00, 204.07it/s]\n"
          ]
        },
        {
          "metadata": {
            "tags": null
          },
          "name": "stdout",
          "output_type": "stream",
          "text": [
            "gensim word2vec training elapsed: 270.231s\n"
          ]
        },
        {
          "metadata": {
            "tags": null
          },
          "name": "stderr",
          "output_type": "stream",
          "text": [
            "eval_pred: 100%|██████████| 3/3 [00:00<00:00, 182.19it/s]\n",
            "eval_rec: 100%|██████████| 608/608 [00:00<00:00, 1620.14it/s]\n"
          ]
        },
        {
          "data": {
            "text/html": [
              "Waiting for W&B process to finish... <strong style=\"color:green\">(success).</strong>"
            ],
            "text/plain": [
              "<IPython.core.display.HTML object>"
            ]
          },
          "metadata": {},
          "output_type": "display_data"
        },
        {
          "data": {
            "application/vnd.jupyter.widget-view+json": {
              "model_id": "1cf3fa38516b47508071d92f0d1fc998",
              "version_major": 2,
              "version_minor": 0
            },
            "text/plain": [
              "VBox(children=(Label(value='0.001 MB of 0.001 MB uploaded (0.000 MB deduped)\\r'), FloatProgress(value=1.0, max…"
            ]
          },
          "metadata": {},
          "output_type": "display_data"
        },
        {
          "data": {
            "text/html": [
              "<style>\n",
              "    table.wandb td:nth-child(1) { padding: 0 10px; text-align: left ; width: auto;} td:nth-child(2) {text-align: left ; width: 100%}\n",
              "    .wandb-row { display: flex; flex-direction: row; flex-wrap: wrap; justify-content: flex-start; width: 100% }\n",
              "    .wandb-col { display: flex; flex-direction: column; flex-basis: 100%; flex: 1; padding: 10px; }\n",
              "    </style>\n",
              "<div class=\"wandb-row\"><div class=\"wandb-col\"><h3>Run history:</h3><br/><table class=\"wandb\"><tr><td>loss</td><td>▁</td></tr><tr><td>map</td><td>▁</td></tr><tr><td>ndcg</td><td>▁</td></tr><tr><td>precision</td><td>▁</td></tr><tr><td>recall</td><td>▁</td></tr><tr><td>roc_auc</td><td>▁</td></tr></table><br/></div><div class=\"wandb-col\"><h3>Run summary:</h3><br/><table class=\"wandb\"><tr><td>loss</td><td>1.22684</td></tr><tr><td>map</td><td>0.0185</td></tr><tr><td>ndcg</td><td>0.02299</td></tr><tr><td>precision</td><td>0.00428</td></tr><tr><td>recall</td><td>0.00369</td></tr><tr><td>roc_auc</td><td>0.4553</td></tr></table><br/></div></div>"
            ],
            "text/plain": [
              "<IPython.core.display.HTML object>"
            ]
          },
          "metadata": {},
          "output_type": "display_data"
        },
        {
          "data": {
            "text/html": [
              "Synced <strong style=\"color:#cdcd00\">divine-sweep-6</strong>: <a href=\"https://wandb.ai/iloncka-ds/recsys-app/runs/5g3zj8qc\" target=\"_blank\">https://wandb.ai/iloncka-ds/recsys-app/runs/5g3zj8qc</a><br/>Synced 5 W&B file(s), 0 media file(s), 0 artifact file(s) and 0 other file(s)"
            ],
            "text/plain": [
              "<IPython.core.display.HTML object>"
            ]
          },
          "metadata": {},
          "output_type": "display_data"
        },
        {
          "data": {
            "text/html": [
              "Find logs at: <code>./wandb/run-20221107_075724-5g3zj8qc/logs</code>"
            ],
            "text/plain": [
              "<IPython.core.display.HTML object>"
            ]
          },
          "metadata": {},
          "output_type": "display_data"
        },
        {
          "metadata": {
            "tags": null
          },
          "name": "stderr",
          "output_type": "stream",
          "text": [
            "\u001b[34m\u001b[1mwandb\u001b[0m: Agent Starting Run: fl2npi2j with config:\n",
            "\u001b[34m\u001b[1mwandb\u001b[0m: \tembed_size: 64\n",
            "\u001b[34m\u001b[1mwandb\u001b[0m: \tn_epochs: 10\n",
            "\u001b[34m\u001b[1mwandb\u001b[0m: \tnorm_embed: False\n",
            "\u001b[34m\u001b[1mwandb\u001b[0m: \twindow_size: 2160\n",
            "Failed to detect the name of this notebook, you can set it manually with the WANDB_NOTEBOOK_NAME environment variable to enable code saving.\n"
          ]
        },
        {
          "data": {
            "text/html": [
              "Tracking run with wandb version 0.13.5"
            ],
            "text/plain": [
              "<IPython.core.display.HTML object>"
            ]
          },
          "metadata": {},
          "output_type": "display_data"
        },
        {
          "data": {
            "text/html": [
              "Run data is saved locally in <code>/content/wandb/run-20221107_080209-fl2npi2j</code>"
            ],
            "text/plain": [
              "<IPython.core.display.HTML object>"
            ]
          },
          "metadata": {},
          "output_type": "display_data"
        },
        {
          "data": {
            "text/html": [
              "Syncing run <strong><a href=\"https://wandb.ai/iloncka-ds/recsys-app/runs/fl2npi2j\" target=\"_blank\">tough-sweep-7</a></strong> to <a href=\"https://wandb.ai/iloncka-ds/recsys-app\" target=\"_blank\">Weights & Biases</a> (<a href=\"https://wandb.me/run\" target=\"_blank\">docs</a>)<br/>Sweep page:  <a href=\"https://wandb.ai/iloncka-ds/recsys-app/sweeps/cmrz31in\" target=\"_blank\">https://wandb.ai/iloncka-ds/recsys-app/sweeps/cmrz31in</a>"
            ],
            "text/plain": [
              "<IPython.core.display.HTML object>"
            ]
          },
          "metadata": {},
          "output_type": "display_data"
        },
        {
          "metadata": {
            "tags": null
          },
          "name": "stdout",
          "output_type": "stream",
          "text": [
            "\u001b[31mwindow size: 2160, using too large window size may slow down training.\u001b[0m\n",
            "Training start time: \u001b[35m2022-11-07 08:02:10\u001b[0m\n"
          ]
        },
        {
          "metadata": {
            "tags": null
          },
          "name": "stderr",
          "output_type": "stream",
          "text": [
            "Item2vec iter0: 100%|██████████| 610/610 [00:00<00:00, 8077.89it/s]\n",
            "Item2vec iter1: 100%|██████████| 610/610 [00:04<00:00, 131.01it/s]\n",
            "Item2vec iter2: 100%|██████████| 610/610 [00:04<00:00, 133.54it/s]\n",
            "Item2vec iter3: 100%|██████████| 610/610 [00:04<00:00, 135.50it/s]\n",
            "Item2vec iter4: 100%|██████████| 610/610 [00:04<00:00, 128.45it/s]\n",
            "Item2vec iter5: 100%|██████████| 610/610 [00:04<00:00, 129.83it/s]\n",
            "Item2vec iter6: 100%|██████████| 610/610 [00:04<00:00, 131.13it/s]\n",
            "Item2vec iter7: 100%|██████████| 610/610 [00:04<00:00, 129.71it/s]\n",
            "Item2vec iter8: 100%|██████████| 610/610 [00:04<00:00, 125.66it/s]\n",
            "Item2vec iter9: 100%|██████████| 610/610 [00:05<00:00, 118.33it/s]\n",
            "Item2vec iter10: 100%|██████████| 610/610 [00:04<00:00, 124.51it/s]\n"
          ]
        },
        {
          "metadata": {
            "tags": null
          },
          "name": "stdout",
          "output_type": "stream",
          "text": [
            "gensim word2vec training elapsed: 269.754s\n"
          ]
        },
        {
          "metadata": {
            "tags": null
          },
          "name": "stderr",
          "output_type": "stream",
          "text": [
            "eval_pred: 100%|██████████| 3/3 [00:00<00:00, 167.81it/s]\n",
            "eval_rec: 100%|██████████| 608/608 [00:00<00:00, 1389.88it/s]\n"
          ]
        },
        {
          "data": {
            "text/html": [
              "Waiting for W&B process to finish... <strong style=\"color:green\">(success).</strong>"
            ],
            "text/plain": [
              "<IPython.core.display.HTML object>"
            ]
          },
          "metadata": {},
          "output_type": "display_data"
        },
        {
          "data": {
            "application/vnd.jupyter.widget-view+json": {
              "model_id": "05798f3d6f814334ae7c9e7d39ef3c54",
              "version_major": 2,
              "version_minor": 0
            },
            "text/plain": [
              "VBox(children=(Label(value='0.001 MB of 0.001 MB uploaded (0.000 MB deduped)\\r'), FloatProgress(value=1.0, max…"
            ]
          },
          "metadata": {},
          "output_type": "display_data"
        },
        {
          "data": {
            "text/html": [
              "<style>\n",
              "    table.wandb td:nth-child(1) { padding: 0 10px; text-align: left ; width: auto;} td:nth-child(2) {text-align: left ; width: 100%}\n",
              "    .wandb-row { display: flex; flex-direction: row; flex-wrap: wrap; justify-content: flex-start; width: 100% }\n",
              "    .wandb-col { display: flex; flex-direction: column; flex-basis: 100%; flex: 1; padding: 10px; }\n",
              "    </style>\n",
              "<div class=\"wandb-row\"><div class=\"wandb-col\"><h3>Run history:</h3><br/><table class=\"wandb\"><tr><td>loss</td><td>▁</td></tr><tr><td>map</td><td>▁</td></tr><tr><td>ndcg</td><td>▁</td></tr><tr><td>precision</td><td>▁</td></tr><tr><td>recall</td><td>▁</td></tr><tr><td>roc_auc</td><td>▁</td></tr></table><br/></div><div class=\"wandb-col\"><h3>Run summary:</h3><br/><table class=\"wandb\"><tr><td>loss</td><td>1.15611</td></tr><tr><td>map</td><td>0.0048</td></tr><tr><td>ndcg</td><td>0.0074</td></tr><tr><td>precision</td><td>0.00181</td></tr><tr><td>recall</td><td>0.00075</td></tr><tr><td>roc_auc</td><td>0.43341</td></tr></table><br/></div></div>"
            ],
            "text/plain": [
              "<IPython.core.display.HTML object>"
            ]
          },
          "metadata": {},
          "output_type": "display_data"
        },
        {
          "data": {
            "text/html": [
              "Synced <strong style=\"color:#cdcd00\">tough-sweep-7</strong>: <a href=\"https://wandb.ai/iloncka-ds/recsys-app/runs/fl2npi2j\" target=\"_blank\">https://wandb.ai/iloncka-ds/recsys-app/runs/fl2npi2j</a><br/>Synced 5 W&B file(s), 0 media file(s), 0 artifact file(s) and 0 other file(s)"
            ],
            "text/plain": [
              "<IPython.core.display.HTML object>"
            ]
          },
          "metadata": {},
          "output_type": "display_data"
        },
        {
          "data": {
            "text/html": [
              "Find logs at: <code>./wandb/run-20221107_080209-fl2npi2j/logs</code>"
            ],
            "text/plain": [
              "<IPython.core.display.HTML object>"
            ]
          },
          "metadata": {},
          "output_type": "display_data"
        },
        {
          "metadata": {
            "tags": null
          },
          "name": "stderr",
          "output_type": "stream",
          "text": [
            "\u001b[34m\u001b[1mwandb\u001b[0m: Agent Starting Run: 8ktlmu6n with config:\n",
            "\u001b[34m\u001b[1mwandb\u001b[0m: \tembed_size: 16\n",
            "\u001b[34m\u001b[1mwandb\u001b[0m: \tn_epochs: 20\n",
            "\u001b[34m\u001b[1mwandb\u001b[0m: \tnorm_embed: True\n",
            "\u001b[34m\u001b[1mwandb\u001b[0m: \twindow_size: 540\n",
            "Failed to detect the name of this notebook, you can set it manually with the WANDB_NOTEBOOK_NAME environment variable to enable code saving.\n"
          ]
        },
        {
          "data": {
            "text/html": [
              "Tracking run with wandb version 0.13.5"
            ],
            "text/plain": [
              "<IPython.core.display.HTML object>"
            ]
          },
          "metadata": {},
          "output_type": "display_data"
        },
        {
          "data": {
            "text/html": [
              "Run data is saved locally in <code>/content/wandb/run-20221107_080651-8ktlmu6n</code>"
            ],
            "text/plain": [
              "<IPython.core.display.HTML object>"
            ]
          },
          "metadata": {},
          "output_type": "display_data"
        },
        {
          "data": {
            "text/html": [
              "Syncing run <strong><a href=\"https://wandb.ai/iloncka-ds/recsys-app/runs/8ktlmu6n\" target=\"_blank\">rosy-sweep-8</a></strong> to <a href=\"https://wandb.ai/iloncka-ds/recsys-app\" target=\"_blank\">Weights & Biases</a> (<a href=\"https://wandb.me/run\" target=\"_blank\">docs</a>)<br/>Sweep page:  <a href=\"https://wandb.ai/iloncka-ds/recsys-app/sweeps/cmrz31in\" target=\"_blank\">https://wandb.ai/iloncka-ds/recsys-app/sweeps/cmrz31in</a>"
            ],
            "text/plain": [
              "<IPython.core.display.HTML object>"
            ]
          },
          "metadata": {},
          "output_type": "display_data"
        },
        {
          "metadata": {
            "tags": null
          },
          "name": "stdout",
          "output_type": "stream",
          "text": [
            "\u001b[31mwindow size: 540, using too large window size may slow down training.\u001b[0m\n",
            "Training start time: \u001b[35m2022-11-07 08:06:53\u001b[0m\n"
          ]
        },
        {
          "metadata": {
            "tags": null
          },
          "name": "stderr",
          "output_type": "stream",
          "text": [
            "Item2vec iter0: 100%|██████████| 610/610 [00:00<00:00, 10910.23it/s]\n",
            "Item2vec iter1: 100%|██████████| 610/610 [00:04<00:00, 144.48it/s]\n",
            "Item2vec iter2: 100%|██████████| 610/610 [00:03<00:00, 179.87it/s]\n",
            "Item2vec iter3: 100%|██████████| 610/610 [00:03<00:00, 174.76it/s]\n",
            "Item2vec iter4: 100%|██████████| 610/610 [00:03<00:00, 180.86it/s]\n",
            "Item2vec iter5: 100%|██████████| 610/610 [00:03<00:00, 178.90it/s]\n",
            "Item2vec iter6: 100%|██████████| 610/610 [00:03<00:00, 175.48it/s]\n",
            "Item2vec iter7: 100%|██████████| 610/610 [00:03<00:00, 171.81it/s]\n",
            "Item2vec iter8: 100%|██████████| 610/610 [00:03<00:00, 174.78it/s]\n",
            "Item2vec iter9: 100%|██████████| 610/610 [00:03<00:00, 176.55it/s]\n",
            "Item2vec iter10: 100%|██████████| 610/610 [00:03<00:00, 175.69it/s]\n",
            "Item2vec iter11: 100%|██████████| 610/610 [00:03<00:00, 172.69it/s]\n",
            "Item2vec iter12: 100%|██████████| 610/610 [00:03<00:00, 173.28it/s]\n",
            "Item2vec iter13: 100%|██████████| 610/610 [00:03<00:00, 171.54it/s]\n",
            "Item2vec iter14: 100%|██████████| 610/610 [00:03<00:00, 170.30it/s]\n",
            "Item2vec iter15: 100%|██████████| 610/610 [00:03<00:00, 170.62it/s]\n",
            "Item2vec iter16: 100%|██████████| 610/610 [00:03<00:00, 169.76it/s]\n",
            "Item2vec iter17: 100%|██████████| 610/610 [00:03<00:00, 172.12it/s]\n",
            "Item2vec iter18: 100%|██████████| 610/610 [00:03<00:00, 166.75it/s]\n",
            "Item2vec iter19: 100%|██████████| 610/610 [00:03<00:00, 169.87it/s]\n",
            "Item2vec iter20: 100%|██████████| 610/610 [00:03<00:00, 167.77it/s]\n"
          ]
        },
        {
          "metadata": {
            "tags": null
          },
          "name": "stdout",
          "output_type": "stream",
          "text": [
            "gensim word2vec training elapsed: 335.160s\n"
          ]
        },
        {
          "metadata": {
            "tags": null
          },
          "name": "stderr",
          "output_type": "stream",
          "text": [
            "eval_pred: 100%|██████████| 3/3 [00:00<00:00, 232.26it/s]\n",
            "eval_rec: 100%|██████████| 608/608 [00:00<00:00, 2313.31it/s]\n"
          ]
        },
        {
          "data": {
            "text/html": [
              "Waiting for W&B process to finish... <strong style=\"color:green\">(success).</strong>"
            ],
            "text/plain": [
              "<IPython.core.display.HTML object>"
            ]
          },
          "metadata": {},
          "output_type": "display_data"
        },
        {
          "data": {
            "application/vnd.jupyter.widget-view+json": {
              "model_id": "517ddea381e347b79c4d19ea655e7bee",
              "version_major": 2,
              "version_minor": 0
            },
            "text/plain": [
              "VBox(children=(Label(value='0.001 MB of 0.008 MB uploaded (0.000 MB deduped)\\r'), FloatProgress(value=0.067883…"
            ]
          },
          "metadata": {},
          "output_type": "display_data"
        },
        {
          "data": {
            "text/html": [
              "<style>\n",
              "    table.wandb td:nth-child(1) { padding: 0 10px; text-align: left ; width: auto;} td:nth-child(2) {text-align: left ; width: 100%}\n",
              "    .wandb-row { display: flex; flex-direction: row; flex-wrap: wrap; justify-content: flex-start; width: 100% }\n",
              "    .wandb-col { display: flex; flex-direction: column; flex-basis: 100%; flex: 1; padding: 10px; }\n",
              "    </style>\n",
              "<div class=\"wandb-row\"><div class=\"wandb-col\"><h3>Run history:</h3><br/><table class=\"wandb\"><tr><td>loss</td><td>▁</td></tr><tr><td>map</td><td>▁</td></tr><tr><td>ndcg</td><td>▁</td></tr><tr><td>precision</td><td>▁</td></tr><tr><td>recall</td><td>▁</td></tr><tr><td>roc_auc</td><td>▁</td></tr></table><br/></div><div class=\"wandb-col\"><h3>Run summary:</h3><br/><table class=\"wandb\"><tr><td>loss</td><td>0.69168</td></tr><tr><td>map</td><td>0.07463</td></tr><tr><td>ndcg</td><td>0.11439</td></tr><tr><td>precision</td><td>0.03125</td></tr><tr><td>recall</td><td>0.03719</td></tr><tr><td>roc_auc</td><td>0.77444</td></tr></table><br/></div></div>"
            ],
            "text/plain": [
              "<IPython.core.display.HTML object>"
            ]
          },
          "metadata": {},
          "output_type": "display_data"
        },
        {
          "data": {
            "text/html": [
              "Synced <strong style=\"color:#cdcd00\">rosy-sweep-8</strong>: <a href=\"https://wandb.ai/iloncka-ds/recsys-app/runs/8ktlmu6n\" target=\"_blank\">https://wandb.ai/iloncka-ds/recsys-app/runs/8ktlmu6n</a><br/>Synced 5 W&B file(s), 0 media file(s), 0 artifact file(s) and 0 other file(s)"
            ],
            "text/plain": [
              "<IPython.core.display.HTML object>"
            ]
          },
          "metadata": {},
          "output_type": "display_data"
        },
        {
          "data": {
            "text/html": [
              "Find logs at: <code>./wandb/run-20221107_080651-8ktlmu6n/logs</code>"
            ],
            "text/plain": [
              "<IPython.core.display.HTML object>"
            ]
          },
          "metadata": {},
          "output_type": "display_data"
        },
        {
          "metadata": {
            "tags": null
          },
          "name": "stderr",
          "output_type": "stream",
          "text": [
            "\u001b[34m\u001b[1mwandb\u001b[0m: Agent Starting Run: b9f0drt3 with config:\n",
            "\u001b[34m\u001b[1mwandb\u001b[0m: \tembed_size: 32\n",
            "\u001b[34m\u001b[1mwandb\u001b[0m: \tn_epochs: 5\n",
            "\u001b[34m\u001b[1mwandb\u001b[0m: \tnorm_embed: True\n",
            "\u001b[34m\u001b[1mwandb\u001b[0m: \twindow_size: 540\n",
            "Failed to detect the name of this notebook, you can set it manually with the WANDB_NOTEBOOK_NAME environment variable to enable code saving.\n"
          ]
        },
        {
          "data": {
            "text/html": [
              "Tracking run with wandb version 0.13.5"
            ],
            "text/plain": [
              "<IPython.core.display.HTML object>"
            ]
          },
          "metadata": {},
          "output_type": "display_data"
        },
        {
          "data": {
            "text/html": [
              "Run data is saved locally in <code>/content/wandb/run-20221107_081238-b9f0drt3</code>"
            ],
            "text/plain": [
              "<IPython.core.display.HTML object>"
            ]
          },
          "metadata": {},
          "output_type": "display_data"
        },
        {
          "data": {
            "text/html": [
              "Syncing run <strong><a href=\"https://wandb.ai/iloncka-ds/recsys-app/runs/b9f0drt3\" target=\"_blank\">likely-sweep-9</a></strong> to <a href=\"https://wandb.ai/iloncka-ds/recsys-app\" target=\"_blank\">Weights & Biases</a> (<a href=\"https://wandb.me/run\" target=\"_blank\">docs</a>)<br/>Sweep page:  <a href=\"https://wandb.ai/iloncka-ds/recsys-app/sweeps/cmrz31in\" target=\"_blank\">https://wandb.ai/iloncka-ds/recsys-app/sweeps/cmrz31in</a>"
            ],
            "text/plain": [
              "<IPython.core.display.HTML object>"
            ]
          },
          "metadata": {},
          "output_type": "display_data"
        },
        {
          "metadata": {
            "tags": null
          },
          "name": "stdout",
          "output_type": "stream",
          "text": [
            "\u001b[31mwindow size: 540, using too large window size may slow down training.\u001b[0m\n",
            "Training start time: \u001b[35m2022-11-07 08:12:41\u001b[0m\n"
          ]
        },
        {
          "metadata": {
            "tags": null
          },
          "name": "stderr",
          "output_type": "stream",
          "text": [
            "Item2vec iter0: 100%|██████████| 610/610 [00:00<00:00, 16799.69it/s]\n",
            "Item2vec iter1: 100%|██████████| 610/610 [00:02<00:00, 218.45it/s]\n",
            "Item2vec iter2: 100%|██████████| 610/610 [00:02<00:00, 218.78it/s]\n",
            "Item2vec iter3: 100%|██████████| 610/610 [00:02<00:00, 210.32it/s]\n",
            "Item2vec iter4: 100%|██████████| 610/610 [00:02<00:00, 208.30it/s]\n",
            "Item2vec iter5: 100%|██████████| 610/610 [00:03<00:00, 201.04it/s]\n"
          ]
        },
        {
          "metadata": {
            "tags": null
          },
          "name": "stdout",
          "output_type": "stream",
          "text": [
            "gensim word2vec training elapsed: 67.453s\n"
          ]
        },
        {
          "metadata": {
            "tags": null
          },
          "name": "stderr",
          "output_type": "stream",
          "text": [
            "eval_pred: 100%|██████████| 3/3 [00:00<00:00, 244.17it/s]\n",
            "eval_rec: 100%|██████████| 608/608 [00:00<00:00, 1832.62it/s]\n"
          ]
        },
        {
          "data": {
            "text/html": [
              "Waiting for W&B process to finish... <strong style=\"color:green\">(success).</strong>"
            ],
            "text/plain": [
              "<IPython.core.display.HTML object>"
            ]
          },
          "metadata": {},
          "output_type": "display_data"
        },
        {
          "data": {
            "application/vnd.jupyter.widget-view+json": {
              "model_id": "c46f7492a3024c32b33d8bcbf3364065",
              "version_major": 2,
              "version_minor": 0
            },
            "text/plain": [
              "VBox(children=(Label(value='0.001 MB of 0.001 MB uploaded (0.000 MB deduped)\\r'), FloatProgress(value=1.0, max…"
            ]
          },
          "metadata": {},
          "output_type": "display_data"
        },
        {
          "data": {
            "text/html": [
              "<style>\n",
              "    table.wandb td:nth-child(1) { padding: 0 10px; text-align: left ; width: auto;} td:nth-child(2) {text-align: left ; width: 100%}\n",
              "    .wandb-row { display: flex; flex-direction: row; flex-wrap: wrap; justify-content: flex-start; width: 100% }\n",
              "    .wandb-col { display: flex; flex-direction: column; flex-basis: 100%; flex: 1; padding: 10px; }\n",
              "    </style>\n",
              "<div class=\"wandb-row\"><div class=\"wandb-col\"><h3>Run history:</h3><br/><table class=\"wandb\"><tr><td>loss</td><td>▁</td></tr><tr><td>map</td><td>▁</td></tr><tr><td>ndcg</td><td>▁</td></tr><tr><td>precision</td><td>▁</td></tr><tr><td>recall</td><td>▁</td></tr><tr><td>roc_auc</td><td>▁</td></tr></table><br/></div><div class=\"wandb-col\"><h3>Run summary:</h3><br/><table class=\"wandb\"><tr><td>loss</td><td>0.70337</td></tr><tr><td>map</td><td>0.03793</td></tr><tr><td>ndcg</td><td>0.0545</td></tr><tr><td>precision</td><td>0.01316</td></tr><tr><td>recall</td><td>0.02899</td></tr><tr><td>roc_auc</td><td>0.70346</td></tr></table><br/></div></div>"
            ],
            "text/plain": [
              "<IPython.core.display.HTML object>"
            ]
          },
          "metadata": {},
          "output_type": "display_data"
        },
        {
          "data": {
            "text/html": [
              "Synced <strong style=\"color:#cdcd00\">likely-sweep-9</strong>: <a href=\"https://wandb.ai/iloncka-ds/recsys-app/runs/b9f0drt3\" target=\"_blank\">https://wandb.ai/iloncka-ds/recsys-app/runs/b9f0drt3</a><br/>Synced 5 W&B file(s), 0 media file(s), 0 artifact file(s) and 0 other file(s)"
            ],
            "text/plain": [
              "<IPython.core.display.HTML object>"
            ]
          },
          "metadata": {},
          "output_type": "display_data"
        },
        {
          "data": {
            "text/html": [
              "Find logs at: <code>./wandb/run-20221107_081238-b9f0drt3/logs</code>"
            ],
            "text/plain": [
              "<IPython.core.display.HTML object>"
            ]
          },
          "metadata": {},
          "output_type": "display_data"
        },
        {
          "metadata": {
            "tags": null
          },
          "name": "stderr",
          "output_type": "stream",
          "text": [
            "\u001b[34m\u001b[1mwandb\u001b[0m: Agent Starting Run: b0rpp289 with config:\n",
            "\u001b[34m\u001b[1mwandb\u001b[0m: \tembed_size: 64\n",
            "\u001b[34m\u001b[1mwandb\u001b[0m: \tn_epochs: 20\n",
            "\u001b[34m\u001b[1mwandb\u001b[0m: \tnorm_embed: False\n",
            "\u001b[34m\u001b[1mwandb\u001b[0m: \twindow_size: 540\n",
            "Failed to detect the name of this notebook, you can set it manually with the WANDB_NOTEBOOK_NAME environment variable to enable code saving.\n"
          ]
        },
        {
          "data": {
            "text/html": [
              "Tracking run with wandb version 0.13.5"
            ],
            "text/plain": [
              "<IPython.core.display.HTML object>"
            ]
          },
          "metadata": {},
          "output_type": "display_data"
        },
        {
          "data": {
            "text/html": [
              "Run data is saved locally in <code>/content/wandb/run-20221107_081403-b0rpp289</code>"
            ],
            "text/plain": [
              "<IPython.core.display.HTML object>"
            ]
          },
          "metadata": {},
          "output_type": "display_data"
        },
        {
          "data": {
            "text/html": [
              "Syncing run <strong><a href=\"https://wandb.ai/iloncka-ds/recsys-app/runs/b0rpp289\" target=\"_blank\">fearless-sweep-10</a></strong> to <a href=\"https://wandb.ai/iloncka-ds/recsys-app\" target=\"_blank\">Weights & Biases</a> (<a href=\"https://wandb.me/run\" target=\"_blank\">docs</a>)<br/>Sweep page:  <a href=\"https://wandb.ai/iloncka-ds/recsys-app/sweeps/cmrz31in\" target=\"_blank\">https://wandb.ai/iloncka-ds/recsys-app/sweeps/cmrz31in</a>"
            ],
            "text/plain": [
              "<IPython.core.display.HTML object>"
            ]
          },
          "metadata": {},
          "output_type": "display_data"
        },
        {
          "metadata": {
            "tags": null
          },
          "name": "stdout",
          "output_type": "stream",
          "text": [
            "\u001b[31mwindow size: 540, using too large window size may slow down training.\u001b[0m\n",
            "Training start time: \u001b[35m2022-11-07 08:14:06\u001b[0m\n"
          ]
        },
        {
          "metadata": {
            "tags": null
          },
          "name": "stderr",
          "output_type": "stream",
          "text": [
            "Item2vec iter0: 100%|██████████| 610/610 [00:00<00:00, 15594.96it/s]\n",
            "Item2vec iter1: 100%|██████████| 610/610 [00:03<00:00, 172.13it/s]\n",
            "Item2vec iter2: 100%|██████████| 610/610 [00:03<00:00, 176.52it/s]\n",
            "Item2vec iter3: 100%|██████████| 610/610 [00:03<00:00, 169.54it/s]\n",
            "Item2vec iter4: 100%|██████████| 610/610 [00:03<00:00, 173.16it/s]\n",
            "Item2vec iter5: 100%|██████████| 610/610 [00:03<00:00, 171.00it/s]\n",
            "Item2vec iter6: 100%|██████████| 610/610 [00:03<00:00, 178.87it/s]\n",
            "Item2vec iter7: 100%|██████████| 610/610 [00:03<00:00, 170.51it/s]\n",
            "Item2vec iter8: 100%|██████████| 610/610 [00:03<00:00, 171.66it/s]\n",
            "Item2vec iter9: 100%|██████████| 610/610 [00:03<00:00, 181.91it/s]\n",
            "Item2vec iter10: 100%|██████████| 610/610 [00:03<00:00, 173.58it/s]\n",
            "Item2vec iter11: 100%|██████████| 610/610 [00:03<00:00, 165.72it/s]\n",
            "Item2vec iter12: 100%|██████████| 610/610 [00:03<00:00, 170.89it/s]\n",
            "Item2vec iter13: 100%|██████████| 610/610 [00:03<00:00, 171.66it/s]\n",
            "Item2vec iter14: 100%|██████████| 610/610 [00:03<00:00, 171.75it/s]\n",
            "Item2vec iter15: 100%|██████████| 610/610 [00:03<00:00, 167.73it/s]\n",
            "Item2vec iter16: 100%|██████████| 610/610 [00:03<00:00, 164.04it/s]\n",
            "Item2vec iter17: 100%|██████████| 610/610 [00:03<00:00, 179.54it/s]\n",
            "Item2vec iter18: 100%|██████████| 610/610 [00:03<00:00, 166.53it/s]\n",
            "Item2vec iter19: 100%|██████████| 610/610 [00:03<00:00, 165.56it/s]\n",
            "Item2vec iter20: 100%|██████████| 610/610 [00:03<00:00, 167.70it/s]\n"
          ]
        },
        {
          "metadata": {
            "tags": null
          },
          "name": "stdout",
          "output_type": "stream",
          "text": [
            "gensim word2vec training elapsed: 334.930s\n"
          ]
        },
        {
          "metadata": {
            "tags": null
          },
          "name": "stderr",
          "output_type": "stream",
          "text": [
            "eval_pred: 100%|██████████| 3/3 [00:00<00:00, 156.74it/s]\n",
            "eval_rec: 100%|██████████| 608/608 [00:00<00:00, 1457.79it/s]\n"
          ]
        },
        {
          "data": {
            "text/html": [
              "Waiting for W&B process to finish... <strong style=\"color:green\">(success).</strong>"
            ],
            "text/plain": [
              "<IPython.core.display.HTML object>"
            ]
          },
          "metadata": {},
          "output_type": "display_data"
        },
        {
          "data": {
            "text/html": [
              "<style>\n",
              "    table.wandb td:nth-child(1) { padding: 0 10px; text-align: left ; width: auto;} td:nth-child(2) {text-align: left ; width: 100%}\n",
              "    .wandb-row { display: flex; flex-direction: row; flex-wrap: wrap; justify-content: flex-start; width: 100% }\n",
              "    .wandb-col { display: flex; flex-direction: column; flex-basis: 100%; flex: 1; padding: 10px; }\n",
              "    </style>\n",
              "<div class=\"wandb-row\"><div class=\"wandb-col\"><h3>Run history:</h3><br/><table class=\"wandb\"><tr><td>loss</td><td>▁</td></tr><tr><td>map</td><td>▁</td></tr><tr><td>ndcg</td><td>▁</td></tr><tr><td>precision</td><td>▁</td></tr><tr><td>recall</td><td>▁</td></tr><tr><td>roc_auc</td><td>▁</td></tr></table><br/></div><div class=\"wandb-col\"><h3>Run summary:</h3><br/><table class=\"wandb\"><tr><td>loss</td><td>1.23886</td></tr><tr><td>map</td><td>0.01553</td></tr><tr><td>ndcg</td><td>0.02171</td></tr><tr><td>precision</td><td>0.00493</td></tr><tr><td>recall</td><td>0.00479</td></tr><tr><td>roc_auc</td><td>0.4511</td></tr></table><br/></div></div>"
            ],
            "text/plain": [
              "<IPython.core.display.HTML object>"
            ]
          },
          "metadata": {},
          "output_type": "display_data"
        },
        {
          "data": {
            "text/html": [
              "Synced <strong style=\"color:#cdcd00\">fearless-sweep-10</strong>: <a href=\"https://wandb.ai/iloncka-ds/recsys-app/runs/b0rpp289\" target=\"_blank\">https://wandb.ai/iloncka-ds/recsys-app/runs/b0rpp289</a><br/>Synced 5 W&B file(s), 0 media file(s), 0 artifact file(s) and 0 other file(s)"
            ],
            "text/plain": [
              "<IPython.core.display.HTML object>"
            ]
          },
          "metadata": {},
          "output_type": "display_data"
        },
        {
          "data": {
            "text/html": [
              "Find logs at: <code>./wandb/run-20221107_081403-b0rpp289/logs</code>"
            ],
            "text/plain": [
              "<IPython.core.display.HTML object>"
            ]
          },
          "metadata": {},
          "output_type": "display_data"
        },
        {
          "metadata": {
            "tags": null
          },
          "name": "stderr",
          "output_type": "stream",
          "text": [
            "\u001b[34m\u001b[1mwandb\u001b[0m: Sweep Agent: Waiting for job.\n",
            "\u001b[34m\u001b[1mwandb\u001b[0m: Job received.\n",
            "\u001b[34m\u001b[1mwandb\u001b[0m: Agent Starting Run: a0dcxcij with config:\n",
            "\u001b[34m\u001b[1mwandb\u001b[0m: \tembed_size: 32\n",
            "\u001b[34m\u001b[1mwandb\u001b[0m: \tn_epochs: 5\n",
            "\u001b[34m\u001b[1mwandb\u001b[0m: \tnorm_embed: False\n",
            "\u001b[34m\u001b[1mwandb\u001b[0m: \twindow_size: 540\n",
            "Failed to detect the name of this notebook, you can set it manually with the WANDB_NOTEBOOK_NAME environment variable to enable code saving.\n"
          ]
        },
        {
          "data": {
            "text/html": [
              "Tracking run with wandb version 0.13.5"
            ],
            "text/plain": [
              "<IPython.core.display.HTML object>"
            ]
          },
          "metadata": {},
          "output_type": "display_data"
        },
        {
          "data": {
            "text/html": [
              "Run data is saved locally in <code>/content/wandb/run-20221107_082000-a0dcxcij</code>"
            ],
            "text/plain": [
              "<IPython.core.display.HTML object>"
            ]
          },
          "metadata": {},
          "output_type": "display_data"
        },
        {
          "data": {
            "text/html": [
              "Syncing run <strong><a href=\"https://wandb.ai/iloncka-ds/recsys-app/runs/a0dcxcij\" target=\"_blank\">peachy-sweep-11</a></strong> to <a href=\"https://wandb.ai/iloncka-ds/recsys-app\" target=\"_blank\">Weights & Biases</a> (<a href=\"https://wandb.me/run\" target=\"_blank\">docs</a>)<br/>Sweep page:  <a href=\"https://wandb.ai/iloncka-ds/recsys-app/sweeps/cmrz31in\" target=\"_blank\">https://wandb.ai/iloncka-ds/recsys-app/sweeps/cmrz31in</a>"
            ],
            "text/plain": [
              "<IPython.core.display.HTML object>"
            ]
          },
          "metadata": {},
          "output_type": "display_data"
        },
        {
          "metadata": {
            "tags": null
          },
          "name": "stdout",
          "output_type": "stream",
          "text": [
            "\u001b[31mwindow size: 540, using too large window size may slow down training.\u001b[0m\n",
            "Training start time: \u001b[35m2022-11-07 08:20:05\u001b[0m\n"
          ]
        },
        {
          "metadata": {
            "tags": null
          },
          "name": "stderr",
          "output_type": "stream",
          "text": [
            "Item2vec iter0: 100%|██████████| 610/610 [00:00<00:00, 11965.18it/s]\n",
            "Item2vec iter1: 100%|██████████| 610/610 [00:02<00:00, 214.20it/s]\n",
            "Item2vec iter2: 100%|██████████| 610/610 [00:02<00:00, 218.64it/s]\n",
            "Item2vec iter3: 100%|██████████| 610/610 [00:02<00:00, 213.67it/s]\n",
            "Item2vec iter4: 100%|██████████| 610/610 [00:02<00:00, 217.75it/s]\n",
            "Item2vec iter5: 100%|██████████| 610/610 [00:02<00:00, 211.86it/s]\n"
          ]
        },
        {
          "metadata": {
            "tags": null
          },
          "name": "stdout",
          "output_type": "stream",
          "text": [
            "gensim word2vec training elapsed: 66.784s\n"
          ]
        },
        {
          "metadata": {
            "tags": null
          },
          "name": "stderr",
          "output_type": "stream",
          "text": [
            "eval_pred: 100%|██████████| 3/3 [00:00<00:00, 301.66it/s]\n",
            "eval_rec: 100%|██████████| 608/608 [00:00<00:00, 1723.50it/s]\n"
          ]
        },
        {
          "data": {
            "text/html": [
              "Waiting for W&B process to finish... <strong style=\"color:green\">(success).</strong>"
            ],
            "text/plain": [
              "<IPython.core.display.HTML object>"
            ]
          },
          "metadata": {},
          "output_type": "display_data"
        },
        {
          "data": {
            "application/vnd.jupyter.widget-view+json": {
              "model_id": "8fc0a534023b4c459cd66ca73d0ef01c",
              "version_major": 2,
              "version_minor": 0
            },
            "text/plain": [
              "VBox(children=(Label(value='0.001 MB of 0.009 MB uploaded (0.000 MB deduped)\\r'), FloatProgress(value=0.060207…"
            ]
          },
          "metadata": {},
          "output_type": "display_data"
        },
        {
          "data": {
            "text/html": [
              "<style>\n",
              "    table.wandb td:nth-child(1) { padding: 0 10px; text-align: left ; width: auto;} td:nth-child(2) {text-align: left ; width: 100%}\n",
              "    .wandb-row { display: flex; flex-direction: row; flex-wrap: wrap; justify-content: flex-start; width: 100% }\n",
              "    .wandb-col { display: flex; flex-direction: column; flex-basis: 100%; flex: 1; padding: 10px; }\n",
              "    </style>\n",
              "<div class=\"wandb-row\"><div class=\"wandb-col\"><h3>Run history:</h3><br/><table class=\"wandb\"><tr><td>loss</td><td>▁</td></tr><tr><td>map</td><td>▁</td></tr><tr><td>ndcg</td><td>▁</td></tr><tr><td>precision</td><td>▁</td></tr><tr><td>recall</td><td>▁</td></tr><tr><td>roc_auc</td><td>▁</td></tr></table><br/></div><div class=\"wandb-col\"><h3>Run summary:</h3><br/><table class=\"wandb\"><tr><td>loss</td><td>1.11988</td></tr><tr><td>map</td><td>0.01504</td></tr><tr><td>ndcg</td><td>0.02239</td></tr><tr><td>precision</td><td>0.00625</td></tr><tr><td>recall</td><td>0.00843</td></tr><tr><td>roc_auc</td><td>0.51024</td></tr></table><br/></div></div>"
            ],
            "text/plain": [
              "<IPython.core.display.HTML object>"
            ]
          },
          "metadata": {},
          "output_type": "display_data"
        },
        {
          "data": {
            "text/html": [
              "Synced <strong style=\"color:#cdcd00\">peachy-sweep-11</strong>: <a href=\"https://wandb.ai/iloncka-ds/recsys-app/runs/a0dcxcij\" target=\"_blank\">https://wandb.ai/iloncka-ds/recsys-app/runs/a0dcxcij</a><br/>Synced 5 W&B file(s), 0 media file(s), 0 artifact file(s) and 0 other file(s)"
            ],
            "text/plain": [
              "<IPython.core.display.HTML object>"
            ]
          },
          "metadata": {},
          "output_type": "display_data"
        },
        {
          "data": {
            "text/html": [
              "Find logs at: <code>./wandb/run-20221107_082000-a0dcxcij/logs</code>"
            ],
            "text/plain": [
              "<IPython.core.display.HTML object>"
            ]
          },
          "metadata": {},
          "output_type": "display_data"
        },
        {
          "metadata": {
            "tags": null
          },
          "name": "stderr",
          "output_type": "stream",
          "text": [
            "\u001b[34m\u001b[1mwandb\u001b[0m: Agent Starting Run: 94hcgooz with config:\n",
            "\u001b[34m\u001b[1mwandb\u001b[0m: \tembed_size: 64\n",
            "\u001b[34m\u001b[1mwandb\u001b[0m: \tn_epochs: 5\n",
            "\u001b[34m\u001b[1mwandb\u001b[0m: \tnorm_embed: False\n",
            "\u001b[34m\u001b[1mwandb\u001b[0m: \twindow_size: 1080\n",
            "Failed to detect the name of this notebook, you can set it manually with the WANDB_NOTEBOOK_NAME environment variable to enable code saving.\n"
          ]
        },
        {
          "data": {
            "text/html": [
              "Tracking run with wandb version 0.13.5"
            ],
            "text/plain": [
              "<IPython.core.display.HTML object>"
            ]
          },
          "metadata": {},
          "output_type": "display_data"
        },
        {
          "data": {
            "text/html": [
              "Run data is saved locally in <code>/content/wandb/run-20221107_082120-94hcgooz</code>"
            ],
            "text/plain": [
              "<IPython.core.display.HTML object>"
            ]
          },
          "metadata": {},
          "output_type": "display_data"
        },
        {
          "data": {
            "text/html": [
              "Syncing run <strong><a href=\"https://wandb.ai/iloncka-ds/recsys-app/runs/94hcgooz\" target=\"_blank\">summer-sweep-12</a></strong> to <a href=\"https://wandb.ai/iloncka-ds/recsys-app\" target=\"_blank\">Weights & Biases</a> (<a href=\"https://wandb.me/run\" target=\"_blank\">docs</a>)<br/>Sweep page:  <a href=\"https://wandb.ai/iloncka-ds/recsys-app/sweeps/cmrz31in\" target=\"_blank\">https://wandb.ai/iloncka-ds/recsys-app/sweeps/cmrz31in</a>"
            ],
            "text/plain": [
              "<IPython.core.display.HTML object>"
            ]
          },
          "metadata": {},
          "output_type": "display_data"
        },
        {
          "metadata": {
            "tags": null
          },
          "name": "stdout",
          "output_type": "stream",
          "text": [
            "\u001b[31mwindow size: 1080, using too large window size may slow down training.\u001b[0m\n",
            "Training start time: \u001b[35m2022-11-07 08:21:26\u001b[0m\n"
          ]
        },
        {
          "metadata": {
            "tags": null
          },
          "name": "stderr",
          "output_type": "stream",
          "text": [
            "Item2vec iter0: 100%|██████████| 610/610 [00:00<00:00, 10363.31it/s]\n",
            "Item2vec iter1: 100%|██████████| 610/610 [00:04<00:00, 146.61it/s]\n",
            "Item2vec iter2: 100%|██████████| 610/610 [00:04<00:00, 149.63it/s]\n",
            "Item2vec iter3: 100%|██████████| 610/610 [00:04<00:00, 152.02it/s]\n",
            "Item2vec iter4: 100%|██████████| 610/610 [00:04<00:00, 147.53it/s]\n",
            "Item2vec iter5: 100%|██████████| 610/610 [00:04<00:00, 139.00it/s]\n"
          ]
        },
        {
          "metadata": {
            "tags": null
          },
          "name": "stdout",
          "output_type": "stream",
          "text": [
            "gensim word2vec training elapsed: 109.600s\n"
          ]
        },
        {
          "metadata": {
            "tags": null
          },
          "name": "stderr",
          "output_type": "stream",
          "text": [
            "eval_pred: 100%|██████████| 3/3 [00:00<00:00, 187.76it/s]\n",
            "eval_rec: 100%|██████████| 608/608 [00:00<00:00, 1414.16it/s]\n"
          ]
        },
        {
          "data": {
            "text/html": [
              "Waiting for W&B process to finish... <strong style=\"color:green\">(success).</strong>"
            ],
            "text/plain": [
              "<IPython.core.display.HTML object>"
            ]
          },
          "metadata": {},
          "output_type": "display_data"
        },
        {
          "data": {
            "application/vnd.jupyter.widget-view+json": {
              "model_id": "efca4efd30184590968d50615cdb0f18",
              "version_major": 2,
              "version_minor": 0
            },
            "text/plain": [
              "VBox(children=(Label(value='0.001 MB of 0.001 MB uploaded (0.000 MB deduped)\\r'), FloatProgress(value=1.0, max…"
            ]
          },
          "metadata": {},
          "output_type": "display_data"
        },
        {
          "data": {
            "text/html": [
              "<style>\n",
              "    table.wandb td:nth-child(1) { padding: 0 10px; text-align: left ; width: auto;} td:nth-child(2) {text-align: left ; width: 100%}\n",
              "    .wandb-row { display: flex; flex-direction: row; flex-wrap: wrap; justify-content: flex-start; width: 100% }\n",
              "    .wandb-col { display: flex; flex-direction: column; flex-basis: 100%; flex: 1; padding: 10px; }\n",
              "    </style>\n",
              "<div class=\"wandb-row\"><div class=\"wandb-col\"><h3>Run history:</h3><br/><table class=\"wandb\"><tr><td>loss</td><td>▁</td></tr><tr><td>map</td><td>▁</td></tr><tr><td>ndcg</td><td>▁</td></tr><tr><td>precision</td><td>▁</td></tr><tr><td>recall</td><td>▁</td></tr><tr><td>roc_auc</td><td>▁</td></tr></table><br/></div><div class=\"wandb-col\"><h3>Run summary:</h3><br/><table class=\"wandb\"><tr><td>loss</td><td>1.12312</td></tr><tr><td>map</td><td>0.01252</td></tr><tr><td>ndcg</td><td>0.01638</td></tr><tr><td>precision</td><td>0.00313</td></tr><tr><td>recall</td><td>0.00259</td></tr><tr><td>roc_auc</td><td>0.4579</td></tr></table><br/></div></div>"
            ],
            "text/plain": [
              "<IPython.core.display.HTML object>"
            ]
          },
          "metadata": {},
          "output_type": "display_data"
        },
        {
          "data": {
            "text/html": [
              "Synced <strong style=\"color:#cdcd00\">summer-sweep-12</strong>: <a href=\"https://wandb.ai/iloncka-ds/recsys-app/runs/94hcgooz\" target=\"_blank\">https://wandb.ai/iloncka-ds/recsys-app/runs/94hcgooz</a><br/>Synced 5 W&B file(s), 0 media file(s), 0 artifact file(s) and 0 other file(s)"
            ],
            "text/plain": [
              "<IPython.core.display.HTML object>"
            ]
          },
          "metadata": {},
          "output_type": "display_data"
        },
        {
          "data": {
            "text/html": [
              "Find logs at: <code>./wandb/run-20221107_082120-94hcgooz/logs</code>"
            ],
            "text/plain": [
              "<IPython.core.display.HTML object>"
            ]
          },
          "metadata": {},
          "output_type": "display_data"
        },
        {
          "metadata": {
            "tags": null
          },
          "name": "stderr",
          "output_type": "stream",
          "text": [
            "\u001b[34m\u001b[1mwandb\u001b[0m: Agent Starting Run: 8bbgn85g with config:\n",
            "\u001b[34m\u001b[1mwandb\u001b[0m: \tembed_size: 64\n",
            "\u001b[34m\u001b[1mwandb\u001b[0m: \tn_epochs: 20\n",
            "\u001b[34m\u001b[1mwandb\u001b[0m: \tnorm_embed: True\n",
            "\u001b[34m\u001b[1mwandb\u001b[0m: \twindow_size: 2160\n",
            "Failed to detect the name of this notebook, you can set it manually with the WANDB_NOTEBOOK_NAME environment variable to enable code saving.\n"
          ]
        },
        {
          "data": {
            "application/vnd.jupyter.widget-view+json": {
              "model_id": "27065803f22648b5bcd015701aa91321",
              "version_major": 2,
              "version_minor": 0
            },
            "text/plain": [
              "VBox(children=(Label(value='Waiting for wandb.init()...\\r'), FloatProgress(value=0.01667105098332892, max=1.0)…"
            ]
          },
          "metadata": {},
          "output_type": "display_data"
        },
        {
          "data": {
            "text/html": [
              "Tracking run with wandb version 0.13.5"
            ],
            "text/plain": [
              "<IPython.core.display.HTML object>"
            ]
          },
          "metadata": {},
          "output_type": "display_data"
        },
        {
          "data": {
            "text/html": [
              "Run data is saved locally in <code>/content/wandb/run-20221107_082329-8bbgn85g</code>"
            ],
            "text/plain": [
              "<IPython.core.display.HTML object>"
            ]
          },
          "metadata": {},
          "output_type": "display_data"
        },
        {
          "data": {
            "text/html": [
              "Syncing run <strong><a href=\"https://wandb.ai/iloncka-ds/recsys-app/runs/8bbgn85g\" target=\"_blank\">hardy-sweep-13</a></strong> to <a href=\"https://wandb.ai/iloncka-ds/recsys-app\" target=\"_blank\">Weights & Biases</a> (<a href=\"https://wandb.me/run\" target=\"_blank\">docs</a>)<br/>Sweep page:  <a href=\"https://wandb.ai/iloncka-ds/recsys-app/sweeps/cmrz31in\" target=\"_blank\">https://wandb.ai/iloncka-ds/recsys-app/sweeps/cmrz31in</a>"
            ],
            "text/plain": [
              "<IPython.core.display.HTML object>"
            ]
          },
          "metadata": {},
          "output_type": "display_data"
        },
        {
          "metadata": {
            "tags": null
          },
          "name": "stdout",
          "output_type": "stream",
          "text": [
            "\u001b[31mwindow size: 2160, using too large window size may slow down training.\u001b[0m\n",
            "Training start time: \u001b[35m2022-11-07 08:23:34\u001b[0m\n"
          ]
        },
        {
          "metadata": {
            "tags": null
          },
          "name": "stderr",
          "output_type": "stream",
          "text": [
            "Item2vec iter0: 100%|██████████| 610/610 [00:00<00:00, 17766.18it/s]\n",
            "Item2vec iter1: 100%|██████████| 610/610 [00:04<00:00, 132.72it/s]\n",
            "Item2vec iter2: 100%|██████████| 610/610 [00:04<00:00, 138.89it/s]\n",
            "Item2vec iter3: 100%|██████████| 610/610 [00:04<00:00, 143.62it/s]\n",
            "Item2vec iter4: 100%|██████████| 610/610 [00:04<00:00, 141.04it/s]\n",
            "Item2vec iter5: 100%|██████████| 610/610 [00:04<00:00, 140.43it/s]\n",
            "Item2vec iter6: 100%|██████████| 610/610 [00:04<00:00, 140.34it/s]\n",
            "Item2vec iter7: 100%|██████████| 610/610 [00:04<00:00, 140.30it/s]\n",
            "Item2vec iter8: 100%|██████████| 610/610 [00:04<00:00, 137.93it/s]\n",
            "Item2vec iter9: 100%|██████████| 610/610 [00:04<00:00, 135.36it/s]\n",
            "Item2vec iter10: 100%|██████████| 610/610 [00:04<00:00, 136.53it/s]\n",
            "Item2vec iter11: 100%|██████████| 610/610 [00:04<00:00, 134.52it/s]\n",
            "Item2vec iter12: 100%|██████████| 610/610 [00:04<00:00, 133.19it/s]\n",
            "Item2vec iter13: 100%|██████████| 610/610 [00:04<00:00, 133.64it/s]\n",
            "Item2vec iter14: 100%|██████████| 610/610 [00:04<00:00, 130.35it/s]\n",
            "Item2vec iter15: 100%|██████████| 610/610 [00:04<00:00, 128.44it/s]\n",
            "Item2vec iter16: 100%|██████████| 610/610 [00:04<00:00, 126.42it/s]\n",
            "Item2vec iter17: 100%|██████████| 610/610 [00:04<00:00, 124.91it/s]\n",
            "Item2vec iter18: 100%|██████████| 610/610 [00:04<00:00, 127.02it/s]\n",
            "Item2vec iter19: 100%|██████████| 610/610 [00:04<00:00, 125.72it/s]\n",
            "Item2vec iter20: 100%|██████████| 610/610 [00:04<00:00, 123.42it/s]\n"
          ]
        },
        {
          "metadata": {
            "tags": null
          },
          "name": "stdout",
          "output_type": "stream",
          "text": [
            "gensim word2vec training elapsed: 512.856s\n"
          ]
        },
        {
          "metadata": {
            "tags": null
          },
          "name": "stderr",
          "output_type": "stream",
          "text": [
            "eval_pred: 100%|██████████| 3/3 [00:00<00:00, 178.44it/s]\n",
            "eval_rec: 100%|██████████| 608/608 [00:00<00:00, 1693.97it/s]\n"
          ]
        },
        {
          "data": {
            "text/html": [
              "Waiting for W&B process to finish... <strong style=\"color:green\">(success).</strong>"
            ],
            "text/plain": [
              "<IPython.core.display.HTML object>"
            ]
          },
          "metadata": {},
          "output_type": "display_data"
        },
        {
          "data": {
            "text/html": [
              "<style>\n",
              "    table.wandb td:nth-child(1) { padding: 0 10px; text-align: left ; width: auto;} td:nth-child(2) {text-align: left ; width: 100%}\n",
              "    .wandb-row { display: flex; flex-direction: row; flex-wrap: wrap; justify-content: flex-start; width: 100% }\n",
              "    .wandb-col { display: flex; flex-direction: column; flex-basis: 100%; flex: 1; padding: 10px; }\n",
              "    </style>\n",
              "<div class=\"wandb-row\"><div class=\"wandb-col\"><h3>Run history:</h3><br/><table class=\"wandb\"><tr><td>loss</td><td>▁</td></tr><tr><td>map</td><td>▁</td></tr><tr><td>ndcg</td><td>▁</td></tr><tr><td>precision</td><td>▁</td></tr><tr><td>recall</td><td>▁</td></tr><tr><td>roc_auc</td><td>▁</td></tr></table><br/></div><div class=\"wandb-col\"><h3>Run summary:</h3><br/><table class=\"wandb\"><tr><td>loss</td><td>0.67982</td></tr><tr><td>map</td><td>0.08951</td></tr><tr><td>ndcg</td><td>0.13027</td></tr><tr><td>precision</td><td>0.03503</td></tr><tr><td>recall</td><td>0.04427</td></tr><tr><td>roc_auc</td><td>0.76233</td></tr></table><br/></div></div>"
            ],
            "text/plain": [
              "<IPython.core.display.HTML object>"
            ]
          },
          "metadata": {},
          "output_type": "display_data"
        },
        {
          "data": {
            "text/html": [
              "Synced <strong style=\"color:#cdcd00\">hardy-sweep-13</strong>: <a href=\"https://wandb.ai/iloncka-ds/recsys-app/runs/8bbgn85g\" target=\"_blank\">https://wandb.ai/iloncka-ds/recsys-app/runs/8bbgn85g</a><br/>Synced 5 W&B file(s), 0 media file(s), 0 artifact file(s) and 0 other file(s)"
            ],
            "text/plain": [
              "<IPython.core.display.HTML object>"
            ]
          },
          "metadata": {},
          "output_type": "display_data"
        },
        {
          "data": {
            "text/html": [
              "Find logs at: <code>./wandb/run-20221107_082329-8bbgn85g/logs</code>"
            ],
            "text/plain": [
              "<IPython.core.display.HTML object>"
            ]
          },
          "metadata": {},
          "output_type": "display_data"
        },
        {
          "metadata": {
            "tags": null
          },
          "name": "stderr",
          "output_type": "stream",
          "text": [
            "\u001b[34m\u001b[1mwandb\u001b[0m: Agent Starting Run: nerg0yfz with config:\n",
            "\u001b[34m\u001b[1mwandb\u001b[0m: \tembed_size: 64\n",
            "\u001b[34m\u001b[1mwandb\u001b[0m: \tn_epochs: 20\n",
            "\u001b[34m\u001b[1mwandb\u001b[0m: \tnorm_embed: True\n",
            "\u001b[34m\u001b[1mwandb\u001b[0m: \twindow_size: 1080\n"
          ]
        },
        {
          "data": {
            "text/html": [
              "Tracking run with wandb version 0.13.5"
            ],
            "text/plain": [
              "<IPython.core.display.HTML object>"
            ]
          },
          "metadata": {},
          "output_type": "display_data"
        },
        {
          "data": {
            "text/html": [
              "Run data is saved locally in <code>/content/wandb/run-20221107_083222-nerg0yfz</code>"
            ],
            "text/plain": [
              "<IPython.core.display.HTML object>"
            ]
          },
          "metadata": {},
          "output_type": "display_data"
        },
        {
          "data": {
            "text/html": [
              "Syncing run <strong><a href=\"https://wandb.ai/iloncka-ds/recsys-app/runs/nerg0yfz\" target=\"_blank\">stellar-sweep-14</a></strong> to <a href=\"https://wandb.ai/iloncka-ds/recsys-app\" target=\"_blank\">Weights & Biases</a> (<a href=\"https://wandb.me/run\" target=\"_blank\">docs</a>)<br/>Sweep page:  <a href=\"https://wandb.ai/iloncka-ds/recsys-app/sweeps/cmrz31in\" target=\"_blank\">https://wandb.ai/iloncka-ds/recsys-app/sweeps/cmrz31in</a>"
            ],
            "text/plain": [
              "<IPython.core.display.HTML object>"
            ]
          },
          "metadata": {},
          "output_type": "display_data"
        },
        {
          "metadata": {
            "tags": null
          },
          "name": "stdout",
          "output_type": "stream",
          "text": [
            "\u001b[31mwindow size: 1080, using too large window size may slow down training.\u001b[0m\n",
            "Training start time: \u001b[35m2022-11-07 08:32:27\u001b[0m\n"
          ]
        },
        {
          "output_type": "stream",
          "name": "stderr",
          "text": [
            "Item2vec iter0: 100%|██████████| 610/610 [00:00<00:00, 13897.70it/s]\n",
            "Item2vec iter1: 100%|██████████| 610/610 [00:04<00:00, 144.26it/s]\n",
            "Item2vec iter2: 100%|██████████| 610/610 [00:04<00:00, 143.36it/s]\n",
            "Item2vec iter3: 100%|██████████| 610/610 [00:04<00:00, 144.04it/s]\n",
            "Item2vec iter4: 100%|██████████| 610/610 [00:03<00:00, 153.31it/s]\n",
            "Item2vec iter5: 100%|██████████| 610/610 [00:04<00:00, 145.44it/s]\n",
            "Item2vec iter6: 100%|██████████| 610/610 [00:04<00:00, 151.29it/s]\n",
            "Item2vec iter7: 100%|██████████| 610/610 [00:03<00:00, 153.16it/s]\n",
            "Item2vec iter8: 100%|██████████| 610/610 [00:04<00:00, 146.02it/s]\n",
            "Item2vec iter9: 100%|██████████| 610/610 [00:04<00:00, 142.91it/s]\n",
            "Item2vec iter10: 100%|██████████| 610/610 [00:04<00:00, 145.80it/s]\n",
            "Item2vec iter11: 100%|██████████| 610/610 [00:04<00:00, 139.44it/s]\n",
            "Item2vec iter12: 100%|██████████| 610/610 [00:04<00:00, 141.39it/s]\n",
            "Item2vec iter13: 100%|██████████| 610/610 [00:04<00:00, 146.19it/s]\n",
            "Item2vec iter14: 100%|██████████| 610/610 [00:04<00:00, 144.36it/s]\n",
            "Item2vec iter15: 100%|██████████| 610/610 [00:04<00:00, 135.84it/s]\n",
            "Item2vec iter16: 100%|██████████| 610/610 [00:04<00:00, 140.35it/s]\n",
            "Item2vec iter17: 100%|██████████| 610/610 [00:04<00:00, 138.37it/s]\n",
            "Item2vec iter18: 100%|██████████| 610/610 [00:04<00:00, 139.21it/s]\n",
            "Item2vec iter19: 100%|██████████| 610/610 [00:04<00:00, 137.82it/s]\n",
            "Item2vec iter20: 100%|██████████| 610/610 [00:04<00:00, 136.80it/s]\n"
          ]
        },
        {
          "output_type": "stream",
          "name": "stdout",
          "text": [
            "gensim word2vec training elapsed: 442.255s\n"
          ]
        },
        {
          "output_type": "stream",
          "name": "stderr",
          "text": [
            "eval_pred: 100%|██████████| 3/3 [00:00<00:00, 223.41it/s]\n",
            "eval_rec: 100%|██████████| 608/608 [00:00<00:00, 1744.98it/s]\n"
          ]
        },
        {
          "output_type": "display_data",
          "data": {
            "text/plain": [
              "<IPython.core.display.HTML object>"
            ],
            "text/html": [
              "Waiting for W&B process to finish... <strong style=\"color:green\">(success).</strong>"
            ]
          },
          "metadata": {}
        },
        {
          "output_type": "display_data",
          "data": {
            "text/plain": [
              "VBox(children=(Label(value='0.001 MB of 0.001 MB uploaded (0.000 MB deduped)\\r'), FloatProgress(value=1.0, max…"
            ],
            "application/vnd.jupyter.widget-view+json": {
              "version_major": 2,
              "version_minor": 0,
              "model_id": "989966dc1a674383afb2e4dbe91db418"
            }
          },
          "metadata": {}
        },
        {
          "output_type": "display_data",
          "data": {
            "text/plain": [
              "<IPython.core.display.HTML object>"
            ],
            "text/html": [
              "<style>\n",
              "    table.wandb td:nth-child(1) { padding: 0 10px; text-align: left ; width: auto;} td:nth-child(2) {text-align: left ; width: 100%}\n",
              "    .wandb-row { display: flex; flex-direction: row; flex-wrap: wrap; justify-content: flex-start; width: 100% }\n",
              "    .wandb-col { display: flex; flex-direction: column; flex-basis: 100%; flex: 1; padding: 10px; }\n",
              "    </style>\n",
              "<div class=\"wandb-row\"><div class=\"wandb-col\"><h3>Run history:</h3><br/><table class=\"wandb\"><tr><td>loss</td><td>▁</td></tr><tr><td>map</td><td>▁</td></tr><tr><td>ndcg</td><td>▁</td></tr><tr><td>precision</td><td>▁</td></tr><tr><td>recall</td><td>▁</td></tr><tr><td>roc_auc</td><td>▁</td></tr></table><br/></div><div class=\"wandb-col\"><h3>Run summary:</h3><br/><table class=\"wandb\"><tr><td>loss</td><td>0.68384</td></tr><tr><td>map</td><td>0.0845</td></tr><tr><td>ndcg</td><td>0.12557</td></tr><tr><td>precision</td><td>0.03421</td></tr><tr><td>recall</td><td>0.0446</td></tr><tr><td>roc_auc</td><td>0.75175</td></tr></table><br/></div></div>"
            ]
          },
          "metadata": {}
        },
        {
          "output_type": "display_data",
          "data": {
            "text/plain": [
              "<IPython.core.display.HTML object>"
            ],
            "text/html": [
              "Synced <strong style=\"color:#cdcd00\">stellar-sweep-14</strong>: <a href=\"https://wandb.ai/iloncka-ds/recsys-app/runs/nerg0yfz\" target=\"_blank\">https://wandb.ai/iloncka-ds/recsys-app/runs/nerg0yfz</a><br/>Synced 5 W&B file(s), 0 media file(s), 0 artifact file(s) and 0 other file(s)"
            ]
          },
          "metadata": {}
        },
        {
          "output_type": "display_data",
          "data": {
            "text/plain": [
              "<IPython.core.display.HTML object>"
            ],
            "text/html": [
              "Find logs at: <code>./wandb/run-20221107_083222-nerg0yfz/logs</code>"
            ]
          },
          "metadata": {}
        },
        {
          "output_type": "stream",
          "name": "stderr",
          "text": [
            "\u001b[34m\u001b[1mwandb\u001b[0m: Agent Starting Run: a45j7l34 with config:\n",
            "\u001b[34m\u001b[1mwandb\u001b[0m: \tembed_size: 32\n",
            "\u001b[34m\u001b[1mwandb\u001b[0m: \tn_epochs: 10\n",
            "\u001b[34m\u001b[1mwandb\u001b[0m: \tnorm_embed: False\n",
            "\u001b[34m\u001b[1mwandb\u001b[0m: \twindow_size: 540\n"
          ]
        },
        {
          "output_type": "display_data",
          "data": {
            "text/plain": [
              "<IPython.core.display.HTML object>"
            ],
            "text/html": [
              "Tracking run with wandb version 0.13.5"
            ]
          },
          "metadata": {}
        },
        {
          "output_type": "display_data",
          "data": {
            "text/plain": [
              "<IPython.core.display.HTML object>"
            ],
            "text/html": [
              "Run data is saved locally in <code>/content/wandb/run-20221107_084003-a45j7l34</code>"
            ]
          },
          "metadata": {}
        },
        {
          "output_type": "display_data",
          "data": {
            "text/plain": [
              "<IPython.core.display.HTML object>"
            ],
            "text/html": [
              "Syncing run <strong><a href=\"https://wandb.ai/iloncka-ds/recsys-app/runs/a45j7l34\" target=\"_blank\">stellar-sweep-15</a></strong> to <a href=\"https://wandb.ai/iloncka-ds/recsys-app\" target=\"_blank\">Weights & Biases</a> (<a href=\"https://wandb.me/run\" target=\"_blank\">docs</a>)<br/>Sweep page:  <a href=\"https://wandb.ai/iloncka-ds/recsys-app/sweeps/cmrz31in\" target=\"_blank\">https://wandb.ai/iloncka-ds/recsys-app/sweeps/cmrz31in</a>"
            ]
          },
          "metadata": {}
        },
        {
          "output_type": "stream",
          "name": "stdout",
          "text": [
            "\u001b[31mwindow size: 540, using too large window size may slow down training.\u001b[0m\n",
            "Training start time: \u001b[35m2022-11-07 08:40:08\u001b[0m\n"
          ]
        },
        {
          "output_type": "stream",
          "name": "stderr",
          "text": [
            "Item2vec iter0: 100%|██████████| 610/610 [00:00<00:00, 12685.31it/s]\n",
            "Item2vec iter1: 100%|██████████| 610/610 [00:02<00:00, 217.74it/s]\n",
            "Item2vec iter2: 100%|██████████| 610/610 [00:02<00:00, 211.90it/s]\n",
            "Item2vec iter3: 100%|██████████| 610/610 [00:02<00:00, 205.23it/s]\n",
            "Item2vec iter4: 100%|██████████| 610/610 [00:02<00:00, 208.60it/s]\n",
            "Item2vec iter5: 100%|██████████| 610/610 [00:02<00:00, 206.65it/s]\n",
            "Item2vec iter6: 100%|██████████| 610/610 [00:02<00:00, 212.14it/s]\n",
            "Item2vec iter7: 100%|██████████| 610/610 [00:02<00:00, 208.13it/s]\n",
            "Item2vec iter8: 100%|██████████| 610/610 [00:03<00:00, 200.93it/s]\n",
            "Item2vec iter9: 100%|██████████| 610/610 [00:02<00:00, 216.50it/s]\n",
            "Item2vec iter10: 100%|██████████| 610/610 [00:02<00:00, 209.97it/s]\n"
          ]
        },
        {
          "output_type": "stream",
          "name": "stdout",
          "text": [
            "gensim word2vec training elapsed: 136.500s\n"
          ]
        },
        {
          "output_type": "stream",
          "name": "stderr",
          "text": [
            "eval_pred: 100%|██████████| 3/3 [00:00<00:00, 218.11it/s]\n",
            "eval_rec: 100%|██████████| 608/608 [00:00<00:00, 1334.62it/s]\n"
          ]
        },
        {
          "output_type": "display_data",
          "data": {
            "text/plain": [
              "<IPython.core.display.HTML object>"
            ],
            "text/html": [
              "Waiting for W&B process to finish... <strong style=\"color:green\">(success).</strong>"
            ]
          },
          "metadata": {}
        },
        {
          "output_type": "display_data",
          "data": {
            "text/plain": [
              "VBox(children=(Label(value='0.001 MB of 0.010 MB uploaded (0.000 MB deduped)\\r'), FloatProgress(value=0.070650…"
            ],
            "application/vnd.jupyter.widget-view+json": {
              "version_major": 2,
              "version_minor": 0,
              "model_id": "3dfbc069a10848838a7b6b414413407e"
            }
          },
          "metadata": {}
        },
        {
          "output_type": "display_data",
          "data": {
            "text/plain": [
              "<IPython.core.display.HTML object>"
            ],
            "text/html": [
              "<style>\n",
              "    table.wandb td:nth-child(1) { padding: 0 10px; text-align: left ; width: auto;} td:nth-child(2) {text-align: left ; width: 100%}\n",
              "    .wandb-row { display: flex; flex-direction: row; flex-wrap: wrap; justify-content: flex-start; width: 100% }\n",
              "    .wandb-col { display: flex; flex-direction: column; flex-basis: 100%; flex: 1; padding: 10px; }\n",
              "    </style>\n",
              "<div class=\"wandb-row\"><div class=\"wandb-col\"><h3>Run history:</h3><br/><table class=\"wandb\"><tr><td>loss</td><td>▁</td></tr><tr><td>map</td><td>▁</td></tr><tr><td>ndcg</td><td>▁</td></tr><tr><td>precision</td><td>▁</td></tr><tr><td>recall</td><td>▁</td></tr><tr><td>roc_auc</td><td>▁</td></tr></table><br/></div><div class=\"wandb-col\"><h3>Run summary:</h3><br/><table class=\"wandb\"><tr><td>loss</td><td>1.18215</td></tr><tr><td>map</td><td>0.01832</td></tr><tr><td>ndcg</td><td>0.02571</td></tr><tr><td>precision</td><td>0.00609</td></tr><tr><td>recall</td><td>0.00758</td></tr><tr><td>roc_auc</td><td>0.47695</td></tr></table><br/></div></div>"
            ]
          },
          "metadata": {}
        },
        {
          "output_type": "display_data",
          "data": {
            "text/plain": [
              "<IPython.core.display.HTML object>"
            ],
            "text/html": [
              "Synced <strong style=\"color:#cdcd00\">stellar-sweep-15</strong>: <a href=\"https://wandb.ai/iloncka-ds/recsys-app/runs/a45j7l34\" target=\"_blank\">https://wandb.ai/iloncka-ds/recsys-app/runs/a45j7l34</a><br/>Synced 5 W&B file(s), 0 media file(s), 0 artifact file(s) and 0 other file(s)"
            ]
          },
          "metadata": {}
        },
        {
          "output_type": "display_data",
          "data": {
            "text/plain": [
              "<IPython.core.display.HTML object>"
            ],
            "text/html": [
              "Find logs at: <code>./wandb/run-20221107_084003-a45j7l34/logs</code>"
            ]
          },
          "metadata": {}
        },
        {
          "output_type": "stream",
          "name": "stderr",
          "text": [
            "\u001b[34m\u001b[1mwandb\u001b[0m: Agent Starting Run: aekbr4qi with config:\n",
            "\u001b[34m\u001b[1mwandb\u001b[0m: \tembed_size: 16\n",
            "\u001b[34m\u001b[1mwandb\u001b[0m: \tn_epochs: 20\n",
            "\u001b[34m\u001b[1mwandb\u001b[0m: \tnorm_embed: True\n",
            "\u001b[34m\u001b[1mwandb\u001b[0m: \twindow_size: 1080\n"
          ]
        },
        {
          "output_type": "display_data",
          "data": {
            "text/plain": [
              "<IPython.core.display.HTML object>"
            ],
            "text/html": [
              "Tracking run with wandb version 0.13.5"
            ]
          },
          "metadata": {}
        },
        {
          "output_type": "display_data",
          "data": {
            "text/plain": [
              "<IPython.core.display.HTML object>"
            ],
            "text/html": [
              "Run data is saved locally in <code>/content/wandb/run-20221107_084238-aekbr4qi</code>"
            ]
          },
          "metadata": {}
        },
        {
          "output_type": "display_data",
          "data": {
            "text/plain": [
              "<IPython.core.display.HTML object>"
            ],
            "text/html": [
              "Syncing run <strong><a href=\"https://wandb.ai/iloncka-ds/recsys-app/runs/aekbr4qi\" target=\"_blank\">stellar-sweep-16</a></strong> to <a href=\"https://wandb.ai/iloncka-ds/recsys-app\" target=\"_blank\">Weights & Biases</a> (<a href=\"https://wandb.me/run\" target=\"_blank\">docs</a>)<br/>Sweep page:  <a href=\"https://wandb.ai/iloncka-ds/recsys-app/sweeps/cmrz31in\" target=\"_blank\">https://wandb.ai/iloncka-ds/recsys-app/sweeps/cmrz31in</a>"
            ]
          },
          "metadata": {}
        },
        {
          "output_type": "stream",
          "name": "stdout",
          "text": [
            "\u001b[31mwindow size: 1080, using too large window size may slow down training.\u001b[0m\n",
            "Training start time: \u001b[35m2022-11-07 08:42:44\u001b[0m\n"
          ]
        },
        {
          "output_type": "stream",
          "name": "stderr",
          "text": [
            "Item2vec iter0: 100%|██████████| 610/610 [00:00<00:00, 13560.35it/s]\n",
            "Item2vec iter1: 100%|██████████| 610/610 [00:04<00:00, 145.17it/s]\n",
            "Item2vec iter2: 100%|██████████| 610/610 [00:04<00:00, 147.47it/s]\n",
            "Item2vec iter3: 100%|██████████| 610/610 [00:04<00:00, 145.93it/s]\n",
            "Item2vec iter4: 100%|██████████| 610/610 [00:04<00:00, 151.60it/s]\n",
            "Item2vec iter5: 100%|██████████| 610/610 [00:04<00:00, 146.94it/s]\n",
            "Item2vec iter6: 100%|██████████| 610/610 [00:04<00:00, 145.85it/s]\n",
            "Item2vec iter7: 100%|██████████| 610/610 [00:04<00:00, 146.60it/s]\n",
            "Item2vec iter8: 100%|██████████| 610/610 [00:04<00:00, 144.25it/s]\n",
            "Item2vec iter9: 100%|██████████| 610/610 [00:04<00:00, 141.57it/s]\n",
            "Item2vec iter10: 100%|██████████| 610/610 [00:04<00:00, 140.97it/s]\n",
            "Item2vec iter11: 100%|██████████| 610/610 [00:04<00:00, 142.75it/s]\n",
            "Item2vec iter12: 100%|██████████| 610/610 [00:04<00:00, 138.72it/s]\n",
            "Item2vec iter13: 100%|██████████| 610/610 [00:04<00:00, 140.42it/s]\n",
            "Item2vec iter14: 100%|██████████| 610/610 [00:04<00:00, 141.71it/s]\n",
            "Item2vec iter15: 100%|██████████| 610/610 [00:04<00:00, 137.31it/s]\n",
            "Item2vec iter16: 100%|██████████| 610/610 [00:04<00:00, 137.86it/s]\n",
            "Item2vec iter17: 100%|██████████| 610/610 [00:04<00:00, 136.77it/s]\n",
            "Item2vec iter18: 100%|██████████| 610/610 [00:04<00:00, 136.60it/s]\n",
            "Item2vec iter19: 100%|██████████| 610/610 [00:04<00:00, 137.58it/s]\n",
            "Item2vec iter20: 100%|██████████| 610/610 [00:04<00:00, 134.02it/s]\n"
          ]
        },
        {
          "output_type": "stream",
          "name": "stdout",
          "text": [
            "gensim word2vec training elapsed: 439.875s\n"
          ]
        },
        {
          "output_type": "stream",
          "name": "stderr",
          "text": [
            "eval_pred: 100%|██████████| 3/3 [00:00<00:00, 171.07it/s]\n",
            "eval_rec: 100%|██████████| 608/608 [00:00<00:00, 1825.98it/s]\n"
          ]
        },
        {
          "output_type": "display_data",
          "data": {
            "text/plain": [
              "<IPython.core.display.HTML object>"
            ],
            "text/html": [
              "Waiting for W&B process to finish... <strong style=\"color:green\">(success).</strong>"
            ]
          },
          "metadata": {}
        },
        {
          "output_type": "display_data",
          "data": {
            "text/plain": [
              "VBox(children=(Label(value='0.001 MB of 0.001 MB uploaded (0.000 MB deduped)\\r'), FloatProgress(value=1.0, max…"
            ],
            "application/vnd.jupyter.widget-view+json": {
              "version_major": 2,
              "version_minor": 0,
              "model_id": "5a6d1f590b2043bfa1b0692481c74909"
            }
          },
          "metadata": {}
        },
        {
          "output_type": "display_data",
          "data": {
            "text/plain": [
              "<IPython.core.display.HTML object>"
            ],
            "text/html": [
              "<style>\n",
              "    table.wandb td:nth-child(1) { padding: 0 10px; text-align: left ; width: auto;} td:nth-child(2) {text-align: left ; width: 100%}\n",
              "    .wandb-row { display: flex; flex-direction: row; flex-wrap: wrap; justify-content: flex-start; width: 100% }\n",
              "    .wandb-col { display: flex; flex-direction: column; flex-basis: 100%; flex: 1; padding: 10px; }\n",
              "    </style>\n",
              "<div class=\"wandb-row\"><div class=\"wandb-col\"><h3>Run history:</h3><br/><table class=\"wandb\"><tr><td>loss</td><td>▁</td></tr><tr><td>map</td><td>▁</td></tr><tr><td>ndcg</td><td>▁</td></tr><tr><td>precision</td><td>▁</td></tr><tr><td>recall</td><td>▁</td></tr><tr><td>roc_auc</td><td>▁</td></tr></table><br/></div><div class=\"wandb-col\"><h3>Run summary:</h3><br/><table class=\"wandb\"><tr><td>loss</td><td>0.68903</td></tr><tr><td>map</td><td>0.08077</td></tr><tr><td>ndcg</td><td>0.12166</td></tr><tr><td>precision</td><td>0.03043</td></tr><tr><td>recall</td><td>0.03737</td></tr><tr><td>roc_auc</td><td>0.77122</td></tr></table><br/></div></div>"
            ]
          },
          "metadata": {}
        },
        {
          "output_type": "display_data",
          "data": {
            "text/plain": [
              "<IPython.core.display.HTML object>"
            ],
            "text/html": [
              "Synced <strong style=\"color:#cdcd00\">stellar-sweep-16</strong>: <a href=\"https://wandb.ai/iloncka-ds/recsys-app/runs/aekbr4qi\" target=\"_blank\">https://wandb.ai/iloncka-ds/recsys-app/runs/aekbr4qi</a><br/>Synced 5 W&B file(s), 0 media file(s), 0 artifact file(s) and 0 other file(s)"
            ]
          },
          "metadata": {}
        },
        {
          "output_type": "display_data",
          "data": {
            "text/plain": [
              "<IPython.core.display.HTML object>"
            ],
            "text/html": [
              "Find logs at: <code>./wandb/run-20221107_084238-aekbr4qi/logs</code>"
            ]
          },
          "metadata": {}
        },
        {
          "output_type": "stream",
          "name": "stderr",
          "text": [
            "\u001b[34m\u001b[1mwandb\u001b[0m: Agent Starting Run: 8ju5za9f with config:\n",
            "\u001b[34m\u001b[1mwandb\u001b[0m: \tembed_size: 16\n",
            "\u001b[34m\u001b[1mwandb\u001b[0m: \tn_epochs: 5\n",
            "\u001b[34m\u001b[1mwandb\u001b[0m: \tnorm_embed: True\n",
            "\u001b[34m\u001b[1mwandb\u001b[0m: \twindow_size: 2160\n"
          ]
        },
        {
          "output_type": "display_data",
          "data": {
            "text/plain": [
              "<IPython.core.display.HTML object>"
            ],
            "text/html": [
              "Tracking run with wandb version 0.13.5"
            ]
          },
          "metadata": {}
        },
        {
          "output_type": "display_data",
          "data": {
            "text/plain": [
              "<IPython.core.display.HTML object>"
            ],
            "text/html": [
              "Run data is saved locally in <code>/content/wandb/run-20221107_085018-8ju5za9f</code>"
            ]
          },
          "metadata": {}
        },
        {
          "output_type": "display_data",
          "data": {
            "text/plain": [
              "<IPython.core.display.HTML object>"
            ],
            "text/html": [
              "Syncing run <strong><a href=\"https://wandb.ai/iloncka-ds/recsys-app/runs/8ju5za9f\" target=\"_blank\">hopeful-sweep-17</a></strong> to <a href=\"https://wandb.ai/iloncka-ds/recsys-app\" target=\"_blank\">Weights & Biases</a> (<a href=\"https://wandb.me/run\" target=\"_blank\">docs</a>)<br/>Sweep page:  <a href=\"https://wandb.ai/iloncka-ds/recsys-app/sweeps/cmrz31in\" target=\"_blank\">https://wandb.ai/iloncka-ds/recsys-app/sweeps/cmrz31in</a>"
            ]
          },
          "metadata": {}
        },
        {
          "output_type": "stream",
          "name": "stdout",
          "text": [
            "\u001b[31mwindow size: 2160, using too large window size may slow down training.\u001b[0m\n",
            "Training start time: \u001b[35m2022-11-07 08:50:23\u001b[0m\n"
          ]
        },
        {
          "output_type": "stream",
          "name": "stderr",
          "text": [
            "Item2vec iter0: 100%|██████████| 610/610 [00:00<00:00, 9459.59it/s]\n",
            "Item2vec iter1: 100%|██████████| 610/610 [00:04<00:00, 131.29it/s]\n",
            "Item2vec iter2: 100%|██████████| 610/610 [00:04<00:00, 133.70it/s]\n",
            "Item2vec iter3: 100%|██████████| 610/610 [00:04<00:00, 131.67it/s]\n",
            "Item2vec iter4: 100%|██████████| 610/610 [00:04<00:00, 129.30it/s]\n",
            "Item2vec iter5: 100%|██████████| 610/610 [00:04<00:00, 123.26it/s]\n"
          ]
        },
        {
          "output_type": "stream",
          "name": "stdout",
          "text": [
            "gensim word2vec training elapsed: 131.030s\n"
          ]
        },
        {
          "output_type": "stream",
          "name": "stderr",
          "text": [
            "eval_pred: 100%|██████████| 3/3 [00:00<00:00, 222.71it/s]\n",
            "eval_rec: 100%|██████████| 608/608 [00:00<00:00, 1809.76it/s]\n"
          ]
        },
        {
          "output_type": "display_data",
          "data": {
            "text/plain": [
              "<IPython.core.display.HTML object>"
            ],
            "text/html": [
              "Waiting for W&B process to finish... <strong style=\"color:green\">(success).</strong>"
            ]
          },
          "metadata": {}
        },
        {
          "output_type": "display_data",
          "data": {
            "text/plain": [
              "<IPython.core.display.HTML object>"
            ],
            "text/html": [
              "<style>\n",
              "    table.wandb td:nth-child(1) { padding: 0 10px; text-align: left ; width: auto;} td:nth-child(2) {text-align: left ; width: 100%}\n",
              "    .wandb-row { display: flex; flex-direction: row; flex-wrap: wrap; justify-content: flex-start; width: 100% }\n",
              "    .wandb-col { display: flex; flex-direction: column; flex-basis: 100%; flex: 1; padding: 10px; }\n",
              "    </style>\n",
              "<div class=\"wandb-row\"><div class=\"wandb-col\"><h3>Run history:</h3><br/><table class=\"wandb\"><tr><td>loss</td><td>▁</td></tr><tr><td>map</td><td>▁</td></tr><tr><td>ndcg</td><td>▁</td></tr><tr><td>precision</td><td>▁</td></tr><tr><td>recall</td><td>▁</td></tr><tr><td>roc_auc</td><td>▁</td></tr></table><br/></div><div class=\"wandb-col\"><h3>Run summary:</h3><br/><table class=\"wandb\"><tr><td>loss</td><td>0.71086</td></tr><tr><td>map</td><td>0.03856</td></tr><tr><td>ndcg</td><td>0.05442</td></tr><tr><td>precision</td><td>0.0125</td></tr><tr><td>recall</td><td>0.02555</td></tr><tr><td>roc_auc</td><td>0.67935</td></tr></table><br/></div></div>"
            ]
          },
          "metadata": {}
        },
        {
          "output_type": "display_data",
          "data": {
            "text/plain": [
              "<IPython.core.display.HTML object>"
            ],
            "text/html": [
              "Synced <strong style=\"color:#cdcd00\">hopeful-sweep-17</strong>: <a href=\"https://wandb.ai/iloncka-ds/recsys-app/runs/8ju5za9f\" target=\"_blank\">https://wandb.ai/iloncka-ds/recsys-app/runs/8ju5za9f</a><br/>Synced 5 W&B file(s), 0 media file(s), 0 artifact file(s) and 0 other file(s)"
            ]
          },
          "metadata": {}
        },
        {
          "output_type": "display_data",
          "data": {
            "text/plain": [
              "<IPython.core.display.HTML object>"
            ],
            "text/html": [
              "Find logs at: <code>./wandb/run-20221107_085018-8ju5za9f/logs</code>"
            ]
          },
          "metadata": {}
        },
        {
          "output_type": "stream",
          "name": "stderr",
          "text": [
            "\u001b[34m\u001b[1mwandb\u001b[0m: Agent Starting Run: 42azosj4 with config:\n",
            "\u001b[34m\u001b[1mwandb\u001b[0m: \tembed_size: 32\n",
            "\u001b[34m\u001b[1mwandb\u001b[0m: \tn_epochs: 20\n",
            "\u001b[34m\u001b[1mwandb\u001b[0m: \tnorm_embed: False\n",
            "\u001b[34m\u001b[1mwandb\u001b[0m: \twindow_size: 540\n"
          ]
        },
        {
          "output_type": "display_data",
          "data": {
            "text/plain": [
              "<IPython.core.display.HTML object>"
            ],
            "text/html": [
              "Tracking run with wandb version 0.13.5"
            ]
          },
          "metadata": {}
        },
        {
          "output_type": "display_data",
          "data": {
            "text/plain": [
              "<IPython.core.display.HTML object>"
            ],
            "text/html": [
              "Run data is saved locally in <code>/content/wandb/run-20221107_085247-42azosj4</code>"
            ]
          },
          "metadata": {}
        },
        {
          "output_type": "display_data",
          "data": {
            "text/plain": [
              "<IPython.core.display.HTML object>"
            ],
            "text/html": [
              "Syncing run <strong><a href=\"https://wandb.ai/iloncka-ds/recsys-app/runs/42azosj4\" target=\"_blank\">smooth-sweep-18</a></strong> to <a href=\"https://wandb.ai/iloncka-ds/recsys-app\" target=\"_blank\">Weights & Biases</a> (<a href=\"https://wandb.me/run\" target=\"_blank\">docs</a>)<br/>Sweep page:  <a href=\"https://wandb.ai/iloncka-ds/recsys-app/sweeps/cmrz31in\" target=\"_blank\">https://wandb.ai/iloncka-ds/recsys-app/sweeps/cmrz31in</a>"
            ]
          },
          "metadata": {}
        },
        {
          "output_type": "stream",
          "name": "stdout",
          "text": [
            "\u001b[31mwindow size: 540, using too large window size may slow down training.\u001b[0m\n",
            "Training start time: \u001b[35m2022-11-07 08:52:53\u001b[0m\n"
          ]
        },
        {
          "output_type": "stream",
          "name": "stderr",
          "text": [
            "Item2vec iter0: 100%|██████████| 610/610 [00:00<00:00, 11672.64it/s]\n",
            "Item2vec iter1: 100%|██████████| 610/610 [00:02<00:00, 218.13it/s]\n",
            "Item2vec iter2: 100%|██████████| 610/610 [00:02<00:00, 213.99it/s]\n",
            "Item2vec iter3: 100%|██████████| 610/610 [00:02<00:00, 217.52it/s]\n",
            "Item2vec iter4: 100%|██████████| 610/610 [00:02<00:00, 221.21it/s]\n",
            "Item2vec iter5: 100%|██████████| 610/610 [00:02<00:00, 215.18it/s]\n",
            "Item2vec iter6: 100%|██████████| 610/610 [00:02<00:00, 215.40it/s]\n",
            "Item2vec iter7: 100%|██████████| 610/610 [00:02<00:00, 211.54it/s]\n",
            "Item2vec iter8: 100%|██████████| 610/610 [00:02<00:00, 204.88it/s]\n",
            "Item2vec iter9: 100%|██████████| 610/610 [00:02<00:00, 210.57it/s]\n",
            "Item2vec iter10: 100%|██████████| 610/610 [00:02<00:00, 208.70it/s]\n",
            "Item2vec iter11: 100%|██████████| 610/610 [00:03<00:00, 199.79it/s]\n",
            "Item2vec iter12: 100%|██████████| 610/610 [00:02<00:00, 204.43it/s]\n",
            "Item2vec iter13: 100%|██████████| 610/610 [00:02<00:00, 205.06it/s]\n",
            "Item2vec iter14: 100%|██████████| 610/610 [00:02<00:00, 214.66it/s]\n",
            "Item2vec iter15: 100%|██████████| 610/610 [00:02<00:00, 210.91it/s]\n",
            "Item2vec iter16: 100%|██████████| 610/610 [00:02<00:00, 209.13it/s]\n",
            "Item2vec iter17: 100%|██████████| 610/610 [00:02<00:00, 204.42it/s]\n",
            "Item2vec iter18: 100%|██████████| 610/610 [00:02<00:00, 212.04it/s]\n",
            "Item2vec iter19: 100%|██████████| 610/610 [00:02<00:00, 212.47it/s]\n",
            "Item2vec iter20: 100%|██████████| 610/610 [00:02<00:00, 209.98it/s]\n"
          ]
        },
        {
          "output_type": "stream",
          "name": "stdout",
          "text": [
            "gensim word2vec training elapsed: 269.471s\n"
          ]
        },
        {
          "output_type": "stream",
          "name": "stderr",
          "text": [
            "eval_pred: 100%|██████████| 3/3 [00:00<00:00, 150.29it/s]\n",
            "eval_rec: 100%|██████████| 608/608 [00:00<00:00, 1488.78it/s]\n"
          ]
        },
        {
          "output_type": "display_data",
          "data": {
            "text/plain": [
              "<IPython.core.display.HTML object>"
            ],
            "text/html": [
              "Waiting for W&B process to finish... <strong style=\"color:green\">(success).</strong>"
            ]
          },
          "metadata": {}
        },
        {
          "output_type": "display_data",
          "data": {
            "text/plain": [
              "VBox(children=(Label(value='0.001 MB of 0.001 MB uploaded (0.000 MB deduped)\\r'), FloatProgress(value=1.0, max…"
            ],
            "application/vnd.jupyter.widget-view+json": {
              "version_major": 2,
              "version_minor": 0,
              "model_id": "89bf5607ab854cf38103cb47507f58c9"
            }
          },
          "metadata": {}
        },
        {
          "output_type": "display_data",
          "data": {
            "text/plain": [
              "<IPython.core.display.HTML object>"
            ],
            "text/html": [
              "<style>\n",
              "    table.wandb td:nth-child(1) { padding: 0 10px; text-align: left ; width: auto;} td:nth-child(2) {text-align: left ; width: 100%}\n",
              "    .wandb-row { display: flex; flex-direction: row; flex-wrap: wrap; justify-content: flex-start; width: 100% }\n",
              "    .wandb-col { display: flex; flex-direction: column; flex-basis: 100%; flex: 1; padding: 10px; }\n",
              "    </style>\n",
              "<div class=\"wandb-row\"><div class=\"wandb-col\"><h3>Run history:</h3><br/><table class=\"wandb\"><tr><td>loss</td><td>▁</td></tr><tr><td>map</td><td>▁</td></tr><tr><td>ndcg</td><td>▁</td></tr><tr><td>precision</td><td>▁</td></tr><tr><td>recall</td><td>▁</td></tr><tr><td>roc_auc</td><td>▁</td></tr></table><br/></div><div class=\"wandb-col\"><h3>Run summary:</h3><br/><table class=\"wandb\"><tr><td>loss</td><td>1.23964</td></tr><tr><td>map</td><td>0.01715</td></tr><tr><td>ndcg</td><td>0.0226</td></tr><tr><td>precision</td><td>0.00461</td></tr><tr><td>recall</td><td>0.00424</td></tr><tr><td>roc_auc</td><td>0.44882</td></tr></table><br/></div></div>"
            ]
          },
          "metadata": {}
        },
        {
          "output_type": "display_data",
          "data": {
            "text/plain": [
              "<IPython.core.display.HTML object>"
            ],
            "text/html": [
              "Synced <strong style=\"color:#cdcd00\">smooth-sweep-18</strong>: <a href=\"https://wandb.ai/iloncka-ds/recsys-app/runs/42azosj4\" target=\"_blank\">https://wandb.ai/iloncka-ds/recsys-app/runs/42azosj4</a><br/>Synced 5 W&B file(s), 0 media file(s), 0 artifact file(s) and 0 other file(s)"
            ]
          },
          "metadata": {}
        },
        {
          "output_type": "display_data",
          "data": {
            "text/plain": [
              "<IPython.core.display.HTML object>"
            ],
            "text/html": [
              "Find logs at: <code>./wandb/run-20221107_085247-42azosj4/logs</code>"
            ]
          },
          "metadata": {}
        },
        {
          "output_type": "stream",
          "name": "stderr",
          "text": [
            "\u001b[34m\u001b[1mwandb\u001b[0m: Agent Starting Run: wpx81oib with config:\n",
            "\u001b[34m\u001b[1mwandb\u001b[0m: \tembed_size: 64\n",
            "\u001b[34m\u001b[1mwandb\u001b[0m: \tn_epochs: 20\n",
            "\u001b[34m\u001b[1mwandb\u001b[0m: \tnorm_embed: False\n",
            "\u001b[34m\u001b[1mwandb\u001b[0m: \twindow_size: 2160\n"
          ]
        },
        {
          "output_type": "display_data",
          "data": {
            "text/plain": [
              "<IPython.core.display.HTML object>"
            ],
            "text/html": [
              "Tracking run with wandb version 0.13.5"
            ]
          },
          "metadata": {}
        },
        {
          "output_type": "display_data",
          "data": {
            "text/plain": [
              "<IPython.core.display.HTML object>"
            ],
            "text/html": [
              "Run data is saved locally in <code>/content/wandb/run-20221107_085739-wpx81oib</code>"
            ]
          },
          "metadata": {}
        },
        {
          "output_type": "display_data",
          "data": {
            "text/plain": [
              "<IPython.core.display.HTML object>"
            ],
            "text/html": [
              "Syncing run <strong><a href=\"https://wandb.ai/iloncka-ds/recsys-app/runs/wpx81oib\" target=\"_blank\">vague-sweep-19</a></strong> to <a href=\"https://wandb.ai/iloncka-ds/recsys-app\" target=\"_blank\">Weights & Biases</a> (<a href=\"https://wandb.me/run\" target=\"_blank\">docs</a>)<br/>Sweep page:  <a href=\"https://wandb.ai/iloncka-ds/recsys-app/sweeps/cmrz31in\" target=\"_blank\">https://wandb.ai/iloncka-ds/recsys-app/sweeps/cmrz31in</a>"
            ]
          },
          "metadata": {}
        },
        {
          "output_type": "stream",
          "name": "stdout",
          "text": [
            "\u001b[31mwindow size: 2160, using too large window size may slow down training.\u001b[0m\n",
            "Training start time: \u001b[35m2022-11-07 08:57:45\u001b[0m\n"
          ]
        },
        {
          "output_type": "stream",
          "name": "stderr",
          "text": [
            "Item2vec iter0: 100%|██████████| 610/610 [00:00<00:00, 8579.84it/s]\n",
            "Item2vec iter1: 100%|██████████| 610/610 [00:04<00:00, 130.93it/s]\n",
            "Item2vec iter2: 100%|██████████| 610/610 [00:04<00:00, 135.52it/s]\n",
            "Item2vec iter3: 100%|██████████| 610/610 [00:04<00:00, 134.54it/s]\n",
            "Item2vec iter4: 100%|██████████| 610/610 [00:04<00:00, 134.83it/s]\n",
            "Item2vec iter5: 100%|██████████| 610/610 [00:04<00:00, 133.21it/s]\n",
            "Item2vec iter6: 100%|██████████| 610/610 [00:04<00:00, 135.86it/s]\n",
            "Item2vec iter7: 100%|██████████| 610/610 [00:04<00:00, 130.01it/s]\n",
            "Item2vec iter8: 100%|██████████| 610/610 [00:04<00:00, 128.35it/s]\n",
            "Item2vec iter9: 100%|██████████| 610/610 [00:04<00:00, 126.36it/s]\n",
            "Item2vec iter10: 100%|██████████| 610/610 [00:04<00:00, 128.15it/s]\n",
            "Item2vec iter11: 100%|██████████| 610/610 [00:04<00:00, 129.93it/s]\n",
            "Item2vec iter12: 100%|██████████| 610/610 [00:04<00:00, 124.25it/s]\n",
            "Item2vec iter13: 100%|██████████| 610/610 [00:04<00:00, 122.20it/s]\n",
            "Item2vec iter14: 100%|██████████| 610/610 [00:04<00:00, 124.35it/s]\n",
            "Item2vec iter15: 100%|██████████| 610/610 [00:04<00:00, 129.06it/s]\n",
            "Item2vec iter16: 100%|██████████| 610/610 [00:04<00:00, 128.74it/s]\n",
            "Item2vec iter17: 100%|██████████| 610/610 [00:05<00:00, 120.03it/s]\n",
            "Item2vec iter18: 100%|██████████| 610/610 [00:04<00:00, 124.77it/s]\n",
            "Item2vec iter19: 100%|██████████| 610/610 [00:05<00:00, 118.73it/s]\n",
            "Item2vec iter20: 100%|██████████| 610/610 [00:05<00:00, 119.82it/s]\n"
          ]
        },
        {
          "output_type": "stream",
          "name": "stdout",
          "text": [
            "gensim word2vec training elapsed: 539.685s\n"
          ]
        },
        {
          "output_type": "stream",
          "name": "stderr",
          "text": [
            "eval_pred: 100%|██████████| 3/3 [00:00<00:00, 196.30it/s]\n",
            "eval_rec: 100%|██████████| 608/608 [00:00<00:00, 1117.98it/s]\n"
          ]
        },
        {
          "output_type": "display_data",
          "data": {
            "text/plain": [
              "<IPython.core.display.HTML object>"
            ],
            "text/html": [
              "Waiting for W&B process to finish... <strong style=\"color:green\">(success).</strong>"
            ]
          },
          "metadata": {}
        },
        {
          "output_type": "display_data",
          "data": {
            "text/plain": [
              "VBox(children=(Label(value='0.001 MB of 0.001 MB uploaded (0.000 MB deduped)\\r'), FloatProgress(value=1.0, max…"
            ],
            "application/vnd.jupyter.widget-view+json": {
              "version_major": 2,
              "version_minor": 0,
              "model_id": "d1432b926a8343be81ad5252fb6b110a"
            }
          },
          "metadata": {}
        },
        {
          "output_type": "display_data",
          "data": {
            "text/plain": [
              "<IPython.core.display.HTML object>"
            ],
            "text/html": [
              "<style>\n",
              "    table.wandb td:nth-child(1) { padding: 0 10px; text-align: left ; width: auto;} td:nth-child(2) {text-align: left ; width: 100%}\n",
              "    .wandb-row { display: flex; flex-direction: row; flex-wrap: wrap; justify-content: flex-start; width: 100% }\n",
              "    .wandb-col { display: flex; flex-direction: column; flex-basis: 100%; flex: 1; padding: 10px; }\n",
              "    </style>\n",
              "<div class=\"wandb-row\"><div class=\"wandb-col\"><h3>Run history:</h3><br/><table class=\"wandb\"><tr><td>loss</td><td>▁</td></tr><tr><td>map</td><td>▁</td></tr><tr><td>ndcg</td><td>▁</td></tr><tr><td>precision</td><td>▁</td></tr><tr><td>recall</td><td>▁</td></tr><tr><td>roc_auc</td><td>▁</td></tr></table><br/></div><div class=\"wandb-col\"><h3>Run summary:</h3><br/><table class=\"wandb\"><tr><td>loss</td><td>1.14249</td></tr><tr><td>map</td><td>0.00554</td></tr><tr><td>ndcg</td><td>0.00763</td></tr><tr><td>precision</td><td>0.00148</td></tr><tr><td>recall</td><td>0.00097</td></tr><tr><td>roc_auc</td><td>0.46731</td></tr></table><br/></div></div>"
            ]
          },
          "metadata": {}
        },
        {
          "output_type": "display_data",
          "data": {
            "text/plain": [
              "<IPython.core.display.HTML object>"
            ],
            "text/html": [
              "Synced <strong style=\"color:#cdcd00\">vague-sweep-19</strong>: <a href=\"https://wandb.ai/iloncka-ds/recsys-app/runs/wpx81oib\" target=\"_blank\">https://wandb.ai/iloncka-ds/recsys-app/runs/wpx81oib</a><br/>Synced 5 W&B file(s), 0 media file(s), 0 artifact file(s) and 0 other file(s)"
            ]
          },
          "metadata": {}
        },
        {
          "output_type": "display_data",
          "data": {
            "text/plain": [
              "<IPython.core.display.HTML object>"
            ],
            "text/html": [
              "Find logs at: <code>./wandb/run-20221107_085739-wpx81oib/logs</code>"
            ]
          },
          "metadata": {}
        },
        {
          "output_type": "stream",
          "name": "stderr",
          "text": [
            "\u001b[34m\u001b[1mwandb\u001b[0m: Agent Starting Run: kfd2c0c4 with config:\n",
            "\u001b[34m\u001b[1mwandb\u001b[0m: \tembed_size: 32\n",
            "\u001b[34m\u001b[1mwandb\u001b[0m: \tn_epochs: 10\n",
            "\u001b[34m\u001b[1mwandb\u001b[0m: \tnorm_embed: True\n",
            "\u001b[34m\u001b[1mwandb\u001b[0m: \twindow_size: 540\n"
          ]
        },
        {
          "output_type": "display_data",
          "data": {
            "text/plain": [
              "<IPython.core.display.HTML object>"
            ],
            "text/html": [
              "Tracking run with wandb version 0.13.5"
            ]
          },
          "metadata": {}
        },
        {
          "output_type": "display_data",
          "data": {
            "text/plain": [
              "<IPython.core.display.HTML object>"
            ],
            "text/html": [
              "Run data is saved locally in <code>/content/wandb/run-20221107_090702-kfd2c0c4</code>"
            ]
          },
          "metadata": {}
        },
        {
          "output_type": "display_data",
          "data": {
            "text/plain": [
              "<IPython.core.display.HTML object>"
            ],
            "text/html": [
              "Syncing run <strong><a href=\"https://wandb.ai/iloncka-ds/recsys-app/runs/kfd2c0c4\" target=\"_blank\">graceful-sweep-20</a></strong> to <a href=\"https://wandb.ai/iloncka-ds/recsys-app\" target=\"_blank\">Weights & Biases</a> (<a href=\"https://wandb.me/run\" target=\"_blank\">docs</a>)<br/>Sweep page:  <a href=\"https://wandb.ai/iloncka-ds/recsys-app/sweeps/cmrz31in\" target=\"_blank\">https://wandb.ai/iloncka-ds/recsys-app/sweeps/cmrz31in</a>"
            ]
          },
          "metadata": {}
        },
        {
          "output_type": "stream",
          "name": "stdout",
          "text": [
            "\u001b[31mwindow size: 540, using too large window size may slow down training.\u001b[0m\n",
            "Training start time: \u001b[35m2022-11-07 09:07:07\u001b[0m\n"
          ]
        },
        {
          "output_type": "stream",
          "name": "stderr",
          "text": [
            "Item2vec iter0: 100%|██████████| 610/610 [00:00<00:00, 16792.30it/s]\n",
            "Item2vec iter1: 100%|██████████| 610/610 [00:02<00:00, 212.70it/s]\n",
            "Item2vec iter2: 100%|██████████| 610/610 [00:02<00:00, 207.38it/s]\n",
            "Item2vec iter3: 100%|██████████| 610/610 [00:03<00:00, 201.02it/s]\n",
            "Item2vec iter4: 100%|██████████| 610/610 [00:02<00:00, 217.25it/s]\n",
            "Item2vec iter5: 100%|██████████| 610/610 [00:02<00:00, 215.38it/s]\n",
            "Item2vec iter6: 100%|██████████| 610/610 [00:02<00:00, 215.61it/s]\n",
            "Item2vec iter7: 100%|██████████| 610/610 [00:03<00:00, 201.88it/s]\n",
            "Item2vec iter8: 100%|██████████| 610/610 [00:02<00:00, 205.46it/s]\n",
            "Item2vec iter9: 100%|██████████| 610/610 [00:02<00:00, 207.39it/s]\n",
            "Item2vec iter10: 100%|██████████| 610/610 [00:02<00:00, 218.62it/s]\n"
          ]
        },
        {
          "output_type": "stream",
          "name": "stdout",
          "text": [
            "gensim word2vec training elapsed: 135.273s\n"
          ]
        },
        {
          "output_type": "stream",
          "name": "stderr",
          "text": [
            "eval_pred: 100%|██████████| 3/3 [00:00<00:00, 157.62it/s]\n",
            "eval_rec: 100%|██████████| 608/608 [00:00<00:00, 1689.26it/s]\n"
          ]
        },
        {
          "output_type": "display_data",
          "data": {
            "text/plain": [
              "<IPython.core.display.HTML object>"
            ],
            "text/html": [
              "Waiting for W&B process to finish... <strong style=\"color:green\">(success).</strong>"
            ]
          },
          "metadata": {}
        },
        {
          "output_type": "display_data",
          "data": {
            "text/plain": [
              "<IPython.core.display.HTML object>"
            ],
            "text/html": [
              "<style>\n",
              "    table.wandb td:nth-child(1) { padding: 0 10px; text-align: left ; width: auto;} td:nth-child(2) {text-align: left ; width: 100%}\n",
              "    .wandb-row { display: flex; flex-direction: row; flex-wrap: wrap; justify-content: flex-start; width: 100% }\n",
              "    .wandb-col { display: flex; flex-direction: column; flex-basis: 100%; flex: 1; padding: 10px; }\n",
              "    </style>\n",
              "<div class=\"wandb-row\"><div class=\"wandb-col\"><h3>Run history:</h3><br/><table class=\"wandb\"><tr><td>loss</td><td>▁</td></tr><tr><td>map</td><td>▁</td></tr><tr><td>ndcg</td><td>▁</td></tr><tr><td>precision</td><td>▁</td></tr><tr><td>recall</td><td>▁</td></tr><tr><td>roc_auc</td><td>▁</td></tr></table><br/></div><div class=\"wandb-col\"><h3>Run summary:</h3><br/><table class=\"wandb\"><tr><td>loss</td><td>0.69239</td></tr><tr><td>map</td><td>0.0773</td></tr><tr><td>ndcg</td><td>0.11361</td></tr><tr><td>precision</td><td>0.03026</td></tr><tr><td>recall</td><td>0.04176</td></tr><tr><td>roc_auc</td><td>0.74078</td></tr></table><br/></div></div>"
            ]
          },
          "metadata": {}
        },
        {
          "output_type": "display_data",
          "data": {
            "text/plain": [
              "<IPython.core.display.HTML object>"
            ],
            "text/html": [
              "Synced <strong style=\"color:#cdcd00\">graceful-sweep-20</strong>: <a href=\"https://wandb.ai/iloncka-ds/recsys-app/runs/kfd2c0c4\" target=\"_blank\">https://wandb.ai/iloncka-ds/recsys-app/runs/kfd2c0c4</a><br/>Synced 5 W&B file(s), 0 media file(s), 0 artifact file(s) and 0 other file(s)"
            ]
          },
          "metadata": {}
        },
        {
          "output_type": "display_data",
          "data": {
            "text/plain": [
              "<IPython.core.display.HTML object>"
            ],
            "text/html": [
              "Find logs at: <code>./wandb/run-20221107_090702-kfd2c0c4/logs</code>"
            ]
          },
          "metadata": {}
        },
        {
          "output_type": "stream",
          "name": "stderr",
          "text": [
            "\u001b[34m\u001b[1mwandb\u001b[0m: Sweep Agent: Waiting for job.\n",
            "\u001b[34m\u001b[1mwandb\u001b[0m: Job received.\n",
            "\u001b[34m\u001b[1mwandb\u001b[0m: Agent Starting Run: 8lv72jih with config:\n",
            "\u001b[34m\u001b[1mwandb\u001b[0m: \tembed_size: 64\n",
            "\u001b[34m\u001b[1mwandb\u001b[0m: \tn_epochs: 10\n",
            "\u001b[34m\u001b[1mwandb\u001b[0m: \tnorm_embed: False\n",
            "\u001b[34m\u001b[1mwandb\u001b[0m: \twindow_size: 2160\n"
          ]
        },
        {
          "output_type": "display_data",
          "data": {
            "text/plain": [
              "<IPython.core.display.HTML object>"
            ],
            "text/html": [
              "Tracking run with wandb version 0.13.5"
            ]
          },
          "metadata": {}
        },
        {
          "output_type": "display_data",
          "data": {
            "text/plain": [
              "<IPython.core.display.HTML object>"
            ],
            "text/html": [
              "Run data is saved locally in <code>/content/wandb/run-20221107_090945-8lv72jih</code>"
            ]
          },
          "metadata": {}
        },
        {
          "output_type": "display_data",
          "data": {
            "text/plain": [
              "<IPython.core.display.HTML object>"
            ],
            "text/html": [
              "Syncing run <strong><a href=\"https://wandb.ai/iloncka-ds/recsys-app/runs/8lv72jih\" target=\"_blank\">treasured-sweep-21</a></strong> to <a href=\"https://wandb.ai/iloncka-ds/recsys-app\" target=\"_blank\">Weights & Biases</a> (<a href=\"https://wandb.me/run\" target=\"_blank\">docs</a>)<br/>Sweep page:  <a href=\"https://wandb.ai/iloncka-ds/recsys-app/sweeps/cmrz31in\" target=\"_blank\">https://wandb.ai/iloncka-ds/recsys-app/sweeps/cmrz31in</a>"
            ]
          },
          "metadata": {}
        },
        {
          "output_type": "stream",
          "name": "stdout",
          "text": [
            "\u001b[31mwindow size: 2160, using too large window size may slow down training.\u001b[0m\n",
            "Training start time: \u001b[35m2022-11-07 09:09:50\u001b[0m\n"
          ]
        },
        {
          "output_type": "stream",
          "name": "stderr",
          "text": [
            "Item2vec iter0: 100%|██████████| 610/610 [00:00<00:00, 11740.34it/s]\n",
            "Item2vec iter1: 100%|██████████| 610/610 [00:04<00:00, 132.83it/s]\n",
            "Item2vec iter2: 100%|██████████| 610/610 [00:04<00:00, 123.97it/s]\n",
            "Item2vec iter3: 100%|██████████| 610/610 [00:04<00:00, 135.71it/s]\n",
            "Item2vec iter4: 100%|██████████| 610/610 [00:04<00:00, 130.85it/s]\n",
            "Item2vec iter5: 100%|██████████| 610/610 [00:04<00:00, 129.68it/s]\n",
            "Item2vec iter6: 100%|██████████| 610/610 [00:04<00:00, 130.30it/s]\n",
            "Item2vec iter7: 100%|██████████| 610/610 [00:04<00:00, 130.74it/s]\n",
            "Item2vec iter8: 100%|██████████| 610/610 [00:04<00:00, 123.60it/s]\n",
            "Item2vec iter9: 100%|██████████| 610/610 [00:04<00:00, 129.13it/s]\n",
            "Item2vec iter10: 100%|██████████| 610/610 [00:04<00:00, 128.39it/s]\n"
          ]
        },
        {
          "output_type": "stream",
          "name": "stdout",
          "text": [
            "gensim word2vec training elapsed: 267.177s\n"
          ]
        },
        {
          "output_type": "stream",
          "name": "stderr",
          "text": [
            "eval_pred: 100%|██████████| 3/3 [00:00<00:00, 204.70it/s]\n",
            "eval_rec: 100%|██████████| 608/608 [00:00<00:00, 1409.77it/s]\n"
          ]
        },
        {
          "output_type": "display_data",
          "data": {
            "text/plain": [
              "<IPython.core.display.HTML object>"
            ],
            "text/html": [
              "Waiting for W&B process to finish... <strong style=\"color:green\">(success).</strong>"
            ]
          },
          "metadata": {}
        },
        {
          "output_type": "display_data",
          "data": {
            "text/plain": [
              "<IPython.core.display.HTML object>"
            ],
            "text/html": [
              "<style>\n",
              "    table.wandb td:nth-child(1) { padding: 0 10px; text-align: left ; width: auto;} td:nth-child(2) {text-align: left ; width: 100%}\n",
              "    .wandb-row { display: flex; flex-direction: row; flex-wrap: wrap; justify-content: flex-start; width: 100% }\n",
              "    .wandb-col { display: flex; flex-direction: column; flex-basis: 100%; flex: 1; padding: 10px; }\n",
              "    </style>\n",
              "<div class=\"wandb-row\"><div class=\"wandb-col\"><h3>Run history:</h3><br/><table class=\"wandb\"><tr><td>loss</td><td>▁</td></tr><tr><td>map</td><td>▁</td></tr><tr><td>ndcg</td><td>▁</td></tr><tr><td>precision</td><td>▁</td></tr><tr><td>recall</td><td>▁</td></tr><tr><td>roc_auc</td><td>▁</td></tr></table><br/></div><div class=\"wandb-col\"><h3>Run summary:</h3><br/><table class=\"wandb\"><tr><td>loss</td><td>1.15298</td></tr><tr><td>map</td><td>0.00476</td></tr><tr><td>ndcg</td><td>0.00839</td></tr><tr><td>precision</td><td>0.00247</td></tr><tr><td>recall</td><td>0.00144</td></tr><tr><td>roc_auc</td><td>0.43248</td></tr></table><br/></div></div>"
            ]
          },
          "metadata": {}
        },
        {
          "output_type": "display_data",
          "data": {
            "text/plain": [
              "<IPython.core.display.HTML object>"
            ],
            "text/html": [
              "Synced <strong style=\"color:#cdcd00\">treasured-sweep-21</strong>: <a href=\"https://wandb.ai/iloncka-ds/recsys-app/runs/8lv72jih\" target=\"_blank\">https://wandb.ai/iloncka-ds/recsys-app/runs/8lv72jih</a><br/>Synced 5 W&B file(s), 0 media file(s), 0 artifact file(s) and 0 other file(s)"
            ]
          },
          "metadata": {}
        },
        {
          "output_type": "display_data",
          "data": {
            "text/plain": [
              "<IPython.core.display.HTML object>"
            ],
            "text/html": [
              "Find logs at: <code>./wandb/run-20221107_090945-8lv72jih/logs</code>"
            ]
          },
          "metadata": {}
        },
        {
          "output_type": "stream",
          "name": "stderr",
          "text": [
            "\u001b[34m\u001b[1mwandb\u001b[0m: Agent Starting Run: 0dgw6v4k with config:\n",
            "\u001b[34m\u001b[1mwandb\u001b[0m: \tembed_size: 64\n",
            "\u001b[34m\u001b[1mwandb\u001b[0m: \tn_epochs: 5\n",
            "\u001b[34m\u001b[1mwandb\u001b[0m: \tnorm_embed: True\n",
            "\u001b[34m\u001b[1mwandb\u001b[0m: \twindow_size: 540\n"
          ]
        },
        {
          "output_type": "display_data",
          "data": {
            "text/plain": [
              "<IPython.core.display.HTML object>"
            ],
            "text/html": [
              "Tracking run with wandb version 0.13.5"
            ]
          },
          "metadata": {}
        },
        {
          "output_type": "display_data",
          "data": {
            "text/plain": [
              "<IPython.core.display.HTML object>"
            ],
            "text/html": [
              "Run data is saved locally in <code>/content/wandb/run-20221107_091431-0dgw6v4k</code>"
            ]
          },
          "metadata": {}
        },
        {
          "output_type": "display_data",
          "data": {
            "text/plain": [
              "<IPython.core.display.HTML object>"
            ],
            "text/html": [
              "Syncing run <strong><a href=\"https://wandb.ai/iloncka-ds/recsys-app/runs/0dgw6v4k\" target=\"_blank\">iconic-sweep-22</a></strong> to <a href=\"https://wandb.ai/iloncka-ds/recsys-app\" target=\"_blank\">Weights & Biases</a> (<a href=\"https://wandb.me/run\" target=\"_blank\">docs</a>)<br/>Sweep page:  <a href=\"https://wandb.ai/iloncka-ds/recsys-app/sweeps/cmrz31in\" target=\"_blank\">https://wandb.ai/iloncka-ds/recsys-app/sweeps/cmrz31in</a>"
            ]
          },
          "metadata": {}
        },
        {
          "output_type": "stream",
          "name": "stdout",
          "text": [
            "\u001b[31mwindow size: 540, using too large window size may slow down training.\u001b[0m\n",
            "Training start time: \u001b[35m2022-11-07 09:14:37\u001b[0m\n"
          ]
        },
        {
          "output_type": "stream",
          "name": "stderr",
          "text": [
            "Item2vec iter0: 100%|██████████| 610/610 [00:00<00:00, 14101.07it/s]\n",
            "Item2vec iter1: 100%|██████████| 610/610 [00:03<00:00, 171.75it/s]\n",
            "Item2vec iter2: 100%|██████████| 610/610 [00:03<00:00, 171.84it/s]\n",
            "Item2vec iter3: 100%|██████████| 610/610 [00:03<00:00, 158.66it/s]\n",
            "Item2vec iter4: 100%|██████████| 610/610 [00:03<00:00, 177.83it/s]\n",
            "Item2vec iter5: 100%|██████████| 610/610 [00:03<00:00, 167.18it/s]\n"
          ]
        },
        {
          "output_type": "stream",
          "name": "stdout",
          "text": [
            "gensim word2vec training elapsed: 84.383s\n"
          ]
        },
        {
          "output_type": "stream",
          "name": "stderr",
          "text": [
            "eval_pred: 100%|██████████| 3/3 [00:00<00:00, 185.45it/s]\n",
            "eval_rec: 100%|██████████| 608/608 [00:00<00:00, 1561.26it/s]\n"
          ]
        },
        {
          "output_type": "display_data",
          "data": {
            "text/plain": [
              "<IPython.core.display.HTML object>"
            ],
            "text/html": [
              "Waiting for W&B process to finish... <strong style=\"color:green\">(success).</strong>"
            ]
          },
          "metadata": {}
        },
        {
          "output_type": "display_data",
          "data": {
            "text/plain": [
              "VBox(children=(Label(value='0.001 MB of 0.010 MB uploaded (0.000 MB deduped)\\r'), FloatProgress(value=0.073887…"
            ],
            "application/vnd.jupyter.widget-view+json": {
              "version_major": 2,
              "version_minor": 0,
              "model_id": "d75e7b52c3cc42cfb9b668d5ab12bef9"
            }
          },
          "metadata": {}
        },
        {
          "output_type": "display_data",
          "data": {
            "text/plain": [
              "<IPython.core.display.HTML object>"
            ],
            "text/html": [
              "<style>\n",
              "    table.wandb td:nth-child(1) { padding: 0 10px; text-align: left ; width: auto;} td:nth-child(2) {text-align: left ; width: 100%}\n",
              "    .wandb-row { display: flex; flex-direction: row; flex-wrap: wrap; justify-content: flex-start; width: 100% }\n",
              "    .wandb-col { display: flex; flex-direction: column; flex-basis: 100%; flex: 1; padding: 10px; }\n",
              "    </style>\n",
              "<div class=\"wandb-row\"><div class=\"wandb-col\"><h3>Run history:</h3><br/><table class=\"wandb\"><tr><td>loss</td><td>▁</td></tr><tr><td>map</td><td>▁</td></tr><tr><td>ndcg</td><td>▁</td></tr><tr><td>precision</td><td>▁</td></tr><tr><td>recall</td><td>▁</td></tr><tr><td>roc_auc</td><td>▁</td></tr></table><br/></div><div class=\"wandb-col\"><h3>Run summary:</h3><br/><table class=\"wandb\"><tr><td>loss</td><td>0.7047</td></tr><tr><td>map</td><td>0.02876</td></tr><tr><td>ndcg</td><td>0.04308</td></tr><tr><td>precision</td><td>0.01118</td></tr><tr><td>recall</td><td>0.0274</td></tr><tr><td>roc_auc</td><td>0.68706</td></tr></table><br/></div></div>"
            ]
          },
          "metadata": {}
        },
        {
          "output_type": "display_data",
          "data": {
            "text/plain": [
              "<IPython.core.display.HTML object>"
            ],
            "text/html": [
              "Synced <strong style=\"color:#cdcd00\">iconic-sweep-22</strong>: <a href=\"https://wandb.ai/iloncka-ds/recsys-app/runs/0dgw6v4k\" target=\"_blank\">https://wandb.ai/iloncka-ds/recsys-app/runs/0dgw6v4k</a><br/>Synced 5 W&B file(s), 0 media file(s), 0 artifact file(s) and 0 other file(s)"
            ]
          },
          "metadata": {}
        },
        {
          "output_type": "display_data",
          "data": {
            "text/plain": [
              "<IPython.core.display.HTML object>"
            ],
            "text/html": [
              "Find logs at: <code>./wandb/run-20221107_091431-0dgw6v4k/logs</code>"
            ]
          },
          "metadata": {}
        },
        {
          "output_type": "stream",
          "name": "stderr",
          "text": [
            "\u001b[34m\u001b[1mwandb\u001b[0m: Agent Starting Run: 184u354x with config:\n",
            "\u001b[34m\u001b[1mwandb\u001b[0m: \tembed_size: 16\n",
            "\u001b[34m\u001b[1mwandb\u001b[0m: \tn_epochs: 20\n",
            "\u001b[34m\u001b[1mwandb\u001b[0m: \tnorm_embed: False\n",
            "\u001b[34m\u001b[1mwandb\u001b[0m: \twindow_size: 540\n"
          ]
        },
        {
          "output_type": "display_data",
          "data": {
            "text/plain": [
              "<IPython.core.display.HTML object>"
            ],
            "text/html": [
              "Tracking run with wandb version 0.13.5"
            ]
          },
          "metadata": {}
        },
        {
          "output_type": "display_data",
          "data": {
            "text/plain": [
              "<IPython.core.display.HTML object>"
            ],
            "text/html": [
              "Run data is saved locally in <code>/content/wandb/run-20221107_091614-184u354x</code>"
            ]
          },
          "metadata": {}
        },
        {
          "output_type": "display_data",
          "data": {
            "text/plain": [
              "<IPython.core.display.HTML object>"
            ],
            "text/html": [
              "Syncing run <strong><a href=\"https://wandb.ai/iloncka-ds/recsys-app/runs/184u354x\" target=\"_blank\">solar-sweep-23</a></strong> to <a href=\"https://wandb.ai/iloncka-ds/recsys-app\" target=\"_blank\">Weights & Biases</a> (<a href=\"https://wandb.me/run\" target=\"_blank\">docs</a>)<br/>Sweep page:  <a href=\"https://wandb.ai/iloncka-ds/recsys-app/sweeps/cmrz31in\" target=\"_blank\">https://wandb.ai/iloncka-ds/recsys-app/sweeps/cmrz31in</a>"
            ]
          },
          "metadata": {}
        },
        {
          "output_type": "stream",
          "name": "stdout",
          "text": [
            "\u001b[31mwindow size: 540, using too large window size may slow down training.\u001b[0m\n",
            "Training start time: \u001b[35m2022-11-07 09:16:19\u001b[0m\n"
          ]
        },
        {
          "output_type": "stream",
          "name": "stderr",
          "text": [
            "Item2vec iter0: 100%|██████████| 610/610 [00:00<00:00, 13349.36it/s]\n",
            "Item2vec iter1: 100%|██████████| 610/610 [00:03<00:00, 179.67it/s]\n",
            "Item2vec iter2: 100%|██████████| 610/610 [00:03<00:00, 181.55it/s]\n",
            "Item2vec iter3: 100%|██████████| 610/610 [00:03<00:00, 177.33it/s]\n",
            "Item2vec iter4: 100%|██████████| 610/610 [00:03<00:00, 182.10it/s]\n",
            "Item2vec iter5: 100%|██████████| 610/610 [00:03<00:00, 181.92it/s]\n",
            "Item2vec iter6: 100%|██████████| 610/610 [00:03<00:00, 180.42it/s]\n",
            "Item2vec iter7: 100%|██████████| 610/610 [00:03<00:00, 176.84it/s]\n",
            "Item2vec iter8: 100%|██████████| 610/610 [00:03<00:00, 177.88it/s]\n",
            "Item2vec iter9: 100%|██████████| 610/610 [00:03<00:00, 178.41it/s]\n",
            "Item2vec iter10: 100%|██████████| 610/610 [00:03<00:00, 177.06it/s]\n",
            "Item2vec iter11: 100%|██████████| 610/610 [00:03<00:00, 175.81it/s]\n",
            "Item2vec iter12: 100%|██████████| 610/610 [00:03<00:00, 173.18it/s]\n",
            "Item2vec iter13: 100%|██████████| 610/610 [00:03<00:00, 172.18it/s]\n",
            "Item2vec iter14: 100%|██████████| 610/610 [00:03<00:00, 172.87it/s]\n",
            "Item2vec iter15: 100%|██████████| 610/610 [00:03<00:00, 170.36it/s]\n",
            "Item2vec iter16: 100%|██████████| 610/610 [00:03<00:00, 170.65it/s]\n",
            "Item2vec iter17: 100%|██████████| 610/610 [00:03<00:00, 165.25it/s]\n",
            "Item2vec iter18: 100%|██████████| 610/610 [00:03<00:00, 168.57it/s]\n",
            "Item2vec iter19: 100%|██████████| 610/610 [00:03<00:00, 168.91it/s]\n",
            "Item2vec iter20: 100%|██████████| 610/610 [00:03<00:00, 171.38it/s]\n"
          ]
        },
        {
          "output_type": "stream",
          "name": "stdout",
          "text": [
            "gensim word2vec training elapsed: 323.688s\n"
          ]
        },
        {
          "output_type": "stream",
          "name": "stderr",
          "text": [
            "eval_pred: 100%|██████████| 3/3 [00:00<00:00, 193.81it/s]\n",
            "eval_rec: 100%|██████████| 608/608 [00:00<00:00, 1598.56it/s]\n"
          ]
        },
        {
          "output_type": "display_data",
          "data": {
            "text/plain": [
              "<IPython.core.display.HTML object>"
            ],
            "text/html": [
              "Waiting for W&B process to finish... <strong style=\"color:green\">(success).</strong>"
            ]
          },
          "metadata": {}
        },
        {
          "output_type": "display_data",
          "data": {
            "text/plain": [
              "<IPython.core.display.HTML object>"
            ],
            "text/html": [
              "<style>\n",
              "    table.wandb td:nth-child(1) { padding: 0 10px; text-align: left ; width: auto;} td:nth-child(2) {text-align: left ; width: 100%}\n",
              "    .wandb-row { display: flex; flex-direction: row; flex-wrap: wrap; justify-content: flex-start; width: 100% }\n",
              "    .wandb-col { display: flex; flex-direction: column; flex-basis: 100%; flex: 1; padding: 10px; }\n",
              "    </style>\n",
              "<div class=\"wandb-row\"><div class=\"wandb-col\"><h3>Run history:</h3><br/><table class=\"wandb\"><tr><td>loss</td><td>▁</td></tr><tr><td>map</td><td>▁</td></tr><tr><td>ndcg</td><td>▁</td></tr><tr><td>precision</td><td>▁</td></tr><tr><td>recall</td><td>▁</td></tr><tr><td>roc_auc</td><td>▁</td></tr></table><br/></div><div class=\"wandb-col\"><h3>Run summary:</h3><br/><table class=\"wandb\"><tr><td>loss</td><td>1.25075</td></tr><tr><td>map</td><td>0.00889</td></tr><tr><td>ndcg</td><td>0.01291</td></tr><tr><td>precision</td><td>0.00313</td></tr><tr><td>recall</td><td>0.00183</td></tr><tr><td>roc_auc</td><td>0.43758</td></tr></table><br/></div></div>"
            ]
          },
          "metadata": {}
        },
        {
          "output_type": "display_data",
          "data": {
            "text/plain": [
              "<IPython.core.display.HTML object>"
            ],
            "text/html": [
              "Synced <strong style=\"color:#cdcd00\">solar-sweep-23</strong>: <a href=\"https://wandb.ai/iloncka-ds/recsys-app/runs/184u354x\" target=\"_blank\">https://wandb.ai/iloncka-ds/recsys-app/runs/184u354x</a><br/>Synced 5 W&B file(s), 0 media file(s), 0 artifact file(s) and 0 other file(s)"
            ]
          },
          "metadata": {}
        },
        {
          "output_type": "display_data",
          "data": {
            "text/plain": [
              "<IPython.core.display.HTML object>"
            ],
            "text/html": [
              "Find logs at: <code>./wandb/run-20221107_091614-184u354x/logs</code>"
            ]
          },
          "metadata": {}
        },
        {
          "output_type": "stream",
          "name": "stderr",
          "text": [
            "\u001b[34m\u001b[1mwandb\u001b[0m: Agent Starting Run: jup0iqv5 with config:\n",
            "\u001b[34m\u001b[1mwandb\u001b[0m: \tembed_size: 32\n",
            "\u001b[34m\u001b[1mwandb\u001b[0m: \tn_epochs: 20\n",
            "\u001b[34m\u001b[1mwandb\u001b[0m: \tnorm_embed: True\n",
            "\u001b[34m\u001b[1mwandb\u001b[0m: \twindow_size: 1080\n"
          ]
        },
        {
          "output_type": "display_data",
          "data": {
            "text/plain": [
              "<IPython.core.display.HTML object>"
            ],
            "text/html": [
              "Tracking run with wandb version 0.13.5"
            ]
          },
          "metadata": {}
        },
        {
          "output_type": "display_data",
          "data": {
            "text/plain": [
              "<IPython.core.display.HTML object>"
            ],
            "text/html": [
              "Run data is saved locally in <code>/content/wandb/run-20221107_092154-jup0iqv5</code>"
            ]
          },
          "metadata": {}
        },
        {
          "output_type": "display_data",
          "data": {
            "text/plain": [
              "<IPython.core.display.HTML object>"
            ],
            "text/html": [
              "Syncing run <strong><a href=\"https://wandb.ai/iloncka-ds/recsys-app/runs/jup0iqv5\" target=\"_blank\">revived-sweep-24</a></strong> to <a href=\"https://wandb.ai/iloncka-ds/recsys-app\" target=\"_blank\">Weights & Biases</a> (<a href=\"https://wandb.me/run\" target=\"_blank\">docs</a>)<br/>Sweep page:  <a href=\"https://wandb.ai/iloncka-ds/recsys-app/sweeps/cmrz31in\" target=\"_blank\">https://wandb.ai/iloncka-ds/recsys-app/sweeps/cmrz31in</a>"
            ]
          },
          "metadata": {}
        },
        {
          "output_type": "stream",
          "name": "stdout",
          "text": [
            "\u001b[31mwindow size: 1080, using too large window size may slow down training.\u001b[0m\n",
            "Training start time: \u001b[35m2022-11-07 09:21:59\u001b[0m\n"
          ]
        },
        {
          "output_type": "stream",
          "name": "stderr",
          "text": [
            "Item2vec iter0: 100%|██████████| 610/610 [00:00<00:00, 12986.58it/s]\n",
            "Item2vec iter1: 100%|██████████| 610/610 [00:03<00:00, 185.50it/s]\n",
            "Item2vec iter2: 100%|██████████| 610/610 [00:03<00:00, 192.14it/s]\n",
            "Item2vec iter3: 100%|██████████| 610/610 [00:03<00:00, 187.20it/s]\n",
            "Item2vec iter4: 100%|██████████| 610/610 [00:03<00:00, 193.41it/s]\n",
            "Item2vec iter5: 100%|██████████| 610/610 [00:03<00:00, 181.97it/s]\n",
            "Item2vec iter6: 100%|██████████| 610/610 [00:03<00:00, 186.68it/s]\n",
            "Item2vec iter7: 100%|██████████| 610/610 [00:03<00:00, 187.95it/s]\n",
            "Item2vec iter8: 100%|██████████| 610/610 [00:03<00:00, 185.44it/s]\n",
            "Item2vec iter9: 100%|██████████| 610/610 [00:03<00:00, 185.12it/s]\n",
            "Item2vec iter10: 100%|██████████| 610/610 [00:03<00:00, 182.86it/s]\n",
            "Item2vec iter11: 100%|██████████| 610/610 [00:03<00:00, 181.41it/s]\n",
            "Item2vec iter12: 100%|██████████| 610/610 [00:03<00:00, 182.45it/s]\n",
            "Item2vec iter13: 100%|██████████| 610/610 [00:03<00:00, 182.54it/s]\n",
            "Item2vec iter14: 100%|██████████| 610/610 [00:03<00:00, 182.13it/s]\n",
            "Item2vec iter15: 100%|██████████| 610/610 [00:03<00:00, 179.40it/s]\n",
            "Item2vec iter16: 100%|██████████| 610/610 [00:03<00:00, 176.46it/s]\n",
            "Item2vec iter17: 100%|██████████| 610/610 [00:03<00:00, 179.95it/s]\n",
            "Item2vec iter18: 100%|██████████| 610/610 [00:03<00:00, 180.82it/s]\n",
            "Item2vec iter19: 100%|██████████| 610/610 [00:03<00:00, 176.43it/s]\n",
            "Item2vec iter20: 100%|██████████| 610/610 [00:03<00:00, 177.06it/s]\n"
          ]
        },
        {
          "output_type": "stream",
          "name": "stdout",
          "text": [
            "gensim word2vec training elapsed: 345.350s\n"
          ]
        },
        {
          "output_type": "stream",
          "name": "stderr",
          "text": [
            "eval_pred: 100%|██████████| 3/3 [00:00<00:00, 219.32it/s]\n",
            "eval_rec: 100%|██████████| 608/608 [00:00<00:00, 1737.72it/s]\n"
          ]
        },
        {
          "output_type": "display_data",
          "data": {
            "text/plain": [
              "<IPython.core.display.HTML object>"
            ],
            "text/html": [
              "Waiting for W&B process to finish... <strong style=\"color:green\">(success).</strong>"
            ]
          },
          "metadata": {}
        },
        {
          "output_type": "display_data",
          "data": {
            "text/plain": [
              "<IPython.core.display.HTML object>"
            ],
            "text/html": [
              "<style>\n",
              "    table.wandb td:nth-child(1) { padding: 0 10px; text-align: left ; width: auto;} td:nth-child(2) {text-align: left ; width: 100%}\n",
              "    .wandb-row { display: flex; flex-direction: row; flex-wrap: wrap; justify-content: flex-start; width: 100% }\n",
              "    .wandb-col { display: flex; flex-direction: column; flex-basis: 100%; flex: 1; padding: 10px; }\n",
              "    </style>\n",
              "<div class=\"wandb-row\"><div class=\"wandb-col\"><h3>Run history:</h3><br/><table class=\"wandb\"><tr><td>loss</td><td>▁</td></tr><tr><td>map</td><td>▁</td></tr><tr><td>ndcg</td><td>▁</td></tr><tr><td>precision</td><td>▁</td></tr><tr><td>recall</td><td>▁</td></tr><tr><td>roc_auc</td><td>▁</td></tr></table><br/></div><div class=\"wandb-col\"><h3>Run summary:</h3><br/><table class=\"wandb\"><tr><td>loss</td><td>0.68522</td></tr><tr><td>map</td><td>0.09032</td></tr><tr><td>ndcg</td><td>0.13137</td></tr><tr><td>precision</td><td>0.03322</td></tr><tr><td>recall</td><td>0.0422</td></tr><tr><td>roc_auc</td><td>0.76603</td></tr></table><br/></div></div>"
            ]
          },
          "metadata": {}
        },
        {
          "output_type": "display_data",
          "data": {
            "text/plain": [
              "<IPython.core.display.HTML object>"
            ],
            "text/html": [
              "Synced <strong style=\"color:#cdcd00\">revived-sweep-24</strong>: <a href=\"https://wandb.ai/iloncka-ds/recsys-app/runs/jup0iqv5\" target=\"_blank\">https://wandb.ai/iloncka-ds/recsys-app/runs/jup0iqv5</a><br/>Synced 5 W&B file(s), 0 media file(s), 0 artifact file(s) and 0 other file(s)"
            ]
          },
          "metadata": {}
        },
        {
          "output_type": "display_data",
          "data": {
            "text/plain": [
              "<IPython.core.display.HTML object>"
            ],
            "text/html": [
              "Find logs at: <code>./wandb/run-20221107_092154-jup0iqv5/logs</code>"
            ]
          },
          "metadata": {}
        },
        {
          "output_type": "stream",
          "name": "stderr",
          "text": [
            "\u001b[34m\u001b[1mwandb\u001b[0m: Agent Starting Run: jtpzzrp8 with config:\n",
            "\u001b[34m\u001b[1mwandb\u001b[0m: \tembed_size: 32\n",
            "\u001b[34m\u001b[1mwandb\u001b[0m: \tn_epochs: 20\n",
            "\u001b[34m\u001b[1mwandb\u001b[0m: \tnorm_embed: True\n",
            "\u001b[34m\u001b[1mwandb\u001b[0m: \twindow_size: 540\n"
          ]
        },
        {
          "output_type": "display_data",
          "data": {
            "text/plain": [
              "<IPython.core.display.HTML object>"
            ],
            "text/html": [
              "Tracking run with wandb version 0.13.5"
            ]
          },
          "metadata": {}
        },
        {
          "output_type": "display_data",
          "data": {
            "text/plain": [
              "<IPython.core.display.HTML object>"
            ],
            "text/html": [
              "Run data is saved locally in <code>/content/wandb/run-20221107_092756-jtpzzrp8</code>"
            ]
          },
          "metadata": {}
        },
        {
          "output_type": "display_data",
          "data": {
            "text/plain": [
              "<IPython.core.display.HTML object>"
            ],
            "text/html": [
              "Syncing run <strong><a href=\"https://wandb.ai/iloncka-ds/recsys-app/runs/jtpzzrp8\" target=\"_blank\">firm-sweep-25</a></strong> to <a href=\"https://wandb.ai/iloncka-ds/recsys-app\" target=\"_blank\">Weights & Biases</a> (<a href=\"https://wandb.me/run\" target=\"_blank\">docs</a>)<br/>Sweep page:  <a href=\"https://wandb.ai/iloncka-ds/recsys-app/sweeps/cmrz31in\" target=\"_blank\">https://wandb.ai/iloncka-ds/recsys-app/sweeps/cmrz31in</a>"
            ]
          },
          "metadata": {}
        },
        {
          "output_type": "stream",
          "name": "stdout",
          "text": [
            "\u001b[31mwindow size: 540, using too large window size may slow down training.\u001b[0m\n",
            "Training start time: \u001b[35m2022-11-07 09:28:02\u001b[0m\n"
          ]
        },
        {
          "output_type": "stream",
          "name": "stderr",
          "text": [
            "Item2vec iter0: 100%|██████████| 610/610 [00:00<00:00, 12694.81it/s]\n",
            "Item2vec iter1: 100%|██████████| 610/610 [00:02<00:00, 221.29it/s]\n",
            "Item2vec iter2: 100%|██████████| 610/610 [00:02<00:00, 228.38it/s]\n",
            "Item2vec iter3: 100%|██████████| 610/610 [00:02<00:00, 221.78it/s]\n",
            "Item2vec iter4: 100%|██████████| 610/610 [00:02<00:00, 221.41it/s]\n",
            "Item2vec iter5: 100%|██████████| 610/610 [00:02<00:00, 226.03it/s]\n",
            "Item2vec iter6: 100%|██████████| 610/610 [00:02<00:00, 217.95it/s]\n",
            "Item2vec iter7: 100%|██████████| 610/610 [00:02<00:00, 216.53it/s]\n",
            "Item2vec iter8: 100%|██████████| 610/610 [00:02<00:00, 214.38it/s]\n",
            "Item2vec iter9: 100%|██████████| 610/610 [00:02<00:00, 214.70it/s]\n",
            "Item2vec iter10: 100%|██████████| 610/610 [00:02<00:00, 214.94it/s]\n",
            "Item2vec iter11: 100%|██████████| 610/610 [00:02<00:00, 217.88it/s]\n",
            "Item2vec iter12: 100%|██████████| 610/610 [00:02<00:00, 218.56it/s]\n",
            "Item2vec iter13: 100%|██████████| 610/610 [00:02<00:00, 212.09it/s]\n",
            "Item2vec iter14: 100%|██████████| 610/610 [00:02<00:00, 217.67it/s]\n",
            "Item2vec iter15: 100%|██████████| 610/610 [00:02<00:00, 216.53it/s]\n",
            "Item2vec iter16: 100%|██████████| 610/610 [00:02<00:00, 211.25it/s]\n",
            "Item2vec iter17: 100%|██████████| 610/610 [00:02<00:00, 217.02it/s]\n",
            "Item2vec iter18: 100%|██████████| 610/610 [00:02<00:00, 213.83it/s]\n",
            "Item2vec iter19: 100%|██████████| 610/610 [00:02<00:00, 209.03it/s]\n",
            "Item2vec iter20: 100%|██████████| 610/610 [00:02<00:00, 206.89it/s]\n"
          ]
        },
        {
          "output_type": "stream",
          "name": "stdout",
          "text": [
            "gensim word2vec training elapsed: 261.761s\n"
          ]
        },
        {
          "output_type": "stream",
          "name": "stderr",
          "text": [
            "eval_pred: 100%|██████████| 3/3 [00:00<00:00, 249.25it/s]\n",
            "eval_rec: 100%|██████████| 608/608 [00:00<00:00, 1799.06it/s]\n"
          ]
        },
        {
          "output_type": "display_data",
          "data": {
            "text/plain": [
              "<IPython.core.display.HTML object>"
            ],
            "text/html": [
              "Waiting for W&B process to finish... <strong style=\"color:green\">(success).</strong>"
            ]
          },
          "metadata": {}
        },
        {
          "output_type": "display_data",
          "data": {
            "text/plain": [
              "VBox(children=(Label(value='0.001 MB of 0.001 MB uploaded (0.000 MB deduped)\\r'), FloatProgress(value=1.0, max…"
            ],
            "application/vnd.jupyter.widget-view+json": {
              "version_major": 2,
              "version_minor": 0,
              "model_id": "0dd06f7419094220aca64d14dbe27d83"
            }
          },
          "metadata": {}
        },
        {
          "output_type": "display_data",
          "data": {
            "text/plain": [
              "<IPython.core.display.HTML object>"
            ],
            "text/html": [
              "<style>\n",
              "    table.wandb td:nth-child(1) { padding: 0 10px; text-align: left ; width: auto;} td:nth-child(2) {text-align: left ; width: 100%}\n",
              "    .wandb-row { display: flex; flex-direction: row; flex-wrap: wrap; justify-content: flex-start; width: 100% }\n",
              "    .wandb-col { display: flex; flex-direction: column; flex-basis: 100%; flex: 1; padding: 10px; }\n",
              "    </style>\n",
              "<div class=\"wandb-row\"><div class=\"wandb-col\"><h3>Run history:</h3><br/><table class=\"wandb\"><tr><td>loss</td><td>▁</td></tr><tr><td>map</td><td>▁</td></tr><tr><td>ndcg</td><td>▁</td></tr><tr><td>precision</td><td>▁</td></tr><tr><td>recall</td><td>▁</td></tr><tr><td>roc_auc</td><td>▁</td></tr></table><br/></div><div class=\"wandb-col\"><h3>Run summary:</h3><br/><table class=\"wandb\"><tr><td>loss</td><td>0.68584</td></tr><tr><td>map</td><td>0.09253</td></tr><tr><td>ndcg</td><td>0.13358</td></tr><tr><td>precision</td><td>0.03766</td></tr><tr><td>recall</td><td>0.04611</td></tr><tr><td>roc_auc</td><td>0.77242</td></tr></table><br/></div></div>"
            ]
          },
          "metadata": {}
        },
        {
          "output_type": "display_data",
          "data": {
            "text/plain": [
              "<IPython.core.display.HTML object>"
            ],
            "text/html": [
              "Synced <strong style=\"color:#cdcd00\">firm-sweep-25</strong>: <a href=\"https://wandb.ai/iloncka-ds/recsys-app/runs/jtpzzrp8\" target=\"_blank\">https://wandb.ai/iloncka-ds/recsys-app/runs/jtpzzrp8</a><br/>Synced 5 W&B file(s), 0 media file(s), 0 artifact file(s) and 0 other file(s)"
            ]
          },
          "metadata": {}
        },
        {
          "output_type": "display_data",
          "data": {
            "text/plain": [
              "<IPython.core.display.HTML object>"
            ],
            "text/html": [
              "Find logs at: <code>./wandb/run-20221107_092756-jtpzzrp8/logs</code>"
            ]
          },
          "metadata": {}
        },
        {
          "output_type": "stream",
          "name": "stderr",
          "text": [
            "\u001b[34m\u001b[1mwandb\u001b[0m: Agent Starting Run: gvkcaeiv with config:\n",
            "\u001b[34m\u001b[1mwandb\u001b[0m: \tembed_size: 64\n",
            "\u001b[34m\u001b[1mwandb\u001b[0m: \tn_epochs: 5\n",
            "\u001b[34m\u001b[1mwandb\u001b[0m: \tnorm_embed: True\n",
            "\u001b[34m\u001b[1mwandb\u001b[0m: \twindow_size: 540\n"
          ]
        },
        {
          "output_type": "display_data",
          "data": {
            "text/plain": [
              "<IPython.core.display.HTML object>"
            ],
            "text/html": [
              "Tracking run with wandb version 0.13.5"
            ]
          },
          "metadata": {}
        },
        {
          "output_type": "display_data",
          "data": {
            "text/plain": [
              "<IPython.core.display.HTML object>"
            ],
            "text/html": [
              "Run data is saved locally in <code>/content/wandb/run-20221107_093237-gvkcaeiv</code>"
            ]
          },
          "metadata": {}
        },
        {
          "output_type": "display_data",
          "data": {
            "text/plain": [
              "<IPython.core.display.HTML object>"
            ],
            "text/html": [
              "Syncing run <strong><a href=\"https://wandb.ai/iloncka-ds/recsys-app/runs/gvkcaeiv\" target=\"_blank\">warm-sweep-26</a></strong> to <a href=\"https://wandb.ai/iloncka-ds/recsys-app\" target=\"_blank\">Weights & Biases</a> (<a href=\"https://wandb.me/run\" target=\"_blank\">docs</a>)<br/>Sweep page:  <a href=\"https://wandb.ai/iloncka-ds/recsys-app/sweeps/cmrz31in\" target=\"_blank\">https://wandb.ai/iloncka-ds/recsys-app/sweeps/cmrz31in</a>"
            ]
          },
          "metadata": {}
        },
        {
          "output_type": "stream",
          "name": "stdout",
          "text": [
            "\u001b[31mwindow size: 540, using too large window size may slow down training.\u001b[0m\n",
            "Training start time: \u001b[35m2022-11-07 09:32:43\u001b[0m\n"
          ]
        },
        {
          "output_type": "stream",
          "name": "stderr",
          "text": [
            "Item2vec iter0: 100%|██████████| 610/610 [00:00<00:00, 12643.81it/s]\n",
            "Item2vec iter1: 100%|██████████| 610/610 [00:03<00:00, 176.94it/s]\n",
            "Item2vec iter2: 100%|██████████| 610/610 [00:03<00:00, 166.31it/s]\n",
            "Item2vec iter3: 100%|██████████| 610/610 [00:03<00:00, 167.13it/s]\n",
            "Item2vec iter4: 100%|██████████| 610/610 [00:03<00:00, 168.81it/s]\n",
            "Item2vec iter5: 100%|██████████| 610/610 [00:03<00:00, 159.01it/s]\n"
          ]
        },
        {
          "output_type": "stream",
          "name": "stdout",
          "text": [
            "gensim word2vec training elapsed: 86.250s\n"
          ]
        },
        {
          "output_type": "stream",
          "name": "stderr",
          "text": [
            "eval_pred: 100%|██████████| 3/3 [00:00<00:00, 153.43it/s]\n",
            "eval_rec: 100%|██████████| 608/608 [00:00<00:00, 1620.71it/s]\n"
          ]
        },
        {
          "output_type": "display_data",
          "data": {
            "text/plain": [
              "<IPython.core.display.HTML object>"
            ],
            "text/html": [
              "Waiting for W&B process to finish... <strong style=\"color:green\">(success).</strong>"
            ]
          },
          "metadata": {}
        },
        {
          "output_type": "display_data",
          "data": {
            "text/plain": [
              "VBox(children=(Label(value='0.001 MB of 0.010 MB uploaded (0.000 MB deduped)\\r'), FloatProgress(value=0.073916…"
            ],
            "application/vnd.jupyter.widget-view+json": {
              "version_major": 2,
              "version_minor": 0,
              "model_id": "514526ae53fb4539aab7200e1fdce127"
            }
          },
          "metadata": {}
        },
        {
          "output_type": "display_data",
          "data": {
            "text/plain": [
              "<IPython.core.display.HTML object>"
            ],
            "text/html": [
              "<style>\n",
              "    table.wandb td:nth-child(1) { padding: 0 10px; text-align: left ; width: auto;} td:nth-child(2) {text-align: left ; width: 100%}\n",
              "    .wandb-row { display: flex; flex-direction: row; flex-wrap: wrap; justify-content: flex-start; width: 100% }\n",
              "    .wandb-col { display: flex; flex-direction: column; flex-basis: 100%; flex: 1; padding: 10px; }\n",
              "    </style>\n",
              "<div class=\"wandb-row\"><div class=\"wandb-col\"><h3>Run history:</h3><br/><table class=\"wandb\"><tr><td>loss</td><td>▁</td></tr><tr><td>map</td><td>▁</td></tr><tr><td>ndcg</td><td>▁</td></tr><tr><td>precision</td><td>▁</td></tr><tr><td>recall</td><td>▁</td></tr><tr><td>roc_auc</td><td>▁</td></tr></table><br/></div><div class=\"wandb-col\"><h3>Run summary:</h3><br/><table class=\"wandb\"><tr><td>loss</td><td>0.70486</td></tr><tr><td>map</td><td>0.02712</td></tr><tr><td>ndcg</td><td>0.04102</td></tr><tr><td>precision</td><td>0.01102</td></tr><tr><td>recall</td><td>0.02672</td></tr><tr><td>roc_auc</td><td>0.68598</td></tr></table><br/></div></div>"
            ]
          },
          "metadata": {}
        },
        {
          "output_type": "display_data",
          "data": {
            "text/plain": [
              "<IPython.core.display.HTML object>"
            ],
            "text/html": [
              "Synced <strong style=\"color:#cdcd00\">warm-sweep-26</strong>: <a href=\"https://wandb.ai/iloncka-ds/recsys-app/runs/gvkcaeiv\" target=\"_blank\">https://wandb.ai/iloncka-ds/recsys-app/runs/gvkcaeiv</a><br/>Synced 5 W&B file(s), 0 media file(s), 0 artifact file(s) and 0 other file(s)"
            ]
          },
          "metadata": {}
        },
        {
          "output_type": "display_data",
          "data": {
            "text/plain": [
              "<IPython.core.display.HTML object>"
            ],
            "text/html": [
              "Find logs at: <code>./wandb/run-20221107_093237-gvkcaeiv/logs</code>"
            ]
          },
          "metadata": {}
        },
        {
          "output_type": "stream",
          "name": "stderr",
          "text": [
            "\u001b[34m\u001b[1mwandb\u001b[0m: Agent Starting Run: 3qfcou0d with config:\n",
            "\u001b[34m\u001b[1mwandb\u001b[0m: \tembed_size: 32\n",
            "\u001b[34m\u001b[1mwandb\u001b[0m: \tn_epochs: 5\n",
            "\u001b[34m\u001b[1mwandb\u001b[0m: \tnorm_embed: True\n",
            "\u001b[34m\u001b[1mwandb\u001b[0m: \twindow_size: 540\n"
          ]
        },
        {
          "output_type": "display_data",
          "data": {
            "text/plain": [
              "<IPython.core.display.HTML object>"
            ],
            "text/html": [
              "Tracking run with wandb version 0.13.5"
            ]
          },
          "metadata": {}
        },
        {
          "output_type": "display_data",
          "data": {
            "text/plain": [
              "<IPython.core.display.HTML object>"
            ],
            "text/html": [
              "Run data is saved locally in <code>/content/wandb/run-20221107_093424-3qfcou0d</code>"
            ]
          },
          "metadata": {}
        },
        {
          "output_type": "display_data",
          "data": {
            "text/plain": [
              "<IPython.core.display.HTML object>"
            ],
            "text/html": [
              "Syncing run <strong><a href=\"https://wandb.ai/iloncka-ds/recsys-app/runs/3qfcou0d\" target=\"_blank\">expert-sweep-27</a></strong> to <a href=\"https://wandb.ai/iloncka-ds/recsys-app\" target=\"_blank\">Weights & Biases</a> (<a href=\"https://wandb.me/run\" target=\"_blank\">docs</a>)<br/>Sweep page:  <a href=\"https://wandb.ai/iloncka-ds/recsys-app/sweeps/cmrz31in\" target=\"_blank\">https://wandb.ai/iloncka-ds/recsys-app/sweeps/cmrz31in</a>"
            ]
          },
          "metadata": {}
        },
        {
          "output_type": "stream",
          "name": "stdout",
          "text": [
            "\u001b[31mwindow size: 540, using too large window size may slow down training.\u001b[0m\n",
            "Training start time: \u001b[35m2022-11-07 09:34:30\u001b[0m\n"
          ]
        },
        {
          "output_type": "stream",
          "name": "stderr",
          "text": [
            "Item2vec iter0: 100%|██████████| 610/610 [00:00<00:00, 13281.31it/s]\n",
            "Item2vec iter1: 100%|██████████| 610/610 [00:02<00:00, 212.28it/s]\n",
            "Item2vec iter2: 100%|██████████| 610/610 [00:02<00:00, 207.58it/s]\n",
            "Item2vec iter3: 100%|██████████| 610/610 [00:02<00:00, 207.81it/s]\n",
            "Item2vec iter4: 100%|██████████| 610/610 [00:02<00:00, 215.60it/s]\n",
            "Item2vec iter5: 100%|██████████| 610/610 [00:02<00:00, 209.10it/s]\n"
          ]
        },
        {
          "output_type": "stream",
          "name": "stdout",
          "text": [
            "gensim word2vec training elapsed: 67.493s\n"
          ]
        },
        {
          "output_type": "stream",
          "name": "stderr",
          "text": [
            "eval_pred: 100%|██████████| 3/3 [00:00<00:00, 201.96it/s]\n",
            "eval_rec: 100%|██████████| 608/608 [00:00<00:00, 1525.95it/s]\n"
          ]
        },
        {
          "output_type": "display_data",
          "data": {
            "text/plain": [
              "<IPython.core.display.HTML object>"
            ],
            "text/html": [
              "Waiting for W&B process to finish... <strong style=\"color:green\">(success).</strong>"
            ]
          },
          "metadata": {}
        },
        {
          "output_type": "display_data",
          "data": {
            "text/plain": [
              "VBox(children=(Label(value='0.001 MB of 0.001 MB uploaded (0.000 MB deduped)\\r'), FloatProgress(value=1.0, max…"
            ],
            "application/vnd.jupyter.widget-view+json": {
              "version_major": 2,
              "version_minor": 0,
              "model_id": "7d851105f25a439b82faa4dbb72d1827"
            }
          },
          "metadata": {}
        },
        {
          "output_type": "display_data",
          "data": {
            "text/plain": [
              "<IPython.core.display.HTML object>"
            ],
            "text/html": [
              "<style>\n",
              "    table.wandb td:nth-child(1) { padding: 0 10px; text-align: left ; width: auto;} td:nth-child(2) {text-align: left ; width: 100%}\n",
              "    .wandb-row { display: flex; flex-direction: row; flex-wrap: wrap; justify-content: flex-start; width: 100% }\n",
              "    .wandb-col { display: flex; flex-direction: column; flex-basis: 100%; flex: 1; padding: 10px; }\n",
              "    </style>\n",
              "<div class=\"wandb-row\"><div class=\"wandb-col\"><h3>Run history:</h3><br/><table class=\"wandb\"><tr><td>loss</td><td>▁</td></tr><tr><td>map</td><td>▁</td></tr><tr><td>ndcg</td><td>▁</td></tr><tr><td>precision</td><td>▁</td></tr><tr><td>recall</td><td>▁</td></tr><tr><td>roc_auc</td><td>▁</td></tr></table><br/></div><div class=\"wandb-col\"><h3>Run summary:</h3><br/><table class=\"wandb\"><tr><td>loss</td><td>0.70278</td></tr><tr><td>map</td><td>0.03909</td></tr><tr><td>ndcg</td><td>0.05532</td></tr><tr><td>precision</td><td>0.01332</td></tr><tr><td>recall</td><td>0.02834</td></tr><tr><td>roc_auc</td><td>0.70826</td></tr></table><br/></div></div>"
            ]
          },
          "metadata": {}
        },
        {
          "output_type": "display_data",
          "data": {
            "text/plain": [
              "<IPython.core.display.HTML object>"
            ],
            "text/html": [
              "Synced <strong style=\"color:#cdcd00\">expert-sweep-27</strong>: <a href=\"https://wandb.ai/iloncka-ds/recsys-app/runs/3qfcou0d\" target=\"_blank\">https://wandb.ai/iloncka-ds/recsys-app/runs/3qfcou0d</a><br/>Synced 5 W&B file(s), 0 media file(s), 0 artifact file(s) and 0 other file(s)"
            ]
          },
          "metadata": {}
        },
        {
          "output_type": "display_data",
          "data": {
            "text/plain": [
              "<IPython.core.display.HTML object>"
            ],
            "text/html": [
              "Find logs at: <code>./wandb/run-20221107_093424-3qfcou0d/logs</code>"
            ]
          },
          "metadata": {}
        },
        {
          "output_type": "stream",
          "name": "stderr",
          "text": [
            "\u001b[34m\u001b[1mwandb\u001b[0m: Agent Starting Run: 5o32ehv1 with config:\n",
            "\u001b[34m\u001b[1mwandb\u001b[0m: \tembed_size: 64\n",
            "\u001b[34m\u001b[1mwandb\u001b[0m: \tn_epochs: 5\n",
            "\u001b[34m\u001b[1mwandb\u001b[0m: \tnorm_embed: False\n",
            "\u001b[34m\u001b[1mwandb\u001b[0m: \twindow_size: 540\n"
          ]
        },
        {
          "output_type": "display_data",
          "data": {
            "text/plain": [
              "<IPython.core.display.HTML object>"
            ],
            "text/html": [
              "Tracking run with wandb version 0.13.5"
            ]
          },
          "metadata": {}
        },
        {
          "output_type": "display_data",
          "data": {
            "text/plain": [
              "<IPython.core.display.HTML object>"
            ],
            "text/html": [
              "Run data is saved locally in <code>/content/wandb/run-20221107_093551-5o32ehv1</code>"
            ]
          },
          "metadata": {}
        },
        {
          "output_type": "display_data",
          "data": {
            "text/plain": [
              "<IPython.core.display.HTML object>"
            ],
            "text/html": [
              "Syncing run <strong><a href=\"https://wandb.ai/iloncka-ds/recsys-app/runs/5o32ehv1\" target=\"_blank\">cool-sweep-28</a></strong> to <a href=\"https://wandb.ai/iloncka-ds/recsys-app\" target=\"_blank\">Weights & Biases</a> (<a href=\"https://wandb.me/run\" target=\"_blank\">docs</a>)<br/>Sweep page:  <a href=\"https://wandb.ai/iloncka-ds/recsys-app/sweeps/cmrz31in\" target=\"_blank\">https://wandb.ai/iloncka-ds/recsys-app/sweeps/cmrz31in</a>"
            ]
          },
          "metadata": {}
        },
        {
          "output_type": "stream",
          "name": "stdout",
          "text": [
            "\u001b[31mwindow size: 540, using too large window size may slow down training.\u001b[0m\n",
            "Training start time: \u001b[35m2022-11-07 09:35:57\u001b[0m\n"
          ]
        },
        {
          "output_type": "stream",
          "name": "stderr",
          "text": [
            "Item2vec iter0: 100%|██████████| 610/610 [00:00<00:00, 10128.76it/s]\n",
            "Item2vec iter1: 100%|██████████| 610/610 [00:03<00:00, 165.73it/s]\n",
            "Item2vec iter2: 100%|██████████| 610/610 [00:03<00:00, 162.53it/s]\n",
            "Item2vec iter3: 100%|██████████| 610/610 [00:03<00:00, 164.55it/s]\n",
            "Item2vec iter4: 100%|██████████| 610/610 [00:03<00:00, 162.00it/s]\n",
            "Item2vec iter5: 100%|██████████| 610/610 [00:03<00:00, 158.69it/s]\n"
          ]
        },
        {
          "output_type": "stream",
          "name": "stdout",
          "text": [
            "gensim word2vec training elapsed: 87.644s\n"
          ]
        },
        {
          "output_type": "stream",
          "name": "stderr",
          "text": [
            "eval_pred: 100%|██████████| 3/3 [00:00<00:00, 206.75it/s]\n",
            "eval_rec: 100%|██████████| 608/608 [00:00<00:00, 1404.80it/s]\n"
          ]
        },
        {
          "output_type": "display_data",
          "data": {
            "text/plain": [
              "<IPython.core.display.HTML object>"
            ],
            "text/html": [
              "Waiting for W&B process to finish... <strong style=\"color:green\">(success).</strong>"
            ]
          },
          "metadata": {}
        },
        {
          "output_type": "display_data",
          "data": {
            "text/plain": [
              "VBox(children=(Label(value='0.001 MB of 0.001 MB uploaded (0.000 MB deduped)\\r'), FloatProgress(value=1.0, max…"
            ],
            "application/vnd.jupyter.widget-view+json": {
              "version_major": 2,
              "version_minor": 0,
              "model_id": "76e83175a16148b088fb29dcf857b932"
            }
          },
          "metadata": {}
        },
        {
          "output_type": "display_data",
          "data": {
            "text/plain": [
              "<IPython.core.display.HTML object>"
            ],
            "text/html": [
              "<style>\n",
              "    table.wandb td:nth-child(1) { padding: 0 10px; text-align: left ; width: auto;} td:nth-child(2) {text-align: left ; width: 100%}\n",
              "    .wandb-row { display: flex; flex-direction: row; flex-wrap: wrap; justify-content: flex-start; width: 100% }\n",
              "    .wandb-col { display: flex; flex-direction: column; flex-basis: 100%; flex: 1; padding: 10px; }\n",
              "    </style>\n",
              "<div class=\"wandb-row\"><div class=\"wandb-col\"><h3>Run history:</h3><br/><table class=\"wandb\"><tr><td>loss</td><td>▁</td></tr><tr><td>map</td><td>▁</td></tr><tr><td>ndcg</td><td>▁</td></tr><tr><td>precision</td><td>▁</td></tr><tr><td>recall</td><td>▁</td></tr><tr><td>roc_auc</td><td>▁</td></tr></table><br/></div><div class=\"wandb-col\"><h3>Run summary:</h3><br/><table class=\"wandb\"><tr><td>loss</td><td>1.11957</td></tr><tr><td>map</td><td>0.01595</td></tr><tr><td>ndcg</td><td>0.02308</td></tr><tr><td>precision</td><td>0.00625</td></tr><tr><td>recall</td><td>0.00843</td></tr><tr><td>roc_auc</td><td>0.51272</td></tr></table><br/></div></div>"
            ]
          },
          "metadata": {}
        },
        {
          "output_type": "display_data",
          "data": {
            "text/plain": [
              "<IPython.core.display.HTML object>"
            ],
            "text/html": [
              "Synced <strong style=\"color:#cdcd00\">cool-sweep-28</strong>: <a href=\"https://wandb.ai/iloncka-ds/recsys-app/runs/5o32ehv1\" target=\"_blank\">https://wandb.ai/iloncka-ds/recsys-app/runs/5o32ehv1</a><br/>Synced 5 W&B file(s), 0 media file(s), 0 artifact file(s) and 0 other file(s)"
            ]
          },
          "metadata": {}
        },
        {
          "output_type": "display_data",
          "data": {
            "text/plain": [
              "<IPython.core.display.HTML object>"
            ],
            "text/html": [
              "Find logs at: <code>./wandb/run-20221107_093551-5o32ehv1/logs</code>"
            ]
          },
          "metadata": {}
        },
        {
          "output_type": "stream",
          "name": "stderr",
          "text": [
            "\u001b[34m\u001b[1mwandb\u001b[0m: Agent Starting Run: wh9syooy with config:\n",
            "\u001b[34m\u001b[1mwandb\u001b[0m: \tembed_size: 64\n",
            "\u001b[34m\u001b[1mwandb\u001b[0m: \tn_epochs: 20\n",
            "\u001b[34m\u001b[1mwandb\u001b[0m: \tnorm_embed: True\n",
            "\u001b[34m\u001b[1mwandb\u001b[0m: \twindow_size: 1080\n"
          ]
        },
        {
          "output_type": "display_data",
          "data": {
            "text/plain": [
              "<IPython.core.display.HTML object>"
            ],
            "text/html": [
              "Tracking run with wandb version 0.13.5"
            ]
          },
          "metadata": {}
        },
        {
          "output_type": "display_data",
          "data": {
            "text/plain": [
              "<IPython.core.display.HTML object>"
            ],
            "text/html": [
              "Run data is saved locally in <code>/content/wandb/run-20221107_093739-wh9syooy</code>"
            ]
          },
          "metadata": {}
        },
        {
          "output_type": "display_data",
          "data": {
            "text/plain": [
              "<IPython.core.display.HTML object>"
            ],
            "text/html": [
              "Syncing run <strong><a href=\"https://wandb.ai/iloncka-ds/recsys-app/runs/wh9syooy\" target=\"_blank\">smooth-sweep-29</a></strong> to <a href=\"https://wandb.ai/iloncka-ds/recsys-app\" target=\"_blank\">Weights & Biases</a> (<a href=\"https://wandb.me/run\" target=\"_blank\">docs</a>)<br/>Sweep page:  <a href=\"https://wandb.ai/iloncka-ds/recsys-app/sweeps/cmrz31in\" target=\"_blank\">https://wandb.ai/iloncka-ds/recsys-app/sweeps/cmrz31in</a>"
            ]
          },
          "metadata": {}
        },
        {
          "output_type": "stream",
          "name": "stdout",
          "text": [
            "\u001b[31mwindow size: 1080, using too large window size may slow down training.\u001b[0m\n",
            "Training start time: \u001b[35m2022-11-07 09:37:44\u001b[0m\n"
          ]
        },
        {
          "output_type": "stream",
          "name": "stderr",
          "text": [
            "Item2vec iter0: 100%|██████████| 610/610 [00:00<00:00, 7978.66it/s]\n",
            "Item2vec iter1: 100%|██████████| 610/610 [00:04<00:00, 140.95it/s]\n",
            "Item2vec iter2: 100%|██████████| 610/610 [00:04<00:00, 150.15it/s]\n",
            "Item2vec iter3: 100%|██████████| 610/610 [00:04<00:00, 151.63it/s]\n",
            "Item2vec iter4: 100%|██████████| 610/610 [00:04<00:00, 144.96it/s]\n",
            "Item2vec iter5: 100%|██████████| 610/610 [00:04<00:00, 145.01it/s]\n",
            "Item2vec iter6: 100%|██████████| 610/610 [00:04<00:00, 147.01it/s]\n",
            "Item2vec iter7: 100%|██████████| 610/610 [00:04<00:00, 145.89it/s]\n",
            "Item2vec iter8: 100%|██████████| 610/610 [00:04<00:00, 141.27it/s]\n",
            "Item2vec iter9: 100%|██████████| 610/610 [00:04<00:00, 144.22it/s]\n",
            "Item2vec iter10: 100%|██████████| 610/610 [00:04<00:00, 141.47it/s]\n",
            "Item2vec iter11: 100%|██████████| 610/610 [00:04<00:00, 139.06it/s]\n",
            "Item2vec iter12: 100%|██████████| 610/610 [00:04<00:00, 137.31it/s]\n",
            "Item2vec iter13: 100%|██████████| 610/610 [00:04<00:00, 141.16it/s]\n",
            "Item2vec iter14: 100%|██████████| 610/610 [00:04<00:00, 141.28it/s]\n",
            "Item2vec iter15: 100%|██████████| 610/610 [00:04<00:00, 142.50it/s]\n",
            "Item2vec iter16: 100%|██████████| 610/610 [00:04<00:00, 141.22it/s]\n",
            "Item2vec iter17: 100%|██████████| 610/610 [00:04<00:00, 139.25it/s]\n",
            "Item2vec iter18: 100%|██████████| 610/610 [00:04<00:00, 136.02it/s]\n",
            "Item2vec iter19: 100%|██████████| 610/610 [00:04<00:00, 140.90it/s]\n",
            "Item2vec iter20: 100%|██████████| 610/610 [00:04<00:00, 139.47it/s]\n"
          ]
        },
        {
          "output_type": "stream",
          "name": "stdout",
          "text": [
            "gensim word2vec training elapsed: 444.523s\n"
          ]
        },
        {
          "output_type": "stream",
          "name": "stderr",
          "text": [
            "eval_pred: 100%|██████████| 3/3 [00:00<00:00, 203.16it/s]\n",
            "eval_rec: 100%|██████████| 608/608 [00:00<00:00, 1562.67it/s]\n"
          ]
        },
        {
          "output_type": "display_data",
          "data": {
            "text/plain": [
              "<IPython.core.display.HTML object>"
            ],
            "text/html": [
              "Waiting for W&B process to finish... <strong style=\"color:green\">(success).</strong>"
            ]
          },
          "metadata": {}
        },
        {
          "output_type": "display_data",
          "data": {
            "text/plain": [
              "VBox(children=(Label(value='0.001 MB of 0.001 MB uploaded (0.000 MB deduped)\\r'), FloatProgress(value=1.0, max…"
            ],
            "application/vnd.jupyter.widget-view+json": {
              "version_major": 2,
              "version_minor": 0,
              "model_id": "7aa0369ad7b44af9b85d62073a55f2c1"
            }
          },
          "metadata": {}
        },
        {
          "output_type": "display_data",
          "data": {
            "text/plain": [
              "<IPython.core.display.HTML object>"
            ],
            "text/html": [
              "<style>\n",
              "    table.wandb td:nth-child(1) { padding: 0 10px; text-align: left ; width: auto;} td:nth-child(2) {text-align: left ; width: 100%}\n",
              "    .wandb-row { display: flex; flex-direction: row; flex-wrap: wrap; justify-content: flex-start; width: 100% }\n",
              "    .wandb-col { display: flex; flex-direction: column; flex-basis: 100%; flex: 1; padding: 10px; }\n",
              "    </style>\n",
              "<div class=\"wandb-row\"><div class=\"wandb-col\"><h3>Run history:</h3><br/><table class=\"wandb\"><tr><td>loss</td><td>▁</td></tr><tr><td>map</td><td>▁</td></tr><tr><td>ndcg</td><td>▁</td></tr><tr><td>precision</td><td>▁</td></tr><tr><td>recall</td><td>▁</td></tr><tr><td>roc_auc</td><td>▁</td></tr></table><br/></div><div class=\"wandb-col\"><h3>Run summary:</h3><br/><table class=\"wandb\"><tr><td>loss</td><td>0.68418</td></tr><tr><td>map</td><td>0.08481</td></tr><tr><td>ndcg</td><td>0.12689</td></tr><tr><td>precision</td><td>0.03454</td></tr><tr><td>recall</td><td>0.04515</td></tr><tr><td>roc_auc</td><td>0.75065</td></tr></table><br/></div></div>"
            ]
          },
          "metadata": {}
        },
        {
          "output_type": "display_data",
          "data": {
            "text/plain": [
              "<IPython.core.display.HTML object>"
            ],
            "text/html": [
              "Synced <strong style=\"color:#cdcd00\">smooth-sweep-29</strong>: <a href=\"https://wandb.ai/iloncka-ds/recsys-app/runs/wh9syooy\" target=\"_blank\">https://wandb.ai/iloncka-ds/recsys-app/runs/wh9syooy</a><br/>Synced 5 W&B file(s), 0 media file(s), 0 artifact file(s) and 0 other file(s)"
            ]
          },
          "metadata": {}
        },
        {
          "output_type": "display_data",
          "data": {
            "text/plain": [
              "<IPython.core.display.HTML object>"
            ],
            "text/html": [
              "Find logs at: <code>./wandb/run-20221107_093739-wh9syooy/logs</code>"
            ]
          },
          "metadata": {}
        },
        {
          "output_type": "stream",
          "name": "stderr",
          "text": [
            "\u001b[34m\u001b[1mwandb\u001b[0m: Agent Starting Run: umt0hvn2 with config:\n",
            "\u001b[34m\u001b[1mwandb\u001b[0m: \tembed_size: 16\n",
            "\u001b[34m\u001b[1mwandb\u001b[0m: \tn_epochs: 20\n",
            "\u001b[34m\u001b[1mwandb\u001b[0m: \tnorm_embed: False\n",
            "\u001b[34m\u001b[1mwandb\u001b[0m: \twindow_size: 1080\n"
          ]
        },
        {
          "output_type": "display_data",
          "data": {
            "text/plain": [
              "<IPython.core.display.HTML object>"
            ],
            "text/html": [
              "Tracking run with wandb version 0.13.5"
            ]
          },
          "metadata": {}
        },
        {
          "output_type": "display_data",
          "data": {
            "text/plain": [
              "<IPython.core.display.HTML object>"
            ],
            "text/html": [
              "Run data is saved locally in <code>/content/wandb/run-20221107_094524-umt0hvn2</code>"
            ]
          },
          "metadata": {}
        },
        {
          "output_type": "display_data",
          "data": {
            "text/plain": [
              "<IPython.core.display.HTML object>"
            ],
            "text/html": [
              "Syncing run <strong><a href=\"https://wandb.ai/iloncka-ds/recsys-app/runs/umt0hvn2\" target=\"_blank\">brisk-sweep-30</a></strong> to <a href=\"https://wandb.ai/iloncka-ds/recsys-app\" target=\"_blank\">Weights & Biases</a> (<a href=\"https://wandb.me/run\" target=\"_blank\">docs</a>)<br/>Sweep page:  <a href=\"https://wandb.ai/iloncka-ds/recsys-app/sweeps/cmrz31in\" target=\"_blank\">https://wandb.ai/iloncka-ds/recsys-app/sweeps/cmrz31in</a>"
            ]
          },
          "metadata": {}
        },
        {
          "output_type": "stream",
          "name": "stdout",
          "text": [
            "\u001b[31mwindow size: 1080, using too large window size may slow down training.\u001b[0m\n",
            "Training start time: \u001b[35m2022-11-07 09:45:29\u001b[0m\n"
          ]
        },
        {
          "output_type": "stream",
          "name": "stderr",
          "text": [
            "Item2vec iter0: 100%|██████████| 610/610 [00:00<00:00, 12280.00it/s]\n",
            "Item2vec iter1: 100%|██████████| 610/610 [00:04<00:00, 150.52it/s]\n",
            "Item2vec iter2: 100%|██████████| 610/610 [00:03<00:00, 153.38it/s]\n",
            "Item2vec iter3: 100%|██████████| 610/610 [00:04<00:00, 151.02it/s]\n",
            "Item2vec iter4: 100%|██████████| 610/610 [00:03<00:00, 153.03it/s]\n",
            "Item2vec iter5: 100%|██████████| 610/610 [00:03<00:00, 152.61it/s]\n",
            "Item2vec iter6: 100%|██████████| 610/610 [00:04<00:00, 151.03it/s]\n",
            "Item2vec iter7: 100%|██████████| 610/610 [00:04<00:00, 147.80it/s]\n",
            "Item2vec iter8: 100%|██████████| 610/610 [00:04<00:00, 148.42it/s]\n",
            "Item2vec iter9: 100%|██████████| 610/610 [00:04<00:00, 143.46it/s]\n",
            "Item2vec iter10: 100%|██████████| 610/610 [00:04<00:00, 146.92it/s]\n",
            "Item2vec iter11: 100%|██████████| 610/610 [00:04<00:00, 145.96it/s]\n",
            "Item2vec iter12: 100%|██████████| 610/610 [00:04<00:00, 146.12it/s]\n",
            "Item2vec iter13: 100%|██████████| 610/610 [00:04<00:00, 143.57it/s]\n",
            "Item2vec iter14: 100%|██████████| 610/610 [00:04<00:00, 140.69it/s]\n",
            "Item2vec iter15: 100%|██████████| 610/610 [00:04<00:00, 143.63it/s]\n",
            "Item2vec iter16: 100%|██████████| 610/610 [00:04<00:00, 140.64it/s]\n",
            "Item2vec iter17: 100%|██████████| 610/610 [00:04<00:00, 139.38it/s]\n",
            "Item2vec iter18: 100%|██████████| 610/610 [00:04<00:00, 136.89it/s]\n",
            "Item2vec iter19: 100%|██████████| 610/610 [00:04<00:00, 139.07it/s]\n",
            "Item2vec iter20: 100%|██████████| 610/610 [00:04<00:00, 139.68it/s]\n"
          ]
        },
        {
          "output_type": "stream",
          "name": "stdout",
          "text": [
            "gensim word2vec training elapsed: 428.168s\n"
          ]
        },
        {
          "output_type": "stream",
          "name": "stderr",
          "text": [
            "eval_pred: 100%|██████████| 3/3 [00:00<00:00, 168.93it/s]\n",
            "eval_rec: 100%|██████████| 608/608 [00:00<00:00, 1299.83it/s]\n"
          ]
        },
        {
          "output_type": "display_data",
          "data": {
            "text/plain": [
              "<IPython.core.display.HTML object>"
            ],
            "text/html": [
              "Waiting for W&B process to finish... <strong style=\"color:green\">(success).</strong>"
            ]
          },
          "metadata": {}
        },
        {
          "output_type": "display_data",
          "data": {
            "text/plain": [
              "VBox(children=(Label(value='0.001 MB of 0.001 MB uploaded (0.000 MB deduped)\\r'), FloatProgress(value=1.0, max…"
            ],
            "application/vnd.jupyter.widget-view+json": {
              "version_major": 2,
              "version_minor": 0,
              "model_id": "8fc6032ebc014594abc6f8c3965efe62"
            }
          },
          "metadata": {}
        },
        {
          "output_type": "display_data",
          "data": {
            "text/plain": [
              "<IPython.core.display.HTML object>"
            ],
            "text/html": [
              "<style>\n",
              "    table.wandb td:nth-child(1) { padding: 0 10px; text-align: left ; width: auto;} td:nth-child(2) {text-align: left ; width: 100%}\n",
              "    .wandb-row { display: flex; flex-direction: row; flex-wrap: wrap; justify-content: flex-start; width: 100% }\n",
              "    .wandb-col { display: flex; flex-direction: column; flex-basis: 100%; flex: 1; padding: 10px; }\n",
              "    </style>\n",
              "<div class=\"wandb-row\"><div class=\"wandb-col\"><h3>Run history:</h3><br/><table class=\"wandb\"><tr><td>loss</td><td>▁</td></tr><tr><td>map</td><td>▁</td></tr><tr><td>ndcg</td><td>▁</td></tr><tr><td>precision</td><td>▁</td></tr><tr><td>recall</td><td>▁</td></tr><tr><td>roc_auc</td><td>▁</td></tr></table><br/></div><div class=\"wandb-col\"><h3>Run summary:</h3><br/><table class=\"wandb\"><tr><td>loss</td><td>1.185</td></tr><tr><td>map</td><td>0.00238</td></tr><tr><td>ndcg</td><td>0.0045</td></tr><tr><td>precision</td><td>0.00132</td></tr><tr><td>recall</td><td>0.00073</td></tr><tr><td>roc_auc</td><td>0.44435</td></tr></table><br/></div></div>"
            ]
          },
          "metadata": {}
        },
        {
          "output_type": "display_data",
          "data": {
            "text/plain": [
              "<IPython.core.display.HTML object>"
            ],
            "text/html": [
              "Synced <strong style=\"color:#cdcd00\">brisk-sweep-30</strong>: <a href=\"https://wandb.ai/iloncka-ds/recsys-app/runs/umt0hvn2\" target=\"_blank\">https://wandb.ai/iloncka-ds/recsys-app/runs/umt0hvn2</a><br/>Synced 5 W&B file(s), 0 media file(s), 0 artifact file(s) and 0 other file(s)"
            ]
          },
          "metadata": {}
        },
        {
          "output_type": "display_data",
          "data": {
            "text/plain": [
              "<IPython.core.display.HTML object>"
            ],
            "text/html": [
              "Find logs at: <code>./wandb/run-20221107_094524-umt0hvn2/logs</code>"
            ]
          },
          "metadata": {}
        }
      ],
      "source": [
        "MODEL_PATH = \"/content/drive/MyDrive/Colab Notebooks/00-MTC/models/Item2Vec\" \n",
        "MODEL_NAME = 'Item2Vec'\n",
        "cfg = {\n",
        "  \"embed_size\": 16,\n",
        "  \"n_epochs\": 3,\n",
        "  \"norm_embed\": False,\n",
        "  \"window_size\": None,\n",
        "  \"k\":10,\n",
        "}\n",
        "sweep_config = {\n",
        "    \"name\": \"Item2Vec-sweep\",\n",
        "    \"metric\": {\"name\": \"loss\", \"goal\": \"minimize\"},    \n",
        "    \"method\": \"random\",  \n",
        "    'early_terminate':{\n",
        "      'type': 'hyperband',\n",
        "      'min_iter': 10\n",
        "  },  \n",
        "    \"parameters\": {        \n",
        "          \"embed_size\": {\n",
        "              \"values\": [16, 32, 64]\n",
        "          },\n",
        "          'n_epochs': {\n",
        "              \"values\": [5, 10, 20]\n",
        "          }, \n",
        "          \"norm_embed\": {\n",
        "              \"values\": [False, True]\n",
        "          },\n",
        "                    \n",
        "          \"window_size\": {\n",
        "              \"values\": [2160, 1080, 540]\n",
        "          },\n",
        "          }\n",
        "}\n",
        "metrics = [\"loss\", \"roc_auc\", \"precision\", \"recall\", \"map\", \"ndcg\"]    \n",
        "sweep_id = wandb.sweep(sweep_config, \n",
        "                       project=\"recsys-app\", \n",
        "                       entity=\"iloncka-ds\")\n",
        "\n",
        "os.environ[\"WANDB_RUN_GROUP\"] = \"experiment-Item2Vec\"\n",
        "\n",
        "def train_with_wandb():  \n",
        "      with wandb.init(group=MODEL_NAME,\n",
        "                      notes=f\"{MODEL_NAME} hyperparameters search\",\n",
        "                      tags=[\"embed\", \"sequence\", \"hyperparameters\"]) as runwb:\n",
        "        # Overwrite the random run names chosen by wandb\n",
        "        sc = runwb.config\n",
        "        name_str = f'{MODEL_NAME}_met_{sweep_config[\"method\"]}' + \\\n",
        "          f'_n_epoch_{sc.n_epochs}_' + \\\n",
        "          f'emb_size_{sc.embed_size}_norm_embed_{sc.norm_embed}_' + \\\n",
        "          f'window_size_{sc.window_size}'\n",
        "        runwb.config.update({\"name\": name_str})\n",
        "        current_dir = os.path.join(MODEL_PATH, name_str)\n",
        "        if not os.path.isdir(current_dir):\n",
        "            os.mkdir(current_dir)  \n",
        "        # Rest of code.\n",
        "        model = Item2Vec(task=\"ranking\", data_info=data_info, \n",
        "                        embed_size=sc.embed_size, n_epochs=sc.n_epochs, \n",
        "                        norm_embed=sc.norm_embed, window_size=sc.window_size)\n",
        "        #NB!! param runwb is absent in official version of LibRecommender, for training unpublished changes to this library were used\n",
        "        model.fit(runwb, train_data, eval_data=eval_data, metrics=metrics)\n",
        "        #NB!! param runwb is absent in official version of LibRecommender, for training unpublished changes to this library were used\n",
        "        evaluate(runwb=runwb, model=model, data=test_data,\n",
        "                                    metrics=metrics)\n",
        "        # specify model saving directory\n",
        "        save_embed(current_dir, model)        \n",
        "        model.save(path=current_dir, model_name=\"Item2Vec\", manual=True, inference_only=True)\n",
        "wandb.agent(sweep_id, function=train_with_wandb, entity=\"iloncka-ds\", project=\"recsys-app\", count=30)"
      ]
    },
    {
      "cell_type": "markdown",
      "source": [
        "https://wandb.ai/iloncka-ds/recsys-app/groups/Item2Vec/workspace?workspace=user-iloncka-ds"
      ],
      "metadata": {
        "id": "9A7mHb-369Se"
      }
    }
  ],
  "metadata": {
    "colab": {
      "provenance": [],
      "collapsed_sections": []
    },
    "kernelspec": {
      "display_name": "Python 3",
      "language": "python",
      "name": "python3"
    },
    "language_info": {
      "codemirror_mode": {
        "name": "ipython",
        "version": 3
      },
      "file_extension": ".py",
      "mimetype": "text/x-python",
      "name": "python",
      "nbconvert_exporter": "python",
      "pygments_lexer": "ipython3",
      "version": "3.7.12"
    },
    "widgets": {
      "application/vnd.jupyter.widget-state+json": {
        "72b4bbc9236a4e619238705bea67cf0c": {
          "model_module": "@jupyter-widgets/controls",
          "model_name": "VBoxModel",
          "model_module_version": "1.5.0",
          "state": {
            "_dom_classes": [],
            "_model_module": "@jupyter-widgets/controls",
            "_model_module_version": "1.5.0",
            "_model_name": "VBoxModel",
            "_view_count": null,
            "_view_module": "@jupyter-widgets/controls",
            "_view_module_version": "1.5.0",
            "_view_name": "VBoxView",
            "box_style": "",
            "children": [
              "IPY_MODEL_6c4542d1c0964e85bd3180ad1f87033c",
              "IPY_MODEL_bde3569cac8b48759c196d5e1e03415e"
            ],
            "layout": "IPY_MODEL_b06a30850ae541c1a604351f422e0cf8"
          }
        },
        "6c4542d1c0964e85bd3180ad1f87033c": {
          "model_module": "@jupyter-widgets/controls",
          "model_name": "LabelModel",
          "model_module_version": "1.5.0",
          "state": {
            "_dom_classes": [],
            "_model_module": "@jupyter-widgets/controls",
            "_model_module_version": "1.5.0",
            "_model_name": "LabelModel",
            "_view_count": null,
            "_view_module": "@jupyter-widgets/controls",
            "_view_module_version": "1.5.0",
            "_view_name": "LabelView",
            "description": "",
            "description_tooltip": null,
            "layout": "IPY_MODEL_778451d8d06c44a2be8d2292f210f47d",
            "placeholder": "​",
            "style": "IPY_MODEL_4a90a9ad21704b87bb68b39a84271653",
            "value": "0.001 MB of 0.001 MB uploaded (0.000 MB deduped)\r"
          }
        },
        "bde3569cac8b48759c196d5e1e03415e": {
          "model_module": "@jupyter-widgets/controls",
          "model_name": "FloatProgressModel",
          "model_module_version": "1.5.0",
          "state": {
            "_dom_classes": [],
            "_model_module": "@jupyter-widgets/controls",
            "_model_module_version": "1.5.0",
            "_model_name": "FloatProgressModel",
            "_view_count": null,
            "_view_module": "@jupyter-widgets/controls",
            "_view_module_version": "1.5.0",
            "_view_name": "ProgressView",
            "bar_style": "",
            "description": "",
            "description_tooltip": null,
            "layout": "IPY_MODEL_1aac8efd712c4146b2c19eb1db1582fc",
            "max": 1,
            "min": 0,
            "orientation": "horizontal",
            "style": "IPY_MODEL_cc6c12ea45304983843bc790a366985c",
            "value": 1
          }
        },
        "b06a30850ae541c1a604351f422e0cf8": {
          "model_module": "@jupyter-widgets/base",
          "model_name": "LayoutModel",
          "model_module_version": "1.2.0",
          "state": {
            "_model_module": "@jupyter-widgets/base",
            "_model_module_version": "1.2.0",
            "_model_name": "LayoutModel",
            "_view_count": null,
            "_view_module": "@jupyter-widgets/base",
            "_view_module_version": "1.2.0",
            "_view_name": "LayoutView",
            "align_content": null,
            "align_items": null,
            "align_self": null,
            "border": null,
            "bottom": null,
            "display": null,
            "flex": null,
            "flex_flow": null,
            "grid_area": null,
            "grid_auto_columns": null,
            "grid_auto_flow": null,
            "grid_auto_rows": null,
            "grid_column": null,
            "grid_gap": null,
            "grid_row": null,
            "grid_template_areas": null,
            "grid_template_columns": null,
            "grid_template_rows": null,
            "height": null,
            "justify_content": null,
            "justify_items": null,
            "left": null,
            "margin": null,
            "max_height": null,
            "max_width": null,
            "min_height": null,
            "min_width": null,
            "object_fit": null,
            "object_position": null,
            "order": null,
            "overflow": null,
            "overflow_x": null,
            "overflow_y": null,
            "padding": null,
            "right": null,
            "top": null,
            "visibility": null,
            "width": null
          }
        },
        "778451d8d06c44a2be8d2292f210f47d": {
          "model_module": "@jupyter-widgets/base",
          "model_name": "LayoutModel",
          "model_module_version": "1.2.0",
          "state": {
            "_model_module": "@jupyter-widgets/base",
            "_model_module_version": "1.2.0",
            "_model_name": "LayoutModel",
            "_view_count": null,
            "_view_module": "@jupyter-widgets/base",
            "_view_module_version": "1.2.0",
            "_view_name": "LayoutView",
            "align_content": null,
            "align_items": null,
            "align_self": null,
            "border": null,
            "bottom": null,
            "display": null,
            "flex": null,
            "flex_flow": null,
            "grid_area": null,
            "grid_auto_columns": null,
            "grid_auto_flow": null,
            "grid_auto_rows": null,
            "grid_column": null,
            "grid_gap": null,
            "grid_row": null,
            "grid_template_areas": null,
            "grid_template_columns": null,
            "grid_template_rows": null,
            "height": null,
            "justify_content": null,
            "justify_items": null,
            "left": null,
            "margin": null,
            "max_height": null,
            "max_width": null,
            "min_height": null,
            "min_width": null,
            "object_fit": null,
            "object_position": null,
            "order": null,
            "overflow": null,
            "overflow_x": null,
            "overflow_y": null,
            "padding": null,
            "right": null,
            "top": null,
            "visibility": null,
            "width": null
          }
        },
        "4a90a9ad21704b87bb68b39a84271653": {
          "model_module": "@jupyter-widgets/controls",
          "model_name": "DescriptionStyleModel",
          "model_module_version": "1.5.0",
          "state": {
            "_model_module": "@jupyter-widgets/controls",
            "_model_module_version": "1.5.0",
            "_model_name": "DescriptionStyleModel",
            "_view_count": null,
            "_view_module": "@jupyter-widgets/base",
            "_view_module_version": "1.2.0",
            "_view_name": "StyleView",
            "description_width": ""
          }
        },
        "1aac8efd712c4146b2c19eb1db1582fc": {
          "model_module": "@jupyter-widgets/base",
          "model_name": "LayoutModel",
          "model_module_version": "1.2.0",
          "state": {
            "_model_module": "@jupyter-widgets/base",
            "_model_module_version": "1.2.0",
            "_model_name": "LayoutModel",
            "_view_count": null,
            "_view_module": "@jupyter-widgets/base",
            "_view_module_version": "1.2.0",
            "_view_name": "LayoutView",
            "align_content": null,
            "align_items": null,
            "align_self": null,
            "border": null,
            "bottom": null,
            "display": null,
            "flex": null,
            "flex_flow": null,
            "grid_area": null,
            "grid_auto_columns": null,
            "grid_auto_flow": null,
            "grid_auto_rows": null,
            "grid_column": null,
            "grid_gap": null,
            "grid_row": null,
            "grid_template_areas": null,
            "grid_template_columns": null,
            "grid_template_rows": null,
            "height": null,
            "justify_content": null,
            "justify_items": null,
            "left": null,
            "margin": null,
            "max_height": null,
            "max_width": null,
            "min_height": null,
            "min_width": null,
            "object_fit": null,
            "object_position": null,
            "order": null,
            "overflow": null,
            "overflow_x": null,
            "overflow_y": null,
            "padding": null,
            "right": null,
            "top": null,
            "visibility": null,
            "width": null
          }
        },
        "cc6c12ea45304983843bc790a366985c": {
          "model_module": "@jupyter-widgets/controls",
          "model_name": "ProgressStyleModel",
          "model_module_version": "1.5.0",
          "state": {
            "_model_module": "@jupyter-widgets/controls",
            "_model_module_version": "1.5.0",
            "_model_name": "ProgressStyleModel",
            "_view_count": null,
            "_view_module": "@jupyter-widgets/base",
            "_view_module_version": "1.2.0",
            "_view_name": "StyleView",
            "bar_color": null,
            "description_width": ""
          }
        },
        "0b723f00430c4945ba8512f473f7b0ad": {
          "model_module": "@jupyter-widgets/controls",
          "model_name": "VBoxModel",
          "model_module_version": "1.5.0",
          "state": {
            "_dom_classes": [],
            "_model_module": "@jupyter-widgets/controls",
            "_model_module_version": "1.5.0",
            "_model_name": "VBoxModel",
            "_view_count": null,
            "_view_module": "@jupyter-widgets/controls",
            "_view_module_version": "1.5.0",
            "_view_name": "VBoxView",
            "box_style": "",
            "children": [
              "IPY_MODEL_70c748cdf90a4f089447d0c57aabd8c6",
              "IPY_MODEL_caebcf9d4191448a848b06497e9d3aa4"
            ],
            "layout": "IPY_MODEL_d8f84961b3af4ea6a8c287502f86ebc9"
          }
        },
        "70c748cdf90a4f089447d0c57aabd8c6": {
          "model_module": "@jupyter-widgets/controls",
          "model_name": "LabelModel",
          "model_module_version": "1.5.0",
          "state": {
            "_dom_classes": [],
            "_model_module": "@jupyter-widgets/controls",
            "_model_module_version": "1.5.0",
            "_model_name": "LabelModel",
            "_view_count": null,
            "_view_module": "@jupyter-widgets/controls",
            "_view_module_version": "1.5.0",
            "_view_name": "LabelView",
            "description": "",
            "description_tooltip": null,
            "layout": "IPY_MODEL_ccbe49b5e4094f0d8b3bc8953e2fa382",
            "placeholder": "​",
            "style": "IPY_MODEL_d3ecef1acc9e483a8f546538dc062ba6",
            "value": "0.001 MB of 0.001 MB uploaded (0.000 MB deduped)\r"
          }
        },
        "caebcf9d4191448a848b06497e9d3aa4": {
          "model_module": "@jupyter-widgets/controls",
          "model_name": "FloatProgressModel",
          "model_module_version": "1.5.0",
          "state": {
            "_dom_classes": [],
            "_model_module": "@jupyter-widgets/controls",
            "_model_module_version": "1.5.0",
            "_model_name": "FloatProgressModel",
            "_view_count": null,
            "_view_module": "@jupyter-widgets/controls",
            "_view_module_version": "1.5.0",
            "_view_name": "ProgressView",
            "bar_style": "",
            "description": "",
            "description_tooltip": null,
            "layout": "IPY_MODEL_f59b84a01e994b189ef3c6a3bc4d210d",
            "max": 1,
            "min": 0,
            "orientation": "horizontal",
            "style": "IPY_MODEL_54ba5c0082124293af8052c2a1d4a6c2",
            "value": 1
          }
        },
        "d8f84961b3af4ea6a8c287502f86ebc9": {
          "model_module": "@jupyter-widgets/base",
          "model_name": "LayoutModel",
          "model_module_version": "1.2.0",
          "state": {
            "_model_module": "@jupyter-widgets/base",
            "_model_module_version": "1.2.0",
            "_model_name": "LayoutModel",
            "_view_count": null,
            "_view_module": "@jupyter-widgets/base",
            "_view_module_version": "1.2.0",
            "_view_name": "LayoutView",
            "align_content": null,
            "align_items": null,
            "align_self": null,
            "border": null,
            "bottom": null,
            "display": null,
            "flex": null,
            "flex_flow": null,
            "grid_area": null,
            "grid_auto_columns": null,
            "grid_auto_flow": null,
            "grid_auto_rows": null,
            "grid_column": null,
            "grid_gap": null,
            "grid_row": null,
            "grid_template_areas": null,
            "grid_template_columns": null,
            "grid_template_rows": null,
            "height": null,
            "justify_content": null,
            "justify_items": null,
            "left": null,
            "margin": null,
            "max_height": null,
            "max_width": null,
            "min_height": null,
            "min_width": null,
            "object_fit": null,
            "object_position": null,
            "order": null,
            "overflow": null,
            "overflow_x": null,
            "overflow_y": null,
            "padding": null,
            "right": null,
            "top": null,
            "visibility": null,
            "width": null
          }
        },
        "ccbe49b5e4094f0d8b3bc8953e2fa382": {
          "model_module": "@jupyter-widgets/base",
          "model_name": "LayoutModel",
          "model_module_version": "1.2.0",
          "state": {
            "_model_module": "@jupyter-widgets/base",
            "_model_module_version": "1.2.0",
            "_model_name": "LayoutModel",
            "_view_count": null,
            "_view_module": "@jupyter-widgets/base",
            "_view_module_version": "1.2.0",
            "_view_name": "LayoutView",
            "align_content": null,
            "align_items": null,
            "align_self": null,
            "border": null,
            "bottom": null,
            "display": null,
            "flex": null,
            "flex_flow": null,
            "grid_area": null,
            "grid_auto_columns": null,
            "grid_auto_flow": null,
            "grid_auto_rows": null,
            "grid_column": null,
            "grid_gap": null,
            "grid_row": null,
            "grid_template_areas": null,
            "grid_template_columns": null,
            "grid_template_rows": null,
            "height": null,
            "justify_content": null,
            "justify_items": null,
            "left": null,
            "margin": null,
            "max_height": null,
            "max_width": null,
            "min_height": null,
            "min_width": null,
            "object_fit": null,
            "object_position": null,
            "order": null,
            "overflow": null,
            "overflow_x": null,
            "overflow_y": null,
            "padding": null,
            "right": null,
            "top": null,
            "visibility": null,
            "width": null
          }
        },
        "d3ecef1acc9e483a8f546538dc062ba6": {
          "model_module": "@jupyter-widgets/controls",
          "model_name": "DescriptionStyleModel",
          "model_module_version": "1.5.0",
          "state": {
            "_model_module": "@jupyter-widgets/controls",
            "_model_module_version": "1.5.0",
            "_model_name": "DescriptionStyleModel",
            "_view_count": null,
            "_view_module": "@jupyter-widgets/base",
            "_view_module_version": "1.2.0",
            "_view_name": "StyleView",
            "description_width": ""
          }
        },
        "f59b84a01e994b189ef3c6a3bc4d210d": {
          "model_module": "@jupyter-widgets/base",
          "model_name": "LayoutModel",
          "model_module_version": "1.2.0",
          "state": {
            "_model_module": "@jupyter-widgets/base",
            "_model_module_version": "1.2.0",
            "_model_name": "LayoutModel",
            "_view_count": null,
            "_view_module": "@jupyter-widgets/base",
            "_view_module_version": "1.2.0",
            "_view_name": "LayoutView",
            "align_content": null,
            "align_items": null,
            "align_self": null,
            "border": null,
            "bottom": null,
            "display": null,
            "flex": null,
            "flex_flow": null,
            "grid_area": null,
            "grid_auto_columns": null,
            "grid_auto_flow": null,
            "grid_auto_rows": null,
            "grid_column": null,
            "grid_gap": null,
            "grid_row": null,
            "grid_template_areas": null,
            "grid_template_columns": null,
            "grid_template_rows": null,
            "height": null,
            "justify_content": null,
            "justify_items": null,
            "left": null,
            "margin": null,
            "max_height": null,
            "max_width": null,
            "min_height": null,
            "min_width": null,
            "object_fit": null,
            "object_position": null,
            "order": null,
            "overflow": null,
            "overflow_x": null,
            "overflow_y": null,
            "padding": null,
            "right": null,
            "top": null,
            "visibility": null,
            "width": null
          }
        },
        "54ba5c0082124293af8052c2a1d4a6c2": {
          "model_module": "@jupyter-widgets/controls",
          "model_name": "ProgressStyleModel",
          "model_module_version": "1.5.0",
          "state": {
            "_model_module": "@jupyter-widgets/controls",
            "_model_module_version": "1.5.0",
            "_model_name": "ProgressStyleModel",
            "_view_count": null,
            "_view_module": "@jupyter-widgets/base",
            "_view_module_version": "1.2.0",
            "_view_name": "StyleView",
            "bar_color": null,
            "description_width": ""
          }
        },
        "aeb494a303704cf28298f4b860d08e76": {
          "model_module": "@jupyter-widgets/controls",
          "model_name": "VBoxModel",
          "model_module_version": "1.5.0",
          "state": {
            "_dom_classes": [],
            "_model_module": "@jupyter-widgets/controls",
            "_model_module_version": "1.5.0",
            "_model_name": "VBoxModel",
            "_view_count": null,
            "_view_module": "@jupyter-widgets/controls",
            "_view_module_version": "1.5.0",
            "_view_name": "VBoxView",
            "box_style": "",
            "children": [
              "IPY_MODEL_1a1d77defef042b7bbfddf28a2bb6104",
              "IPY_MODEL_8d5cfe00bbe4400ba6ee7737b7eda473"
            ],
            "layout": "IPY_MODEL_e004eb147d9e4be5acac82ef22ed05ba"
          }
        },
        "1a1d77defef042b7bbfddf28a2bb6104": {
          "model_module": "@jupyter-widgets/controls",
          "model_name": "LabelModel",
          "model_module_version": "1.5.0",
          "state": {
            "_dom_classes": [],
            "_model_module": "@jupyter-widgets/controls",
            "_model_module_version": "1.5.0",
            "_model_name": "LabelModel",
            "_view_count": null,
            "_view_module": "@jupyter-widgets/controls",
            "_view_module_version": "1.5.0",
            "_view_name": "LabelView",
            "description": "",
            "description_tooltip": null,
            "layout": "IPY_MODEL_d4e83abc448b4e6fa97277d1e5767797",
            "placeholder": "​",
            "style": "IPY_MODEL_167b51e715494007b73f8d83ec962304",
            "value": "0.001 MB of 0.001 MB uploaded (0.000 MB deduped)\r"
          }
        },
        "8d5cfe00bbe4400ba6ee7737b7eda473": {
          "model_module": "@jupyter-widgets/controls",
          "model_name": "FloatProgressModel",
          "model_module_version": "1.5.0",
          "state": {
            "_dom_classes": [],
            "_model_module": "@jupyter-widgets/controls",
            "_model_module_version": "1.5.0",
            "_model_name": "FloatProgressModel",
            "_view_count": null,
            "_view_module": "@jupyter-widgets/controls",
            "_view_module_version": "1.5.0",
            "_view_name": "ProgressView",
            "bar_style": "",
            "description": "",
            "description_tooltip": null,
            "layout": "IPY_MODEL_9275a1d4b7ee4e9cb493a2295d9a2ba8",
            "max": 1,
            "min": 0,
            "orientation": "horizontal",
            "style": "IPY_MODEL_c22936489cfa4fa5a4228363b1b171a9",
            "value": 1
          }
        },
        "e004eb147d9e4be5acac82ef22ed05ba": {
          "model_module": "@jupyter-widgets/base",
          "model_name": "LayoutModel",
          "model_module_version": "1.2.0",
          "state": {
            "_model_module": "@jupyter-widgets/base",
            "_model_module_version": "1.2.0",
            "_model_name": "LayoutModel",
            "_view_count": null,
            "_view_module": "@jupyter-widgets/base",
            "_view_module_version": "1.2.0",
            "_view_name": "LayoutView",
            "align_content": null,
            "align_items": null,
            "align_self": null,
            "border": null,
            "bottom": null,
            "display": null,
            "flex": null,
            "flex_flow": null,
            "grid_area": null,
            "grid_auto_columns": null,
            "grid_auto_flow": null,
            "grid_auto_rows": null,
            "grid_column": null,
            "grid_gap": null,
            "grid_row": null,
            "grid_template_areas": null,
            "grid_template_columns": null,
            "grid_template_rows": null,
            "height": null,
            "justify_content": null,
            "justify_items": null,
            "left": null,
            "margin": null,
            "max_height": null,
            "max_width": null,
            "min_height": null,
            "min_width": null,
            "object_fit": null,
            "object_position": null,
            "order": null,
            "overflow": null,
            "overflow_x": null,
            "overflow_y": null,
            "padding": null,
            "right": null,
            "top": null,
            "visibility": null,
            "width": null
          }
        },
        "d4e83abc448b4e6fa97277d1e5767797": {
          "model_module": "@jupyter-widgets/base",
          "model_name": "LayoutModel",
          "model_module_version": "1.2.0",
          "state": {
            "_model_module": "@jupyter-widgets/base",
            "_model_module_version": "1.2.0",
            "_model_name": "LayoutModel",
            "_view_count": null,
            "_view_module": "@jupyter-widgets/base",
            "_view_module_version": "1.2.0",
            "_view_name": "LayoutView",
            "align_content": null,
            "align_items": null,
            "align_self": null,
            "border": null,
            "bottom": null,
            "display": null,
            "flex": null,
            "flex_flow": null,
            "grid_area": null,
            "grid_auto_columns": null,
            "grid_auto_flow": null,
            "grid_auto_rows": null,
            "grid_column": null,
            "grid_gap": null,
            "grid_row": null,
            "grid_template_areas": null,
            "grid_template_columns": null,
            "grid_template_rows": null,
            "height": null,
            "justify_content": null,
            "justify_items": null,
            "left": null,
            "margin": null,
            "max_height": null,
            "max_width": null,
            "min_height": null,
            "min_width": null,
            "object_fit": null,
            "object_position": null,
            "order": null,
            "overflow": null,
            "overflow_x": null,
            "overflow_y": null,
            "padding": null,
            "right": null,
            "top": null,
            "visibility": null,
            "width": null
          }
        },
        "167b51e715494007b73f8d83ec962304": {
          "model_module": "@jupyter-widgets/controls",
          "model_name": "DescriptionStyleModel",
          "model_module_version": "1.5.0",
          "state": {
            "_model_module": "@jupyter-widgets/controls",
            "_model_module_version": "1.5.0",
            "_model_name": "DescriptionStyleModel",
            "_view_count": null,
            "_view_module": "@jupyter-widgets/base",
            "_view_module_version": "1.2.0",
            "_view_name": "StyleView",
            "description_width": ""
          }
        },
        "9275a1d4b7ee4e9cb493a2295d9a2ba8": {
          "model_module": "@jupyter-widgets/base",
          "model_name": "LayoutModel",
          "model_module_version": "1.2.0",
          "state": {
            "_model_module": "@jupyter-widgets/base",
            "_model_module_version": "1.2.0",
            "_model_name": "LayoutModel",
            "_view_count": null,
            "_view_module": "@jupyter-widgets/base",
            "_view_module_version": "1.2.0",
            "_view_name": "LayoutView",
            "align_content": null,
            "align_items": null,
            "align_self": null,
            "border": null,
            "bottom": null,
            "display": null,
            "flex": null,
            "flex_flow": null,
            "grid_area": null,
            "grid_auto_columns": null,
            "grid_auto_flow": null,
            "grid_auto_rows": null,
            "grid_column": null,
            "grid_gap": null,
            "grid_row": null,
            "grid_template_areas": null,
            "grid_template_columns": null,
            "grid_template_rows": null,
            "height": null,
            "justify_content": null,
            "justify_items": null,
            "left": null,
            "margin": null,
            "max_height": null,
            "max_width": null,
            "min_height": null,
            "min_width": null,
            "object_fit": null,
            "object_position": null,
            "order": null,
            "overflow": null,
            "overflow_x": null,
            "overflow_y": null,
            "padding": null,
            "right": null,
            "top": null,
            "visibility": null,
            "width": null
          }
        },
        "c22936489cfa4fa5a4228363b1b171a9": {
          "model_module": "@jupyter-widgets/controls",
          "model_name": "ProgressStyleModel",
          "model_module_version": "1.5.0",
          "state": {
            "_model_module": "@jupyter-widgets/controls",
            "_model_module_version": "1.5.0",
            "_model_name": "ProgressStyleModel",
            "_view_count": null,
            "_view_module": "@jupyter-widgets/base",
            "_view_module_version": "1.2.0",
            "_view_name": "StyleView",
            "bar_color": null,
            "description_width": ""
          }
        },
        "1cf3fa38516b47508071d92f0d1fc998": {
          "model_module": "@jupyter-widgets/controls",
          "model_name": "VBoxModel",
          "model_module_version": "1.5.0",
          "state": {
            "_dom_classes": [],
            "_model_module": "@jupyter-widgets/controls",
            "_model_module_version": "1.5.0",
            "_model_name": "VBoxModel",
            "_view_count": null,
            "_view_module": "@jupyter-widgets/controls",
            "_view_module_version": "1.5.0",
            "_view_name": "VBoxView",
            "box_style": "",
            "children": [
              "IPY_MODEL_ca7f45d284df4a49940aa717f442030b",
              "IPY_MODEL_f529918661b24456ae5de4296f286018"
            ],
            "layout": "IPY_MODEL_ea2e19e01da9464d89320bc214904b6c"
          }
        },
        "ca7f45d284df4a49940aa717f442030b": {
          "model_module": "@jupyter-widgets/controls",
          "model_name": "LabelModel",
          "model_module_version": "1.5.0",
          "state": {
            "_dom_classes": [],
            "_model_module": "@jupyter-widgets/controls",
            "_model_module_version": "1.5.0",
            "_model_name": "LabelModel",
            "_view_count": null,
            "_view_module": "@jupyter-widgets/controls",
            "_view_module_version": "1.5.0",
            "_view_name": "LabelView",
            "description": "",
            "description_tooltip": null,
            "layout": "IPY_MODEL_af4c864c7e9945f5b57f55661ed20b1d",
            "placeholder": "​",
            "style": "IPY_MODEL_66b3dff4ff864bb3b3ce105b8b34d635",
            "value": "0.001 MB of 0.001 MB uploaded (0.000 MB deduped)\r"
          }
        },
        "f529918661b24456ae5de4296f286018": {
          "model_module": "@jupyter-widgets/controls",
          "model_name": "FloatProgressModel",
          "model_module_version": "1.5.0",
          "state": {
            "_dom_classes": [],
            "_model_module": "@jupyter-widgets/controls",
            "_model_module_version": "1.5.0",
            "_model_name": "FloatProgressModel",
            "_view_count": null,
            "_view_module": "@jupyter-widgets/controls",
            "_view_module_version": "1.5.0",
            "_view_name": "ProgressView",
            "bar_style": "",
            "description": "",
            "description_tooltip": null,
            "layout": "IPY_MODEL_e9dc3d26f5a347abbe3f4ea35b06aebb",
            "max": 1,
            "min": 0,
            "orientation": "horizontal",
            "style": "IPY_MODEL_e47659c1bf284a4e9f19f92560e683a3",
            "value": 1
          }
        },
        "ea2e19e01da9464d89320bc214904b6c": {
          "model_module": "@jupyter-widgets/base",
          "model_name": "LayoutModel",
          "model_module_version": "1.2.0",
          "state": {
            "_model_module": "@jupyter-widgets/base",
            "_model_module_version": "1.2.0",
            "_model_name": "LayoutModel",
            "_view_count": null,
            "_view_module": "@jupyter-widgets/base",
            "_view_module_version": "1.2.0",
            "_view_name": "LayoutView",
            "align_content": null,
            "align_items": null,
            "align_self": null,
            "border": null,
            "bottom": null,
            "display": null,
            "flex": null,
            "flex_flow": null,
            "grid_area": null,
            "grid_auto_columns": null,
            "grid_auto_flow": null,
            "grid_auto_rows": null,
            "grid_column": null,
            "grid_gap": null,
            "grid_row": null,
            "grid_template_areas": null,
            "grid_template_columns": null,
            "grid_template_rows": null,
            "height": null,
            "justify_content": null,
            "justify_items": null,
            "left": null,
            "margin": null,
            "max_height": null,
            "max_width": null,
            "min_height": null,
            "min_width": null,
            "object_fit": null,
            "object_position": null,
            "order": null,
            "overflow": null,
            "overflow_x": null,
            "overflow_y": null,
            "padding": null,
            "right": null,
            "top": null,
            "visibility": null,
            "width": null
          }
        },
        "af4c864c7e9945f5b57f55661ed20b1d": {
          "model_module": "@jupyter-widgets/base",
          "model_name": "LayoutModel",
          "model_module_version": "1.2.0",
          "state": {
            "_model_module": "@jupyter-widgets/base",
            "_model_module_version": "1.2.0",
            "_model_name": "LayoutModel",
            "_view_count": null,
            "_view_module": "@jupyter-widgets/base",
            "_view_module_version": "1.2.0",
            "_view_name": "LayoutView",
            "align_content": null,
            "align_items": null,
            "align_self": null,
            "border": null,
            "bottom": null,
            "display": null,
            "flex": null,
            "flex_flow": null,
            "grid_area": null,
            "grid_auto_columns": null,
            "grid_auto_flow": null,
            "grid_auto_rows": null,
            "grid_column": null,
            "grid_gap": null,
            "grid_row": null,
            "grid_template_areas": null,
            "grid_template_columns": null,
            "grid_template_rows": null,
            "height": null,
            "justify_content": null,
            "justify_items": null,
            "left": null,
            "margin": null,
            "max_height": null,
            "max_width": null,
            "min_height": null,
            "min_width": null,
            "object_fit": null,
            "object_position": null,
            "order": null,
            "overflow": null,
            "overflow_x": null,
            "overflow_y": null,
            "padding": null,
            "right": null,
            "top": null,
            "visibility": null,
            "width": null
          }
        },
        "66b3dff4ff864bb3b3ce105b8b34d635": {
          "model_module": "@jupyter-widgets/controls",
          "model_name": "DescriptionStyleModel",
          "model_module_version": "1.5.0",
          "state": {
            "_model_module": "@jupyter-widgets/controls",
            "_model_module_version": "1.5.0",
            "_model_name": "DescriptionStyleModel",
            "_view_count": null,
            "_view_module": "@jupyter-widgets/base",
            "_view_module_version": "1.2.0",
            "_view_name": "StyleView",
            "description_width": ""
          }
        },
        "e9dc3d26f5a347abbe3f4ea35b06aebb": {
          "model_module": "@jupyter-widgets/base",
          "model_name": "LayoutModel",
          "model_module_version": "1.2.0",
          "state": {
            "_model_module": "@jupyter-widgets/base",
            "_model_module_version": "1.2.0",
            "_model_name": "LayoutModel",
            "_view_count": null,
            "_view_module": "@jupyter-widgets/base",
            "_view_module_version": "1.2.0",
            "_view_name": "LayoutView",
            "align_content": null,
            "align_items": null,
            "align_self": null,
            "border": null,
            "bottom": null,
            "display": null,
            "flex": null,
            "flex_flow": null,
            "grid_area": null,
            "grid_auto_columns": null,
            "grid_auto_flow": null,
            "grid_auto_rows": null,
            "grid_column": null,
            "grid_gap": null,
            "grid_row": null,
            "grid_template_areas": null,
            "grid_template_columns": null,
            "grid_template_rows": null,
            "height": null,
            "justify_content": null,
            "justify_items": null,
            "left": null,
            "margin": null,
            "max_height": null,
            "max_width": null,
            "min_height": null,
            "min_width": null,
            "object_fit": null,
            "object_position": null,
            "order": null,
            "overflow": null,
            "overflow_x": null,
            "overflow_y": null,
            "padding": null,
            "right": null,
            "top": null,
            "visibility": null,
            "width": null
          }
        },
        "e47659c1bf284a4e9f19f92560e683a3": {
          "model_module": "@jupyter-widgets/controls",
          "model_name": "ProgressStyleModel",
          "model_module_version": "1.5.0",
          "state": {
            "_model_module": "@jupyter-widgets/controls",
            "_model_module_version": "1.5.0",
            "_model_name": "ProgressStyleModel",
            "_view_count": null,
            "_view_module": "@jupyter-widgets/base",
            "_view_module_version": "1.2.0",
            "_view_name": "StyleView",
            "bar_color": null,
            "description_width": ""
          }
        },
        "05798f3d6f814334ae7c9e7d39ef3c54": {
          "model_module": "@jupyter-widgets/controls",
          "model_name": "VBoxModel",
          "model_module_version": "1.5.0",
          "state": {
            "_dom_classes": [],
            "_model_module": "@jupyter-widgets/controls",
            "_model_module_version": "1.5.0",
            "_model_name": "VBoxModel",
            "_view_count": null,
            "_view_module": "@jupyter-widgets/controls",
            "_view_module_version": "1.5.0",
            "_view_name": "VBoxView",
            "box_style": "",
            "children": [
              "IPY_MODEL_423934e14ce24256aafd5af608987976",
              "IPY_MODEL_58cc06abe6784bcd9a8b1331c58470c7"
            ],
            "layout": "IPY_MODEL_641c4bdd912041a3b9a609465e16dc3f"
          }
        },
        "423934e14ce24256aafd5af608987976": {
          "model_module": "@jupyter-widgets/controls",
          "model_name": "LabelModel",
          "model_module_version": "1.5.0",
          "state": {
            "_dom_classes": [],
            "_model_module": "@jupyter-widgets/controls",
            "_model_module_version": "1.5.0",
            "_model_name": "LabelModel",
            "_view_count": null,
            "_view_module": "@jupyter-widgets/controls",
            "_view_module_version": "1.5.0",
            "_view_name": "LabelView",
            "description": "",
            "description_tooltip": null,
            "layout": "IPY_MODEL_ad528396cb7a4cc0b2ab22117bfefdfd",
            "placeholder": "​",
            "style": "IPY_MODEL_40f631f046ff481386da7ea0cf188bbe",
            "value": "0.001 MB of 0.010 MB uploaded (0.000 MB deduped)\r"
          }
        },
        "58cc06abe6784bcd9a8b1331c58470c7": {
          "model_module": "@jupyter-widgets/controls",
          "model_name": "FloatProgressModel",
          "model_module_version": "1.5.0",
          "state": {
            "_dom_classes": [],
            "_model_module": "@jupyter-widgets/controls",
            "_model_module_version": "1.5.0",
            "_model_name": "FloatProgressModel",
            "_view_count": null,
            "_view_module": "@jupyter-widgets/controls",
            "_view_module_version": "1.5.0",
            "_view_name": "ProgressView",
            "bar_style": "",
            "description": "",
            "description_tooltip": null,
            "layout": "IPY_MODEL_29e98f5cd3674af5834676134b0fcf07",
            "max": 1,
            "min": 0,
            "orientation": "horizontal",
            "style": "IPY_MODEL_93f869c831cb4045bacb98188e19732b",
            "value": 0.05739514348785872
          }
        },
        "641c4bdd912041a3b9a609465e16dc3f": {
          "model_module": "@jupyter-widgets/base",
          "model_name": "LayoutModel",
          "model_module_version": "1.2.0",
          "state": {
            "_model_module": "@jupyter-widgets/base",
            "_model_module_version": "1.2.0",
            "_model_name": "LayoutModel",
            "_view_count": null,
            "_view_module": "@jupyter-widgets/base",
            "_view_module_version": "1.2.0",
            "_view_name": "LayoutView",
            "align_content": null,
            "align_items": null,
            "align_self": null,
            "border": null,
            "bottom": null,
            "display": null,
            "flex": null,
            "flex_flow": null,
            "grid_area": null,
            "grid_auto_columns": null,
            "grid_auto_flow": null,
            "grid_auto_rows": null,
            "grid_column": null,
            "grid_gap": null,
            "grid_row": null,
            "grid_template_areas": null,
            "grid_template_columns": null,
            "grid_template_rows": null,
            "height": null,
            "justify_content": null,
            "justify_items": null,
            "left": null,
            "margin": null,
            "max_height": null,
            "max_width": null,
            "min_height": null,
            "min_width": null,
            "object_fit": null,
            "object_position": null,
            "order": null,
            "overflow": null,
            "overflow_x": null,
            "overflow_y": null,
            "padding": null,
            "right": null,
            "top": null,
            "visibility": null,
            "width": null
          }
        },
        "ad528396cb7a4cc0b2ab22117bfefdfd": {
          "model_module": "@jupyter-widgets/base",
          "model_name": "LayoutModel",
          "model_module_version": "1.2.0",
          "state": {
            "_model_module": "@jupyter-widgets/base",
            "_model_module_version": "1.2.0",
            "_model_name": "LayoutModel",
            "_view_count": null,
            "_view_module": "@jupyter-widgets/base",
            "_view_module_version": "1.2.0",
            "_view_name": "LayoutView",
            "align_content": null,
            "align_items": null,
            "align_self": null,
            "border": null,
            "bottom": null,
            "display": null,
            "flex": null,
            "flex_flow": null,
            "grid_area": null,
            "grid_auto_columns": null,
            "grid_auto_flow": null,
            "grid_auto_rows": null,
            "grid_column": null,
            "grid_gap": null,
            "grid_row": null,
            "grid_template_areas": null,
            "grid_template_columns": null,
            "grid_template_rows": null,
            "height": null,
            "justify_content": null,
            "justify_items": null,
            "left": null,
            "margin": null,
            "max_height": null,
            "max_width": null,
            "min_height": null,
            "min_width": null,
            "object_fit": null,
            "object_position": null,
            "order": null,
            "overflow": null,
            "overflow_x": null,
            "overflow_y": null,
            "padding": null,
            "right": null,
            "top": null,
            "visibility": null,
            "width": null
          }
        },
        "40f631f046ff481386da7ea0cf188bbe": {
          "model_module": "@jupyter-widgets/controls",
          "model_name": "DescriptionStyleModel",
          "model_module_version": "1.5.0",
          "state": {
            "_model_module": "@jupyter-widgets/controls",
            "_model_module_version": "1.5.0",
            "_model_name": "DescriptionStyleModel",
            "_view_count": null,
            "_view_module": "@jupyter-widgets/base",
            "_view_module_version": "1.2.0",
            "_view_name": "StyleView",
            "description_width": ""
          }
        },
        "29e98f5cd3674af5834676134b0fcf07": {
          "model_module": "@jupyter-widgets/base",
          "model_name": "LayoutModel",
          "model_module_version": "1.2.0",
          "state": {
            "_model_module": "@jupyter-widgets/base",
            "_model_module_version": "1.2.0",
            "_model_name": "LayoutModel",
            "_view_count": null,
            "_view_module": "@jupyter-widgets/base",
            "_view_module_version": "1.2.0",
            "_view_name": "LayoutView",
            "align_content": null,
            "align_items": null,
            "align_self": null,
            "border": null,
            "bottom": null,
            "display": null,
            "flex": null,
            "flex_flow": null,
            "grid_area": null,
            "grid_auto_columns": null,
            "grid_auto_flow": null,
            "grid_auto_rows": null,
            "grid_column": null,
            "grid_gap": null,
            "grid_row": null,
            "grid_template_areas": null,
            "grid_template_columns": null,
            "grid_template_rows": null,
            "height": null,
            "justify_content": null,
            "justify_items": null,
            "left": null,
            "margin": null,
            "max_height": null,
            "max_width": null,
            "min_height": null,
            "min_width": null,
            "object_fit": null,
            "object_position": null,
            "order": null,
            "overflow": null,
            "overflow_x": null,
            "overflow_y": null,
            "padding": null,
            "right": null,
            "top": null,
            "visibility": null,
            "width": null
          }
        },
        "93f869c831cb4045bacb98188e19732b": {
          "model_module": "@jupyter-widgets/controls",
          "model_name": "ProgressStyleModel",
          "model_module_version": "1.5.0",
          "state": {
            "_model_module": "@jupyter-widgets/controls",
            "_model_module_version": "1.5.0",
            "_model_name": "ProgressStyleModel",
            "_view_count": null,
            "_view_module": "@jupyter-widgets/base",
            "_view_module_version": "1.2.0",
            "_view_name": "StyleView",
            "bar_color": null,
            "description_width": ""
          }
        },
        "517ddea381e347b79c4d19ea655e7bee": {
          "model_module": "@jupyter-widgets/controls",
          "model_name": "VBoxModel",
          "model_module_version": "1.5.0",
          "state": {
            "_dom_classes": [],
            "_model_module": "@jupyter-widgets/controls",
            "_model_module_version": "1.5.0",
            "_model_name": "VBoxModel",
            "_view_count": null,
            "_view_module": "@jupyter-widgets/controls",
            "_view_module_version": "1.5.0",
            "_view_name": "VBoxView",
            "box_style": "",
            "children": [
              "IPY_MODEL_4250085b9f9649d899206c680961cb54",
              "IPY_MODEL_72fa6c2ba4914ecfa454fdfc98abb55b"
            ],
            "layout": "IPY_MODEL_9cbe20448c07425593860bb9b0ab2e42"
          }
        },
        "4250085b9f9649d899206c680961cb54": {
          "model_module": "@jupyter-widgets/controls",
          "model_name": "LabelModel",
          "model_module_version": "1.5.0",
          "state": {
            "_dom_classes": [],
            "_model_module": "@jupyter-widgets/controls",
            "_model_module_version": "1.5.0",
            "_model_name": "LabelModel",
            "_view_count": null,
            "_view_module": "@jupyter-widgets/controls",
            "_view_module_version": "1.5.0",
            "_view_name": "LabelView",
            "description": "",
            "description_tooltip": null,
            "layout": "IPY_MODEL_cf1452382539467d9324d2d38ed49939",
            "placeholder": "​",
            "style": "IPY_MODEL_53bf752f6b9d4279a2047e3087951e34",
            "value": "0.001 MB of 0.008 MB uploaded (0.000 MB deduped)\r"
          }
        },
        "72fa6c2ba4914ecfa454fdfc98abb55b": {
          "model_module": "@jupyter-widgets/controls",
          "model_name": "FloatProgressModel",
          "model_module_version": "1.5.0",
          "state": {
            "_dom_classes": [],
            "_model_module": "@jupyter-widgets/controls",
            "_model_module_version": "1.5.0",
            "_model_name": "FloatProgressModel",
            "_view_count": null,
            "_view_module": "@jupyter-widgets/controls",
            "_view_module_version": "1.5.0",
            "_view_name": "ProgressView",
            "bar_style": "",
            "description": "",
            "description_tooltip": null,
            "layout": "IPY_MODEL_bc1b39b969284363a50a4488d8580ac7",
            "max": 1,
            "min": 0,
            "orientation": "horizontal",
            "style": "IPY_MODEL_28b0e1ebcaf4483b822c17e52e3e7444",
            "value": 0.067883046237534
          }
        },
        "9cbe20448c07425593860bb9b0ab2e42": {
          "model_module": "@jupyter-widgets/base",
          "model_name": "LayoutModel",
          "model_module_version": "1.2.0",
          "state": {
            "_model_module": "@jupyter-widgets/base",
            "_model_module_version": "1.2.0",
            "_model_name": "LayoutModel",
            "_view_count": null,
            "_view_module": "@jupyter-widgets/base",
            "_view_module_version": "1.2.0",
            "_view_name": "LayoutView",
            "align_content": null,
            "align_items": null,
            "align_self": null,
            "border": null,
            "bottom": null,
            "display": null,
            "flex": null,
            "flex_flow": null,
            "grid_area": null,
            "grid_auto_columns": null,
            "grid_auto_flow": null,
            "grid_auto_rows": null,
            "grid_column": null,
            "grid_gap": null,
            "grid_row": null,
            "grid_template_areas": null,
            "grid_template_columns": null,
            "grid_template_rows": null,
            "height": null,
            "justify_content": null,
            "justify_items": null,
            "left": null,
            "margin": null,
            "max_height": null,
            "max_width": null,
            "min_height": null,
            "min_width": null,
            "object_fit": null,
            "object_position": null,
            "order": null,
            "overflow": null,
            "overflow_x": null,
            "overflow_y": null,
            "padding": null,
            "right": null,
            "top": null,
            "visibility": null,
            "width": null
          }
        },
        "cf1452382539467d9324d2d38ed49939": {
          "model_module": "@jupyter-widgets/base",
          "model_name": "LayoutModel",
          "model_module_version": "1.2.0",
          "state": {
            "_model_module": "@jupyter-widgets/base",
            "_model_module_version": "1.2.0",
            "_model_name": "LayoutModel",
            "_view_count": null,
            "_view_module": "@jupyter-widgets/base",
            "_view_module_version": "1.2.0",
            "_view_name": "LayoutView",
            "align_content": null,
            "align_items": null,
            "align_self": null,
            "border": null,
            "bottom": null,
            "display": null,
            "flex": null,
            "flex_flow": null,
            "grid_area": null,
            "grid_auto_columns": null,
            "grid_auto_flow": null,
            "grid_auto_rows": null,
            "grid_column": null,
            "grid_gap": null,
            "grid_row": null,
            "grid_template_areas": null,
            "grid_template_columns": null,
            "grid_template_rows": null,
            "height": null,
            "justify_content": null,
            "justify_items": null,
            "left": null,
            "margin": null,
            "max_height": null,
            "max_width": null,
            "min_height": null,
            "min_width": null,
            "object_fit": null,
            "object_position": null,
            "order": null,
            "overflow": null,
            "overflow_x": null,
            "overflow_y": null,
            "padding": null,
            "right": null,
            "top": null,
            "visibility": null,
            "width": null
          }
        },
        "53bf752f6b9d4279a2047e3087951e34": {
          "model_module": "@jupyter-widgets/controls",
          "model_name": "DescriptionStyleModel",
          "model_module_version": "1.5.0",
          "state": {
            "_model_module": "@jupyter-widgets/controls",
            "_model_module_version": "1.5.0",
            "_model_name": "DescriptionStyleModel",
            "_view_count": null,
            "_view_module": "@jupyter-widgets/base",
            "_view_module_version": "1.2.0",
            "_view_name": "StyleView",
            "description_width": ""
          }
        },
        "bc1b39b969284363a50a4488d8580ac7": {
          "model_module": "@jupyter-widgets/base",
          "model_name": "LayoutModel",
          "model_module_version": "1.2.0",
          "state": {
            "_model_module": "@jupyter-widgets/base",
            "_model_module_version": "1.2.0",
            "_model_name": "LayoutModel",
            "_view_count": null,
            "_view_module": "@jupyter-widgets/base",
            "_view_module_version": "1.2.0",
            "_view_name": "LayoutView",
            "align_content": null,
            "align_items": null,
            "align_self": null,
            "border": null,
            "bottom": null,
            "display": null,
            "flex": null,
            "flex_flow": null,
            "grid_area": null,
            "grid_auto_columns": null,
            "grid_auto_flow": null,
            "grid_auto_rows": null,
            "grid_column": null,
            "grid_gap": null,
            "grid_row": null,
            "grid_template_areas": null,
            "grid_template_columns": null,
            "grid_template_rows": null,
            "height": null,
            "justify_content": null,
            "justify_items": null,
            "left": null,
            "margin": null,
            "max_height": null,
            "max_width": null,
            "min_height": null,
            "min_width": null,
            "object_fit": null,
            "object_position": null,
            "order": null,
            "overflow": null,
            "overflow_x": null,
            "overflow_y": null,
            "padding": null,
            "right": null,
            "top": null,
            "visibility": null,
            "width": null
          }
        },
        "28b0e1ebcaf4483b822c17e52e3e7444": {
          "model_module": "@jupyter-widgets/controls",
          "model_name": "ProgressStyleModel",
          "model_module_version": "1.5.0",
          "state": {
            "_model_module": "@jupyter-widgets/controls",
            "_model_module_version": "1.5.0",
            "_model_name": "ProgressStyleModel",
            "_view_count": null,
            "_view_module": "@jupyter-widgets/base",
            "_view_module_version": "1.2.0",
            "_view_name": "StyleView",
            "bar_color": null,
            "description_width": ""
          }
        },
        "c46f7492a3024c32b33d8bcbf3364065": {
          "model_module": "@jupyter-widgets/controls",
          "model_name": "VBoxModel",
          "model_module_version": "1.5.0",
          "state": {
            "_dom_classes": [],
            "_model_module": "@jupyter-widgets/controls",
            "_model_module_version": "1.5.0",
            "_model_name": "VBoxModel",
            "_view_count": null,
            "_view_module": "@jupyter-widgets/controls",
            "_view_module_version": "1.5.0",
            "_view_name": "VBoxView",
            "box_style": "",
            "children": [
              "IPY_MODEL_8b02c25c31164c84ab0edad3428f6b6f",
              "IPY_MODEL_9eeb302666e1495884e05f496b08e2c2"
            ],
            "layout": "IPY_MODEL_653055ffed344c1eb42722084473615f"
          }
        },
        "8b02c25c31164c84ab0edad3428f6b6f": {
          "model_module": "@jupyter-widgets/controls",
          "model_name": "LabelModel",
          "model_module_version": "1.5.0",
          "state": {
            "_dom_classes": [],
            "_model_module": "@jupyter-widgets/controls",
            "_model_module_version": "1.5.0",
            "_model_name": "LabelModel",
            "_view_count": null,
            "_view_module": "@jupyter-widgets/controls",
            "_view_module_version": "1.5.0",
            "_view_name": "LabelView",
            "description": "",
            "description_tooltip": null,
            "layout": "IPY_MODEL_adce135fe9304271a006ac19255cbee3",
            "placeholder": "​",
            "style": "IPY_MODEL_c1038bd22a844356bf6544e71bfdd537",
            "value": "0.001 MB of 0.009 MB uploaded (0.000 MB deduped)\r"
          }
        },
        "9eeb302666e1495884e05f496b08e2c2": {
          "model_module": "@jupyter-widgets/controls",
          "model_name": "FloatProgressModel",
          "model_module_version": "1.5.0",
          "state": {
            "_dom_classes": [],
            "_model_module": "@jupyter-widgets/controls",
            "_model_module_version": "1.5.0",
            "_model_name": "FloatProgressModel",
            "_view_count": null,
            "_view_module": "@jupyter-widgets/controls",
            "_view_module_version": "1.5.0",
            "_view_name": "ProgressView",
            "bar_style": "",
            "description": "",
            "description_tooltip": null,
            "layout": "IPY_MODEL_480047aeac8b4ec09ec52a9275f644f7",
            "max": 1,
            "min": 0,
            "orientation": "horizontal",
            "style": "IPY_MODEL_7cafadb4a0744ab0847da838514b7c24",
            "value": 0.06004618937644342
          }
        },
        "653055ffed344c1eb42722084473615f": {
          "model_module": "@jupyter-widgets/base",
          "model_name": "LayoutModel",
          "model_module_version": "1.2.0",
          "state": {
            "_model_module": "@jupyter-widgets/base",
            "_model_module_version": "1.2.0",
            "_model_name": "LayoutModel",
            "_view_count": null,
            "_view_module": "@jupyter-widgets/base",
            "_view_module_version": "1.2.0",
            "_view_name": "LayoutView",
            "align_content": null,
            "align_items": null,
            "align_self": null,
            "border": null,
            "bottom": null,
            "display": null,
            "flex": null,
            "flex_flow": null,
            "grid_area": null,
            "grid_auto_columns": null,
            "grid_auto_flow": null,
            "grid_auto_rows": null,
            "grid_column": null,
            "grid_gap": null,
            "grid_row": null,
            "grid_template_areas": null,
            "grid_template_columns": null,
            "grid_template_rows": null,
            "height": null,
            "justify_content": null,
            "justify_items": null,
            "left": null,
            "margin": null,
            "max_height": null,
            "max_width": null,
            "min_height": null,
            "min_width": null,
            "object_fit": null,
            "object_position": null,
            "order": null,
            "overflow": null,
            "overflow_x": null,
            "overflow_y": null,
            "padding": null,
            "right": null,
            "top": null,
            "visibility": null,
            "width": null
          }
        },
        "adce135fe9304271a006ac19255cbee3": {
          "model_module": "@jupyter-widgets/base",
          "model_name": "LayoutModel",
          "model_module_version": "1.2.0",
          "state": {
            "_model_module": "@jupyter-widgets/base",
            "_model_module_version": "1.2.0",
            "_model_name": "LayoutModel",
            "_view_count": null,
            "_view_module": "@jupyter-widgets/base",
            "_view_module_version": "1.2.0",
            "_view_name": "LayoutView",
            "align_content": null,
            "align_items": null,
            "align_self": null,
            "border": null,
            "bottom": null,
            "display": null,
            "flex": null,
            "flex_flow": null,
            "grid_area": null,
            "grid_auto_columns": null,
            "grid_auto_flow": null,
            "grid_auto_rows": null,
            "grid_column": null,
            "grid_gap": null,
            "grid_row": null,
            "grid_template_areas": null,
            "grid_template_columns": null,
            "grid_template_rows": null,
            "height": null,
            "justify_content": null,
            "justify_items": null,
            "left": null,
            "margin": null,
            "max_height": null,
            "max_width": null,
            "min_height": null,
            "min_width": null,
            "object_fit": null,
            "object_position": null,
            "order": null,
            "overflow": null,
            "overflow_x": null,
            "overflow_y": null,
            "padding": null,
            "right": null,
            "top": null,
            "visibility": null,
            "width": null
          }
        },
        "c1038bd22a844356bf6544e71bfdd537": {
          "model_module": "@jupyter-widgets/controls",
          "model_name": "DescriptionStyleModel",
          "model_module_version": "1.5.0",
          "state": {
            "_model_module": "@jupyter-widgets/controls",
            "_model_module_version": "1.5.0",
            "_model_name": "DescriptionStyleModel",
            "_view_count": null,
            "_view_module": "@jupyter-widgets/base",
            "_view_module_version": "1.2.0",
            "_view_name": "StyleView",
            "description_width": ""
          }
        },
        "480047aeac8b4ec09ec52a9275f644f7": {
          "model_module": "@jupyter-widgets/base",
          "model_name": "LayoutModel",
          "model_module_version": "1.2.0",
          "state": {
            "_model_module": "@jupyter-widgets/base",
            "_model_module_version": "1.2.0",
            "_model_name": "LayoutModel",
            "_view_count": null,
            "_view_module": "@jupyter-widgets/base",
            "_view_module_version": "1.2.0",
            "_view_name": "LayoutView",
            "align_content": null,
            "align_items": null,
            "align_self": null,
            "border": null,
            "bottom": null,
            "display": null,
            "flex": null,
            "flex_flow": null,
            "grid_area": null,
            "grid_auto_columns": null,
            "grid_auto_flow": null,
            "grid_auto_rows": null,
            "grid_column": null,
            "grid_gap": null,
            "grid_row": null,
            "grid_template_areas": null,
            "grid_template_columns": null,
            "grid_template_rows": null,
            "height": null,
            "justify_content": null,
            "justify_items": null,
            "left": null,
            "margin": null,
            "max_height": null,
            "max_width": null,
            "min_height": null,
            "min_width": null,
            "object_fit": null,
            "object_position": null,
            "order": null,
            "overflow": null,
            "overflow_x": null,
            "overflow_y": null,
            "padding": null,
            "right": null,
            "top": null,
            "visibility": null,
            "width": null
          }
        },
        "7cafadb4a0744ab0847da838514b7c24": {
          "model_module": "@jupyter-widgets/controls",
          "model_name": "ProgressStyleModel",
          "model_module_version": "1.5.0",
          "state": {
            "_model_module": "@jupyter-widgets/controls",
            "_model_module_version": "1.5.0",
            "_model_name": "ProgressStyleModel",
            "_view_count": null,
            "_view_module": "@jupyter-widgets/base",
            "_view_module_version": "1.2.0",
            "_view_name": "StyleView",
            "bar_color": null,
            "description_width": ""
          }
        },
        "8fc0a534023b4c459cd66ca73d0ef01c": {
          "model_module": "@jupyter-widgets/controls",
          "model_name": "VBoxModel",
          "model_module_version": "1.5.0",
          "state": {
            "_dom_classes": [],
            "_model_module": "@jupyter-widgets/controls",
            "_model_module_version": "1.5.0",
            "_model_name": "VBoxModel",
            "_view_count": null,
            "_view_module": "@jupyter-widgets/controls",
            "_view_module_version": "1.5.0",
            "_view_name": "VBoxView",
            "box_style": "",
            "children": [
              "IPY_MODEL_daa75043877d45ebb5c4bc858d2f7094",
              "IPY_MODEL_2edc7d3cdeeb440c82dee569e25e98f5"
            ],
            "layout": "IPY_MODEL_97681cbac1224b938e79d7c240147cd6"
          }
        },
        "daa75043877d45ebb5c4bc858d2f7094": {
          "model_module": "@jupyter-widgets/controls",
          "model_name": "LabelModel",
          "model_module_version": "1.5.0",
          "state": {
            "_dom_classes": [],
            "_model_module": "@jupyter-widgets/controls",
            "_model_module_version": "1.5.0",
            "_model_name": "LabelModel",
            "_view_count": null,
            "_view_module": "@jupyter-widgets/controls",
            "_view_module_version": "1.5.0",
            "_view_name": "LabelView",
            "description": "",
            "description_tooltip": null,
            "layout": "IPY_MODEL_5d4f3377f02a47848132345d3273925d",
            "placeholder": "​",
            "style": "IPY_MODEL_a74d7a0192f24f48b8a33d34be8b08c9",
            "value": "0.001 MB of 0.009 MB uploaded (0.000 MB deduped)\r"
          }
        },
        "2edc7d3cdeeb440c82dee569e25e98f5": {
          "model_module": "@jupyter-widgets/controls",
          "model_name": "FloatProgressModel",
          "model_module_version": "1.5.0",
          "state": {
            "_dom_classes": [],
            "_model_module": "@jupyter-widgets/controls",
            "_model_module_version": "1.5.0",
            "_model_name": "FloatProgressModel",
            "_view_count": null,
            "_view_module": "@jupyter-widgets/controls",
            "_view_module_version": "1.5.0",
            "_view_name": "ProgressView",
            "bar_style": "",
            "description": "",
            "description_tooltip": null,
            "layout": "IPY_MODEL_86b60db7ccd846dd9c0333ccf229138b",
            "max": 1,
            "min": 0,
            "orientation": "horizontal",
            "style": "IPY_MODEL_edb05bcdf0874de29b60977067d98a1e",
            "value": 0.060207055985526184
          }
        },
        "97681cbac1224b938e79d7c240147cd6": {
          "model_module": "@jupyter-widgets/base",
          "model_name": "LayoutModel",
          "model_module_version": "1.2.0",
          "state": {
            "_model_module": "@jupyter-widgets/base",
            "_model_module_version": "1.2.0",
            "_model_name": "LayoutModel",
            "_view_count": null,
            "_view_module": "@jupyter-widgets/base",
            "_view_module_version": "1.2.0",
            "_view_name": "LayoutView",
            "align_content": null,
            "align_items": null,
            "align_self": null,
            "border": null,
            "bottom": null,
            "display": null,
            "flex": null,
            "flex_flow": null,
            "grid_area": null,
            "grid_auto_columns": null,
            "grid_auto_flow": null,
            "grid_auto_rows": null,
            "grid_column": null,
            "grid_gap": null,
            "grid_row": null,
            "grid_template_areas": null,
            "grid_template_columns": null,
            "grid_template_rows": null,
            "height": null,
            "justify_content": null,
            "justify_items": null,
            "left": null,
            "margin": null,
            "max_height": null,
            "max_width": null,
            "min_height": null,
            "min_width": null,
            "object_fit": null,
            "object_position": null,
            "order": null,
            "overflow": null,
            "overflow_x": null,
            "overflow_y": null,
            "padding": null,
            "right": null,
            "top": null,
            "visibility": null,
            "width": null
          }
        },
        "5d4f3377f02a47848132345d3273925d": {
          "model_module": "@jupyter-widgets/base",
          "model_name": "LayoutModel",
          "model_module_version": "1.2.0",
          "state": {
            "_model_module": "@jupyter-widgets/base",
            "_model_module_version": "1.2.0",
            "_model_name": "LayoutModel",
            "_view_count": null,
            "_view_module": "@jupyter-widgets/base",
            "_view_module_version": "1.2.0",
            "_view_name": "LayoutView",
            "align_content": null,
            "align_items": null,
            "align_self": null,
            "border": null,
            "bottom": null,
            "display": null,
            "flex": null,
            "flex_flow": null,
            "grid_area": null,
            "grid_auto_columns": null,
            "grid_auto_flow": null,
            "grid_auto_rows": null,
            "grid_column": null,
            "grid_gap": null,
            "grid_row": null,
            "grid_template_areas": null,
            "grid_template_columns": null,
            "grid_template_rows": null,
            "height": null,
            "justify_content": null,
            "justify_items": null,
            "left": null,
            "margin": null,
            "max_height": null,
            "max_width": null,
            "min_height": null,
            "min_width": null,
            "object_fit": null,
            "object_position": null,
            "order": null,
            "overflow": null,
            "overflow_x": null,
            "overflow_y": null,
            "padding": null,
            "right": null,
            "top": null,
            "visibility": null,
            "width": null
          }
        },
        "a74d7a0192f24f48b8a33d34be8b08c9": {
          "model_module": "@jupyter-widgets/controls",
          "model_name": "DescriptionStyleModel",
          "model_module_version": "1.5.0",
          "state": {
            "_model_module": "@jupyter-widgets/controls",
            "_model_module_version": "1.5.0",
            "_model_name": "DescriptionStyleModel",
            "_view_count": null,
            "_view_module": "@jupyter-widgets/base",
            "_view_module_version": "1.2.0",
            "_view_name": "StyleView",
            "description_width": ""
          }
        },
        "86b60db7ccd846dd9c0333ccf229138b": {
          "model_module": "@jupyter-widgets/base",
          "model_name": "LayoutModel",
          "model_module_version": "1.2.0",
          "state": {
            "_model_module": "@jupyter-widgets/base",
            "_model_module_version": "1.2.0",
            "_model_name": "LayoutModel",
            "_view_count": null,
            "_view_module": "@jupyter-widgets/base",
            "_view_module_version": "1.2.0",
            "_view_name": "LayoutView",
            "align_content": null,
            "align_items": null,
            "align_self": null,
            "border": null,
            "bottom": null,
            "display": null,
            "flex": null,
            "flex_flow": null,
            "grid_area": null,
            "grid_auto_columns": null,
            "grid_auto_flow": null,
            "grid_auto_rows": null,
            "grid_column": null,
            "grid_gap": null,
            "grid_row": null,
            "grid_template_areas": null,
            "grid_template_columns": null,
            "grid_template_rows": null,
            "height": null,
            "justify_content": null,
            "justify_items": null,
            "left": null,
            "margin": null,
            "max_height": null,
            "max_width": null,
            "min_height": null,
            "min_width": null,
            "object_fit": null,
            "object_position": null,
            "order": null,
            "overflow": null,
            "overflow_x": null,
            "overflow_y": null,
            "padding": null,
            "right": null,
            "top": null,
            "visibility": null,
            "width": null
          }
        },
        "edb05bcdf0874de29b60977067d98a1e": {
          "model_module": "@jupyter-widgets/controls",
          "model_name": "ProgressStyleModel",
          "model_module_version": "1.5.0",
          "state": {
            "_model_module": "@jupyter-widgets/controls",
            "_model_module_version": "1.5.0",
            "_model_name": "ProgressStyleModel",
            "_view_count": null,
            "_view_module": "@jupyter-widgets/base",
            "_view_module_version": "1.2.0",
            "_view_name": "StyleView",
            "bar_color": null,
            "description_width": ""
          }
        },
        "efca4efd30184590968d50615cdb0f18": {
          "model_module": "@jupyter-widgets/controls",
          "model_name": "VBoxModel",
          "model_module_version": "1.5.0",
          "state": {
            "_dom_classes": [],
            "_model_module": "@jupyter-widgets/controls",
            "_model_module_version": "1.5.0",
            "_model_name": "VBoxModel",
            "_view_count": null,
            "_view_module": "@jupyter-widgets/controls",
            "_view_module_version": "1.5.0",
            "_view_name": "VBoxView",
            "box_style": "",
            "children": [
              "IPY_MODEL_bb5b2144942848668a7a03ca5f2dca47",
              "IPY_MODEL_244f18247b724c4a9cc1b6a5094b8752"
            ],
            "layout": "IPY_MODEL_af5d7e861d25425eb9ec6bba9ba82fa8"
          }
        },
        "bb5b2144942848668a7a03ca5f2dca47": {
          "model_module": "@jupyter-widgets/controls",
          "model_name": "LabelModel",
          "model_module_version": "1.5.0",
          "state": {
            "_dom_classes": [],
            "_model_module": "@jupyter-widgets/controls",
            "_model_module_version": "1.5.0",
            "_model_name": "LabelModel",
            "_view_count": null,
            "_view_module": "@jupyter-widgets/controls",
            "_view_module_version": "1.5.0",
            "_view_name": "LabelView",
            "description": "",
            "description_tooltip": null,
            "layout": "IPY_MODEL_dc4b9a5d33c9413a998de8fba9f06d40",
            "placeholder": "​",
            "style": "IPY_MODEL_f0480f7a17274d3fbce8c04543742d18",
            "value": "0.001 MB of 0.001 MB uploaded (0.000 MB deduped)\r"
          }
        },
        "244f18247b724c4a9cc1b6a5094b8752": {
          "model_module": "@jupyter-widgets/controls",
          "model_name": "FloatProgressModel",
          "model_module_version": "1.5.0",
          "state": {
            "_dom_classes": [],
            "_model_module": "@jupyter-widgets/controls",
            "_model_module_version": "1.5.0",
            "_model_name": "FloatProgressModel",
            "_view_count": null,
            "_view_module": "@jupyter-widgets/controls",
            "_view_module_version": "1.5.0",
            "_view_name": "ProgressView",
            "bar_style": "",
            "description": "",
            "description_tooltip": null,
            "layout": "IPY_MODEL_c52d4a9b316b49bcb5c03287dac54db9",
            "max": 1,
            "min": 0,
            "orientation": "horizontal",
            "style": "IPY_MODEL_b1d13c98daba4c9c85af154ce97e74a0",
            "value": 1
          }
        },
        "af5d7e861d25425eb9ec6bba9ba82fa8": {
          "model_module": "@jupyter-widgets/base",
          "model_name": "LayoutModel",
          "model_module_version": "1.2.0",
          "state": {
            "_model_module": "@jupyter-widgets/base",
            "_model_module_version": "1.2.0",
            "_model_name": "LayoutModel",
            "_view_count": null,
            "_view_module": "@jupyter-widgets/base",
            "_view_module_version": "1.2.0",
            "_view_name": "LayoutView",
            "align_content": null,
            "align_items": null,
            "align_self": null,
            "border": null,
            "bottom": null,
            "display": null,
            "flex": null,
            "flex_flow": null,
            "grid_area": null,
            "grid_auto_columns": null,
            "grid_auto_flow": null,
            "grid_auto_rows": null,
            "grid_column": null,
            "grid_gap": null,
            "grid_row": null,
            "grid_template_areas": null,
            "grid_template_columns": null,
            "grid_template_rows": null,
            "height": null,
            "justify_content": null,
            "justify_items": null,
            "left": null,
            "margin": null,
            "max_height": null,
            "max_width": null,
            "min_height": null,
            "min_width": null,
            "object_fit": null,
            "object_position": null,
            "order": null,
            "overflow": null,
            "overflow_x": null,
            "overflow_y": null,
            "padding": null,
            "right": null,
            "top": null,
            "visibility": null,
            "width": null
          }
        },
        "dc4b9a5d33c9413a998de8fba9f06d40": {
          "model_module": "@jupyter-widgets/base",
          "model_name": "LayoutModel",
          "model_module_version": "1.2.0",
          "state": {
            "_model_module": "@jupyter-widgets/base",
            "_model_module_version": "1.2.0",
            "_model_name": "LayoutModel",
            "_view_count": null,
            "_view_module": "@jupyter-widgets/base",
            "_view_module_version": "1.2.0",
            "_view_name": "LayoutView",
            "align_content": null,
            "align_items": null,
            "align_self": null,
            "border": null,
            "bottom": null,
            "display": null,
            "flex": null,
            "flex_flow": null,
            "grid_area": null,
            "grid_auto_columns": null,
            "grid_auto_flow": null,
            "grid_auto_rows": null,
            "grid_column": null,
            "grid_gap": null,
            "grid_row": null,
            "grid_template_areas": null,
            "grid_template_columns": null,
            "grid_template_rows": null,
            "height": null,
            "justify_content": null,
            "justify_items": null,
            "left": null,
            "margin": null,
            "max_height": null,
            "max_width": null,
            "min_height": null,
            "min_width": null,
            "object_fit": null,
            "object_position": null,
            "order": null,
            "overflow": null,
            "overflow_x": null,
            "overflow_y": null,
            "padding": null,
            "right": null,
            "top": null,
            "visibility": null,
            "width": null
          }
        },
        "f0480f7a17274d3fbce8c04543742d18": {
          "model_module": "@jupyter-widgets/controls",
          "model_name": "DescriptionStyleModel",
          "model_module_version": "1.5.0",
          "state": {
            "_model_module": "@jupyter-widgets/controls",
            "_model_module_version": "1.5.0",
            "_model_name": "DescriptionStyleModel",
            "_view_count": null,
            "_view_module": "@jupyter-widgets/base",
            "_view_module_version": "1.2.0",
            "_view_name": "StyleView",
            "description_width": ""
          }
        },
        "c52d4a9b316b49bcb5c03287dac54db9": {
          "model_module": "@jupyter-widgets/base",
          "model_name": "LayoutModel",
          "model_module_version": "1.2.0",
          "state": {
            "_model_module": "@jupyter-widgets/base",
            "_model_module_version": "1.2.0",
            "_model_name": "LayoutModel",
            "_view_count": null,
            "_view_module": "@jupyter-widgets/base",
            "_view_module_version": "1.2.0",
            "_view_name": "LayoutView",
            "align_content": null,
            "align_items": null,
            "align_self": null,
            "border": null,
            "bottom": null,
            "display": null,
            "flex": null,
            "flex_flow": null,
            "grid_area": null,
            "grid_auto_columns": null,
            "grid_auto_flow": null,
            "grid_auto_rows": null,
            "grid_column": null,
            "grid_gap": null,
            "grid_row": null,
            "grid_template_areas": null,
            "grid_template_columns": null,
            "grid_template_rows": null,
            "height": null,
            "justify_content": null,
            "justify_items": null,
            "left": null,
            "margin": null,
            "max_height": null,
            "max_width": null,
            "min_height": null,
            "min_width": null,
            "object_fit": null,
            "object_position": null,
            "order": null,
            "overflow": null,
            "overflow_x": null,
            "overflow_y": null,
            "padding": null,
            "right": null,
            "top": null,
            "visibility": null,
            "width": null
          }
        },
        "b1d13c98daba4c9c85af154ce97e74a0": {
          "model_module": "@jupyter-widgets/controls",
          "model_name": "ProgressStyleModel",
          "model_module_version": "1.5.0",
          "state": {
            "_model_module": "@jupyter-widgets/controls",
            "_model_module_version": "1.5.0",
            "_model_name": "ProgressStyleModel",
            "_view_count": null,
            "_view_module": "@jupyter-widgets/base",
            "_view_module_version": "1.2.0",
            "_view_name": "StyleView",
            "bar_color": null,
            "description_width": ""
          }
        },
        "27065803f22648b5bcd015701aa91321": {
          "model_module": "@jupyter-widgets/controls",
          "model_name": "VBoxModel",
          "model_module_version": "1.5.0",
          "state": {
            "_dom_classes": [],
            "_model_module": "@jupyter-widgets/controls",
            "_model_module_version": "1.5.0",
            "_model_name": "VBoxModel",
            "_view_count": null,
            "_view_module": "@jupyter-widgets/controls",
            "_view_module_version": "1.5.0",
            "_view_name": "VBoxView",
            "box_style": "",
            "children": [
              "IPY_MODEL_82aad7389a764fa6a1af47958c7ba9fe",
              "IPY_MODEL_c37d8cc8fec0471abb92b0f4f07bba1a"
            ],
            "layout": "IPY_MODEL_cfd3828fb7cd4756bae7d1e9796f4577"
          }
        },
        "82aad7389a764fa6a1af47958c7ba9fe": {
          "model_module": "@jupyter-widgets/controls",
          "model_name": "LabelModel",
          "model_module_version": "1.5.0",
          "state": {
            "_dom_classes": [],
            "_model_module": "@jupyter-widgets/controls",
            "_model_module_version": "1.5.0",
            "_model_name": "LabelModel",
            "_view_count": null,
            "_view_module": "@jupyter-widgets/controls",
            "_view_module_version": "1.5.0",
            "_view_name": "LabelView",
            "description": "",
            "description_tooltip": null,
            "layout": "IPY_MODEL_e86bcd011c594f79b0e2feb4a998024a",
            "placeholder": "​",
            "style": "IPY_MODEL_589d9032918f4e1187089da5735b5df8",
            "value": "Waiting for wandb.init()...\r"
          }
        },
        "c37d8cc8fec0471abb92b0f4f07bba1a": {
          "model_module": "@jupyter-widgets/controls",
          "model_name": "FloatProgressModel",
          "model_module_version": "1.5.0",
          "state": {
            "_dom_classes": [],
            "_model_module": "@jupyter-widgets/controls",
            "_model_module_version": "1.5.0",
            "_model_name": "FloatProgressModel",
            "_view_count": null,
            "_view_module": "@jupyter-widgets/controls",
            "_view_module_version": "1.5.0",
            "_view_name": "ProgressView",
            "bar_style": "",
            "description": "",
            "description_tooltip": null,
            "layout": "IPY_MODEL_4c480176394b438d8149aedf90194c91",
            "max": 1,
            "min": 0,
            "orientation": "horizontal",
            "style": "IPY_MODEL_a79644fe11494ddab10b3c3ddf5d67fa",
            "value": 1
          }
        },
        "cfd3828fb7cd4756bae7d1e9796f4577": {
          "model_module": "@jupyter-widgets/base",
          "model_name": "LayoutModel",
          "model_module_version": "1.2.0",
          "state": {
            "_model_module": "@jupyter-widgets/base",
            "_model_module_version": "1.2.0",
            "_model_name": "LayoutModel",
            "_view_count": null,
            "_view_module": "@jupyter-widgets/base",
            "_view_module_version": "1.2.0",
            "_view_name": "LayoutView",
            "align_content": null,
            "align_items": null,
            "align_self": null,
            "border": null,
            "bottom": null,
            "display": null,
            "flex": null,
            "flex_flow": null,
            "grid_area": null,
            "grid_auto_columns": null,
            "grid_auto_flow": null,
            "grid_auto_rows": null,
            "grid_column": null,
            "grid_gap": null,
            "grid_row": null,
            "grid_template_areas": null,
            "grid_template_columns": null,
            "grid_template_rows": null,
            "height": null,
            "justify_content": null,
            "justify_items": null,
            "left": null,
            "margin": null,
            "max_height": null,
            "max_width": null,
            "min_height": null,
            "min_width": null,
            "object_fit": null,
            "object_position": null,
            "order": null,
            "overflow": null,
            "overflow_x": null,
            "overflow_y": null,
            "padding": null,
            "right": null,
            "top": null,
            "visibility": null,
            "width": null
          }
        },
        "e86bcd011c594f79b0e2feb4a998024a": {
          "model_module": "@jupyter-widgets/base",
          "model_name": "LayoutModel",
          "model_module_version": "1.2.0",
          "state": {
            "_model_module": "@jupyter-widgets/base",
            "_model_module_version": "1.2.0",
            "_model_name": "LayoutModel",
            "_view_count": null,
            "_view_module": "@jupyter-widgets/base",
            "_view_module_version": "1.2.0",
            "_view_name": "LayoutView",
            "align_content": null,
            "align_items": null,
            "align_self": null,
            "border": null,
            "bottom": null,
            "display": null,
            "flex": null,
            "flex_flow": null,
            "grid_area": null,
            "grid_auto_columns": null,
            "grid_auto_flow": null,
            "grid_auto_rows": null,
            "grid_column": null,
            "grid_gap": null,
            "grid_row": null,
            "grid_template_areas": null,
            "grid_template_columns": null,
            "grid_template_rows": null,
            "height": null,
            "justify_content": null,
            "justify_items": null,
            "left": null,
            "margin": null,
            "max_height": null,
            "max_width": null,
            "min_height": null,
            "min_width": null,
            "object_fit": null,
            "object_position": null,
            "order": null,
            "overflow": null,
            "overflow_x": null,
            "overflow_y": null,
            "padding": null,
            "right": null,
            "top": null,
            "visibility": null,
            "width": null
          }
        },
        "589d9032918f4e1187089da5735b5df8": {
          "model_module": "@jupyter-widgets/controls",
          "model_name": "DescriptionStyleModel",
          "model_module_version": "1.5.0",
          "state": {
            "_model_module": "@jupyter-widgets/controls",
            "_model_module_version": "1.5.0",
            "_model_name": "DescriptionStyleModel",
            "_view_count": null,
            "_view_module": "@jupyter-widgets/base",
            "_view_module_version": "1.2.0",
            "_view_name": "StyleView",
            "description_width": ""
          }
        },
        "4c480176394b438d8149aedf90194c91": {
          "model_module": "@jupyter-widgets/base",
          "model_name": "LayoutModel",
          "model_module_version": "1.2.0",
          "state": {
            "_model_module": "@jupyter-widgets/base",
            "_model_module_version": "1.2.0",
            "_model_name": "LayoutModel",
            "_view_count": null,
            "_view_module": "@jupyter-widgets/base",
            "_view_module_version": "1.2.0",
            "_view_name": "LayoutView",
            "align_content": null,
            "align_items": null,
            "align_self": null,
            "border": null,
            "bottom": null,
            "display": null,
            "flex": null,
            "flex_flow": null,
            "grid_area": null,
            "grid_auto_columns": null,
            "grid_auto_flow": null,
            "grid_auto_rows": null,
            "grid_column": null,
            "grid_gap": null,
            "grid_row": null,
            "grid_template_areas": null,
            "grid_template_columns": null,
            "grid_template_rows": null,
            "height": null,
            "justify_content": null,
            "justify_items": null,
            "left": null,
            "margin": null,
            "max_height": null,
            "max_width": null,
            "min_height": null,
            "min_width": null,
            "object_fit": null,
            "object_position": null,
            "order": null,
            "overflow": null,
            "overflow_x": null,
            "overflow_y": null,
            "padding": null,
            "right": null,
            "top": null,
            "visibility": null,
            "width": null
          }
        },
        "a79644fe11494ddab10b3c3ddf5d67fa": {
          "model_module": "@jupyter-widgets/controls",
          "model_name": "ProgressStyleModel",
          "model_module_version": "1.5.0",
          "state": {
            "_model_module": "@jupyter-widgets/controls",
            "_model_module_version": "1.5.0",
            "_model_name": "ProgressStyleModel",
            "_view_count": null,
            "_view_module": "@jupyter-widgets/base",
            "_view_module_version": "1.2.0",
            "_view_name": "StyleView",
            "bar_color": null,
            "description_width": ""
          }
        },
        "989966dc1a674383afb2e4dbe91db418": {
          "model_module": "@jupyter-widgets/controls",
          "model_name": "VBoxModel",
          "model_module_version": "1.5.0",
          "state": {
            "_dom_classes": [],
            "_model_module": "@jupyter-widgets/controls",
            "_model_module_version": "1.5.0",
            "_model_name": "VBoxModel",
            "_view_count": null,
            "_view_module": "@jupyter-widgets/controls",
            "_view_module_version": "1.5.0",
            "_view_name": "VBoxView",
            "box_style": "",
            "children": [
              "IPY_MODEL_7286c739809e4f2595c83b94fdd41142",
              "IPY_MODEL_8c4d6aa5310143248c90bdc630b33631"
            ],
            "layout": "IPY_MODEL_edc9923dec60443dab41e84068ce511e"
          }
        },
        "7286c739809e4f2595c83b94fdd41142": {
          "model_module": "@jupyter-widgets/controls",
          "model_name": "LabelModel",
          "model_module_version": "1.5.0",
          "state": {
            "_dom_classes": [],
            "_model_module": "@jupyter-widgets/controls",
            "_model_module_version": "1.5.0",
            "_model_name": "LabelModel",
            "_view_count": null,
            "_view_module": "@jupyter-widgets/controls",
            "_view_module_version": "1.5.0",
            "_view_name": "LabelView",
            "description": "",
            "description_tooltip": null,
            "layout": "IPY_MODEL_e6079a587dc34b7d96813a4af5ece7d1",
            "placeholder": "​",
            "style": "IPY_MODEL_9c6e1b59aaa04721985c5752cc678dcb",
            "value": "0.001 MB of 0.001 MB uploaded (0.000 MB deduped)\r"
          }
        },
        "8c4d6aa5310143248c90bdc630b33631": {
          "model_module": "@jupyter-widgets/controls",
          "model_name": "FloatProgressModel",
          "model_module_version": "1.5.0",
          "state": {
            "_dom_classes": [],
            "_model_module": "@jupyter-widgets/controls",
            "_model_module_version": "1.5.0",
            "_model_name": "FloatProgressModel",
            "_view_count": null,
            "_view_module": "@jupyter-widgets/controls",
            "_view_module_version": "1.5.0",
            "_view_name": "ProgressView",
            "bar_style": "",
            "description": "",
            "description_tooltip": null,
            "layout": "IPY_MODEL_00871aeb8dd74fa2aac2ad7a49c68639",
            "max": 1,
            "min": 0,
            "orientation": "horizontal",
            "style": "IPY_MODEL_fb025cd185ea44c1a40a1af89518e1fa",
            "value": 1
          }
        },
        "edc9923dec60443dab41e84068ce511e": {
          "model_module": "@jupyter-widgets/base",
          "model_name": "LayoutModel",
          "model_module_version": "1.2.0",
          "state": {
            "_model_module": "@jupyter-widgets/base",
            "_model_module_version": "1.2.0",
            "_model_name": "LayoutModel",
            "_view_count": null,
            "_view_module": "@jupyter-widgets/base",
            "_view_module_version": "1.2.0",
            "_view_name": "LayoutView",
            "align_content": null,
            "align_items": null,
            "align_self": null,
            "border": null,
            "bottom": null,
            "display": null,
            "flex": null,
            "flex_flow": null,
            "grid_area": null,
            "grid_auto_columns": null,
            "grid_auto_flow": null,
            "grid_auto_rows": null,
            "grid_column": null,
            "grid_gap": null,
            "grid_row": null,
            "grid_template_areas": null,
            "grid_template_columns": null,
            "grid_template_rows": null,
            "height": null,
            "justify_content": null,
            "justify_items": null,
            "left": null,
            "margin": null,
            "max_height": null,
            "max_width": null,
            "min_height": null,
            "min_width": null,
            "object_fit": null,
            "object_position": null,
            "order": null,
            "overflow": null,
            "overflow_x": null,
            "overflow_y": null,
            "padding": null,
            "right": null,
            "top": null,
            "visibility": null,
            "width": null
          }
        },
        "e6079a587dc34b7d96813a4af5ece7d1": {
          "model_module": "@jupyter-widgets/base",
          "model_name": "LayoutModel",
          "model_module_version": "1.2.0",
          "state": {
            "_model_module": "@jupyter-widgets/base",
            "_model_module_version": "1.2.0",
            "_model_name": "LayoutModel",
            "_view_count": null,
            "_view_module": "@jupyter-widgets/base",
            "_view_module_version": "1.2.0",
            "_view_name": "LayoutView",
            "align_content": null,
            "align_items": null,
            "align_self": null,
            "border": null,
            "bottom": null,
            "display": null,
            "flex": null,
            "flex_flow": null,
            "grid_area": null,
            "grid_auto_columns": null,
            "grid_auto_flow": null,
            "grid_auto_rows": null,
            "grid_column": null,
            "grid_gap": null,
            "grid_row": null,
            "grid_template_areas": null,
            "grid_template_columns": null,
            "grid_template_rows": null,
            "height": null,
            "justify_content": null,
            "justify_items": null,
            "left": null,
            "margin": null,
            "max_height": null,
            "max_width": null,
            "min_height": null,
            "min_width": null,
            "object_fit": null,
            "object_position": null,
            "order": null,
            "overflow": null,
            "overflow_x": null,
            "overflow_y": null,
            "padding": null,
            "right": null,
            "top": null,
            "visibility": null,
            "width": null
          }
        },
        "9c6e1b59aaa04721985c5752cc678dcb": {
          "model_module": "@jupyter-widgets/controls",
          "model_name": "DescriptionStyleModel",
          "model_module_version": "1.5.0",
          "state": {
            "_model_module": "@jupyter-widgets/controls",
            "_model_module_version": "1.5.0",
            "_model_name": "DescriptionStyleModel",
            "_view_count": null,
            "_view_module": "@jupyter-widgets/base",
            "_view_module_version": "1.2.0",
            "_view_name": "StyleView",
            "description_width": ""
          }
        },
        "00871aeb8dd74fa2aac2ad7a49c68639": {
          "model_module": "@jupyter-widgets/base",
          "model_name": "LayoutModel",
          "model_module_version": "1.2.0",
          "state": {
            "_model_module": "@jupyter-widgets/base",
            "_model_module_version": "1.2.0",
            "_model_name": "LayoutModel",
            "_view_count": null,
            "_view_module": "@jupyter-widgets/base",
            "_view_module_version": "1.2.0",
            "_view_name": "LayoutView",
            "align_content": null,
            "align_items": null,
            "align_self": null,
            "border": null,
            "bottom": null,
            "display": null,
            "flex": null,
            "flex_flow": null,
            "grid_area": null,
            "grid_auto_columns": null,
            "grid_auto_flow": null,
            "grid_auto_rows": null,
            "grid_column": null,
            "grid_gap": null,
            "grid_row": null,
            "grid_template_areas": null,
            "grid_template_columns": null,
            "grid_template_rows": null,
            "height": null,
            "justify_content": null,
            "justify_items": null,
            "left": null,
            "margin": null,
            "max_height": null,
            "max_width": null,
            "min_height": null,
            "min_width": null,
            "object_fit": null,
            "object_position": null,
            "order": null,
            "overflow": null,
            "overflow_x": null,
            "overflow_y": null,
            "padding": null,
            "right": null,
            "top": null,
            "visibility": null,
            "width": null
          }
        },
        "fb025cd185ea44c1a40a1af89518e1fa": {
          "model_module": "@jupyter-widgets/controls",
          "model_name": "ProgressStyleModel",
          "model_module_version": "1.5.0",
          "state": {
            "_model_module": "@jupyter-widgets/controls",
            "_model_module_version": "1.5.0",
            "_model_name": "ProgressStyleModel",
            "_view_count": null,
            "_view_module": "@jupyter-widgets/base",
            "_view_module_version": "1.2.0",
            "_view_name": "StyleView",
            "bar_color": null,
            "description_width": ""
          }
        },
        "3dfbc069a10848838a7b6b414413407e": {
          "model_module": "@jupyter-widgets/controls",
          "model_name": "VBoxModel",
          "model_module_version": "1.5.0",
          "state": {
            "_dom_classes": [],
            "_model_module": "@jupyter-widgets/controls",
            "_model_module_version": "1.5.0",
            "_model_name": "VBoxModel",
            "_view_count": null,
            "_view_module": "@jupyter-widgets/controls",
            "_view_module_version": "1.5.0",
            "_view_name": "VBoxView",
            "box_style": "",
            "children": [
              "IPY_MODEL_f84a389731dc47b2966918ca72f475a9",
              "IPY_MODEL_74eb3a7e5e23425299154b8c8c8926b4"
            ],
            "layout": "IPY_MODEL_181db248a4f44fd7bb20c71b96eee49c"
          }
        },
        "f84a389731dc47b2966918ca72f475a9": {
          "model_module": "@jupyter-widgets/controls",
          "model_name": "LabelModel",
          "model_module_version": "1.5.0",
          "state": {
            "_dom_classes": [],
            "_model_module": "@jupyter-widgets/controls",
            "_model_module_version": "1.5.0",
            "_model_name": "LabelModel",
            "_view_count": null,
            "_view_module": "@jupyter-widgets/controls",
            "_view_module_version": "1.5.0",
            "_view_name": "LabelView",
            "description": "",
            "description_tooltip": null,
            "layout": "IPY_MODEL_8ac9c6e3fa0d48d7bb04901507798b06",
            "placeholder": "​",
            "style": "IPY_MODEL_4d0ab7a30f414cd8a1cf833c3d56b9b0",
            "value": "0.001 MB of 0.010 MB uploaded (0.000 MB deduped)\r"
          }
        },
        "74eb3a7e5e23425299154b8c8c8926b4": {
          "model_module": "@jupyter-widgets/controls",
          "model_name": "FloatProgressModel",
          "model_module_version": "1.5.0",
          "state": {
            "_dom_classes": [],
            "_model_module": "@jupyter-widgets/controls",
            "_model_module_version": "1.5.0",
            "_model_name": "FloatProgressModel",
            "_view_count": null,
            "_view_module": "@jupyter-widgets/controls",
            "_view_module_version": "1.5.0",
            "_view_name": "ProgressView",
            "bar_style": "",
            "description": "",
            "description_tooltip": null,
            "layout": "IPY_MODEL_301cb48c52394851bd5496f7d1e9377b",
            "max": 1,
            "min": 0,
            "orientation": "horizontal",
            "style": "IPY_MODEL_cbf50fa6d5be4843b855580943f94366",
            "value": 0.07065062979448812
          }
        },
        "181db248a4f44fd7bb20c71b96eee49c": {
          "model_module": "@jupyter-widgets/base",
          "model_name": "LayoutModel",
          "model_module_version": "1.2.0",
          "state": {
            "_model_module": "@jupyter-widgets/base",
            "_model_module_version": "1.2.0",
            "_model_name": "LayoutModel",
            "_view_count": null,
            "_view_module": "@jupyter-widgets/base",
            "_view_module_version": "1.2.0",
            "_view_name": "LayoutView",
            "align_content": null,
            "align_items": null,
            "align_self": null,
            "border": null,
            "bottom": null,
            "display": null,
            "flex": null,
            "flex_flow": null,
            "grid_area": null,
            "grid_auto_columns": null,
            "grid_auto_flow": null,
            "grid_auto_rows": null,
            "grid_column": null,
            "grid_gap": null,
            "grid_row": null,
            "grid_template_areas": null,
            "grid_template_columns": null,
            "grid_template_rows": null,
            "height": null,
            "justify_content": null,
            "justify_items": null,
            "left": null,
            "margin": null,
            "max_height": null,
            "max_width": null,
            "min_height": null,
            "min_width": null,
            "object_fit": null,
            "object_position": null,
            "order": null,
            "overflow": null,
            "overflow_x": null,
            "overflow_y": null,
            "padding": null,
            "right": null,
            "top": null,
            "visibility": null,
            "width": null
          }
        },
        "8ac9c6e3fa0d48d7bb04901507798b06": {
          "model_module": "@jupyter-widgets/base",
          "model_name": "LayoutModel",
          "model_module_version": "1.2.0",
          "state": {
            "_model_module": "@jupyter-widgets/base",
            "_model_module_version": "1.2.0",
            "_model_name": "LayoutModel",
            "_view_count": null,
            "_view_module": "@jupyter-widgets/base",
            "_view_module_version": "1.2.0",
            "_view_name": "LayoutView",
            "align_content": null,
            "align_items": null,
            "align_self": null,
            "border": null,
            "bottom": null,
            "display": null,
            "flex": null,
            "flex_flow": null,
            "grid_area": null,
            "grid_auto_columns": null,
            "grid_auto_flow": null,
            "grid_auto_rows": null,
            "grid_column": null,
            "grid_gap": null,
            "grid_row": null,
            "grid_template_areas": null,
            "grid_template_columns": null,
            "grid_template_rows": null,
            "height": null,
            "justify_content": null,
            "justify_items": null,
            "left": null,
            "margin": null,
            "max_height": null,
            "max_width": null,
            "min_height": null,
            "min_width": null,
            "object_fit": null,
            "object_position": null,
            "order": null,
            "overflow": null,
            "overflow_x": null,
            "overflow_y": null,
            "padding": null,
            "right": null,
            "top": null,
            "visibility": null,
            "width": null
          }
        },
        "4d0ab7a30f414cd8a1cf833c3d56b9b0": {
          "model_module": "@jupyter-widgets/controls",
          "model_name": "DescriptionStyleModel",
          "model_module_version": "1.5.0",
          "state": {
            "_model_module": "@jupyter-widgets/controls",
            "_model_module_version": "1.5.0",
            "_model_name": "DescriptionStyleModel",
            "_view_count": null,
            "_view_module": "@jupyter-widgets/base",
            "_view_module_version": "1.2.0",
            "_view_name": "StyleView",
            "description_width": ""
          }
        },
        "301cb48c52394851bd5496f7d1e9377b": {
          "model_module": "@jupyter-widgets/base",
          "model_name": "LayoutModel",
          "model_module_version": "1.2.0",
          "state": {
            "_model_module": "@jupyter-widgets/base",
            "_model_module_version": "1.2.0",
            "_model_name": "LayoutModel",
            "_view_count": null,
            "_view_module": "@jupyter-widgets/base",
            "_view_module_version": "1.2.0",
            "_view_name": "LayoutView",
            "align_content": null,
            "align_items": null,
            "align_self": null,
            "border": null,
            "bottom": null,
            "display": null,
            "flex": null,
            "flex_flow": null,
            "grid_area": null,
            "grid_auto_columns": null,
            "grid_auto_flow": null,
            "grid_auto_rows": null,
            "grid_column": null,
            "grid_gap": null,
            "grid_row": null,
            "grid_template_areas": null,
            "grid_template_columns": null,
            "grid_template_rows": null,
            "height": null,
            "justify_content": null,
            "justify_items": null,
            "left": null,
            "margin": null,
            "max_height": null,
            "max_width": null,
            "min_height": null,
            "min_width": null,
            "object_fit": null,
            "object_position": null,
            "order": null,
            "overflow": null,
            "overflow_x": null,
            "overflow_y": null,
            "padding": null,
            "right": null,
            "top": null,
            "visibility": null,
            "width": null
          }
        },
        "cbf50fa6d5be4843b855580943f94366": {
          "model_module": "@jupyter-widgets/controls",
          "model_name": "ProgressStyleModel",
          "model_module_version": "1.5.0",
          "state": {
            "_model_module": "@jupyter-widgets/controls",
            "_model_module_version": "1.5.0",
            "_model_name": "ProgressStyleModel",
            "_view_count": null,
            "_view_module": "@jupyter-widgets/base",
            "_view_module_version": "1.2.0",
            "_view_name": "StyleView",
            "bar_color": null,
            "description_width": ""
          }
        },
        "5a6d1f590b2043bfa1b0692481c74909": {
          "model_module": "@jupyter-widgets/controls",
          "model_name": "VBoxModel",
          "model_module_version": "1.5.0",
          "state": {
            "_dom_classes": [],
            "_model_module": "@jupyter-widgets/controls",
            "_model_module_version": "1.5.0",
            "_model_name": "VBoxModel",
            "_view_count": null,
            "_view_module": "@jupyter-widgets/controls",
            "_view_module_version": "1.5.0",
            "_view_name": "VBoxView",
            "box_style": "",
            "children": [
              "IPY_MODEL_acfd18fb29df44e484e7f9bf49c3e392",
              "IPY_MODEL_827077c817334c2f84e86935bf6f312f"
            ],
            "layout": "IPY_MODEL_fd58ed7d853c4cbb83da448982c66666"
          }
        },
        "acfd18fb29df44e484e7f9bf49c3e392": {
          "model_module": "@jupyter-widgets/controls",
          "model_name": "LabelModel",
          "model_module_version": "1.5.0",
          "state": {
            "_dom_classes": [],
            "_model_module": "@jupyter-widgets/controls",
            "_model_module_version": "1.5.0",
            "_model_name": "LabelModel",
            "_view_count": null,
            "_view_module": "@jupyter-widgets/controls",
            "_view_module_version": "1.5.0",
            "_view_name": "LabelView",
            "description": "",
            "description_tooltip": null,
            "layout": "IPY_MODEL_93cdcaa6f7234c208cfce95f0bf5f9e7",
            "placeholder": "​",
            "style": "IPY_MODEL_5c7209dff11d4ecea054bdcf84e1168e",
            "value": "0.001 MB of 0.009 MB uploaded (0.000 MB deduped)\r"
          }
        },
        "827077c817334c2f84e86935bf6f312f": {
          "model_module": "@jupyter-widgets/controls",
          "model_name": "FloatProgressModel",
          "model_module_version": "1.5.0",
          "state": {
            "_dom_classes": [],
            "_model_module": "@jupyter-widgets/controls",
            "_model_module_version": "1.5.0",
            "_model_name": "FloatProgressModel",
            "_view_count": null,
            "_view_module": "@jupyter-widgets/controls",
            "_view_module_version": "1.5.0",
            "_view_name": "ProgressView",
            "bar_style": "",
            "description": "",
            "description_tooltip": null,
            "layout": "IPY_MODEL_da1a2ea9f21b420c9d58529940bcb685",
            "max": 1,
            "min": 0,
            "orientation": "horizontal",
            "style": "IPY_MODEL_9618e8738dc94cdcb3e55b3c5e33684f",
            "value": 0.0832404724760419
          }
        },
        "fd58ed7d853c4cbb83da448982c66666": {
          "model_module": "@jupyter-widgets/base",
          "model_name": "LayoutModel",
          "model_module_version": "1.2.0",
          "state": {
            "_model_module": "@jupyter-widgets/base",
            "_model_module_version": "1.2.0",
            "_model_name": "LayoutModel",
            "_view_count": null,
            "_view_module": "@jupyter-widgets/base",
            "_view_module_version": "1.2.0",
            "_view_name": "LayoutView",
            "align_content": null,
            "align_items": null,
            "align_self": null,
            "border": null,
            "bottom": null,
            "display": null,
            "flex": null,
            "flex_flow": null,
            "grid_area": null,
            "grid_auto_columns": null,
            "grid_auto_flow": null,
            "grid_auto_rows": null,
            "grid_column": null,
            "grid_gap": null,
            "grid_row": null,
            "grid_template_areas": null,
            "grid_template_columns": null,
            "grid_template_rows": null,
            "height": null,
            "justify_content": null,
            "justify_items": null,
            "left": null,
            "margin": null,
            "max_height": null,
            "max_width": null,
            "min_height": null,
            "min_width": null,
            "object_fit": null,
            "object_position": null,
            "order": null,
            "overflow": null,
            "overflow_x": null,
            "overflow_y": null,
            "padding": null,
            "right": null,
            "top": null,
            "visibility": null,
            "width": null
          }
        },
        "93cdcaa6f7234c208cfce95f0bf5f9e7": {
          "model_module": "@jupyter-widgets/base",
          "model_name": "LayoutModel",
          "model_module_version": "1.2.0",
          "state": {
            "_model_module": "@jupyter-widgets/base",
            "_model_module_version": "1.2.0",
            "_model_name": "LayoutModel",
            "_view_count": null,
            "_view_module": "@jupyter-widgets/base",
            "_view_module_version": "1.2.0",
            "_view_name": "LayoutView",
            "align_content": null,
            "align_items": null,
            "align_self": null,
            "border": null,
            "bottom": null,
            "display": null,
            "flex": null,
            "flex_flow": null,
            "grid_area": null,
            "grid_auto_columns": null,
            "grid_auto_flow": null,
            "grid_auto_rows": null,
            "grid_column": null,
            "grid_gap": null,
            "grid_row": null,
            "grid_template_areas": null,
            "grid_template_columns": null,
            "grid_template_rows": null,
            "height": null,
            "justify_content": null,
            "justify_items": null,
            "left": null,
            "margin": null,
            "max_height": null,
            "max_width": null,
            "min_height": null,
            "min_width": null,
            "object_fit": null,
            "object_position": null,
            "order": null,
            "overflow": null,
            "overflow_x": null,
            "overflow_y": null,
            "padding": null,
            "right": null,
            "top": null,
            "visibility": null,
            "width": null
          }
        },
        "5c7209dff11d4ecea054bdcf84e1168e": {
          "model_module": "@jupyter-widgets/controls",
          "model_name": "DescriptionStyleModel",
          "model_module_version": "1.5.0",
          "state": {
            "_model_module": "@jupyter-widgets/controls",
            "_model_module_version": "1.5.0",
            "_model_name": "DescriptionStyleModel",
            "_view_count": null,
            "_view_module": "@jupyter-widgets/base",
            "_view_module_version": "1.2.0",
            "_view_name": "StyleView",
            "description_width": ""
          }
        },
        "da1a2ea9f21b420c9d58529940bcb685": {
          "model_module": "@jupyter-widgets/base",
          "model_name": "LayoutModel",
          "model_module_version": "1.2.0",
          "state": {
            "_model_module": "@jupyter-widgets/base",
            "_model_module_version": "1.2.0",
            "_model_name": "LayoutModel",
            "_view_count": null,
            "_view_module": "@jupyter-widgets/base",
            "_view_module_version": "1.2.0",
            "_view_name": "LayoutView",
            "align_content": null,
            "align_items": null,
            "align_self": null,
            "border": null,
            "bottom": null,
            "display": null,
            "flex": null,
            "flex_flow": null,
            "grid_area": null,
            "grid_auto_columns": null,
            "grid_auto_flow": null,
            "grid_auto_rows": null,
            "grid_column": null,
            "grid_gap": null,
            "grid_row": null,
            "grid_template_areas": null,
            "grid_template_columns": null,
            "grid_template_rows": null,
            "height": null,
            "justify_content": null,
            "justify_items": null,
            "left": null,
            "margin": null,
            "max_height": null,
            "max_width": null,
            "min_height": null,
            "min_width": null,
            "object_fit": null,
            "object_position": null,
            "order": null,
            "overflow": null,
            "overflow_x": null,
            "overflow_y": null,
            "padding": null,
            "right": null,
            "top": null,
            "visibility": null,
            "width": null
          }
        },
        "9618e8738dc94cdcb3e55b3c5e33684f": {
          "model_module": "@jupyter-widgets/controls",
          "model_name": "ProgressStyleModel",
          "model_module_version": "1.5.0",
          "state": {
            "_model_module": "@jupyter-widgets/controls",
            "_model_module_version": "1.5.0",
            "_model_name": "ProgressStyleModel",
            "_view_count": null,
            "_view_module": "@jupyter-widgets/base",
            "_view_module_version": "1.2.0",
            "_view_name": "StyleView",
            "bar_color": null,
            "description_width": ""
          }
        },
        "89bf5607ab854cf38103cb47507f58c9": {
          "model_module": "@jupyter-widgets/controls",
          "model_name": "VBoxModel",
          "model_module_version": "1.5.0",
          "state": {
            "_dom_classes": [],
            "_model_module": "@jupyter-widgets/controls",
            "_model_module_version": "1.5.0",
            "_model_name": "VBoxModel",
            "_view_count": null,
            "_view_module": "@jupyter-widgets/controls",
            "_view_module_version": "1.5.0",
            "_view_name": "VBoxView",
            "box_style": "",
            "children": [
              "IPY_MODEL_b5fca6a3c94d4144a5c602ee832742cd",
              "IPY_MODEL_5d21e7498c924f819d904314d5458b69"
            ],
            "layout": "IPY_MODEL_91d9f1c8eaf44f058d9e5e2cd65d2884"
          }
        },
        "b5fca6a3c94d4144a5c602ee832742cd": {
          "model_module": "@jupyter-widgets/controls",
          "model_name": "LabelModel",
          "model_module_version": "1.5.0",
          "state": {
            "_dom_classes": [],
            "_model_module": "@jupyter-widgets/controls",
            "_model_module_version": "1.5.0",
            "_model_name": "LabelModel",
            "_view_count": null,
            "_view_module": "@jupyter-widgets/controls",
            "_view_module_version": "1.5.0",
            "_view_name": "LabelView",
            "description": "",
            "description_tooltip": null,
            "layout": "IPY_MODEL_62bcb9d168f040e5909df83d53d5c3bf",
            "placeholder": "​",
            "style": "IPY_MODEL_e2dc6d9b5cbe411a8b26a8684be2da37",
            "value": "0.001 MB of 0.011 MB uploaded (0.000 MB deduped)\r"
          }
        },
        "5d21e7498c924f819d904314d5458b69": {
          "model_module": "@jupyter-widgets/controls",
          "model_name": "FloatProgressModel",
          "model_module_version": "1.5.0",
          "state": {
            "_dom_classes": [],
            "_model_module": "@jupyter-widgets/controls",
            "_model_module_version": "1.5.0",
            "_model_name": "FloatProgressModel",
            "_view_count": null,
            "_view_module": "@jupyter-widgets/controls",
            "_view_module_version": "1.5.0",
            "_view_name": "ProgressView",
            "bar_style": "",
            "description": "",
            "description_tooltip": null,
            "layout": "IPY_MODEL_4d0ca275a56f4c5fa3941f6a3f2f2543",
            "max": 1,
            "min": 0,
            "orientation": "horizontal",
            "style": "IPY_MODEL_c848b3b975724229adfee9f7b3a40059",
            "value": 0.06522878099895214
          }
        },
        "91d9f1c8eaf44f058d9e5e2cd65d2884": {
          "model_module": "@jupyter-widgets/base",
          "model_name": "LayoutModel",
          "model_module_version": "1.2.0",
          "state": {
            "_model_module": "@jupyter-widgets/base",
            "_model_module_version": "1.2.0",
            "_model_name": "LayoutModel",
            "_view_count": null,
            "_view_module": "@jupyter-widgets/base",
            "_view_module_version": "1.2.0",
            "_view_name": "LayoutView",
            "align_content": null,
            "align_items": null,
            "align_self": null,
            "border": null,
            "bottom": null,
            "display": null,
            "flex": null,
            "flex_flow": null,
            "grid_area": null,
            "grid_auto_columns": null,
            "grid_auto_flow": null,
            "grid_auto_rows": null,
            "grid_column": null,
            "grid_gap": null,
            "grid_row": null,
            "grid_template_areas": null,
            "grid_template_columns": null,
            "grid_template_rows": null,
            "height": null,
            "justify_content": null,
            "justify_items": null,
            "left": null,
            "margin": null,
            "max_height": null,
            "max_width": null,
            "min_height": null,
            "min_width": null,
            "object_fit": null,
            "object_position": null,
            "order": null,
            "overflow": null,
            "overflow_x": null,
            "overflow_y": null,
            "padding": null,
            "right": null,
            "top": null,
            "visibility": null,
            "width": null
          }
        },
        "62bcb9d168f040e5909df83d53d5c3bf": {
          "model_module": "@jupyter-widgets/base",
          "model_name": "LayoutModel",
          "model_module_version": "1.2.0",
          "state": {
            "_model_module": "@jupyter-widgets/base",
            "_model_module_version": "1.2.0",
            "_model_name": "LayoutModel",
            "_view_count": null,
            "_view_module": "@jupyter-widgets/base",
            "_view_module_version": "1.2.0",
            "_view_name": "LayoutView",
            "align_content": null,
            "align_items": null,
            "align_self": null,
            "border": null,
            "bottom": null,
            "display": null,
            "flex": null,
            "flex_flow": null,
            "grid_area": null,
            "grid_auto_columns": null,
            "grid_auto_flow": null,
            "grid_auto_rows": null,
            "grid_column": null,
            "grid_gap": null,
            "grid_row": null,
            "grid_template_areas": null,
            "grid_template_columns": null,
            "grid_template_rows": null,
            "height": null,
            "justify_content": null,
            "justify_items": null,
            "left": null,
            "margin": null,
            "max_height": null,
            "max_width": null,
            "min_height": null,
            "min_width": null,
            "object_fit": null,
            "object_position": null,
            "order": null,
            "overflow": null,
            "overflow_x": null,
            "overflow_y": null,
            "padding": null,
            "right": null,
            "top": null,
            "visibility": null,
            "width": null
          }
        },
        "e2dc6d9b5cbe411a8b26a8684be2da37": {
          "model_module": "@jupyter-widgets/controls",
          "model_name": "DescriptionStyleModel",
          "model_module_version": "1.5.0",
          "state": {
            "_model_module": "@jupyter-widgets/controls",
            "_model_module_version": "1.5.0",
            "_model_name": "DescriptionStyleModel",
            "_view_count": null,
            "_view_module": "@jupyter-widgets/base",
            "_view_module_version": "1.2.0",
            "_view_name": "StyleView",
            "description_width": ""
          }
        },
        "4d0ca275a56f4c5fa3941f6a3f2f2543": {
          "model_module": "@jupyter-widgets/base",
          "model_name": "LayoutModel",
          "model_module_version": "1.2.0",
          "state": {
            "_model_module": "@jupyter-widgets/base",
            "_model_module_version": "1.2.0",
            "_model_name": "LayoutModel",
            "_view_count": null,
            "_view_module": "@jupyter-widgets/base",
            "_view_module_version": "1.2.0",
            "_view_name": "LayoutView",
            "align_content": null,
            "align_items": null,
            "align_self": null,
            "border": null,
            "bottom": null,
            "display": null,
            "flex": null,
            "flex_flow": null,
            "grid_area": null,
            "grid_auto_columns": null,
            "grid_auto_flow": null,
            "grid_auto_rows": null,
            "grid_column": null,
            "grid_gap": null,
            "grid_row": null,
            "grid_template_areas": null,
            "grid_template_columns": null,
            "grid_template_rows": null,
            "height": null,
            "justify_content": null,
            "justify_items": null,
            "left": null,
            "margin": null,
            "max_height": null,
            "max_width": null,
            "min_height": null,
            "min_width": null,
            "object_fit": null,
            "object_position": null,
            "order": null,
            "overflow": null,
            "overflow_x": null,
            "overflow_y": null,
            "padding": null,
            "right": null,
            "top": null,
            "visibility": null,
            "width": null
          }
        },
        "c848b3b975724229adfee9f7b3a40059": {
          "model_module": "@jupyter-widgets/controls",
          "model_name": "ProgressStyleModel",
          "model_module_version": "1.5.0",
          "state": {
            "_model_module": "@jupyter-widgets/controls",
            "_model_module_version": "1.5.0",
            "_model_name": "ProgressStyleModel",
            "_view_count": null,
            "_view_module": "@jupyter-widgets/base",
            "_view_module_version": "1.2.0",
            "_view_name": "StyleView",
            "bar_color": null,
            "description_width": ""
          }
        },
        "d1432b926a8343be81ad5252fb6b110a": {
          "model_module": "@jupyter-widgets/controls",
          "model_name": "VBoxModel",
          "model_module_version": "1.5.0",
          "state": {
            "_dom_classes": [],
            "_model_module": "@jupyter-widgets/controls",
            "_model_module_version": "1.5.0",
            "_model_name": "VBoxModel",
            "_view_count": null,
            "_view_module": "@jupyter-widgets/controls",
            "_view_module_version": "1.5.0",
            "_view_name": "VBoxView",
            "box_style": "",
            "children": [
              "IPY_MODEL_d76e3c3c8689406baae9b0e56c231b6d",
              "IPY_MODEL_cbda6b77ffe44924a0ef76a0cc95da34"
            ],
            "layout": "IPY_MODEL_578b4b6ca8d241db9a9a6ae85c8ecb17"
          }
        },
        "d76e3c3c8689406baae9b0e56c231b6d": {
          "model_module": "@jupyter-widgets/controls",
          "model_name": "LabelModel",
          "model_module_version": "1.5.0",
          "state": {
            "_dom_classes": [],
            "_model_module": "@jupyter-widgets/controls",
            "_model_module_version": "1.5.0",
            "_model_name": "LabelModel",
            "_view_count": null,
            "_view_module": "@jupyter-widgets/controls",
            "_view_module_version": "1.5.0",
            "_view_name": "LabelView",
            "description": "",
            "description_tooltip": null,
            "layout": "IPY_MODEL_a16477400cd241b98809b7401e816bef",
            "placeholder": "​",
            "style": "IPY_MODEL_210b29b2e1c24bafb17138c87b76e055",
            "value": "0.001 MB of 0.011 MB uploaded (0.000 MB deduped)\r"
          }
        },
        "cbda6b77ffe44924a0ef76a0cc95da34": {
          "model_module": "@jupyter-widgets/controls",
          "model_name": "FloatProgressModel",
          "model_module_version": "1.5.0",
          "state": {
            "_dom_classes": [],
            "_model_module": "@jupyter-widgets/controls",
            "_model_module_version": "1.5.0",
            "_model_name": "FloatProgressModel",
            "_view_count": null,
            "_view_module": "@jupyter-widgets/controls",
            "_view_module_version": "1.5.0",
            "_view_name": "ProgressView",
            "bar_style": "",
            "description": "",
            "description_tooltip": null,
            "layout": "IPY_MODEL_06d6038314724cfa86c8fd289f9b42b3",
            "max": 1,
            "min": 0,
            "orientation": "horizontal",
            "style": "IPY_MODEL_333112fddd6347e397cc60e59b48883e",
            "value": 0.0650903062559986
          }
        },
        "578b4b6ca8d241db9a9a6ae85c8ecb17": {
          "model_module": "@jupyter-widgets/base",
          "model_name": "LayoutModel",
          "model_module_version": "1.2.0",
          "state": {
            "_model_module": "@jupyter-widgets/base",
            "_model_module_version": "1.2.0",
            "_model_name": "LayoutModel",
            "_view_count": null,
            "_view_module": "@jupyter-widgets/base",
            "_view_module_version": "1.2.0",
            "_view_name": "LayoutView",
            "align_content": null,
            "align_items": null,
            "align_self": null,
            "border": null,
            "bottom": null,
            "display": null,
            "flex": null,
            "flex_flow": null,
            "grid_area": null,
            "grid_auto_columns": null,
            "grid_auto_flow": null,
            "grid_auto_rows": null,
            "grid_column": null,
            "grid_gap": null,
            "grid_row": null,
            "grid_template_areas": null,
            "grid_template_columns": null,
            "grid_template_rows": null,
            "height": null,
            "justify_content": null,
            "justify_items": null,
            "left": null,
            "margin": null,
            "max_height": null,
            "max_width": null,
            "min_height": null,
            "min_width": null,
            "object_fit": null,
            "object_position": null,
            "order": null,
            "overflow": null,
            "overflow_x": null,
            "overflow_y": null,
            "padding": null,
            "right": null,
            "top": null,
            "visibility": null,
            "width": null
          }
        },
        "a16477400cd241b98809b7401e816bef": {
          "model_module": "@jupyter-widgets/base",
          "model_name": "LayoutModel",
          "model_module_version": "1.2.0",
          "state": {
            "_model_module": "@jupyter-widgets/base",
            "_model_module_version": "1.2.0",
            "_model_name": "LayoutModel",
            "_view_count": null,
            "_view_module": "@jupyter-widgets/base",
            "_view_module_version": "1.2.0",
            "_view_name": "LayoutView",
            "align_content": null,
            "align_items": null,
            "align_self": null,
            "border": null,
            "bottom": null,
            "display": null,
            "flex": null,
            "flex_flow": null,
            "grid_area": null,
            "grid_auto_columns": null,
            "grid_auto_flow": null,
            "grid_auto_rows": null,
            "grid_column": null,
            "grid_gap": null,
            "grid_row": null,
            "grid_template_areas": null,
            "grid_template_columns": null,
            "grid_template_rows": null,
            "height": null,
            "justify_content": null,
            "justify_items": null,
            "left": null,
            "margin": null,
            "max_height": null,
            "max_width": null,
            "min_height": null,
            "min_width": null,
            "object_fit": null,
            "object_position": null,
            "order": null,
            "overflow": null,
            "overflow_x": null,
            "overflow_y": null,
            "padding": null,
            "right": null,
            "top": null,
            "visibility": null,
            "width": null
          }
        },
        "210b29b2e1c24bafb17138c87b76e055": {
          "model_module": "@jupyter-widgets/controls",
          "model_name": "DescriptionStyleModel",
          "model_module_version": "1.5.0",
          "state": {
            "_model_module": "@jupyter-widgets/controls",
            "_model_module_version": "1.5.0",
            "_model_name": "DescriptionStyleModel",
            "_view_count": null,
            "_view_module": "@jupyter-widgets/base",
            "_view_module_version": "1.2.0",
            "_view_name": "StyleView",
            "description_width": ""
          }
        },
        "06d6038314724cfa86c8fd289f9b42b3": {
          "model_module": "@jupyter-widgets/base",
          "model_name": "LayoutModel",
          "model_module_version": "1.2.0",
          "state": {
            "_model_module": "@jupyter-widgets/base",
            "_model_module_version": "1.2.0",
            "_model_name": "LayoutModel",
            "_view_count": null,
            "_view_module": "@jupyter-widgets/base",
            "_view_module_version": "1.2.0",
            "_view_name": "LayoutView",
            "align_content": null,
            "align_items": null,
            "align_self": null,
            "border": null,
            "bottom": null,
            "display": null,
            "flex": null,
            "flex_flow": null,
            "grid_area": null,
            "grid_auto_columns": null,
            "grid_auto_flow": null,
            "grid_auto_rows": null,
            "grid_column": null,
            "grid_gap": null,
            "grid_row": null,
            "grid_template_areas": null,
            "grid_template_columns": null,
            "grid_template_rows": null,
            "height": null,
            "justify_content": null,
            "justify_items": null,
            "left": null,
            "margin": null,
            "max_height": null,
            "max_width": null,
            "min_height": null,
            "min_width": null,
            "object_fit": null,
            "object_position": null,
            "order": null,
            "overflow": null,
            "overflow_x": null,
            "overflow_y": null,
            "padding": null,
            "right": null,
            "top": null,
            "visibility": null,
            "width": null
          }
        },
        "333112fddd6347e397cc60e59b48883e": {
          "model_module": "@jupyter-widgets/controls",
          "model_name": "ProgressStyleModel",
          "model_module_version": "1.5.0",
          "state": {
            "_model_module": "@jupyter-widgets/controls",
            "_model_module_version": "1.5.0",
            "_model_name": "ProgressStyleModel",
            "_view_count": null,
            "_view_module": "@jupyter-widgets/base",
            "_view_module_version": "1.2.0",
            "_view_name": "StyleView",
            "bar_color": null,
            "description_width": ""
          }
        },
        "d75e7b52c3cc42cfb9b668d5ab12bef9": {
          "model_module": "@jupyter-widgets/controls",
          "model_name": "VBoxModel",
          "model_module_version": "1.5.0",
          "state": {
            "_dom_classes": [],
            "_model_module": "@jupyter-widgets/controls",
            "_model_module_version": "1.5.0",
            "_model_name": "VBoxModel",
            "_view_count": null,
            "_view_module": "@jupyter-widgets/controls",
            "_view_module_version": "1.5.0",
            "_view_name": "VBoxView",
            "box_style": "",
            "children": [
              "IPY_MODEL_8007d8e8771a4cad8cb835aa542966fe",
              "IPY_MODEL_4392627d4a8148f8aaa5b23eb5693b2b"
            ],
            "layout": "IPY_MODEL_941f8afda8cb472daaa9c2fc063d8124"
          }
        },
        "8007d8e8771a4cad8cb835aa542966fe": {
          "model_module": "@jupyter-widgets/controls",
          "model_name": "LabelModel",
          "model_module_version": "1.5.0",
          "state": {
            "_dom_classes": [],
            "_model_module": "@jupyter-widgets/controls",
            "_model_module_version": "1.5.0",
            "_model_name": "LabelModel",
            "_view_count": null,
            "_view_module": "@jupyter-widgets/controls",
            "_view_module_version": "1.5.0",
            "_view_name": "LabelView",
            "description": "",
            "description_tooltip": null,
            "layout": "IPY_MODEL_b0e73527e20e41bdaeed11b72e5310fa",
            "placeholder": "​",
            "style": "IPY_MODEL_a38fca787e7d44749092c65c441e7a04",
            "value": "0.001 MB of 0.010 MB uploaded (0.000 MB deduped)\r"
          }
        },
        "4392627d4a8148f8aaa5b23eb5693b2b": {
          "model_module": "@jupyter-widgets/controls",
          "model_name": "FloatProgressModel",
          "model_module_version": "1.5.0",
          "state": {
            "_dom_classes": [],
            "_model_module": "@jupyter-widgets/controls",
            "_model_module_version": "1.5.0",
            "_model_name": "FloatProgressModel",
            "_view_count": null,
            "_view_module": "@jupyter-widgets/controls",
            "_view_module_version": "1.5.0",
            "_view_name": "ProgressView",
            "bar_style": "",
            "description": "",
            "description_tooltip": null,
            "layout": "IPY_MODEL_74f8763f0fe945deb8d9b0303bb399dd",
            "max": 1,
            "min": 0,
            "orientation": "horizontal",
            "style": "IPY_MODEL_d075467449194e7784a4dda23de4d5ca",
            "value": 0.07388724035608309
          }
        },
        "941f8afda8cb472daaa9c2fc063d8124": {
          "model_module": "@jupyter-widgets/base",
          "model_name": "LayoutModel",
          "model_module_version": "1.2.0",
          "state": {
            "_model_module": "@jupyter-widgets/base",
            "_model_module_version": "1.2.0",
            "_model_name": "LayoutModel",
            "_view_count": null,
            "_view_module": "@jupyter-widgets/base",
            "_view_module_version": "1.2.0",
            "_view_name": "LayoutView",
            "align_content": null,
            "align_items": null,
            "align_self": null,
            "border": null,
            "bottom": null,
            "display": null,
            "flex": null,
            "flex_flow": null,
            "grid_area": null,
            "grid_auto_columns": null,
            "grid_auto_flow": null,
            "grid_auto_rows": null,
            "grid_column": null,
            "grid_gap": null,
            "grid_row": null,
            "grid_template_areas": null,
            "grid_template_columns": null,
            "grid_template_rows": null,
            "height": null,
            "justify_content": null,
            "justify_items": null,
            "left": null,
            "margin": null,
            "max_height": null,
            "max_width": null,
            "min_height": null,
            "min_width": null,
            "object_fit": null,
            "object_position": null,
            "order": null,
            "overflow": null,
            "overflow_x": null,
            "overflow_y": null,
            "padding": null,
            "right": null,
            "top": null,
            "visibility": null,
            "width": null
          }
        },
        "b0e73527e20e41bdaeed11b72e5310fa": {
          "model_module": "@jupyter-widgets/base",
          "model_name": "LayoutModel",
          "model_module_version": "1.2.0",
          "state": {
            "_model_module": "@jupyter-widgets/base",
            "_model_module_version": "1.2.0",
            "_model_name": "LayoutModel",
            "_view_count": null,
            "_view_module": "@jupyter-widgets/base",
            "_view_module_version": "1.2.0",
            "_view_name": "LayoutView",
            "align_content": null,
            "align_items": null,
            "align_self": null,
            "border": null,
            "bottom": null,
            "display": null,
            "flex": null,
            "flex_flow": null,
            "grid_area": null,
            "grid_auto_columns": null,
            "grid_auto_flow": null,
            "grid_auto_rows": null,
            "grid_column": null,
            "grid_gap": null,
            "grid_row": null,
            "grid_template_areas": null,
            "grid_template_columns": null,
            "grid_template_rows": null,
            "height": null,
            "justify_content": null,
            "justify_items": null,
            "left": null,
            "margin": null,
            "max_height": null,
            "max_width": null,
            "min_height": null,
            "min_width": null,
            "object_fit": null,
            "object_position": null,
            "order": null,
            "overflow": null,
            "overflow_x": null,
            "overflow_y": null,
            "padding": null,
            "right": null,
            "top": null,
            "visibility": null,
            "width": null
          }
        },
        "a38fca787e7d44749092c65c441e7a04": {
          "model_module": "@jupyter-widgets/controls",
          "model_name": "DescriptionStyleModel",
          "model_module_version": "1.5.0",
          "state": {
            "_model_module": "@jupyter-widgets/controls",
            "_model_module_version": "1.5.0",
            "_model_name": "DescriptionStyleModel",
            "_view_count": null,
            "_view_module": "@jupyter-widgets/base",
            "_view_module_version": "1.2.0",
            "_view_name": "StyleView",
            "description_width": ""
          }
        },
        "74f8763f0fe945deb8d9b0303bb399dd": {
          "model_module": "@jupyter-widgets/base",
          "model_name": "LayoutModel",
          "model_module_version": "1.2.0",
          "state": {
            "_model_module": "@jupyter-widgets/base",
            "_model_module_version": "1.2.0",
            "_model_name": "LayoutModel",
            "_view_count": null,
            "_view_module": "@jupyter-widgets/base",
            "_view_module_version": "1.2.0",
            "_view_name": "LayoutView",
            "align_content": null,
            "align_items": null,
            "align_self": null,
            "border": null,
            "bottom": null,
            "display": null,
            "flex": null,
            "flex_flow": null,
            "grid_area": null,
            "grid_auto_columns": null,
            "grid_auto_flow": null,
            "grid_auto_rows": null,
            "grid_column": null,
            "grid_gap": null,
            "grid_row": null,
            "grid_template_areas": null,
            "grid_template_columns": null,
            "grid_template_rows": null,
            "height": null,
            "justify_content": null,
            "justify_items": null,
            "left": null,
            "margin": null,
            "max_height": null,
            "max_width": null,
            "min_height": null,
            "min_width": null,
            "object_fit": null,
            "object_position": null,
            "order": null,
            "overflow": null,
            "overflow_x": null,
            "overflow_y": null,
            "padding": null,
            "right": null,
            "top": null,
            "visibility": null,
            "width": null
          }
        },
        "d075467449194e7784a4dda23de4d5ca": {
          "model_module": "@jupyter-widgets/controls",
          "model_name": "ProgressStyleModel",
          "model_module_version": "1.5.0",
          "state": {
            "_model_module": "@jupyter-widgets/controls",
            "_model_module_version": "1.5.0",
            "_model_name": "ProgressStyleModel",
            "_view_count": null,
            "_view_module": "@jupyter-widgets/base",
            "_view_module_version": "1.2.0",
            "_view_name": "StyleView",
            "bar_color": null,
            "description_width": ""
          }
        },
        "0dd06f7419094220aca64d14dbe27d83": {
          "model_module": "@jupyter-widgets/controls",
          "model_name": "VBoxModel",
          "model_module_version": "1.5.0",
          "state": {
            "_dom_classes": [],
            "_model_module": "@jupyter-widgets/controls",
            "_model_module_version": "1.5.0",
            "_model_name": "VBoxModel",
            "_view_count": null,
            "_view_module": "@jupyter-widgets/controls",
            "_view_module_version": "1.5.0",
            "_view_name": "VBoxView",
            "box_style": "",
            "children": [
              "IPY_MODEL_7d4734144d7d4b68999c0a54261a4fe6",
              "IPY_MODEL_e2478a9a38844ec28b354aa2a0962d88"
            ],
            "layout": "IPY_MODEL_bb3bacdd729f48f69bca125ccb1c55d5"
          }
        },
        "7d4734144d7d4b68999c0a54261a4fe6": {
          "model_module": "@jupyter-widgets/controls",
          "model_name": "LabelModel",
          "model_module_version": "1.5.0",
          "state": {
            "_dom_classes": [],
            "_model_module": "@jupyter-widgets/controls",
            "_model_module_version": "1.5.0",
            "_model_name": "LabelModel",
            "_view_count": null,
            "_view_module": "@jupyter-widgets/controls",
            "_view_module_version": "1.5.0",
            "_view_name": "LabelView",
            "description": "",
            "description_tooltip": null,
            "layout": "IPY_MODEL_90647b9f7637487f8cfb22351c8c3db6",
            "placeholder": "​",
            "style": "IPY_MODEL_f483e223942447968e4311daa8d262d2",
            "value": "0.001 MB of 0.011 MB uploaded (0.000 MB deduped)\r"
          }
        },
        "e2478a9a38844ec28b354aa2a0962d88": {
          "model_module": "@jupyter-widgets/controls",
          "model_name": "FloatProgressModel",
          "model_module_version": "1.5.0",
          "state": {
            "_dom_classes": [],
            "_model_module": "@jupyter-widgets/controls",
            "_model_module_version": "1.5.0",
            "_model_name": "FloatProgressModel",
            "_view_count": null,
            "_view_module": "@jupyter-widgets/controls",
            "_view_module_version": "1.5.0",
            "_view_name": "ProgressView",
            "bar_style": "",
            "description": "",
            "description_tooltip": null,
            "layout": "IPY_MODEL_a9b791d09ee341548d017a9af3a0b0b2",
            "max": 1,
            "min": 0,
            "orientation": "horizontal",
            "style": "IPY_MODEL_8903725575ae4e06a99a255b8e3a4497",
            "value": 0.06525727264785533
          }
        },
        "bb3bacdd729f48f69bca125ccb1c55d5": {
          "model_module": "@jupyter-widgets/base",
          "model_name": "LayoutModel",
          "model_module_version": "1.2.0",
          "state": {
            "_model_module": "@jupyter-widgets/base",
            "_model_module_version": "1.2.0",
            "_model_name": "LayoutModel",
            "_view_count": null,
            "_view_module": "@jupyter-widgets/base",
            "_view_module_version": "1.2.0",
            "_view_name": "LayoutView",
            "align_content": null,
            "align_items": null,
            "align_self": null,
            "border": null,
            "bottom": null,
            "display": null,
            "flex": null,
            "flex_flow": null,
            "grid_area": null,
            "grid_auto_columns": null,
            "grid_auto_flow": null,
            "grid_auto_rows": null,
            "grid_column": null,
            "grid_gap": null,
            "grid_row": null,
            "grid_template_areas": null,
            "grid_template_columns": null,
            "grid_template_rows": null,
            "height": null,
            "justify_content": null,
            "justify_items": null,
            "left": null,
            "margin": null,
            "max_height": null,
            "max_width": null,
            "min_height": null,
            "min_width": null,
            "object_fit": null,
            "object_position": null,
            "order": null,
            "overflow": null,
            "overflow_x": null,
            "overflow_y": null,
            "padding": null,
            "right": null,
            "top": null,
            "visibility": null,
            "width": null
          }
        },
        "90647b9f7637487f8cfb22351c8c3db6": {
          "model_module": "@jupyter-widgets/base",
          "model_name": "LayoutModel",
          "model_module_version": "1.2.0",
          "state": {
            "_model_module": "@jupyter-widgets/base",
            "_model_module_version": "1.2.0",
            "_model_name": "LayoutModel",
            "_view_count": null,
            "_view_module": "@jupyter-widgets/base",
            "_view_module_version": "1.2.0",
            "_view_name": "LayoutView",
            "align_content": null,
            "align_items": null,
            "align_self": null,
            "border": null,
            "bottom": null,
            "display": null,
            "flex": null,
            "flex_flow": null,
            "grid_area": null,
            "grid_auto_columns": null,
            "grid_auto_flow": null,
            "grid_auto_rows": null,
            "grid_column": null,
            "grid_gap": null,
            "grid_row": null,
            "grid_template_areas": null,
            "grid_template_columns": null,
            "grid_template_rows": null,
            "height": null,
            "justify_content": null,
            "justify_items": null,
            "left": null,
            "margin": null,
            "max_height": null,
            "max_width": null,
            "min_height": null,
            "min_width": null,
            "object_fit": null,
            "object_position": null,
            "order": null,
            "overflow": null,
            "overflow_x": null,
            "overflow_y": null,
            "padding": null,
            "right": null,
            "top": null,
            "visibility": null,
            "width": null
          }
        },
        "f483e223942447968e4311daa8d262d2": {
          "model_module": "@jupyter-widgets/controls",
          "model_name": "DescriptionStyleModel",
          "model_module_version": "1.5.0",
          "state": {
            "_model_module": "@jupyter-widgets/controls",
            "_model_module_version": "1.5.0",
            "_model_name": "DescriptionStyleModel",
            "_view_count": null,
            "_view_module": "@jupyter-widgets/base",
            "_view_module_version": "1.2.0",
            "_view_name": "StyleView",
            "description_width": ""
          }
        },
        "a9b791d09ee341548d017a9af3a0b0b2": {
          "model_module": "@jupyter-widgets/base",
          "model_name": "LayoutModel",
          "model_module_version": "1.2.0",
          "state": {
            "_model_module": "@jupyter-widgets/base",
            "_model_module_version": "1.2.0",
            "_model_name": "LayoutModel",
            "_view_count": null,
            "_view_module": "@jupyter-widgets/base",
            "_view_module_version": "1.2.0",
            "_view_name": "LayoutView",
            "align_content": null,
            "align_items": null,
            "align_self": null,
            "border": null,
            "bottom": null,
            "display": null,
            "flex": null,
            "flex_flow": null,
            "grid_area": null,
            "grid_auto_columns": null,
            "grid_auto_flow": null,
            "grid_auto_rows": null,
            "grid_column": null,
            "grid_gap": null,
            "grid_row": null,
            "grid_template_areas": null,
            "grid_template_columns": null,
            "grid_template_rows": null,
            "height": null,
            "justify_content": null,
            "justify_items": null,
            "left": null,
            "margin": null,
            "max_height": null,
            "max_width": null,
            "min_height": null,
            "min_width": null,
            "object_fit": null,
            "object_position": null,
            "order": null,
            "overflow": null,
            "overflow_x": null,
            "overflow_y": null,
            "padding": null,
            "right": null,
            "top": null,
            "visibility": null,
            "width": null
          }
        },
        "8903725575ae4e06a99a255b8e3a4497": {
          "model_module": "@jupyter-widgets/controls",
          "model_name": "ProgressStyleModel",
          "model_module_version": "1.5.0",
          "state": {
            "_model_module": "@jupyter-widgets/controls",
            "_model_module_version": "1.5.0",
            "_model_name": "ProgressStyleModel",
            "_view_count": null,
            "_view_module": "@jupyter-widgets/base",
            "_view_module_version": "1.2.0",
            "_view_name": "StyleView",
            "bar_color": null,
            "description_width": ""
          }
        },
        "514526ae53fb4539aab7200e1fdce127": {
          "model_module": "@jupyter-widgets/controls",
          "model_name": "VBoxModel",
          "model_module_version": "1.5.0",
          "state": {
            "_dom_classes": [],
            "_model_module": "@jupyter-widgets/controls",
            "_model_module_version": "1.5.0",
            "_model_name": "VBoxModel",
            "_view_count": null,
            "_view_module": "@jupyter-widgets/controls",
            "_view_module_version": "1.5.0",
            "_view_name": "VBoxView",
            "box_style": "",
            "children": [
              "IPY_MODEL_fbda4c0fddc5487fab98b7e97e168a8b",
              "IPY_MODEL_0e72b386134c469ca894edf4796e526e"
            ],
            "layout": "IPY_MODEL_5eab19ef34e1421ca6df869295b4318b"
          }
        },
        "fbda4c0fddc5487fab98b7e97e168a8b": {
          "model_module": "@jupyter-widgets/controls",
          "model_name": "LabelModel",
          "model_module_version": "1.5.0",
          "state": {
            "_dom_classes": [],
            "_model_module": "@jupyter-widgets/controls",
            "_model_module_version": "1.5.0",
            "_model_name": "LabelModel",
            "_view_count": null,
            "_view_module": "@jupyter-widgets/controls",
            "_view_module_version": "1.5.0",
            "_view_name": "LabelView",
            "description": "",
            "description_tooltip": null,
            "layout": "IPY_MODEL_1367336bf2354dddb7d4ddc9eed037c9",
            "placeholder": "​",
            "style": "IPY_MODEL_5df0e5448a8b41d9a0c4bb8f658f214e",
            "value": "0.001 MB of 0.010 MB uploaded (0.000 MB deduped)\r"
          }
        },
        "0e72b386134c469ca894edf4796e526e": {
          "model_module": "@jupyter-widgets/controls",
          "model_name": "FloatProgressModel",
          "model_module_version": "1.5.0",
          "state": {
            "_dom_classes": [],
            "_model_module": "@jupyter-widgets/controls",
            "_model_module_version": "1.5.0",
            "_model_name": "FloatProgressModel",
            "_view_count": null,
            "_view_module": "@jupyter-widgets/controls",
            "_view_module_version": "1.5.0",
            "_view_name": "ProgressView",
            "bar_style": "",
            "description": "",
            "description_tooltip": null,
            "layout": "IPY_MODEL_ee6ff8557e124dca90a0a4afc5d0e0e7",
            "max": 1,
            "min": 0,
            "orientation": "horizontal",
            "style": "IPY_MODEL_64dd4b12faea42a3b3a528a662d87a98",
            "value": 0.0739164852562834
          }
        },
        "5eab19ef34e1421ca6df869295b4318b": {
          "model_module": "@jupyter-widgets/base",
          "model_name": "LayoutModel",
          "model_module_version": "1.2.0",
          "state": {
            "_model_module": "@jupyter-widgets/base",
            "_model_module_version": "1.2.0",
            "_model_name": "LayoutModel",
            "_view_count": null,
            "_view_module": "@jupyter-widgets/base",
            "_view_module_version": "1.2.0",
            "_view_name": "LayoutView",
            "align_content": null,
            "align_items": null,
            "align_self": null,
            "border": null,
            "bottom": null,
            "display": null,
            "flex": null,
            "flex_flow": null,
            "grid_area": null,
            "grid_auto_columns": null,
            "grid_auto_flow": null,
            "grid_auto_rows": null,
            "grid_column": null,
            "grid_gap": null,
            "grid_row": null,
            "grid_template_areas": null,
            "grid_template_columns": null,
            "grid_template_rows": null,
            "height": null,
            "justify_content": null,
            "justify_items": null,
            "left": null,
            "margin": null,
            "max_height": null,
            "max_width": null,
            "min_height": null,
            "min_width": null,
            "object_fit": null,
            "object_position": null,
            "order": null,
            "overflow": null,
            "overflow_x": null,
            "overflow_y": null,
            "padding": null,
            "right": null,
            "top": null,
            "visibility": null,
            "width": null
          }
        },
        "1367336bf2354dddb7d4ddc9eed037c9": {
          "model_module": "@jupyter-widgets/base",
          "model_name": "LayoutModel",
          "model_module_version": "1.2.0",
          "state": {
            "_model_module": "@jupyter-widgets/base",
            "_model_module_version": "1.2.0",
            "_model_name": "LayoutModel",
            "_view_count": null,
            "_view_module": "@jupyter-widgets/base",
            "_view_module_version": "1.2.0",
            "_view_name": "LayoutView",
            "align_content": null,
            "align_items": null,
            "align_self": null,
            "border": null,
            "bottom": null,
            "display": null,
            "flex": null,
            "flex_flow": null,
            "grid_area": null,
            "grid_auto_columns": null,
            "grid_auto_flow": null,
            "grid_auto_rows": null,
            "grid_column": null,
            "grid_gap": null,
            "grid_row": null,
            "grid_template_areas": null,
            "grid_template_columns": null,
            "grid_template_rows": null,
            "height": null,
            "justify_content": null,
            "justify_items": null,
            "left": null,
            "margin": null,
            "max_height": null,
            "max_width": null,
            "min_height": null,
            "min_width": null,
            "object_fit": null,
            "object_position": null,
            "order": null,
            "overflow": null,
            "overflow_x": null,
            "overflow_y": null,
            "padding": null,
            "right": null,
            "top": null,
            "visibility": null,
            "width": null
          }
        },
        "5df0e5448a8b41d9a0c4bb8f658f214e": {
          "model_module": "@jupyter-widgets/controls",
          "model_name": "DescriptionStyleModel",
          "model_module_version": "1.5.0",
          "state": {
            "_model_module": "@jupyter-widgets/controls",
            "_model_module_version": "1.5.0",
            "_model_name": "DescriptionStyleModel",
            "_view_count": null,
            "_view_module": "@jupyter-widgets/base",
            "_view_module_version": "1.2.0",
            "_view_name": "StyleView",
            "description_width": ""
          }
        },
        "ee6ff8557e124dca90a0a4afc5d0e0e7": {
          "model_module": "@jupyter-widgets/base",
          "model_name": "LayoutModel",
          "model_module_version": "1.2.0",
          "state": {
            "_model_module": "@jupyter-widgets/base",
            "_model_module_version": "1.2.0",
            "_model_name": "LayoutModel",
            "_view_count": null,
            "_view_module": "@jupyter-widgets/base",
            "_view_module_version": "1.2.0",
            "_view_name": "LayoutView",
            "align_content": null,
            "align_items": null,
            "align_self": null,
            "border": null,
            "bottom": null,
            "display": null,
            "flex": null,
            "flex_flow": null,
            "grid_area": null,
            "grid_auto_columns": null,
            "grid_auto_flow": null,
            "grid_auto_rows": null,
            "grid_column": null,
            "grid_gap": null,
            "grid_row": null,
            "grid_template_areas": null,
            "grid_template_columns": null,
            "grid_template_rows": null,
            "height": null,
            "justify_content": null,
            "justify_items": null,
            "left": null,
            "margin": null,
            "max_height": null,
            "max_width": null,
            "min_height": null,
            "min_width": null,
            "object_fit": null,
            "object_position": null,
            "order": null,
            "overflow": null,
            "overflow_x": null,
            "overflow_y": null,
            "padding": null,
            "right": null,
            "top": null,
            "visibility": null,
            "width": null
          }
        },
        "64dd4b12faea42a3b3a528a662d87a98": {
          "model_module": "@jupyter-widgets/controls",
          "model_name": "ProgressStyleModel",
          "model_module_version": "1.5.0",
          "state": {
            "_model_module": "@jupyter-widgets/controls",
            "_model_module_version": "1.5.0",
            "_model_name": "ProgressStyleModel",
            "_view_count": null,
            "_view_module": "@jupyter-widgets/base",
            "_view_module_version": "1.2.0",
            "_view_name": "StyleView",
            "bar_color": null,
            "description_width": ""
          }
        },
        "7d851105f25a439b82faa4dbb72d1827": {
          "model_module": "@jupyter-widgets/controls",
          "model_name": "VBoxModel",
          "model_module_version": "1.5.0",
          "state": {
            "_dom_classes": [],
            "_model_module": "@jupyter-widgets/controls",
            "_model_module_version": "1.5.0",
            "_model_name": "VBoxModel",
            "_view_count": null,
            "_view_module": "@jupyter-widgets/controls",
            "_view_module_version": "1.5.0",
            "_view_name": "VBoxView",
            "box_style": "",
            "children": [
              "IPY_MODEL_90e8d1d3e66c48b3865ff63b5ae9041a",
              "IPY_MODEL_9fc99cdd73af42e5ba9c6c943869c3c6"
            ],
            "layout": "IPY_MODEL_60ec90db1c5f41f1b2cd80c2aeb02779"
          }
        },
        "90e8d1d3e66c48b3865ff63b5ae9041a": {
          "model_module": "@jupyter-widgets/controls",
          "model_name": "LabelModel",
          "model_module_version": "1.5.0",
          "state": {
            "_dom_classes": [],
            "_model_module": "@jupyter-widgets/controls",
            "_model_module_version": "1.5.0",
            "_model_name": "LabelModel",
            "_view_count": null,
            "_view_module": "@jupyter-widgets/controls",
            "_view_module_version": "1.5.0",
            "_view_name": "LabelView",
            "description": "",
            "description_tooltip": null,
            "layout": "IPY_MODEL_82c56d37cb3a4c36bd1f788af0e61fb6",
            "placeholder": "​",
            "style": "IPY_MODEL_f4ffb02af6f64a6384efe822732ba6d8",
            "value": "0.001 MB of 0.009 MB uploaded (0.000 MB deduped)\r"
          }
        },
        "9fc99cdd73af42e5ba9c6c943869c3c6": {
          "model_module": "@jupyter-widgets/controls",
          "model_name": "FloatProgressModel",
          "model_module_version": "1.5.0",
          "state": {
            "_dom_classes": [],
            "_model_module": "@jupyter-widgets/controls",
            "_model_module_version": "1.5.0",
            "_model_name": "FloatProgressModel",
            "_view_count": null,
            "_view_module": "@jupyter-widgets/controls",
            "_view_module_version": "1.5.0",
            "_view_name": "ProgressView",
            "bar_style": "",
            "description": "",
            "description_tooltip": null,
            "layout": "IPY_MODEL_c97f870e734e43e194683afddbfbd480",
            "max": 1,
            "min": 0,
            "orientation": "horizontal",
            "style": "IPY_MODEL_daf6e30abc5b4bd4abb0ee2ac02de3d8",
            "value": 0.08327759197324415
          }
        },
        "60ec90db1c5f41f1b2cd80c2aeb02779": {
          "model_module": "@jupyter-widgets/base",
          "model_name": "LayoutModel",
          "model_module_version": "1.2.0",
          "state": {
            "_model_module": "@jupyter-widgets/base",
            "_model_module_version": "1.2.0",
            "_model_name": "LayoutModel",
            "_view_count": null,
            "_view_module": "@jupyter-widgets/base",
            "_view_module_version": "1.2.0",
            "_view_name": "LayoutView",
            "align_content": null,
            "align_items": null,
            "align_self": null,
            "border": null,
            "bottom": null,
            "display": null,
            "flex": null,
            "flex_flow": null,
            "grid_area": null,
            "grid_auto_columns": null,
            "grid_auto_flow": null,
            "grid_auto_rows": null,
            "grid_column": null,
            "grid_gap": null,
            "grid_row": null,
            "grid_template_areas": null,
            "grid_template_columns": null,
            "grid_template_rows": null,
            "height": null,
            "justify_content": null,
            "justify_items": null,
            "left": null,
            "margin": null,
            "max_height": null,
            "max_width": null,
            "min_height": null,
            "min_width": null,
            "object_fit": null,
            "object_position": null,
            "order": null,
            "overflow": null,
            "overflow_x": null,
            "overflow_y": null,
            "padding": null,
            "right": null,
            "top": null,
            "visibility": null,
            "width": null
          }
        },
        "82c56d37cb3a4c36bd1f788af0e61fb6": {
          "model_module": "@jupyter-widgets/base",
          "model_name": "LayoutModel",
          "model_module_version": "1.2.0",
          "state": {
            "_model_module": "@jupyter-widgets/base",
            "_model_module_version": "1.2.0",
            "_model_name": "LayoutModel",
            "_view_count": null,
            "_view_module": "@jupyter-widgets/base",
            "_view_module_version": "1.2.0",
            "_view_name": "LayoutView",
            "align_content": null,
            "align_items": null,
            "align_self": null,
            "border": null,
            "bottom": null,
            "display": null,
            "flex": null,
            "flex_flow": null,
            "grid_area": null,
            "grid_auto_columns": null,
            "grid_auto_flow": null,
            "grid_auto_rows": null,
            "grid_column": null,
            "grid_gap": null,
            "grid_row": null,
            "grid_template_areas": null,
            "grid_template_columns": null,
            "grid_template_rows": null,
            "height": null,
            "justify_content": null,
            "justify_items": null,
            "left": null,
            "margin": null,
            "max_height": null,
            "max_width": null,
            "min_height": null,
            "min_width": null,
            "object_fit": null,
            "object_position": null,
            "order": null,
            "overflow": null,
            "overflow_x": null,
            "overflow_y": null,
            "padding": null,
            "right": null,
            "top": null,
            "visibility": null,
            "width": null
          }
        },
        "f4ffb02af6f64a6384efe822732ba6d8": {
          "model_module": "@jupyter-widgets/controls",
          "model_name": "DescriptionStyleModel",
          "model_module_version": "1.5.0",
          "state": {
            "_model_module": "@jupyter-widgets/controls",
            "_model_module_version": "1.5.0",
            "_model_name": "DescriptionStyleModel",
            "_view_count": null,
            "_view_module": "@jupyter-widgets/base",
            "_view_module_version": "1.2.0",
            "_view_name": "StyleView",
            "description_width": ""
          }
        },
        "c97f870e734e43e194683afddbfbd480": {
          "model_module": "@jupyter-widgets/base",
          "model_name": "LayoutModel",
          "model_module_version": "1.2.0",
          "state": {
            "_model_module": "@jupyter-widgets/base",
            "_model_module_version": "1.2.0",
            "_model_name": "LayoutModel",
            "_view_count": null,
            "_view_module": "@jupyter-widgets/base",
            "_view_module_version": "1.2.0",
            "_view_name": "LayoutView",
            "align_content": null,
            "align_items": null,
            "align_self": null,
            "border": null,
            "bottom": null,
            "display": null,
            "flex": null,
            "flex_flow": null,
            "grid_area": null,
            "grid_auto_columns": null,
            "grid_auto_flow": null,
            "grid_auto_rows": null,
            "grid_column": null,
            "grid_gap": null,
            "grid_row": null,
            "grid_template_areas": null,
            "grid_template_columns": null,
            "grid_template_rows": null,
            "height": null,
            "justify_content": null,
            "justify_items": null,
            "left": null,
            "margin": null,
            "max_height": null,
            "max_width": null,
            "min_height": null,
            "min_width": null,
            "object_fit": null,
            "object_position": null,
            "order": null,
            "overflow": null,
            "overflow_x": null,
            "overflow_y": null,
            "padding": null,
            "right": null,
            "top": null,
            "visibility": null,
            "width": null
          }
        },
        "daf6e30abc5b4bd4abb0ee2ac02de3d8": {
          "model_module": "@jupyter-widgets/controls",
          "model_name": "ProgressStyleModel",
          "model_module_version": "1.5.0",
          "state": {
            "_model_module": "@jupyter-widgets/controls",
            "_model_module_version": "1.5.0",
            "_model_name": "ProgressStyleModel",
            "_view_count": null,
            "_view_module": "@jupyter-widgets/base",
            "_view_module_version": "1.2.0",
            "_view_name": "StyleView",
            "bar_color": null,
            "description_width": ""
          }
        },
        "76e83175a16148b088fb29dcf857b932": {
          "model_module": "@jupyter-widgets/controls",
          "model_name": "VBoxModel",
          "model_module_version": "1.5.0",
          "state": {
            "_dom_classes": [],
            "_model_module": "@jupyter-widgets/controls",
            "_model_module_version": "1.5.0",
            "_model_name": "VBoxModel",
            "_view_count": null,
            "_view_module": "@jupyter-widgets/controls",
            "_view_module_version": "1.5.0",
            "_view_name": "VBoxView",
            "box_style": "",
            "children": [
              "IPY_MODEL_3dd672a5939e474c97a456b1cb513797",
              "IPY_MODEL_075b9a4a128a4471b0a47645a413d194"
            ],
            "layout": "IPY_MODEL_b4354097721e4890b9504e92baec0ab9"
          }
        },
        "3dd672a5939e474c97a456b1cb513797": {
          "model_module": "@jupyter-widgets/controls",
          "model_name": "LabelModel",
          "model_module_version": "1.5.0",
          "state": {
            "_dom_classes": [],
            "_model_module": "@jupyter-widgets/controls",
            "_model_module_version": "1.5.0",
            "_model_name": "LabelModel",
            "_view_count": null,
            "_view_module": "@jupyter-widgets/controls",
            "_view_module_version": "1.5.0",
            "_view_name": "LabelView",
            "description": "",
            "description_tooltip": null,
            "layout": "IPY_MODEL_7744b67613644986988b4c6968e09e96",
            "placeholder": "​",
            "style": "IPY_MODEL_a6e12a3d5e894070b93c6331f3b20c77",
            "value": "0.001 MB of 0.009 MB uploaded (0.000 MB deduped)\r"
          }
        },
        "075b9a4a128a4471b0a47645a413d194": {
          "model_module": "@jupyter-widgets/controls",
          "model_name": "FloatProgressModel",
          "model_module_version": "1.5.0",
          "state": {
            "_dom_classes": [],
            "_model_module": "@jupyter-widgets/controls",
            "_model_module_version": "1.5.0",
            "_model_name": "FloatProgressModel",
            "_view_count": null,
            "_view_module": "@jupyter-widgets/controls",
            "_view_module_version": "1.5.0",
            "_view_name": "ProgressView",
            "bar_style": "",
            "description": "",
            "description_tooltip": null,
            "layout": "IPY_MODEL_da351200099248a1a9055f3b33483914",
            "max": 1,
            "min": 0,
            "orientation": "horizontal",
            "style": "IPY_MODEL_1d7740110bf54956b36e2771dc13da75",
            "value": 0.08325902808738297
          }
        },
        "b4354097721e4890b9504e92baec0ab9": {
          "model_module": "@jupyter-widgets/base",
          "model_name": "LayoutModel",
          "model_module_version": "1.2.0",
          "state": {
            "_model_module": "@jupyter-widgets/base",
            "_model_module_version": "1.2.0",
            "_model_name": "LayoutModel",
            "_view_count": null,
            "_view_module": "@jupyter-widgets/base",
            "_view_module_version": "1.2.0",
            "_view_name": "LayoutView",
            "align_content": null,
            "align_items": null,
            "align_self": null,
            "border": null,
            "bottom": null,
            "display": null,
            "flex": null,
            "flex_flow": null,
            "grid_area": null,
            "grid_auto_columns": null,
            "grid_auto_flow": null,
            "grid_auto_rows": null,
            "grid_column": null,
            "grid_gap": null,
            "grid_row": null,
            "grid_template_areas": null,
            "grid_template_columns": null,
            "grid_template_rows": null,
            "height": null,
            "justify_content": null,
            "justify_items": null,
            "left": null,
            "margin": null,
            "max_height": null,
            "max_width": null,
            "min_height": null,
            "min_width": null,
            "object_fit": null,
            "object_position": null,
            "order": null,
            "overflow": null,
            "overflow_x": null,
            "overflow_y": null,
            "padding": null,
            "right": null,
            "top": null,
            "visibility": null,
            "width": null
          }
        },
        "7744b67613644986988b4c6968e09e96": {
          "model_module": "@jupyter-widgets/base",
          "model_name": "LayoutModel",
          "model_module_version": "1.2.0",
          "state": {
            "_model_module": "@jupyter-widgets/base",
            "_model_module_version": "1.2.0",
            "_model_name": "LayoutModel",
            "_view_count": null,
            "_view_module": "@jupyter-widgets/base",
            "_view_module_version": "1.2.0",
            "_view_name": "LayoutView",
            "align_content": null,
            "align_items": null,
            "align_self": null,
            "border": null,
            "bottom": null,
            "display": null,
            "flex": null,
            "flex_flow": null,
            "grid_area": null,
            "grid_auto_columns": null,
            "grid_auto_flow": null,
            "grid_auto_rows": null,
            "grid_column": null,
            "grid_gap": null,
            "grid_row": null,
            "grid_template_areas": null,
            "grid_template_columns": null,
            "grid_template_rows": null,
            "height": null,
            "justify_content": null,
            "justify_items": null,
            "left": null,
            "margin": null,
            "max_height": null,
            "max_width": null,
            "min_height": null,
            "min_width": null,
            "object_fit": null,
            "object_position": null,
            "order": null,
            "overflow": null,
            "overflow_x": null,
            "overflow_y": null,
            "padding": null,
            "right": null,
            "top": null,
            "visibility": null,
            "width": null
          }
        },
        "a6e12a3d5e894070b93c6331f3b20c77": {
          "model_module": "@jupyter-widgets/controls",
          "model_name": "DescriptionStyleModel",
          "model_module_version": "1.5.0",
          "state": {
            "_model_module": "@jupyter-widgets/controls",
            "_model_module_version": "1.5.0",
            "_model_name": "DescriptionStyleModel",
            "_view_count": null,
            "_view_module": "@jupyter-widgets/base",
            "_view_module_version": "1.2.0",
            "_view_name": "StyleView",
            "description_width": ""
          }
        },
        "da351200099248a1a9055f3b33483914": {
          "model_module": "@jupyter-widgets/base",
          "model_name": "LayoutModel",
          "model_module_version": "1.2.0",
          "state": {
            "_model_module": "@jupyter-widgets/base",
            "_model_module_version": "1.2.0",
            "_model_name": "LayoutModel",
            "_view_count": null,
            "_view_module": "@jupyter-widgets/base",
            "_view_module_version": "1.2.0",
            "_view_name": "LayoutView",
            "align_content": null,
            "align_items": null,
            "align_self": null,
            "border": null,
            "bottom": null,
            "display": null,
            "flex": null,
            "flex_flow": null,
            "grid_area": null,
            "grid_auto_columns": null,
            "grid_auto_flow": null,
            "grid_auto_rows": null,
            "grid_column": null,
            "grid_gap": null,
            "grid_row": null,
            "grid_template_areas": null,
            "grid_template_columns": null,
            "grid_template_rows": null,
            "height": null,
            "justify_content": null,
            "justify_items": null,
            "left": null,
            "margin": null,
            "max_height": null,
            "max_width": null,
            "min_height": null,
            "min_width": null,
            "object_fit": null,
            "object_position": null,
            "order": null,
            "overflow": null,
            "overflow_x": null,
            "overflow_y": null,
            "padding": null,
            "right": null,
            "top": null,
            "visibility": null,
            "width": null
          }
        },
        "1d7740110bf54956b36e2771dc13da75": {
          "model_module": "@jupyter-widgets/controls",
          "model_name": "ProgressStyleModel",
          "model_module_version": "1.5.0",
          "state": {
            "_model_module": "@jupyter-widgets/controls",
            "_model_module_version": "1.5.0",
            "_model_name": "ProgressStyleModel",
            "_view_count": null,
            "_view_module": "@jupyter-widgets/base",
            "_view_module_version": "1.2.0",
            "_view_name": "StyleView",
            "bar_color": null,
            "description_width": ""
          }
        },
        "7aa0369ad7b44af9b85d62073a55f2c1": {
          "model_module": "@jupyter-widgets/controls",
          "model_name": "VBoxModel",
          "model_module_version": "1.5.0",
          "state": {
            "_dom_classes": [],
            "_model_module": "@jupyter-widgets/controls",
            "_model_module_version": "1.5.0",
            "_model_name": "VBoxModel",
            "_view_count": null,
            "_view_module": "@jupyter-widgets/controls",
            "_view_module_version": "1.5.0",
            "_view_name": "VBoxView",
            "box_style": "",
            "children": [
              "IPY_MODEL_8dc970aa6215455cb02f4d218886f8f3",
              "IPY_MODEL_0407421507834324acff901d8c75accc"
            ],
            "layout": "IPY_MODEL_4ce44c02c1d0486fbd69a085c0e01497"
          }
        },
        "8dc970aa6215455cb02f4d218886f8f3": {
          "model_module": "@jupyter-widgets/controls",
          "model_name": "LabelModel",
          "model_module_version": "1.5.0",
          "state": {
            "_dom_classes": [],
            "_model_module": "@jupyter-widgets/controls",
            "_model_module_version": "1.5.0",
            "_model_name": "LabelModel",
            "_view_count": null,
            "_view_module": "@jupyter-widgets/controls",
            "_view_module_version": "1.5.0",
            "_view_name": "LabelView",
            "description": "",
            "description_tooltip": null,
            "layout": "IPY_MODEL_95d244d010764ae88739373ed6999e48",
            "placeholder": "​",
            "style": "IPY_MODEL_eafb58a2d429401fa8d743eb12bd21b9",
            "value": "0.001 MB of 0.001 MB uploaded (0.000 MB deduped)\r"
          }
        },
        "0407421507834324acff901d8c75accc": {
          "model_module": "@jupyter-widgets/controls",
          "model_name": "FloatProgressModel",
          "model_module_version": "1.5.0",
          "state": {
            "_dom_classes": [],
            "_model_module": "@jupyter-widgets/controls",
            "_model_module_version": "1.5.0",
            "_model_name": "FloatProgressModel",
            "_view_count": null,
            "_view_module": "@jupyter-widgets/controls",
            "_view_module_version": "1.5.0",
            "_view_name": "ProgressView",
            "bar_style": "",
            "description": "",
            "description_tooltip": null,
            "layout": "IPY_MODEL_2ff17e447d6e4cbba7256989586d5e3c",
            "max": 1,
            "min": 0,
            "orientation": "horizontal",
            "style": "IPY_MODEL_0f56dbd8322d431da8f7d6d387b91709",
            "value": 1
          }
        },
        "4ce44c02c1d0486fbd69a085c0e01497": {
          "model_module": "@jupyter-widgets/base",
          "model_name": "LayoutModel",
          "model_module_version": "1.2.0",
          "state": {
            "_model_module": "@jupyter-widgets/base",
            "_model_module_version": "1.2.0",
            "_model_name": "LayoutModel",
            "_view_count": null,
            "_view_module": "@jupyter-widgets/base",
            "_view_module_version": "1.2.0",
            "_view_name": "LayoutView",
            "align_content": null,
            "align_items": null,
            "align_self": null,
            "border": null,
            "bottom": null,
            "display": null,
            "flex": null,
            "flex_flow": null,
            "grid_area": null,
            "grid_auto_columns": null,
            "grid_auto_flow": null,
            "grid_auto_rows": null,
            "grid_column": null,
            "grid_gap": null,
            "grid_row": null,
            "grid_template_areas": null,
            "grid_template_columns": null,
            "grid_template_rows": null,
            "height": null,
            "justify_content": null,
            "justify_items": null,
            "left": null,
            "margin": null,
            "max_height": null,
            "max_width": null,
            "min_height": null,
            "min_width": null,
            "object_fit": null,
            "object_position": null,
            "order": null,
            "overflow": null,
            "overflow_x": null,
            "overflow_y": null,
            "padding": null,
            "right": null,
            "top": null,
            "visibility": null,
            "width": null
          }
        },
        "95d244d010764ae88739373ed6999e48": {
          "model_module": "@jupyter-widgets/base",
          "model_name": "LayoutModel",
          "model_module_version": "1.2.0",
          "state": {
            "_model_module": "@jupyter-widgets/base",
            "_model_module_version": "1.2.0",
            "_model_name": "LayoutModel",
            "_view_count": null,
            "_view_module": "@jupyter-widgets/base",
            "_view_module_version": "1.2.0",
            "_view_name": "LayoutView",
            "align_content": null,
            "align_items": null,
            "align_self": null,
            "border": null,
            "bottom": null,
            "display": null,
            "flex": null,
            "flex_flow": null,
            "grid_area": null,
            "grid_auto_columns": null,
            "grid_auto_flow": null,
            "grid_auto_rows": null,
            "grid_column": null,
            "grid_gap": null,
            "grid_row": null,
            "grid_template_areas": null,
            "grid_template_columns": null,
            "grid_template_rows": null,
            "height": null,
            "justify_content": null,
            "justify_items": null,
            "left": null,
            "margin": null,
            "max_height": null,
            "max_width": null,
            "min_height": null,
            "min_width": null,
            "object_fit": null,
            "object_position": null,
            "order": null,
            "overflow": null,
            "overflow_x": null,
            "overflow_y": null,
            "padding": null,
            "right": null,
            "top": null,
            "visibility": null,
            "width": null
          }
        },
        "eafb58a2d429401fa8d743eb12bd21b9": {
          "model_module": "@jupyter-widgets/controls",
          "model_name": "DescriptionStyleModel",
          "model_module_version": "1.5.0",
          "state": {
            "_model_module": "@jupyter-widgets/controls",
            "_model_module_version": "1.5.0",
            "_model_name": "DescriptionStyleModel",
            "_view_count": null,
            "_view_module": "@jupyter-widgets/base",
            "_view_module_version": "1.2.0",
            "_view_name": "StyleView",
            "description_width": ""
          }
        },
        "2ff17e447d6e4cbba7256989586d5e3c": {
          "model_module": "@jupyter-widgets/base",
          "model_name": "LayoutModel",
          "model_module_version": "1.2.0",
          "state": {
            "_model_module": "@jupyter-widgets/base",
            "_model_module_version": "1.2.0",
            "_model_name": "LayoutModel",
            "_view_count": null,
            "_view_module": "@jupyter-widgets/base",
            "_view_module_version": "1.2.0",
            "_view_name": "LayoutView",
            "align_content": null,
            "align_items": null,
            "align_self": null,
            "border": null,
            "bottom": null,
            "display": null,
            "flex": null,
            "flex_flow": null,
            "grid_area": null,
            "grid_auto_columns": null,
            "grid_auto_flow": null,
            "grid_auto_rows": null,
            "grid_column": null,
            "grid_gap": null,
            "grid_row": null,
            "grid_template_areas": null,
            "grid_template_columns": null,
            "grid_template_rows": null,
            "height": null,
            "justify_content": null,
            "justify_items": null,
            "left": null,
            "margin": null,
            "max_height": null,
            "max_width": null,
            "min_height": null,
            "min_width": null,
            "object_fit": null,
            "object_position": null,
            "order": null,
            "overflow": null,
            "overflow_x": null,
            "overflow_y": null,
            "padding": null,
            "right": null,
            "top": null,
            "visibility": null,
            "width": null
          }
        },
        "0f56dbd8322d431da8f7d6d387b91709": {
          "model_module": "@jupyter-widgets/controls",
          "model_name": "ProgressStyleModel",
          "model_module_version": "1.5.0",
          "state": {
            "_model_module": "@jupyter-widgets/controls",
            "_model_module_version": "1.5.0",
            "_model_name": "ProgressStyleModel",
            "_view_count": null,
            "_view_module": "@jupyter-widgets/base",
            "_view_module_version": "1.2.0",
            "_view_name": "StyleView",
            "bar_color": null,
            "description_width": ""
          }
        },
        "8fc6032ebc014594abc6f8c3965efe62": {
          "model_module": "@jupyter-widgets/controls",
          "model_name": "VBoxModel",
          "model_module_version": "1.5.0",
          "state": {
            "_dom_classes": [],
            "_model_module": "@jupyter-widgets/controls",
            "_model_module_version": "1.5.0",
            "_model_name": "VBoxModel",
            "_view_count": null,
            "_view_module": "@jupyter-widgets/controls",
            "_view_module_version": "1.5.0",
            "_view_name": "VBoxView",
            "box_style": "",
            "children": [
              "IPY_MODEL_5127d30c8a77465ab5c1cd661f0ed8a9",
              "IPY_MODEL_2fdc970efbe14934a91d235a5f559456"
            ],
            "layout": "IPY_MODEL_4c1e9baf318f4f7480c259f995358a4e"
          }
        },
        "5127d30c8a77465ab5c1cd661f0ed8a9": {
          "model_module": "@jupyter-widgets/controls",
          "model_name": "LabelModel",
          "model_module_version": "1.5.0",
          "state": {
            "_dom_classes": [],
            "_model_module": "@jupyter-widgets/controls",
            "_model_module_version": "1.5.0",
            "_model_name": "LabelModel",
            "_view_count": null,
            "_view_module": "@jupyter-widgets/controls",
            "_view_module_version": "1.5.0",
            "_view_name": "LabelView",
            "description": "",
            "description_tooltip": null,
            "layout": "IPY_MODEL_67750a981663423eaad7145e4dcd98d7",
            "placeholder": "​",
            "style": "IPY_MODEL_88c2f0be8f6348309ba353bb651050e7",
            "value": "0.011 MB of 0.011 MB uploaded (0.000 MB deduped)\r"
          }
        },
        "2fdc970efbe14934a91d235a5f559456": {
          "model_module": "@jupyter-widgets/controls",
          "model_name": "FloatProgressModel",
          "model_module_version": "1.5.0",
          "state": {
            "_dom_classes": [],
            "_model_module": "@jupyter-widgets/controls",
            "_model_module_version": "1.5.0",
            "_model_name": "FloatProgressModel",
            "_view_count": null,
            "_view_module": "@jupyter-widgets/controls",
            "_view_module_version": "1.5.0",
            "_view_name": "ProgressView",
            "bar_style": "",
            "description": "",
            "description_tooltip": null,
            "layout": "IPY_MODEL_5bd43a2e82fc4669a5077ff165d403dd",
            "max": 1,
            "min": 0,
            "orientation": "horizontal",
            "style": "IPY_MODEL_57ee63758e89483089ad9da7fbda5c33",
            "value": 0.9744283470064584
          }
        },
        "4c1e9baf318f4f7480c259f995358a4e": {
          "model_module": "@jupyter-widgets/base",
          "model_name": "LayoutModel",
          "model_module_version": "1.2.0",
          "state": {
            "_model_module": "@jupyter-widgets/base",
            "_model_module_version": "1.2.0",
            "_model_name": "LayoutModel",
            "_view_count": null,
            "_view_module": "@jupyter-widgets/base",
            "_view_module_version": "1.2.0",
            "_view_name": "LayoutView",
            "align_content": null,
            "align_items": null,
            "align_self": null,
            "border": null,
            "bottom": null,
            "display": null,
            "flex": null,
            "flex_flow": null,
            "grid_area": null,
            "grid_auto_columns": null,
            "grid_auto_flow": null,
            "grid_auto_rows": null,
            "grid_column": null,
            "grid_gap": null,
            "grid_row": null,
            "grid_template_areas": null,
            "grid_template_columns": null,
            "grid_template_rows": null,
            "height": null,
            "justify_content": null,
            "justify_items": null,
            "left": null,
            "margin": null,
            "max_height": null,
            "max_width": null,
            "min_height": null,
            "min_width": null,
            "object_fit": null,
            "object_position": null,
            "order": null,
            "overflow": null,
            "overflow_x": null,
            "overflow_y": null,
            "padding": null,
            "right": null,
            "top": null,
            "visibility": null,
            "width": null
          }
        },
        "67750a981663423eaad7145e4dcd98d7": {
          "model_module": "@jupyter-widgets/base",
          "model_name": "LayoutModel",
          "model_module_version": "1.2.0",
          "state": {
            "_model_module": "@jupyter-widgets/base",
            "_model_module_version": "1.2.0",
            "_model_name": "LayoutModel",
            "_view_count": null,
            "_view_module": "@jupyter-widgets/base",
            "_view_module_version": "1.2.0",
            "_view_name": "LayoutView",
            "align_content": null,
            "align_items": null,
            "align_self": null,
            "border": null,
            "bottom": null,
            "display": null,
            "flex": null,
            "flex_flow": null,
            "grid_area": null,
            "grid_auto_columns": null,
            "grid_auto_flow": null,
            "grid_auto_rows": null,
            "grid_column": null,
            "grid_gap": null,
            "grid_row": null,
            "grid_template_areas": null,
            "grid_template_columns": null,
            "grid_template_rows": null,
            "height": null,
            "justify_content": null,
            "justify_items": null,
            "left": null,
            "margin": null,
            "max_height": null,
            "max_width": null,
            "min_height": null,
            "min_width": null,
            "object_fit": null,
            "object_position": null,
            "order": null,
            "overflow": null,
            "overflow_x": null,
            "overflow_y": null,
            "padding": null,
            "right": null,
            "top": null,
            "visibility": null,
            "width": null
          }
        },
        "88c2f0be8f6348309ba353bb651050e7": {
          "model_module": "@jupyter-widgets/controls",
          "model_name": "DescriptionStyleModel",
          "model_module_version": "1.5.0",
          "state": {
            "_model_module": "@jupyter-widgets/controls",
            "_model_module_version": "1.5.0",
            "_model_name": "DescriptionStyleModel",
            "_view_count": null,
            "_view_module": "@jupyter-widgets/base",
            "_view_module_version": "1.2.0",
            "_view_name": "StyleView",
            "description_width": ""
          }
        },
        "5bd43a2e82fc4669a5077ff165d403dd": {
          "model_module": "@jupyter-widgets/base",
          "model_name": "LayoutModel",
          "model_module_version": "1.2.0",
          "state": {
            "_model_module": "@jupyter-widgets/base",
            "_model_module_version": "1.2.0",
            "_model_name": "LayoutModel",
            "_view_count": null,
            "_view_module": "@jupyter-widgets/base",
            "_view_module_version": "1.2.0",
            "_view_name": "LayoutView",
            "align_content": null,
            "align_items": null,
            "align_self": null,
            "border": null,
            "bottom": null,
            "display": null,
            "flex": null,
            "flex_flow": null,
            "grid_area": null,
            "grid_auto_columns": null,
            "grid_auto_flow": null,
            "grid_auto_rows": null,
            "grid_column": null,
            "grid_gap": null,
            "grid_row": null,
            "grid_template_areas": null,
            "grid_template_columns": null,
            "grid_template_rows": null,
            "height": null,
            "justify_content": null,
            "justify_items": null,
            "left": null,
            "margin": null,
            "max_height": null,
            "max_width": null,
            "min_height": null,
            "min_width": null,
            "object_fit": null,
            "object_position": null,
            "order": null,
            "overflow": null,
            "overflow_x": null,
            "overflow_y": null,
            "padding": null,
            "right": null,
            "top": null,
            "visibility": null,
            "width": null
          }
        },
        "57ee63758e89483089ad9da7fbda5c33": {
          "model_module": "@jupyter-widgets/controls",
          "model_name": "ProgressStyleModel",
          "model_module_version": "1.5.0",
          "state": {
            "_model_module": "@jupyter-widgets/controls",
            "_model_module_version": "1.5.0",
            "_model_name": "ProgressStyleModel",
            "_view_count": null,
            "_view_module": "@jupyter-widgets/base",
            "_view_module_version": "1.2.0",
            "_view_name": "StyleView",
            "bar_color": null,
            "description_width": ""
          }
        }
      }
    }
  },
  "nbformat": 4,
  "nbformat_minor": 0
}