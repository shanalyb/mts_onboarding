{
  "cells": [
    {
      "cell_type": "code",
      "execution_count": null,
      "metadata": {
        "id": "Owp20xO1OoDo"
      },
      "outputs": [],
      "source": [
        "%pip install wandb -Uqq"
      ]
    },
    {
      "cell_type": "code",
      "execution_count": null,
      "metadata": {
        "colab": {
          "base_uri": "https://localhost:8080/"
        },
        "id": "ArTWd-2aeX7r",
        "outputId": "8a61aaf0-add9-4506-e1cc-39e4d4be3935"
      },
      "outputs": [
        {
          "name": "stdout",
          "output_type": "stream",
          "text": [
            "\u001b[K     |████████████████████████████████| 13.5 MB 3.2 MB/s \n",
            "\u001b[K     |████████████████████████████████| 188 kB 48.8 MB/s \n",
            "\u001b[?25h"
          ]
        }
      ],
      "source": [
        "%pip install nmslib -Uqq"
      ]
    },
    {
      "cell_type": "code",
      "execution_count": null,
      "metadata": {
        "colab": {
          "base_uri": "https://localhost:8080/"
        },
        "id": "xzhrK1x9FJ6z",
        "outputId": "0e3c95cd-40a5-45fa-e3e3-ef2a4a62ae0a"
      },
      "outputs": [
        {
          "name": "stdout",
          "output_type": "stream",
          "text": [
            "\u001b[K     |████████████████████████████████| 2.0 MB 6.6 MB/s \n",
            "\u001b[K     |████████████████████████████████| 24.1 MB 1.2 MB/s \n",
            "\u001b[?25h"
          ]
        }
      ],
      "source": [
        "%pip install LibRecommender -Uqq"
      ]
    },
    {
      "cell_type": "code",
      "execution_count": null,
      "metadata": {
        "colab": {
          "base_uri": "https://localhost:8080/"
        },
        "id": "WpVLVrPtnGdZ",
        "outputId": "e83ad439-7ecf-4cd2-81c5-a0e75ad597f1"
      },
      "outputs": [
        {
          "name": "stdout",
          "output_type": "stream",
          "text": [
            "\u001b[K     |████████████████████████████████| 4.7 MB 8.5 MB/s \n",
            "\u001b[?25h"
          ]
        }
      ],
      "source": [
        "%pip install faiss==1.5.3 -Uqq"
      ]
    },
    {
      "cell_type": "code",
      "execution_count": null,
      "metadata": {
        "colab": {
          "base_uri": "https://localhost:8080/"
        },
        "id": "LecCNFAYXuBT",
        "outputId": "823b762f-b9b2-4d73-9345-26e8e2e8b937"
      },
      "outputs": [
        {
          "name": "stdout",
          "output_type": "stream",
          "text": [
            "\u001b[?25l\r\u001b[K     |█▎                              | 10 kB 9.5 MB/s eta 0:00:01\r\u001b[K     |██▋                             | 20 kB 11.4 MB/s eta 0:00:01\r\u001b[K     |████                            | 30 kB 15.1 MB/s eta 0:00:01\r\u001b[K     |█████▎                          | 40 kB 7.7 MB/s eta 0:00:01\r\u001b[K     |██████▋                         | 51 kB 7.8 MB/s eta 0:00:01\r\u001b[K     |████████                        | 61 kB 9.1 MB/s eta 0:00:01\r\u001b[K     |█████████▎                      | 71 kB 8.6 MB/s eta 0:00:01\r\u001b[K     |██████████▋                     | 81 kB 9.0 MB/s eta 0:00:01\r\u001b[K     |████████████                    | 92 kB 10.0 MB/s eta 0:00:01\r\u001b[K     |█████████████▎                  | 102 kB 8.4 MB/s eta 0:00:01\r\u001b[K     |██████████████▋                 | 112 kB 8.4 MB/s eta 0:00:01\r\u001b[K     |████████████████                | 122 kB 8.4 MB/s eta 0:00:01\r\u001b[K     |█████████████████▎              | 133 kB 8.4 MB/s eta 0:00:01\r\u001b[K     |██████████████████▋             | 143 kB 8.4 MB/s eta 0:00:01\r\u001b[K     |████████████████████            | 153 kB 8.4 MB/s eta 0:00:01\r\u001b[K     |█████████████████████▎          | 163 kB 8.4 MB/s eta 0:00:01\r\u001b[K     |██████████████████████▋         | 174 kB 8.4 MB/s eta 0:00:01\r\u001b[K     |████████████████████████        | 184 kB 8.4 MB/s eta 0:00:01\r\u001b[K     |█████████████████████████▎      | 194 kB 8.4 MB/s eta 0:00:01\r\u001b[K     |██████████████████████████▋     | 204 kB 8.4 MB/s eta 0:00:01\r\u001b[K     |████████████████████████████    | 215 kB 8.4 MB/s eta 0:00:01\r\u001b[K     |█████████████████████████████▎  | 225 kB 8.4 MB/s eta 0:00:01\r\u001b[K     |██████████████████████████████▋ | 235 kB 8.4 MB/s eta 0:00:01\r\u001b[K     |████████████████████████████████| 245 kB 8.4 MB/s eta 0:00:01\r\u001b[K     |████████████████████████████████| 246 kB 8.4 MB/s \n",
            "\u001b[?25h"
          ]
        }
      ],
      "source": [
        "%pip install ujson redis -Uqq"
      ]
    },
    {
      "cell_type": "code",
      "source": [
        "import wandb\n",
        "wandb.login()"
      ],
      "metadata": {
        "id": "F_JurJjZxmPY"
      },
      "execution_count": null,
      "outputs": []
    },
    {
      "cell_type": "code",
      "execution_count": null,
      "metadata": {
        "id": "6LS6-YnNY5rT"
      },
      "outputs": [],
      "source": [
        "import os\n",
        "from pathlib import Path\n",
        "\n",
        "import numpy as np\n",
        "import pandas as pd\n",
        "\n",
        "from libreco.data import random_split, split_by_ratio_chrono, DatasetPure\n",
        "from libreco.algorithms import SVDpp, RNN4Rec  # pure data, algorithm SVD++\n",
        "from libreco.evaluation import evaluate\n",
        "\n",
        "import warnings\n",
        "warnings.filterwarnings('ignore')\n",
        "warnings.simplefilter('ignore')"
      ]
    },
    {
      "cell_type": "code",
      "execution_count": null,
      "metadata": {
        "id": "sYjMJUUITNWs"
      },
      "outputs": [],
      "source": [
        "from libserving.serialization import save_embed"
      ]
    },
    {
      "cell_type": "code",
      "source": [
        "MODEL_PATH = \"/content/drive/MyDrive/Colab Notebooks/00-MTC/models/RNN4Rec\" \n",
        "MODEL_NAME = 'RNN4Rec'\n",
        "config = {\n",
        "  \"embed_size\": 16,\n",
        "   'n_epochs': 5,\n",
        "   \"lr\": 0.01,\n",
        "    \"batch_size\": 64\n",
        "}"
      ],
      "metadata": {
        "id": "OGF58N8oR6WL"
      },
      "execution_count": null,
      "outputs": []
    },
    {
      "cell_type": "code",
      "execution_count": null,
      "metadata": {
        "colab": {
          "base_uri": "https://localhost:8080/"
        },
        "id": "zCMxhyEnHErG",
        "outputId": "210cf65d-0e24-4629-f0a2-30aa2be8d250"
      },
      "outputs": [
        {
          "output_type": "stream",
          "name": "stdout",
          "text": [
            "random neg item sampling elapsed: 0.314s\n",
            "random neg item sampling elapsed: 0.019s\n",
            "random neg item sampling elapsed: 0.041s\n",
            "n_users: 610, n_items: 8237, data sparsity: 1.6056 %\n"
          ]
        }
      ],
      "source": [
        "data = pd.read_csv(\"https://s3-us-west-2.amazonaws.com/recommender-tutorial/ratings.csv\")\n",
        "data.columns = [\"user\", \"item\", \"label\", \"time\"]\n",
        "data[\"label\"] = 1 \n",
        "\n",
        "metrics = [\"loss\", \"roc_auc\", \"precision\", \"recall\", \"map\", \"ndcg\"]\n",
        "train_data, eval_data, test_data = split_by_ratio_chrono(data, multi_ratios=[0.8, 0.1, 0.1])\n",
        "\n",
        "train_data, data_info = DatasetPure.build_trainset(train_data)\n",
        "eval_data = DatasetPure.build_evalset(eval_data)\n",
        "test_data = DatasetPure.build_testset(test_data)\n",
        "train_data.build_negative_samples(data_info)  # sample negative items for each record\n",
        "eval_data.build_negative_samples(data_info) \n",
        "test_data.build_negative_samples(data_info)\n",
        "print(data_info)   # n_users: 5894, n_items: 3253, data sparsity: 0.4172 %"
      ]
    },
    {
      "cell_type": "code",
      "source": [
        "from IPython.lib.display import exists\n",
        "with wandb.init() as runwb:\n",
        "    # Overwrite the random run names chosen by wandb\n",
        "    runwb.config.update(config)\n",
        "    sc = runwb.config\n",
        "    name_str = f'{MODEL_NAME}' + \\\n",
        "      f'_n_epoch_{sc.n_epochs}_' + \\\n",
        "      f'emb_size_{sc.embed_size}_lr_{sc.lr}_' + \\\n",
        "      f'batch_size_{sc.batch_size}'\n",
        "    runwb.config.update({\"name\": name_str})\n",
        "    current_dir = os.path.join(MODEL_PATH, name_str)\n",
        "    if not os.path.isdir(current_dir):\n",
        "        os.mkdir(current_dir)        \n",
        "    \n",
        "    # Rest of code.\n",
        "    model = RNN4Rec(task=\"ranking\", data_info=data_info, \n",
        "                    embed_size=sc.embed_size, n_epochs=sc.n_epochs, \n",
        "                    lr=sc.lr, reg=None, batch_size=sc.batch_size)\n",
        "    model.fit(runwb, train_data, verbose=2, eval_data=eval_data, metrics=metrics)\n",
        "    evaluate(runwb=runwb, model=model, data=test_data,\n",
        "                                metrics=metrics)\n",
        "    # specify model saving directory\n",
        "    save_embed(current_dir, model)        \n",
        "    model.save(path=current_dir, model_name=\"RNN4Rec\", manual=True, inference_only=True)"
      ],
      "metadata": {
        "colab": {
          "base_uri": "https://localhost:8080/",
          "height": 1000,
          "referenced_widgets": [
            "b848e467f1f044ff9b99fb084e71a1cd",
            "0a6adf634beb4f5f842cd098ea5a1e05",
            "528bfea7da7446d093050aa6bf5a35d3",
            "378262dc37234890ae7b5b219e2d3844",
            "f0fecdaaeb9043a5a788ffebf9b82b32",
            "40dfc30cd1ff4cae87e42496865cdb8c",
            "7c783a7d0d504cd0bdf710f4bdbdbd6a",
            "361f1b2a30644720b14a09219eb39a78"
          ]
        },
        "id": "WvkGvN1nRoBx",
        "outputId": "968c6330-d8ac-4050-a0e2-a64ede9caf76"
      },
      "execution_count": null,
      "outputs": [
        {
          "output_type": "display_data",
          "data": {
            "text/plain": [
              "<IPython.core.display.HTML object>"
            ],
            "text/html": [
              "Tracking run with wandb version 0.13.5"
            ]
          },
          "metadata": {}
        },
        {
          "output_type": "display_data",
          "data": {
            "text/plain": [
              "<IPython.core.display.HTML object>"
            ],
            "text/html": [
              "Run data is saved locally in <code>/content/wandb/run-20221105_155146-ns158z85</code>"
            ]
          },
          "metadata": {}
        },
        {
          "output_type": "display_data",
          "data": {
            "text/plain": [
              "<IPython.core.display.HTML object>"
            ],
            "text/html": [
              "Syncing run <strong><a href=\"https://wandb.ai/dl-learning/uncategorized/runs/ns158z85\" target=\"_blank\">lilac-cherry-2</a></strong> to <a href=\"https://wandb.ai/dl-learning/uncategorized\" target=\"_blank\">Weights & Biases</a> (<a href=\"https://wandb.me/run\" target=\"_blank\">docs</a>)<br/>"
            ]
          },
          "metadata": {}
        },
        {
          "output_type": "stream",
          "name": "stdout",
          "text": [
            "total params: \u001b[33m274,221\u001b[0m | embedding params: \u001b[33m271,917\u001b[0m | network params: \u001b[33m2,304\u001b[0m\n",
            "Training start time: \u001b[35m2022-11-05 15:51:51\u001b[0m\n"
          ]
        },
        {
          "output_type": "stream",
          "name": "stderr",
          "text": [
            "train: 100%|██████████| 2521/2521 [00:39<00:00, 64.32it/s]\n"
          ]
        },
        {
          "output_type": "stream",
          "name": "stdout",
          "text": [
            "Epoch 1 elapsed: 39.259s\n",
            "\t \u001b[32mtrain_loss: 0.4957\u001b[0m\n"
          ]
        },
        {
          "output_type": "stream",
          "name": "stderr",
          "text": [
            "eval_pred: 100%|██████████| 3/3 [00:00<00:00, 289.79it/s]\n",
            "eval_rec: 100%|██████████| 610/610 [00:00<00:00, 2611.96it/s]\n"
          ]
        },
        {
          "output_type": "stream",
          "name": "stdout",
          "text": [
            "\t eval log_loss: 0.5327\n",
            "\t eval roc_auc: 0.8199\n",
            "\t eval precision@10: 0.0300\n",
            "\t eval recall@10: 0.0339\n",
            "\t eval map@10: 0.0802\n",
            "\t eval ndcg@10: 0.1154\n",
            "==============================\n"
          ]
        },
        {
          "output_type": "stream",
          "name": "stderr",
          "text": [
            "train: 100%|██████████| 2521/2521 [00:39<00:00, 63.64it/s]\n"
          ]
        },
        {
          "output_type": "stream",
          "name": "stdout",
          "text": [
            "Epoch 2 elapsed: 39.687s\n",
            "\t \u001b[32mtrain_loss: 0.3921\u001b[0m\n"
          ]
        },
        {
          "output_type": "stream",
          "name": "stderr",
          "text": [
            "eval_pred: 100%|██████████| 3/3 [00:00<00:00, 269.19it/s]\n",
            "eval_rec: 100%|██████████| 610/610 [00:00<00:00, 2893.22it/s]\n"
          ]
        },
        {
          "output_type": "stream",
          "name": "stdout",
          "text": [
            "\t eval log_loss: 0.6403\n",
            "\t eval roc_auc: 0.7885\n",
            "\t eval precision@10: 0.0275\n",
            "\t eval recall@10: 0.0323\n",
            "\t eval map@10: 0.0631\n",
            "\t eval ndcg@10: 0.0977\n",
            "==============================\n"
          ]
        },
        {
          "output_type": "stream",
          "name": "stderr",
          "text": [
            "train: 100%|██████████| 2521/2521 [00:39<00:00, 63.73it/s]\n"
          ]
        },
        {
          "output_type": "stream",
          "name": "stdout",
          "text": [
            "Epoch 3 elapsed: 39.610s\n",
            "\t \u001b[32mtrain_loss: 0.3259\u001b[0m\n"
          ]
        },
        {
          "output_type": "stream",
          "name": "stderr",
          "text": [
            "eval_pred: 100%|██████████| 3/3 [00:00<00:00, 259.62it/s]\n",
            "eval_rec: 100%|██████████| 610/610 [00:00<00:00, 2460.95it/s]\n"
          ]
        },
        {
          "output_type": "stream",
          "name": "stdout",
          "text": [
            "\t eval log_loss: 0.8057\n",
            "\t eval roc_auc: 0.7382\n",
            "\t eval precision@10: 0.0293\n",
            "\t eval recall@10: 0.0321\n",
            "\t eval map@10: 0.0701\n",
            "\t eval ndcg@10: 0.1059\n",
            "==============================\n"
          ]
        },
        {
          "output_type": "stream",
          "name": "stderr",
          "text": [
            "train: 100%|██████████| 2521/2521 [00:42<00:00, 59.95it/s]\n"
          ]
        },
        {
          "output_type": "stream",
          "name": "stdout",
          "text": [
            "Epoch 4 elapsed: 42.108s\n",
            "\t \u001b[32mtrain_loss: 0.2685\u001b[0m\n"
          ]
        },
        {
          "output_type": "stream",
          "name": "stderr",
          "text": [
            "eval_pred: 100%|██████████| 3/3 [00:00<00:00, 191.02it/s]\n",
            "eval_rec: 100%|██████████| 610/610 [00:00<00:00, 2752.91it/s]\n"
          ]
        },
        {
          "output_type": "stream",
          "name": "stdout",
          "text": [
            "\t eval log_loss: 0.7831\n",
            "\t eval roc_auc: 0.7492\n",
            "\t eval precision@10: 0.0307\n",
            "\t eval recall@10: 0.0345\n",
            "\t eval map@10: 0.0722\n",
            "\t eval ndcg@10: 0.1094\n",
            "==============================\n"
          ]
        },
        {
          "output_type": "stream",
          "name": "stderr",
          "text": [
            "train: 100%|██████████| 2521/2521 [00:38<00:00, 65.18it/s]\n"
          ]
        },
        {
          "output_type": "stream",
          "name": "stdout",
          "text": [
            "Epoch 5 elapsed: 38.736s\n",
            "\t \u001b[32mtrain_loss: 0.2293\u001b[0m\n"
          ]
        },
        {
          "output_type": "stream",
          "name": "stderr",
          "text": [
            "eval_pred: 100%|██████████| 3/3 [00:00<00:00, 231.60it/s]\n",
            "eval_rec: 100%|██████████| 610/610 [00:00<00:00, 2463.49it/s]\n"
          ]
        },
        {
          "output_type": "stream",
          "name": "stdout",
          "text": [
            "\t eval log_loss: 0.8101\n",
            "\t eval roc_auc: 0.7609\n",
            "\t eval precision@10: 0.0267\n",
            "\t eval recall@10: 0.0275\n",
            "\t eval map@10: 0.0620\n",
            "\t eval ndcg@10: 0.0937\n",
            "==============================\n"
          ]
        },
        {
          "output_type": "stream",
          "name": "stderr",
          "text": [
            "eval_pred: 100%|██████████| 3/3 [00:00<00:00, 341.80it/s]\n",
            "eval_rec: 100%|██████████| 608/608 [00:00<00:00, 2723.64it/s]\n"
          ]
        },
        {
          "output_type": "display_data",
          "data": {
            "text/plain": [
              "<IPython.core.display.HTML object>"
            ],
            "text/html": [
              "Waiting for W&B process to finish... <strong style=\"color:green\">(success).</strong>"
            ]
          },
          "metadata": {}
        },
        {
          "output_type": "display_data",
          "data": {
            "text/plain": [
              "VBox(children=(Label(value='0.001 MB of 0.001 MB uploaded (0.000 MB deduped)\\r'), FloatProgress(value=1.0, max…"
            ],
            "application/vnd.jupyter.widget-view+json": {
              "version_major": 2,
              "version_minor": 0,
              "model_id": "b848e467f1f044ff9b99fb084e71a1cd"
            }
          },
          "metadata": {}
        },
        {
          "output_type": "display_data",
          "data": {
            "text/plain": [
              "<IPython.core.display.HTML object>"
            ],
            "text/html": [
              "<style>\n",
              "    table.wandb td:nth-child(1) { padding: 0 10px; text-align: left ; width: auto;} td:nth-child(2) {text-align: left ; width: 100%}\n",
              "    .wandb-row { display: flex; flex-direction: row; flex-wrap: wrap; justify-content: flex-start; width: 100% }\n",
              "    .wandb-col { display: flex; flex-direction: column; flex-basis: 100%; flex: 1; padding: 10px; }\n",
              "    </style>\n",
              "<div class=\"wandb-row\"><div class=\"wandb-col\"><h3>Run history:</h3><br/><table class=\"wandb\"><tr><td>epoch</td><td>▁▃▅▆█</td></tr><tr><td>loss</td><td>▁</td></tr><tr><td>map</td><td>▁</td></tr><tr><td>map@10</td><td>█▁▄▅▁</td></tr><tr><td>ndcg</td><td>▁</td></tr><tr><td>ndcg@10</td><td>█▂▅▆▁</td></tr><tr><td>precision</td><td>▁</td></tr><tr><td>precision@10</td><td>▇▂▆█▁</td></tr><tr><td>recall</td><td>▁</td></tr><tr><td>recall@10</td><td>▇▆▆█▁</td></tr><tr><td>roc_auc</td><td>█▅▁▂▃▁</td></tr><tr><td>train_loss</td><td>█▅▄▂▁</td></tr></table><br/></div><div class=\"wandb-col\"><h3>Run summary:</h3><br/><table class=\"wandb\"><tr><td>epoch</td><td>5</td></tr><tr><td>log_loss</td><td>sklearn.metrics._cla...</td></tr><tr><td>loss</td><td>0.88804</td></tr><tr><td>map</td><td>0.0571</td></tr><tr><td>map@10</td><td>0.06203</td></tr><tr><td>ndcg</td><td>0.08188</td></tr><tr><td>ndcg@10</td><td>0.09368</td></tr><tr><td>precision</td><td>0.02023</td></tr><tr><td>precision@10</td><td>0.02672</td></tr><tr><td>recall</td><td>0.02452</td></tr><tr><td>recall@10</td><td>0.02749</td></tr><tr><td>roc_auc</td><td>0.73355</td></tr><tr><td>train_loss</td><td>0.2293</td></tr></table><br/></div></div>"
            ]
          },
          "metadata": {}
        },
        {
          "output_type": "display_data",
          "data": {
            "text/plain": [
              "<IPython.core.display.HTML object>"
            ],
            "text/html": [
              "Synced <strong style=\"color:#cdcd00\">lilac-cherry-2</strong>: <a href=\"https://wandb.ai/dl-learning/uncategorized/runs/ns158z85\" target=\"_blank\">https://wandb.ai/dl-learning/uncategorized/runs/ns158z85</a><br/>Synced 5 W&B file(s), 0 media file(s), 0 artifact file(s) and 0 other file(s)"
            ]
          },
          "metadata": {}
        },
        {
          "output_type": "display_data",
          "data": {
            "text/plain": [
              "<IPython.core.display.HTML object>"
            ],
            "text/html": [
              "Find logs at: <code>./wandb/run-20221105_155146-ns158z85/logs</code>"
            ]
          },
          "metadata": {}
        }
      ]
    },
    {
      "cell_type": "code",
      "execution_count": null,
      "metadata": {
        "colab": {
          "base_uri": "https://localhost:8080/",
          "height": 1000,
          "referenced_widgets": [
            "5020a15cde6e47d69adb2eaae2973a70",
            "daf5585da45846e3957637eeeb416286",
            "f53ecc76735e4908b76e044dca98fd34",
            "406f1ddde0e54542b98a8b076c779614",
            "5b03d33b0b75476c89ae80c8430c7b50",
            "37d5f757a8734de9883655f1ab19ec78",
            "aa3e8307509c4cdda35dcfcbb204062e",
            "4510547dd96c4d989e562604446679c2",
            "97c025b0659345d49253c1881b0fb9b5",
            "617c23eeb184460d97e0e87cad5e1ec8",
            "c84e6f3aa17a458da740ab59a87c11de",
            "c01306386e3341ae8fafb9e348b8368c",
            "2cdb3610936d4305b61891bedb014895",
            "cd1c695157b6407b87b1d1527003fc30",
            "d7167c61d89d45ffafa746e95692dc8c",
            "38b7ff3ab7654d9481daf7ccf10d5e1e",
            "3607925b5db742559de795fcc9aad114",
            "b367945e227243ef92ea86b6580fa5ce",
            "5a909083db7d4127b44be359ee450152",
            "5cddcc3944e34b628159d164dcaada62",
            "c729a888d8fb4c1e91e60fb2d71e22e2",
            "def025abcf11405d9330748aa0340591",
            "f95c75a33dc64b9cb9100434321f456c",
            "762572e99ca340798cbb6b531fc911bc",
            "50c57125cecb4223bc70c8cf8985e456",
            "dde0175a9de74c6b83d83f83e34bd64d",
            "459f9ed5be3f43c58c317360d5978802",
            "87ec4a818eec42db903d185fbdee7e9c",
            "b18aa49ccb434bd8a51d349df8f7b8fc",
            "60e85bb57cdf4ce48bf414a0ed22fcb9",
            "dfef07b89a3f47258fad9a5f94777f7b",
            "45ff01113e32434782bc90638987948b",
            "8a24a7fbf5234c4b967490e8a00dffa5",
            "e6018c2f33954c8595571c3a0938c3da",
            "e429bbfa4e284e6494e39070c5589c70",
            "77e6b4dd0c7d4a0686d8719bbfc09329",
            "5fac55a8500b477d9541767a9a3120c8",
            "506593aba5984bbf887f48a52f54a600",
            "fa7bdb748e934cf485af4b3b1729fd16",
            "10b32cfe812c4f718d278101523cfd64",
            "6be0fd59d9744111aa713a8fefece2a4",
            "7766a6916e534dbfa8b31ca3f2898cb9",
            "42dff0a937a2476ab8446f66ca47921c",
            "7fd949cacbf84c4d9d750531595c2cf3",
            "c224a084848041329fcd513c2b6e742e",
            "31d9586ed13c4f53a2d361ed4c7e2896",
            "07aec03663a24f14bea44f386199147f",
            "51e439b1f9294a288082357072b44e53",
            "cfcbdef9d0ea480cb4b96fd2d3d9643b",
            "7131707dedca4e34abcd2b0938e92dc6",
            "1026f12689e045479592c69987847197",
            "b14e2efdf18f4f359649337becc31d9c",
            "18b2c66871534eb8ab2af074d6e50cff",
            "b681eaaf40d64d4d9ce3aa4ff9f89400",
            "662fedb63c8f49b2af1026f021d1654f",
            "6f7371e5ff8548de9bd52ec02ea3ce0d",
            "e102c3a7908b4773918fc14aeb647bfc",
            "3a0c6855693942e1b597755eab1a7039",
            "dd74b39c0b2649fcbecb642da6922979",
            "bbba22d4d639480683796e92b9272c97",
            "44aa4283606e4e7998aab9010c1bfef4",
            "6f68ceb52bc04d96906e9c9f306aedc5",
            "52c7a3647862427bbf02f00a72c78417",
            "3ae7e64abab74f958e2b5adfe10ef1a9",
            "701c5dd73ed844e8895d749977570906",
            "b0e50287528449c995aac0289965152d",
            "47211e839c3a4bb7bf368823d0410600",
            "c3c6cd5ec7cb4a8bad4c8cd1fd323707",
            "0caec67f0b83439cb7b735f1d3d96f3a",
            "6d8781b713b84354ac62b57c945eda52",
            "44ef743f6c544383ab12ba838136cf52",
            "530ca8067afb4a38a48b6dd0a69f1c42",
            "b1c18d1a6e514310895c6cd38c0bd32a",
            "e93a1d43e3e64b5a888845693973321f",
            "c669241fe39c4882a41a3b37f6b8499d",
            "64ecd088b326422a9451ba3b0e36b290",
            "70b4b57324c84b39a43ab4ca37c95a4c",
            "9335ae5fe2dd44d7b20889adcaa854bf",
            "86e4f91dd3d84135b35c3c41775fa071",
            "5651b3cbfdc9478e90fa8b4c6671cf1a"
          ]
        },
        "id": "o7oiUUXcQAji",
        "outputId": "1d699f41-ce12-4bb9-9b59-3bbb55771037"
      },
      "outputs": [
        {
          "output_type": "stream",
          "name": "stdout",
          "text": [
            "Create sweep with ID: tw52paxu\n",
            "Sweep URL: https://wandb.ai/iloncka-ds/recsys-app/sweeps/tw52paxu\n"
          ]
        },
        {
          "output_type": "stream",
          "name": "stderr",
          "text": [
            "\u001b[34m\u001b[1mwandb\u001b[0m: Agent Starting Run: apubg7az with config:\n",
            "\u001b[34m\u001b[1mwandb\u001b[0m: \tbatch_size: 64\n",
            "\u001b[34m\u001b[1mwandb\u001b[0m: \tembed_size: 16\n",
            "\u001b[34m\u001b[1mwandb\u001b[0m: \tlr: 0.1\n",
            "\u001b[34m\u001b[1mwandb\u001b[0m: \tn_epochs: 5\n",
            "Failed to detect the name of this notebook, you can set it manually with the WANDB_NOTEBOOK_NAME environment variable to enable code saving.\n",
            "\u001b[34m\u001b[1mwandb\u001b[0m: Currently logged in as: \u001b[33miloncka-ds\u001b[0m. Use \u001b[1m`wandb login --relogin`\u001b[0m to force relogin\n"
          ]
        },
        {
          "output_type": "display_data",
          "data": {
            "text/plain": [
              "<IPython.core.display.HTML object>"
            ],
            "text/html": [
              "Tracking run with wandb version 0.13.5"
            ]
          },
          "metadata": {}
        },
        {
          "output_type": "display_data",
          "data": {
            "text/plain": [
              "<IPython.core.display.HTML object>"
            ],
            "text/html": [
              "Run data is saved locally in <code>/content/wandb/run-20221105_160009-apubg7az</code>"
            ]
          },
          "metadata": {}
        },
        {
          "output_type": "display_data",
          "data": {
            "text/plain": [
              "<IPython.core.display.HTML object>"
            ],
            "text/html": [
              "Syncing run <strong><a href=\"https://wandb.ai/iloncka-ds/recsys-app/runs/apubg7az\" target=\"_blank\">fragrant-sweep-1</a></strong> to <a href=\"https://wandb.ai/iloncka-ds/recsys-app\" target=\"_blank\">Weights & Biases</a> (<a href=\"https://wandb.me/run\" target=\"_blank\">docs</a>)<br/>Sweep page:  <a href=\"https://wandb.ai/iloncka-ds/recsys-app/sweeps/tw52paxu\" target=\"_blank\">https://wandb.ai/iloncka-ds/recsys-app/sweeps/tw52paxu</a>"
            ]
          },
          "metadata": {}
        },
        {
          "output_type": "stream",
          "name": "stdout",
          "text": [
            "total params: \u001b[33m274,221\u001b[0m | embedding params: \u001b[33m271,917\u001b[0m | network params: \u001b[33m2,304\u001b[0m\n",
            "Training start time: \u001b[35m2022-11-05 16:00:13\u001b[0m\n"
          ]
        },
        {
          "output_type": "stream",
          "name": "stderr",
          "text": [
            "train: 100%|██████████| 2521/2521 [00:39<00:00, 63.68it/s]\n"
          ]
        },
        {
          "output_type": "stream",
          "name": "stdout",
          "text": [
            "Epoch 1 elapsed: 39.647s\n",
            "\t \u001b[32mtrain_loss: 0.7138\u001b[0m\n"
          ]
        },
        {
          "output_type": "stream",
          "name": "stderr",
          "text": [
            "eval_pred: 100%|██████████| 3/3 [00:00<00:00, 193.43it/s]\n",
            "eval_rec: 100%|██████████| 610/610 [00:00<00:00, 2877.80it/s]\n"
          ]
        },
        {
          "output_type": "stream",
          "name": "stdout",
          "text": [
            "\t eval log_loss: 0.7368\n",
            "\t eval roc_auc: 0.7874\n",
            "\t eval precision@10: 0.0221\n",
            "\t eval recall@10: 0.0226\n",
            "\t eval map@10: 0.0585\n",
            "\t eval ndcg@10: 0.0875\n",
            "==============================\n"
          ]
        },
        {
          "output_type": "stream",
          "name": "stderr",
          "text": [
            "train: 100%|██████████| 2521/2521 [00:43<00:00, 57.49it/s]\n"
          ]
        },
        {
          "output_type": "stream",
          "name": "stdout",
          "text": [
            "Epoch 2 elapsed: 43.911s\n",
            "\t \u001b[32mtrain_loss: 0.74\u001b[0m\n"
          ]
        },
        {
          "output_type": "stream",
          "name": "stderr",
          "text": [
            "eval_pred: 100%|██████████| 3/3 [00:00<00:00, 333.05it/s]\n",
            "eval_rec: 100%|██████████| 610/610 [00:00<00:00, 2649.26it/s]\n"
          ]
        },
        {
          "output_type": "stream",
          "name": "stdout",
          "text": [
            "\t eval log_loss: 0.7231\n",
            "\t eval roc_auc: 0.7922\n",
            "\t eval precision@10: 0.0251\n",
            "\t eval recall@10: 0.0218\n",
            "\t eval map@10: 0.0634\n",
            "\t eval ndcg@10: 0.0950\n",
            "==============================\n"
          ]
        },
        {
          "output_type": "stream",
          "name": "stderr",
          "text": [
            "train: 100%|██████████| 2521/2521 [00:38<00:00, 64.78it/s]\n"
          ]
        },
        {
          "output_type": "stream",
          "name": "stdout",
          "text": [
            "Epoch 3 elapsed: 38.967s\n",
            "\t \u001b[32mtrain_loss: 0.8013\u001b[0m\n"
          ]
        },
        {
          "output_type": "stream",
          "name": "stderr",
          "text": [
            "eval_pred: 100%|██████████| 3/3 [00:00<00:00, 346.05it/s]\n",
            "eval_rec: 100%|██████████| 610/610 [00:00<00:00, 2792.05it/s]\n"
          ]
        },
        {
          "output_type": "stream",
          "name": "stdout",
          "text": [
            "\t eval log_loss: 0.8582\n",
            "\t eval roc_auc: 0.7670\n",
            "\t eval precision@10: 0.0172\n",
            "\t eval recall@10: 0.0181\n",
            "\t eval map@10: 0.0425\n",
            "\t eval ndcg@10: 0.0664\n",
            "==============================\n"
          ]
        },
        {
          "output_type": "stream",
          "name": "stderr",
          "text": [
            "train: 100%|██████████| 2521/2521 [00:38<00:00, 65.86it/s]\n"
          ]
        },
        {
          "output_type": "stream",
          "name": "stdout",
          "text": [
            "Epoch 4 elapsed: 38.334s\n",
            "\t \u001b[32mtrain_loss: 0.7901\u001b[0m\n"
          ]
        },
        {
          "output_type": "stream",
          "name": "stderr",
          "text": [
            "eval_pred: 100%|██████████| 3/3 [00:00<00:00, 257.31it/s]\n",
            "eval_rec: 100%|██████████| 610/610 [00:00<00:00, 2593.97it/s]\n"
          ]
        },
        {
          "output_type": "stream",
          "name": "stdout",
          "text": [
            "\t eval log_loss: 0.8269\n",
            "\t eval roc_auc: 0.7758\n",
            "\t eval precision@10: 0.0182\n",
            "\t eval recall@10: 0.0167\n",
            "\t eval map@10: 0.0471\n",
            "\t eval ndcg@10: 0.0719\n",
            "==============================\n"
          ]
        },
        {
          "output_type": "stream",
          "name": "stderr",
          "text": [
            "train: 100%|██████████| 2521/2521 [00:38<00:00, 64.64it/s]\n"
          ]
        },
        {
          "output_type": "stream",
          "name": "stdout",
          "text": [
            "Epoch 5 elapsed: 39.055s\n",
            "\t \u001b[32mtrain_loss: 0.8332\u001b[0m\n"
          ]
        },
        {
          "output_type": "stream",
          "name": "stderr",
          "text": [
            "eval_pred: 100%|██████████| 3/3 [00:00<00:00, 397.79it/s]\n",
            "eval_rec: 100%|██████████| 610/610 [00:00<00:00, 2680.57it/s]\n"
          ]
        },
        {
          "output_type": "stream",
          "name": "stdout",
          "text": [
            "\t eval log_loss: 0.7710\n",
            "\t eval roc_auc: 0.7891\n",
            "\t eval precision@10: 0.0249\n",
            "\t eval recall@10: 0.0222\n",
            "\t eval map@10: 0.0662\n",
            "\t eval ndcg@10: 0.0960\n",
            "==============================\n"
          ]
        },
        {
          "output_type": "stream",
          "name": "stderr",
          "text": [
            "eval_pred: 100%|██████████| 3/3 [00:00<00:00, 320.61it/s]\n",
            "eval_rec: 100%|██████████| 608/608 [00:00<00:00, 2669.39it/s]\n"
          ]
        },
        {
          "output_type": "display_data",
          "data": {
            "text/plain": [
              "<IPython.core.display.HTML object>"
            ],
            "text/html": [
              "Waiting for W&B process to finish... <strong style=\"color:green\">(success).</strong>"
            ]
          },
          "metadata": {}
        },
        {
          "output_type": "display_data",
          "data": {
            "text/plain": [
              "VBox(children=(Label(value='0.001 MB of 0.001 MB uploaded (0.000 MB deduped)\\r'), FloatProgress(value=1.0, max…"
            ],
            "application/vnd.jupyter.widget-view+json": {
              "version_major": 2,
              "version_minor": 0,
              "model_id": "5020a15cde6e47d69adb2eaae2973a70"
            }
          },
          "metadata": {}
        },
        {
          "output_type": "display_data",
          "data": {
            "text/plain": [
              "<IPython.core.display.HTML object>"
            ],
            "text/html": [
              "<style>\n",
              "    table.wandb td:nth-child(1) { padding: 0 10px; text-align: left ; width: auto;} td:nth-child(2) {text-align: left ; width: 100%}\n",
              "    .wandb-row { display: flex; flex-direction: row; flex-wrap: wrap; justify-content: flex-start; width: 100% }\n",
              "    .wandb-col { display: flex; flex-direction: column; flex-basis: 100%; flex: 1; padding: 10px; }\n",
              "    </style>\n",
              "<div class=\"wandb-row\"><div class=\"wandb-col\"><h3>Run history:</h3><br/><table class=\"wandb\"><tr><td>epoch</td><td>▁▃▅▆█</td></tr><tr><td>loss</td><td>▁</td></tr><tr><td>map</td><td>▁</td></tr><tr><td>map@10</td><td>▆▇▁▂█</td></tr><tr><td>ndcg</td><td>▁</td></tr><tr><td>ndcg@10</td><td>▆█▁▂█</td></tr><tr><td>precision</td><td>▁</td></tr><tr><td>precision@10</td><td>▅█▁▂█</td></tr><tr><td>recall</td><td>▁</td></tr><tr><td>recall@10</td><td>█▇▃▁█</td></tr><tr><td>roc_auc</td><td>▇█▁▃▇▃</td></tr><tr><td>train_loss</td><td>▁▃▆▅█</td></tr></table><br/></div><div class=\"wandb-col\"><h3>Run summary:</h3><br/><table class=\"wandb\"><tr><td>epoch</td><td>5</td></tr><tr><td>log_loss</td><td>sklearn.metrics._cla...</td></tr><tr><td>loss</td><td>0.81532</td></tr><tr><td>map</td><td>0.0652</td></tr><tr><td>map@10</td><td>0.06624</td></tr><tr><td>ndcg</td><td>0.0911</td></tr><tr><td>ndcg@10</td><td>0.09599</td></tr><tr><td>precision</td><td>0.02237</td></tr><tr><td>precision@10</td><td>0.02492</td></tr><tr><td>recall</td><td>0.02044</td></tr><tr><td>recall@10</td><td>0.02221</td></tr><tr><td>roc_auc</td><td>0.77485</td></tr><tr><td>train_loss</td><td>0.8332</td></tr></table><br/></div></div>"
            ]
          },
          "metadata": {}
        },
        {
          "output_type": "display_data",
          "data": {
            "text/plain": [
              "<IPython.core.display.HTML object>"
            ],
            "text/html": [
              "Synced <strong style=\"color:#cdcd00\">fragrant-sweep-1</strong>: <a href=\"https://wandb.ai/iloncka-ds/recsys-app/runs/apubg7az\" target=\"_blank\">https://wandb.ai/iloncka-ds/recsys-app/runs/apubg7az</a><br/>Synced 5 W&B file(s), 0 media file(s), 0 artifact file(s) and 0 other file(s)"
            ]
          },
          "metadata": {}
        },
        {
          "output_type": "display_data",
          "data": {
            "text/plain": [
              "<IPython.core.display.HTML object>"
            ],
            "text/html": [
              "Find logs at: <code>./wandb/run-20221105_160009-apubg7az/logs</code>"
            ]
          },
          "metadata": {}
        },
        {
          "output_type": "stream",
          "name": "stderr",
          "text": [
            "\u001b[34m\u001b[1mwandb\u001b[0m: Agent Starting Run: k2141aad with config:\n",
            "\u001b[34m\u001b[1mwandb\u001b[0m: \tbatch_size: 64\n",
            "\u001b[34m\u001b[1mwandb\u001b[0m: \tembed_size: 16\n",
            "\u001b[34m\u001b[1mwandb\u001b[0m: \tlr: 0.1\n",
            "\u001b[34m\u001b[1mwandb\u001b[0m: \tn_epochs: 10\n",
            "Failed to detect the name of this notebook, you can set it manually with the WANDB_NOTEBOOK_NAME environment variable to enable code saving.\n"
          ]
        },
        {
          "output_type": "display_data",
          "data": {
            "text/plain": [
              "<IPython.core.display.HTML object>"
            ],
            "text/html": [
              "Tracking run with wandb version 0.13.5"
            ]
          },
          "metadata": {}
        },
        {
          "output_type": "display_data",
          "data": {
            "text/plain": [
              "<IPython.core.display.HTML object>"
            ],
            "text/html": [
              "Run data is saved locally in <code>/content/wandb/run-20221105_160349-k2141aad</code>"
            ]
          },
          "metadata": {}
        },
        {
          "output_type": "display_data",
          "data": {
            "text/plain": [
              "<IPython.core.display.HTML object>"
            ],
            "text/html": [
              "Syncing run <strong><a href=\"https://wandb.ai/iloncka-ds/recsys-app/runs/k2141aad\" target=\"_blank\">effortless-sweep-2</a></strong> to <a href=\"https://wandb.ai/iloncka-ds/recsys-app\" target=\"_blank\">Weights & Biases</a> (<a href=\"https://wandb.me/run\" target=\"_blank\">docs</a>)<br/>Sweep page:  <a href=\"https://wandb.ai/iloncka-ds/recsys-app/sweeps/tw52paxu\" target=\"_blank\">https://wandb.ai/iloncka-ds/recsys-app/sweeps/tw52paxu</a>"
            ]
          },
          "metadata": {}
        },
        {
          "output_type": "stream",
          "name": "stdout",
          "text": [
            "total params: \u001b[33m274,221\u001b[0m | embedding params: \u001b[33m271,917\u001b[0m | network params: \u001b[33m2,304\u001b[0m\n",
            "Training start time: \u001b[35m2022-11-05 16:03:56\u001b[0m\n"
          ]
        },
        {
          "output_type": "stream",
          "name": "stderr",
          "text": [
            "train: 100%|██████████| 2521/2521 [00:40<00:00, 62.68it/s]\n"
          ]
        },
        {
          "output_type": "stream",
          "name": "stdout",
          "text": [
            "Epoch 1 elapsed: 40.279s\n",
            "\t \u001b[32mtrain_loss: 0.7137\u001b[0m\n"
          ]
        },
        {
          "output_type": "stream",
          "name": "stderr",
          "text": [
            "eval_pred: 100%|██████████| 3/3 [00:00<00:00, 360.11it/s]\n",
            "eval_rec: 100%|██████████| 610/610 [00:00<00:00, 2966.81it/s]\n"
          ]
        },
        {
          "output_type": "stream",
          "name": "stdout",
          "text": [
            "\t eval log_loss: 0.7117\n",
            "\t eval roc_auc: 0.7936\n",
            "\t eval precision@10: 0.0261\n",
            "\t eval recall@10: 0.0304\n",
            "\t eval map@10: 0.0677\n",
            "\t eval ndcg@10: 0.0998\n",
            "==============================\n"
          ]
        },
        {
          "output_type": "stream",
          "name": "stderr",
          "text": [
            "train: 100%|██████████| 2521/2521 [00:38<00:00, 65.93it/s]\n"
          ]
        },
        {
          "output_type": "stream",
          "name": "stdout",
          "text": [
            "Epoch 2 elapsed: 38.288s\n",
            "\t \u001b[32mtrain_loss: 0.7562\u001b[0m\n"
          ]
        },
        {
          "output_type": "stream",
          "name": "stderr",
          "text": [
            "eval_pred: 100%|██████████| 3/3 [00:00<00:00, 293.67it/s]\n",
            "eval_rec: 100%|██████████| 610/610 [00:00<00:00, 2626.15it/s]\n"
          ]
        },
        {
          "output_type": "stream",
          "name": "stdout",
          "text": [
            "\t eval log_loss: 0.8364\n",
            "\t eval roc_auc: 0.7666\n",
            "\t eval precision@10: 0.0220\n",
            "\t eval recall@10: 0.0264\n",
            "\t eval map@10: 0.0576\n",
            "\t eval ndcg@10: 0.0893\n",
            "==============================\n"
          ]
        },
        {
          "output_type": "stream",
          "name": "stderr",
          "text": [
            "train: 100%|██████████| 2521/2521 [00:39<00:00, 64.12it/s]\n"
          ]
        },
        {
          "output_type": "stream",
          "name": "stdout",
          "text": [
            "Epoch 3 elapsed: 39.376s\n",
            "\t \u001b[32mtrain_loss: 0.772\u001b[0m\n"
          ]
        },
        {
          "output_type": "stream",
          "name": "stderr",
          "text": [
            "eval_pred: 100%|██████████| 3/3 [00:00<00:00, 326.61it/s]\n",
            "eval_rec: 100%|██████████| 610/610 [00:00<00:00, 2476.27it/s]\n"
          ]
        },
        {
          "output_type": "stream",
          "name": "stdout",
          "text": [
            "\t eval log_loss: 0.7410\n",
            "\t eval roc_auc: 0.7892\n",
            "\t eval precision@10: 0.0234\n",
            "\t eval recall@10: 0.0214\n",
            "\t eval map@10: 0.0643\n",
            "\t eval ndcg@10: 0.0911\n",
            "==============================\n"
          ]
        },
        {
          "output_type": "stream",
          "name": "stderr",
          "text": [
            "train: 100%|██████████| 2521/2521 [00:43<00:00, 57.76it/s]\n"
          ]
        },
        {
          "output_type": "stream",
          "name": "stdout",
          "text": [
            "Epoch 4 elapsed: 43.705s\n",
            "\t \u001b[32mtrain_loss: 0.7873\u001b[0m\n"
          ]
        },
        {
          "output_type": "stream",
          "name": "stderr",
          "text": [
            "eval_pred: 100%|██████████| 3/3 [00:00<00:00, 273.90it/s]\n",
            "eval_rec: 100%|██████████| 610/610 [00:00<00:00, 2902.89it/s]\n"
          ]
        },
        {
          "output_type": "stream",
          "name": "stdout",
          "text": [
            "\t eval log_loss: 0.7536\n",
            "\t eval roc_auc: 0.7860\n",
            "\t eval precision@10: 0.0225\n",
            "\t eval recall@10: 0.0196\n",
            "\t eval map@10: 0.0631\n",
            "\t eval ndcg@10: 0.0921\n",
            "==============================\n"
          ]
        },
        {
          "output_type": "stream",
          "name": "stderr",
          "text": [
            "train: 100%|██████████| 2521/2521 [00:39<00:00, 64.05it/s]\n"
          ]
        },
        {
          "output_type": "stream",
          "name": "stdout",
          "text": [
            "Epoch 5 elapsed: 39.411s\n",
            "\t \u001b[32mtrain_loss: 0.7942\u001b[0m\n"
          ]
        },
        {
          "output_type": "stream",
          "name": "stderr",
          "text": [
            "eval_pred: 100%|██████████| 3/3 [00:00<00:00, 255.16it/s]\n",
            "eval_rec: 100%|██████████| 610/610 [00:00<00:00, 2490.03it/s]\n"
          ]
        },
        {
          "output_type": "stream",
          "name": "stdout",
          "text": [
            "\t eval log_loss: 0.7994\n",
            "\t eval roc_auc: 0.7837\n",
            "\t eval precision@10: 0.0220\n",
            "\t eval recall@10: 0.0189\n",
            "\t eval map@10: 0.0529\n",
            "\t eval ndcg@10: 0.0787\n",
            "==============================\n"
          ]
        },
        {
          "output_type": "stream",
          "name": "stderr",
          "text": [
            "train: 100%|██████████| 2521/2521 [00:37<00:00, 66.74it/s]\n"
          ]
        },
        {
          "output_type": "stream",
          "name": "stdout",
          "text": [
            "Epoch 6 elapsed: 37.826s\n",
            "\t \u001b[32mtrain_loss: 0.8832\u001b[0m\n"
          ]
        },
        {
          "output_type": "stream",
          "name": "stderr",
          "text": [
            "eval_pred: 100%|██████████| 3/3 [00:00<00:00, 197.47it/s]\n",
            "eval_rec: 100%|██████████| 610/610 [00:00<00:00, 2640.42it/s]\n"
          ]
        },
        {
          "output_type": "stream",
          "name": "stdout",
          "text": [
            "\t eval log_loss: 0.8412\n",
            "\t eval roc_auc: 0.7790\n",
            "\t eval precision@10: 0.0246\n",
            "\t eval recall@10: 0.0263\n",
            "\t eval map@10: 0.0649\n",
            "\t eval ndcg@10: 0.0955\n",
            "==============================\n"
          ]
        },
        {
          "output_type": "stream",
          "name": "stderr",
          "text": [
            "train: 100%|██████████| 2521/2521 [00:39<00:00, 63.31it/s]\n"
          ]
        },
        {
          "output_type": "stream",
          "name": "stdout",
          "text": [
            "Epoch 7 elapsed: 39.890s\n",
            "\t \u001b[32mtrain_loss: 0.8586\u001b[0m\n"
          ]
        },
        {
          "output_type": "stream",
          "name": "stderr",
          "text": [
            "eval_pred: 100%|██████████| 3/3 [00:00<00:00, 205.52it/s]\n",
            "eval_rec: 100%|██████████| 610/610 [00:00<00:00, 2326.54it/s]\n"
          ]
        },
        {
          "output_type": "stream",
          "name": "stdout",
          "text": [
            "\t eval log_loss: 0.8033\n",
            "\t eval roc_auc: 0.7837\n",
            "\t eval precision@10: 0.0266\n",
            "\t eval recall@10: 0.0305\n",
            "\t eval map@10: 0.0649\n",
            "\t eval ndcg@10: 0.0963\n",
            "==============================\n"
          ]
        },
        {
          "output_type": "stream",
          "name": "stderr",
          "text": [
            "train: 100%|██████████| 2521/2521 [00:38<00:00, 65.44it/s]\n"
          ]
        },
        {
          "output_type": "stream",
          "name": "stdout",
          "text": [
            "Epoch 8 elapsed: 38.579s\n",
            "\t \u001b[32mtrain_loss: 0.8112\u001b[0m\n"
          ]
        },
        {
          "output_type": "stream",
          "name": "stderr",
          "text": [
            "eval_pred: 100%|██████████| 3/3 [00:00<00:00, 413.80it/s]\n",
            "eval_rec: 100%|██████████| 610/610 [00:00<00:00, 2478.05it/s]\n"
          ]
        },
        {
          "output_type": "stream",
          "name": "stdout",
          "text": [
            "\t eval log_loss: 0.9565\n",
            "\t eval roc_auc: 0.7701\n",
            "\t eval precision@10: 0.0200\n",
            "\t eval recall@10: 0.0219\n",
            "\t eval map@10: 0.0465\n",
            "\t eval ndcg@10: 0.0732\n",
            "==============================\n"
          ]
        },
        {
          "output_type": "stream",
          "name": "stderr",
          "text": [
            "train: 100%|██████████| 2521/2521 [00:38<00:00, 65.24it/s]\n"
          ]
        },
        {
          "output_type": "stream",
          "name": "stdout",
          "text": [
            "Epoch 9 elapsed: 38.698s\n",
            "\t \u001b[32mtrain_loss: 0.8925\u001b[0m\n"
          ]
        },
        {
          "output_type": "stream",
          "name": "stderr",
          "text": [
            "eval_pred: 100%|██████████| 3/3 [00:00<00:00, 387.97it/s]\n",
            "eval_rec: 100%|██████████| 610/610 [00:00<00:00, 2413.22it/s]\n"
          ]
        },
        {
          "output_type": "stream",
          "name": "stdout",
          "text": [
            "\t eval log_loss: 0.8174\n",
            "\t eval roc_auc: 0.7815\n",
            "\t eval precision@10: 0.0257\n",
            "\t eval recall@10: 0.0273\n",
            "\t eval map@10: 0.0531\n",
            "\t eval ndcg@10: 0.0884\n",
            "==============================\n"
          ]
        },
        {
          "output_type": "stream",
          "name": "stderr",
          "text": [
            "train: 100%|██████████| 2521/2521 [00:39<00:00, 63.79it/s]\n"
          ]
        },
        {
          "output_type": "stream",
          "name": "stdout",
          "text": [
            "Epoch 10 elapsed: 39.572s\n",
            "\t \u001b[32mtrain_loss: 0.8752\u001b[0m\n"
          ]
        },
        {
          "output_type": "stream",
          "name": "stderr",
          "text": [
            "eval_pred: 100%|██████████| 3/3 [00:00<00:00, 264.94it/s]\n",
            "eval_rec: 100%|██████████| 610/610 [00:00<00:00, 2340.63it/s]\n"
          ]
        },
        {
          "output_type": "stream",
          "name": "stdout",
          "text": [
            "\t eval log_loss: 0.7985\n",
            "\t eval roc_auc: 0.7847\n",
            "\t eval precision@10: 0.0205\n",
            "\t eval recall@10: 0.0187\n",
            "\t eval map@10: 0.0458\n",
            "\t eval ndcg@10: 0.0731\n",
            "==============================\n"
          ]
        },
        {
          "output_type": "stream",
          "name": "stderr",
          "text": [
            "eval_pred: 100%|██████████| 3/3 [00:00<00:00, 232.75it/s]\n",
            "eval_rec: 100%|██████████| 608/608 [00:00<00:00, 2412.25it/s]\n"
          ]
        },
        {
          "output_type": "display_data",
          "data": {
            "text/plain": [
              "<IPython.core.display.HTML object>"
            ],
            "text/html": [
              "Waiting for W&B process to finish... <strong style=\"color:green\">(success).</strong>"
            ]
          },
          "metadata": {}
        },
        {
          "output_type": "display_data",
          "data": {
            "text/plain": [
              "VBox(children=(Label(value='0.001 MB of 0.001 MB uploaded (0.000 MB deduped)\\r'), FloatProgress(value=1.0, max…"
            ],
            "application/vnd.jupyter.widget-view+json": {
              "version_major": 2,
              "version_minor": 0,
              "model_id": "97c025b0659345d49253c1881b0fb9b5"
            }
          },
          "metadata": {}
        },
        {
          "output_type": "display_data",
          "data": {
            "text/plain": [
              "<IPython.core.display.HTML object>"
            ],
            "text/html": [
              "<style>\n",
              "    table.wandb td:nth-child(1) { padding: 0 10px; text-align: left ; width: auto;} td:nth-child(2) {text-align: left ; width: 100%}\n",
              "    .wandb-row { display: flex; flex-direction: row; flex-wrap: wrap; justify-content: flex-start; width: 100% }\n",
              "    .wandb-col { display: flex; flex-direction: column; flex-basis: 100%; flex: 1; padding: 10px; }\n",
              "    </style>\n",
              "<div class=\"wandb-row\"><div class=\"wandb-col\"><h3>Run history:</h3><br/><table class=\"wandb\"><tr><td>epoch</td><td>▁▂▃▃▄▅▆▆▇█</td></tr><tr><td>loss</td><td>▁</td></tr><tr><td>map</td><td>▁</td></tr><tr><td>map@10</td><td>█▅▇▇▃▇▇▁▃▁</td></tr><tr><td>ndcg</td><td>▁</td></tr><tr><td>ndcg@10</td><td>█▅▆▆▂▇▇▁▅▁</td></tr><tr><td>precision</td><td>▁</td></tr><tr><td>precision@10</td><td>▇▃▅▄▃▆█▁▇▂</td></tr><tr><td>recall</td><td>▁</td></tr><tr><td>recall@10</td><td>█▆▃▂▁▅█▃▆▁</td></tr><tr><td>roc_auc</td><td>█▂▇▆▆▅▆▂▅▆▁</td></tr><tr><td>train_loss</td><td>▁▃▃▄▄█▇▅█▇</td></tr></table><br/></div><div class=\"wandb-col\"><h3>Run summary:</h3><br/><table class=\"wandb\"><tr><td>epoch</td><td>10</td></tr><tr><td>log_loss</td><td>sklearn.metrics._cla...</td></tr><tr><td>loss</td><td>0.86476</td></tr><tr><td>map</td><td>0.04073</td></tr><tr><td>map@10</td><td>0.04581</td></tr><tr><td>ndcg</td><td>0.06276</td></tr><tr><td>ndcg@10</td><td>0.07308</td></tr><tr><td>precision</td><td>0.01645</td></tr><tr><td>precision@10</td><td>0.02049</td></tr><tr><td>recall</td><td>0.01076</td></tr><tr><td>recall@10</td><td>0.01873</td></tr><tr><td>roc_auc</td><td>0.76449</td></tr><tr><td>train_loss</td><td>0.8752</td></tr></table><br/></div></div>"
            ]
          },
          "metadata": {}
        },
        {
          "output_type": "display_data",
          "data": {
            "text/plain": [
              "<IPython.core.display.HTML object>"
            ],
            "text/html": [
              "Synced <strong style=\"color:#cdcd00\">effortless-sweep-2</strong>: <a href=\"https://wandb.ai/iloncka-ds/recsys-app/runs/k2141aad\" target=\"_blank\">https://wandb.ai/iloncka-ds/recsys-app/runs/k2141aad</a><br/>Synced 5 W&B file(s), 0 media file(s), 0 artifact file(s) and 0 other file(s)"
            ]
          },
          "metadata": {}
        },
        {
          "output_type": "display_data",
          "data": {
            "text/plain": [
              "<IPython.core.display.HTML object>"
            ],
            "text/html": [
              "Find logs at: <code>./wandb/run-20221105_160349-k2141aad/logs</code>"
            ]
          },
          "metadata": {}
        },
        {
          "output_type": "stream",
          "name": "stderr",
          "text": [
            "\u001b[34m\u001b[1mwandb\u001b[0m: Agent Starting Run: pg38ja4q with config:\n",
            "\u001b[34m\u001b[1mwandb\u001b[0m: \tbatch_size: 64\n",
            "\u001b[34m\u001b[1mwandb\u001b[0m: \tembed_size: 16\n",
            "\u001b[34m\u001b[1mwandb\u001b[0m: \tlr: 0.01\n",
            "\u001b[34m\u001b[1mwandb\u001b[0m: \tn_epochs: 5\n"
          ]
        },
        {
          "output_type": "display_data",
          "data": {
            "text/plain": [
              "<IPython.core.display.HTML object>"
            ],
            "text/html": [
              "Tracking run with wandb version 0.13.5"
            ]
          },
          "metadata": {}
        },
        {
          "output_type": "display_data",
          "data": {
            "text/plain": [
              "<IPython.core.display.HTML object>"
            ],
            "text/html": [
              "Run data is saved locally in <code>/content/wandb/run-20221105_161053-pg38ja4q</code>"
            ]
          },
          "metadata": {}
        },
        {
          "output_type": "display_data",
          "data": {
            "text/plain": [
              "<IPython.core.display.HTML object>"
            ],
            "text/html": [
              "Syncing run <strong><a href=\"https://wandb.ai/iloncka-ds/recsys-app/runs/pg38ja4q\" target=\"_blank\">feasible-sweep-3</a></strong> to <a href=\"https://wandb.ai/iloncka-ds/recsys-app\" target=\"_blank\">Weights & Biases</a> (<a href=\"https://wandb.me/run\" target=\"_blank\">docs</a>)<br/>Sweep page:  <a href=\"https://wandb.ai/iloncka-ds/recsys-app/sweeps/tw52paxu\" target=\"_blank\">https://wandb.ai/iloncka-ds/recsys-app/sweeps/tw52paxu</a>"
            ]
          },
          "metadata": {}
        },
        {
          "output_type": "stream",
          "name": "stdout",
          "text": [
            "total params: \u001b[33m274,221\u001b[0m | embedding params: \u001b[33m271,917\u001b[0m | network params: \u001b[33m2,304\u001b[0m\n",
            "Training start time: \u001b[35m2022-11-05 16:11:00\u001b[0m\n"
          ]
        },
        {
          "output_type": "stream",
          "name": "stderr",
          "text": [
            "train: 100%|██████████| 2521/2521 [00:45<00:00, 54.96it/s]\n"
          ]
        },
        {
          "output_type": "stream",
          "name": "stdout",
          "text": [
            "Epoch 1 elapsed: 45.931s\n",
            "\t \u001b[32mtrain_loss: 0.4947\u001b[0m\n"
          ]
        },
        {
          "output_type": "stream",
          "name": "stderr",
          "text": [
            "eval_pred: 100%|██████████| 3/3 [00:00<00:00, 238.88it/s]\n",
            "eval_rec: 100%|██████████| 610/610 [00:00<00:00, 2104.13it/s]\n"
          ]
        },
        {
          "output_type": "stream",
          "name": "stdout",
          "text": [
            "\t eval log_loss: 0.5464\n",
            "\t eval roc_auc: 0.8157\n",
            "\t eval precision@10: 0.0328\n",
            "\t eval recall@10: 0.0373\n",
            "\t eval map@10: 0.0839\n",
            "\t eval ndcg@10: 0.1236\n",
            "==============================\n"
          ]
        },
        {
          "output_type": "stream",
          "name": "stderr",
          "text": [
            "train: 100%|██████████| 2521/2521 [00:40<00:00, 61.82it/s]\n"
          ]
        },
        {
          "output_type": "stream",
          "name": "stdout",
          "text": [
            "Epoch 2 elapsed: 40.846s\n",
            "\t \u001b[32mtrain_loss: 0.3875\u001b[0m\n"
          ]
        },
        {
          "output_type": "stream",
          "name": "stderr",
          "text": [
            "eval_pred: 100%|██████████| 3/3 [00:00<00:00, 362.25it/s]\n",
            "eval_rec: 100%|██████████| 610/610 [00:00<00:00, 2633.21it/s]\n"
          ]
        },
        {
          "output_type": "stream",
          "name": "stdout",
          "text": [
            "\t eval log_loss: 0.6248\n",
            "\t eval roc_auc: 0.7929\n",
            "\t eval precision@10: 0.0269\n",
            "\t eval recall@10: 0.0298\n",
            "\t eval map@10: 0.0637\n",
            "\t eval ndcg@10: 0.0982\n",
            "==============================\n"
          ]
        },
        {
          "output_type": "stream",
          "name": "stderr",
          "text": [
            "train: 100%|██████████| 2521/2521 [00:39<00:00, 63.30it/s]\n"
          ]
        },
        {
          "output_type": "stream",
          "name": "stdout",
          "text": [
            "Epoch 3 elapsed: 39.880s\n",
            "\t \u001b[32mtrain_loss: 0.3187\u001b[0m\n"
          ]
        },
        {
          "output_type": "stream",
          "name": "stderr",
          "text": [
            "eval_pred: 100%|██████████| 3/3 [00:00<00:00, 269.64it/s]\n",
            "eval_rec: 100%|██████████| 610/610 [00:00<00:00, 2693.54it/s]\n"
          ]
        },
        {
          "output_type": "stream",
          "name": "stdout",
          "text": [
            "\t eval log_loss: 0.6838\n",
            "\t eval roc_auc: 0.7708\n",
            "\t eval precision@10: 0.0280\n",
            "\t eval recall@10: 0.0298\n",
            "\t eval map@10: 0.0703\n",
            "\t eval ndcg@10: 0.1028\n",
            "==============================\n"
          ]
        },
        {
          "output_type": "stream",
          "name": "stderr",
          "text": [
            "train: 100%|██████████| 2521/2521 [00:38<00:00, 64.83it/s]\n"
          ]
        },
        {
          "output_type": "stream",
          "name": "stdout",
          "text": [
            "Epoch 4 elapsed: 38.947s\n",
            "\t \u001b[32mtrain_loss: 0.2603\u001b[0m\n"
          ]
        },
        {
          "output_type": "stream",
          "name": "stderr",
          "text": [
            "eval_pred: 100%|██████████| 3/3 [00:00<00:00, 248.63it/s]\n",
            "eval_rec: 100%|██████████| 610/610 [00:00<00:00, 2270.55it/s]\n"
          ]
        },
        {
          "output_type": "stream",
          "name": "stdout",
          "text": [
            "\t eval log_loss: 0.7917\n",
            "\t eval roc_auc: 0.7678\n",
            "\t eval precision@10: 0.0238\n",
            "\t eval recall@10: 0.0276\n",
            "\t eval map@10: 0.0597\n",
            "\t eval ndcg@10: 0.0898\n",
            "==============================\n"
          ]
        },
        {
          "output_type": "stream",
          "name": "stderr",
          "text": [
            "train: 100%|██████████| 2521/2521 [00:40<00:00, 62.62it/s]\n"
          ]
        },
        {
          "output_type": "stream",
          "name": "stdout",
          "text": [
            "Epoch 5 elapsed: 40.317s\n",
            "\t \u001b[32mtrain_loss: 0.2197\u001b[0m\n"
          ]
        },
        {
          "output_type": "stream",
          "name": "stderr",
          "text": [
            "eval_pred: 100%|██████████| 3/3 [00:00<00:00, 245.20it/s]\n",
            "eval_rec: 100%|██████████| 610/610 [00:00<00:00, 2412.64it/s]\n"
          ]
        },
        {
          "output_type": "stream",
          "name": "stdout",
          "text": [
            "\t eval log_loss: 0.9597\n",
            "\t eval roc_auc: 0.7329\n",
            "\t eval precision@10: 0.0254\n",
            "\t eval recall@10: 0.0270\n",
            "\t eval map@10: 0.0587\n",
            "\t eval ndcg@10: 0.0917\n",
            "==============================\n"
          ]
        },
        {
          "output_type": "stream",
          "name": "stderr",
          "text": [
            "eval_pred: 100%|██████████| 3/3 [00:00<00:00, 276.38it/s]\n",
            "eval_rec: 100%|██████████| 608/608 [00:00<00:00, 2426.83it/s]\n"
          ]
        },
        {
          "output_type": "display_data",
          "data": {
            "text/plain": [
              "<IPython.core.display.HTML object>"
            ],
            "text/html": [
              "Waiting for W&B process to finish... <strong style=\"color:green\">(success).</strong>"
            ]
          },
          "metadata": {}
        },
        {
          "output_type": "display_data",
          "data": {
            "text/plain": [
              "VBox(children=(Label(value='0.001 MB of 0.001 MB uploaded (0.000 MB deduped)\\r'), FloatProgress(value=1.0, max…"
            ],
            "application/vnd.jupyter.widget-view+json": {
              "version_major": 2,
              "version_minor": 0,
              "model_id": "3607925b5db742559de795fcc9aad114"
            }
          },
          "metadata": {}
        },
        {
          "output_type": "display_data",
          "data": {
            "text/plain": [
              "<IPython.core.display.HTML object>"
            ],
            "text/html": [
              "<style>\n",
              "    table.wandb td:nth-child(1) { padding: 0 10px; text-align: left ; width: auto;} td:nth-child(2) {text-align: left ; width: 100%}\n",
              "    .wandb-row { display: flex; flex-direction: row; flex-wrap: wrap; justify-content: flex-start; width: 100% }\n",
              "    .wandb-col { display: flex; flex-direction: column; flex-basis: 100%; flex: 1; padding: 10px; }\n",
              "    </style>\n",
              "<div class=\"wandb-row\"><div class=\"wandb-col\"><h3>Run history:</h3><br/><table class=\"wandb\"><tr><td>epoch</td><td>▁▃▅▆█</td></tr><tr><td>loss</td><td>▁</td></tr><tr><td>map</td><td>▁</td></tr><tr><td>map@10</td><td>█▂▄▁▁</td></tr><tr><td>ndcg</td><td>▁</td></tr><tr><td>ndcg@10</td><td>█▃▄▁▁</td></tr><tr><td>precision</td><td>▁</td></tr><tr><td>precision@10</td><td>█▃▄▁▂</td></tr><tr><td>recall</td><td>▁</td></tr><tr><td>recall@10</td><td>█▃▃▁▁</td></tr><tr><td>roc_auc</td><td>█▆▅▅▂▁</td></tr><tr><td>train_loss</td><td>█▅▄▂▁</td></tr></table><br/></div><div class=\"wandb-col\"><h3>Run summary:</h3><br/><table class=\"wandb\"><tr><td>epoch</td><td>5</td></tr><tr><td>log_loss</td><td>sklearn.metrics._cla...</td></tr><tr><td>loss</td><td>1.02308</td></tr><tr><td>map</td><td>0.05635</td></tr><tr><td>map@10</td><td>0.0587</td></tr><tr><td>ndcg</td><td>0.08444</td></tr><tr><td>ndcg@10</td><td>0.09174</td></tr><tr><td>precision</td><td>0.02155</td></tr><tr><td>precision@10</td><td>0.02541</td></tr><tr><td>recall</td><td>0.02268</td></tr><tr><td>recall@10</td><td>0.02696</td></tr><tr><td>roc_auc</td><td>0.71431</td></tr><tr><td>train_loss</td><td>0.2197</td></tr></table><br/></div></div>"
            ]
          },
          "metadata": {}
        },
        {
          "output_type": "display_data",
          "data": {
            "text/plain": [
              "<IPython.core.display.HTML object>"
            ],
            "text/html": [
              "Synced <strong style=\"color:#cdcd00\">feasible-sweep-3</strong>: <a href=\"https://wandb.ai/iloncka-ds/recsys-app/runs/pg38ja4q\" target=\"_blank\">https://wandb.ai/iloncka-ds/recsys-app/runs/pg38ja4q</a><br/>Synced 5 W&B file(s), 0 media file(s), 0 artifact file(s) and 0 other file(s)"
            ]
          },
          "metadata": {}
        },
        {
          "output_type": "display_data",
          "data": {
            "text/plain": [
              "<IPython.core.display.HTML object>"
            ],
            "text/html": [
              "Find logs at: <code>./wandb/run-20221105_161053-pg38ja4q/logs</code>"
            ]
          },
          "metadata": {}
        },
        {
          "output_type": "stream",
          "name": "stderr",
          "text": [
            "\u001b[34m\u001b[1mwandb\u001b[0m: Agent Starting Run: 7r20ddvb with config:\n",
            "\u001b[34m\u001b[1mwandb\u001b[0m: \tbatch_size: 64\n",
            "\u001b[34m\u001b[1mwandb\u001b[0m: \tembed_size: 16\n",
            "\u001b[34m\u001b[1mwandb\u001b[0m: \tlr: 0.01\n",
            "\u001b[34m\u001b[1mwandb\u001b[0m: \tn_epochs: 10\n"
          ]
        },
        {
          "output_type": "display_data",
          "data": {
            "text/plain": [
              "<IPython.core.display.HTML object>"
            ],
            "text/html": [
              "Tracking run with wandb version 0.13.5"
            ]
          },
          "metadata": {}
        },
        {
          "output_type": "display_data",
          "data": {
            "text/plain": [
              "<IPython.core.display.HTML object>"
            ],
            "text/html": [
              "Run data is saved locally in <code>/content/wandb/run-20221105_161443-7r20ddvb</code>"
            ]
          },
          "metadata": {}
        },
        {
          "output_type": "display_data",
          "data": {
            "text/plain": [
              "<IPython.core.display.HTML object>"
            ],
            "text/html": [
              "Syncing run <strong><a href=\"https://wandb.ai/iloncka-ds/recsys-app/runs/7r20ddvb\" target=\"_blank\">stilted-sweep-4</a></strong> to <a href=\"https://wandb.ai/iloncka-ds/recsys-app\" target=\"_blank\">Weights & Biases</a> (<a href=\"https://wandb.me/run\" target=\"_blank\">docs</a>)<br/>Sweep page:  <a href=\"https://wandb.ai/iloncka-ds/recsys-app/sweeps/tw52paxu\" target=\"_blank\">https://wandb.ai/iloncka-ds/recsys-app/sweeps/tw52paxu</a>"
            ]
          },
          "metadata": {}
        },
        {
          "output_type": "stream",
          "name": "stdout",
          "text": [
            "total params: \u001b[33m274,221\u001b[0m | embedding params: \u001b[33m271,917\u001b[0m | network params: \u001b[33m2,304\u001b[0m\n",
            "Training start time: \u001b[35m2022-11-05 16:14:50\u001b[0m\n"
          ]
        },
        {
          "output_type": "stream",
          "name": "stderr",
          "text": [
            "train: 100%|██████████| 2521/2521 [00:40<00:00, 61.66it/s]\n"
          ]
        },
        {
          "output_type": "stream",
          "name": "stdout",
          "text": [
            "Epoch 1 elapsed: 40.951s\n",
            "\t \u001b[32mtrain_loss: 0.4942\u001b[0m\n"
          ]
        },
        {
          "output_type": "stream",
          "name": "stderr",
          "text": [
            "eval_pred: 100%|██████████| 3/3 [00:00<00:00, 256.20it/s]\n",
            "eval_rec: 100%|██████████| 610/610 [00:00<00:00, 2573.56it/s]\n"
          ]
        },
        {
          "output_type": "stream",
          "name": "stdout",
          "text": [
            "\t eval log_loss: 0.5266\n",
            "\t eval roc_auc: 0.8232\n",
            "\t eval precision@10: 0.0346\n",
            "\t eval recall@10: 0.0376\n",
            "\t eval map@10: 0.0787\n",
            "\t eval ndcg@10: 0.1180\n",
            "==============================\n"
          ]
        },
        {
          "output_type": "stream",
          "name": "stderr",
          "text": [
            "train: 100%|██████████| 2521/2521 [00:39<00:00, 63.94it/s]\n"
          ]
        },
        {
          "output_type": "stream",
          "name": "stdout",
          "text": [
            "Epoch 2 elapsed: 39.487s\n",
            "\t \u001b[32mtrain_loss: 0.3855\u001b[0m\n"
          ]
        },
        {
          "output_type": "stream",
          "name": "stderr",
          "text": [
            "eval_pred: 100%|██████████| 3/3 [00:00<00:00, 239.55it/s]\n",
            "eval_rec: 100%|██████████| 610/610 [00:00<00:00, 2585.34it/s]\n"
          ]
        },
        {
          "output_type": "stream",
          "name": "stdout",
          "text": [
            "\t eval log_loss: 0.5954\n",
            "\t eval roc_auc: 0.8000\n",
            "\t eval precision@10: 0.0277\n",
            "\t eval recall@10: 0.0273\n",
            "\t eval map@10: 0.0710\n",
            "\t eval ndcg@10: 0.1038\n",
            "==============================\n"
          ]
        },
        {
          "output_type": "stream",
          "name": "stderr",
          "text": [
            "train: 100%|██████████| 2521/2521 [00:44<00:00, 56.40it/s]\n"
          ]
        },
        {
          "output_type": "stream",
          "name": "stdout",
          "text": [
            "Epoch 3 elapsed: 44.757s\n",
            "\t \u001b[32mtrain_loss: 0.3229\u001b[0m\n"
          ]
        },
        {
          "output_type": "stream",
          "name": "stderr",
          "text": [
            "eval_pred: 100%|██████████| 3/3 [00:00<00:00, 237.86it/s]\n",
            "eval_rec: 100%|██████████| 610/610 [00:00<00:00, 2694.42it/s]\n"
          ]
        },
        {
          "output_type": "stream",
          "name": "stdout",
          "text": [
            "\t eval log_loss: 0.6412\n",
            "\t eval roc_auc: 0.7801\n",
            "\t eval precision@10: 0.0270\n",
            "\t eval recall@10: 0.0300\n",
            "\t eval map@10: 0.0626\n",
            "\t eval ndcg@10: 0.0951\n",
            "==============================\n"
          ]
        },
        {
          "output_type": "stream",
          "name": "stderr",
          "text": [
            "train: 100%|██████████| 2521/2521 [00:39<00:00, 63.24it/s]\n"
          ]
        },
        {
          "output_type": "stream",
          "name": "stdout",
          "text": [
            "Epoch 4 elapsed: 39.935s\n",
            "\t \u001b[32mtrain_loss: 0.2687\u001b[0m\n"
          ]
        },
        {
          "output_type": "stream",
          "name": "stderr",
          "text": [
            "eval_pred: 100%|██████████| 3/3 [00:00<00:00, 228.73it/s]\n",
            "eval_rec: 100%|██████████| 610/610 [00:00<00:00, 2655.98it/s]\n"
          ]
        },
        {
          "output_type": "stream",
          "name": "stdout",
          "text": [
            "\t eval log_loss: 0.7596\n",
            "\t eval roc_auc: 0.7692\n",
            "\t eval precision@10: 0.0264\n",
            "\t eval recall@10: 0.0294\n",
            "\t eval map@10: 0.0604\n",
            "\t eval ndcg@10: 0.0936\n",
            "==============================\n"
          ]
        },
        {
          "output_type": "stream",
          "name": "stderr",
          "text": [
            "train: 100%|██████████| 2521/2521 [00:39<00:00, 63.16it/s]\n"
          ]
        },
        {
          "output_type": "stream",
          "name": "stdout",
          "text": [
            "Epoch 5 elapsed: 39.977s\n",
            "\t \u001b[32mtrain_loss: 0.227\u001b[0m\n"
          ]
        },
        {
          "output_type": "stream",
          "name": "stderr",
          "text": [
            "eval_pred: 100%|██████████| 3/3 [00:00<00:00, 189.91it/s]\n",
            "eval_rec: 100%|██████████| 610/610 [00:00<00:00, 2238.45it/s]\n"
          ]
        },
        {
          "output_type": "stream",
          "name": "stdout",
          "text": [
            "\t eval log_loss: 0.8343\n",
            "\t eval roc_auc: 0.7533\n",
            "\t eval precision@10: 0.0287\n",
            "\t eval recall@10: 0.0370\n",
            "\t eval map@10: 0.0642\n",
            "\t eval ndcg@10: 0.0993\n",
            "==============================\n"
          ]
        },
        {
          "output_type": "stream",
          "name": "stderr",
          "text": [
            "train: 100%|██████████| 2521/2521 [00:39<00:00, 63.88it/s]\n"
          ]
        },
        {
          "output_type": "stream",
          "name": "stdout",
          "text": [
            "Epoch 6 elapsed: 39.534s\n",
            "\t \u001b[32mtrain_loss: 0.2019\u001b[0m\n"
          ]
        },
        {
          "output_type": "stream",
          "name": "stderr",
          "text": [
            "eval_pred: 100%|██████████| 3/3 [00:00<00:00, 213.70it/s]\n",
            "eval_rec: 100%|██████████| 610/610 [00:00<00:00, 2078.83it/s]\n"
          ]
        },
        {
          "output_type": "stream",
          "name": "stdout",
          "text": [
            "\t eval log_loss: 0.9357\n",
            "\t eval roc_auc: 0.7454\n",
            "\t eval precision@10: 0.0270\n",
            "\t eval recall@10: 0.0366\n",
            "\t eval map@10: 0.0671\n",
            "\t eval ndcg@10: 0.1031\n",
            "==============================\n"
          ]
        },
        {
          "output_type": "stream",
          "name": "stderr",
          "text": [
            "train: 100%|██████████| 2521/2521 [00:38<00:00, 65.45it/s]\n"
          ]
        },
        {
          "output_type": "stream",
          "name": "stdout",
          "text": [
            "Epoch 7 elapsed: 38.578s\n",
            "\t \u001b[32mtrain_loss: 0.1803\u001b[0m\n"
          ]
        },
        {
          "output_type": "stream",
          "name": "stderr",
          "text": [
            "eval_pred: 100%|██████████| 3/3 [00:00<00:00, 178.33it/s]\n",
            "eval_rec: 100%|██████████| 610/610 [00:00<00:00, 2427.72it/s]\n"
          ]
        },
        {
          "output_type": "stream",
          "name": "stdout",
          "text": [
            "\t eval log_loss: 0.8992\n",
            "\t eval roc_auc: 0.7549\n",
            "\t eval precision@10: 0.0266\n",
            "\t eval recall@10: 0.0339\n",
            "\t eval map@10: 0.0673\n",
            "\t eval ndcg@10: 0.1017\n",
            "==============================\n"
          ]
        },
        {
          "output_type": "stream",
          "name": "stderr",
          "text": [
            "train: 100%|██████████| 2521/2521 [00:39<00:00, 63.85it/s]\n"
          ]
        },
        {
          "output_type": "stream",
          "name": "stdout",
          "text": [
            "Epoch 8 elapsed: 39.535s\n",
            "\t \u001b[32mtrain_loss: 0.1694\u001b[0m\n"
          ]
        },
        {
          "output_type": "stream",
          "name": "stderr",
          "text": [
            "eval_pred: 100%|██████████| 3/3 [00:00<00:00, 315.06it/s]\n",
            "eval_rec: 100%|██████████| 610/610 [00:00<00:00, 2375.53it/s]\n"
          ]
        },
        {
          "output_type": "stream",
          "name": "stdout",
          "text": [
            "\t eval log_loss: 0.9444\n",
            "\t eval roc_auc: 0.7428\n",
            "\t eval precision@10: 0.0297\n",
            "\t eval recall@10: 0.0385\n",
            "\t eval map@10: 0.0637\n",
            "\t eval ndcg@10: 0.1035\n",
            "==============================\n"
          ]
        },
        {
          "output_type": "stream",
          "name": "stderr",
          "text": [
            "train: 100%|██████████| 2521/2521 [00:39<00:00, 63.09it/s]\n"
          ]
        },
        {
          "output_type": "stream",
          "name": "stdout",
          "text": [
            "Epoch 9 elapsed: 40.020s\n",
            "\t \u001b[32mtrain_loss: 0.1638\u001b[0m\n"
          ]
        },
        {
          "output_type": "stream",
          "name": "stderr",
          "text": [
            "eval_pred: 100%|██████████| 3/3 [00:00<00:00, 246.35it/s]\n",
            "eval_rec: 100%|██████████| 610/610 [00:00<00:00, 2461.43it/s]\n"
          ]
        },
        {
          "output_type": "stream",
          "name": "stdout",
          "text": [
            "\t eval log_loss: 0.9466\n",
            "\t eval roc_auc: 0.7531\n",
            "\t eval precision@10: 0.0252\n",
            "\t eval recall@10: 0.0349\n",
            "\t eval map@10: 0.0698\n",
            "\t eval ndcg@10: 0.1022\n",
            "==============================\n"
          ]
        },
        {
          "output_type": "stream",
          "name": "stderr",
          "text": [
            "train: 100%|██████████| 2521/2521 [00:44<00:00, 57.20it/s]\n"
          ]
        },
        {
          "output_type": "stream",
          "name": "stdout",
          "text": [
            "Epoch 10 elapsed: 44.125s\n",
            "\t \u001b[32mtrain_loss: 0.1586\u001b[0m\n"
          ]
        },
        {
          "output_type": "stream",
          "name": "stderr",
          "text": [
            "eval_pred: 100%|██████████| 3/3 [00:00<00:00, 264.08it/s]\n",
            "eval_rec: 100%|██████████| 610/610 [00:00<00:00, 2502.61it/s]\n"
          ]
        },
        {
          "output_type": "stream",
          "name": "stdout",
          "text": [
            "\t eval log_loss: 0.9497\n",
            "\t eval roc_auc: 0.7548\n",
            "\t eval precision@10: 0.0238\n",
            "\t eval recall@10: 0.0343\n",
            "\t eval map@10: 0.0610\n",
            "\t eval ndcg@10: 0.0914\n",
            "==============================\n"
          ]
        },
        {
          "output_type": "stream",
          "name": "stderr",
          "text": [
            "eval_pred: 100%|██████████| 3/3 [00:00<00:00, 329.59it/s]\n",
            "eval_rec: 100%|██████████| 608/608 [00:00<00:00, 2153.26it/s]\n"
          ]
        },
        {
          "output_type": "display_data",
          "data": {
            "text/plain": [
              "<IPython.core.display.HTML object>"
            ],
            "text/html": [
              "Waiting for W&B process to finish... <strong style=\"color:green\">(success).</strong>"
            ]
          },
          "metadata": {}
        },
        {
          "output_type": "display_data",
          "data": {
            "text/plain": [
              "<IPython.core.display.HTML object>"
            ],
            "text/html": [
              "<style>\n",
              "    table.wandb td:nth-child(1) { padding: 0 10px; text-align: left ; width: auto;} td:nth-child(2) {text-align: left ; width: 100%}\n",
              "    .wandb-row { display: flex; flex-direction: row; flex-wrap: wrap; justify-content: flex-start; width: 100% }\n",
              "    .wandb-col { display: flex; flex-direction: column; flex-basis: 100%; flex: 1; padding: 10px; }\n",
              "    </style>\n",
              "<div class=\"wandb-row\"><div class=\"wandb-col\"><h3>Run history:</h3><br/><table class=\"wandb\"><tr><td>epoch</td><td>▁▂▃▃▄▅▆▆▇█</td></tr><tr><td>loss</td><td>▁</td></tr><tr><td>map</td><td>▁</td></tr><tr><td>map@10</td><td>█▅▂▁▂▄▄▂▅▁</td></tr><tr><td>ndcg</td><td>▁</td></tr><tr><td>ndcg@10</td><td>█▄▂▂▃▄▄▄▄▁</td></tr><tr><td>precision</td><td>▁</td></tr><tr><td>precision@10</td><td>█▄▃▃▄▃▃▅▂▁</td></tr><tr><td>recall</td><td>▁</td></tr><tr><td>recall@10</td><td>▇▁▃▂▇▇▅█▆▅</td></tr><tr><td>roc_auc</td><td>█▆▅▄▃▂▃▂▃▃▁</td></tr><tr><td>train_loss</td><td>█▆▄▃▂▂▁▁▁▁</td></tr></table><br/></div><div class=\"wandb-col\"><h3>Run summary:</h3><br/><table class=\"wandb\"><tr><td>epoch</td><td>10</td></tr><tr><td>log_loss</td><td>sklearn.metrics._cla...</td></tr><tr><td>loss</td><td>1.02909</td></tr><tr><td>map</td><td>0.04476</td></tr><tr><td>map@10</td><td>0.061</td></tr><tr><td>ndcg</td><td>0.07223</td></tr><tr><td>ndcg@10</td><td>0.09141</td></tr><tr><td>precision</td><td>0.01941</td></tr><tr><td>precision@10</td><td>0.02377</td></tr><tr><td>recall</td><td>0.02629</td></tr><tr><td>recall@10</td><td>0.0343</td></tr><tr><td>roc_auc</td><td>0.73051</td></tr><tr><td>train_loss</td><td>0.1586</td></tr></table><br/></div></div>"
            ]
          },
          "metadata": {}
        },
        {
          "output_type": "display_data",
          "data": {
            "text/plain": [
              "<IPython.core.display.HTML object>"
            ],
            "text/html": [
              "Synced <strong style=\"color:#cdcd00\">stilted-sweep-4</strong>: <a href=\"https://wandb.ai/iloncka-ds/recsys-app/runs/7r20ddvb\" target=\"_blank\">https://wandb.ai/iloncka-ds/recsys-app/runs/7r20ddvb</a><br/>Synced 5 W&B file(s), 0 media file(s), 0 artifact file(s) and 0 other file(s)"
            ]
          },
          "metadata": {}
        },
        {
          "output_type": "display_data",
          "data": {
            "text/plain": [
              "<IPython.core.display.HTML object>"
            ],
            "text/html": [
              "Find logs at: <code>./wandb/run-20221105_161443-7r20ddvb/logs</code>"
            ]
          },
          "metadata": {}
        },
        {
          "output_type": "stream",
          "name": "stderr",
          "text": [
            "\u001b[34m\u001b[1mwandb\u001b[0m: Agent Starting Run: ygrgnwtq with config:\n",
            "\u001b[34m\u001b[1mwandb\u001b[0m: \tbatch_size: 64\n",
            "\u001b[34m\u001b[1mwandb\u001b[0m: \tembed_size: 16\n",
            "\u001b[34m\u001b[1mwandb\u001b[0m: \tlr: 0.001\n",
            "\u001b[34m\u001b[1mwandb\u001b[0m: \tn_epochs: 5\n"
          ]
        },
        {
          "output_type": "display_data",
          "data": {
            "text/plain": [
              "<IPython.core.display.HTML object>"
            ],
            "text/html": [
              "Tracking run with wandb version 0.13.5"
            ]
          },
          "metadata": {}
        },
        {
          "output_type": "display_data",
          "data": {
            "text/plain": [
              "<IPython.core.display.HTML object>"
            ],
            "text/html": [
              "Run data is saved locally in <code>/content/wandb/run-20221105_162157-ygrgnwtq</code>"
            ]
          },
          "metadata": {}
        },
        {
          "output_type": "display_data",
          "data": {
            "text/plain": [
              "<IPython.core.display.HTML object>"
            ],
            "text/html": [
              "Syncing run <strong><a href=\"https://wandb.ai/iloncka-ds/recsys-app/runs/ygrgnwtq\" target=\"_blank\">zesty-sweep-5</a></strong> to <a href=\"https://wandb.ai/iloncka-ds/recsys-app\" target=\"_blank\">Weights & Biases</a> (<a href=\"https://wandb.me/run\" target=\"_blank\">docs</a>)<br/>Sweep page:  <a href=\"https://wandb.ai/iloncka-ds/recsys-app/sweeps/tw52paxu\" target=\"_blank\">https://wandb.ai/iloncka-ds/recsys-app/sweeps/tw52paxu</a>"
            ]
          },
          "metadata": {}
        },
        {
          "output_type": "stream",
          "name": "stdout",
          "text": [
            "total params: \u001b[33m274,221\u001b[0m | embedding params: \u001b[33m271,917\u001b[0m | network params: \u001b[33m2,304\u001b[0m\n",
            "Training start time: \u001b[35m2022-11-05 16:22:04\u001b[0m\n"
          ]
        },
        {
          "output_type": "stream",
          "name": "stderr",
          "text": [
            "train: 100%|██████████| 2521/2521 [00:40<00:00, 61.88it/s]\n"
          ]
        },
        {
          "output_type": "stream",
          "name": "stdout",
          "text": [
            "Epoch 1 elapsed: 40.796s\n",
            "\t \u001b[32mtrain_loss: 0.5096\u001b[0m\n"
          ]
        },
        {
          "output_type": "stream",
          "name": "stderr",
          "text": [
            "eval_pred: 100%|██████████| 3/3 [00:00<00:00, 196.49it/s]\n",
            "eval_rec: 100%|██████████| 610/610 [00:00<00:00, 2181.15it/s]\n"
          ]
        },
        {
          "output_type": "stream",
          "name": "stdout",
          "text": [
            "\t eval log_loss: 0.5229\n",
            "\t eval roc_auc: 0.8216\n",
            "\t eval precision@10: 0.0338\n",
            "\t eval recall@10: 0.0359\n",
            "\t eval map@10: 0.0774\n",
            "\t eval ndcg@10: 0.1156\n",
            "==============================\n"
          ]
        },
        {
          "output_type": "stream",
          "name": "stderr",
          "text": [
            "train: 100%|██████████| 2521/2521 [00:39<00:00, 64.21it/s]\n"
          ]
        },
        {
          "output_type": "stream",
          "name": "stdout",
          "text": [
            "Epoch 2 elapsed: 39.324s\n",
            "\t \u001b[32mtrain_loss: 0.4217\u001b[0m\n"
          ]
        },
        {
          "output_type": "stream",
          "name": "stderr",
          "text": [
            "eval_pred: 100%|██████████| 3/3 [00:00<00:00, 211.11it/s]\n",
            "eval_rec: 100%|██████████| 610/610 [00:00<00:00, 2373.39it/s]\n"
          ]
        },
        {
          "output_type": "stream",
          "name": "stdout",
          "text": [
            "\t eval log_loss: 0.5397\n",
            "\t eval roc_auc: 0.8142\n",
            "\t eval precision@10: 0.0261\n",
            "\t eval recall@10: 0.0263\n",
            "\t eval map@10: 0.0677\n",
            "\t eval ndcg@10: 0.0992\n",
            "==============================\n"
          ]
        },
        {
          "output_type": "stream",
          "name": "stderr",
          "text": [
            "train: 100%|██████████| 2521/2521 [00:39<00:00, 63.72it/s]\n"
          ]
        },
        {
          "output_type": "stream",
          "name": "stdout",
          "text": [
            "Epoch 3 elapsed: 39.636s\n",
            "\t \u001b[32mtrain_loss: 0.3852\u001b[0m\n"
          ]
        },
        {
          "output_type": "stream",
          "name": "stderr",
          "text": [
            "eval_pred: 100%|██████████| 3/3 [00:00<00:00, 311.94it/s]\n",
            "eval_rec: 100%|██████████| 610/610 [00:00<00:00, 2687.30it/s]\n"
          ]
        },
        {
          "output_type": "stream",
          "name": "stdout",
          "text": [
            "\t eval log_loss: 0.5521\n",
            "\t eval roc_auc: 0.8126\n",
            "\t eval precision@10: 0.0293\n",
            "\t eval recall@10: 0.0296\n",
            "\t eval map@10: 0.0758\n",
            "\t eval ndcg@10: 0.1106\n",
            "==============================\n"
          ]
        },
        {
          "output_type": "stream",
          "name": "stderr",
          "text": [
            "train: 100%|██████████| 2521/2521 [00:38<00:00, 65.77it/s]\n"
          ]
        },
        {
          "output_type": "stream",
          "name": "stdout",
          "text": [
            "Epoch 4 elapsed: 38.384s\n",
            "\t \u001b[32mtrain_loss: 0.3523\u001b[0m\n"
          ]
        },
        {
          "output_type": "stream",
          "name": "stderr",
          "text": [
            "eval_pred: 100%|██████████| 3/3 [00:00<00:00, 342.84it/s]\n",
            "eval_rec: 100%|██████████| 610/610 [00:00<00:00, 2633.84it/s]\n"
          ]
        },
        {
          "output_type": "stream",
          "name": "stdout",
          "text": [
            "\t eval log_loss: 0.5880\n",
            "\t eval roc_auc: 0.8067\n",
            "\t eval precision@10: 0.0303\n",
            "\t eval recall@10: 0.0299\n",
            "\t eval map@10: 0.0782\n",
            "\t eval ndcg@10: 0.1110\n",
            "==============================\n"
          ]
        },
        {
          "output_type": "stream",
          "name": "stderr",
          "text": [
            "train: 100%|██████████| 2521/2521 [00:38<00:00, 65.14it/s]\n"
          ]
        },
        {
          "output_type": "stream",
          "name": "stdout",
          "text": [
            "Epoch 5 elapsed: 38.766s\n",
            "\t \u001b[32mtrain_loss: 0.3197\u001b[0m\n"
          ]
        },
        {
          "output_type": "stream",
          "name": "stderr",
          "text": [
            "eval_pred: 100%|██████████| 3/3 [00:00<00:00, 326.52it/s]\n",
            "eval_rec: 100%|██████████| 610/610 [00:00<00:00, 2539.46it/s]\n"
          ]
        },
        {
          "output_type": "stream",
          "name": "stdout",
          "text": [
            "\t eval log_loss: 0.6207\n",
            "\t eval roc_auc: 0.8013\n",
            "\t eval precision@10: 0.0295\n",
            "\t eval recall@10: 0.0323\n",
            "\t eval map@10: 0.0799\n",
            "\t eval ndcg@10: 0.1154\n",
            "==============================\n"
          ]
        },
        {
          "output_type": "stream",
          "name": "stderr",
          "text": [
            "eval_pred: 100%|██████████| 3/3 [00:00<00:00, 329.99it/s]\n",
            "eval_rec: 100%|██████████| 608/608 [00:00<00:00, 2712.53it/s]\n"
          ]
        },
        {
          "output_type": "display_data",
          "data": {
            "text/plain": [
              "<IPython.core.display.HTML object>"
            ],
            "text/html": [
              "Waiting for W&B process to finish... <strong style=\"color:green\">(success).</strong>"
            ]
          },
          "metadata": {}
        },
        {
          "output_type": "display_data",
          "data": {
            "text/plain": [
              "VBox(children=(Label(value='0.001 MB of 0.001 MB uploaded (0.000 MB deduped)\\r'), FloatProgress(value=1.0, max…"
            ],
            "application/vnd.jupyter.widget-view+json": {
              "version_major": 2,
              "version_minor": 0,
              "model_id": "50c57125cecb4223bc70c8cf8985e456"
            }
          },
          "metadata": {}
        },
        {
          "output_type": "display_data",
          "data": {
            "text/plain": [
              "<IPython.core.display.HTML object>"
            ],
            "text/html": [
              "<style>\n",
              "    table.wandb td:nth-child(1) { padding: 0 10px; text-align: left ; width: auto;} td:nth-child(2) {text-align: left ; width: 100%}\n",
              "    .wandb-row { display: flex; flex-direction: row; flex-wrap: wrap; justify-content: flex-start; width: 100% }\n",
              "    .wandb-col { display: flex; flex-direction: column; flex-basis: 100%; flex: 1; padding: 10px; }\n",
              "    </style>\n",
              "<div class=\"wandb-row\"><div class=\"wandb-col\"><h3>Run history:</h3><br/><table class=\"wandb\"><tr><td>epoch</td><td>▁▃▅▆█</td></tr><tr><td>loss</td><td>▁</td></tr><tr><td>map</td><td>▁</td></tr><tr><td>map@10</td><td>▇▁▆▇█</td></tr><tr><td>ndcg</td><td>▁</td></tr><tr><td>ndcg@10</td><td>█▁▆▆█</td></tr><tr><td>precision</td><td>▁</td></tr><tr><td>precision@10</td><td>█▁▄▅▄</td></tr><tr><td>recall</td><td>▁</td></tr><tr><td>recall@10</td><td>█▁▃▄▅</td></tr><tr><td>roc_auc</td><td>█▇▇▆▅▁</td></tr><tr><td>train_loss</td><td>█▅▃▂▁</td></tr></table><br/></div><div class=\"wandb-col\"><h3>Run summary:</h3><br/><table class=\"wandb\"><tr><td>epoch</td><td>5</td></tr><tr><td>log_loss</td><td>sklearn.metrics._cla...</td></tr><tr><td>loss</td><td>0.6924</td></tr><tr><td>map</td><td>0.06873</td></tr><tr><td>map@10</td><td>0.07991</td></tr><tr><td>ndcg</td><td>0.10214</td></tr><tr><td>ndcg@10</td><td>0.11539</td></tr><tr><td>precision</td><td>0.02648</td></tr><tr><td>precision@10</td><td>0.02951</td></tr><tr><td>recall</td><td>0.02988</td></tr><tr><td>recall@10</td><td>0.03234</td></tr><tr><td>roc_auc</td><td>0.77112</td></tr><tr><td>train_loss</td><td>0.3197</td></tr></table><br/></div></div>"
            ]
          },
          "metadata": {}
        },
        {
          "output_type": "display_data",
          "data": {
            "text/plain": [
              "<IPython.core.display.HTML object>"
            ],
            "text/html": [
              "Synced <strong style=\"color:#cdcd00\">zesty-sweep-5</strong>: <a href=\"https://wandb.ai/iloncka-ds/recsys-app/runs/ygrgnwtq\" target=\"_blank\">https://wandb.ai/iloncka-ds/recsys-app/runs/ygrgnwtq</a><br/>Synced 5 W&B file(s), 0 media file(s), 0 artifact file(s) and 0 other file(s)"
            ]
          },
          "metadata": {}
        },
        {
          "output_type": "display_data",
          "data": {
            "text/plain": [
              "<IPython.core.display.HTML object>"
            ],
            "text/html": [
              "Find logs at: <code>./wandb/run-20221105_162157-ygrgnwtq/logs</code>"
            ]
          },
          "metadata": {}
        },
        {
          "output_type": "stream",
          "name": "stderr",
          "text": [
            "\u001b[34m\u001b[1mwandb\u001b[0m: Agent Starting Run: 8g4jwpln with config:\n",
            "\u001b[34m\u001b[1mwandb\u001b[0m: \tbatch_size: 64\n",
            "\u001b[34m\u001b[1mwandb\u001b[0m: \tembed_size: 16\n",
            "\u001b[34m\u001b[1mwandb\u001b[0m: \tlr: 0.001\n",
            "\u001b[34m\u001b[1mwandb\u001b[0m: \tn_epochs: 10\n",
            "Failed to detect the name of this notebook, you can set it manually with the WANDB_NOTEBOOK_NAME environment variable to enable code saving.\n"
          ]
        },
        {
          "output_type": "display_data",
          "data": {
            "text/plain": [
              "<IPython.core.display.HTML object>"
            ],
            "text/html": [
              "Tracking run with wandb version 0.13.5"
            ]
          },
          "metadata": {}
        },
        {
          "output_type": "display_data",
          "data": {
            "text/plain": [
              "<IPython.core.display.HTML object>"
            ],
            "text/html": [
              "Run data is saved locally in <code>/content/wandb/run-20221105_162534-8g4jwpln</code>"
            ]
          },
          "metadata": {}
        },
        {
          "output_type": "display_data",
          "data": {
            "text/plain": [
              "<IPython.core.display.HTML object>"
            ],
            "text/html": [
              "Syncing run <strong><a href=\"https://wandb.ai/iloncka-ds/recsys-app/runs/8g4jwpln\" target=\"_blank\">chocolate-sweep-6</a></strong> to <a href=\"https://wandb.ai/iloncka-ds/recsys-app\" target=\"_blank\">Weights & Biases</a> (<a href=\"https://wandb.me/run\" target=\"_blank\">docs</a>)<br/>Sweep page:  <a href=\"https://wandb.ai/iloncka-ds/recsys-app/sweeps/tw52paxu\" target=\"_blank\">https://wandb.ai/iloncka-ds/recsys-app/sweeps/tw52paxu</a>"
            ]
          },
          "metadata": {}
        },
        {
          "output_type": "stream",
          "name": "stdout",
          "text": [
            "total params: \u001b[33m274,221\u001b[0m | embedding params: \u001b[33m271,917\u001b[0m | network params: \u001b[33m2,304\u001b[0m\n",
            "Training start time: \u001b[35m2022-11-05 16:25:41\u001b[0m\n"
          ]
        },
        {
          "output_type": "stream",
          "name": "stderr",
          "text": [
            "train: 100%|██████████| 2521/2521 [00:47<00:00, 53.43it/s]\n"
          ]
        },
        {
          "output_type": "stream",
          "name": "stdout",
          "text": [
            "Epoch 1 elapsed: 47.234s\n",
            "\t \u001b[32mtrain_loss: 0.5103\u001b[0m\n"
          ]
        },
        {
          "output_type": "stream",
          "name": "stderr",
          "text": [
            "eval_pred: 100%|██████████| 3/3 [00:00<00:00, 236.33it/s]\n",
            "eval_rec: 100%|██████████| 610/610 [00:00<00:00, 2379.81it/s]\n"
          ]
        },
        {
          "output_type": "stream",
          "name": "stdout",
          "text": [
            "\t eval log_loss: 0.5180\n",
            "\t eval roc_auc: 0.8263\n",
            "\t eval precision@10: 0.0334\n",
            "\t eval recall@10: 0.0359\n",
            "\t eval map@10: 0.0653\n",
            "\t eval ndcg@10: 0.1044\n",
            "==============================\n"
          ]
        },
        {
          "output_type": "stream",
          "name": "stderr",
          "text": [
            "train: 100%|██████████| 2521/2521 [00:41<00:00, 61.20it/s]\n"
          ]
        },
        {
          "output_type": "stream",
          "name": "stdout",
          "text": [
            "Epoch 2 elapsed: 41.247s\n",
            "\t \u001b[32mtrain_loss: 0.4218\u001b[0m\n"
          ]
        },
        {
          "output_type": "stream",
          "name": "stderr",
          "text": [
            "eval_pred: 100%|██████████| 3/3 [00:00<00:00, 421.57it/s]\n",
            "eval_rec: 100%|██████████| 610/610 [00:00<00:00, 2516.10it/s]\n"
          ]
        },
        {
          "output_type": "stream",
          "name": "stdout",
          "text": [
            "\t eval log_loss: 0.5516\n",
            "\t eval roc_auc: 0.8096\n",
            "\t eval precision@10: 0.0303\n",
            "\t eval recall@10: 0.0318\n",
            "\t eval map@10: 0.0724\n",
            "\t eval ndcg@10: 0.1100\n",
            "==============================\n"
          ]
        },
        {
          "output_type": "stream",
          "name": "stderr",
          "text": [
            "train: 100%|██████████| 2521/2521 [00:42<00:00, 59.88it/s]\n"
          ]
        },
        {
          "output_type": "stream",
          "name": "stdout",
          "text": [
            "Epoch 3 elapsed: 42.151s\n",
            "\t \u001b[32mtrain_loss: 0.3832\u001b[0m\n"
          ]
        },
        {
          "output_type": "stream",
          "name": "stderr",
          "text": [
            "eval_pred: 100%|██████████| 3/3 [00:00<00:00, 212.76it/s]\n",
            "eval_rec: 100%|██████████| 610/610 [00:00<00:00, 2671.63it/s]\n"
          ]
        },
        {
          "output_type": "stream",
          "name": "stdout",
          "text": [
            "\t eval log_loss: 0.5557\n",
            "\t eval roc_auc: 0.8117\n",
            "\t eval precision@10: 0.0331\n",
            "\t eval recall@10: 0.0354\n",
            "\t eval map@10: 0.0832\n",
            "\t eval ndcg@10: 0.1195\n",
            "==============================\n"
          ]
        },
        {
          "output_type": "stream",
          "name": "stderr",
          "text": [
            "train: 100%|██████████| 2521/2521 [00:41<00:00, 60.50it/s]\n"
          ]
        },
        {
          "output_type": "stream",
          "name": "stdout",
          "text": [
            "Epoch 4 elapsed: 41.722s\n",
            "\t \u001b[32mtrain_loss: 0.3454\u001b[0m\n"
          ]
        },
        {
          "output_type": "stream",
          "name": "stderr",
          "text": [
            "eval_pred: 100%|██████████| 3/3 [00:00<00:00, 215.55it/s]\n",
            "eval_rec: 100%|██████████| 610/610 [00:00<00:00, 2304.23it/s]\n"
          ]
        },
        {
          "output_type": "stream",
          "name": "stdout",
          "text": [
            "\t eval log_loss: 0.6070\n",
            "\t eval roc_auc: 0.8026\n",
            "\t eval precision@10: 0.0316\n",
            "\t eval recall@10: 0.0322\n",
            "\t eval map@10: 0.0731\n",
            "\t eval ndcg@10: 0.1086\n",
            "==============================\n"
          ]
        },
        {
          "output_type": "stream",
          "name": "stderr",
          "text": [
            "train: 100%|██████████| 2521/2521 [00:40<00:00, 62.00it/s]\n"
          ]
        },
        {
          "output_type": "stream",
          "name": "stdout",
          "text": [
            "Epoch 5 elapsed: 40.718s\n",
            "\t \u001b[32mtrain_loss: 0.3066\u001b[0m\n"
          ]
        },
        {
          "output_type": "stream",
          "name": "stderr",
          "text": [
            "eval_pred: 100%|██████████| 3/3 [00:00<00:00, 399.70it/s]\n",
            "eval_rec: 100%|██████████| 610/610 [00:00<00:00, 2606.50it/s]\n"
          ]
        },
        {
          "output_type": "stream",
          "name": "stdout",
          "text": [
            "\t eval log_loss: 0.6749\n",
            "\t eval roc_auc: 0.7836\n",
            "\t eval precision@10: 0.0302\n",
            "\t eval recall@10: 0.0351\n",
            "\t eval map@10: 0.0823\n",
            "\t eval ndcg@10: 0.1163\n",
            "==============================\n"
          ]
        },
        {
          "output_type": "stream",
          "name": "stderr",
          "text": [
            "train: 100%|██████████| 2521/2521 [00:45<00:00, 55.54it/s]\n"
          ]
        },
        {
          "output_type": "stream",
          "name": "stdout",
          "text": [
            "Epoch 6 elapsed: 45.447s\n",
            "\t \u001b[32mtrain_loss: 0.2586\u001b[0m\n"
          ]
        },
        {
          "output_type": "stream",
          "name": "stderr",
          "text": [
            "eval_pred: 100%|██████████| 3/3 [00:00<00:00, 248.29it/s]\n",
            "eval_rec: 100%|██████████| 610/610 [00:00<00:00, 2564.00it/s]\n"
          ]
        },
        {
          "output_type": "stream",
          "name": "stdout",
          "text": [
            "\t eval log_loss: 0.7598\n",
            "\t eval roc_auc: 0.7613\n",
            "\t eval precision@10: 0.0269\n",
            "\t eval recall@10: 0.0315\n",
            "\t eval map@10: 0.0804\n",
            "\t eval ndcg@10: 0.1094\n",
            "==============================\n"
          ]
        },
        {
          "output_type": "stream",
          "name": "stderr",
          "text": [
            "train: 100%|██████████| 2521/2521 [00:41<00:00, 61.41it/s]\n"
          ]
        },
        {
          "output_type": "stream",
          "name": "stdout",
          "text": [
            "Epoch 7 elapsed: 41.123s\n",
            "\t \u001b[32mtrain_loss: 0.2164\u001b[0m\n"
          ]
        },
        {
          "output_type": "stream",
          "name": "stderr",
          "text": [
            "eval_pred: 100%|██████████| 3/3 [00:00<00:00, 256.62it/s]\n",
            "eval_rec: 100%|██████████| 610/610 [00:00<00:00, 2290.88it/s]\n"
          ]
        },
        {
          "output_type": "stream",
          "name": "stdout",
          "text": [
            "\t eval log_loss: 0.8242\n",
            "\t eval roc_auc: 0.7499\n",
            "\t eval precision@10: 0.0282\n",
            "\t eval recall@10: 0.0287\n",
            "\t eval map@10: 0.0772\n",
            "\t eval ndcg@10: 0.1098\n",
            "==============================\n"
          ]
        },
        {
          "output_type": "stream",
          "name": "stderr",
          "text": [
            "train: 100%|██████████| 2521/2521 [00:41<00:00, 61.40it/s]\n"
          ]
        },
        {
          "output_type": "stream",
          "name": "stdout",
          "text": [
            "Epoch 8 elapsed: 41.112s\n",
            "\t \u001b[32mtrain_loss: 0.1853\u001b[0m\n"
          ]
        },
        {
          "output_type": "stream",
          "name": "stderr",
          "text": [
            "eval_pred: 100%|██████████| 3/3 [00:00<00:00, 342.29it/s]\n",
            "eval_rec: 100%|██████████| 610/610 [00:00<00:00, 2566.88it/s]\n"
          ]
        },
        {
          "output_type": "stream",
          "name": "stdout",
          "text": [
            "\t eval log_loss: 0.8481\n",
            "\t eval roc_auc: 0.7545\n",
            "\t eval precision@10: 0.0254\n",
            "\t eval recall@10: 0.0273\n",
            "\t eval map@10: 0.0716\n",
            "\t eval ndcg@10: 0.0988\n",
            "==============================\n"
          ]
        },
        {
          "output_type": "stream",
          "name": "stderr",
          "text": [
            "train: 100%|██████████| 2521/2521 [00:40<00:00, 61.82it/s]\n"
          ]
        },
        {
          "output_type": "stream",
          "name": "stdout",
          "text": [
            "Epoch 9 elapsed: 40.835s\n",
            "\t \u001b[32mtrain_loss: 0.1604\u001b[0m\n"
          ]
        },
        {
          "output_type": "stream",
          "name": "stderr",
          "text": [
            "eval_pred: 100%|██████████| 3/3 [00:00<00:00, 130.25it/s]\n",
            "eval_rec: 100%|██████████| 610/610 [00:00<00:00, 2439.91it/s]\n"
          ]
        },
        {
          "output_type": "stream",
          "name": "stdout",
          "text": [
            "\t eval log_loss: 0.8519\n",
            "\t eval roc_auc: 0.7519\n",
            "\t eval precision@10: 0.0275\n",
            "\t eval recall@10: 0.0308\n",
            "\t eval map@10: 0.0687\n",
            "\t eval ndcg@10: 0.0993\n",
            "==============================\n"
          ]
        },
        {
          "output_type": "stream",
          "name": "stderr",
          "text": [
            "train: 100%|██████████| 2521/2521 [00:43<00:00, 57.54it/s]\n"
          ]
        },
        {
          "output_type": "stream",
          "name": "stdout",
          "text": [
            "Epoch 10 elapsed: 43.857s\n",
            "\t \u001b[32mtrain_loss: 0.1414\u001b[0m\n"
          ]
        },
        {
          "output_type": "stream",
          "name": "stderr",
          "text": [
            "eval_pred: 100%|██████████| 3/3 [00:00<00:00, 300.54it/s]\n",
            "eval_rec: 100%|██████████| 610/610 [00:00<00:00, 2451.36it/s]\n"
          ]
        },
        {
          "output_type": "stream",
          "name": "stdout",
          "text": [
            "\t eval log_loss: 0.8814\n",
            "\t eval roc_auc: 0.7488\n",
            "\t eval precision@10: 0.0248\n",
            "\t eval recall@10: 0.0299\n",
            "\t eval map@10: 0.0668\n",
            "\t eval ndcg@10: 0.0962\n",
            "==============================\n"
          ]
        },
        {
          "output_type": "stream",
          "name": "stderr",
          "text": [
            "eval_pred: 100%|██████████| 3/3 [00:00<00:00, 229.42it/s]\n",
            "eval_rec: 100%|██████████| 608/608 [00:00<00:00, 2169.62it/s]\n"
          ]
        },
        {
          "output_type": "display_data",
          "data": {
            "text/plain": [
              "<IPython.core.display.HTML object>"
            ],
            "text/html": [
              "Waiting for W&B process to finish... <strong style=\"color:green\">(success).</strong>"
            ]
          },
          "metadata": {}
        },
        {
          "output_type": "display_data",
          "data": {
            "text/plain": [
              "<IPython.core.display.HTML object>"
            ],
            "text/html": [
              "<style>\n",
              "    table.wandb td:nth-child(1) { padding: 0 10px; text-align: left ; width: auto;} td:nth-child(2) {text-align: left ; width: 100%}\n",
              "    .wandb-row { display: flex; flex-direction: row; flex-wrap: wrap; justify-content: flex-start; width: 100% }\n",
              "    .wandb-col { display: flex; flex-direction: column; flex-basis: 100%; flex: 1; padding: 10px; }\n",
              "    </style>\n",
              "<div class=\"wandb-row\"><div class=\"wandb-col\"><h3>Run history:</h3><br/><table class=\"wandb\"><tr><td>epoch</td><td>▁▂▃▃▄▅▆▆▇█</td></tr><tr><td>loss</td><td>▁</td></tr><tr><td>map</td><td>▁</td></tr><tr><td>map@10</td><td>▁▄█▄█▇▆▃▂▂</td></tr><tr><td>ndcg</td><td>▁</td></tr><tr><td>ndcg@10</td><td>▃▅█▅▇▅▅▂▂▁</td></tr><tr><td>precision</td><td>▁</td></tr><tr><td>precision@10</td><td>█▅█▇▅▃▄▂▃▁</td></tr><tr><td>recall</td><td>▁</td></tr><tr><td>recall@10</td><td>█▅█▅▇▄▂▁▄▃</td></tr><tr><td>roc_auc</td><td>█▇▇▆▅▄▃▃▃▃▁</td></tr><tr><td>train_loss</td><td>█▆▆▅▄▃▂▂▁▁</td></tr></table><br/></div><div class=\"wandb-col\"><h3>Run summary:</h3><br/><table class=\"wandb\"><tr><td>epoch</td><td>10</td></tr><tr><td>log_loss</td><td>sklearn.metrics._cla...</td></tr><tr><td>loss</td><td>0.94717</td></tr><tr><td>map</td><td>0.0489</td></tr><tr><td>map@10</td><td>0.06682</td></tr><tr><td>ndcg</td><td>0.07125</td></tr><tr><td>ndcg@10</td><td>0.09618</td></tr><tr><td>precision</td><td>0.0176</td></tr><tr><td>precision@10</td><td>0.02475</td></tr><tr><td>recall</td><td>0.01905</td></tr><tr><td>recall@10</td><td>0.02988</td></tr><tr><td>roc_auc</td><td>0.7236</td></tr><tr><td>train_loss</td><td>0.1414</td></tr></table><br/></div></div>"
            ]
          },
          "metadata": {}
        },
        {
          "output_type": "display_data",
          "data": {
            "text/plain": [
              "<IPython.core.display.HTML object>"
            ],
            "text/html": [
              "Synced <strong style=\"color:#cdcd00\">chocolate-sweep-6</strong>: <a href=\"https://wandb.ai/iloncka-ds/recsys-app/runs/8g4jwpln\" target=\"_blank\">https://wandb.ai/iloncka-ds/recsys-app/runs/8g4jwpln</a><br/>Synced 5 W&B file(s), 0 media file(s), 0 artifact file(s) and 0 other file(s)"
            ]
          },
          "metadata": {}
        },
        {
          "output_type": "display_data",
          "data": {
            "text/plain": [
              "<IPython.core.display.HTML object>"
            ],
            "text/html": [
              "Find logs at: <code>./wandb/run-20221105_162534-8g4jwpln/logs</code>"
            ]
          },
          "metadata": {}
        },
        {
          "output_type": "stream",
          "name": "stderr",
          "text": [
            "\u001b[34m\u001b[1mwandb\u001b[0m: Agent Starting Run: n4qx20mi with config:\n",
            "\u001b[34m\u001b[1mwandb\u001b[0m: \tbatch_size: 64\n",
            "\u001b[34m\u001b[1mwandb\u001b[0m: \tembed_size: 16\n",
            "\u001b[34m\u001b[1mwandb\u001b[0m: \tlr: 0.0001\n",
            "\u001b[34m\u001b[1mwandb\u001b[0m: \tn_epochs: 5\n"
          ]
        },
        {
          "output_type": "display_data",
          "data": {
            "text/plain": [
              "<IPython.core.display.HTML object>"
            ],
            "text/html": [
              "Tracking run with wandb version 0.13.5"
            ]
          },
          "metadata": {}
        },
        {
          "output_type": "display_data",
          "data": {
            "text/plain": [
              "<IPython.core.display.HTML object>"
            ],
            "text/html": [
              "Run data is saved locally in <code>/content/wandb/run-20221105_163306-n4qx20mi</code>"
            ]
          },
          "metadata": {}
        },
        {
          "output_type": "display_data",
          "data": {
            "text/plain": [
              "<IPython.core.display.HTML object>"
            ],
            "text/html": [
              "Syncing run <strong><a href=\"https://wandb.ai/iloncka-ds/recsys-app/runs/n4qx20mi\" target=\"_blank\">solar-sweep-7</a></strong> to <a href=\"https://wandb.ai/iloncka-ds/recsys-app\" target=\"_blank\">Weights & Biases</a> (<a href=\"https://wandb.me/run\" target=\"_blank\">docs</a>)<br/>Sweep page:  <a href=\"https://wandb.ai/iloncka-ds/recsys-app/sweeps/tw52paxu\" target=\"_blank\">https://wandb.ai/iloncka-ds/recsys-app/sweeps/tw52paxu</a>"
            ]
          },
          "metadata": {}
        },
        {
          "output_type": "stream",
          "name": "stdout",
          "text": [
            "total params: \u001b[33m274,221\u001b[0m | embedding params: \u001b[33m271,917\u001b[0m | network params: \u001b[33m2,304\u001b[0m\n",
            "Training start time: \u001b[35m2022-11-05 16:33:13\u001b[0m\n"
          ]
        },
        {
          "output_type": "stream",
          "name": "stderr",
          "text": [
            "train: 100%|██████████| 2521/2521 [00:42<00:00, 59.71it/s]\n"
          ]
        },
        {
          "output_type": "stream",
          "name": "stdout",
          "text": [
            "Epoch 1 elapsed: 42.279s\n",
            "\t \u001b[32mtrain_loss: 0.5889\u001b[0m\n"
          ]
        },
        {
          "output_type": "stream",
          "name": "stderr",
          "text": [
            "eval_pred: 100%|██████████| 3/3 [00:00<00:00, 198.12it/s]\n",
            "eval_rec: 100%|██████████| 610/610 [00:00<00:00, 2373.45it/s]\n"
          ]
        },
        {
          "output_type": "stream",
          "name": "stdout",
          "text": [
            "\t eval log_loss: 0.5217\n",
            "\t eval roc_auc: 0.8242\n",
            "\t eval precision@10: 0.0392\n",
            "\t eval recall@10: 0.0426\n",
            "\t eval map@10: 0.0876\n",
            "\t eval ndcg@10: 0.1285\n",
            "==============================\n"
          ]
        },
        {
          "output_type": "stream",
          "name": "stderr",
          "text": [
            "train: 100%|██████████| 2521/2521 [00:42<00:00, 59.80it/s]\n"
          ]
        },
        {
          "output_type": "stream",
          "name": "stdout",
          "text": [
            "Epoch 2 elapsed: 42.212s\n",
            "\t \u001b[32mtrain_loss: 0.4754\u001b[0m\n"
          ]
        },
        {
          "output_type": "stream",
          "name": "stderr",
          "text": [
            "eval_pred: 100%|██████████| 3/3 [00:00<00:00, 222.43it/s]\n",
            "eval_rec: 100%|██████████| 610/610 [00:00<00:00, 2731.95it/s]\n"
          ]
        },
        {
          "output_type": "stream",
          "name": "stdout",
          "text": [
            "\t eval log_loss: 0.5050\n",
            "\t eval roc_auc: 0.8350\n",
            "\t eval precision@10: 0.0402\n",
            "\t eval recall@10: 0.0409\n",
            "\t eval map@10: 0.0823\n",
            "\t eval ndcg@10: 0.1239\n",
            "==============================\n"
          ]
        },
        {
          "output_type": "stream",
          "name": "stderr",
          "text": [
            "train: 100%|██████████| 2521/2521 [00:42<00:00, 59.50it/s]\n"
          ]
        },
        {
          "output_type": "stream",
          "name": "stdout",
          "text": [
            "Epoch 3 elapsed: 42.429s\n",
            "\t \u001b[32mtrain_loss: 0.4602\u001b[0m\n"
          ]
        },
        {
          "output_type": "stream",
          "name": "stderr",
          "text": [
            "eval_pred: 100%|██████████| 3/3 [00:00<00:00, 278.98it/s]\n",
            "eval_rec: 100%|██████████| 610/610 [00:00<00:00, 2330.82it/s]\n"
          ]
        },
        {
          "output_type": "stream",
          "name": "stdout",
          "text": [
            "\t eval log_loss: 0.5029\n",
            "\t eval roc_auc: 0.8374\n",
            "\t eval precision@10: 0.0384\n",
            "\t eval recall@10: 0.0384\n",
            "\t eval map@10: 0.0792\n",
            "\t eval ndcg@10: 0.1202\n",
            "==============================\n"
          ]
        },
        {
          "output_type": "stream",
          "name": "stderr",
          "text": [
            "train: 100%|██████████| 2521/2521 [00:40<00:00, 61.77it/s]\n"
          ]
        },
        {
          "output_type": "stream",
          "name": "stdout",
          "text": [
            "Epoch 4 elapsed: 40.875s\n",
            "\t \u001b[32mtrain_loss: 0.4558\u001b[0m\n"
          ]
        },
        {
          "output_type": "stream",
          "name": "stderr",
          "text": [
            "eval_pred: 100%|██████████| 3/3 [00:00<00:00, 215.63it/s]\n",
            "eval_rec: 100%|██████████| 610/610 [00:00<00:00, 2764.45it/s]\n"
          ]
        },
        {
          "output_type": "stream",
          "name": "stdout",
          "text": [
            "\t eval log_loss: 0.5032\n",
            "\t eval roc_auc: 0.8379\n",
            "\t eval precision@10: 0.0364\n",
            "\t eval recall@10: 0.0372\n",
            "\t eval map@10: 0.0786\n",
            "\t eval ndcg@10: 0.1185\n",
            "==============================\n"
          ]
        },
        {
          "output_type": "stream",
          "name": "stderr",
          "text": [
            "train: 100%|██████████| 2521/2521 [00:45<00:00, 55.70it/s]\n"
          ]
        },
        {
          "output_type": "stream",
          "name": "stdout",
          "text": [
            "Epoch 5 elapsed: 45.314s\n",
            "\t \u001b[32mtrain_loss: 0.4534\u001b[0m\n"
          ]
        },
        {
          "output_type": "stream",
          "name": "stderr",
          "text": [
            "eval_pred: 100%|██████████| 3/3 [00:00<00:00, 231.60it/s]\n",
            "eval_rec: 100%|██████████| 610/610 [00:00<00:00, 2371.60it/s]\n"
          ]
        },
        {
          "output_type": "stream",
          "name": "stdout",
          "text": [
            "\t eval log_loss: 0.5031\n",
            "\t eval roc_auc: 0.8384\n",
            "\t eval precision@10: 0.0357\n",
            "\t eval recall@10: 0.0368\n",
            "\t eval map@10: 0.0809\n",
            "\t eval ndcg@10: 0.1201\n",
            "==============================\n"
          ]
        },
        {
          "output_type": "stream",
          "name": "stderr",
          "text": [
            "eval_pred: 100%|██████████| 3/3 [00:00<00:00, 276.99it/s]\n",
            "eval_rec: 100%|██████████| 608/608 [00:00<00:00, 2528.00it/s]\n"
          ]
        },
        {
          "output_type": "display_data",
          "data": {
            "text/plain": [
              "<IPython.core.display.HTML object>"
            ],
            "text/html": [
              "Waiting for W&B process to finish... <strong style=\"color:green\">(success).</strong>"
            ]
          },
          "metadata": {}
        },
        {
          "output_type": "display_data",
          "data": {
            "text/plain": [
              "<IPython.core.display.HTML object>"
            ],
            "text/html": [
              "<style>\n",
              "    table.wandb td:nth-child(1) { padding: 0 10px; text-align: left ; width: auto;} td:nth-child(2) {text-align: left ; width: 100%}\n",
              "    .wandb-row { display: flex; flex-direction: row; flex-wrap: wrap; justify-content: flex-start; width: 100% }\n",
              "    .wandb-col { display: flex; flex-direction: column; flex-basis: 100%; flex: 1; padding: 10px; }\n",
              "    </style>\n",
              "<div class=\"wandb-row\"><div class=\"wandb-col\"><h3>Run history:</h3><br/><table class=\"wandb\"><tr><td>epoch</td><td>▁▃▅▆█</td></tr><tr><td>loss</td><td>▁</td></tr><tr><td>map</td><td>▁</td></tr><tr><td>map@10</td><td>█▄▂▁▃</td></tr><tr><td>ndcg</td><td>▁</td></tr><tr><td>ndcg@10</td><td>█▅▂▁▂</td></tr><tr><td>precision</td><td>▁</td></tr><tr><td>precision@10</td><td>▆█▅▂▁</td></tr><tr><td>recall</td><td>▁</td></tr><tr><td>recall@10</td><td>█▆▃▁▁</td></tr><tr><td>roc_auc</td><td>▂▇███▁</td></tr><tr><td>train_loss</td><td>█▂▁▁▁</td></tr></table><br/></div><div class=\"wandb-col\"><h3>Run summary:</h3><br/><table class=\"wandb\"><tr><td>epoch</td><td>5</td></tr><tr><td>log_loss</td><td>sklearn.metrics._cla...</td></tr><tr><td>loss</td><td>0.52762</td></tr><tr><td>map</td><td>0.07284</td></tr><tr><td>map@10</td><td>0.0809</td></tr><tr><td>ndcg</td><td>0.10258</td></tr><tr><td>ndcg@10</td><td>0.12014</td></tr><tr><td>precision</td><td>0.02697</td></tr><tr><td>precision@10</td><td>0.03574</td></tr><tr><td>recall</td><td>0.02605</td></tr><tr><td>recall@10</td><td>0.0368</td></tr><tr><td>roc_auc</td><td>0.82253</td></tr><tr><td>train_loss</td><td>0.4534</td></tr></table><br/></div></div>"
            ]
          },
          "metadata": {}
        },
        {
          "output_type": "display_data",
          "data": {
            "text/plain": [
              "<IPython.core.display.HTML object>"
            ],
            "text/html": [
              "Synced <strong style=\"color:#cdcd00\">solar-sweep-7</strong>: <a href=\"https://wandb.ai/iloncka-ds/recsys-app/runs/n4qx20mi\" target=\"_blank\">https://wandb.ai/iloncka-ds/recsys-app/runs/n4qx20mi</a><br/>Synced 5 W&B file(s), 0 media file(s), 0 artifact file(s) and 0 other file(s)"
            ]
          },
          "metadata": {}
        },
        {
          "output_type": "display_data",
          "data": {
            "text/plain": [
              "<IPython.core.display.HTML object>"
            ],
            "text/html": [
              "Find logs at: <code>./wandb/run-20221105_163306-n4qx20mi/logs</code>"
            ]
          },
          "metadata": {}
        },
        {
          "output_type": "stream",
          "name": "stderr",
          "text": [
            "\u001b[34m\u001b[1mwandb\u001b[0m: Agent Starting Run: mm1vzdu7 with config:\n",
            "\u001b[34m\u001b[1mwandb\u001b[0m: \tbatch_size: 64\n",
            "\u001b[34m\u001b[1mwandb\u001b[0m: \tembed_size: 16\n",
            "\u001b[34m\u001b[1mwandb\u001b[0m: \tlr: 0.0001\n",
            "\u001b[34m\u001b[1mwandb\u001b[0m: \tn_epochs: 10\n",
            "Failed to detect the name of this notebook, you can set it manually with the WANDB_NOTEBOOK_NAME environment variable to enable code saving.\n"
          ]
        },
        {
          "output_type": "display_data",
          "data": {
            "text/plain": [
              "<IPython.core.display.HTML object>"
            ],
            "text/html": [
              "Tracking run with wandb version 0.13.5"
            ]
          },
          "metadata": {}
        },
        {
          "output_type": "display_data",
          "data": {
            "text/plain": [
              "<IPython.core.display.HTML object>"
            ],
            "text/html": [
              "Run data is saved locally in <code>/content/wandb/run-20221105_163703-mm1vzdu7</code>"
            ]
          },
          "metadata": {}
        },
        {
          "output_type": "display_data",
          "data": {
            "text/plain": [
              "<IPython.core.display.HTML object>"
            ],
            "text/html": [
              "Syncing run <strong><a href=\"https://wandb.ai/iloncka-ds/recsys-app/runs/mm1vzdu7\" target=\"_blank\">desert-sweep-8</a></strong> to <a href=\"https://wandb.ai/iloncka-ds/recsys-app\" target=\"_blank\">Weights & Biases</a> (<a href=\"https://wandb.me/run\" target=\"_blank\">docs</a>)<br/>Sweep page:  <a href=\"https://wandb.ai/iloncka-ds/recsys-app/sweeps/tw52paxu\" target=\"_blank\">https://wandb.ai/iloncka-ds/recsys-app/sweeps/tw52paxu</a>"
            ]
          },
          "metadata": {}
        },
        {
          "output_type": "stream",
          "name": "stdout",
          "text": [
            "total params: \u001b[33m274,221\u001b[0m | embedding params: \u001b[33m271,917\u001b[0m | network params: \u001b[33m2,304\u001b[0m\n",
            "Training start time: \u001b[35m2022-11-05 16:37:08\u001b[0m\n"
          ]
        },
        {
          "output_type": "stream",
          "name": "stderr",
          "text": [
            "train: 100%|██████████| 2521/2521 [00:41<00:00, 60.30it/s]\n"
          ]
        },
        {
          "output_type": "stream",
          "name": "stdout",
          "text": [
            "Epoch 1 elapsed: 41.859s\n",
            "\t \u001b[32mtrain_loss: 0.5881\u001b[0m\n"
          ]
        },
        {
          "output_type": "stream",
          "name": "stderr",
          "text": [
            "eval_pred: 100%|██████████| 3/3 [00:00<00:00, 264.99it/s]\n",
            "eval_rec: 100%|██████████| 610/610 [00:00<00:00, 2560.17it/s]\n"
          ]
        },
        {
          "output_type": "stream",
          "name": "stdout",
          "text": [
            "\t eval log_loss: 0.5214\n",
            "\t eval roc_auc: 0.8243\n",
            "\t eval precision@10: 0.0400\n",
            "\t eval recall@10: 0.0434\n",
            "\t eval map@10: 0.0891\n",
            "\t eval ndcg@10: 0.1301\n",
            "==============================\n"
          ]
        },
        {
          "output_type": "stream",
          "name": "stderr",
          "text": [
            "train: 100%|██████████| 2521/2521 [00:42<00:00, 59.85it/s]\n"
          ]
        },
        {
          "output_type": "stream",
          "name": "stdout",
          "text": [
            "Epoch 2 elapsed: 42.171s\n",
            "\t \u001b[32mtrain_loss: 0.4752\u001b[0m\n"
          ]
        },
        {
          "output_type": "stream",
          "name": "stderr",
          "text": [
            "eval_pred: 100%|██████████| 3/3 [00:00<00:00, 358.99it/s]\n",
            "eval_rec: 100%|██████████| 610/610 [00:00<00:00, 2652.28it/s]\n"
          ]
        },
        {
          "output_type": "stream",
          "name": "stdout",
          "text": [
            "\t eval log_loss: 0.5047\n",
            "\t eval roc_auc: 0.8352\n",
            "\t eval precision@10: 0.0402\n",
            "\t eval recall@10: 0.0405\n",
            "\t eval map@10: 0.0822\n",
            "\t eval ndcg@10: 0.1238\n",
            "==============================\n"
          ]
        },
        {
          "output_type": "stream",
          "name": "stderr",
          "text": [
            "train: 100%|██████████| 2521/2521 [00:40<00:00, 62.53it/s]\n"
          ]
        },
        {
          "output_type": "stream",
          "name": "stdout",
          "text": [
            "Epoch 3 elapsed: 40.374s\n",
            "\t \u001b[32mtrain_loss: 0.4598\u001b[0m\n"
          ]
        },
        {
          "output_type": "stream",
          "name": "stderr",
          "text": [
            "eval_pred: 100%|██████████| 3/3 [00:00<00:00, 185.88it/s]\n",
            "eval_rec: 100%|██████████| 610/610 [00:00<00:00, 2467.05it/s]\n"
          ]
        },
        {
          "output_type": "stream",
          "name": "stdout",
          "text": [
            "\t eval log_loss: 0.5024\n",
            "\t eval roc_auc: 0.8377\n",
            "\t eval precision@10: 0.0379\n",
            "\t eval recall@10: 0.0378\n",
            "\t eval map@10: 0.0781\n",
            "\t eval ndcg@10: 0.1185\n",
            "==============================\n"
          ]
        },
        {
          "output_type": "stream",
          "name": "stderr",
          "text": [
            "train: 100%|██████████| 2521/2521 [00:46<00:00, 54.72it/s]\n"
          ]
        },
        {
          "output_type": "stream",
          "name": "stdout",
          "text": [
            "Epoch 4 elapsed: 46.120s\n",
            "\t \u001b[32mtrain_loss: 0.4546\u001b[0m\n"
          ]
        },
        {
          "output_type": "stream",
          "name": "stderr",
          "text": [
            "eval_pred: 100%|██████████| 3/3 [00:00<00:00, 283.94it/s]\n",
            "eval_rec: 100%|██████████| 610/610 [00:00<00:00, 2561.98it/s]\n"
          ]
        },
        {
          "output_type": "stream",
          "name": "stdout",
          "text": [
            "\t eval log_loss: 0.5026\n",
            "\t eval roc_auc: 0.8384\n",
            "\t eval precision@10: 0.0361\n",
            "\t eval recall@10: 0.0370\n",
            "\t eval map@10: 0.0789\n",
            "\t eval ndcg@10: 0.1184\n",
            "==============================\n"
          ]
        },
        {
          "output_type": "stream",
          "name": "stderr",
          "text": [
            "train: 100%|██████████| 2521/2521 [00:41<00:00, 61.08it/s]\n"
          ]
        },
        {
          "output_type": "stream",
          "name": "stdout",
          "text": [
            "Epoch 5 elapsed: 41.327s\n",
            "\t \u001b[32mtrain_loss: 0.4448\u001b[0m\n"
          ]
        },
        {
          "output_type": "stream",
          "name": "stderr",
          "text": [
            "eval_pred: 100%|██████████| 3/3 [00:00<00:00, 195.67it/s]\n",
            "eval_rec: 100%|██████████| 610/610 [00:00<00:00, 2518.67it/s]\n"
          ]
        },
        {
          "output_type": "stream",
          "name": "stdout",
          "text": [
            "\t eval log_loss: 0.4995\n",
            "\t eval roc_auc: 0.8405\n",
            "\t eval precision@10: 0.0341\n",
            "\t eval recall@10: 0.0353\n",
            "\t eval map@10: 0.0793\n",
            "\t eval ndcg@10: 0.1170\n",
            "==============================\n"
          ]
        },
        {
          "output_type": "stream",
          "name": "stderr",
          "text": [
            "train: 100%|██████████| 2521/2521 [00:40<00:00, 62.56it/s]\n"
          ]
        },
        {
          "output_type": "stream",
          "name": "stdout",
          "text": [
            "Epoch 6 elapsed: 40.362s\n",
            "\t \u001b[32mtrain_loss: 0.4249\u001b[0m\n"
          ]
        },
        {
          "output_type": "stream",
          "name": "stderr",
          "text": [
            "eval_pred: 100%|██████████| 3/3 [00:00<00:00, 314.75it/s]\n",
            "eval_rec: 100%|██████████| 610/610 [00:00<00:00, 2376.91it/s]\n"
          ]
        },
        {
          "output_type": "stream",
          "name": "stdout",
          "text": [
            "\t eval log_loss: 0.4977\n",
            "\t eval roc_auc: 0.8407\n",
            "\t eval precision@10: 0.0338\n",
            "\t eval recall@10: 0.0332\n",
            "\t eval map@10: 0.0763\n",
            "\t eval ndcg@10: 0.1147\n",
            "==============================\n"
          ]
        },
        {
          "output_type": "stream",
          "name": "stderr",
          "text": [
            "train: 100%|██████████| 2521/2521 [00:40<00:00, 62.85it/s]\n"
          ]
        },
        {
          "output_type": "stream",
          "name": "stdout",
          "text": [
            "Epoch 7 elapsed: 40.167s\n",
            "\t \u001b[32mtrain_loss: 0.4098\u001b[0m\n"
          ]
        },
        {
          "output_type": "stream",
          "name": "stderr",
          "text": [
            "eval_pred: 100%|██████████| 3/3 [00:00<00:00, 248.20it/s]\n",
            "eval_rec: 100%|██████████| 610/610 [00:00<00:00, 2472.76it/s]\n"
          ]
        },
        {
          "output_type": "stream",
          "name": "stdout",
          "text": [
            "\t eval log_loss: 0.5099\n",
            "\t eval roc_auc: 0.8329\n",
            "\t eval precision@10: 0.0308\n",
            "\t eval recall@10: 0.0289\n",
            "\t eval map@10: 0.0719\n",
            "\t eval ndcg@10: 0.1069\n",
            "==============================\n"
          ]
        },
        {
          "output_type": "stream",
          "name": "stderr",
          "text": [
            "train: 100%|██████████| 2521/2521 [00:42<00:00, 59.52it/s]\n"
          ]
        },
        {
          "output_type": "stream",
          "name": "stdout",
          "text": [
            "Epoch 8 elapsed: 42.411s\n",
            "\t \u001b[32mtrain_loss: 0.4007\u001b[0m\n"
          ]
        },
        {
          "output_type": "stream",
          "name": "stderr",
          "text": [
            "eval_pred: 100%|██████████| 3/3 [00:00<00:00, 274.98it/s]\n",
            "eval_rec: 100%|██████████| 610/610 [00:00<00:00, 1085.37it/s]\n"
          ]
        },
        {
          "output_type": "stream",
          "name": "stdout",
          "text": [
            "\t eval log_loss: 0.5239\n",
            "\t eval roc_auc: 0.8255\n",
            "\t eval precision@10: 0.0280\n",
            "\t eval recall@10: 0.0250\n",
            "\t eval map@10: 0.0685\n",
            "\t eval ndcg@10: 0.1000\n",
            "==============================\n"
          ]
        },
        {
          "output_type": "stream",
          "name": "stderr",
          "text": [
            "train: 100%|██████████| 2521/2521 [00:41<00:00, 60.17it/s]\n"
          ]
        },
        {
          "output_type": "stream",
          "name": "stdout",
          "text": [
            "Epoch 9 elapsed: 41.985s\n",
            "\t \u001b[32mtrain_loss: 0.3946\u001b[0m\n"
          ]
        },
        {
          "output_type": "stream",
          "name": "stderr",
          "text": [
            "eval_pred: 100%|██████████| 3/3 [00:00<00:00, 309.34it/s]\n",
            "eval_rec: 100%|██████████| 610/610 [00:00<00:00, 2602.56it/s]\n"
          ]
        },
        {
          "output_type": "stream",
          "name": "stdout",
          "text": [
            "\t eval log_loss: 0.5352\n",
            "\t eval roc_auc: 0.8195\n",
            "\t eval precision@10: 0.0267\n",
            "\t eval recall@10: 0.0239\n",
            "\t eval map@10: 0.0691\n",
            "\t eval ndcg@10: 0.0990\n",
            "==============================\n"
          ]
        },
        {
          "output_type": "stream",
          "name": "stderr",
          "text": [
            "train: 100%|██████████| 2521/2521 [00:39<00:00, 63.54it/s]\n"
          ]
        },
        {
          "output_type": "stream",
          "name": "stdout",
          "text": [
            "Epoch 10 elapsed: 39.738s\n",
            "\t \u001b[32mtrain_loss: 0.3897\u001b[0m\n"
          ]
        },
        {
          "output_type": "stream",
          "name": "stderr",
          "text": [
            "eval_pred: 100%|██████████| 3/3 [00:00<00:00, 253.93it/s]\n",
            "eval_rec: 100%|██████████| 610/610 [00:00<00:00, 2211.18it/s]\n"
          ]
        },
        {
          "output_type": "stream",
          "name": "stdout",
          "text": [
            "\t eval log_loss: 0.5489\n",
            "\t eval roc_auc: 0.8146\n",
            "\t eval precision@10: 0.0264\n",
            "\t eval recall@10: 0.0240\n",
            "\t eval map@10: 0.0683\n",
            "\t eval ndcg@10: 0.0986\n",
            "==============================\n"
          ]
        },
        {
          "output_type": "stream",
          "name": "stderr",
          "text": [
            "eval_pred: 100%|██████████| 3/3 [00:00<00:00, 234.00it/s]\n",
            "eval_rec: 100%|██████████| 608/608 [00:00<00:00, 2502.82it/s]\n"
          ]
        },
        {
          "output_type": "display_data",
          "data": {
            "text/plain": [
              "<IPython.core.display.HTML object>"
            ],
            "text/html": [
              "Waiting for W&B process to finish... <strong style=\"color:green\">(success).</strong>"
            ]
          },
          "metadata": {}
        },
        {
          "output_type": "display_data",
          "data": {
            "text/plain": [
              "<IPython.core.display.HTML object>"
            ],
            "text/html": [
              "<style>\n",
              "    table.wandb td:nth-child(1) { padding: 0 10px; text-align: left ; width: auto;} td:nth-child(2) {text-align: left ; width: 100%}\n",
              "    .wandb-row { display: flex; flex-direction: row; flex-wrap: wrap; justify-content: flex-start; width: 100% }\n",
              "    .wandb-col { display: flex; flex-direction: column; flex-basis: 100%; flex: 1; padding: 10px; }\n",
              "    </style>\n",
              "<div class=\"wandb-row\"><div class=\"wandb-col\"><h3>Run history:</h3><br/><table class=\"wandb\"><tr><td>epoch</td><td>▁▂▃▃▄▅▆▆▇█</td></tr><tr><td>loss</td><td>▁</td></tr><tr><td>map</td><td>▁</td></tr><tr><td>map@10</td><td>█▆▄▅▅▄▂▁▁▁</td></tr><tr><td>ndcg</td><td>▁</td></tr><tr><td>ndcg@10</td><td>█▇▅▅▅▅▃▁▁▁</td></tr><tr><td>precision</td><td>▁</td></tr><tr><td>precision@10</td><td>██▇▆▅▅▃▂▁▁</td></tr><tr><td>recall</td><td>▁</td></tr><tr><td>recall@10</td><td>█▇▆▆▅▄▃▁▁▁</td></tr><tr><td>roc_auc</td><td>▆▇████▇▆▅▄▁</td></tr><tr><td>train_loss</td><td>█▄▃▃▃▂▂▁▁▁</td></tr></table><br/></div><div class=\"wandb-col\"><h3>Run summary:</h3><br/><table class=\"wandb\"><tr><td>epoch</td><td>10</td></tr><tr><td>log_loss</td><td>sklearn.metrics._cla...</td></tr><tr><td>loss</td><td>0.59408</td></tr><tr><td>map</td><td>0.05782</td></tr><tr><td>map@10</td><td>0.06833</td></tr><tr><td>ndcg</td><td>0.08557</td></tr><tr><td>ndcg@10</td><td>0.09861</td></tr><tr><td>precision</td><td>0.02237</td></tr><tr><td>precision@10</td><td>0.02639</td></tr><tr><td>recall</td><td>0.01873</td></tr><tr><td>recall@10</td><td>0.02404</td></tr><tr><td>roc_auc</td><td>0.79218</td></tr><tr><td>train_loss</td><td>0.3897</td></tr></table><br/></div></div>"
            ]
          },
          "metadata": {}
        },
        {
          "output_type": "display_data",
          "data": {
            "text/plain": [
              "<IPython.core.display.HTML object>"
            ],
            "text/html": [
              "Synced <strong style=\"color:#cdcd00\">desert-sweep-8</strong>: <a href=\"https://wandb.ai/iloncka-ds/recsys-app/runs/mm1vzdu7\" target=\"_blank\">https://wandb.ai/iloncka-ds/recsys-app/runs/mm1vzdu7</a><br/>Synced 5 W&B file(s), 0 media file(s), 0 artifact file(s) and 0 other file(s)"
            ]
          },
          "metadata": {}
        },
        {
          "output_type": "display_data",
          "data": {
            "text/plain": [
              "<IPython.core.display.HTML object>"
            ],
            "text/html": [
              "Find logs at: <code>./wandb/run-20221105_163703-mm1vzdu7/logs</code>"
            ]
          },
          "metadata": {}
        },
        {
          "output_type": "stream",
          "name": "stderr",
          "text": [
            "\u001b[34m\u001b[1mwandb\u001b[0m: Agent Starting Run: 5igj68g7 with config:\n",
            "\u001b[34m\u001b[1mwandb\u001b[0m: \tbatch_size: 64\n",
            "\u001b[34m\u001b[1mwandb\u001b[0m: \tembed_size: 32\n",
            "\u001b[34m\u001b[1mwandb\u001b[0m: \tlr: 0.1\n",
            "\u001b[34m\u001b[1mwandb\u001b[0m: \tn_epochs: 5\n"
          ]
        },
        {
          "output_type": "display_data",
          "data": {
            "text/plain": [
              "<IPython.core.display.HTML object>"
            ],
            "text/html": [
              "Tracking run with wandb version 0.13.5"
            ]
          },
          "metadata": {}
        },
        {
          "output_type": "display_data",
          "data": {
            "text/plain": [
              "<IPython.core.display.HTML object>"
            ],
            "text/html": [
              "Run data is saved locally in <code>/content/wandb/run-20221105_164425-5igj68g7</code>"
            ]
          },
          "metadata": {}
        },
        {
          "output_type": "display_data",
          "data": {
            "text/plain": [
              "<IPython.core.display.HTML object>"
            ],
            "text/html": [
              "Syncing run <strong><a href=\"https://wandb.ai/iloncka-ds/recsys-app/runs/5igj68g7\" target=\"_blank\">sage-sweep-9</a></strong> to <a href=\"https://wandb.ai/iloncka-ds/recsys-app\" target=\"_blank\">Weights & Biases</a> (<a href=\"https://wandb.me/run\" target=\"_blank\">docs</a>)<br/>Sweep page:  <a href=\"https://wandb.ai/iloncka-ds/recsys-app/sweeps/tw52paxu\" target=\"_blank\">https://wandb.ai/iloncka-ds/recsys-app/sweeps/tw52paxu</a>"
            ]
          },
          "metadata": {}
        },
        {
          "output_type": "stream",
          "name": "stdout",
          "text": [
            "total params: \u001b[33m406,285\u001b[0m | embedding params: \u001b[33m403,725\u001b[0m | network params: \u001b[33m2,560\u001b[0m\n",
            "Training start time: \u001b[35m2022-11-05 16:44:31\u001b[0m\n"
          ]
        },
        {
          "output_type": "stream",
          "name": "stderr",
          "text": [
            "train: 100%|██████████| 2521/2521 [00:44<00:00, 56.87it/s]\n"
          ]
        },
        {
          "output_type": "stream",
          "name": "stdout",
          "text": [
            "Epoch 1 elapsed: 44.392s\n",
            "\t \u001b[32mtrain_loss: 0.8537\u001b[0m\n"
          ]
        },
        {
          "output_type": "stream",
          "name": "stderr",
          "text": [
            "eval_pred: 100%|██████████| 3/3 [00:00<00:00, 244.98it/s]\n",
            "eval_rec: 100%|██████████| 610/610 [00:00<00:00, 2132.69it/s]\n"
          ]
        },
        {
          "output_type": "stream",
          "name": "stdout",
          "text": [
            "\t eval log_loss: 1.0189\n",
            "\t eval roc_auc: 0.7550\n",
            "\t eval precision@10: 0.0175\n",
            "\t eval recall@10: 0.0163\n",
            "\t eval map@10: 0.0389\n",
            "\t eval ndcg@10: 0.0629\n",
            "==============================\n"
          ]
        },
        {
          "output_type": "stream",
          "name": "stderr",
          "text": [
            "train: 100%|██████████| 2521/2521 [00:46<00:00, 53.72it/s]\n"
          ]
        },
        {
          "output_type": "stream",
          "name": "stdout",
          "text": [
            "Epoch 2 elapsed: 46.982s\n",
            "\t \u001b[32mtrain_loss: 0.978\u001b[0m\n"
          ]
        },
        {
          "output_type": "stream",
          "name": "stderr",
          "text": [
            "eval_pred: 100%|██████████| 3/3 [00:00<00:00, 196.84it/s]\n",
            "eval_rec: 100%|██████████| 610/610 [00:00<00:00, 882.30it/s]\n"
          ]
        },
        {
          "output_type": "stream",
          "name": "stdout",
          "text": [
            "\t eval log_loss: 0.9291\n",
            "\t eval roc_auc: 0.7774\n",
            "\t eval precision@10: 0.0261\n",
            "\t eval recall@10: 0.0272\n",
            "\t eval map@10: 0.0711\n",
            "\t eval ndcg@10: 0.1032\n",
            "==============================\n"
          ]
        },
        {
          "output_type": "stream",
          "name": "stderr",
          "text": [
            "train: 100%|██████████| 2521/2521 [00:50<00:00, 49.63it/s]\n"
          ]
        },
        {
          "output_type": "stream",
          "name": "stdout",
          "text": [
            "Epoch 3 elapsed: 50.850s\n",
            "\t \u001b[32mtrain_loss: 1.1076\u001b[0m\n"
          ]
        },
        {
          "output_type": "stream",
          "name": "stderr",
          "text": [
            "eval_pred: 100%|██████████| 3/3 [00:00<00:00, 174.17it/s]\n",
            "eval_rec: 100%|██████████| 610/610 [00:00<00:00, 1247.77it/s]\n"
          ]
        },
        {
          "output_type": "stream",
          "name": "stdout",
          "text": [
            "\t eval log_loss: 1.0656\n",
            "\t eval roc_auc: 0.7625\n",
            "\t eval precision@10: 0.0289\n",
            "\t eval recall@10: 0.0343\n",
            "\t eval map@10: 0.0686\n",
            "\t eval ndcg@10: 0.1050\n",
            "==============================\n"
          ]
        },
        {
          "output_type": "stream",
          "name": "stderr",
          "text": [
            "train: 100%|██████████| 2521/2521 [00:44<00:00, 56.82it/s]\n"
          ]
        },
        {
          "output_type": "stream",
          "name": "stdout",
          "text": [
            "Epoch 4 elapsed: 44.434s\n",
            "\t \u001b[32mtrain_loss: 1.069\u001b[0m\n"
          ]
        },
        {
          "output_type": "stream",
          "name": "stderr",
          "text": [
            "eval_pred: 100%|██████████| 3/3 [00:00<00:00, 203.56it/s]\n",
            "eval_rec: 100%|██████████| 610/610 [00:00<00:00, 2365.59it/s]\n"
          ]
        },
        {
          "output_type": "stream",
          "name": "stdout",
          "text": [
            "\t eval log_loss: 0.9750\n",
            "\t eval roc_auc: 0.7722\n",
            "\t eval precision@10: 0.0216\n",
            "\t eval recall@10: 0.0225\n",
            "\t eval map@10: 0.0571\n",
            "\t eval ndcg@10: 0.0852\n",
            "==============================\n"
          ]
        },
        {
          "output_type": "stream",
          "name": "stderr",
          "text": [
            "train: 100%|██████████| 2521/2521 [00:43<00:00, 58.22it/s]\n"
          ]
        },
        {
          "output_type": "stream",
          "name": "stdout",
          "text": [
            "Epoch 5 elapsed: 43.361s\n",
            "\t \u001b[32mtrain_loss: 1.0886\u001b[0m\n"
          ]
        },
        {
          "output_type": "stream",
          "name": "stderr",
          "text": [
            "eval_pred: 100%|██████████| 3/3 [00:00<00:00, 184.74it/s]\n",
            "eval_rec: 100%|██████████| 610/610 [00:00<00:00, 2298.44it/s]\n"
          ]
        },
        {
          "output_type": "stream",
          "name": "stdout",
          "text": [
            "\t eval log_loss: 1.1857\n",
            "\t eval roc_auc: 0.7480\n",
            "\t eval precision@10: 0.0164\n",
            "\t eval recall@10: 0.0195\n",
            "\t eval map@10: 0.0538\n",
            "\t eval ndcg@10: 0.0744\n",
            "==============================\n"
          ]
        },
        {
          "output_type": "stream",
          "name": "stderr",
          "text": [
            "eval_pred: 100%|██████████| 3/3 [00:00<00:00, 260.59it/s]\n",
            "eval_rec: 100%|██████████| 608/608 [00:00<00:00, 2151.87it/s]\n"
          ]
        },
        {
          "output_type": "display_data",
          "data": {
            "text/plain": [
              "<IPython.core.display.HTML object>"
            ],
            "text/html": [
              "Waiting for W&B process to finish... <strong style=\"color:green\">(success).</strong>"
            ]
          },
          "metadata": {}
        },
        {
          "output_type": "display_data",
          "data": {
            "text/plain": [
              "<IPython.core.display.HTML object>"
            ],
            "text/html": [
              "<style>\n",
              "    table.wandb td:nth-child(1) { padding: 0 10px; text-align: left ; width: auto;} td:nth-child(2) {text-align: left ; width: 100%}\n",
              "    .wandb-row { display: flex; flex-direction: row; flex-wrap: wrap; justify-content: flex-start; width: 100% }\n",
              "    .wandb-col { display: flex; flex-direction: column; flex-basis: 100%; flex: 1; padding: 10px; }\n",
              "    </style>\n",
              "<div class=\"wandb-row\"><div class=\"wandb-col\"><h3>Run history:</h3><br/><table class=\"wandb\"><tr><td>epoch</td><td>▁▃▅▆█</td></tr><tr><td>loss</td><td>▁</td></tr><tr><td>map</td><td>▁</td></tr><tr><td>map@10</td><td>▁█▇▅▄</td></tr><tr><td>ndcg</td><td>▁</td></tr><tr><td>ndcg@10</td><td>▁██▅▃</td></tr><tr><td>precision</td><td>▁</td></tr><tr><td>precision@10</td><td>▂▆█▄▁</td></tr><tr><td>recall</td><td>▁</td></tr><tr><td>recall@10</td><td>▁▅█▃▂</td></tr><tr><td>roc_auc</td><td>▄█▅▇▃▁</td></tr><tr><td>train_loss</td><td>▁▄█▇▇</td></tr></table><br/></div><div class=\"wandb-col\"><h3>Run summary:</h3><br/><table class=\"wandb\"><tr><td>epoch</td><td>5</td></tr><tr><td>log_loss</td><td>sklearn.metrics._cla...</td></tr><tr><td>loss</td><td>1.23452</td></tr><tr><td>map</td><td>0.03781</td></tr><tr><td>map@10</td><td>0.05377</td></tr><tr><td>ndcg</td><td>0.05738</td></tr><tr><td>ndcg@10</td><td>0.07439</td></tr><tr><td>precision</td><td>0.01266</td></tr><tr><td>precision@10</td><td>0.01639</td></tr><tr><td>recall</td><td>0.01966</td></tr><tr><td>recall@10</td><td>0.01955</td></tr><tr><td>roc_auc</td><td>0.73714</td></tr><tr><td>train_loss</td><td>1.0886</td></tr></table><br/></div></div>"
            ]
          },
          "metadata": {}
        },
        {
          "output_type": "display_data",
          "data": {
            "text/plain": [
              "<IPython.core.display.HTML object>"
            ],
            "text/html": [
              "Synced <strong style=\"color:#cdcd00\">sage-sweep-9</strong>: <a href=\"https://wandb.ai/iloncka-ds/recsys-app/runs/5igj68g7\" target=\"_blank\">https://wandb.ai/iloncka-ds/recsys-app/runs/5igj68g7</a><br/>Synced 5 W&B file(s), 0 media file(s), 0 artifact file(s) and 0 other file(s)"
            ]
          },
          "metadata": {}
        },
        {
          "output_type": "display_data",
          "data": {
            "text/plain": [
              "<IPython.core.display.HTML object>"
            ],
            "text/html": [
              "Find logs at: <code>./wandb/run-20221105_164425-5igj68g7/logs</code>"
            ]
          },
          "metadata": {}
        },
        {
          "output_type": "stream",
          "name": "stderr",
          "text": [
            "\u001b[34m\u001b[1mwandb\u001b[0m: Agent Starting Run: w6xitflx with config:\n",
            "\u001b[34m\u001b[1mwandb\u001b[0m: \tbatch_size: 64\n",
            "\u001b[34m\u001b[1mwandb\u001b[0m: \tembed_size: 32\n",
            "\u001b[34m\u001b[1mwandb\u001b[0m: \tlr: 0.1\n",
            "\u001b[34m\u001b[1mwandb\u001b[0m: \tn_epochs: 10\n",
            "Failed to detect the name of this notebook, you can set it manually with the WANDB_NOTEBOOK_NAME environment variable to enable code saving.\n"
          ]
        },
        {
          "output_type": "display_data",
          "data": {
            "text/plain": [
              "<IPython.core.display.HTML object>"
            ],
            "text/html": [
              "Tracking run with wandb version 0.13.5"
            ]
          },
          "metadata": {}
        },
        {
          "output_type": "display_data",
          "data": {
            "text/plain": [
              "<IPython.core.display.HTML object>"
            ],
            "text/html": [
              "Run data is saved locally in <code>/content/wandb/run-20221105_164841-w6xitflx</code>"
            ]
          },
          "metadata": {}
        },
        {
          "output_type": "display_data",
          "data": {
            "text/plain": [
              "<IPython.core.display.HTML object>"
            ],
            "text/html": [
              "Syncing run <strong><a href=\"https://wandb.ai/iloncka-ds/recsys-app/runs/w6xitflx\" target=\"_blank\">light-sweep-10</a></strong> to <a href=\"https://wandb.ai/iloncka-ds/recsys-app\" target=\"_blank\">Weights & Biases</a> (<a href=\"https://wandb.me/run\" target=\"_blank\">docs</a>)<br/>Sweep page:  <a href=\"https://wandb.ai/iloncka-ds/recsys-app/sweeps/tw52paxu\" target=\"_blank\">https://wandb.ai/iloncka-ds/recsys-app/sweeps/tw52paxu</a>"
            ]
          },
          "metadata": {}
        },
        {
          "output_type": "stream",
          "name": "stdout",
          "text": [
            "total params: \u001b[33m406,285\u001b[0m | embedding params: \u001b[33m403,725\u001b[0m | network params: \u001b[33m2,560\u001b[0m\n",
            "Training start time: \u001b[35m2022-11-05 16:48:45\u001b[0m\n"
          ]
        },
        {
          "output_type": "stream",
          "name": "stderr",
          "text": [
            "train: 100%|██████████| 2521/2521 [00:50<00:00, 50.42it/s]\n"
          ]
        },
        {
          "output_type": "stream",
          "name": "stdout",
          "text": [
            "Epoch 1 elapsed: 50.060s\n",
            "\t \u001b[32mtrain_loss: 0.8396\u001b[0m\n"
          ]
        },
        {
          "output_type": "stream",
          "name": "stderr",
          "text": [
            "eval_pred: 100%|██████████| 3/3 [00:00<00:00, 195.56it/s]\n",
            "eval_rec: 100%|██████████| 610/610 [00:00<00:00, 2158.69it/s]\n"
          ]
        },
        {
          "output_type": "stream",
          "name": "stdout",
          "text": [
            "\t eval log_loss: 0.9224\n",
            "\t eval roc_auc: 0.7624\n",
            "\t eval precision@10: 0.0193\n",
            "\t eval recall@10: 0.0171\n",
            "\t eval map@10: 0.0587\n",
            "\t eval ndcg@10: 0.0841\n",
            "==============================\n"
          ]
        },
        {
          "output_type": "stream",
          "name": "stderr",
          "text": [
            "train: 100%|██████████| 2521/2521 [00:44<00:00, 56.82it/s]\n"
          ]
        },
        {
          "output_type": "stream",
          "name": "stdout",
          "text": [
            "Epoch 2 elapsed: 44.416s\n",
            "\t \u001b[32mtrain_loss: 0.8683\u001b[0m\n"
          ]
        },
        {
          "output_type": "stream",
          "name": "stderr",
          "text": [
            "eval_pred: 100%|██████████| 3/3 [00:00<00:00, 149.03it/s]\n",
            "eval_rec: 100%|██████████| 610/610 [00:00<00:00, 1681.63it/s]\n"
          ]
        },
        {
          "output_type": "stream",
          "name": "stdout",
          "text": [
            "\t eval log_loss: 1.1443\n",
            "\t eval roc_auc: 0.7453\n",
            "\t eval precision@10: 0.0131\n",
            "\t eval recall@10: 0.0139\n",
            "\t eval map@10: 0.0426\n",
            "\t eval ndcg@10: 0.0589\n",
            "==============================\n"
          ]
        },
        {
          "output_type": "stream",
          "name": "stderr",
          "text": [
            "train: 100%|██████████| 2521/2521 [00:44<00:00, 57.19it/s]\n"
          ]
        },
        {
          "output_type": "stream",
          "name": "stdout",
          "text": [
            "Epoch 3 elapsed: 44.133s\n",
            "\t \u001b[32mtrain_loss: 1.1133\u001b[0m\n"
          ]
        },
        {
          "output_type": "stream",
          "name": "stderr",
          "text": [
            "eval_pred: 100%|██████████| 3/3 [00:00<00:00, 239.11it/s]\n",
            "eval_rec: 100%|██████████| 610/610 [00:00<00:00, 2258.88it/s]\n"
          ]
        },
        {
          "output_type": "stream",
          "name": "stdout",
          "text": [
            "\t eval log_loss: 1.0011\n",
            "\t eval roc_auc: 0.7649\n",
            "\t eval precision@10: 0.0213\n",
            "\t eval recall@10: 0.0193\n",
            "\t eval map@10: 0.0609\n",
            "\t eval ndcg@10: 0.0847\n",
            "==============================\n"
          ]
        },
        {
          "output_type": "stream",
          "name": "stderr",
          "text": [
            "train: 100%|██████████| 2521/2521 [00:43<00:00, 57.45it/s]\n"
          ]
        },
        {
          "output_type": "stream",
          "name": "stdout",
          "text": [
            "Epoch 4 elapsed: 43.948s\n",
            "\t \u001b[32mtrain_loss: 1.0738\u001b[0m\n"
          ]
        },
        {
          "output_type": "stream",
          "name": "stderr",
          "text": [
            "eval_pred: 100%|██████████| 3/3 [00:00<00:00, 207.15it/s]\n",
            "eval_rec: 100%|██████████| 610/610 [00:00<00:00, 2112.05it/s]\n"
          ]
        },
        {
          "output_type": "stream",
          "name": "stdout",
          "text": [
            "\t eval log_loss: 0.9768\n",
            "\t eval roc_auc: 0.7687\n",
            "\t eval precision@10: 0.0234\n",
            "\t eval recall@10: 0.0243\n",
            "\t eval map@10: 0.0635\n",
            "\t eval ndcg@10: 0.0956\n",
            "==============================\n"
          ]
        },
        {
          "output_type": "stream",
          "name": "stderr",
          "text": [
            "train: 100%|██████████| 2521/2521 [00:44<00:00, 56.60it/s]\n"
          ]
        },
        {
          "output_type": "stream",
          "name": "stdout",
          "text": [
            "Epoch 5 elapsed: 44.597s\n",
            "\t \u001b[32mtrain_loss: 1.1402\u001b[0m\n"
          ]
        },
        {
          "output_type": "stream",
          "name": "stderr",
          "text": [
            "eval_pred: 100%|██████████| 3/3 [00:00<00:00, 233.35it/s]\n",
            "eval_rec: 100%|██████████| 610/610 [00:00<00:00, 1197.42it/s]\n"
          ]
        },
        {
          "output_type": "stream",
          "name": "stdout",
          "text": [
            "\t eval log_loss: 1.0942\n",
            "\t eval roc_auc: 0.7497\n",
            "\t eval precision@10: 0.0159\n",
            "\t eval recall@10: 0.0198\n",
            "\t eval map@10: 0.0567\n",
            "\t eval ndcg@10: 0.0746\n",
            "==============================\n"
          ]
        },
        {
          "output_type": "stream",
          "name": "stderr",
          "text": [
            "train: 100%|██████████| 2521/2521 [00:47<00:00, 53.45it/s]\n"
          ]
        },
        {
          "output_type": "stream",
          "name": "stdout",
          "text": [
            "Epoch 6 elapsed: 47.258s\n",
            "\t \u001b[32mtrain_loss: 1.0513\u001b[0m\n"
          ]
        },
        {
          "output_type": "stream",
          "name": "stderr",
          "text": [
            "eval_pred: 100%|██████████| 3/3 [00:00<00:00, 297.34it/s]\n",
            "eval_rec: 100%|██████████| 610/610 [00:00<00:00, 2093.51it/s]\n"
          ]
        },
        {
          "output_type": "stream",
          "name": "stdout",
          "text": [
            "\t eval log_loss: 1.0490\n",
            "\t eval roc_auc: 0.7590\n",
            "\t eval precision@10: 0.0148\n",
            "\t eval recall@10: 0.0185\n",
            "\t eval map@10: 0.0502\n",
            "\t eval ndcg@10: 0.0688\n",
            "==============================\n"
          ]
        },
        {
          "output_type": "stream",
          "name": "stderr",
          "text": [
            "train: 100%|██████████| 2521/2521 [00:44<00:00, 56.03it/s]\n"
          ]
        },
        {
          "output_type": "stream",
          "name": "stdout",
          "text": [
            "Epoch 7 elapsed: 45.055s\n",
            "\t \u001b[32mtrain_loss: 1.1267\u001b[0m\n"
          ]
        },
        {
          "output_type": "stream",
          "name": "stderr",
          "text": [
            "eval_pred: 100%|██████████| 3/3 [00:00<00:00, 174.37it/s]\n",
            "eval_rec: 100%|██████████| 610/610 [00:00<00:00, 2092.58it/s]\n"
          ]
        },
        {
          "output_type": "stream",
          "name": "stdout",
          "text": [
            "\t eval log_loss: 1.0479\n",
            "\t eval roc_auc: 0.7690\n",
            "\t eval precision@10: 0.0139\n",
            "\t eval recall@10: 0.0135\n",
            "\t eval map@10: 0.0458\n",
            "\t eval ndcg@10: 0.0636\n",
            "==============================\n"
          ]
        },
        {
          "output_type": "stream",
          "name": "stderr",
          "text": [
            "train: 100%|██████████| 2521/2521 [00:43<00:00, 57.58it/s]\n"
          ]
        },
        {
          "output_type": "stream",
          "name": "stdout",
          "text": [
            "Epoch 8 elapsed: 43.838s\n",
            "\t \u001b[32mtrain_loss: 1.3876\u001b[0m\n"
          ]
        },
        {
          "output_type": "stream",
          "name": "stderr",
          "text": [
            "eval_pred: 100%|██████████| 3/3 [00:00<00:00, 305.21it/s]\n",
            "eval_rec: 100%|██████████| 610/610 [00:00<00:00, 2256.84it/s]\n"
          ]
        },
        {
          "output_type": "stream",
          "name": "stdout",
          "text": [
            "\t eval log_loss: 1.3041\n",
            "\t eval roc_auc: 0.7454\n",
            "\t eval precision@10: 0.0152\n",
            "\t eval recall@10: 0.0157\n",
            "\t eval map@10: 0.0441\n",
            "\t eval ndcg@10: 0.0645\n",
            "==============================\n"
          ]
        },
        {
          "output_type": "stream",
          "name": "stderr",
          "text": [
            "train: 100%|██████████| 2521/2521 [00:43<00:00, 57.34it/s]\n"
          ]
        },
        {
          "output_type": "stream",
          "name": "stdout",
          "text": [
            "Epoch 9 elapsed: 44.018s\n",
            "\t \u001b[32mtrain_loss: 1.2993\u001b[0m\n"
          ]
        },
        {
          "output_type": "stream",
          "name": "stderr",
          "text": [
            "eval_pred: 100%|██████████| 3/3 [00:00<00:00, 173.84it/s]\n",
            "eval_rec: 100%|██████████| 610/610 [00:00<00:00, 1888.69it/s]\n"
          ]
        },
        {
          "output_type": "stream",
          "name": "stdout",
          "text": [
            "\t eval log_loss: 1.2603\n",
            "\t eval roc_auc: 0.7539\n",
            "\t eval precision@10: 0.0231\n",
            "\t eval recall@10: 0.0237\n",
            "\t eval map@10: 0.0674\n",
            "\t eval ndcg@10: 0.0959\n",
            "==============================\n"
          ]
        },
        {
          "output_type": "stream",
          "name": "stderr",
          "text": [
            "train: 100%|██████████| 2521/2521 [00:48<00:00, 52.16it/s]\n"
          ]
        },
        {
          "output_type": "stream",
          "name": "stdout",
          "text": [
            "Epoch 10 elapsed: 48.394s\n",
            "\t \u001b[32mtrain_loss: 1.3226\u001b[0m\n"
          ]
        },
        {
          "output_type": "stream",
          "name": "stderr",
          "text": [
            "eval_pred: 100%|██████████| 3/3 [00:00<00:00, 275.37it/s]\n",
            "eval_rec: 100%|██████████| 610/610 [00:00<00:00, 1916.30it/s]\n"
          ]
        },
        {
          "output_type": "stream",
          "name": "stdout",
          "text": [
            "\t eval log_loss: 1.4297\n",
            "\t eval roc_auc: 0.7386\n",
            "\t eval precision@10: 0.0207\n",
            "\t eval recall@10: 0.0235\n",
            "\t eval map@10: 0.0531\n",
            "\t eval ndcg@10: 0.0818\n",
            "==============================\n"
          ]
        },
        {
          "output_type": "stream",
          "name": "stderr",
          "text": [
            "eval_pred: 100%|██████████| 3/3 [00:00<00:00, 252.11it/s]\n",
            "eval_rec: 100%|██████████| 608/608 [00:00<00:00, 2129.59it/s]\n"
          ]
        },
        {
          "output_type": "display_data",
          "data": {
            "text/plain": [
              "<IPython.core.display.HTML object>"
            ],
            "text/html": [
              "Waiting for W&B process to finish... <strong style=\"color:green\">(success).</strong>"
            ]
          },
          "metadata": {}
        },
        {
          "output_type": "display_data",
          "data": {
            "text/plain": [
              "<IPython.core.display.HTML object>"
            ],
            "text/html": [
              "<style>\n",
              "    table.wandb td:nth-child(1) { padding: 0 10px; text-align: left ; width: auto;} td:nth-child(2) {text-align: left ; width: 100%}\n",
              "    .wandb-row { display: flex; flex-direction: row; flex-wrap: wrap; justify-content: flex-start; width: 100% }\n",
              "    .wandb-col { display: flex; flex-direction: column; flex-basis: 100%; flex: 1; padding: 10px; }\n",
              "    </style>\n",
              "<div class=\"wandb-row\"><div class=\"wandb-col\"><h3>Run history:</h3><br/><table class=\"wandb\"><tr><td>epoch</td><td>▁▂▃▃▄▅▆▆▇█</td></tr><tr><td>loss</td><td>▁</td></tr><tr><td>map</td><td>▁</td></tr><tr><td>map@10</td><td>▆▁▆▇▅▃▂▁█▄</td></tr><tr><td>ndcg</td><td>▁</td></tr><tr><td>ndcg@10</td><td>▆▁▆█▄▃▂▂█▅</td></tr><tr><td>precision</td><td>▁</td></tr><tr><td>precision@10</td><td>▅▁▇█▃▂▂▂█▆</td></tr><tr><td>recall</td><td>▁</td></tr><tr><td>recall@10</td><td>▃▁▅█▅▄▁▂██</td></tr><tr><td>roc_auc</td><td>▇▅▇█▅▇█▅▆▄▁</td></tr><tr><td>train_loss</td><td>▁▁▄▄▅▄▅█▇▇</td></tr></table><br/></div><div class=\"wandb-col\"><h3>Run summary:</h3><br/><table class=\"wandb\"><tr><td>epoch</td><td>10</td></tr><tr><td>log_loss</td><td>sklearn.metrics._cla...</td></tr><tr><td>loss</td><td>1.51726</td></tr><tr><td>map</td><td>0.05715</td></tr><tr><td>map@10</td><td>0.05311</td></tr><tr><td>ndcg</td><td>0.08424</td></tr><tr><td>ndcg@10</td><td>0.08179</td></tr><tr><td>precision</td><td>0.01974</td></tr><tr><td>precision@10</td><td>0.02066</td></tr><tr><td>recall</td><td>0.02553</td></tr><tr><td>recall@10</td><td>0.02352</td></tr><tr><td>roc_auc</td><td>0.72133</td></tr><tr><td>train_loss</td><td>1.3226</td></tr></table><br/></div></div>"
            ]
          },
          "metadata": {}
        },
        {
          "output_type": "display_data",
          "data": {
            "text/plain": [
              "<IPython.core.display.HTML object>"
            ],
            "text/html": [
              "Synced <strong style=\"color:#cdcd00\">light-sweep-10</strong>: <a href=\"https://wandb.ai/iloncka-ds/recsys-app/runs/w6xitflx\" target=\"_blank\">https://wandb.ai/iloncka-ds/recsys-app/runs/w6xitflx</a><br/>Synced 5 W&B file(s), 0 media file(s), 0 artifact file(s) and 0 other file(s)"
            ]
          },
          "metadata": {}
        },
        {
          "output_type": "display_data",
          "data": {
            "text/plain": [
              "<IPython.core.display.HTML object>"
            ],
            "text/html": [
              "Find logs at: <code>./wandb/run-20221105_164841-w6xitflx/logs</code>"
            ]
          },
          "metadata": {}
        },
        {
          "output_type": "stream",
          "name": "stderr",
          "text": [
            "\u001b[34m\u001b[1mwandb\u001b[0m: Agent Starting Run: zwkvj6cp with config:\n",
            "\u001b[34m\u001b[1mwandb\u001b[0m: \tbatch_size: 64\n",
            "\u001b[34m\u001b[1mwandb\u001b[0m: \tembed_size: 32\n",
            "\u001b[34m\u001b[1mwandb\u001b[0m: \tlr: 0.01\n",
            "\u001b[34m\u001b[1mwandb\u001b[0m: \tn_epochs: 5\n"
          ]
        },
        {
          "output_type": "display_data",
          "data": {
            "text/plain": [
              "<IPython.core.display.HTML object>"
            ],
            "text/html": [
              "Tracking run with wandb version 0.13.5"
            ]
          },
          "metadata": {}
        },
        {
          "output_type": "display_data",
          "data": {
            "text/plain": [
              "<IPython.core.display.HTML object>"
            ],
            "text/html": [
              "Run data is saved locally in <code>/content/wandb/run-20221105_165641-zwkvj6cp</code>"
            ]
          },
          "metadata": {}
        },
        {
          "output_type": "display_data",
          "data": {
            "text/plain": [
              "<IPython.core.display.HTML object>"
            ],
            "text/html": [
              "Syncing run <strong><a href=\"https://wandb.ai/iloncka-ds/recsys-app/runs/zwkvj6cp\" target=\"_blank\">desert-sweep-11</a></strong> to <a href=\"https://wandb.ai/iloncka-ds/recsys-app\" target=\"_blank\">Weights & Biases</a> (<a href=\"https://wandb.me/run\" target=\"_blank\">docs</a>)<br/>Sweep page:  <a href=\"https://wandb.ai/iloncka-ds/recsys-app/sweeps/tw52paxu\" target=\"_blank\">https://wandb.ai/iloncka-ds/recsys-app/sweeps/tw52paxu</a>"
            ]
          },
          "metadata": {}
        },
        {
          "output_type": "stream",
          "name": "stdout",
          "text": [
            "total params: \u001b[33m406,285\u001b[0m | embedding params: \u001b[33m403,725\u001b[0m | network params: \u001b[33m2,560\u001b[0m\n",
            "Training start time: \u001b[35m2022-11-05 16:56:49\u001b[0m\n"
          ]
        },
        {
          "output_type": "stream",
          "name": "stderr",
          "text": [
            "train: 100%|██████████| 2521/2521 [00:45<00:00, 55.69it/s]\n"
          ]
        },
        {
          "output_type": "stream",
          "name": "stdout",
          "text": [
            "Epoch 1 elapsed: 45.323s\n",
            "\t \u001b[32mtrain_loss: 0.4928\u001b[0m\n"
          ]
        },
        {
          "output_type": "stream",
          "name": "stderr",
          "text": [
            "eval_pred: 100%|██████████| 3/3 [00:00<00:00, 212.02it/s]\n",
            "eval_rec: 100%|██████████| 610/610 [00:00<00:00, 1752.34it/s]\n"
          ]
        },
        {
          "output_type": "stream",
          "name": "stdout",
          "text": [
            "\t eval log_loss: 0.5691\n",
            "\t eval roc_auc: 0.8078\n",
            "\t eval precision@10: 0.0346\n",
            "\t eval recall@10: 0.0326\n",
            "\t eval map@10: 0.0748\n",
            "\t eval ndcg@10: 0.1151\n",
            "==============================\n"
          ]
        },
        {
          "output_type": "stream",
          "name": "stderr",
          "text": [
            "train: 100%|██████████| 2521/2521 [00:46<00:00, 53.83it/s]\n"
          ]
        },
        {
          "output_type": "stream",
          "name": "stdout",
          "text": [
            "Epoch 2 elapsed: 46.890s\n",
            "\t \u001b[32mtrain_loss: 0.3716\u001b[0m\n"
          ]
        },
        {
          "output_type": "stream",
          "name": "stderr",
          "text": [
            "eval_pred: 100%|██████████| 3/3 [00:00<00:00, 166.64it/s]\n",
            "eval_rec: 100%|██████████| 610/610 [00:00<00:00, 2012.88it/s]\n"
          ]
        },
        {
          "output_type": "stream",
          "name": "stdout",
          "text": [
            "\t eval log_loss: 0.6975\n",
            "\t eval roc_auc: 0.7713\n",
            "\t eval precision@10: 0.0287\n",
            "\t eval recall@10: 0.0303\n",
            "\t eval map@10: 0.0728\n",
            "\t eval ndcg@10: 0.1061\n",
            "==============================\n"
          ]
        },
        {
          "output_type": "stream",
          "name": "stderr",
          "text": [
            "train: 100%|██████████| 2521/2521 [00:45<00:00, 55.73it/s]\n"
          ]
        },
        {
          "output_type": "stream",
          "name": "stdout",
          "text": [
            "Epoch 3 elapsed: 45.293s\n",
            "\t \u001b[32mtrain_loss: 0.2799\u001b[0m\n"
          ]
        },
        {
          "output_type": "stream",
          "name": "stderr",
          "text": [
            "eval_pred: 100%|██████████| 3/3 [00:00<00:00, 259.03it/s]\n",
            "eval_rec: 100%|██████████| 610/610 [00:00<00:00, 2099.55it/s]\n"
          ]
        },
        {
          "output_type": "stream",
          "name": "stdout",
          "text": [
            "\t eval log_loss: 0.9037\n",
            "\t eval roc_auc: 0.7224\n",
            "\t eval precision@10: 0.0284\n",
            "\t eval recall@10: 0.0301\n",
            "\t eval map@10: 0.0765\n",
            "\t eval ndcg@10: 0.1077\n",
            "==============================\n"
          ]
        },
        {
          "output_type": "stream",
          "name": "stderr",
          "text": [
            "train: 100%|██████████| 2521/2521 [00:49<00:00, 50.47it/s]\n"
          ]
        },
        {
          "output_type": "stream",
          "name": "stdout",
          "text": [
            "Epoch 4 elapsed: 50.004s\n",
            "\t \u001b[32mtrain_loss: 0.222\u001b[0m\n"
          ]
        },
        {
          "output_type": "stream",
          "name": "stderr",
          "text": [
            "eval_pred: 100%|██████████| 3/3 [00:00<00:00, 153.08it/s]\n",
            "eval_rec: 100%|██████████| 610/610 [00:00<00:00, 2260.97it/s]\n"
          ]
        },
        {
          "output_type": "stream",
          "name": "stdout",
          "text": [
            "\t eval log_loss: 0.8290\n",
            "\t eval roc_auc: 0.7604\n",
            "\t eval precision@10: 0.0262\n",
            "\t eval recall@10: 0.0307\n",
            "\t eval map@10: 0.0714\n",
            "\t eval ndcg@10: 0.1022\n",
            "==============================\n"
          ]
        },
        {
          "output_type": "stream",
          "name": "stderr",
          "text": [
            "train: 100%|██████████| 2521/2521 [00:45<00:00, 55.12it/s]\n"
          ]
        },
        {
          "output_type": "stream",
          "name": "stdout",
          "text": [
            "Epoch 5 elapsed: 45.795s\n",
            "\t \u001b[32mtrain_loss: 0.1915\u001b[0m\n"
          ]
        },
        {
          "output_type": "stream",
          "name": "stderr",
          "text": [
            "eval_pred: 100%|██████████| 3/3 [00:00<00:00, 173.95it/s]\n",
            "eval_rec: 100%|██████████| 610/610 [00:00<00:00, 2018.77it/s]\n"
          ]
        },
        {
          "output_type": "stream",
          "name": "stdout",
          "text": [
            "\t eval log_loss: 0.8914\n",
            "\t eval roc_auc: 0.7563\n",
            "\t eval precision@10: 0.0274\n",
            "\t eval recall@10: 0.0348\n",
            "\t eval map@10: 0.0656\n",
            "\t eval ndcg@10: 0.1015\n",
            "==============================\n"
          ]
        },
        {
          "output_type": "stream",
          "name": "stderr",
          "text": [
            "eval_pred: 100%|██████████| 3/3 [00:00<00:00, 207.85it/s]\n",
            "eval_rec: 100%|██████████| 608/608 [00:00<00:00, 2345.57it/s]\n"
          ]
        },
        {
          "output_type": "display_data",
          "data": {
            "text/plain": [
              "<IPython.core.display.HTML object>"
            ],
            "text/html": [
              "Waiting for W&B process to finish... <strong style=\"color:green\">(success).</strong>"
            ]
          },
          "metadata": {}
        },
        {
          "output_type": "display_data",
          "data": {
            "text/plain": [
              "VBox(children=(Label(value='0.001 MB of 0.001 MB uploaded (0.000 MB deduped)\\r'), FloatProgress(value=1.0, max…"
            ],
            "application/vnd.jupyter.widget-view+json": {
              "version_major": 2,
              "version_minor": 0,
              "model_id": "8a24a7fbf5234c4b967490e8a00dffa5"
            }
          },
          "metadata": {}
        },
        {
          "output_type": "display_data",
          "data": {
            "text/plain": [
              "<IPython.core.display.HTML object>"
            ],
            "text/html": [
              "<style>\n",
              "    table.wandb td:nth-child(1) { padding: 0 10px; text-align: left ; width: auto;} td:nth-child(2) {text-align: left ; width: 100%}\n",
              "    .wandb-row { display: flex; flex-direction: row; flex-wrap: wrap; justify-content: flex-start; width: 100% }\n",
              "    .wandb-col { display: flex; flex-direction: column; flex-basis: 100%; flex: 1; padding: 10px; }\n",
              "    </style>\n",
              "<div class=\"wandb-row\"><div class=\"wandb-col\"><h3>Run history:</h3><br/><table class=\"wandb\"><tr><td>epoch</td><td>▁▃▅▆█</td></tr><tr><td>loss</td><td>▁</td></tr><tr><td>map</td><td>▁</td></tr><tr><td>map@10</td><td>▇▆█▅▁</td></tr><tr><td>ndcg</td><td>▁</td></tr><tr><td>ndcg@10</td><td>█▃▄▁▁</td></tr><tr><td>precision</td><td>▁</td></tr><tr><td>precision@10</td><td>█▃▃▁▂</td></tr><tr><td>recall</td><td>▁</td></tr><tr><td>recall@10</td><td>▅▁▁▂█</td></tr><tr><td>roc_auc</td><td>█▅▁▄▄▁</td></tr><tr><td>train_loss</td><td>█▅▃▂▁</td></tr></table><br/></div><div class=\"wandb-col\"><h3>Run summary:</h3><br/><table class=\"wandb\"><tr><td>epoch</td><td>5</td></tr><tr><td>log_loss</td><td>sklearn.metrics._cla...</td></tr><tr><td>loss</td><td>0.99698</td></tr><tr><td>map</td><td>0.0526</td></tr><tr><td>map@10</td><td>0.06564</td></tr><tr><td>ndcg</td><td>0.08005</td></tr><tr><td>ndcg@10</td><td>0.10145</td></tr><tr><td>precision</td><td>0.02023</td></tr><tr><td>precision@10</td><td>0.02738</td></tr><tr><td>recall</td><td>0.02297</td></tr><tr><td>recall@10</td><td>0.03477</td></tr><tr><td>roc_auc</td><td>0.72505</td></tr><tr><td>train_loss</td><td>0.1915</td></tr></table><br/></div></div>"
            ]
          },
          "metadata": {}
        },
        {
          "output_type": "display_data",
          "data": {
            "text/plain": [
              "<IPython.core.display.HTML object>"
            ],
            "text/html": [
              "Synced <strong style=\"color:#cdcd00\">desert-sweep-11</strong>: <a href=\"https://wandb.ai/iloncka-ds/recsys-app/runs/zwkvj6cp\" target=\"_blank\">https://wandb.ai/iloncka-ds/recsys-app/runs/zwkvj6cp</a><br/>Synced 5 W&B file(s), 0 media file(s), 0 artifact file(s) and 0 other file(s)"
            ]
          },
          "metadata": {}
        },
        {
          "output_type": "display_data",
          "data": {
            "text/plain": [
              "<IPython.core.display.HTML object>"
            ],
            "text/html": [
              "Find logs at: <code>./wandb/run-20221105_165641-zwkvj6cp/logs</code>"
            ]
          },
          "metadata": {}
        },
        {
          "output_type": "stream",
          "name": "stderr",
          "text": [
            "\u001b[34m\u001b[1mwandb\u001b[0m: Sweep Agent: Waiting for job.\n",
            "\u001b[34m\u001b[1mwandb\u001b[0m: Job received.\n",
            "\u001b[34m\u001b[1mwandb\u001b[0m: Agent Starting Run: 5cf1oyrm with config:\n",
            "\u001b[34m\u001b[1mwandb\u001b[0m: \tbatch_size: 64\n",
            "\u001b[34m\u001b[1mwandb\u001b[0m: \tembed_size: 32\n",
            "\u001b[34m\u001b[1mwandb\u001b[0m: \tlr: 0.01\n",
            "\u001b[34m\u001b[1mwandb\u001b[0m: \tn_epochs: 10\n"
          ]
        },
        {
          "output_type": "display_data",
          "data": {
            "text/plain": [
              "<IPython.core.display.HTML object>"
            ],
            "text/html": [
              "Tracking run with wandb version 0.13.5"
            ]
          },
          "metadata": {}
        },
        {
          "output_type": "display_data",
          "data": {
            "text/plain": [
              "<IPython.core.display.HTML object>"
            ],
            "text/html": [
              "Run data is saved locally in <code>/content/wandb/run-20221105_170107-5cf1oyrm</code>"
            ]
          },
          "metadata": {}
        },
        {
          "output_type": "display_data",
          "data": {
            "text/plain": [
              "<IPython.core.display.HTML object>"
            ],
            "text/html": [
              "Syncing run <strong><a href=\"https://wandb.ai/iloncka-ds/recsys-app/runs/5cf1oyrm\" target=\"_blank\">prime-sweep-12</a></strong> to <a href=\"https://wandb.ai/iloncka-ds/recsys-app\" target=\"_blank\">Weights & Biases</a> (<a href=\"https://wandb.me/run\" target=\"_blank\">docs</a>)<br/>Sweep page:  <a href=\"https://wandb.ai/iloncka-ds/recsys-app/sweeps/tw52paxu\" target=\"_blank\">https://wandb.ai/iloncka-ds/recsys-app/sweeps/tw52paxu</a>"
            ]
          },
          "metadata": {}
        },
        {
          "output_type": "stream",
          "name": "stdout",
          "text": [
            "total params: \u001b[33m406,285\u001b[0m | embedding params: \u001b[33m403,725\u001b[0m | network params: \u001b[33m2,560\u001b[0m\n",
            "Training start time: \u001b[35m2022-11-05 17:01:14\u001b[0m\n"
          ]
        },
        {
          "output_type": "stream",
          "name": "stderr",
          "text": [
            "train: 100%|██████████| 2521/2521 [00:44<00:00, 56.07it/s]\n"
          ]
        },
        {
          "output_type": "stream",
          "name": "stdout",
          "text": [
            "Epoch 1 elapsed: 45.014s\n",
            "\t \u001b[32mtrain_loss: 0.4932\u001b[0m\n"
          ]
        },
        {
          "output_type": "stream",
          "name": "stderr",
          "text": [
            "eval_pred: 100%|██████████| 3/3 [00:00<00:00, 223.45it/s]\n",
            "eval_rec: 100%|██████████| 610/610 [00:00<00:00, 2391.21it/s]\n"
          ]
        },
        {
          "output_type": "stream",
          "name": "stdout",
          "text": [
            "\t eval log_loss: 0.5507\n",
            "\t eval roc_auc: 0.8143\n",
            "\t eval precision@10: 0.0331\n",
            "\t eval recall@10: 0.0399\n",
            "\t eval map@10: 0.0775\n",
            "\t eval ndcg@10: 0.1169\n",
            "==============================\n"
          ]
        },
        {
          "output_type": "stream",
          "name": "stderr",
          "text": [
            "train: 100%|██████████| 2521/2521 [00:45<00:00, 55.76it/s]\n"
          ]
        },
        {
          "output_type": "stream",
          "name": "stdout",
          "text": [
            "Epoch 2 elapsed: 45.257s\n",
            "\t \u001b[32mtrain_loss: 0.3771\u001b[0m\n"
          ]
        },
        {
          "output_type": "stream",
          "name": "stderr",
          "text": [
            "eval_pred: 100%|██████████| 3/3 [00:00<00:00, 143.62it/s]\n",
            "eval_rec: 100%|██████████| 610/610 [00:00<00:00, 2187.52it/s]\n"
          ]
        },
        {
          "output_type": "stream",
          "name": "stdout",
          "text": [
            "\t eval log_loss: 0.6700\n",
            "\t eval roc_auc: 0.7804\n",
            "\t eval precision@10: 0.0300\n",
            "\t eval recall@10: 0.0358\n",
            "\t eval map@10: 0.0750\n",
            "\t eval ndcg@10: 0.1115\n",
            "==============================\n"
          ]
        },
        {
          "output_type": "stream",
          "name": "stderr",
          "text": [
            "train: 100%|██████████| 2521/2521 [00:44<00:00, 56.69it/s]\n"
          ]
        },
        {
          "output_type": "stream",
          "name": "stdout",
          "text": [
            "Epoch 3 elapsed: 44.531s\n",
            "\t \u001b[32mtrain_loss: 0.2836\u001b[0m\n"
          ]
        },
        {
          "output_type": "stream",
          "name": "stderr",
          "text": [
            "eval_pred: 100%|██████████| 3/3 [00:00<00:00, 188.45it/s]\n",
            "eval_rec: 100%|██████████| 610/610 [00:00<00:00, 2156.49it/s]\n"
          ]
        },
        {
          "output_type": "stream",
          "name": "stdout",
          "text": [
            "\t eval log_loss: 0.7780\n",
            "\t eval roc_auc: 0.7541\n",
            "\t eval precision@10: 0.0308\n",
            "\t eval recall@10: 0.0356\n",
            "\t eval map@10: 0.0772\n",
            "\t eval ndcg@10: 0.1127\n",
            "==============================\n"
          ]
        },
        {
          "output_type": "stream",
          "name": "stderr",
          "text": [
            "train: 100%|██████████| 2521/2521 [00:50<00:00, 49.47it/s]\n"
          ]
        },
        {
          "output_type": "stream",
          "name": "stdout",
          "text": [
            "Epoch 4 elapsed: 51.011s\n",
            "\t \u001b[32mtrain_loss: 0.2233\u001b[0m\n"
          ]
        },
        {
          "output_type": "stream",
          "name": "stderr",
          "text": [
            "eval_pred: 100%|██████████| 3/3 [00:00<00:00, 191.90it/s]\n",
            "eval_rec: 100%|██████████| 610/610 [00:00<00:00, 1902.40it/s]\n"
          ]
        },
        {
          "output_type": "stream",
          "name": "stdout",
          "text": [
            "\t eval log_loss: 0.8347\n",
            "\t eval roc_auc: 0.7546\n",
            "\t eval precision@10: 0.0266\n",
            "\t eval recall@10: 0.0316\n",
            "\t eval map@10: 0.0677\n",
            "\t eval ndcg@10: 0.1009\n",
            "==============================\n"
          ]
        },
        {
          "output_type": "stream",
          "name": "stderr",
          "text": [
            "train: 100%|██████████| 2521/2521 [00:44<00:00, 56.29it/s]\n"
          ]
        },
        {
          "output_type": "stream",
          "name": "stdout",
          "text": [
            "Epoch 5 elapsed: 44.846s\n",
            "\t \u001b[32mtrain_loss: 0.1913\u001b[0m\n"
          ]
        },
        {
          "output_type": "stream",
          "name": "stderr",
          "text": [
            "eval_pred: 100%|██████████| 3/3 [00:00<00:00, 217.18it/s]\n",
            "eval_rec: 100%|██████████| 610/610 [00:00<00:00, 1932.46it/s]\n"
          ]
        },
        {
          "output_type": "stream",
          "name": "stdout",
          "text": [
            "\t eval log_loss: 0.9349\n",
            "\t eval roc_auc: 0.7395\n",
            "\t eval precision@10: 0.0282\n",
            "\t eval recall@10: 0.0346\n",
            "\t eval map@10: 0.0728\n",
            "\t eval ndcg@10: 0.1063\n",
            "==============================\n"
          ]
        },
        {
          "output_type": "stream",
          "name": "stderr",
          "text": [
            "train: 100%|██████████| 2521/2521 [00:45<00:00, 55.79it/s]\n"
          ]
        },
        {
          "output_type": "stream",
          "name": "stdout",
          "text": [
            "Epoch 6 elapsed: 45.239s\n",
            "\t \u001b[32mtrain_loss: 0.1737\u001b[0m\n"
          ]
        },
        {
          "output_type": "stream",
          "name": "stderr",
          "text": [
            "eval_pred: 100%|██████████| 3/3 [00:00<00:00, 119.49it/s]\n",
            "eval_rec: 100%|██████████| 610/610 [00:00<00:00, 2059.40it/s]\n"
          ]
        },
        {
          "output_type": "stream",
          "name": "stdout",
          "text": [
            "\t eval log_loss: 1.0066\n",
            "\t eval roc_auc: 0.7383\n",
            "\t eval precision@10: 0.0257\n",
            "\t eval recall@10: 0.0299\n",
            "\t eval map@10: 0.0673\n",
            "\t eval ndcg@10: 0.0982\n",
            "==============================\n"
          ]
        },
        {
          "output_type": "stream",
          "name": "stderr",
          "text": [
            "train: 100%|██████████| 2521/2521 [00:44<00:00, 56.22it/s]\n"
          ]
        },
        {
          "output_type": "stream",
          "name": "stdout",
          "text": [
            "Epoch 7 elapsed: 44.899s\n",
            "\t \u001b[32mtrain_loss: 0.1608\u001b[0m\n"
          ]
        },
        {
          "output_type": "stream",
          "name": "stderr",
          "text": [
            "eval_pred: 100%|██████████| 3/3 [00:00<00:00, 164.77it/s]\n",
            "eval_rec: 100%|██████████| 610/610 [00:00<00:00, 2144.67it/s]\n"
          ]
        },
        {
          "output_type": "stream",
          "name": "stdout",
          "text": [
            "\t eval log_loss: 1.0956\n",
            "\t eval roc_auc: 0.7015\n",
            "\t eval precision@10: 0.0220\n",
            "\t eval recall@10: 0.0291\n",
            "\t eval map@10: 0.0599\n",
            "\t eval ndcg@10: 0.0900\n",
            "==============================\n"
          ]
        },
        {
          "output_type": "stream",
          "name": "stderr",
          "text": [
            "train: 100%|██████████| 2521/2521 [00:45<00:00, 55.38it/s]\n"
          ]
        },
        {
          "output_type": "stream",
          "name": "stdout",
          "text": [
            "Epoch 8 elapsed: 45.587s\n",
            "\t \u001b[32mtrain_loss: 0.1527\u001b[0m\n"
          ]
        },
        {
          "output_type": "stream",
          "name": "stderr",
          "text": [
            "eval_pred: 100%|██████████| 3/3 [00:00<00:00, 232.28it/s]\n",
            "eval_rec: 100%|██████████| 610/610 [00:00<00:00, 2136.99it/s]\n"
          ]
        },
        {
          "output_type": "stream",
          "name": "stdout",
          "text": [
            "\t eval log_loss: 1.0003\n",
            "\t eval roc_auc: 0.7508\n",
            "\t eval precision@10: 0.0254\n",
            "\t eval recall@10: 0.0299\n",
            "\t eval map@10: 0.0633\n",
            "\t eval ndcg@10: 0.0953\n",
            "==============================\n"
          ]
        },
        {
          "output_type": "stream",
          "name": "stderr",
          "text": [
            "train: 100%|██████████| 2521/2521 [00:44<00:00, 56.24it/s]\n"
          ]
        },
        {
          "output_type": "stream",
          "name": "stdout",
          "text": [
            "Epoch 9 elapsed: 44.888s\n",
            "\t \u001b[32mtrain_loss: 0.1469\u001b[0m\n"
          ]
        },
        {
          "output_type": "stream",
          "name": "stderr",
          "text": [
            "eval_pred: 100%|██████████| 3/3 [00:00<00:00, 116.86it/s]\n",
            "eval_rec: 100%|██████████| 610/610 [00:00<00:00, 2217.67it/s]\n"
          ]
        },
        {
          "output_type": "stream",
          "name": "stdout",
          "text": [
            "\t eval log_loss: 0.9913\n",
            "\t eval roc_auc: 0.7390\n",
            "\t eval precision@10: 0.0252\n",
            "\t eval recall@10: 0.0277\n",
            "\t eval map@10: 0.0590\n",
            "\t eval ndcg@10: 0.0935\n",
            "==============================\n"
          ]
        },
        {
          "output_type": "stream",
          "name": "stderr",
          "text": [
            "train: 100%|██████████| 2521/2521 [00:49<00:00, 50.58it/s]\n"
          ]
        },
        {
          "output_type": "stream",
          "name": "stdout",
          "text": [
            "Epoch 10 elapsed: 49.906s\n",
            "\t \u001b[32mtrain_loss: 0.1386\u001b[0m\n"
          ]
        },
        {
          "output_type": "stream",
          "name": "stderr",
          "text": [
            "eval_pred: 100%|██████████| 3/3 [00:00<00:00, 252.86it/s]\n",
            "eval_rec: 100%|██████████| 610/610 [00:00<00:00, 2095.59it/s]\n"
          ]
        },
        {
          "output_type": "stream",
          "name": "stdout",
          "text": [
            "\t eval log_loss: 1.1775\n",
            "\t eval roc_auc: 0.7441\n",
            "\t eval precision@10: 0.0264\n",
            "\t eval recall@10: 0.0361\n",
            "\t eval map@10: 0.0625\n",
            "\t eval ndcg@10: 0.0975\n",
            "==============================\n"
          ]
        },
        {
          "output_type": "stream",
          "name": "stderr",
          "text": [
            "eval_pred: 100%|██████████| 3/3 [00:00<00:00, 239.48it/s]\n",
            "eval_rec: 100%|██████████| 608/608 [00:00<00:00, 1977.91it/s]\n"
          ]
        },
        {
          "output_type": "display_data",
          "data": {
            "text/plain": [
              "<IPython.core.display.HTML object>"
            ],
            "text/html": [
              "Waiting for W&B process to finish... <strong style=\"color:green\">(success).</strong>"
            ]
          },
          "metadata": {}
        },
        {
          "output_type": "display_data",
          "data": {
            "text/plain": [
              "VBox(children=(Label(value='0.001 MB of 0.001 MB uploaded (0.000 MB deduped)\\r'), FloatProgress(value=1.0, max…"
            ],
            "application/vnd.jupyter.widget-view+json": {
              "version_major": 2,
              "version_minor": 0,
              "model_id": "6be0fd59d9744111aa713a8fefece2a4"
            }
          },
          "metadata": {}
        },
        {
          "output_type": "display_data",
          "data": {
            "text/plain": [
              "<IPython.core.display.HTML object>"
            ],
            "text/html": [
              "<style>\n",
              "    table.wandb td:nth-child(1) { padding: 0 10px; text-align: left ; width: auto;} td:nth-child(2) {text-align: left ; width: 100%}\n",
              "    .wandb-row { display: flex; flex-direction: row; flex-wrap: wrap; justify-content: flex-start; width: 100% }\n",
              "    .wandb-col { display: flex; flex-direction: column; flex-basis: 100%; flex: 1; padding: 10px; }\n",
              "    </style>\n",
              "<div class=\"wandb-row\"><div class=\"wandb-col\"><h3>Run history:</h3><br/><table class=\"wandb\"><tr><td>epoch</td><td>▁▂▃▃▄▅▆▆▇█</td></tr><tr><td>loss</td><td>▁</td></tr><tr><td>map</td><td>▁</td></tr><tr><td>map@10</td><td>█▇█▄▆▄▁▃▁▂</td></tr><tr><td>ndcg</td><td>▁</td></tr><tr><td>ndcg@10</td><td>█▇▇▄▅▃▁▂▂▃</td></tr><tr><td>precision</td><td>▁</td></tr><tr><td>precision@10</td><td>█▆▇▄▅▃▁▃▃▄</td></tr><tr><td>recall</td><td>▁</td></tr><tr><td>recall@10</td><td>█▆▆▃▅▂▂▂▁▆</td></tr><tr><td>roc_auc</td><td>█▆▄▄▃▃▁▄▃▄▂</td></tr><tr><td>train_loss</td><td>█▆▄▃▂▂▁▁▁▁</td></tr></table><br/></div><div class=\"wandb-col\"><h3>Run summary:</h3><br/><table class=\"wandb\"><tr><td>epoch</td><td>10</td></tr><tr><td>log_loss</td><td>sklearn.metrics._cla...</td></tr><tr><td>loss</td><td>1.26558</td></tr><tr><td>map</td><td>0.04822</td></tr><tr><td>map@10</td><td>0.06249</td></tr><tr><td>ndcg</td><td>0.06995</td></tr><tr><td>ndcg@10</td><td>0.09746</td></tr><tr><td>precision</td><td>0.01678</td></tr><tr><td>precision@10</td><td>0.02639</td></tr><tr><td>recall</td><td>0.02225</td></tr><tr><td>recall@10</td><td>0.03614</td></tr><tr><td>roc_auc</td><td>0.72469</td></tr><tr><td>train_loss</td><td>0.1386</td></tr></table><br/></div></div>"
            ]
          },
          "metadata": {}
        },
        {
          "output_type": "display_data",
          "data": {
            "text/plain": [
              "<IPython.core.display.HTML object>"
            ],
            "text/html": [
              "Synced <strong style=\"color:#cdcd00\">prime-sweep-12</strong>: <a href=\"https://wandb.ai/iloncka-ds/recsys-app/runs/5cf1oyrm\" target=\"_blank\">https://wandb.ai/iloncka-ds/recsys-app/runs/5cf1oyrm</a><br/>Synced 5 W&B file(s), 0 media file(s), 0 artifact file(s) and 0 other file(s)"
            ]
          },
          "metadata": {}
        },
        {
          "output_type": "display_data",
          "data": {
            "text/plain": [
              "<IPython.core.display.HTML object>"
            ],
            "text/html": [
              "Find logs at: <code>./wandb/run-20221105_170107-5cf1oyrm/logs</code>"
            ]
          },
          "metadata": {}
        },
        {
          "output_type": "stream",
          "name": "stderr",
          "text": [
            "\u001b[34m\u001b[1mwandb\u001b[0m: Agent Starting Run: zjc0384g with config:\n",
            "\u001b[34m\u001b[1mwandb\u001b[0m: \tbatch_size: 64\n",
            "\u001b[34m\u001b[1mwandb\u001b[0m: \tembed_size: 32\n",
            "\u001b[34m\u001b[1mwandb\u001b[0m: \tlr: 0.001\n",
            "\u001b[34m\u001b[1mwandb\u001b[0m: \tn_epochs: 5\n"
          ]
        },
        {
          "output_type": "display_data",
          "data": {
            "text/plain": [
              "<IPython.core.display.HTML object>"
            ],
            "text/html": [
              "Tracking run with wandb version 0.13.5"
            ]
          },
          "metadata": {}
        },
        {
          "output_type": "display_data",
          "data": {
            "text/plain": [
              "<IPython.core.display.HTML object>"
            ],
            "text/html": [
              "Run data is saved locally in <code>/content/wandb/run-20221105_170913-zjc0384g</code>"
            ]
          },
          "metadata": {}
        },
        {
          "output_type": "display_data",
          "data": {
            "text/plain": [
              "<IPython.core.display.HTML object>"
            ],
            "text/html": [
              "Syncing run <strong><a href=\"https://wandb.ai/iloncka-ds/recsys-app/runs/zjc0384g\" target=\"_blank\">warm-sweep-13</a></strong> to <a href=\"https://wandb.ai/iloncka-ds/recsys-app\" target=\"_blank\">Weights & Biases</a> (<a href=\"https://wandb.me/run\" target=\"_blank\">docs</a>)<br/>Sweep page:  <a href=\"https://wandb.ai/iloncka-ds/recsys-app/sweeps/tw52paxu\" target=\"_blank\">https://wandb.ai/iloncka-ds/recsys-app/sweeps/tw52paxu</a>"
            ]
          },
          "metadata": {}
        },
        {
          "output_type": "stream",
          "name": "stdout",
          "text": [
            "total params: \u001b[33m406,285\u001b[0m | embedding params: \u001b[33m403,725\u001b[0m | network params: \u001b[33m2,560\u001b[0m\n",
            "Training start time: \u001b[35m2022-11-05 17:09:21\u001b[0m\n"
          ]
        },
        {
          "output_type": "stream",
          "name": "stderr",
          "text": [
            "train: 100%|██████████| 2521/2521 [00:48<00:00, 51.63it/s]\n"
          ]
        },
        {
          "output_type": "stream",
          "name": "stdout",
          "text": [
            "Epoch 1 elapsed: 48.878s\n",
            "\t \u001b[32mtrain_loss: 0.4994\u001b[0m\n"
          ]
        },
        {
          "output_type": "stream",
          "name": "stderr",
          "text": [
            "eval_pred: 100%|██████████| 3/3 [00:00<00:00, 207.55it/s]\n",
            "eval_rec: 100%|██████████| 610/610 [00:00<00:00, 1991.35it/s]\n"
          ]
        },
        {
          "output_type": "stream",
          "name": "stdout",
          "text": [
            "\t eval log_loss: 0.5359\n",
            "\t eval roc_auc: 0.8115\n",
            "\t eval precision@10: 0.0311\n",
            "\t eval recall@10: 0.0303\n",
            "\t eval map@10: 0.0680\n",
            "\t eval ndcg@10: 0.1049\n",
            "==============================\n"
          ]
        },
        {
          "output_type": "stream",
          "name": "stderr",
          "text": [
            "train: 100%|██████████| 2521/2521 [00:45<00:00, 54.97it/s]\n"
          ]
        },
        {
          "output_type": "stream",
          "name": "stdout",
          "text": [
            "Epoch 2 elapsed: 45.922s\n",
            "\t \u001b[32mtrain_loss: 0.4084\u001b[0m\n"
          ]
        },
        {
          "output_type": "stream",
          "name": "stderr",
          "text": [
            "eval_pred: 100%|██████████| 3/3 [00:00<00:00, 208.03it/s]\n",
            "eval_rec: 100%|██████████| 610/610 [00:00<00:00, 2133.61it/s]\n"
          ]
        },
        {
          "output_type": "stream",
          "name": "stdout",
          "text": [
            "\t eval log_loss: 0.5606\n",
            "\t eval roc_auc: 0.8055\n",
            "\t eval precision@10: 0.0298\n",
            "\t eval recall@10: 0.0305\n",
            "\t eval map@10: 0.0746\n",
            "\t eval ndcg@10: 0.1097\n",
            "==============================\n"
          ]
        },
        {
          "output_type": "stream",
          "name": "stderr",
          "text": [
            "train: 100%|██████████| 2521/2521 [00:56<00:00, 44.85it/s]\n"
          ]
        },
        {
          "output_type": "stream",
          "name": "stdout",
          "text": [
            "Epoch 3 elapsed: 56.259s\n",
            "\t \u001b[32mtrain_loss: 0.366\u001b[0m\n"
          ]
        },
        {
          "output_type": "stream",
          "name": "stderr",
          "text": [
            "eval_pred: 100%|██████████| 3/3 [00:00<00:00, 260.22it/s]\n",
            "eval_rec: 100%|██████████| 610/610 [00:00<00:00, 2290.88it/s]\n"
          ]
        },
        {
          "output_type": "stream",
          "name": "stdout",
          "text": [
            "\t eval log_loss: 0.5906\n",
            "\t eval roc_auc: 0.7983\n",
            "\t eval precision@10: 0.0307\n",
            "\t eval recall@10: 0.0323\n",
            "\t eval map@10: 0.0770\n",
            "\t eval ndcg@10: 0.1123\n",
            "==============================\n"
          ]
        },
        {
          "output_type": "stream",
          "name": "stderr",
          "text": [
            "train: 100%|██████████| 2521/2521 [00:44<00:00, 56.75it/s]\n"
          ]
        },
        {
          "output_type": "stream",
          "name": "stdout",
          "text": [
            "Epoch 4 elapsed: 44.486s\n",
            "\t \u001b[32mtrain_loss: 0.3255\u001b[0m\n"
          ]
        },
        {
          "output_type": "stream",
          "name": "stderr",
          "text": [
            "eval_pred: 100%|██████████| 3/3 [00:00<00:00, 181.64it/s]\n",
            "eval_rec: 100%|██████████| 610/610 [00:00<00:00, 1977.83it/s]\n"
          ]
        },
        {
          "output_type": "stream",
          "name": "stdout",
          "text": [
            "\t eval log_loss: 0.6333\n",
            "\t eval roc_auc: 0.7929\n",
            "\t eval precision@10: 0.0298\n",
            "\t eval recall@10: 0.0284\n",
            "\t eval map@10: 0.0690\n",
            "\t eval ndcg@10: 0.1033\n",
            "==============================\n"
          ]
        },
        {
          "output_type": "stream",
          "name": "stderr",
          "text": [
            "train: 100%|██████████| 2521/2521 [00:49<00:00, 50.80it/s]\n"
          ]
        },
        {
          "output_type": "stream",
          "name": "stdout",
          "text": [
            "Epoch 5 elapsed: 49.681s\n",
            "\t \u001b[32mtrain_loss: 0.2714\u001b[0m\n"
          ]
        },
        {
          "output_type": "stream",
          "name": "stderr",
          "text": [
            "eval_pred: 100%|██████████| 3/3 [00:00<00:00, 219.36it/s]\n",
            "eval_rec: 100%|██████████| 610/610 [00:00<00:00, 2088.31it/s]\n"
          ]
        },
        {
          "output_type": "stream",
          "name": "stdout",
          "text": [
            "\t eval log_loss: 0.7195\n",
            "\t eval roc_auc: 0.7781\n",
            "\t eval precision@10: 0.0267\n",
            "\t eval recall@10: 0.0325\n",
            "\t eval map@10: 0.0703\n",
            "\t eval ndcg@10: 0.1032\n",
            "==============================\n"
          ]
        },
        {
          "output_type": "stream",
          "name": "stderr",
          "text": [
            "eval_pred: 100%|██████████| 3/3 [00:00<00:00, 152.78it/s]\n",
            "eval_rec: 100%|██████████| 608/608 [00:00<00:00, 2010.40it/s]\n"
          ]
        },
        {
          "output_type": "display_data",
          "data": {
            "text/plain": [
              "<IPython.core.display.HTML object>"
            ],
            "text/html": [
              "Waiting for W&B process to finish... <strong style=\"color:green\">(success).</strong>"
            ]
          },
          "metadata": {}
        },
        {
          "output_type": "display_data",
          "data": {
            "text/plain": [
              "<IPython.core.display.HTML object>"
            ],
            "text/html": [
              "<style>\n",
              "    table.wandb td:nth-child(1) { padding: 0 10px; text-align: left ; width: auto;} td:nth-child(2) {text-align: left ; width: 100%}\n",
              "    .wandb-row { display: flex; flex-direction: row; flex-wrap: wrap; justify-content: flex-start; width: 100% }\n",
              "    .wandb-col { display: flex; flex-direction: column; flex-basis: 100%; flex: 1; padding: 10px; }\n",
              "    </style>\n",
              "<div class=\"wandb-row\"><div class=\"wandb-col\"><h3>Run history:</h3><br/><table class=\"wandb\"><tr><td>epoch</td><td>▁▃▅▆█</td></tr><tr><td>loss</td><td>▁</td></tr><tr><td>map</td><td>▁</td></tr><tr><td>map@10</td><td>▁▆█▂▃</td></tr><tr><td>ndcg</td><td>▁</td></tr><tr><td>ndcg@10</td><td>▂▆█▁▁</td></tr><tr><td>precision</td><td>▁</td></tr><tr><td>precision@10</td><td>█▆▇▆▁</td></tr><tr><td>recall</td><td>▁</td></tr><tr><td>recall@10</td><td>▄▅█▁█</td></tr><tr><td>roc_auc</td><td>█▇▆▆▄▁</td></tr><tr><td>train_loss</td><td>█▅▄▃▁</td></tr></table><br/></div><div class=\"wandb-col\"><h3>Run summary:</h3><br/><table class=\"wandb\"><tr><td>epoch</td><td>5</td></tr><tr><td>log_loss</td><td>sklearn.metrics._cla...</td></tr><tr><td>loss</td><td>0.77993</td></tr><tr><td>map</td><td>0.06635</td></tr><tr><td>map@10</td><td>0.0703</td></tr><tr><td>ndcg</td><td>0.09219</td></tr><tr><td>ndcg@10</td><td>0.10315</td></tr><tr><td>precision</td><td>0.02204</td></tr><tr><td>precision@10</td><td>0.02672</td></tr><tr><td>recall</td><td>0.02302</td></tr><tr><td>recall@10</td><td>0.03251</td></tr><tr><td>roc_auc</td><td>0.75515</td></tr><tr><td>train_loss</td><td>0.2714</td></tr></table><br/></div></div>"
            ]
          },
          "metadata": {}
        },
        {
          "output_type": "display_data",
          "data": {
            "text/plain": [
              "<IPython.core.display.HTML object>"
            ],
            "text/html": [
              "Synced <strong style=\"color:#cdcd00\">warm-sweep-13</strong>: <a href=\"https://wandb.ai/iloncka-ds/recsys-app/runs/zjc0384g\" target=\"_blank\">https://wandb.ai/iloncka-ds/recsys-app/runs/zjc0384g</a><br/>Synced 5 W&B file(s), 0 media file(s), 0 artifact file(s) and 0 other file(s)"
            ]
          },
          "metadata": {}
        },
        {
          "output_type": "display_data",
          "data": {
            "text/plain": [
              "<IPython.core.display.HTML object>"
            ],
            "text/html": [
              "Find logs at: <code>./wandb/run-20221105_170913-zjc0384g/logs</code>"
            ]
          },
          "metadata": {}
        },
        {
          "output_type": "stream",
          "name": "stderr",
          "text": [
            "\u001b[34m\u001b[1mwandb\u001b[0m: Agent Starting Run: ws5hh2og with config:\n",
            "\u001b[34m\u001b[1mwandb\u001b[0m: \tbatch_size: 64\n",
            "\u001b[34m\u001b[1mwandb\u001b[0m: \tembed_size: 32\n",
            "\u001b[34m\u001b[1mwandb\u001b[0m: \tlr: 0.001\n",
            "\u001b[34m\u001b[1mwandb\u001b[0m: \tn_epochs: 10\n"
          ]
        },
        {
          "output_type": "display_data",
          "data": {
            "text/plain": [
              "<IPython.core.display.HTML object>"
            ],
            "text/html": [
              "Tracking run with wandb version 0.13.5"
            ]
          },
          "metadata": {}
        },
        {
          "output_type": "display_data",
          "data": {
            "text/plain": [
              "<IPython.core.display.HTML object>"
            ],
            "text/html": [
              "Run data is saved locally in <code>/content/wandb/run-20221105_171344-ws5hh2og</code>"
            ]
          },
          "metadata": {}
        },
        {
          "output_type": "display_data",
          "data": {
            "text/plain": [
              "<IPython.core.display.HTML object>"
            ],
            "text/html": [
              "Syncing run <strong><a href=\"https://wandb.ai/iloncka-ds/recsys-app/runs/ws5hh2og\" target=\"_blank\">stilted-sweep-14</a></strong> to <a href=\"https://wandb.ai/iloncka-ds/recsys-app\" target=\"_blank\">Weights & Biases</a> (<a href=\"https://wandb.me/run\" target=\"_blank\">docs</a>)<br/>Sweep page:  <a href=\"https://wandb.ai/iloncka-ds/recsys-app/sweeps/tw52paxu\" target=\"_blank\">https://wandb.ai/iloncka-ds/recsys-app/sweeps/tw52paxu</a>"
            ]
          },
          "metadata": {}
        },
        {
          "output_type": "stream",
          "name": "stdout",
          "text": [
            "total params: \u001b[33m406,285\u001b[0m | embedding params: \u001b[33m403,725\u001b[0m | network params: \u001b[33m2,560\u001b[0m\n",
            "Training start time: \u001b[35m2022-11-05 17:13:51\u001b[0m\n"
          ]
        },
        {
          "output_type": "stream",
          "name": "stderr",
          "text": [
            "train: 100%|██████████| 2521/2521 [00:47<00:00, 53.39it/s]\n"
          ]
        },
        {
          "output_type": "stream",
          "name": "stdout",
          "text": [
            "Epoch 1 elapsed: 47.280s\n",
            "\t \u001b[32mtrain_loss: 0.4998\u001b[0m\n"
          ]
        },
        {
          "output_type": "stream",
          "name": "stderr",
          "text": [
            "eval_pred: 100%|██████████| 3/3 [00:00<00:00, 239.17it/s]\n",
            "eval_rec: 100%|██████████| 610/610 [00:00<00:00, 2103.87it/s]\n"
          ]
        },
        {
          "output_type": "stream",
          "name": "stdout",
          "text": [
            "\t eval log_loss: 0.5328\n",
            "\t eval roc_auc: 0.8126\n",
            "\t eval precision@10: 0.0298\n",
            "\t eval recall@10: 0.0314\n",
            "\t eval map@10: 0.0745\n",
            "\t eval ndcg@10: 0.1087\n",
            "==============================\n"
          ]
        },
        {
          "output_type": "stream",
          "name": "stderr",
          "text": [
            "train: 100%|██████████| 2521/2521 [00:48<00:00, 52.16it/s]\n"
          ]
        },
        {
          "output_type": "stream",
          "name": "stdout",
          "text": [
            "Epoch 2 elapsed: 48.380s\n",
            "\t \u001b[32mtrain_loss: 0.4093\u001b[0m\n"
          ]
        },
        {
          "output_type": "stream",
          "name": "stderr",
          "text": [
            "eval_pred: 100%|██████████| 3/3 [00:00<00:00, 198.07it/s]\n",
            "eval_rec: 100%|██████████| 610/610 [00:00<00:00, 2142.87it/s]\n"
          ]
        },
        {
          "output_type": "stream",
          "name": "stdout",
          "text": [
            "\t eval log_loss: 0.5529\n",
            "\t eval roc_auc: 0.8088\n",
            "\t eval precision@10: 0.0297\n",
            "\t eval recall@10: 0.0321\n",
            "\t eval map@10: 0.0806\n",
            "\t eval ndcg@10: 0.1166\n",
            "==============================\n"
          ]
        },
        {
          "output_type": "stream",
          "name": "stderr",
          "text": [
            "train: 100%|██████████| 2521/2521 [00:50<00:00, 49.91it/s]\n"
          ]
        },
        {
          "output_type": "stream",
          "name": "stdout",
          "text": [
            "Epoch 3 elapsed: 50.562s\n",
            "\t \u001b[32mtrain_loss: 0.3645\u001b[0m\n"
          ]
        },
        {
          "output_type": "stream",
          "name": "stderr",
          "text": [
            "eval_pred: 100%|██████████| 3/3 [00:00<00:00, 192.68it/s]\n",
            "eval_rec: 100%|██████████| 610/610 [00:00<00:00, 2136.04it/s]\n"
          ]
        },
        {
          "output_type": "stream",
          "name": "stdout",
          "text": [
            "\t eval log_loss: 0.6024\n",
            "\t eval roc_auc: 0.7920\n",
            "\t eval precision@10: 0.0334\n",
            "\t eval recall@10: 0.0358\n",
            "\t eval map@10: 0.0770\n",
            "\t eval ndcg@10: 0.1157\n",
            "==============================\n"
          ]
        },
        {
          "output_type": "stream",
          "name": "stderr",
          "text": [
            "train: 100%|██████████| 2521/2521 [00:46<00:00, 54.70it/s]\n"
          ]
        },
        {
          "output_type": "stream",
          "name": "stdout",
          "text": [
            "Epoch 4 elapsed: 46.139s\n",
            "\t \u001b[32mtrain_loss: 0.3142\u001b[0m\n"
          ]
        },
        {
          "output_type": "stream",
          "name": "stderr",
          "text": [
            "eval_pred: 100%|██████████| 3/3 [00:00<00:00, 198.43it/s]\n",
            "eval_rec: 100%|██████████| 610/610 [00:00<00:00, 1862.36it/s]\n"
          ]
        },
        {
          "output_type": "stream",
          "name": "stdout",
          "text": [
            "\t eval log_loss: 0.6671\n",
            "\t eval roc_auc: 0.7787\n",
            "\t eval precision@10: 0.0303\n",
            "\t eval recall@10: 0.0370\n",
            "\t eval map@10: 0.0707\n",
            "\t eval ndcg@10: 0.1083\n",
            "==============================\n"
          ]
        },
        {
          "output_type": "stream",
          "name": "stderr",
          "text": [
            "train: 100%|██████████| 2521/2521 [00:51<00:00, 49.08it/s]\n"
          ]
        },
        {
          "output_type": "stream",
          "name": "stdout",
          "text": [
            "Epoch 5 elapsed: 51.429s\n",
            "\t \u001b[32mtrain_loss: 0.258\u001b[0m\n"
          ]
        },
        {
          "output_type": "stream",
          "name": "stderr",
          "text": [
            "eval_pred: 100%|██████████| 3/3 [00:00<00:00, 162.11it/s]\n",
            "eval_rec: 100%|██████████| 610/610 [00:00<00:00, 1730.92it/s]\n"
          ]
        },
        {
          "output_type": "stream",
          "name": "stdout",
          "text": [
            "\t eval log_loss: 0.7320\n",
            "\t eval roc_auc: 0.7696\n",
            "\t eval precision@10: 0.0285\n",
            "\t eval recall@10: 0.0349\n",
            "\t eval map@10: 0.0697\n",
            "\t eval ndcg@10: 0.1044\n",
            "==============================\n"
          ]
        },
        {
          "output_type": "stream",
          "name": "stderr",
          "text": [
            "train: 100%|██████████| 2521/2521 [00:46<00:00, 54.15it/s]\n"
          ]
        },
        {
          "output_type": "stream",
          "name": "stdout",
          "text": [
            "Epoch 6 elapsed: 46.613s\n",
            "\t \u001b[32mtrain_loss: 0.2124\u001b[0m\n"
          ]
        },
        {
          "output_type": "stream",
          "name": "stderr",
          "text": [
            "eval_pred: 100%|██████████| 3/3 [00:00<00:00, 226.52it/s]\n",
            "eval_rec: 100%|██████████| 610/610 [00:00<00:00, 2029.15it/s]\n"
          ]
        },
        {
          "output_type": "stream",
          "name": "stdout",
          "text": [
            "\t eval log_loss: 0.7937\n",
            "\t eval roc_auc: 0.7488\n",
            "\t eval precision@10: 0.0256\n",
            "\t eval recall@10: 0.0310\n",
            "\t eval map@10: 0.0619\n",
            "\t eval ndcg@10: 0.0927\n",
            "==============================\n"
          ]
        },
        {
          "output_type": "stream",
          "name": "stderr",
          "text": [
            "train: 100%|██████████| 2521/2521 [00:46<00:00, 54.04it/s]\n"
          ]
        },
        {
          "output_type": "stream",
          "name": "stdout",
          "text": [
            "Epoch 7 elapsed: 46.701s\n",
            "\t \u001b[32mtrain_loss: 0.1775\u001b[0m\n"
          ]
        },
        {
          "output_type": "stream",
          "name": "stderr",
          "text": [
            "eval_pred: 100%|██████████| 3/3 [00:00<00:00, 300.34it/s]\n",
            "eval_rec: 100%|██████████| 610/610 [00:00<00:00, 2143.15it/s]\n"
          ]
        },
        {
          "output_type": "stream",
          "name": "stdout",
          "text": [
            "\t eval log_loss: 0.8858\n",
            "\t eval roc_auc: 0.7454\n",
            "\t eval precision@10: 0.0248\n",
            "\t eval recall@10: 0.0285\n",
            "\t eval map@10: 0.0659\n",
            "\t eval ndcg@10: 0.0957\n",
            "==============================\n"
          ]
        },
        {
          "output_type": "stream",
          "name": "stderr",
          "text": [
            "train: 100%|██████████| 2521/2521 [00:45<00:00, 56.00it/s]\n"
          ]
        },
        {
          "output_type": "stream",
          "name": "stdout",
          "text": [
            "Epoch 8 elapsed: 45.076s\n",
            "\t \u001b[32mtrain_loss: 0.154\u001b[0m\n"
          ]
        },
        {
          "output_type": "stream",
          "name": "stderr",
          "text": [
            "eval_pred: 100%|██████████| 3/3 [00:00<00:00, 185.85it/s]\n",
            "eval_rec: 100%|██████████| 610/610 [00:00<00:00, 1879.79it/s]\n"
          ]
        },
        {
          "output_type": "stream",
          "name": "stdout",
          "text": [
            "\t eval log_loss: 0.9249\n",
            "\t eval roc_auc: 0.7459\n",
            "\t eval precision@10: 0.0270\n",
            "\t eval recall@10: 0.0321\n",
            "\t eval map@10: 0.0695\n",
            "\t eval ndcg@10: 0.1032\n",
            "==============================\n"
          ]
        },
        {
          "output_type": "stream",
          "name": "stderr",
          "text": [
            "train: 100%|██████████| 2521/2521 [00:45<00:00, 55.04it/s]\n"
          ]
        },
        {
          "output_type": "stream",
          "name": "stdout",
          "text": [
            "Epoch 9 elapsed: 45.854s\n",
            "\t \u001b[32mtrain_loss: 0.1324\u001b[0m\n"
          ]
        },
        {
          "output_type": "stream",
          "name": "stderr",
          "text": [
            "eval_pred: 100%|██████████| 3/3 [00:00<00:00, 321.13it/s]\n",
            "eval_rec: 100%|██████████| 610/610 [00:00<00:00, 1751.06it/s]\n"
          ]
        },
        {
          "output_type": "stream",
          "name": "stdout",
          "text": [
            "\t eval log_loss: 0.9648\n",
            "\t eval roc_auc: 0.7440\n",
            "\t eval precision@10: 0.0264\n",
            "\t eval recall@10: 0.0302\n",
            "\t eval map@10: 0.0721\n",
            "\t eval ndcg@10: 0.1051\n",
            "==============================\n"
          ]
        },
        {
          "output_type": "stream",
          "name": "stderr",
          "text": [
            "train: 100%|██████████| 2521/2521 [00:45<00:00, 55.10it/s]\n"
          ]
        },
        {
          "output_type": "stream",
          "name": "stdout",
          "text": [
            "Epoch 10 elapsed: 45.811s\n",
            "\t \u001b[32mtrain_loss: 0.1175\u001b[0m\n"
          ]
        },
        {
          "output_type": "stream",
          "name": "stderr",
          "text": [
            "eval_pred: 100%|██████████| 3/3 [00:00<00:00, 187.96it/s]\n",
            "eval_rec: 100%|██████████| 610/610 [00:00<00:00, 1776.63it/s]\n"
          ]
        },
        {
          "output_type": "stream",
          "name": "stdout",
          "text": [
            "\t eval log_loss: 1.0058\n",
            "\t eval roc_auc: 0.7461\n",
            "\t eval precision@10: 0.0279\n",
            "\t eval recall@10: 0.0338\n",
            "\t eval map@10: 0.0699\n",
            "\t eval ndcg@10: 0.1046\n",
            "==============================\n"
          ]
        },
        {
          "output_type": "stream",
          "name": "stderr",
          "text": [
            "eval_pred: 100%|██████████| 3/3 [00:00<00:00, 197.26it/s]\n",
            "eval_rec: 100%|██████████| 608/608 [00:00<00:00, 2091.60it/s]\n"
          ]
        },
        {
          "output_type": "display_data",
          "data": {
            "text/plain": [
              "<IPython.core.display.HTML object>"
            ],
            "text/html": [
              "Waiting for W&B process to finish... <strong style=\"color:green\">(success).</strong>"
            ]
          },
          "metadata": {}
        },
        {
          "output_type": "display_data",
          "data": {
            "text/plain": [
              "<IPython.core.display.HTML object>"
            ],
            "text/html": [
              "<style>\n",
              "    table.wandb td:nth-child(1) { padding: 0 10px; text-align: left ; width: auto;} td:nth-child(2) {text-align: left ; width: 100%}\n",
              "    .wandb-row { display: flex; flex-direction: row; flex-wrap: wrap; justify-content: flex-start; width: 100% }\n",
              "    .wandb-col { display: flex; flex-direction: column; flex-basis: 100%; flex: 1; padding: 10px; }\n",
              "    </style>\n",
              "<div class=\"wandb-row\"><div class=\"wandb-col\"><h3>Run history:</h3><br/><table class=\"wandb\"><tr><td>epoch</td><td>▁▂▃▃▄▅▆▆▇█</td></tr><tr><td>loss</td><td>▁</td></tr><tr><td>map</td><td>▁</td></tr><tr><td>map@10</td><td>▆█▇▄▄▁▂▄▅▄</td></tr><tr><td>ndcg</td><td>▁</td></tr><tr><td>ndcg@10</td><td>▆██▆▄▁▂▄▅▄</td></tr><tr><td>precision</td><td>▁</td></tr><tr><td>precision@10</td><td>▅▅█▅▄▂▁▃▂▄</td></tr><tr><td>recall</td><td>▁</td></tr><tr><td>recall@10</td><td>▃▄▇█▆▃▁▄▂▅</td></tr><tr><td>roc_auc</td><td>██▆▆▅▃▃▃▃▃▁</td></tr><tr><td>train_loss</td><td>█▆▆▅▄▃▂▂▁▁</td></tr></table><br/></div><div class=\"wandb-col\"><h3>Run summary:</h3><br/><table class=\"wandb\"><tr><td>epoch</td><td>10</td></tr><tr><td>log_loss</td><td>sklearn.metrics._cla...</td></tr><tr><td>loss</td><td>1.10923</td></tr><tr><td>map</td><td>0.05545</td></tr><tr><td>map@10</td><td>0.06986</td></tr><tr><td>ndcg</td><td>0.08202</td></tr><tr><td>ndcg@10</td><td>0.10458</td></tr><tr><td>precision</td><td>0.02023</td></tr><tr><td>precision@10</td><td>0.02787</td></tr><tr><td>recall</td><td>0.02004</td></tr><tr><td>recall@10</td><td>0.03382</td></tr><tr><td>roc_auc</td><td>0.71694</td></tr><tr><td>train_loss</td><td>0.1175</td></tr></table><br/></div></div>"
            ]
          },
          "metadata": {}
        },
        {
          "output_type": "display_data",
          "data": {
            "text/plain": [
              "<IPython.core.display.HTML object>"
            ],
            "text/html": [
              "Synced <strong style=\"color:#cdcd00\">stilted-sweep-14</strong>: <a href=\"https://wandb.ai/iloncka-ds/recsys-app/runs/ws5hh2og\" target=\"_blank\">https://wandb.ai/iloncka-ds/recsys-app/runs/ws5hh2og</a><br/>Synced 5 W&B file(s), 0 media file(s), 0 artifact file(s) and 0 other file(s)"
            ]
          },
          "metadata": {}
        },
        {
          "output_type": "display_data",
          "data": {
            "text/plain": [
              "<IPython.core.display.HTML object>"
            ],
            "text/html": [
              "Find logs at: <code>./wandb/run-20221105_171344-ws5hh2og/logs</code>"
            ]
          },
          "metadata": {}
        },
        {
          "output_type": "stream",
          "name": "stderr",
          "text": [
            "\u001b[34m\u001b[1mwandb\u001b[0m: Agent Starting Run: yonecp8k with config:\n",
            "\u001b[34m\u001b[1mwandb\u001b[0m: \tbatch_size: 64\n",
            "\u001b[34m\u001b[1mwandb\u001b[0m: \tembed_size: 32\n",
            "\u001b[34m\u001b[1mwandb\u001b[0m: \tlr: 0.0001\n",
            "\u001b[34m\u001b[1mwandb\u001b[0m: \tn_epochs: 5\n"
          ]
        },
        {
          "output_type": "display_data",
          "data": {
            "text/plain": [
              "<IPython.core.display.HTML object>"
            ],
            "text/html": [
              "Tracking run with wandb version 0.13.5"
            ]
          },
          "metadata": {}
        },
        {
          "output_type": "display_data",
          "data": {
            "text/plain": [
              "<IPython.core.display.HTML object>"
            ],
            "text/html": [
              "Run data is saved locally in <code>/content/wandb/run-20221105_172205-yonecp8k</code>"
            ]
          },
          "metadata": {}
        },
        {
          "output_type": "display_data",
          "data": {
            "text/plain": [
              "<IPython.core.display.HTML object>"
            ],
            "text/html": [
              "Syncing run <strong><a href=\"https://wandb.ai/iloncka-ds/recsys-app/runs/yonecp8k\" target=\"_blank\">colorful-sweep-15</a></strong> to <a href=\"https://wandb.ai/iloncka-ds/recsys-app\" target=\"_blank\">Weights & Biases</a> (<a href=\"https://wandb.me/run\" target=\"_blank\">docs</a>)<br/>Sweep page:  <a href=\"https://wandb.ai/iloncka-ds/recsys-app/sweeps/tw52paxu\" target=\"_blank\">https://wandb.ai/iloncka-ds/recsys-app/sweeps/tw52paxu</a>"
            ]
          },
          "metadata": {}
        },
        {
          "output_type": "stream",
          "name": "stdout",
          "text": [
            "total params: \u001b[33m406,285\u001b[0m | embedding params: \u001b[33m403,725\u001b[0m | network params: \u001b[33m2,560\u001b[0m\n",
            "Training start time: \u001b[35m2022-11-05 17:22:12\u001b[0m\n"
          ]
        },
        {
          "output_type": "stream",
          "name": "stderr",
          "text": [
            "train: 100%|██████████| 2521/2521 [00:51<00:00, 49.19it/s]\n"
          ]
        },
        {
          "output_type": "stream",
          "name": "stdout",
          "text": [
            "Epoch 1 elapsed: 51.296s\n",
            "\t \u001b[32mtrain_loss: 0.5691\u001b[0m\n"
          ]
        },
        {
          "output_type": "stream",
          "name": "stderr",
          "text": [
            "eval_pred: 100%|██████████| 3/3 [00:00<00:00, 170.88it/s]\n",
            "eval_rec: 100%|██████████| 610/610 [00:00<00:00, 2260.43it/s]\n"
          ]
        },
        {
          "output_type": "stream",
          "name": "stdout",
          "text": [
            "\t eval log_loss: 0.5114\n",
            "\t eval roc_auc: 0.8305\n",
            "\t eval precision@10: 0.0370\n",
            "\t eval recall@10: 0.0367\n",
            "\t eval map@10: 0.0816\n",
            "\t eval ndcg@10: 0.1196\n",
            "==============================\n"
          ]
        },
        {
          "output_type": "stream",
          "name": "stderr",
          "text": [
            "train: 100%|██████████| 2521/2521 [00:46<00:00, 54.30it/s]\n"
          ]
        },
        {
          "output_type": "stream",
          "name": "stdout",
          "text": [
            "Epoch 2 elapsed: 46.479s\n",
            "\t \u001b[32mtrain_loss: 0.4511\u001b[0m\n"
          ]
        },
        {
          "output_type": "stream",
          "name": "stderr",
          "text": [
            "eval_pred: 100%|██████████| 3/3 [00:00<00:00, 173.40it/s]\n",
            "eval_rec: 100%|██████████| 610/610 [00:00<00:00, 2013.70it/s]\n"
          ]
        },
        {
          "output_type": "stream",
          "name": "stdout",
          "text": [
            "\t eval log_loss: 0.5013\n",
            "\t eval roc_auc: 0.8392\n",
            "\t eval precision@10: 0.0352\n",
            "\t eval recall@10: 0.0343\n",
            "\t eval map@10: 0.0745\n",
            "\t eval ndcg@10: 0.1134\n",
            "==============================\n"
          ]
        },
        {
          "output_type": "stream",
          "name": "stderr",
          "text": [
            "train: 100%|██████████| 2521/2521 [00:45<00:00, 55.17it/s]\n"
          ]
        },
        {
          "output_type": "stream",
          "name": "stdout",
          "text": [
            "Epoch 3 elapsed: 45.749s\n",
            "\t \u001b[32mtrain_loss: 0.4239\u001b[0m\n"
          ]
        },
        {
          "output_type": "stream",
          "name": "stderr",
          "text": [
            "eval_pred: 100%|██████████| 3/3 [00:00<00:00, 265.03it/s]\n",
            "eval_rec: 100%|██████████| 610/610 [00:00<00:00, 1705.60it/s]\n"
          ]
        },
        {
          "output_type": "stream",
          "name": "stdout",
          "text": [
            "\t eval log_loss: 0.5051\n",
            "\t eval roc_auc: 0.8365\n",
            "\t eval precision@10: 0.0331\n",
            "\t eval recall@10: 0.0333\n",
            "\t eval map@10: 0.0741\n",
            "\t eval ndcg@10: 0.1124\n",
            "==============================\n"
          ]
        },
        {
          "output_type": "stream",
          "name": "stderr",
          "text": [
            "train: 100%|██████████| 2521/2521 [00:44<00:00, 57.07it/s]\n"
          ]
        },
        {
          "output_type": "stream",
          "name": "stdout",
          "text": [
            "Epoch 4 elapsed: 44.230s\n",
            "\t \u001b[32mtrain_loss: 0.4104\u001b[0m\n"
          ]
        },
        {
          "output_type": "stream",
          "name": "stderr",
          "text": [
            "eval_pred: 100%|██████████| 3/3 [00:00<00:00, 201.54it/s]\n",
            "eval_rec: 100%|██████████| 610/610 [00:00<00:00, 2070.81it/s]\n"
          ]
        },
        {
          "output_type": "stream",
          "name": "stdout",
          "text": [
            "\t eval log_loss: 0.5174\n",
            "\t eval roc_auc: 0.8308\n",
            "\t eval precision@10: 0.0311\n",
            "\t eval recall@10: 0.0296\n",
            "\t eval map@10: 0.0733\n",
            "\t eval ndcg@10: 0.1085\n",
            "==============================\n"
          ]
        },
        {
          "output_type": "stream",
          "name": "stderr",
          "text": [
            "train: 100%|██████████| 2521/2521 [00:45<00:00, 55.64it/s]\n"
          ]
        },
        {
          "output_type": "stream",
          "name": "stdout",
          "text": [
            "Epoch 5 elapsed: 45.367s\n",
            "\t \u001b[32mtrain_loss: 0.4006\u001b[0m\n"
          ]
        },
        {
          "output_type": "stream",
          "name": "stderr",
          "text": [
            "eval_pred: 100%|██████████| 3/3 [00:00<00:00, 150.55it/s]\n",
            "eval_rec: 100%|██████████| 610/610 [00:00<00:00, 2088.00it/s]\n"
          ]
        },
        {
          "output_type": "stream",
          "name": "stdout",
          "text": [
            "\t eval log_loss: 0.5342\n",
            "\t eval roc_auc: 0.8243\n",
            "\t eval precision@10: 0.0292\n",
            "\t eval recall@10: 0.0289\n",
            "\t eval map@10: 0.0736\n",
            "\t eval ndcg@10: 0.1080\n",
            "==============================\n"
          ]
        },
        {
          "output_type": "stream",
          "name": "stderr",
          "text": [
            "eval_pred: 100%|██████████| 3/3 [00:00<00:00, 197.25it/s]\n",
            "eval_rec: 100%|██████████| 608/608 [00:00<00:00, 2069.96it/s]\n"
          ]
        },
        {
          "output_type": "display_data",
          "data": {
            "text/plain": [
              "<IPython.core.display.HTML object>"
            ],
            "text/html": [
              "Waiting for W&B process to finish... <strong style=\"color:green\">(success).</strong>"
            ]
          },
          "metadata": {}
        },
        {
          "output_type": "display_data",
          "data": {
            "text/plain": [
              "VBox(children=(Label(value='0.001 MB of 0.001 MB uploaded (0.000 MB deduped)\\r'), FloatProgress(value=1.0, max…"
            ],
            "application/vnd.jupyter.widget-view+json": {
              "version_major": 2,
              "version_minor": 0,
              "model_id": "cfcbdef9d0ea480cb4b96fd2d3d9643b"
            }
          },
          "metadata": {}
        },
        {
          "output_type": "display_data",
          "data": {
            "text/plain": [
              "<IPython.core.display.HTML object>"
            ],
            "text/html": [
              "<style>\n",
              "    table.wandb td:nth-child(1) { padding: 0 10px; text-align: left ; width: auto;} td:nth-child(2) {text-align: left ; width: 100%}\n",
              "    .wandb-row { display: flex; flex-direction: row; flex-wrap: wrap; justify-content: flex-start; width: 100% }\n",
              "    .wandb-col { display: flex; flex-direction: column; flex-basis: 100%; flex: 1; padding: 10px; }\n",
              "    </style>\n",
              "<div class=\"wandb-row\"><div class=\"wandb-col\"><h3>Run history:</h3><br/><table class=\"wandb\"><tr><td>epoch</td><td>▁▃▅▆█</td></tr><tr><td>loss</td><td>▁</td></tr><tr><td>map</td><td>▁</td></tr><tr><td>map@10</td><td>█▂▂▁▁</td></tr><tr><td>ndcg</td><td>▁</td></tr><tr><td>ndcg@10</td><td>█▄▄▁▁</td></tr><tr><td>precision</td><td>▁</td></tr><tr><td>precision@10</td><td>█▆▄▃▁</td></tr><tr><td>recall</td><td>▁</td></tr><tr><td>recall@10</td><td>█▆▅▂▁</td></tr><tr><td>roc_auc</td><td>▆█▇▆▅▁</td></tr><tr><td>train_loss</td><td>█▃▂▁▁</td></tr></table><br/></div><div class=\"wandb-col\"><h3>Run summary:</h3><br/><table class=\"wandb\"><tr><td>epoch</td><td>5</td></tr><tr><td>log_loss</td><td>sklearn.metrics._cla...</td></tr><tr><td>loss</td><td>0.57568</td></tr><tr><td>map</td><td>0.0621</td></tr><tr><td>map@10</td><td>0.07356</td></tr><tr><td>ndcg</td><td>0.09045</td></tr><tr><td>ndcg@10</td><td>0.10796</td></tr><tr><td>precision</td><td>0.02516</td></tr><tr><td>precision@10</td><td>0.02918</td></tr><tr><td>recall</td><td>0.02171</td></tr><tr><td>recall@10</td><td>0.02888</td></tr><tr><td>roc_auc</td><td>0.80238</td></tr><tr><td>train_loss</td><td>0.4006</td></tr></table><br/></div></div>"
            ]
          },
          "metadata": {}
        },
        {
          "output_type": "display_data",
          "data": {
            "text/plain": [
              "<IPython.core.display.HTML object>"
            ],
            "text/html": [
              "Synced <strong style=\"color:#cdcd00\">colorful-sweep-15</strong>: <a href=\"https://wandb.ai/iloncka-ds/recsys-app/runs/yonecp8k\" target=\"_blank\">https://wandb.ai/iloncka-ds/recsys-app/runs/yonecp8k</a><br/>Synced 5 W&B file(s), 0 media file(s), 0 artifact file(s) and 0 other file(s)"
            ]
          },
          "metadata": {}
        },
        {
          "output_type": "display_data",
          "data": {
            "text/plain": [
              "<IPython.core.display.HTML object>"
            ],
            "text/html": [
              "Find logs at: <code>./wandb/run-20221105_172205-yonecp8k/logs</code>"
            ]
          },
          "metadata": {}
        },
        {
          "output_type": "stream",
          "name": "stderr",
          "text": [
            "\u001b[34m\u001b[1mwandb\u001b[0m: Agent Starting Run: hkj9v673 with config:\n",
            "\u001b[34m\u001b[1mwandb\u001b[0m: \tbatch_size: 64\n",
            "\u001b[34m\u001b[1mwandb\u001b[0m: \tembed_size: 32\n",
            "\u001b[34m\u001b[1mwandb\u001b[0m: \tlr: 0.0001\n",
            "\u001b[34m\u001b[1mwandb\u001b[0m: \tn_epochs: 10\n"
          ]
        },
        {
          "output_type": "display_data",
          "data": {
            "text/plain": [
              "<IPython.core.display.HTML object>"
            ],
            "text/html": [
              "Tracking run with wandb version 0.13.5"
            ]
          },
          "metadata": {}
        },
        {
          "output_type": "display_data",
          "data": {
            "text/plain": [
              "<IPython.core.display.HTML object>"
            ],
            "text/html": [
              "Run data is saved locally in <code>/content/wandb/run-20221105_172622-hkj9v673</code>"
            ]
          },
          "metadata": {}
        },
        {
          "output_type": "display_data",
          "data": {
            "text/plain": [
              "<IPython.core.display.HTML object>"
            ],
            "text/html": [
              "Syncing run <strong><a href=\"https://wandb.ai/iloncka-ds/recsys-app/runs/hkj9v673\" target=\"_blank\">firm-sweep-16</a></strong> to <a href=\"https://wandb.ai/iloncka-ds/recsys-app\" target=\"_blank\">Weights & Biases</a> (<a href=\"https://wandb.me/run\" target=\"_blank\">docs</a>)<br/>Sweep page:  <a href=\"https://wandb.ai/iloncka-ds/recsys-app/sweeps/tw52paxu\" target=\"_blank\">https://wandb.ai/iloncka-ds/recsys-app/sweeps/tw52paxu</a>"
            ]
          },
          "metadata": {}
        },
        {
          "output_type": "stream",
          "name": "stdout",
          "text": [
            "total params: \u001b[33m406,285\u001b[0m | embedding params: \u001b[33m403,725\u001b[0m | network params: \u001b[33m2,560\u001b[0m\n",
            "Training start time: \u001b[35m2022-11-05 17:26:29\u001b[0m\n"
          ]
        },
        {
          "output_type": "stream",
          "name": "stderr",
          "text": [
            "train: 100%|██████████| 2521/2521 [00:52<00:00, 48.21it/s]\n"
          ]
        },
        {
          "output_type": "stream",
          "name": "stdout",
          "text": [
            "Epoch 1 elapsed: 52.344s\n",
            "\t \u001b[32mtrain_loss: 0.569\u001b[0m\n"
          ]
        },
        {
          "output_type": "stream",
          "name": "stderr",
          "text": [
            "eval_pred: 100%|██████████| 3/3 [00:00<00:00, 192.02it/s]\n",
            "eval_rec: 100%|██████████| 610/610 [00:00<00:00, 2240.24it/s]\n"
          ]
        },
        {
          "output_type": "stream",
          "name": "stdout",
          "text": [
            "\t eval log_loss: 0.5112\n",
            "\t eval roc_auc: 0.8310\n",
            "\t eval precision@10: 0.0374\n",
            "\t eval recall@10: 0.0368\n",
            "\t eval map@10: 0.0819\n",
            "\t eval ndcg@10: 0.1199\n",
            "==============================\n"
          ]
        },
        {
          "output_type": "stream",
          "name": "stderr",
          "text": [
            "train: 100%|██████████| 2521/2521 [00:49<00:00, 50.67it/s]\n"
          ]
        },
        {
          "output_type": "stream",
          "name": "stdout",
          "text": [
            "Epoch 2 elapsed: 49.807s\n",
            "\t \u001b[32mtrain_loss: 0.4505\u001b[0m\n"
          ]
        },
        {
          "output_type": "stream",
          "name": "stderr",
          "text": [
            "eval_pred: 100%|██████████| 3/3 [00:00<00:00, 149.59it/s]\n",
            "eval_rec: 100%|██████████| 610/610 [00:00<00:00, 1932.69it/s]\n"
          ]
        },
        {
          "output_type": "stream",
          "name": "stdout",
          "text": [
            "\t eval log_loss: 0.5004\n",
            "\t eval roc_auc: 0.8398\n",
            "\t eval precision@10: 0.0359\n",
            "\t eval recall@10: 0.0332\n",
            "\t eval map@10: 0.0747\n",
            "\t eval ndcg@10: 0.1140\n",
            "==============================\n"
          ]
        },
        {
          "output_type": "stream",
          "name": "stderr",
          "text": [
            "train: 100%|██████████| 2521/2521 [00:45<00:00, 54.86it/s]\n"
          ]
        },
        {
          "output_type": "stream",
          "name": "stdout",
          "text": [
            "Epoch 3 elapsed: 46.009s\n",
            "\t \u001b[32mtrain_loss: 0.4235\u001b[0m\n"
          ]
        },
        {
          "output_type": "stream",
          "name": "stderr",
          "text": [
            "eval_pred: 100%|██████████| 3/3 [00:00<00:00, 98.78it/s]\n",
            "eval_rec: 100%|██████████| 610/610 [00:00<00:00, 1834.68it/s]\n"
          ]
        },
        {
          "output_type": "stream",
          "name": "stdout",
          "text": [
            "\t eval log_loss: 0.5043\n",
            "\t eval roc_auc: 0.8375\n",
            "\t eval precision@10: 0.0331\n",
            "\t eval recall@10: 0.0321\n",
            "\t eval map@10: 0.0753\n",
            "\t eval ndcg@10: 0.1136\n",
            "==============================\n"
          ]
        },
        {
          "output_type": "stream",
          "name": "stderr",
          "text": [
            "train: 100%|██████████| 2521/2521 [00:45<00:00, 54.93it/s]\n"
          ]
        },
        {
          "output_type": "stream",
          "name": "stdout",
          "text": [
            "Epoch 4 elapsed: 45.950s\n",
            "\t \u001b[32mtrain_loss: 0.4103\u001b[0m\n"
          ]
        },
        {
          "output_type": "stream",
          "name": "stderr",
          "text": [
            "eval_pred: 100%|██████████| 3/3 [00:00<00:00, 166.86it/s]\n",
            "eval_rec: 100%|██████████| 610/610 [00:00<00:00, 2134.94it/s]\n"
          ]
        },
        {
          "output_type": "stream",
          "name": "stdout",
          "text": [
            "\t eval log_loss: 0.5158\n",
            "\t eval roc_auc: 0.8320\n",
            "\t eval precision@10: 0.0328\n",
            "\t eval recall@10: 0.0318\n",
            "\t eval map@10: 0.0749\n",
            "\t eval ndcg@10: 0.1132\n",
            "==============================\n"
          ]
        },
        {
          "output_type": "stream",
          "name": "stderr",
          "text": [
            "train: 100%|██████████| 2521/2521 [00:45<00:00, 54.99it/s]\n"
          ]
        },
        {
          "output_type": "stream",
          "name": "stdout",
          "text": [
            "Epoch 5 elapsed: 45.905s\n",
            "\t \u001b[32mtrain_loss: 0.401\u001b[0m\n"
          ]
        },
        {
          "output_type": "stream",
          "name": "stderr",
          "text": [
            "eval_pred: 100%|██████████| 3/3 [00:00<00:00, 150.16it/s]\n",
            "eval_rec: 100%|██████████| 610/610 [00:00<00:00, 1914.56it/s]\n"
          ]
        },
        {
          "output_type": "stream",
          "name": "stdout",
          "text": [
            "\t eval log_loss: 0.5305\n",
            "\t eval roc_auc: 0.8250\n",
            "\t eval precision@10: 0.0302\n",
            "\t eval recall@10: 0.0287\n",
            "\t eval map@10: 0.0737\n",
            "\t eval ndcg@10: 0.1083\n",
            "==============================\n"
          ]
        },
        {
          "output_type": "stream",
          "name": "stderr",
          "text": [
            "train: 100%|██████████| 2521/2521 [00:49<00:00, 51.25it/s]\n"
          ]
        },
        {
          "output_type": "stream",
          "name": "stdout",
          "text": [
            "Epoch 6 elapsed: 49.258s\n",
            "\t \u001b[32mtrain_loss: 0.394\u001b[0m\n"
          ]
        },
        {
          "output_type": "stream",
          "name": "stderr",
          "text": [
            "eval_pred: 100%|██████████| 3/3 [00:00<00:00, 125.30it/s]\n",
            "eval_rec: 100%|██████████| 610/610 [00:00<00:00, 1049.91it/s]\n"
          ]
        },
        {
          "output_type": "stream",
          "name": "stdout",
          "text": [
            "\t eval log_loss: 0.5362\n",
            "\t eval roc_auc: 0.8223\n",
            "\t eval precision@10: 0.0279\n",
            "\t eval recall@10: 0.0270\n",
            "\t eval map@10: 0.0718\n",
            "\t eval ndcg@10: 0.1047\n",
            "==============================\n"
          ]
        },
        {
          "output_type": "stream",
          "name": "stderr",
          "text": [
            "train: 100%|██████████| 2521/2521 [00:48<00:00, 52.15it/s]\n"
          ]
        },
        {
          "output_type": "stream",
          "name": "stdout",
          "text": [
            "Epoch 7 elapsed: 48.427s\n",
            "\t \u001b[32mtrain_loss: 0.389\u001b[0m\n"
          ]
        },
        {
          "output_type": "stream",
          "name": "stderr",
          "text": [
            "eval_pred: 100%|██████████| 3/3 [00:00<00:00, 224.28it/s]\n",
            "eval_rec: 100%|██████████| 610/610 [00:00<00:00, 2205.21it/s]\n"
          ]
        },
        {
          "output_type": "stream",
          "name": "stdout",
          "text": [
            "\t eval log_loss: 0.5515\n",
            "\t eval roc_auc: 0.8171\n",
            "\t eval precision@10: 0.0290\n",
            "\t eval recall@10: 0.0272\n",
            "\t eval map@10: 0.0675\n",
            "\t eval ndcg@10: 0.1027\n",
            "==============================\n"
          ]
        },
        {
          "output_type": "stream",
          "name": "stderr",
          "text": [
            "train: 100%|██████████| 2521/2521 [00:44<00:00, 56.33it/s]\n"
          ]
        },
        {
          "output_type": "stream",
          "name": "stdout",
          "text": [
            "Epoch 8 elapsed: 44.802s\n",
            "\t \u001b[32mtrain_loss: 0.3852\u001b[0m\n"
          ]
        },
        {
          "output_type": "stream",
          "name": "stderr",
          "text": [
            "eval_pred: 100%|██████████| 3/3 [00:00<00:00, 212.45it/s]\n",
            "eval_rec: 100%|██████████| 610/610 [00:00<00:00, 2048.62it/s]\n"
          ]
        },
        {
          "output_type": "stream",
          "name": "stdout",
          "text": [
            "\t eval log_loss: 0.5654\n",
            "\t eval roc_auc: 0.8121\n",
            "\t eval precision@10: 0.0290\n",
            "\t eval recall@10: 0.0277\n",
            "\t eval map@10: 0.0673\n",
            "\t eval ndcg@10: 0.1028\n",
            "==============================\n"
          ]
        },
        {
          "output_type": "stream",
          "name": "stderr",
          "text": [
            "train: 100%|██████████| 2521/2521 [00:45<00:00, 55.44it/s]\n"
          ]
        },
        {
          "output_type": "stream",
          "name": "stdout",
          "text": [
            "Epoch 9 elapsed: 45.524s\n",
            "\t \u001b[32mtrain_loss: 0.3817\u001b[0m\n"
          ]
        },
        {
          "output_type": "stream",
          "name": "stderr",
          "text": [
            "eval_pred: 100%|██████████| 3/3 [00:00<00:00, 261.62it/s]\n",
            "eval_rec: 100%|██████████| 610/610 [00:00<00:00, 1810.02it/s]\n"
          ]
        },
        {
          "output_type": "stream",
          "name": "stdout",
          "text": [
            "\t eval log_loss: 0.5682\n",
            "\t eval roc_auc: 0.8131\n",
            "\t eval precision@10: 0.0295\n",
            "\t eval recall@10: 0.0286\n",
            "\t eval map@10: 0.0677\n",
            "\t eval ndcg@10: 0.1034\n",
            "==============================\n"
          ]
        },
        {
          "output_type": "stream",
          "name": "stderr",
          "text": [
            "train: 100%|██████████| 2521/2521 [00:46<00:00, 54.25it/s]\n"
          ]
        },
        {
          "output_type": "stream",
          "name": "stdout",
          "text": [
            "Epoch 10 elapsed: 46.532s\n",
            "\t \u001b[32mtrain_loss: 0.3793\u001b[0m\n"
          ]
        },
        {
          "output_type": "stream",
          "name": "stderr",
          "text": [
            "eval_pred: 100%|██████████| 3/3 [00:00<00:00, 212.66it/s]\n",
            "eval_rec: 100%|██████████| 610/610 [00:00<00:00, 1692.80it/s]\n"
          ]
        },
        {
          "output_type": "stream",
          "name": "stdout",
          "text": [
            "\t eval log_loss: 0.5838\n",
            "\t eval roc_auc: 0.8084\n",
            "\t eval precision@10: 0.0289\n",
            "\t eval recall@10: 0.0278\n",
            "\t eval map@10: 0.0683\n",
            "\t eval ndcg@10: 0.1033\n",
            "==============================\n"
          ]
        },
        {
          "output_type": "stream",
          "name": "stderr",
          "text": [
            "eval_pred: 100%|██████████| 3/3 [00:00<00:00, 339.67it/s]\n",
            "eval_rec: 100%|██████████| 608/608 [00:00<00:00, 2169.16it/s]\n"
          ]
        },
        {
          "output_type": "display_data",
          "data": {
            "text/plain": [
              "<IPython.core.display.HTML object>"
            ],
            "text/html": [
              "Waiting for W&B process to finish... <strong style=\"color:green\">(success).</strong>"
            ]
          },
          "metadata": {}
        },
        {
          "output_type": "display_data",
          "data": {
            "text/plain": [
              "VBox(children=(Label(value='0.001 MB of 0.001 MB uploaded (0.000 MB deduped)\\r'), FloatProgress(value=1.0, max…"
            ],
            "application/vnd.jupyter.widget-view+json": {
              "version_major": 2,
              "version_minor": 0,
              "model_id": "e102c3a7908b4773918fc14aeb647bfc"
            }
          },
          "metadata": {}
        },
        {
          "output_type": "display_data",
          "data": {
            "text/plain": [
              "<IPython.core.display.HTML object>"
            ],
            "text/html": [
              "<style>\n",
              "    table.wandb td:nth-child(1) { padding: 0 10px; text-align: left ; width: auto;} td:nth-child(2) {text-align: left ; width: 100%}\n",
              "    .wandb-row { display: flex; flex-direction: row; flex-wrap: wrap; justify-content: flex-start; width: 100% }\n",
              "    .wandb-col { display: flex; flex-direction: column; flex-basis: 100%; flex: 1; padding: 10px; }\n",
              "    </style>\n",
              "<div class=\"wandb-row\"><div class=\"wandb-col\"><h3>Run history:</h3><br/><table class=\"wandb\"><tr><td>epoch</td><td>▁▂▃▃▄▅▆▆▇█</td></tr><tr><td>loss</td><td>▁</td></tr><tr><td>map</td><td>▁</td></tr><tr><td>map@10</td><td>█▅▅▅▄▃▁▁▁▁</td></tr><tr><td>ndcg</td><td>▁</td></tr><tr><td>ndcg@10</td><td>█▆▅▅▃▂▁▁▁▁</td></tr><tr><td>precision</td><td>▁</td></tr><tr><td>precision@10</td><td>█▇▅▅▃▁▂▂▂▂</td></tr><tr><td>recall</td><td>▁</td></tr><tr><td>recall@10</td><td>█▅▅▄▂▁▁▂▂▂</td></tr><tr><td>roc_auc</td><td>▇██▇▆▆▅▄▄▄▁</td></tr><tr><td>train_loss</td><td>█▄▃▂▂▂▁▁▁▁</td></tr></table><br/></div><div class=\"wandb-col\"><h3>Run summary:</h3><br/><table class=\"wandb\"><tr><td>epoch</td><td>10</td></tr><tr><td>log_loss</td><td>sklearn.metrics._cla...</td></tr><tr><td>loss</td><td>0.63577</td></tr><tr><td>map</td><td>0.06521</td></tr><tr><td>map@10</td><td>0.06829</td></tr><tr><td>ndcg</td><td>0.09386</td></tr><tr><td>ndcg@10</td><td>0.1033</td></tr><tr><td>precision</td><td>0.02484</td></tr><tr><td>precision@10</td><td>0.02885</td></tr><tr><td>recall</td><td>0.02237</td></tr><tr><td>recall@10</td><td>0.0278</td></tr><tr><td>roc_auc</td><td>0.78749</td></tr><tr><td>train_loss</td><td>0.3793</td></tr></table><br/></div></div>"
            ]
          },
          "metadata": {}
        },
        {
          "output_type": "display_data",
          "data": {
            "text/plain": [
              "<IPython.core.display.HTML object>"
            ],
            "text/html": [
              "Synced <strong style=\"color:#cdcd00\">firm-sweep-16</strong>: <a href=\"https://wandb.ai/iloncka-ds/recsys-app/runs/hkj9v673\" target=\"_blank\">https://wandb.ai/iloncka-ds/recsys-app/runs/hkj9v673</a><br/>Synced 5 W&B file(s), 0 media file(s), 0 artifact file(s) and 0 other file(s)"
            ]
          },
          "metadata": {}
        },
        {
          "output_type": "display_data",
          "data": {
            "text/plain": [
              "<IPython.core.display.HTML object>"
            ],
            "text/html": [
              "Find logs at: <code>./wandb/run-20221105_172622-hkj9v673/logs</code>"
            ]
          },
          "metadata": {}
        },
        {
          "output_type": "stream",
          "name": "stderr",
          "text": [
            "\u001b[34m\u001b[1mwandb\u001b[0m: Agent Starting Run: v0qsncc2 with config:\n",
            "\u001b[34m\u001b[1mwandb\u001b[0m: \tbatch_size: 128\n",
            "\u001b[34m\u001b[1mwandb\u001b[0m: \tembed_size: 16\n",
            "\u001b[34m\u001b[1mwandb\u001b[0m: \tlr: 0.1\n",
            "\u001b[34m\u001b[1mwandb\u001b[0m: \tn_epochs: 5\n"
          ]
        },
        {
          "output_type": "display_data",
          "data": {
            "text/plain": [
              "<IPython.core.display.HTML object>"
            ],
            "text/html": [
              "Tracking run with wandb version 0.13.5"
            ]
          },
          "metadata": {}
        },
        {
          "output_type": "display_data",
          "data": {
            "text/plain": [
              "<IPython.core.display.HTML object>"
            ],
            "text/html": [
              "Run data is saved locally in <code>/content/wandb/run-20221105_173443-v0qsncc2</code>"
            ]
          },
          "metadata": {}
        },
        {
          "output_type": "display_data",
          "data": {
            "text/plain": [
              "<IPython.core.display.HTML object>"
            ],
            "text/html": [
              "Syncing run <strong><a href=\"https://wandb.ai/iloncka-ds/recsys-app/runs/v0qsncc2\" target=\"_blank\">sweepy-sweep-17</a></strong> to <a href=\"https://wandb.ai/iloncka-ds/recsys-app\" target=\"_blank\">Weights & Biases</a> (<a href=\"https://wandb.me/run\" target=\"_blank\">docs</a>)<br/>Sweep page:  <a href=\"https://wandb.ai/iloncka-ds/recsys-app/sweeps/tw52paxu\" target=\"_blank\">https://wandb.ai/iloncka-ds/recsys-app/sweeps/tw52paxu</a>"
            ]
          },
          "metadata": {}
        },
        {
          "output_type": "stream",
          "name": "stdout",
          "text": [
            "total params: \u001b[33m274,221\u001b[0m | embedding params: \u001b[33m271,917\u001b[0m | network params: \u001b[33m2,304\u001b[0m\n",
            "Training start time: \u001b[35m2022-11-05 17:34:50\u001b[0m\n"
          ]
        },
        {
          "output_type": "stream",
          "name": "stderr",
          "text": [
            "train: 100%|██████████| 1261/1261 [00:25<00:00, 49.64it/s]\n"
          ]
        },
        {
          "output_type": "stream",
          "name": "stdout",
          "text": [
            "Epoch 1 elapsed: 25.460s\n",
            "\t \u001b[32mtrain_loss: 0.5958\u001b[0m\n"
          ]
        },
        {
          "output_type": "stream",
          "name": "stderr",
          "text": [
            "eval_pred: 100%|██████████| 3/3 [00:00<00:00, 164.41it/s]\n",
            "eval_rec: 100%|██████████| 610/610 [00:00<00:00, 2282.30it/s]\n"
          ]
        },
        {
          "output_type": "stream",
          "name": "stdout",
          "text": [
            "\t eval log_loss: 0.6242\n",
            "\t eval roc_auc: 0.8037\n",
            "\t eval precision@10: 0.0318\n",
            "\t eval recall@10: 0.0341\n",
            "\t eval map@10: 0.0712\n",
            "\t eval ndcg@10: 0.1096\n",
            "==============================\n"
          ]
        },
        {
          "output_type": "stream",
          "name": "stderr",
          "text": [
            "train: 100%|██████████| 1261/1261 [00:25<00:00, 48.92it/s]\n"
          ]
        },
        {
          "output_type": "stream",
          "name": "stdout",
          "text": [
            "Epoch 2 elapsed: 25.832s\n",
            "\t \u001b[32mtrain_loss: 0.6028\u001b[0m\n"
          ]
        },
        {
          "output_type": "stream",
          "name": "stderr",
          "text": [
            "eval_pred: 100%|██████████| 3/3 [00:00<00:00, 223.27it/s]\n",
            "eval_rec: 100%|██████████| 610/610 [00:00<00:00, 2221.65it/s]\n"
          ]
        },
        {
          "output_type": "stream",
          "name": "stdout",
          "text": [
            "\t eval log_loss: 0.6434\n",
            "\t eval roc_auc: 0.7940\n",
            "\t eval precision@10: 0.0241\n",
            "\t eval recall@10: 0.0235\n",
            "\t eval map@10: 0.0593\n",
            "\t eval ndcg@10: 0.0894\n",
            "==============================\n"
          ]
        },
        {
          "output_type": "stream",
          "name": "stderr",
          "text": [
            "train: 100%|██████████| 1261/1261 [00:31<00:00, 40.32it/s]\n"
          ]
        },
        {
          "output_type": "stream",
          "name": "stdout",
          "text": [
            "Epoch 3 elapsed: 31.338s\n",
            "\t \u001b[32mtrain_loss: 0.6515\u001b[0m\n"
          ]
        },
        {
          "output_type": "stream",
          "name": "stderr",
          "text": [
            "eval_pred: 100%|██████████| 3/3 [00:00<00:00, 247.86it/s]\n",
            "eval_rec: 100%|██████████| 610/610 [00:00<00:00, 2036.24it/s]\n"
          ]
        },
        {
          "output_type": "stream",
          "name": "stdout",
          "text": [
            "\t eval log_loss: 0.7085\n",
            "\t eval roc_auc: 0.7815\n",
            "\t eval precision@10: 0.0220\n",
            "\t eval recall@10: 0.0216\n",
            "\t eval map@10: 0.0547\n",
            "\t eval ndcg@10: 0.0806\n",
            "==============================\n"
          ]
        },
        {
          "output_type": "stream",
          "name": "stderr",
          "text": [
            "train: 100%|██████████| 1261/1261 [00:25<00:00, 50.42it/s]\n"
          ]
        },
        {
          "output_type": "stream",
          "name": "stdout",
          "text": [
            "Epoch 4 elapsed: 25.063s\n",
            "\t \u001b[32mtrain_loss: 0.6506\u001b[0m\n"
          ]
        },
        {
          "output_type": "stream",
          "name": "stderr",
          "text": [
            "eval_pred: 100%|██████████| 3/3 [00:00<00:00, 178.98it/s]\n",
            "eval_rec: 100%|██████████| 610/610 [00:00<00:00, 2067.51it/s]\n"
          ]
        },
        {
          "output_type": "stream",
          "name": "stdout",
          "text": [
            "\t eval log_loss: 0.6373\n",
            "\t eval roc_auc: 0.8038\n",
            "\t eval precision@10: 0.0292\n",
            "\t eval recall@10: 0.0270\n",
            "\t eval map@10: 0.0696\n",
            "\t eval ndcg@10: 0.1045\n",
            "==============================\n"
          ]
        },
        {
          "output_type": "stream",
          "name": "stderr",
          "text": [
            "train: 100%|██████████| 1261/1261 [00:25<00:00, 49.99it/s]\n"
          ]
        },
        {
          "output_type": "stream",
          "name": "stdout",
          "text": [
            "Epoch 5 elapsed: 25.282s\n",
            "\t \u001b[32mtrain_loss: 0.6345\u001b[0m\n"
          ]
        },
        {
          "output_type": "stream",
          "name": "stderr",
          "text": [
            "eval_pred: 100%|██████████| 3/3 [00:00<00:00, 199.44it/s]\n",
            "eval_rec: 100%|██████████| 610/610 [00:00<00:00, 1864.94it/s]\n"
          ]
        },
        {
          "output_type": "stream",
          "name": "stdout",
          "text": [
            "\t eval log_loss: 0.6688\n",
            "\t eval roc_auc: 0.7898\n",
            "\t eval precision@10: 0.0203\n",
            "\t eval recall@10: 0.0184\n",
            "\t eval map@10: 0.0569\n",
            "\t eval ndcg@10: 0.0815\n",
            "==============================\n"
          ]
        },
        {
          "output_type": "stream",
          "name": "stderr",
          "text": [
            "eval_pred: 100%|██████████| 3/3 [00:00<00:00, 224.97it/s]\n",
            "eval_rec: 100%|██████████| 608/608 [00:00<00:00, 2030.96it/s]\n"
          ]
        },
        {
          "output_type": "display_data",
          "data": {
            "text/plain": [
              "<IPython.core.display.HTML object>"
            ],
            "text/html": [
              "Waiting for W&B process to finish... <strong style=\"color:green\">(success).</strong>"
            ]
          },
          "metadata": {}
        },
        {
          "output_type": "display_data",
          "data": {
            "text/plain": [
              "VBox(children=(Label(value='0.001 MB of 0.001 MB uploaded (0.000 MB deduped)\\r'), FloatProgress(value=1.0, max…"
            ],
            "application/vnd.jupyter.widget-view+json": {
              "version_major": 2,
              "version_minor": 0,
              "model_id": "701c5dd73ed844e8895d749977570906"
            }
          },
          "metadata": {}
        },
        {
          "output_type": "display_data",
          "data": {
            "text/plain": [
              "<IPython.core.display.HTML object>"
            ],
            "text/html": [
              "<style>\n",
              "    table.wandb td:nth-child(1) { padding: 0 10px; text-align: left ; width: auto;} td:nth-child(2) {text-align: left ; width: 100%}\n",
              "    .wandb-row { display: flex; flex-direction: row; flex-wrap: wrap; justify-content: flex-start; width: 100% }\n",
              "    .wandb-col { display: flex; flex-direction: column; flex-basis: 100%; flex: 1; padding: 10px; }\n",
              "    </style>\n",
              "<div class=\"wandb-row\"><div class=\"wandb-col\"><h3>Run history:</h3><br/><table class=\"wandb\"><tr><td>epoch</td><td>▁▃▅▆█</td></tr><tr><td>loss</td><td>▁</td></tr><tr><td>map</td><td>▁</td></tr><tr><td>map@10</td><td>█▃▁▇▂</td></tr><tr><td>ndcg</td><td>▁</td></tr><tr><td>ndcg@10</td><td>█▃▁▇▁</td></tr><tr><td>precision</td><td>▁</td></tr><tr><td>precision@10</td><td>█▃▂▆▁</td></tr><tr><td>recall</td><td>▁</td></tr><tr><td>recall@10</td><td>█▃▂▅▁</td></tr><tr><td>roc_auc</td><td>█▆▃█▅▁</td></tr><tr><td>train_loss</td><td>▁▂██▆</td></tr></table><br/></div><div class=\"wandb-col\"><h3>Run summary:</h3><br/><table class=\"wandb\"><tr><td>epoch</td><td>5</td></tr><tr><td>log_loss</td><td>sklearn.metrics._cla...</td></tr><tr><td>loss</td><td>0.70744</td></tr><tr><td>map</td><td>0.052</td></tr><tr><td>map@10</td><td>0.05692</td></tr><tr><td>ndcg</td><td>0.07491</td></tr><tr><td>ndcg@10</td><td>0.08152</td></tr><tr><td>precision</td><td>0.01793</td></tr><tr><td>precision@10</td><td>0.02033</td></tr><tr><td>recall</td><td>0.01323</td></tr><tr><td>recall@10</td><td>0.0184</td></tr><tr><td>roc_auc</td><td>0.77444</td></tr><tr><td>train_loss</td><td>0.6345</td></tr></table><br/></div></div>"
            ]
          },
          "metadata": {}
        },
        {
          "output_type": "display_data",
          "data": {
            "text/plain": [
              "<IPython.core.display.HTML object>"
            ],
            "text/html": [
              "Synced <strong style=\"color:#cdcd00\">sweepy-sweep-17</strong>: <a href=\"https://wandb.ai/iloncka-ds/recsys-app/runs/v0qsncc2\" target=\"_blank\">https://wandb.ai/iloncka-ds/recsys-app/runs/v0qsncc2</a><br/>Synced 5 W&B file(s), 0 media file(s), 0 artifact file(s) and 0 other file(s)"
            ]
          },
          "metadata": {}
        },
        {
          "output_type": "display_data",
          "data": {
            "text/plain": [
              "<IPython.core.display.HTML object>"
            ],
            "text/html": [
              "Find logs at: <code>./wandb/run-20221105_173443-v0qsncc2/logs</code>"
            ]
          },
          "metadata": {}
        },
        {
          "output_type": "stream",
          "name": "stderr",
          "text": [
            "\u001b[34m\u001b[1mwandb\u001b[0m: Agent Starting Run: zunz4xuw with config:\n",
            "\u001b[34m\u001b[1mwandb\u001b[0m: \tbatch_size: 128\n",
            "\u001b[34m\u001b[1mwandb\u001b[0m: \tembed_size: 16\n",
            "\u001b[34m\u001b[1mwandb\u001b[0m: \tlr: 0.1\n",
            "\u001b[34m\u001b[1mwandb\u001b[0m: \tn_epochs: 10\n"
          ]
        },
        {
          "output_type": "display_data",
          "data": {
            "text/plain": [
              "<IPython.core.display.HTML object>"
            ],
            "text/html": [
              "Tracking run with wandb version 0.13.5"
            ]
          },
          "metadata": {}
        },
        {
          "output_type": "display_data",
          "data": {
            "text/plain": [
              "<IPython.core.display.HTML object>"
            ],
            "text/html": [
              "Run data is saved locally in <code>/content/wandb/run-20221105_173721-zunz4xuw</code>"
            ]
          },
          "metadata": {}
        },
        {
          "output_type": "display_data",
          "data": {
            "text/plain": [
              "<IPython.core.display.HTML object>"
            ],
            "text/html": [
              "Syncing run <strong><a href=\"https://wandb.ai/iloncka-ds/recsys-app/runs/zunz4xuw\" target=\"_blank\">balmy-sweep-18</a></strong> to <a href=\"https://wandb.ai/iloncka-ds/recsys-app\" target=\"_blank\">Weights & Biases</a> (<a href=\"https://wandb.me/run\" target=\"_blank\">docs</a>)<br/>Sweep page:  <a href=\"https://wandb.ai/iloncka-ds/recsys-app/sweeps/tw52paxu\" target=\"_blank\">https://wandb.ai/iloncka-ds/recsys-app/sweeps/tw52paxu</a>"
            ]
          },
          "metadata": {}
        },
        {
          "output_type": "stream",
          "name": "stdout",
          "text": [
            "total params: \u001b[33m274,221\u001b[0m | embedding params: \u001b[33m271,917\u001b[0m | network params: \u001b[33m2,304\u001b[0m\n",
            "Training start time: \u001b[35m2022-11-05 17:37:29\u001b[0m\n"
          ]
        },
        {
          "output_type": "stream",
          "name": "stderr",
          "text": [
            "train: 100%|██████████| 1261/1261 [00:25<00:00, 48.51it/s]\n"
          ]
        },
        {
          "output_type": "stream",
          "name": "stdout",
          "text": [
            "Epoch 1 elapsed: 26.056s\n",
            "\t \u001b[32mtrain_loss: 0.6014\u001b[0m\n"
          ]
        },
        {
          "output_type": "stream",
          "name": "stderr",
          "text": [
            "eval_pred: 100%|██████████| 3/3 [00:00<00:00, 202.40it/s]\n",
            "eval_rec: 100%|██████████| 610/610 [00:00<00:00, 2211.79it/s]\n"
          ]
        },
        {
          "output_type": "stream",
          "name": "stdout",
          "text": [
            "\t eval log_loss: 0.6194\n",
            "\t eval roc_auc: 0.8022\n",
            "\t eval precision@10: 0.0293\n",
            "\t eval recall@10: 0.0328\n",
            "\t eval map@10: 0.0776\n",
            "\t eval ndcg@10: 0.1134\n",
            "==============================\n"
          ]
        },
        {
          "output_type": "stream",
          "name": "stderr",
          "text": [
            "train: 100%|██████████| 1261/1261 [00:26<00:00, 47.90it/s]\n"
          ]
        },
        {
          "output_type": "stream",
          "name": "stdout",
          "text": [
            "Epoch 2 elapsed: 26.379s\n",
            "\t \u001b[32mtrain_loss: 0.612\u001b[0m\n"
          ]
        },
        {
          "output_type": "stream",
          "name": "stderr",
          "text": [
            "eval_pred: 100%|██████████| 3/3 [00:00<00:00, 223.18it/s]\n",
            "eval_rec: 100%|██████████| 610/610 [00:00<00:00, 2124.68it/s]\n"
          ]
        },
        {
          "output_type": "stream",
          "name": "stdout",
          "text": [
            "\t eval log_loss: 0.6728\n",
            "\t eval roc_auc: 0.7840\n",
            "\t eval precision@10: 0.0213\n",
            "\t eval recall@10: 0.0235\n",
            "\t eval map@10: 0.0634\n",
            "\t eval ndcg@10: 0.0903\n",
            "==============================\n"
          ]
        },
        {
          "output_type": "stream",
          "name": "stderr",
          "text": [
            "train: 100%|██████████| 1261/1261 [00:26<00:00, 48.22it/s]\n"
          ]
        },
        {
          "output_type": "stream",
          "name": "stdout",
          "text": [
            "Epoch 3 elapsed: 26.210s\n",
            "\t \u001b[32mtrain_loss: 0.6373\u001b[0m\n"
          ]
        },
        {
          "output_type": "stream",
          "name": "stderr",
          "text": [
            "eval_pred: 100%|██████████| 3/3 [00:00<00:00, 235.82it/s]\n",
            "eval_rec: 100%|██████████| 610/610 [00:00<00:00, 2016.62it/s]\n"
          ]
        },
        {
          "output_type": "stream",
          "name": "stdout",
          "text": [
            "\t eval log_loss: 0.6406\n",
            "\t eval roc_auc: 0.7978\n",
            "\t eval precision@10: 0.0275\n",
            "\t eval recall@10: 0.0263\n",
            "\t eval map@10: 0.0590\n",
            "\t eval ndcg@10: 0.0938\n",
            "==============================\n"
          ]
        },
        {
          "output_type": "stream",
          "name": "stderr",
          "text": [
            "train: 100%|██████████| 1261/1261 [00:26<00:00, 48.22it/s]\n"
          ]
        },
        {
          "output_type": "stream",
          "name": "stdout",
          "text": [
            "Epoch 4 elapsed: 26.200s\n",
            "\t \u001b[32mtrain_loss: 0.6705\u001b[0m\n"
          ]
        },
        {
          "output_type": "stream",
          "name": "stderr",
          "text": [
            "eval_pred: 100%|██████████| 3/3 [00:00<00:00, 236.73it/s]\n",
            "eval_rec: 100%|██████████| 610/610 [00:00<00:00, 2050.13it/s]\n"
          ]
        },
        {
          "output_type": "stream",
          "name": "stdout",
          "text": [
            "\t eval log_loss: 0.6463\n",
            "\t eval roc_auc: 0.8021\n",
            "\t eval precision@10: 0.0279\n",
            "\t eval recall@10: 0.0277\n",
            "\t eval map@10: 0.0705\n",
            "\t eval ndcg@10: 0.1036\n",
            "==============================\n"
          ]
        },
        {
          "output_type": "stream",
          "name": "stderr",
          "text": [
            "train: 100%|██████████| 1261/1261 [00:26<00:00, 47.72it/s]\n"
          ]
        },
        {
          "output_type": "stream",
          "name": "stdout",
          "text": [
            "Epoch 5 elapsed: 26.490s\n",
            "\t \u001b[32mtrain_loss: 0.6588\u001b[0m\n"
          ]
        },
        {
          "output_type": "stream",
          "name": "stderr",
          "text": [
            "eval_pred: 100%|██████████| 3/3 [00:00<00:00, 236.68it/s]\n",
            "eval_rec: 100%|██████████| 610/610 [00:00<00:00, 1939.57it/s]\n"
          ]
        },
        {
          "output_type": "stream",
          "name": "stdout",
          "text": [
            "\t eval log_loss: 0.6559\n",
            "\t eval roc_auc: 0.7983\n",
            "\t eval precision@10: 0.0274\n",
            "\t eval recall@10: 0.0278\n",
            "\t eval map@10: 0.0638\n",
            "\t eval ndcg@10: 0.0989\n",
            "==============================\n"
          ]
        },
        {
          "output_type": "stream",
          "name": "stderr",
          "text": [
            "train: 100%|██████████| 1261/1261 [00:26<00:00, 48.26it/s]\n"
          ]
        },
        {
          "output_type": "stream",
          "name": "stdout",
          "text": [
            "Epoch 6 elapsed: 26.179s\n",
            "\t \u001b[32mtrain_loss: 0.6541\u001b[0m\n"
          ]
        },
        {
          "output_type": "stream",
          "name": "stderr",
          "text": [
            "eval_pred: 100%|██████████| 3/3 [00:00<00:00, 271.41it/s]\n",
            "eval_rec: 100%|██████████| 610/610 [00:00<00:00, 2134.26it/s]\n"
          ]
        },
        {
          "output_type": "stream",
          "name": "stdout",
          "text": [
            "\t eval log_loss: 0.6529\n",
            "\t eval roc_auc: 0.7973\n",
            "\t eval precision@10: 0.0231\n",
            "\t eval recall@10: 0.0229\n",
            "\t eval map@10: 0.0561\n",
            "\t eval ndcg@10: 0.0857\n",
            "==============================\n"
          ]
        },
        {
          "output_type": "stream",
          "name": "stderr",
          "text": [
            "train: 100%|██████████| 1261/1261 [00:28<00:00, 44.48it/s]\n"
          ]
        },
        {
          "output_type": "stream",
          "name": "stdout",
          "text": [
            "Epoch 7 elapsed: 28.409s\n",
            "\t \u001b[32mtrain_loss: 0.6398\u001b[0m\n"
          ]
        },
        {
          "output_type": "stream",
          "name": "stderr",
          "text": [
            "eval_pred: 100%|██████████| 3/3 [00:00<00:00, 154.10it/s]\n",
            "eval_rec: 100%|██████████| 610/610 [00:00<00:00, 876.46it/s]\n"
          ]
        },
        {
          "output_type": "stream",
          "name": "stdout",
          "text": [
            "\t eval log_loss: 0.7230\n",
            "\t eval roc_auc: 0.7768\n",
            "\t eval precision@10: 0.0185\n",
            "\t eval recall@10: 0.0146\n",
            "\t eval map@10: 0.0437\n",
            "\t eval ndcg@10: 0.0670\n",
            "==============================\n"
          ]
        },
        {
          "output_type": "stream",
          "name": "stderr",
          "text": [
            "train: 100%|██████████| 1261/1261 [00:28<00:00, 44.81it/s]\n"
          ]
        },
        {
          "output_type": "stream",
          "name": "stdout",
          "text": [
            "Epoch 8 elapsed: 28.251s\n",
            "\t \u001b[32mtrain_loss: 0.6393\u001b[0m\n"
          ]
        },
        {
          "output_type": "stream",
          "name": "stderr",
          "text": [
            "eval_pred: 100%|██████████| 3/3 [00:00<00:00, 191.35it/s]\n",
            "eval_rec: 100%|██████████| 610/610 [00:00<00:00, 1737.20it/s]\n"
          ]
        },
        {
          "output_type": "stream",
          "name": "stdout",
          "text": [
            "\t eval log_loss: 0.6773\n",
            "\t eval roc_auc: 0.7965\n",
            "\t eval precision@10: 0.0226\n",
            "\t eval recall@10: 0.0225\n",
            "\t eval map@10: 0.0517\n",
            "\t eval ndcg@10: 0.0817\n",
            "==============================\n"
          ]
        },
        {
          "output_type": "stream",
          "name": "stderr",
          "text": [
            "train: 100%|██████████| 1261/1261 [00:25<00:00, 49.34it/s]\n"
          ]
        },
        {
          "output_type": "stream",
          "name": "stdout",
          "text": [
            "Epoch 9 elapsed: 25.623s\n",
            "\t \u001b[32mtrain_loss: 0.6702\u001b[0m\n"
          ]
        },
        {
          "output_type": "stream",
          "name": "stderr",
          "text": [
            "eval_pred: 100%|██████████| 3/3 [00:00<00:00, 266.76it/s]\n",
            "eval_rec: 100%|██████████| 610/610 [00:00<00:00, 2088.48it/s]\n"
          ]
        },
        {
          "output_type": "stream",
          "name": "stdout",
          "text": [
            "\t eval log_loss: 0.6839\n",
            "\t eval roc_auc: 0.7919\n",
            "\t eval precision@10: 0.0239\n",
            "\t eval recall@10: 0.0244\n",
            "\t eval map@10: 0.0612\n",
            "\t eval ndcg@10: 0.0904\n",
            "==============================\n"
          ]
        },
        {
          "output_type": "stream",
          "name": "stderr",
          "text": [
            "train: 100%|██████████| 1261/1261 [00:25<00:00, 50.44it/s]\n"
          ]
        },
        {
          "output_type": "stream",
          "name": "stdout",
          "text": [
            "Epoch 10 elapsed: 25.057s\n",
            "\t \u001b[32mtrain_loss: 0.6544\u001b[0m\n"
          ]
        },
        {
          "output_type": "stream",
          "name": "stderr",
          "text": [
            "eval_pred: 100%|██████████| 3/3 [00:00<00:00, 210.43it/s]\n",
            "eval_rec: 100%|██████████| 610/610 [00:00<00:00, 1981.10it/s]\n"
          ]
        },
        {
          "output_type": "stream",
          "name": "stdout",
          "text": [
            "\t eval log_loss: 0.7757\n",
            "\t eval roc_auc: 0.7674\n",
            "\t eval precision@10: 0.0174\n",
            "\t eval recall@10: 0.0208\n",
            "\t eval map@10: 0.0530\n",
            "\t eval ndcg@10: 0.0772\n",
            "==============================\n"
          ]
        },
        {
          "output_type": "stream",
          "name": "stderr",
          "text": [
            "eval_pred: 100%|██████████| 3/3 [00:00<00:00, 243.29it/s]\n",
            "eval_rec: 100%|██████████| 608/608 [00:00<00:00, 2015.49it/s]\n"
          ]
        },
        {
          "output_type": "display_data",
          "data": {
            "text/plain": [
              "<IPython.core.display.HTML object>"
            ],
            "text/html": [
              "Waiting for W&B process to finish... <strong style=\"color:green\">(success).</strong>"
            ]
          },
          "metadata": {}
        },
        {
          "output_type": "display_data",
          "data": {
            "text/plain": [
              "<IPython.core.display.HTML object>"
            ],
            "text/html": [
              "<style>\n",
              "    table.wandb td:nth-child(1) { padding: 0 10px; text-align: left ; width: auto;} td:nth-child(2) {text-align: left ; width: 100%}\n",
              "    .wandb-row { display: flex; flex-direction: row; flex-wrap: wrap; justify-content: flex-start; width: 100% }\n",
              "    .wandb-col { display: flex; flex-direction: column; flex-basis: 100%; flex: 1; padding: 10px; }\n",
              "    </style>\n",
              "<div class=\"wandb-row\"><div class=\"wandb-col\"><h3>Run history:</h3><br/><table class=\"wandb\"><tr><td>epoch</td><td>▁▂▃▃▄▅▆▆▇█</td></tr><tr><td>loss</td><td>▁</td></tr><tr><td>map</td><td>▁</td></tr><tr><td>map@10</td><td>█▅▄▇▅▄▁▃▅▃</td></tr><tr><td>ndcg</td><td>▁</td></tr><tr><td>ndcg@10</td><td>█▅▅▇▆▄▁▃▅▃</td></tr><tr><td>precision</td><td>▁</td></tr><tr><td>precision@10</td><td>█▃▇▇▇▄▂▄▅▁</td></tr><tr><td>recall</td><td>▁</td></tr><tr><td>recall@10</td><td>█▄▅▆▆▄▁▄▅▃</td></tr><tr><td>roc_auc</td><td>█▅▇█▇▇▄▇▇▃▁</td></tr><tr><td>train_loss</td><td>▁▂▅█▇▆▅▅█▆</td></tr></table><br/></div><div class=\"wandb-col\"><h3>Run summary:</h3><br/><table class=\"wandb\"><tr><td>epoch</td><td>10</td></tr><tr><td>log_loss</td><td>sklearn.metrics._cla...</td></tr><tr><td>loss</td><td>0.81367</td></tr><tr><td>map</td><td>0.04421</td></tr><tr><td>map@10</td><td>0.05298</td></tr><tr><td>ndcg</td><td>0.06578</td></tr><tr><td>ndcg@10</td><td>0.07723</td></tr><tr><td>precision</td><td>0.01579</td></tr><tr><td>precision@10</td><td>0.01738</td></tr><tr><td>recall</td><td>0.01687</td></tr><tr><td>recall@10</td><td>0.0208</td></tr><tr><td>roc_auc</td><td>0.75194</td></tr><tr><td>train_loss</td><td>0.6544</td></tr></table><br/></div></div>"
            ]
          },
          "metadata": {}
        },
        {
          "output_type": "display_data",
          "data": {
            "text/plain": [
              "<IPython.core.display.HTML object>"
            ],
            "text/html": [
              "Synced <strong style=\"color:#cdcd00\">balmy-sweep-18</strong>: <a href=\"https://wandb.ai/iloncka-ds/recsys-app/runs/zunz4xuw\" target=\"_blank\">https://wandb.ai/iloncka-ds/recsys-app/runs/zunz4xuw</a><br/>Synced 5 W&B file(s), 0 media file(s), 0 artifact file(s) and 0 other file(s)"
            ]
          },
          "metadata": {}
        },
        {
          "output_type": "display_data",
          "data": {
            "text/plain": [
              "<IPython.core.display.HTML object>"
            ],
            "text/html": [
              "Find logs at: <code>./wandb/run-20221105_173721-zunz4xuw/logs</code>"
            ]
          },
          "metadata": {}
        },
        {
          "output_type": "stream",
          "name": "stderr",
          "text": [
            "\u001b[34m\u001b[1mwandb\u001b[0m: Agent Starting Run: r16y3t23 with config:\n",
            "\u001b[34m\u001b[1mwandb\u001b[0m: \tbatch_size: 128\n",
            "\u001b[34m\u001b[1mwandb\u001b[0m: \tembed_size: 16\n",
            "\u001b[34m\u001b[1mwandb\u001b[0m: \tlr: 0.01\n",
            "\u001b[34m\u001b[1mwandb\u001b[0m: \tn_epochs: 5\n"
          ]
        },
        {
          "output_type": "display_data",
          "data": {
            "text/plain": [
              "<IPython.core.display.HTML object>"
            ],
            "text/html": [
              "Tracking run with wandb version 0.13.5"
            ]
          },
          "metadata": {}
        },
        {
          "output_type": "display_data",
          "data": {
            "text/plain": [
              "<IPython.core.display.HTML object>"
            ],
            "text/html": [
              "Run data is saved locally in <code>/content/wandb/run-20221105_174215-r16y3t23</code>"
            ]
          },
          "metadata": {}
        },
        {
          "output_type": "display_data",
          "data": {
            "text/plain": [
              "<IPython.core.display.HTML object>"
            ],
            "text/html": [
              "Syncing run <strong><a href=\"https://wandb.ai/iloncka-ds/recsys-app/runs/r16y3t23\" target=\"_blank\">woven-sweep-19</a></strong> to <a href=\"https://wandb.ai/iloncka-ds/recsys-app\" target=\"_blank\">Weights & Biases</a> (<a href=\"https://wandb.me/run\" target=\"_blank\">docs</a>)<br/>Sweep page:  <a href=\"https://wandb.ai/iloncka-ds/recsys-app/sweeps/tw52paxu\" target=\"_blank\">https://wandb.ai/iloncka-ds/recsys-app/sweeps/tw52paxu</a>"
            ]
          },
          "metadata": {}
        },
        {
          "output_type": "stream",
          "name": "stdout",
          "text": [
            "total params: \u001b[33m274,221\u001b[0m | embedding params: \u001b[33m271,917\u001b[0m | network params: \u001b[33m2,304\u001b[0m\n",
            "Training start time: \u001b[35m2022-11-05 17:42:22\u001b[0m\n"
          ]
        },
        {
          "output_type": "stream",
          "name": "stderr",
          "text": [
            "train: 100%|██████████| 1261/1261 [00:26<00:00, 47.77it/s]\n"
          ]
        },
        {
          "output_type": "stream",
          "name": "stdout",
          "text": [
            "Epoch 1 elapsed: 26.457s\n",
            "\t \u001b[32mtrain_loss: 0.4911\u001b[0m\n"
          ]
        },
        {
          "output_type": "stream",
          "name": "stderr",
          "text": [
            "eval_pred: 100%|██████████| 3/3 [00:00<00:00, 201.16it/s]\n",
            "eval_rec: 100%|██████████| 610/610 [00:00<00:00, 2156.82it/s]\n"
          ]
        },
        {
          "output_type": "stream",
          "name": "stdout",
          "text": [
            "\t eval log_loss: 0.5555\n",
            "\t eval roc_auc: 0.8090\n",
            "\t eval precision@10: 0.0318\n",
            "\t eval recall@10: 0.0342\n",
            "\t eval map@10: 0.0764\n",
            "\t eval ndcg@10: 0.1129\n",
            "==============================\n"
          ]
        },
        {
          "output_type": "stream",
          "name": "stderr",
          "text": [
            "train: 100%|██████████| 1261/1261 [00:25<00:00, 48.91it/s]\n"
          ]
        },
        {
          "output_type": "stream",
          "name": "stdout",
          "text": [
            "Epoch 2 elapsed: 25.844s\n",
            "\t \u001b[32mtrain_loss: 0.3588\u001b[0m\n"
          ]
        },
        {
          "output_type": "stream",
          "name": "stderr",
          "text": [
            "eval_pred: 100%|██████████| 3/3 [00:00<00:00, 199.11it/s]\n",
            "eval_rec: 100%|██████████| 610/610 [00:00<00:00, 1861.03it/s]\n"
          ]
        },
        {
          "output_type": "stream",
          "name": "stdout",
          "text": [
            "\t eval log_loss: 0.6631\n",
            "\t eval roc_auc: 0.7736\n",
            "\t eval precision@10: 0.0267\n",
            "\t eval recall@10: 0.0304\n",
            "\t eval map@10: 0.0664\n",
            "\t eval ndcg@10: 0.0983\n",
            "==============================\n"
          ]
        },
        {
          "output_type": "stream",
          "name": "stderr",
          "text": [
            "train: 100%|██████████| 1261/1261 [00:25<00:00, 48.87it/s]\n"
          ]
        },
        {
          "output_type": "stream",
          "name": "stdout",
          "text": [
            "Epoch 3 elapsed: 25.869s\n",
            "\t \u001b[32mtrain_loss: 0.2509\u001b[0m\n"
          ]
        },
        {
          "output_type": "stream",
          "name": "stderr",
          "text": [
            "eval_pred: 100%|██████████| 3/3 [00:00<00:00, 244.83it/s]\n",
            "eval_rec: 100%|██████████| 610/610 [00:00<00:00, 1786.54it/s]\n"
          ]
        },
        {
          "output_type": "stream",
          "name": "stdout",
          "text": [
            "\t eval log_loss: 0.8919\n",
            "\t eval roc_auc: 0.7366\n",
            "\t eval precision@10: 0.0256\n",
            "\t eval recall@10: 0.0318\n",
            "\t eval map@10: 0.0763\n",
            "\t eval ndcg@10: 0.1068\n",
            "==============================\n"
          ]
        },
        {
          "output_type": "stream",
          "name": "stderr",
          "text": [
            "train: 100%|██████████| 1261/1261 [00:25<00:00, 48.69it/s]\n"
          ]
        },
        {
          "output_type": "stream",
          "name": "stdout",
          "text": [
            "Epoch 4 elapsed: 25.955s\n",
            "\t \u001b[32mtrain_loss: 0.1857\u001b[0m\n"
          ]
        },
        {
          "output_type": "stream",
          "name": "stderr",
          "text": [
            "eval_pred: 100%|██████████| 3/3 [00:00<00:00, 255.98it/s]\n",
            "eval_rec: 100%|██████████| 610/610 [00:00<00:00, 2063.42it/s]\n"
          ]
        },
        {
          "output_type": "stream",
          "name": "stdout",
          "text": [
            "\t eval log_loss: 0.9124\n",
            "\t eval roc_auc: 0.7363\n",
            "\t eval precision@10: 0.0243\n",
            "\t eval recall@10: 0.0265\n",
            "\t eval map@10: 0.0614\n",
            "\t eval ndcg@10: 0.0920\n",
            "==============================\n"
          ]
        },
        {
          "output_type": "stream",
          "name": "stderr",
          "text": [
            "train: 100%|██████████| 1261/1261 [00:24<00:00, 50.78it/s]\n"
          ]
        },
        {
          "output_type": "stream",
          "name": "stdout",
          "text": [
            "Epoch 5 elapsed: 24.891s\n",
            "\t \u001b[32mtrain_loss: 0.1499\u001b[0m\n"
          ]
        },
        {
          "output_type": "stream",
          "name": "stderr",
          "text": [
            "eval_pred: 100%|██████████| 3/3 [00:00<00:00, 278.42it/s]\n",
            "eval_rec: 100%|██████████| 610/610 [00:00<00:00, 1841.88it/s]\n"
          ]
        },
        {
          "output_type": "stream",
          "name": "stdout",
          "text": [
            "\t eval log_loss: 1.0892\n",
            "\t eval roc_auc: 0.7182\n",
            "\t eval precision@10: 0.0230\n",
            "\t eval recall@10: 0.0315\n",
            "\t eval map@10: 0.0559\n",
            "\t eval ndcg@10: 0.0872\n",
            "==============================\n"
          ]
        },
        {
          "output_type": "stream",
          "name": "stderr",
          "text": [
            "eval_pred: 100%|██████████| 3/3 [00:00<00:00, 170.36it/s]\n",
            "eval_rec: 100%|██████████| 608/608 [00:00<00:00, 2089.25it/s]\n"
          ]
        },
        {
          "output_type": "display_data",
          "data": {
            "text/plain": [
              "<IPython.core.display.HTML object>"
            ],
            "text/html": [
              "Waiting for W&B process to finish... <strong style=\"color:green\">(success).</strong>"
            ]
          },
          "metadata": {}
        },
        {
          "output_type": "display_data",
          "data": {
            "text/plain": [
              "VBox(children=(Label(value='0.001 MB of 0.001 MB uploaded (0.000 MB deduped)\\r'), FloatProgress(value=1.0, max…"
            ],
            "application/vnd.jupyter.widget-view+json": {
              "version_major": 2,
              "version_minor": 0,
              "model_id": "b1c18d1a6e514310895c6cd38c0bd32a"
            }
          },
          "metadata": {}
        },
        {
          "output_type": "display_data",
          "data": {
            "text/plain": [
              "<IPython.core.display.HTML object>"
            ],
            "text/html": [
              "<style>\n",
              "    table.wandb td:nth-child(1) { padding: 0 10px; text-align: left ; width: auto;} td:nth-child(2) {text-align: left ; width: 100%}\n",
              "    .wandb-row { display: flex; flex-direction: row; flex-wrap: wrap; justify-content: flex-start; width: 100% }\n",
              "    .wandb-col { display: flex; flex-direction: column; flex-basis: 100%; flex: 1; padding: 10px; }\n",
              "    </style>\n",
              "<div class=\"wandb-row\"><div class=\"wandb-col\"><h3>Run history:</h3><br/><table class=\"wandb\"><tr><td>epoch</td><td>▁▃▅▆█</td></tr><tr><td>loss</td><td>▁</td></tr><tr><td>map</td><td>▁</td></tr><tr><td>map@10</td><td>█▅█▃▁</td></tr><tr><td>ndcg</td><td>▁</td></tr><tr><td>ndcg@10</td><td>█▄▆▂▁</td></tr><tr><td>precision</td><td>▁</td></tr><tr><td>precision@10</td><td>█▄▃▂▁</td></tr><tr><td>recall</td><td>▁</td></tr><tr><td>recall@10</td><td>█▅▆▁▆</td></tr><tr><td>roc_auc</td><td>█▆▄▄▃▁</td></tr><tr><td>train_loss</td><td>█▅▃▂▁</td></tr></table><br/></div><div class=\"wandb-col\"><h3>Run summary:</h3><br/><table class=\"wandb\"><tr><td>epoch</td><td>5</td></tr><tr><td>log_loss</td><td>sklearn.metrics._cla...</td></tr><tr><td>loss</td><td>1.18032</td></tr><tr><td>map</td><td>0.05831</td></tr><tr><td>map@10</td><td>0.05592</td></tr><tr><td>ndcg</td><td>0.08525</td></tr><tr><td>ndcg@10</td><td>0.08724</td></tr><tr><td>precision</td><td>0.02056</td></tr><tr><td>precision@10</td><td>0.02295</td></tr><tr><td>recall</td><td>0.02313</td></tr><tr><td>recall@10</td><td>0.03148</td></tr><tr><td>roc_auc</td><td>0.69258</td></tr><tr><td>train_loss</td><td>0.1499</td></tr></table><br/></div></div>"
            ]
          },
          "metadata": {}
        },
        {
          "output_type": "display_data",
          "data": {
            "text/plain": [
              "<IPython.core.display.HTML object>"
            ],
            "text/html": [
              "Synced <strong style=\"color:#cdcd00\">woven-sweep-19</strong>: <a href=\"https://wandb.ai/iloncka-ds/recsys-app/runs/r16y3t23\" target=\"_blank\">https://wandb.ai/iloncka-ds/recsys-app/runs/r16y3t23</a><br/>Synced 5 W&B file(s), 0 media file(s), 0 artifact file(s) and 0 other file(s)"
            ]
          },
          "metadata": {}
        },
        {
          "output_type": "display_data",
          "data": {
            "text/plain": [
              "<IPython.core.display.HTML object>"
            ],
            "text/html": [
              "Find logs at: <code>./wandb/run-20221105_174215-r16y3t23/logs</code>"
            ]
          },
          "metadata": {}
        },
        {
          "output_type": "stream",
          "name": "stderr",
          "text": [
            "\u001b[34m\u001b[1mwandb\u001b[0m: Agent Starting Run: 3du4ld6y with config:\n",
            "\u001b[34m\u001b[1mwandb\u001b[0m: \tbatch_size: 128\n",
            "\u001b[34m\u001b[1mwandb\u001b[0m: \tembed_size: 16\n",
            "\u001b[34m\u001b[1mwandb\u001b[0m: \tlr: 0.01\n",
            "\u001b[34m\u001b[1mwandb\u001b[0m: \tn_epochs: 10\n"
          ]
        },
        {
          "output_type": "display_data",
          "data": {
            "text/plain": [
              "<IPython.core.display.HTML object>"
            ],
            "text/html": [
              "Tracking run with wandb version 0.13.5"
            ]
          },
          "metadata": {}
        },
        {
          "output_type": "display_data",
          "data": {
            "text/plain": [
              "<IPython.core.display.HTML object>"
            ],
            "text/html": [
              "Run data is saved locally in <code>/content/wandb/run-20221105_174450-3du4ld6y</code>"
            ]
          },
          "metadata": {}
        },
        {
          "output_type": "display_data",
          "data": {
            "text/plain": [
              "<IPython.core.display.HTML object>"
            ],
            "text/html": [
              "Syncing run <strong><a href=\"https://wandb.ai/iloncka-ds/recsys-app/runs/3du4ld6y\" target=\"_blank\">scarlet-sweep-20</a></strong> to <a href=\"https://wandb.ai/iloncka-ds/recsys-app\" target=\"_blank\">Weights & Biases</a> (<a href=\"https://wandb.me/run\" target=\"_blank\">docs</a>)<br/>Sweep page:  <a href=\"https://wandb.ai/iloncka-ds/recsys-app/sweeps/tw52paxu\" target=\"_blank\">https://wandb.ai/iloncka-ds/recsys-app/sweeps/tw52paxu</a>"
            ]
          },
          "metadata": {}
        },
        {
          "output_type": "stream",
          "name": "stdout",
          "text": [
            "total params: \u001b[33m274,221\u001b[0m | embedding params: \u001b[33m271,917\u001b[0m | network params: \u001b[33m2,304\u001b[0m\n",
            "Training start time: \u001b[35m2022-11-05 17:44:57\u001b[0m\n"
          ]
        },
        {
          "output_type": "stream",
          "name": "stderr",
          "text": [
            "train: 100%|██████████| 1261/1261 [00:31<00:00, 40.49it/s]\n"
          ]
        },
        {
          "output_type": "stream",
          "name": "stdout",
          "text": [
            "Epoch 1 elapsed: 31.202s\n",
            "\t \u001b[32mtrain_loss: 0.4918\u001b[0m\n"
          ]
        },
        {
          "output_type": "stream",
          "name": "stderr",
          "text": [
            "eval_pred: 100%|██████████| 3/3 [00:00<00:00, 252.94it/s]\n",
            "eval_rec: 100%|██████████| 610/610 [00:00<00:00, 2097.89it/s]\n"
          ]
        },
        {
          "output_type": "stream",
          "name": "stdout",
          "text": [
            "\t eval log_loss: 0.5445\n",
            "\t eval roc_auc: 0.8111\n",
            "\t eval precision@10: 0.0313\n",
            "\t eval recall@10: 0.0358\n",
            "\t eval map@10: 0.0763\n",
            "\t eval ndcg@10: 0.1138\n",
            "==============================\n"
          ]
        },
        {
          "output_type": "stream",
          "name": "stderr",
          "text": [
            "train: 100%|██████████| 1261/1261 [00:25<00:00, 48.91it/s]\n"
          ]
        },
        {
          "output_type": "stream",
          "name": "stdout",
          "text": [
            "Epoch 2 elapsed: 25.843s\n",
            "\t \u001b[32mtrain_loss: 0.363\u001b[0m\n"
          ]
        },
        {
          "output_type": "stream",
          "name": "stderr",
          "text": [
            "eval_pred: 100%|██████████| 3/3 [00:00<00:00, 200.36it/s]\n",
            "eval_rec: 100%|██████████| 610/610 [00:00<00:00, 1738.70it/s]\n"
          ]
        },
        {
          "output_type": "stream",
          "name": "stdout",
          "text": [
            "\t eval log_loss: 0.7130\n",
            "\t eval roc_auc: 0.7615\n",
            "\t eval precision@10: 0.0313\n",
            "\t eval recall@10: 0.0339\n",
            "\t eval map@10: 0.0747\n",
            "\t eval ndcg@10: 0.1112\n",
            "==============================\n"
          ]
        },
        {
          "output_type": "stream",
          "name": "stderr",
          "text": [
            "train: 100%|██████████| 1261/1261 [00:25<00:00, 49.41it/s]\n"
          ]
        },
        {
          "output_type": "stream",
          "name": "stdout",
          "text": [
            "Epoch 3 elapsed: 25.580s\n",
            "\t \u001b[32mtrain_loss: 0.2543\u001b[0m\n"
          ]
        },
        {
          "output_type": "stream",
          "name": "stderr",
          "text": [
            "eval_pred: 100%|██████████| 3/3 [00:00<00:00, 248.64it/s]\n",
            "eval_rec: 100%|██████████| 610/610 [00:00<00:00, 2115.76it/s]\n"
          ]
        },
        {
          "output_type": "stream",
          "name": "stdout",
          "text": [
            "\t eval log_loss: 0.8561\n",
            "\t eval roc_auc: 0.7342\n",
            "\t eval precision@10: 0.0297\n",
            "\t eval recall@10: 0.0344\n",
            "\t eval map@10: 0.0655\n",
            "\t eval ndcg@10: 0.0994\n",
            "==============================\n"
          ]
        },
        {
          "output_type": "stream",
          "name": "stderr",
          "text": [
            "train: 100%|██████████| 1261/1261 [00:26<00:00, 47.92it/s]\n"
          ]
        },
        {
          "output_type": "stream",
          "name": "stdout",
          "text": [
            "Epoch 4 elapsed: 26.374s\n",
            "\t \u001b[32mtrain_loss: 0.1851\u001b[0m\n"
          ]
        },
        {
          "output_type": "stream",
          "name": "stderr",
          "text": [
            "eval_pred: 100%|██████████| 3/3 [00:00<00:00, 170.94it/s]\n",
            "eval_rec: 100%|██████████| 610/610 [00:00<00:00, 2034.86it/s]\n"
          ]
        },
        {
          "output_type": "stream",
          "name": "stdout",
          "text": [
            "\t eval log_loss: 0.9327\n",
            "\t eval roc_auc: 0.7411\n",
            "\t eval precision@10: 0.0290\n",
            "\t eval recall@10: 0.0350\n",
            "\t eval map@10: 0.0716\n",
            "\t eval ndcg@10: 0.1059\n",
            "==============================\n"
          ]
        },
        {
          "output_type": "stream",
          "name": "stderr",
          "text": [
            "train: 100%|██████████| 1261/1261 [00:25<00:00, 50.20it/s]\n"
          ]
        },
        {
          "output_type": "stream",
          "name": "stdout",
          "text": [
            "Epoch 5 elapsed: 25.176s\n",
            "\t \u001b[32mtrain_loss: 0.1482\u001b[0m\n"
          ]
        },
        {
          "output_type": "stream",
          "name": "stderr",
          "text": [
            "eval_pred: 100%|██████████| 3/3 [00:00<00:00, 217.74it/s]\n",
            "eval_rec: 100%|██████████| 610/610 [00:00<00:00, 2137.08it/s]\n"
          ]
        },
        {
          "output_type": "stream",
          "name": "stdout",
          "text": [
            "\t eval log_loss: 0.9807\n",
            "\t eval roc_auc: 0.7390\n",
            "\t eval precision@10: 0.0287\n",
            "\t eval recall@10: 0.0368\n",
            "\t eval map@10: 0.0690\n",
            "\t eval ndcg@10: 0.1046\n",
            "==============================\n"
          ]
        },
        {
          "output_type": "stream",
          "name": "stderr",
          "text": [
            "train: 100%|██████████| 1261/1261 [00:25<00:00, 49.23it/s]\n"
          ]
        },
        {
          "output_type": "stream",
          "name": "stdout",
          "text": [
            "Epoch 6 elapsed: 25.681s\n",
            "\t \u001b[32mtrain_loss: 0.1308\u001b[0m\n"
          ]
        },
        {
          "output_type": "stream",
          "name": "stderr",
          "text": [
            "eval_pred: 100%|██████████| 3/3 [00:00<00:00, 258.29it/s]\n",
            "eval_rec: 100%|██████████| 610/610 [00:00<00:00, 2058.34it/s]\n"
          ]
        },
        {
          "output_type": "stream",
          "name": "stdout",
          "text": [
            "\t eval log_loss: 1.1113\n",
            "\t eval roc_auc: 0.7141\n",
            "\t eval precision@10: 0.0251\n",
            "\t eval recall@10: 0.0314\n",
            "\t eval map@10: 0.0655\n",
            "\t eval ndcg@10: 0.0957\n",
            "==============================\n"
          ]
        },
        {
          "output_type": "stream",
          "name": "stderr",
          "text": [
            "train: 100%|██████████| 1261/1261 [00:25<00:00, 50.03it/s]\n"
          ]
        },
        {
          "output_type": "stream",
          "name": "stdout",
          "text": [
            "Epoch 7 elapsed: 25.259s\n",
            "\t \u001b[32mtrain_loss: 0.1183\u001b[0m\n"
          ]
        },
        {
          "output_type": "stream",
          "name": "stderr",
          "text": [
            "eval_pred: 100%|██████████| 3/3 [00:00<00:00, 221.34it/s]\n",
            "eval_rec: 100%|██████████| 610/610 [00:00<00:00, 2024.68it/s]\n"
          ]
        },
        {
          "output_type": "stream",
          "name": "stdout",
          "text": [
            "\t eval log_loss: 1.1000\n",
            "\t eval roc_auc: 0.7240\n",
            "\t eval precision@10: 0.0226\n",
            "\t eval recall@10: 0.0297\n",
            "\t eval map@10: 0.0538\n",
            "\t eval ndcg@10: 0.0840\n",
            "==============================\n"
          ]
        },
        {
          "output_type": "stream",
          "name": "stderr",
          "text": [
            "train: 100%|██████████| 1261/1261 [00:25<00:00, 48.56it/s]\n"
          ]
        },
        {
          "output_type": "stream",
          "name": "stdout",
          "text": [
            "Epoch 8 elapsed: 26.023s\n",
            "\t \u001b[32mtrain_loss: 0.1078\u001b[0m\n"
          ]
        },
        {
          "output_type": "stream",
          "name": "stderr",
          "text": [
            "eval_pred: 100%|██████████| 3/3 [00:00<00:00, 216.17it/s]\n",
            "eval_rec: 100%|██████████| 610/610 [00:00<00:00, 2004.28it/s]\n"
          ]
        },
        {
          "output_type": "stream",
          "name": "stdout",
          "text": [
            "\t eval log_loss: 1.1822\n",
            "\t eval roc_auc: 0.7280\n",
            "\t eval precision@10: 0.0236\n",
            "\t eval recall@10: 0.0296\n",
            "\t eval map@10: 0.0559\n",
            "\t eval ndcg@10: 0.0861\n",
            "==============================\n"
          ]
        },
        {
          "output_type": "stream",
          "name": "stderr",
          "text": [
            "train: 100%|██████████| 1261/1261 [00:26<00:00, 48.02it/s]\n"
          ]
        },
        {
          "output_type": "stream",
          "name": "stdout",
          "text": [
            "Epoch 9 elapsed: 26.313s\n",
            "\t \u001b[32mtrain_loss: 0.1019\u001b[0m\n"
          ]
        },
        {
          "output_type": "stream",
          "name": "stderr",
          "text": [
            "eval_pred: 100%|██████████| 3/3 [00:00<00:00, 188.98it/s]\n",
            "eval_rec: 100%|██████████| 610/610 [00:00<00:00, 2046.06it/s]\n"
          ]
        },
        {
          "output_type": "stream",
          "name": "stdout",
          "text": [
            "\t eval log_loss: 1.1110\n",
            "\t eval roc_auc: 0.7379\n",
            "\t eval precision@10: 0.0234\n",
            "\t eval recall@10: 0.0297\n",
            "\t eval map@10: 0.0633\n",
            "\t eval ndcg@10: 0.0929\n",
            "==============================\n"
          ]
        },
        {
          "output_type": "stream",
          "name": "stderr",
          "text": [
            "train: 100%|██████████| 1261/1261 [00:25<00:00, 48.74it/s]\n"
          ]
        },
        {
          "output_type": "stream",
          "name": "stdout",
          "text": [
            "Epoch 10 elapsed: 25.926s\n",
            "\t \u001b[32mtrain_loss: 0.0975\u001b[0m\n"
          ]
        },
        {
          "output_type": "stream",
          "name": "stderr",
          "text": [
            "eval_pred: 100%|██████████| 3/3 [00:00<00:00, 182.40it/s]\n",
            "eval_rec: 100%|██████████| 610/610 [00:00<00:00, 1714.59it/s]\n"
          ]
        },
        {
          "output_type": "stream",
          "name": "stdout",
          "text": [
            "\t eval log_loss: 1.3047\n",
            "\t eval roc_auc: 0.7207\n",
            "\t eval precision@10: 0.0230\n",
            "\t eval recall@10: 0.0273\n",
            "\t eval map@10: 0.0529\n",
            "\t eval ndcg@10: 0.0825\n",
            "==============================\n"
          ]
        },
        {
          "output_type": "stream",
          "name": "stderr",
          "text": [
            "eval_pred: 100%|██████████| 3/3 [00:00<00:00, 228.78it/s]\n",
            "eval_rec: 100%|██████████| 608/608 [00:00<00:00, 2066.40it/s]\n"
          ]
        },
        {
          "output_type": "display_data",
          "data": {
            "text/plain": [
              "<IPython.core.display.HTML object>"
            ],
            "text/html": [
              "Waiting for W&B process to finish... <strong style=\"color:green\">(success).</strong>"
            ]
          },
          "metadata": {}
        },
        {
          "output_type": "display_data",
          "data": {
            "text/plain": [
              "<IPython.core.display.HTML object>"
            ],
            "text/html": [
              "<style>\n",
              "    table.wandb td:nth-child(1) { padding: 0 10px; text-align: left ; width: auto;} td:nth-child(2) {text-align: left ; width: 100%}\n",
              "    .wandb-row { display: flex; flex-direction: row; flex-wrap: wrap; justify-content: flex-start; width: 100% }\n",
              "    .wandb-col { display: flex; flex-direction: column; flex-basis: 100%; flex: 1; padding: 10px; }\n",
              "    </style>\n",
              "<div class=\"wandb-row\"><div class=\"wandb-col\"><h3>Run history:</h3><br/><table class=\"wandb\"><tr><td>epoch</td><td>▁▂▃▃▄▅▆▆▇█</td></tr><tr><td>loss</td><td>▁</td></tr><tr><td>map</td><td>▁</td></tr><tr><td>map@10</td><td>██▅▇▆▅▁▂▄▁</td></tr><tr><td>ndcg</td><td>▁</td></tr><tr><td>ndcg@10</td><td>█▇▅▆▆▄▁▂▃▁</td></tr><tr><td>precision</td><td>▁</td></tr><tr><td>precision@10</td><td>██▇▆▆▃▁▂▂▁</td></tr><tr><td>recall</td><td>▁</td></tr><tr><td>recall@10</td><td>▇▆▆▇█▄▃▃▃▁</td></tr><tr><td>roc_auc</td><td>█▅▃▄▃▂▂▃▃▂▁</td></tr><tr><td>train_loss</td><td>█▆▄▃▂▂▁▁▁▁</td></tr></table><br/></div><div class=\"wandb-col\"><h3>Run summary:</h3><br/><table class=\"wandb\"><tr><td>epoch</td><td>10</td></tr><tr><td>log_loss</td><td>sklearn.metrics._cla...</td></tr><tr><td>loss</td><td>1.40506</td></tr><tr><td>map</td><td>0.04932</td></tr><tr><td>map@10</td><td>0.05287</td></tr><tr><td>ndcg</td><td>0.07263</td></tr><tr><td>ndcg@10</td><td>0.08249</td></tr><tr><td>precision</td><td>0.01859</td></tr><tr><td>precision@10</td><td>0.02295</td></tr><tr><td>recall</td><td>0.01971</td></tr><tr><td>recall@10</td><td>0.02734</td></tr><tr><td>roc_auc</td><td>0.70054</td></tr><tr><td>train_loss</td><td>0.0975</td></tr></table><br/></div></div>"
            ]
          },
          "metadata": {}
        },
        {
          "output_type": "display_data",
          "data": {
            "text/plain": [
              "<IPython.core.display.HTML object>"
            ],
            "text/html": [
              "Synced <strong style=\"color:#cdcd00\">scarlet-sweep-20</strong>: <a href=\"https://wandb.ai/iloncka-ds/recsys-app/runs/3du4ld6y\" target=\"_blank\">https://wandb.ai/iloncka-ds/recsys-app/runs/3du4ld6y</a><br/>Synced 5 W&B file(s), 0 media file(s), 0 artifact file(s) and 0 other file(s)"
            ]
          },
          "metadata": {}
        },
        {
          "output_type": "display_data",
          "data": {
            "text/plain": [
              "<IPython.core.display.HTML object>"
            ],
            "text/html": [
              "Find logs at: <code>./wandb/run-20221105_174450-3du4ld6y/logs</code>"
            ]
          },
          "metadata": {}
        }
      ],
      "source": [
        "MODEL_PATH = \"/content/drive/MyDrive/Colab Notebooks/00-MTC/models/RNN4Rec\" \n",
        "MODEL_NAME = 'RNN4Rec'\n",
        "sweep_config = {\n",
        "    \"name\": \"RNN4Rec-sweep\",\n",
        "    \"metric\": {\"name\": \"loss\", \"goal\": \"minimize\"},    \n",
        "    \"method\": \"grid\",    \n",
        "    \"parameters\": {        \n",
        "          \"embed_size\": {\n",
        "              \"values\": [16, 32]\n",
        "          },\n",
        "          'n_epochs': {\n",
        "              \"values\": [5,10]\n",
        "          }, \n",
        "          \"lr\": {\n",
        "              \"values\": [0.1, 0.01, 0.001, 0.0001]\n",
        "          },          \n",
        "          \"batch_size\": {\n",
        "              \"values\": [64, 128, 256]\n",
        "          },\n",
        "          }\n",
        "}\n",
        "sweep_id = wandb.sweep(sweep_config, \n",
        "                       project=\"recsys-app\", \n",
        "                       entity=\"iloncka-ds\")\n",
        "# os.environ[\"WANDB_NOTEBOOK_NAME\"] = \"part-4-embedding-RNN4Rec-time-ranking-hyperparameters-search.ipynb\"     \n",
        "# os.environ[\"WANDB_RESUME\"] = \"allow\"\n",
        "# os.environ[\"WANDB_RUN_ID\"] = wandb.util.generate_id()\n",
        "# os.environ[\"WANDB_RUN_GROUP\"] = \"experiment-\" + wandb.util.generate_id()\n",
        "\n",
        "# sweep_config, resume=os.environ[\"WANDB_RESUME\"],\n",
        "#                       group=MODEL_NAME,\n",
        "#                       notes=f\"{MODEL_NAME} hyperparameters search\",\n",
        "#                       tags=[\"embed\", \"sequence\", \"hyperparameters\"]\n",
        "def train_with_wandb():  \n",
        "      with wandb.init() as runwb:\n",
        "        # Overwrite the random run names chosen by wandb\n",
        "        sc = runwb.config\n",
        "        name_str = f'{MODEL_NAME}_met_{sweep_config[\"method\"]}' + \\\n",
        "          f'_n_epoch_{sc.n_epochs}_' + \\\n",
        "          f'emb_size_{sc.embed_size}_lr_{sc.lr}_' + \\\n",
        "          f'batch_size_{sc.batch_size}'\n",
        "        runwb.config.update({\"name\": name_str})\n",
        "        current_dir = os.path.join(MODEL_PATH, name_str)\n",
        "        if not os.path.isdir(current_dir):\n",
        "            os.mkdir(current_dir)  \n",
        "        # Rest of code.\n",
        "        model = RNN4Rec(task=\"ranking\", data_info=data_info, \n",
        "                        embed_size=sc.embed_size, n_epochs=sc.n_epochs, \n",
        "                        lr=sc.lr, reg=None, batch_size=sc.batch_size)\n",
        "        #NB!! param runwb is absent in official version of LibRecommender, for training unpublished changes to this library were used\n",
        "        model.fit(runwb, train_data, verbose=2, eval_data=eval_data, metrics=metrics)\n",
        "        #NB!! param runwb is absent in official version of LibRecommender, for training unpublished changes to this library were used\n",
        "        evaluate(runwb=runwb, model=model, data=test_data,\n",
        "                                    metrics=metrics)\n",
        "        # specify model saving directory\n",
        "        save_embed(current_dir, model)        \n",
        "        model.save(path=current_dir, model_name=\"RNN4Rec\", manual=True, inference_only=True)\n",
        "wandb.agent(sweep_id, function=train_with_wandb, entity=\"iloncka-ds\", project=\"recsys-app\", count=20)"
      ]
    },
    {
      "cell_type": "markdown",
      "source": [
        "https://wandb.ai/iloncka-ds/recsys-app/sweeps/tw52paxu?workspace=user-iloncka-ds"
      ],
      "metadata": {
        "id": "9A7mHb-369Se"
      }
    }
  ],
  "metadata": {
    "colab": {
      "provenance": [],
      "collapsed_sections": []
    },
    "kernelspec": {
      "display_name": "Python 3",
      "language": "python",
      "name": "python3"
    },
    "language_info": {
      "codemirror_mode": {
        "name": "ipython",
        "version": 3
      },
      "file_extension": ".py",
      "mimetype": "text/x-python",
      "name": "python",
      "nbconvert_exporter": "python",
      "pygments_lexer": "ipython3",
      "version": "3.7.12"
    },
    "widgets": {
      "application/vnd.jupyter.widget-state+json": {
        "b848e467f1f044ff9b99fb084e71a1cd": {
          "model_module": "@jupyter-widgets/controls",
          "model_name": "VBoxModel",
          "model_module_version": "1.5.0",
          "state": {
            "_dom_classes": [],
            "_model_module": "@jupyter-widgets/controls",
            "_model_module_version": "1.5.0",
            "_model_name": "VBoxModel",
            "_view_count": null,
            "_view_module": "@jupyter-widgets/controls",
            "_view_module_version": "1.5.0",
            "_view_name": "VBoxView",
            "box_style": "",
            "children": [
              "IPY_MODEL_0a6adf634beb4f5f842cd098ea5a1e05",
              "IPY_MODEL_528bfea7da7446d093050aa6bf5a35d3"
            ],
            "layout": "IPY_MODEL_378262dc37234890ae7b5b219e2d3844"
          }
        },
        "0a6adf634beb4f5f842cd098ea5a1e05": {
          "model_module": "@jupyter-widgets/controls",
          "model_name": "LabelModel",
          "model_module_version": "1.5.0",
          "state": {
            "_dom_classes": [],
            "_model_module": "@jupyter-widgets/controls",
            "_model_module_version": "1.5.0",
            "_model_name": "LabelModel",
            "_view_count": null,
            "_view_module": "@jupyter-widgets/controls",
            "_view_module_version": "1.5.0",
            "_view_name": "LabelView",
            "description": "",
            "description_tooltip": null,
            "layout": "IPY_MODEL_f0fecdaaeb9043a5a788ffebf9b82b32",
            "placeholder": "​",
            "style": "IPY_MODEL_40dfc30cd1ff4cae87e42496865cdb8c",
            "value": "0.001 MB of 0.012 MB uploaded (0.000 MB deduped)\r"
          }
        },
        "528bfea7da7446d093050aa6bf5a35d3": {
          "model_module": "@jupyter-widgets/controls",
          "model_name": "FloatProgressModel",
          "model_module_version": "1.5.0",
          "state": {
            "_dom_classes": [],
            "_model_module": "@jupyter-widgets/controls",
            "_model_module_version": "1.5.0",
            "_model_name": "FloatProgressModel",
            "_view_count": null,
            "_view_module": "@jupyter-widgets/controls",
            "_view_module_version": "1.5.0",
            "_view_name": "ProgressView",
            "bar_style": "",
            "description": "",
            "description_tooltip": null,
            "layout": "IPY_MODEL_7c783a7d0d504cd0bdf710f4bdbdbd6a",
            "max": 1,
            "min": 0,
            "orientation": "horizontal",
            "style": "IPY_MODEL_361f1b2a30644720b14a09219eb39a78",
            "value": 0.04931664745595258
          }
        },
        "378262dc37234890ae7b5b219e2d3844": {
          "model_module": "@jupyter-widgets/base",
          "model_name": "LayoutModel",
          "model_module_version": "1.2.0",
          "state": {
            "_model_module": "@jupyter-widgets/base",
            "_model_module_version": "1.2.0",
            "_model_name": "LayoutModel",
            "_view_count": null,
            "_view_module": "@jupyter-widgets/base",
            "_view_module_version": "1.2.0",
            "_view_name": "LayoutView",
            "align_content": null,
            "align_items": null,
            "align_self": null,
            "border": null,
            "bottom": null,
            "display": null,
            "flex": null,
            "flex_flow": null,
            "grid_area": null,
            "grid_auto_columns": null,
            "grid_auto_flow": null,
            "grid_auto_rows": null,
            "grid_column": null,
            "grid_gap": null,
            "grid_row": null,
            "grid_template_areas": null,
            "grid_template_columns": null,
            "grid_template_rows": null,
            "height": null,
            "justify_content": null,
            "justify_items": null,
            "left": null,
            "margin": null,
            "max_height": null,
            "max_width": null,
            "min_height": null,
            "min_width": null,
            "object_fit": null,
            "object_position": null,
            "order": null,
            "overflow": null,
            "overflow_x": null,
            "overflow_y": null,
            "padding": null,
            "right": null,
            "top": null,
            "visibility": null,
            "width": null
          }
        },
        "f0fecdaaeb9043a5a788ffebf9b82b32": {
          "model_module": "@jupyter-widgets/base",
          "model_name": "LayoutModel",
          "model_module_version": "1.2.0",
          "state": {
            "_model_module": "@jupyter-widgets/base",
            "_model_module_version": "1.2.0",
            "_model_name": "LayoutModel",
            "_view_count": null,
            "_view_module": "@jupyter-widgets/base",
            "_view_module_version": "1.2.0",
            "_view_name": "LayoutView",
            "align_content": null,
            "align_items": null,
            "align_self": null,
            "border": null,
            "bottom": null,
            "display": null,
            "flex": null,
            "flex_flow": null,
            "grid_area": null,
            "grid_auto_columns": null,
            "grid_auto_flow": null,
            "grid_auto_rows": null,
            "grid_column": null,
            "grid_gap": null,
            "grid_row": null,
            "grid_template_areas": null,
            "grid_template_columns": null,
            "grid_template_rows": null,
            "height": null,
            "justify_content": null,
            "justify_items": null,
            "left": null,
            "margin": null,
            "max_height": null,
            "max_width": null,
            "min_height": null,
            "min_width": null,
            "object_fit": null,
            "object_position": null,
            "order": null,
            "overflow": null,
            "overflow_x": null,
            "overflow_y": null,
            "padding": null,
            "right": null,
            "top": null,
            "visibility": null,
            "width": null
          }
        },
        "40dfc30cd1ff4cae87e42496865cdb8c": {
          "model_module": "@jupyter-widgets/controls",
          "model_name": "DescriptionStyleModel",
          "model_module_version": "1.5.0",
          "state": {
            "_model_module": "@jupyter-widgets/controls",
            "_model_module_version": "1.5.0",
            "_model_name": "DescriptionStyleModel",
            "_view_count": null,
            "_view_module": "@jupyter-widgets/base",
            "_view_module_version": "1.2.0",
            "_view_name": "StyleView",
            "description_width": ""
          }
        },
        "7c783a7d0d504cd0bdf710f4bdbdbd6a": {
          "model_module": "@jupyter-widgets/base",
          "model_name": "LayoutModel",
          "model_module_version": "1.2.0",
          "state": {
            "_model_module": "@jupyter-widgets/base",
            "_model_module_version": "1.2.0",
            "_model_name": "LayoutModel",
            "_view_count": null,
            "_view_module": "@jupyter-widgets/base",
            "_view_module_version": "1.2.0",
            "_view_name": "LayoutView",
            "align_content": null,
            "align_items": null,
            "align_self": null,
            "border": null,
            "bottom": null,
            "display": null,
            "flex": null,
            "flex_flow": null,
            "grid_area": null,
            "grid_auto_columns": null,
            "grid_auto_flow": null,
            "grid_auto_rows": null,
            "grid_column": null,
            "grid_gap": null,
            "grid_row": null,
            "grid_template_areas": null,
            "grid_template_columns": null,
            "grid_template_rows": null,
            "height": null,
            "justify_content": null,
            "justify_items": null,
            "left": null,
            "margin": null,
            "max_height": null,
            "max_width": null,
            "min_height": null,
            "min_width": null,
            "object_fit": null,
            "object_position": null,
            "order": null,
            "overflow": null,
            "overflow_x": null,
            "overflow_y": null,
            "padding": null,
            "right": null,
            "top": null,
            "visibility": null,
            "width": null
          }
        },
        "361f1b2a30644720b14a09219eb39a78": {
          "model_module": "@jupyter-widgets/controls",
          "model_name": "ProgressStyleModel",
          "model_module_version": "1.5.0",
          "state": {
            "_model_module": "@jupyter-widgets/controls",
            "_model_module_version": "1.5.0",
            "_model_name": "ProgressStyleModel",
            "_view_count": null,
            "_view_module": "@jupyter-widgets/base",
            "_view_module_version": "1.2.0",
            "_view_name": "StyleView",
            "bar_color": null,
            "description_width": ""
          }
        },
        "5020a15cde6e47d69adb2eaae2973a70": {
          "model_module": "@jupyter-widgets/controls",
          "model_name": "VBoxModel",
          "model_module_version": "1.5.0",
          "state": {
            "_dom_classes": [],
            "_model_module": "@jupyter-widgets/controls",
            "_model_module_version": "1.5.0",
            "_model_name": "VBoxModel",
            "_view_count": null,
            "_view_module": "@jupyter-widgets/controls",
            "_view_module_version": "1.5.0",
            "_view_name": "VBoxView",
            "box_style": "",
            "children": [
              "IPY_MODEL_daf5585da45846e3957637eeeb416286",
              "IPY_MODEL_f53ecc76735e4908b76e044dca98fd34"
            ],
            "layout": "IPY_MODEL_406f1ddde0e54542b98a8b076c779614"
          }
        },
        "daf5585da45846e3957637eeeb416286": {
          "model_module": "@jupyter-widgets/controls",
          "model_name": "LabelModel",
          "model_module_version": "1.5.0",
          "state": {
            "_dom_classes": [],
            "_model_module": "@jupyter-widgets/controls",
            "_model_module_version": "1.5.0",
            "_model_name": "LabelModel",
            "_view_count": null,
            "_view_module": "@jupyter-widgets/controls",
            "_view_module_version": "1.5.0",
            "_view_name": "LabelView",
            "description": "",
            "description_tooltip": null,
            "layout": "IPY_MODEL_5b03d33b0b75476c89ae80c8430c7b50",
            "placeholder": "​",
            "style": "IPY_MODEL_37d5f757a8734de9883655f1ab19ec78",
            "value": "0.001 MB of 0.001 MB uploaded (0.000 MB deduped)\r"
          }
        },
        "f53ecc76735e4908b76e044dca98fd34": {
          "model_module": "@jupyter-widgets/controls",
          "model_name": "FloatProgressModel",
          "model_module_version": "1.5.0",
          "state": {
            "_dom_classes": [],
            "_model_module": "@jupyter-widgets/controls",
            "_model_module_version": "1.5.0",
            "_model_name": "FloatProgressModel",
            "_view_count": null,
            "_view_module": "@jupyter-widgets/controls",
            "_view_module_version": "1.5.0",
            "_view_name": "ProgressView",
            "bar_style": "",
            "description": "",
            "description_tooltip": null,
            "layout": "IPY_MODEL_aa3e8307509c4cdda35dcfcbb204062e",
            "max": 1,
            "min": 0,
            "orientation": "horizontal",
            "style": "IPY_MODEL_4510547dd96c4d989e562604446679c2",
            "value": 1
          }
        },
        "406f1ddde0e54542b98a8b076c779614": {
          "model_module": "@jupyter-widgets/base",
          "model_name": "LayoutModel",
          "model_module_version": "1.2.0",
          "state": {
            "_model_module": "@jupyter-widgets/base",
            "_model_module_version": "1.2.0",
            "_model_name": "LayoutModel",
            "_view_count": null,
            "_view_module": "@jupyter-widgets/base",
            "_view_module_version": "1.2.0",
            "_view_name": "LayoutView",
            "align_content": null,
            "align_items": null,
            "align_self": null,
            "border": null,
            "bottom": null,
            "display": null,
            "flex": null,
            "flex_flow": null,
            "grid_area": null,
            "grid_auto_columns": null,
            "grid_auto_flow": null,
            "grid_auto_rows": null,
            "grid_column": null,
            "grid_gap": null,
            "grid_row": null,
            "grid_template_areas": null,
            "grid_template_columns": null,
            "grid_template_rows": null,
            "height": null,
            "justify_content": null,
            "justify_items": null,
            "left": null,
            "margin": null,
            "max_height": null,
            "max_width": null,
            "min_height": null,
            "min_width": null,
            "object_fit": null,
            "object_position": null,
            "order": null,
            "overflow": null,
            "overflow_x": null,
            "overflow_y": null,
            "padding": null,
            "right": null,
            "top": null,
            "visibility": null,
            "width": null
          }
        },
        "5b03d33b0b75476c89ae80c8430c7b50": {
          "model_module": "@jupyter-widgets/base",
          "model_name": "LayoutModel",
          "model_module_version": "1.2.0",
          "state": {
            "_model_module": "@jupyter-widgets/base",
            "_model_module_version": "1.2.0",
            "_model_name": "LayoutModel",
            "_view_count": null,
            "_view_module": "@jupyter-widgets/base",
            "_view_module_version": "1.2.0",
            "_view_name": "LayoutView",
            "align_content": null,
            "align_items": null,
            "align_self": null,
            "border": null,
            "bottom": null,
            "display": null,
            "flex": null,
            "flex_flow": null,
            "grid_area": null,
            "grid_auto_columns": null,
            "grid_auto_flow": null,
            "grid_auto_rows": null,
            "grid_column": null,
            "grid_gap": null,
            "grid_row": null,
            "grid_template_areas": null,
            "grid_template_columns": null,
            "grid_template_rows": null,
            "height": null,
            "justify_content": null,
            "justify_items": null,
            "left": null,
            "margin": null,
            "max_height": null,
            "max_width": null,
            "min_height": null,
            "min_width": null,
            "object_fit": null,
            "object_position": null,
            "order": null,
            "overflow": null,
            "overflow_x": null,
            "overflow_y": null,
            "padding": null,
            "right": null,
            "top": null,
            "visibility": null,
            "width": null
          }
        },
        "37d5f757a8734de9883655f1ab19ec78": {
          "model_module": "@jupyter-widgets/controls",
          "model_name": "DescriptionStyleModel",
          "model_module_version": "1.5.0",
          "state": {
            "_model_module": "@jupyter-widgets/controls",
            "_model_module_version": "1.5.0",
            "_model_name": "DescriptionStyleModel",
            "_view_count": null,
            "_view_module": "@jupyter-widgets/base",
            "_view_module_version": "1.2.0",
            "_view_name": "StyleView",
            "description_width": ""
          }
        },
        "aa3e8307509c4cdda35dcfcbb204062e": {
          "model_module": "@jupyter-widgets/base",
          "model_name": "LayoutModel",
          "model_module_version": "1.2.0",
          "state": {
            "_model_module": "@jupyter-widgets/base",
            "_model_module_version": "1.2.0",
            "_model_name": "LayoutModel",
            "_view_count": null,
            "_view_module": "@jupyter-widgets/base",
            "_view_module_version": "1.2.0",
            "_view_name": "LayoutView",
            "align_content": null,
            "align_items": null,
            "align_self": null,
            "border": null,
            "bottom": null,
            "display": null,
            "flex": null,
            "flex_flow": null,
            "grid_area": null,
            "grid_auto_columns": null,
            "grid_auto_flow": null,
            "grid_auto_rows": null,
            "grid_column": null,
            "grid_gap": null,
            "grid_row": null,
            "grid_template_areas": null,
            "grid_template_columns": null,
            "grid_template_rows": null,
            "height": null,
            "justify_content": null,
            "justify_items": null,
            "left": null,
            "margin": null,
            "max_height": null,
            "max_width": null,
            "min_height": null,
            "min_width": null,
            "object_fit": null,
            "object_position": null,
            "order": null,
            "overflow": null,
            "overflow_x": null,
            "overflow_y": null,
            "padding": null,
            "right": null,
            "top": null,
            "visibility": null,
            "width": null
          }
        },
        "4510547dd96c4d989e562604446679c2": {
          "model_module": "@jupyter-widgets/controls",
          "model_name": "ProgressStyleModel",
          "model_module_version": "1.5.0",
          "state": {
            "_model_module": "@jupyter-widgets/controls",
            "_model_module_version": "1.5.0",
            "_model_name": "ProgressStyleModel",
            "_view_count": null,
            "_view_module": "@jupyter-widgets/base",
            "_view_module_version": "1.2.0",
            "_view_name": "StyleView",
            "bar_color": null,
            "description_width": ""
          }
        },
        "97c025b0659345d49253c1881b0fb9b5": {
          "model_module": "@jupyter-widgets/controls",
          "model_name": "VBoxModel",
          "model_module_version": "1.5.0",
          "state": {
            "_dom_classes": [],
            "_model_module": "@jupyter-widgets/controls",
            "_model_module_version": "1.5.0",
            "_model_name": "VBoxModel",
            "_view_count": null,
            "_view_module": "@jupyter-widgets/controls",
            "_view_module_version": "1.5.0",
            "_view_name": "VBoxView",
            "box_style": "",
            "children": [
              "IPY_MODEL_617c23eeb184460d97e0e87cad5e1ec8",
              "IPY_MODEL_c84e6f3aa17a458da740ab59a87c11de"
            ],
            "layout": "IPY_MODEL_c01306386e3341ae8fafb9e348b8368c"
          }
        },
        "617c23eeb184460d97e0e87cad5e1ec8": {
          "model_module": "@jupyter-widgets/controls",
          "model_name": "LabelModel",
          "model_module_version": "1.5.0",
          "state": {
            "_dom_classes": [],
            "_model_module": "@jupyter-widgets/controls",
            "_model_module_version": "1.5.0",
            "_model_name": "LabelModel",
            "_view_count": null,
            "_view_module": "@jupyter-widgets/controls",
            "_view_module_version": "1.5.0",
            "_view_name": "LabelView",
            "description": "",
            "description_tooltip": null,
            "layout": "IPY_MODEL_2cdb3610936d4305b61891bedb014895",
            "placeholder": "​",
            "style": "IPY_MODEL_cd1c695157b6407b87b1d1527003fc30",
            "value": "0.001 MB of 0.014 MB uploaded (0.000 MB deduped)\r"
          }
        },
        "c84e6f3aa17a458da740ab59a87c11de": {
          "model_module": "@jupyter-widgets/controls",
          "model_name": "FloatProgressModel",
          "model_module_version": "1.5.0",
          "state": {
            "_dom_classes": [],
            "_model_module": "@jupyter-widgets/controls",
            "_model_module_version": "1.5.0",
            "_model_name": "FloatProgressModel",
            "_view_count": null,
            "_view_module": "@jupyter-widgets/controls",
            "_view_module_version": "1.5.0",
            "_view_name": "ProgressView",
            "bar_style": "",
            "description": "",
            "description_tooltip": null,
            "layout": "IPY_MODEL_d7167c61d89d45ffafa746e95692dc8c",
            "max": 1,
            "min": 0,
            "orientation": "horizontal",
            "style": "IPY_MODEL_38b7ff3ab7654d9481daf7ccf10d5e1e",
            "value": 0.04024266936299292
          }
        },
        "c01306386e3341ae8fafb9e348b8368c": {
          "model_module": "@jupyter-widgets/base",
          "model_name": "LayoutModel",
          "model_module_version": "1.2.0",
          "state": {
            "_model_module": "@jupyter-widgets/base",
            "_model_module_version": "1.2.0",
            "_model_name": "LayoutModel",
            "_view_count": null,
            "_view_module": "@jupyter-widgets/base",
            "_view_module_version": "1.2.0",
            "_view_name": "LayoutView",
            "align_content": null,
            "align_items": null,
            "align_self": null,
            "border": null,
            "bottom": null,
            "display": null,
            "flex": null,
            "flex_flow": null,
            "grid_area": null,
            "grid_auto_columns": null,
            "grid_auto_flow": null,
            "grid_auto_rows": null,
            "grid_column": null,
            "grid_gap": null,
            "grid_row": null,
            "grid_template_areas": null,
            "grid_template_columns": null,
            "grid_template_rows": null,
            "height": null,
            "justify_content": null,
            "justify_items": null,
            "left": null,
            "margin": null,
            "max_height": null,
            "max_width": null,
            "min_height": null,
            "min_width": null,
            "object_fit": null,
            "object_position": null,
            "order": null,
            "overflow": null,
            "overflow_x": null,
            "overflow_y": null,
            "padding": null,
            "right": null,
            "top": null,
            "visibility": null,
            "width": null
          }
        },
        "2cdb3610936d4305b61891bedb014895": {
          "model_module": "@jupyter-widgets/base",
          "model_name": "LayoutModel",
          "model_module_version": "1.2.0",
          "state": {
            "_model_module": "@jupyter-widgets/base",
            "_model_module_version": "1.2.0",
            "_model_name": "LayoutModel",
            "_view_count": null,
            "_view_module": "@jupyter-widgets/base",
            "_view_module_version": "1.2.0",
            "_view_name": "LayoutView",
            "align_content": null,
            "align_items": null,
            "align_self": null,
            "border": null,
            "bottom": null,
            "display": null,
            "flex": null,
            "flex_flow": null,
            "grid_area": null,
            "grid_auto_columns": null,
            "grid_auto_flow": null,
            "grid_auto_rows": null,
            "grid_column": null,
            "grid_gap": null,
            "grid_row": null,
            "grid_template_areas": null,
            "grid_template_columns": null,
            "grid_template_rows": null,
            "height": null,
            "justify_content": null,
            "justify_items": null,
            "left": null,
            "margin": null,
            "max_height": null,
            "max_width": null,
            "min_height": null,
            "min_width": null,
            "object_fit": null,
            "object_position": null,
            "order": null,
            "overflow": null,
            "overflow_x": null,
            "overflow_y": null,
            "padding": null,
            "right": null,
            "top": null,
            "visibility": null,
            "width": null
          }
        },
        "cd1c695157b6407b87b1d1527003fc30": {
          "model_module": "@jupyter-widgets/controls",
          "model_name": "DescriptionStyleModel",
          "model_module_version": "1.5.0",
          "state": {
            "_model_module": "@jupyter-widgets/controls",
            "_model_module_version": "1.5.0",
            "_model_name": "DescriptionStyleModel",
            "_view_count": null,
            "_view_module": "@jupyter-widgets/base",
            "_view_module_version": "1.2.0",
            "_view_name": "StyleView",
            "description_width": ""
          }
        },
        "d7167c61d89d45ffafa746e95692dc8c": {
          "model_module": "@jupyter-widgets/base",
          "model_name": "LayoutModel",
          "model_module_version": "1.2.0",
          "state": {
            "_model_module": "@jupyter-widgets/base",
            "_model_module_version": "1.2.0",
            "_model_name": "LayoutModel",
            "_view_count": null,
            "_view_module": "@jupyter-widgets/base",
            "_view_module_version": "1.2.0",
            "_view_name": "LayoutView",
            "align_content": null,
            "align_items": null,
            "align_self": null,
            "border": null,
            "bottom": null,
            "display": null,
            "flex": null,
            "flex_flow": null,
            "grid_area": null,
            "grid_auto_columns": null,
            "grid_auto_flow": null,
            "grid_auto_rows": null,
            "grid_column": null,
            "grid_gap": null,
            "grid_row": null,
            "grid_template_areas": null,
            "grid_template_columns": null,
            "grid_template_rows": null,
            "height": null,
            "justify_content": null,
            "justify_items": null,
            "left": null,
            "margin": null,
            "max_height": null,
            "max_width": null,
            "min_height": null,
            "min_width": null,
            "object_fit": null,
            "object_position": null,
            "order": null,
            "overflow": null,
            "overflow_x": null,
            "overflow_y": null,
            "padding": null,
            "right": null,
            "top": null,
            "visibility": null,
            "width": null
          }
        },
        "38b7ff3ab7654d9481daf7ccf10d5e1e": {
          "model_module": "@jupyter-widgets/controls",
          "model_name": "ProgressStyleModel",
          "model_module_version": "1.5.0",
          "state": {
            "_model_module": "@jupyter-widgets/controls",
            "_model_module_version": "1.5.0",
            "_model_name": "ProgressStyleModel",
            "_view_count": null,
            "_view_module": "@jupyter-widgets/base",
            "_view_module_version": "1.2.0",
            "_view_name": "StyleView",
            "bar_color": null,
            "description_width": ""
          }
        },
        "3607925b5db742559de795fcc9aad114": {
          "model_module": "@jupyter-widgets/controls",
          "model_name": "VBoxModel",
          "model_module_version": "1.5.0",
          "state": {
            "_dom_classes": [],
            "_model_module": "@jupyter-widgets/controls",
            "_model_module_version": "1.5.0",
            "_model_name": "VBoxModel",
            "_view_count": null,
            "_view_module": "@jupyter-widgets/controls",
            "_view_module_version": "1.5.0",
            "_view_name": "VBoxView",
            "box_style": "",
            "children": [
              "IPY_MODEL_b367945e227243ef92ea86b6580fa5ce",
              "IPY_MODEL_5a909083db7d4127b44be359ee450152"
            ],
            "layout": "IPY_MODEL_5cddcc3944e34b628159d164dcaada62"
          }
        },
        "b367945e227243ef92ea86b6580fa5ce": {
          "model_module": "@jupyter-widgets/controls",
          "model_name": "LabelModel",
          "model_module_version": "1.5.0",
          "state": {
            "_dom_classes": [],
            "_model_module": "@jupyter-widgets/controls",
            "_model_module_version": "1.5.0",
            "_model_name": "LabelModel",
            "_view_count": null,
            "_view_module": "@jupyter-widgets/controls",
            "_view_module_version": "1.5.0",
            "_view_name": "LabelView",
            "description": "",
            "description_tooltip": null,
            "layout": "IPY_MODEL_c729a888d8fb4c1e91e60fb2d71e22e2",
            "placeholder": "​",
            "style": "IPY_MODEL_def025abcf11405d9330748aa0340591",
            "value": "0.001 MB of 0.001 MB uploaded (0.000 MB deduped)\r"
          }
        },
        "5a909083db7d4127b44be359ee450152": {
          "model_module": "@jupyter-widgets/controls",
          "model_name": "FloatProgressModel",
          "model_module_version": "1.5.0",
          "state": {
            "_dom_classes": [],
            "_model_module": "@jupyter-widgets/controls",
            "_model_module_version": "1.5.0",
            "_model_name": "FloatProgressModel",
            "_view_count": null,
            "_view_module": "@jupyter-widgets/controls",
            "_view_module_version": "1.5.0",
            "_view_name": "ProgressView",
            "bar_style": "",
            "description": "",
            "description_tooltip": null,
            "layout": "IPY_MODEL_f95c75a33dc64b9cb9100434321f456c",
            "max": 1,
            "min": 0,
            "orientation": "horizontal",
            "style": "IPY_MODEL_762572e99ca340798cbb6b531fc911bc",
            "value": 1
          }
        },
        "5cddcc3944e34b628159d164dcaada62": {
          "model_module": "@jupyter-widgets/base",
          "model_name": "LayoutModel",
          "model_module_version": "1.2.0",
          "state": {
            "_model_module": "@jupyter-widgets/base",
            "_model_module_version": "1.2.0",
            "_model_name": "LayoutModel",
            "_view_count": null,
            "_view_module": "@jupyter-widgets/base",
            "_view_module_version": "1.2.0",
            "_view_name": "LayoutView",
            "align_content": null,
            "align_items": null,
            "align_self": null,
            "border": null,
            "bottom": null,
            "display": null,
            "flex": null,
            "flex_flow": null,
            "grid_area": null,
            "grid_auto_columns": null,
            "grid_auto_flow": null,
            "grid_auto_rows": null,
            "grid_column": null,
            "grid_gap": null,
            "grid_row": null,
            "grid_template_areas": null,
            "grid_template_columns": null,
            "grid_template_rows": null,
            "height": null,
            "justify_content": null,
            "justify_items": null,
            "left": null,
            "margin": null,
            "max_height": null,
            "max_width": null,
            "min_height": null,
            "min_width": null,
            "object_fit": null,
            "object_position": null,
            "order": null,
            "overflow": null,
            "overflow_x": null,
            "overflow_y": null,
            "padding": null,
            "right": null,
            "top": null,
            "visibility": null,
            "width": null
          }
        },
        "c729a888d8fb4c1e91e60fb2d71e22e2": {
          "model_module": "@jupyter-widgets/base",
          "model_name": "LayoutModel",
          "model_module_version": "1.2.0",
          "state": {
            "_model_module": "@jupyter-widgets/base",
            "_model_module_version": "1.2.0",
            "_model_name": "LayoutModel",
            "_view_count": null,
            "_view_module": "@jupyter-widgets/base",
            "_view_module_version": "1.2.0",
            "_view_name": "LayoutView",
            "align_content": null,
            "align_items": null,
            "align_self": null,
            "border": null,
            "bottom": null,
            "display": null,
            "flex": null,
            "flex_flow": null,
            "grid_area": null,
            "grid_auto_columns": null,
            "grid_auto_flow": null,
            "grid_auto_rows": null,
            "grid_column": null,
            "grid_gap": null,
            "grid_row": null,
            "grid_template_areas": null,
            "grid_template_columns": null,
            "grid_template_rows": null,
            "height": null,
            "justify_content": null,
            "justify_items": null,
            "left": null,
            "margin": null,
            "max_height": null,
            "max_width": null,
            "min_height": null,
            "min_width": null,
            "object_fit": null,
            "object_position": null,
            "order": null,
            "overflow": null,
            "overflow_x": null,
            "overflow_y": null,
            "padding": null,
            "right": null,
            "top": null,
            "visibility": null,
            "width": null
          }
        },
        "def025abcf11405d9330748aa0340591": {
          "model_module": "@jupyter-widgets/controls",
          "model_name": "DescriptionStyleModel",
          "model_module_version": "1.5.0",
          "state": {
            "_model_module": "@jupyter-widgets/controls",
            "_model_module_version": "1.5.0",
            "_model_name": "DescriptionStyleModel",
            "_view_count": null,
            "_view_module": "@jupyter-widgets/base",
            "_view_module_version": "1.2.0",
            "_view_name": "StyleView",
            "description_width": ""
          }
        },
        "f95c75a33dc64b9cb9100434321f456c": {
          "model_module": "@jupyter-widgets/base",
          "model_name": "LayoutModel",
          "model_module_version": "1.2.0",
          "state": {
            "_model_module": "@jupyter-widgets/base",
            "_model_module_version": "1.2.0",
            "_model_name": "LayoutModel",
            "_view_count": null,
            "_view_module": "@jupyter-widgets/base",
            "_view_module_version": "1.2.0",
            "_view_name": "LayoutView",
            "align_content": null,
            "align_items": null,
            "align_self": null,
            "border": null,
            "bottom": null,
            "display": null,
            "flex": null,
            "flex_flow": null,
            "grid_area": null,
            "grid_auto_columns": null,
            "grid_auto_flow": null,
            "grid_auto_rows": null,
            "grid_column": null,
            "grid_gap": null,
            "grid_row": null,
            "grid_template_areas": null,
            "grid_template_columns": null,
            "grid_template_rows": null,
            "height": null,
            "justify_content": null,
            "justify_items": null,
            "left": null,
            "margin": null,
            "max_height": null,
            "max_width": null,
            "min_height": null,
            "min_width": null,
            "object_fit": null,
            "object_position": null,
            "order": null,
            "overflow": null,
            "overflow_x": null,
            "overflow_y": null,
            "padding": null,
            "right": null,
            "top": null,
            "visibility": null,
            "width": null
          }
        },
        "762572e99ca340798cbb6b531fc911bc": {
          "model_module": "@jupyter-widgets/controls",
          "model_name": "ProgressStyleModel",
          "model_module_version": "1.5.0",
          "state": {
            "_model_module": "@jupyter-widgets/controls",
            "_model_module_version": "1.5.0",
            "_model_name": "ProgressStyleModel",
            "_view_count": null,
            "_view_module": "@jupyter-widgets/base",
            "_view_module_version": "1.2.0",
            "_view_name": "StyleView",
            "bar_color": null,
            "description_width": ""
          }
        },
        "50c57125cecb4223bc70c8cf8985e456": {
          "model_module": "@jupyter-widgets/controls",
          "model_name": "VBoxModel",
          "model_module_version": "1.5.0",
          "state": {
            "_dom_classes": [],
            "_model_module": "@jupyter-widgets/controls",
            "_model_module_version": "1.5.0",
            "_model_name": "VBoxModel",
            "_view_count": null,
            "_view_module": "@jupyter-widgets/controls",
            "_view_module_version": "1.5.0",
            "_view_name": "VBoxView",
            "box_style": "",
            "children": [
              "IPY_MODEL_dde0175a9de74c6b83d83f83e34bd64d",
              "IPY_MODEL_459f9ed5be3f43c58c317360d5978802"
            ],
            "layout": "IPY_MODEL_87ec4a818eec42db903d185fbdee7e9c"
          }
        },
        "dde0175a9de74c6b83d83f83e34bd64d": {
          "model_module": "@jupyter-widgets/controls",
          "model_name": "LabelModel",
          "model_module_version": "1.5.0",
          "state": {
            "_dom_classes": [],
            "_model_module": "@jupyter-widgets/controls",
            "_model_module_version": "1.5.0",
            "_model_name": "LabelModel",
            "_view_count": null,
            "_view_module": "@jupyter-widgets/controls",
            "_view_module_version": "1.5.0",
            "_view_name": "LabelView",
            "description": "",
            "description_tooltip": null,
            "layout": "IPY_MODEL_b18aa49ccb434bd8a51d349df8f7b8fc",
            "placeholder": "​",
            "style": "IPY_MODEL_60e85bb57cdf4ce48bf414a0ed22fcb9",
            "value": "0.001 MB of 0.001 MB uploaded (0.000 MB deduped)\r"
          }
        },
        "459f9ed5be3f43c58c317360d5978802": {
          "model_module": "@jupyter-widgets/controls",
          "model_name": "FloatProgressModel",
          "model_module_version": "1.5.0",
          "state": {
            "_dom_classes": [],
            "_model_module": "@jupyter-widgets/controls",
            "_model_module_version": "1.5.0",
            "_model_name": "FloatProgressModel",
            "_view_count": null,
            "_view_module": "@jupyter-widgets/controls",
            "_view_module_version": "1.5.0",
            "_view_name": "ProgressView",
            "bar_style": "",
            "description": "",
            "description_tooltip": null,
            "layout": "IPY_MODEL_dfef07b89a3f47258fad9a5f94777f7b",
            "max": 1,
            "min": 0,
            "orientation": "horizontal",
            "style": "IPY_MODEL_45ff01113e32434782bc90638987948b",
            "value": 1
          }
        },
        "87ec4a818eec42db903d185fbdee7e9c": {
          "model_module": "@jupyter-widgets/base",
          "model_name": "LayoutModel",
          "model_module_version": "1.2.0",
          "state": {
            "_model_module": "@jupyter-widgets/base",
            "_model_module_version": "1.2.0",
            "_model_name": "LayoutModel",
            "_view_count": null,
            "_view_module": "@jupyter-widgets/base",
            "_view_module_version": "1.2.0",
            "_view_name": "LayoutView",
            "align_content": null,
            "align_items": null,
            "align_self": null,
            "border": null,
            "bottom": null,
            "display": null,
            "flex": null,
            "flex_flow": null,
            "grid_area": null,
            "grid_auto_columns": null,
            "grid_auto_flow": null,
            "grid_auto_rows": null,
            "grid_column": null,
            "grid_gap": null,
            "grid_row": null,
            "grid_template_areas": null,
            "grid_template_columns": null,
            "grid_template_rows": null,
            "height": null,
            "justify_content": null,
            "justify_items": null,
            "left": null,
            "margin": null,
            "max_height": null,
            "max_width": null,
            "min_height": null,
            "min_width": null,
            "object_fit": null,
            "object_position": null,
            "order": null,
            "overflow": null,
            "overflow_x": null,
            "overflow_y": null,
            "padding": null,
            "right": null,
            "top": null,
            "visibility": null,
            "width": null
          }
        },
        "b18aa49ccb434bd8a51d349df8f7b8fc": {
          "model_module": "@jupyter-widgets/base",
          "model_name": "LayoutModel",
          "model_module_version": "1.2.0",
          "state": {
            "_model_module": "@jupyter-widgets/base",
            "_model_module_version": "1.2.0",
            "_model_name": "LayoutModel",
            "_view_count": null,
            "_view_module": "@jupyter-widgets/base",
            "_view_module_version": "1.2.0",
            "_view_name": "LayoutView",
            "align_content": null,
            "align_items": null,
            "align_self": null,
            "border": null,
            "bottom": null,
            "display": null,
            "flex": null,
            "flex_flow": null,
            "grid_area": null,
            "grid_auto_columns": null,
            "grid_auto_flow": null,
            "grid_auto_rows": null,
            "grid_column": null,
            "grid_gap": null,
            "grid_row": null,
            "grid_template_areas": null,
            "grid_template_columns": null,
            "grid_template_rows": null,
            "height": null,
            "justify_content": null,
            "justify_items": null,
            "left": null,
            "margin": null,
            "max_height": null,
            "max_width": null,
            "min_height": null,
            "min_width": null,
            "object_fit": null,
            "object_position": null,
            "order": null,
            "overflow": null,
            "overflow_x": null,
            "overflow_y": null,
            "padding": null,
            "right": null,
            "top": null,
            "visibility": null,
            "width": null
          }
        },
        "60e85bb57cdf4ce48bf414a0ed22fcb9": {
          "model_module": "@jupyter-widgets/controls",
          "model_name": "DescriptionStyleModel",
          "model_module_version": "1.5.0",
          "state": {
            "_model_module": "@jupyter-widgets/controls",
            "_model_module_version": "1.5.0",
            "_model_name": "DescriptionStyleModel",
            "_view_count": null,
            "_view_module": "@jupyter-widgets/base",
            "_view_module_version": "1.2.0",
            "_view_name": "StyleView",
            "description_width": ""
          }
        },
        "dfef07b89a3f47258fad9a5f94777f7b": {
          "model_module": "@jupyter-widgets/base",
          "model_name": "LayoutModel",
          "model_module_version": "1.2.0",
          "state": {
            "_model_module": "@jupyter-widgets/base",
            "_model_module_version": "1.2.0",
            "_model_name": "LayoutModel",
            "_view_count": null,
            "_view_module": "@jupyter-widgets/base",
            "_view_module_version": "1.2.0",
            "_view_name": "LayoutView",
            "align_content": null,
            "align_items": null,
            "align_self": null,
            "border": null,
            "bottom": null,
            "display": null,
            "flex": null,
            "flex_flow": null,
            "grid_area": null,
            "grid_auto_columns": null,
            "grid_auto_flow": null,
            "grid_auto_rows": null,
            "grid_column": null,
            "grid_gap": null,
            "grid_row": null,
            "grid_template_areas": null,
            "grid_template_columns": null,
            "grid_template_rows": null,
            "height": null,
            "justify_content": null,
            "justify_items": null,
            "left": null,
            "margin": null,
            "max_height": null,
            "max_width": null,
            "min_height": null,
            "min_width": null,
            "object_fit": null,
            "object_position": null,
            "order": null,
            "overflow": null,
            "overflow_x": null,
            "overflow_y": null,
            "padding": null,
            "right": null,
            "top": null,
            "visibility": null,
            "width": null
          }
        },
        "45ff01113e32434782bc90638987948b": {
          "model_module": "@jupyter-widgets/controls",
          "model_name": "ProgressStyleModel",
          "model_module_version": "1.5.0",
          "state": {
            "_model_module": "@jupyter-widgets/controls",
            "_model_module_version": "1.5.0",
            "_model_name": "ProgressStyleModel",
            "_view_count": null,
            "_view_module": "@jupyter-widgets/base",
            "_view_module_version": "1.2.0",
            "_view_name": "StyleView",
            "bar_color": null,
            "description_width": ""
          }
        },
        "8a24a7fbf5234c4b967490e8a00dffa5": {
          "model_module": "@jupyter-widgets/controls",
          "model_name": "VBoxModel",
          "model_module_version": "1.5.0",
          "state": {
            "_dom_classes": [],
            "_model_module": "@jupyter-widgets/controls",
            "_model_module_version": "1.5.0",
            "_model_name": "VBoxModel",
            "_view_count": null,
            "_view_module": "@jupyter-widgets/controls",
            "_view_module_version": "1.5.0",
            "_view_name": "VBoxView",
            "box_style": "",
            "children": [
              "IPY_MODEL_e6018c2f33954c8595571c3a0938c3da",
              "IPY_MODEL_e429bbfa4e284e6494e39070c5589c70"
            ],
            "layout": "IPY_MODEL_77e6b4dd0c7d4a0686d8719bbfc09329"
          }
        },
        "e6018c2f33954c8595571c3a0938c3da": {
          "model_module": "@jupyter-widgets/controls",
          "model_name": "LabelModel",
          "model_module_version": "1.5.0",
          "state": {
            "_dom_classes": [],
            "_model_module": "@jupyter-widgets/controls",
            "_model_module_version": "1.5.0",
            "_model_name": "LabelModel",
            "_view_count": null,
            "_view_module": "@jupyter-widgets/controls",
            "_view_module_version": "1.5.0",
            "_view_name": "LabelView",
            "description": "",
            "description_tooltip": null,
            "layout": "IPY_MODEL_5fac55a8500b477d9541767a9a3120c8",
            "placeholder": "​",
            "style": "IPY_MODEL_506593aba5984bbf887f48a52f54a600",
            "value": "0.001 MB of 0.012 MB uploaded (0.000 MB deduped)\r"
          }
        },
        "e429bbfa4e284e6494e39070c5589c70": {
          "model_module": "@jupyter-widgets/controls",
          "model_name": "FloatProgressModel",
          "model_module_version": "1.5.0",
          "state": {
            "_dom_classes": [],
            "_model_module": "@jupyter-widgets/controls",
            "_model_module_version": "1.5.0",
            "_model_name": "FloatProgressModel",
            "_view_count": null,
            "_view_module": "@jupyter-widgets/controls",
            "_view_module_version": "1.5.0",
            "_view_name": "ProgressView",
            "bar_style": "",
            "description": "",
            "description_tooltip": null,
            "layout": "IPY_MODEL_fa7bdb748e934cf485af4b3b1729fd16",
            "max": 1,
            "min": 0,
            "orientation": "horizontal",
            "style": "IPY_MODEL_10b32cfe812c4f718d278101523cfd64",
            "value": 0.059828367875647666
          }
        },
        "77e6b4dd0c7d4a0686d8719bbfc09329": {
          "model_module": "@jupyter-widgets/base",
          "model_name": "LayoutModel",
          "model_module_version": "1.2.0",
          "state": {
            "_model_module": "@jupyter-widgets/base",
            "_model_module_version": "1.2.0",
            "_model_name": "LayoutModel",
            "_view_count": null,
            "_view_module": "@jupyter-widgets/base",
            "_view_module_version": "1.2.0",
            "_view_name": "LayoutView",
            "align_content": null,
            "align_items": null,
            "align_self": null,
            "border": null,
            "bottom": null,
            "display": null,
            "flex": null,
            "flex_flow": null,
            "grid_area": null,
            "grid_auto_columns": null,
            "grid_auto_flow": null,
            "grid_auto_rows": null,
            "grid_column": null,
            "grid_gap": null,
            "grid_row": null,
            "grid_template_areas": null,
            "grid_template_columns": null,
            "grid_template_rows": null,
            "height": null,
            "justify_content": null,
            "justify_items": null,
            "left": null,
            "margin": null,
            "max_height": null,
            "max_width": null,
            "min_height": null,
            "min_width": null,
            "object_fit": null,
            "object_position": null,
            "order": null,
            "overflow": null,
            "overflow_x": null,
            "overflow_y": null,
            "padding": null,
            "right": null,
            "top": null,
            "visibility": null,
            "width": null
          }
        },
        "5fac55a8500b477d9541767a9a3120c8": {
          "model_module": "@jupyter-widgets/base",
          "model_name": "LayoutModel",
          "model_module_version": "1.2.0",
          "state": {
            "_model_module": "@jupyter-widgets/base",
            "_model_module_version": "1.2.0",
            "_model_name": "LayoutModel",
            "_view_count": null,
            "_view_module": "@jupyter-widgets/base",
            "_view_module_version": "1.2.0",
            "_view_name": "LayoutView",
            "align_content": null,
            "align_items": null,
            "align_self": null,
            "border": null,
            "bottom": null,
            "display": null,
            "flex": null,
            "flex_flow": null,
            "grid_area": null,
            "grid_auto_columns": null,
            "grid_auto_flow": null,
            "grid_auto_rows": null,
            "grid_column": null,
            "grid_gap": null,
            "grid_row": null,
            "grid_template_areas": null,
            "grid_template_columns": null,
            "grid_template_rows": null,
            "height": null,
            "justify_content": null,
            "justify_items": null,
            "left": null,
            "margin": null,
            "max_height": null,
            "max_width": null,
            "min_height": null,
            "min_width": null,
            "object_fit": null,
            "object_position": null,
            "order": null,
            "overflow": null,
            "overflow_x": null,
            "overflow_y": null,
            "padding": null,
            "right": null,
            "top": null,
            "visibility": null,
            "width": null
          }
        },
        "506593aba5984bbf887f48a52f54a600": {
          "model_module": "@jupyter-widgets/controls",
          "model_name": "DescriptionStyleModel",
          "model_module_version": "1.5.0",
          "state": {
            "_model_module": "@jupyter-widgets/controls",
            "_model_module_version": "1.5.0",
            "_model_name": "DescriptionStyleModel",
            "_view_count": null,
            "_view_module": "@jupyter-widgets/base",
            "_view_module_version": "1.2.0",
            "_view_name": "StyleView",
            "description_width": ""
          }
        },
        "fa7bdb748e934cf485af4b3b1729fd16": {
          "model_module": "@jupyter-widgets/base",
          "model_name": "LayoutModel",
          "model_module_version": "1.2.0",
          "state": {
            "_model_module": "@jupyter-widgets/base",
            "_model_module_version": "1.2.0",
            "_model_name": "LayoutModel",
            "_view_count": null,
            "_view_module": "@jupyter-widgets/base",
            "_view_module_version": "1.2.0",
            "_view_name": "LayoutView",
            "align_content": null,
            "align_items": null,
            "align_self": null,
            "border": null,
            "bottom": null,
            "display": null,
            "flex": null,
            "flex_flow": null,
            "grid_area": null,
            "grid_auto_columns": null,
            "grid_auto_flow": null,
            "grid_auto_rows": null,
            "grid_column": null,
            "grid_gap": null,
            "grid_row": null,
            "grid_template_areas": null,
            "grid_template_columns": null,
            "grid_template_rows": null,
            "height": null,
            "justify_content": null,
            "justify_items": null,
            "left": null,
            "margin": null,
            "max_height": null,
            "max_width": null,
            "min_height": null,
            "min_width": null,
            "object_fit": null,
            "object_position": null,
            "order": null,
            "overflow": null,
            "overflow_x": null,
            "overflow_y": null,
            "padding": null,
            "right": null,
            "top": null,
            "visibility": null,
            "width": null
          }
        },
        "10b32cfe812c4f718d278101523cfd64": {
          "model_module": "@jupyter-widgets/controls",
          "model_name": "ProgressStyleModel",
          "model_module_version": "1.5.0",
          "state": {
            "_model_module": "@jupyter-widgets/controls",
            "_model_module_version": "1.5.0",
            "_model_name": "ProgressStyleModel",
            "_view_count": null,
            "_view_module": "@jupyter-widgets/base",
            "_view_module_version": "1.2.0",
            "_view_name": "StyleView",
            "bar_color": null,
            "description_width": ""
          }
        },
        "6be0fd59d9744111aa713a8fefece2a4": {
          "model_module": "@jupyter-widgets/controls",
          "model_name": "VBoxModel",
          "model_module_version": "1.5.0",
          "state": {
            "_dom_classes": [],
            "_model_module": "@jupyter-widgets/controls",
            "_model_module_version": "1.5.0",
            "_model_name": "VBoxModel",
            "_view_count": null,
            "_view_module": "@jupyter-widgets/controls",
            "_view_module_version": "1.5.0",
            "_view_name": "VBoxView",
            "box_style": "",
            "children": [
              "IPY_MODEL_7766a6916e534dbfa8b31ca3f2898cb9",
              "IPY_MODEL_42dff0a937a2476ab8446f66ca47921c"
            ],
            "layout": "IPY_MODEL_7fd949cacbf84c4d9d750531595c2cf3"
          }
        },
        "7766a6916e534dbfa8b31ca3f2898cb9": {
          "model_module": "@jupyter-widgets/controls",
          "model_name": "LabelModel",
          "model_module_version": "1.5.0",
          "state": {
            "_dom_classes": [],
            "_model_module": "@jupyter-widgets/controls",
            "_model_module_version": "1.5.0",
            "_model_name": "LabelModel",
            "_view_count": null,
            "_view_module": "@jupyter-widgets/controls",
            "_view_module_version": "1.5.0",
            "_view_name": "LabelView",
            "description": "",
            "description_tooltip": null,
            "layout": "IPY_MODEL_c224a084848041329fcd513c2b6e742e",
            "placeholder": "​",
            "style": "IPY_MODEL_31d9586ed13c4f53a2d361ed4c7e2896",
            "value": "0.001 MB of 0.014 MB uploaded (0.000 MB deduped)\r"
          }
        },
        "42dff0a937a2476ab8446f66ca47921c": {
          "model_module": "@jupyter-widgets/controls",
          "model_name": "FloatProgressModel",
          "model_module_version": "1.5.0",
          "state": {
            "_dom_classes": [],
            "_model_module": "@jupyter-widgets/controls",
            "_model_module_version": "1.5.0",
            "_model_name": "FloatProgressModel",
            "_view_count": null,
            "_view_module": "@jupyter-widgets/controls",
            "_view_module_version": "1.5.0",
            "_view_name": "ProgressView",
            "bar_style": "",
            "description": "",
            "description_tooltip": null,
            "layout": "IPY_MODEL_07aec03663a24f14bea44f386199147f",
            "max": 1,
            "min": 0,
            "orientation": "horizontal",
            "style": "IPY_MODEL_51e439b1f9294a288082357072b44e53",
            "value": 0.049564050972501675
          }
        },
        "7fd949cacbf84c4d9d750531595c2cf3": {
          "model_module": "@jupyter-widgets/base",
          "model_name": "LayoutModel",
          "model_module_version": "1.2.0",
          "state": {
            "_model_module": "@jupyter-widgets/base",
            "_model_module_version": "1.2.0",
            "_model_name": "LayoutModel",
            "_view_count": null,
            "_view_module": "@jupyter-widgets/base",
            "_view_module_version": "1.2.0",
            "_view_name": "LayoutView",
            "align_content": null,
            "align_items": null,
            "align_self": null,
            "border": null,
            "bottom": null,
            "display": null,
            "flex": null,
            "flex_flow": null,
            "grid_area": null,
            "grid_auto_columns": null,
            "grid_auto_flow": null,
            "grid_auto_rows": null,
            "grid_column": null,
            "grid_gap": null,
            "grid_row": null,
            "grid_template_areas": null,
            "grid_template_columns": null,
            "grid_template_rows": null,
            "height": null,
            "justify_content": null,
            "justify_items": null,
            "left": null,
            "margin": null,
            "max_height": null,
            "max_width": null,
            "min_height": null,
            "min_width": null,
            "object_fit": null,
            "object_position": null,
            "order": null,
            "overflow": null,
            "overflow_x": null,
            "overflow_y": null,
            "padding": null,
            "right": null,
            "top": null,
            "visibility": null,
            "width": null
          }
        },
        "c224a084848041329fcd513c2b6e742e": {
          "model_module": "@jupyter-widgets/base",
          "model_name": "LayoutModel",
          "model_module_version": "1.2.0",
          "state": {
            "_model_module": "@jupyter-widgets/base",
            "_model_module_version": "1.2.0",
            "_model_name": "LayoutModel",
            "_view_count": null,
            "_view_module": "@jupyter-widgets/base",
            "_view_module_version": "1.2.0",
            "_view_name": "LayoutView",
            "align_content": null,
            "align_items": null,
            "align_self": null,
            "border": null,
            "bottom": null,
            "display": null,
            "flex": null,
            "flex_flow": null,
            "grid_area": null,
            "grid_auto_columns": null,
            "grid_auto_flow": null,
            "grid_auto_rows": null,
            "grid_column": null,
            "grid_gap": null,
            "grid_row": null,
            "grid_template_areas": null,
            "grid_template_columns": null,
            "grid_template_rows": null,
            "height": null,
            "justify_content": null,
            "justify_items": null,
            "left": null,
            "margin": null,
            "max_height": null,
            "max_width": null,
            "min_height": null,
            "min_width": null,
            "object_fit": null,
            "object_position": null,
            "order": null,
            "overflow": null,
            "overflow_x": null,
            "overflow_y": null,
            "padding": null,
            "right": null,
            "top": null,
            "visibility": null,
            "width": null
          }
        },
        "31d9586ed13c4f53a2d361ed4c7e2896": {
          "model_module": "@jupyter-widgets/controls",
          "model_name": "DescriptionStyleModel",
          "model_module_version": "1.5.0",
          "state": {
            "_model_module": "@jupyter-widgets/controls",
            "_model_module_version": "1.5.0",
            "_model_name": "DescriptionStyleModel",
            "_view_count": null,
            "_view_module": "@jupyter-widgets/base",
            "_view_module_version": "1.2.0",
            "_view_name": "StyleView",
            "description_width": ""
          }
        },
        "07aec03663a24f14bea44f386199147f": {
          "model_module": "@jupyter-widgets/base",
          "model_name": "LayoutModel",
          "model_module_version": "1.2.0",
          "state": {
            "_model_module": "@jupyter-widgets/base",
            "_model_module_version": "1.2.0",
            "_model_name": "LayoutModel",
            "_view_count": null,
            "_view_module": "@jupyter-widgets/base",
            "_view_module_version": "1.2.0",
            "_view_name": "LayoutView",
            "align_content": null,
            "align_items": null,
            "align_self": null,
            "border": null,
            "bottom": null,
            "display": null,
            "flex": null,
            "flex_flow": null,
            "grid_area": null,
            "grid_auto_columns": null,
            "grid_auto_flow": null,
            "grid_auto_rows": null,
            "grid_column": null,
            "grid_gap": null,
            "grid_row": null,
            "grid_template_areas": null,
            "grid_template_columns": null,
            "grid_template_rows": null,
            "height": null,
            "justify_content": null,
            "justify_items": null,
            "left": null,
            "margin": null,
            "max_height": null,
            "max_width": null,
            "min_height": null,
            "min_width": null,
            "object_fit": null,
            "object_position": null,
            "order": null,
            "overflow": null,
            "overflow_x": null,
            "overflow_y": null,
            "padding": null,
            "right": null,
            "top": null,
            "visibility": null,
            "width": null
          }
        },
        "51e439b1f9294a288082357072b44e53": {
          "model_module": "@jupyter-widgets/controls",
          "model_name": "ProgressStyleModel",
          "model_module_version": "1.5.0",
          "state": {
            "_model_module": "@jupyter-widgets/controls",
            "_model_module_version": "1.5.0",
            "_model_name": "ProgressStyleModel",
            "_view_count": null,
            "_view_module": "@jupyter-widgets/base",
            "_view_module_version": "1.2.0",
            "_view_name": "StyleView",
            "bar_color": null,
            "description_width": ""
          }
        },
        "cfcbdef9d0ea480cb4b96fd2d3d9643b": {
          "model_module": "@jupyter-widgets/controls",
          "model_name": "VBoxModel",
          "model_module_version": "1.5.0",
          "state": {
            "_dom_classes": [],
            "_model_module": "@jupyter-widgets/controls",
            "_model_module_version": "1.5.0",
            "_model_name": "VBoxModel",
            "_view_count": null,
            "_view_module": "@jupyter-widgets/controls",
            "_view_module_version": "1.5.0",
            "_view_name": "VBoxView",
            "box_style": "",
            "children": [
              "IPY_MODEL_7131707dedca4e34abcd2b0938e92dc6",
              "IPY_MODEL_1026f12689e045479592c69987847197"
            ],
            "layout": "IPY_MODEL_b14e2efdf18f4f359649337becc31d9c"
          }
        },
        "7131707dedca4e34abcd2b0938e92dc6": {
          "model_module": "@jupyter-widgets/controls",
          "model_name": "LabelModel",
          "model_module_version": "1.5.0",
          "state": {
            "_dom_classes": [],
            "_model_module": "@jupyter-widgets/controls",
            "_model_module_version": "1.5.0",
            "_model_name": "LabelModel",
            "_view_count": null,
            "_view_module": "@jupyter-widgets/controls",
            "_view_module_version": "1.5.0",
            "_view_name": "LabelView",
            "description": "",
            "description_tooltip": null,
            "layout": "IPY_MODEL_18b2c66871534eb8ab2af074d6e50cff",
            "placeholder": "​",
            "style": "IPY_MODEL_b681eaaf40d64d4d9ce3aa4ff9f89400",
            "value": "0.001 MB of 0.001 MB uploaded (0.000 MB deduped)\r"
          }
        },
        "1026f12689e045479592c69987847197": {
          "model_module": "@jupyter-widgets/controls",
          "model_name": "FloatProgressModel",
          "model_module_version": "1.5.0",
          "state": {
            "_dom_classes": [],
            "_model_module": "@jupyter-widgets/controls",
            "_model_module_version": "1.5.0",
            "_model_name": "FloatProgressModel",
            "_view_count": null,
            "_view_module": "@jupyter-widgets/controls",
            "_view_module_version": "1.5.0",
            "_view_name": "ProgressView",
            "bar_style": "",
            "description": "",
            "description_tooltip": null,
            "layout": "IPY_MODEL_662fedb63c8f49b2af1026f021d1654f",
            "max": 1,
            "min": 0,
            "orientation": "horizontal",
            "style": "IPY_MODEL_6f7371e5ff8548de9bd52ec02ea3ce0d",
            "value": 1
          }
        },
        "b14e2efdf18f4f359649337becc31d9c": {
          "model_module": "@jupyter-widgets/base",
          "model_name": "LayoutModel",
          "model_module_version": "1.2.0",
          "state": {
            "_model_module": "@jupyter-widgets/base",
            "_model_module_version": "1.2.0",
            "_model_name": "LayoutModel",
            "_view_count": null,
            "_view_module": "@jupyter-widgets/base",
            "_view_module_version": "1.2.0",
            "_view_name": "LayoutView",
            "align_content": null,
            "align_items": null,
            "align_self": null,
            "border": null,
            "bottom": null,
            "display": null,
            "flex": null,
            "flex_flow": null,
            "grid_area": null,
            "grid_auto_columns": null,
            "grid_auto_flow": null,
            "grid_auto_rows": null,
            "grid_column": null,
            "grid_gap": null,
            "grid_row": null,
            "grid_template_areas": null,
            "grid_template_columns": null,
            "grid_template_rows": null,
            "height": null,
            "justify_content": null,
            "justify_items": null,
            "left": null,
            "margin": null,
            "max_height": null,
            "max_width": null,
            "min_height": null,
            "min_width": null,
            "object_fit": null,
            "object_position": null,
            "order": null,
            "overflow": null,
            "overflow_x": null,
            "overflow_y": null,
            "padding": null,
            "right": null,
            "top": null,
            "visibility": null,
            "width": null
          }
        },
        "18b2c66871534eb8ab2af074d6e50cff": {
          "model_module": "@jupyter-widgets/base",
          "model_name": "LayoutModel",
          "model_module_version": "1.2.0",
          "state": {
            "_model_module": "@jupyter-widgets/base",
            "_model_module_version": "1.2.0",
            "_model_name": "LayoutModel",
            "_view_count": null,
            "_view_module": "@jupyter-widgets/base",
            "_view_module_version": "1.2.0",
            "_view_name": "LayoutView",
            "align_content": null,
            "align_items": null,
            "align_self": null,
            "border": null,
            "bottom": null,
            "display": null,
            "flex": null,
            "flex_flow": null,
            "grid_area": null,
            "grid_auto_columns": null,
            "grid_auto_flow": null,
            "grid_auto_rows": null,
            "grid_column": null,
            "grid_gap": null,
            "grid_row": null,
            "grid_template_areas": null,
            "grid_template_columns": null,
            "grid_template_rows": null,
            "height": null,
            "justify_content": null,
            "justify_items": null,
            "left": null,
            "margin": null,
            "max_height": null,
            "max_width": null,
            "min_height": null,
            "min_width": null,
            "object_fit": null,
            "object_position": null,
            "order": null,
            "overflow": null,
            "overflow_x": null,
            "overflow_y": null,
            "padding": null,
            "right": null,
            "top": null,
            "visibility": null,
            "width": null
          }
        },
        "b681eaaf40d64d4d9ce3aa4ff9f89400": {
          "model_module": "@jupyter-widgets/controls",
          "model_name": "DescriptionStyleModel",
          "model_module_version": "1.5.0",
          "state": {
            "_model_module": "@jupyter-widgets/controls",
            "_model_module_version": "1.5.0",
            "_model_name": "DescriptionStyleModel",
            "_view_count": null,
            "_view_module": "@jupyter-widgets/base",
            "_view_module_version": "1.2.0",
            "_view_name": "StyleView",
            "description_width": ""
          }
        },
        "662fedb63c8f49b2af1026f021d1654f": {
          "model_module": "@jupyter-widgets/base",
          "model_name": "LayoutModel",
          "model_module_version": "1.2.0",
          "state": {
            "_model_module": "@jupyter-widgets/base",
            "_model_module_version": "1.2.0",
            "_model_name": "LayoutModel",
            "_view_count": null,
            "_view_module": "@jupyter-widgets/base",
            "_view_module_version": "1.2.0",
            "_view_name": "LayoutView",
            "align_content": null,
            "align_items": null,
            "align_self": null,
            "border": null,
            "bottom": null,
            "display": null,
            "flex": null,
            "flex_flow": null,
            "grid_area": null,
            "grid_auto_columns": null,
            "grid_auto_flow": null,
            "grid_auto_rows": null,
            "grid_column": null,
            "grid_gap": null,
            "grid_row": null,
            "grid_template_areas": null,
            "grid_template_columns": null,
            "grid_template_rows": null,
            "height": null,
            "justify_content": null,
            "justify_items": null,
            "left": null,
            "margin": null,
            "max_height": null,
            "max_width": null,
            "min_height": null,
            "min_width": null,
            "object_fit": null,
            "object_position": null,
            "order": null,
            "overflow": null,
            "overflow_x": null,
            "overflow_y": null,
            "padding": null,
            "right": null,
            "top": null,
            "visibility": null,
            "width": null
          }
        },
        "6f7371e5ff8548de9bd52ec02ea3ce0d": {
          "model_module": "@jupyter-widgets/controls",
          "model_name": "ProgressStyleModel",
          "model_module_version": "1.5.0",
          "state": {
            "_model_module": "@jupyter-widgets/controls",
            "_model_module_version": "1.5.0",
            "_model_name": "ProgressStyleModel",
            "_view_count": null,
            "_view_module": "@jupyter-widgets/base",
            "_view_module_version": "1.2.0",
            "_view_name": "StyleView",
            "bar_color": null,
            "description_width": ""
          }
        },
        "e102c3a7908b4773918fc14aeb647bfc": {
          "model_module": "@jupyter-widgets/controls",
          "model_name": "VBoxModel",
          "model_module_version": "1.5.0",
          "state": {
            "_dom_classes": [],
            "_model_module": "@jupyter-widgets/controls",
            "_model_module_version": "1.5.0",
            "_model_name": "VBoxModel",
            "_view_count": null,
            "_view_module": "@jupyter-widgets/controls",
            "_view_module_version": "1.5.0",
            "_view_name": "VBoxView",
            "box_style": "",
            "children": [
              "IPY_MODEL_3a0c6855693942e1b597755eab1a7039",
              "IPY_MODEL_dd74b39c0b2649fcbecb642da6922979"
            ],
            "layout": "IPY_MODEL_bbba22d4d639480683796e92b9272c97"
          }
        },
        "3a0c6855693942e1b597755eab1a7039": {
          "model_module": "@jupyter-widgets/controls",
          "model_name": "LabelModel",
          "model_module_version": "1.5.0",
          "state": {
            "_dom_classes": [],
            "_model_module": "@jupyter-widgets/controls",
            "_model_module_version": "1.5.0",
            "_model_name": "LabelModel",
            "_view_count": null,
            "_view_module": "@jupyter-widgets/controls",
            "_view_module_version": "1.5.0",
            "_view_name": "LabelView",
            "description": "",
            "description_tooltip": null,
            "layout": "IPY_MODEL_44aa4283606e4e7998aab9010c1bfef4",
            "placeholder": "​",
            "style": "IPY_MODEL_6f68ceb52bc04d96906e9c9f306aedc5",
            "value": "0.001 MB of 0.014 MB uploaded (0.000 MB deduped)\r"
          }
        },
        "dd74b39c0b2649fcbecb642da6922979": {
          "model_module": "@jupyter-widgets/controls",
          "model_name": "FloatProgressModel",
          "model_module_version": "1.5.0",
          "state": {
            "_dom_classes": [],
            "_model_module": "@jupyter-widgets/controls",
            "_model_module_version": "1.5.0",
            "_model_name": "FloatProgressModel",
            "_view_count": null,
            "_view_module": "@jupyter-widgets/controls",
            "_view_module_version": "1.5.0",
            "_view_name": "ProgressView",
            "bar_style": "",
            "description": "",
            "description_tooltip": null,
            "layout": "IPY_MODEL_52c7a3647862427bbf02f00a72c78417",
            "max": 1,
            "min": 0,
            "orientation": "horizontal",
            "style": "IPY_MODEL_3ae7e64abab74f958e2b5adfe10ef1a9",
            "value": 0.048927436440677964
          }
        },
        "bbba22d4d639480683796e92b9272c97": {
          "model_module": "@jupyter-widgets/base",
          "model_name": "LayoutModel",
          "model_module_version": "1.2.0",
          "state": {
            "_model_module": "@jupyter-widgets/base",
            "_model_module_version": "1.2.0",
            "_model_name": "LayoutModel",
            "_view_count": null,
            "_view_module": "@jupyter-widgets/base",
            "_view_module_version": "1.2.0",
            "_view_name": "LayoutView",
            "align_content": null,
            "align_items": null,
            "align_self": null,
            "border": null,
            "bottom": null,
            "display": null,
            "flex": null,
            "flex_flow": null,
            "grid_area": null,
            "grid_auto_columns": null,
            "grid_auto_flow": null,
            "grid_auto_rows": null,
            "grid_column": null,
            "grid_gap": null,
            "grid_row": null,
            "grid_template_areas": null,
            "grid_template_columns": null,
            "grid_template_rows": null,
            "height": null,
            "justify_content": null,
            "justify_items": null,
            "left": null,
            "margin": null,
            "max_height": null,
            "max_width": null,
            "min_height": null,
            "min_width": null,
            "object_fit": null,
            "object_position": null,
            "order": null,
            "overflow": null,
            "overflow_x": null,
            "overflow_y": null,
            "padding": null,
            "right": null,
            "top": null,
            "visibility": null,
            "width": null
          }
        },
        "44aa4283606e4e7998aab9010c1bfef4": {
          "model_module": "@jupyter-widgets/base",
          "model_name": "LayoutModel",
          "model_module_version": "1.2.0",
          "state": {
            "_model_module": "@jupyter-widgets/base",
            "_model_module_version": "1.2.0",
            "_model_name": "LayoutModel",
            "_view_count": null,
            "_view_module": "@jupyter-widgets/base",
            "_view_module_version": "1.2.0",
            "_view_name": "LayoutView",
            "align_content": null,
            "align_items": null,
            "align_self": null,
            "border": null,
            "bottom": null,
            "display": null,
            "flex": null,
            "flex_flow": null,
            "grid_area": null,
            "grid_auto_columns": null,
            "grid_auto_flow": null,
            "grid_auto_rows": null,
            "grid_column": null,
            "grid_gap": null,
            "grid_row": null,
            "grid_template_areas": null,
            "grid_template_columns": null,
            "grid_template_rows": null,
            "height": null,
            "justify_content": null,
            "justify_items": null,
            "left": null,
            "margin": null,
            "max_height": null,
            "max_width": null,
            "min_height": null,
            "min_width": null,
            "object_fit": null,
            "object_position": null,
            "order": null,
            "overflow": null,
            "overflow_x": null,
            "overflow_y": null,
            "padding": null,
            "right": null,
            "top": null,
            "visibility": null,
            "width": null
          }
        },
        "6f68ceb52bc04d96906e9c9f306aedc5": {
          "model_module": "@jupyter-widgets/controls",
          "model_name": "DescriptionStyleModel",
          "model_module_version": "1.5.0",
          "state": {
            "_model_module": "@jupyter-widgets/controls",
            "_model_module_version": "1.5.0",
            "_model_name": "DescriptionStyleModel",
            "_view_count": null,
            "_view_module": "@jupyter-widgets/base",
            "_view_module_version": "1.2.0",
            "_view_name": "StyleView",
            "description_width": ""
          }
        },
        "52c7a3647862427bbf02f00a72c78417": {
          "model_module": "@jupyter-widgets/base",
          "model_name": "LayoutModel",
          "model_module_version": "1.2.0",
          "state": {
            "_model_module": "@jupyter-widgets/base",
            "_model_module_version": "1.2.0",
            "_model_name": "LayoutModel",
            "_view_count": null,
            "_view_module": "@jupyter-widgets/base",
            "_view_module_version": "1.2.0",
            "_view_name": "LayoutView",
            "align_content": null,
            "align_items": null,
            "align_self": null,
            "border": null,
            "bottom": null,
            "display": null,
            "flex": null,
            "flex_flow": null,
            "grid_area": null,
            "grid_auto_columns": null,
            "grid_auto_flow": null,
            "grid_auto_rows": null,
            "grid_column": null,
            "grid_gap": null,
            "grid_row": null,
            "grid_template_areas": null,
            "grid_template_columns": null,
            "grid_template_rows": null,
            "height": null,
            "justify_content": null,
            "justify_items": null,
            "left": null,
            "margin": null,
            "max_height": null,
            "max_width": null,
            "min_height": null,
            "min_width": null,
            "object_fit": null,
            "object_position": null,
            "order": null,
            "overflow": null,
            "overflow_x": null,
            "overflow_y": null,
            "padding": null,
            "right": null,
            "top": null,
            "visibility": null,
            "width": null
          }
        },
        "3ae7e64abab74f958e2b5adfe10ef1a9": {
          "model_module": "@jupyter-widgets/controls",
          "model_name": "ProgressStyleModel",
          "model_module_version": "1.5.0",
          "state": {
            "_model_module": "@jupyter-widgets/controls",
            "_model_module_version": "1.5.0",
            "_model_name": "ProgressStyleModel",
            "_view_count": null,
            "_view_module": "@jupyter-widgets/base",
            "_view_module_version": "1.2.0",
            "_view_name": "StyleView",
            "bar_color": null,
            "description_width": ""
          }
        },
        "701c5dd73ed844e8895d749977570906": {
          "model_module": "@jupyter-widgets/controls",
          "model_name": "VBoxModel",
          "model_module_version": "1.5.0",
          "state": {
            "_dom_classes": [],
            "_model_module": "@jupyter-widgets/controls",
            "_model_module_version": "1.5.0",
            "_model_name": "VBoxModel",
            "_view_count": null,
            "_view_module": "@jupyter-widgets/controls",
            "_view_module_version": "1.5.0",
            "_view_name": "VBoxView",
            "box_style": "",
            "children": [
              "IPY_MODEL_b0e50287528449c995aac0289965152d",
              "IPY_MODEL_47211e839c3a4bb7bf368823d0410600"
            ],
            "layout": "IPY_MODEL_c3c6cd5ec7cb4a8bad4c8cd1fd323707"
          }
        },
        "b0e50287528449c995aac0289965152d": {
          "model_module": "@jupyter-widgets/controls",
          "model_name": "LabelModel",
          "model_module_version": "1.5.0",
          "state": {
            "_dom_classes": [],
            "_model_module": "@jupyter-widgets/controls",
            "_model_module_version": "1.5.0",
            "_model_name": "LabelModel",
            "_view_count": null,
            "_view_module": "@jupyter-widgets/controls",
            "_view_module_version": "1.5.0",
            "_view_name": "LabelView",
            "description": "",
            "description_tooltip": null,
            "layout": "IPY_MODEL_0caec67f0b83439cb7b735f1d3d96f3a",
            "placeholder": "​",
            "style": "IPY_MODEL_6d8781b713b84354ac62b57c945eda52",
            "value": "0.001 MB of 0.009 MB uploaded (0.000 MB deduped)\r"
          }
        },
        "47211e839c3a4bb7bf368823d0410600": {
          "model_module": "@jupyter-widgets/controls",
          "model_name": "FloatProgressModel",
          "model_module_version": "1.5.0",
          "state": {
            "_dom_classes": [],
            "_model_module": "@jupyter-widgets/controls",
            "_model_module_version": "1.5.0",
            "_model_name": "FloatProgressModel",
            "_view_count": null,
            "_view_module": "@jupyter-widgets/controls",
            "_view_module_version": "1.5.0",
            "_view_name": "ProgressView",
            "bar_style": "",
            "description": "",
            "description_tooltip": null,
            "layout": "IPY_MODEL_44ef743f6c544383ab12ba838136cf52",
            "max": 1,
            "min": 0,
            "orientation": "horizontal",
            "style": "IPY_MODEL_530ca8067afb4a38a48b6dd0a69f1c42",
            "value": 0.08267055001680296
          }
        },
        "c3c6cd5ec7cb4a8bad4c8cd1fd323707": {
          "model_module": "@jupyter-widgets/base",
          "model_name": "LayoutModel",
          "model_module_version": "1.2.0",
          "state": {
            "_model_module": "@jupyter-widgets/base",
            "_model_module_version": "1.2.0",
            "_model_name": "LayoutModel",
            "_view_count": null,
            "_view_module": "@jupyter-widgets/base",
            "_view_module_version": "1.2.0",
            "_view_name": "LayoutView",
            "align_content": null,
            "align_items": null,
            "align_self": null,
            "border": null,
            "bottom": null,
            "display": null,
            "flex": null,
            "flex_flow": null,
            "grid_area": null,
            "grid_auto_columns": null,
            "grid_auto_flow": null,
            "grid_auto_rows": null,
            "grid_column": null,
            "grid_gap": null,
            "grid_row": null,
            "grid_template_areas": null,
            "grid_template_columns": null,
            "grid_template_rows": null,
            "height": null,
            "justify_content": null,
            "justify_items": null,
            "left": null,
            "margin": null,
            "max_height": null,
            "max_width": null,
            "min_height": null,
            "min_width": null,
            "object_fit": null,
            "object_position": null,
            "order": null,
            "overflow": null,
            "overflow_x": null,
            "overflow_y": null,
            "padding": null,
            "right": null,
            "top": null,
            "visibility": null,
            "width": null
          }
        },
        "0caec67f0b83439cb7b735f1d3d96f3a": {
          "model_module": "@jupyter-widgets/base",
          "model_name": "LayoutModel",
          "model_module_version": "1.2.0",
          "state": {
            "_model_module": "@jupyter-widgets/base",
            "_model_module_version": "1.2.0",
            "_model_name": "LayoutModel",
            "_view_count": null,
            "_view_module": "@jupyter-widgets/base",
            "_view_module_version": "1.2.0",
            "_view_name": "LayoutView",
            "align_content": null,
            "align_items": null,
            "align_self": null,
            "border": null,
            "bottom": null,
            "display": null,
            "flex": null,
            "flex_flow": null,
            "grid_area": null,
            "grid_auto_columns": null,
            "grid_auto_flow": null,
            "grid_auto_rows": null,
            "grid_column": null,
            "grid_gap": null,
            "grid_row": null,
            "grid_template_areas": null,
            "grid_template_columns": null,
            "grid_template_rows": null,
            "height": null,
            "justify_content": null,
            "justify_items": null,
            "left": null,
            "margin": null,
            "max_height": null,
            "max_width": null,
            "min_height": null,
            "min_width": null,
            "object_fit": null,
            "object_position": null,
            "order": null,
            "overflow": null,
            "overflow_x": null,
            "overflow_y": null,
            "padding": null,
            "right": null,
            "top": null,
            "visibility": null,
            "width": null
          }
        },
        "6d8781b713b84354ac62b57c945eda52": {
          "model_module": "@jupyter-widgets/controls",
          "model_name": "DescriptionStyleModel",
          "model_module_version": "1.5.0",
          "state": {
            "_model_module": "@jupyter-widgets/controls",
            "_model_module_version": "1.5.0",
            "_model_name": "DescriptionStyleModel",
            "_view_count": null,
            "_view_module": "@jupyter-widgets/base",
            "_view_module_version": "1.2.0",
            "_view_name": "StyleView",
            "description_width": ""
          }
        },
        "44ef743f6c544383ab12ba838136cf52": {
          "model_module": "@jupyter-widgets/base",
          "model_name": "LayoutModel",
          "model_module_version": "1.2.0",
          "state": {
            "_model_module": "@jupyter-widgets/base",
            "_model_module_version": "1.2.0",
            "_model_name": "LayoutModel",
            "_view_count": null,
            "_view_module": "@jupyter-widgets/base",
            "_view_module_version": "1.2.0",
            "_view_name": "LayoutView",
            "align_content": null,
            "align_items": null,
            "align_self": null,
            "border": null,
            "bottom": null,
            "display": null,
            "flex": null,
            "flex_flow": null,
            "grid_area": null,
            "grid_auto_columns": null,
            "grid_auto_flow": null,
            "grid_auto_rows": null,
            "grid_column": null,
            "grid_gap": null,
            "grid_row": null,
            "grid_template_areas": null,
            "grid_template_columns": null,
            "grid_template_rows": null,
            "height": null,
            "justify_content": null,
            "justify_items": null,
            "left": null,
            "margin": null,
            "max_height": null,
            "max_width": null,
            "min_height": null,
            "min_width": null,
            "object_fit": null,
            "object_position": null,
            "order": null,
            "overflow": null,
            "overflow_x": null,
            "overflow_y": null,
            "padding": null,
            "right": null,
            "top": null,
            "visibility": null,
            "width": null
          }
        },
        "530ca8067afb4a38a48b6dd0a69f1c42": {
          "model_module": "@jupyter-widgets/controls",
          "model_name": "ProgressStyleModel",
          "model_module_version": "1.5.0",
          "state": {
            "_model_module": "@jupyter-widgets/controls",
            "_model_module_version": "1.5.0",
            "_model_name": "ProgressStyleModel",
            "_view_count": null,
            "_view_module": "@jupyter-widgets/base",
            "_view_module_version": "1.2.0",
            "_view_name": "StyleView",
            "bar_color": null,
            "description_width": ""
          }
        },
        "b1c18d1a6e514310895c6cd38c0bd32a": {
          "model_module": "@jupyter-widgets/controls",
          "model_name": "VBoxModel",
          "model_module_version": "1.5.0",
          "state": {
            "_dom_classes": [],
            "_model_module": "@jupyter-widgets/controls",
            "_model_module_version": "1.5.0",
            "_model_name": "VBoxModel",
            "_view_count": null,
            "_view_module": "@jupyter-widgets/controls",
            "_view_module_version": "1.5.0",
            "_view_name": "VBoxView",
            "box_style": "",
            "children": [
              "IPY_MODEL_e93a1d43e3e64b5a888845693973321f",
              "IPY_MODEL_c669241fe39c4882a41a3b37f6b8499d"
            ],
            "layout": "IPY_MODEL_64ecd088b326422a9451ba3b0e36b290"
          }
        },
        "e93a1d43e3e64b5a888845693973321f": {
          "model_module": "@jupyter-widgets/controls",
          "model_name": "LabelModel",
          "model_module_version": "1.5.0",
          "state": {
            "_dom_classes": [],
            "_model_module": "@jupyter-widgets/controls",
            "_model_module_version": "1.5.0",
            "_model_name": "LabelModel",
            "_view_count": null,
            "_view_module": "@jupyter-widgets/controls",
            "_view_module_version": "1.5.0",
            "_view_name": "LabelView",
            "description": "",
            "description_tooltip": null,
            "layout": "IPY_MODEL_70b4b57324c84b39a43ab4ca37c95a4c",
            "placeholder": "​",
            "style": "IPY_MODEL_9335ae5fe2dd44d7b20889adcaa854bf",
            "value": "0.001 MB of 0.012 MB uploaded (0.000 MB deduped)\r"
          }
        },
        "c669241fe39c4882a41a3b37f6b8499d": {
          "model_module": "@jupyter-widgets/controls",
          "model_name": "FloatProgressModel",
          "model_module_version": "1.5.0",
          "state": {
            "_dom_classes": [],
            "_model_module": "@jupyter-widgets/controls",
            "_model_module_version": "1.5.0",
            "_model_name": "FloatProgressModel",
            "_view_count": null,
            "_view_module": "@jupyter-widgets/controls",
            "_view_module_version": "1.5.0",
            "_view_name": "ProgressView",
            "bar_style": "",
            "description": "",
            "description_tooltip": null,
            "layout": "IPY_MODEL_86e4f91dd3d84135b35c3c41775fa071",
            "max": 1,
            "min": 0,
            "orientation": "horizontal",
            "style": "IPY_MODEL_5651b3cbfdc9478e90fa8b4c6671cf1a",
            "value": 0.0605489553461696
          }
        },
        "64ecd088b326422a9451ba3b0e36b290": {
          "model_module": "@jupyter-widgets/base",
          "model_name": "LayoutModel",
          "model_module_version": "1.2.0",
          "state": {
            "_model_module": "@jupyter-widgets/base",
            "_model_module_version": "1.2.0",
            "_model_name": "LayoutModel",
            "_view_count": null,
            "_view_module": "@jupyter-widgets/base",
            "_view_module_version": "1.2.0",
            "_view_name": "LayoutView",
            "align_content": null,
            "align_items": null,
            "align_self": null,
            "border": null,
            "bottom": null,
            "display": null,
            "flex": null,
            "flex_flow": null,
            "grid_area": null,
            "grid_auto_columns": null,
            "grid_auto_flow": null,
            "grid_auto_rows": null,
            "grid_column": null,
            "grid_gap": null,
            "grid_row": null,
            "grid_template_areas": null,
            "grid_template_columns": null,
            "grid_template_rows": null,
            "height": null,
            "justify_content": null,
            "justify_items": null,
            "left": null,
            "margin": null,
            "max_height": null,
            "max_width": null,
            "min_height": null,
            "min_width": null,
            "object_fit": null,
            "object_position": null,
            "order": null,
            "overflow": null,
            "overflow_x": null,
            "overflow_y": null,
            "padding": null,
            "right": null,
            "top": null,
            "visibility": null,
            "width": null
          }
        },
        "70b4b57324c84b39a43ab4ca37c95a4c": {
          "model_module": "@jupyter-widgets/base",
          "model_name": "LayoutModel",
          "model_module_version": "1.2.0",
          "state": {
            "_model_module": "@jupyter-widgets/base",
            "_model_module_version": "1.2.0",
            "_model_name": "LayoutModel",
            "_view_count": null,
            "_view_module": "@jupyter-widgets/base",
            "_view_module_version": "1.2.0",
            "_view_name": "LayoutView",
            "align_content": null,
            "align_items": null,
            "align_self": null,
            "border": null,
            "bottom": null,
            "display": null,
            "flex": null,
            "flex_flow": null,
            "grid_area": null,
            "grid_auto_columns": null,
            "grid_auto_flow": null,
            "grid_auto_rows": null,
            "grid_column": null,
            "grid_gap": null,
            "grid_row": null,
            "grid_template_areas": null,
            "grid_template_columns": null,
            "grid_template_rows": null,
            "height": null,
            "justify_content": null,
            "justify_items": null,
            "left": null,
            "margin": null,
            "max_height": null,
            "max_width": null,
            "min_height": null,
            "min_width": null,
            "object_fit": null,
            "object_position": null,
            "order": null,
            "overflow": null,
            "overflow_x": null,
            "overflow_y": null,
            "padding": null,
            "right": null,
            "top": null,
            "visibility": null,
            "width": null
          }
        },
        "9335ae5fe2dd44d7b20889adcaa854bf": {
          "model_module": "@jupyter-widgets/controls",
          "model_name": "DescriptionStyleModel",
          "model_module_version": "1.5.0",
          "state": {
            "_model_module": "@jupyter-widgets/controls",
            "_model_module_version": "1.5.0",
            "_model_name": "DescriptionStyleModel",
            "_view_count": null,
            "_view_module": "@jupyter-widgets/base",
            "_view_module_version": "1.2.0",
            "_view_name": "StyleView",
            "description_width": ""
          }
        },
        "86e4f91dd3d84135b35c3c41775fa071": {
          "model_module": "@jupyter-widgets/base",
          "model_name": "LayoutModel",
          "model_module_version": "1.2.0",
          "state": {
            "_model_module": "@jupyter-widgets/base",
            "_model_module_version": "1.2.0",
            "_model_name": "LayoutModel",
            "_view_count": null,
            "_view_module": "@jupyter-widgets/base",
            "_view_module_version": "1.2.0",
            "_view_name": "LayoutView",
            "align_content": null,
            "align_items": null,
            "align_self": null,
            "border": null,
            "bottom": null,
            "display": null,
            "flex": null,
            "flex_flow": null,
            "grid_area": null,
            "grid_auto_columns": null,
            "grid_auto_flow": null,
            "grid_auto_rows": null,
            "grid_column": null,
            "grid_gap": null,
            "grid_row": null,
            "grid_template_areas": null,
            "grid_template_columns": null,
            "grid_template_rows": null,
            "height": null,
            "justify_content": null,
            "justify_items": null,
            "left": null,
            "margin": null,
            "max_height": null,
            "max_width": null,
            "min_height": null,
            "min_width": null,
            "object_fit": null,
            "object_position": null,
            "order": null,
            "overflow": null,
            "overflow_x": null,
            "overflow_y": null,
            "padding": null,
            "right": null,
            "top": null,
            "visibility": null,
            "width": null
          }
        },
        "5651b3cbfdc9478e90fa8b4c6671cf1a": {
          "model_module": "@jupyter-widgets/controls",
          "model_name": "ProgressStyleModel",
          "model_module_version": "1.5.0",
          "state": {
            "_model_module": "@jupyter-widgets/controls",
            "_model_module_version": "1.5.0",
            "_model_name": "ProgressStyleModel",
            "_view_count": null,
            "_view_module": "@jupyter-widgets/base",
            "_view_module_version": "1.2.0",
            "_view_name": "StyleView",
            "bar_color": null,
            "description_width": ""
          }
        }
      }
    }
  },
  "nbformat": 4,
  "nbformat_minor": 0
}