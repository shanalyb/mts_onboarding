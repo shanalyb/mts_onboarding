{
  "cells": [
    {
      "cell_type": "code",
      "execution_count": null,
      "metadata": {
        "id": "Owp20xO1OoDo"
      },
      "outputs": [],
      "source": [
        "%pip install wandb -Uqq"
      ]
    },
    {
      "cell_type": "code",
      "execution_count": null,
      "metadata": {
        "colab": {
          "base_uri": "https://localhost:8080/"
        },
        "id": "ArTWd-2aeX7r",
        "outputId": "fe2af7c1-e665-46cf-d09e-18ba42eb5602"
      },
      "outputs": [
        {
          "output_type": "stream",
          "name": "stdout",
          "text": [
            "\u001b[K     |████████████████████████████████| 13.5 MB 5.1 MB/s \n",
            "\u001b[K     |████████████████████████████████| 188 kB 47.6 MB/s \n",
            "\u001b[?25h"
          ]
        }
      ],
      "source": [
        "%pip install nmslib -Uqq"
      ]
    },
    {
      "cell_type": "code",
      "execution_count": null,
      "metadata": {
        "colab": {
          "base_uri": "https://localhost:8080/"
        },
        "id": "xzhrK1x9FJ6z",
        "outputId": "10b4a303-f7e2-4e79-e02d-eb5e8f087435"
      },
      "outputs": [
        {
          "output_type": "stream",
          "name": "stdout",
          "text": [
            "\u001b[K     |████████████████████████████████| 2.0 MB 5.2 MB/s \n",
            "\u001b[K     |████████████████████████████████| 24.1 MB 1.6 MB/s \n",
            "\u001b[?25h"
          ]
        }
      ],
      "source": [
        "%pip install LibRecommender -Uqq"
      ]
    },
    {
      "cell_type": "code",
      "execution_count": null,
      "metadata": {
        "colab": {
          "base_uri": "https://localhost:8080/"
        },
        "id": "WpVLVrPtnGdZ",
        "outputId": "1cffdf0b-c1c3-45ac-96d3-db17f0dc40dc"
      },
      "outputs": [
        {
          "output_type": "stream",
          "name": "stdout",
          "text": [
            "\u001b[K     |████████████████████████████████| 4.7 MB 4.9 MB/s \n",
            "\u001b[?25h"
          ]
        }
      ],
      "source": [
        "%pip install faiss==1.5.3 -Uqq"
      ]
    },
    {
      "cell_type": "code",
      "execution_count": null,
      "metadata": {
        "colab": {
          "base_uri": "https://localhost:8080/"
        },
        "id": "LecCNFAYXuBT",
        "outputId": "f900934c-76f2-4129-b061-16e2b53c42bb"
      },
      "outputs": [
        {
          "output_type": "stream",
          "name": "stdout",
          "text": [
            "\u001b[K     |████████████████████████████████| 45 kB 2.2 MB/s \n",
            "\u001b[K     |████████████████████████████████| 246 kB 8.7 MB/s \n",
            "\u001b[?25h"
          ]
        }
      ],
      "source": [
        "%pip install ujson redis -Uqq"
      ]
    },
    {
      "cell_type": "code",
      "source": [
        "import wandb\n",
        "wandb.login()"
      ],
      "metadata": {
        "id": "F_JurJjZxmPY"
      },
      "execution_count": null,
      "outputs": []
    },
    {
      "cell_type": "code",
      "execution_count": null,
      "metadata": {
        "id": "6LS6-YnNY5rT"
      },
      "outputs": [],
      "source": [
        "import os\n",
        "from pathlib import Path\n",
        "\n",
        "import numpy as np\n",
        "import pandas as pd\n",
        "\n",
        "from libreco.data import random_split, split_by_ratio_chrono, DatasetPure\n",
        "from libreco.algorithms import Caser   # pure data\n",
        "from libreco.evaluation import evaluate\n",
        "\n",
        "import warnings\n",
        "warnings.filterwarnings('ignore')\n",
        "warnings.simplefilter('ignore')"
      ]
    },
    {
      "cell_type": "code",
      "execution_count": null,
      "metadata": {
        "id": "sYjMJUUITNWs"
      },
      "outputs": [],
      "source": [
        "from libserving.serialization import save_embed"
      ]
    },
    {
      "cell_type": "code",
      "source": [
        "MODEL_PATH = \"/content/drive/MyDrive/Colab Notebooks/00-MTC/models/Caser\" \n",
        "if not os.path.isdir(MODEL_PATH):\n",
        "    os.mkdir(MODEL_PATH)  \n",
        "MODEL_NAME = 'Caser'"
      ],
      "metadata": {
        "id": "OGF58N8oR6WL"
      },
      "execution_count": null,
      "outputs": []
    },
    {
      "cell_type": "code",
      "execution_count": null,
      "metadata": {
        "colab": {
          "base_uri": "https://localhost:8080/"
        },
        "id": "zCMxhyEnHErG",
        "outputId": "39b3366f-5843-4904-da61-5f3d44bc4eaf"
      },
      "outputs": [
        {
          "output_type": "stream",
          "name": "stdout",
          "text": [
            "random neg item sampling elapsed: 0.100s\n",
            "random neg item sampling elapsed: 0.011s\n",
            "random neg item sampling elapsed: 0.010s\n",
            "n_users: 610, n_items: 8237, data sparsity: 1.6056 %\n"
          ]
        }
      ],
      "source": [
        "data = pd.read_csv(\"https://s3-us-west-2.amazonaws.com/recommender-tutorial/ratings.csv\")\n",
        "data.columns = [\"user\", \"item\", \"label\", \"time\"]\n",
        "data[\"label\"] = 1 \n",
        "\n",
        "train_data, eval_data, test_data = split_by_ratio_chrono(data, multi_ratios=[0.8, 0.1, 0.1])\n",
        "\n",
        "train_data, data_info = DatasetPure.build_trainset(train_data)\n",
        "eval_data = DatasetPure.build_evalset(eval_data)\n",
        "test_data = DatasetPure.build_testset(test_data)\n",
        "train_data.build_negative_samples(data_info)  # sample negative items for each record\n",
        "eval_data.build_negative_samples(data_info) \n",
        "test_data.build_negative_samples(data_info)\n",
        "print(data_info)   # n_users: 5894, n_items: 3253, data sparsity: 0.4172 %"
      ]
    },
    {
      "cell_type": "code",
      "source": [
        "import tensorflow as tf\n",
        "tf.compat.v1.reset_default_graph()"
      ],
      "metadata": {
        "id": "elTlcb80A61d"
      },
      "execution_count": null,
      "outputs": []
    },
    {
      "cell_type": "code",
      "execution_count": null,
      "metadata": {
        "colab": {
          "base_uri": "https://localhost:8080/",
          "height": 1000,
          "referenced_widgets": [
            "0f3563a806ef4180beb3fa009fc34493",
            "1f768c0f7d89454cbd8213602d499533",
            "eb2d55be927244979f0798bf8c4eb518",
            "ade40ad8c1a0414b9a6a0ee8d8823040",
            "e7304b997b884a009bb1ec1a9778b3c3",
            "4858721283e84f34ad67921bd1003aa7",
            "4f346011c4ed4273874a14a7a95e9aab",
            "eb16e7f823d14d1fa46e25e5e89ea131",
            "f580925dfa794fc0bdb4f835b1861328",
            "fd86f7c0165f48689e378882e6a8d333",
            "0e0751fc9184405e900d69366e61a8e6",
            "fc7684db6aa34fa09ef9ece9d81d9263",
            "0054612649014f2db949e6bfa6db9342",
            "d46bb534b9f14473a15ccd7c2a852803",
            "a534c07c17274cc9aa5a41671106772b",
            "606c889fed46475eb3adc8b1f5acaa73",
            "2c6f7f3ea03c49b192f60b595e067149",
            "f6117edd0560467cb4283718164061eb",
            "04fd137b959f4727b237e34de54e0553",
            "9509e2f45c8b4a4d9b96ff0bcc8988b6",
            "0ce716100fa244afbc5a6787bbc22755",
            "727384908ca344c6b6460248b2dcb504",
            "9f68bb0974f844e48b4709e694f3d22d",
            "3be459f93e5641d9ac6eb1a4771c0171",
            "03fae3ab64ee429ab61432db94a4a748",
            "09e6b0451feb420a801a5d732a20ac6c",
            "47f9c569809240069a5a6536012d9243",
            "dbf2641404934f3c8d48ed3e1516a60c",
            "fe1380c67f5540c188798da28f31dcb6",
            "2f4ab72062c9463ea1c7282864617cec",
            "8bfeb242490849059f801690b09a4a5f",
            "7f74a3c23a0e4cef9d0634dfd1be4c9f",
            "7f625110af8246cb90a7533f6be30bc0",
            "6215dfe9e2f449e6a7d9c0ab5b8fb9c0",
            "3ff73370daca4147963df61c572beda9",
            "eae436bcc92141db8a1406ddb1e19deb",
            "3ef027e2587f4c9293257f37ee1d6e10",
            "e3454ede982d42fba462e41423532c6d",
            "0621f9547b06405899f4009fffa41968",
            "656344d698e44f29bf9153271753285d",
            "08d3da04cdd84329a143f172d1f9fa88",
            "637574a2ece547eca90f977fa28495d2",
            "a8e815106332432dbbbb342b394eff8a",
            "5be2ed11c992496faf7d91ce35418a28",
            "27ac211c89604aaa97bf6a9fb4ed1e31",
            "e436d8e04b134ea89eb0439b37a7bb5b",
            "e631f40af781452d9b766ef9714f8cb3",
            "1208d29b659f4477b637068272e859df",
            "e05731c0d30640eca2eb8d74110038fc",
            "2d72a1fc7e6040fb9e6b0ab14b4b971e",
            "ab6a86aa8d74417bafe255abdf82ecc6",
            "f04af6df796a4df093c2c7b57461ee6a",
            "b7c38b94f1a548c38f4eca089a01fd6f",
            "bbc0761a2a0a483eaa928d7d567d66c4",
            "cffeb046869c43128feceb9e955f356a",
            "90f79ddf76574b59b6120f8c19038082"
          ]
        },
        "id": "o7oiUUXcQAji",
        "outputId": "291548e9-8029-4807-92b5-71b589ef71b4"
      },
      "outputs": [
        {
          "metadata": {
            "tags": null
          },
          "name": "stdout",
          "output_type": "stream",
          "text": [
            "Create sweep with ID: 1xnmnsi1\n",
            "Sweep URL: https://wandb.ai/iloncka-ds/recsys-app/sweeps/1xnmnsi1\n"
          ]
        },
        {
          "metadata": {
            "tags": null
          },
          "name": "stderr",
          "output_type": "stream",
          "text": [
            "\u001b[34m\u001b[1mwandb\u001b[0m: Agent Starting Run: umndml8d with config:\n",
            "\u001b[34m\u001b[1mwandb\u001b[0m: \tbatch_size: 64\n",
            "\u001b[34m\u001b[1mwandb\u001b[0m: \tembed_size: 32\n",
            "\u001b[34m\u001b[1mwandb\u001b[0m: \tlr: 0.01\n",
            "\u001b[34m\u001b[1mwandb\u001b[0m: \tn_epochs: 10\n",
            "Failed to detect the name of this notebook, you can set it manually with the WANDB_NOTEBOOK_NAME environment variable to enable code saving.\n"
          ]
        },
        {
          "data": {
            "text/html": [
              "Tracking run with wandb version 0.13.5"
            ],
            "text/plain": [
              "<IPython.core.display.HTML object>"
            ]
          },
          "metadata": {},
          "output_type": "display_data"
        },
        {
          "data": {
            "text/html": [
              "Run data is saved locally in <code>/content/wandb/run-20221106_152621-umndml8d</code>"
            ],
            "text/plain": [
              "<IPython.core.display.HTML object>"
            ]
          },
          "metadata": {},
          "output_type": "display_data"
        },
        {
          "data": {
            "text/html": [
              "Syncing run <strong><a href=\"https://wandb.ai/iloncka-ds/recsys-app/runs/umndml8d\" target=\"_blank\">stilted-sweep-1</a></strong> to <a href=\"https://wandb.ai/iloncka-ds/recsys-app\" target=\"_blank\">Weights & Biases</a> (<a href=\"https://wandb.me/run\" target=\"_blank\">docs</a>)<br/>Sweep page:  <a href=\"https://wandb.ai/iloncka-ds/recsys-app/sweeps/1xnmnsi1\" target=\"_blank\">https://wandb.ai/iloncka-ds/recsys-app/sweeps/1xnmnsi1</a>"
            ],
            "text/plain": [
              "<IPython.core.display.HTML object>"
            ]
          },
          "metadata": {},
          "output_type": "display_data"
        },
        {
          "metadata": {
            "tags": null
          },
          "name": "stdout",
          "output_type": "stream",
          "text": [
            "total params: \u001b[33m826,893\u001b[0m | embedding params: \u001b[33m818,597\u001b[0m | network params: \u001b[33m8,296\u001b[0m\n",
            "Training start time: \u001b[35m2022-11-06 15:26:24\u001b[0m\n",
            "With lr_decay, epoch 1 learning rate: 0.009999999776482582\n"
          ]
        },
        {
          "metadata": {
            "tags": null
          },
          "name": "stderr",
          "output_type": "stream",
          "text": [
            "train: 100%|██████████| 2521/2521 [00:51<00:00, 49.16it/s]\n"
          ]
        },
        {
          "metadata": {
            "tags": null
          },
          "name": "stdout",
          "output_type": "stream",
          "text": [
            "Epoch 1 elapsed: 51.336s\n",
            "\t \u001b[32mtrain_loss: 0.5042\u001b[0m\n"
          ]
        },
        {
          "metadata": {
            "tags": null
          },
          "name": "stderr",
          "output_type": "stream",
          "text": [
            "eval_pred: 100%|██████████| 3/3 [00:00<00:00, 216.08it/s]\n",
            "eval_rec: 100%|██████████| 610/610 [00:00<00:00, 1806.29it/s]\n"
          ]
        },
        {
          "metadata": {
            "tags": null
          },
          "name": "stdout",
          "output_type": "stream",
          "text": [
            "\t eval log_loss: 0.5229\n",
            "\t eval roc_auc: 0.8312\n",
            "\t eval precision@10: 0.0256\n",
            "\t eval recall@10: 0.0243\n",
            "\t eval map@10: 0.0689\n",
            "\t eval ndcg@10: 0.1021\n",
            "==============================\n",
            "With lr_decay, epoch 2 learning rate: 0.009215999394655228\n"
          ]
        },
        {
          "metadata": {
            "tags": null
          },
          "name": "stderr",
          "output_type": "stream",
          "text": [
            "train: 100%|██████████| 2521/2521 [00:51<00:00, 48.76it/s]\n"
          ]
        },
        {
          "metadata": {
            "tags": null
          },
          "name": "stdout",
          "output_type": "stream",
          "text": [
            "Epoch 2 elapsed: 51.753s\n",
            "\t \u001b[32mtrain_loss: 0.2277\u001b[0m\n"
          ]
        },
        {
          "metadata": {
            "tags": null
          },
          "name": "stderr",
          "output_type": "stream",
          "text": [
            "eval_pred: 100%|██████████| 3/3 [00:00<00:00, 221.41it/s]\n",
            "eval_rec: 100%|██████████| 610/610 [00:00<00:00, 1926.96it/s]\n"
          ]
        },
        {
          "metadata": {
            "tags": null
          },
          "name": "stdout",
          "output_type": "stream",
          "text": [
            "\t eval log_loss: 0.7237\n",
            "\t eval roc_auc: 0.8051\n",
            "\t eval precision@10: 0.0223\n",
            "\t eval recall@10: 0.0204\n",
            "\t eval map@10: 0.0507\n",
            "\t eval ndcg@10: 0.0782\n",
            "==============================\n",
            "With lr_decay, epoch 3 learning rate: 0.008493464440107346\n"
          ]
        },
        {
          "metadata": {
            "tags": null
          },
          "name": "stderr",
          "output_type": "stream",
          "text": [
            "train: 100%|██████████| 2521/2521 [00:52<00:00, 48.22it/s]\n"
          ]
        },
        {
          "metadata": {
            "tags": null
          },
          "name": "stdout",
          "output_type": "stream",
          "text": [
            "Epoch 3 elapsed: 52.345s\n",
            "\t \u001b[32mtrain_loss: 0.0716\u001b[0m\n"
          ]
        },
        {
          "metadata": {
            "tags": null
          },
          "name": "stderr",
          "output_type": "stream",
          "text": [
            "eval_pred: 100%|██████████| 3/3 [00:00<00:00, 186.23it/s]\n",
            "eval_rec: 100%|██████████| 610/610 [00:00<00:00, 1616.25it/s]\n"
          ]
        },
        {
          "metadata": {
            "tags": null
          },
          "name": "stdout",
          "output_type": "stream",
          "text": [
            "\t eval log_loss: 0.9355\n",
            "\t eval roc_auc: 0.7884\n",
            "\t eval precision@10: 0.0243\n",
            "\t eval recall@10: 0.0246\n",
            "\t eval map@10: 0.0620\n",
            "\t eval ndcg@10: 0.0934\n",
            "==============================\n",
            "With lr_decay, epoch 4 learning rate: 0.00782757718116045\n"
          ]
        },
        {
          "metadata": {
            "tags": null
          },
          "name": "stderr",
          "output_type": "stream",
          "text": [
            "train: 100%|██████████| 2521/2521 [00:51<00:00, 48.55it/s]\n"
          ]
        },
        {
          "metadata": {
            "tags": null
          },
          "name": "stdout",
          "output_type": "stream",
          "text": [
            "Epoch 4 elapsed: 51.979s\n",
            "\t \u001b[32mtrain_loss: 0.0256\u001b[0m\n"
          ]
        },
        {
          "metadata": {
            "tags": null
          },
          "name": "stderr",
          "output_type": "stream",
          "text": [
            "eval_pred: 100%|██████████| 3/3 [00:00<00:00, 205.88it/s]\n",
            "eval_rec: 100%|██████████| 610/610 [00:00<00:00, 1707.97it/s]\n"
          ]
        },
        {
          "metadata": {
            "tags": null
          },
          "name": "stdout",
          "output_type": "stream",
          "text": [
            "\t eval log_loss: 1.1012\n",
            "\t eval roc_auc: 0.7925\n",
            "\t eval precision@10: 0.0246\n",
            "\t eval recall@10: 0.0192\n",
            "\t eval map@10: 0.0605\n",
            "\t eval ndcg@10: 0.0925\n",
            "==============================\n",
            "With lr_decay, epoch 5 learning rate: 0.007213894743472338\n"
          ]
        },
        {
          "metadata": {
            "tags": null
          },
          "name": "stderr",
          "output_type": "stream",
          "text": [
            "train: 100%|██████████| 2521/2521 [00:52<00:00, 48.20it/s]\n"
          ]
        },
        {
          "metadata": {
            "tags": null
          },
          "name": "stdout",
          "output_type": "stream",
          "text": [
            "Epoch 5 elapsed: 52.354s\n",
            "\t \u001b[32mtrain_loss: 0.0103\u001b[0m\n"
          ]
        },
        {
          "metadata": {
            "tags": null
          },
          "name": "stderr",
          "output_type": "stream",
          "text": [
            "eval_pred: 100%|██████████| 3/3 [00:00<00:00, 202.59it/s]\n",
            "eval_rec: 100%|██████████| 610/610 [00:00<00:00, 1796.82it/s]\n"
          ]
        },
        {
          "metadata": {
            "tags": null
          },
          "name": "stdout",
          "output_type": "stream",
          "text": [
            "\t eval log_loss: 1.2718\n",
            "\t eval roc_auc: 0.7933\n",
            "\t eval precision@10: 0.0223\n",
            "\t eval recall@10: 0.0184\n",
            "\t eval map@10: 0.0612\n",
            "\t eval ndcg@10: 0.0892\n",
            "==============================\n",
            "With lr_decay, epoch 6 learning rate: 0.006648324429988861\n"
          ]
        },
        {
          "metadata": {
            "tags": null
          },
          "name": "stderr",
          "output_type": "stream",
          "text": [
            "train: 100%|██████████| 2521/2521 [00:51<00:00, 48.49it/s]\n"
          ]
        },
        {
          "metadata": {
            "tags": null
          },
          "name": "stdout",
          "output_type": "stream",
          "text": [
            "Epoch 6 elapsed: 52.044s\n",
            "\t \u001b[32mtrain_loss: 0.0047\u001b[0m\n"
          ]
        },
        {
          "metadata": {
            "tags": null
          },
          "name": "stderr",
          "output_type": "stream",
          "text": [
            "eval_pred: 100%|██████████| 3/3 [00:00<00:00, 230.88it/s]\n",
            "eval_rec: 100%|██████████| 610/610 [00:00<00:00, 1714.18it/s]\n"
          ]
        },
        {
          "metadata": {
            "tags": null
          },
          "name": "stdout",
          "output_type": "stream",
          "text": [
            "\t eval log_loss: 1.4191\n",
            "\t eval roc_auc: 0.7909\n",
            "\t eval precision@10: 0.0262\n",
            "\t eval recall@10: 0.0253\n",
            "\t eval map@10: 0.0683\n",
            "\t eval ndcg@10: 0.1024\n",
            "==============================\n",
            "With lr_decay, epoch 7 learning rate: 0.006127095781266689\n"
          ]
        },
        {
          "metadata": {
            "tags": null
          },
          "name": "stderr",
          "output_type": "stream",
          "text": [
            "train: 100%|██████████| 2521/2521 [00:52<00:00, 48.14it/s]\n"
          ]
        },
        {
          "metadata": {
            "tags": null
          },
          "name": "stdout",
          "output_type": "stream",
          "text": [
            "Epoch 7 elapsed: 52.421s\n",
            "\t \u001b[32mtrain_loss: 0.0024\u001b[0m\n"
          ]
        },
        {
          "metadata": {
            "tags": null
          },
          "name": "stderr",
          "output_type": "stream",
          "text": [
            "eval_pred: 100%|██████████| 3/3 [00:00<00:00, 211.31it/s]\n",
            "eval_rec: 100%|██████████| 610/610 [00:00<00:00, 1953.30it/s]\n"
          ]
        },
        {
          "metadata": {
            "tags": null
          },
          "name": "stdout",
          "output_type": "stream",
          "text": [
            "\t eval log_loss: 1.5481\n",
            "\t eval roc_auc: 0.7954\n",
            "\t eval precision@10: 0.0216\n",
            "\t eval recall@10: 0.0232\n",
            "\t eval map@10: 0.0616\n",
            "\t eval ndcg@10: 0.0899\n",
            "==============================\n",
            "With lr_decay, epoch 8 learning rate: 0.005646731238812208\n"
          ]
        },
        {
          "metadata": {
            "tags": null
          },
          "name": "stderr",
          "output_type": "stream",
          "text": [
            "train: 100%|██████████| 2521/2521 [00:52<00:00, 47.99it/s]\n"
          ]
        },
        {
          "metadata": {
            "tags": null
          },
          "name": "stdout",
          "output_type": "stream",
          "text": [
            "Epoch 8 elapsed: 52.583s\n",
            "\t \u001b[32mtrain_loss: 0.0013\u001b[0m\n"
          ]
        },
        {
          "metadata": {
            "tags": null
          },
          "name": "stderr",
          "output_type": "stream",
          "text": [
            "eval_pred: 100%|██████████| 3/3 [00:00<00:00, 208.49it/s]\n",
            "eval_rec: 100%|██████████| 610/610 [00:00<00:00, 1731.98it/s]\n"
          ]
        },
        {
          "metadata": {
            "tags": null
          },
          "name": "stdout",
          "output_type": "stream",
          "text": [
            "\t eval log_loss: 1.6554\n",
            "\t eval roc_auc: 0.7910\n",
            "\t eval precision@10: 0.0238\n",
            "\t eval recall@10: 0.0216\n",
            "\t eval map@10: 0.0612\n",
            "\t eval ndcg@10: 0.0931\n",
            "==============================\n",
            "With lr_decay, epoch 9 learning rate: 0.0052040270529687405\n"
          ]
        },
        {
          "metadata": {
            "tags": null
          },
          "name": "stderr",
          "output_type": "stream",
          "text": [
            "train: 100%|██████████| 2521/2521 [00:52<00:00, 47.69it/s]\n"
          ]
        },
        {
          "metadata": {
            "tags": null
          },
          "name": "stdout",
          "output_type": "stream",
          "text": [
            "Epoch 9 elapsed: 52.908s\n",
            "\t \u001b[32mtrain_loss: 0.0007\u001b[0m\n"
          ]
        },
        {
          "metadata": {
            "tags": null
          },
          "name": "stderr",
          "output_type": "stream",
          "text": [
            "eval_pred: 100%|██████████| 3/3 [00:00<00:00, 175.52it/s]\n",
            "eval_rec: 100%|██████████| 610/610 [00:00<00:00, 1820.02it/s]\n"
          ]
        },
        {
          "metadata": {
            "tags": null
          },
          "name": "stdout",
          "output_type": "stream",
          "text": [
            "\t eval log_loss: 1.7477\n",
            "\t eval roc_auc: 0.7921\n",
            "\t eval precision@10: 0.0202\n",
            "\t eval recall@10: 0.0154\n",
            "\t eval map@10: 0.0450\n",
            "\t eval ndcg@10: 0.0713\n",
            "==============================\n",
            "With lr_decay, epoch 10 learning rate: 0.004796031396836042\n"
          ]
        },
        {
          "metadata": {
            "tags": null
          },
          "name": "stderr",
          "output_type": "stream",
          "text": [
            "train: 100%|██████████| 2521/2521 [00:52<00:00, 47.70it/s]\n"
          ]
        },
        {
          "metadata": {
            "tags": null
          },
          "name": "stdout",
          "output_type": "stream",
          "text": [
            "Epoch 10 elapsed: 52.909s\n",
            "\t \u001b[32mtrain_loss: 0.0004\u001b[0m\n"
          ]
        },
        {
          "metadata": {
            "tags": null
          },
          "name": "stderr",
          "output_type": "stream",
          "text": [
            "eval_pred: 100%|██████████| 3/3 [00:00<00:00, 141.40it/s]\n",
            "eval_rec: 100%|██████████| 610/610 [00:00<00:00, 1776.03it/s]\n"
          ]
        },
        {
          "metadata": {
            "tags": null
          },
          "name": "stdout",
          "output_type": "stream",
          "text": [
            "\t eval log_loss: 1.8684\n",
            "\t eval roc_auc: 0.7885\n",
            "\t eval precision@10: 0.0180\n",
            "\t eval recall@10: 0.0176\n",
            "\t eval map@10: 0.0466\n",
            "\t eval ndcg@10: 0.0712\n",
            "==============================\n"
          ]
        },
        {
          "metadata": {
            "tags": null
          },
          "name": "stderr",
          "output_type": "stream",
          "text": [
            "eval_pred: 100%|██████████| 3/3 [00:00<00:00, 215.43it/s]\n",
            "eval_rec: 100%|██████████| 608/608 [00:00<00:00, 1829.22it/s]\n"
          ]
        },
        {
          "data": {
            "text/html": [
              "Waiting for W&B process to finish... <strong style=\"color:green\">(success).</strong>"
            ],
            "text/plain": [
              "<IPython.core.display.HTML object>"
            ]
          },
          "metadata": {},
          "output_type": "display_data"
        },
        {
          "data": {
            "text/html": [
              "<style>\n",
              "    table.wandb td:nth-child(1) { padding: 0 10px; text-align: left ; width: auto;} td:nth-child(2) {text-align: left ; width: 100%}\n",
              "    .wandb-row { display: flex; flex-direction: row; flex-wrap: wrap; justify-content: flex-start; width: 100% }\n",
              "    .wandb-col { display: flex; flex-direction: column; flex-basis: 100%; flex: 1; padding: 10px; }\n",
              "    </style>\n",
              "<div class=\"wandb-row\"><div class=\"wandb-col\"><h3>Run history:</h3><br/><table class=\"wandb\"><tr><td>epoch</td><td>▁▂▃▃▄▅▆▆▇█</td></tr><tr><td>log_loss</td><td>▁▂▃▄▅▆▆▇▇█</td></tr><tr><td>loss</td><td>▁</td></tr><tr><td>map</td><td>▁</td></tr><tr><td>map@10</td><td>█▃▆▆▆█▆▆▁▁</td></tr><tr><td>ndcg</td><td>▁</td></tr><tr><td>ndcg@10</td><td>█▃▆▆▅█▅▆▁▁</td></tr><tr><td>precision</td><td>▁</td></tr><tr><td>precision@10</td><td>▇▅▆▇▅█▄▆▃▁</td></tr><tr><td>recall</td><td>▁</td></tr><tr><td>recall@10</td><td>▇▅▇▄▃█▇▅▁▃</td></tr><tr><td>roc_auc</td><td>█▆▄▅▅▄▅▄▅▄▁</td></tr><tr><td>train_loss</td><td>█▄▂▁▁▁▁▁▁▁</td></tr></table><br/></div><div class=\"wandb-col\"><h3>Run summary:</h3><br/><table class=\"wandb\"><tr><td>epoch</td><td>10</td></tr><tr><td>log_loss</td><td>1.86838</td></tr><tr><td>loss</td><td>2.18108</td></tr><tr><td>map</td><td>0.04313</td></tr><tr><td>map@10</td><td>0.04662</td></tr><tr><td>ndcg</td><td>0.06589</td></tr><tr><td>ndcg@10</td><td>0.07119</td></tr><tr><td>precision</td><td>0.01628</td></tr><tr><td>precision@10</td><td>0.01803</td></tr><tr><td>recall</td><td>0.01733</td></tr><tr><td>recall@10</td><td>0.01758</td></tr><tr><td>roc_auc</td><td>0.75141</td></tr><tr><td>train_loss</td><td>0.0004</td></tr></table><br/></div></div>"
            ],
            "text/plain": [
              "<IPython.core.display.HTML object>"
            ]
          },
          "metadata": {},
          "output_type": "display_data"
        },
        {
          "data": {
            "text/html": [
              "Synced <strong style=\"color:#cdcd00\">stilted-sweep-1</strong>: <a href=\"https://wandb.ai/iloncka-ds/recsys-app/runs/umndml8d\" target=\"_blank\">https://wandb.ai/iloncka-ds/recsys-app/runs/umndml8d</a><br/>Synced 5 W&B file(s), 0 media file(s), 0 artifact file(s) and 0 other file(s)"
            ],
            "text/plain": [
              "<IPython.core.display.HTML object>"
            ]
          },
          "metadata": {},
          "output_type": "display_data"
        },
        {
          "data": {
            "text/html": [
              "Find logs at: <code>./wandb/run-20221106_152621-umndml8d/logs</code>"
            ],
            "text/plain": [
              "<IPython.core.display.HTML object>"
            ]
          },
          "metadata": {},
          "output_type": "display_data"
        },
        {
          "metadata": {
            "tags": null
          },
          "name": "stderr",
          "output_type": "stream",
          "text": [
            "\u001b[34m\u001b[1mwandb\u001b[0m: Agent Starting Run: 2lu3gfot with config:\n",
            "\u001b[34m\u001b[1mwandb\u001b[0m: \tbatch_size: 64\n",
            "\u001b[34m\u001b[1mwandb\u001b[0m: \tembed_size: 16\n",
            "\u001b[34m\u001b[1mwandb\u001b[0m: \tlr: 0.01\n",
            "\u001b[34m\u001b[1mwandb\u001b[0m: \tn_epochs: 5\n",
            "Failed to detect the name of this notebook, you can set it manually with the WANDB_NOTEBOOK_NAME environment variable to enable code saving.\n"
          ]
        },
        {
          "data": {
            "text/html": [
              "Tracking run with wandb version 0.13.5"
            ],
            "text/plain": [
              "<IPython.core.display.HTML object>"
            ]
          },
          "metadata": {},
          "output_type": "display_data"
        },
        {
          "data": {
            "text/html": [
              "Run data is saved locally in <code>/content/wandb/run-20221106_153528-2lu3gfot</code>"
            ],
            "text/plain": [
              "<IPython.core.display.HTML object>"
            ]
          },
          "metadata": {},
          "output_type": "display_data"
        },
        {
          "data": {
            "text/html": [
              "Syncing run <strong><a href=\"https://wandb.ai/iloncka-ds/recsys-app/runs/2lu3gfot\" target=\"_blank\">skilled-sweep-2</a></strong> to <a href=\"https://wandb.ai/iloncka-ds/recsys-app\" target=\"_blank\">Weights & Biases</a> (<a href=\"https://wandb.me/run\" target=\"_blank\">docs</a>)<br/>Sweep page:  <a href=\"https://wandb.ai/iloncka-ds/recsys-app/sweeps/1xnmnsi1\" target=\"_blank\">https://wandb.ai/iloncka-ds/recsys-app/sweeps/1xnmnsi1</a>"
            ],
            "text/plain": [
              "<IPython.core.display.HTML object>"
            ]
          },
          "metadata": {},
          "output_type": "display_data"
        },
        {
          "metadata": {
            "tags": null
          },
          "name": "stdout",
          "output_type": "stream",
          "text": [
            "total params: \u001b[33m416,573\u001b[0m | embedding params: \u001b[33m413,429\u001b[0m | network params: \u001b[33m3,144\u001b[0m\n",
            "Training start time: \u001b[35m2022-11-06 15:35:32\u001b[0m\n",
            "With lr_decay, epoch 1 learning rate: 0.009999999776482582\n"
          ]
        },
        {
          "metadata": {
            "tags": null
          },
          "name": "stderr",
          "output_type": "stream",
          "text": [
            "train: 100%|██████████| 2521/2521 [00:41<00:00, 60.92it/s]\n"
          ]
        },
        {
          "metadata": {
            "tags": null
          },
          "name": "stdout",
          "output_type": "stream",
          "text": [
            "Epoch 1 elapsed: 41.442s\n",
            "\t \u001b[32mtrain_loss: 0.497\u001b[0m\n"
          ]
        },
        {
          "metadata": {
            "tags": null
          },
          "name": "stderr",
          "output_type": "stream",
          "text": [
            "eval_pred: 100%|██████████| 3/3 [00:00<00:00, 233.06it/s]\n",
            "eval_rec: 100%|██████████| 610/610 [00:00<00:00, 2093.27it/s]\n"
          ]
        },
        {
          "metadata": {
            "tags": null
          },
          "name": "stdout",
          "output_type": "stream",
          "text": [
            "\t eval log_loss: 0.5030\n",
            "\t eval roc_auc: 0.8430\n",
            "\t eval precision@10: 0.0328\n",
            "\t eval recall@10: 0.0343\n",
            "\t eval map@10: 0.0833\n",
            "\t eval ndcg@10: 0.1241\n",
            "==============================\n",
            "With lr_decay, epoch 2 learning rate: 0.009215999394655228\n"
          ]
        },
        {
          "metadata": {
            "tags": null
          },
          "name": "stderr",
          "output_type": "stream",
          "text": [
            "train: 100%|██████████| 2521/2521 [00:40<00:00, 61.77it/s]\n"
          ]
        },
        {
          "metadata": {
            "tags": null
          },
          "name": "stdout",
          "output_type": "stream",
          "text": [
            "Epoch 2 elapsed: 40.869s\n",
            "\t \u001b[32mtrain_loss: 0.2947\u001b[0m\n"
          ]
        },
        {
          "metadata": {
            "tags": null
          },
          "name": "stderr",
          "output_type": "stream",
          "text": [
            "eval_pred: 100%|██████████| 3/3 [00:00<00:00, 211.01it/s]\n",
            "eval_rec: 100%|██████████| 610/610 [00:00<00:00, 2252.25it/s]\n"
          ]
        },
        {
          "metadata": {
            "tags": null
          },
          "name": "stdout",
          "output_type": "stream",
          "text": [
            "\t eval log_loss: 0.6228\n",
            "\t eval roc_auc: 0.8281\n",
            "\t eval precision@10: 0.0270\n",
            "\t eval recall@10: 0.0243\n",
            "\t eval map@10: 0.0714\n",
            "\t eval ndcg@10: 0.1026\n",
            "==============================\n",
            "With lr_decay, epoch 3 learning rate: 0.008493464440107346\n"
          ]
        },
        {
          "metadata": {
            "tags": null
          },
          "name": "stderr",
          "output_type": "stream",
          "text": [
            "train: 100%|██████████| 2521/2521 [00:40<00:00, 61.77it/s]\n"
          ]
        },
        {
          "metadata": {
            "tags": null
          },
          "name": "stdout",
          "output_type": "stream",
          "text": [
            "Epoch 3 elapsed: 40.861s\n",
            "\t \u001b[32mtrain_loss: 0.1637\u001b[0m\n"
          ]
        },
        {
          "metadata": {
            "tags": null
          },
          "name": "stderr",
          "output_type": "stream",
          "text": [
            "eval_pred: 100%|██████████| 3/3 [00:00<00:00, 223.55it/s]\n",
            "eval_rec: 100%|██████████| 610/610 [00:00<00:00, 2088.21it/s]\n"
          ]
        },
        {
          "metadata": {
            "tags": null
          },
          "name": "stdout",
          "output_type": "stream",
          "text": [
            "\t eval log_loss: 0.7655\n",
            "\t eval roc_auc: 0.8085\n",
            "\t eval precision@10: 0.0220\n",
            "\t eval recall@10: 0.0189\n",
            "\t eval map@10: 0.0636\n",
            "\t eval ndcg@10: 0.0890\n",
            "==============================\n",
            "With lr_decay, epoch 4 learning rate: 0.00782757718116045\n"
          ]
        },
        {
          "metadata": {
            "tags": null
          },
          "name": "stderr",
          "output_type": "stream",
          "text": [
            "train: 100%|██████████| 2521/2521 [00:40<00:00, 61.84it/s]\n"
          ]
        },
        {
          "metadata": {
            "tags": null
          },
          "name": "stdout",
          "output_type": "stream",
          "text": [
            "Epoch 4 elapsed: 40.821s\n",
            "\t \u001b[32mtrain_loss: 0.1013\u001b[0m\n"
          ]
        },
        {
          "metadata": {
            "tags": null
          },
          "name": "stderr",
          "output_type": "stream",
          "text": [
            "eval_pred: 100%|██████████| 3/3 [00:00<00:00, 216.36it/s]\n",
            "eval_rec: 100%|██████████| 610/610 [00:00<00:00, 2209.56it/s]\n"
          ]
        },
        {
          "metadata": {
            "tags": null
          },
          "name": "stdout",
          "output_type": "stream",
          "text": [
            "\t eval log_loss: 0.9378\n",
            "\t eval roc_auc: 0.8060\n",
            "\t eval precision@10: 0.0220\n",
            "\t eval recall@10: 0.0181\n",
            "\t eval map@10: 0.0608\n",
            "\t eval ndcg@10: 0.0873\n",
            "==============================\n",
            "With lr_decay, epoch 5 learning rate: 0.007213894743472338\n"
          ]
        },
        {
          "metadata": {
            "tags": null
          },
          "name": "stderr",
          "output_type": "stream",
          "text": [
            "train: 100%|██████████| 2521/2521 [00:41<00:00, 61.43it/s]\n"
          ]
        },
        {
          "metadata": {
            "tags": null
          },
          "name": "stdout",
          "output_type": "stream",
          "text": [
            "Epoch 5 elapsed: 41.092s\n",
            "\t \u001b[32mtrain_loss: 0.0679\u001b[0m\n"
          ]
        },
        {
          "metadata": {
            "tags": null
          },
          "name": "stderr",
          "output_type": "stream",
          "text": [
            "eval_pred: 100%|██████████| 3/3 [00:00<00:00, 269.20it/s]\n",
            "eval_rec: 100%|██████████| 610/610 [00:00<00:00, 2167.69it/s]\n"
          ]
        },
        {
          "metadata": {
            "tags": null
          },
          "name": "stdout",
          "output_type": "stream",
          "text": [
            "\t eval log_loss: 1.1086\n",
            "\t eval roc_auc: 0.8032\n",
            "\t eval precision@10: 0.0210\n",
            "\t eval recall@10: 0.0174\n",
            "\t eval map@10: 0.0570\n",
            "\t eval ndcg@10: 0.0819\n",
            "==============================\n"
          ]
        },
        {
          "metadata": {
            "tags": null
          },
          "name": "stderr",
          "output_type": "stream",
          "text": [
            "eval_pred: 100%|██████████| 3/3 [00:00<00:00, 267.22it/s]\n",
            "eval_rec: 100%|██████████| 608/608 [00:00<00:00, 2171.93it/s]\n"
          ]
        },
        {
          "data": {
            "text/html": [
              "Waiting for W&B process to finish... <strong style=\"color:green\">(success).</strong>"
            ],
            "text/plain": [
              "<IPython.core.display.HTML object>"
            ]
          },
          "metadata": {},
          "output_type": "display_data"
        },
        {
          "data": {
            "text/html": [
              "<style>\n",
              "    table.wandb td:nth-child(1) { padding: 0 10px; text-align: left ; width: auto;} td:nth-child(2) {text-align: left ; width: 100%}\n",
              "    .wandb-row { display: flex; flex-direction: row; flex-wrap: wrap; justify-content: flex-start; width: 100% }\n",
              "    .wandb-col { display: flex; flex-direction: column; flex-basis: 100%; flex: 1; padding: 10px; }\n",
              "    </style>\n",
              "<div class=\"wandb-row\"><div class=\"wandb-col\"><h3>Run history:</h3><br/><table class=\"wandb\"><tr><td>epoch</td><td>▁▃▅▆█</td></tr><tr><td>log_loss</td><td>▁▂▄▆█</td></tr><tr><td>loss</td><td>▁</td></tr><tr><td>map</td><td>▁</td></tr><tr><td>map@10</td><td>█▅▃▂▁</td></tr><tr><td>ndcg</td><td>▁</td></tr><tr><td>ndcg@10</td><td>█▄▂▂▁</td></tr><tr><td>precision</td><td>▁</td></tr><tr><td>precision@10</td><td>█▅▂▂▁</td></tr><tr><td>recall</td><td>▁</td></tr><tr><td>recall@10</td><td>█▄▂▁▁</td></tr><tr><td>roc_auc</td><td>█▇▅▄▄▁</td></tr><tr><td>train_loss</td><td>█▅▃▂▁</td></tr></table><br/></div><div class=\"wandb-col\"><h3>Run summary:</h3><br/><table class=\"wandb\"><tr><td>epoch</td><td>5</td></tr><tr><td>log_loss</td><td>1.1086</td></tr><tr><td>loss</td><td>1.30706</td></tr><tr><td>map</td><td>0.04321</td></tr><tr><td>map@10</td><td>0.05702</td></tr><tr><td>ndcg</td><td>0.06635</td></tr><tr><td>ndcg@10</td><td>0.0819</td></tr><tr><td>precision</td><td>0.01562</td></tr><tr><td>precision@10</td><td>0.02098</td></tr><tr><td>recall</td><td>0.01451</td></tr><tr><td>recall@10</td><td>0.01737</td></tr><tr><td>roc_auc</td><td>0.77238</td></tr><tr><td>train_loss</td><td>0.0679</td></tr></table><br/></div></div>"
            ],
            "text/plain": [
              "<IPython.core.display.HTML object>"
            ]
          },
          "metadata": {},
          "output_type": "display_data"
        },
        {
          "data": {
            "text/html": [
              "Synced <strong style=\"color:#cdcd00\">skilled-sweep-2</strong>: <a href=\"https://wandb.ai/iloncka-ds/recsys-app/runs/2lu3gfot\" target=\"_blank\">https://wandb.ai/iloncka-ds/recsys-app/runs/2lu3gfot</a><br/>Synced 5 W&B file(s), 0 media file(s), 0 artifact file(s) and 0 other file(s)"
            ],
            "text/plain": [
              "<IPython.core.display.HTML object>"
            ]
          },
          "metadata": {},
          "output_type": "display_data"
        },
        {
          "data": {
            "text/html": [
              "Find logs at: <code>./wandb/run-20221106_153528-2lu3gfot/logs</code>"
            ],
            "text/plain": [
              "<IPython.core.display.HTML object>"
            ]
          },
          "metadata": {},
          "output_type": "display_data"
        },
        {
          "metadata": {
            "tags": null
          },
          "name": "stderr",
          "output_type": "stream",
          "text": [
            "\u001b[34m\u001b[1mwandb\u001b[0m: Agent Starting Run: fpsw8bv3 with config:\n",
            "\u001b[34m\u001b[1mwandb\u001b[0m: \tbatch_size: 256\n",
            "\u001b[34m\u001b[1mwandb\u001b[0m: \tembed_size: 32\n",
            "\u001b[34m\u001b[1mwandb\u001b[0m: \tlr: 0.001\n",
            "\u001b[34m\u001b[1mwandb\u001b[0m: \tn_epochs: 10\n",
            "Failed to detect the name of this notebook, you can set it manually with the WANDB_NOTEBOOK_NAME environment variable to enable code saving.\n"
          ]
        },
        {
          "data": {
            "text/html": [
              "Tracking run with wandb version 0.13.5"
            ],
            "text/plain": [
              "<IPython.core.display.HTML object>"
            ]
          },
          "metadata": {},
          "output_type": "display_data"
        },
        {
          "data": {
            "text/html": [
              "Run data is saved locally in <code>/content/wandb/run-20221106_153912-fpsw8bv3</code>"
            ],
            "text/plain": [
              "<IPython.core.display.HTML object>"
            ]
          },
          "metadata": {},
          "output_type": "display_data"
        },
        {
          "data": {
            "text/html": [
              "Syncing run <strong><a href=\"https://wandb.ai/iloncka-ds/recsys-app/runs/fpsw8bv3\" target=\"_blank\">tough-sweep-3</a></strong> to <a href=\"https://wandb.ai/iloncka-ds/recsys-app\" target=\"_blank\">Weights & Biases</a> (<a href=\"https://wandb.me/run\" target=\"_blank\">docs</a>)<br/>Sweep page:  <a href=\"https://wandb.ai/iloncka-ds/recsys-app/sweeps/1xnmnsi1\" target=\"_blank\">https://wandb.ai/iloncka-ds/recsys-app/sweeps/1xnmnsi1</a>"
            ],
            "text/plain": [
              "<IPython.core.display.HTML object>"
            ]
          },
          "metadata": {},
          "output_type": "display_data"
        },
        {
          "metadata": {
            "tags": null
          },
          "name": "stdout",
          "output_type": "stream",
          "text": [
            "total params: \u001b[33m826,893\u001b[0m | embedding params: \u001b[33m818,597\u001b[0m | network params: \u001b[33m8,296\u001b[0m\n",
            "Training start time: \u001b[35m2022-11-06 15:39:15\u001b[0m\n",
            "With lr_decay, epoch 1 learning rate: 0.0010000000474974513\n"
          ]
        },
        {
          "metadata": {
            "tags": null
          },
          "name": "stderr",
          "output_type": "stream",
          "text": [
            "train: 100%|██████████| 631/631 [00:26<00:00, 23.53it/s]\n"
          ]
        },
        {
          "metadata": {
            "tags": null
          },
          "name": "stdout",
          "output_type": "stream",
          "text": [
            "Epoch 1 elapsed: 26.877s\n",
            "\t \u001b[32mtrain_loss: 0.5159\u001b[0m\n"
          ]
        },
        {
          "metadata": {
            "tags": null
          },
          "name": "stderr",
          "output_type": "stream",
          "text": [
            "eval_pred: 100%|██████████| 3/3 [00:00<00:00, 194.51it/s]\n",
            "eval_rec: 100%|██████████| 610/610 [00:00<00:00, 1659.88it/s]\n"
          ]
        },
        {
          "metadata": {
            "tags": null
          },
          "name": "stdout",
          "output_type": "stream",
          "text": [
            "\t eval log_loss: 0.5033\n",
            "\t eval roc_auc: 0.8380\n",
            "\t eval precision@10: 0.0313\n",
            "\t eval recall@10: 0.0315\n",
            "\t eval map@10: 0.0717\n",
            "\t eval ndcg@10: 0.1076\n",
            "==============================\n",
            "With lr_decay, epoch 2 learning rate: 0.0009216000325977802\n"
          ]
        },
        {
          "metadata": {
            "tags": null
          },
          "name": "stderr",
          "output_type": "stream",
          "text": [
            "train: 100%|██████████| 631/631 [00:26<00:00, 23.77it/s]\n"
          ]
        },
        {
          "metadata": {
            "tags": null
          },
          "name": "stdout",
          "output_type": "stream",
          "text": [
            "Epoch 2 elapsed: 26.598s\n",
            "\t \u001b[32mtrain_loss: 0.4109\u001b[0m\n"
          ]
        },
        {
          "metadata": {
            "tags": null
          },
          "name": "stderr",
          "output_type": "stream",
          "text": [
            "eval_pred: 100%|██████████| 3/3 [00:00<00:00, 180.45it/s]\n",
            "eval_rec: 100%|██████████| 610/610 [00:00<00:00, 1873.66it/s]\n"
          ]
        },
        {
          "metadata": {
            "tags": null
          },
          "name": "stdout",
          "output_type": "stream",
          "text": [
            "\t eval log_loss: 0.5010\n",
            "\t eval roc_auc: 0.8446\n",
            "\t eval precision@10: 0.0295\n",
            "\t eval recall@10: 0.0284\n",
            "\t eval map@10: 0.0709\n",
            "\t eval ndcg@10: 0.1066\n",
            "==============================\n",
            "With lr_decay, epoch 3 learning rate: 0.0008493465138599277\n"
          ]
        },
        {
          "metadata": {
            "tags": null
          },
          "name": "stderr",
          "output_type": "stream",
          "text": [
            "train: 100%|██████████| 631/631 [00:26<00:00, 23.79it/s]\n"
          ]
        },
        {
          "metadata": {
            "tags": null
          },
          "name": "stdout",
          "output_type": "stream",
          "text": [
            "Epoch 3 elapsed: 26.573s\n",
            "\t \u001b[32mtrain_loss: 0.3466\u001b[0m\n"
          ]
        },
        {
          "metadata": {
            "tags": null
          },
          "name": "stderr",
          "output_type": "stream",
          "text": [
            "eval_pred: 100%|██████████| 3/3 [00:00<00:00, 160.52it/s]\n",
            "eval_rec: 100%|██████████| 610/610 [00:00<00:00, 1873.42it/s]\n"
          ]
        },
        {
          "metadata": {
            "tags": null
          },
          "name": "stdout",
          "output_type": "stream",
          "text": [
            "\t eval log_loss: 0.4989\n",
            "\t eval roc_auc: 0.8475\n",
            "\t eval precision@10: 0.0313\n",
            "\t eval recall@10: 0.0304\n",
            "\t eval map@10: 0.0753\n",
            "\t eval ndcg@10: 0.1133\n",
            "==============================\n",
            "With lr_decay, epoch 4 learning rate: 0.0007827577646821737\n"
          ]
        },
        {
          "metadata": {
            "tags": null
          },
          "name": "stderr",
          "output_type": "stream",
          "text": [
            "train: 100%|██████████| 631/631 [00:26<00:00, 23.77it/s]\n"
          ]
        },
        {
          "metadata": {
            "tags": null
          },
          "name": "stdout",
          "output_type": "stream",
          "text": [
            "Epoch 4 elapsed: 26.596s\n",
            "\t \u001b[32mtrain_loss: 0.288\u001b[0m\n"
          ]
        },
        {
          "metadata": {
            "tags": null
          },
          "name": "stderr",
          "output_type": "stream",
          "text": [
            "eval_pred: 100%|██████████| 3/3 [00:00<00:00, 198.63it/s]\n",
            "eval_rec: 100%|██████████| 610/610 [00:00<00:00, 1785.79it/s]\n"
          ]
        },
        {
          "metadata": {
            "tags": null
          },
          "name": "stdout",
          "output_type": "stream",
          "text": [
            "\t eval log_loss: 0.5272\n",
            "\t eval roc_auc: 0.8473\n",
            "\t eval precision@10: 0.0307\n",
            "\t eval recall@10: 0.0264\n",
            "\t eval map@10: 0.0733\n",
            "\t eval ndcg@10: 0.1106\n",
            "==============================\n",
            "With lr_decay, epoch 5 learning rate: 0.000721389485988766\n"
          ]
        },
        {
          "metadata": {
            "tags": null
          },
          "name": "stderr",
          "output_type": "stream",
          "text": [
            "train: 100%|██████████| 631/631 [00:26<00:00, 23.77it/s]\n"
          ]
        },
        {
          "metadata": {
            "tags": null
          },
          "name": "stdout",
          "output_type": "stream",
          "text": [
            "Epoch 5 elapsed: 26.612s\n",
            "\t \u001b[32mtrain_loss: 0.2426\u001b[0m\n"
          ]
        },
        {
          "metadata": {
            "tags": null
          },
          "name": "stderr",
          "output_type": "stream",
          "text": [
            "eval_pred: 100%|██████████| 3/3 [00:00<00:00, 217.60it/s]\n",
            "eval_rec: 100%|██████████| 610/610 [00:00<00:00, 1882.85it/s]\n"
          ]
        },
        {
          "metadata": {
            "tags": null
          },
          "name": "stdout",
          "output_type": "stream",
          "text": [
            "\t eval log_loss: 0.5669\n",
            "\t eval roc_auc: 0.8454\n",
            "\t eval precision@10: 0.0318\n",
            "\t eval recall@10: 0.0310\n",
            "\t eval map@10: 0.0757\n",
            "\t eval ndcg@10: 0.1127\n",
            "==============================\n",
            "With lr_decay, epoch 6 learning rate: 0.0006648324779234827\n"
          ]
        },
        {
          "metadata": {
            "tags": null
          },
          "name": "stderr",
          "output_type": "stream",
          "text": [
            "train: 100%|██████████| 631/631 [00:26<00:00, 23.61it/s]\n"
          ]
        },
        {
          "metadata": {
            "tags": null
          },
          "name": "stdout",
          "output_type": "stream",
          "text": [
            "Epoch 6 elapsed: 26.772s\n",
            "\t \u001b[32mtrain_loss: 0.2053\u001b[0m\n"
          ]
        },
        {
          "metadata": {
            "tags": null
          },
          "name": "stderr",
          "output_type": "stream",
          "text": [
            "eval_pred: 100%|██████████| 3/3 [00:00<00:00, 174.24it/s]\n",
            "eval_rec: 100%|██████████| 610/610 [00:00<00:00, 1867.71it/s]\n"
          ]
        },
        {
          "metadata": {
            "tags": null
          },
          "name": "stdout",
          "output_type": "stream",
          "text": [
            "\t eval log_loss: 0.6079\n",
            "\t eval roc_auc: 0.8410\n",
            "\t eval precision@10: 0.0302\n",
            "\t eval recall@10: 0.0303\n",
            "\t eval map@10: 0.0727\n",
            "\t eval ndcg@10: 0.1110\n",
            "==============================\n",
            "With lr_decay, epoch 7 learning rate: 0.0006127096130512655\n"
          ]
        },
        {
          "metadata": {
            "tags": null
          },
          "name": "stderr",
          "output_type": "stream",
          "text": [
            "train: 100%|██████████| 631/631 [00:26<00:00, 23.84it/s]\n"
          ]
        },
        {
          "metadata": {
            "tags": null
          },
          "name": "stdout",
          "output_type": "stream",
          "text": [
            "Epoch 7 elapsed: 26.519s\n",
            "\t \u001b[32mtrain_loss: 0.1752\u001b[0m\n"
          ]
        },
        {
          "metadata": {
            "tags": null
          },
          "name": "stderr",
          "output_type": "stream",
          "text": [
            "eval_pred: 100%|██████████| 3/3 [00:00<00:00, 211.56it/s]\n",
            "eval_rec: 100%|██████████| 610/610 [00:00<00:00, 2023.93it/s]\n"
          ]
        },
        {
          "metadata": {
            "tags": null
          },
          "name": "stdout",
          "output_type": "stream",
          "text": [
            "\t eval log_loss: 0.6322\n",
            "\t eval roc_auc: 0.8382\n",
            "\t eval precision@10: 0.0325\n",
            "\t eval recall@10: 0.0321\n",
            "\t eval map@10: 0.0769\n",
            "\t eval ndcg@10: 0.1148\n",
            "==============================\n",
            "With lr_decay, epoch 8 learning rate: 0.0005646731588058174\n"
          ]
        },
        {
          "metadata": {
            "tags": null
          },
          "name": "stderr",
          "output_type": "stream",
          "text": [
            "train: 100%|██████████| 631/631 [00:26<00:00, 23.76it/s]\n"
          ]
        },
        {
          "metadata": {
            "tags": null
          },
          "name": "stdout",
          "output_type": "stream",
          "text": [
            "Epoch 8 elapsed: 26.609s\n",
            "\t \u001b[32mtrain_loss: 0.1506\u001b[0m\n"
          ]
        },
        {
          "metadata": {
            "tags": null
          },
          "name": "stderr",
          "output_type": "stream",
          "text": [
            "eval_pred: 100%|██████████| 3/3 [00:00<00:00, 231.62it/s]\n",
            "eval_rec: 100%|██████████| 610/610 [00:00<00:00, 2002.59it/s]\n"
          ]
        },
        {
          "metadata": {
            "tags": null
          },
          "name": "stdout",
          "output_type": "stream",
          "text": [
            "\t eval log_loss: 0.6974\n",
            "\t eval roc_auc: 0.8370\n",
            "\t eval precision@10: 0.0315\n",
            "\t eval recall@10: 0.0296\n",
            "\t eval map@10: 0.0757\n",
            "\t eval ndcg@10: 0.1124\n",
            "==============================\n",
            "With lr_decay, epoch 9 learning rate: 0.0005204027402214706\n"
          ]
        },
        {
          "metadata": {
            "tags": null
          },
          "name": "stderr",
          "output_type": "stream",
          "text": [
            "train: 100%|██████████| 631/631 [00:26<00:00, 23.91it/s]\n"
          ]
        },
        {
          "metadata": {
            "tags": null
          },
          "name": "stdout",
          "output_type": "stream",
          "text": [
            "Epoch 9 elapsed: 26.451s\n",
            "\t \u001b[32mtrain_loss: 0.1307\u001b[0m\n"
          ]
        },
        {
          "metadata": {
            "tags": null
          },
          "name": "stderr",
          "output_type": "stream",
          "text": [
            "eval_pred: 100%|██████████| 3/3 [00:00<00:00, 204.98it/s]\n",
            "eval_rec: 100%|██████████| 610/610 [00:00<00:00, 1870.00it/s]\n"
          ]
        },
        {
          "metadata": {
            "tags": null
          },
          "name": "stdout",
          "output_type": "stream",
          "text": [
            "\t eval log_loss: 0.7334\n",
            "\t eval roc_auc: 0.8332\n",
            "\t eval precision@10: 0.0328\n",
            "\t eval recall@10: 0.0327\n",
            "\t eval map@10: 0.0796\n",
            "\t eval ndcg@10: 0.1190\n",
            "==============================\n",
            "With lr_decay, epoch 10 learning rate: 0.0004796031571459025\n"
          ]
        },
        {
          "metadata": {
            "tags": null
          },
          "name": "stderr",
          "output_type": "stream",
          "text": [
            "train: 100%|██████████| 631/631 [00:26<00:00, 23.85it/s]\n"
          ]
        },
        {
          "metadata": {
            "tags": null
          },
          "name": "stdout",
          "output_type": "stream",
          "text": [
            "Epoch 10 elapsed: 26.506s\n",
            "\t \u001b[32mtrain_loss: 0.1146\u001b[0m\n"
          ]
        },
        {
          "metadata": {
            "tags": null
          },
          "name": "stderr",
          "output_type": "stream",
          "text": [
            "eval_pred: 100%|██████████| 3/3 [00:00<00:00, 192.21it/s]\n",
            "eval_rec: 100%|██████████| 610/610 [00:00<00:00, 1953.22it/s]\n"
          ]
        },
        {
          "metadata": {
            "tags": null
          },
          "name": "stdout",
          "output_type": "stream",
          "text": [
            "\t eval log_loss: 0.7694\n",
            "\t eval roc_auc: 0.8300\n",
            "\t eval precision@10: 0.0330\n",
            "\t eval recall@10: 0.0343\n",
            "\t eval map@10: 0.0783\n",
            "\t eval ndcg@10: 0.1190\n",
            "==============================\n"
          ]
        },
        {
          "metadata": {
            "tags": null
          },
          "name": "stderr",
          "output_type": "stream",
          "text": [
            "eval_pred: 100%|██████████| 3/3 [00:00<00:00, 246.69it/s]\n",
            "eval_rec: 100%|██████████| 608/608 [00:00<00:00, 1862.30it/s]\n"
          ]
        },
        {
          "data": {
            "text/html": [
              "Waiting for W&B process to finish... <strong style=\"color:green\">(success).</strong>"
            ],
            "text/plain": [
              "<IPython.core.display.HTML object>"
            ]
          },
          "metadata": {},
          "output_type": "display_data"
        },
        {
          "data": {
            "text/html": [
              "<style>\n",
              "    table.wandb td:nth-child(1) { padding: 0 10px; text-align: left ; width: auto;} td:nth-child(2) {text-align: left ; width: 100%}\n",
              "    .wandb-row { display: flex; flex-direction: row; flex-wrap: wrap; justify-content: flex-start; width: 100% }\n",
              "    .wandb-col { display: flex; flex-direction: column; flex-basis: 100%; flex: 1; padding: 10px; }\n",
              "    </style>\n",
              "<div class=\"wandb-row\"><div class=\"wandb-col\"><h3>Run history:</h3><br/><table class=\"wandb\"><tr><td>epoch</td><td>▁▂▃▃▄▅▆▆▇█</td></tr><tr><td>log_loss</td><td>▁▁▁▂▃▄▄▆▇█</td></tr><tr><td>loss</td><td>▁</td></tr><tr><td>map</td><td>▁</td></tr><tr><td>map@10</td><td>▂▁▅▃▅▃▆▅█▇</td></tr><tr><td>ndcg</td><td>▁</td></tr><tr><td>ndcg@10</td><td>▂▁▅▃▄▃▆▄██</td></tr><tr><td>precision</td><td>▁</td></tr><tr><td>precision@10</td><td>▅▁▅▃▆▂▇▅██</td></tr><tr><td>recall</td><td>▁</td></tr><tr><td>recall@10</td><td>▆▃▅▁▅▄▆▄▇█</td></tr><tr><td>roc_auc</td><td>▇████▇▇▇▆▆▁</td></tr><tr><td>train_loss</td><td>█▆▅▄▃▃▂▂▁▁</td></tr></table><br/></div><div class=\"wandb-col\"><h3>Run summary:</h3><br/><table class=\"wandb\"><tr><td>epoch</td><td>10</td></tr><tr><td>log_loss</td><td>0.76935</td></tr><tr><td>loss</td><td>0.91712</td></tr><tr><td>map</td><td>0.06128</td></tr><tr><td>map@10</td><td>0.07833</td></tr><tr><td>ndcg</td><td>0.08982</td></tr><tr><td>ndcg@10</td><td>0.11903</td></tr><tr><td>precision</td><td>0.02336</td></tr><tr><td>precision@10</td><td>0.03295</td></tr><tr><td>recall</td><td>0.02529</td></tr><tr><td>recall@10</td><td>0.03429</td></tr><tr><td>roc_auc</td><td>0.79727</td></tr><tr><td>train_loss</td><td>0.1146</td></tr></table><br/></div></div>"
            ],
            "text/plain": [
              "<IPython.core.display.HTML object>"
            ]
          },
          "metadata": {},
          "output_type": "display_data"
        },
        {
          "data": {
            "text/html": [
              "Synced <strong style=\"color:#cdcd00\">tough-sweep-3</strong>: <a href=\"https://wandb.ai/iloncka-ds/recsys-app/runs/fpsw8bv3\" target=\"_blank\">https://wandb.ai/iloncka-ds/recsys-app/runs/fpsw8bv3</a><br/>Synced 5 W&B file(s), 0 media file(s), 0 artifact file(s) and 0 other file(s)"
            ],
            "text/plain": [
              "<IPython.core.display.HTML object>"
            ]
          },
          "metadata": {},
          "output_type": "display_data"
        },
        {
          "data": {
            "text/html": [
              "Find logs at: <code>./wandb/run-20221106_153912-fpsw8bv3/logs</code>"
            ],
            "text/plain": [
              "<IPython.core.display.HTML object>"
            ]
          },
          "metadata": {},
          "output_type": "display_data"
        },
        {
          "metadata": {
            "tags": null
          },
          "name": "stderr",
          "output_type": "stream",
          "text": [
            "\u001b[34m\u001b[1mwandb\u001b[0m: Agent Starting Run: hgfchl05 with config:\n",
            "\u001b[34m\u001b[1mwandb\u001b[0m: \tbatch_size: 256\n",
            "\u001b[34m\u001b[1mwandb\u001b[0m: \tembed_size: 32\n",
            "\u001b[34m\u001b[1mwandb\u001b[0m: \tlr: 0.0001\n",
            "\u001b[34m\u001b[1mwandb\u001b[0m: \tn_epochs: 5\n",
            "Failed to detect the name of this notebook, you can set it manually with the WANDB_NOTEBOOK_NAME environment variable to enable code saving.\n"
          ]
        },
        {
          "data": {
            "text/html": [
              "Tracking run with wandb version 0.13.5"
            ],
            "text/plain": [
              "<IPython.core.display.HTML object>"
            ]
          },
          "metadata": {},
          "output_type": "display_data"
        },
        {
          "data": {
            "text/html": [
              "Run data is saved locally in <code>/content/wandb/run-20221106_154355-hgfchl05</code>"
            ],
            "text/plain": [
              "<IPython.core.display.HTML object>"
            ]
          },
          "metadata": {},
          "output_type": "display_data"
        },
        {
          "data": {
            "text/html": [
              "Syncing run <strong><a href=\"https://wandb.ai/iloncka-ds/recsys-app/runs/hgfchl05\" target=\"_blank\">daily-sweep-4</a></strong> to <a href=\"https://wandb.ai/iloncka-ds/recsys-app\" target=\"_blank\">Weights & Biases</a> (<a href=\"https://wandb.me/run\" target=\"_blank\">docs</a>)<br/>Sweep page:  <a href=\"https://wandb.ai/iloncka-ds/recsys-app/sweeps/1xnmnsi1\" target=\"_blank\">https://wandb.ai/iloncka-ds/recsys-app/sweeps/1xnmnsi1</a>"
            ],
            "text/plain": [
              "<IPython.core.display.HTML object>"
            ]
          },
          "metadata": {},
          "output_type": "display_data"
        },
        {
          "metadata": {
            "tags": null
          },
          "name": "stdout",
          "output_type": "stream",
          "text": [
            "total params: \u001b[33m826,893\u001b[0m | embedding params: \u001b[33m818,597\u001b[0m | network params: \u001b[33m8,296\u001b[0m\n",
            "Training start time: \u001b[35m2022-11-06 15:43:59\u001b[0m\n",
            "With lr_decay, epoch 1 learning rate: 9.999999747378752e-05\n"
          ]
        },
        {
          "metadata": {
            "tags": null
          },
          "name": "stderr",
          "output_type": "stream",
          "text": [
            "train: 100%|██████████| 631/631 [00:27<00:00, 23.28it/s]\n"
          ]
        },
        {
          "metadata": {
            "tags": null
          },
          "name": "stdout",
          "output_type": "stream",
          "text": [
            "Epoch 1 elapsed: 27.161s\n",
            "\t \u001b[32mtrain_loss: 0.6574\u001b[0m\n"
          ]
        },
        {
          "metadata": {
            "tags": null
          },
          "name": "stderr",
          "output_type": "stream",
          "text": [
            "eval_pred: 100%|██████████| 3/3 [00:00<00:00, 199.48it/s]\n",
            "eval_rec: 100%|██████████| 610/610 [00:00<00:00, 1923.37it/s]\n"
          ]
        },
        {
          "metadata": {
            "tags": null
          },
          "name": "stdout",
          "output_type": "stream",
          "text": [
            "\t eval log_loss: 0.5693\n",
            "\t eval roc_auc: 0.8191\n",
            "\t eval precision@10: 0.0400\n",
            "\t eval recall@10: 0.0417\n",
            "\t eval map@10: 0.0911\n",
            "\t eval ndcg@10: 0.1332\n",
            "==============================\n",
            "With lr_decay, epoch 2 learning rate: 9.215999307343736e-05\n"
          ]
        },
        {
          "metadata": {
            "tags": null
          },
          "name": "stderr",
          "output_type": "stream",
          "text": [
            "train: 100%|██████████| 631/631 [00:26<00:00, 23.85it/s]\n"
          ]
        },
        {
          "metadata": {
            "tags": null
          },
          "name": "stdout",
          "output_type": "stream",
          "text": [
            "Epoch 2 elapsed: 26.510s\n",
            "\t \u001b[32mtrain_loss: 0.4775\u001b[0m\n"
          ]
        },
        {
          "metadata": {
            "tags": null
          },
          "name": "stderr",
          "output_type": "stream",
          "text": [
            "eval_pred: 100%|██████████| 3/3 [00:00<00:00, 118.06it/s]\n",
            "eval_rec: 100%|██████████| 610/610 [00:00<00:00, 1948.63it/s]\n"
          ]
        },
        {
          "metadata": {
            "tags": null
          },
          "name": "stdout",
          "output_type": "stream",
          "text": [
            "\t eval log_loss: 0.5021\n",
            "\t eval roc_auc: 0.8397\n",
            "\t eval precision@10: 0.0393\n",
            "\t eval recall@10: 0.0402\n",
            "\t eval map@10: 0.0882\n",
            "\t eval ndcg@10: 0.1294\n",
            "==============================\n",
            "With lr_decay, epoch 3 learning rate: 8.49346470204182e-05\n"
          ]
        },
        {
          "metadata": {
            "tags": null
          },
          "name": "stderr",
          "output_type": "stream",
          "text": [
            "train: 100%|██████████| 631/631 [00:26<00:00, 23.68it/s]\n"
          ]
        },
        {
          "metadata": {
            "tags": null
          },
          "name": "stdout",
          "output_type": "stream",
          "text": [
            "Epoch 3 elapsed: 26.696s\n",
            "\t \u001b[32mtrain_loss: 0.4407\u001b[0m\n"
          ]
        },
        {
          "metadata": {
            "tags": null
          },
          "name": "stderr",
          "output_type": "stream",
          "text": [
            "eval_pred: 100%|██████████| 3/3 [00:00<00:00, 176.20it/s]\n",
            "eval_rec: 100%|██████████| 610/610 [00:00<00:00, 1920.60it/s]\n"
          ]
        },
        {
          "metadata": {
            "tags": null
          },
          "name": "stdout",
          "output_type": "stream",
          "text": [
            "\t eval log_loss: 0.4960\n",
            "\t eval roc_auc: 0.8439\n",
            "\t eval precision@10: 0.0377\n",
            "\t eval recall@10: 0.0373\n",
            "\t eval map@10: 0.0866\n",
            "\t eval ndcg@10: 0.1255\n",
            "==============================\n",
            "With lr_decay, epoch 4 learning rate: 7.827577064745128e-05\n"
          ]
        },
        {
          "metadata": {
            "tags": null
          },
          "name": "stderr",
          "output_type": "stream",
          "text": [
            "train: 100%|██████████| 631/631 [00:26<00:00, 23.78it/s]\n"
          ]
        },
        {
          "metadata": {
            "tags": null
          },
          "name": "stdout",
          "output_type": "stream",
          "text": [
            "Epoch 4 elapsed: 26.606s\n",
            "\t \u001b[32mtrain_loss: 0.4277\u001b[0m\n"
          ]
        },
        {
          "metadata": {
            "tags": null
          },
          "name": "stderr",
          "output_type": "stream",
          "text": [
            "eval_pred: 100%|██████████| 3/3 [00:00<00:00, 241.32it/s]\n",
            "eval_rec: 100%|██████████| 610/610 [00:00<00:00, 1765.07it/s]\n"
          ]
        },
        {
          "metadata": {
            "tags": null
          },
          "name": "stdout",
          "output_type": "stream",
          "text": [
            "\t eval log_loss: 0.4950\n",
            "\t eval roc_auc: 0.8448\n",
            "\t eval precision@10: 0.0364\n",
            "\t eval recall@10: 0.0365\n",
            "\t eval map@10: 0.0857\n",
            "\t eval ndcg@10: 0.1242\n",
            "==============================\n",
            "With lr_decay, epoch 5 learning rate: 7.213894423330203e-05\n"
          ]
        },
        {
          "metadata": {
            "tags": null
          },
          "name": "stderr",
          "output_type": "stream",
          "text": [
            "train: 100%|██████████| 631/631 [00:26<00:00, 23.60it/s]\n"
          ]
        },
        {
          "metadata": {
            "tags": null
          },
          "name": "stdout",
          "output_type": "stream",
          "text": [
            "Epoch 5 elapsed: 26.792s\n",
            "\t \u001b[32mtrain_loss: 0.4187\u001b[0m\n"
          ]
        },
        {
          "metadata": {
            "tags": null
          },
          "name": "stderr",
          "output_type": "stream",
          "text": [
            "eval_pred: 100%|██████████| 3/3 [00:00<00:00, 207.35it/s]\n",
            "eval_rec: 100%|██████████| 610/610 [00:00<00:00, 1975.22it/s]\n"
          ]
        },
        {
          "metadata": {
            "tags": null
          },
          "name": "stdout",
          "output_type": "stream",
          "text": [
            "\t eval log_loss: 0.4962\n",
            "\t eval roc_auc: 0.8447\n",
            "\t eval precision@10: 0.0334\n",
            "\t eval recall@10: 0.0339\n",
            "\t eval map@10: 0.0834\n",
            "\t eval ndcg@10: 0.1200\n",
            "==============================\n"
          ]
        },
        {
          "metadata": {
            "tags": null
          },
          "name": "stderr",
          "output_type": "stream",
          "text": [
            "eval_pred: 100%|██████████| 3/3 [00:00<00:00, 221.41it/s]\n",
            "eval_rec: 100%|██████████| 608/608 [00:00<00:00, 1989.43it/s]\n"
          ]
        },
        {
          "data": {
            "text/html": [
              "Waiting for W&B process to finish... <strong style=\"color:green\">(success).</strong>"
            ],
            "text/plain": [
              "<IPython.core.display.HTML object>"
            ]
          },
          "metadata": {},
          "output_type": "display_data"
        },
        {
          "data": {
            "text/html": [
              "<style>\n",
              "    table.wandb td:nth-child(1) { padding: 0 10px; text-align: left ; width: auto;} td:nth-child(2) {text-align: left ; width: 100%}\n",
              "    .wandb-row { display: flex; flex-direction: row; flex-wrap: wrap; justify-content: flex-start; width: 100% }\n",
              "    .wandb-col { display: flex; flex-direction: column; flex-basis: 100%; flex: 1; padding: 10px; }\n",
              "    </style>\n",
              "<div class=\"wandb-row\"><div class=\"wandb-col\"><h3>Run history:</h3><br/><table class=\"wandb\"><tr><td>epoch</td><td>▁▃▅▆█</td></tr><tr><td>log_loss</td><td>█▂▁▁▁</td></tr><tr><td>loss</td><td>▁</td></tr><tr><td>map</td><td>▁</td></tr><tr><td>map@10</td><td>█▅▄▃▁</td></tr><tr><td>ndcg</td><td>▁</td></tr><tr><td>ndcg@10</td><td>█▆▄▃▁</td></tr><tr><td>precision</td><td>▁</td></tr><tr><td>precision@10</td><td>█▇▆▄▁</td></tr><tr><td>recall</td><td>▁</td></tr><tr><td>recall@10</td><td>█▇▄▃▁</td></tr><tr><td>roc_auc</td><td>▁▇███▃</td></tr><tr><td>train_loss</td><td>█▃▂▁▁</td></tr></table><br/></div><div class=\"wandb-col\"><h3>Run summary:</h3><br/><table class=\"wandb\"><tr><td>epoch</td><td>5</td></tr><tr><td>log_loss</td><td>0.49616</td></tr><tr><td>loss</td><td>0.52318</td></tr><tr><td>map</td><td>0.07416</td></tr><tr><td>map@10</td><td>0.08336</td></tr><tr><td>ndcg</td><td>0.10462</td></tr><tr><td>ndcg@10</td><td>0.12003</td></tr><tr><td>precision</td><td>0.02763</td></tr><tr><td>precision@10</td><td>0.03344</td></tr><tr><td>recall</td><td>0.02946</td></tr><tr><td>recall@10</td><td>0.03393</td></tr><tr><td>roc_auc</td><td>0.82721</td></tr><tr><td>train_loss</td><td>0.4187</td></tr></table><br/></div></div>"
            ],
            "text/plain": [
              "<IPython.core.display.HTML object>"
            ]
          },
          "metadata": {},
          "output_type": "display_data"
        },
        {
          "data": {
            "text/html": [
              "Synced <strong style=\"color:#cdcd00\">daily-sweep-4</strong>: <a href=\"https://wandb.ai/iloncka-ds/recsys-app/runs/hgfchl05\" target=\"_blank\">https://wandb.ai/iloncka-ds/recsys-app/runs/hgfchl05</a><br/>Synced 5 W&B file(s), 0 media file(s), 0 artifact file(s) and 0 other file(s)"
            ],
            "text/plain": [
              "<IPython.core.display.HTML object>"
            ]
          },
          "metadata": {},
          "output_type": "display_data"
        },
        {
          "data": {
            "text/html": [
              "Find logs at: <code>./wandb/run-20221106_154355-hgfchl05/logs</code>"
            ],
            "text/plain": [
              "<IPython.core.display.HTML object>"
            ]
          },
          "metadata": {},
          "output_type": "display_data"
        },
        {
          "metadata": {
            "tags": null
          },
          "name": "stderr",
          "output_type": "stream",
          "text": [
            "\u001b[34m\u001b[1mwandb\u001b[0m: Sweep Agent: Waiting for job.\n",
            "\u001b[34m\u001b[1mwandb\u001b[0m: Job received.\n",
            "\u001b[34m\u001b[1mwandb\u001b[0m: Agent Starting Run: keiarhef with config:\n",
            "\u001b[34m\u001b[1mwandb\u001b[0m: \tbatch_size: 256\n",
            "\u001b[34m\u001b[1mwandb\u001b[0m: \tembed_size: 16\n",
            "\u001b[34m\u001b[1mwandb\u001b[0m: \tlr: 0.01\n",
            "\u001b[34m\u001b[1mwandb\u001b[0m: \tn_epochs: 5\n",
            "Failed to detect the name of this notebook, you can set it manually with the WANDB_NOTEBOOK_NAME environment variable to enable code saving.\n"
          ]
        },
        {
          "data": {
            "text/html": [
              "Tracking run with wandb version 0.13.5"
            ],
            "text/plain": [
              "<IPython.core.display.HTML object>"
            ]
          },
          "metadata": {},
          "output_type": "display_data"
        },
        {
          "data": {
            "text/html": [
              "Run data is saved locally in <code>/content/wandb/run-20221106_154635-keiarhef</code>"
            ],
            "text/plain": [
              "<IPython.core.display.HTML object>"
            ]
          },
          "metadata": {},
          "output_type": "display_data"
        },
        {
          "data": {
            "text/html": [
              "Syncing run <strong><a href=\"https://wandb.ai/iloncka-ds/recsys-app/runs/keiarhef\" target=\"_blank\">distinctive-sweep-5</a></strong> to <a href=\"https://wandb.ai/iloncka-ds/recsys-app\" target=\"_blank\">Weights & Biases</a> (<a href=\"https://wandb.me/run\" target=\"_blank\">docs</a>)<br/>Sweep page:  <a href=\"https://wandb.ai/iloncka-ds/recsys-app/sweeps/1xnmnsi1\" target=\"_blank\">https://wandb.ai/iloncka-ds/recsys-app/sweeps/1xnmnsi1</a>"
            ],
            "text/plain": [
              "<IPython.core.display.HTML object>"
            ]
          },
          "metadata": {},
          "output_type": "display_data"
        },
        {
          "metadata": {
            "tags": null
          },
          "name": "stdout",
          "output_type": "stream",
          "text": [
            "total params: \u001b[33m416,573\u001b[0m | embedding params: \u001b[33m413,429\u001b[0m | network params: \u001b[33m3,144\u001b[0m\n",
            "Training start time: \u001b[35m2022-11-06 15:46:39\u001b[0m\n",
            "With lr_decay, epoch 1 learning rate: 0.009999999776482582\n"
          ]
        },
        {
          "metadata": {
            "tags": null
          },
          "name": "stderr",
          "output_type": "stream",
          "text": [
            "train: 100%|██████████| 631/631 [00:20<00:00, 31.05it/s]\n"
          ]
        },
        {
          "metadata": {
            "tags": null
          },
          "name": "stdout",
          "output_type": "stream",
          "text": [
            "Epoch 1 elapsed: 20.377s\n",
            "\t \u001b[32mtrain_loss: 0.4899\u001b[0m\n"
          ]
        },
        {
          "metadata": {
            "tags": null
          },
          "name": "stderr",
          "output_type": "stream",
          "text": [
            "eval_pred: 100%|██████████| 3/3 [00:00<00:00, 237.58it/s]\n",
            "eval_rec: 100%|██████████| 610/610 [00:00<00:00, 2217.40it/s]\n"
          ]
        },
        {
          "metadata": {
            "tags": null
          },
          "name": "stdout",
          "output_type": "stream",
          "text": [
            "\t eval log_loss: 0.4949\n",
            "\t eval roc_auc: 0.8461\n",
            "\t eval precision@10: 0.0328\n",
            "\t eval recall@10: 0.0313\n",
            "\t eval map@10: 0.0784\n",
            "\t eval ndcg@10: 0.1189\n",
            "==============================\n",
            "With lr_decay, epoch 2 learning rate: 0.009215999394655228\n"
          ]
        },
        {
          "metadata": {
            "tags": null
          },
          "name": "stderr",
          "output_type": "stream",
          "text": [
            "train: 100%|██████████| 631/631 [00:19<00:00, 32.03it/s]\n"
          ]
        },
        {
          "metadata": {
            "tags": null
          },
          "name": "stdout",
          "output_type": "stream",
          "text": [
            "Epoch 2 elapsed: 19.753s\n",
            "\t \u001b[32mtrain_loss: 0.2892\u001b[0m\n"
          ]
        },
        {
          "metadata": {
            "tags": null
          },
          "name": "stderr",
          "output_type": "stream",
          "text": [
            "eval_pred: 100%|██████████| 3/3 [00:00<00:00, 236.43it/s]\n",
            "eval_rec: 100%|██████████| 610/610 [00:00<00:00, 2176.43it/s]\n"
          ]
        },
        {
          "metadata": {
            "tags": null
          },
          "name": "stdout",
          "output_type": "stream",
          "text": [
            "\t eval log_loss: 0.5720\n",
            "\t eval roc_auc: 0.8270\n",
            "\t eval precision@10: 0.0264\n",
            "\t eval recall@10: 0.0273\n",
            "\t eval map@10: 0.0767\n",
            "\t eval ndcg@10: 0.1100\n",
            "==============================\n",
            "With lr_decay, epoch 3 learning rate: 0.008493464440107346\n"
          ]
        },
        {
          "metadata": {
            "tags": null
          },
          "name": "stderr",
          "output_type": "stream",
          "text": [
            "train: 100%|██████████| 631/631 [00:19<00:00, 32.24it/s]\n"
          ]
        },
        {
          "metadata": {
            "tags": null
          },
          "name": "stdout",
          "output_type": "stream",
          "text": [
            "Epoch 3 elapsed: 19.636s\n",
            "\t \u001b[32mtrain_loss: 0.1483\u001b[0m\n"
          ]
        },
        {
          "metadata": {
            "tags": null
          },
          "name": "stderr",
          "output_type": "stream",
          "text": [
            "eval_pred: 100%|██████████| 3/3 [00:00<00:00, 266.26it/s]\n",
            "eval_rec: 100%|██████████| 610/610 [00:00<00:00, 2017.41it/s]\n"
          ]
        },
        {
          "metadata": {
            "tags": null
          },
          "name": "stdout",
          "output_type": "stream",
          "text": [
            "\t eval log_loss: 0.6965\n",
            "\t eval roc_auc: 0.8158\n",
            "\t eval precision@10: 0.0261\n",
            "\t eval recall@10: 0.0277\n",
            "\t eval map@10: 0.0705\n",
            "\t eval ndcg@10: 0.1046\n",
            "==============================\n",
            "With lr_decay, epoch 4 learning rate: 0.00782757718116045\n"
          ]
        },
        {
          "metadata": {
            "tags": null
          },
          "name": "stderr",
          "output_type": "stream",
          "text": [
            "train: 100%|██████████| 631/631 [00:19<00:00, 32.22it/s]\n"
          ]
        },
        {
          "metadata": {
            "tags": null
          },
          "name": "stdout",
          "output_type": "stream",
          "text": [
            "Epoch 4 elapsed: 19.642s\n",
            "\t \u001b[32mtrain_loss: 0.0826\u001b[0m\n"
          ]
        },
        {
          "metadata": {
            "tags": null
          },
          "name": "stderr",
          "output_type": "stream",
          "text": [
            "eval_pred: 100%|██████████| 3/3 [00:00<00:00, 192.92it/s]\n",
            "eval_rec: 100%|██████████| 610/610 [00:00<00:00, 2189.60it/s]\n"
          ]
        },
        {
          "metadata": {
            "tags": null
          },
          "name": "stdout",
          "output_type": "stream",
          "text": [
            "\t eval log_loss: 0.8056\n",
            "\t eval roc_auc: 0.8137\n",
            "\t eval precision@10: 0.0259\n",
            "\t eval recall@10: 0.0247\n",
            "\t eval map@10: 0.0643\n",
            "\t eval ndcg@10: 0.0978\n",
            "==============================\n",
            "With lr_decay, epoch 5 learning rate: 0.007213894743472338\n"
          ]
        },
        {
          "metadata": {
            "tags": null
          },
          "name": "stderr",
          "output_type": "stream",
          "text": [
            "train: 100%|██████████| 631/631 [00:19<00:00, 32.11it/s]\n"
          ]
        },
        {
          "metadata": {
            "tags": null
          },
          "name": "stdout",
          "output_type": "stream",
          "text": [
            "Epoch 5 elapsed: 19.699s\n",
            "\t \u001b[32mtrain_loss: 0.0503\u001b[0m\n"
          ]
        },
        {
          "metadata": {
            "tags": null
          },
          "name": "stderr",
          "output_type": "stream",
          "text": [
            "eval_pred: 100%|██████████| 3/3 [00:00<00:00, 197.45it/s]\n",
            "eval_rec: 100%|██████████| 610/610 [00:00<00:00, 2152.60it/s]\n"
          ]
        },
        {
          "metadata": {
            "tags": null
          },
          "name": "stdout",
          "output_type": "stream",
          "text": [
            "\t eval log_loss: 0.9332\n",
            "\t eval roc_auc: 0.8141\n",
            "\t eval precision@10: 0.0261\n",
            "\t eval recall@10: 0.0259\n",
            "\t eval map@10: 0.0687\n",
            "\t eval ndcg@10: 0.1011\n",
            "==============================\n"
          ]
        },
        {
          "metadata": {
            "tags": null
          },
          "name": "stderr",
          "output_type": "stream",
          "text": [
            "eval_pred: 100%|██████████| 3/3 [00:00<00:00, 311.10it/s]\n",
            "eval_rec: 100%|██████████| 608/608 [00:00<00:00, 2034.35it/s]\n"
          ]
        },
        {
          "data": {
            "text/html": [
              "Waiting for W&B process to finish... <strong style=\"color:green\">(success).</strong>"
            ],
            "text/plain": [
              "<IPython.core.display.HTML object>"
            ]
          },
          "metadata": {},
          "output_type": "display_data"
        },
        {
          "data": {
            "application/vnd.jupyter.widget-view+json": {
              "model_id": "0f3563a806ef4180beb3fa009fc34493",
              "version_major": 2,
              "version_minor": 0
            },
            "text/plain": [
              "VBox(children=(Label(value='0.001 MB of 0.001 MB uploaded (0.000 MB deduped)\\r'), FloatProgress(value=1.0, max…"
            ]
          },
          "metadata": {},
          "output_type": "display_data"
        },
        {
          "data": {
            "text/html": [
              "<style>\n",
              "    table.wandb td:nth-child(1) { padding: 0 10px; text-align: left ; width: auto;} td:nth-child(2) {text-align: left ; width: 100%}\n",
              "    .wandb-row { display: flex; flex-direction: row; flex-wrap: wrap; justify-content: flex-start; width: 100% }\n",
              "    .wandb-col { display: flex; flex-direction: column; flex-basis: 100%; flex: 1; padding: 10px; }\n",
              "    </style>\n",
              "<div class=\"wandb-row\"><div class=\"wandb-col\"><h3>Run history:</h3><br/><table class=\"wandb\"><tr><td>epoch</td><td>▁▃▅▆█</td></tr><tr><td>log_loss</td><td>▁▂▄▆█</td></tr><tr><td>loss</td><td>▁</td></tr><tr><td>map</td><td>▁</td></tr><tr><td>map@10</td><td>█▇▄▁▃</td></tr><tr><td>ndcg</td><td>▁</td></tr><tr><td>ndcg@10</td><td>█▅▃▁▂</td></tr><tr><td>precision</td><td>▁</td></tr><tr><td>precision@10</td><td>█▂▁▁▁</td></tr><tr><td>recall</td><td>▁</td></tr><tr><td>recall@10</td><td>█▄▄▁▂</td></tr><tr><td>roc_auc</td><td>█▆▅▅▅▁</td></tr><tr><td>train_loss</td><td>█▅▃▂▁</td></tr></table><br/></div><div class=\"wandb-col\"><h3>Run summary:</h3><br/><table class=\"wandb\"><tr><td>epoch</td><td>5</td></tr><tr><td>log_loss</td><td>0.93319</td></tr><tr><td>loss</td><td>1.12489</td></tr><tr><td>map</td><td>0.06017</td></tr><tr><td>map@10</td><td>0.06873</td></tr><tr><td>ndcg</td><td>0.08708</td></tr><tr><td>ndcg@10</td><td>0.10113</td></tr><tr><td>precision</td><td>0.02188</td></tr><tr><td>precision@10</td><td>0.02607</td></tr><tr><td>recall</td><td>0.02458</td></tr><tr><td>recall@10</td><td>0.02589</td></tr><tr><td>roc_auc</td><td>0.77719</td></tr><tr><td>train_loss</td><td>0.0503</td></tr></table><br/></div></div>"
            ],
            "text/plain": [
              "<IPython.core.display.HTML object>"
            ]
          },
          "metadata": {},
          "output_type": "display_data"
        },
        {
          "data": {
            "text/html": [
              "Synced <strong style=\"color:#cdcd00\">distinctive-sweep-5</strong>: <a href=\"https://wandb.ai/iloncka-ds/recsys-app/runs/keiarhef\" target=\"_blank\">https://wandb.ai/iloncka-ds/recsys-app/runs/keiarhef</a><br/>Synced 5 W&B file(s), 0 media file(s), 0 artifact file(s) and 0 other file(s)"
            ],
            "text/plain": [
              "<IPython.core.display.HTML object>"
            ]
          },
          "metadata": {},
          "output_type": "display_data"
        },
        {
          "data": {
            "text/html": [
              "Find logs at: <code>./wandb/run-20221106_154635-keiarhef/logs</code>"
            ],
            "text/plain": [
              "<IPython.core.display.HTML object>"
            ]
          },
          "metadata": {},
          "output_type": "display_data"
        },
        {
          "metadata": {
            "tags": null
          },
          "name": "stderr",
          "output_type": "stream",
          "text": [
            "\u001b[34m\u001b[1mwandb\u001b[0m: Agent Starting Run: layx0rv2 with config:\n",
            "\u001b[34m\u001b[1mwandb\u001b[0m: \tbatch_size: 64\n",
            "\u001b[34m\u001b[1mwandb\u001b[0m: \tembed_size: 32\n",
            "\u001b[34m\u001b[1mwandb\u001b[0m: \tlr: 0.1\n",
            "\u001b[34m\u001b[1mwandb\u001b[0m: \tn_epochs: 10\n",
            "Failed to detect the name of this notebook, you can set it manually with the WANDB_NOTEBOOK_NAME environment variable to enable code saving.\n"
          ]
        },
        {
          "data": {
            "text/html": [
              "Tracking run with wandb version 0.13.5"
            ],
            "text/plain": [
              "<IPython.core.display.HTML object>"
            ]
          },
          "metadata": {},
          "output_type": "display_data"
        },
        {
          "data": {
            "text/html": [
              "Run data is saved locally in <code>/content/wandb/run-20221106_154834-layx0rv2</code>"
            ],
            "text/plain": [
              "<IPython.core.display.HTML object>"
            ]
          },
          "metadata": {},
          "output_type": "display_data"
        },
        {
          "data": {
            "text/html": [
              "Syncing run <strong><a href=\"https://wandb.ai/iloncka-ds/recsys-app/runs/layx0rv2\" target=\"_blank\">robust-sweep-6</a></strong> to <a href=\"https://wandb.ai/iloncka-ds/recsys-app\" target=\"_blank\">Weights & Biases</a> (<a href=\"https://wandb.me/run\" target=\"_blank\">docs</a>)<br/>Sweep page:  <a href=\"https://wandb.ai/iloncka-ds/recsys-app/sweeps/1xnmnsi1\" target=\"_blank\">https://wandb.ai/iloncka-ds/recsys-app/sweeps/1xnmnsi1</a>"
            ],
            "text/plain": [
              "<IPython.core.display.HTML object>"
            ]
          },
          "metadata": {},
          "output_type": "display_data"
        },
        {
          "metadata": {
            "tags": null
          },
          "name": "stdout",
          "output_type": "stream",
          "text": [
            "total params: \u001b[33m826,893\u001b[0m | embedding params: \u001b[33m818,597\u001b[0m | network params: \u001b[33m8,296\u001b[0m\n",
            "Training start time: \u001b[35m2022-11-06 15:48:40\u001b[0m\n",
            "With lr_decay, epoch 1 learning rate: 0.10000000149011612\n"
          ]
        },
        {
          "metadata": {
            "tags": null
          },
          "name": "stderr",
          "output_type": "stream",
          "text": [
            "train: 100%|██████████| 2521/2521 [00:57<00:00, 44.01it/s]\n"
          ]
        },
        {
          "metadata": {
            "tags": null
          },
          "name": "stdout",
          "output_type": "stream",
          "text": [
            "Epoch 1 elapsed: 57.351s\n",
            "\t \u001b[32mtrain_loss: 5.3172\u001b[0m\n"
          ]
        },
        {
          "metadata": {
            "tags": null
          },
          "name": "stderr",
          "output_type": "stream",
          "text": [
            "eval_pred: 100%|██████████| 3/3 [00:00<00:00, 194.51it/s]\n",
            "eval_rec: 100%|██████████| 610/610 [00:00<00:00, 1711.15it/s]\n"
          ]
        },
        {
          "metadata": {
            "tags": null
          },
          "name": "stdout",
          "output_type": "stream",
          "text": [
            "\t eval log_loss: 3.9257\n",
            "\t eval roc_auc: 0.7017\n",
            "\t eval precision@10: 0.0036\n",
            "\t eval recall@10: 0.0038\n",
            "\t eval map@10: 0.0113\n",
            "\t eval ndcg@10: 0.0166\n",
            "==============================\n",
            "With lr_decay, epoch 2 learning rate: 0.09216000139713287\n"
          ]
        },
        {
          "metadata": {
            "tags": null
          },
          "name": "stderr",
          "output_type": "stream",
          "text": [
            "train: 100%|██████████| 2521/2521 [00:57<00:00, 43.75it/s]\n"
          ]
        },
        {
          "metadata": {
            "tags": null
          },
          "name": "stdout",
          "output_type": "stream",
          "text": [
            "Epoch 2 elapsed: 57.677s\n",
            "\t \u001b[32mtrain_loss: 5.1265\u001b[0m\n"
          ]
        },
        {
          "metadata": {
            "tags": null
          },
          "name": "stderr",
          "output_type": "stream",
          "text": [
            "eval_pred: 100%|██████████| 3/3 [00:00<00:00, 136.67it/s]\n",
            "eval_rec: 100%|██████████| 610/610 [00:00<00:00, 1737.41it/s]\n"
          ]
        },
        {
          "metadata": {
            "tags": null
          },
          "name": "stdout",
          "output_type": "stream",
          "text": [
            "\t eval log_loss: 3.8664\n",
            "\t eval roc_auc: 0.7281\n",
            "\t eval precision@10: 0.0051\n",
            "\t eval recall@10: 0.0041\n",
            "\t eval map@10: 0.0128\n",
            "\t eval ndcg@10: 0.0195\n",
            "==============================\n",
            "With lr_decay, epoch 3 learning rate: 0.08493464440107346\n"
          ]
        },
        {
          "metadata": {
            "tags": null
          },
          "name": "stderr",
          "output_type": "stream",
          "text": [
            "train: 100%|██████████| 2521/2521 [00:57<00:00, 44.17it/s]\n"
          ]
        },
        {
          "metadata": {
            "tags": null
          },
          "name": "stdout",
          "output_type": "stream",
          "text": [
            "Epoch 3 elapsed: 57.144s\n",
            "\t \u001b[32mtrain_loss: 4.0757\u001b[0m\n"
          ]
        },
        {
          "metadata": {
            "tags": null
          },
          "name": "stderr",
          "output_type": "stream",
          "text": [
            "eval_pred: 100%|██████████| 3/3 [00:00<00:00, 185.44it/s]\n",
            "eval_rec: 100%|██████████| 610/610 [00:00<00:00, 1764.89it/s]\n"
          ]
        },
        {
          "metadata": {
            "tags": null
          },
          "name": "stdout",
          "output_type": "stream",
          "text": [
            "\t eval log_loss: 3.9393\n",
            "\t eval roc_auc: 0.7408\n",
            "\t eval precision@10: 0.0043\n",
            "\t eval recall@10: 0.0024\n",
            "\t eval map@10: 0.0100\n",
            "\t eval ndcg@10: 0.0156\n",
            "==============================\n",
            "With lr_decay, epoch 4 learning rate: 0.07827576994895935\n"
          ]
        },
        {
          "metadata": {
            "tags": null
          },
          "name": "stderr",
          "output_type": "stream",
          "text": [
            "train: 100%|██████████| 2521/2521 [00:57<00:00, 44.20it/s]\n"
          ]
        },
        {
          "metadata": {
            "tags": null
          },
          "name": "stdout",
          "output_type": "stream",
          "text": [
            "Epoch 4 elapsed: 57.083s\n",
            "\t \u001b[32mtrain_loss: 3.2315\u001b[0m\n"
          ]
        },
        {
          "metadata": {
            "tags": null
          },
          "name": "stderr",
          "output_type": "stream",
          "text": [
            "eval_pred: 100%|██████████| 3/3 [00:00<00:00, 197.98it/s]\n",
            "eval_rec: 100%|██████████| 610/610 [00:00<00:00, 1757.07it/s]\n"
          ]
        },
        {
          "metadata": {
            "tags": null
          },
          "name": "stdout",
          "output_type": "stream",
          "text": [
            "\t eval log_loss: 4.0263\n",
            "\t eval roc_auc: 0.7439\n",
            "\t eval precision@10: 0.0048\n",
            "\t eval recall@10: 0.0022\n",
            "\t eval map@10: 0.0104\n",
            "\t eval ndcg@10: 0.0178\n",
            "==============================\n",
            "With lr_decay, epoch 5 learning rate: 0.0721389502286911\n"
          ]
        },
        {
          "metadata": {
            "tags": null
          },
          "name": "stderr",
          "output_type": "stream",
          "text": [
            "train: 100%|██████████| 2521/2521 [00:56<00:00, 44.32it/s]\n"
          ]
        },
        {
          "metadata": {
            "tags": null
          },
          "name": "stdout",
          "output_type": "stream",
          "text": [
            "Epoch 5 elapsed: 56.947s\n",
            "\t \u001b[32mtrain_loss: 2.45\u001b[0m\n"
          ]
        },
        {
          "metadata": {
            "tags": null
          },
          "name": "stderr",
          "output_type": "stream",
          "text": [
            "eval_pred: 100%|██████████| 3/3 [00:00<00:00, 194.27it/s]\n",
            "eval_rec: 100%|██████████| 610/610 [00:00<00:00, 1819.86it/s]\n"
          ]
        },
        {
          "metadata": {
            "tags": null
          },
          "name": "stdout",
          "output_type": "stream",
          "text": [
            "\t eval log_loss: 4.1340\n",
            "\t eval roc_auc: 0.7457\n",
            "\t eval precision@10: 0.0052\n",
            "\t eval recall@10: 0.0026\n",
            "\t eval map@10: 0.0130\n",
            "\t eval ndcg@10: 0.0206\n",
            "==============================\n",
            "With lr_decay, epoch 6 learning rate: 0.06648325175046921\n"
          ]
        },
        {
          "metadata": {
            "tags": null
          },
          "name": "stderr",
          "output_type": "stream",
          "text": [
            "train: 100%|██████████| 2521/2521 [00:57<00:00, 43.91it/s]\n"
          ]
        },
        {
          "metadata": {
            "tags": null
          },
          "name": "stdout",
          "output_type": "stream",
          "text": [
            "Epoch 6 elapsed: 57.456s\n",
            "\t \u001b[32mtrain_loss: 1.9011\u001b[0m\n"
          ]
        },
        {
          "metadata": {
            "tags": null
          },
          "name": "stderr",
          "output_type": "stream",
          "text": [
            "eval_pred: 100%|██████████| 3/3 [00:00<00:00, 175.56it/s]\n",
            "eval_rec: 100%|██████████| 610/610 [00:00<00:00, 1621.89it/s]\n"
          ]
        },
        {
          "metadata": {
            "tags": null
          },
          "name": "stdout",
          "output_type": "stream",
          "text": [
            "\t eval log_loss: 4.1523\n",
            "\t eval roc_auc: 0.7514\n",
            "\t eval precision@10: 0.0044\n",
            "\t eval recall@10: 0.0017\n",
            "\t eval map@10: 0.0123\n",
            "\t eval ndcg@10: 0.0188\n",
            "==============================\n",
            "With lr_decay, epoch 7 learning rate: 0.06127095967531204\n"
          ]
        },
        {
          "metadata": {
            "tags": null
          },
          "name": "stderr",
          "output_type": "stream",
          "text": [
            "train: 100%|██████████| 2521/2521 [00:57<00:00, 43.77it/s]\n"
          ]
        },
        {
          "metadata": {
            "tags": null
          },
          "name": "stdout",
          "output_type": "stream",
          "text": [
            "Epoch 7 elapsed: 57.649s\n",
            "\t \u001b[32mtrain_loss: 1.4249\u001b[0m\n"
          ]
        },
        {
          "metadata": {
            "tags": null
          },
          "name": "stderr",
          "output_type": "stream",
          "text": [
            "eval_pred: 100%|██████████| 3/3 [00:00<00:00, 189.55it/s]\n",
            "eval_rec: 100%|██████████| 610/610 [00:00<00:00, 1765.12it/s]\n"
          ]
        },
        {
          "metadata": {
            "tags": null
          },
          "name": "stdout",
          "output_type": "stream",
          "text": [
            "\t eval log_loss: 4.2116\n",
            "\t eval roc_auc: 0.7499\n",
            "\t eval precision@10: 0.0043\n",
            "\t eval recall@10: 0.0032\n",
            "\t eval map@10: 0.0120\n",
            "\t eval ndcg@10: 0.0181\n",
            "==============================\n",
            "With lr_decay, epoch 8 learning rate: 0.056467313319444656\n"
          ]
        },
        {
          "metadata": {
            "tags": null
          },
          "name": "stderr",
          "output_type": "stream",
          "text": [
            "train: 100%|██████████| 2521/2521 [00:57<00:00, 43.74it/s]\n"
          ]
        },
        {
          "metadata": {
            "tags": null
          },
          "name": "stdout",
          "output_type": "stream",
          "text": [
            "Epoch 8 elapsed: 57.687s\n",
            "\t \u001b[32mtrain_loss: 1.0471\u001b[0m\n"
          ]
        },
        {
          "metadata": {
            "tags": null
          },
          "name": "stderr",
          "output_type": "stream",
          "text": [
            "eval_pred: 100%|██████████| 3/3 [00:00<00:00, 179.76it/s]\n",
            "eval_rec: 100%|██████████| 610/610 [00:00<00:00, 1738.39it/s]\n"
          ]
        },
        {
          "metadata": {
            "tags": null
          },
          "name": "stdout",
          "output_type": "stream",
          "text": [
            "\t eval log_loss: 4.2579\n",
            "\t eval roc_auc: 0.7502\n",
            "\t eval precision@10: 0.0057\n",
            "\t eval recall@10: 0.0037\n",
            "\t eval map@10: 0.0199\n",
            "\t eval ndcg@10: 0.0275\n",
            "==============================\n",
            "With lr_decay, epoch 9 learning rate: 0.05204027518630028\n"
          ]
        },
        {
          "metadata": {
            "tags": null
          },
          "name": "stderr",
          "output_type": "stream",
          "text": [
            "train: 100%|██████████| 2521/2521 [00:57<00:00, 43.98it/s]\n"
          ]
        },
        {
          "metadata": {
            "tags": null
          },
          "name": "stdout",
          "output_type": "stream",
          "text": [
            "Epoch 9 elapsed: 57.374s\n",
            "\t \u001b[32mtrain_loss: 0.7497\u001b[0m\n"
          ]
        },
        {
          "metadata": {
            "tags": null
          },
          "name": "stderr",
          "output_type": "stream",
          "text": [
            "eval_pred: 100%|██████████| 3/3 [00:00<00:00, 184.17it/s]\n",
            "eval_rec: 100%|██████████| 610/610 [00:00<00:00, 1802.16it/s]\n"
          ]
        },
        {
          "metadata": {
            "tags": null
          },
          "name": "stdout",
          "output_type": "stream",
          "text": [
            "\t eval log_loss: 4.2721\n",
            "\t eval roc_auc: 0.7516\n",
            "\t eval precision@10: 0.0054\n",
            "\t eval recall@10: 0.0037\n",
            "\t eval map@10: 0.0143\n",
            "\t eval ndcg@10: 0.0224\n",
            "==============================\n",
            "With lr_decay, epoch 10 learning rate: 0.047960314899683\n"
          ]
        },
        {
          "metadata": {
            "tags": null
          },
          "name": "stderr",
          "output_type": "stream",
          "text": [
            "train: 100%|██████████| 2521/2521 [00:57<00:00, 43.64it/s]\n"
          ]
        },
        {
          "metadata": {
            "tags": null
          },
          "name": "stdout",
          "output_type": "stream",
          "text": [
            "Epoch 10 elapsed: 57.817s\n",
            "\t \u001b[32mtrain_loss: 0.5561\u001b[0m\n"
          ]
        },
        {
          "metadata": {
            "tags": null
          },
          "name": "stderr",
          "output_type": "stream",
          "text": [
            "eval_pred: 100%|██████████| 3/3 [00:00<00:00, 194.85it/s]\n",
            "eval_rec: 100%|██████████| 610/610 [00:00<00:00, 1891.77it/s]\n"
          ]
        },
        {
          "metadata": {
            "tags": null
          },
          "name": "stdout",
          "output_type": "stream",
          "text": [
            "\t eval log_loss: 4.3446\n",
            "\t eval roc_auc: 0.7492\n",
            "\t eval precision@10: 0.0048\n",
            "\t eval recall@10: 0.0018\n",
            "\t eval map@10: 0.0121\n",
            "\t eval ndcg@10: 0.0184\n",
            "==============================\n"
          ]
        },
        {
          "metadata": {
            "tags": null
          },
          "name": "stderr",
          "output_type": "stream",
          "text": [
            "eval_pred: 100%|██████████| 3/3 [00:00<00:00, 234.21it/s]\n",
            "eval_rec: 100%|██████████| 608/608 [00:00<00:00, 1685.58it/s]\n"
          ]
        },
        {
          "data": {
            "text/html": [
              "Waiting for W&B process to finish... <strong style=\"color:green\">(success).</strong>"
            ],
            "text/plain": [
              "<IPython.core.display.HTML object>"
            ]
          },
          "metadata": {},
          "output_type": "display_data"
        },
        {
          "data": {
            "text/html": [
              "<style>\n",
              "    table.wandb td:nth-child(1) { padding: 0 10px; text-align: left ; width: auto;} td:nth-child(2) {text-align: left ; width: 100%}\n",
              "    .wandb-row { display: flex; flex-direction: row; flex-wrap: wrap; justify-content: flex-start; width: 100% }\n",
              "    .wandb-col { display: flex; flex-direction: column; flex-basis: 100%; flex: 1; padding: 10px; }\n",
              "    </style>\n",
              "<div class=\"wandb-row\"><div class=\"wandb-col\"><h3>Run history:</h3><br/><table class=\"wandb\"><tr><td>epoch</td><td>▁▂▃▃▄▅▆▆▇█</td></tr><tr><td>log_loss</td><td>▂▁▂▃▅▅▆▇▇█</td></tr><tr><td>loss</td><td>▁</td></tr><tr><td>map</td><td>▁</td></tr><tr><td>map@10</td><td>▂▃▁▁▃▃▂█▄▃</td></tr><tr><td>ndcg</td><td>▁</td></tr><tr><td>ndcg@10</td><td>▂▃▁▂▄▃▂█▅▃</td></tr><tr><td>precision</td><td>▁</td></tr><tr><td>precision@10</td><td>▁▆▃▅▆▄▃█▇▅</td></tr><tr><td>recall</td><td>▁</td></tr><tr><td>recall@10</td><td>▇█▃▂▄▁▅▇▇▁</td></tr><tr><td>roc_auc</td><td>▁▅▆▇▇█████▅</td></tr><tr><td>train_loss</td><td>██▆▅▄▃▂▂▁▁</td></tr></table><br/></div><div class=\"wandb-col\"><h3>Run summary:</h3><br/><table class=\"wandb\"><tr><td>epoch</td><td>10</td></tr><tr><td>log_loss</td><td>4.34462</td></tr><tr><td>loss</td><td>4.68698</td></tr><tr><td>map</td><td>0.0085</td></tr><tr><td>map@10</td><td>0.01209</td></tr><tr><td>ndcg</td><td>0.01418</td></tr><tr><td>ndcg@10</td><td>0.01837</td></tr><tr><td>precision</td><td>0.00378</td></tr><tr><td>precision@10</td><td>0.00475</td></tr><tr><td>recall</td><td>0.00234</td></tr><tr><td>recall@10</td><td>0.00183</td></tr><tr><td>roc_auc</td><td>0.72879</td></tr><tr><td>train_loss</td><td>0.5561</td></tr></table><br/></div></div>"
            ],
            "text/plain": [
              "<IPython.core.display.HTML object>"
            ]
          },
          "metadata": {},
          "output_type": "display_data"
        },
        {
          "data": {
            "text/html": [
              "Synced <strong style=\"color:#cdcd00\">robust-sweep-6</strong>: <a href=\"https://wandb.ai/iloncka-ds/recsys-app/runs/layx0rv2\" target=\"_blank\">https://wandb.ai/iloncka-ds/recsys-app/runs/layx0rv2</a><br/>Synced 5 W&B file(s), 0 media file(s), 0 artifact file(s) and 0 other file(s)"
            ],
            "text/plain": [
              "<IPython.core.display.HTML object>"
            ]
          },
          "metadata": {},
          "output_type": "display_data"
        },
        {
          "data": {
            "text/html": [
              "Find logs at: <code>./wandb/run-20221106_154834-layx0rv2/logs</code>"
            ],
            "text/plain": [
              "<IPython.core.display.HTML object>"
            ]
          },
          "metadata": {},
          "output_type": "display_data"
        },
        {
          "metadata": {
            "tags": null
          },
          "name": "stderr",
          "output_type": "stream",
          "text": [
            "\u001b[34m\u001b[1mwandb\u001b[0m: Agent Starting Run: tx0ehofe with config:\n",
            "\u001b[34m\u001b[1mwandb\u001b[0m: \tbatch_size: 256\n",
            "\u001b[34m\u001b[1mwandb\u001b[0m: \tembed_size: 16\n",
            "\u001b[34m\u001b[1mwandb\u001b[0m: \tlr: 0.0001\n",
            "\u001b[34m\u001b[1mwandb\u001b[0m: \tn_epochs: 10\n",
            "Failed to detect the name of this notebook, you can set it manually with the WANDB_NOTEBOOK_NAME environment variable to enable code saving.\n"
          ]
        },
        {
          "data": {
            "text/html": [
              "Tracking run with wandb version 0.13.5"
            ],
            "text/plain": [
              "<IPython.core.display.HTML object>"
            ]
          },
          "metadata": {},
          "output_type": "display_data"
        },
        {
          "data": {
            "text/html": [
              "Run data is saved locally in <code>/content/wandb/run-20221106_155833-tx0ehofe</code>"
            ],
            "text/plain": [
              "<IPython.core.display.HTML object>"
            ]
          },
          "metadata": {},
          "output_type": "display_data"
        },
        {
          "data": {
            "text/html": [
              "Syncing run <strong><a href=\"https://wandb.ai/iloncka-ds/recsys-app/runs/tx0ehofe\" target=\"_blank\">stilted-sweep-7</a></strong> to <a href=\"https://wandb.ai/iloncka-ds/recsys-app\" target=\"_blank\">Weights & Biases</a> (<a href=\"https://wandb.me/run\" target=\"_blank\">docs</a>)<br/>Sweep page:  <a href=\"https://wandb.ai/iloncka-ds/recsys-app/sweeps/1xnmnsi1\" target=\"_blank\">https://wandb.ai/iloncka-ds/recsys-app/sweeps/1xnmnsi1</a>"
            ],
            "text/plain": [
              "<IPython.core.display.HTML object>"
            ]
          },
          "metadata": {},
          "output_type": "display_data"
        },
        {
          "metadata": {
            "tags": null
          },
          "name": "stdout",
          "output_type": "stream",
          "text": [
            "total params: \u001b[33m416,573\u001b[0m | embedding params: \u001b[33m413,429\u001b[0m | network params: \u001b[33m3,144\u001b[0m\n",
            "Training start time: \u001b[35m2022-11-06 15:58:37\u001b[0m\n",
            "With lr_decay, epoch 1 learning rate: 9.999999747378752e-05\n"
          ]
        },
        {
          "metadata": {
            "tags": null
          },
          "name": "stderr",
          "output_type": "stream",
          "text": [
            "train: 100%|██████████| 631/631 [00:20<00:00, 30.76it/s]\n"
          ]
        },
        {
          "metadata": {
            "tags": null
          },
          "name": "stdout",
          "output_type": "stream",
          "text": [
            "Epoch 1 elapsed: 20.557s\n",
            "\t \u001b[32mtrain_loss: 0.6805\u001b[0m\n"
          ]
        },
        {
          "metadata": {
            "tags": null
          },
          "name": "stderr",
          "output_type": "stream",
          "text": [
            "eval_pred: 100%|██████████| 3/3 [00:00<00:00, 221.44it/s]\n",
            "eval_rec: 100%|██████████| 610/610 [00:00<00:00, 2365.19it/s]\n"
          ]
        },
        {
          "metadata": {
            "tags": null
          },
          "name": "stdout",
          "output_type": "stream",
          "text": [
            "\t eval log_loss: 0.6470\n",
            "\t eval roc_auc: 0.8060\n",
            "\t eval precision@10: 0.0398\n",
            "\t eval recall@10: 0.0401\n",
            "\t eval map@10: 0.1029\n",
            "\t eval ndcg@10: 0.1418\n",
            "==============================\n",
            "With lr_decay, epoch 2 learning rate: 9.215999307343736e-05\n"
          ]
        },
        {
          "metadata": {
            "tags": null
          },
          "name": "stderr",
          "output_type": "stream",
          "text": [
            "train: 100%|██████████| 631/631 [00:20<00:00, 31.23it/s]\n"
          ]
        },
        {
          "metadata": {
            "tags": null
          },
          "name": "stdout",
          "output_type": "stream",
          "text": [
            "Epoch 2 elapsed: 20.258s\n",
            "\t \u001b[32mtrain_loss: 0.5374\u001b[0m\n"
          ]
        },
        {
          "metadata": {
            "tags": null
          },
          "name": "stderr",
          "output_type": "stream",
          "text": [
            "eval_pred: 100%|██████████| 3/3 [00:00<00:00, 186.50it/s]\n",
            "eval_rec: 100%|██████████| 610/610 [00:00<00:00, 2048.52it/s]\n"
          ]
        },
        {
          "metadata": {
            "tags": null
          },
          "name": "stdout",
          "output_type": "stream",
          "text": [
            "\t eval log_loss: 0.5183\n",
            "\t eval roc_auc: 0.8349\n",
            "\t eval precision@10: 0.0400\n",
            "\t eval recall@10: 0.0403\n",
            "\t eval map@10: 0.0932\n",
            "\t eval ndcg@10: 0.1344\n",
            "==============================\n",
            "With lr_decay, epoch 3 learning rate: 8.49346470204182e-05\n"
          ]
        },
        {
          "metadata": {
            "tags": null
          },
          "name": "stderr",
          "output_type": "stream",
          "text": [
            "train: 100%|██████████| 631/631 [00:20<00:00, 31.44it/s]\n"
          ]
        },
        {
          "metadata": {
            "tags": null
          },
          "name": "stdout",
          "output_type": "stream",
          "text": [
            "Epoch 3 elapsed: 20.119s\n",
            "\t \u001b[32mtrain_loss: 0.4554\u001b[0m\n"
          ]
        },
        {
          "metadata": {
            "tags": null
          },
          "name": "stderr",
          "output_type": "stream",
          "text": [
            "eval_pred: 100%|██████████| 3/3 [00:00<00:00, 252.75it/s]\n",
            "eval_rec: 100%|██████████| 610/610 [00:00<00:00, 1912.97it/s]\n"
          ]
        },
        {
          "metadata": {
            "tags": null
          },
          "name": "stdout",
          "output_type": "stream",
          "text": [
            "\t eval log_loss: 0.5004\n",
            "\t eval roc_auc: 0.8416\n",
            "\t eval precision@10: 0.0387\n",
            "\t eval recall@10: 0.0375\n",
            "\t eval map@10: 0.0842\n",
            "\t eval ndcg@10: 0.1267\n",
            "==============================\n",
            "With lr_decay, epoch 4 learning rate: 7.827577064745128e-05\n"
          ]
        },
        {
          "metadata": {
            "tags": null
          },
          "name": "stderr",
          "output_type": "stream",
          "text": [
            "train: 100%|██████████| 631/631 [00:19<00:00, 31.58it/s]\n"
          ]
        },
        {
          "metadata": {
            "tags": null
          },
          "name": "stdout",
          "output_type": "stream",
          "text": [
            "Epoch 4 elapsed: 20.027s\n",
            "\t \u001b[32mtrain_loss: 0.438\u001b[0m\n"
          ]
        },
        {
          "metadata": {
            "tags": null
          },
          "name": "stderr",
          "output_type": "stream",
          "text": [
            "eval_pred: 100%|██████████| 3/3 [00:00<00:00, 231.14it/s]\n",
            "eval_rec: 100%|██████████| 610/610 [00:00<00:00, 2198.90it/s]\n"
          ]
        },
        {
          "metadata": {
            "tags": null
          },
          "name": "stdout",
          "output_type": "stream",
          "text": [
            "\t eval log_loss: 0.4967\n",
            "\t eval roc_auc: 0.8439\n",
            "\t eval precision@10: 0.0384\n",
            "\t eval recall@10: 0.0374\n",
            "\t eval map@10: 0.0809\n",
            "\t eval ndcg@10: 0.1222\n",
            "==============================\n",
            "With lr_decay, epoch 5 learning rate: 7.213894423330203e-05\n"
          ]
        },
        {
          "metadata": {
            "tags": null
          },
          "name": "stderr",
          "output_type": "stream",
          "text": [
            "train: 100%|██████████| 631/631 [00:19<00:00, 31.60it/s]\n"
          ]
        },
        {
          "metadata": {
            "tags": null
          },
          "name": "stdout",
          "output_type": "stream",
          "text": [
            "Epoch 5 elapsed: 20.021s\n",
            "\t \u001b[32mtrain_loss: 0.4287\u001b[0m\n"
          ]
        },
        {
          "metadata": {
            "tags": null
          },
          "name": "stderr",
          "output_type": "stream",
          "text": [
            "eval_pred: 100%|██████████| 3/3 [00:00<00:00, 190.72it/s]\n",
            "eval_rec: 100%|██████████| 610/610 [00:00<00:00, 2165.75it/s]\n"
          ]
        },
        {
          "metadata": {
            "tags": null
          },
          "name": "stdout",
          "output_type": "stream",
          "text": [
            "\t eval log_loss: 0.4955\n",
            "\t eval roc_auc: 0.8447\n",
            "\t eval precision@10: 0.0375\n",
            "\t eval recall@10: 0.0360\n",
            "\t eval map@10: 0.0820\n",
            "\t eval ndcg@10: 0.1227\n",
            "==============================\n",
            "With lr_decay, epoch 6 learning rate: 6.648324779234827e-05\n"
          ]
        },
        {
          "metadata": {
            "tags": null
          },
          "name": "stderr",
          "output_type": "stream",
          "text": [
            "train: 100%|██████████| 631/631 [00:19<00:00, 31.64it/s]\n"
          ]
        },
        {
          "metadata": {
            "tags": null
          },
          "name": "stdout",
          "output_type": "stream",
          "text": [
            "Epoch 6 elapsed: 19.985s\n",
            "\t \u001b[32mtrain_loss: 0.422\u001b[0m\n"
          ]
        },
        {
          "metadata": {
            "tags": null
          },
          "name": "stderr",
          "output_type": "stream",
          "text": [
            "eval_pred: 100%|██████████| 3/3 [00:00<00:00, 186.76it/s]\n",
            "eval_rec: 100%|██████████| 610/610 [00:00<00:00, 2278.04it/s]\n"
          ]
        },
        {
          "metadata": {
            "tags": null
          },
          "name": "stdout",
          "output_type": "stream",
          "text": [
            "\t eval log_loss: 0.4949\n",
            "\t eval roc_auc: 0.8449\n",
            "\t eval precision@10: 0.0362\n",
            "\t eval recall@10: 0.0350\n",
            "\t eval map@10: 0.0807\n",
            "\t eval ndcg@10: 0.1203\n",
            "==============================\n",
            "With lr_decay, epoch 7 learning rate: 6.127095548436046e-05\n"
          ]
        },
        {
          "metadata": {
            "tags": null
          },
          "name": "stderr",
          "output_type": "stream",
          "text": [
            "train: 100%|██████████| 631/631 [00:19<00:00, 31.88it/s]\n"
          ]
        },
        {
          "metadata": {
            "tags": null
          },
          "name": "stdout",
          "output_type": "stream",
          "text": [
            "Epoch 7 elapsed: 19.841s\n",
            "\t \u001b[32mtrain_loss: 0.4168\u001b[0m\n"
          ]
        },
        {
          "metadata": {
            "tags": null
          },
          "name": "stderr",
          "output_type": "stream",
          "text": [
            "eval_pred: 100%|██████████| 3/3 [00:00<00:00, 181.39it/s]\n",
            "eval_rec: 100%|██████████| 610/610 [00:00<00:00, 2149.02it/s]\n"
          ]
        },
        {
          "metadata": {
            "tags": null
          },
          "name": "stdout",
          "output_type": "stream",
          "text": [
            "\t eval log_loss: 0.4953\n",
            "\t eval roc_auc: 0.8447\n",
            "\t eval precision@10: 0.0369\n",
            "\t eval recall@10: 0.0362\n",
            "\t eval map@10: 0.0803\n",
            "\t eval ndcg@10: 0.1210\n",
            "==============================\n",
            "With lr_decay, epoch 8 learning rate: 5.6467310059815645e-05\n"
          ]
        },
        {
          "metadata": {
            "tags": null
          },
          "name": "stderr",
          "output_type": "stream",
          "text": [
            "train: 100%|██████████| 631/631 [00:19<00:00, 31.56it/s]\n"
          ]
        },
        {
          "metadata": {
            "tags": null
          },
          "name": "stdout",
          "output_type": "stream",
          "text": [
            "Epoch 8 elapsed: 20.039s\n",
            "\t \u001b[32mtrain_loss: 0.4124\u001b[0m\n"
          ]
        },
        {
          "metadata": {
            "tags": null
          },
          "name": "stderr",
          "output_type": "stream",
          "text": [
            "eval_pred: 100%|██████████| 3/3 [00:00<00:00, 211.19it/s]\n",
            "eval_rec: 100%|██████████| 610/610 [00:00<00:00, 2195.09it/s]\n"
          ]
        },
        {
          "metadata": {
            "tags": null
          },
          "name": "stdout",
          "output_type": "stream",
          "text": [
            "\t eval log_loss: 0.4964\n",
            "\t eval roc_auc: 0.8443\n",
            "\t eval precision@10: 0.0344\n",
            "\t eval recall@10: 0.0329\n",
            "\t eval map@10: 0.0801\n",
            "\t eval ndcg@10: 0.1185\n",
            "==============================\n",
            "With lr_decay, epoch 9 learning rate: 5.2040271839359775e-05\n"
          ]
        },
        {
          "metadata": {
            "tags": null
          },
          "name": "stderr",
          "output_type": "stream",
          "text": [
            "train: 100%|██████████| 631/631 [00:19<00:00, 31.88it/s]\n"
          ]
        },
        {
          "metadata": {
            "tags": null
          },
          "name": "stdout",
          "output_type": "stream",
          "text": [
            "Epoch 9 elapsed: 19.840s\n",
            "\t \u001b[32mtrain_loss: 0.4083\u001b[0m\n"
          ]
        },
        {
          "metadata": {
            "tags": null
          },
          "name": "stderr",
          "output_type": "stream",
          "text": [
            "eval_pred: 100%|██████████| 3/3 [00:00<00:00, 160.18it/s]\n",
            "eval_rec: 100%|██████████| 610/610 [00:00<00:00, 2052.93it/s]\n"
          ]
        },
        {
          "metadata": {
            "tags": null
          },
          "name": "stdout",
          "output_type": "stream",
          "text": [
            "\t eval log_loss: 0.4975\n",
            "\t eval roc_auc: 0.8438\n",
            "\t eval precision@10: 0.0330\n",
            "\t eval recall@10: 0.0316\n",
            "\t eval map@10: 0.0777\n",
            "\t eval ndcg@10: 0.1148\n",
            "==============================\n",
            "With lr_decay, epoch 10 learning rate: 4.796031134901568e-05\n"
          ]
        },
        {
          "metadata": {
            "tags": null
          },
          "name": "stderr",
          "output_type": "stream",
          "text": [
            "train: 100%|██████████| 631/631 [00:19<00:00, 31.74it/s]\n"
          ]
        },
        {
          "metadata": {
            "tags": null
          },
          "name": "stdout",
          "output_type": "stream",
          "text": [
            "Epoch 10 elapsed: 19.926s\n",
            "\t \u001b[32mtrain_loss: 0.405\u001b[0m\n"
          ]
        },
        {
          "metadata": {
            "tags": null
          },
          "name": "stderr",
          "output_type": "stream",
          "text": [
            "eval_pred: 100%|██████████| 3/3 [00:00<00:00, 217.42it/s]\n",
            "eval_rec: 100%|██████████| 610/610 [00:00<00:00, 1969.51it/s]\n"
          ]
        },
        {
          "metadata": {
            "tags": null
          },
          "name": "stdout",
          "output_type": "stream",
          "text": [
            "\t eval log_loss: 0.4989\n",
            "\t eval roc_auc: 0.8433\n",
            "\t eval precision@10: 0.0320\n",
            "\t eval recall@10: 0.0297\n",
            "\t eval map@10: 0.0773\n",
            "\t eval ndcg@10: 0.1138\n",
            "==============================\n"
          ]
        },
        {
          "metadata": {
            "tags": null
          },
          "name": "stderr",
          "output_type": "stream",
          "text": [
            "eval_pred: 100%|██████████| 3/3 [00:00<00:00, 253.25it/s]\n",
            "eval_rec: 100%|██████████| 608/608 [00:00<00:00, 2208.64it/s]\n"
          ]
        },
        {
          "data": {
            "text/html": [
              "Waiting for W&B process to finish... <strong style=\"color:green\">(success).</strong>"
            ],
            "text/plain": [
              "<IPython.core.display.HTML object>"
            ]
          },
          "metadata": {},
          "output_type": "display_data"
        },
        {
          "data": {
            "text/html": [
              "<style>\n",
              "    table.wandb td:nth-child(1) { padding: 0 10px; text-align: left ; width: auto;} td:nth-child(2) {text-align: left ; width: 100%}\n",
              "    .wandb-row { display: flex; flex-direction: row; flex-wrap: wrap; justify-content: flex-start; width: 100% }\n",
              "    .wandb-col { display: flex; flex-direction: column; flex-basis: 100%; flex: 1; padding: 10px; }\n",
              "    </style>\n",
              "<div class=\"wandb-row\"><div class=\"wandb-col\"><h3>Run history:</h3><br/><table class=\"wandb\"><tr><td>epoch</td><td>▁▂▃▃▄▅▆▆▇█</td></tr><tr><td>log_loss</td><td>█▂▁▁▁▁▁▁▁▁</td></tr><tr><td>loss</td><td>▁</td></tr><tr><td>map</td><td>▁</td></tr><tr><td>map@10</td><td>█▅▃▂▂▂▂▂▁▁</td></tr><tr><td>ndcg</td><td>▁</td></tr><tr><td>ndcg@10</td><td>█▆▄▃▃▃▃▂▁▁</td></tr><tr><td>precision</td><td>▁</td></tr><tr><td>precision@10</td><td>██▇▇▆▅▅▃▂▁</td></tr><tr><td>recall</td><td>▁</td></tr><tr><td>recall@10</td><td>██▆▆▅▄▅▃▂▁</td></tr><tr><td>roc_auc</td><td>▁▆▇███████▄</td></tr><tr><td>train_loss</td><td>█▄▂▂▂▁▁▁▁▁</td></tr></table><br/></div><div class=\"wandb-col\"><h3>Run summary:</h3><br/><table class=\"wandb\"><tr><td>epoch</td><td>10</td></tr><tr><td>log_loss</td><td>0.49894</td></tr><tr><td>loss</td><td>0.53038</td></tr><tr><td>map</td><td>0.06726</td></tr><tr><td>map@10</td><td>0.07733</td></tr><tr><td>ndcg</td><td>0.09693</td></tr><tr><td>ndcg@10</td><td>0.11378</td></tr><tr><td>precision</td><td>0.02632</td></tr><tr><td>precision@10</td><td>0.03197</td></tr><tr><td>recall</td><td>0.02309</td></tr><tr><td>recall@10</td><td>0.02973</td></tr><tr><td>roc_auc</td><td>0.82437</td></tr><tr><td>train_loss</td><td>0.405</td></tr></table><br/></div></div>"
            ],
            "text/plain": [
              "<IPython.core.display.HTML object>"
            ]
          },
          "metadata": {},
          "output_type": "display_data"
        },
        {
          "data": {
            "text/html": [
              "Synced <strong style=\"color:#cdcd00\">stilted-sweep-7</strong>: <a href=\"https://wandb.ai/iloncka-ds/recsys-app/runs/tx0ehofe\" target=\"_blank\">https://wandb.ai/iloncka-ds/recsys-app/runs/tx0ehofe</a><br/>Synced 5 W&B file(s), 0 media file(s), 0 artifact file(s) and 0 other file(s)"
            ],
            "text/plain": [
              "<IPython.core.display.HTML object>"
            ]
          },
          "metadata": {},
          "output_type": "display_data"
        },
        {
          "data": {
            "text/html": [
              "Find logs at: <code>./wandb/run-20221106_155833-tx0ehofe/logs</code>"
            ],
            "text/plain": [
              "<IPython.core.display.HTML object>"
            ]
          },
          "metadata": {},
          "output_type": "display_data"
        },
        {
          "metadata": {
            "tags": null
          },
          "name": "stderr",
          "output_type": "stream",
          "text": [
            "\u001b[34m\u001b[1mwandb\u001b[0m: Agent Starting Run: 8vwm7asl with config:\n",
            "\u001b[34m\u001b[1mwandb\u001b[0m: \tbatch_size: 64\n",
            "\u001b[34m\u001b[1mwandb\u001b[0m: \tembed_size: 32\n",
            "\u001b[34m\u001b[1mwandb\u001b[0m: \tlr: 0.1\n",
            "\u001b[34m\u001b[1mwandb\u001b[0m: \tn_epochs: 10\n",
            "Failed to detect the name of this notebook, you can set it manually with the WANDB_NOTEBOOK_NAME environment variable to enable code saving.\n"
          ]
        },
        {
          "data": {
            "text/html": [
              "Tracking run with wandb version 0.13.5"
            ],
            "text/plain": [
              "<IPython.core.display.HTML object>"
            ]
          },
          "metadata": {},
          "output_type": "display_data"
        },
        {
          "data": {
            "text/html": [
              "Run data is saved locally in <code>/content/wandb/run-20221106_160216-8vwm7asl</code>"
            ],
            "text/plain": [
              "<IPython.core.display.HTML object>"
            ]
          },
          "metadata": {},
          "output_type": "display_data"
        },
        {
          "data": {
            "text/html": [
              "Syncing run <strong><a href=\"https://wandb.ai/iloncka-ds/recsys-app/runs/8vwm7asl\" target=\"_blank\">fanciful-sweep-8</a></strong> to <a href=\"https://wandb.ai/iloncka-ds/recsys-app\" target=\"_blank\">Weights & Biases</a> (<a href=\"https://wandb.me/run\" target=\"_blank\">docs</a>)<br/>Sweep page:  <a href=\"https://wandb.ai/iloncka-ds/recsys-app/sweeps/1xnmnsi1\" target=\"_blank\">https://wandb.ai/iloncka-ds/recsys-app/sweeps/1xnmnsi1</a>"
            ],
            "text/plain": [
              "<IPython.core.display.HTML object>"
            ]
          },
          "metadata": {},
          "output_type": "display_data"
        },
        {
          "metadata": {
            "tags": null
          },
          "name": "stdout",
          "output_type": "stream",
          "text": [
            "total params: \u001b[33m826,893\u001b[0m | embedding params: \u001b[33m818,597\u001b[0m | network params: \u001b[33m8,296\u001b[0m\n",
            "Training start time: \u001b[35m2022-11-06 16:02:20\u001b[0m\n",
            "With lr_decay, epoch 1 learning rate: 0.10000000149011612\n"
          ]
        },
        {
          "metadata": {
            "tags": null
          },
          "name": "stderr",
          "output_type": "stream",
          "text": [
            "train: 100%|██████████| 2521/2521 [00:58<00:00, 43.00it/s]\n"
          ]
        },
        {
          "metadata": {
            "tags": null
          },
          "name": "stdout",
          "output_type": "stream",
          "text": [
            "Epoch 1 elapsed: 58.681s\n",
            "\t \u001b[32mtrain_loss: 5.3216\u001b[0m\n"
          ]
        },
        {
          "metadata": {
            "tags": null
          },
          "name": "stderr",
          "output_type": "stream",
          "text": [
            "eval_pred: 100%|██████████| 3/3 [00:00<00:00, 207.07it/s]\n",
            "eval_rec: 100%|██████████| 610/610 [00:00<00:00, 1633.71it/s]\n"
          ]
        },
        {
          "metadata": {
            "tags": null
          },
          "name": "stdout",
          "output_type": "stream",
          "text": [
            "\t eval log_loss: 3.8514\n",
            "\t eval roc_auc: 0.7075\n",
            "\t eval precision@10: 0.0052\n",
            "\t eval recall@10: 0.0029\n",
            "\t eval map@10: 0.0141\n",
            "\t eval ndcg@10: 0.0211\n",
            "==============================\n",
            "With lr_decay, epoch 2 learning rate: 0.09216000139713287\n"
          ]
        },
        {
          "metadata": {
            "tags": null
          },
          "name": "stderr",
          "output_type": "stream",
          "text": [
            "train: 100%|██████████| 2521/2521 [00:57<00:00, 43.75it/s]\n"
          ]
        },
        {
          "metadata": {
            "tags": null
          },
          "name": "stdout",
          "output_type": "stream",
          "text": [
            "Epoch 2 elapsed: 57.674s\n",
            "\t \u001b[32mtrain_loss: 5.1467\u001b[0m\n"
          ]
        },
        {
          "metadata": {
            "tags": null
          },
          "name": "stderr",
          "output_type": "stream",
          "text": [
            "eval_pred: 100%|██████████| 3/3 [00:00<00:00, 172.69it/s]\n",
            "eval_rec: 100%|██████████| 610/610 [00:00<00:00, 1701.25it/s]\n"
          ]
        },
        {
          "metadata": {
            "tags": null
          },
          "name": "stdout",
          "output_type": "stream",
          "text": [
            "\t eval log_loss: 3.9125\n",
            "\t eval roc_auc: 0.7235\n",
            "\t eval precision@10: 0.0048\n",
            "\t eval recall@10: 0.0025\n",
            "\t eval map@10: 0.0120\n",
            "\t eval ndcg@10: 0.0191\n",
            "==============================\n",
            "With lr_decay, epoch 3 learning rate: 0.08493464440107346\n"
          ]
        },
        {
          "metadata": {
            "tags": null
          },
          "name": "stderr",
          "output_type": "stream",
          "text": [
            "train: 100%|██████████| 2521/2521 [00:57<00:00, 43.79it/s]\n"
          ]
        },
        {
          "metadata": {
            "tags": null
          },
          "name": "stdout",
          "output_type": "stream",
          "text": [
            "Epoch 3 elapsed: 57.616s\n",
            "\t \u001b[32mtrain_loss: 4.0126\u001b[0m\n"
          ]
        },
        {
          "metadata": {
            "tags": null
          },
          "name": "stderr",
          "output_type": "stream",
          "text": [
            "eval_pred: 100%|██████████| 3/3 [00:00<00:00, 165.93it/s]\n",
            "eval_rec: 100%|██████████| 610/610 [00:00<00:00, 1725.99it/s]\n"
          ]
        },
        {
          "metadata": {
            "tags": null
          },
          "name": "stdout",
          "output_type": "stream",
          "text": [
            "\t eval log_loss: 3.8680\n",
            "\t eval roc_auc: 0.7419\n",
            "\t eval precision@10: 0.0057\n",
            "\t eval recall@10: 0.0020\n",
            "\t eval map@10: 0.0108\n",
            "\t eval ndcg@10: 0.0181\n",
            "==============================\n",
            "With lr_decay, epoch 4 learning rate: 0.07827576994895935\n"
          ]
        },
        {
          "metadata": {
            "tags": null
          },
          "name": "stderr",
          "output_type": "stream",
          "text": [
            "train: 100%|██████████| 2521/2521 [00:57<00:00, 43.57it/s]\n"
          ]
        },
        {
          "metadata": {
            "tags": null
          },
          "name": "stdout",
          "output_type": "stream",
          "text": [
            "Epoch 4 elapsed: 57.914s\n",
            "\t \u001b[32mtrain_loss: 3.1931\u001b[0m\n"
          ]
        },
        {
          "metadata": {
            "tags": null
          },
          "name": "stderr",
          "output_type": "stream",
          "text": [
            "eval_pred: 100%|██████████| 3/3 [00:00<00:00, 181.48it/s]\n",
            "eval_rec: 100%|██████████| 610/610 [00:00<00:00, 1734.99it/s]\n"
          ]
        },
        {
          "metadata": {
            "tags": null
          },
          "name": "stdout",
          "output_type": "stream",
          "text": [
            "\t eval log_loss: 3.9580\n",
            "\t eval roc_auc: 0.7490\n",
            "\t eval precision@10: 0.0046\n",
            "\t eval recall@10: 0.0027\n",
            "\t eval map@10: 0.0130\n",
            "\t eval ndcg@10: 0.0196\n",
            "==============================\n",
            "With lr_decay, epoch 5 learning rate: 0.0721389502286911\n"
          ]
        },
        {
          "metadata": {
            "tags": null
          },
          "name": "stderr",
          "output_type": "stream",
          "text": [
            "train: 100%|██████████| 2521/2521 [00:57<00:00, 43.59it/s]\n"
          ]
        },
        {
          "metadata": {
            "tags": null
          },
          "name": "stdout",
          "output_type": "stream",
          "text": [
            "Epoch 5 elapsed: 57.880s\n",
            "\t \u001b[32mtrain_loss: 2.4731\u001b[0m\n"
          ]
        },
        {
          "metadata": {
            "tags": null
          },
          "name": "stderr",
          "output_type": "stream",
          "text": [
            "eval_pred: 100%|██████████| 3/3 [00:00<00:00, 153.09it/s]\n",
            "eval_rec: 100%|██████████| 610/610 [00:00<00:00, 1742.33it/s]\n"
          ]
        },
        {
          "metadata": {
            "tags": null
          },
          "name": "stdout",
          "output_type": "stream",
          "text": [
            "\t eval log_loss: 4.0881\n",
            "\t eval roc_auc: 0.7465\n",
            "\t eval precision@10: 0.0023\n",
            "\t eval recall@10: 0.0013\n",
            "\t eval map@10: 0.0062\n",
            "\t eval ndcg@10: 0.0098\n",
            "==============================\n",
            "With lr_decay, epoch 6 learning rate: 0.06648325175046921\n"
          ]
        },
        {
          "metadata": {
            "tags": null
          },
          "name": "stderr",
          "output_type": "stream",
          "text": [
            "train: 100%|██████████| 2521/2521 [00:57<00:00, 43.68it/s]\n"
          ]
        },
        {
          "metadata": {
            "tags": null
          },
          "name": "stdout",
          "output_type": "stream",
          "text": [
            "Epoch 6 elapsed: 57.767s\n",
            "\t \u001b[32mtrain_loss: 1.9021\u001b[0m\n"
          ]
        },
        {
          "metadata": {
            "tags": null
          },
          "name": "stderr",
          "output_type": "stream",
          "text": [
            "eval_pred: 100%|██████████| 3/3 [00:00<00:00, 183.41it/s]\n",
            "eval_rec: 100%|██████████| 610/610 [00:00<00:00, 1608.49it/s]\n"
          ]
        },
        {
          "metadata": {
            "tags": null
          },
          "name": "stdout",
          "output_type": "stream",
          "text": [
            "\t eval log_loss: 4.1835\n",
            "\t eval roc_auc: 0.7482\n",
            "\t eval precision@10: 0.0043\n",
            "\t eval recall@10: 0.0032\n",
            "\t eval map@10: 0.0107\n",
            "\t eval ndcg@10: 0.0172\n",
            "==============================\n",
            "With lr_decay, epoch 7 learning rate: 0.06127095967531204\n"
          ]
        },
        {
          "metadata": {
            "tags": null
          },
          "name": "stderr",
          "output_type": "stream",
          "text": [
            "train: 100%|██████████| 2521/2521 [00:57<00:00, 43.82it/s]\n"
          ]
        },
        {
          "metadata": {
            "tags": null
          },
          "name": "stdout",
          "output_type": "stream",
          "text": [
            "Epoch 7 elapsed: 57.581s\n",
            "\t \u001b[32mtrain_loss: 1.4152\u001b[0m\n"
          ]
        },
        {
          "metadata": {
            "tags": null
          },
          "name": "stderr",
          "output_type": "stream",
          "text": [
            "eval_pred: 100%|██████████| 3/3 [00:00<00:00, 196.60it/s]\n",
            "eval_rec: 100%|██████████| 610/610 [00:00<00:00, 1658.86it/s]\n"
          ]
        },
        {
          "metadata": {
            "tags": null
          },
          "name": "stdout",
          "output_type": "stream",
          "text": [
            "\t eval log_loss: 4.1764\n",
            "\t eval roc_auc: 0.7523\n",
            "\t eval precision@10: 0.0046\n",
            "\t eval recall@10: 0.0027\n",
            "\t eval map@10: 0.0113\n",
            "\t eval ndcg@10: 0.0178\n",
            "==============================\n",
            "With lr_decay, epoch 8 learning rate: 0.056467313319444656\n"
          ]
        },
        {
          "metadata": {
            "tags": null
          },
          "name": "stderr",
          "output_type": "stream",
          "text": [
            "train: 100%|██████████| 2521/2521 [00:57<00:00, 43.58it/s]\n"
          ]
        },
        {
          "metadata": {
            "tags": null
          },
          "name": "stdout",
          "output_type": "stream",
          "text": [
            "Epoch 8 elapsed: 57.904s\n",
            "\t \u001b[32mtrain_loss: 1.0462\u001b[0m\n"
          ]
        },
        {
          "metadata": {
            "tags": null
          },
          "name": "stderr",
          "output_type": "stream",
          "text": [
            "eval_pred: 100%|██████████| 3/3 [00:00<00:00, 127.68it/s]\n",
            "eval_rec: 100%|██████████| 610/610 [00:00<00:00, 1719.12it/s]\n"
          ]
        },
        {
          "metadata": {
            "tags": null
          },
          "name": "stdout",
          "output_type": "stream",
          "text": [
            "\t eval log_loss: 4.2461\n",
            "\t eval roc_auc: 0.7530\n",
            "\t eval precision@10: 0.0039\n",
            "\t eval recall@10: 0.0035\n",
            "\t eval map@10: 0.0119\n",
            "\t eval ndcg@10: 0.0172\n",
            "==============================\n",
            "With lr_decay, epoch 9 learning rate: 0.05204027518630028\n"
          ]
        },
        {
          "metadata": {
            "tags": null
          },
          "name": "stderr",
          "output_type": "stream",
          "text": [
            "train: 100%|██████████| 2521/2521 [00:57<00:00, 43.69it/s]\n"
          ]
        },
        {
          "metadata": {
            "tags": null
          },
          "name": "stdout",
          "output_type": "stream",
          "text": [
            "Epoch 9 elapsed: 57.747s\n",
            "\t \u001b[32mtrain_loss: 0.7861\u001b[0m\n"
          ]
        },
        {
          "metadata": {
            "tags": null
          },
          "name": "stderr",
          "output_type": "stream",
          "text": [
            "eval_pred: 100%|██████████| 3/3 [00:00<00:00, 136.99it/s]\n",
            "eval_rec: 100%|██████████| 610/610 [00:00<00:00, 1720.47it/s]\n"
          ]
        },
        {
          "metadata": {
            "tags": null
          },
          "name": "stdout",
          "output_type": "stream",
          "text": [
            "\t eval log_loss: 4.2692\n",
            "\t eval roc_auc: 0.7495\n",
            "\t eval precision@10: 0.0041\n",
            "\t eval recall@10: 0.0037\n",
            "\t eval map@10: 0.0125\n",
            "\t eval ndcg@10: 0.0190\n",
            "==============================\n",
            "With lr_decay, epoch 10 learning rate: 0.047960314899683\n"
          ]
        },
        {
          "metadata": {
            "tags": null
          },
          "name": "stderr",
          "output_type": "stream",
          "text": [
            "train: 100%|██████████| 2521/2521 [00:58<00:00, 43.42it/s]\n"
          ]
        },
        {
          "metadata": {
            "tags": null
          },
          "name": "stdout",
          "output_type": "stream",
          "text": [
            "Epoch 10 elapsed: 58.111s\n",
            "\t \u001b[32mtrain_loss: 0.5554\u001b[0m\n"
          ]
        },
        {
          "metadata": {
            "tags": null
          },
          "name": "stderr",
          "output_type": "stream",
          "text": [
            "eval_pred: 100%|██████████| 3/3 [00:00<00:00, 185.28it/s]\n",
            "eval_rec: 100%|██████████| 610/610 [00:00<00:00, 1490.95it/s]\n"
          ]
        },
        {
          "metadata": {
            "tags": null
          },
          "name": "stdout",
          "output_type": "stream",
          "text": [
            "\t eval log_loss: 4.2894\n",
            "\t eval roc_auc: 0.7509\n",
            "\t eval precision@10: 0.0031\n",
            "\t eval recall@10: 0.0037\n",
            "\t eval map@10: 0.0081\n",
            "\t eval ndcg@10: 0.0127\n",
            "==============================\n"
          ]
        },
        {
          "metadata": {
            "tags": null
          },
          "name": "stderr",
          "output_type": "stream",
          "text": [
            "eval_pred: 100%|██████████| 3/3 [00:00<00:00, 274.81it/s]\n",
            "eval_rec: 100%|██████████| 608/608 [00:00<00:00, 1586.95it/s]\n"
          ]
        },
        {
          "data": {
            "text/html": [
              "Waiting for W&B process to finish... <strong style=\"color:green\">(success).</strong>"
            ],
            "text/plain": [
              "<IPython.core.display.HTML object>"
            ]
          },
          "metadata": {},
          "output_type": "display_data"
        },
        {
          "data": {
            "text/html": [
              "<style>\n",
              "    table.wandb td:nth-child(1) { padding: 0 10px; text-align: left ; width: auto;} td:nth-child(2) {text-align: left ; width: 100%}\n",
              "    .wandb-row { display: flex; flex-direction: row; flex-wrap: wrap; justify-content: flex-start; width: 100% }\n",
              "    .wandb-col { display: flex; flex-direction: column; flex-basis: 100%; flex: 1; padding: 10px; }\n",
              "    </style>\n",
              "<div class=\"wandb-row\"><div class=\"wandb-col\"><h3>Run history:</h3><br/><table class=\"wandb\"><tr><td>epoch</td><td>▁▂▃▃▄▅▆▆▇█</td></tr><tr><td>log_loss</td><td>▁▂▁▃▅▆▆▇██</td></tr><tr><td>loss</td><td>▁</td></tr><tr><td>map</td><td>▁</td></tr><tr><td>map@10</td><td>█▆▅▇▁▅▆▆▇▃</td></tr><tr><td>ndcg</td><td>▁</td></tr><tr><td>ndcg@10</td><td>█▇▆▇▁▆▆▆▇▃</td></tr><tr><td>precision</td><td>▁</td></tr><tr><td>precision@10</td><td>▇▆█▆▁▅▆▄▅▃</td></tr><tr><td>recall</td><td>▁</td></tr><tr><td>recall@10</td><td>▆▅▃▅▁▇▅▇██</td></tr><tr><td>roc_auc</td><td>▁▃▆▇▇▇██▇█▄</td></tr><tr><td>train_loss</td><td>██▆▅▄▃▂▂▁▁</td></tr></table><br/></div><div class=\"wandb-col\"><h3>Run summary:</h3><br/><table class=\"wandb\"><tr><td>epoch</td><td>10</td></tr><tr><td>log_loss</td><td>4.28942</td></tr><tr><td>loss</td><td>4.71017</td></tr><tr><td>map</td><td>0.01004</td></tr><tr><td>map@10</td><td>0.00813</td></tr><tr><td>ndcg</td><td>0.01695</td></tr><tr><td>ndcg@10</td><td>0.01266</td></tr><tr><td>precision</td><td>0.00477</td></tr><tr><td>precision@10</td><td>0.00311</td></tr><tr><td>recall</td><td>0.00403</td></tr><tr><td>recall@10</td><td>0.0037</td></tr><tr><td>roc_auc</td><td>0.72899</td></tr><tr><td>train_loss</td><td>0.5554</td></tr></table><br/></div></div>"
            ],
            "text/plain": [
              "<IPython.core.display.HTML object>"
            ]
          },
          "metadata": {},
          "output_type": "display_data"
        },
        {
          "data": {
            "text/html": [
              "Synced <strong style=\"color:#cdcd00\">fanciful-sweep-8</strong>: <a href=\"https://wandb.ai/iloncka-ds/recsys-app/runs/8vwm7asl\" target=\"_blank\">https://wandb.ai/iloncka-ds/recsys-app/runs/8vwm7asl</a><br/>Synced 5 W&B file(s), 0 media file(s), 0 artifact file(s) and 0 other file(s)"
            ],
            "text/plain": [
              "<IPython.core.display.HTML object>"
            ]
          },
          "metadata": {},
          "output_type": "display_data"
        },
        {
          "data": {
            "text/html": [
              "Find logs at: <code>./wandb/run-20221106_160216-8vwm7asl/logs</code>"
            ],
            "text/plain": [
              "<IPython.core.display.HTML object>"
            ]
          },
          "metadata": {},
          "output_type": "display_data"
        },
        {
          "metadata": {
            "tags": null
          },
          "name": "stderr",
          "output_type": "stream",
          "text": [
            "\u001b[34m\u001b[1mwandb\u001b[0m: Agent Starting Run: 70khopik with config:\n",
            "\u001b[34m\u001b[1mwandb\u001b[0m: \tbatch_size: 64\n",
            "\u001b[34m\u001b[1mwandb\u001b[0m: \tembed_size: 32\n",
            "\u001b[34m\u001b[1mwandb\u001b[0m: \tlr: 0.01\n",
            "\u001b[34m\u001b[1mwandb\u001b[0m: \tn_epochs: 5\n",
            "Failed to detect the name of this notebook, you can set it manually with the WANDB_NOTEBOOK_NAME environment variable to enable code saving.\n"
          ]
        },
        {
          "data": {
            "text/html": [
              "Tracking run with wandb version 0.13.5"
            ],
            "text/plain": [
              "<IPython.core.display.HTML object>"
            ]
          },
          "metadata": {},
          "output_type": "display_data"
        },
        {
          "data": {
            "text/html": [
              "Run data is saved locally in <code>/content/wandb/run-20221106_161220-70khopik</code>"
            ],
            "text/plain": [
              "<IPython.core.display.HTML object>"
            ]
          },
          "metadata": {},
          "output_type": "display_data"
        },
        {
          "data": {
            "text/html": [
              "Syncing run <strong><a href=\"https://wandb.ai/iloncka-ds/recsys-app/runs/70khopik\" target=\"_blank\">leafy-sweep-9</a></strong> to <a href=\"https://wandb.ai/iloncka-ds/recsys-app\" target=\"_blank\">Weights & Biases</a> (<a href=\"https://wandb.me/run\" target=\"_blank\">docs</a>)<br/>Sweep page:  <a href=\"https://wandb.ai/iloncka-ds/recsys-app/sweeps/1xnmnsi1\" target=\"_blank\">https://wandb.ai/iloncka-ds/recsys-app/sweeps/1xnmnsi1</a>"
            ],
            "text/plain": [
              "<IPython.core.display.HTML object>"
            ]
          },
          "metadata": {},
          "output_type": "display_data"
        },
        {
          "metadata": {
            "tags": null
          },
          "name": "stdout",
          "output_type": "stream",
          "text": [
            "total params: \u001b[33m826,893\u001b[0m | embedding params: \u001b[33m818,597\u001b[0m | network params: \u001b[33m8,296\u001b[0m\n",
            "Training start time: \u001b[35m2022-11-06 16:12:27\u001b[0m\n",
            "With lr_decay, epoch 1 learning rate: 0.009999999776482582\n"
          ]
        },
        {
          "metadata": {
            "tags": null
          },
          "name": "stderr",
          "output_type": "stream",
          "text": [
            "train: 100%|██████████| 2521/2521 [00:58<00:00, 43.25it/s]\n"
          ]
        },
        {
          "metadata": {
            "tags": null
          },
          "name": "stdout",
          "output_type": "stream",
          "text": [
            "Epoch 1 elapsed: 58.350s\n",
            "\t \u001b[32mtrain_loss: 0.5041\u001b[0m\n"
          ]
        },
        {
          "metadata": {
            "tags": null
          },
          "name": "stderr",
          "output_type": "stream",
          "text": [
            "eval_pred: 100%|██████████| 3/3 [00:00<00:00, 164.88it/s]\n",
            "eval_rec: 100%|██████████| 610/610 [00:00<00:00, 1773.62it/s]\n"
          ]
        },
        {
          "metadata": {
            "tags": null
          },
          "name": "stdout",
          "output_type": "stream",
          "text": [
            "\t eval log_loss: 0.5194\n",
            "\t eval roc_auc: 0.8348\n",
            "\t eval precision@10: 0.0289\n",
            "\t eval recall@10: 0.0263\n",
            "\t eval map@10: 0.0737\n",
            "\t eval ndcg@10: 0.1087\n",
            "==============================\n",
            "With lr_decay, epoch 2 learning rate: 0.009215999394655228\n"
          ]
        },
        {
          "metadata": {
            "tags": null
          },
          "name": "stderr",
          "output_type": "stream",
          "text": [
            "train: 100%|██████████| 2521/2521 [00:57<00:00, 43.58it/s]\n"
          ]
        },
        {
          "metadata": {
            "tags": null
          },
          "name": "stdout",
          "output_type": "stream",
          "text": [
            "Epoch 2 elapsed: 57.906s\n",
            "\t \u001b[32mtrain_loss: 0.2273\u001b[0m\n"
          ]
        },
        {
          "metadata": {
            "tags": null
          },
          "name": "stderr",
          "output_type": "stream",
          "text": [
            "eval_pred: 100%|██████████| 3/3 [00:00<00:00, 146.16it/s]\n",
            "eval_rec: 100%|██████████| 610/610 [00:00<00:00, 1759.24it/s]\n"
          ]
        },
        {
          "metadata": {
            "tags": null
          },
          "name": "stdout",
          "output_type": "stream",
          "text": [
            "\t eval log_loss: 0.7097\n",
            "\t eval roc_auc: 0.8044\n",
            "\t eval precision@10: 0.0243\n",
            "\t eval recall@10: 0.0216\n",
            "\t eval map@10: 0.0608\n",
            "\t eval ndcg@10: 0.0922\n",
            "==============================\n",
            "With lr_decay, epoch 3 learning rate: 0.008493464440107346\n"
          ]
        },
        {
          "metadata": {
            "tags": null
          },
          "name": "stderr",
          "output_type": "stream",
          "text": [
            "train: 100%|██████████| 2521/2521 [00:57<00:00, 43.72it/s]\n"
          ]
        },
        {
          "metadata": {
            "tags": null
          },
          "name": "stdout",
          "output_type": "stream",
          "text": [
            "Epoch 3 elapsed: 57.717s\n",
            "\t \u001b[32mtrain_loss: 0.0712\u001b[0m\n"
          ]
        },
        {
          "metadata": {
            "tags": null
          },
          "name": "stderr",
          "output_type": "stream",
          "text": [
            "eval_pred: 100%|██████████| 3/3 [00:00<00:00, 141.01it/s]\n",
            "eval_rec: 100%|██████████| 610/610 [00:00<00:00, 1674.40it/s]\n"
          ]
        },
        {
          "metadata": {
            "tags": null
          },
          "name": "stdout",
          "output_type": "stream",
          "text": [
            "\t eval log_loss: 0.9147\n",
            "\t eval roc_auc: 0.7938\n",
            "\t eval precision@10: 0.0251\n",
            "\t eval recall@10: 0.0221\n",
            "\t eval map@10: 0.0699\n",
            "\t eval ndcg@10: 0.1009\n",
            "==============================\n",
            "With lr_decay, epoch 4 learning rate: 0.00782757718116045\n"
          ]
        },
        {
          "metadata": {
            "tags": null
          },
          "name": "stderr",
          "output_type": "stream",
          "text": [
            "train: 100%|██████████| 2521/2521 [00:57<00:00, 44.11it/s]\n"
          ]
        },
        {
          "metadata": {
            "tags": null
          },
          "name": "stdout",
          "output_type": "stream",
          "text": [
            "Epoch 4 elapsed: 57.220s\n",
            "\t \u001b[32mtrain_loss: 0.0257\u001b[0m\n"
          ]
        },
        {
          "metadata": {
            "tags": null
          },
          "name": "stderr",
          "output_type": "stream",
          "text": [
            "eval_pred: 100%|██████████| 3/3 [00:00<00:00, 167.18it/s]\n",
            "eval_rec: 100%|██████████| 610/610 [00:00<00:00, 1648.51it/s]\n"
          ]
        },
        {
          "metadata": {
            "tags": null
          },
          "name": "stdout",
          "output_type": "stream",
          "text": [
            "\t eval log_loss: 1.0953\n",
            "\t eval roc_auc: 0.7969\n",
            "\t eval precision@10: 0.0246\n",
            "\t eval recall@10: 0.0211\n",
            "\t eval map@10: 0.0718\n",
            "\t eval ndcg@10: 0.1003\n",
            "==============================\n",
            "With lr_decay, epoch 5 learning rate: 0.007213894743472338\n"
          ]
        },
        {
          "metadata": {
            "tags": null
          },
          "name": "stderr",
          "output_type": "stream",
          "text": [
            "train: 100%|██████████| 2521/2521 [00:57<00:00, 44.03it/s]\n"
          ]
        },
        {
          "metadata": {
            "tags": null
          },
          "name": "stdout",
          "output_type": "stream",
          "text": [
            "Epoch 5 elapsed: 57.315s\n",
            "\t \u001b[32mtrain_loss: 0.0106\u001b[0m\n"
          ]
        },
        {
          "metadata": {
            "tags": null
          },
          "name": "stderr",
          "output_type": "stream",
          "text": [
            "eval_pred: 100%|██████████| 3/3 [00:00<00:00, 200.21it/s]\n",
            "eval_rec: 100%|██████████| 610/610 [00:00<00:00, 1735.07it/s]\n"
          ]
        },
        {
          "metadata": {
            "tags": null
          },
          "name": "stdout",
          "output_type": "stream",
          "text": [
            "\t eval log_loss: 1.2653\n",
            "\t eval roc_auc: 0.7957\n",
            "\t eval precision@10: 0.0264\n",
            "\t eval recall@10: 0.0222\n",
            "\t eval map@10: 0.0653\n",
            "\t eval ndcg@10: 0.0982\n",
            "==============================\n"
          ]
        },
        {
          "metadata": {
            "tags": null
          },
          "name": "stderr",
          "output_type": "stream",
          "text": [
            "eval_pred: 100%|██████████| 3/3 [00:00<00:00, 207.73it/s]\n",
            "eval_rec: 100%|██████████| 608/608 [00:00<00:00, 1645.22it/s]\n"
          ]
        },
        {
          "data": {
            "text/html": [
              "Waiting for W&B process to finish... <strong style=\"color:green\">(success).</strong>"
            ],
            "text/plain": [
              "<IPython.core.display.HTML object>"
            ]
          },
          "metadata": {},
          "output_type": "display_data"
        },
        {
          "data": {
            "text/html": [
              "<style>\n",
              "    table.wandb td:nth-child(1) { padding: 0 10px; text-align: left ; width: auto;} td:nth-child(2) {text-align: left ; width: 100%}\n",
              "    .wandb-row { display: flex; flex-direction: row; flex-wrap: wrap; justify-content: flex-start; width: 100% }\n",
              "    .wandb-col { display: flex; flex-direction: column; flex-basis: 100%; flex: 1; padding: 10px; }\n",
              "    </style>\n",
              "<div class=\"wandb-row\"><div class=\"wandb-col\"><h3>Run history:</h3><br/><table class=\"wandb\"><tr><td>epoch</td><td>▁▃▅▆█</td></tr><tr><td>log_loss</td><td>▁▃▅▆█</td></tr><tr><td>loss</td><td>▁</td></tr><tr><td>map</td><td>▁</td></tr><tr><td>map@10</td><td>█▁▆▇▃</td></tr><tr><td>ndcg</td><td>▁</td></tr><tr><td>ndcg@10</td><td>█▁▅▄▄</td></tr><tr><td>precision</td><td>▁</td></tr><tr><td>precision@10</td><td>█▁▂▂▄</td></tr><tr><td>recall</td><td>▁</td></tr><tr><td>recall@10</td><td>█▂▂▁▂</td></tr><tr><td>roc_auc</td><td>█▅▄▄▄▁</td></tr><tr><td>train_loss</td><td>█▄▂▁▁</td></tr></table><br/></div><div class=\"wandb-col\"><h3>Run summary:</h3><br/><table class=\"wandb\"><tr><td>epoch</td><td>5</td></tr><tr><td>log_loss</td><td>1.26532</td></tr><tr><td>loss</td><td>1.46895</td></tr><tr><td>map</td><td>0.04894</td></tr><tr><td>map@10</td><td>0.06528</td></tr><tr><td>ndcg</td><td>0.07664</td></tr><tr><td>ndcg@10</td><td>0.09822</td></tr><tr><td>precision</td><td>0.01826</td></tr><tr><td>precision@10</td><td>0.02639</td></tr><tr><td>recall</td><td>0.02306</td></tr><tr><td>recall@10</td><td>0.02221</td></tr><tr><td>roc_auc</td><td>0.76214</td></tr><tr><td>train_loss</td><td>0.0106</td></tr></table><br/></div></div>"
            ],
            "text/plain": [
              "<IPython.core.display.HTML object>"
            ]
          },
          "metadata": {},
          "output_type": "display_data"
        },
        {
          "data": {
            "text/html": [
              "Synced <strong style=\"color:#cdcd00\">leafy-sweep-9</strong>: <a href=\"https://wandb.ai/iloncka-ds/recsys-app/runs/70khopik\" target=\"_blank\">https://wandb.ai/iloncka-ds/recsys-app/runs/70khopik</a><br/>Synced 5 W&B file(s), 0 media file(s), 0 artifact file(s) and 0 other file(s)"
            ],
            "text/plain": [
              "<IPython.core.display.HTML object>"
            ]
          },
          "metadata": {},
          "output_type": "display_data"
        },
        {
          "data": {
            "text/html": [
              "Find logs at: <code>./wandb/run-20221106_161220-70khopik/logs</code>"
            ],
            "text/plain": [
              "<IPython.core.display.HTML object>"
            ]
          },
          "metadata": {},
          "output_type": "display_data"
        },
        {
          "metadata": {
            "tags": null
          },
          "name": "stderr",
          "output_type": "stream",
          "text": [
            "\u001b[34m\u001b[1mwandb\u001b[0m: Agent Starting Run: 1golmrns with config:\n",
            "\u001b[34m\u001b[1mwandb\u001b[0m: \tbatch_size: 256\n",
            "\u001b[34m\u001b[1mwandb\u001b[0m: \tembed_size: 32\n",
            "\u001b[34m\u001b[1mwandb\u001b[0m: \tlr: 0.001\n",
            "\u001b[34m\u001b[1mwandb\u001b[0m: \tn_epochs: 10\n"
          ]
        },
        {
          "data": {
            "text/html": [
              "Tracking run with wandb version 0.13.5"
            ],
            "text/plain": [
              "<IPython.core.display.HTML object>"
            ]
          },
          "metadata": {},
          "output_type": "display_data"
        },
        {
          "data": {
            "text/html": [
              "Run data is saved locally in <code>/content/wandb/run-20221106_161733-1golmrns</code>"
            ],
            "text/plain": [
              "<IPython.core.display.HTML object>"
            ]
          },
          "metadata": {},
          "output_type": "display_data"
        },
        {
          "data": {
            "text/html": [
              "Syncing run <strong><a href=\"https://wandb.ai/iloncka-ds/recsys-app/runs/1golmrns\" target=\"_blank\">rural-sweep-10</a></strong> to <a href=\"https://wandb.ai/iloncka-ds/recsys-app\" target=\"_blank\">Weights & Biases</a> (<a href=\"https://wandb.me/run\" target=\"_blank\">docs</a>)<br/>Sweep page:  <a href=\"https://wandb.ai/iloncka-ds/recsys-app/sweeps/1xnmnsi1\" target=\"_blank\">https://wandb.ai/iloncka-ds/recsys-app/sweeps/1xnmnsi1</a>"
            ],
            "text/plain": [
              "<IPython.core.display.HTML object>"
            ]
          },
          "metadata": {},
          "output_type": "display_data"
        },
        {
          "metadata": {
            "tags": null
          },
          "name": "stdout",
          "output_type": "stream",
          "text": [
            "total params: \u001b[33m826,893\u001b[0m | embedding params: \u001b[33m818,597\u001b[0m | network params: \u001b[33m8,296\u001b[0m\n",
            "Training start time: \u001b[35m2022-11-06 16:17:38\u001b[0m\n",
            "With lr_decay, epoch 1 learning rate: 0.0010000000474974513\n"
          ]
        },
        {
          "metadata": {
            "tags": null
          },
          "name": "stderr",
          "output_type": "stream",
          "text": [
            "train: 100%|██████████| 631/631 [00:28<00:00, 22.51it/s]\n"
          ]
        },
        {
          "metadata": {
            "tags": null
          },
          "name": "stdout",
          "output_type": "stream",
          "text": [
            "Epoch 1 elapsed: 28.091s\n",
            "\t \u001b[32mtrain_loss: 0.515\u001b[0m\n"
          ]
        },
        {
          "metadata": {
            "tags": null
          },
          "name": "stderr",
          "output_type": "stream",
          "text": [
            "eval_pred: 100%|██████████| 3/3 [00:00<00:00, 183.60it/s]\n",
            "eval_rec: 100%|██████████| 610/610 [00:00<00:00, 1565.33it/s]\n"
          ]
        },
        {
          "metadata": {
            "tags": null
          },
          "name": "stdout",
          "output_type": "stream",
          "text": [
            "\t eval log_loss: 0.5046\n",
            "\t eval roc_auc: 0.8371\n",
            "\t eval precision@10: 0.0315\n",
            "\t eval recall@10: 0.0331\n",
            "\t eval map@10: 0.0742\n",
            "\t eval ndcg@10: 0.1108\n",
            "==============================\n",
            "With lr_decay, epoch 2 learning rate: 0.0009216000325977802\n"
          ]
        },
        {
          "metadata": {
            "tags": null
          },
          "name": "stderr",
          "output_type": "stream",
          "text": [
            "train: 100%|██████████| 631/631 [00:27<00:00, 22.96it/s]\n"
          ]
        },
        {
          "metadata": {
            "tags": null
          },
          "name": "stdout",
          "output_type": "stream",
          "text": [
            "Epoch 2 elapsed: 27.535s\n",
            "\t \u001b[32mtrain_loss: 0.4113\u001b[0m\n"
          ]
        },
        {
          "metadata": {
            "tags": null
          },
          "name": "stderr",
          "output_type": "stream",
          "text": [
            "eval_pred: 100%|██████████| 3/3 [00:00<00:00, 127.13it/s]\n",
            "eval_rec: 100%|██████████| 610/610 [00:00<00:00, 1814.70it/s]\n"
          ]
        },
        {
          "metadata": {
            "tags": null
          },
          "name": "stdout",
          "output_type": "stream",
          "text": [
            "\t eval log_loss: 0.4979\n",
            "\t eval roc_auc: 0.8453\n",
            "\t eval precision@10: 0.0320\n",
            "\t eval recall@10: 0.0326\n",
            "\t eval map@10: 0.0726\n",
            "\t eval ndcg@10: 0.1110\n",
            "==============================\n",
            "With lr_decay, epoch 3 learning rate: 0.0008493465138599277\n"
          ]
        },
        {
          "metadata": {
            "tags": null
          },
          "name": "stderr",
          "output_type": "stream",
          "text": [
            "train: 100%|██████████| 631/631 [00:27<00:00, 22.90it/s]\n"
          ]
        },
        {
          "metadata": {
            "tags": null
          },
          "name": "stdout",
          "output_type": "stream",
          "text": [
            "Epoch 3 elapsed: 27.610s\n",
            "\t \u001b[32mtrain_loss: 0.3456\u001b[0m\n"
          ]
        },
        {
          "metadata": {
            "tags": null
          },
          "name": "stderr",
          "output_type": "stream",
          "text": [
            "eval_pred: 100%|██████████| 3/3 [00:00<00:00, 181.05it/s]\n",
            "eval_rec: 100%|██████████| 610/610 [00:00<00:00, 1804.51it/s]\n"
          ]
        },
        {
          "metadata": {
            "tags": null
          },
          "name": "stdout",
          "output_type": "stream",
          "text": [
            "\t eval log_loss: 0.4962\n",
            "\t eval roc_auc: 0.8468\n",
            "\t eval precision@10: 0.0357\n",
            "\t eval recall@10: 0.0361\n",
            "\t eval map@10: 0.0835\n",
            "\t eval ndcg@10: 0.1279\n",
            "==============================\n",
            "With lr_decay, epoch 4 learning rate: 0.0007827577646821737\n"
          ]
        },
        {
          "metadata": {
            "tags": null
          },
          "name": "stderr",
          "output_type": "stream",
          "text": [
            "train: 100%|██████████| 631/631 [00:27<00:00, 22.86it/s]\n"
          ]
        },
        {
          "metadata": {
            "tags": null
          },
          "name": "stdout",
          "output_type": "stream",
          "text": [
            "Epoch 4 elapsed: 27.654s\n",
            "\t \u001b[32mtrain_loss: 0.2874\u001b[0m\n"
          ]
        },
        {
          "metadata": {
            "tags": null
          },
          "name": "stderr",
          "output_type": "stream",
          "text": [
            "eval_pred: 100%|██████████| 3/3 [00:00<00:00, 117.60it/s]\n",
            "eval_rec: 100%|██████████| 610/610 [00:00<00:00, 1721.62it/s]\n"
          ]
        },
        {
          "metadata": {
            "tags": null
          },
          "name": "stdout",
          "output_type": "stream",
          "text": [
            "\t eval log_loss: 0.5212\n",
            "\t eval roc_auc: 0.8464\n",
            "\t eval precision@10: 0.0318\n",
            "\t eval recall@10: 0.0299\n",
            "\t eval map@10: 0.0773\n",
            "\t eval ndcg@10: 0.1175\n",
            "==============================\n",
            "With lr_decay, epoch 5 learning rate: 0.000721389485988766\n"
          ]
        },
        {
          "metadata": {
            "tags": null
          },
          "name": "stderr",
          "output_type": "stream",
          "text": [
            "train: 100%|██████████| 631/631 [00:27<00:00, 22.81it/s]\n"
          ]
        },
        {
          "metadata": {
            "tags": null
          },
          "name": "stdout",
          "output_type": "stream",
          "text": [
            "Epoch 5 elapsed: 27.710s\n",
            "\t \u001b[32mtrain_loss: 0.2437\u001b[0m\n"
          ]
        },
        {
          "metadata": {
            "tags": null
          },
          "name": "stderr",
          "output_type": "stream",
          "text": [
            "eval_pred: 100%|██████████| 3/3 [00:00<00:00, 205.31it/s]\n",
            "eval_rec: 100%|██████████| 610/610 [00:00<00:00, 1561.94it/s]\n"
          ]
        },
        {
          "metadata": {
            "tags": null
          },
          "name": "stdout",
          "output_type": "stream",
          "text": [
            "\t eval log_loss: 0.5546\n",
            "\t eval roc_auc: 0.8432\n",
            "\t eval precision@10: 0.0316\n",
            "\t eval recall@10: 0.0323\n",
            "\t eval map@10: 0.0776\n",
            "\t eval ndcg@10: 0.1170\n",
            "==============================\n",
            "With lr_decay, epoch 6 learning rate: 0.0006648324779234827\n"
          ]
        },
        {
          "metadata": {
            "tags": null
          },
          "name": "stderr",
          "output_type": "stream",
          "text": [
            "train: 100%|██████████| 631/631 [00:27<00:00, 22.75it/s]\n"
          ]
        },
        {
          "metadata": {
            "tags": null
          },
          "name": "stdout",
          "output_type": "stream",
          "text": [
            "Epoch 6 elapsed: 27.785s\n",
            "\t \u001b[32mtrain_loss: 0.2073\u001b[0m\n"
          ]
        },
        {
          "metadata": {
            "tags": null
          },
          "name": "stderr",
          "output_type": "stream",
          "text": [
            "eval_pred: 100%|██████████| 3/3 [00:00<00:00, 180.74it/s]\n",
            "eval_rec: 100%|██████████| 610/610 [00:00<00:00, 1712.61it/s]\n"
          ]
        },
        {
          "metadata": {
            "tags": null
          },
          "name": "stdout",
          "output_type": "stream",
          "text": [
            "\t eval log_loss: 0.5899\n",
            "\t eval roc_auc: 0.8395\n",
            "\t eval precision@10: 0.0325\n",
            "\t eval recall@10: 0.0336\n",
            "\t eval map@10: 0.0769\n",
            "\t eval ndcg@10: 0.1181\n",
            "==============================\n",
            "With lr_decay, epoch 7 learning rate: 0.0006127096130512655\n"
          ]
        },
        {
          "metadata": {
            "tags": null
          },
          "name": "stderr",
          "output_type": "stream",
          "text": [
            "train: 100%|██████████| 631/631 [00:27<00:00, 22.74it/s]\n"
          ]
        },
        {
          "metadata": {
            "tags": null
          },
          "name": "stdout",
          "output_type": "stream",
          "text": [
            "Epoch 7 elapsed: 27.811s\n",
            "\t \u001b[32mtrain_loss: 0.1771\u001b[0m\n"
          ]
        },
        {
          "metadata": {
            "tags": null
          },
          "name": "stderr",
          "output_type": "stream",
          "text": [
            "eval_pred: 100%|██████████| 3/3 [00:00<00:00, 180.43it/s]\n",
            "eval_rec: 100%|██████████| 610/610 [00:00<00:00, 1633.01it/s]\n"
          ]
        },
        {
          "metadata": {
            "tags": null
          },
          "name": "stdout",
          "output_type": "stream",
          "text": [
            "\t eval log_loss: 0.6183\n",
            "\t eval roc_auc: 0.8353\n",
            "\t eval precision@10: 0.0311\n",
            "\t eval recall@10: 0.0309\n",
            "\t eval map@10: 0.0770\n",
            "\t eval ndcg@10: 0.1158\n",
            "==============================\n",
            "With lr_decay, epoch 8 learning rate: 0.0005646731588058174\n"
          ]
        },
        {
          "metadata": {
            "tags": null
          },
          "name": "stderr",
          "output_type": "stream",
          "text": [
            "train: 100%|██████████| 631/631 [00:28<00:00, 22.47it/s]\n"
          ]
        },
        {
          "metadata": {
            "tags": null
          },
          "name": "stdout",
          "output_type": "stream",
          "text": [
            "Epoch 8 elapsed: 28.132s\n",
            "\t \u001b[32mtrain_loss: 0.1506\u001b[0m\n"
          ]
        },
        {
          "metadata": {
            "tags": null
          },
          "name": "stderr",
          "output_type": "stream",
          "text": [
            "eval_pred: 100%|██████████| 3/3 [00:00<00:00, 197.87it/s]\n",
            "eval_rec: 100%|██████████| 610/610 [00:00<00:00, 1591.81it/s]\n"
          ]
        },
        {
          "metadata": {
            "tags": null
          },
          "name": "stdout",
          "output_type": "stream",
          "text": [
            "\t eval log_loss: 0.6726\n",
            "\t eval roc_auc: 0.8317\n",
            "\t eval precision@10: 0.0315\n",
            "\t eval recall@10: 0.0319\n",
            "\t eval map@10: 0.0776\n",
            "\t eval ndcg@10: 0.1169\n",
            "==============================\n",
            "With lr_decay, epoch 9 learning rate: 0.0005204027402214706\n"
          ]
        },
        {
          "metadata": {
            "tags": null
          },
          "name": "stderr",
          "output_type": "stream",
          "text": [
            "train: 100%|██████████| 631/631 [00:28<00:00, 22.13it/s]\n"
          ]
        },
        {
          "metadata": {
            "tags": null
          },
          "name": "stdout",
          "output_type": "stream",
          "text": [
            "Epoch 9 elapsed: 28.561s\n",
            "\t \u001b[32mtrain_loss: 0.1293\u001b[0m\n"
          ]
        },
        {
          "metadata": {
            "tags": null
          },
          "name": "stderr",
          "output_type": "stream",
          "text": [
            "eval_pred: 100%|██████████| 3/3 [00:00<00:00, 184.93it/s]\n",
            "eval_rec: 100%|██████████| 610/610 [00:00<00:00, 1700.33it/s]\n"
          ]
        },
        {
          "metadata": {
            "tags": null
          },
          "name": "stdout",
          "output_type": "stream",
          "text": [
            "\t eval log_loss: 0.6983\n",
            "\t eval roc_auc: 0.8305\n",
            "\t eval precision@10: 0.0305\n",
            "\t eval recall@10: 0.0310\n",
            "\t eval map@10: 0.0740\n",
            "\t eval ndcg@10: 0.1121\n",
            "==============================\n",
            "With lr_decay, epoch 10 learning rate: 0.0004796031571459025\n"
          ]
        },
        {
          "metadata": {
            "tags": null
          },
          "name": "stderr",
          "output_type": "stream",
          "text": [
            "train: 100%|██████████| 631/631 [00:27<00:00, 22.63it/s]\n"
          ]
        },
        {
          "metadata": {
            "tags": null
          },
          "name": "stdout",
          "output_type": "stream",
          "text": [
            "Epoch 10 elapsed: 27.938s\n",
            "\t \u001b[32mtrain_loss: 0.1112\u001b[0m\n"
          ]
        },
        {
          "metadata": {
            "tags": null
          },
          "name": "stderr",
          "output_type": "stream",
          "text": [
            "eval_pred: 100%|██████████| 3/3 [00:00<00:00, 135.05it/s]\n",
            "eval_rec: 100%|██████████| 610/610 [00:00<00:00, 1642.30it/s]\n"
          ]
        },
        {
          "metadata": {
            "tags": null
          },
          "name": "stdout",
          "output_type": "stream",
          "text": [
            "\t eval log_loss: 0.7385\n",
            "\t eval roc_auc: 0.8262\n",
            "\t eval precision@10: 0.0298\n",
            "\t eval recall@10: 0.0307\n",
            "\t eval map@10: 0.0736\n",
            "\t eval ndcg@10: 0.1108\n",
            "==============================\n"
          ]
        },
        {
          "metadata": {
            "tags": null
          },
          "name": "stderr",
          "output_type": "stream",
          "text": [
            "eval_pred: 100%|██████████| 3/3 [00:00<00:00, 203.43it/s]\n",
            "eval_rec: 100%|██████████| 608/608 [00:00<00:00, 1773.68it/s]\n"
          ]
        },
        {
          "data": {
            "text/html": [
              "Waiting for W&B process to finish... <strong style=\"color:green\">(success).</strong>"
            ],
            "text/plain": [
              "<IPython.core.display.HTML object>"
            ]
          },
          "metadata": {},
          "output_type": "display_data"
        },
        {
          "data": {
            "text/html": [
              "<style>\n",
              "    table.wandb td:nth-child(1) { padding: 0 10px; text-align: left ; width: auto;} td:nth-child(2) {text-align: left ; width: 100%}\n",
              "    .wandb-row { display: flex; flex-direction: row; flex-wrap: wrap; justify-content: flex-start; width: 100% }\n",
              "    .wandb-col { display: flex; flex-direction: column; flex-basis: 100%; flex: 1; padding: 10px; }\n",
              "    </style>\n",
              "<div class=\"wandb-row\"><div class=\"wandb-col\"><h3>Run history:</h3><br/><table class=\"wandb\"><tr><td>epoch</td><td>▁▂▃▃▄▅▆▆▇█</td></tr><tr><td>log_loss</td><td>▁▁▁▂▃▄▅▆▇█</td></tr><tr><td>loss</td><td>▁</td></tr><tr><td>map</td><td>▁</td></tr><tr><td>map@10</td><td>▂▁█▄▄▄▄▄▂▂</td></tr><tr><td>ndcg</td><td>▁</td></tr><tr><td>ndcg@10</td><td>▁▁█▄▄▄▃▃▂▁</td></tr><tr><td>precision</td><td>▁</td></tr><tr><td>precision@10</td><td>▃▄█▃▃▄▃▃▂▁</td></tr><tr><td>recall</td><td>▁</td></tr><tr><td>recall@10</td><td>▅▄█▁▄▅▂▃▂▂</td></tr><tr><td>roc_auc</td><td>▇████▇▇▆▆▅▁</td></tr><tr><td>train_loss</td><td>█▆▅▄▃▃▂▂▁▁</td></tr></table><br/></div><div class=\"wandb-col\"><h3>Run summary:</h3><br/><table class=\"wandb\"><tr><td>epoch</td><td>10</td></tr><tr><td>log_loss</td><td>0.7385</td></tr><tr><td>loss</td><td>0.88197</td></tr><tr><td>map</td><td>0.05802</td></tr><tr><td>map@10</td><td>0.07356</td></tr><tr><td>ndcg</td><td>0.08913</td></tr><tr><td>ndcg@10</td><td>0.11083</td></tr><tr><td>precision</td><td>0.02484</td></tr><tr><td>precision@10</td><td>0.02984</td></tr><tr><td>recall</td><td>0.02574</td></tr><tr><td>recall@10</td><td>0.03066</td></tr><tr><td>roc_auc</td><td>0.79264</td></tr><tr><td>train_loss</td><td>0.1112</td></tr></table><br/></div></div>"
            ],
            "text/plain": [
              "<IPython.core.display.HTML object>"
            ]
          },
          "metadata": {},
          "output_type": "display_data"
        },
        {
          "data": {
            "text/html": [
              "Synced <strong style=\"color:#cdcd00\">rural-sweep-10</strong>: <a href=\"https://wandb.ai/iloncka-ds/recsys-app/runs/1golmrns\" target=\"_blank\">https://wandb.ai/iloncka-ds/recsys-app/runs/1golmrns</a><br/>Synced 5 W&B file(s), 0 media file(s), 0 artifact file(s) and 0 other file(s)"
            ],
            "text/plain": [
              "<IPython.core.display.HTML object>"
            ]
          },
          "metadata": {},
          "output_type": "display_data"
        },
        {
          "data": {
            "text/html": [
              "Find logs at: <code>./wandb/run-20221106_161733-1golmrns/logs</code>"
            ],
            "text/plain": [
              "<IPython.core.display.HTML object>"
            ]
          },
          "metadata": {},
          "output_type": "display_data"
        },
        {
          "metadata": {
            "tags": null
          },
          "name": "stderr",
          "output_type": "stream",
          "text": [
            "\u001b[34m\u001b[1mwandb\u001b[0m: Agent Starting Run: l6q9tf1s with config:\n",
            "\u001b[34m\u001b[1mwandb\u001b[0m: \tbatch_size: 256\n",
            "\u001b[34m\u001b[1mwandb\u001b[0m: \tembed_size: 32\n",
            "\u001b[34m\u001b[1mwandb\u001b[0m: \tlr: 0.0001\n",
            "\u001b[34m\u001b[1mwandb\u001b[0m: \tn_epochs: 5\n",
            "Failed to detect the name of this notebook, you can set it manually with the WANDB_NOTEBOOK_NAME environment variable to enable code saving.\n"
          ]
        },
        {
          "data": {
            "text/html": [
              "Tracking run with wandb version 0.13.5"
            ],
            "text/plain": [
              "<IPython.core.display.HTML object>"
            ]
          },
          "metadata": {},
          "output_type": "display_data"
        },
        {
          "data": {
            "text/html": [
              "Run data is saved locally in <code>/content/wandb/run-20221106_162237-l6q9tf1s</code>"
            ],
            "text/plain": [
              "<IPython.core.display.HTML object>"
            ]
          },
          "metadata": {},
          "output_type": "display_data"
        },
        {
          "data": {
            "text/html": [
              "Syncing run <strong><a href=\"https://wandb.ai/iloncka-ds/recsys-app/runs/l6q9tf1s\" target=\"_blank\">chocolate-sweep-11</a></strong> to <a href=\"https://wandb.ai/iloncka-ds/recsys-app\" target=\"_blank\">Weights & Biases</a> (<a href=\"https://wandb.me/run\" target=\"_blank\">docs</a>)<br/>Sweep page:  <a href=\"https://wandb.ai/iloncka-ds/recsys-app/sweeps/1xnmnsi1\" target=\"_blank\">https://wandb.ai/iloncka-ds/recsys-app/sweeps/1xnmnsi1</a>"
            ],
            "text/plain": [
              "<IPython.core.display.HTML object>"
            ]
          },
          "metadata": {},
          "output_type": "display_data"
        },
        {
          "metadata": {
            "tags": null
          },
          "name": "stdout",
          "output_type": "stream",
          "text": [
            "total params: \u001b[33m826,893\u001b[0m | embedding params: \u001b[33m818,597\u001b[0m | network params: \u001b[33m8,296\u001b[0m\n",
            "Training start time: \u001b[35m2022-11-06 16:22:44\u001b[0m\n",
            "With lr_decay, epoch 1 learning rate: 9.999999747378752e-05\n"
          ]
        },
        {
          "metadata": {
            "tags": null
          },
          "name": "stderr",
          "output_type": "stream",
          "text": [
            "train: 100%|██████████| 631/631 [00:28<00:00, 21.87it/s]\n"
          ]
        },
        {
          "metadata": {
            "tags": null
          },
          "name": "stdout",
          "output_type": "stream",
          "text": [
            "Epoch 1 elapsed: 28.906s\n",
            "\t \u001b[32mtrain_loss: 0.6576\u001b[0m\n"
          ]
        },
        {
          "metadata": {
            "tags": null
          },
          "name": "stderr",
          "output_type": "stream",
          "text": [
            "eval_pred: 100%|██████████| 3/3 [00:00<00:00, 87.71it/s]\n",
            "eval_rec: 100%|██████████| 610/610 [00:00<00:00, 1689.62it/s]\n"
          ]
        },
        {
          "metadata": {
            "tags": null
          },
          "name": "stdout",
          "output_type": "stream",
          "text": [
            "\t eval log_loss: 0.5700\n",
            "\t eval roc_auc: 0.8189\n",
            "\t eval precision@10: 0.0400\n",
            "\t eval recall@10: 0.0411\n",
            "\t eval map@10: 0.0910\n",
            "\t eval ndcg@10: 0.1329\n",
            "==============================\n",
            "With lr_decay, epoch 2 learning rate: 9.215999307343736e-05\n"
          ]
        },
        {
          "metadata": {
            "tags": null
          },
          "name": "stderr",
          "output_type": "stream",
          "text": [
            "train: 100%|██████████| 631/631 [00:27<00:00, 22.59it/s]\n"
          ]
        },
        {
          "metadata": {
            "tags": null
          },
          "name": "stdout",
          "output_type": "stream",
          "text": [
            "Epoch 2 elapsed: 27.992s\n",
            "\t \u001b[32mtrain_loss: 0.4783\u001b[0m\n"
          ]
        },
        {
          "metadata": {
            "tags": null
          },
          "name": "stderr",
          "output_type": "stream",
          "text": [
            "eval_pred: 100%|██████████| 3/3 [00:00<00:00, 209.74it/s]\n",
            "eval_rec: 100%|██████████| 610/610 [00:00<00:00, 1670.92it/s]\n"
          ]
        },
        {
          "metadata": {
            "tags": null
          },
          "name": "stdout",
          "output_type": "stream",
          "text": [
            "\t eval log_loss: 0.5023\n",
            "\t eval roc_auc: 0.8395\n",
            "\t eval precision@10: 0.0397\n",
            "\t eval recall@10: 0.0399\n",
            "\t eval map@10: 0.0881\n",
            "\t eval ndcg@10: 0.1292\n",
            "==============================\n",
            "With lr_decay, epoch 3 learning rate: 8.49346470204182e-05\n"
          ]
        },
        {
          "metadata": {
            "tags": null
          },
          "name": "stderr",
          "output_type": "stream",
          "text": [
            "train: 100%|██████████| 631/631 [00:28<00:00, 22.54it/s]\n"
          ]
        },
        {
          "metadata": {
            "tags": null
          },
          "name": "stdout",
          "output_type": "stream",
          "text": [
            "Epoch 3 elapsed: 28.049s\n",
            "\t \u001b[32mtrain_loss: 0.4414\u001b[0m\n"
          ]
        },
        {
          "metadata": {
            "tags": null
          },
          "name": "stderr",
          "output_type": "stream",
          "text": [
            "eval_pred: 100%|██████████| 3/3 [00:00<00:00, 158.86it/s]\n",
            "eval_rec: 100%|██████████| 610/610 [00:00<00:00, 1715.89it/s]\n"
          ]
        },
        {
          "metadata": {
            "tags": null
          },
          "name": "stdout",
          "output_type": "stream",
          "text": [
            "\t eval log_loss: 0.4961\n",
            "\t eval roc_auc: 0.8437\n",
            "\t eval precision@10: 0.0372\n",
            "\t eval recall@10: 0.0375\n",
            "\t eval map@10: 0.0860\n",
            "\t eval ndcg@10: 0.1247\n",
            "==============================\n",
            "With lr_decay, epoch 4 learning rate: 7.827577064745128e-05\n"
          ]
        },
        {
          "metadata": {
            "tags": null
          },
          "name": "stderr",
          "output_type": "stream",
          "text": [
            "train: 100%|██████████| 631/631 [00:27<00:00, 22.59it/s]\n"
          ]
        },
        {
          "metadata": {
            "tags": null
          },
          "name": "stdout",
          "output_type": "stream",
          "text": [
            "Epoch 4 elapsed: 27.990s\n",
            "\t \u001b[32mtrain_loss: 0.4282\u001b[0m\n"
          ]
        },
        {
          "metadata": {
            "tags": null
          },
          "name": "stderr",
          "output_type": "stream",
          "text": [
            "eval_pred: 100%|██████████| 3/3 [00:00<00:00, 137.89it/s]\n",
            "eval_rec: 100%|██████████| 610/610 [00:00<00:00, 1797.36it/s]\n"
          ]
        },
        {
          "metadata": {
            "tags": null
          },
          "name": "stdout",
          "output_type": "stream",
          "text": [
            "\t eval log_loss: 0.4951\n",
            "\t eval roc_auc: 0.8446\n",
            "\t eval precision@10: 0.0361\n",
            "\t eval recall@10: 0.0353\n",
            "\t eval map@10: 0.0848\n",
            "\t eval ndcg@10: 0.1231\n",
            "==============================\n",
            "With lr_decay, epoch 5 learning rate: 7.213894423330203e-05\n"
          ]
        },
        {
          "metadata": {
            "tags": null
          },
          "name": "stderr",
          "output_type": "stream",
          "text": [
            "train: 100%|██████████| 631/631 [00:28<00:00, 22.43it/s]\n"
          ]
        },
        {
          "metadata": {
            "tags": null
          },
          "name": "stdout",
          "output_type": "stream",
          "text": [
            "Epoch 5 elapsed: 28.175s\n",
            "\t \u001b[32mtrain_loss: 0.4187\u001b[0m\n"
          ]
        },
        {
          "metadata": {
            "tags": null
          },
          "name": "stderr",
          "output_type": "stream",
          "text": [
            "eval_pred: 100%|██████████| 3/3 [00:00<00:00, 195.77it/s]\n",
            "eval_rec: 100%|██████████| 610/610 [00:00<00:00, 1780.78it/s]\n"
          ]
        },
        {
          "metadata": {
            "tags": null
          },
          "name": "stdout",
          "output_type": "stream",
          "text": [
            "\t eval log_loss: 0.4963\n",
            "\t eval roc_auc: 0.8444\n",
            "\t eval precision@10: 0.0343\n",
            "\t eval recall@10: 0.0339\n",
            "\t eval map@10: 0.0846\n",
            "\t eval ndcg@10: 0.1213\n",
            "==============================\n"
          ]
        },
        {
          "metadata": {
            "tags": null
          },
          "name": "stderr",
          "output_type": "stream",
          "text": [
            "eval_pred: 100%|██████████| 3/3 [00:00<00:00, 205.70it/s]\n",
            "eval_rec: 100%|██████████| 608/608 [00:00<00:00, 1717.88it/s]\n"
          ]
        },
        {
          "data": {
            "text/html": [
              "Waiting for W&B process to finish... <strong style=\"color:green\">(success).</strong>"
            ],
            "text/plain": [
              "<IPython.core.display.HTML object>"
            ]
          },
          "metadata": {},
          "output_type": "display_data"
        },
        {
          "data": {
            "application/vnd.jupyter.widget-view+json": {
              "model_id": "f580925dfa794fc0bdb4f835b1861328",
              "version_major": 2,
              "version_minor": 0
            },
            "text/plain": [
              "VBox(children=(Label(value='0.001 MB of 0.001 MB uploaded (0.000 MB deduped)\\r'), FloatProgress(value=1.0, max…"
            ]
          },
          "metadata": {},
          "output_type": "display_data"
        },
        {
          "data": {
            "text/html": [
              "<style>\n",
              "    table.wandb td:nth-child(1) { padding: 0 10px; text-align: left ; width: auto;} td:nth-child(2) {text-align: left ; width: 100%}\n",
              "    .wandb-row { display: flex; flex-direction: row; flex-wrap: wrap; justify-content: flex-start; width: 100% }\n",
              "    .wandb-col { display: flex; flex-direction: column; flex-basis: 100%; flex: 1; padding: 10px; }\n",
              "    </style>\n",
              "<div class=\"wandb-row\"><div class=\"wandb-col\"><h3>Run history:</h3><br/><table class=\"wandb\"><tr><td>epoch</td><td>▁▃▅▆█</td></tr><tr><td>log_loss</td><td>█▂▁▁▁</td></tr><tr><td>loss</td><td>▁</td></tr><tr><td>map</td><td>▁</td></tr><tr><td>map@10</td><td>█▅▃▁▁</td></tr><tr><td>ndcg</td><td>▁</td></tr><tr><td>ndcg@10</td><td>█▆▃▂▁</td></tr><tr><td>precision</td><td>▁</td></tr><tr><td>precision@10</td><td>██▅▃▁</td></tr><tr><td>recall</td><td>▁</td></tr><tr><td>recall@10</td><td>█▇▄▂▁</td></tr><tr><td>roc_auc</td><td>▁▇███▃</td></tr><tr><td>train_loss</td><td>█▃▂▁▁</td></tr></table><br/></div><div class=\"wandb-col\"><h3>Run summary:</h3><br/><table class=\"wandb\"><tr><td>epoch</td><td>5</td></tr><tr><td>log_loss</td><td>0.49627</td></tr><tr><td>loss</td><td>0.52354</td></tr><tr><td>map</td><td>0.07264</td></tr><tr><td>map@10</td><td>0.08461</td></tr><tr><td>ndcg</td><td>0.10349</td></tr><tr><td>ndcg@10</td><td>0.12131</td></tr><tr><td>precision</td><td>0.02763</td></tr><tr><td>precision@10</td><td>0.03426</td></tr><tr><td>recall</td><td>0.02901</td></tr><tr><td>recall@10</td><td>0.03394</td></tr><tr><td>roc_auc</td><td>0.82699</td></tr><tr><td>train_loss</td><td>0.4187</td></tr></table><br/></div></div>"
            ],
            "text/plain": [
              "<IPython.core.display.HTML object>"
            ]
          },
          "metadata": {},
          "output_type": "display_data"
        },
        {
          "data": {
            "text/html": [
              "Synced <strong style=\"color:#cdcd00\">chocolate-sweep-11</strong>: <a href=\"https://wandb.ai/iloncka-ds/recsys-app/runs/l6q9tf1s\" target=\"_blank\">https://wandb.ai/iloncka-ds/recsys-app/runs/l6q9tf1s</a><br/>Synced 5 W&B file(s), 0 media file(s), 0 artifact file(s) and 0 other file(s)"
            ],
            "text/plain": [
              "<IPython.core.display.HTML object>"
            ]
          },
          "metadata": {},
          "output_type": "display_data"
        },
        {
          "data": {
            "text/html": [
              "Find logs at: <code>./wandb/run-20221106_162237-l6q9tf1s/logs</code>"
            ],
            "text/plain": [
              "<IPython.core.display.HTML object>"
            ]
          },
          "metadata": {},
          "output_type": "display_data"
        },
        {
          "metadata": {
            "tags": null
          },
          "name": "stderr",
          "output_type": "stream",
          "text": [
            "\u001b[34m\u001b[1mwandb\u001b[0m: Agent Starting Run: ns210t67 with config:\n",
            "\u001b[34m\u001b[1mwandb\u001b[0m: \tbatch_size: 128\n",
            "\u001b[34m\u001b[1mwandb\u001b[0m: \tembed_size: 16\n",
            "\u001b[34m\u001b[1mwandb\u001b[0m: \tlr: 0.0001\n",
            "\u001b[34m\u001b[1mwandb\u001b[0m: \tn_epochs: 5\n"
          ]
        },
        {
          "data": {
            "text/html": [
              "Tracking run with wandb version 0.13.5"
            ],
            "text/plain": [
              "<IPython.core.display.HTML object>"
            ]
          },
          "metadata": {},
          "output_type": "display_data"
        },
        {
          "data": {
            "text/html": [
              "Run data is saved locally in <code>/content/wandb/run-20221106_162522-ns210t67</code>"
            ],
            "text/plain": [
              "<IPython.core.display.HTML object>"
            ]
          },
          "metadata": {},
          "output_type": "display_data"
        },
        {
          "data": {
            "text/html": [
              "Syncing run <strong><a href=\"https://wandb.ai/iloncka-ds/recsys-app/runs/ns210t67\" target=\"_blank\">young-sweep-12</a></strong> to <a href=\"https://wandb.ai/iloncka-ds/recsys-app\" target=\"_blank\">Weights & Biases</a> (<a href=\"https://wandb.me/run\" target=\"_blank\">docs</a>)<br/>Sweep page:  <a href=\"https://wandb.ai/iloncka-ds/recsys-app/sweeps/1xnmnsi1\" target=\"_blank\">https://wandb.ai/iloncka-ds/recsys-app/sweeps/1xnmnsi1</a>"
            ],
            "text/plain": [
              "<IPython.core.display.HTML object>"
            ]
          },
          "metadata": {},
          "output_type": "display_data"
        },
        {
          "metadata": {
            "tags": null
          },
          "name": "stdout",
          "output_type": "stream",
          "text": [
            "total params: \u001b[33m416,573\u001b[0m | embedding params: \u001b[33m413,429\u001b[0m | network params: \u001b[33m3,144\u001b[0m\n",
            "Training start time: \u001b[35m2022-11-06 16:25:29\u001b[0m\n",
            "With lr_decay, epoch 1 learning rate: 9.999999747378752e-05\n"
          ]
        },
        {
          "metadata": {
            "tags": null
          },
          "name": "stderr",
          "output_type": "stream",
          "text": [
            "train: 100%|██████████| 1261/1261 [00:29<00:00, 42.75it/s]\n"
          ]
        },
        {
          "metadata": {
            "tags": null
          },
          "name": "stdout",
          "output_type": "stream",
          "text": [
            "Epoch 1 elapsed: 29.550s\n",
            "\t \u001b[32mtrain_loss: 0.6395\u001b[0m\n"
          ]
        },
        {
          "metadata": {
            "tags": null
          },
          "name": "stderr",
          "output_type": "stream",
          "text": [
            "eval_pred: 100%|██████████| 3/3 [00:00<00:00, 193.31it/s]\n",
            "eval_rec: 100%|██████████| 610/610 [00:00<00:00, 2195.12it/s]\n"
          ]
        },
        {
          "metadata": {
            "tags": null
          },
          "name": "stdout",
          "output_type": "stream",
          "text": [
            "\t eval log_loss: 0.5486\n",
            "\t eval roc_auc: 0.8218\n",
            "\t eval precision@10: 0.0398\n",
            "\t eval recall@10: 0.0402\n",
            "\t eval map@10: 0.0964\n",
            "\t eval ndcg@10: 0.1351\n",
            "==============================\n",
            "With lr_decay, epoch 2 learning rate: 9.215999307343736e-05\n"
          ]
        },
        {
          "metadata": {
            "tags": null
          },
          "name": "stderr",
          "output_type": "stream",
          "text": [
            "train: 100%|██████████| 1261/1261 [00:29<00:00, 42.42it/s]\n"
          ]
        },
        {
          "metadata": {
            "tags": null
          },
          "name": "stdout",
          "output_type": "stream",
          "text": [
            "Epoch 2 elapsed: 29.798s\n",
            "\t \u001b[32mtrain_loss: 0.4715\u001b[0m\n"
          ]
        },
        {
          "metadata": {
            "tags": null
          },
          "name": "stderr",
          "output_type": "stream",
          "text": [
            "eval_pred: 100%|██████████| 3/3 [00:00<00:00, 201.75it/s]\n",
            "eval_rec: 100%|██████████| 610/610 [00:00<00:00, 2075.68it/s]\n"
          ]
        },
        {
          "metadata": {
            "tags": null
          },
          "name": "stdout",
          "output_type": "stream",
          "text": [
            "\t eval log_loss: 0.5017\n",
            "\t eval roc_auc: 0.8399\n",
            "\t eval precision@10: 0.0403\n",
            "\t eval recall@10: 0.0407\n",
            "\t eval map@10: 0.0870\n",
            "\t eval ndcg@10: 0.1299\n",
            "==============================\n",
            "With lr_decay, epoch 3 learning rate: 8.49346470204182e-05\n"
          ]
        },
        {
          "metadata": {
            "tags": null
          },
          "name": "stderr",
          "output_type": "stream",
          "text": [
            "train: 100%|██████████| 1261/1261 [00:29<00:00, 42.11it/s]\n"
          ]
        },
        {
          "metadata": {
            "tags": null
          },
          "name": "stdout",
          "output_type": "stream",
          "text": [
            "Epoch 3 elapsed: 30.001s\n",
            "\t \u001b[32mtrain_loss: 0.4404\u001b[0m\n"
          ]
        },
        {
          "metadata": {
            "tags": null
          },
          "name": "stderr",
          "output_type": "stream",
          "text": [
            "eval_pred: 100%|██████████| 3/3 [00:00<00:00, 189.23it/s]\n",
            "eval_rec: 100%|██████████| 610/610 [00:00<00:00, 1986.13it/s]\n"
          ]
        },
        {
          "metadata": {
            "tags": null
          },
          "name": "stdout",
          "output_type": "stream",
          "text": [
            "\t eval log_loss: 0.4955\n",
            "\t eval roc_auc: 0.8440\n",
            "\t eval precision@10: 0.0387\n",
            "\t eval recall@10: 0.0402\n",
            "\t eval map@10: 0.0840\n",
            "\t eval ndcg@10: 0.1259\n",
            "==============================\n",
            "With lr_decay, epoch 4 learning rate: 7.827577064745128e-05\n"
          ]
        },
        {
          "output_type": "stream",
          "name": "stderr",
          "text": [
            "train: 100%|██████████| 1261/1261 [00:32<00:00, 38.36it/s]\n"
          ]
        },
        {
          "output_type": "stream",
          "name": "stdout",
          "text": [
            "Epoch 4 elapsed: 32.926s\n",
            "\t \u001b[32mtrain_loss: 0.427\u001b[0m\n"
          ]
        },
        {
          "output_type": "stream",
          "name": "stderr",
          "text": [
            "eval_pred: 100%|██████████| 3/3 [00:00<00:00, 209.66it/s]\n",
            "eval_rec: 100%|██████████| 610/610 [00:00<00:00, 1715.60it/s]\n"
          ]
        },
        {
          "output_type": "stream",
          "name": "stdout",
          "text": [
            "\t eval log_loss: 0.4948\n",
            "\t eval roc_auc: 0.8447\n",
            "\t eval precision@10: 0.0372\n",
            "\t eval recall@10: 0.0373\n",
            "\t eval map@10: 0.0812\n",
            "\t eval ndcg@10: 0.1217\n",
            "==============================\n",
            "With lr_decay, epoch 5 learning rate: 7.213894423330203e-05\n"
          ]
        },
        {
          "output_type": "stream",
          "name": "stderr",
          "text": [
            "train: 100%|██████████| 1261/1261 [00:29<00:00, 43.38it/s]\n"
          ]
        },
        {
          "output_type": "stream",
          "name": "stdout",
          "text": [
            "Epoch 5 elapsed: 29.134s\n",
            "\t \u001b[32mtrain_loss: 0.4179\u001b[0m\n"
          ]
        },
        {
          "output_type": "stream",
          "name": "stderr",
          "text": [
            "eval_pred: 100%|██████████| 3/3 [00:00<00:00, 190.08it/s]\n",
            "eval_rec: 100%|██████████| 610/610 [00:00<00:00, 2071.67it/s]\n"
          ]
        },
        {
          "output_type": "stream",
          "name": "stdout",
          "text": [
            "\t eval log_loss: 0.4962\n",
            "\t eval roc_auc: 0.8443\n",
            "\t eval precision@10: 0.0357\n",
            "\t eval recall@10: 0.0352\n",
            "\t eval map@10: 0.0808\n",
            "\t eval ndcg@10: 0.1209\n",
            "==============================\n"
          ]
        },
        {
          "output_type": "stream",
          "name": "stderr",
          "text": [
            "eval_pred: 100%|██████████| 3/3 [00:00<00:00, 260.22it/s]\n",
            "eval_rec: 100%|██████████| 608/608 [00:00<00:00, 1904.24it/s]\n"
          ]
        },
        {
          "output_type": "display_data",
          "data": {
            "text/plain": [
              "<IPython.core.display.HTML object>"
            ],
            "text/html": [
              "Waiting for W&B process to finish... <strong style=\"color:green\">(success).</strong>"
            ]
          },
          "metadata": {}
        },
        {
          "output_type": "display_data",
          "data": {
            "text/plain": [
              "VBox(children=(Label(value='0.001 MB of 0.001 MB uploaded (0.000 MB deduped)\\r'), FloatProgress(value=1.0, max…"
            ],
            "application/vnd.jupyter.widget-view+json": {
              "version_major": 2,
              "version_minor": 0,
              "model_id": "2c6f7f3ea03c49b192f60b595e067149"
            }
          },
          "metadata": {}
        },
        {
          "output_type": "display_data",
          "data": {
            "text/plain": [
              "<IPython.core.display.HTML object>"
            ],
            "text/html": [
              "<style>\n",
              "    table.wandb td:nth-child(1) { padding: 0 10px; text-align: left ; width: auto;} td:nth-child(2) {text-align: left ; width: 100%}\n",
              "    .wandb-row { display: flex; flex-direction: row; flex-wrap: wrap; justify-content: flex-start; width: 100% }\n",
              "    .wandb-col { display: flex; flex-direction: column; flex-basis: 100%; flex: 1; padding: 10px; }\n",
              "    </style>\n",
              "<div class=\"wandb-row\"><div class=\"wandb-col\"><h3>Run history:</h3><br/><table class=\"wandb\"><tr><td>epoch</td><td>▁▃▅▆█</td></tr><tr><td>log_loss</td><td>█▂▁▁▁</td></tr><tr><td>loss</td><td>▁</td></tr><tr><td>map</td><td>▁</td></tr><tr><td>map@10</td><td>█▄▂▁▁</td></tr><tr><td>ndcg</td><td>▁</td></tr><tr><td>ndcg@10</td><td>█▅▃▁▁</td></tr><tr><td>precision</td><td>▁</td></tr><tr><td>precision@10</td><td>▇█▆▃▁</td></tr><tr><td>recall</td><td>▁</td></tr><tr><td>recall@10</td><td>▇█▇▄▁</td></tr><tr><td>roc_auc</td><td>▁▇███▂</td></tr><tr><td>train_loss</td><td>█▃▂▁▁</td></tr></table><br/></div><div class=\"wandb-col\"><h3>Run summary:</h3><br/><table class=\"wandb\"><tr><td>epoch</td><td>5</td></tr><tr><td>log_loss</td><td>0.49615</td></tr><tr><td>loss</td><td>0.52416</td></tr><tr><td>map</td><td>0.07101</td></tr><tr><td>map@10</td><td>0.08077</td></tr><tr><td>ndcg</td><td>0.10373</td></tr><tr><td>ndcg@10</td><td>0.12091</td></tr><tr><td>precision</td><td>0.02895</td></tr><tr><td>precision@10</td><td>0.03574</td></tr><tr><td>recall</td><td>0.02881</td></tr><tr><td>recall@10</td><td>0.0352</td></tr><tr><td>roc_auc</td><td>0.82636</td></tr><tr><td>train_loss</td><td>0.4179</td></tr></table><br/></div></div>"
            ]
          },
          "metadata": {}
        },
        {
          "output_type": "display_data",
          "data": {
            "text/plain": [
              "<IPython.core.display.HTML object>"
            ],
            "text/html": [
              "Synced <strong style=\"color:#cdcd00\">young-sweep-12</strong>: <a href=\"https://wandb.ai/iloncka-ds/recsys-app/runs/ns210t67\" target=\"_blank\">https://wandb.ai/iloncka-ds/recsys-app/runs/ns210t67</a><br/>Synced 5 W&B file(s), 0 media file(s), 0 artifact file(s) and 0 other file(s)"
            ]
          },
          "metadata": {}
        },
        {
          "output_type": "display_data",
          "data": {
            "text/plain": [
              "<IPython.core.display.HTML object>"
            ],
            "text/html": [
              "Find logs at: <code>./wandb/run-20221106_162522-ns210t67/logs</code>"
            ]
          },
          "metadata": {}
        },
        {
          "output_type": "stream",
          "name": "stderr",
          "text": [
            "\u001b[34m\u001b[1mwandb\u001b[0m: Agent Starting Run: uj66qbj6 with config:\n",
            "\u001b[34m\u001b[1mwandb\u001b[0m: \tbatch_size: 256\n",
            "\u001b[34m\u001b[1mwandb\u001b[0m: \tembed_size: 32\n",
            "\u001b[34m\u001b[1mwandb\u001b[0m: \tlr: 0.001\n",
            "\u001b[34m\u001b[1mwandb\u001b[0m: \tn_epochs: 10\n"
          ]
        },
        {
          "output_type": "display_data",
          "data": {
            "text/plain": [
              "<IPython.core.display.HTML object>"
            ],
            "text/html": [
              "Tracking run with wandb version 0.13.5"
            ]
          },
          "metadata": {}
        },
        {
          "output_type": "display_data",
          "data": {
            "text/plain": [
              "<IPython.core.display.HTML object>"
            ],
            "text/html": [
              "Run data is saved locally in <code>/content/wandb/run-20221106_162819-uj66qbj6</code>"
            ]
          },
          "metadata": {}
        },
        {
          "output_type": "display_data",
          "data": {
            "text/plain": [
              "<IPython.core.display.HTML object>"
            ],
            "text/html": [
              "Syncing run <strong><a href=\"https://wandb.ai/iloncka-ds/recsys-app/runs/uj66qbj6\" target=\"_blank\">ruby-sweep-13</a></strong> to <a href=\"https://wandb.ai/iloncka-ds/recsys-app\" target=\"_blank\">Weights & Biases</a> (<a href=\"https://wandb.me/run\" target=\"_blank\">docs</a>)<br/>Sweep page:  <a href=\"https://wandb.ai/iloncka-ds/recsys-app/sweeps/1xnmnsi1\" target=\"_blank\">https://wandb.ai/iloncka-ds/recsys-app/sweeps/1xnmnsi1</a>"
            ]
          },
          "metadata": {}
        },
        {
          "output_type": "stream",
          "name": "stdout",
          "text": [
            "total params: \u001b[33m826,893\u001b[0m | embedding params: \u001b[33m818,597\u001b[0m | network params: \u001b[33m8,296\u001b[0m\n",
            "Training start time: \u001b[35m2022-11-06 16:28:26\u001b[0m\n",
            "With lr_decay, epoch 1 learning rate: 0.0010000000474974513\n"
          ]
        },
        {
          "output_type": "stream",
          "name": "stderr",
          "text": [
            "train: 100%|██████████| 631/631 [00:28<00:00, 21.89it/s]\n"
          ]
        },
        {
          "output_type": "stream",
          "name": "stdout",
          "text": [
            "Epoch 1 elapsed: 28.876s\n",
            "\t \u001b[32mtrain_loss: 0.5156\u001b[0m\n"
          ]
        },
        {
          "output_type": "stream",
          "name": "stderr",
          "text": [
            "eval_pred: 100%|██████████| 3/3 [00:00<00:00, 152.83it/s]\n",
            "eval_rec: 100%|██████████| 610/610 [00:00<00:00, 1555.02it/s]\n"
          ]
        },
        {
          "output_type": "stream",
          "name": "stdout",
          "text": [
            "\t eval log_loss: 0.5036\n",
            "\t eval roc_auc: 0.8384\n",
            "\t eval precision@10: 0.0300\n",
            "\t eval recall@10: 0.0316\n",
            "\t eval map@10: 0.0716\n",
            "\t eval ndcg@10: 0.1066\n",
            "==============================\n",
            "With lr_decay, epoch 2 learning rate: 0.0009216000325977802\n"
          ]
        },
        {
          "output_type": "stream",
          "name": "stderr",
          "text": [
            "train: 100%|██████████| 631/631 [00:28<00:00, 22.38it/s]\n"
          ]
        },
        {
          "output_type": "stream",
          "name": "stdout",
          "text": [
            "Epoch 2 elapsed: 28.242s\n",
            "\t \u001b[32mtrain_loss: 0.4105\u001b[0m\n"
          ]
        },
        {
          "output_type": "stream",
          "name": "stderr",
          "text": [
            "eval_pred: 100%|██████████| 3/3 [00:00<00:00, 163.27it/s]\n",
            "eval_rec: 100%|██████████| 610/610 [00:00<00:00, 1525.40it/s]\n"
          ]
        },
        {
          "output_type": "stream",
          "name": "stdout",
          "text": [
            "\t eval log_loss: 0.5006\n",
            "\t eval roc_auc: 0.8447\n",
            "\t eval precision@10: 0.0310\n",
            "\t eval recall@10: 0.0295\n",
            "\t eval map@10: 0.0737\n",
            "\t eval ndcg@10: 0.1101\n",
            "==============================\n",
            "With lr_decay, epoch 3 learning rate: 0.0008493465138599277\n"
          ]
        },
        {
          "output_type": "stream",
          "name": "stderr",
          "text": [
            "train: 100%|██████████| 631/631 [00:28<00:00, 22.50it/s]\n"
          ]
        },
        {
          "output_type": "stream",
          "name": "stdout",
          "text": [
            "Epoch 3 elapsed: 28.091s\n",
            "\t \u001b[32mtrain_loss: 0.3449\u001b[0m\n"
          ]
        },
        {
          "output_type": "stream",
          "name": "stderr",
          "text": [
            "eval_pred: 100%|██████████| 3/3 [00:00<00:00, 180.69it/s]\n",
            "eval_rec: 100%|██████████| 610/610 [00:00<00:00, 1454.32it/s]\n"
          ]
        },
        {
          "output_type": "stream",
          "name": "stdout",
          "text": [
            "\t eval log_loss: 0.4999\n",
            "\t eval roc_auc: 0.8463\n",
            "\t eval precision@10: 0.0334\n",
            "\t eval recall@10: 0.0329\n",
            "\t eval map@10: 0.0849\n",
            "\t eval ndcg@10: 0.1255\n",
            "==============================\n",
            "With lr_decay, epoch 4 learning rate: 0.0007827577646821737\n"
          ]
        },
        {
          "output_type": "stream",
          "name": "stderr",
          "text": [
            "train: 100%|██████████| 631/631 [00:28<00:00, 22.14it/s]\n"
          ]
        },
        {
          "output_type": "stream",
          "name": "stdout",
          "text": [
            "Epoch 4 elapsed: 28.550s\n",
            "\t \u001b[32mtrain_loss: 0.2871\u001b[0m\n"
          ]
        },
        {
          "output_type": "stream",
          "name": "stderr",
          "text": [
            "eval_pred: 100%|██████████| 3/3 [00:00<00:00, 132.10it/s]\n",
            "eval_rec: 100%|██████████| 610/610 [00:00<00:00, 1688.88it/s]\n"
          ]
        },
        {
          "output_type": "stream",
          "name": "stdout",
          "text": [
            "\t eval log_loss: 0.5319\n",
            "\t eval roc_auc: 0.8449\n",
            "\t eval precision@10: 0.0310\n",
            "\t eval recall@10: 0.0300\n",
            "\t eval map@10: 0.0741\n",
            "\t eval ndcg@10: 0.1129\n",
            "==============================\n",
            "With lr_decay, epoch 5 learning rate: 0.000721389485988766\n"
          ]
        },
        {
          "output_type": "stream",
          "name": "stderr",
          "text": [
            "train: 100%|██████████| 631/631 [00:28<00:00, 22.31it/s]\n"
          ]
        },
        {
          "output_type": "stream",
          "name": "stdout",
          "text": [
            "Epoch 5 elapsed: 28.333s\n",
            "\t \u001b[32mtrain_loss: 0.2419\u001b[0m\n"
          ]
        },
        {
          "output_type": "stream",
          "name": "stderr",
          "text": [
            "eval_pred: 100%|██████████| 3/3 [00:00<00:00, 208.52it/s]\n",
            "eval_rec: 100%|██████████| 610/610 [00:00<00:00, 1726.70it/s]\n"
          ]
        },
        {
          "output_type": "stream",
          "name": "stdout",
          "text": [
            "\t eval log_loss: 0.5772\n",
            "\t eval roc_auc: 0.8416\n",
            "\t eval precision@10: 0.0328\n",
            "\t eval recall@10: 0.0346\n",
            "\t eval map@10: 0.0797\n",
            "\t eval ndcg@10: 0.1207\n",
            "==============================\n",
            "With lr_decay, epoch 6 learning rate: 0.0006648324779234827\n"
          ]
        },
        {
          "output_type": "stream",
          "name": "stderr",
          "text": [
            "train: 100%|██████████| 631/631 [00:28<00:00, 22.13it/s]\n"
          ]
        },
        {
          "output_type": "stream",
          "name": "stdout",
          "text": [
            "Epoch 6 elapsed: 28.576s\n",
            "\t \u001b[32mtrain_loss: 0.2048\u001b[0m\n"
          ]
        },
        {
          "output_type": "stream",
          "name": "stderr",
          "text": [
            "eval_pred: 100%|██████████| 3/3 [00:00<00:00, 191.54it/s]\n",
            "eval_rec: 100%|██████████| 610/610 [00:00<00:00, 1562.74it/s]\n"
          ]
        },
        {
          "output_type": "stream",
          "name": "stdout",
          "text": [
            "\t eval log_loss: 0.6181\n",
            "\t eval roc_auc: 0.8373\n",
            "\t eval precision@10: 0.0302\n",
            "\t eval recall@10: 0.0326\n",
            "\t eval map@10: 0.0779\n",
            "\t eval ndcg@10: 0.1156\n",
            "==============================\n",
            "With lr_decay, epoch 7 learning rate: 0.0006127096130512655\n"
          ]
        },
        {
          "output_type": "stream",
          "name": "stderr",
          "text": [
            "train: 100%|██████████| 631/631 [00:28<00:00, 22.06it/s]\n"
          ]
        },
        {
          "output_type": "stream",
          "name": "stdout",
          "text": [
            "Epoch 7 elapsed: 28.645s\n",
            "\t \u001b[32mtrain_loss: 0.1738\u001b[0m\n"
          ]
        },
        {
          "output_type": "stream",
          "name": "stderr",
          "text": [
            "eval_pred: 100%|██████████| 3/3 [00:00<00:00, 191.42it/s]\n",
            "eval_rec: 100%|██████████| 610/610 [00:00<00:00, 1624.70it/s]\n"
          ]
        },
        {
          "output_type": "stream",
          "name": "stdout",
          "text": [
            "\t eval log_loss: 0.6627\n",
            "\t eval roc_auc: 0.8328\n",
            "\t eval precision@10: 0.0339\n",
            "\t eval recall@10: 0.0347\n",
            "\t eval map@10: 0.0819\n",
            "\t eval ndcg@10: 0.1230\n",
            "==============================\n",
            "With lr_decay, epoch 8 learning rate: 0.0005646731588058174\n"
          ]
        },
        {
          "output_type": "stream",
          "name": "stderr",
          "text": [
            "train: 100%|██████████| 631/631 [00:28<00:00, 22.22it/s]\n"
          ]
        },
        {
          "output_type": "stream",
          "name": "stdout",
          "text": [
            "Epoch 8 elapsed: 28.442s\n",
            "\t \u001b[32mtrain_loss: 0.1503\u001b[0m\n"
          ]
        },
        {
          "output_type": "stream",
          "name": "stderr",
          "text": [
            "eval_pred: 100%|██████████| 3/3 [00:00<00:00, 161.45it/s]\n",
            "eval_rec: 100%|██████████| 610/610 [00:00<00:00, 1669.03it/s]\n"
          ]
        },
        {
          "output_type": "stream",
          "name": "stdout",
          "text": [
            "\t eval log_loss: 0.7225\n",
            "\t eval roc_auc: 0.8317\n",
            "\t eval precision@10: 0.0328\n",
            "\t eval recall@10: 0.0340\n",
            "\t eval map@10: 0.0774\n",
            "\t eval ndcg@10: 0.1176\n",
            "==============================\n",
            "With lr_decay, epoch 9 learning rate: 0.0005204027402214706\n"
          ]
        },
        {
          "output_type": "stream",
          "name": "stderr",
          "text": [
            "train: 100%|██████████| 631/631 [00:28<00:00, 22.29it/s]\n"
          ]
        },
        {
          "output_type": "stream",
          "name": "stdout",
          "text": [
            "Epoch 9 elapsed: 28.359s\n",
            "\t \u001b[32mtrain_loss: 0.1297\u001b[0m\n"
          ]
        },
        {
          "output_type": "stream",
          "name": "stderr",
          "text": [
            "eval_pred: 100%|██████████| 3/3 [00:00<00:00, 178.52it/s]\n",
            "eval_rec: 100%|██████████| 610/610 [00:00<00:00, 1402.04it/s]\n"
          ]
        },
        {
          "output_type": "stream",
          "name": "stdout",
          "text": [
            "\t eval log_loss: 0.7617\n",
            "\t eval roc_auc: 0.8273\n",
            "\t eval precision@10: 0.0328\n",
            "\t eval recall@10: 0.0344\n",
            "\t eval map@10: 0.0802\n",
            "\t eval ndcg@10: 0.1213\n",
            "==============================\n",
            "With lr_decay, epoch 10 learning rate: 0.0004796031571459025\n"
          ]
        },
        {
          "output_type": "stream",
          "name": "stderr",
          "text": [
            "train: 100%|██████████| 631/631 [00:28<00:00, 22.25it/s]\n"
          ]
        },
        {
          "output_type": "stream",
          "name": "stdout",
          "text": [
            "Epoch 10 elapsed: 28.410s\n",
            "\t \u001b[32mtrain_loss: 0.114\u001b[0m\n"
          ]
        },
        {
          "output_type": "stream",
          "name": "stderr",
          "text": [
            "eval_pred: 100%|██████████| 3/3 [00:00<00:00, 184.81it/s]\n",
            "eval_rec: 100%|██████████| 610/610 [00:00<00:00, 1444.72it/s]\n"
          ]
        },
        {
          "output_type": "stream",
          "name": "stdout",
          "text": [
            "\t eval log_loss: 0.8007\n",
            "\t eval roc_auc: 0.8236\n",
            "\t eval precision@10: 0.0328\n",
            "\t eval recall@10: 0.0332\n",
            "\t eval map@10: 0.0760\n",
            "\t eval ndcg@10: 0.1165\n",
            "==============================\n"
          ]
        },
        {
          "output_type": "stream",
          "name": "stderr",
          "text": [
            "eval_pred: 100%|██████████| 3/3 [00:00<00:00, 292.99it/s]\n",
            "eval_rec: 100%|██████████| 608/608 [00:00<00:00, 1639.92it/s]\n"
          ]
        },
        {
          "output_type": "display_data",
          "data": {
            "text/plain": [
              "<IPython.core.display.HTML object>"
            ],
            "text/html": [
              "Waiting for W&B process to finish... <strong style=\"color:green\">(success).</strong>"
            ]
          },
          "metadata": {}
        },
        {
          "output_type": "display_data",
          "data": {
            "text/plain": [
              "<IPython.core.display.HTML object>"
            ],
            "text/html": [
              "<style>\n",
              "    table.wandb td:nth-child(1) { padding: 0 10px; text-align: left ; width: auto;} td:nth-child(2) {text-align: left ; width: 100%}\n",
              "    .wandb-row { display: flex; flex-direction: row; flex-wrap: wrap; justify-content: flex-start; width: 100% }\n",
              "    .wandb-col { display: flex; flex-direction: column; flex-basis: 100%; flex: 1; padding: 10px; }\n",
              "    </style>\n",
              "<div class=\"wandb-row\"><div class=\"wandb-col\"><h3>Run history:</h3><br/><table class=\"wandb\"><tr><td>epoch</td><td>▁▂▃▃▄▅▆▆▇█</td></tr><tr><td>log_loss</td><td>▁▁▁▂▃▄▅▆▇█</td></tr><tr><td>loss</td><td>▁</td></tr><tr><td>map</td><td>▁</td></tr><tr><td>map@10</td><td>▁▂█▂▅▄▆▄▆▃</td></tr><tr><td>ndcg</td><td>▁</td></tr><tr><td>ndcg@10</td><td>▁▂█▃▆▄▇▅▆▅</td></tr><tr><td>precision</td><td>▁</td></tr><tr><td>precision@10</td><td>▁▃▇▃▆▁█▆▆▆</td></tr><tr><td>recall</td><td>▁</td></tr><tr><td>recall@10</td><td>▄▁▆▂█▅█▇█▆</td></tr><tr><td>roc_auc</td><td>▇███▇▇▆▆▅▅▁</td></tr><tr><td>train_loss</td><td>█▆▅▄▃▃▂▂▁▁</td></tr></table><br/></div><div class=\"wandb-col\"><h3>Run summary:</h3><br/><table class=\"wandb\"><tr><td>epoch</td><td>10</td></tr><tr><td>log_loss</td><td>0.80066</td></tr><tr><td>loss</td><td>0.92871</td></tr><tr><td>map</td><td>0.05996</td></tr><tr><td>map@10</td><td>0.07598</td></tr><tr><td>ndcg</td><td>0.08875</td></tr><tr><td>ndcg@10</td><td>0.11652</td></tr><tr><td>precision</td><td>0.02434</td></tr><tr><td>precision@10</td><td>0.03279</td></tr><tr><td>recall</td><td>0.02654</td></tr><tr><td>recall@10</td><td>0.03316</td></tr><tr><td>roc_auc</td><td>0.7936</td></tr><tr><td>train_loss</td><td>0.114</td></tr></table><br/></div></div>"
            ]
          },
          "metadata": {}
        },
        {
          "output_type": "display_data",
          "data": {
            "text/plain": [
              "<IPython.core.display.HTML object>"
            ],
            "text/html": [
              "Synced <strong style=\"color:#cdcd00\">ruby-sweep-13</strong>: <a href=\"https://wandb.ai/iloncka-ds/recsys-app/runs/uj66qbj6\" target=\"_blank\">https://wandb.ai/iloncka-ds/recsys-app/runs/uj66qbj6</a><br/>Synced 5 W&B file(s), 0 media file(s), 0 artifact file(s) and 0 other file(s)"
            ]
          },
          "metadata": {}
        },
        {
          "output_type": "display_data",
          "data": {
            "text/plain": [
              "<IPython.core.display.HTML object>"
            ],
            "text/html": [
              "Find logs at: <code>./wandb/run-20221106_162819-uj66qbj6/logs</code>"
            ]
          },
          "metadata": {}
        },
        {
          "output_type": "stream",
          "name": "stderr",
          "text": [
            "\u001b[34m\u001b[1mwandb\u001b[0m: Agent Starting Run: 8z39j5ov with config:\n",
            "\u001b[34m\u001b[1mwandb\u001b[0m: \tbatch_size: 256\n",
            "\u001b[34m\u001b[1mwandb\u001b[0m: \tembed_size: 16\n",
            "\u001b[34m\u001b[1mwandb\u001b[0m: \tlr: 0.01\n",
            "\u001b[34m\u001b[1mwandb\u001b[0m: \tn_epochs: 5\n"
          ]
        },
        {
          "output_type": "display_data",
          "data": {
            "text/plain": [
              "<IPython.core.display.HTML object>"
            ],
            "text/html": [
              "Tracking run with wandb version 0.13.5"
            ]
          },
          "metadata": {}
        },
        {
          "output_type": "display_data",
          "data": {
            "text/plain": [
              "<IPython.core.display.HTML object>"
            ],
            "text/html": [
              "Run data is saved locally in <code>/content/wandb/run-20221106_163335-8z39j5ov</code>"
            ]
          },
          "metadata": {}
        },
        {
          "output_type": "display_data",
          "data": {
            "text/plain": [
              "<IPython.core.display.HTML object>"
            ],
            "text/html": [
              "Syncing run <strong><a href=\"https://wandb.ai/iloncka-ds/recsys-app/runs/8z39j5ov\" target=\"_blank\">blooming-sweep-14</a></strong> to <a href=\"https://wandb.ai/iloncka-ds/recsys-app\" target=\"_blank\">Weights & Biases</a> (<a href=\"https://wandb.me/run\" target=\"_blank\">docs</a>)<br/>Sweep page:  <a href=\"https://wandb.ai/iloncka-ds/recsys-app/sweeps/1xnmnsi1\" target=\"_blank\">https://wandb.ai/iloncka-ds/recsys-app/sweeps/1xnmnsi1</a>"
            ]
          },
          "metadata": {}
        },
        {
          "output_type": "stream",
          "name": "stdout",
          "text": [
            "total params: \u001b[33m416,573\u001b[0m | embedding params: \u001b[33m413,429\u001b[0m | network params: \u001b[33m3,144\u001b[0m\n",
            "Training start time: \u001b[35m2022-11-06 16:33:42\u001b[0m\n",
            "With lr_decay, epoch 1 learning rate: 0.009999999776482582\n"
          ]
        },
        {
          "output_type": "stream",
          "name": "stderr",
          "text": [
            "train: 100%|██████████| 631/631 [00:21<00:00, 29.52it/s]\n"
          ]
        },
        {
          "output_type": "stream",
          "name": "stdout",
          "text": [
            "Epoch 1 elapsed: 21.429s\n",
            "\t \u001b[32mtrain_loss: 0.4893\u001b[0m\n"
          ]
        },
        {
          "output_type": "stream",
          "name": "stderr",
          "text": [
            "eval_pred: 100%|██████████| 3/3 [00:00<00:00, 200.49it/s]\n",
            "eval_rec: 100%|██████████| 610/610 [00:00<00:00, 1710.47it/s]\n"
          ]
        },
        {
          "output_type": "stream",
          "name": "stdout",
          "text": [
            "\t eval log_loss: 0.4966\n",
            "\t eval roc_auc: 0.8434\n",
            "\t eval precision@10: 0.0311\n",
            "\t eval recall@10: 0.0327\n",
            "\t eval map@10: 0.0754\n",
            "\t eval ndcg@10: 0.1144\n",
            "==============================\n",
            "With lr_decay, epoch 2 learning rate: 0.009215999394655228\n"
          ]
        },
        {
          "output_type": "stream",
          "name": "stderr",
          "text": [
            "train: 100%|██████████| 631/631 [00:21<00:00, 29.72it/s]\n"
          ]
        },
        {
          "output_type": "stream",
          "name": "stdout",
          "text": [
            "Epoch 2 elapsed: 21.306s\n",
            "\t \u001b[32mtrain_loss: 0.29\u001b[0m\n"
          ]
        },
        {
          "output_type": "stream",
          "name": "stderr",
          "text": [
            "eval_pred: 100%|██████████| 3/3 [00:00<00:00, 161.54it/s]\n",
            "eval_rec: 100%|██████████| 610/610 [00:00<00:00, 2041.91it/s]\n"
          ]
        },
        {
          "output_type": "stream",
          "name": "stdout",
          "text": [
            "\t eval log_loss: 0.5635\n",
            "\t eval roc_auc: 0.8302\n",
            "\t eval precision@10: 0.0295\n",
            "\t eval recall@10: 0.0317\n",
            "\t eval map@10: 0.0784\n",
            "\t eval ndcg@10: 0.1153\n",
            "==============================\n",
            "With lr_decay, epoch 3 learning rate: 0.008493464440107346\n"
          ]
        },
        {
          "output_type": "stream",
          "name": "stderr",
          "text": [
            "train: 100%|██████████| 631/631 [00:20<00:00, 30.30it/s]\n"
          ]
        },
        {
          "output_type": "stream",
          "name": "stdout",
          "text": [
            "Epoch 3 elapsed: 20.873s\n",
            "\t \u001b[32mtrain_loss: 0.1489\u001b[0m\n"
          ]
        },
        {
          "output_type": "stream",
          "name": "stderr",
          "text": [
            "eval_pred: 100%|██████████| 3/3 [00:00<00:00, 201.48it/s]\n",
            "eval_rec: 100%|██████████| 610/610 [00:00<00:00, 1670.19it/s]\n"
          ]
        },
        {
          "output_type": "stream",
          "name": "stdout",
          "text": [
            "\t eval log_loss: 0.6857\n",
            "\t eval roc_auc: 0.8166\n",
            "\t eval precision@10: 0.0233\n",
            "\t eval recall@10: 0.0229\n",
            "\t eval map@10: 0.0738\n",
            "\t eval ndcg@10: 0.1017\n",
            "==============================\n",
            "With lr_decay, epoch 4 learning rate: 0.00782757718116045\n"
          ]
        },
        {
          "output_type": "stream",
          "name": "stderr",
          "text": [
            "train: 100%|██████████| 631/631 [00:20<00:00, 30.41it/s]\n"
          ]
        },
        {
          "output_type": "stream",
          "name": "stdout",
          "text": [
            "Epoch 4 elapsed: 20.803s\n",
            "\t \u001b[32mtrain_loss: 0.083\u001b[0m\n"
          ]
        },
        {
          "output_type": "stream",
          "name": "stderr",
          "text": [
            "eval_pred: 100%|██████████| 3/3 [00:00<00:00, 240.97it/s]\n",
            "eval_rec: 100%|██████████| 610/610 [00:00<00:00, 1658.21it/s]\n"
          ]
        },
        {
          "output_type": "stream",
          "name": "stdout",
          "text": [
            "\t eval log_loss: 0.8139\n",
            "\t eval roc_auc: 0.8166\n",
            "\t eval precision@10: 0.0249\n",
            "\t eval recall@10: 0.0244\n",
            "\t eval map@10: 0.0679\n",
            "\t eval ndcg@10: 0.0982\n",
            "==============================\n",
            "With lr_decay, epoch 5 learning rate: 0.007213894743472338\n"
          ]
        },
        {
          "output_type": "stream",
          "name": "stderr",
          "text": [
            "train: 100%|██████████| 631/631 [00:20<00:00, 30.35it/s]\n"
          ]
        },
        {
          "output_type": "stream",
          "name": "stdout",
          "text": [
            "Epoch 5 elapsed: 20.849s\n",
            "\t \u001b[32mtrain_loss: 0.0498\u001b[0m\n"
          ]
        },
        {
          "output_type": "stream",
          "name": "stderr",
          "text": [
            "eval_pred: 100%|██████████| 3/3 [00:00<00:00, 143.45it/s]\n",
            "eval_rec: 100%|██████████| 610/610 [00:00<00:00, 1847.65it/s]\n"
          ]
        },
        {
          "output_type": "stream",
          "name": "stdout",
          "text": [
            "\t eval log_loss: 0.9746\n",
            "\t eval roc_auc: 0.8152\n",
            "\t eval precision@10: 0.0274\n",
            "\t eval recall@10: 0.0273\n",
            "\t eval map@10: 0.0664\n",
            "\t eval ndcg@10: 0.1019\n",
            "==============================\n"
          ]
        },
        {
          "output_type": "stream",
          "name": "stderr",
          "text": [
            "eval_pred: 100%|██████████| 3/3 [00:00<00:00, 225.99it/s]\n",
            "eval_rec: 100%|██████████| 608/608 [00:00<00:00, 1801.90it/s]\n"
          ]
        },
        {
          "output_type": "display_data",
          "data": {
            "text/plain": [
              "<IPython.core.display.HTML object>"
            ],
            "text/html": [
              "Waiting for W&B process to finish... <strong style=\"color:green\">(success).</strong>"
            ]
          },
          "metadata": {}
        },
        {
          "output_type": "display_data",
          "data": {
            "text/plain": [
              "VBox(children=(Label(value='0.001 MB of 0.001 MB uploaded (0.000 MB deduped)\\r'), FloatProgress(value=1.0, max…"
            ],
            "application/vnd.jupyter.widget-view+json": {
              "version_major": 2,
              "version_minor": 0,
              "model_id": "03fae3ab64ee429ab61432db94a4a748"
            }
          },
          "metadata": {}
        },
        {
          "output_type": "display_data",
          "data": {
            "text/plain": [
              "<IPython.core.display.HTML object>"
            ],
            "text/html": [
              "<style>\n",
              "    table.wandb td:nth-child(1) { padding: 0 10px; text-align: left ; width: auto;} td:nth-child(2) {text-align: left ; width: 100%}\n",
              "    .wandb-row { display: flex; flex-direction: row; flex-wrap: wrap; justify-content: flex-start; width: 100% }\n",
              "    .wandb-col { display: flex; flex-direction: column; flex-basis: 100%; flex: 1; padding: 10px; }\n",
              "    </style>\n",
              "<div class=\"wandb-row\"><div class=\"wandb-col\"><h3>Run history:</h3><br/><table class=\"wandb\"><tr><td>epoch</td><td>▁▃▅▆█</td></tr><tr><td>log_loss</td><td>▁▂▄▆█</td></tr><tr><td>loss</td><td>▁</td></tr><tr><td>map</td><td>▁</td></tr><tr><td>map@10</td><td>▆█▅▂▁</td></tr><tr><td>ndcg</td><td>▁</td></tr><tr><td>ndcg@10</td><td>██▂▁▃</td></tr><tr><td>precision</td><td>▁</td></tr><tr><td>precision@10</td><td>█▇▁▂▅</td></tr><tr><td>recall</td><td>▁</td></tr><tr><td>recall@10</td><td>█▇▁▂▄</td></tr><tr><td>roc_auc</td><td>█▇▅▅▅▁</td></tr><tr><td>train_loss</td><td>█▅▃▂▁</td></tr></table><br/></div><div class=\"wandb-col\"><h3>Run summary:</h3><br/><table class=\"wandb\"><tr><td>epoch</td><td>5</td></tr><tr><td>log_loss</td><td>0.97455</td></tr><tr><td>loss</td><td>1.17247</td></tr><tr><td>map</td><td>0.06069</td></tr><tr><td>map@10</td><td>0.06645</td></tr><tr><td>ndcg</td><td>0.09197</td></tr><tr><td>ndcg@10</td><td>0.10194</td></tr><tr><td>precision</td><td>0.02385</td></tr><tr><td>precision@10</td><td>0.02738</td></tr><tr><td>recall</td><td>0.02626</td></tr><tr><td>recall@10</td><td>0.02731</td></tr><tr><td>roc_auc</td><td>0.78087</td></tr><tr><td>train_loss</td><td>0.0498</td></tr></table><br/></div></div>"
            ]
          },
          "metadata": {}
        },
        {
          "output_type": "display_data",
          "data": {
            "text/plain": [
              "<IPython.core.display.HTML object>"
            ],
            "text/html": [
              "Synced <strong style=\"color:#cdcd00\">blooming-sweep-14</strong>: <a href=\"https://wandb.ai/iloncka-ds/recsys-app/runs/8z39j5ov\" target=\"_blank\">https://wandb.ai/iloncka-ds/recsys-app/runs/8z39j5ov</a><br/>Synced 5 W&B file(s), 0 media file(s), 0 artifact file(s) and 0 other file(s)"
            ]
          },
          "metadata": {}
        },
        {
          "output_type": "display_data",
          "data": {
            "text/plain": [
              "<IPython.core.display.HTML object>"
            ],
            "text/html": [
              "Find logs at: <code>./wandb/run-20221106_163335-8z39j5ov/logs</code>"
            ]
          },
          "metadata": {}
        },
        {
          "output_type": "stream",
          "name": "stderr",
          "text": [
            "\u001b[34m\u001b[1mwandb\u001b[0m: Agent Starting Run: v30pprqc with config:\n",
            "\u001b[34m\u001b[1mwandb\u001b[0m: \tbatch_size: 128\n",
            "\u001b[34m\u001b[1mwandb\u001b[0m: \tembed_size: 32\n",
            "\u001b[34m\u001b[1mwandb\u001b[0m: \tlr: 0.0001\n",
            "\u001b[34m\u001b[1mwandb\u001b[0m: \tn_epochs: 5\n"
          ]
        },
        {
          "output_type": "display_data",
          "data": {
            "text/plain": [
              "<IPython.core.display.HTML object>"
            ],
            "text/html": [
              "Tracking run with wandb version 0.13.5"
            ]
          },
          "metadata": {}
        },
        {
          "output_type": "display_data",
          "data": {
            "text/plain": [
              "<IPython.core.display.HTML object>"
            ],
            "text/html": [
              "Run data is saved locally in <code>/content/wandb/run-20221106_163543-v30pprqc</code>"
            ]
          },
          "metadata": {}
        },
        {
          "output_type": "display_data",
          "data": {
            "text/plain": [
              "<IPython.core.display.HTML object>"
            ],
            "text/html": [
              "Syncing run <strong><a href=\"https://wandb.ai/iloncka-ds/recsys-app/runs/v30pprqc\" target=\"_blank\">icy-sweep-15</a></strong> to <a href=\"https://wandb.ai/iloncka-ds/recsys-app\" target=\"_blank\">Weights & Biases</a> (<a href=\"https://wandb.me/run\" target=\"_blank\">docs</a>)<br/>Sweep page:  <a href=\"https://wandb.ai/iloncka-ds/recsys-app/sweeps/1xnmnsi1\" target=\"_blank\">https://wandb.ai/iloncka-ds/recsys-app/sweeps/1xnmnsi1</a>"
            ]
          },
          "metadata": {}
        },
        {
          "output_type": "stream",
          "name": "stdout",
          "text": [
            "total params: \u001b[33m826,893\u001b[0m | embedding params: \u001b[33m818,597\u001b[0m | network params: \u001b[33m8,296\u001b[0m\n",
            "Training start time: \u001b[35m2022-11-06 16:35:50\u001b[0m\n",
            "With lr_decay, epoch 1 learning rate: 9.999999747378752e-05\n"
          ]
        },
        {
          "output_type": "stream",
          "name": "stderr",
          "text": [
            "train: 100%|██████████| 1261/1261 [00:39<00:00, 31.76it/s]\n"
          ]
        },
        {
          "output_type": "stream",
          "name": "stdout",
          "text": [
            "Epoch 1 elapsed: 39.752s\n",
            "\t \u001b[32mtrain_loss: 0.6041\u001b[0m\n"
          ]
        },
        {
          "output_type": "stream",
          "name": "stderr",
          "text": [
            "eval_pred: 100%|██████████| 3/3 [00:00<00:00, 174.73it/s]\n",
            "eval_rec: 100%|██████████| 610/610 [00:00<00:00, 1622.41it/s]\n"
          ]
        },
        {
          "output_type": "stream",
          "name": "stdout",
          "text": [
            "\t eval log_loss: 0.5158\n",
            "\t eval roc_auc: 0.8297\n",
            "\t eval precision@10: 0.0398\n",
            "\t eval recall@10: 0.0403\n",
            "\t eval map@10: 0.0873\n",
            "\t eval ndcg@10: 0.1293\n",
            "==============================\n",
            "With lr_decay, epoch 2 learning rate: 9.215999307343736e-05\n"
          ]
        },
        {
          "output_type": "stream",
          "name": "stderr",
          "text": [
            "train: 100%|██████████| 1261/1261 [00:39<00:00, 32.12it/s]\n"
          ]
        },
        {
          "output_type": "stream",
          "name": "stdout",
          "text": [
            "Epoch 2 elapsed: 39.306s\n",
            "\t \u001b[32mtrain_loss: 0.4571\u001b[0m\n"
          ]
        },
        {
          "output_type": "stream",
          "name": "stderr",
          "text": [
            "eval_pred: 100%|██████████| 3/3 [00:00<00:00, 145.87it/s]\n",
            "eval_rec: 100%|██████████| 610/610 [00:00<00:00, 1606.51it/s]\n"
          ]
        },
        {
          "output_type": "stream",
          "name": "stdout",
          "text": [
            "\t eval log_loss: 0.4965\n",
            "\t eval roc_auc: 0.8428\n",
            "\t eval precision@10: 0.0351\n",
            "\t eval recall@10: 0.0345\n",
            "\t eval map@10: 0.0834\n",
            "\t eval ndcg@10: 0.1207\n",
            "==============================\n",
            "With lr_decay, epoch 3 learning rate: 8.49346470204182e-05\n"
          ]
        },
        {
          "output_type": "stream",
          "name": "stderr",
          "text": [
            "train: 100%|██████████| 1261/1261 [00:38<00:00, 32.73it/s]\n"
          ]
        },
        {
          "output_type": "stream",
          "name": "stdout",
          "text": [
            "Epoch 3 elapsed: 38.584s\n",
            "\t \u001b[32mtrain_loss: 0.4321\u001b[0m\n"
          ]
        },
        {
          "output_type": "stream",
          "name": "stderr",
          "text": [
            "eval_pred: 100%|██████████| 3/3 [00:00<00:00, 149.13it/s]\n",
            "eval_rec: 100%|██████████| 610/610 [00:00<00:00, 1560.14it/s]\n"
          ]
        },
        {
          "output_type": "stream",
          "name": "stdout",
          "text": [
            "\t eval log_loss: 0.4933\n",
            "\t eval roc_auc: 0.8453\n",
            "\t eval precision@10: 0.0343\n",
            "\t eval recall@10: 0.0348\n",
            "\t eval map@10: 0.0811\n",
            "\t eval ndcg@10: 0.1193\n",
            "==============================\n",
            "With lr_decay, epoch 4 learning rate: 7.827577064745128e-05\n"
          ]
        },
        {
          "output_type": "stream",
          "name": "stderr",
          "text": [
            "train: 100%|██████████| 1261/1261 [00:38<00:00, 32.56it/s]\n"
          ]
        },
        {
          "output_type": "stream",
          "name": "stdout",
          "text": [
            "Epoch 4 elapsed: 38.780s\n",
            "\t \u001b[32mtrain_loss: 0.4181\u001b[0m\n"
          ]
        },
        {
          "output_type": "stream",
          "name": "stderr",
          "text": [
            "eval_pred: 100%|██████████| 3/3 [00:00<00:00, 184.99it/s]\n",
            "eval_rec: 100%|██████████| 610/610 [00:00<00:00, 1643.57it/s]\n"
          ]
        },
        {
          "output_type": "stream",
          "name": "stdout",
          "text": [
            "\t eval log_loss: 0.4962\n",
            "\t eval roc_auc: 0.8445\n",
            "\t eval precision@10: 0.0348\n",
            "\t eval recall@10: 0.0353\n",
            "\t eval map@10: 0.0816\n",
            "\t eval ndcg@10: 0.1209\n",
            "==============================\n",
            "With lr_decay, epoch 5 learning rate: 7.213894423330203e-05\n"
          ]
        },
        {
          "output_type": "stream",
          "name": "stderr",
          "text": [
            "train: 100%|██████████| 1261/1261 [00:38<00:00, 32.93it/s]\n"
          ]
        },
        {
          "output_type": "stream",
          "name": "stdout",
          "text": [
            "Epoch 5 elapsed: 38.337s\n",
            "\t \u001b[32mtrain_loss: 0.4084\u001b[0m\n"
          ]
        },
        {
          "output_type": "stream",
          "name": "stderr",
          "text": [
            "eval_pred: 100%|██████████| 3/3 [00:00<00:00, 170.60it/s]\n",
            "eval_rec: 100%|██████████| 610/610 [00:00<00:00, 1641.52it/s]\n"
          ]
        },
        {
          "output_type": "stream",
          "name": "stdout",
          "text": [
            "\t eval log_loss: 0.5010\n",
            "\t eval roc_auc: 0.8432\n",
            "\t eval precision@10: 0.0316\n",
            "\t eval recall@10: 0.0310\n",
            "\t eval map@10: 0.0772\n",
            "\t eval ndcg@10: 0.1141\n",
            "==============================\n"
          ]
        },
        {
          "output_type": "stream",
          "name": "stderr",
          "text": [
            "eval_pred: 100%|██████████| 3/3 [00:00<00:00, 224.15it/s]\n",
            "eval_rec: 100%|██████████| 608/608 [00:00<00:00, 1528.19it/s]\n"
          ]
        },
        {
          "output_type": "display_data",
          "data": {
            "text/plain": [
              "<IPython.core.display.HTML object>"
            ],
            "text/html": [
              "Waiting for W&B process to finish... <strong style=\"color:green\">(success).</strong>"
            ]
          },
          "metadata": {}
        },
        {
          "output_type": "display_data",
          "data": {
            "text/plain": [
              "VBox(children=(Label(value='0.001 MB of 0.001 MB uploaded (0.000 MB deduped)\\r'), FloatProgress(value=1.0, max…"
            ],
            "application/vnd.jupyter.widget-view+json": {
              "version_major": 2,
              "version_minor": 0,
              "model_id": "7f625110af8246cb90a7533f6be30bc0"
            }
          },
          "metadata": {}
        },
        {
          "output_type": "display_data",
          "data": {
            "text/plain": [
              "<IPython.core.display.HTML object>"
            ],
            "text/html": [
              "<style>\n",
              "    table.wandb td:nth-child(1) { padding: 0 10px; text-align: left ; width: auto;} td:nth-child(2) {text-align: left ; width: 100%}\n",
              "    .wandb-row { display: flex; flex-direction: row; flex-wrap: wrap; justify-content: flex-start; width: 100% }\n",
              "    .wandb-col { display: flex; flex-direction: column; flex-basis: 100%; flex: 1; padding: 10px; }\n",
              "    </style>\n",
              "<div class=\"wandb-row\"><div class=\"wandb-col\"><h3>Run history:</h3><br/><table class=\"wandb\"><tr><td>epoch</td><td>▁▃▅▆█</td></tr><tr><td>log_loss</td><td>█▂▁▂▃</td></tr><tr><td>loss</td><td>▁</td></tr><tr><td>map</td><td>▁</td></tr><tr><td>map@10</td><td>█▅▄▄▁</td></tr><tr><td>ndcg</td><td>▁</td></tr><tr><td>ndcg@10</td><td>█▄▃▄▁</td></tr><tr><td>precision</td><td>▁</td></tr><tr><td>precision@10</td><td>█▄▃▄▁</td></tr><tr><td>recall</td><td>▁</td></tr><tr><td>recall@10</td><td>█▄▄▄▁</td></tr><tr><td>roc_auc</td><td>▃▇██▇▁</td></tr><tr><td>train_loss</td><td>█▃▂▁▁</td></tr></table><br/></div><div class=\"wandb-col\"><h3>Run summary:</h3><br/><table class=\"wandb\"><tr><td>epoch</td><td>5</td></tr><tr><td>log_loss</td><td>0.50104</td></tr><tr><td>loss</td><td>0.53267</td></tr><tr><td>map</td><td>0.072</td></tr><tr><td>map@10</td><td>0.07715</td></tr><tr><td>ndcg</td><td>0.10153</td></tr><tr><td>ndcg@10</td><td>0.1141</td></tr><tr><td>precision</td><td>0.02582</td></tr><tr><td>precision@10</td><td>0.03164</td></tr><tr><td>recall</td><td>0.02358</td></tr><tr><td>recall@10</td><td>0.03096</td></tr><tr><td>roc_auc</td><td>0.82469</td></tr><tr><td>train_loss</td><td>0.4084</td></tr></table><br/></div></div>"
            ]
          },
          "metadata": {}
        },
        {
          "output_type": "display_data",
          "data": {
            "text/plain": [
              "<IPython.core.display.HTML object>"
            ],
            "text/html": [
              "Synced <strong style=\"color:#cdcd00\">icy-sweep-15</strong>: <a href=\"https://wandb.ai/iloncka-ds/recsys-app/runs/v30pprqc\" target=\"_blank\">https://wandb.ai/iloncka-ds/recsys-app/runs/v30pprqc</a><br/>Synced 5 W&B file(s), 0 media file(s), 0 artifact file(s) and 0 other file(s)"
            ]
          },
          "metadata": {}
        },
        {
          "output_type": "display_data",
          "data": {
            "text/plain": [
              "<IPython.core.display.HTML object>"
            ],
            "text/html": [
              "Find logs at: <code>./wandb/run-20221106_163543-v30pprqc/logs</code>"
            ]
          },
          "metadata": {}
        },
        {
          "output_type": "stream",
          "name": "stderr",
          "text": [
            "\u001b[34m\u001b[1mwandb\u001b[0m: Agent Starting Run: ccj93xjk with config:\n",
            "\u001b[34m\u001b[1mwandb\u001b[0m: \tbatch_size: 128\n",
            "\u001b[34m\u001b[1mwandb\u001b[0m: \tembed_size: 32\n",
            "\u001b[34m\u001b[1mwandb\u001b[0m: \tlr: 0.001\n",
            "\u001b[34m\u001b[1mwandb\u001b[0m: \tn_epochs: 5\n"
          ]
        },
        {
          "output_type": "display_data",
          "data": {
            "text/plain": [
              "<IPython.core.display.HTML object>"
            ],
            "text/html": [
              "Tracking run with wandb version 0.13.5"
            ]
          },
          "metadata": {}
        },
        {
          "output_type": "display_data",
          "data": {
            "text/plain": [
              "<IPython.core.display.HTML object>"
            ],
            "text/html": [
              "Run data is saved locally in <code>/content/wandb/run-20221106_163922-ccj93xjk</code>"
            ]
          },
          "metadata": {}
        },
        {
          "output_type": "display_data",
          "data": {
            "text/plain": [
              "<IPython.core.display.HTML object>"
            ],
            "text/html": [
              "Syncing run <strong><a href=\"https://wandb.ai/iloncka-ds/recsys-app/runs/ccj93xjk\" target=\"_blank\">breezy-sweep-16</a></strong> to <a href=\"https://wandb.ai/iloncka-ds/recsys-app\" target=\"_blank\">Weights & Biases</a> (<a href=\"https://wandb.me/run\" target=\"_blank\">docs</a>)<br/>Sweep page:  <a href=\"https://wandb.ai/iloncka-ds/recsys-app/sweeps/1xnmnsi1\" target=\"_blank\">https://wandb.ai/iloncka-ds/recsys-app/sweeps/1xnmnsi1</a>"
            ]
          },
          "metadata": {}
        },
        {
          "output_type": "stream",
          "name": "stdout",
          "text": [
            "total params: \u001b[33m826,893\u001b[0m | embedding params: \u001b[33m818,597\u001b[0m | network params: \u001b[33m8,296\u001b[0m\n",
            "Training start time: \u001b[35m2022-11-06 16:39:29\u001b[0m\n",
            "With lr_decay, epoch 1 learning rate: 0.0010000000474974513\n"
          ]
        },
        {
          "output_type": "stream",
          "name": "stderr",
          "text": [
            "train: 100%|██████████| 1261/1261 [00:40<00:00, 31.44it/s]\n"
          ]
        },
        {
          "output_type": "stream",
          "name": "stdout",
          "text": [
            "Epoch 1 elapsed: 40.164s\n",
            "\t \u001b[32mtrain_loss: 0.5061\u001b[0m\n"
          ]
        },
        {
          "output_type": "stream",
          "name": "stderr",
          "text": [
            "eval_pred: 100%|██████████| 3/3 [00:00<00:00, 169.30it/s]\n",
            "eval_rec: 100%|██████████| 610/610 [00:00<00:00, 1563.42it/s]\n"
          ]
        },
        {
          "output_type": "stream",
          "name": "stdout",
          "text": [
            "\t eval log_loss: 0.5060\n",
            "\t eval roc_auc: 0.8373\n",
            "\t eval precision@10: 0.0303\n",
            "\t eval recall@10: 0.0301\n",
            "\t eval map@10: 0.0687\n",
            "\t eval ndcg@10: 0.1050\n",
            "==============================\n",
            "With lr_decay, epoch 2 learning rate: 0.0009216000325977802\n"
          ]
        },
        {
          "output_type": "stream",
          "name": "stderr",
          "text": [
            "train: 100%|██████████| 1261/1261 [00:38<00:00, 32.39it/s]\n"
          ]
        },
        {
          "output_type": "stream",
          "name": "stdout",
          "text": [
            "Epoch 2 elapsed: 38.986s\n",
            "\t \u001b[32mtrain_loss: 0.3946\u001b[0m\n"
          ]
        },
        {
          "output_type": "stream",
          "name": "stderr",
          "text": [
            "eval_pred: 100%|██████████| 3/3 [00:00<00:00, 162.32it/s]\n",
            "eval_rec: 100%|██████████| 610/610 [00:00<00:00, 1620.35it/s]\n"
          ]
        },
        {
          "output_type": "stream",
          "name": "stdout",
          "text": [
            "\t eval log_loss: 0.4979\n",
            "\t eval roc_auc: 0.8465\n",
            "\t eval precision@10: 0.0331\n",
            "\t eval recall@10: 0.0306\n",
            "\t eval map@10: 0.0759\n",
            "\t eval ndcg@10: 0.1163\n",
            "==============================\n",
            "With lr_decay, epoch 3 learning rate: 0.0008493465138599277\n"
          ]
        },
        {
          "output_type": "stream",
          "name": "stderr",
          "text": [
            "train: 100%|██████████| 1261/1261 [00:38<00:00, 32.74it/s]\n"
          ]
        },
        {
          "output_type": "stream",
          "name": "stdout",
          "text": [
            "Epoch 3 elapsed: 38.574s\n",
            "\t \u001b[32mtrain_loss: 0.3137\u001b[0m\n"
          ]
        },
        {
          "output_type": "stream",
          "name": "stderr",
          "text": [
            "eval_pred: 100%|██████████| 3/3 [00:00<00:00, 168.59it/s]\n",
            "eval_rec: 100%|██████████| 610/610 [00:00<00:00, 1494.53it/s]\n"
          ]
        },
        {
          "output_type": "stream",
          "name": "stdout",
          "text": [
            "\t eval log_loss: 0.5068\n",
            "\t eval roc_auc: 0.8458\n",
            "\t eval precision@10: 0.0313\n",
            "\t eval recall@10: 0.0306\n",
            "\t eval map@10: 0.0749\n",
            "\t eval ndcg@10: 0.1131\n",
            "==============================\n",
            "With lr_decay, epoch 4 learning rate: 0.0007827577646821737\n"
          ]
        },
        {
          "output_type": "stream",
          "name": "stderr",
          "text": [
            "train: 100%|██████████| 1261/1261 [00:38<00:00, 32.85it/s]\n"
          ]
        },
        {
          "output_type": "stream",
          "name": "stdout",
          "text": [
            "Epoch 4 elapsed: 38.436s\n",
            "\t \u001b[32mtrain_loss: 0.2521\u001b[0m\n"
          ]
        },
        {
          "output_type": "stream",
          "name": "stderr",
          "text": [
            "eval_pred: 100%|██████████| 3/3 [00:00<00:00, 196.18it/s]\n",
            "eval_rec: 100%|██████████| 610/610 [00:00<00:00, 1566.41it/s]\n"
          ]
        },
        {
          "output_type": "stream",
          "name": "stdout",
          "text": [
            "\t eval log_loss: 0.5497\n",
            "\t eval roc_auc: 0.8440\n",
            "\t eval precision@10: 0.0316\n",
            "\t eval recall@10: 0.0296\n",
            "\t eval map@10: 0.0740\n",
            "\t eval ndcg@10: 0.1136\n",
            "==============================\n",
            "With lr_decay, epoch 5 learning rate: 0.000721389485988766\n"
          ]
        },
        {
          "output_type": "stream",
          "name": "stderr",
          "text": [
            "train: 100%|██████████| 1261/1261 [00:38<00:00, 32.66it/s]\n"
          ]
        },
        {
          "output_type": "stream",
          "name": "stdout",
          "text": [
            "Epoch 5 elapsed: 38.662s\n",
            "\t \u001b[32mtrain_loss: 0.2031\u001b[0m\n"
          ]
        },
        {
          "output_type": "stream",
          "name": "stderr",
          "text": [
            "eval_pred: 100%|██████████| 3/3 [00:00<00:00, 114.16it/s]\n",
            "eval_rec: 100%|██████████| 610/610 [00:00<00:00, 1548.22it/s]\n"
          ]
        },
        {
          "output_type": "stream",
          "name": "stdout",
          "text": [
            "\t eval log_loss: 0.6075\n",
            "\t eval roc_auc: 0.8393\n",
            "\t eval precision@10: 0.0333\n",
            "\t eval recall@10: 0.0348\n",
            "\t eval map@10: 0.0783\n",
            "\t eval ndcg@10: 0.1182\n",
            "==============================\n"
          ]
        },
        {
          "output_type": "stream",
          "name": "stderr",
          "text": [
            "eval_pred: 100%|██████████| 3/3 [00:00<00:00, 201.40it/s]\n",
            "eval_rec: 100%|██████████| 608/608 [00:00<00:00, 1701.11it/s]\n"
          ]
        },
        {
          "output_type": "display_data",
          "data": {
            "text/plain": [
              "<IPython.core.display.HTML object>"
            ],
            "text/html": [
              "Waiting for W&B process to finish... <strong style=\"color:green\">(success).</strong>"
            ]
          },
          "metadata": {}
        },
        {
          "output_type": "display_data",
          "data": {
            "text/plain": [
              "VBox(children=(Label(value='0.001 MB of 0.001 MB uploaded (0.000 MB deduped)\\r'), FloatProgress(value=1.0, max…"
            ],
            "application/vnd.jupyter.widget-view+json": {
              "version_major": 2,
              "version_minor": 0,
              "model_id": "08d3da04cdd84329a143f172d1f9fa88"
            }
          },
          "metadata": {}
        },
        {
          "output_type": "display_data",
          "data": {
            "text/plain": [
              "<IPython.core.display.HTML object>"
            ],
            "text/html": [
              "<style>\n",
              "    table.wandb td:nth-child(1) { padding: 0 10px; text-align: left ; width: auto;} td:nth-child(2) {text-align: left ; width: 100%}\n",
              "    .wandb-row { display: flex; flex-direction: row; flex-wrap: wrap; justify-content: flex-start; width: 100% }\n",
              "    .wandb-col { display: flex; flex-direction: column; flex-basis: 100%; flex: 1; padding: 10px; }\n",
              "    </style>\n",
              "<div class=\"wandb-row\"><div class=\"wandb-col\"><h3>Run history:</h3><br/><table class=\"wandb\"><tr><td>epoch</td><td>▁▃▅▆█</td></tr><tr><td>log_loss</td><td>▂▁▂▄█</td></tr><tr><td>loss</td><td>▁</td></tr><tr><td>map</td><td>▁</td></tr><tr><td>map@10</td><td>▁▆▆▅█</td></tr><tr><td>ndcg</td><td>▁</td></tr><tr><td>ndcg@10</td><td>▁▇▅▆█</td></tr><tr><td>precision</td><td>▁</td></tr><tr><td>precision@10</td><td>▁█▃▄█</td></tr><tr><td>recall</td><td>▁</td></tr><tr><td>recall@10</td><td>▂▂▂▁█</td></tr><tr><td>roc_auc</td><td>▆███▇▁</td></tr><tr><td>train_loss</td><td>█▅▄▂▁</td></tr></table><br/></div><div class=\"wandb-col\"><h3>Run summary:</h3><br/><table class=\"wandb\"><tr><td>epoch</td><td>5</td></tr><tr><td>log_loss</td><td>0.60755</td></tr><tr><td>loss</td><td>0.7143</td></tr><tr><td>map</td><td>0.06339</td></tr><tr><td>map@10</td><td>0.07832</td></tr><tr><td>ndcg</td><td>0.09581</td></tr><tr><td>ndcg@10</td><td>0.11818</td></tr><tr><td>precision</td><td>0.0278</td></tr><tr><td>precision@10</td><td>0.03328</td></tr><tr><td>recall</td><td>0.0294</td></tr><tr><td>recall@10</td><td>0.03481</td></tr><tr><td>roc_auc</td><td>0.80615</td></tr><tr><td>train_loss</td><td>0.2031</td></tr></table><br/></div></div>"
            ]
          },
          "metadata": {}
        },
        {
          "output_type": "display_data",
          "data": {
            "text/plain": [
              "<IPython.core.display.HTML object>"
            ],
            "text/html": [
              "Synced <strong style=\"color:#cdcd00\">breezy-sweep-16</strong>: <a href=\"https://wandb.ai/iloncka-ds/recsys-app/runs/ccj93xjk\" target=\"_blank\">https://wandb.ai/iloncka-ds/recsys-app/runs/ccj93xjk</a><br/>Synced 5 W&B file(s), 0 media file(s), 0 artifact file(s) and 0 other file(s)"
            ]
          },
          "metadata": {}
        },
        {
          "output_type": "display_data",
          "data": {
            "text/plain": [
              "<IPython.core.display.HTML object>"
            ],
            "text/html": [
              "Find logs at: <code>./wandb/run-20221106_163922-ccj93xjk/logs</code>"
            ]
          },
          "metadata": {}
        },
        {
          "output_type": "stream",
          "name": "stderr",
          "text": [
            "\u001b[34m\u001b[1mwandb\u001b[0m: Agent Starting Run: 6xb6v2os with config:\n",
            "\u001b[34m\u001b[1mwandb\u001b[0m: \tbatch_size: 128\n",
            "\u001b[34m\u001b[1mwandb\u001b[0m: \tembed_size: 16\n",
            "\u001b[34m\u001b[1mwandb\u001b[0m: \tlr: 0.1\n",
            "\u001b[34m\u001b[1mwandb\u001b[0m: \tn_epochs: 10\n"
          ]
        },
        {
          "output_type": "display_data",
          "data": {
            "text/plain": [
              "<IPython.core.display.HTML object>"
            ],
            "text/html": [
              "Tracking run with wandb version 0.13.5"
            ]
          },
          "metadata": {}
        },
        {
          "output_type": "display_data",
          "data": {
            "text/plain": [
              "<IPython.core.display.HTML object>"
            ],
            "text/html": [
              "Run data is saved locally in <code>/content/wandb/run-20221106_164302-6xb6v2os</code>"
            ]
          },
          "metadata": {}
        },
        {
          "output_type": "display_data",
          "data": {
            "text/plain": [
              "<IPython.core.display.HTML object>"
            ],
            "text/html": [
              "Syncing run <strong><a href=\"https://wandb.ai/iloncka-ds/recsys-app/runs/6xb6v2os\" target=\"_blank\">fresh-sweep-17</a></strong> to <a href=\"https://wandb.ai/iloncka-ds/recsys-app\" target=\"_blank\">Weights & Biases</a> (<a href=\"https://wandb.me/run\" target=\"_blank\">docs</a>)<br/>Sweep page:  <a href=\"https://wandb.ai/iloncka-ds/recsys-app/sweeps/1xnmnsi1\" target=\"_blank\">https://wandb.ai/iloncka-ds/recsys-app/sweeps/1xnmnsi1</a>"
            ]
          },
          "metadata": {}
        },
        {
          "output_type": "stream",
          "name": "stdout",
          "text": [
            "total params: \u001b[33m416,573\u001b[0m | embedding params: \u001b[33m413,429\u001b[0m | network params: \u001b[33m3,144\u001b[0m\n",
            "Training start time: \u001b[35m2022-11-06 16:43:09\u001b[0m\n",
            "With lr_decay, epoch 1 learning rate: 0.10000000149011612\n"
          ]
        },
        {
          "output_type": "stream",
          "name": "stderr",
          "text": [
            "train: 100%|██████████| 1261/1261 [00:30<00:00, 41.42it/s]\n"
          ]
        },
        {
          "output_type": "stream",
          "name": "stdout",
          "text": [
            "Epoch 1 elapsed: 30.495s\n",
            "\t \u001b[32mtrain_loss: 1.5978\u001b[0m\n"
          ]
        },
        {
          "output_type": "stream",
          "name": "stderr",
          "text": [
            "eval_pred: 100%|██████████| 3/3 [00:00<00:00, 212.83it/s]\n",
            "eval_rec: 100%|██████████| 610/610 [00:00<00:00, 1677.35it/s]\n"
          ]
        },
        {
          "output_type": "stream",
          "name": "stdout",
          "text": [
            "\t eval log_loss: 1.8737\n",
            "\t eval roc_auc: 0.7154\n",
            "\t eval precision@10: 0.0074\n",
            "\t eval recall@10: 0.0044\n",
            "\t eval map@10: 0.0181\n",
            "\t eval ndcg@10: 0.0296\n",
            "==============================\n",
            "With lr_decay, epoch 2 learning rate: 0.09216000139713287\n"
          ]
        },
        {
          "output_type": "stream",
          "name": "stderr",
          "text": [
            "train: 100%|██████████| 1261/1261 [00:30<00:00, 41.57it/s]\n"
          ]
        },
        {
          "output_type": "stream",
          "name": "stdout",
          "text": [
            "Epoch 2 elapsed: 30.388s\n",
            "\t \u001b[32mtrain_loss: 1.5556\u001b[0m\n"
          ]
        },
        {
          "output_type": "stream",
          "name": "stderr",
          "text": [
            "eval_pred: 100%|██████████| 3/3 [00:00<00:00, 204.78it/s]\n",
            "eval_rec: 100%|██████████| 610/610 [00:00<00:00, 1687.75it/s]\n"
          ]
        },
        {
          "output_type": "stream",
          "name": "stdout",
          "text": [
            "\t eval log_loss: 1.8936\n",
            "\t eval roc_auc: 0.7450\n",
            "\t eval precision@10: 0.0116\n",
            "\t eval recall@10: 0.0043\n",
            "\t eval map@10: 0.0290\n",
            "\t eval ndcg@10: 0.0448\n",
            "==============================\n",
            "With lr_decay, epoch 3 learning rate: 0.08493464440107346\n"
          ]
        },
        {
          "output_type": "stream",
          "name": "stderr",
          "text": [
            "train: 100%|██████████| 1261/1261 [00:30<00:00, 41.80it/s]\n"
          ]
        },
        {
          "output_type": "stream",
          "name": "stdout",
          "text": [
            "Epoch 3 elapsed: 30.228s\n",
            "\t \u001b[32mtrain_loss: 1.3027\u001b[0m\n"
          ]
        },
        {
          "output_type": "stream",
          "name": "stderr",
          "text": [
            "eval_pred: 100%|██████████| 3/3 [00:00<00:00, 176.19it/s]\n",
            "eval_rec: 100%|██████████| 610/610 [00:00<00:00, 1654.38it/s]\n"
          ]
        },
        {
          "output_type": "stream",
          "name": "stdout",
          "text": [
            "\t eval log_loss: 1.9754\n",
            "\t eval roc_auc: 0.7563\n",
            "\t eval precision@10: 0.0089\n",
            "\t eval recall@10: 0.0027\n",
            "\t eval map@10: 0.0238\n",
            "\t eval ndcg@10: 0.0343\n",
            "==============================\n",
            "With lr_decay, epoch 4 learning rate: 0.07827576994895935\n"
          ]
        },
        {
          "output_type": "stream",
          "name": "stderr",
          "text": [
            "train: 100%|██████████| 1261/1261 [00:30<00:00, 41.62it/s]\n"
          ]
        },
        {
          "output_type": "stream",
          "name": "stdout",
          "text": [
            "Epoch 4 elapsed: 30.347s\n",
            "\t \u001b[32mtrain_loss: 1.0975\u001b[0m\n"
          ]
        },
        {
          "output_type": "stream",
          "name": "stderr",
          "text": [
            "eval_pred: 100%|██████████| 3/3 [00:00<00:00, 232.15it/s]\n",
            "eval_rec: 100%|██████████| 610/610 [00:00<00:00, 1593.06it/s]\n"
          ]
        },
        {
          "output_type": "stream",
          "name": "stdout",
          "text": [
            "\t eval log_loss: 2.0447\n",
            "\t eval roc_auc: 0.7678\n",
            "\t eval precision@10: 0.0089\n",
            "\t eval recall@10: 0.0044\n",
            "\t eval map@10: 0.0242\n",
            "\t eval ndcg@10: 0.0361\n",
            "==============================\n",
            "With lr_decay, epoch 5 learning rate: 0.0721389502286911\n"
          ]
        },
        {
          "output_type": "stream",
          "name": "stderr",
          "text": [
            "train: 100%|██████████| 1261/1261 [00:30<00:00, 41.85it/s]\n"
          ]
        },
        {
          "output_type": "stream",
          "name": "stdout",
          "text": [
            "Epoch 5 elapsed: 30.190s\n",
            "\t \u001b[32mtrain_loss: 0.929\u001b[0m\n"
          ]
        },
        {
          "output_type": "stream",
          "name": "stderr",
          "text": [
            "eval_pred: 100%|██████████| 3/3 [00:00<00:00, 202.16it/s]\n",
            "eval_rec: 100%|██████████| 610/610 [00:00<00:00, 1671.96it/s]\n"
          ]
        },
        {
          "output_type": "stream",
          "name": "stdout",
          "text": [
            "\t eval log_loss: 2.1240\n",
            "\t eval roc_auc: 0.7745\n",
            "\t eval precision@10: 0.0095\n",
            "\t eval recall@10: 0.0038\n",
            "\t eval map@10: 0.0297\n",
            "\t eval ndcg@10: 0.0424\n",
            "==============================\n",
            "With lr_decay, epoch 6 learning rate: 0.06648325175046921\n"
          ]
        },
        {
          "output_type": "stream",
          "name": "stderr",
          "text": [
            "train: 100%|██████████| 1261/1261 [00:30<00:00, 41.93it/s]\n"
          ]
        },
        {
          "output_type": "stream",
          "name": "stdout",
          "text": [
            "Epoch 6 elapsed: 30.122s\n",
            "\t \u001b[32mtrain_loss: 0.7878\u001b[0m\n"
          ]
        },
        {
          "output_type": "stream",
          "name": "stderr",
          "text": [
            "eval_pred: 100%|██████████| 3/3 [00:00<00:00, 197.01it/s]\n",
            "eval_rec: 100%|██████████| 610/610 [00:00<00:00, 1608.28it/s]\n"
          ]
        },
        {
          "output_type": "stream",
          "name": "stdout",
          "text": [
            "\t eval log_loss: 2.2056\n",
            "\t eval roc_auc: 0.7793\n",
            "\t eval precision@10: 0.0077\n",
            "\t eval recall@10: 0.0040\n",
            "\t eval map@10: 0.0215\n",
            "\t eval ndcg@10: 0.0317\n",
            "==============================\n",
            "With lr_decay, epoch 7 learning rate: 0.06127095967531204\n"
          ]
        },
        {
          "output_type": "stream",
          "name": "stderr",
          "text": [
            "train: 100%|██████████| 1261/1261 [00:29<00:00, 42.06it/s]\n"
          ]
        },
        {
          "output_type": "stream",
          "name": "stdout",
          "text": [
            "Epoch 7 elapsed: 30.053s\n",
            "\t \u001b[32mtrain_loss: 0.6454\u001b[0m\n"
          ]
        },
        {
          "output_type": "stream",
          "name": "stderr",
          "text": [
            "eval_pred: 100%|██████████| 3/3 [00:00<00:00, 201.08it/s]\n",
            "eval_rec: 100%|██████████| 610/610 [00:00<00:00, 1565.26it/s]\n"
          ]
        },
        {
          "output_type": "stream",
          "name": "stdout",
          "text": [
            "\t eval log_loss: 2.2732\n",
            "\t eval roc_auc: 0.7818\n",
            "\t eval precision@10: 0.0069\n",
            "\t eval recall@10: 0.0028\n",
            "\t eval map@10: 0.0175\n",
            "\t eval ndcg@10: 0.0274\n",
            "==============================\n",
            "With lr_decay, epoch 8 learning rate: 0.056467313319444656\n"
          ]
        },
        {
          "output_type": "stream",
          "name": "stderr",
          "text": [
            "train: 100%|██████████| 1261/1261 [00:29<00:00, 42.16it/s]\n"
          ]
        },
        {
          "output_type": "stream",
          "name": "stdout",
          "text": [
            "Epoch 8 elapsed: 29.959s\n",
            "\t \u001b[32mtrain_loss: 0.5293\u001b[0m\n"
          ]
        },
        {
          "output_type": "stream",
          "name": "stderr",
          "text": [
            "eval_pred: 100%|██████████| 3/3 [00:00<00:00, 202.86it/s]\n",
            "eval_rec: 100%|██████████| 610/610 [00:00<00:00, 1692.47it/s]\n"
          ]
        },
        {
          "output_type": "stream",
          "name": "stdout",
          "text": [
            "\t eval log_loss: 2.3871\n",
            "\t eval roc_auc: 0.7783\n",
            "\t eval precision@10: 0.0085\n",
            "\t eval recall@10: 0.0033\n",
            "\t eval map@10: 0.0212\n",
            "\t eval ndcg@10: 0.0318\n",
            "==============================\n",
            "With lr_decay, epoch 9 learning rate: 0.05204027518630028\n"
          ]
        },
        {
          "output_type": "stream",
          "name": "stderr",
          "text": [
            "train: 100%|██████████| 1261/1261 [00:29<00:00, 42.30it/s]\n"
          ]
        },
        {
          "output_type": "stream",
          "name": "stdout",
          "text": [
            "Epoch 9 elapsed: 29.879s\n",
            "\t \u001b[32mtrain_loss: 0.4385\u001b[0m\n"
          ]
        },
        {
          "output_type": "stream",
          "name": "stderr",
          "text": [
            "eval_pred: 100%|██████████| 3/3 [00:00<00:00, 206.13it/s]\n",
            "eval_rec: 100%|██████████| 610/610 [00:00<00:00, 1600.61it/s]\n"
          ]
        },
        {
          "output_type": "stream",
          "name": "stdout",
          "text": [
            "\t eval log_loss: 2.4692\n",
            "\t eval roc_auc: 0.7794\n",
            "\t eval precision@10: 0.0072\n",
            "\t eval recall@10: 0.0031\n",
            "\t eval map@10: 0.0214\n",
            "\t eval ndcg@10: 0.0317\n",
            "==============================\n",
            "With lr_decay, epoch 10 learning rate: 0.047960314899683\n"
          ]
        },
        {
          "output_type": "stream",
          "name": "stderr",
          "text": [
            "train: 100%|██████████| 1261/1261 [00:30<00:00, 41.72it/s]\n"
          ]
        },
        {
          "output_type": "stream",
          "name": "stdout",
          "text": [
            "Epoch 10 elapsed: 30.284s\n",
            "\t \u001b[32mtrain_loss: 0.3622\u001b[0m\n"
          ]
        },
        {
          "output_type": "stream",
          "name": "stderr",
          "text": [
            "eval_pred: 100%|██████████| 3/3 [00:00<00:00, 195.87it/s]\n",
            "eval_rec: 100%|██████████| 610/610 [00:00<00:00, 1594.52it/s]\n"
          ]
        },
        {
          "output_type": "stream",
          "name": "stdout",
          "text": [
            "\t eval log_loss: 2.5459\n",
            "\t eval roc_auc: 0.7783\n",
            "\t eval precision@10: 0.0084\n",
            "\t eval recall@10: 0.0047\n",
            "\t eval map@10: 0.0223\n",
            "\t eval ndcg@10: 0.0340\n",
            "==============================\n"
          ]
        },
        {
          "output_type": "stream",
          "name": "stderr",
          "text": [
            "eval_pred: 100%|██████████| 3/3 [00:00<00:00, 217.85it/s]\n",
            "eval_rec: 100%|██████████| 608/608 [00:00<00:00, 1768.97it/s]\n"
          ]
        },
        {
          "output_type": "display_data",
          "data": {
            "text/plain": [
              "<IPython.core.display.HTML object>"
            ],
            "text/html": [
              "Waiting for W&B process to finish... <strong style=\"color:green\">(success).</strong>"
            ]
          },
          "metadata": {}
        },
        {
          "output_type": "display_data",
          "data": {
            "text/plain": [
              "VBox(children=(Label(value='0.001 MB of 0.001 MB uploaded (0.000 MB deduped)\\r'), FloatProgress(value=1.0, max…"
            ],
            "application/vnd.jupyter.widget-view+json": {
              "version_major": 2,
              "version_minor": 0,
              "model_id": "e05731c0d30640eca2eb8d74110038fc"
            }
          },
          "metadata": {}
        },
        {
          "output_type": "display_data",
          "data": {
            "text/plain": [
              "<IPython.core.display.HTML object>"
            ],
            "text/html": [
              "<style>\n",
              "    table.wandb td:nth-child(1) { padding: 0 10px; text-align: left ; width: auto;} td:nth-child(2) {text-align: left ; width: 100%}\n",
              "    .wandb-row { display: flex; flex-direction: row; flex-wrap: wrap; justify-content: flex-start; width: 100% }\n",
              "    .wandb-col { display: flex; flex-direction: column; flex-basis: 100%; flex: 1; padding: 10px; }\n",
              "    </style>\n",
              "<div class=\"wandb-row\"><div class=\"wandb-col\"><h3>Run history:</h3><br/><table class=\"wandb\"><tr><td>epoch</td><td>▁▂▃▃▄▅▆▆▇█</td></tr><tr><td>log_loss</td><td>▁▁▂▃▄▄▅▆▇█</td></tr><tr><td>loss</td><td>▁</td></tr><tr><td>map</td><td>▁</td></tr><tr><td>map@10</td><td>▁█▅▅█▃▁▃▃▄</td></tr><tr><td>ndcg</td><td>▁</td></tr><tr><td>ndcg@10</td><td>▂█▄▅▇▃▁▃▃▄</td></tr><tr><td>precision</td><td>▁</td></tr><tr><td>precision@10</td><td>▂█▄▄▅▂▁▃▁▃</td></tr><tr><td>recall</td><td>▁</td></tr><tr><td>recall@10</td><td>▇▇▁▇▅▆▁▃▃█</td></tr><tr><td>roc_auc</td><td>▁▄▅▇▇█████▅</td></tr><tr><td>train_loss</td><td>██▆▅▄▃▃▂▁▁</td></tr></table><br/></div><div class=\"wandb-col\"><h3>Run summary:</h3><br/><table class=\"wandb\"><tr><td>epoch</td><td>10</td></tr><tr><td>log_loss</td><td>2.54592</td></tr><tr><td>loss</td><td>2.85316</td></tr><tr><td>map</td><td>0.01898</td></tr><tr><td>map@10</td><td>0.02233</td></tr><tr><td>ndcg</td><td>0.0277</td></tr><tr><td>ndcg@10</td><td>0.03399</td></tr><tr><td>precision</td><td>0.00625</td></tr><tr><td>precision@10</td><td>0.00836</td></tr><tr><td>recall</td><td>0.00286</td></tr><tr><td>recall@10</td><td>0.00472</td></tr><tr><td>roc_auc</td><td>0.75601</td></tr><tr><td>train_loss</td><td>0.3622</td></tr></table><br/></div></div>"
            ]
          },
          "metadata": {}
        },
        {
          "output_type": "display_data",
          "data": {
            "text/plain": [
              "<IPython.core.display.HTML object>"
            ],
            "text/html": [
              "Synced <strong style=\"color:#cdcd00\">fresh-sweep-17</strong>: <a href=\"https://wandb.ai/iloncka-ds/recsys-app/runs/6xb6v2os\" target=\"_blank\">https://wandb.ai/iloncka-ds/recsys-app/runs/6xb6v2os</a><br/>Synced 5 W&B file(s), 0 media file(s), 0 artifact file(s) and 0 other file(s)"
            ]
          },
          "metadata": {}
        },
        {
          "output_type": "display_data",
          "data": {
            "text/plain": [
              "<IPython.core.display.HTML object>"
            ],
            "text/html": [
              "Find logs at: <code>./wandb/run-20221106_164302-6xb6v2os/logs</code>"
            ]
          },
          "metadata": {}
        },
        {
          "output_type": "stream",
          "name": "stderr",
          "text": [
            "\u001b[34m\u001b[1mwandb\u001b[0m: Agent Starting Run: egkyhfpo with config:\n",
            "\u001b[34m\u001b[1mwandb\u001b[0m: \tbatch_size: 64\n",
            "\u001b[34m\u001b[1mwandb\u001b[0m: \tembed_size: 32\n",
            "\u001b[34m\u001b[1mwandb\u001b[0m: \tlr: 0.001\n",
            "\u001b[34m\u001b[1mwandb\u001b[0m: \tn_epochs: 5\n"
          ]
        },
        {
          "output_type": "display_data",
          "data": {
            "text/plain": [
              "<IPython.core.display.HTML object>"
            ],
            "text/html": [
              "Tracking run with wandb version 0.13.5"
            ]
          },
          "metadata": {}
        },
        {
          "output_type": "display_data",
          "data": {
            "text/plain": [
              "<IPython.core.display.HTML object>"
            ],
            "text/html": [
              "Run data is saved locally in <code>/content/wandb/run-20221106_164833-egkyhfpo</code>"
            ]
          },
          "metadata": {}
        },
        {
          "output_type": "display_data",
          "data": {
            "text/plain": [
              "<IPython.core.display.HTML object>"
            ],
            "text/html": [
              "Syncing run <strong><a href=\"https://wandb.ai/iloncka-ds/recsys-app/runs/egkyhfpo\" target=\"_blank\">pious-sweep-18</a></strong> to <a href=\"https://wandb.ai/iloncka-ds/recsys-app\" target=\"_blank\">Weights & Biases</a> (<a href=\"https://wandb.me/run\" target=\"_blank\">docs</a>)<br/>Sweep page:  <a href=\"https://wandb.ai/iloncka-ds/recsys-app/sweeps/1xnmnsi1\" target=\"_blank\">https://wandb.ai/iloncka-ds/recsys-app/sweeps/1xnmnsi1</a>"
            ]
          },
          "metadata": {}
        },
        {
          "output_type": "stream",
          "name": "stdout",
          "text": [
            "total params: \u001b[33m826,893\u001b[0m | embedding params: \u001b[33m818,597\u001b[0m | network params: \u001b[33m8,296\u001b[0m\n",
            "Training start time: \u001b[35m2022-11-06 16:48:40\u001b[0m\n",
            "With lr_decay, epoch 1 learning rate: 0.0010000000474974513\n"
          ]
        },
        {
          "output_type": "stream",
          "name": "stderr",
          "text": [
            "train:  39%|███▊      | 976/2521 [00:24<00:39, 38.85it/s]"
          ]
        }
      ],
      "source": [
        "MODEL_PATH = \"/content/drive/MyDrive/Colab Notebooks/00-MTC/models/Caser\" \n",
        "MODEL_NAME = 'Caser'\n",
        "\n",
        "sweep_config = {\n",
        "    \"name\": \"Caser-sweep\",\n",
        "    \"metric\": {\"name\": \"loss\", \"goal\": \"minimize\"},    \n",
        "    \"method\": \"random\",  \n",
        "    'early_terminate':{\n",
        "      'type': 'hyperband',\n",
        "      'min_iter': 10\n",
        "  },  \n",
        "    \"parameters\": {        \n",
        "          \"embed_size\": {\n",
        "              \"values\": [16, 32]\n",
        "          },\n",
        "          'n_epochs': {\n",
        "              \"values\": [5,10]\n",
        "          }, \n",
        "          \"lr\": {\n",
        "              \"values\": [0.1, 0.01, 0.001, 0.0001]\n",
        "          },\n",
        "                    \n",
        "          \"batch_size\": {\n",
        "              \"values\": [64, 128, 256]\n",
        "          },\n",
        "          }\n",
        "}\n",
        "metrics = [\"loss\", \"roc_auc\", \"precision\", \"recall\", \"map\", \"ndcg\"]    \n",
        "sweep_id = wandb.sweep(sweep_config, \n",
        "                       project=\"recsys-app\", \n",
        "                       entity=\"iloncka-ds\")\n",
        "\n",
        "os.environ[\"WANDB_RUN_GROUP\"] = \"experiment-Caser\"\n",
        "\n",
        "def train_with_wandb():  \n",
        "      with wandb.init(group=MODEL_NAME,\n",
        "                      notes=f\"{MODEL_NAME} hyperparameters search\",\n",
        "                      tags=[\"embed\", \"sequence\", \"hyperparameters\"]) as runwb:\n",
        "        # Overwrite the random run names chosen by wandb\n",
        "        sc = runwb.config\n",
        "        name_str = f'{MODEL_NAME}_met_{sweep_config[\"method\"]}' + \\\n",
        "          f'_n_epoch_{sc.n_epochs}_' + \\\n",
        "          f'emb_size_{sc.embed_size}_lr_{sc.lr}_' + \\\n",
        "          f'batch_size_{sc.batch_size}'\n",
        "        runwb.config.update({\"name\": name_str})\n",
        "        current_dir = os.path.join(MODEL_PATH, name_str)\n",
        "        if not os.path.isdir(current_dir):\n",
        "            os.mkdir(current_dir)  \n",
        "        # Rest of code.\n",
        "        model = Caser(task=\"ranking\", data_info=data_info, \n",
        "                        embed_size=sc.embed_size, n_epochs=sc.n_epochs, \n",
        "                        lr=sc.lr, reg=None, batch_size=sc.batch_size, lr_decay=True,)\n",
        "        #NB!! param runwb is absent in official version of LibRecommender, for training unpublished changes to this library were used\n",
        "        model.fit(runwb, train_data, verbose=2, eval_data=eval_data, metrics=metrics)\n",
        "        #NB!! param runwb is absent in official version of LibRecommender, for training unpublished changes to this library were used\n",
        "        evaluate(runwb=runwb, model=model, data=test_data,\n",
        "                                    metrics=metrics)\n",
        "        # specify model saving directory\n",
        "        save_embed(current_dir, model)        \n",
        "        model.save(path=current_dir, model_name=\"Caser\", manual=True, inference_only=True)\n",
        "wandb.agent(sweep_id, function=train_with_wandb, entity=\"iloncka-ds\", project=\"recsys-app\", count=20)"
      ]
    },
    {
      "cell_type": "markdown",
      "source": [
        "https://wandb.ai/iloncka-ds/recsys-app/groups/WaveNet/workspace?workspace=user-iloncka-ds"
      ],
      "metadata": {
        "id": "9A7mHb-369Se"
      }
    }
  ],
  "metadata": {
    "colab": {
      "provenance": [],
      "collapsed_sections": []
    },
    "kernelspec": {
      "display_name": "Python 3",
      "language": "python",
      "name": "python3"
    },
    "language_info": {
      "codemirror_mode": {
        "name": "ipython",
        "version": 3
      },
      "file_extension": ".py",
      "mimetype": "text/x-python",
      "name": "python",
      "nbconvert_exporter": "python",
      "pygments_lexer": "ipython3",
      "version": "3.7.12"
    },
    "widgets": {
      "application/vnd.jupyter.widget-state+json": {
        "0f3563a806ef4180beb3fa009fc34493": {
          "model_module": "@jupyter-widgets/controls",
          "model_name": "VBoxModel",
          "model_module_version": "1.5.0",
          "state": {
            "_dom_classes": [],
            "_model_module": "@jupyter-widgets/controls",
            "_model_module_version": "1.5.0",
            "_model_name": "VBoxModel",
            "_view_count": null,
            "_view_module": "@jupyter-widgets/controls",
            "_view_module_version": "1.5.0",
            "_view_name": "VBoxView",
            "box_style": "",
            "children": [
              "IPY_MODEL_1f768c0f7d89454cbd8213602d499533",
              "IPY_MODEL_eb2d55be927244979f0798bf8c4eb518"
            ],
            "layout": "IPY_MODEL_ade40ad8c1a0414b9a6a0ee8d8823040"
          }
        },
        "1f768c0f7d89454cbd8213602d499533": {
          "model_module": "@jupyter-widgets/controls",
          "model_name": "LabelModel",
          "model_module_version": "1.5.0",
          "state": {
            "_dom_classes": [],
            "_model_module": "@jupyter-widgets/controls",
            "_model_module_version": "1.5.0",
            "_model_name": "LabelModel",
            "_view_count": null,
            "_view_module": "@jupyter-widgets/controls",
            "_view_module_version": "1.5.0",
            "_view_name": "LabelView",
            "description": "",
            "description_tooltip": null,
            "layout": "IPY_MODEL_e7304b997b884a009bb1ec1a9778b3c3",
            "placeholder": "​",
            "style": "IPY_MODEL_4858721283e84f34ad67921bd1003aa7",
            "value": "0.001 MB of 0.001 MB uploaded (0.000 MB deduped)\r"
          }
        },
        "eb2d55be927244979f0798bf8c4eb518": {
          "model_module": "@jupyter-widgets/controls",
          "model_name": "FloatProgressModel",
          "model_module_version": "1.5.0",
          "state": {
            "_dom_classes": [],
            "_model_module": "@jupyter-widgets/controls",
            "_model_module_version": "1.5.0",
            "_model_name": "FloatProgressModel",
            "_view_count": null,
            "_view_module": "@jupyter-widgets/controls",
            "_view_module_version": "1.5.0",
            "_view_name": "ProgressView",
            "bar_style": "",
            "description": "",
            "description_tooltip": null,
            "layout": "IPY_MODEL_4f346011c4ed4273874a14a7a95e9aab",
            "max": 1,
            "min": 0,
            "orientation": "horizontal",
            "style": "IPY_MODEL_eb16e7f823d14d1fa46e25e5e89ea131",
            "value": 1
          }
        },
        "ade40ad8c1a0414b9a6a0ee8d8823040": {
          "model_module": "@jupyter-widgets/base",
          "model_name": "LayoutModel",
          "model_module_version": "1.2.0",
          "state": {
            "_model_module": "@jupyter-widgets/base",
            "_model_module_version": "1.2.0",
            "_model_name": "LayoutModel",
            "_view_count": null,
            "_view_module": "@jupyter-widgets/base",
            "_view_module_version": "1.2.0",
            "_view_name": "LayoutView",
            "align_content": null,
            "align_items": null,
            "align_self": null,
            "border": null,
            "bottom": null,
            "display": null,
            "flex": null,
            "flex_flow": null,
            "grid_area": null,
            "grid_auto_columns": null,
            "grid_auto_flow": null,
            "grid_auto_rows": null,
            "grid_column": null,
            "grid_gap": null,
            "grid_row": null,
            "grid_template_areas": null,
            "grid_template_columns": null,
            "grid_template_rows": null,
            "height": null,
            "justify_content": null,
            "justify_items": null,
            "left": null,
            "margin": null,
            "max_height": null,
            "max_width": null,
            "min_height": null,
            "min_width": null,
            "object_fit": null,
            "object_position": null,
            "order": null,
            "overflow": null,
            "overflow_x": null,
            "overflow_y": null,
            "padding": null,
            "right": null,
            "top": null,
            "visibility": null,
            "width": null
          }
        },
        "e7304b997b884a009bb1ec1a9778b3c3": {
          "model_module": "@jupyter-widgets/base",
          "model_name": "LayoutModel",
          "model_module_version": "1.2.0",
          "state": {
            "_model_module": "@jupyter-widgets/base",
            "_model_module_version": "1.2.0",
            "_model_name": "LayoutModel",
            "_view_count": null,
            "_view_module": "@jupyter-widgets/base",
            "_view_module_version": "1.2.0",
            "_view_name": "LayoutView",
            "align_content": null,
            "align_items": null,
            "align_self": null,
            "border": null,
            "bottom": null,
            "display": null,
            "flex": null,
            "flex_flow": null,
            "grid_area": null,
            "grid_auto_columns": null,
            "grid_auto_flow": null,
            "grid_auto_rows": null,
            "grid_column": null,
            "grid_gap": null,
            "grid_row": null,
            "grid_template_areas": null,
            "grid_template_columns": null,
            "grid_template_rows": null,
            "height": null,
            "justify_content": null,
            "justify_items": null,
            "left": null,
            "margin": null,
            "max_height": null,
            "max_width": null,
            "min_height": null,
            "min_width": null,
            "object_fit": null,
            "object_position": null,
            "order": null,
            "overflow": null,
            "overflow_x": null,
            "overflow_y": null,
            "padding": null,
            "right": null,
            "top": null,
            "visibility": null,
            "width": null
          }
        },
        "4858721283e84f34ad67921bd1003aa7": {
          "model_module": "@jupyter-widgets/controls",
          "model_name": "DescriptionStyleModel",
          "model_module_version": "1.5.0",
          "state": {
            "_model_module": "@jupyter-widgets/controls",
            "_model_module_version": "1.5.0",
            "_model_name": "DescriptionStyleModel",
            "_view_count": null,
            "_view_module": "@jupyter-widgets/base",
            "_view_module_version": "1.2.0",
            "_view_name": "StyleView",
            "description_width": ""
          }
        },
        "4f346011c4ed4273874a14a7a95e9aab": {
          "model_module": "@jupyter-widgets/base",
          "model_name": "LayoutModel",
          "model_module_version": "1.2.0",
          "state": {
            "_model_module": "@jupyter-widgets/base",
            "_model_module_version": "1.2.0",
            "_model_name": "LayoutModel",
            "_view_count": null,
            "_view_module": "@jupyter-widgets/base",
            "_view_module_version": "1.2.0",
            "_view_name": "LayoutView",
            "align_content": null,
            "align_items": null,
            "align_self": null,
            "border": null,
            "bottom": null,
            "display": null,
            "flex": null,
            "flex_flow": null,
            "grid_area": null,
            "grid_auto_columns": null,
            "grid_auto_flow": null,
            "grid_auto_rows": null,
            "grid_column": null,
            "grid_gap": null,
            "grid_row": null,
            "grid_template_areas": null,
            "grid_template_columns": null,
            "grid_template_rows": null,
            "height": null,
            "justify_content": null,
            "justify_items": null,
            "left": null,
            "margin": null,
            "max_height": null,
            "max_width": null,
            "min_height": null,
            "min_width": null,
            "object_fit": null,
            "object_position": null,
            "order": null,
            "overflow": null,
            "overflow_x": null,
            "overflow_y": null,
            "padding": null,
            "right": null,
            "top": null,
            "visibility": null,
            "width": null
          }
        },
        "eb16e7f823d14d1fa46e25e5e89ea131": {
          "model_module": "@jupyter-widgets/controls",
          "model_name": "ProgressStyleModel",
          "model_module_version": "1.5.0",
          "state": {
            "_model_module": "@jupyter-widgets/controls",
            "_model_module_version": "1.5.0",
            "_model_name": "ProgressStyleModel",
            "_view_count": null,
            "_view_module": "@jupyter-widgets/base",
            "_view_module_version": "1.2.0",
            "_view_name": "StyleView",
            "bar_color": null,
            "description_width": ""
          }
        },
        "f580925dfa794fc0bdb4f835b1861328": {
          "model_module": "@jupyter-widgets/controls",
          "model_name": "VBoxModel",
          "model_module_version": "1.5.0",
          "state": {
            "_dom_classes": [],
            "_model_module": "@jupyter-widgets/controls",
            "_model_module_version": "1.5.0",
            "_model_name": "VBoxModel",
            "_view_count": null,
            "_view_module": "@jupyter-widgets/controls",
            "_view_module_version": "1.5.0",
            "_view_name": "VBoxView",
            "box_style": "",
            "children": [
              "IPY_MODEL_fd86f7c0165f48689e378882e6a8d333",
              "IPY_MODEL_0e0751fc9184405e900d69366e61a8e6"
            ],
            "layout": "IPY_MODEL_fc7684db6aa34fa09ef9ece9d81d9263"
          }
        },
        "fd86f7c0165f48689e378882e6a8d333": {
          "model_module": "@jupyter-widgets/controls",
          "model_name": "LabelModel",
          "model_module_version": "1.5.0",
          "state": {
            "_dom_classes": [],
            "_model_module": "@jupyter-widgets/controls",
            "_model_module_version": "1.5.0",
            "_model_name": "LabelModel",
            "_view_count": null,
            "_view_module": "@jupyter-widgets/controls",
            "_view_module_version": "1.5.0",
            "_view_name": "LabelView",
            "description": "",
            "description_tooltip": null,
            "layout": "IPY_MODEL_0054612649014f2db949e6bfa6db9342",
            "placeholder": "​",
            "style": "IPY_MODEL_d46bb534b9f14473a15ccd7c2a852803",
            "value": "0.001 MB of 0.001 MB uploaded (0.000 MB deduped)\r"
          }
        },
        "0e0751fc9184405e900d69366e61a8e6": {
          "model_module": "@jupyter-widgets/controls",
          "model_name": "FloatProgressModel",
          "model_module_version": "1.5.0",
          "state": {
            "_dom_classes": [],
            "_model_module": "@jupyter-widgets/controls",
            "_model_module_version": "1.5.0",
            "_model_name": "FloatProgressModel",
            "_view_count": null,
            "_view_module": "@jupyter-widgets/controls",
            "_view_module_version": "1.5.0",
            "_view_name": "ProgressView",
            "bar_style": "",
            "description": "",
            "description_tooltip": null,
            "layout": "IPY_MODEL_a534c07c17274cc9aa5a41671106772b",
            "max": 1,
            "min": 0,
            "orientation": "horizontal",
            "style": "IPY_MODEL_606c889fed46475eb3adc8b1f5acaa73",
            "value": 1
          }
        },
        "fc7684db6aa34fa09ef9ece9d81d9263": {
          "model_module": "@jupyter-widgets/base",
          "model_name": "LayoutModel",
          "model_module_version": "1.2.0",
          "state": {
            "_model_module": "@jupyter-widgets/base",
            "_model_module_version": "1.2.0",
            "_model_name": "LayoutModel",
            "_view_count": null,
            "_view_module": "@jupyter-widgets/base",
            "_view_module_version": "1.2.0",
            "_view_name": "LayoutView",
            "align_content": null,
            "align_items": null,
            "align_self": null,
            "border": null,
            "bottom": null,
            "display": null,
            "flex": null,
            "flex_flow": null,
            "grid_area": null,
            "grid_auto_columns": null,
            "grid_auto_flow": null,
            "grid_auto_rows": null,
            "grid_column": null,
            "grid_gap": null,
            "grid_row": null,
            "grid_template_areas": null,
            "grid_template_columns": null,
            "grid_template_rows": null,
            "height": null,
            "justify_content": null,
            "justify_items": null,
            "left": null,
            "margin": null,
            "max_height": null,
            "max_width": null,
            "min_height": null,
            "min_width": null,
            "object_fit": null,
            "object_position": null,
            "order": null,
            "overflow": null,
            "overflow_x": null,
            "overflow_y": null,
            "padding": null,
            "right": null,
            "top": null,
            "visibility": null,
            "width": null
          }
        },
        "0054612649014f2db949e6bfa6db9342": {
          "model_module": "@jupyter-widgets/base",
          "model_name": "LayoutModel",
          "model_module_version": "1.2.0",
          "state": {
            "_model_module": "@jupyter-widgets/base",
            "_model_module_version": "1.2.0",
            "_model_name": "LayoutModel",
            "_view_count": null,
            "_view_module": "@jupyter-widgets/base",
            "_view_module_version": "1.2.0",
            "_view_name": "LayoutView",
            "align_content": null,
            "align_items": null,
            "align_self": null,
            "border": null,
            "bottom": null,
            "display": null,
            "flex": null,
            "flex_flow": null,
            "grid_area": null,
            "grid_auto_columns": null,
            "grid_auto_flow": null,
            "grid_auto_rows": null,
            "grid_column": null,
            "grid_gap": null,
            "grid_row": null,
            "grid_template_areas": null,
            "grid_template_columns": null,
            "grid_template_rows": null,
            "height": null,
            "justify_content": null,
            "justify_items": null,
            "left": null,
            "margin": null,
            "max_height": null,
            "max_width": null,
            "min_height": null,
            "min_width": null,
            "object_fit": null,
            "object_position": null,
            "order": null,
            "overflow": null,
            "overflow_x": null,
            "overflow_y": null,
            "padding": null,
            "right": null,
            "top": null,
            "visibility": null,
            "width": null
          }
        },
        "d46bb534b9f14473a15ccd7c2a852803": {
          "model_module": "@jupyter-widgets/controls",
          "model_name": "DescriptionStyleModel",
          "model_module_version": "1.5.0",
          "state": {
            "_model_module": "@jupyter-widgets/controls",
            "_model_module_version": "1.5.0",
            "_model_name": "DescriptionStyleModel",
            "_view_count": null,
            "_view_module": "@jupyter-widgets/base",
            "_view_module_version": "1.2.0",
            "_view_name": "StyleView",
            "description_width": ""
          }
        },
        "a534c07c17274cc9aa5a41671106772b": {
          "model_module": "@jupyter-widgets/base",
          "model_name": "LayoutModel",
          "model_module_version": "1.2.0",
          "state": {
            "_model_module": "@jupyter-widgets/base",
            "_model_module_version": "1.2.0",
            "_model_name": "LayoutModel",
            "_view_count": null,
            "_view_module": "@jupyter-widgets/base",
            "_view_module_version": "1.2.0",
            "_view_name": "LayoutView",
            "align_content": null,
            "align_items": null,
            "align_self": null,
            "border": null,
            "bottom": null,
            "display": null,
            "flex": null,
            "flex_flow": null,
            "grid_area": null,
            "grid_auto_columns": null,
            "grid_auto_flow": null,
            "grid_auto_rows": null,
            "grid_column": null,
            "grid_gap": null,
            "grid_row": null,
            "grid_template_areas": null,
            "grid_template_columns": null,
            "grid_template_rows": null,
            "height": null,
            "justify_content": null,
            "justify_items": null,
            "left": null,
            "margin": null,
            "max_height": null,
            "max_width": null,
            "min_height": null,
            "min_width": null,
            "object_fit": null,
            "object_position": null,
            "order": null,
            "overflow": null,
            "overflow_x": null,
            "overflow_y": null,
            "padding": null,
            "right": null,
            "top": null,
            "visibility": null,
            "width": null
          }
        },
        "606c889fed46475eb3adc8b1f5acaa73": {
          "model_module": "@jupyter-widgets/controls",
          "model_name": "ProgressStyleModel",
          "model_module_version": "1.5.0",
          "state": {
            "_model_module": "@jupyter-widgets/controls",
            "_model_module_version": "1.5.0",
            "_model_name": "ProgressStyleModel",
            "_view_count": null,
            "_view_module": "@jupyter-widgets/base",
            "_view_module_version": "1.2.0",
            "_view_name": "StyleView",
            "bar_color": null,
            "description_width": ""
          }
        },
        "2c6f7f3ea03c49b192f60b595e067149": {
          "model_module": "@jupyter-widgets/controls",
          "model_name": "VBoxModel",
          "model_module_version": "1.5.0",
          "state": {
            "_dom_classes": [],
            "_model_module": "@jupyter-widgets/controls",
            "_model_module_version": "1.5.0",
            "_model_name": "VBoxModel",
            "_view_count": null,
            "_view_module": "@jupyter-widgets/controls",
            "_view_module_version": "1.5.0",
            "_view_name": "VBoxView",
            "box_style": "",
            "children": [
              "IPY_MODEL_f6117edd0560467cb4283718164061eb",
              "IPY_MODEL_04fd137b959f4727b237e34de54e0553"
            ],
            "layout": "IPY_MODEL_9509e2f45c8b4a4d9b96ff0bcc8988b6"
          }
        },
        "f6117edd0560467cb4283718164061eb": {
          "model_module": "@jupyter-widgets/controls",
          "model_name": "LabelModel",
          "model_module_version": "1.5.0",
          "state": {
            "_dom_classes": [],
            "_model_module": "@jupyter-widgets/controls",
            "_model_module_version": "1.5.0",
            "_model_name": "LabelModel",
            "_view_count": null,
            "_view_module": "@jupyter-widgets/controls",
            "_view_module_version": "1.5.0",
            "_view_name": "LabelView",
            "description": "",
            "description_tooltip": null,
            "layout": "IPY_MODEL_0ce716100fa244afbc5a6787bbc22755",
            "placeholder": "​",
            "style": "IPY_MODEL_727384908ca344c6b6460248b2dcb504",
            "value": "0.001 MB of 0.001 MB uploaded (0.000 MB deduped)\r"
          }
        },
        "04fd137b959f4727b237e34de54e0553": {
          "model_module": "@jupyter-widgets/controls",
          "model_name": "FloatProgressModel",
          "model_module_version": "1.5.0",
          "state": {
            "_dom_classes": [],
            "_model_module": "@jupyter-widgets/controls",
            "_model_module_version": "1.5.0",
            "_model_name": "FloatProgressModel",
            "_view_count": null,
            "_view_module": "@jupyter-widgets/controls",
            "_view_module_version": "1.5.0",
            "_view_name": "ProgressView",
            "bar_style": "",
            "description": "",
            "description_tooltip": null,
            "layout": "IPY_MODEL_9f68bb0974f844e48b4709e694f3d22d",
            "max": 1,
            "min": 0,
            "orientation": "horizontal",
            "style": "IPY_MODEL_3be459f93e5641d9ac6eb1a4771c0171",
            "value": 1
          }
        },
        "9509e2f45c8b4a4d9b96ff0bcc8988b6": {
          "model_module": "@jupyter-widgets/base",
          "model_name": "LayoutModel",
          "model_module_version": "1.2.0",
          "state": {
            "_model_module": "@jupyter-widgets/base",
            "_model_module_version": "1.2.0",
            "_model_name": "LayoutModel",
            "_view_count": null,
            "_view_module": "@jupyter-widgets/base",
            "_view_module_version": "1.2.0",
            "_view_name": "LayoutView",
            "align_content": null,
            "align_items": null,
            "align_self": null,
            "border": null,
            "bottom": null,
            "display": null,
            "flex": null,
            "flex_flow": null,
            "grid_area": null,
            "grid_auto_columns": null,
            "grid_auto_flow": null,
            "grid_auto_rows": null,
            "grid_column": null,
            "grid_gap": null,
            "grid_row": null,
            "grid_template_areas": null,
            "grid_template_columns": null,
            "grid_template_rows": null,
            "height": null,
            "justify_content": null,
            "justify_items": null,
            "left": null,
            "margin": null,
            "max_height": null,
            "max_width": null,
            "min_height": null,
            "min_width": null,
            "object_fit": null,
            "object_position": null,
            "order": null,
            "overflow": null,
            "overflow_x": null,
            "overflow_y": null,
            "padding": null,
            "right": null,
            "top": null,
            "visibility": null,
            "width": null
          }
        },
        "0ce716100fa244afbc5a6787bbc22755": {
          "model_module": "@jupyter-widgets/base",
          "model_name": "LayoutModel",
          "model_module_version": "1.2.0",
          "state": {
            "_model_module": "@jupyter-widgets/base",
            "_model_module_version": "1.2.0",
            "_model_name": "LayoutModel",
            "_view_count": null,
            "_view_module": "@jupyter-widgets/base",
            "_view_module_version": "1.2.0",
            "_view_name": "LayoutView",
            "align_content": null,
            "align_items": null,
            "align_self": null,
            "border": null,
            "bottom": null,
            "display": null,
            "flex": null,
            "flex_flow": null,
            "grid_area": null,
            "grid_auto_columns": null,
            "grid_auto_flow": null,
            "grid_auto_rows": null,
            "grid_column": null,
            "grid_gap": null,
            "grid_row": null,
            "grid_template_areas": null,
            "grid_template_columns": null,
            "grid_template_rows": null,
            "height": null,
            "justify_content": null,
            "justify_items": null,
            "left": null,
            "margin": null,
            "max_height": null,
            "max_width": null,
            "min_height": null,
            "min_width": null,
            "object_fit": null,
            "object_position": null,
            "order": null,
            "overflow": null,
            "overflow_x": null,
            "overflow_y": null,
            "padding": null,
            "right": null,
            "top": null,
            "visibility": null,
            "width": null
          }
        },
        "727384908ca344c6b6460248b2dcb504": {
          "model_module": "@jupyter-widgets/controls",
          "model_name": "DescriptionStyleModel",
          "model_module_version": "1.5.0",
          "state": {
            "_model_module": "@jupyter-widgets/controls",
            "_model_module_version": "1.5.0",
            "_model_name": "DescriptionStyleModel",
            "_view_count": null,
            "_view_module": "@jupyter-widgets/base",
            "_view_module_version": "1.2.0",
            "_view_name": "StyleView",
            "description_width": ""
          }
        },
        "9f68bb0974f844e48b4709e694f3d22d": {
          "model_module": "@jupyter-widgets/base",
          "model_name": "LayoutModel",
          "model_module_version": "1.2.0",
          "state": {
            "_model_module": "@jupyter-widgets/base",
            "_model_module_version": "1.2.0",
            "_model_name": "LayoutModel",
            "_view_count": null,
            "_view_module": "@jupyter-widgets/base",
            "_view_module_version": "1.2.0",
            "_view_name": "LayoutView",
            "align_content": null,
            "align_items": null,
            "align_self": null,
            "border": null,
            "bottom": null,
            "display": null,
            "flex": null,
            "flex_flow": null,
            "grid_area": null,
            "grid_auto_columns": null,
            "grid_auto_flow": null,
            "grid_auto_rows": null,
            "grid_column": null,
            "grid_gap": null,
            "grid_row": null,
            "grid_template_areas": null,
            "grid_template_columns": null,
            "grid_template_rows": null,
            "height": null,
            "justify_content": null,
            "justify_items": null,
            "left": null,
            "margin": null,
            "max_height": null,
            "max_width": null,
            "min_height": null,
            "min_width": null,
            "object_fit": null,
            "object_position": null,
            "order": null,
            "overflow": null,
            "overflow_x": null,
            "overflow_y": null,
            "padding": null,
            "right": null,
            "top": null,
            "visibility": null,
            "width": null
          }
        },
        "3be459f93e5641d9ac6eb1a4771c0171": {
          "model_module": "@jupyter-widgets/controls",
          "model_name": "ProgressStyleModel",
          "model_module_version": "1.5.0",
          "state": {
            "_model_module": "@jupyter-widgets/controls",
            "_model_module_version": "1.5.0",
            "_model_name": "ProgressStyleModel",
            "_view_count": null,
            "_view_module": "@jupyter-widgets/base",
            "_view_module_version": "1.2.0",
            "_view_name": "StyleView",
            "bar_color": null,
            "description_width": ""
          }
        },
        "03fae3ab64ee429ab61432db94a4a748": {
          "model_module": "@jupyter-widgets/controls",
          "model_name": "VBoxModel",
          "model_module_version": "1.5.0",
          "state": {
            "_dom_classes": [],
            "_model_module": "@jupyter-widgets/controls",
            "_model_module_version": "1.5.0",
            "_model_name": "VBoxModel",
            "_view_count": null,
            "_view_module": "@jupyter-widgets/controls",
            "_view_module_version": "1.5.0",
            "_view_name": "VBoxView",
            "box_style": "",
            "children": [
              "IPY_MODEL_09e6b0451feb420a801a5d732a20ac6c",
              "IPY_MODEL_47f9c569809240069a5a6536012d9243"
            ],
            "layout": "IPY_MODEL_dbf2641404934f3c8d48ed3e1516a60c"
          }
        },
        "09e6b0451feb420a801a5d732a20ac6c": {
          "model_module": "@jupyter-widgets/controls",
          "model_name": "LabelModel",
          "model_module_version": "1.5.0",
          "state": {
            "_dom_classes": [],
            "_model_module": "@jupyter-widgets/controls",
            "_model_module_version": "1.5.0",
            "_model_name": "LabelModel",
            "_view_count": null,
            "_view_module": "@jupyter-widgets/controls",
            "_view_module_version": "1.5.0",
            "_view_name": "LabelView",
            "description": "",
            "description_tooltip": null,
            "layout": "IPY_MODEL_fe1380c67f5540c188798da28f31dcb6",
            "placeholder": "​",
            "style": "IPY_MODEL_2f4ab72062c9463ea1c7282864617cec",
            "value": "0.001 MB of 0.001 MB uploaded (0.000 MB deduped)\r"
          }
        },
        "47f9c569809240069a5a6536012d9243": {
          "model_module": "@jupyter-widgets/controls",
          "model_name": "FloatProgressModel",
          "model_module_version": "1.5.0",
          "state": {
            "_dom_classes": [],
            "_model_module": "@jupyter-widgets/controls",
            "_model_module_version": "1.5.0",
            "_model_name": "FloatProgressModel",
            "_view_count": null,
            "_view_module": "@jupyter-widgets/controls",
            "_view_module_version": "1.5.0",
            "_view_name": "ProgressView",
            "bar_style": "",
            "description": "",
            "description_tooltip": null,
            "layout": "IPY_MODEL_8bfeb242490849059f801690b09a4a5f",
            "max": 1,
            "min": 0,
            "orientation": "horizontal",
            "style": "IPY_MODEL_7f74a3c23a0e4cef9d0634dfd1be4c9f",
            "value": 1
          }
        },
        "dbf2641404934f3c8d48ed3e1516a60c": {
          "model_module": "@jupyter-widgets/base",
          "model_name": "LayoutModel",
          "model_module_version": "1.2.0",
          "state": {
            "_model_module": "@jupyter-widgets/base",
            "_model_module_version": "1.2.0",
            "_model_name": "LayoutModel",
            "_view_count": null,
            "_view_module": "@jupyter-widgets/base",
            "_view_module_version": "1.2.0",
            "_view_name": "LayoutView",
            "align_content": null,
            "align_items": null,
            "align_self": null,
            "border": null,
            "bottom": null,
            "display": null,
            "flex": null,
            "flex_flow": null,
            "grid_area": null,
            "grid_auto_columns": null,
            "grid_auto_flow": null,
            "grid_auto_rows": null,
            "grid_column": null,
            "grid_gap": null,
            "grid_row": null,
            "grid_template_areas": null,
            "grid_template_columns": null,
            "grid_template_rows": null,
            "height": null,
            "justify_content": null,
            "justify_items": null,
            "left": null,
            "margin": null,
            "max_height": null,
            "max_width": null,
            "min_height": null,
            "min_width": null,
            "object_fit": null,
            "object_position": null,
            "order": null,
            "overflow": null,
            "overflow_x": null,
            "overflow_y": null,
            "padding": null,
            "right": null,
            "top": null,
            "visibility": null,
            "width": null
          }
        },
        "fe1380c67f5540c188798da28f31dcb6": {
          "model_module": "@jupyter-widgets/base",
          "model_name": "LayoutModel",
          "model_module_version": "1.2.0",
          "state": {
            "_model_module": "@jupyter-widgets/base",
            "_model_module_version": "1.2.0",
            "_model_name": "LayoutModel",
            "_view_count": null,
            "_view_module": "@jupyter-widgets/base",
            "_view_module_version": "1.2.0",
            "_view_name": "LayoutView",
            "align_content": null,
            "align_items": null,
            "align_self": null,
            "border": null,
            "bottom": null,
            "display": null,
            "flex": null,
            "flex_flow": null,
            "grid_area": null,
            "grid_auto_columns": null,
            "grid_auto_flow": null,
            "grid_auto_rows": null,
            "grid_column": null,
            "grid_gap": null,
            "grid_row": null,
            "grid_template_areas": null,
            "grid_template_columns": null,
            "grid_template_rows": null,
            "height": null,
            "justify_content": null,
            "justify_items": null,
            "left": null,
            "margin": null,
            "max_height": null,
            "max_width": null,
            "min_height": null,
            "min_width": null,
            "object_fit": null,
            "object_position": null,
            "order": null,
            "overflow": null,
            "overflow_x": null,
            "overflow_y": null,
            "padding": null,
            "right": null,
            "top": null,
            "visibility": null,
            "width": null
          }
        },
        "2f4ab72062c9463ea1c7282864617cec": {
          "model_module": "@jupyter-widgets/controls",
          "model_name": "DescriptionStyleModel",
          "model_module_version": "1.5.0",
          "state": {
            "_model_module": "@jupyter-widgets/controls",
            "_model_module_version": "1.5.0",
            "_model_name": "DescriptionStyleModel",
            "_view_count": null,
            "_view_module": "@jupyter-widgets/base",
            "_view_module_version": "1.2.0",
            "_view_name": "StyleView",
            "description_width": ""
          }
        },
        "8bfeb242490849059f801690b09a4a5f": {
          "model_module": "@jupyter-widgets/base",
          "model_name": "LayoutModel",
          "model_module_version": "1.2.0",
          "state": {
            "_model_module": "@jupyter-widgets/base",
            "_model_module_version": "1.2.0",
            "_model_name": "LayoutModel",
            "_view_count": null,
            "_view_module": "@jupyter-widgets/base",
            "_view_module_version": "1.2.0",
            "_view_name": "LayoutView",
            "align_content": null,
            "align_items": null,
            "align_self": null,
            "border": null,
            "bottom": null,
            "display": null,
            "flex": null,
            "flex_flow": null,
            "grid_area": null,
            "grid_auto_columns": null,
            "grid_auto_flow": null,
            "grid_auto_rows": null,
            "grid_column": null,
            "grid_gap": null,
            "grid_row": null,
            "grid_template_areas": null,
            "grid_template_columns": null,
            "grid_template_rows": null,
            "height": null,
            "justify_content": null,
            "justify_items": null,
            "left": null,
            "margin": null,
            "max_height": null,
            "max_width": null,
            "min_height": null,
            "min_width": null,
            "object_fit": null,
            "object_position": null,
            "order": null,
            "overflow": null,
            "overflow_x": null,
            "overflow_y": null,
            "padding": null,
            "right": null,
            "top": null,
            "visibility": null,
            "width": null
          }
        },
        "7f74a3c23a0e4cef9d0634dfd1be4c9f": {
          "model_module": "@jupyter-widgets/controls",
          "model_name": "ProgressStyleModel",
          "model_module_version": "1.5.0",
          "state": {
            "_model_module": "@jupyter-widgets/controls",
            "_model_module_version": "1.5.0",
            "_model_name": "ProgressStyleModel",
            "_view_count": null,
            "_view_module": "@jupyter-widgets/base",
            "_view_module_version": "1.2.0",
            "_view_name": "StyleView",
            "bar_color": null,
            "description_width": ""
          }
        },
        "7f625110af8246cb90a7533f6be30bc0": {
          "model_module": "@jupyter-widgets/controls",
          "model_name": "VBoxModel",
          "model_module_version": "1.5.0",
          "state": {
            "_dom_classes": [],
            "_model_module": "@jupyter-widgets/controls",
            "_model_module_version": "1.5.0",
            "_model_name": "VBoxModel",
            "_view_count": null,
            "_view_module": "@jupyter-widgets/controls",
            "_view_module_version": "1.5.0",
            "_view_name": "VBoxView",
            "box_style": "",
            "children": [
              "IPY_MODEL_6215dfe9e2f449e6a7d9c0ab5b8fb9c0",
              "IPY_MODEL_3ff73370daca4147963df61c572beda9"
            ],
            "layout": "IPY_MODEL_eae436bcc92141db8a1406ddb1e19deb"
          }
        },
        "6215dfe9e2f449e6a7d9c0ab5b8fb9c0": {
          "model_module": "@jupyter-widgets/controls",
          "model_name": "LabelModel",
          "model_module_version": "1.5.0",
          "state": {
            "_dom_classes": [],
            "_model_module": "@jupyter-widgets/controls",
            "_model_module_version": "1.5.0",
            "_model_name": "LabelModel",
            "_view_count": null,
            "_view_module": "@jupyter-widgets/controls",
            "_view_module_version": "1.5.0",
            "_view_name": "LabelView",
            "description": "",
            "description_tooltip": null,
            "layout": "IPY_MODEL_3ef027e2587f4c9293257f37ee1d6e10",
            "placeholder": "​",
            "style": "IPY_MODEL_e3454ede982d42fba462e41423532c6d",
            "value": "0.001 MB of 0.001 MB uploaded (0.000 MB deduped)\r"
          }
        },
        "3ff73370daca4147963df61c572beda9": {
          "model_module": "@jupyter-widgets/controls",
          "model_name": "FloatProgressModel",
          "model_module_version": "1.5.0",
          "state": {
            "_dom_classes": [],
            "_model_module": "@jupyter-widgets/controls",
            "_model_module_version": "1.5.0",
            "_model_name": "FloatProgressModel",
            "_view_count": null,
            "_view_module": "@jupyter-widgets/controls",
            "_view_module_version": "1.5.0",
            "_view_name": "ProgressView",
            "bar_style": "",
            "description": "",
            "description_tooltip": null,
            "layout": "IPY_MODEL_0621f9547b06405899f4009fffa41968",
            "max": 1,
            "min": 0,
            "orientation": "horizontal",
            "style": "IPY_MODEL_656344d698e44f29bf9153271753285d",
            "value": 1
          }
        },
        "eae436bcc92141db8a1406ddb1e19deb": {
          "model_module": "@jupyter-widgets/base",
          "model_name": "LayoutModel",
          "model_module_version": "1.2.0",
          "state": {
            "_model_module": "@jupyter-widgets/base",
            "_model_module_version": "1.2.0",
            "_model_name": "LayoutModel",
            "_view_count": null,
            "_view_module": "@jupyter-widgets/base",
            "_view_module_version": "1.2.0",
            "_view_name": "LayoutView",
            "align_content": null,
            "align_items": null,
            "align_self": null,
            "border": null,
            "bottom": null,
            "display": null,
            "flex": null,
            "flex_flow": null,
            "grid_area": null,
            "grid_auto_columns": null,
            "grid_auto_flow": null,
            "grid_auto_rows": null,
            "grid_column": null,
            "grid_gap": null,
            "grid_row": null,
            "grid_template_areas": null,
            "grid_template_columns": null,
            "grid_template_rows": null,
            "height": null,
            "justify_content": null,
            "justify_items": null,
            "left": null,
            "margin": null,
            "max_height": null,
            "max_width": null,
            "min_height": null,
            "min_width": null,
            "object_fit": null,
            "object_position": null,
            "order": null,
            "overflow": null,
            "overflow_x": null,
            "overflow_y": null,
            "padding": null,
            "right": null,
            "top": null,
            "visibility": null,
            "width": null
          }
        },
        "3ef027e2587f4c9293257f37ee1d6e10": {
          "model_module": "@jupyter-widgets/base",
          "model_name": "LayoutModel",
          "model_module_version": "1.2.0",
          "state": {
            "_model_module": "@jupyter-widgets/base",
            "_model_module_version": "1.2.0",
            "_model_name": "LayoutModel",
            "_view_count": null,
            "_view_module": "@jupyter-widgets/base",
            "_view_module_version": "1.2.0",
            "_view_name": "LayoutView",
            "align_content": null,
            "align_items": null,
            "align_self": null,
            "border": null,
            "bottom": null,
            "display": null,
            "flex": null,
            "flex_flow": null,
            "grid_area": null,
            "grid_auto_columns": null,
            "grid_auto_flow": null,
            "grid_auto_rows": null,
            "grid_column": null,
            "grid_gap": null,
            "grid_row": null,
            "grid_template_areas": null,
            "grid_template_columns": null,
            "grid_template_rows": null,
            "height": null,
            "justify_content": null,
            "justify_items": null,
            "left": null,
            "margin": null,
            "max_height": null,
            "max_width": null,
            "min_height": null,
            "min_width": null,
            "object_fit": null,
            "object_position": null,
            "order": null,
            "overflow": null,
            "overflow_x": null,
            "overflow_y": null,
            "padding": null,
            "right": null,
            "top": null,
            "visibility": null,
            "width": null
          }
        },
        "e3454ede982d42fba462e41423532c6d": {
          "model_module": "@jupyter-widgets/controls",
          "model_name": "DescriptionStyleModel",
          "model_module_version": "1.5.0",
          "state": {
            "_model_module": "@jupyter-widgets/controls",
            "_model_module_version": "1.5.0",
            "_model_name": "DescriptionStyleModel",
            "_view_count": null,
            "_view_module": "@jupyter-widgets/base",
            "_view_module_version": "1.2.0",
            "_view_name": "StyleView",
            "description_width": ""
          }
        },
        "0621f9547b06405899f4009fffa41968": {
          "model_module": "@jupyter-widgets/base",
          "model_name": "LayoutModel",
          "model_module_version": "1.2.0",
          "state": {
            "_model_module": "@jupyter-widgets/base",
            "_model_module_version": "1.2.0",
            "_model_name": "LayoutModel",
            "_view_count": null,
            "_view_module": "@jupyter-widgets/base",
            "_view_module_version": "1.2.0",
            "_view_name": "LayoutView",
            "align_content": null,
            "align_items": null,
            "align_self": null,
            "border": null,
            "bottom": null,
            "display": null,
            "flex": null,
            "flex_flow": null,
            "grid_area": null,
            "grid_auto_columns": null,
            "grid_auto_flow": null,
            "grid_auto_rows": null,
            "grid_column": null,
            "grid_gap": null,
            "grid_row": null,
            "grid_template_areas": null,
            "grid_template_columns": null,
            "grid_template_rows": null,
            "height": null,
            "justify_content": null,
            "justify_items": null,
            "left": null,
            "margin": null,
            "max_height": null,
            "max_width": null,
            "min_height": null,
            "min_width": null,
            "object_fit": null,
            "object_position": null,
            "order": null,
            "overflow": null,
            "overflow_x": null,
            "overflow_y": null,
            "padding": null,
            "right": null,
            "top": null,
            "visibility": null,
            "width": null
          }
        },
        "656344d698e44f29bf9153271753285d": {
          "model_module": "@jupyter-widgets/controls",
          "model_name": "ProgressStyleModel",
          "model_module_version": "1.5.0",
          "state": {
            "_model_module": "@jupyter-widgets/controls",
            "_model_module_version": "1.5.0",
            "_model_name": "ProgressStyleModel",
            "_view_count": null,
            "_view_module": "@jupyter-widgets/base",
            "_view_module_version": "1.2.0",
            "_view_name": "StyleView",
            "bar_color": null,
            "description_width": ""
          }
        },
        "08d3da04cdd84329a143f172d1f9fa88": {
          "model_module": "@jupyter-widgets/controls",
          "model_name": "VBoxModel",
          "model_module_version": "1.5.0",
          "state": {
            "_dom_classes": [],
            "_model_module": "@jupyter-widgets/controls",
            "_model_module_version": "1.5.0",
            "_model_name": "VBoxModel",
            "_view_count": null,
            "_view_module": "@jupyter-widgets/controls",
            "_view_module_version": "1.5.0",
            "_view_name": "VBoxView",
            "box_style": "",
            "children": [
              "IPY_MODEL_637574a2ece547eca90f977fa28495d2",
              "IPY_MODEL_a8e815106332432dbbbb342b394eff8a"
            ],
            "layout": "IPY_MODEL_5be2ed11c992496faf7d91ce35418a28"
          }
        },
        "637574a2ece547eca90f977fa28495d2": {
          "model_module": "@jupyter-widgets/controls",
          "model_name": "LabelModel",
          "model_module_version": "1.5.0",
          "state": {
            "_dom_classes": [],
            "_model_module": "@jupyter-widgets/controls",
            "_model_module_version": "1.5.0",
            "_model_name": "LabelModel",
            "_view_count": null,
            "_view_module": "@jupyter-widgets/controls",
            "_view_module_version": "1.5.0",
            "_view_name": "LabelView",
            "description": "",
            "description_tooltip": null,
            "layout": "IPY_MODEL_27ac211c89604aaa97bf6a9fb4ed1e31",
            "placeholder": "​",
            "style": "IPY_MODEL_e436d8e04b134ea89eb0439b37a7bb5b",
            "value": "0.001 MB of 0.001 MB uploaded (0.000 MB deduped)\r"
          }
        },
        "a8e815106332432dbbbb342b394eff8a": {
          "model_module": "@jupyter-widgets/controls",
          "model_name": "FloatProgressModel",
          "model_module_version": "1.5.0",
          "state": {
            "_dom_classes": [],
            "_model_module": "@jupyter-widgets/controls",
            "_model_module_version": "1.5.0",
            "_model_name": "FloatProgressModel",
            "_view_count": null,
            "_view_module": "@jupyter-widgets/controls",
            "_view_module_version": "1.5.0",
            "_view_name": "ProgressView",
            "bar_style": "",
            "description": "",
            "description_tooltip": null,
            "layout": "IPY_MODEL_e631f40af781452d9b766ef9714f8cb3",
            "max": 1,
            "min": 0,
            "orientation": "horizontal",
            "style": "IPY_MODEL_1208d29b659f4477b637068272e859df",
            "value": 1
          }
        },
        "5be2ed11c992496faf7d91ce35418a28": {
          "model_module": "@jupyter-widgets/base",
          "model_name": "LayoutModel",
          "model_module_version": "1.2.0",
          "state": {
            "_model_module": "@jupyter-widgets/base",
            "_model_module_version": "1.2.0",
            "_model_name": "LayoutModel",
            "_view_count": null,
            "_view_module": "@jupyter-widgets/base",
            "_view_module_version": "1.2.0",
            "_view_name": "LayoutView",
            "align_content": null,
            "align_items": null,
            "align_self": null,
            "border": null,
            "bottom": null,
            "display": null,
            "flex": null,
            "flex_flow": null,
            "grid_area": null,
            "grid_auto_columns": null,
            "grid_auto_flow": null,
            "grid_auto_rows": null,
            "grid_column": null,
            "grid_gap": null,
            "grid_row": null,
            "grid_template_areas": null,
            "grid_template_columns": null,
            "grid_template_rows": null,
            "height": null,
            "justify_content": null,
            "justify_items": null,
            "left": null,
            "margin": null,
            "max_height": null,
            "max_width": null,
            "min_height": null,
            "min_width": null,
            "object_fit": null,
            "object_position": null,
            "order": null,
            "overflow": null,
            "overflow_x": null,
            "overflow_y": null,
            "padding": null,
            "right": null,
            "top": null,
            "visibility": null,
            "width": null
          }
        },
        "27ac211c89604aaa97bf6a9fb4ed1e31": {
          "model_module": "@jupyter-widgets/base",
          "model_name": "LayoutModel",
          "model_module_version": "1.2.0",
          "state": {
            "_model_module": "@jupyter-widgets/base",
            "_model_module_version": "1.2.0",
            "_model_name": "LayoutModel",
            "_view_count": null,
            "_view_module": "@jupyter-widgets/base",
            "_view_module_version": "1.2.0",
            "_view_name": "LayoutView",
            "align_content": null,
            "align_items": null,
            "align_self": null,
            "border": null,
            "bottom": null,
            "display": null,
            "flex": null,
            "flex_flow": null,
            "grid_area": null,
            "grid_auto_columns": null,
            "grid_auto_flow": null,
            "grid_auto_rows": null,
            "grid_column": null,
            "grid_gap": null,
            "grid_row": null,
            "grid_template_areas": null,
            "grid_template_columns": null,
            "grid_template_rows": null,
            "height": null,
            "justify_content": null,
            "justify_items": null,
            "left": null,
            "margin": null,
            "max_height": null,
            "max_width": null,
            "min_height": null,
            "min_width": null,
            "object_fit": null,
            "object_position": null,
            "order": null,
            "overflow": null,
            "overflow_x": null,
            "overflow_y": null,
            "padding": null,
            "right": null,
            "top": null,
            "visibility": null,
            "width": null
          }
        },
        "e436d8e04b134ea89eb0439b37a7bb5b": {
          "model_module": "@jupyter-widgets/controls",
          "model_name": "DescriptionStyleModel",
          "model_module_version": "1.5.0",
          "state": {
            "_model_module": "@jupyter-widgets/controls",
            "_model_module_version": "1.5.0",
            "_model_name": "DescriptionStyleModel",
            "_view_count": null,
            "_view_module": "@jupyter-widgets/base",
            "_view_module_version": "1.2.0",
            "_view_name": "StyleView",
            "description_width": ""
          }
        },
        "e631f40af781452d9b766ef9714f8cb3": {
          "model_module": "@jupyter-widgets/base",
          "model_name": "LayoutModel",
          "model_module_version": "1.2.0",
          "state": {
            "_model_module": "@jupyter-widgets/base",
            "_model_module_version": "1.2.0",
            "_model_name": "LayoutModel",
            "_view_count": null,
            "_view_module": "@jupyter-widgets/base",
            "_view_module_version": "1.2.0",
            "_view_name": "LayoutView",
            "align_content": null,
            "align_items": null,
            "align_self": null,
            "border": null,
            "bottom": null,
            "display": null,
            "flex": null,
            "flex_flow": null,
            "grid_area": null,
            "grid_auto_columns": null,
            "grid_auto_flow": null,
            "grid_auto_rows": null,
            "grid_column": null,
            "grid_gap": null,
            "grid_row": null,
            "grid_template_areas": null,
            "grid_template_columns": null,
            "grid_template_rows": null,
            "height": null,
            "justify_content": null,
            "justify_items": null,
            "left": null,
            "margin": null,
            "max_height": null,
            "max_width": null,
            "min_height": null,
            "min_width": null,
            "object_fit": null,
            "object_position": null,
            "order": null,
            "overflow": null,
            "overflow_x": null,
            "overflow_y": null,
            "padding": null,
            "right": null,
            "top": null,
            "visibility": null,
            "width": null
          }
        },
        "1208d29b659f4477b637068272e859df": {
          "model_module": "@jupyter-widgets/controls",
          "model_name": "ProgressStyleModel",
          "model_module_version": "1.5.0",
          "state": {
            "_model_module": "@jupyter-widgets/controls",
            "_model_module_version": "1.5.0",
            "_model_name": "ProgressStyleModel",
            "_view_count": null,
            "_view_module": "@jupyter-widgets/base",
            "_view_module_version": "1.2.0",
            "_view_name": "StyleView",
            "bar_color": null,
            "description_width": ""
          }
        },
        "e05731c0d30640eca2eb8d74110038fc": {
          "model_module": "@jupyter-widgets/controls",
          "model_name": "VBoxModel",
          "model_module_version": "1.5.0",
          "state": {
            "_dom_classes": [],
            "_model_module": "@jupyter-widgets/controls",
            "_model_module_version": "1.5.0",
            "_model_name": "VBoxModel",
            "_view_count": null,
            "_view_module": "@jupyter-widgets/controls",
            "_view_module_version": "1.5.0",
            "_view_name": "VBoxView",
            "box_style": "",
            "children": [
              "IPY_MODEL_2d72a1fc7e6040fb9e6b0ab14b4b971e",
              "IPY_MODEL_ab6a86aa8d74417bafe255abdf82ecc6"
            ],
            "layout": "IPY_MODEL_f04af6df796a4df093c2c7b57461ee6a"
          }
        },
        "2d72a1fc7e6040fb9e6b0ab14b4b971e": {
          "model_module": "@jupyter-widgets/controls",
          "model_name": "LabelModel",
          "model_module_version": "1.5.0",
          "state": {
            "_dom_classes": [],
            "_model_module": "@jupyter-widgets/controls",
            "_model_module_version": "1.5.0",
            "_model_name": "LabelModel",
            "_view_count": null,
            "_view_module": "@jupyter-widgets/controls",
            "_view_module_version": "1.5.0",
            "_view_name": "LabelView",
            "description": "",
            "description_tooltip": null,
            "layout": "IPY_MODEL_b7c38b94f1a548c38f4eca089a01fd6f",
            "placeholder": "​",
            "style": "IPY_MODEL_bbc0761a2a0a483eaa928d7d567d66c4",
            "value": "0.001 MB of 0.015 MB uploaded (0.000 MB deduped)\r"
          }
        },
        "ab6a86aa8d74417bafe255abdf82ecc6": {
          "model_module": "@jupyter-widgets/controls",
          "model_name": "FloatProgressModel",
          "model_module_version": "1.5.0",
          "state": {
            "_dom_classes": [],
            "_model_module": "@jupyter-widgets/controls",
            "_model_module_version": "1.5.0",
            "_model_name": "FloatProgressModel",
            "_view_count": null,
            "_view_module": "@jupyter-widgets/controls",
            "_view_module_version": "1.5.0",
            "_view_name": "ProgressView",
            "bar_style": "",
            "description": "",
            "description_tooltip": null,
            "layout": "IPY_MODEL_cffeb046869c43128feceb9e955f356a",
            "max": 1,
            "min": 0,
            "orientation": "horizontal",
            "style": "IPY_MODEL_90f79ddf76574b59b6120f8c19038082",
            "value": 0.04839760291818655
          }
        },
        "f04af6df796a4df093c2c7b57461ee6a": {
          "model_module": "@jupyter-widgets/base",
          "model_name": "LayoutModel",
          "model_module_version": "1.2.0",
          "state": {
            "_model_module": "@jupyter-widgets/base",
            "_model_module_version": "1.2.0",
            "_model_name": "LayoutModel",
            "_view_count": null,
            "_view_module": "@jupyter-widgets/base",
            "_view_module_version": "1.2.0",
            "_view_name": "LayoutView",
            "align_content": null,
            "align_items": null,
            "align_self": null,
            "border": null,
            "bottom": null,
            "display": null,
            "flex": null,
            "flex_flow": null,
            "grid_area": null,
            "grid_auto_columns": null,
            "grid_auto_flow": null,
            "grid_auto_rows": null,
            "grid_column": null,
            "grid_gap": null,
            "grid_row": null,
            "grid_template_areas": null,
            "grid_template_columns": null,
            "grid_template_rows": null,
            "height": null,
            "justify_content": null,
            "justify_items": null,
            "left": null,
            "margin": null,
            "max_height": null,
            "max_width": null,
            "min_height": null,
            "min_width": null,
            "object_fit": null,
            "object_position": null,
            "order": null,
            "overflow": null,
            "overflow_x": null,
            "overflow_y": null,
            "padding": null,
            "right": null,
            "top": null,
            "visibility": null,
            "width": null
          }
        },
        "b7c38b94f1a548c38f4eca089a01fd6f": {
          "model_module": "@jupyter-widgets/base",
          "model_name": "LayoutModel",
          "model_module_version": "1.2.0",
          "state": {
            "_model_module": "@jupyter-widgets/base",
            "_model_module_version": "1.2.0",
            "_model_name": "LayoutModel",
            "_view_count": null,
            "_view_module": "@jupyter-widgets/base",
            "_view_module_version": "1.2.0",
            "_view_name": "LayoutView",
            "align_content": null,
            "align_items": null,
            "align_self": null,
            "border": null,
            "bottom": null,
            "display": null,
            "flex": null,
            "flex_flow": null,
            "grid_area": null,
            "grid_auto_columns": null,
            "grid_auto_flow": null,
            "grid_auto_rows": null,
            "grid_column": null,
            "grid_gap": null,
            "grid_row": null,
            "grid_template_areas": null,
            "grid_template_columns": null,
            "grid_template_rows": null,
            "height": null,
            "justify_content": null,
            "justify_items": null,
            "left": null,
            "margin": null,
            "max_height": null,
            "max_width": null,
            "min_height": null,
            "min_width": null,
            "object_fit": null,
            "object_position": null,
            "order": null,
            "overflow": null,
            "overflow_x": null,
            "overflow_y": null,
            "padding": null,
            "right": null,
            "top": null,
            "visibility": null,
            "width": null
          }
        },
        "bbc0761a2a0a483eaa928d7d567d66c4": {
          "model_module": "@jupyter-widgets/controls",
          "model_name": "DescriptionStyleModel",
          "model_module_version": "1.5.0",
          "state": {
            "_model_module": "@jupyter-widgets/controls",
            "_model_module_version": "1.5.0",
            "_model_name": "DescriptionStyleModel",
            "_view_count": null,
            "_view_module": "@jupyter-widgets/base",
            "_view_module_version": "1.2.0",
            "_view_name": "StyleView",
            "description_width": ""
          }
        },
        "cffeb046869c43128feceb9e955f356a": {
          "model_module": "@jupyter-widgets/base",
          "model_name": "LayoutModel",
          "model_module_version": "1.2.0",
          "state": {
            "_model_module": "@jupyter-widgets/base",
            "_model_module_version": "1.2.0",
            "_model_name": "LayoutModel",
            "_view_count": null,
            "_view_module": "@jupyter-widgets/base",
            "_view_module_version": "1.2.0",
            "_view_name": "LayoutView",
            "align_content": null,
            "align_items": null,
            "align_self": null,
            "border": null,
            "bottom": null,
            "display": null,
            "flex": null,
            "flex_flow": null,
            "grid_area": null,
            "grid_auto_columns": null,
            "grid_auto_flow": null,
            "grid_auto_rows": null,
            "grid_column": null,
            "grid_gap": null,
            "grid_row": null,
            "grid_template_areas": null,
            "grid_template_columns": null,
            "grid_template_rows": null,
            "height": null,
            "justify_content": null,
            "justify_items": null,
            "left": null,
            "margin": null,
            "max_height": null,
            "max_width": null,
            "min_height": null,
            "min_width": null,
            "object_fit": null,
            "object_position": null,
            "order": null,
            "overflow": null,
            "overflow_x": null,
            "overflow_y": null,
            "padding": null,
            "right": null,
            "top": null,
            "visibility": null,
            "width": null
          }
        },
        "90f79ddf76574b59b6120f8c19038082": {
          "model_module": "@jupyter-widgets/controls",
          "model_name": "ProgressStyleModel",
          "model_module_version": "1.5.0",
          "state": {
            "_model_module": "@jupyter-widgets/controls",
            "_model_module_version": "1.5.0",
            "_model_name": "ProgressStyleModel",
            "_view_count": null,
            "_view_module": "@jupyter-widgets/base",
            "_view_module_version": "1.2.0",
            "_view_name": "StyleView",
            "bar_color": null,
            "description_width": ""
          }
        }
      }
    }
  },
  "nbformat": 4,
  "nbformat_minor": 0
}