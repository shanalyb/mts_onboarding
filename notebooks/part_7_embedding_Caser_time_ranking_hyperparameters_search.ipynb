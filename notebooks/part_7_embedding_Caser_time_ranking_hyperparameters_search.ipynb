{
  "cells": [
    {
      "cell_type": "code",
      "execution_count": null,
      "metadata": {
        "id": "Owp20xO1OoDo"
      },
      "outputs": [],
      "source": [
        "%pip install wandb -Uqq"
      ]
    },
    {
      "cell_type": "code",
      "execution_count": null,
      "metadata": {
        "colab": {
          "base_uri": "https://localhost:8080/"
        },
        "id": "ArTWd-2aeX7r",
        "outputId": "fe2af7c1-e665-46cf-d09e-18ba42eb5602"
      },
      "outputs": [
        {
          "output_type": "stream",
          "name": "stdout",
          "text": [
            "\u001b[K     |████████████████████████████████| 13.5 MB 5.1 MB/s \n",
            "\u001b[K     |████████████████████████████████| 188 kB 47.6 MB/s \n",
            "\u001b[?25h"
          ]
        }
      ],
      "source": [
        "%pip install nmslib -Uqq"
      ]
    },
    {
      "cell_type": "code",
      "execution_count": null,
      "metadata": {
        "colab": {
          "base_uri": "https://localhost:8080/"
        },
        "id": "xzhrK1x9FJ6z",
        "outputId": "10b4a303-f7e2-4e79-e02d-eb5e8f087435"
      },
      "outputs": [
        {
          "output_type": "stream",
          "name": "stdout",
          "text": [
            "\u001b[K     |████████████████████████████████| 2.0 MB 5.2 MB/s \n",
            "\u001b[K     |████████████████████████████████| 24.1 MB 1.6 MB/s \n",
            "\u001b[?25h"
          ]
        }
      ],
      "source": [
        "%pip install LibRecommender -Uqq"
      ]
    },
    {
      "cell_type": "code",
      "execution_count": null,
      "metadata": {
        "colab": {
          "base_uri": "https://localhost:8080/"
        },
        "id": "WpVLVrPtnGdZ",
        "outputId": "1cffdf0b-c1c3-45ac-96d3-db17f0dc40dc"
      },
      "outputs": [
        {
          "output_type": "stream",
          "name": "stdout",
          "text": [
            "\u001b[K     |████████████████████████████████| 4.7 MB 4.9 MB/s \n",
            "\u001b[?25h"
          ]
        }
      ],
      "source": [
        "%pip install faiss==1.5.3 -Uqq"
      ]
    },
    {
      "cell_type": "code",
      "execution_count": null,
      "metadata": {
        "colab": {
          "base_uri": "https://localhost:8080/"
        },
        "id": "LecCNFAYXuBT",
        "outputId": "f900934c-76f2-4129-b061-16e2b53c42bb"
      },
      "outputs": [
        {
          "output_type": "stream",
          "name": "stdout",
          "text": [
            "\u001b[K     |████████████████████████████████| 45 kB 2.2 MB/s \n",
            "\u001b[K     |████████████████████████████████| 246 kB 8.7 MB/s \n",
            "\u001b[?25h"
          ]
        }
      ],
      "source": [
        "%pip install ujson redis -Uqq"
      ]
    },
    {
      "cell_type": "code",
      "source": [
        "import wandb\n",
        "wandb.login()"
      ],
      "metadata": {
        "id": "F_JurJjZxmPY"
      },
      "execution_count": null,
      "outputs": []
    },
    {
      "cell_type": "code",
      "execution_count": null,
      "metadata": {
        "id": "6LS6-YnNY5rT"
      },
      "outputs": [],
      "source": [
        "import os\n",
        "from pathlib import Path\n",
        "\n",
        "import numpy as np\n",
        "import pandas as pd\n",
        "\n",
        "from libreco.data import random_split, split_by_ratio_chrono, DatasetPure\n",
        "from libreco.algorithms import Caser   # pure data\n",
        "from libreco.evaluation import evaluate\n",
        "\n",
        "import warnings\n",
        "warnings.filterwarnings('ignore')\n",
        "warnings.simplefilter('ignore')"
      ]
    },
    {
      "cell_type": "code",
      "execution_count": null,
      "metadata": {
        "id": "sYjMJUUITNWs"
      },
      "outputs": [],
      "source": [
        "from libserving.serialization import save_embed"
      ]
    },
    {
      "cell_type": "code",
      "source": [
        "MODEL_PATH = \"/content/drive/MyDrive/Colab Notebooks/00-MTC/models/Caser\" \n",
        "if not os.path.isdir(MODEL_PATH):\n",
        "    os.mkdir(MODEL_PATH)  \n",
        "MODEL_NAME = 'Caser'"
      ],
      "metadata": {
        "id": "OGF58N8oR6WL"
      },
      "execution_count": null,
      "outputs": []
    },
    {
      "cell_type": "code",
      "execution_count": null,
      "metadata": {
        "colab": {
          "base_uri": "https://localhost:8080/"
        },
        "id": "zCMxhyEnHErG",
        "outputId": "784bed85-4884-4b20-e5a8-eb999b4bbfb2"
      },
      "outputs": [
        {
          "output_type": "stream",
          "name": "stdout",
          "text": [
            "random neg item sampling elapsed: 0.090s\n",
            "random neg item sampling elapsed: 0.011s\n",
            "random neg item sampling elapsed: 0.011s\n",
            "n_users: 610, n_items: 8237, data sparsity: 1.6056 %\n"
          ]
        }
      ],
      "source": [
        "data = pd.read_csv(\"https://s3-us-west-2.amazonaws.com/recommender-tutorial/ratings.csv\")\n",
        "data.columns = [\"user\", \"item\", \"label\", \"time\"]\n",
        "data[\"label\"] = 1 \n",
        "\n",
        "train_data, eval_data, test_data = split_by_ratio_chrono(data, multi_ratios=[0.8, 0.1, 0.1])\n",
        "\n",
        "train_data, data_info = DatasetPure.build_trainset(train_data)\n",
        "eval_data = DatasetPure.build_evalset(eval_data)\n",
        "test_data = DatasetPure.build_testset(test_data)\n",
        "train_data.build_negative_samples(data_info)  # sample negative items for each record\n",
        "eval_data.build_negative_samples(data_info) \n",
        "test_data.build_negative_samples(data_info)\n",
        "print(data_info)   # n_users: 5894, n_items: 3253, data sparsity: 0.4172 %"
      ]
    },
    {
      "cell_type": "code",
      "source": [
        "from types import SimpleNamespace  \n",
        "\n",
        "cfg = {\n",
        "  \"embed_size\": 16,\n",
        "  \"n_epochs\": 3,\n",
        "  \"lr\": 0.01, \n",
        "  \"batch_size\": 256,\n",
        "  \"lr_decay\":True,\n",
        "  \"loss_type\":\"cross_entropy\",\n",
        "  \"dropout_rate\": None,\n",
        "  \"k\":10,\n",
        "  \"use_bn\":False, \n",
        "  \"nh_filters\":2, \n",
        "  \"nv_filters\":4, \n",
        "  \"num_neg\":1,\n",
        "  \"recent_num\":10, \n",
        "  \"random_num\":None,\n",
        "}\n",
        "cfg = SimpleNamespace(**cfg)\n",
        "\n",
        "metrics = [\"loss\", \"roc_auc\", \"precision\", \"recall\", \"map\", \"ndcg\"]    \n",
        "# Rest of code.\n",
        "model = Caser(task=\"ranking\", data_info=data_info, \n",
        "                embed_size=cfg.embed_size, n_epochs=cfg.n_epochs, \n",
        "                lr=cfg.lr, batch_size=cfg.batch_size)\n",
        "model.fit(train_data, verbose=2, eval_data=eval_data, metrics=metrics)\n",
        "evaluate(model=model, data=test_data, metrics=metrics)\n",
        "# specify model saving directory\n",
        "name_str = f'{MODEL_NAME}' + \\\n",
        "  f'_n_epoch_{cfg.n_epochs}_' + \\\n",
        "  f'emb_size_{cfg.embed_size}_' + \\\n",
        "  f'lr_{cfg.lr}_' + \\\n",
        "  f'batch_size_{cfg.batch_size}'\n",
        "current_dir = os.path.join(MODEL_PATH, name_str)\n",
        "if not os.path.isdir(current_dir):\n",
        "    os.mkdir(current_dir) \n",
        "save_embed(current_dir, model)        \n",
        "model.save(path=current_dir, model_name=\"Caser\", manual=True, inference_only=True)"
      ],
      "metadata": {
        "colab": {
          "base_uri": "https://localhost:8080/"
        },
        "id": "WvkGvN1nRoBx",
        "outputId": "369739e6-fee9-4836-81f1-780f04c566e7"
      },
      "execution_count": null,
      "outputs": [
        {
          "output_type": "stream",
          "name": "stdout",
          "text": [
            "total params: \u001b[33m416,573\u001b[0m | embedding params: \u001b[33m413,429\u001b[0m | network params: \u001b[33m3,144\u001b[0m\n",
            "Training start time: \u001b[35m2022-11-06 11:22:44\u001b[0m\n"
          ]
        },
        {
          "output_type": "stream",
          "name": "stderr",
          "text": [
            "train: 100%|██████████| 631/631 [00:17<00:00, 36.45it/s]\n"
          ]
        },
        {
          "output_type": "stream",
          "name": "stdout",
          "text": [
            "Epoch 1 elapsed: 17.364s\n",
            "\t \u001b[32mtrain_loss: 0.4894\u001b[0m\n"
          ]
        },
        {
          "output_type": "stream",
          "name": "stderr",
          "text": [
            "eval_pred: 100%|██████████| 3/3 [00:00<00:00, 313.78it/s]\n",
            "eval_rec: 100%|██████████| 610/610 [00:00<00:00, 2174.83it/s]\n"
          ]
        },
        {
          "output_type": "stream",
          "name": "stdout",
          "text": [
            "\t eval log_loss: 0.4933\n",
            "\t eval roc_auc: 0.8446\n",
            "\t eval precision@10: 0.0305\n",
            "\t eval recall@10: 0.0287\n",
            "\t eval map@10: 0.0702\n",
            "\t eval ndcg@10: 0.1094\n",
            "==============================\n"
          ]
        },
        {
          "output_type": "stream",
          "name": "stderr",
          "text": [
            "train: 100%|██████████| 631/631 [00:16<00:00, 38.66it/s]\n"
          ]
        },
        {
          "output_type": "stream",
          "name": "stdout",
          "text": [
            "Epoch 2 elapsed: 16.381s\n",
            "\t \u001b[32mtrain_loss: 0.2894\u001b[0m\n"
          ]
        },
        {
          "output_type": "stream",
          "name": "stderr",
          "text": [
            "eval_pred: 100%|██████████| 3/3 [00:00<00:00, 270.35it/s]\n",
            "eval_rec: 100%|██████████| 610/610 [00:00<00:00, 2301.12it/s]\n"
          ]
        },
        {
          "output_type": "stream",
          "name": "stdout",
          "text": [
            "\t eval log_loss: 0.5772\n",
            "\t eval roc_auc: 0.8256\n",
            "\t eval precision@10: 0.0284\n",
            "\t eval recall@10: 0.0285\n",
            "\t eval map@10: 0.0726\n",
            "\t eval ndcg@10: 0.1096\n",
            "==============================\n"
          ]
        },
        {
          "output_type": "stream",
          "name": "stderr",
          "text": [
            "train: 100%|██████████| 631/631 [00:16<00:00, 38.21it/s]\n"
          ]
        },
        {
          "output_type": "stream",
          "name": "stdout",
          "text": [
            "Epoch 3 elapsed: 16.560s\n",
            "\t \u001b[32mtrain_loss: 0.1458\u001b[0m\n"
          ]
        },
        {
          "output_type": "stream",
          "name": "stderr",
          "text": [
            "eval_pred: 100%|██████████| 3/3 [00:00<00:00, 232.50it/s]\n",
            "eval_rec: 100%|██████████| 610/610 [00:00<00:00, 2300.95it/s]\n"
          ]
        },
        {
          "output_type": "stream",
          "name": "stdout",
          "text": [
            "\t eval log_loss: 0.7182\n",
            "\t eval roc_auc: 0.8112\n",
            "\t eval precision@10: 0.0257\n",
            "\t eval recall@10: 0.0268\n",
            "\t eval map@10: 0.0671\n",
            "\t eval ndcg@10: 0.1021\n",
            "==============================\n"
          ]
        },
        {
          "output_type": "stream",
          "name": "stderr",
          "text": [
            "eval_pred: 100%|██████████| 3/3 [00:00<00:00, 292.13it/s]\n",
            "eval_rec: 100%|██████████| 608/608 [00:00<00:00, 2250.89it/s]\n"
          ]
        }
      ]
    },
    {
      "cell_type": "markdown",
      "source": [
        "https://wandb.ai/iloncka-ds/recsys-app/sweeps/tw52paxu?workspace=user-iloncka-ds"
      ],
      "metadata": {
        "id": "9A7mHb-369Se"
      }
    }
  ],
  "metadata": {
    "colab": {
      "provenance": [],
      "collapsed_sections": []
    },
    "kernelspec": {
      "display_name": "Python 3",
      "language": "python",
      "name": "python3"
    },
    "language_info": {
      "codemirror_mode": {
        "name": "ipython",
        "version": 3
      },
      "file_extension": ".py",
      "mimetype": "text/x-python",
      "name": "python",
      "nbconvert_exporter": "python",
      "pygments_lexer": "ipython3",
      "version": "3.7.12"
    }
  },
  "nbformat": 4,
  "nbformat_minor": 0
}