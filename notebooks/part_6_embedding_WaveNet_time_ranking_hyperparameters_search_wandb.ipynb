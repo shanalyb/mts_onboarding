{
  "cells": [
    {
      "cell_type": "code",
      "execution_count": null,
      "metadata": {
        "id": "Owp20xO1OoDo"
      },
      "outputs": [],
      "source": [
        "%pip install wandb -Uqq"
      ]
    },
    {
      "cell_type": "code",
      "execution_count": null,
      "metadata": {
        "colab": {
          "base_uri": "https://localhost:8080/"
        },
        "id": "ArTWd-2aeX7r",
        "outputId": "fe2af7c1-e665-46cf-d09e-18ba42eb5602"
      },
      "outputs": [
        {
          "output_type": "stream",
          "name": "stdout",
          "text": [
            "\u001b[K     |████████████████████████████████| 13.5 MB 5.1 MB/s \n",
            "\u001b[K     |████████████████████████████████| 188 kB 47.6 MB/s \n",
            "\u001b[?25h"
          ]
        }
      ],
      "source": [
        "%pip install nmslib -Uqq"
      ]
    },
    {
      "cell_type": "code",
      "execution_count": null,
      "metadata": {
        "colab": {
          "base_uri": "https://localhost:8080/"
        },
        "id": "xzhrK1x9FJ6z",
        "outputId": "10b4a303-f7e2-4e79-e02d-eb5e8f087435"
      },
      "outputs": [
        {
          "output_type": "stream",
          "name": "stdout",
          "text": [
            "\u001b[K     |████████████████████████████████| 2.0 MB 5.2 MB/s \n",
            "\u001b[K     |████████████████████████████████| 24.1 MB 1.6 MB/s \n",
            "\u001b[?25h"
          ]
        }
      ],
      "source": [
        "%pip install LibRecommender -Uqq"
      ]
    },
    {
      "cell_type": "code",
      "execution_count": null,
      "metadata": {
        "colab": {
          "base_uri": "https://localhost:8080/"
        },
        "id": "WpVLVrPtnGdZ",
        "outputId": "1cffdf0b-c1c3-45ac-96d3-db17f0dc40dc"
      },
      "outputs": [
        {
          "output_type": "stream",
          "name": "stdout",
          "text": [
            "\u001b[K     |████████████████████████████████| 4.7 MB 4.9 MB/s \n",
            "\u001b[?25h"
          ]
        }
      ],
      "source": [
        "%pip install faiss==1.5.3 -Uqq"
      ]
    },
    {
      "cell_type": "code",
      "execution_count": null,
      "metadata": {
        "colab": {
          "base_uri": "https://localhost:8080/"
        },
        "id": "LecCNFAYXuBT",
        "outputId": "f900934c-76f2-4129-b061-16e2b53c42bb"
      },
      "outputs": [
        {
          "output_type": "stream",
          "name": "stdout",
          "text": [
            "\u001b[K     |████████████████████████████████| 45 kB 2.2 MB/s \n",
            "\u001b[K     |████████████████████████████████| 246 kB 8.7 MB/s \n",
            "\u001b[?25h"
          ]
        }
      ],
      "source": [
        "%pip install ujson redis -Uqq"
      ]
    },
    {
      "cell_type": "code",
      "source": [
        "import wandb\n",
        "wandb.login()"
      ],
      "metadata": {
        "id": "F_JurJjZxmPY"
      },
      "execution_count": null,
      "outputs": []
    },
    {
      "cell_type": "code",
      "execution_count": null,
      "metadata": {
        "id": "6LS6-YnNY5rT"
      },
      "outputs": [],
      "source": [
        "import os\n",
        "from pathlib import Path\n",
        "\n",
        "import numpy as np\n",
        "import pandas as pd\n",
        "\n",
        "from libreco.data import random_split, split_by_ratio_chrono, DatasetPure\n",
        "from libreco.algorithms import WaveNet   # pure data\n",
        "from libreco.evaluation import evaluate\n",
        "\n",
        "import warnings\n",
        "warnings.filterwarnings('ignore')\n",
        "warnings.simplefilter('ignore')"
      ]
    },
    {
      "cell_type": "code",
      "execution_count": null,
      "metadata": {
        "id": "sYjMJUUITNWs"
      },
      "outputs": [],
      "source": [
        "from libserving.serialization import save_embed"
      ]
    },
    {
      "cell_type": "code",
      "source": [
        "MODEL_PATH = \"/content/drive/MyDrive/Colab Notebooks/00-MTC/models/WaveNet\" \n",
        "if not os.path.isdir(MODEL_PATH):\n",
        "    os.mkdir(MODEL_PATH)  \n",
        "MODEL_NAME = 'WaveNet'"
      ],
      "metadata": {
        "id": "OGF58N8oR6WL"
      },
      "execution_count": null,
      "outputs": []
    },
    {
      "cell_type": "code",
      "execution_count": null,
      "metadata": {
        "colab": {
          "base_uri": "https://localhost:8080/"
        },
        "id": "zCMxhyEnHErG",
        "outputId": "2b254a5b-d36f-4637-e922-6e34ea9694f8"
      },
      "outputs": [
        {
          "output_type": "stream",
          "name": "stdout",
          "text": [
            "random neg item sampling elapsed: 0.168s\n",
            "random neg item sampling elapsed: 0.018s\n",
            "random neg item sampling elapsed: 0.031s\n",
            "n_users: 610, n_items: 8237, data sparsity: 1.6056 %\n"
          ]
        }
      ],
      "source": [
        "data = pd.read_csv(\"https://s3-us-west-2.amazonaws.com/recommender-tutorial/ratings.csv\")\n",
        "data.columns = [\"user\", \"item\", \"label\", \"time\"]\n",
        "data[\"label\"] = 1 \n",
        "\n",
        "train_data, eval_data, test_data = split_by_ratio_chrono(data, multi_ratios=[0.8, 0.1, 0.1])\n",
        "\n",
        "train_data, data_info = DatasetPure.build_trainset(train_data)\n",
        "eval_data = DatasetPure.build_evalset(eval_data)\n",
        "test_data = DatasetPure.build_testset(test_data)\n",
        "train_data.build_negative_samples(data_info)  # sample negative items for each record\n",
        "eval_data.build_negative_samples(data_info) \n",
        "test_data.build_negative_samples(data_info)\n",
        "print(data_info)   # n_users: 5894, n_items: 3253, data sparsity: 0.4172 %"
      ]
    },
    {
      "cell_type": "code",
      "source": [
        "import tensorflow as tf\n",
        "tf.compat.v1.reset_default_graph()"
      ],
      "metadata": {
        "id": "elTlcb80A61d"
      },
      "execution_count": null,
      "outputs": []
    },
    {
      "cell_type": "code",
      "source": [
        "# from IPython.lib.display import exists\n",
        "# with wandb.init() as runwb:\n",
        "#     # Overwrite the random run names chosen by wandb\n",
        "#     runwb.config.update(config)\n",
        "#     sc = runwb.config\n",
        "#     name_str = f'{MODEL_NAME}' + \\\n",
        "#       f'_n_epoch_{sc.n_epochs}_' + \\\n",
        "#       f'emb_size_{sc.embed_size}_lr_{sc.lr}_' + \\\n",
        "#       f'batch_size_{sc.batch_size}'\n",
        "#     runwb.config.update({\"name\": name_str})\n",
        "#     current_dir = os.path.join(MODEL_PATH, name_str)\n",
        "#     if not os.path.isdir(current_dir):\n",
        "#         os.mkdir(current_dir)  \n",
        "from types import SimpleNamespace  \n",
        "\n",
        "cfg = {\n",
        "  \"embed_size\": 16,\n",
        "  \"n_epochs\": 3,\n",
        "  \"lr\": 0.01, \n",
        "  \"batch_size\": 256,\n",
        "  \"lr_decay\":True,\n",
        "  \"loss_type\":\"cross_entropy\",\n",
        "  \"num_neg\":1,\n",
        "  \"dropout_rate\": None,\n",
        "  \"k\":10,\n",
        "  \"use_bn\":False, \n",
        "  \"n_filters\":2, \n",
        "  \"n_blocks\":1, \n",
        "  \"n_layers_per_block\":4, \n",
        "  \"recent_num\":10, \n",
        "  \"random_num\":None,\n",
        "}\n",
        "cfg = SimpleNamespace(**cfg)\n",
        "\n",
        "metrics = [\"loss\", \"roc_auc\", \"precision\", \"recall\", \"map\", \"ndcg\"]    \n",
        "# Rest of code.\n",
        "model = WaveNet(task=\"ranking\", data_info=data_info, \n",
        "                embed_size=cfg.embed_size, n_epochs=cfg.n_epochs, \n",
        "                lr=cfg.lr, batch_size=cfg.batch_size)\n",
        "model.fit(train_data, verbose=2, eval_data=eval_data, metrics=metrics)\n",
        "evaluate(model=model, data=test_data, metrics=metrics)\n",
        "# specify model saving directory\n",
        "name_str = f'{MODEL_NAME}' + \\\n",
        "  f'_n_epoch_{cfg.n_epochs}_' + \\\n",
        "  f'emb_size_{cfg.embed_size}_' + \\\n",
        "  f'lr_{cfg.lr}_' + \\\n",
        "  f'batch_size_{cfg.batch_size}'\n",
        "current_dir = os.path.join(MODEL_PATH, name_str)\n",
        "if not os.path.isdir(current_dir):\n",
        "    os.mkdir(current_dir) \n",
        "save_embed(current_dir, model)        \n",
        "model.save(path=current_dir, model_name=\"Caser\", manual=True, inference_only=True)"
      ],
      "metadata": {
        "colab": {
          "base_uri": "https://localhost:8080/"
        },
        "id": "WvkGvN1nRoBx",
        "outputId": "9909123f-9d79-481a-a243-880aeb49f1c6"
      },
      "execution_count": null,
      "outputs": [
        {
          "output_type": "stream",
          "name": "stdout",
          "text": [
            "total params: \u001b[33m416,045\u001b[0m | embedding params: \u001b[33m413,485\u001b[0m | network params: \u001b[33m2,560\u001b[0m\n",
            "Training start time: \u001b[35m2022-11-06 12:57:09\u001b[0m\n"
          ]
        },
        {
          "output_type": "stream",
          "name": "stderr",
          "text": [
            "train: 100%|██████████| 631/631 [00:16<00:00, 37.23it/s]\n"
          ]
        },
        {
          "output_type": "stream",
          "name": "stdout",
          "text": [
            "Epoch 1 elapsed: 17.016s\n",
            "\t \u001b[32mtrain_loss: 0.4889\u001b[0m\n"
          ]
        },
        {
          "output_type": "stream",
          "name": "stderr",
          "text": [
            "eval_pred: 100%|██████████| 3/3 [00:00<00:00, 318.80it/s]\n",
            "eval_rec: 100%|██████████| 610/610 [00:00<00:00, 2262.60it/s]\n"
          ]
        },
        {
          "output_type": "stream",
          "name": "stdout",
          "text": [
            "\t eval log_loss: 0.5272\n",
            "\t eval roc_auc: 0.8219\n",
            "\t eval precision@10: 0.0289\n",
            "\t eval recall@10: 0.0297\n",
            "\t eval map@10: 0.0686\n",
            "\t eval ndcg@10: 0.1063\n",
            "==============================\n"
          ]
        },
        {
          "output_type": "stream",
          "name": "stderr",
          "text": [
            "train: 100%|██████████| 631/631 [00:16<00:00, 38.05it/s]\n"
          ]
        },
        {
          "output_type": "stream",
          "name": "stdout",
          "text": [
            "Epoch 2 elapsed: 16.634s\n",
            "\t \u001b[32mtrain_loss: 0.2961\u001b[0m\n"
          ]
        },
        {
          "output_type": "stream",
          "name": "stderr",
          "text": [
            "eval_pred: 100%|██████████| 3/3 [00:00<00:00, 237.90it/s]\n",
            "eval_rec: 100%|██████████| 610/610 [00:00<00:00, 2379.02it/s]\n"
          ]
        },
        {
          "output_type": "stream",
          "name": "stdout",
          "text": [
            "\t eval log_loss: 0.5913\n",
            "\t eval roc_auc: 0.8206\n",
            "\t eval precision@10: 0.0300\n",
            "\t eval recall@10: 0.0299\n",
            "\t eval map@10: 0.0740\n",
            "\t eval ndcg@10: 0.1132\n",
            "==============================\n"
          ]
        },
        {
          "output_type": "stream",
          "name": "stderr",
          "text": [
            "train: 100%|██████████| 631/631 [00:17<00:00, 36.13it/s]\n"
          ]
        },
        {
          "output_type": "stream",
          "name": "stdout",
          "text": [
            "Epoch 3 elapsed: 17.517s\n",
            "\t \u001b[32mtrain_loss: 0.1683\u001b[0m\n"
          ]
        },
        {
          "output_type": "stream",
          "name": "stderr",
          "text": [
            "eval_pred: 100%|██████████| 3/3 [00:00<00:00, 279.15it/s]\n",
            "eval_rec: 100%|██████████| 610/610 [00:00<00:00, 1727.13it/s]\n"
          ]
        },
        {
          "output_type": "stream",
          "name": "stdout",
          "text": [
            "\t eval log_loss: 0.7341\n",
            "\t eval roc_auc: 0.8105\n",
            "\t eval precision@10: 0.0252\n",
            "\t eval recall@10: 0.0235\n",
            "\t eval map@10: 0.0679\n",
            "\t eval ndcg@10: 0.1002\n",
            "==============================\n"
          ]
        },
        {
          "output_type": "stream",
          "name": "stderr",
          "text": [
            "eval_pred: 100%|██████████| 3/3 [00:00<00:00, 298.87it/s]\n",
            "eval_rec: 100%|██████████| 608/608 [00:00<00:00, 2183.39it/s]\n"
          ]
        }
      ]
    },
    {
      "cell_type": "code",
      "execution_count": null,
      "metadata": {
        "colab": {
          "base_uri": "https://localhost:8080/",
          "height": 1000,
          "referenced_widgets": [
            "8a2184d58d28486e97d0e785d594c5f8",
            "4a78ad34f5664a21b429b7271132307f",
            "d9bf9d086c294c00ac0de7aa031b5117",
            "8ca2a150341a4c048c301310de59f018",
            "0eb6c096716f4a1386ae2ae7d730a28c",
            "39806d6bc9964ce6ac3e77ae66885b3b",
            "d68d958d5c2e4ad5a7148bc813f314c5",
            "07c3fd4a249b447389ecf0331733a36a",
            "f52771d84f72499db7acd8b58ba08a94",
            "48d1ba673a14408193278f55cc0f45a5",
            "d50210fe7ae9402e9abdef3cdfd5e23a",
            "f64b8ebbb50d41e8b873c828c603d629",
            "7edf20229ad3468292f0cbcf037940c0",
            "4fc7b97ad7bc4d2b95bbda41bbca52b9",
            "9f1be44a7b80440187f8bed87bf19a1c",
            "6bf975325ff64d31922d7447cbf67169",
            "0cf7b605a28745c4915194483ac0c833",
            "dce8f39e60814af38abaf2d77a992876",
            "14a0da174f2848fb8064ecf39d2d9861",
            "49a22ba674bc44e98141d05c8c2fac50",
            "b570b5b4f26043ccaa28c5b1bc376bf8",
            "98bd7e5c405b4abbb582e0c45b7ab744",
            "ef1677001245443c9a0eb64229939e01",
            "a0347d10f7e24b6d8b786e6896359acf",
            "4e2261ccc25f4b63b14bd7a3ea5aedc4",
            "e9e86a37bd42467fb5dc17fd83463842",
            "299da67c0e3347c09e104ec4b91910c0",
            "7c5651d5a7e74583b87117bcb2547a83",
            "ff2529119ac840b38df5d17a950a8d1c",
            "69d535abd38b45978330fb1707439b66",
            "caa9372aab2c4fa683099cda96941bce",
            "2574597898614677abba19a39bea8617",
            "06ffca4f5dc24c2580622dc2944b07b6",
            "1ab25f0517c44d3bab1cc4341bb3b7fe",
            "e3f8e557e74940098e0086937f8cbca4",
            "134f1eebc4c34d63be569c9fab1c8189",
            "a44cd3b6284841009b61bcdde8e98830",
            "07a46d225b81474cb3dd884eed413289",
            "5369c872cee64a2a95e7ff3b1a92874c",
            "62604ea7060a4474885fd422c0bce8a4",
            "d990b5e499054113809f8bbe21bdb35c",
            "56cd91c465cd43ca9a4a8058c1a49461",
            "45414f39bbac4f8c96737dc3b39100f3",
            "e62f0b3e92d54947996cf8f1eed1c947",
            "5b6165267beb454583ee15e9e4e0129d",
            "cb4a944d002747baa82037343f83dd84",
            "e646798789cb4154b64ffb306a7a4345",
            "61ff815d8c94454db0a565018dec4e3c",
            "1323349e90404fa494397e257260ff7f",
            "0f5178969e5c45c2bc80c07122be18d4",
            "29eb21bd7ddf4b24866be3f68d386e78",
            "a7c355c6c2c54b9e8a639662d698bbf9",
            "6e3279f555224bf79d4f18833f837e9a",
            "e4ee4729fdca4cdc8ebdd3321f71ef91",
            "f626bb12e4cf45d4a15a6bff1208f688",
            "8cd4d8195a7b4094932d5fac0b065b43",
            "87d002d0df7e4c6e9bb7b4d4540fd745",
            "38d5acb66eef45a4a7e66380a143e632",
            "f18461e2b04f4e4b895a452b7ed76906",
            "7fbabf87cd9c4f1caa72602c624fb13c",
            "ba5007dd1c86477daf84e7ce46ae6957",
            "289eb5adc1504f29a753230541dcb722",
            "d48f531e9dff4103be8504c19e5a13c6",
            "45e996e0a24c4874904e562d5035e84b",
            "ff7fe04bf7964eea8430ccba7034fdd1",
            "fc4e79dd76804b83aed29fa4da525e6c",
            "f7b501d00eb8442faea24de750030b74",
            "fc976e1e6e2640ca8c901650eee31be1",
            "6b7a90c8416547dea5bde77ee2276c2b",
            "347f2943d80045d1ac1a4920143d24ee",
            "535fe5188ea244568d77fb0960fd5ec7",
            "f7b851f9b59c49058e1916aee334e1ed",
            "e3ad2371ecc143c280b1be2e83a09ed2",
            "f840dc45b54c47698357f5befc105dc8",
            "79def18b0b764581be9d267498093bcf",
            "5f779be756534f368da32a692cbbcd0d",
            "4b905cd23a014ebf8d420d758384da59",
            "c5e54e472a0c428dae11a6545e5f974a",
            "ab772ad294194facb7838aee2f8062a7",
            "ac6f47cca9af4fe58e44e4a7e5b29e59",
            "ef9e6844893844a18344c00187c28bb5",
            "acaf51fa534a4337aa649d0dc83966bf",
            "49bb54dcd5c34c458bdcfbf530249ded",
            "78a4e1decd9d4ffdadde0040a4230229",
            "e7d7421d28d94a2ea6f5f9818fe7a97e",
            "cfb9c3f5b3644eb1bcfaf7ccb777fe1b",
            "5f1e9df123ac4b1f9bbd4aaf6427c7b4",
            "7f831593a7c44267b6e1f1ce3fdb8ddf"
          ]
        },
        "id": "o7oiUUXcQAji",
        "outputId": "e44d7d43-dec9-4f4c-a2ab-aec559fa0d8b"
      },
      "outputs": [
        {
          "output_type": "stream",
          "name": "stdout",
          "text": [
            "Create sweep with ID: r5ls7bmj\n",
            "Sweep URL: https://wandb.ai/iloncka-ds/recsys-app/sweeps/r5ls7bmj\n"
          ]
        },
        {
          "output_type": "stream",
          "name": "stderr",
          "text": [
            "\u001b[34m\u001b[1mwandb\u001b[0m: Agent Starting Run: h9hhcnnr with config:\n",
            "\u001b[34m\u001b[1mwandb\u001b[0m: \tbatch_size: 128\n",
            "\u001b[34m\u001b[1mwandb\u001b[0m: \tembed_size: 32\n",
            "\u001b[34m\u001b[1mwandb\u001b[0m: \tlr: 0.1\n",
            "\u001b[34m\u001b[1mwandb\u001b[0m: \tn_epochs: 5\n",
            "Failed to detect the name of this notebook, you can set it manually with the WANDB_NOTEBOOK_NAME environment variable to enable code saving.\n"
          ]
        },
        {
          "output_type": "display_data",
          "data": {
            "text/plain": [
              "<IPython.core.display.HTML object>"
            ],
            "text/html": [
              "Tracking run with wandb version 0.13.5"
            ]
          },
          "metadata": {}
        },
        {
          "output_type": "display_data",
          "data": {
            "text/plain": [
              "<IPython.core.display.HTML object>"
            ],
            "text/html": [
              "Run data is saved locally in <code>/content/wandb/run-20221106_140254-h9hhcnnr</code>"
            ]
          },
          "metadata": {}
        },
        {
          "output_type": "display_data",
          "data": {
            "text/plain": [
              "<IPython.core.display.HTML object>"
            ],
            "text/html": [
              "Syncing run <strong><a href=\"https://wandb.ai/iloncka-ds/recsys-app/runs/h9hhcnnr\" target=\"_blank\">toasty-sweep-1</a></strong> to <a href=\"https://wandb.ai/iloncka-ds/recsys-app\" target=\"_blank\">Weights & Biases</a> (<a href=\"https://wandb.me/run\" target=\"_blank\">docs</a>)<br/>Sweep page:  <a href=\"https://wandb.ai/iloncka-ds/recsys-app/sweeps/r5ls7bmj\" target=\"_blank\">https://wandb.ai/iloncka-ds/recsys-app/sweeps/r5ls7bmj</a>"
            ]
          },
          "metadata": {}
        },
        {
          "output_type": "stream",
          "name": "stdout",
          "text": [
            "total params: \u001b[33m821,981\u001b[0m | embedding params: \u001b[33m818,653\u001b[0m | network params: \u001b[33m3,328\u001b[0m\n",
            "Training start time: \u001b[35m2022-11-06 14:02:56\u001b[0m\n",
            "With lr_decay, epoch 1 learning rate: 0.10000000149011612\n"
          ]
        },
        {
          "output_type": "stream",
          "name": "stderr",
          "text": [
            "train: 100%|██████████| 1261/1261 [00:24<00:00, 50.69it/s]\n"
          ]
        },
        {
          "output_type": "stream",
          "name": "stdout",
          "text": [
            "Epoch 1 elapsed: 24.951s\n",
            "\t \u001b[32mtrain_loss: 3.4837\u001b[0m\n"
          ]
        },
        {
          "output_type": "stream",
          "name": "stderr",
          "text": [
            "eval_pred: 100%|██████████| 3/3 [00:00<00:00, 196.68it/s]\n",
            "eval_rec: 100%|██████████| 610/610 [00:00<00:00, 1771.45it/s]\n"
          ]
        },
        {
          "output_type": "stream",
          "name": "stdout",
          "text": [
            "\t eval log_loss: 3.5261\n",
            "\t eval roc_auc: 0.7065\n",
            "\t eval precision@10: 0.0034\n",
            "\t eval recall@10: 0.0010\n",
            "\t eval map@10: 0.0067\n",
            "\t eval ndcg@10: 0.0112\n",
            "==============================\n",
            "With lr_decay, epoch 2 learning rate: 0.09216000139713287\n"
          ]
        },
        {
          "output_type": "stream",
          "name": "stderr",
          "text": [
            "train: 100%|██████████| 1261/1261 [00:24<00:00, 51.88it/s]\n"
          ]
        },
        {
          "output_type": "stream",
          "name": "stdout",
          "text": [
            "Epoch 2 elapsed: 24.358s\n",
            "\t \u001b[32mtrain_loss: 3.4601\u001b[0m\n"
          ]
        },
        {
          "output_type": "stream",
          "name": "stderr",
          "text": [
            "eval_pred: 100%|██████████| 3/3 [00:00<00:00, 211.52it/s]\n",
            "eval_rec: 100%|██████████| 610/610 [00:00<00:00, 1851.47it/s]\n"
          ]
        },
        {
          "output_type": "stream",
          "name": "stdout",
          "text": [
            "\t eval log_loss: 3.4978\n",
            "\t eval roc_auc: 0.7456\n",
            "\t eval precision@10: 0.0070\n",
            "\t eval recall@10: 0.0024\n",
            "\t eval map@10: 0.0154\n",
            "\t eval ndcg@10: 0.0238\n",
            "==============================\n",
            "With lr_decay, epoch 3 learning rate: 0.08493464440107346\n"
          ]
        },
        {
          "output_type": "stream",
          "name": "stderr",
          "text": [
            "train: 100%|██████████| 1261/1261 [00:24<00:00, 51.69it/s]\n"
          ]
        },
        {
          "output_type": "stream",
          "name": "stdout",
          "text": [
            "Epoch 3 elapsed: 24.447s\n",
            "\t \u001b[32mtrain_loss: 2.5032\u001b[0m\n"
          ]
        },
        {
          "output_type": "stream",
          "name": "stderr",
          "text": [
            "eval_pred: 100%|██████████| 3/3 [00:00<00:00, 205.92it/s]\n",
            "eval_rec: 100%|██████████| 610/610 [00:00<00:00, 1815.20it/s]\n"
          ]
        },
        {
          "output_type": "stream",
          "name": "stdout",
          "text": [
            "\t eval log_loss: 3.7579\n",
            "\t eval roc_auc: 0.7378\n",
            "\t eval precision@10: 0.0038\n",
            "\t eval recall@10: 0.0023\n",
            "\t eval map@10: 0.0078\n",
            "\t eval ndcg@10: 0.0136\n",
            "==============================\n",
            "With lr_decay, epoch 4 learning rate: 0.07827576994895935\n"
          ]
        },
        {
          "output_type": "stream",
          "name": "stderr",
          "text": [
            "train: 100%|██████████| 1261/1261 [00:24<00:00, 51.45it/s]\n"
          ]
        },
        {
          "output_type": "stream",
          "name": "stdout",
          "text": [
            "Epoch 4 elapsed: 24.560s\n",
            "\t \u001b[32mtrain_loss: 1.9038\u001b[0m\n"
          ]
        },
        {
          "output_type": "stream",
          "name": "stderr",
          "text": [
            "eval_pred: 100%|██████████| 3/3 [00:00<00:00, 214.24it/s]\n",
            "eval_rec: 100%|██████████| 610/610 [00:00<00:00, 1730.68it/s]\n"
          ]
        },
        {
          "output_type": "stream",
          "name": "stdout",
          "text": [
            "\t eval log_loss: 3.9469\n",
            "\t eval roc_auc: 0.7419\n",
            "\t eval precision@10: 0.0044\n",
            "\t eval recall@10: 0.0020\n",
            "\t eval map@10: 0.0112\n",
            "\t eval ndcg@10: 0.0177\n",
            "==============================\n",
            "With lr_decay, epoch 5 learning rate: 0.0721389502286911\n"
          ]
        },
        {
          "output_type": "stream",
          "name": "stderr",
          "text": [
            "train: 100%|██████████| 1261/1261 [00:24<00:00, 51.81it/s]\n"
          ]
        },
        {
          "output_type": "stream",
          "name": "stdout",
          "text": [
            "Epoch 5 elapsed: 24.395s\n",
            "\t \u001b[32mtrain_loss: 1.4535\u001b[0m\n"
          ]
        },
        {
          "output_type": "stream",
          "name": "stderr",
          "text": [
            "eval_pred: 100%|██████████| 3/3 [00:00<00:00, 234.88it/s]\n",
            "eval_rec: 100%|██████████| 610/610 [00:00<00:00, 1845.03it/s]\n"
          ]
        },
        {
          "output_type": "stream",
          "name": "stdout",
          "text": [
            "\t eval log_loss: 4.0702\n",
            "\t eval roc_auc: 0.7479\n",
            "\t eval precision@10: 0.0039\n",
            "\t eval recall@10: 0.0024\n",
            "\t eval map@10: 0.0102\n",
            "\t eval ndcg@10: 0.0161\n",
            "==============================\n"
          ]
        },
        {
          "output_type": "stream",
          "name": "stderr",
          "text": [
            "eval_pred: 100%|██████████| 3/3 [00:00<00:00, 262.34it/s]\n",
            "eval_rec: 100%|██████████| 608/608 [00:00<00:00, 1792.04it/s]\n"
          ]
        },
        {
          "output_type": "display_data",
          "data": {
            "text/plain": [
              "<IPython.core.display.HTML object>"
            ],
            "text/html": [
              "Waiting for W&B process to finish... <strong style=\"color:green\">(success).</strong>"
            ]
          },
          "metadata": {}
        },
        {
          "output_type": "display_data",
          "data": {
            "text/plain": [
              "VBox(children=(Label(value='0.001 MB of 0.001 MB uploaded (0.000 MB deduped)\\r'), FloatProgress(value=1.0, max…"
            ],
            "application/vnd.jupyter.widget-view+json": {
              "version_major": 2,
              "version_minor": 0,
              "model_id": "8a2184d58d28486e97d0e785d594c5f8"
            }
          },
          "metadata": {}
        },
        {
          "output_type": "display_data",
          "data": {
            "text/plain": [
              "<IPython.core.display.HTML object>"
            ],
            "text/html": [
              "<style>\n",
              "    table.wandb td:nth-child(1) { padding: 0 10px; text-align: left ; width: auto;} td:nth-child(2) {text-align: left ; width: 100%}\n",
              "    .wandb-row { display: flex; flex-direction: row; flex-wrap: wrap; justify-content: flex-start; width: 100% }\n",
              "    .wandb-col { display: flex; flex-direction: column; flex-basis: 100%; flex: 1; padding: 10px; }\n",
              "    </style>\n",
              "<div class=\"wandb-row\"><div class=\"wandb-col\"><h3>Run history:</h3><br/><table class=\"wandb\"><tr><td>epoch</td><td>▁▃▅▆█</td></tr><tr><td>log_loss</td><td>▁▁▄▆█</td></tr><tr><td>loss</td><td>▁</td></tr><tr><td>map</td><td>▁</td></tr><tr><td>map@10</td><td>▁█▂▅▄</td></tr><tr><td>ndcg</td><td>▁</td></tr><tr><td>ndcg@10</td><td>▁█▂▅▄</td></tr><tr><td>precision</td><td>▁</td></tr><tr><td>precision@10</td><td>▁█▂▃▂</td></tr><tr><td>recall</td><td>▁</td></tr><tr><td>recall@10</td><td>▁█▇▆█</td></tr><tr><td>roc_auc</td><td>▁█▆▇█▅</td></tr><tr><td>train_loss</td><td>██▅▃▁</td></tr></table><br/></div><div class=\"wandb-col\"><h3>Run summary:</h3><br/><table class=\"wandb\"><tr><td>epoch</td><td>5</td></tr><tr><td>log_loss</td><td>4.07024</td></tr><tr><td>loss</td><td>4.30825</td></tr><tr><td>map</td><td>0.01257</td></tr><tr><td>map@10</td><td>0.01019</td></tr><tr><td>ndcg</td><td>0.01984</td></tr><tr><td>ndcg@10</td><td>0.01611</td></tr><tr><td>precision</td><td>0.00461</td></tr><tr><td>precision@10</td><td>0.00393</td></tr><tr><td>recall</td><td>0.003</td></tr><tr><td>recall@10</td><td>0.00241</td></tr><tr><td>roc_auc</td><td>0.7312</td></tr><tr><td>train_loss</td><td>1.4535</td></tr></table><br/></div></div>"
            ]
          },
          "metadata": {}
        },
        {
          "output_type": "display_data",
          "data": {
            "text/plain": [
              "<IPython.core.display.HTML object>"
            ],
            "text/html": [
              "Synced <strong style=\"color:#cdcd00\">toasty-sweep-1</strong>: <a href=\"https://wandb.ai/iloncka-ds/recsys-app/runs/h9hhcnnr\" target=\"_blank\">https://wandb.ai/iloncka-ds/recsys-app/runs/h9hhcnnr</a><br/>Synced 5 W&B file(s), 0 media file(s), 0 artifact file(s) and 0 other file(s)"
            ]
          },
          "metadata": {}
        },
        {
          "output_type": "display_data",
          "data": {
            "text/plain": [
              "<IPython.core.display.HTML object>"
            ],
            "text/html": [
              "Find logs at: <code>./wandb/run-20221106_140254-h9hhcnnr/logs</code>"
            ]
          },
          "metadata": {}
        },
        {
          "output_type": "stream",
          "name": "stderr",
          "text": [
            "\u001b[34m\u001b[1mwandb\u001b[0m: Agent Starting Run: 9gzvcmlw with config:\n",
            "\u001b[34m\u001b[1mwandb\u001b[0m: \tbatch_size: 64\n",
            "\u001b[34m\u001b[1mwandb\u001b[0m: \tembed_size: 32\n",
            "\u001b[34m\u001b[1mwandb\u001b[0m: \tlr: 0.001\n",
            "\u001b[34m\u001b[1mwandb\u001b[0m: \tn_epochs: 10\n",
            "Failed to detect the name of this notebook, you can set it manually with the WANDB_NOTEBOOK_NAME environment variable to enable code saving.\n"
          ]
        },
        {
          "output_type": "display_data",
          "data": {
            "text/plain": [
              "<IPython.core.display.HTML object>"
            ],
            "text/html": [
              "Tracking run with wandb version 0.13.5"
            ]
          },
          "metadata": {}
        },
        {
          "output_type": "display_data",
          "data": {
            "text/plain": [
              "<IPython.core.display.HTML object>"
            ],
            "text/html": [
              "Run data is saved locally in <code>/content/wandb/run-20221106_140512-9gzvcmlw</code>"
            ]
          },
          "metadata": {}
        },
        {
          "output_type": "display_data",
          "data": {
            "text/plain": [
              "<IPython.core.display.HTML object>"
            ],
            "text/html": [
              "Syncing run <strong><a href=\"https://wandb.ai/iloncka-ds/recsys-app/runs/9gzvcmlw\" target=\"_blank\">classic-sweep-2</a></strong> to <a href=\"https://wandb.ai/iloncka-ds/recsys-app\" target=\"_blank\">Weights & Biases</a> (<a href=\"https://wandb.me/run\" target=\"_blank\">docs</a>)<br/>Sweep page:  <a href=\"https://wandb.ai/iloncka-ds/recsys-app/sweeps/r5ls7bmj\" target=\"_blank\">https://wandb.ai/iloncka-ds/recsys-app/sweeps/r5ls7bmj</a>"
            ]
          },
          "metadata": {}
        },
        {
          "output_type": "stream",
          "name": "stdout",
          "text": [
            "total params: \u001b[33m821,981\u001b[0m | embedding params: \u001b[33m818,653\u001b[0m | network params: \u001b[33m3,328\u001b[0m\n",
            "Training start time: \u001b[35m2022-11-06 14:05:16\u001b[0m\n",
            "With lr_decay, epoch 1 learning rate: 0.0010000000474974513\n"
          ]
        },
        {
          "output_type": "stream",
          "name": "stderr",
          "text": [
            "train: 100%|██████████| 2521/2521 [00:35<00:00, 70.48it/s]\n"
          ]
        },
        {
          "output_type": "stream",
          "name": "stdout",
          "text": [
            "Epoch 1 elapsed: 35.829s\n",
            "\t \u001b[32mtrain_loss: 0.4967\u001b[0m\n"
          ]
        },
        {
          "output_type": "stream",
          "name": "stderr",
          "text": [
            "eval_pred: 100%|██████████| 3/3 [00:00<00:00, 207.50it/s]\n",
            "eval_rec: 100%|██████████| 610/610 [00:00<00:00, 1796.12it/s]\n"
          ]
        },
        {
          "output_type": "stream",
          "name": "stdout",
          "text": [
            "\t eval log_loss: 0.5140\n",
            "\t eval roc_auc: 0.8302\n",
            "\t eval precision@10: 0.0318\n",
            "\t eval recall@10: 0.0312\n",
            "\t eval map@10: 0.0740\n",
            "\t eval ndcg@10: 0.1114\n",
            "==============================\n",
            "With lr_decay, epoch 2 learning rate: 0.0009216000325977802\n"
          ]
        },
        {
          "output_type": "stream",
          "name": "stderr",
          "text": [
            "train: 100%|██████████| 2521/2521 [00:35<00:00, 71.56it/s]\n"
          ]
        },
        {
          "output_type": "stream",
          "name": "stdout",
          "text": [
            "Epoch 2 elapsed: 35.286s\n",
            "\t \u001b[32mtrain_loss: 0.37\u001b[0m\n"
          ]
        },
        {
          "output_type": "stream",
          "name": "stderr",
          "text": [
            "eval_pred: 100%|██████████| 3/3 [00:00<00:00, 228.98it/s]\n",
            "eval_rec: 100%|██████████| 610/610 [00:00<00:00, 1869.54it/s]\n"
          ]
        },
        {
          "output_type": "stream",
          "name": "stdout",
          "text": [
            "\t eval log_loss: 0.5284\n",
            "\t eval roc_auc: 0.8289\n",
            "\t eval precision@10: 0.0313\n",
            "\t eval recall@10: 0.0291\n",
            "\t eval map@10: 0.0744\n",
            "\t eval ndcg@10: 0.1145\n",
            "==============================\n",
            "With lr_decay, epoch 3 learning rate: 0.0008493465138599277\n"
          ]
        },
        {
          "output_type": "stream",
          "name": "stderr",
          "text": [
            "train: 100%|██████████| 2521/2521 [00:34<00:00, 72.11it/s]\n"
          ]
        },
        {
          "output_type": "stream",
          "name": "stdout",
          "text": [
            "Epoch 3 elapsed: 35.011s\n",
            "\t \u001b[32mtrain_loss: 0.2839\u001b[0m\n"
          ]
        },
        {
          "output_type": "stream",
          "name": "stderr",
          "text": [
            "eval_pred: 100%|██████████| 3/3 [00:00<00:00, 184.17it/s]\n",
            "eval_rec: 100%|██████████| 610/610 [00:00<00:00, 1867.41it/s]\n"
          ]
        },
        {
          "output_type": "stream",
          "name": "stdout",
          "text": [
            "\t eval log_loss: 0.5586\n",
            "\t eval roc_auc: 0.8238\n",
            "\t eval precision@10: 0.0328\n",
            "\t eval recall@10: 0.0349\n",
            "\t eval map@10: 0.0758\n",
            "\t eval ndcg@10: 0.1158\n",
            "==============================\n",
            "With lr_decay, epoch 4 learning rate: 0.0007827577646821737\n"
          ]
        },
        {
          "output_type": "stream",
          "name": "stderr",
          "text": [
            "train: 100%|██████████| 2521/2521 [00:34<00:00, 72.47it/s]\n"
          ]
        },
        {
          "output_type": "stream",
          "name": "stdout",
          "text": [
            "Epoch 4 elapsed: 34.843s\n",
            "\t \u001b[32mtrain_loss: 0.2169\u001b[0m\n"
          ]
        },
        {
          "output_type": "stream",
          "name": "stderr",
          "text": [
            "eval_pred: 100%|██████████| 3/3 [00:00<00:00, 199.62it/s]\n",
            "eval_rec: 100%|██████████| 610/610 [00:00<00:00, 1785.81it/s]\n"
          ]
        },
        {
          "output_type": "stream",
          "name": "stdout",
          "text": [
            "\t eval log_loss: 0.6576\n",
            "\t eval roc_auc: 0.8129\n",
            "\t eval precision@10: 0.0302\n",
            "\t eval recall@10: 0.0286\n",
            "\t eval map@10: 0.0727\n",
            "\t eval ndcg@10: 0.1088\n",
            "==============================\n",
            "With lr_decay, epoch 5 learning rate: 0.000721389485988766\n"
          ]
        },
        {
          "output_type": "stream",
          "name": "stderr",
          "text": [
            "train: 100%|██████████| 2521/2521 [00:34<00:00, 72.77it/s]\n"
          ]
        },
        {
          "output_type": "stream",
          "name": "stdout",
          "text": [
            "Epoch 5 elapsed: 34.697s\n",
            "\t \u001b[32mtrain_loss: 0.1541\u001b[0m\n"
          ]
        },
        {
          "output_type": "stream",
          "name": "stderr",
          "text": [
            "eval_pred: 100%|██████████| 3/3 [00:00<00:00, 182.48it/s]\n",
            "eval_rec: 100%|██████████| 610/610 [00:00<00:00, 1866.72it/s]\n"
          ]
        },
        {
          "output_type": "stream",
          "name": "stdout",
          "text": [
            "\t eval log_loss: 0.7464\n",
            "\t eval roc_auc: 0.7961\n",
            "\t eval precision@10: 0.0308\n",
            "\t eval recall@10: 0.0333\n",
            "\t eval map@10: 0.0737\n",
            "\t eval ndcg@10: 0.1112\n",
            "==============================\n",
            "With lr_decay, epoch 6 learning rate: 0.0006648324779234827\n"
          ]
        },
        {
          "output_type": "stream",
          "name": "stderr",
          "text": [
            "train: 100%|██████████| 2521/2521 [00:34<00:00, 72.46it/s]\n"
          ]
        },
        {
          "output_type": "stream",
          "name": "stdout",
          "text": [
            "Epoch 6 elapsed: 34.840s\n",
            "\t \u001b[32mtrain_loss: 0.1102\u001b[0m\n"
          ]
        },
        {
          "output_type": "stream",
          "name": "stderr",
          "text": [
            "eval_pred: 100%|██████████| 3/3 [00:00<00:00, 230.27it/s]\n",
            "eval_rec: 100%|██████████| 610/610 [00:00<00:00, 1932.69it/s]\n"
          ]
        },
        {
          "output_type": "stream",
          "name": "stdout",
          "text": [
            "\t eval log_loss: 0.8487\n",
            "\t eval roc_auc: 0.7858\n",
            "\t eval precision@10: 0.0323\n",
            "\t eval recall@10: 0.0369\n",
            "\t eval map@10: 0.0765\n",
            "\t eval ndcg@10: 0.1136\n",
            "==============================\n",
            "With lr_decay, epoch 7 learning rate: 0.0006127096130512655\n"
          ]
        },
        {
          "output_type": "stream",
          "name": "stderr",
          "text": [
            "train: 100%|██████████| 2521/2521 [00:33<00:00, 74.28it/s]\n"
          ]
        },
        {
          "output_type": "stream",
          "name": "stdout",
          "text": [
            "Epoch 7 elapsed: 33.994s\n",
            "\t \u001b[32mtrain_loss: 0.0819\u001b[0m\n"
          ]
        },
        {
          "output_type": "stream",
          "name": "stderr",
          "text": [
            "eval_pred: 100%|██████████| 3/3 [00:00<00:00, 203.49it/s]\n",
            "eval_rec: 100%|██████████| 610/610 [00:00<00:00, 1826.91it/s]\n"
          ]
        },
        {
          "output_type": "stream",
          "name": "stdout",
          "text": [
            "\t eval log_loss: 0.8934\n",
            "\t eval roc_auc: 0.7788\n",
            "\t eval precision@10: 0.0321\n",
            "\t eval recall@10: 0.0383\n",
            "\t eval map@10: 0.0701\n",
            "\t eval ndcg@10: 0.1094\n",
            "==============================\n",
            "With lr_decay, epoch 8 learning rate: 0.0005646731588058174\n"
          ]
        },
        {
          "output_type": "stream",
          "name": "stderr",
          "text": [
            "train: 100%|██████████| 2521/2521 [00:34<00:00, 72.40it/s]\n"
          ]
        },
        {
          "output_type": "stream",
          "name": "stdout",
          "text": [
            "Epoch 8 elapsed: 34.877s\n",
            "\t \u001b[32mtrain_loss: 0.062\u001b[0m\n"
          ]
        },
        {
          "output_type": "stream",
          "name": "stderr",
          "text": [
            "eval_pred: 100%|██████████| 3/3 [00:00<00:00, 214.51it/s]\n",
            "eval_rec: 100%|██████████| 610/610 [00:00<00:00, 1740.85it/s]\n"
          ]
        },
        {
          "output_type": "stream",
          "name": "stdout",
          "text": [
            "\t eval log_loss: 1.0166\n",
            "\t eval roc_auc: 0.7863\n",
            "\t eval precision@10: 0.0323\n",
            "\t eval recall@10: 0.0357\n",
            "\t eval map@10: 0.0725\n",
            "\t eval ndcg@10: 0.1120\n",
            "==============================\n",
            "With lr_decay, epoch 9 learning rate: 0.0005204027402214706\n"
          ]
        },
        {
          "output_type": "stream",
          "name": "stderr",
          "text": [
            "train: 100%|██████████| 2521/2521 [00:34<00:00, 73.27it/s]\n"
          ]
        },
        {
          "output_type": "stream",
          "name": "stdout",
          "text": [
            "Epoch 9 elapsed: 34.459s\n",
            "\t \u001b[32mtrain_loss: 0.0485\u001b[0m\n"
          ]
        },
        {
          "output_type": "stream",
          "name": "stderr",
          "text": [
            "eval_pred: 100%|██████████| 3/3 [00:00<00:00, 228.69it/s]\n",
            "eval_rec: 100%|██████████| 610/610 [00:00<00:00, 1685.02it/s]\n"
          ]
        },
        {
          "output_type": "stream",
          "name": "stdout",
          "text": [
            "\t eval log_loss: 1.0323\n",
            "\t eval roc_auc: 0.7845\n",
            "\t eval precision@10: 0.0328\n",
            "\t eval recall@10: 0.0386\n",
            "\t eval map@10: 0.0721\n",
            "\t eval ndcg@10: 0.1138\n",
            "==============================\n",
            "With lr_decay, epoch 10 learning rate: 0.0004796031571459025\n"
          ]
        },
        {
          "output_type": "stream",
          "name": "stderr",
          "text": [
            "train: 100%|██████████| 2521/2521 [00:35<00:00, 71.63it/s]\n"
          ]
        },
        {
          "output_type": "stream",
          "name": "stdout",
          "text": [
            "Epoch 10 elapsed: 35.242s\n",
            "\t \u001b[32mtrain_loss: 0.0392\u001b[0m\n"
          ]
        },
        {
          "output_type": "stream",
          "name": "stderr",
          "text": [
            "eval_pred: 100%|██████████| 3/3 [00:00<00:00, 178.24it/s]\n",
            "eval_rec: 100%|██████████| 610/610 [00:00<00:00, 1737.10it/s]\n"
          ]
        },
        {
          "output_type": "stream",
          "name": "stdout",
          "text": [
            "\t eval log_loss: 1.0855\n",
            "\t eval roc_auc: 0.7837\n",
            "\t eval precision@10: 0.0326\n",
            "\t eval recall@10: 0.0382\n",
            "\t eval map@10: 0.0749\n",
            "\t eval ndcg@10: 0.1164\n",
            "==============================\n"
          ]
        },
        {
          "output_type": "stream",
          "name": "stderr",
          "text": [
            "eval_pred: 100%|██████████| 3/3 [00:00<00:00, 249.33it/s]\n",
            "eval_rec: 100%|██████████| 608/608 [00:00<00:00, 1765.68it/s]\n"
          ]
        },
        {
          "output_type": "display_data",
          "data": {
            "text/plain": [
              "<IPython.core.display.HTML object>"
            ],
            "text/html": [
              "Waiting for W&B process to finish... <strong style=\"color:green\">(success).</strong>"
            ]
          },
          "metadata": {}
        },
        {
          "output_type": "display_data",
          "data": {
            "text/plain": [
              "VBox(children=(Label(value='0.001 MB of 0.001 MB uploaded (0.000 MB deduped)\\r'), FloatProgress(value=1.0, max…"
            ],
            "application/vnd.jupyter.widget-view+json": {
              "version_major": 2,
              "version_minor": 0,
              "model_id": "f52771d84f72499db7acd8b58ba08a94"
            }
          },
          "metadata": {}
        },
        {
          "output_type": "display_data",
          "data": {
            "text/plain": [
              "<IPython.core.display.HTML object>"
            ],
            "text/html": [
              "<style>\n",
              "    table.wandb td:nth-child(1) { padding: 0 10px; text-align: left ; width: auto;} td:nth-child(2) {text-align: left ; width: 100%}\n",
              "    .wandb-row { display: flex; flex-direction: row; flex-wrap: wrap; justify-content: flex-start; width: 100% }\n",
              "    .wandb-col { display: flex; flex-direction: column; flex-basis: 100%; flex: 1; padding: 10px; }\n",
              "    </style>\n",
              "<div class=\"wandb-row\"><div class=\"wandb-col\"><h3>Run history:</h3><br/><table class=\"wandb\"><tr><td>epoch</td><td>▁▂▃▃▄▅▆▆▇█</td></tr><tr><td>log_loss</td><td>▁▁▂▃▄▅▆▇▇█</td></tr><tr><td>loss</td><td>▁</td></tr><tr><td>map</td><td>▁</td></tr><tr><td>map@10</td><td>▅▆▇▄▅█▁▄▃▆</td></tr><tr><td>ndcg</td><td>▁</td></tr><tr><td>ndcg@10</td><td>▃▆▇▁▃▅▁▄▆█</td></tr><tr><td>precision</td><td>▁</td></tr><tr><td>precision@10</td><td>▅▄█▁▃▇▆▇██</td></tr><tr><td>recall</td><td>▁</td></tr><tr><td>recall@10</td><td>▃▁▅▁▄▇█▆██</td></tr><tr><td>roc_auc</td><td>██▇▆▅▄▃▄▄▄▁</td></tr><tr><td>train_loss</td><td>█▆▅▄▃▂▂▁▁▁</td></tr></table><br/></div><div class=\"wandb-col\"><h3>Run summary:</h3><br/><table class=\"wandb\"><tr><td>epoch</td><td>10</td></tr><tr><td>log_loss</td><td>1.08548</td></tr><tr><td>loss</td><td>1.23803</td></tr><tr><td>map</td><td>0.06202</td></tr><tr><td>map@10</td><td>0.07495</td></tr><tr><td>ndcg</td><td>0.09327</td></tr><tr><td>ndcg@10</td><td>0.11645</td></tr><tr><td>precision</td><td>0.02401</td></tr><tr><td>precision@10</td><td>0.03262</td></tr><tr><td>recall</td><td>0.0261</td></tr><tr><td>recall@10</td><td>0.03822</td></tr><tr><td>roc_auc</td><td>0.75677</td></tr><tr><td>train_loss</td><td>0.0392</td></tr></table><br/></div></div>"
            ]
          },
          "metadata": {}
        },
        {
          "output_type": "display_data",
          "data": {
            "text/plain": [
              "<IPython.core.display.HTML object>"
            ],
            "text/html": [
              "Synced <strong style=\"color:#cdcd00\">classic-sweep-2</strong>: <a href=\"https://wandb.ai/iloncka-ds/recsys-app/runs/9gzvcmlw\" target=\"_blank\">https://wandb.ai/iloncka-ds/recsys-app/runs/9gzvcmlw</a><br/>Synced 5 W&B file(s), 0 media file(s), 0 artifact file(s) and 0 other file(s)"
            ]
          },
          "metadata": {}
        },
        {
          "output_type": "display_data",
          "data": {
            "text/plain": [
              "<IPython.core.display.HTML object>"
            ],
            "text/html": [
              "Find logs at: <code>./wandb/run-20221106_140512-9gzvcmlw/logs</code>"
            ]
          },
          "metadata": {}
        },
        {
          "output_type": "stream",
          "name": "stderr",
          "text": [
            "\u001b[34m\u001b[1mwandb\u001b[0m: Agent Starting Run: daakhmwo with config:\n",
            "\u001b[34m\u001b[1mwandb\u001b[0m: \tbatch_size: 64\n",
            "\u001b[34m\u001b[1mwandb\u001b[0m: \tembed_size: 32\n",
            "\u001b[34m\u001b[1mwandb\u001b[0m: \tlr: 0.01\n",
            "\u001b[34m\u001b[1mwandb\u001b[0m: \tn_epochs: 5\n",
            "Failed to detect the name of this notebook, you can set it manually with the WANDB_NOTEBOOK_NAME environment variable to enable code saving.\n"
          ]
        },
        {
          "output_type": "display_data",
          "data": {
            "text/plain": [
              "<IPython.core.display.HTML object>"
            ],
            "text/html": [
              "Tracking run with wandb version 0.13.5"
            ]
          },
          "metadata": {}
        },
        {
          "output_type": "display_data",
          "data": {
            "text/plain": [
              "<IPython.core.display.HTML object>"
            ],
            "text/html": [
              "Run data is saved locally in <code>/content/wandb/run-20221106_141122-daakhmwo</code>"
            ]
          },
          "metadata": {}
        },
        {
          "output_type": "display_data",
          "data": {
            "text/plain": [
              "<IPython.core.display.HTML object>"
            ],
            "text/html": [
              "Syncing run <strong><a href=\"https://wandb.ai/iloncka-ds/recsys-app/runs/daakhmwo\" target=\"_blank\">helpful-sweep-3</a></strong> to <a href=\"https://wandb.ai/iloncka-ds/recsys-app\" target=\"_blank\">Weights & Biases</a> (<a href=\"https://wandb.me/run\" target=\"_blank\">docs</a>)<br/>Sweep page:  <a href=\"https://wandb.ai/iloncka-ds/recsys-app/sweeps/r5ls7bmj\" target=\"_blank\">https://wandb.ai/iloncka-ds/recsys-app/sweeps/r5ls7bmj</a>"
            ]
          },
          "metadata": {}
        },
        {
          "output_type": "stream",
          "name": "stdout",
          "text": [
            "total params: \u001b[33m821,981\u001b[0m | embedding params: \u001b[33m818,653\u001b[0m | network params: \u001b[33m3,328\u001b[0m\n",
            "Training start time: \u001b[35m2022-11-06 14:11:24\u001b[0m\n",
            "With lr_decay, epoch 1 learning rate: 0.009999999776482582\n"
          ]
        },
        {
          "output_type": "stream",
          "name": "stderr",
          "text": [
            "train: 100%|██████████| 2521/2521 [00:36<00:00, 69.72it/s]\n"
          ]
        },
        {
          "output_type": "stream",
          "name": "stdout",
          "text": [
            "Epoch 1 elapsed: 36.217s\n",
            "\t \u001b[32mtrain_loss: 0.5175\u001b[0m\n"
          ]
        },
        {
          "output_type": "stream",
          "name": "stderr",
          "text": [
            "eval_pred: 100%|██████████| 3/3 [00:00<00:00, 206.74it/s]\n",
            "eval_rec: 100%|██████████| 610/610 [00:00<00:00, 1891.51it/s]\n"
          ]
        },
        {
          "output_type": "stream",
          "name": "stdout",
          "text": [
            "\t eval log_loss: 0.5273\n",
            "\t eval roc_auc: 0.8357\n",
            "\t eval precision@10: 0.0305\n",
            "\t eval recall@10: 0.0310\n",
            "\t eval map@10: 0.0664\n",
            "\t eval ndcg@10: 0.1047\n",
            "==============================\n",
            "With lr_decay, epoch 2 learning rate: 0.009215999394655228\n"
          ]
        },
        {
          "output_type": "stream",
          "name": "stderr",
          "text": [
            "train: 100%|██████████| 2521/2521 [00:36<00:00, 69.78it/s]\n"
          ]
        },
        {
          "output_type": "stream",
          "name": "stdout",
          "text": [
            "Epoch 2 elapsed: 36.179s\n",
            "\t \u001b[32mtrain_loss: 0.244\u001b[0m\n"
          ]
        },
        {
          "output_type": "stream",
          "name": "stderr",
          "text": [
            "eval_pred: 100%|██████████| 3/3 [00:00<00:00, 207.03it/s]\n",
            "eval_rec: 100%|██████████| 610/610 [00:00<00:00, 1834.74it/s]\n"
          ]
        },
        {
          "output_type": "stream",
          "name": "stdout",
          "text": [
            "\t eval log_loss: 0.7200\n",
            "\t eval roc_auc: 0.8031\n",
            "\t eval precision@10: 0.0236\n",
            "\t eval recall@10: 0.0212\n",
            "\t eval map@10: 0.0632\n",
            "\t eval ndcg@10: 0.0942\n",
            "==============================\n",
            "With lr_decay, epoch 3 learning rate: 0.008493464440107346\n"
          ]
        },
        {
          "output_type": "stream",
          "name": "stderr",
          "text": [
            "train: 100%|██████████| 2521/2521 [00:36<00:00, 69.62it/s]\n"
          ]
        },
        {
          "output_type": "stream",
          "name": "stdout",
          "text": [
            "Epoch 3 elapsed: 36.262s\n",
            "\t \u001b[32mtrain_loss: 0.0841\u001b[0m\n"
          ]
        },
        {
          "output_type": "stream",
          "name": "stderr",
          "text": [
            "eval_pred: 100%|██████████| 3/3 [00:00<00:00, 178.83it/s]\n",
            "eval_rec: 100%|██████████| 610/610 [00:00<00:00, 1598.47it/s]\n"
          ]
        },
        {
          "output_type": "stream",
          "name": "stdout",
          "text": [
            "\t eval log_loss: 0.9408\n",
            "\t eval roc_auc: 0.7850\n",
            "\t eval precision@10: 0.0252\n",
            "\t eval recall@10: 0.0228\n",
            "\t eval map@10: 0.0610\n",
            "\t eval ndcg@10: 0.0948\n",
            "==============================\n",
            "With lr_decay, epoch 4 learning rate: 0.00782757718116045\n"
          ]
        },
        {
          "output_type": "stream",
          "name": "stderr",
          "text": [
            "train: 100%|██████████| 2521/2521 [00:35<00:00, 70.34it/s]\n"
          ]
        },
        {
          "output_type": "stream",
          "name": "stdout",
          "text": [
            "Epoch 4 elapsed: 35.892s\n",
            "\t \u001b[32mtrain_loss: 0.0332\u001b[0m\n"
          ]
        },
        {
          "output_type": "stream",
          "name": "stderr",
          "text": [
            "eval_pred: 100%|██████████| 3/3 [00:00<00:00, 156.23it/s]\n",
            "eval_rec: 100%|██████████| 610/610 [00:00<00:00, 1723.36it/s]\n"
          ]
        },
        {
          "output_type": "stream",
          "name": "stdout",
          "text": [
            "\t eval log_loss: 1.1423\n",
            "\t eval roc_auc: 0.7757\n",
            "\t eval precision@10: 0.0244\n",
            "\t eval recall@10: 0.0217\n",
            "\t eval map@10: 0.0615\n",
            "\t eval ndcg@10: 0.0945\n",
            "==============================\n",
            "With lr_decay, epoch 5 learning rate: 0.007213894743472338\n"
          ]
        },
        {
          "output_type": "stream",
          "name": "stderr",
          "text": [
            "train: 100%|██████████| 2521/2521 [00:36<00:00, 68.69it/s]\n"
          ]
        },
        {
          "output_type": "stream",
          "name": "stdout",
          "text": [
            "Epoch 5 elapsed: 36.752s\n",
            "\t \u001b[32mtrain_loss: 0.0131\u001b[0m\n"
          ]
        },
        {
          "output_type": "stream",
          "name": "stderr",
          "text": [
            "eval_pred: 100%|██████████| 3/3 [00:00<00:00, 174.24it/s]\n",
            "eval_rec: 100%|██████████| 610/610 [00:00<00:00, 1711.59it/s]\n"
          ]
        },
        {
          "output_type": "stream",
          "name": "stdout",
          "text": [
            "\t eval log_loss: 1.3114\n",
            "\t eval roc_auc: 0.7832\n",
            "\t eval precision@10: 0.0259\n",
            "\t eval recall@10: 0.0251\n",
            "\t eval map@10: 0.0655\n",
            "\t eval ndcg@10: 0.0997\n",
            "==============================\n"
          ]
        },
        {
          "output_type": "stream",
          "name": "stderr",
          "text": [
            "eval_pred: 100%|██████████| 3/3 [00:00<00:00, 229.93it/s]\n",
            "eval_rec: 100%|██████████| 608/608 [00:00<00:00, 1768.27it/s]\n"
          ]
        },
        {
          "output_type": "display_data",
          "data": {
            "text/plain": [
              "<IPython.core.display.HTML object>"
            ],
            "text/html": [
              "Waiting for W&B process to finish... <strong style=\"color:green\">(success).</strong>"
            ]
          },
          "metadata": {}
        },
        {
          "output_type": "display_data",
          "data": {
            "text/plain": [
              "VBox(children=(Label(value='0.001 MB of 0.001 MB uploaded (0.000 MB deduped)\\r'), FloatProgress(value=1.0, max…"
            ],
            "application/vnd.jupyter.widget-view+json": {
              "version_major": 2,
              "version_minor": 0,
              "model_id": "0cf7b605a28745c4915194483ac0c833"
            }
          },
          "metadata": {}
        },
        {
          "output_type": "display_data",
          "data": {
            "text/plain": [
              "<IPython.core.display.HTML object>"
            ],
            "text/html": [
              "<style>\n",
              "    table.wandb td:nth-child(1) { padding: 0 10px; text-align: left ; width: auto;} td:nth-child(2) {text-align: left ; width: 100%}\n",
              "    .wandb-row { display: flex; flex-direction: row; flex-wrap: wrap; justify-content: flex-start; width: 100% }\n",
              "    .wandb-col { display: flex; flex-direction: column; flex-basis: 100%; flex: 1; padding: 10px; }\n",
              "    </style>\n",
              "<div class=\"wandb-row\"><div class=\"wandb-col\"><h3>Run history:</h3><br/><table class=\"wandb\"><tr><td>epoch</td><td>▁▃▅▆█</td></tr><tr><td>log_loss</td><td>▁▃▅▆█</td></tr><tr><td>loss</td><td>▁</td></tr><tr><td>map</td><td>▁</td></tr><tr><td>map@10</td><td>█▄▁▂▇</td></tr><tr><td>ndcg</td><td>▁</td></tr><tr><td>ndcg@10</td><td>█▁▁▁▅</td></tr><tr><td>precision</td><td>▁</td></tr><tr><td>precision@10</td><td>█▁▃▂▃</td></tr><tr><td>recall</td><td>▁</td></tr><tr><td>recall@10</td><td>█▁▂▁▄</td></tr><tr><td>roc_auc</td><td>█▅▄▃▄▁</td></tr><tr><td>train_loss</td><td>█▄▂▁▁</td></tr></table><br/></div><div class=\"wandb-col\"><h3>Run summary:</h3><br/><table class=\"wandb\"><tr><td>epoch</td><td>5</td></tr><tr><td>log_loss</td><td>1.31145</td></tr><tr><td>loss</td><td>1.48665</td></tr><tr><td>map</td><td>0.0566</td></tr><tr><td>map@10</td><td>0.06545</td></tr><tr><td>ndcg</td><td>0.08418</td></tr><tr><td>ndcg@10</td><td>0.09968</td></tr><tr><td>precision</td><td>0.02072</td></tr><tr><td>precision@10</td><td>0.0259</td></tr><tr><td>recall</td><td>0.02254</td></tr><tr><td>recall@10</td><td>0.02508</td></tr><tr><td>roc_auc</td><td>0.75398</td></tr><tr><td>train_loss</td><td>0.0131</td></tr></table><br/></div></div>"
            ]
          },
          "metadata": {}
        },
        {
          "output_type": "display_data",
          "data": {
            "text/plain": [
              "<IPython.core.display.HTML object>"
            ],
            "text/html": [
              "Synced <strong style=\"color:#cdcd00\">helpful-sweep-3</strong>: <a href=\"https://wandb.ai/iloncka-ds/recsys-app/runs/daakhmwo\" target=\"_blank\">https://wandb.ai/iloncka-ds/recsys-app/runs/daakhmwo</a><br/>Synced 5 W&B file(s), 0 media file(s), 0 artifact file(s) and 0 other file(s)"
            ]
          },
          "metadata": {}
        },
        {
          "output_type": "display_data",
          "data": {
            "text/plain": [
              "<IPython.core.display.HTML object>"
            ],
            "text/html": [
              "Find logs at: <code>./wandb/run-20221106_141122-daakhmwo/logs</code>"
            ]
          },
          "metadata": {}
        },
        {
          "output_type": "stream",
          "name": "stderr",
          "text": [
            "\u001b[34m\u001b[1mwandb\u001b[0m: Agent Starting Run: rcrjq0yx with config:\n",
            "\u001b[34m\u001b[1mwandb\u001b[0m: \tbatch_size: 64\n",
            "\u001b[34m\u001b[1mwandb\u001b[0m: \tembed_size: 16\n",
            "\u001b[34m\u001b[1mwandb\u001b[0m: \tlr: 0.0001\n",
            "\u001b[34m\u001b[1mwandb\u001b[0m: \tn_epochs: 10\n",
            "Failed to detect the name of this notebook, you can set it manually with the WANDB_NOTEBOOK_NAME environment variable to enable code saving.\n"
          ]
        },
        {
          "output_type": "display_data",
          "data": {
            "text/plain": [
              "<IPython.core.display.HTML object>"
            ],
            "text/html": [
              "Tracking run with wandb version 0.13.5"
            ]
          },
          "metadata": {}
        },
        {
          "output_type": "display_data",
          "data": {
            "text/plain": [
              "<IPython.core.display.HTML object>"
            ],
            "text/html": [
              "Run data is saved locally in <code>/content/wandb/run-20221106_141440-rcrjq0yx</code>"
            ]
          },
          "metadata": {}
        },
        {
          "output_type": "display_data",
          "data": {
            "text/plain": [
              "<IPython.core.display.HTML object>"
            ],
            "text/html": [
              "Syncing run <strong><a href=\"https://wandb.ai/iloncka-ds/recsys-app/runs/rcrjq0yx\" target=\"_blank\">jolly-sweep-4</a></strong> to <a href=\"https://wandb.ai/iloncka-ds/recsys-app\" target=\"_blank\">Weights & Biases</a> (<a href=\"https://wandb.me/run\" target=\"_blank\">docs</a>)<br/>Sweep page:  <a href=\"https://wandb.ai/iloncka-ds/recsys-app/sweeps/r5ls7bmj\" target=\"_blank\">https://wandb.ai/iloncka-ds/recsys-app/sweeps/r5ls7bmj</a>"
            ]
          },
          "metadata": {}
        },
        {
          "output_type": "stream",
          "name": "stdout",
          "text": [
            "total params: \u001b[33m416,045\u001b[0m | embedding params: \u001b[33m413,485\u001b[0m | network params: \u001b[33m2,560\u001b[0m\n",
            "Training start time: \u001b[35m2022-11-06 14:14:43\u001b[0m\n",
            "With lr_decay, epoch 1 learning rate: 9.999999747378752e-05\n"
          ]
        },
        {
          "output_type": "stream",
          "name": "stderr",
          "text": [
            "train: 100%|██████████| 2521/2521 [00:29<00:00, 85.02it/s]\n"
          ]
        },
        {
          "output_type": "stream",
          "name": "stdout",
          "text": [
            "Epoch 1 elapsed: 29.709s\n",
            "\t \u001b[32mtrain_loss: 0.5565\u001b[0m\n"
          ]
        },
        {
          "output_type": "stream",
          "name": "stderr",
          "text": [
            "eval_pred: 100%|██████████| 3/3 [00:00<00:00, 220.97it/s]\n",
            "eval_rec: 100%|██████████| 610/610 [00:00<00:00, 2092.80it/s]\n"
          ]
        },
        {
          "output_type": "stream",
          "name": "stdout",
          "text": [
            "\t eval log_loss: 0.5098\n",
            "\t eval roc_auc: 0.8312\n",
            "\t eval precision@10: 0.0346\n",
            "\t eval recall@10: 0.0338\n",
            "\t eval map@10: 0.0719\n",
            "\t eval ndcg@10: 0.1091\n",
            "==============================\n",
            "With lr_decay, epoch 2 learning rate: 9.215999307343736e-05\n"
          ]
        },
        {
          "output_type": "stream",
          "name": "stderr",
          "text": [
            "train: 100%|██████████| 2521/2521 [00:28<00:00, 88.45it/s]\n"
          ]
        },
        {
          "output_type": "stream",
          "name": "stdout",
          "text": [
            "Epoch 2 elapsed: 28.550s\n",
            "\t \u001b[32mtrain_loss: 0.4468\u001b[0m\n"
          ]
        },
        {
          "output_type": "stream",
          "name": "stderr",
          "text": [
            "eval_pred: 100%|██████████| 3/3 [00:00<00:00, 200.55it/s]\n",
            "eval_rec: 100%|██████████| 610/610 [00:00<00:00, 2108.48it/s]\n"
          ]
        },
        {
          "output_type": "stream",
          "name": "stdout",
          "text": [
            "\t eval log_loss: 0.4976\n",
            "\t eval roc_auc: 0.8419\n",
            "\t eval precision@10: 0.0323\n",
            "\t eval recall@10: 0.0307\n",
            "\t eval map@10: 0.0725\n",
            "\t eval ndcg@10: 0.1081\n",
            "==============================\n",
            "With lr_decay, epoch 3 learning rate: 8.49346470204182e-05\n"
          ]
        },
        {
          "output_type": "stream",
          "name": "stderr",
          "text": [
            "train: 100%|██████████| 2521/2521 [00:28<00:00, 87.93it/s]\n"
          ]
        },
        {
          "output_type": "stream",
          "name": "stdout",
          "text": [
            "Epoch 3 elapsed: 28.721s\n",
            "\t \u001b[32mtrain_loss: 0.4199\u001b[0m\n"
          ]
        },
        {
          "output_type": "stream",
          "name": "stderr",
          "text": [
            "eval_pred: 100%|██████████| 3/3 [00:00<00:00, 208.08it/s]\n",
            "eval_rec: 100%|██████████| 610/610 [00:00<00:00, 2370.89it/s]\n"
          ]
        },
        {
          "output_type": "stream",
          "name": "stdout",
          "text": [
            "\t eval log_loss: 0.5041\n",
            "\t eval roc_auc: 0.8390\n",
            "\t eval precision@10: 0.0313\n",
            "\t eval recall@10: 0.0297\n",
            "\t eval map@10: 0.0759\n",
            "\t eval ndcg@10: 0.1104\n",
            "==============================\n",
            "With lr_decay, epoch 4 learning rate: 7.827577064745128e-05\n"
          ]
        },
        {
          "output_type": "stream",
          "name": "stderr",
          "text": [
            "train: 100%|██████████| 2521/2521 [00:28<00:00, 88.21it/s]\n"
          ]
        },
        {
          "output_type": "stream",
          "name": "stdout",
          "text": [
            "Epoch 4 elapsed: 28.636s\n",
            "\t \u001b[32mtrain_loss: 0.4071\u001b[0m\n"
          ]
        },
        {
          "output_type": "stream",
          "name": "stderr",
          "text": [
            "eval_pred: 100%|██████████| 3/3 [00:00<00:00, 242.14it/s]\n",
            "eval_rec: 100%|██████████| 610/610 [00:00<00:00, 2289.26it/s]\n"
          ]
        },
        {
          "output_type": "stream",
          "name": "stdout",
          "text": [
            "\t eval log_loss: 0.5169\n",
            "\t eval roc_auc: 0.8362\n",
            "\t eval precision@10: 0.0285\n",
            "\t eval recall@10: 0.0269\n",
            "\t eval map@10: 0.0731\n",
            "\t eval ndcg@10: 0.1050\n",
            "==============================\n",
            "With lr_decay, epoch 5 learning rate: 7.213894423330203e-05\n"
          ]
        },
        {
          "output_type": "stream",
          "name": "stderr",
          "text": [
            "train: 100%|██████████| 2521/2521 [00:29<00:00, 86.44it/s]\n"
          ]
        },
        {
          "output_type": "stream",
          "name": "stdout",
          "text": [
            "Epoch 5 elapsed: 29.222s\n",
            "\t \u001b[32mtrain_loss: 0.3978\u001b[0m\n"
          ]
        },
        {
          "output_type": "stream",
          "name": "stderr",
          "text": [
            "eval_pred: 100%|██████████| 3/3 [00:00<00:00, 272.01it/s]\n",
            "eval_rec: 100%|██████████| 610/610 [00:00<00:00, 2040.90it/s]\n"
          ]
        },
        {
          "output_type": "stream",
          "name": "stdout",
          "text": [
            "\t eval log_loss: 0.5287\n",
            "\t eval roc_auc: 0.8312\n",
            "\t eval precision@10: 0.0290\n",
            "\t eval recall@10: 0.0266\n",
            "\t eval map@10: 0.0706\n",
            "\t eval ndcg@10: 0.1054\n",
            "==============================\n",
            "With lr_decay, epoch 6 learning rate: 6.648324779234827e-05\n"
          ]
        },
        {
          "output_type": "stream",
          "name": "stderr",
          "text": [
            "train: 100%|██████████| 2521/2521 [00:29<00:00, 85.88it/s]\n"
          ]
        },
        {
          "output_type": "stream",
          "name": "stdout",
          "text": [
            "Epoch 6 elapsed: 29.412s\n",
            "\t \u001b[32mtrain_loss: 0.3904\u001b[0m\n"
          ]
        },
        {
          "output_type": "stream",
          "name": "stderr",
          "text": [
            "eval_pred: 100%|██████████| 3/3 [00:00<00:00, 225.33it/s]\n",
            "eval_rec: 100%|██████████| 610/610 [00:00<00:00, 2023.24it/s]\n"
          ]
        },
        {
          "output_type": "stream",
          "name": "stdout",
          "text": [
            "\t eval log_loss: 0.5375\n",
            "\t eval roc_auc: 0.8276\n",
            "\t eval precision@10: 0.0279\n",
            "\t eval recall@10: 0.0256\n",
            "\t eval map@10: 0.0686\n",
            "\t eval ndcg@10: 0.1025\n",
            "==============================\n",
            "With lr_decay, epoch 7 learning rate: 6.127095548436046e-05\n"
          ]
        },
        {
          "output_type": "stream",
          "name": "stderr",
          "text": [
            "train: 100%|██████████| 2521/2521 [00:29<00:00, 84.56it/s]\n"
          ]
        },
        {
          "output_type": "stream",
          "name": "stdout",
          "text": [
            "Epoch 7 elapsed: 29.866s\n",
            "\t \u001b[32mtrain_loss: 0.3824\u001b[0m\n"
          ]
        },
        {
          "output_type": "stream",
          "name": "stderr",
          "text": [
            "eval_pred: 100%|██████████| 3/3 [00:00<00:00, 174.63it/s]\n",
            "eval_rec: 100%|██████████| 610/610 [00:00<00:00, 2113.22it/s]\n"
          ]
        },
        {
          "output_type": "stream",
          "name": "stdout",
          "text": [
            "\t eval log_loss: 0.5497\n",
            "\t eval roc_auc: 0.8233\n",
            "\t eval precision@10: 0.0272\n",
            "\t eval recall@10: 0.0256\n",
            "\t eval map@10: 0.0702\n",
            "\t eval ndcg@10: 0.1032\n",
            "==============================\n",
            "With lr_decay, epoch 8 learning rate: 5.6467310059815645e-05\n"
          ]
        },
        {
          "output_type": "stream",
          "name": "stderr",
          "text": [
            "train: 100%|██████████| 2521/2521 [00:30<00:00, 82.08it/s]\n"
          ]
        },
        {
          "output_type": "stream",
          "name": "stdout",
          "text": [
            "Epoch 8 elapsed: 30.763s\n",
            "\t \u001b[32mtrain_loss: 0.3763\u001b[0m\n"
          ]
        },
        {
          "output_type": "stream",
          "name": "stderr",
          "text": [
            "eval_pred: 100%|██████████| 3/3 [00:00<00:00, 248.52it/s]\n",
            "eval_rec: 100%|██████████| 610/610 [00:00<00:00, 1929.28it/s]\n"
          ]
        },
        {
          "output_type": "stream",
          "name": "stdout",
          "text": [
            "\t eval log_loss: 0.5620\n",
            "\t eval roc_auc: 0.8208\n",
            "\t eval precision@10: 0.0277\n",
            "\t eval recall@10: 0.0255\n",
            "\t eval map@10: 0.0677\n",
            "\t eval ndcg@10: 0.1012\n",
            "==============================\n",
            "With lr_decay, epoch 9 learning rate: 5.2040271839359775e-05\n"
          ]
        },
        {
          "output_type": "stream",
          "name": "stderr",
          "text": [
            "train: 100%|██████████| 2521/2521 [00:29<00:00, 84.38it/s]\n"
          ]
        },
        {
          "output_type": "stream",
          "name": "stdout",
          "text": [
            "Epoch 9 elapsed: 29.931s\n",
            "\t \u001b[32mtrain_loss: 0.371\u001b[0m\n"
          ]
        },
        {
          "output_type": "stream",
          "name": "stderr",
          "text": [
            "eval_pred: 100%|██████████| 3/3 [00:00<00:00, 203.59it/s]\n",
            "eval_rec: 100%|██████████| 610/610 [00:00<00:00, 2084.56it/s]\n"
          ]
        },
        {
          "output_type": "stream",
          "name": "stdout",
          "text": [
            "\t eval log_loss: 0.5720\n",
            "\t eval roc_auc: 0.8172\n",
            "\t eval precision@10: 0.0285\n",
            "\t eval recall@10: 0.0275\n",
            "\t eval map@10: 0.0683\n",
            "\t eval ndcg@10: 0.1028\n",
            "==============================\n",
            "With lr_decay, epoch 10 learning rate: 4.796031134901568e-05\n"
          ]
        },
        {
          "output_type": "stream",
          "name": "stderr",
          "text": [
            "train: 100%|██████████| 2521/2521 [00:29<00:00, 85.60it/s]\n"
          ]
        },
        {
          "output_type": "stream",
          "name": "stdout",
          "text": [
            "Epoch 10 elapsed: 29.505s\n",
            "\t \u001b[32mtrain_loss: 0.3668\u001b[0m\n"
          ]
        },
        {
          "output_type": "stream",
          "name": "stderr",
          "text": [
            "eval_pred: 100%|██████████| 3/3 [00:00<00:00, 278.51it/s]\n",
            "eval_rec: 100%|██████████| 610/610 [00:00<00:00, 2136.18it/s]\n"
          ]
        },
        {
          "output_type": "stream",
          "name": "stdout",
          "text": [
            "\t eval log_loss: 0.5801\n",
            "\t eval roc_auc: 0.8159\n",
            "\t eval precision@10: 0.0277\n",
            "\t eval recall@10: 0.0270\n",
            "\t eval map@10: 0.0691\n",
            "\t eval ndcg@10: 0.1032\n",
            "==============================\n"
          ]
        },
        {
          "output_type": "stream",
          "name": "stderr",
          "text": [
            "eval_pred: 100%|██████████| 3/3 [00:00<00:00, 291.78it/s]\n",
            "eval_rec: 100%|██████████| 608/608 [00:00<00:00, 2175.28it/s]\n"
          ]
        },
        {
          "output_type": "display_data",
          "data": {
            "text/plain": [
              "<IPython.core.display.HTML object>"
            ],
            "text/html": [
              "Waiting for W&B process to finish... <strong style=\"color:green\">(success).</strong>"
            ]
          },
          "metadata": {}
        },
        {
          "output_type": "display_data",
          "data": {
            "text/plain": [
              "<IPython.core.display.HTML object>"
            ],
            "text/html": [
              "<style>\n",
              "    table.wandb td:nth-child(1) { padding: 0 10px; text-align: left ; width: auto;} td:nth-child(2) {text-align: left ; width: 100%}\n",
              "    .wandb-row { display: flex; flex-direction: row; flex-wrap: wrap; justify-content: flex-start; width: 100% }\n",
              "    .wandb-col { display: flex; flex-direction: column; flex-basis: 100%; flex: 1; padding: 10px; }\n",
              "    </style>\n",
              "<div class=\"wandb-row\"><div class=\"wandb-col\"><h3>Run history:</h3><br/><table class=\"wandb\"><tr><td>epoch</td><td>▁▂▃▃▄▅▆▆▇█</td></tr><tr><td>log_loss</td><td>▂▁▂▃▄▄▅▆▇█</td></tr><tr><td>loss</td><td>▁</td></tr><tr><td>map</td><td>▁</td></tr><tr><td>map@10</td><td>▅▅█▆▃▂▃▁▁▂</td></tr><tr><td>ndcg</td><td>▁</td></tr><tr><td>ndcg@10</td><td>▇▆█▄▄▂▃▁▂▂</td></tr><tr><td>precision</td><td>▁</td></tr><tr><td>precision@10</td><td>█▆▅▂▃▂▁▁▂▁</td></tr><tr><td>recall</td><td>▁</td></tr><tr><td>recall@10</td><td>█▅▅▂▂▁▁▁▃▂</td></tr><tr><td>roc_auc</td><td>▆██▇▆▆▅▅▄▄▁</td></tr><tr><td>train_loss</td><td>█▄▃▂▂▂▂▁▁▁</td></tr></table><br/></div><div class=\"wandb-col\"><h3>Run summary:</h3><br/><table class=\"wandb\"><tr><td>epoch</td><td>10</td></tr><tr><td>log_loss</td><td>0.58013</td></tr><tr><td>loss</td><td>0.62607</td></tr><tr><td>map</td><td>0.06236</td></tr><tr><td>map@10</td><td>0.06906</td></tr><tr><td>ndcg</td><td>0.09071</td></tr><tr><td>ndcg@10</td><td>0.10316</td></tr><tr><td>precision</td><td>0.02368</td></tr><tr><td>precision@10</td><td>0.0277</td></tr><tr><td>recall</td><td>0.02147</td></tr><tr><td>recall@10</td><td>0.02697</td></tr><tr><td>roc_auc</td><td>0.79794</td></tr><tr><td>train_loss</td><td>0.3668</td></tr></table><br/></div></div>"
            ]
          },
          "metadata": {}
        },
        {
          "output_type": "display_data",
          "data": {
            "text/plain": [
              "<IPython.core.display.HTML object>"
            ],
            "text/html": [
              "Synced <strong style=\"color:#cdcd00\">jolly-sweep-4</strong>: <a href=\"https://wandb.ai/iloncka-ds/recsys-app/runs/rcrjq0yx\" target=\"_blank\">https://wandb.ai/iloncka-ds/recsys-app/runs/rcrjq0yx</a><br/>Synced 5 W&B file(s), 0 media file(s), 0 artifact file(s) and 0 other file(s)"
            ]
          },
          "metadata": {}
        },
        {
          "output_type": "display_data",
          "data": {
            "text/plain": [
              "<IPython.core.display.HTML object>"
            ],
            "text/html": [
              "Find logs at: <code>./wandb/run-20221106_141440-rcrjq0yx/logs</code>"
            ]
          },
          "metadata": {}
        },
        {
          "output_type": "stream",
          "name": "stderr",
          "text": [
            "\u001b[34m\u001b[1mwandb\u001b[0m: Agent Starting Run: gltwua2z with config:\n",
            "\u001b[34m\u001b[1mwandb\u001b[0m: \tbatch_size: 64\n",
            "\u001b[34m\u001b[1mwandb\u001b[0m: \tembed_size: 16\n",
            "\u001b[34m\u001b[1mwandb\u001b[0m: \tlr: 0.0001\n",
            "\u001b[34m\u001b[1mwandb\u001b[0m: \tn_epochs: 5\n",
            "Failed to detect the name of this notebook, you can set it manually with the WANDB_NOTEBOOK_NAME environment variable to enable code saving.\n"
          ]
        },
        {
          "output_type": "display_data",
          "data": {
            "text/plain": [
              "<IPython.core.display.HTML object>"
            ],
            "text/html": [
              "Tracking run with wandb version 0.13.5"
            ]
          },
          "metadata": {}
        },
        {
          "output_type": "display_data",
          "data": {
            "text/plain": [
              "<IPython.core.display.HTML object>"
            ],
            "text/html": [
              "Run data is saved locally in <code>/content/wandb/run-20221106_141955-gltwua2z</code>"
            ]
          },
          "metadata": {}
        },
        {
          "output_type": "display_data",
          "data": {
            "text/plain": [
              "<IPython.core.display.HTML object>"
            ],
            "text/html": [
              "Syncing run <strong><a href=\"https://wandb.ai/iloncka-ds/recsys-app/runs/gltwua2z\" target=\"_blank\">vivid-sweep-5</a></strong> to <a href=\"https://wandb.ai/iloncka-ds/recsys-app\" target=\"_blank\">Weights & Biases</a> (<a href=\"https://wandb.me/run\" target=\"_blank\">docs</a>)<br/>Sweep page:  <a href=\"https://wandb.ai/iloncka-ds/recsys-app/sweeps/r5ls7bmj\" target=\"_blank\">https://wandb.ai/iloncka-ds/recsys-app/sweeps/r5ls7bmj</a>"
            ]
          },
          "metadata": {}
        },
        {
          "output_type": "stream",
          "name": "stdout",
          "text": [
            "total params: \u001b[33m416,045\u001b[0m | embedding params: \u001b[33m413,485\u001b[0m | network params: \u001b[33m2,560\u001b[0m\n",
            "Training start time: \u001b[35m2022-11-06 14:19:58\u001b[0m\n",
            "With lr_decay, epoch 1 learning rate: 9.999999747378752e-05\n"
          ]
        },
        {
          "output_type": "stream",
          "name": "stderr",
          "text": [
            "train: 100%|██████████| 2521/2521 [00:29<00:00, 86.35it/s]\n"
          ]
        },
        {
          "output_type": "stream",
          "name": "stdout",
          "text": [
            "Epoch 1 elapsed: 29.248s\n",
            "\t \u001b[32mtrain_loss: 0.5563\u001b[0m\n"
          ]
        },
        {
          "output_type": "stream",
          "name": "stderr",
          "text": [
            "eval_pred: 100%|██████████| 3/3 [00:00<00:00, 246.98it/s]\n",
            "eval_rec: 100%|██████████| 610/610 [00:00<00:00, 2211.08it/s]\n"
          ]
        },
        {
          "output_type": "stream",
          "name": "stdout",
          "text": [
            "\t eval log_loss: 0.5084\n",
            "\t eval roc_auc: 0.8329\n",
            "\t eval precision@10: 0.0346\n",
            "\t eval recall@10: 0.0346\n",
            "\t eval map@10: 0.0765\n",
            "\t eval ndcg@10: 0.1127\n",
            "==============================\n",
            "With lr_decay, epoch 2 learning rate: 9.215999307343736e-05\n"
          ]
        },
        {
          "output_type": "stream",
          "name": "stderr",
          "text": [
            "train: 100%|██████████| 2521/2521 [00:28<00:00, 89.73it/s]\n"
          ]
        },
        {
          "output_type": "stream",
          "name": "stdout",
          "text": [
            "Epoch 2 elapsed: 28.151s\n",
            "\t \u001b[32mtrain_loss: 0.4457\u001b[0m\n"
          ]
        },
        {
          "output_type": "stream",
          "name": "stderr",
          "text": [
            "eval_pred: 100%|██████████| 3/3 [00:00<00:00, 301.81it/s]\n",
            "eval_rec: 100%|██████████| 610/610 [00:00<00:00, 2223.15it/s]\n"
          ]
        },
        {
          "output_type": "stream",
          "name": "stdout",
          "text": [
            "\t eval log_loss: 0.4972\n",
            "\t eval roc_auc: 0.8423\n",
            "\t eval precision@10: 0.0328\n",
            "\t eval recall@10: 0.0310\n",
            "\t eval map@10: 0.0752\n",
            "\t eval ndcg@10: 0.1119\n",
            "==============================\n",
            "With lr_decay, epoch 3 learning rate: 8.49346470204182e-05\n"
          ]
        },
        {
          "output_type": "stream",
          "name": "stderr",
          "text": [
            "train: 100%|██████████| 2521/2521 [00:28<00:00, 89.76it/s]\n"
          ]
        },
        {
          "output_type": "stream",
          "name": "stdout",
          "text": [
            "Epoch 3 elapsed: 28.154s\n",
            "\t \u001b[32mtrain_loss: 0.4185\u001b[0m\n"
          ]
        },
        {
          "output_type": "stream",
          "name": "stderr",
          "text": [
            "eval_pred: 100%|██████████| 3/3 [00:00<00:00, 191.33it/s]\n",
            "eval_rec: 100%|██████████| 610/610 [00:00<00:00, 2100.36it/s]\n"
          ]
        },
        {
          "output_type": "stream",
          "name": "stdout",
          "text": [
            "\t eval log_loss: 0.5043\n",
            "\t eval roc_auc: 0.8379\n",
            "\t eval precision@10: 0.0303\n",
            "\t eval recall@10: 0.0283\n",
            "\t eval map@10: 0.0730\n",
            "\t eval ndcg@10: 0.1070\n",
            "==============================\n",
            "With lr_decay, epoch 4 learning rate: 7.827577064745128e-05\n"
          ]
        },
        {
          "output_type": "stream",
          "name": "stderr",
          "text": [
            "train: 100%|██████████| 2521/2521 [00:28<00:00, 87.10it/s]\n"
          ]
        },
        {
          "output_type": "stream",
          "name": "stdout",
          "text": [
            "Epoch 4 elapsed: 28.995s\n",
            "\t \u001b[32mtrain_loss: 0.4045\u001b[0m\n"
          ]
        },
        {
          "output_type": "stream",
          "name": "stderr",
          "text": [
            "eval_pred: 100%|██████████| 3/3 [00:00<00:00, 225.57it/s]\n",
            "eval_rec: 100%|██████████| 610/610 [00:00<00:00, 2139.93it/s]\n"
          ]
        },
        {
          "output_type": "stream",
          "name": "stdout",
          "text": [
            "\t eval log_loss: 0.5183\n",
            "\t eval roc_auc: 0.8339\n",
            "\t eval precision@10: 0.0277\n",
            "\t eval recall@10: 0.0270\n",
            "\t eval map@10: 0.0729\n",
            "\t eval ndcg@10: 0.1044\n",
            "==============================\n",
            "With lr_decay, epoch 5 learning rate: 7.213894423330203e-05\n"
          ]
        },
        {
          "output_type": "stream",
          "name": "stderr",
          "text": [
            "train: 100%|██████████| 2521/2521 [00:28<00:00, 88.14it/s]\n"
          ]
        },
        {
          "output_type": "stream",
          "name": "stdout",
          "text": [
            "Epoch 5 elapsed: 28.661s\n",
            "\t \u001b[32mtrain_loss: 0.3942\u001b[0m\n"
          ]
        },
        {
          "output_type": "stream",
          "name": "stderr",
          "text": [
            "eval_pred: 100%|██████████| 3/3 [00:00<00:00, 157.76it/s]\n",
            "eval_rec: 100%|██████████| 610/610 [00:00<00:00, 2248.11it/s]\n"
          ]
        },
        {
          "output_type": "stream",
          "name": "stdout",
          "text": [
            "\t eval log_loss: 0.5338\n",
            "\t eval roc_auc: 0.8259\n",
            "\t eval precision@10: 0.0282\n",
            "\t eval recall@10: 0.0263\n",
            "\t eval map@10: 0.0680\n",
            "\t eval ndcg@10: 0.1021\n",
            "==============================\n"
          ]
        },
        {
          "output_type": "stream",
          "name": "stderr",
          "text": [
            "eval_pred: 100%|██████████| 3/3 [00:00<00:00, 266.71it/s]\n",
            "eval_rec: 100%|██████████| 608/608 [00:00<00:00, 2260.16it/s]\n"
          ]
        },
        {
          "output_type": "display_data",
          "data": {
            "text/plain": [
              "<IPython.core.display.HTML object>"
            ],
            "text/html": [
              "Waiting for W&B process to finish... <strong style=\"color:green\">(success).</strong>"
            ]
          },
          "metadata": {}
        },
        {
          "output_type": "display_data",
          "data": {
            "text/plain": [
              "VBox(children=(Label(value='0.001 MB of 0.001 MB uploaded (0.000 MB deduped)\\r'), FloatProgress(value=1.0, max…"
            ],
            "application/vnd.jupyter.widget-view+json": {
              "version_major": 2,
              "version_minor": 0,
              "model_id": "4e2261ccc25f4b63b14bd7a3ea5aedc4"
            }
          },
          "metadata": {}
        },
        {
          "output_type": "display_data",
          "data": {
            "text/plain": [
              "<IPython.core.display.HTML object>"
            ],
            "text/html": [
              "<style>\n",
              "    table.wandb td:nth-child(1) { padding: 0 10px; text-align: left ; width: auto;} td:nth-child(2) {text-align: left ; width: 100%}\n",
              "    .wandb-row { display: flex; flex-direction: row; flex-wrap: wrap; justify-content: flex-start; width: 100% }\n",
              "    .wandb-col { display: flex; flex-direction: column; flex-basis: 100%; flex: 1; padding: 10px; }\n",
              "    </style>\n",
              "<div class=\"wandb-row\"><div class=\"wandb-col\"><h3>Run history:</h3><br/><table class=\"wandb\"><tr><td>epoch</td><td>▁▃▅▆█</td></tr><tr><td>log_loss</td><td>▃▁▂▅█</td></tr><tr><td>loss</td><td>▁</td></tr><tr><td>map</td><td>▁</td></tr><tr><td>map@10</td><td>█▇▅▅▁</td></tr><tr><td>ndcg</td><td>▁</td></tr><tr><td>ndcg@10</td><td>█▇▄▃▁</td></tr><tr><td>precision</td><td>▁</td></tr><tr><td>precision@10</td><td>█▆▄▁▁</td></tr><tr><td>recall</td><td>▁</td></tr><tr><td>recall@10</td><td>█▅▃▂▁</td></tr><tr><td>roc_auc</td><td>▆█▇▆▅▁</td></tr><tr><td>train_loss</td><td>█▃▂▁▁</td></tr></table><br/></div><div class=\"wandb-col\"><h3>Run summary:</h3><br/><table class=\"wandb\"><tr><td>epoch</td><td>5</td></tr><tr><td>log_loss</td><td>0.53377</td></tr><tr><td>loss</td><td>0.57381</td></tr><tr><td>map</td><td>0.06135</td></tr><tr><td>map@10</td><td>0.06801</td></tr><tr><td>ndcg</td><td>0.08917</td></tr><tr><td>ndcg@10</td><td>0.10214</td></tr><tr><td>precision</td><td>0.0227</td></tr><tr><td>precision@10</td><td>0.0282</td></tr><tr><td>recall</td><td>0.02119</td></tr><tr><td>recall@10</td><td>0.02626</td></tr><tr><td>roc_auc</td><td>0.80619</td></tr><tr><td>train_loss</td><td>0.3942</td></tr></table><br/></div></div>"
            ]
          },
          "metadata": {}
        },
        {
          "output_type": "display_data",
          "data": {
            "text/plain": [
              "<IPython.core.display.HTML object>"
            ],
            "text/html": [
              "Synced <strong style=\"color:#cdcd00\">vivid-sweep-5</strong>: <a href=\"https://wandb.ai/iloncka-ds/recsys-app/runs/gltwua2z\" target=\"_blank\">https://wandb.ai/iloncka-ds/recsys-app/runs/gltwua2z</a><br/>Synced 5 W&B file(s), 0 media file(s), 0 artifact file(s) and 0 other file(s)"
            ]
          },
          "metadata": {}
        },
        {
          "output_type": "display_data",
          "data": {
            "text/plain": [
              "<IPython.core.display.HTML object>"
            ],
            "text/html": [
              "Find logs at: <code>./wandb/run-20221106_141955-gltwua2z/logs</code>"
            ]
          },
          "metadata": {}
        },
        {
          "output_type": "stream",
          "name": "stderr",
          "text": [
            "\u001b[34m\u001b[1mwandb\u001b[0m: Agent Starting Run: 4fgkc1xl with config:\n",
            "\u001b[34m\u001b[1mwandb\u001b[0m: \tbatch_size: 256\n",
            "\u001b[34m\u001b[1mwandb\u001b[0m: \tembed_size: 32\n",
            "\u001b[34m\u001b[1mwandb\u001b[0m: \tlr: 0.0001\n",
            "\u001b[34m\u001b[1mwandb\u001b[0m: \tn_epochs: 5\n",
            "Failed to detect the name of this notebook, you can set it manually with the WANDB_NOTEBOOK_NAME environment variable to enable code saving.\n"
          ]
        },
        {
          "output_type": "display_data",
          "data": {
            "text/plain": [
              "<IPython.core.display.HTML object>"
            ],
            "text/html": [
              "Tracking run with wandb version 0.13.5"
            ]
          },
          "metadata": {}
        },
        {
          "output_type": "display_data",
          "data": {
            "text/plain": [
              "<IPython.core.display.HTML object>"
            ],
            "text/html": [
              "Run data is saved locally in <code>/content/wandb/run-20221106_142236-4fgkc1xl</code>"
            ]
          },
          "metadata": {}
        },
        {
          "output_type": "display_data",
          "data": {
            "text/plain": [
              "<IPython.core.display.HTML object>"
            ],
            "text/html": [
              "Syncing run <strong><a href=\"https://wandb.ai/iloncka-ds/recsys-app/runs/4fgkc1xl\" target=\"_blank\">polished-sweep-6</a></strong> to <a href=\"https://wandb.ai/iloncka-ds/recsys-app\" target=\"_blank\">Weights & Biases</a> (<a href=\"https://wandb.me/run\" target=\"_blank\">docs</a>)<br/>Sweep page:  <a href=\"https://wandb.ai/iloncka-ds/recsys-app/sweeps/r5ls7bmj\" target=\"_blank\">https://wandb.ai/iloncka-ds/recsys-app/sweeps/r5ls7bmj</a>"
            ]
          },
          "metadata": {}
        },
        {
          "output_type": "stream",
          "name": "stdout",
          "text": [
            "total params: \u001b[33m821,981\u001b[0m | embedding params: \u001b[33m818,653\u001b[0m | network params: \u001b[33m3,328\u001b[0m\n",
            "Training start time: \u001b[35m2022-11-06 14:22:42\u001b[0m\n",
            "With lr_decay, epoch 1 learning rate: 9.999999747378752e-05\n"
          ]
        },
        {
          "output_type": "stream",
          "name": "stderr",
          "text": [
            "train: 100%|██████████| 631/631 [00:20<00:00, 31.53it/s]\n"
          ]
        },
        {
          "output_type": "stream",
          "name": "stdout",
          "text": [
            "Epoch 1 elapsed: 20.074s\n",
            "\t \u001b[32mtrain_loss: 0.6056\u001b[0m\n"
          ]
        },
        {
          "output_type": "stream",
          "name": "stderr",
          "text": [
            "eval_pred: 100%|██████████| 3/3 [00:00<00:00, 184.24it/s]\n",
            "eval_rec: 100%|██████████| 610/610 [00:00<00:00, 1762.54it/s]\n"
          ]
        },
        {
          "output_type": "stream",
          "name": "stdout",
          "text": [
            "\t eval log_loss: 0.5172\n",
            "\t eval roc_auc: 0.8270\n",
            "\t eval precision@10: 0.0382\n",
            "\t eval recall@10: 0.0385\n",
            "\t eval map@10: 0.0860\n",
            "\t eval ndcg@10: 0.1258\n",
            "==============================\n",
            "With lr_decay, epoch 2 learning rate: 9.215999307343736e-05\n"
          ]
        },
        {
          "output_type": "stream",
          "name": "stderr",
          "text": [
            "train: 100%|██████████| 631/631 [00:19<00:00, 32.28it/s]\n"
          ]
        },
        {
          "output_type": "stream",
          "name": "stdout",
          "text": [
            "Epoch 2 elapsed: 19.598s\n",
            "\t \u001b[32mtrain_loss: 0.4552\u001b[0m\n"
          ]
        },
        {
          "output_type": "stream",
          "name": "stderr",
          "text": [
            "eval_pred: 100%|██████████| 3/3 [00:00<00:00, 209.23it/s]\n",
            "eval_rec: 100%|██████████| 610/610 [00:00<00:00, 1731.16it/s]\n"
          ]
        },
        {
          "output_type": "stream",
          "name": "stdout",
          "text": [
            "\t eval log_loss: 0.4986\n",
            "\t eval roc_auc: 0.8414\n",
            "\t eval precision@10: 0.0346\n",
            "\t eval recall@10: 0.0350\n",
            "\t eval map@10: 0.0833\n",
            "\t eval ndcg@10: 0.1215\n",
            "==============================\n",
            "With lr_decay, epoch 3 learning rate: 8.49346470204182e-05\n"
          ]
        },
        {
          "output_type": "stream",
          "name": "stderr",
          "text": [
            "train: 100%|██████████| 631/631 [00:19<00:00, 32.73it/s]\n"
          ]
        },
        {
          "output_type": "stream",
          "name": "stdout",
          "text": [
            "Epoch 3 elapsed: 19.332s\n",
            "\t \u001b[32mtrain_loss: 0.4277\u001b[0m\n"
          ]
        },
        {
          "output_type": "stream",
          "name": "stderr",
          "text": [
            "eval_pred: 100%|██████████| 3/3 [00:00<00:00, 170.78it/s]\n",
            "eval_rec: 100%|██████████| 610/610 [00:00<00:00, 1951.69it/s]\n"
          ]
        },
        {
          "output_type": "stream",
          "name": "stdout",
          "text": [
            "\t eval log_loss: 0.4978\n",
            "\t eval roc_auc: 0.8422\n",
            "\t eval precision@10: 0.0325\n",
            "\t eval recall@10: 0.0324\n",
            "\t eval map@10: 0.0802\n",
            "\t eval ndcg@10: 0.1158\n",
            "==============================\n",
            "With lr_decay, epoch 4 learning rate: 7.827577064745128e-05\n"
          ]
        },
        {
          "output_type": "stream",
          "name": "stderr",
          "text": [
            "train: 100%|██████████| 631/631 [00:19<00:00, 31.67it/s]\n"
          ]
        },
        {
          "output_type": "stream",
          "name": "stdout",
          "text": [
            "Epoch 4 elapsed: 19.987s\n",
            "\t \u001b[32mtrain_loss: 0.4131\u001b[0m\n"
          ]
        },
        {
          "output_type": "stream",
          "name": "stderr",
          "text": [
            "eval_pred: 100%|██████████| 3/3 [00:00<00:00, 169.81it/s]\n",
            "eval_rec: 100%|██████████| 610/610 [00:00<00:00, 1795.86it/s]\n"
          ]
        },
        {
          "output_type": "stream",
          "name": "stdout",
          "text": [
            "\t eval log_loss: 0.5046\n",
            "\t eval roc_auc: 0.8400\n",
            "\t eval precision@10: 0.0308\n",
            "\t eval recall@10: 0.0286\n",
            "\t eval map@10: 0.0735\n",
            "\t eval ndcg@10: 0.1096\n",
            "==============================\n",
            "With lr_decay, epoch 5 learning rate: 7.213894423330203e-05\n"
          ]
        },
        {
          "output_type": "stream",
          "name": "stderr",
          "text": [
            "train: 100%|██████████| 631/631 [00:19<00:00, 32.06it/s]\n"
          ]
        },
        {
          "output_type": "stream",
          "name": "stdout",
          "text": [
            "Epoch 5 elapsed: 19.734s\n",
            "\t \u001b[32mtrain_loss: 0.404\u001b[0m\n"
          ]
        },
        {
          "output_type": "stream",
          "name": "stderr",
          "text": [
            "eval_pred: 100%|██████████| 3/3 [00:00<00:00, 177.69it/s]\n",
            "eval_rec: 100%|██████████| 610/610 [00:00<00:00, 1870.72it/s]\n"
          ]
        },
        {
          "output_type": "stream",
          "name": "stdout",
          "text": [
            "\t eval log_loss: 0.5120\n",
            "\t eval roc_auc: 0.8378\n",
            "\t eval precision@10: 0.0293\n",
            "\t eval recall@10: 0.0269\n",
            "\t eval map@10: 0.0708\n",
            "\t eval ndcg@10: 0.1061\n",
            "==============================\n"
          ]
        },
        {
          "output_type": "stream",
          "name": "stderr",
          "text": [
            "eval_pred: 100%|██████████| 3/3 [00:00<00:00, 224.15it/s]\n",
            "eval_rec: 100%|██████████| 608/608 [00:00<00:00, 1688.30it/s]\n"
          ]
        },
        {
          "output_type": "display_data",
          "data": {
            "text/plain": [
              "<IPython.core.display.HTML object>"
            ],
            "text/html": [
              "Waiting for W&B process to finish... <strong style=\"color:green\">(success).</strong>"
            ]
          },
          "metadata": {}
        },
        {
          "output_type": "display_data",
          "data": {
            "text/plain": [
              "VBox(children=(Label(value='0.001 MB of 0.001 MB uploaded (0.000 MB deduped)\\r'), FloatProgress(value=1.0, max…"
            ],
            "application/vnd.jupyter.widget-view+json": {
              "version_major": 2,
              "version_minor": 0,
              "model_id": "06ffca4f5dc24c2580622dc2944b07b6"
            }
          },
          "metadata": {}
        },
        {
          "output_type": "display_data",
          "data": {
            "text/plain": [
              "<IPython.core.display.HTML object>"
            ],
            "text/html": [
              "<style>\n",
              "    table.wandb td:nth-child(1) { padding: 0 10px; text-align: left ; width: auto;} td:nth-child(2) {text-align: left ; width: 100%}\n",
              "    .wandb-row { display: flex; flex-direction: row; flex-wrap: wrap; justify-content: flex-start; width: 100% }\n",
              "    .wandb-col { display: flex; flex-direction: column; flex-basis: 100%; flex: 1; padding: 10px; }\n",
              "    </style>\n",
              "<div class=\"wandb-row\"><div class=\"wandb-col\"><h3>Run history:</h3><br/><table class=\"wandb\"><tr><td>epoch</td><td>▁▃▅▆█</td></tr><tr><td>log_loss</td><td>█▁▁▃▆</td></tr><tr><td>loss</td><td>▁</td></tr><tr><td>map</td><td>▁</td></tr><tr><td>map@10</td><td>█▇▅▂▁</td></tr><tr><td>ndcg</td><td>▁</td></tr><tr><td>ndcg@10</td><td>█▆▄▂▁</td></tr><tr><td>precision</td><td>▁</td></tr><tr><td>precision@10</td><td>█▅▃▂▁</td></tr><tr><td>recall</td><td>▁</td></tr><tr><td>recall@10</td><td>█▆▄▂▁</td></tr><tr><td>roc_auc</td><td>▃██▇▇▁</td></tr><tr><td>train_loss</td><td>█▃▂▁▁</td></tr></table><br/></div><div class=\"wandb-col\"><h3>Run summary:</h3><br/><table class=\"wandb\"><tr><td>epoch</td><td>5</td></tr><tr><td>log_loss</td><td>0.51197</td></tr><tr><td>loss</td><td>0.54341</td></tr><tr><td>map</td><td>0.06793</td></tr><tr><td>map@10</td><td>0.07076</td></tr><tr><td>ndcg</td><td>0.09795</td></tr><tr><td>ndcg@10</td><td>0.10614</td></tr><tr><td>precision</td><td>0.02533</td></tr><tr><td>precision@10</td><td>0.02934</td></tr><tr><td>recall</td><td>0.0225</td></tr><tr><td>recall@10</td><td>0.02685</td></tr><tr><td>roc_auc</td><td>0.82006</td></tr><tr><td>train_loss</td><td>0.404</td></tr></table><br/></div></div>"
            ]
          },
          "metadata": {}
        },
        {
          "output_type": "display_data",
          "data": {
            "text/plain": [
              "<IPython.core.display.HTML object>"
            ],
            "text/html": [
              "Synced <strong style=\"color:#cdcd00\">polished-sweep-6</strong>: <a href=\"https://wandb.ai/iloncka-ds/recsys-app/runs/4fgkc1xl\" target=\"_blank\">https://wandb.ai/iloncka-ds/recsys-app/runs/4fgkc1xl</a><br/>Synced 5 W&B file(s), 0 media file(s), 0 artifact file(s) and 0 other file(s)"
            ]
          },
          "metadata": {}
        },
        {
          "output_type": "display_data",
          "data": {
            "text/plain": [
              "<IPython.core.display.HTML object>"
            ],
            "text/html": [
              "Find logs at: <code>./wandb/run-20221106_142236-4fgkc1xl/logs</code>"
            ]
          },
          "metadata": {}
        },
        {
          "output_type": "stream",
          "name": "stderr",
          "text": [
            "\u001b[34m\u001b[1mwandb\u001b[0m: Agent Starting Run: qxx0q0o5 with config:\n",
            "\u001b[34m\u001b[1mwandb\u001b[0m: \tbatch_size: 256\n",
            "\u001b[34m\u001b[1mwandb\u001b[0m: \tembed_size: 16\n",
            "\u001b[34m\u001b[1mwandb\u001b[0m: \tlr: 0.001\n",
            "\u001b[34m\u001b[1mwandb\u001b[0m: \tn_epochs: 5\n",
            "Failed to detect the name of this notebook, you can set it manually with the WANDB_NOTEBOOK_NAME environment variable to enable code saving.\n"
          ]
        },
        {
          "output_type": "display_data",
          "data": {
            "text/plain": [
              "<IPython.core.display.HTML object>"
            ],
            "text/html": [
              "Tracking run with wandb version 0.13.5"
            ]
          },
          "metadata": {}
        },
        {
          "output_type": "display_data",
          "data": {
            "text/plain": [
              "<IPython.core.display.HTML object>"
            ],
            "text/html": [
              "Run data is saved locally in <code>/content/wandb/run-20221106_142433-qxx0q0o5</code>"
            ]
          },
          "metadata": {}
        },
        {
          "output_type": "display_data",
          "data": {
            "text/plain": [
              "<IPython.core.display.HTML object>"
            ],
            "text/html": [
              "Syncing run <strong><a href=\"https://wandb.ai/iloncka-ds/recsys-app/runs/qxx0q0o5\" target=\"_blank\">wild-sweep-7</a></strong> to <a href=\"https://wandb.ai/iloncka-ds/recsys-app\" target=\"_blank\">Weights & Biases</a> (<a href=\"https://wandb.me/run\" target=\"_blank\">docs</a>)<br/>Sweep page:  <a href=\"https://wandb.ai/iloncka-ds/recsys-app/sweeps/r5ls7bmj\" target=\"_blank\">https://wandb.ai/iloncka-ds/recsys-app/sweeps/r5ls7bmj</a>"
            ]
          },
          "metadata": {}
        },
        {
          "output_type": "stream",
          "name": "stdout",
          "text": [
            "total params: \u001b[33m416,045\u001b[0m | embedding params: \u001b[33m413,485\u001b[0m | network params: \u001b[33m2,560\u001b[0m\n",
            "Training start time: \u001b[35m2022-11-06 14:24:37\u001b[0m\n",
            "With lr_decay, epoch 1 learning rate: 0.0010000000474974513\n"
          ]
        },
        {
          "output_type": "stream",
          "name": "stderr",
          "text": [
            "train: 100%|██████████| 631/631 [00:18<00:00, 33.57it/s]\n"
          ]
        },
        {
          "output_type": "stream",
          "name": "stdout",
          "text": [
            "Epoch 1 elapsed: 18.857s\n",
            "\t \u001b[32mtrain_loss: 0.5144\u001b[0m\n"
          ]
        },
        {
          "output_type": "stream",
          "name": "stderr",
          "text": [
            "eval_pred: 100%|██████████| 3/3 [00:00<00:00, 216.31it/s]\n",
            "eval_rec: 100%|██████████| 610/610 [00:00<00:00, 2136.60it/s]\n"
          ]
        },
        {
          "output_type": "stream",
          "name": "stdout",
          "text": [
            "\t eval log_loss: 0.5112\n",
            "\t eval roc_auc: 0.8303\n",
            "\t eval precision@10: 0.0290\n",
            "\t eval recall@10: 0.0280\n",
            "\t eval map@10: 0.0659\n",
            "\t eval ndcg@10: 0.0985\n",
            "==============================\n",
            "With lr_decay, epoch 2 learning rate: 0.0009216000325977802\n"
          ]
        },
        {
          "output_type": "stream",
          "name": "stderr",
          "text": [
            "train: 100%|██████████| 631/631 [00:17<00:00, 35.18it/s]\n"
          ]
        },
        {
          "output_type": "stream",
          "name": "stdout",
          "text": [
            "Epoch 2 elapsed: 17.988s\n",
            "\t \u001b[32mtrain_loss: 0.4129\u001b[0m\n"
          ]
        },
        {
          "output_type": "stream",
          "name": "stderr",
          "text": [
            "eval_pred: 100%|██████████| 3/3 [00:00<00:00, 194.38it/s]\n",
            "eval_rec: 100%|██████████| 610/610 [00:00<00:00, 2106.70it/s]\n"
          ]
        },
        {
          "output_type": "stream",
          "name": "stdout",
          "text": [
            "\t eval log_loss: 0.5320\n",
            "\t eval roc_auc: 0.8220\n",
            "\t eval precision@10: 0.0298\n",
            "\t eval recall@10: 0.0324\n",
            "\t eval map@10: 0.0705\n",
            "\t eval ndcg@10: 0.1071\n",
            "==============================\n",
            "With lr_decay, epoch 3 learning rate: 0.0008493465138599277\n"
          ]
        },
        {
          "output_type": "stream",
          "name": "stderr",
          "text": [
            "train: 100%|██████████| 631/631 [00:18<00:00, 34.90it/s]\n"
          ]
        },
        {
          "output_type": "stream",
          "name": "stdout",
          "text": [
            "Epoch 3 elapsed: 18.133s\n",
            "\t \u001b[32mtrain_loss: 0.364\u001b[0m\n"
          ]
        },
        {
          "output_type": "stream",
          "name": "stderr",
          "text": [
            "eval_pred: 100%|██████████| 3/3 [00:00<00:00, 203.98it/s]\n",
            "eval_rec: 100%|██████████| 610/610 [00:00<00:00, 2068.94it/s]\n"
          ]
        },
        {
          "output_type": "stream",
          "name": "stdout",
          "text": [
            "\t eval log_loss: 0.5180\n",
            "\t eval roc_auc: 0.8315\n",
            "\t eval precision@10: 0.0297\n",
            "\t eval recall@10: 0.0301\n",
            "\t eval map@10: 0.0712\n",
            "\t eval ndcg@10: 0.1072\n",
            "==============================\n",
            "With lr_decay, epoch 4 learning rate: 0.0007827577646821737\n"
          ]
        },
        {
          "output_type": "stream",
          "name": "stderr",
          "text": [
            "train: 100%|██████████| 631/631 [00:17<00:00, 35.35it/s]\n"
          ]
        },
        {
          "output_type": "stream",
          "name": "stdout",
          "text": [
            "Epoch 4 elapsed: 17.911s\n",
            "\t \u001b[32mtrain_loss: 0.32\u001b[0m\n"
          ]
        },
        {
          "output_type": "stream",
          "name": "stderr",
          "text": [
            "eval_pred: 100%|██████████| 3/3 [00:00<00:00, 150.05it/s]\n",
            "eval_rec: 100%|██████████| 610/610 [00:00<00:00, 1918.91it/s]\n"
          ]
        },
        {
          "output_type": "stream",
          "name": "stdout",
          "text": [
            "\t eval log_loss: 0.5439\n",
            "\t eval roc_auc: 0.8310\n",
            "\t eval precision@10: 0.0315\n",
            "\t eval recall@10: 0.0291\n",
            "\t eval map@10: 0.0744\n",
            "\t eval ndcg@10: 0.1125\n",
            "==============================\n",
            "With lr_decay, epoch 5 learning rate: 0.000721389485988766\n"
          ]
        },
        {
          "output_type": "stream",
          "name": "stderr",
          "text": [
            "train: 100%|██████████| 631/631 [00:18<00:00, 35.02it/s]\n"
          ]
        },
        {
          "output_type": "stream",
          "name": "stdout",
          "text": [
            "Epoch 5 elapsed: 18.074s\n",
            "\t \u001b[32mtrain_loss: 0.2845\u001b[0m\n"
          ]
        },
        {
          "output_type": "stream",
          "name": "stderr",
          "text": [
            "eval_pred: 100%|██████████| 3/3 [00:00<00:00, 154.37it/s]\n",
            "eval_rec: 100%|██████████| 610/610 [00:00<00:00, 1748.72it/s]\n"
          ]
        },
        {
          "output_type": "stream",
          "name": "stdout",
          "text": [
            "\t eval log_loss: 0.5808\n",
            "\t eval roc_auc: 0.8226\n",
            "\t eval precision@10: 0.0303\n",
            "\t eval recall@10: 0.0331\n",
            "\t eval map@10: 0.0728\n",
            "\t eval ndcg@10: 0.1111\n",
            "==============================\n"
          ]
        },
        {
          "output_type": "stream",
          "name": "stderr",
          "text": [
            "eval_pred: 100%|██████████| 3/3 [00:00<00:00, 207.55it/s]\n",
            "eval_rec: 100%|██████████| 608/608 [00:00<00:00, 2129.73it/s]\n"
          ]
        },
        {
          "output_type": "display_data",
          "data": {
            "text/plain": [
              "<IPython.core.display.HTML object>"
            ],
            "text/html": [
              "Waiting for W&B process to finish... <strong style=\"color:green\">(success).</strong>"
            ]
          },
          "metadata": {}
        },
        {
          "output_type": "display_data",
          "data": {
            "text/plain": [
              "VBox(children=(Label(value='0.001 MB of 0.001 MB uploaded (0.000 MB deduped)\\r'), FloatProgress(value=1.0, max…"
            ],
            "application/vnd.jupyter.widget-view+json": {
              "version_major": 2,
              "version_minor": 0,
              "model_id": "d990b5e499054113809f8bbe21bdb35c"
            }
          },
          "metadata": {}
        },
        {
          "output_type": "display_data",
          "data": {
            "text/plain": [
              "<IPython.core.display.HTML object>"
            ],
            "text/html": [
              "<style>\n",
              "    table.wandb td:nth-child(1) { padding: 0 10px; text-align: left ; width: auto;} td:nth-child(2) {text-align: left ; width: 100%}\n",
              "    .wandb-row { display: flex; flex-direction: row; flex-wrap: wrap; justify-content: flex-start; width: 100% }\n",
              "    .wandb-col { display: flex; flex-direction: column; flex-basis: 100%; flex: 1; padding: 10px; }\n",
              "    </style>\n",
              "<div class=\"wandb-row\"><div class=\"wandb-col\"><h3>Run history:</h3><br/><table class=\"wandb\"><tr><td>epoch</td><td>▁▃▅▆█</td></tr><tr><td>log_loss</td><td>▁▃▂▄█</td></tr><tr><td>loss</td><td>▁</td></tr><tr><td>map</td><td>▁</td></tr><tr><td>map@10</td><td>▁▅▅█▇</td></tr><tr><td>ndcg</td><td>▁</td></tr><tr><td>ndcg@10</td><td>▁▅▅█▇</td></tr><tr><td>precision</td><td>▁</td></tr><tr><td>precision@10</td><td>▁▃▃█▅</td></tr><tr><td>recall</td><td>▁</td></tr><tr><td>recall@10</td><td>▁▇▄▃█</td></tr><tr><td>roc_auc</td><td>█▆██▆▁</td></tr><tr><td>train_loss</td><td>█▅▃▂▁</td></tr></table><br/></div><div class=\"wandb-col\"><h3>Run summary:</h3><br/><table class=\"wandb\"><tr><td>epoch</td><td>5</td></tr><tr><td>log_loss</td><td>0.58082</td></tr><tr><td>loss</td><td>0.65913</td></tr><tr><td>map</td><td>0.06264</td></tr><tr><td>map@10</td><td>0.07276</td></tr><tr><td>ndcg</td><td>0.08992</td></tr><tr><td>ndcg@10</td><td>0.11111</td></tr><tr><td>precision</td><td>0.02385</td></tr><tr><td>precision@10</td><td>0.03033</td></tr><tr><td>recall</td><td>0.02415</td></tr><tr><td>recall@10</td><td>0.03313</td></tr><tr><td>roc_auc</td><td>0.79242</td></tr><tr><td>train_loss</td><td>0.2845</td></tr></table><br/></div></div>"
            ]
          },
          "metadata": {}
        },
        {
          "output_type": "display_data",
          "data": {
            "text/plain": [
              "<IPython.core.display.HTML object>"
            ],
            "text/html": [
              "Synced <strong style=\"color:#cdcd00\">wild-sweep-7</strong>: <a href=\"https://wandb.ai/iloncka-ds/recsys-app/runs/qxx0q0o5\" target=\"_blank\">https://wandb.ai/iloncka-ds/recsys-app/runs/qxx0q0o5</a><br/>Synced 5 W&B file(s), 0 media file(s), 0 artifact file(s) and 0 other file(s)"
            ]
          },
          "metadata": {}
        },
        {
          "output_type": "display_data",
          "data": {
            "text/plain": [
              "<IPython.core.display.HTML object>"
            ],
            "text/html": [
              "Find logs at: <code>./wandb/run-20221106_142433-qxx0q0o5/logs</code>"
            ]
          },
          "metadata": {}
        },
        {
          "output_type": "stream",
          "name": "stderr",
          "text": [
            "\u001b[34m\u001b[1mwandb\u001b[0m: Agent Starting Run: 0vdmzwr0 with config:\n",
            "\u001b[34m\u001b[1mwandb\u001b[0m: \tbatch_size: 128\n",
            "\u001b[34m\u001b[1mwandb\u001b[0m: \tembed_size: 16\n",
            "\u001b[34m\u001b[1mwandb\u001b[0m: \tlr: 0.001\n",
            "\u001b[34m\u001b[1mwandb\u001b[0m: \tn_epochs: 10\n"
          ]
        },
        {
          "output_type": "display_data",
          "data": {
            "text/plain": [
              "<IPython.core.display.HTML object>"
            ],
            "text/html": [
              "Tracking run with wandb version 0.13.5"
            ]
          },
          "metadata": {}
        },
        {
          "output_type": "display_data",
          "data": {
            "text/plain": [
              "<IPython.core.display.HTML object>"
            ],
            "text/html": [
              "Run data is saved locally in <code>/content/wandb/run-20221106_142625-0vdmzwr0</code>"
            ]
          },
          "metadata": {}
        },
        {
          "output_type": "display_data",
          "data": {
            "text/plain": [
              "<IPython.core.display.HTML object>"
            ],
            "text/html": [
              "Syncing run <strong><a href=\"https://wandb.ai/iloncka-ds/recsys-app/runs/0vdmzwr0\" target=\"_blank\">effortless-sweep-8</a></strong> to <a href=\"https://wandb.ai/iloncka-ds/recsys-app\" target=\"_blank\">Weights & Biases</a> (<a href=\"https://wandb.me/run\" target=\"_blank\">docs</a>)<br/>Sweep page:  <a href=\"https://wandb.ai/iloncka-ds/recsys-app/sweeps/r5ls7bmj\" target=\"_blank\">https://wandb.ai/iloncka-ds/recsys-app/sweeps/r5ls7bmj</a>"
            ]
          },
          "metadata": {}
        },
        {
          "output_type": "stream",
          "name": "stdout",
          "text": [
            "total params: \u001b[33m416,045\u001b[0m | embedding params: \u001b[33m413,485\u001b[0m | network params: \u001b[33m2,560\u001b[0m\n",
            "Training start time: \u001b[35m2022-11-06 14:26:32\u001b[0m\n",
            "With lr_decay, epoch 1 learning rate: 0.0010000000474974513\n"
          ]
        },
        {
          "output_type": "stream",
          "name": "stderr",
          "text": [
            "train: 100%|██████████| 1261/1261 [00:22<00:00, 56.01it/s]\n"
          ]
        },
        {
          "output_type": "stream",
          "name": "stdout",
          "text": [
            "Epoch 1 elapsed: 22.562s\n",
            "\t \u001b[32mtrain_loss: 0.5033\u001b[0m\n"
          ]
        },
        {
          "output_type": "stream",
          "name": "stderr",
          "text": [
            "eval_pred: 100%|██████████| 3/3 [00:00<00:00, 187.65it/s]\n",
            "eval_rec: 100%|██████████| 610/610 [00:00<00:00, 1986.20it/s]\n"
          ]
        },
        {
          "output_type": "stream",
          "name": "stdout",
          "text": [
            "\t eval log_loss: 0.5117\n",
            "\t eval roc_auc: 0.8302\n",
            "\t eval precision@10: 0.0300\n",
            "\t eval recall@10: 0.0304\n",
            "\t eval map@10: 0.0673\n",
            "\t eval ndcg@10: 0.1032\n",
            "==============================\n",
            "With lr_decay, epoch 2 learning rate: 0.0009216000325977802\n"
          ]
        },
        {
          "output_type": "stream",
          "name": "stderr",
          "text": [
            "train: 100%|██████████| 1261/1261 [00:22<00:00, 57.21it/s]\n"
          ]
        },
        {
          "output_type": "stream",
          "name": "stdout",
          "text": [
            "Epoch 2 elapsed: 22.109s\n",
            "\t \u001b[32mtrain_loss: 0.401\u001b[0m\n"
          ]
        },
        {
          "output_type": "stream",
          "name": "stderr",
          "text": [
            "eval_pred: 100%|██████████| 3/3 [00:00<00:00, 246.23it/s]\n",
            "eval_rec: 100%|██████████| 610/610 [00:00<00:00, 2131.07it/s]\n"
          ]
        },
        {
          "output_type": "stream",
          "name": "stdout",
          "text": [
            "\t eval log_loss: 0.5283\n",
            "\t eval roc_auc: 0.8247\n",
            "\t eval precision@10: 0.0316\n",
            "\t eval recall@10: 0.0331\n",
            "\t eval map@10: 0.0745\n",
            "\t eval ndcg@10: 0.1130\n",
            "==============================\n",
            "With lr_decay, epoch 3 learning rate: 0.0008493465138599277\n"
          ]
        },
        {
          "output_type": "stream",
          "name": "stderr",
          "text": [
            "train: 100%|██████████| 1261/1261 [00:21<00:00, 57.50it/s]\n"
          ]
        },
        {
          "output_type": "stream",
          "name": "stdout",
          "text": [
            "Epoch 3 elapsed: 21.981s\n",
            "\t \u001b[32mtrain_loss: 0.3389\u001b[0m\n"
          ]
        },
        {
          "output_type": "stream",
          "name": "stderr",
          "text": [
            "eval_pred: 100%|██████████| 3/3 [00:00<00:00, 262.80it/s]\n",
            "eval_rec: 100%|██████████| 610/610 [00:00<00:00, 2116.88it/s]\n"
          ]
        },
        {
          "output_type": "stream",
          "name": "stdout",
          "text": [
            "\t eval log_loss: 0.5298\n",
            "\t eval roc_auc: 0.8271\n",
            "\t eval precision@10: 0.0318\n",
            "\t eval recall@10: 0.0315\n",
            "\t eval map@10: 0.0760\n",
            "\t eval ndcg@10: 0.1157\n",
            "==============================\n",
            "With lr_decay, epoch 4 learning rate: 0.0007827577646821737\n"
          ]
        },
        {
          "output_type": "stream",
          "name": "stderr",
          "text": [
            "train: 100%|██████████| 1261/1261 [00:22<00:00, 57.31it/s]\n"
          ]
        },
        {
          "output_type": "stream",
          "name": "stdout",
          "text": [
            "Epoch 4 elapsed: 22.053s\n",
            "\t \u001b[32mtrain_loss: 0.2913\u001b[0m\n"
          ]
        },
        {
          "output_type": "stream",
          "name": "stderr",
          "text": [
            "eval_pred: 100%|██████████| 3/3 [00:00<00:00, 160.04it/s]\n",
            "eval_rec: 100%|██████████| 610/610 [00:00<00:00, 2118.70it/s]\n"
          ]
        },
        {
          "output_type": "stream",
          "name": "stdout",
          "text": [
            "\t eval log_loss: 0.5603\n",
            "\t eval roc_auc: 0.8302\n",
            "\t eval precision@10: 0.0311\n",
            "\t eval recall@10: 0.0311\n",
            "\t eval map@10: 0.0705\n",
            "\t eval ndcg@10: 0.1102\n",
            "==============================\n",
            "With lr_decay, epoch 5 learning rate: 0.000721389485988766\n"
          ]
        },
        {
          "output_type": "stream",
          "name": "stderr",
          "text": [
            "train: 100%|██████████| 1261/1261 [00:21<00:00, 57.46it/s]\n"
          ]
        },
        {
          "output_type": "stream",
          "name": "stdout",
          "text": [
            "Epoch 5 elapsed: 21.994s\n",
            "\t \u001b[32mtrain_loss: 0.2537\u001b[0m\n"
          ]
        },
        {
          "output_type": "stream",
          "name": "stderr",
          "text": [
            "eval_pred: 100%|██████████| 3/3 [00:00<00:00, 203.40it/s]\n",
            "eval_rec: 100%|██████████| 610/610 [00:00<00:00, 2244.43it/s]\n"
          ]
        },
        {
          "output_type": "stream",
          "name": "stdout",
          "text": [
            "\t eval log_loss: 0.5763\n",
            "\t eval roc_auc: 0.8309\n",
            "\t eval precision@10: 0.0307\n",
            "\t eval recall@10: 0.0351\n",
            "\t eval map@10: 0.0727\n",
            "\t eval ndcg@10: 0.1143\n",
            "==============================\n",
            "With lr_decay, epoch 6 learning rate: 0.0006648324779234827\n"
          ]
        },
        {
          "output_type": "stream",
          "name": "stderr",
          "text": [
            "train: 100%|██████████| 1261/1261 [00:21<00:00, 57.67it/s]\n"
          ]
        },
        {
          "output_type": "stream",
          "name": "stdout",
          "text": [
            "Epoch 6 elapsed: 21.922s\n",
            "\t \u001b[32mtrain_loss: 0.2207\u001b[0m\n"
          ]
        },
        {
          "output_type": "stream",
          "name": "stderr",
          "text": [
            "eval_pred: 100%|██████████| 3/3 [00:00<00:00, 228.37it/s]\n",
            "eval_rec: 100%|██████████| 610/610 [00:00<00:00, 2057.50it/s]\n"
          ]
        },
        {
          "output_type": "stream",
          "name": "stdout",
          "text": [
            "\t eval log_loss: 0.6031\n",
            "\t eval roc_auc: 0.8270\n",
            "\t eval precision@10: 0.0307\n",
            "\t eval recall@10: 0.0354\n",
            "\t eval map@10: 0.0771\n",
            "\t eval ndcg@10: 0.1168\n",
            "==============================\n",
            "With lr_decay, epoch 7 learning rate: 0.0006127096130512655\n"
          ]
        },
        {
          "output_type": "stream",
          "name": "stderr",
          "text": [
            "train: 100%|██████████| 1261/1261 [00:22<00:00, 57.31it/s]\n"
          ]
        },
        {
          "output_type": "stream",
          "name": "stdout",
          "text": [
            "Epoch 7 elapsed: 22.054s\n",
            "\t \u001b[32mtrain_loss: 0.1897\u001b[0m\n"
          ]
        },
        {
          "output_type": "stream",
          "name": "stderr",
          "text": [
            "eval_pred: 100%|██████████| 3/3 [00:00<00:00, 272.34it/s]\n",
            "eval_rec: 100%|██████████| 610/610 [00:00<00:00, 2127.68it/s]\n"
          ]
        },
        {
          "output_type": "stream",
          "name": "stdout",
          "text": [
            "\t eval log_loss: 0.6541\n",
            "\t eval roc_auc: 0.8178\n",
            "\t eval precision@10: 0.0313\n",
            "\t eval recall@10: 0.0378\n",
            "\t eval map@10: 0.0748\n",
            "\t eval ndcg@10: 0.1157\n",
            "==============================\n",
            "With lr_decay, epoch 8 learning rate: 0.0005646731588058174\n"
          ]
        },
        {
          "output_type": "stream",
          "name": "stderr",
          "text": [
            "train: 100%|██████████| 1261/1261 [00:22<00:00, 57.08it/s]\n"
          ]
        },
        {
          "output_type": "stream",
          "name": "stdout",
          "text": [
            "Epoch 8 elapsed: 22.140s\n",
            "\t \u001b[32mtrain_loss: 0.1637\u001b[0m\n"
          ]
        },
        {
          "output_type": "stream",
          "name": "stderr",
          "text": [
            "eval_pred: 100%|██████████| 3/3 [00:00<00:00, 162.29it/s]\n",
            "eval_rec: 100%|██████████| 610/610 [00:00<00:00, 2223.37it/s]\n"
          ]
        },
        {
          "output_type": "stream",
          "name": "stdout",
          "text": [
            "\t eval log_loss: 0.6818\n",
            "\t eval roc_auc: 0.8222\n",
            "\t eval precision@10: 0.0300\n",
            "\t eval recall@10: 0.0346\n",
            "\t eval map@10: 0.0742\n",
            "\t eval ndcg@10: 0.1124\n",
            "==============================\n",
            "With lr_decay, epoch 9 learning rate: 0.0005204027402214706\n"
          ]
        },
        {
          "output_type": "stream",
          "name": "stderr",
          "text": [
            "train: 100%|██████████| 1261/1261 [00:21<00:00, 57.94it/s]\n"
          ]
        },
        {
          "output_type": "stream",
          "name": "stdout",
          "text": [
            "Epoch 9 elapsed: 21.817s\n",
            "\t \u001b[32mtrain_loss: 0.1423\u001b[0m\n"
          ]
        },
        {
          "output_type": "stream",
          "name": "stderr",
          "text": [
            "eval_pred: 100%|██████████| 3/3 [00:00<00:00, 162.12it/s]\n",
            "eval_rec: 100%|██████████| 610/610 [00:00<00:00, 2118.85it/s]\n"
          ]
        },
        {
          "output_type": "stream",
          "name": "stdout",
          "text": [
            "\t eval log_loss: 0.6907\n",
            "\t eval roc_auc: 0.8220\n",
            "\t eval precision@10: 0.0315\n",
            "\t eval recall@10: 0.0334\n",
            "\t eval map@10: 0.0800\n",
            "\t eval ndcg@10: 0.1185\n",
            "==============================\n",
            "With lr_decay, epoch 10 learning rate: 0.0004796031571459025\n"
          ]
        },
        {
          "output_type": "stream",
          "name": "stderr",
          "text": [
            "train: 100%|██████████| 1261/1261 [00:22<00:00, 57.30it/s]\n"
          ]
        },
        {
          "output_type": "stream",
          "name": "stdout",
          "text": [
            "Epoch 10 elapsed: 22.054s\n",
            "\t \u001b[32mtrain_loss: 0.124\u001b[0m\n"
          ]
        },
        {
          "output_type": "stream",
          "name": "stderr",
          "text": [
            "eval_pred: 100%|██████████| 3/3 [00:00<00:00, 196.85it/s]\n",
            "eval_rec: 100%|██████████| 610/610 [00:00<00:00, 2146.43it/s]\n"
          ]
        },
        {
          "output_type": "stream",
          "name": "stdout",
          "text": [
            "\t eval log_loss: 0.7602\n",
            "\t eval roc_auc: 0.8104\n",
            "\t eval precision@10: 0.0311\n",
            "\t eval recall@10: 0.0351\n",
            "\t eval map@10: 0.0768\n",
            "\t eval ndcg@10: 0.1154\n",
            "==============================\n"
          ]
        },
        {
          "output_type": "stream",
          "name": "stderr",
          "text": [
            "eval_pred: 100%|██████████| 3/3 [00:00<00:00, 224.35it/s]\n",
            "eval_rec: 100%|██████████| 608/608 [00:00<00:00, 2029.28it/s]\n"
          ]
        },
        {
          "output_type": "display_data",
          "data": {
            "text/plain": [
              "<IPython.core.display.HTML object>"
            ],
            "text/html": [
              "Waiting for W&B process to finish... <strong style=\"color:green\">(success).</strong>"
            ]
          },
          "metadata": {}
        },
        {
          "output_type": "display_data",
          "data": {
            "text/plain": [
              "<IPython.core.display.HTML object>"
            ],
            "text/html": [
              "<style>\n",
              "    table.wandb td:nth-child(1) { padding: 0 10px; text-align: left ; width: auto;} td:nth-child(2) {text-align: left ; width: 100%}\n",
              "    .wandb-row { display: flex; flex-direction: row; flex-wrap: wrap; justify-content: flex-start; width: 100% }\n",
              "    .wandb-col { display: flex; flex-direction: column; flex-basis: 100%; flex: 1; padding: 10px; }\n",
              "    </style>\n",
              "<div class=\"wandb-row\"><div class=\"wandb-col\"><h3>Run history:</h3><br/><table class=\"wandb\"><tr><td>epoch</td><td>▁▂▃▃▄▅▆▆▇█</td></tr><tr><td>log_loss</td><td>▁▁▂▂▃▄▅▆▆█</td></tr><tr><td>loss</td><td>▁</td></tr><tr><td>map</td><td>▁</td></tr><tr><td>map@10</td><td>▁▅▆▃▄▆▅▅█▆</td></tr><tr><td>ndcg</td><td>▁</td></tr><tr><td>ndcg@10</td><td>▁▅▇▄▆▇▇▅█▇</td></tr><tr><td>precision</td><td>▁</td></tr><tr><td>precision@10</td><td>▁▇█▅▄▄▆▁▇▅</td></tr><tr><td>recall</td><td>▁</td></tr><tr><td>recall@10</td><td>▁▄▂▂▅▆█▅▄▅</td></tr><tr><td>roc_auc</td><td>█▇███▇▆▇▇▅▁</td></tr><tr><td>train_loss</td><td>█▆▅▄▃▃▂▂▁▁</td></tr></table><br/></div><div class=\"wandb-col\"><h3>Run summary:</h3><br/><table class=\"wandb\"><tr><td>epoch</td><td>10</td></tr><tr><td>log_loss</td><td>0.7602</td></tr><tr><td>loss</td><td>0.88075</td></tr><tr><td>map</td><td>0.05621</td></tr><tr><td>map@10</td><td>0.07675</td></tr><tr><td>ndcg</td><td>0.08836</td></tr><tr><td>ndcg@10</td><td>0.11538</td></tr><tr><td>precision</td><td>0.0227</td></tr><tr><td>precision@10</td><td>0.03115</td></tr><tr><td>recall</td><td>0.0277</td></tr><tr><td>recall@10</td><td>0.03508</td></tr><tr><td>roc_auc</td><td>0.77722</td></tr><tr><td>train_loss</td><td>0.124</td></tr></table><br/></div></div>"
            ]
          },
          "metadata": {}
        },
        {
          "output_type": "display_data",
          "data": {
            "text/plain": [
              "<IPython.core.display.HTML object>"
            ],
            "text/html": [
              "Synced <strong style=\"color:#cdcd00\">effortless-sweep-8</strong>: <a href=\"https://wandb.ai/iloncka-ds/recsys-app/runs/0vdmzwr0\" target=\"_blank\">https://wandb.ai/iloncka-ds/recsys-app/runs/0vdmzwr0</a><br/>Synced 5 W&B file(s), 0 media file(s), 0 artifact file(s) and 0 other file(s)"
            ]
          },
          "metadata": {}
        },
        {
          "output_type": "display_data",
          "data": {
            "text/plain": [
              "<IPython.core.display.HTML object>"
            ],
            "text/html": [
              "Find logs at: <code>./wandb/run-20221106_142625-0vdmzwr0/logs</code>"
            ]
          },
          "metadata": {}
        },
        {
          "output_type": "stream",
          "name": "stderr",
          "text": [
            "\u001b[34m\u001b[1mwandb\u001b[0m: Agent Starting Run: rdodejmz with config:\n",
            "\u001b[34m\u001b[1mwandb\u001b[0m: \tbatch_size: 256\n",
            "\u001b[34m\u001b[1mwandb\u001b[0m: \tembed_size: 32\n",
            "\u001b[34m\u001b[1mwandb\u001b[0m: \tlr: 0.0001\n",
            "\u001b[34m\u001b[1mwandb\u001b[0m: \tn_epochs: 10\n",
            "Failed to detect the name of this notebook, you can set it manually with the WANDB_NOTEBOOK_NAME environment variable to enable code saving.\n"
          ]
        },
        {
          "output_type": "display_data",
          "data": {
            "text/plain": [
              "<IPython.core.display.HTML object>"
            ],
            "text/html": [
              "Tracking run with wandb version 0.13.5"
            ]
          },
          "metadata": {}
        },
        {
          "output_type": "display_data",
          "data": {
            "text/plain": [
              "<IPython.core.display.HTML object>"
            ],
            "text/html": [
              "Run data is saved locally in <code>/content/wandb/run-20221106_143034-rdodejmz</code>"
            ]
          },
          "metadata": {}
        },
        {
          "output_type": "display_data",
          "data": {
            "text/plain": [
              "<IPython.core.display.HTML object>"
            ],
            "text/html": [
              "Syncing run <strong><a href=\"https://wandb.ai/iloncka-ds/recsys-app/runs/rdodejmz\" target=\"_blank\">comfy-sweep-9</a></strong> to <a href=\"https://wandb.ai/iloncka-ds/recsys-app\" target=\"_blank\">Weights & Biases</a> (<a href=\"https://wandb.me/run\" target=\"_blank\">docs</a>)<br/>Sweep page:  <a href=\"https://wandb.ai/iloncka-ds/recsys-app/sweeps/r5ls7bmj\" target=\"_blank\">https://wandb.ai/iloncka-ds/recsys-app/sweeps/r5ls7bmj</a>"
            ]
          },
          "metadata": {}
        },
        {
          "output_type": "stream",
          "name": "stdout",
          "text": [
            "total params: \u001b[33m821,981\u001b[0m | embedding params: \u001b[33m818,653\u001b[0m | network params: \u001b[33m3,328\u001b[0m\n",
            "Training start time: \u001b[35m2022-11-06 14:30:41\u001b[0m\n",
            "With lr_decay, epoch 1 learning rate: 9.999999747378752e-05\n"
          ]
        },
        {
          "output_type": "stream",
          "name": "stderr",
          "text": [
            "train: 100%|██████████| 631/631 [00:19<00:00, 31.95it/s]\n"
          ]
        },
        {
          "output_type": "stream",
          "name": "stdout",
          "text": [
            "Epoch 1 elapsed: 19.808s\n",
            "\t \u001b[32mtrain_loss: 0.6072\u001b[0m\n"
          ]
        },
        {
          "output_type": "stream",
          "name": "stderr",
          "text": [
            "eval_pred: 100%|██████████| 3/3 [00:00<00:00, 189.71it/s]\n",
            "eval_rec: 100%|██████████| 610/610 [00:00<00:00, 1806.78it/s]\n"
          ]
        },
        {
          "output_type": "stream",
          "name": "stdout",
          "text": [
            "\t eval log_loss: 0.5166\n",
            "\t eval roc_auc: 0.8275\n",
            "\t eval precision@10: 0.0370\n",
            "\t eval recall@10: 0.0360\n",
            "\t eval map@10: 0.0878\n",
            "\t eval ndcg@10: 0.1263\n",
            "==============================\n",
            "With lr_decay, epoch 2 learning rate: 9.215999307343736e-05\n"
          ]
        },
        {
          "output_type": "stream",
          "name": "stderr",
          "text": [
            "train: 100%|██████████| 631/631 [00:19<00:00, 32.37it/s]\n"
          ]
        },
        {
          "output_type": "stream",
          "name": "stdout",
          "text": [
            "Epoch 2 elapsed: 19.552s\n",
            "\t \u001b[32mtrain_loss: 0.4557\u001b[0m\n"
          ]
        },
        {
          "output_type": "stream",
          "name": "stderr",
          "text": [
            "eval_pred: 100%|██████████| 3/3 [00:00<00:00, 197.17it/s]\n",
            "eval_rec: 100%|██████████| 610/610 [00:00<00:00, 1640.99it/s]\n"
          ]
        },
        {
          "output_type": "stream",
          "name": "stdout",
          "text": [
            "\t eval log_loss: 0.4979\n",
            "\t eval roc_auc: 0.8419\n",
            "\t eval precision@10: 0.0348\n",
            "\t eval recall@10: 0.0350\n",
            "\t eval map@10: 0.0826\n",
            "\t eval ndcg@10: 0.1218\n",
            "==============================\n",
            "With lr_decay, epoch 3 learning rate: 8.49346470204182e-05\n"
          ]
        },
        {
          "output_type": "stream",
          "name": "stderr",
          "text": [
            "train: 100%|██████████| 631/631 [00:19<00:00, 32.18it/s]\n"
          ]
        },
        {
          "output_type": "stream",
          "name": "stdout",
          "text": [
            "Epoch 3 elapsed: 19.660s\n",
            "\t \u001b[32mtrain_loss: 0.4283\u001b[0m\n"
          ]
        },
        {
          "output_type": "stream",
          "name": "stderr",
          "text": [
            "eval_pred: 100%|██████████| 3/3 [00:00<00:00, 213.10it/s]\n",
            "eval_rec: 100%|██████████| 610/610 [00:00<00:00, 1681.73it/s]\n"
          ]
        },
        {
          "output_type": "stream",
          "name": "stdout",
          "text": [
            "\t eval log_loss: 0.4971\n",
            "\t eval roc_auc: 0.8426\n",
            "\t eval precision@10: 0.0344\n",
            "\t eval recall@10: 0.0354\n",
            "\t eval map@10: 0.0805\n",
            "\t eval ndcg@10: 0.1192\n",
            "==============================\n",
            "With lr_decay, epoch 4 learning rate: 7.827577064745128e-05\n"
          ]
        },
        {
          "output_type": "stream",
          "name": "stderr",
          "text": [
            "train: 100%|██████████| 631/631 [00:19<00:00, 32.04it/s]\n"
          ]
        },
        {
          "output_type": "stream",
          "name": "stdout",
          "text": [
            "Epoch 4 elapsed: 19.744s\n",
            "\t \u001b[32mtrain_loss: 0.4142\u001b[0m\n"
          ]
        },
        {
          "output_type": "stream",
          "name": "stderr",
          "text": [
            "eval_pred: 100%|██████████| 3/3 [00:00<00:00, 128.77it/s]\n",
            "eval_rec: 100%|██████████| 610/610 [00:00<00:00, 1680.20it/s]\n"
          ]
        },
        {
          "output_type": "stream",
          "name": "stdout",
          "text": [
            "\t eval log_loss: 0.5032\n",
            "\t eval roc_auc: 0.8408\n",
            "\t eval precision@10: 0.0341\n",
            "\t eval recall@10: 0.0353\n",
            "\t eval map@10: 0.0780\n",
            "\t eval ndcg@10: 0.1168\n",
            "==============================\n",
            "With lr_decay, epoch 5 learning rate: 7.213894423330203e-05\n"
          ]
        },
        {
          "output_type": "stream",
          "name": "stderr",
          "text": [
            "train: 100%|██████████| 631/631 [00:19<00:00, 32.38it/s]\n"
          ]
        },
        {
          "output_type": "stream",
          "name": "stdout",
          "text": [
            "Epoch 5 elapsed: 19.556s\n",
            "\t \u001b[32mtrain_loss: 0.4054\u001b[0m\n"
          ]
        },
        {
          "output_type": "stream",
          "name": "stderr",
          "text": [
            "eval_pred: 100%|██████████| 3/3 [00:00<00:00, 181.56it/s]\n",
            "eval_rec: 100%|██████████| 610/610 [00:00<00:00, 1596.01it/s]\n"
          ]
        },
        {
          "output_type": "stream",
          "name": "stdout",
          "text": [
            "\t eval log_loss: 0.5096\n",
            "\t eval roc_auc: 0.8389\n",
            "\t eval precision@10: 0.0313\n",
            "\t eval recall@10: 0.0323\n",
            "\t eval map@10: 0.0747\n",
            "\t eval ndcg@10: 0.1117\n",
            "==============================\n",
            "With lr_decay, epoch 6 learning rate: 6.648324779234827e-05\n"
          ]
        },
        {
          "output_type": "stream",
          "name": "stderr",
          "text": [
            "train: 100%|██████████| 631/631 [00:19<00:00, 32.73it/s]\n"
          ]
        },
        {
          "output_type": "stream",
          "name": "stdout",
          "text": [
            "Epoch 6 elapsed: 19.334s\n",
            "\t \u001b[32mtrain_loss: 0.3995\u001b[0m\n"
          ]
        },
        {
          "output_type": "stream",
          "name": "stderr",
          "text": [
            "eval_pred: 100%|██████████| 3/3 [00:00<00:00, 174.69it/s]\n",
            "eval_rec: 100%|██████████| 610/610 [00:00<00:00, 1782.44it/s]\n"
          ]
        },
        {
          "output_type": "stream",
          "name": "stdout",
          "text": [
            "\t eval log_loss: 0.5131\n",
            "\t eval roc_auc: 0.8371\n",
            "\t eval precision@10: 0.0292\n",
            "\t eval recall@10: 0.0269\n",
            "\t eval map@10: 0.0721\n",
            "\t eval ndcg@10: 0.1070\n",
            "==============================\n",
            "With lr_decay, epoch 7 learning rate: 6.127095548436046e-05\n"
          ]
        },
        {
          "output_type": "stream",
          "name": "stderr",
          "text": [
            "train: 100%|██████████| 631/631 [00:19<00:00, 32.59it/s]\n"
          ]
        },
        {
          "output_type": "stream",
          "name": "stdout",
          "text": [
            "Epoch 7 elapsed: 19.408s\n",
            "\t \u001b[32mtrain_loss: 0.3934\u001b[0m\n"
          ]
        },
        {
          "output_type": "stream",
          "name": "stderr",
          "text": [
            "eval_pred: 100%|██████████| 3/3 [00:00<00:00, 140.37it/s]\n",
            "eval_rec: 100%|██████████| 610/610 [00:00<00:00, 1579.45it/s]\n"
          ]
        },
        {
          "output_type": "stream",
          "name": "stdout",
          "text": [
            "\t eval log_loss: 0.5215\n",
            "\t eval roc_auc: 0.8345\n",
            "\t eval precision@10: 0.0289\n",
            "\t eval recall@10: 0.0271\n",
            "\t eval map@10: 0.0698\n",
            "\t eval ndcg@10: 0.1044\n",
            "==============================\n",
            "With lr_decay, epoch 8 learning rate: 5.6467310059815645e-05\n"
          ]
        },
        {
          "output_type": "stream",
          "name": "stderr",
          "text": [
            "train: 100%|██████████| 631/631 [00:19<00:00, 32.68it/s]\n"
          ]
        },
        {
          "output_type": "stream",
          "name": "stdout",
          "text": [
            "Epoch 8 elapsed: 19.368s\n",
            "\t \u001b[32mtrain_loss: 0.3886\u001b[0m\n"
          ]
        },
        {
          "output_type": "stream",
          "name": "stderr",
          "text": [
            "eval_pred: 100%|██████████| 3/3 [00:00<00:00, 203.57it/s]\n",
            "eval_rec: 100%|██████████| 610/610 [00:00<00:00, 1737.07it/s]\n"
          ]
        },
        {
          "output_type": "stream",
          "name": "stdout",
          "text": [
            "\t eval log_loss: 0.5283\n",
            "\t eval roc_auc: 0.8315\n",
            "\t eval precision@10: 0.0287\n",
            "\t eval recall@10: 0.0263\n",
            "\t eval map@10: 0.0686\n",
            "\t eval ndcg@10: 0.1028\n",
            "==============================\n",
            "With lr_decay, epoch 9 learning rate: 5.2040271839359775e-05\n"
          ]
        },
        {
          "output_type": "stream",
          "name": "stderr",
          "text": [
            "train: 100%|██████████| 631/631 [00:19<00:00, 32.70it/s]\n"
          ]
        },
        {
          "output_type": "stream",
          "name": "stdout",
          "text": [
            "Epoch 9 elapsed: 19.350s\n",
            "\t \u001b[32mtrain_loss: 0.3842\u001b[0m\n"
          ]
        },
        {
          "output_type": "stream",
          "name": "stderr",
          "text": [
            "eval_pred: 100%|██████████| 3/3 [00:00<00:00, 192.22it/s]\n",
            "eval_rec: 100%|██████████| 610/610 [00:00<00:00, 1746.77it/s]\n"
          ]
        },
        {
          "output_type": "stream",
          "name": "stdout",
          "text": [
            "\t eval log_loss: 0.5352\n",
            "\t eval roc_auc: 0.8283\n",
            "\t eval precision@10: 0.0282\n",
            "\t eval recall@10: 0.0256\n",
            "\t eval map@10: 0.0672\n",
            "\t eval ndcg@10: 0.1007\n",
            "==============================\n",
            "With lr_decay, epoch 10 learning rate: 4.796031134901568e-05\n"
          ]
        },
        {
          "output_type": "stream",
          "name": "stderr",
          "text": [
            "train: 100%|██████████| 631/631 [00:19<00:00, 32.31it/s]\n"
          ]
        },
        {
          "output_type": "stream",
          "name": "stdout",
          "text": [
            "Epoch 10 elapsed: 19.593s\n",
            "\t \u001b[32mtrain_loss: 0.38\u001b[0m\n"
          ]
        },
        {
          "output_type": "stream",
          "name": "stderr",
          "text": [
            "eval_pred: 100%|██████████| 3/3 [00:00<00:00, 169.53it/s]\n",
            "eval_rec: 100%|██████████| 610/610 [00:00<00:00, 1569.15it/s]\n"
          ]
        },
        {
          "output_type": "stream",
          "name": "stdout",
          "text": [
            "\t eval log_loss: 0.5419\n",
            "\t eval roc_auc: 0.8255\n",
            "\t eval precision@10: 0.0282\n",
            "\t eval recall@10: 0.0262\n",
            "\t eval map@10: 0.0666\n",
            "\t eval ndcg@10: 0.1008\n",
            "==============================\n"
          ]
        },
        {
          "output_type": "stream",
          "name": "stderr",
          "text": [
            "eval_pred: 100%|██████████| 3/3 [00:00<00:00, 208.59it/s]\n",
            "eval_rec: 100%|██████████| 608/608 [00:00<00:00, 1456.71it/s]\n"
          ]
        },
        {
          "output_type": "display_data",
          "data": {
            "text/plain": [
              "<IPython.core.display.HTML object>"
            ],
            "text/html": [
              "Waiting for W&B process to finish... <strong style=\"color:green\">(success).</strong>"
            ]
          },
          "metadata": {}
        },
        {
          "output_type": "display_data",
          "data": {
            "text/plain": [
              "<IPython.core.display.HTML object>"
            ],
            "text/html": [
              "<style>\n",
              "    table.wandb td:nth-child(1) { padding: 0 10px; text-align: left ; width: auto;} td:nth-child(2) {text-align: left ; width: 100%}\n",
              "    .wandb-row { display: flex; flex-direction: row; flex-wrap: wrap; justify-content: flex-start; width: 100% }\n",
              "    .wandb-col { display: flex; flex-direction: column; flex-basis: 100%; flex: 1; padding: 10px; }\n",
              "    </style>\n",
              "<div class=\"wandb-row\"><div class=\"wandb-col\"><h3>Run history:</h3><br/><table class=\"wandb\"><tr><td>epoch</td><td>▁▂▃▃▄▅▆▆▇█</td></tr><tr><td>log_loss</td><td>▄▁▁▂▃▄▅▆▇█</td></tr><tr><td>loss</td><td>▁</td></tr><tr><td>map</td><td>▁</td></tr><tr><td>map@10</td><td>█▆▆▅▄▃▂▂▁▁</td></tr><tr><td>ndcg</td><td>▁</td></tr><tr><td>ndcg@10</td><td>█▇▆▅▄▃▂▂▁▁</td></tr><tr><td>precision</td><td>▁</td></tr><tr><td>precision@10</td><td>█▆▆▆▃▂▂▁▁▁</td></tr><tr><td>recall</td><td>▁</td></tr><tr><td>recall@10</td><td>█▇██▆▂▂▁▁▁</td></tr><tr><td>roc_auc</td><td>▅███▇▇▆▆▅▅▁</td></tr><tr><td>train_loss</td><td>█▃▂▂▂▂▁▁▁▁</td></tr></table><br/></div><div class=\"wandb-col\"><h3>Run summary:</h3><br/><table class=\"wandb\"><tr><td>epoch</td><td>10</td></tr><tr><td>log_loss</td><td>0.54192</td></tr><tr><td>loss</td><td>0.58398</td></tr><tr><td>map</td><td>0.05914</td></tr><tr><td>map@10</td><td>0.06659</td></tr><tr><td>ndcg</td><td>0.08695</td></tr><tr><td>ndcg@10</td><td>0.10084</td></tr><tr><td>precision</td><td>0.02303</td></tr><tr><td>precision@10</td><td>0.0282</td></tr><tr><td>recall</td><td>0.02038</td></tr><tr><td>recall@10</td><td>0.02622</td></tr><tr><td>roc_auc</td><td>0.80669</td></tr><tr><td>train_loss</td><td>0.38</td></tr></table><br/></div></div>"
            ]
          },
          "metadata": {}
        },
        {
          "output_type": "display_data",
          "data": {
            "text/plain": [
              "<IPython.core.display.HTML object>"
            ],
            "text/html": [
              "Synced <strong style=\"color:#cdcd00\">comfy-sweep-9</strong>: <a href=\"https://wandb.ai/iloncka-ds/recsys-app/runs/rdodejmz\" target=\"_blank\">https://wandb.ai/iloncka-ds/recsys-app/runs/rdodejmz</a><br/>Synced 5 W&B file(s), 0 media file(s), 0 artifact file(s) and 0 other file(s)"
            ]
          },
          "metadata": {}
        },
        {
          "output_type": "display_data",
          "data": {
            "text/plain": [
              "<IPython.core.display.HTML object>"
            ],
            "text/html": [
              "Find logs at: <code>./wandb/run-20221106_143034-rdodejmz/logs</code>"
            ]
          },
          "metadata": {}
        },
        {
          "output_type": "stream",
          "name": "stderr",
          "text": [
            "\u001b[34m\u001b[1mwandb\u001b[0m: Agent Starting Run: 14sr2njs with config:\n",
            "\u001b[34m\u001b[1mwandb\u001b[0m: \tbatch_size: 64\n",
            "\u001b[34m\u001b[1mwandb\u001b[0m: \tembed_size: 16\n",
            "\u001b[34m\u001b[1mwandb\u001b[0m: \tlr: 0.0001\n",
            "\u001b[34m\u001b[1mwandb\u001b[0m: \tn_epochs: 5\n",
            "Failed to detect the name of this notebook, you can set it manually with the WANDB_NOTEBOOK_NAME environment variable to enable code saving.\n"
          ]
        },
        {
          "output_type": "display_data",
          "data": {
            "text/plain": [
              "<IPython.core.display.HTML object>"
            ],
            "text/html": [
              "Tracking run with wandb version 0.13.5"
            ]
          },
          "metadata": {}
        },
        {
          "output_type": "display_data",
          "data": {
            "text/plain": [
              "<IPython.core.display.HTML object>"
            ],
            "text/html": [
              "Run data is saved locally in <code>/content/wandb/run-20221106_143416-14sr2njs</code>"
            ]
          },
          "metadata": {}
        },
        {
          "output_type": "display_data",
          "data": {
            "text/plain": [
              "<IPython.core.display.HTML object>"
            ],
            "text/html": [
              "Syncing run <strong><a href=\"https://wandb.ai/iloncka-ds/recsys-app/runs/14sr2njs\" target=\"_blank\">bumbling-sweep-10</a></strong> to <a href=\"https://wandb.ai/iloncka-ds/recsys-app\" target=\"_blank\">Weights & Biases</a> (<a href=\"https://wandb.me/run\" target=\"_blank\">docs</a>)<br/>Sweep page:  <a href=\"https://wandb.ai/iloncka-ds/recsys-app/sweeps/r5ls7bmj\" target=\"_blank\">https://wandb.ai/iloncka-ds/recsys-app/sweeps/r5ls7bmj</a>"
            ]
          },
          "metadata": {}
        },
        {
          "output_type": "stream",
          "name": "stdout",
          "text": [
            "total params: \u001b[33m416,045\u001b[0m | embedding params: \u001b[33m413,485\u001b[0m | network params: \u001b[33m2,560\u001b[0m\n",
            "Training start time: \u001b[35m2022-11-06 14:34:20\u001b[0m\n",
            "With lr_decay, epoch 1 learning rate: 9.999999747378752e-05\n"
          ]
        },
        {
          "output_type": "stream",
          "name": "stderr",
          "text": [
            "train: 100%|██████████| 2521/2521 [00:31<00:00, 80.59it/s]\n"
          ]
        },
        {
          "output_type": "stream",
          "name": "stdout",
          "text": [
            "Epoch 1 elapsed: 31.342s\n",
            "\t \u001b[32mtrain_loss: 0.5565\u001b[0m\n"
          ]
        },
        {
          "output_type": "stream",
          "name": "stderr",
          "text": [
            "eval_pred: 100%|██████████| 3/3 [00:00<00:00, 142.98it/s]\n",
            "eval_rec: 100%|██████████| 610/610 [00:00<00:00, 2160.27it/s]\n"
          ]
        },
        {
          "output_type": "stream",
          "name": "stdout",
          "text": [
            "\t eval log_loss: 0.5087\n",
            "\t eval roc_auc: 0.8326\n",
            "\t eval precision@10: 0.0354\n",
            "\t eval recall@10: 0.0346\n",
            "\t eval map@10: 0.0753\n",
            "\t eval ndcg@10: 0.1122\n",
            "==============================\n",
            "With lr_decay, epoch 2 learning rate: 9.215999307343736e-05\n"
          ]
        },
        {
          "output_type": "stream",
          "name": "stderr",
          "text": [
            "train: 100%|██████████| 2521/2521 [00:30<00:00, 82.46it/s]\n"
          ]
        },
        {
          "output_type": "stream",
          "name": "stdout",
          "text": [
            "Epoch 2 elapsed: 30.626s\n",
            "\t \u001b[32mtrain_loss: 0.445\u001b[0m\n"
          ]
        },
        {
          "output_type": "stream",
          "name": "stderr",
          "text": [
            "eval_pred: 100%|██████████| 3/3 [00:00<00:00, 140.71it/s]\n",
            "eval_rec: 100%|██████████| 610/610 [00:00<00:00, 2139.90it/s]\n"
          ]
        },
        {
          "output_type": "stream",
          "name": "stdout",
          "text": [
            "\t eval log_loss: 0.4976\n",
            "\t eval roc_auc: 0.8423\n",
            "\t eval precision@10: 0.0318\n",
            "\t eval recall@10: 0.0306\n",
            "\t eval map@10: 0.0726\n",
            "\t eval ndcg@10: 0.1076\n",
            "==============================\n",
            "With lr_decay, epoch 3 learning rate: 8.49346470204182e-05\n"
          ]
        },
        {
          "output_type": "stream",
          "name": "stderr",
          "text": [
            "train: 100%|██████████| 2521/2521 [00:30<00:00, 82.60it/s]\n"
          ]
        },
        {
          "output_type": "stream",
          "name": "stdout",
          "text": [
            "Epoch 3 elapsed: 30.577s\n",
            "\t \u001b[32mtrain_loss: 0.4177\u001b[0m\n"
          ]
        },
        {
          "output_type": "stream",
          "name": "stderr",
          "text": [
            "eval_pred: 100%|██████████| 3/3 [00:00<00:00, 193.91it/s]\n",
            "eval_rec: 100%|██████████| 610/610 [00:00<00:00, 2101.67it/s]\n"
          ]
        },
        {
          "output_type": "stream",
          "name": "stdout",
          "text": [
            "\t eval log_loss: 0.5046\n",
            "\t eval roc_auc: 0.8384\n",
            "\t eval precision@10: 0.0293\n",
            "\t eval recall@10: 0.0281\n",
            "\t eval map@10: 0.0724\n",
            "\t eval ndcg@10: 0.1053\n",
            "==============================\n",
            "With lr_decay, epoch 4 learning rate: 7.827577064745128e-05\n"
          ]
        },
        {
          "output_type": "stream",
          "name": "stderr",
          "text": [
            "train: 100%|██████████| 2521/2521 [00:30<00:00, 82.27it/s]\n"
          ]
        },
        {
          "output_type": "stream",
          "name": "stdout",
          "text": [
            "Epoch 4 elapsed: 30.707s\n",
            "\t \u001b[32mtrain_loss: 0.4038\u001b[0m\n"
          ]
        },
        {
          "output_type": "stream",
          "name": "stderr",
          "text": [
            "eval_pred: 100%|██████████| 3/3 [00:00<00:00, 180.70it/s]\n",
            "eval_rec: 100%|██████████| 610/610 [00:00<00:00, 2121.56it/s]\n"
          ]
        },
        {
          "output_type": "stream",
          "name": "stdout",
          "text": [
            "\t eval log_loss: 0.5200\n",
            "\t eval roc_auc: 0.8340\n",
            "\t eval precision@10: 0.0277\n",
            "\t eval recall@10: 0.0257\n",
            "\t eval map@10: 0.0727\n",
            "\t eval ndcg@10: 0.1043\n",
            "==============================\n",
            "With lr_decay, epoch 5 learning rate: 7.213894423330203e-05\n"
          ]
        },
        {
          "output_type": "stream",
          "name": "stderr",
          "text": [
            "train: 100%|██████████| 2521/2521 [00:30<00:00, 82.49it/s]\n"
          ]
        },
        {
          "output_type": "stream",
          "name": "stdout",
          "text": [
            "Epoch 5 elapsed: 30.614s\n",
            "\t \u001b[32mtrain_loss: 0.3929\u001b[0m\n"
          ]
        },
        {
          "output_type": "stream",
          "name": "stderr",
          "text": [
            "eval_pred: 100%|██████████| 3/3 [00:00<00:00, 188.35it/s]\n",
            "eval_rec: 100%|██████████| 610/610 [00:00<00:00, 2100.61it/s]\n"
          ]
        },
        {
          "output_type": "stream",
          "name": "stdout",
          "text": [
            "\t eval log_loss: 0.5342\n",
            "\t eval roc_auc: 0.8268\n",
            "\t eval precision@10: 0.0269\n",
            "\t eval recall@10: 0.0245\n",
            "\t eval map@10: 0.0687\n",
            "\t eval ndcg@10: 0.1003\n",
            "==============================\n"
          ]
        },
        {
          "output_type": "stream",
          "name": "stderr",
          "text": [
            "eval_pred: 100%|██████████| 3/3 [00:00<00:00, 264.00it/s]\n",
            "eval_rec: 100%|██████████| 608/608 [00:00<00:00, 1977.43it/s]\n"
          ]
        },
        {
          "output_type": "display_data",
          "data": {
            "text/plain": [
              "<IPython.core.display.HTML object>"
            ],
            "text/html": [
              "Waiting for W&B process to finish... <strong style=\"color:green\">(success).</strong>"
            ]
          },
          "metadata": {}
        },
        {
          "output_type": "display_data",
          "data": {
            "text/plain": [
              "VBox(children=(Label(value='0.001 MB of 0.001 MB uploaded (0.000 MB deduped)\\r'), FloatProgress(value=1.0, max…"
            ],
            "application/vnd.jupyter.widget-view+json": {
              "version_major": 2,
              "version_minor": 0,
              "model_id": "1323349e90404fa494397e257260ff7f"
            }
          },
          "metadata": {}
        },
        {
          "output_type": "display_data",
          "data": {
            "text/plain": [
              "<IPython.core.display.HTML object>"
            ],
            "text/html": [
              "<style>\n",
              "    table.wandb td:nth-child(1) { padding: 0 10px; text-align: left ; width: auto;} td:nth-child(2) {text-align: left ; width: 100%}\n",
              "    .wandb-row { display: flex; flex-direction: row; flex-wrap: wrap; justify-content: flex-start; width: 100% }\n",
              "    .wandb-col { display: flex; flex-direction: column; flex-basis: 100%; flex: 1; padding: 10px; }\n",
              "    </style>\n",
              "<div class=\"wandb-row\"><div class=\"wandb-col\"><h3>Run history:</h3><br/><table class=\"wandb\"><tr><td>epoch</td><td>▁▃▅▆█</td></tr><tr><td>log_loss</td><td>▃▁▂▅█</td></tr><tr><td>loss</td><td>▁</td></tr><tr><td>map</td><td>▁</td></tr><tr><td>map@10</td><td>█▅▅▅▁</td></tr><tr><td>ndcg</td><td>▁</td></tr><tr><td>ndcg@10</td><td>█▅▄▃▁</td></tr><tr><td>precision</td><td>▁</td></tr><tr><td>precision@10</td><td>█▅▃▂▁</td></tr><tr><td>recall</td><td>▁</td></tr><tr><td>recall@10</td><td>█▅▄▂▁</td></tr><tr><td>roc_auc</td><td>▆█▇▆▅▁</td></tr><tr><td>train_loss</td><td>█▃▂▁▁</td></tr></table><br/></div><div class=\"wandb-col\"><h3>Run summary:</h3><br/><table class=\"wandb\"><tr><td>epoch</td><td>5</td></tr><tr><td>log_loss</td><td>0.53417</td></tr><tr><td>loss</td><td>0.57485</td></tr><tr><td>map</td><td>0.05881</td></tr><tr><td>map@10</td><td>0.0687</td></tr><tr><td>ndcg</td><td>0.08674</td></tr><tr><td>ndcg@10</td><td>0.10034</td></tr><tr><td>precision</td><td>0.02336</td></tr><tr><td>precision@10</td><td>0.02689</td></tr><tr><td>recall</td><td>0.01911</td></tr><tr><td>recall@10</td><td>0.02448</td></tr><tr><td>roc_auc</td><td>0.80652</td></tr><tr><td>train_loss</td><td>0.3929</td></tr></table><br/></div></div>"
            ]
          },
          "metadata": {}
        },
        {
          "output_type": "display_data",
          "data": {
            "text/plain": [
              "<IPython.core.display.HTML object>"
            ],
            "text/html": [
              "Synced <strong style=\"color:#cdcd00\">bumbling-sweep-10</strong>: <a href=\"https://wandb.ai/iloncka-ds/recsys-app/runs/14sr2njs\" target=\"_blank\">https://wandb.ai/iloncka-ds/recsys-app/runs/14sr2njs</a><br/>Synced 5 W&B file(s), 0 media file(s), 0 artifact file(s) and 0 other file(s)"
            ]
          },
          "metadata": {}
        },
        {
          "output_type": "display_data",
          "data": {
            "text/plain": [
              "<IPython.core.display.HTML object>"
            ],
            "text/html": [
              "Find logs at: <code>./wandb/run-20221106_143416-14sr2njs/logs</code>"
            ]
          },
          "metadata": {}
        },
        {
          "output_type": "stream",
          "name": "stderr",
          "text": [
            "\u001b[34m\u001b[1mwandb\u001b[0m: Agent Starting Run: 7bejibgo with config:\n",
            "\u001b[34m\u001b[1mwandb\u001b[0m: \tbatch_size: 256\n",
            "\u001b[34m\u001b[1mwandb\u001b[0m: \tembed_size: 32\n",
            "\u001b[34m\u001b[1mwandb\u001b[0m: \tlr: 0.1\n",
            "\u001b[34m\u001b[1mwandb\u001b[0m: \tn_epochs: 5\n"
          ]
        },
        {
          "output_type": "display_data",
          "data": {
            "text/plain": [
              "<IPython.core.display.HTML object>"
            ],
            "text/html": [
              "Tracking run with wandb version 0.13.5"
            ]
          },
          "metadata": {}
        },
        {
          "output_type": "display_data",
          "data": {
            "text/plain": [
              "<IPython.core.display.HTML object>"
            ],
            "text/html": [
              "Run data is saved locally in <code>/content/wandb/run-20221106_143710-7bejibgo</code>"
            ]
          },
          "metadata": {}
        },
        {
          "output_type": "display_data",
          "data": {
            "text/plain": [
              "<IPython.core.display.HTML object>"
            ],
            "text/html": [
              "Syncing run <strong><a href=\"https://wandb.ai/iloncka-ds/recsys-app/runs/7bejibgo\" target=\"_blank\">summer-sweep-11</a></strong> to <a href=\"https://wandb.ai/iloncka-ds/recsys-app\" target=\"_blank\">Weights & Biases</a> (<a href=\"https://wandb.me/run\" target=\"_blank\">docs</a>)<br/>Sweep page:  <a href=\"https://wandb.ai/iloncka-ds/recsys-app/sweeps/r5ls7bmj\" target=\"_blank\">https://wandb.ai/iloncka-ds/recsys-app/sweeps/r5ls7bmj</a>"
            ]
          },
          "metadata": {}
        },
        {
          "output_type": "stream",
          "name": "stdout",
          "text": [
            "total params: \u001b[33m821,981\u001b[0m | embedding params: \u001b[33m818,653\u001b[0m | network params: \u001b[33m3,328\u001b[0m\n",
            "Training start time: \u001b[35m2022-11-06 14:37:17\u001b[0m\n",
            "With lr_decay, epoch 1 learning rate: 0.10000000149011612\n"
          ]
        },
        {
          "output_type": "stream",
          "name": "stderr",
          "text": [
            "train: 100%|██████████| 631/631 [00:19<00:00, 31.83it/s]\n"
          ]
        },
        {
          "output_type": "stream",
          "name": "stdout",
          "text": [
            "Epoch 1 elapsed: 19.880s\n",
            "\t \u001b[32mtrain_loss: 1.9084\u001b[0m\n"
          ]
        },
        {
          "output_type": "stream",
          "name": "stderr",
          "text": [
            "eval_pred: 100%|██████████| 3/3 [00:00<00:00, 198.24it/s]\n",
            "eval_rec: 100%|██████████| 610/610 [00:00<00:00, 1671.45it/s]\n"
          ]
        },
        {
          "output_type": "stream",
          "name": "stdout",
          "text": [
            "\t eval log_loss: 2.4536\n",
            "\t eval roc_auc: 0.7161\n",
            "\t eval precision@10: 0.0085\n",
            "\t eval recall@10: 0.0035\n",
            "\t eval map@10: 0.0223\n",
            "\t eval ndcg@10: 0.0330\n",
            "==============================\n",
            "With lr_decay, epoch 2 learning rate: 0.09216000139713287\n"
          ]
        },
        {
          "output_type": "stream",
          "name": "stderr",
          "text": [
            "train: 100%|██████████| 631/631 [00:19<00:00, 32.14it/s]\n"
          ]
        },
        {
          "output_type": "stream",
          "name": "stdout",
          "text": [
            "Epoch 2 elapsed: 19.682s\n",
            "\t \u001b[32mtrain_loss: 1.8396\u001b[0m\n"
          ]
        },
        {
          "output_type": "stream",
          "name": "stderr",
          "text": [
            "eval_pred: 100%|██████████| 3/3 [00:00<00:00, 208.96it/s]\n",
            "eval_rec: 100%|██████████| 610/610 [00:00<00:00, 1737.03it/s]\n"
          ]
        },
        {
          "output_type": "stream",
          "name": "stdout",
          "text": [
            "\t eval log_loss: 2.7147\n",
            "\t eval roc_auc: 0.7538\n",
            "\t eval precision@10: 0.0082\n",
            "\t eval recall@10: 0.0020\n",
            "\t eval map@10: 0.0259\n",
            "\t eval ndcg@10: 0.0362\n",
            "==============================\n",
            "With lr_decay, epoch 3 learning rate: 0.08493464440107346\n"
          ]
        },
        {
          "output_type": "stream",
          "name": "stderr",
          "text": [
            "train: 100%|██████████| 631/631 [00:19<00:00, 32.18it/s]\n"
          ]
        },
        {
          "output_type": "stream",
          "name": "stdout",
          "text": [
            "Epoch 3 elapsed: 19.661s\n",
            "\t \u001b[32mtrain_loss: 1.3279\u001b[0m\n"
          ]
        },
        {
          "output_type": "stream",
          "name": "stderr",
          "text": [
            "eval_pred: 100%|██████████| 3/3 [00:00<00:00, 155.74it/s]\n",
            "eval_rec: 100%|██████████| 610/610 [00:00<00:00, 1623.27it/s]\n"
          ]
        },
        {
          "output_type": "stream",
          "name": "stdout",
          "text": [
            "\t eval log_loss: 2.8716\n",
            "\t eval roc_auc: 0.7517\n",
            "\t eval precision@10: 0.0069\n",
            "\t eval recall@10: 0.0033\n",
            "\t eval map@10: 0.0220\n",
            "\t eval ndcg@10: 0.0312\n",
            "==============================\n",
            "With lr_decay, epoch 4 learning rate: 0.07827576994895935\n"
          ]
        },
        {
          "output_type": "stream",
          "name": "stderr",
          "text": [
            "train: 100%|██████████| 631/631 [00:19<00:00, 32.44it/s]\n"
          ]
        },
        {
          "output_type": "stream",
          "name": "stdout",
          "text": [
            "Epoch 4 elapsed: 19.500s\n",
            "\t \u001b[32mtrain_loss: 0.951\u001b[0m\n"
          ]
        },
        {
          "output_type": "stream",
          "name": "stderr",
          "text": [
            "eval_pred: 100%|██████████| 3/3 [00:00<00:00, 160.21it/s]\n",
            "eval_rec: 100%|██████████| 610/610 [00:00<00:00, 1772.21it/s]\n"
          ]
        },
        {
          "output_type": "stream",
          "name": "stdout",
          "text": [
            "\t eval log_loss: 3.0952\n",
            "\t eval roc_auc: 0.7678\n",
            "\t eval precision@10: 0.0064\n",
            "\t eval recall@10: 0.0043\n",
            "\t eval map@10: 0.0162\n",
            "\t eval ndcg@10: 0.0253\n",
            "==============================\n",
            "With lr_decay, epoch 5 learning rate: 0.0721389502286911\n"
          ]
        },
        {
          "output_type": "stream",
          "name": "stderr",
          "text": [
            "train: 100%|██████████| 631/631 [00:19<00:00, 32.46it/s]\n"
          ]
        },
        {
          "output_type": "stream",
          "name": "stdout",
          "text": [
            "Epoch 5 elapsed: 19.495s\n",
            "\t \u001b[32mtrain_loss: 0.7005\u001b[0m\n"
          ]
        },
        {
          "output_type": "stream",
          "name": "stderr",
          "text": [
            "eval_pred: 100%|██████████| 3/3 [00:00<00:00, 155.48it/s]\n",
            "eval_rec: 100%|██████████| 610/610 [00:00<00:00, 1718.74it/s]\n"
          ]
        },
        {
          "output_type": "stream",
          "name": "stdout",
          "text": [
            "\t eval log_loss: 3.4593\n",
            "\t eval roc_auc: 0.7525\n",
            "\t eval precision@10: 0.0054\n",
            "\t eval recall@10: 0.0046\n",
            "\t eval map@10: 0.0150\n",
            "\t eval ndcg@10: 0.0221\n",
            "==============================\n"
          ]
        },
        {
          "output_type": "stream",
          "name": "stderr",
          "text": [
            "eval_pred: 100%|██████████| 3/3 [00:00<00:00, 194.22it/s]\n",
            "eval_rec: 100%|██████████| 608/608 [00:00<00:00, 1752.11it/s]\n"
          ]
        },
        {
          "output_type": "display_data",
          "data": {
            "text/plain": [
              "<IPython.core.display.HTML object>"
            ],
            "text/html": [
              "Waiting for W&B process to finish... <strong style=\"color:green\">(success).</strong>"
            ]
          },
          "metadata": {}
        },
        {
          "output_type": "display_data",
          "data": {
            "text/plain": [
              "<IPython.core.display.HTML object>"
            ],
            "text/html": [
              "<style>\n",
              "    table.wandb td:nth-child(1) { padding: 0 10px; text-align: left ; width: auto;} td:nth-child(2) {text-align: left ; width: 100%}\n",
              "    .wandb-row { display: flex; flex-direction: row; flex-wrap: wrap; justify-content: flex-start; width: 100% }\n",
              "    .wandb-col { display: flex; flex-direction: column; flex-basis: 100%; flex: 1; padding: 10px; }\n",
              "    </style>\n",
              "<div class=\"wandb-row\"><div class=\"wandb-col\"><h3>Run history:</h3><br/><table class=\"wandb\"><tr><td>epoch</td><td>▁▃▅▆█</td></tr><tr><td>log_loss</td><td>▁▃▄▅█</td></tr><tr><td>loss</td><td>▁</td></tr><tr><td>map</td><td>▁</td></tr><tr><td>map@10</td><td>▆█▅▂▁</td></tr><tr><td>ndcg</td><td>▁</td></tr><tr><td>ndcg@10</td><td>▆█▆▃▁</td></tr><tr><td>precision</td><td>▁</td></tr><tr><td>precision@10</td><td>█▇▄▃▁</td></tr><tr><td>recall</td><td>▁</td></tr><tr><td>recall@10</td><td>▅▁▄▇█</td></tr><tr><td>roc_auc</td><td>▁▆▆█▆▃</td></tr><tr><td>train_loss</td><td>██▅▂▁</td></tr></table><br/></div><div class=\"wandb-col\"><h3>Run summary:</h3><br/><table class=\"wandb\"><tr><td>epoch</td><td>5</td></tr><tr><td>log_loss</td><td>3.45932</td></tr><tr><td>loss</td><td>3.70104</td></tr><tr><td>map</td><td>0.01309</td></tr><tr><td>map@10</td><td>0.01504</td></tr><tr><td>ndcg</td><td>0.02011</td></tr><tr><td>ndcg@10</td><td>0.02214</td></tr><tr><td>precision</td><td>0.0051</td></tr><tr><td>precision@10</td><td>0.00541</td></tr><tr><td>recall</td><td>0.00335</td></tr><tr><td>recall@10</td><td>0.00463</td></tr><tr><td>roc_auc</td><td>0.73376</td></tr><tr><td>train_loss</td><td>0.7005</td></tr></table><br/></div></div>"
            ]
          },
          "metadata": {}
        },
        {
          "output_type": "display_data",
          "data": {
            "text/plain": [
              "<IPython.core.display.HTML object>"
            ],
            "text/html": [
              "Synced <strong style=\"color:#cdcd00\">summer-sweep-11</strong>: <a href=\"https://wandb.ai/iloncka-ds/recsys-app/runs/7bejibgo\" target=\"_blank\">https://wandb.ai/iloncka-ds/recsys-app/runs/7bejibgo</a><br/>Synced 5 W&B file(s), 0 media file(s), 0 artifact file(s) and 0 other file(s)"
            ]
          },
          "metadata": {}
        },
        {
          "output_type": "display_data",
          "data": {
            "text/plain": [
              "<IPython.core.display.HTML object>"
            ],
            "text/html": [
              "Find logs at: <code>./wandb/run-20221106_143710-7bejibgo/logs</code>"
            ]
          },
          "metadata": {}
        },
        {
          "output_type": "stream",
          "name": "stderr",
          "text": [
            "\u001b[34m\u001b[1mwandb\u001b[0m: Agent Starting Run: tav9dl1y with config:\n",
            "\u001b[34m\u001b[1mwandb\u001b[0m: \tbatch_size: 64\n",
            "\u001b[34m\u001b[1mwandb\u001b[0m: \tembed_size: 16\n",
            "\u001b[34m\u001b[1mwandb\u001b[0m: \tlr: 0.1\n",
            "\u001b[34m\u001b[1mwandb\u001b[0m: \tn_epochs: 5\n",
            "Failed to detect the name of this notebook, you can set it manually with the WANDB_NOTEBOOK_NAME environment variable to enable code saving.\n"
          ]
        },
        {
          "output_type": "display_data",
          "data": {
            "text/plain": [
              "<IPython.core.display.HTML object>"
            ],
            "text/html": [
              "Tracking run with wandb version 0.13.5"
            ]
          },
          "metadata": {}
        },
        {
          "output_type": "display_data",
          "data": {
            "text/plain": [
              "<IPython.core.display.HTML object>"
            ],
            "text/html": [
              "Run data is saved locally in <code>/content/wandb/run-20221106_143911-tav9dl1y</code>"
            ]
          },
          "metadata": {}
        },
        {
          "output_type": "display_data",
          "data": {
            "text/plain": [
              "<IPython.core.display.HTML object>"
            ],
            "text/html": [
              "Syncing run <strong><a href=\"https://wandb.ai/iloncka-ds/recsys-app/runs/tav9dl1y\" target=\"_blank\">spring-sweep-12</a></strong> to <a href=\"https://wandb.ai/iloncka-ds/recsys-app\" target=\"_blank\">Weights & Biases</a> (<a href=\"https://wandb.me/run\" target=\"_blank\">docs</a>)<br/>Sweep page:  <a href=\"https://wandb.ai/iloncka-ds/recsys-app/sweeps/r5ls7bmj\" target=\"_blank\">https://wandb.ai/iloncka-ds/recsys-app/sweeps/r5ls7bmj</a>"
            ]
          },
          "metadata": {}
        },
        {
          "output_type": "stream",
          "name": "stdout",
          "text": [
            "total params: \u001b[33m416,045\u001b[0m | embedding params: \u001b[33m413,485\u001b[0m | network params: \u001b[33m2,560\u001b[0m\n",
            "Training start time: \u001b[35m2022-11-06 14:39:16\u001b[0m\n",
            "With lr_decay, epoch 1 learning rate: 0.10000000149011612\n"
          ]
        },
        {
          "output_type": "stream",
          "name": "stderr",
          "text": [
            "train: 100%|██████████| 2521/2521 [00:31<00:00, 81.19it/s]\n"
          ]
        },
        {
          "output_type": "stream",
          "name": "stdout",
          "text": [
            "Epoch 1 elapsed: 31.113s\n",
            "\t \u001b[32mtrain_loss: 3.0102\u001b[0m\n"
          ]
        },
        {
          "output_type": "stream",
          "name": "stderr",
          "text": [
            "eval_pred: 100%|██████████| 3/3 [00:00<00:00, 241.86it/s]\n",
            "eval_rec: 100%|██████████| 610/610 [00:00<00:00, 1894.43it/s]\n"
          ]
        },
        {
          "output_type": "stream",
          "name": "stdout",
          "text": [
            "\t eval log_loss: 3.0836\n",
            "\t eval roc_auc: 0.7380\n",
            "\t eval precision@10: 0.0066\n",
            "\t eval recall@10: 0.0019\n",
            "\t eval map@10: 0.0203\n",
            "\t eval ndcg@10: 0.0272\n",
            "==============================\n",
            "With lr_decay, epoch 2 learning rate: 0.09216000139713287\n"
          ]
        },
        {
          "output_type": "stream",
          "name": "stderr",
          "text": [
            "train: 100%|██████████| 2521/2521 [00:30<00:00, 81.33it/s]\n"
          ]
        },
        {
          "output_type": "stream",
          "name": "stdout",
          "text": [
            "Epoch 2 elapsed: 31.053s\n",
            "\t \u001b[32mtrain_loss: 3.0396\u001b[0m\n"
          ]
        },
        {
          "output_type": "stream",
          "name": "stderr",
          "text": [
            "eval_pred: 100%|██████████| 3/3 [00:00<00:00, 183.61it/s]\n",
            "eval_rec: 100%|██████████| 610/610 [00:00<00:00, 1588.30it/s]\n"
          ]
        },
        {
          "output_type": "stream",
          "name": "stdout",
          "text": [
            "\t eval log_loss: 3.0098\n",
            "\t eval roc_auc: 0.7403\n",
            "\t eval precision@10: 0.0084\n",
            "\t eval recall@10: 0.0038\n",
            "\t eval map@10: 0.0184\n",
            "\t eval ndcg@10: 0.0293\n",
            "==============================\n",
            "With lr_decay, epoch 3 learning rate: 0.08493464440107346\n"
          ]
        },
        {
          "output_type": "stream",
          "name": "stderr",
          "text": [
            "train: 100%|██████████| 2521/2521 [00:30<00:00, 82.57it/s]\n"
          ]
        },
        {
          "output_type": "stream",
          "name": "stdout",
          "text": [
            "Epoch 3 elapsed: 30.601s\n",
            "\t \u001b[32mtrain_loss: 2.5768\u001b[0m\n"
          ]
        },
        {
          "output_type": "stream",
          "name": "stderr",
          "text": [
            "eval_pred: 100%|██████████| 3/3 [00:00<00:00, 152.51it/s]\n",
            "eval_rec: 100%|██████████| 610/610 [00:00<00:00, 1884.75it/s]\n"
          ]
        },
        {
          "output_type": "stream",
          "name": "stdout",
          "text": [
            "\t eval log_loss: 2.9710\n",
            "\t eval roc_auc: 0.7353\n",
            "\t eval precision@10: 0.0079\n",
            "\t eval recall@10: 0.0031\n",
            "\t eval map@10: 0.0176\n",
            "\t eval ndcg@10: 0.0276\n",
            "==============================\n",
            "With lr_decay, epoch 4 learning rate: 0.07827576994895935\n"
          ]
        },
        {
          "output_type": "stream",
          "name": "stderr",
          "text": [
            "train: 100%|██████████| 2521/2521 [00:30<00:00, 82.00it/s]\n"
          ]
        },
        {
          "output_type": "stream",
          "name": "stdout",
          "text": [
            "Epoch 4 elapsed: 30.800s\n",
            "\t \u001b[32mtrain_loss: 2.2152\u001b[0m\n"
          ]
        },
        {
          "output_type": "stream",
          "name": "stderr",
          "text": [
            "eval_pred: 100%|██████████| 3/3 [00:00<00:00, 134.75it/s]\n",
            "eval_rec: 100%|██████████| 610/610 [00:00<00:00, 1872.05it/s]\n"
          ]
        },
        {
          "output_type": "stream",
          "name": "stdout",
          "text": [
            "\t eval log_loss: 3.1108\n",
            "\t eval roc_auc: 0.7536\n",
            "\t eval precision@10: 0.0072\n",
            "\t eval recall@10: 0.0025\n",
            "\t eval map@10: 0.0138\n",
            "\t eval ndcg@10: 0.0245\n",
            "==============================\n",
            "With lr_decay, epoch 5 learning rate: 0.0721389502286911\n"
          ]
        },
        {
          "output_type": "stream",
          "name": "stderr",
          "text": [
            "train: 100%|██████████| 2521/2521 [00:30<00:00, 82.29it/s]\n"
          ]
        },
        {
          "output_type": "stream",
          "name": "stdout",
          "text": [
            "Epoch 5 elapsed: 30.689s\n",
            "\t \u001b[32mtrain_loss: 1.9045\u001b[0m\n"
          ]
        },
        {
          "output_type": "stream",
          "name": "stderr",
          "text": [
            "eval_pred: 100%|██████████| 3/3 [00:00<00:00, 231.87it/s]\n",
            "eval_rec: 100%|██████████| 610/610 [00:00<00:00, 1747.01it/s]\n"
          ]
        },
        {
          "output_type": "stream",
          "name": "stdout",
          "text": [
            "\t eval log_loss: 3.2233\n",
            "\t eval roc_auc: 0.7467\n",
            "\t eval precision@10: 0.0057\n",
            "\t eval recall@10: 0.0026\n",
            "\t eval map@10: 0.0148\n",
            "\t eval ndcg@10: 0.0226\n",
            "==============================\n"
          ]
        },
        {
          "output_type": "stream",
          "name": "stderr",
          "text": [
            "eval_pred: 100%|██████████| 3/3 [00:00<00:00, 249.65it/s]\n",
            "eval_rec: 100%|██████████| 608/608 [00:00<00:00, 1822.11it/s]\n"
          ]
        },
        {
          "output_type": "display_data",
          "data": {
            "text/plain": [
              "<IPython.core.display.HTML object>"
            ],
            "text/html": [
              "Waiting for W&B process to finish... <strong style=\"color:green\">(success).</strong>"
            ]
          },
          "metadata": {}
        },
        {
          "output_type": "display_data",
          "data": {
            "text/plain": [
              "<IPython.core.display.HTML object>"
            ],
            "text/html": [
              "<style>\n",
              "    table.wandb td:nth-child(1) { padding: 0 10px; text-align: left ; width: auto;} td:nth-child(2) {text-align: left ; width: 100%}\n",
              "    .wandb-row { display: flex; flex-direction: row; flex-wrap: wrap; justify-content: flex-start; width: 100% }\n",
              "    .wandb-col { display: flex; flex-direction: column; flex-basis: 100%; flex: 1; padding: 10px; }\n",
              "    </style>\n",
              "<div class=\"wandb-row\"><div class=\"wandb-col\"><h3>Run history:</h3><br/><table class=\"wandb\"><tr><td>epoch</td><td>▁▃▅▆█</td></tr><tr><td>log_loss</td><td>▄▂▁▅█</td></tr><tr><td>loss</td><td>▁</td></tr><tr><td>map</td><td>▁</td></tr><tr><td>map@10</td><td>█▆▅▁▂</td></tr><tr><td>ndcg</td><td>▁</td></tr><tr><td>ndcg@10</td><td>▆█▆▃▁</td></tr><tr><td>precision</td><td>▁</td></tr><tr><td>precision@10</td><td>▃█▇▅▁</td></tr><tr><td>recall</td><td>▁</td></tr><tr><td>recall@10</td><td>▁█▅▃▄</td></tr><tr><td>roc_auc</td><td>▄▅▄█▆▁</td></tr><tr><td>train_loss</td><td>██▅▃▁</td></tr></table><br/></div><div class=\"wandb-col\"><h3>Run summary:</h3><br/><table class=\"wandb\"><tr><td>epoch</td><td>5</td></tr><tr><td>log_loss</td><td>3.22334</td></tr><tr><td>loss</td><td>3.54739</td></tr><tr><td>map</td><td>0.01213</td></tr><tr><td>map@10</td><td>0.01479</td></tr><tr><td>ndcg</td><td>0.01918</td></tr><tr><td>ndcg@10</td><td>0.02258</td></tr><tr><td>precision</td><td>0.00428</td></tr><tr><td>precision@10</td><td>0.00574</td></tr><tr><td>recall</td><td>0.00248</td></tr><tr><td>recall@10</td><td>0.00257</td></tr><tr><td>roc_auc</td><td>0.72392</td></tr><tr><td>train_loss</td><td>1.9045</td></tr></table><br/></div></div>"
            ]
          },
          "metadata": {}
        },
        {
          "output_type": "display_data",
          "data": {
            "text/plain": [
              "<IPython.core.display.HTML object>"
            ],
            "text/html": [
              "Synced <strong style=\"color:#cdcd00\">spring-sweep-12</strong>: <a href=\"https://wandb.ai/iloncka-ds/recsys-app/runs/tav9dl1y\" target=\"_blank\">https://wandb.ai/iloncka-ds/recsys-app/runs/tav9dl1y</a><br/>Synced 5 W&B file(s), 0 media file(s), 0 artifact file(s) and 0 other file(s)"
            ]
          },
          "metadata": {}
        },
        {
          "output_type": "display_data",
          "data": {
            "text/plain": [
              "<IPython.core.display.HTML object>"
            ],
            "text/html": [
              "Find logs at: <code>./wandb/run-20221106_143911-tav9dl1y/logs</code>"
            ]
          },
          "metadata": {}
        },
        {
          "output_type": "stream",
          "name": "stderr",
          "text": [
            "\u001b[34m\u001b[1mwandb\u001b[0m: Agent Starting Run: y5c2b89t with config:\n",
            "\u001b[34m\u001b[1mwandb\u001b[0m: \tbatch_size: 256\n",
            "\u001b[34m\u001b[1mwandb\u001b[0m: \tembed_size: 16\n",
            "\u001b[34m\u001b[1mwandb\u001b[0m: \tlr: 0.001\n",
            "\u001b[34m\u001b[1mwandb\u001b[0m: \tn_epochs: 5\n"
          ]
        },
        {
          "output_type": "display_data",
          "data": {
            "text/plain": [
              "<IPython.core.display.HTML object>"
            ],
            "text/html": [
              "Tracking run with wandb version 0.13.5"
            ]
          },
          "metadata": {}
        },
        {
          "output_type": "display_data",
          "data": {
            "text/plain": [
              "<IPython.core.display.HTML object>"
            ],
            "text/html": [
              "Run data is saved locally in <code>/content/wandb/run-20221106_144210-y5c2b89t</code>"
            ]
          },
          "metadata": {}
        },
        {
          "output_type": "display_data",
          "data": {
            "text/plain": [
              "<IPython.core.display.HTML object>"
            ],
            "text/html": [
              "Syncing run <strong><a href=\"https://wandb.ai/iloncka-ds/recsys-app/runs/y5c2b89t\" target=\"_blank\">electric-sweep-13</a></strong> to <a href=\"https://wandb.ai/iloncka-ds/recsys-app\" target=\"_blank\">Weights & Biases</a> (<a href=\"https://wandb.me/run\" target=\"_blank\">docs</a>)<br/>Sweep page:  <a href=\"https://wandb.ai/iloncka-ds/recsys-app/sweeps/r5ls7bmj\" target=\"_blank\">https://wandb.ai/iloncka-ds/recsys-app/sweeps/r5ls7bmj</a>"
            ]
          },
          "metadata": {}
        },
        {
          "output_type": "stream",
          "name": "stdout",
          "text": [
            "total params: \u001b[33m416,045\u001b[0m | embedding params: \u001b[33m413,485\u001b[0m | network params: \u001b[33m2,560\u001b[0m\n",
            "Training start time: \u001b[35m2022-11-06 14:42:16\u001b[0m\n",
            "With lr_decay, epoch 1 learning rate: 0.0010000000474974513\n"
          ]
        },
        {
          "output_type": "stream",
          "name": "stderr",
          "text": [
            "train: 100%|██████████| 631/631 [00:18<00:00, 35.01it/s]\n"
          ]
        },
        {
          "output_type": "stream",
          "name": "stdout",
          "text": [
            "Epoch 1 elapsed: 18.086s\n",
            "\t \u001b[32mtrain_loss: 0.5156\u001b[0m\n"
          ]
        },
        {
          "output_type": "stream",
          "name": "stderr",
          "text": [
            "eval_pred: 100%|██████████| 3/3 [00:00<00:00, 219.25it/s]\n",
            "eval_rec: 100%|██████████| 610/610 [00:00<00:00, 2024.88it/s]\n"
          ]
        },
        {
          "output_type": "stream",
          "name": "stdout",
          "text": [
            "\t eval log_loss: 0.5028\n",
            "\t eval roc_auc: 0.8380\n",
            "\t eval precision@10: 0.0320\n",
            "\t eval recall@10: 0.0330\n",
            "\t eval map@10: 0.0705\n",
            "\t eval ndcg@10: 0.1095\n",
            "==============================\n",
            "With lr_decay, epoch 2 learning rate: 0.0009216000325977802\n"
          ]
        },
        {
          "output_type": "stream",
          "name": "stderr",
          "text": [
            "train: 100%|██████████| 631/631 [00:17<00:00, 35.45it/s]\n"
          ]
        },
        {
          "output_type": "stream",
          "name": "stdout",
          "text": [
            "Epoch 2 elapsed: 17.849s\n",
            "\t \u001b[32mtrain_loss: 0.415\u001b[0m\n"
          ]
        },
        {
          "output_type": "stream",
          "name": "stderr",
          "text": [
            "eval_pred: 100%|██████████| 3/3 [00:00<00:00, 161.76it/s]\n",
            "eval_rec: 100%|██████████| 610/610 [00:00<00:00, 1799.79it/s]\n"
          ]
        },
        {
          "output_type": "stream",
          "name": "stdout",
          "text": [
            "\t eval log_loss: 0.5282\n",
            "\t eval roc_auc: 0.8227\n",
            "\t eval precision@10: 0.0295\n",
            "\t eval recall@10: 0.0317\n",
            "\t eval map@10: 0.0727\n",
            "\t eval ndcg@10: 0.1101\n",
            "==============================\n",
            "With lr_decay, epoch 3 learning rate: 0.0008493465138599277\n"
          ]
        },
        {
          "output_type": "stream",
          "name": "stderr",
          "text": [
            "train: 100%|██████████| 631/631 [00:17<00:00, 35.15it/s]\n"
          ]
        },
        {
          "output_type": "stream",
          "name": "stdout",
          "text": [
            "Epoch 3 elapsed: 18.006s\n",
            "\t \u001b[32mtrain_loss: 0.3654\u001b[0m\n"
          ]
        },
        {
          "output_type": "stream",
          "name": "stderr",
          "text": [
            "eval_pred: 100%|██████████| 3/3 [00:00<00:00, 181.40it/s]\n",
            "eval_rec: 100%|██████████| 610/610 [00:00<00:00, 1863.79it/s]\n"
          ]
        },
        {
          "output_type": "stream",
          "name": "stdout",
          "text": [
            "\t eval log_loss: 0.5261\n",
            "\t eval roc_auc: 0.8250\n",
            "\t eval precision@10: 0.0300\n",
            "\t eval recall@10: 0.0313\n",
            "\t eval map@10: 0.0706\n",
            "\t eval ndcg@10: 0.1082\n",
            "==============================\n",
            "With lr_decay, epoch 4 learning rate: 0.0007827577646821737\n"
          ]
        },
        {
          "output_type": "stream",
          "name": "stderr",
          "text": [
            "train: 100%|██████████| 631/631 [00:17<00:00, 35.54it/s]\n"
          ]
        },
        {
          "output_type": "stream",
          "name": "stdout",
          "text": [
            "Epoch 4 elapsed: 17.807s\n",
            "\t \u001b[32mtrain_loss: 0.3239\u001b[0m\n"
          ]
        },
        {
          "output_type": "stream",
          "name": "stderr",
          "text": [
            "eval_pred: 100%|██████████| 3/3 [00:00<00:00, 175.66it/s]\n",
            "eval_rec: 100%|██████████| 610/610 [00:00<00:00, 1980.90it/s]\n"
          ]
        },
        {
          "output_type": "stream",
          "name": "stdout",
          "text": [
            "\t eval log_loss: 0.5492\n",
            "\t eval roc_auc: 0.8295\n",
            "\t eval precision@10: 0.0311\n",
            "\t eval recall@10: 0.0289\n",
            "\t eval map@10: 0.0707\n",
            "\t eval ndcg@10: 0.1085\n",
            "==============================\n",
            "With lr_decay, epoch 5 learning rate: 0.000721389485988766\n"
          ]
        },
        {
          "output_type": "stream",
          "name": "stderr",
          "text": [
            "train: 100%|██████████| 631/631 [00:17<00:00, 35.73it/s]\n"
          ]
        },
        {
          "output_type": "stream",
          "name": "stdout",
          "text": [
            "Epoch 5 elapsed: 17.714s\n",
            "\t \u001b[32mtrain_loss: 0.2916\u001b[0m\n"
          ]
        },
        {
          "output_type": "stream",
          "name": "stderr",
          "text": [
            "eval_pred: 100%|██████████| 3/3 [00:00<00:00, 192.37it/s]\n",
            "eval_rec: 100%|██████████| 610/610 [00:00<00:00, 1667.56it/s]\n"
          ]
        },
        {
          "output_type": "stream",
          "name": "stdout",
          "text": [
            "\t eval log_loss: 0.5607\n",
            "\t eval roc_auc: 0.8299\n",
            "\t eval precision@10: 0.0321\n",
            "\t eval recall@10: 0.0318\n",
            "\t eval map@10: 0.0716\n",
            "\t eval ndcg@10: 0.1114\n",
            "==============================\n"
          ]
        },
        {
          "output_type": "stream",
          "name": "stderr",
          "text": [
            "eval_pred: 100%|██████████| 3/3 [00:00<00:00, 246.08it/s]\n",
            "eval_rec: 100%|██████████| 608/608 [00:00<00:00, 1828.37it/s]\n"
          ]
        },
        {
          "output_type": "display_data",
          "data": {
            "text/plain": [
              "<IPython.core.display.HTML object>"
            ],
            "text/html": [
              "Waiting for W&B process to finish... <strong style=\"color:green\">(success).</strong>"
            ]
          },
          "metadata": {}
        },
        {
          "output_type": "display_data",
          "data": {
            "text/plain": [
              "VBox(children=(Label(value='0.001 MB of 0.001 MB uploaded (0.000 MB deduped)\\r'), FloatProgress(value=1.0, max…"
            ],
            "application/vnd.jupyter.widget-view+json": {
              "version_major": 2,
              "version_minor": 0,
              "model_id": "87d002d0df7e4c6e9bb7b4d4540fd745"
            }
          },
          "metadata": {}
        },
        {
          "output_type": "display_data",
          "data": {
            "text/plain": [
              "<IPython.core.display.HTML object>"
            ],
            "text/html": [
              "<style>\n",
              "    table.wandb td:nth-child(1) { padding: 0 10px; text-align: left ; width: auto;} td:nth-child(2) {text-align: left ; width: 100%}\n",
              "    .wandb-row { display: flex; flex-direction: row; flex-wrap: wrap; justify-content: flex-start; width: 100% }\n",
              "    .wandb-col { display: flex; flex-direction: column; flex-basis: 100%; flex: 1; padding: 10px; }\n",
              "    </style>\n",
              "<div class=\"wandb-row\"><div class=\"wandb-col\"><h3>Run history:</h3><br/><table class=\"wandb\"><tr><td>epoch</td><td>▁▃▅▆█</td></tr><tr><td>log_loss</td><td>▁▄▄▇█</td></tr><tr><td>loss</td><td>▁</td></tr><tr><td>map</td><td>▁</td></tr><tr><td>map@10</td><td>▁█▂▂▅</td></tr><tr><td>ndcg</td><td>▁</td></tr><tr><td>ndcg@10</td><td>▄▅▁▂█</td></tr><tr><td>precision</td><td>▁</td></tr><tr><td>precision@10</td><td>█▁▂▅█</td></tr><tr><td>recall</td><td>▁</td></tr><tr><td>recall@10</td><td>█▆▅▁▆</td></tr><tr><td>roc_auc</td><td>█▅▆▇▇▁</td></tr><tr><td>train_loss</td><td>█▅▃▂▁</td></tr></table><br/></div><div class=\"wandb-col\"><h3>Run summary:</h3><br/><table class=\"wandb\"><tr><td>epoch</td><td>5</td></tr><tr><td>log_loss</td><td>0.56069</td></tr><tr><td>loss</td><td>0.63922</td></tr><tr><td>map</td><td>0.06429</td></tr><tr><td>map@10</td><td>0.07158</td></tr><tr><td>ndcg</td><td>0.0938</td></tr><tr><td>ndcg@10</td><td>0.11142</td></tr><tr><td>precision</td><td>0.02401</td></tr><tr><td>precision@10</td><td>0.03213</td></tr><tr><td>recall</td><td>0.02207</td></tr><tr><td>recall@10</td><td>0.03182</td></tr><tr><td>roc_auc</td><td>0.79755</td></tr><tr><td>train_loss</td><td>0.2916</td></tr></table><br/></div></div>"
            ]
          },
          "metadata": {}
        },
        {
          "output_type": "display_data",
          "data": {
            "text/plain": [
              "<IPython.core.display.HTML object>"
            ],
            "text/html": [
              "Synced <strong style=\"color:#cdcd00\">electric-sweep-13</strong>: <a href=\"https://wandb.ai/iloncka-ds/recsys-app/runs/y5c2b89t\" target=\"_blank\">https://wandb.ai/iloncka-ds/recsys-app/runs/y5c2b89t</a><br/>Synced 5 W&B file(s), 0 media file(s), 0 artifact file(s) and 0 other file(s)"
            ]
          },
          "metadata": {}
        },
        {
          "output_type": "display_data",
          "data": {
            "text/plain": [
              "<IPython.core.display.HTML object>"
            ],
            "text/html": [
              "Find logs at: <code>./wandb/run-20221106_144210-y5c2b89t/logs</code>"
            ]
          },
          "metadata": {}
        },
        {
          "output_type": "stream",
          "name": "stderr",
          "text": [
            "\u001b[34m\u001b[1mwandb\u001b[0m: Agent Starting Run: 24cm1lwi with config:\n",
            "\u001b[34m\u001b[1mwandb\u001b[0m: \tbatch_size: 128\n",
            "\u001b[34m\u001b[1mwandb\u001b[0m: \tembed_size: 32\n",
            "\u001b[34m\u001b[1mwandb\u001b[0m: \tlr: 0.01\n",
            "\u001b[34m\u001b[1mwandb\u001b[0m: \tn_epochs: 5\n"
          ]
        },
        {
          "output_type": "display_data",
          "data": {
            "text/plain": [
              "<IPython.core.display.HTML object>"
            ],
            "text/html": [
              "Tracking run with wandb version 0.13.5"
            ]
          },
          "metadata": {}
        },
        {
          "output_type": "display_data",
          "data": {
            "text/plain": [
              "<IPython.core.display.HTML object>"
            ],
            "text/html": [
              "Run data is saved locally in <code>/content/wandb/run-20221106_144402-24cm1lwi</code>"
            ]
          },
          "metadata": {}
        },
        {
          "output_type": "display_data",
          "data": {
            "text/plain": [
              "<IPython.core.display.HTML object>"
            ],
            "text/html": [
              "Syncing run <strong><a href=\"https://wandb.ai/iloncka-ds/recsys-app/runs/24cm1lwi\" target=\"_blank\">elated-sweep-14</a></strong> to <a href=\"https://wandb.ai/iloncka-ds/recsys-app\" target=\"_blank\">Weights & Biases</a> (<a href=\"https://wandb.me/run\" target=\"_blank\">docs</a>)<br/>Sweep page:  <a href=\"https://wandb.ai/iloncka-ds/recsys-app/sweeps/r5ls7bmj\" target=\"_blank\">https://wandb.ai/iloncka-ds/recsys-app/sweeps/r5ls7bmj</a>"
            ]
          },
          "metadata": {}
        },
        {
          "output_type": "stream",
          "name": "stdout",
          "text": [
            "total params: \u001b[33m821,981\u001b[0m | embedding params: \u001b[33m818,653\u001b[0m | network params: \u001b[33m3,328\u001b[0m\n",
            "Training start time: \u001b[35m2022-11-06 14:44:08\u001b[0m\n",
            "With lr_decay, epoch 1 learning rate: 0.009999999776482582\n"
          ]
        },
        {
          "output_type": "stream",
          "name": "stderr",
          "text": [
            "train: 100%|██████████| 1261/1261 [00:26<00:00, 47.39it/s]\n"
          ]
        },
        {
          "output_type": "stream",
          "name": "stdout",
          "text": [
            "Epoch 1 elapsed: 26.659s\n",
            "\t \u001b[32mtrain_loss: 0.4946\u001b[0m\n"
          ]
        },
        {
          "output_type": "stream",
          "name": "stderr",
          "text": [
            "eval_pred: 100%|██████████| 3/3 [00:00<00:00, 160.60it/s]\n",
            "eval_rec: 100%|██████████| 610/610 [00:00<00:00, 1507.47it/s]\n"
          ]
        },
        {
          "output_type": "stream",
          "name": "stdout",
          "text": [
            "\t eval log_loss: 0.5200\n",
            "\t eval roc_auc: 0.8374\n",
            "\t eval precision@10: 0.0321\n",
            "\t eval recall@10: 0.0345\n",
            "\t eval map@10: 0.0834\n",
            "\t eval ndcg@10: 0.1217\n",
            "==============================\n",
            "With lr_decay, epoch 2 learning rate: 0.009215999394655228\n"
          ]
        },
        {
          "output_type": "stream",
          "name": "stderr",
          "text": [
            "train: 100%|██████████| 1261/1261 [00:26<00:00, 48.24it/s]\n"
          ]
        },
        {
          "output_type": "stream",
          "name": "stdout",
          "text": [
            "Epoch 2 elapsed: 26.197s\n",
            "\t \u001b[32mtrain_loss: 0.2311\u001b[0m\n"
          ]
        },
        {
          "output_type": "stream",
          "name": "stderr",
          "text": [
            "eval_pred: 100%|██████████| 3/3 [00:00<00:00, 204.69it/s]\n",
            "eval_rec: 100%|██████████| 610/610 [00:00<00:00, 1620.97it/s]\n"
          ]
        },
        {
          "output_type": "stream",
          "name": "stdout",
          "text": [
            "\t eval log_loss: 0.6585\n",
            "\t eval roc_auc: 0.8127\n",
            "\t eval precision@10: 0.0302\n",
            "\t eval recall@10: 0.0253\n",
            "\t eval map@10: 0.0795\n",
            "\t eval ndcg@10: 0.1171\n",
            "==============================\n",
            "With lr_decay, epoch 3 learning rate: 0.008493464440107346\n"
          ]
        },
        {
          "output_type": "stream",
          "name": "stderr",
          "text": [
            "train: 100%|██████████| 1261/1261 [00:26<00:00, 48.08it/s]\n"
          ]
        },
        {
          "output_type": "stream",
          "name": "stdout",
          "text": [
            "Epoch 3 elapsed: 26.277s\n",
            "\t \u001b[32mtrain_loss: 0.0784\u001b[0m\n"
          ]
        },
        {
          "output_type": "stream",
          "name": "stderr",
          "text": [
            "eval_pred: 100%|██████████| 3/3 [00:00<00:00, 178.21it/s]\n",
            "eval_rec: 100%|██████████| 610/610 [00:00<00:00, 1512.42it/s]\n"
          ]
        },
        {
          "output_type": "stream",
          "name": "stdout",
          "text": [
            "\t eval log_loss: 0.8023\n",
            "\t eval roc_auc: 0.8006\n",
            "\t eval precision@10: 0.0259\n",
            "\t eval recall@10: 0.0236\n",
            "\t eval map@10: 0.0710\n",
            "\t eval ndcg@10: 0.1044\n",
            "==============================\n",
            "With lr_decay, epoch 4 learning rate: 0.00782757718116045\n"
          ]
        },
        {
          "output_type": "stream",
          "name": "stderr",
          "text": [
            "train: 100%|██████████| 1261/1261 [00:25<00:00, 48.88it/s]\n"
          ]
        },
        {
          "output_type": "stream",
          "name": "stdout",
          "text": [
            "Epoch 4 elapsed: 25.854s\n",
            "\t \u001b[32mtrain_loss: 0.0303\u001b[0m\n"
          ]
        },
        {
          "output_type": "stream",
          "name": "stderr",
          "text": [
            "eval_pred: 100%|██████████| 3/3 [00:00<00:00, 172.33it/s]\n",
            "eval_rec: 100%|██████████| 610/610 [00:00<00:00, 1646.48it/s]\n"
          ]
        },
        {
          "output_type": "stream",
          "name": "stdout",
          "text": [
            "\t eval log_loss: 0.9453\n",
            "\t eval roc_auc: 0.8049\n",
            "\t eval precision@10: 0.0252\n",
            "\t eval recall@10: 0.0227\n",
            "\t eval map@10: 0.0671\n",
            "\t eval ndcg@10: 0.0995\n",
            "==============================\n",
            "With lr_decay, epoch 5 learning rate: 0.007213894743472338\n"
          ]
        },
        {
          "output_type": "stream",
          "name": "stderr",
          "text": [
            "train: 100%|██████████| 1261/1261 [00:26<00:00, 47.88it/s]\n"
          ]
        },
        {
          "output_type": "stream",
          "name": "stdout",
          "text": [
            "Epoch 5 elapsed: 26.386s\n",
            "\t \u001b[32mtrain_loss: 0.0131\u001b[0m\n"
          ]
        },
        {
          "output_type": "stream",
          "name": "stderr",
          "text": [
            "eval_pred: 100%|██████████| 3/3 [00:00<00:00, 141.58it/s]\n",
            "eval_rec: 100%|██████████| 610/610 [00:00<00:00, 1583.42it/s]\n"
          ]
        },
        {
          "output_type": "stream",
          "name": "stdout",
          "text": [
            "\t eval log_loss: 1.0714\n",
            "\t eval roc_auc: 0.8036\n",
            "\t eval precision@10: 0.0275\n",
            "\t eval recall@10: 0.0263\n",
            "\t eval map@10: 0.0706\n",
            "\t eval ndcg@10: 0.1082\n",
            "==============================\n"
          ]
        },
        {
          "output_type": "stream",
          "name": "stderr",
          "text": [
            "eval_pred: 100%|██████████| 3/3 [00:00<00:00, 216.78it/s]\n",
            "eval_rec: 100%|██████████| 608/608 [00:00<00:00, 1431.70it/s]\n"
          ]
        },
        {
          "output_type": "display_data",
          "data": {
            "text/plain": [
              "<IPython.core.display.HTML object>"
            ],
            "text/html": [
              "Waiting for W&B process to finish... <strong style=\"color:green\">(success).</strong>"
            ]
          },
          "metadata": {}
        },
        {
          "output_type": "display_data",
          "data": {
            "text/plain": [
              "<IPython.core.display.HTML object>"
            ],
            "text/html": [
              "<style>\n",
              "    table.wandb td:nth-child(1) { padding: 0 10px; text-align: left ; width: auto;} td:nth-child(2) {text-align: left ; width: 100%}\n",
              "    .wandb-row { display: flex; flex-direction: row; flex-wrap: wrap; justify-content: flex-start; width: 100% }\n",
              "    .wandb-col { display: flex; flex-direction: column; flex-basis: 100%; flex: 1; padding: 10px; }\n",
              "    </style>\n",
              "<div class=\"wandb-row\"><div class=\"wandb-col\"><h3>Run history:</h3><br/><table class=\"wandb\"><tr><td>epoch</td><td>▁▃▅▆█</td></tr><tr><td>log_loss</td><td>▁▃▅▆█</td></tr><tr><td>loss</td><td>▁</td></tr><tr><td>map</td><td>▁</td></tr><tr><td>map@10</td><td>█▆▃▁▂</td></tr><tr><td>ndcg</td><td>▁</td></tr><tr><td>ndcg@10</td><td>█▇▃▁▄</td></tr><tr><td>precision</td><td>▁</td></tr><tr><td>precision@10</td><td>█▆▂▁▃</td></tr><tr><td>recall</td><td>▁</td></tr><tr><td>recall@10</td><td>█▂▁▁▃</td></tr><tr><td>roc_auc</td><td>█▅▄▅▄▁</td></tr><tr><td>train_loss</td><td>█▄▂▁▁</td></tr></table><br/></div><div class=\"wandb-col\"><h3>Run summary:</h3><br/><table class=\"wandb\"><tr><td>epoch</td><td>5</td></tr><tr><td>log_loss</td><td>1.07144</td></tr><tr><td>loss</td><td>1.23795</td></tr><tr><td>map</td><td>0.05394</td></tr><tr><td>map@10</td><td>0.07056</td></tr><tr><td>ndcg</td><td>0.08223</td></tr><tr><td>ndcg@10</td><td>0.10815</td></tr><tr><td>precision</td><td>0.01957</td></tr><tr><td>precision@10</td><td>0.02754</td></tr><tr><td>recall</td><td>0.02401</td></tr><tr><td>recall@10</td><td>0.02632</td></tr><tr><td>roc_auc</td><td>0.77236</td></tr><tr><td>train_loss</td><td>0.0131</td></tr></table><br/></div></div>"
            ]
          },
          "metadata": {}
        },
        {
          "output_type": "display_data",
          "data": {
            "text/plain": [
              "<IPython.core.display.HTML object>"
            ],
            "text/html": [
              "Synced <strong style=\"color:#cdcd00\">elated-sweep-14</strong>: <a href=\"https://wandb.ai/iloncka-ds/recsys-app/runs/24cm1lwi\" target=\"_blank\">https://wandb.ai/iloncka-ds/recsys-app/runs/24cm1lwi</a><br/>Synced 5 W&B file(s), 0 media file(s), 0 artifact file(s) and 0 other file(s)"
            ]
          },
          "metadata": {}
        },
        {
          "output_type": "display_data",
          "data": {
            "text/plain": [
              "<IPython.core.display.HTML object>"
            ],
            "text/html": [
              "Find logs at: <code>./wandb/run-20221106_144402-24cm1lwi/logs</code>"
            ]
          },
          "metadata": {}
        },
        {
          "output_type": "stream",
          "name": "stderr",
          "text": [
            "\u001b[34m\u001b[1mwandb\u001b[0m: Agent Starting Run: u9cyfocd with config:\n",
            "\u001b[34m\u001b[1mwandb\u001b[0m: \tbatch_size: 256\n",
            "\u001b[34m\u001b[1mwandb\u001b[0m: \tembed_size: 32\n",
            "\u001b[34m\u001b[1mwandb\u001b[0m: \tlr: 0.001\n",
            "\u001b[34m\u001b[1mwandb\u001b[0m: \tn_epochs: 5\n"
          ]
        },
        {
          "output_type": "display_data",
          "data": {
            "text/plain": [
              "<IPython.core.display.HTML object>"
            ],
            "text/html": [
              "Tracking run with wandb version 0.13.5"
            ]
          },
          "metadata": {}
        },
        {
          "output_type": "display_data",
          "data": {
            "text/plain": [
              "<IPython.core.display.HTML object>"
            ],
            "text/html": [
              "Run data is saved locally in <code>/content/wandb/run-20221106_144640-u9cyfocd</code>"
            ]
          },
          "metadata": {}
        },
        {
          "output_type": "display_data",
          "data": {
            "text/plain": [
              "<IPython.core.display.HTML object>"
            ],
            "text/html": [
              "Syncing run <strong><a href=\"https://wandb.ai/iloncka-ds/recsys-app/runs/u9cyfocd\" target=\"_blank\">apricot-sweep-15</a></strong> to <a href=\"https://wandb.ai/iloncka-ds/recsys-app\" target=\"_blank\">Weights & Biases</a> (<a href=\"https://wandb.me/run\" target=\"_blank\">docs</a>)<br/>Sweep page:  <a href=\"https://wandb.ai/iloncka-ds/recsys-app/sweeps/r5ls7bmj\" target=\"_blank\">https://wandb.ai/iloncka-ds/recsys-app/sweeps/r5ls7bmj</a>"
            ]
          },
          "metadata": {}
        },
        {
          "output_type": "stream",
          "name": "stdout",
          "text": [
            "total params: \u001b[33m821,981\u001b[0m | embedding params: \u001b[33m818,653\u001b[0m | network params: \u001b[33m3,328\u001b[0m\n",
            "Training start time: \u001b[35m2022-11-06 14:46:47\u001b[0m\n",
            "With lr_decay, epoch 1 learning rate: 0.0010000000474974513\n"
          ]
        },
        {
          "output_type": "stream",
          "name": "stderr",
          "text": [
            "train: 100%|██████████| 631/631 [00:20<00:00, 31.38it/s]\n"
          ]
        },
        {
          "output_type": "stream",
          "name": "stdout",
          "text": [
            "Epoch 1 elapsed: 20.162s\n",
            "\t \u001b[32mtrain_loss: 0.509\u001b[0m\n"
          ]
        },
        {
          "output_type": "stream",
          "name": "stderr",
          "text": [
            "eval_pred: 100%|██████████| 3/3 [00:00<00:00, 174.08it/s]\n",
            "eval_rec: 100%|██████████| 610/610 [00:00<00:00, 1638.14it/s]\n"
          ]
        },
        {
          "output_type": "stream",
          "name": "stdout",
          "text": [
            "\t eval log_loss: 0.5085\n",
            "\t eval roc_auc: 0.8339\n",
            "\t eval precision@10: 0.0290\n",
            "\t eval recall@10: 0.0304\n",
            "\t eval map@10: 0.0674\n",
            "\t eval ndcg@10: 0.1019\n",
            "==============================\n",
            "With lr_decay, epoch 2 learning rate: 0.0009216000325977802\n"
          ]
        },
        {
          "output_type": "stream",
          "name": "stderr",
          "text": [
            "train: 100%|██████████| 631/631 [00:19<00:00, 32.19it/s]\n"
          ]
        },
        {
          "output_type": "stream",
          "name": "stdout",
          "text": [
            "Epoch 2 elapsed: 19.652s\n",
            "\t \u001b[32mtrain_loss: 0.403\u001b[0m\n"
          ]
        },
        {
          "output_type": "stream",
          "name": "stderr",
          "text": [
            "eval_pred: 100%|██████████| 3/3 [00:00<00:00, 115.50it/s]\n",
            "eval_rec: 100%|██████████| 610/610 [00:00<00:00, 1617.74it/s]\n"
          ]
        },
        {
          "output_type": "stream",
          "name": "stdout",
          "text": [
            "\t eval log_loss: 0.5462\n",
            "\t eval roc_auc: 0.8159\n",
            "\t eval precision@10: 0.0313\n",
            "\t eval recall@10: 0.0324\n",
            "\t eval map@10: 0.0706\n",
            "\t eval ndcg@10: 0.1092\n",
            "==============================\n",
            "With lr_decay, epoch 3 learning rate: 0.0008493465138599277\n"
          ]
        },
        {
          "output_type": "stream",
          "name": "stderr",
          "text": [
            "train: 100%|██████████| 631/631 [00:19<00:00, 32.30it/s]\n"
          ]
        },
        {
          "output_type": "stream",
          "name": "stdout",
          "text": [
            "Epoch 3 elapsed: 19.586s\n",
            "\t \u001b[32mtrain_loss: 0.3331\u001b[0m\n"
          ]
        },
        {
          "output_type": "stream",
          "name": "stderr",
          "text": [
            "eval_pred: 100%|██████████| 3/3 [00:00<00:00, 222.92it/s]\n",
            "eval_rec: 100%|██████████| 610/610 [00:00<00:00, 1617.22it/s]\n"
          ]
        },
        {
          "output_type": "stream",
          "name": "stdout",
          "text": [
            "\t eval log_loss: 0.5555\n",
            "\t eval roc_auc: 0.8197\n",
            "\t eval precision@10: 0.0326\n",
            "\t eval recall@10: 0.0335\n",
            "\t eval map@10: 0.0755\n",
            "\t eval ndcg@10: 0.1155\n",
            "==============================\n",
            "With lr_decay, epoch 4 learning rate: 0.0007827577646821737\n"
          ]
        },
        {
          "output_type": "stream",
          "name": "stderr",
          "text": [
            "train: 100%|██████████| 631/631 [00:19<00:00, 32.09it/s]\n"
          ]
        },
        {
          "output_type": "stream",
          "name": "stdout",
          "text": [
            "Epoch 4 elapsed: 19.719s\n",
            "\t \u001b[32mtrain_loss: 0.2755\u001b[0m\n"
          ]
        },
        {
          "output_type": "stream",
          "name": "stderr",
          "text": [
            "eval_pred: 100%|██████████| 3/3 [00:00<00:00, 171.91it/s]\n",
            "eval_rec: 100%|██████████| 610/610 [00:00<00:00, 1597.20it/s]\n"
          ]
        },
        {
          "output_type": "stream",
          "name": "stdout",
          "text": [
            "\t eval log_loss: 0.5955\n",
            "\t eval roc_auc: 0.8187\n",
            "\t eval precision@10: 0.0344\n",
            "\t eval recall@10: 0.0319\n",
            "\t eval map@10: 0.0769\n",
            "\t eval ndcg@10: 0.1173\n",
            "==============================\n",
            "With lr_decay, epoch 5 learning rate: 0.000721389485988766\n"
          ]
        },
        {
          "output_type": "stream",
          "name": "stderr",
          "text": [
            "train: 100%|██████████| 631/631 [00:19<00:00, 32.16it/s]\n"
          ]
        },
        {
          "output_type": "stream",
          "name": "stdout",
          "text": [
            "Epoch 5 elapsed: 19.668s\n",
            "\t \u001b[32mtrain_loss: 0.2334\u001b[0m\n"
          ]
        },
        {
          "output_type": "stream",
          "name": "stderr",
          "text": [
            "eval_pred: 100%|██████████| 3/3 [00:00<00:00, 169.54it/s]\n",
            "eval_rec: 100%|██████████| 610/610 [00:00<00:00, 1423.65it/s]\n"
          ]
        },
        {
          "output_type": "stream",
          "name": "stdout",
          "text": [
            "\t eval log_loss: 0.6392\n",
            "\t eval roc_auc: 0.8112\n",
            "\t eval precision@10: 0.0348\n",
            "\t eval recall@10: 0.0367\n",
            "\t eval map@10: 0.0788\n",
            "\t eval ndcg@10: 0.1227\n",
            "==============================\n"
          ]
        },
        {
          "output_type": "stream",
          "name": "stderr",
          "text": [
            "eval_pred: 100%|██████████| 3/3 [00:00<00:00, 202.53it/s]\n",
            "eval_rec: 100%|██████████| 608/608 [00:00<00:00, 1621.50it/s]\n"
          ]
        },
        {
          "output_type": "display_data",
          "data": {
            "text/plain": [
              "<IPython.core.display.HTML object>"
            ],
            "text/html": [
              "Waiting for W&B process to finish... <strong style=\"color:green\">(success).</strong>"
            ]
          },
          "metadata": {}
        },
        {
          "output_type": "display_data",
          "data": {
            "text/plain": [
              "<IPython.core.display.HTML object>"
            ],
            "text/html": [
              "<style>\n",
              "    table.wandb td:nth-child(1) { padding: 0 10px; text-align: left ; width: auto;} td:nth-child(2) {text-align: left ; width: 100%}\n",
              "    .wandb-row { display: flex; flex-direction: row; flex-wrap: wrap; justify-content: flex-start; width: 100% }\n",
              "    .wandb-col { display: flex; flex-direction: column; flex-basis: 100%; flex: 1; padding: 10px; }\n",
              "    </style>\n",
              "<div class=\"wandb-row\"><div class=\"wandb-col\"><h3>Run history:</h3><br/><table class=\"wandb\"><tr><td>epoch</td><td>▁▃▅▆█</td></tr><tr><td>log_loss</td><td>▁▃▄▆█</td></tr><tr><td>loss</td><td>▁</td></tr><tr><td>map</td><td>▁</td></tr><tr><td>map@10</td><td>▁▃▆▇█</td></tr><tr><td>ndcg</td><td>▁</td></tr><tr><td>ndcg@10</td><td>▁▃▆▆█</td></tr><tr><td>precision</td><td>▁</td></tr><tr><td>precision@10</td><td>▁▄▅██</td></tr><tr><td>recall</td><td>▁</td></tr><tr><td>recall@10</td><td>▁▃▄▃█</td></tr><tr><td>roc_auc</td><td>█▆▆▆▅▁</td></tr><tr><td>train_loss</td><td>█▅▄▂▁</td></tr></table><br/></div><div class=\"wandb-col\"><h3>Run summary:</h3><br/><table class=\"wandb\"><tr><td>epoch</td><td>5</td></tr><tr><td>log_loss</td><td>0.63923</td></tr><tr><td>loss</td><td>0.72333</td></tr><tr><td>map</td><td>0.06516</td></tr><tr><td>map@10</td><td>0.07878</td></tr><tr><td>ndcg</td><td>0.09566</td></tr><tr><td>ndcg@10</td><td>0.12266</td></tr><tr><td>precision</td><td>0.02632</td></tr><tr><td>precision@10</td><td>0.03475</td></tr><tr><td>recall</td><td>0.02788</td></tr><tr><td>recall@10</td><td>0.03672</td></tr><tr><td>roc_auc</td><td>0.77882</td></tr><tr><td>train_loss</td><td>0.2334</td></tr></table><br/></div></div>"
            ]
          },
          "metadata": {}
        },
        {
          "output_type": "display_data",
          "data": {
            "text/plain": [
              "<IPython.core.display.HTML object>"
            ],
            "text/html": [
              "Synced <strong style=\"color:#cdcd00\">apricot-sweep-15</strong>: <a href=\"https://wandb.ai/iloncka-ds/recsys-app/runs/u9cyfocd\" target=\"_blank\">https://wandb.ai/iloncka-ds/recsys-app/runs/u9cyfocd</a><br/>Synced 5 W&B file(s), 0 media file(s), 0 artifact file(s) and 0 other file(s)"
            ]
          },
          "metadata": {}
        },
        {
          "output_type": "display_data",
          "data": {
            "text/plain": [
              "<IPython.core.display.HTML object>"
            ],
            "text/html": [
              "Find logs at: <code>./wandb/run-20221106_144640-u9cyfocd/logs</code>"
            ]
          },
          "metadata": {}
        },
        {
          "output_type": "stream",
          "name": "stderr",
          "text": [
            "\u001b[34m\u001b[1mwandb\u001b[0m: Agent Starting Run: ywocvhrd with config:\n",
            "\u001b[34m\u001b[1mwandb\u001b[0m: \tbatch_size: 128\n",
            "\u001b[34m\u001b[1mwandb\u001b[0m: \tembed_size: 16\n",
            "\u001b[34m\u001b[1mwandb\u001b[0m: \tlr: 0.001\n",
            "\u001b[34m\u001b[1mwandb\u001b[0m: \tn_epochs: 5\n"
          ]
        },
        {
          "output_type": "display_data",
          "data": {
            "text/plain": [
              "<IPython.core.display.HTML object>"
            ],
            "text/html": [
              "Tracking run with wandb version 0.13.5"
            ]
          },
          "metadata": {}
        },
        {
          "output_type": "display_data",
          "data": {
            "text/plain": [
              "<IPython.core.display.HTML object>"
            ],
            "text/html": [
              "Run data is saved locally in <code>/content/wandb/run-20221106_144848-ywocvhrd</code>"
            ]
          },
          "metadata": {}
        },
        {
          "output_type": "display_data",
          "data": {
            "text/plain": [
              "<IPython.core.display.HTML object>"
            ],
            "text/html": [
              "Syncing run <strong><a href=\"https://wandb.ai/iloncka-ds/recsys-app/runs/ywocvhrd\" target=\"_blank\">absurd-sweep-16</a></strong> to <a href=\"https://wandb.ai/iloncka-ds/recsys-app\" target=\"_blank\">Weights & Biases</a> (<a href=\"https://wandb.me/run\" target=\"_blank\">docs</a>)<br/>Sweep page:  <a href=\"https://wandb.ai/iloncka-ds/recsys-app/sweeps/r5ls7bmj\" target=\"_blank\">https://wandb.ai/iloncka-ds/recsys-app/sweeps/r5ls7bmj</a>"
            ]
          },
          "metadata": {}
        },
        {
          "output_type": "stream",
          "name": "stdout",
          "text": [
            "total params: \u001b[33m416,045\u001b[0m | embedding params: \u001b[33m413,485\u001b[0m | network params: \u001b[33m2,560\u001b[0m\n",
            "Training start time: \u001b[35m2022-11-06 14:48:54\u001b[0m\n",
            "With lr_decay, epoch 1 learning rate: 0.0010000000474974513\n"
          ]
        },
        {
          "output_type": "stream",
          "name": "stderr",
          "text": [
            "train: 100%|██████████| 1261/1261 [00:22<00:00, 56.44it/s]\n"
          ]
        },
        {
          "output_type": "stream",
          "name": "stdout",
          "text": [
            "Epoch 1 elapsed: 22.406s\n",
            "\t \u001b[32mtrain_loss: 0.5042\u001b[0m\n"
          ]
        },
        {
          "output_type": "stream",
          "name": "stderr",
          "text": [
            "eval_pred: 100%|██████████| 3/3 [00:00<00:00, 234.84it/s]\n",
            "eval_rec: 100%|██████████| 610/610 [00:00<00:00, 1570.84it/s]\n"
          ]
        },
        {
          "output_type": "stream",
          "name": "stdout",
          "text": [
            "\t eval log_loss: 0.5102\n",
            "\t eval roc_auc: 0.8325\n",
            "\t eval precision@10: 0.0316\n",
            "\t eval recall@10: 0.0318\n",
            "\t eval map@10: 0.0702\n",
            "\t eval ndcg@10: 0.1073\n",
            "==============================\n",
            "With lr_decay, epoch 2 learning rate: 0.0009216000325977802\n"
          ]
        },
        {
          "output_type": "stream",
          "name": "stderr",
          "text": [
            "train: 100%|██████████| 1261/1261 [00:21<00:00, 57.47it/s]\n"
          ]
        },
        {
          "output_type": "stream",
          "name": "stdout",
          "text": [
            "Epoch 2 elapsed: 21.997s\n",
            "\t \u001b[32mtrain_loss: 0.3987\u001b[0m\n"
          ]
        },
        {
          "output_type": "stream",
          "name": "stderr",
          "text": [
            "eval_pred: 100%|██████████| 3/3 [00:00<00:00, 217.39it/s]\n",
            "eval_rec: 100%|██████████| 610/610 [00:00<00:00, 1861.77it/s]\n"
          ]
        },
        {
          "output_type": "stream",
          "name": "stdout",
          "text": [
            "\t eval log_loss: 0.5322\n",
            "\t eval roc_auc: 0.8239\n",
            "\t eval precision@10: 0.0323\n",
            "\t eval recall@10: 0.0362\n",
            "\t eval map@10: 0.0722\n",
            "\t eval ndcg@10: 0.1109\n",
            "==============================\n",
            "With lr_decay, epoch 3 learning rate: 0.0008493465138599277\n"
          ]
        },
        {
          "output_type": "stream",
          "name": "stderr",
          "text": [
            "train: 100%|██████████| 1261/1261 [00:21<00:00, 57.54it/s]\n"
          ]
        },
        {
          "output_type": "stream",
          "name": "stdout",
          "text": [
            "Epoch 3 elapsed: 21.965s\n",
            "\t \u001b[32mtrain_loss: 0.3348\u001b[0m\n"
          ]
        },
        {
          "output_type": "stream",
          "name": "stderr",
          "text": [
            "eval_pred: 100%|██████████| 3/3 [00:00<00:00, 224.73it/s]\n",
            "eval_rec: 100%|██████████| 610/610 [00:00<00:00, 2012.56it/s]\n"
          ]
        },
        {
          "output_type": "stream",
          "name": "stdout",
          "text": [
            "\t eval log_loss: 0.5595\n",
            "\t eval roc_auc: 0.8172\n",
            "\t eval precision@10: 0.0305\n",
            "\t eval recall@10: 0.0326\n",
            "\t eval map@10: 0.0735\n",
            "\t eval ndcg@10: 0.1114\n",
            "==============================\n",
            "With lr_decay, epoch 4 learning rate: 0.0007827577646821737\n"
          ]
        },
        {
          "output_type": "stream",
          "name": "stderr",
          "text": [
            "train: 100%|██████████| 1261/1261 [00:21<00:00, 57.96it/s]\n"
          ]
        },
        {
          "output_type": "stream",
          "name": "stdout",
          "text": [
            "Epoch 4 elapsed: 21.815s\n",
            "\t \u001b[32mtrain_loss: 0.2864\u001b[0m\n"
          ]
        },
        {
          "output_type": "stream",
          "name": "stderr",
          "text": [
            "eval_pred: 100%|██████████| 3/3 [00:00<00:00, 213.77it/s]\n",
            "eval_rec: 100%|██████████| 610/610 [00:00<00:00, 1859.98it/s]\n"
          ]
        },
        {
          "output_type": "stream",
          "name": "stdout",
          "text": [
            "\t eval log_loss: 0.5867\n",
            "\t eval roc_auc: 0.8207\n",
            "\t eval precision@10: 0.0320\n",
            "\t eval recall@10: 0.0327\n",
            "\t eval map@10: 0.0736\n",
            "\t eval ndcg@10: 0.1162\n",
            "==============================\n",
            "With lr_decay, epoch 5 learning rate: 0.000721389485988766\n"
          ]
        },
        {
          "output_type": "stream",
          "name": "stderr",
          "text": [
            "train: 100%|██████████| 1261/1261 [00:22<00:00, 56.11it/s]\n"
          ]
        },
        {
          "output_type": "stream",
          "name": "stdout",
          "text": [
            "Epoch 5 elapsed: 22.531s\n",
            "\t \u001b[32mtrain_loss: 0.2496\u001b[0m\n"
          ]
        },
        {
          "output_type": "stream",
          "name": "stderr",
          "text": [
            "eval_pred: 100%|██████████| 3/3 [00:00<00:00, 220.31it/s]\n",
            "eval_rec: 100%|██████████| 610/610 [00:00<00:00, 1723.66it/s]\n"
          ]
        },
        {
          "output_type": "stream",
          "name": "stdout",
          "text": [
            "\t eval log_loss: 0.6417\n",
            "\t eval roc_auc: 0.8092\n",
            "\t eval precision@10: 0.0326\n",
            "\t eval recall@10: 0.0378\n",
            "\t eval map@10: 0.0738\n",
            "\t eval ndcg@10: 0.1163\n",
            "==============================\n"
          ]
        },
        {
          "output_type": "stream",
          "name": "stderr",
          "text": [
            "eval_pred: 100%|██████████| 3/3 [00:00<00:00, 265.08it/s]\n",
            "eval_rec: 100%|██████████| 608/608 [00:00<00:00, 1579.42it/s]\n"
          ]
        },
        {
          "output_type": "display_data",
          "data": {
            "text/plain": [
              "<IPython.core.display.HTML object>"
            ],
            "text/html": [
              "Waiting for W&B process to finish... <strong style=\"color:green\">(success).</strong>"
            ]
          },
          "metadata": {}
        },
        {
          "output_type": "display_data",
          "data": {
            "text/plain": [
              "VBox(children=(Label(value='0.001 MB of 0.001 MB uploaded (0.000 MB deduped)\\r'), FloatProgress(value=1.0, max…"
            ],
            "application/vnd.jupyter.widget-view+json": {
              "version_major": 2,
              "version_minor": 0,
              "model_id": "ff7fe04bf7964eea8430ccba7034fdd1"
            }
          },
          "metadata": {}
        },
        {
          "output_type": "display_data",
          "data": {
            "text/plain": [
              "<IPython.core.display.HTML object>"
            ],
            "text/html": [
              "<style>\n",
              "    table.wandb td:nth-child(1) { padding: 0 10px; text-align: left ; width: auto;} td:nth-child(2) {text-align: left ; width: 100%}\n",
              "    .wandb-row { display: flex; flex-direction: row; flex-wrap: wrap; justify-content: flex-start; width: 100% }\n",
              "    .wandb-col { display: flex; flex-direction: column; flex-basis: 100%; flex: 1; padding: 10px; }\n",
              "    </style>\n",
              "<div class=\"wandb-row\"><div class=\"wandb-col\"><h3>Run history:</h3><br/><table class=\"wandb\"><tr><td>epoch</td><td>▁▃▅▆█</td></tr><tr><td>log_loss</td><td>▁▂▄▅█</td></tr><tr><td>loss</td><td>▁</td></tr><tr><td>map</td><td>▁</td></tr><tr><td>map@10</td><td>▁▅▇██</td></tr><tr><td>ndcg</td><td>▁</td></tr><tr><td>ndcg@10</td><td>▁▄▄██</td></tr><tr><td>precision</td><td>▁</td></tr><tr><td>precision@10</td><td>▅▇▁▆█</td></tr><tr><td>recall</td><td>▁</td></tr><tr><td>recall@10</td><td>▁▆▂▂█</td></tr><tr><td>roc_auc</td><td>█▇▆▇▅▁</td></tr><tr><td>train_loss</td><td>█▅▃▂▁</td></tr></table><br/></div><div class=\"wandb-col\"><h3>Run summary:</h3><br/><table class=\"wandb\"><tr><td>epoch</td><td>5</td></tr><tr><td>log_loss</td><td>0.6417</td></tr><tr><td>loss</td><td>0.7311</td></tr><tr><td>map</td><td>0.065</td></tr><tr><td>map@10</td><td>0.07384</td></tr><tr><td>ndcg</td><td>0.09702</td></tr><tr><td>ndcg@10</td><td>0.11626</td></tr><tr><td>precision</td><td>0.02632</td></tr><tr><td>precision@10</td><td>0.03262</td></tr><tr><td>recall</td><td>0.02754</td></tr><tr><td>recall@10</td><td>0.03778</td></tr><tr><td>roc_auc</td><td>0.77499</td></tr><tr><td>train_loss</td><td>0.2496</td></tr></table><br/></div></div>"
            ]
          },
          "metadata": {}
        },
        {
          "output_type": "display_data",
          "data": {
            "text/plain": [
              "<IPython.core.display.HTML object>"
            ],
            "text/html": [
              "Synced <strong style=\"color:#cdcd00\">absurd-sweep-16</strong>: <a href=\"https://wandb.ai/iloncka-ds/recsys-app/runs/ywocvhrd\" target=\"_blank\">https://wandb.ai/iloncka-ds/recsys-app/runs/ywocvhrd</a><br/>Synced 5 W&B file(s), 0 media file(s), 0 artifact file(s) and 0 other file(s)"
            ]
          },
          "metadata": {}
        },
        {
          "output_type": "display_data",
          "data": {
            "text/plain": [
              "<IPython.core.display.HTML object>"
            ],
            "text/html": [
              "Find logs at: <code>./wandb/run-20221106_144848-ywocvhrd/logs</code>"
            ]
          },
          "metadata": {}
        },
        {
          "output_type": "stream",
          "name": "stderr",
          "text": [
            "\u001b[34m\u001b[1mwandb\u001b[0m: Agent Starting Run: wkiic46g with config:\n",
            "\u001b[34m\u001b[1mwandb\u001b[0m: \tbatch_size: 64\n",
            "\u001b[34m\u001b[1mwandb\u001b[0m: \tembed_size: 32\n",
            "\u001b[34m\u001b[1mwandb\u001b[0m: \tlr: 0.01\n",
            "\u001b[34m\u001b[1mwandb\u001b[0m: \tn_epochs: 10\n",
            "Failed to detect the name of this notebook, you can set it manually with the WANDB_NOTEBOOK_NAME environment variable to enable code saving.\n"
          ]
        },
        {
          "output_type": "display_data",
          "data": {
            "text/plain": [
              "<IPython.core.display.HTML object>"
            ],
            "text/html": [
              "Tracking run with wandb version 0.13.5"
            ]
          },
          "metadata": {}
        },
        {
          "output_type": "display_data",
          "data": {
            "text/plain": [
              "<IPython.core.display.HTML object>"
            ],
            "text/html": [
              "Run data is saved locally in <code>/content/wandb/run-20221106_145059-wkiic46g</code>"
            ]
          },
          "metadata": {}
        },
        {
          "output_type": "display_data",
          "data": {
            "text/plain": [
              "<IPython.core.display.HTML object>"
            ],
            "text/html": [
              "Syncing run <strong><a href=\"https://wandb.ai/iloncka-ds/recsys-app/runs/wkiic46g\" target=\"_blank\">astral-sweep-17</a></strong> to <a href=\"https://wandb.ai/iloncka-ds/recsys-app\" target=\"_blank\">Weights & Biases</a> (<a href=\"https://wandb.me/run\" target=\"_blank\">docs</a>)<br/>Sweep page:  <a href=\"https://wandb.ai/iloncka-ds/recsys-app/sweeps/r5ls7bmj\" target=\"_blank\">https://wandb.ai/iloncka-ds/recsys-app/sweeps/r5ls7bmj</a>"
            ]
          },
          "metadata": {}
        },
        {
          "output_type": "stream",
          "name": "stdout",
          "text": [
            "total params: \u001b[33m821,981\u001b[0m | embedding params: \u001b[33m818,653\u001b[0m | network params: \u001b[33m3,328\u001b[0m\n",
            "Training start time: \u001b[35m2022-11-06 14:51:06\u001b[0m\n",
            "With lr_decay, epoch 1 learning rate: 0.009999999776482582\n"
          ]
        },
        {
          "output_type": "stream",
          "name": "stderr",
          "text": [
            "train: 100%|██████████| 2521/2521 [00:37<00:00, 68.00it/s]\n"
          ]
        },
        {
          "output_type": "stream",
          "name": "stdout",
          "text": [
            "Epoch 1 elapsed: 37.133s\n",
            "\t \u001b[32mtrain_loss: 0.5138\u001b[0m\n"
          ]
        },
        {
          "output_type": "stream",
          "name": "stderr",
          "text": [
            "eval_pred: 100%|██████████| 3/3 [00:00<00:00, 172.51it/s]\n",
            "eval_rec: 100%|██████████| 610/610 [00:00<00:00, 1646.50it/s]\n"
          ]
        },
        {
          "output_type": "stream",
          "name": "stdout",
          "text": [
            "\t eval log_loss: 0.5298\n",
            "\t eval roc_auc: 0.8354\n",
            "\t eval precision@10: 0.0318\n",
            "\t eval recall@10: 0.0316\n",
            "\t eval map@10: 0.0790\n",
            "\t eval ndcg@10: 0.1181\n",
            "==============================\n",
            "With lr_decay, epoch 2 learning rate: 0.009215999394655228\n"
          ]
        },
        {
          "output_type": "stream",
          "name": "stderr",
          "text": [
            "train: 100%|██████████| 2521/2521 [00:37<00:00, 66.93it/s]\n"
          ]
        },
        {
          "output_type": "stream",
          "name": "stdout",
          "text": [
            "Epoch 2 elapsed: 37.718s\n",
            "\t \u001b[32mtrain_loss: 0.2398\u001b[0m\n"
          ]
        },
        {
          "output_type": "stream",
          "name": "stderr",
          "text": [
            "eval_pred: 100%|██████████| 3/3 [00:00<00:00, 188.66it/s]\n",
            "eval_rec: 100%|██████████| 610/610 [00:00<00:00, 1650.15it/s]\n"
          ]
        },
        {
          "output_type": "stream",
          "name": "stdout",
          "text": [
            "\t eval log_loss: 0.7142\n",
            "\t eval roc_auc: 0.8002\n",
            "\t eval precision@10: 0.0272\n",
            "\t eval recall@10: 0.0251\n",
            "\t eval map@10: 0.0672\n",
            "\t eval ndcg@10: 0.1021\n",
            "==============================\n",
            "With lr_decay, epoch 3 learning rate: 0.008493464440107346\n"
          ]
        },
        {
          "output_type": "stream",
          "name": "stderr",
          "text": [
            "train: 100%|██████████| 2521/2521 [00:37<00:00, 66.84it/s]\n"
          ]
        },
        {
          "output_type": "stream",
          "name": "stdout",
          "text": [
            "Epoch 3 elapsed: 37.781s\n",
            "\t \u001b[32mtrain_loss: 0.0805\u001b[0m\n"
          ]
        },
        {
          "output_type": "stream",
          "name": "stderr",
          "text": [
            "eval_pred: 100%|██████████| 3/3 [00:00<00:00, 156.05it/s]\n",
            "eval_rec: 100%|██████████| 610/610 [00:00<00:00, 1308.64it/s]\n"
          ]
        },
        {
          "output_type": "stream",
          "name": "stdout",
          "text": [
            "\t eval log_loss: 0.9269\n",
            "\t eval roc_auc: 0.7769\n",
            "\t eval precision@10: 0.0236\n",
            "\t eval recall@10: 0.0227\n",
            "\t eval map@10: 0.0659\n",
            "\t eval ndcg@10: 0.0973\n",
            "==============================\n",
            "With lr_decay, epoch 4 learning rate: 0.00782757718116045\n"
          ]
        },
        {
          "output_type": "stream",
          "name": "stderr",
          "text": [
            "train: 100%|██████████| 2521/2521 [00:37<00:00, 67.36it/s]\n"
          ]
        },
        {
          "output_type": "stream",
          "name": "stdout",
          "text": [
            "Epoch 4 elapsed: 37.476s\n",
            "\t \u001b[32mtrain_loss: 0.0309\u001b[0m\n"
          ]
        },
        {
          "output_type": "stream",
          "name": "stderr",
          "text": [
            "eval_pred: 100%|██████████| 3/3 [00:00<00:00, 209.48it/s]\n",
            "eval_rec: 100%|██████████| 610/610 [00:00<00:00, 1517.51it/s]\n"
          ]
        },
        {
          "output_type": "stream",
          "name": "stdout",
          "text": [
            "\t eval log_loss: 1.1253\n",
            "\t eval roc_auc: 0.7833\n",
            "\t eval precision@10: 0.0205\n",
            "\t eval recall@10: 0.0185\n",
            "\t eval map@10: 0.0582\n",
            "\t eval ndcg@10: 0.0873\n",
            "==============================\n",
            "With lr_decay, epoch 5 learning rate: 0.007213894743472338\n"
          ]
        },
        {
          "output_type": "stream",
          "name": "stderr",
          "text": [
            "train: 100%|██████████| 2521/2521 [00:36<00:00, 68.34it/s]\n"
          ]
        },
        {
          "output_type": "stream",
          "name": "stdout",
          "text": [
            "Epoch 5 elapsed: 36.938s\n",
            "\t \u001b[32mtrain_loss: 0.0129\u001b[0m\n"
          ]
        },
        {
          "output_type": "stream",
          "name": "stderr",
          "text": [
            "eval_pred: 100%|██████████| 3/3 [00:00<00:00, 157.28it/s]\n",
            "eval_rec: 100%|██████████| 610/610 [00:00<00:00, 1593.45it/s]\n"
          ]
        },
        {
          "output_type": "stream",
          "name": "stdout",
          "text": [
            "\t eval log_loss: 1.2962\n",
            "\t eval roc_auc: 0.7900\n",
            "\t eval precision@10: 0.0238\n",
            "\t eval recall@10: 0.0218\n",
            "\t eval map@10: 0.0662\n",
            "\t eval ndcg@10: 0.0985\n",
            "==============================\n",
            "With lr_decay, epoch 6 learning rate: 0.006648324429988861\n"
          ]
        },
        {
          "output_type": "stream",
          "name": "stderr",
          "text": [
            "train: 100%|██████████| 2521/2521 [00:37<00:00, 67.73it/s]\n"
          ]
        },
        {
          "output_type": "stream",
          "name": "stdout",
          "text": [
            "Epoch 6 elapsed: 37.278s\n",
            "\t \u001b[32mtrain_loss: 0.0055\u001b[0m\n"
          ]
        },
        {
          "output_type": "stream",
          "name": "stderr",
          "text": [
            "eval_pred: 100%|██████████| 3/3 [00:00<00:00, 206.95it/s]\n",
            "eval_rec: 100%|██████████| 610/610 [00:00<00:00, 1373.66it/s]\n"
          ]
        },
        {
          "output_type": "stream",
          "name": "stdout",
          "text": [
            "\t eval log_loss: 1.4679\n",
            "\t eval roc_auc: 0.7876\n",
            "\t eval precision@10: 0.0231\n",
            "\t eval recall@10: 0.0221\n",
            "\t eval map@10: 0.0533\n",
            "\t eval ndcg@10: 0.0875\n",
            "==============================\n",
            "With lr_decay, epoch 7 learning rate: 0.006127095781266689\n"
          ]
        },
        {
          "output_type": "stream",
          "name": "stderr",
          "text": [
            "train: 100%|██████████| 2521/2521 [00:37<00:00, 67.51it/s]\n"
          ]
        },
        {
          "output_type": "stream",
          "name": "stdout",
          "text": [
            "Epoch 7 elapsed: 37.404s\n",
            "\t \u001b[32mtrain_loss: 0.0025\u001b[0m\n"
          ]
        },
        {
          "output_type": "stream",
          "name": "stderr",
          "text": [
            "eval_pred: 100%|██████████| 3/3 [00:00<00:00, 212.97it/s]\n",
            "eval_rec: 100%|██████████| 610/610 [00:00<00:00, 1629.66it/s]\n"
          ]
        },
        {
          "output_type": "stream",
          "name": "stdout",
          "text": [
            "\t eval log_loss: 1.5763\n",
            "\t eval roc_auc: 0.7826\n",
            "\t eval precision@10: 0.0189\n",
            "\t eval recall@10: 0.0144\n",
            "\t eval map@10: 0.0452\n",
            "\t eval ndcg@10: 0.0715\n",
            "==============================\n",
            "With lr_decay, epoch 8 learning rate: 0.005646731238812208\n"
          ]
        },
        {
          "output_type": "stream",
          "name": "stderr",
          "text": [
            "train: 100%|██████████| 2521/2521 [00:37<00:00, 66.96it/s]\n"
          ]
        },
        {
          "output_type": "stream",
          "name": "stdout",
          "text": [
            "Epoch 8 elapsed: 37.697s\n",
            "\t \u001b[32mtrain_loss: 0.0011\u001b[0m\n"
          ]
        },
        {
          "output_type": "stream",
          "name": "stderr",
          "text": [
            "eval_pred: 100%|██████████| 3/3 [00:00<00:00, 212.01it/s]\n",
            "eval_rec: 100%|██████████| 610/610 [00:00<00:00, 1589.09it/s]\n"
          ]
        },
        {
          "output_type": "stream",
          "name": "stdout",
          "text": [
            "\t eval log_loss: 1.7205\n",
            "\t eval roc_auc: 0.7849\n",
            "\t eval precision@10: 0.0179\n",
            "\t eval recall@10: 0.0177\n",
            "\t eval map@10: 0.0384\n",
            "\t eval ndcg@10: 0.0653\n",
            "==============================\n",
            "With lr_decay, epoch 9 learning rate: 0.0052040270529687405\n"
          ]
        },
        {
          "output_type": "stream",
          "name": "stderr",
          "text": [
            "train: 100%|██████████| 2521/2521 [00:37<00:00, 67.01it/s]\n"
          ]
        },
        {
          "output_type": "stream",
          "name": "stdout",
          "text": [
            "Epoch 9 elapsed: 37.673s\n",
            "\t \u001b[32mtrain_loss: 0.0005\u001b[0m\n"
          ]
        },
        {
          "output_type": "stream",
          "name": "stderr",
          "text": [
            "eval_pred: 100%|██████████| 3/3 [00:00<00:00, 137.36it/s]\n",
            "eval_rec: 100%|██████████| 610/610 [00:00<00:00, 1587.00it/s]\n"
          ]
        },
        {
          "output_type": "stream",
          "name": "stdout",
          "text": [
            "\t eval log_loss: 1.8358\n",
            "\t eval roc_auc: 0.7871\n",
            "\t eval precision@10: 0.0180\n",
            "\t eval recall@10: 0.0155\n",
            "\t eval map@10: 0.0451\n",
            "\t eval ndcg@10: 0.0704\n",
            "==============================\n",
            "With lr_decay, epoch 10 learning rate: 0.004796031396836042\n"
          ]
        },
        {
          "output_type": "stream",
          "name": "stderr",
          "text": [
            "train: 100%|██████████| 2521/2521 [00:37<00:00, 66.94it/s]\n"
          ]
        },
        {
          "output_type": "stream",
          "name": "stdout",
          "text": [
            "Epoch 10 elapsed: 37.717s\n",
            "\t \u001b[32mtrain_loss: 0.0002\u001b[0m\n"
          ]
        },
        {
          "output_type": "stream",
          "name": "stderr",
          "text": [
            "eval_pred: 100%|██████████| 3/3 [00:00<00:00, 195.72it/s]\n",
            "eval_rec: 100%|██████████| 610/610 [00:00<00:00, 1440.58it/s]\n"
          ]
        },
        {
          "output_type": "stream",
          "name": "stdout",
          "text": [
            "\t eval log_loss: 1.9451\n",
            "\t eval roc_auc: 0.7847\n",
            "\t eval precision@10: 0.0161\n",
            "\t eval recall@10: 0.0127\n",
            "\t eval map@10: 0.0378\n",
            "\t eval ndcg@10: 0.0594\n",
            "==============================\n"
          ]
        },
        {
          "output_type": "stream",
          "name": "stderr",
          "text": [
            "eval_pred: 100%|██████████| 3/3 [00:00<00:00, 207.30it/s]\n",
            "eval_rec: 100%|██████████| 608/608 [00:00<00:00, 1470.75it/s]\n"
          ]
        },
        {
          "output_type": "display_data",
          "data": {
            "text/plain": [
              "<IPython.core.display.HTML object>"
            ],
            "text/html": [
              "Waiting for W&B process to finish... <strong style=\"color:green\">(success).</strong>"
            ]
          },
          "metadata": {}
        },
        {
          "output_type": "display_data",
          "data": {
            "text/plain": [
              "<IPython.core.display.HTML object>"
            ],
            "text/html": [
              "<style>\n",
              "    table.wandb td:nth-child(1) { padding: 0 10px; text-align: left ; width: auto;} td:nth-child(2) {text-align: left ; width: 100%}\n",
              "    .wandb-row { display: flex; flex-direction: row; flex-wrap: wrap; justify-content: flex-start; width: 100% }\n",
              "    .wandb-col { display: flex; flex-direction: column; flex-basis: 100%; flex: 1; padding: 10px; }\n",
              "    </style>\n",
              "<div class=\"wandb-row\"><div class=\"wandb-col\"><h3>Run history:</h3><br/><table class=\"wandb\"><tr><td>epoch</td><td>▁▂▃▃▄▅▆▆▇█</td></tr><tr><td>log_loss</td><td>▁▂▃▄▅▆▆▇▇█</td></tr><tr><td>loss</td><td>▁</td></tr><tr><td>map</td><td>▁</td></tr><tr><td>map@10</td><td>█▆▆▄▆▄▂▁▂▁</td></tr><tr><td>ndcg</td><td>▁</td></tr><tr><td>ndcg@10</td><td>█▆▆▄▆▄▂▂▂▁</td></tr><tr><td>precision</td><td>▁</td></tr><tr><td>precision@10</td><td>█▆▄▃▄▄▂▂▂▁</td></tr><tr><td>recall</td><td>▁</td></tr><tr><td>recall@10</td><td>█▆▅▃▄▅▂▃▂▁</td></tr><tr><td>roc_auc</td><td>█▅▃▄▄▄▃▄▄▄▁</td></tr><tr><td>train_loss</td><td>█▄▂▁▁▁▁▁▁▁</td></tr></table><br/></div><div class=\"wandb-col\"><h3>Run summary:</h3><br/><table class=\"wandb\"><tr><td>epoch</td><td>10</td></tr><tr><td>log_loss</td><td>1.94514</td></tr><tr><td>loss</td><td>2.20044</td></tr><tr><td>map</td><td>0.04258</td></tr><tr><td>map@10</td><td>0.03777</td></tr><tr><td>ndcg</td><td>0.06443</td></tr><tr><td>ndcg@10</td><td>0.05941</td></tr><tr><td>precision</td><td>0.01595</td></tr><tr><td>precision@10</td><td>0.01607</td></tr><tr><td>recall</td><td>0.01446</td></tr><tr><td>recall@10</td><td>0.01267</td></tr><tr><td>roc_auc</td><td>0.75375</td></tr><tr><td>train_loss</td><td>0.0002</td></tr></table><br/></div></div>"
            ]
          },
          "metadata": {}
        },
        {
          "output_type": "display_data",
          "data": {
            "text/plain": [
              "<IPython.core.display.HTML object>"
            ],
            "text/html": [
              "Synced <strong style=\"color:#cdcd00\">astral-sweep-17</strong>: <a href=\"https://wandb.ai/iloncka-ds/recsys-app/runs/wkiic46g\" target=\"_blank\">https://wandb.ai/iloncka-ds/recsys-app/runs/wkiic46g</a><br/>Synced 5 W&B file(s), 0 media file(s), 0 artifact file(s) and 0 other file(s)"
            ]
          },
          "metadata": {}
        },
        {
          "output_type": "display_data",
          "data": {
            "text/plain": [
              "<IPython.core.display.HTML object>"
            ],
            "text/html": [
              "Find logs at: <code>./wandb/run-20221106_145059-wkiic46g/logs</code>"
            ]
          },
          "metadata": {}
        },
        {
          "output_type": "stream",
          "name": "stderr",
          "text": [
            "\u001b[34m\u001b[1mwandb\u001b[0m: Agent Starting Run: rr439453 with config:\n",
            "\u001b[34m\u001b[1mwandb\u001b[0m: \tbatch_size: 64\n",
            "\u001b[34m\u001b[1mwandb\u001b[0m: \tembed_size: 16\n",
            "\u001b[34m\u001b[1mwandb\u001b[0m: \tlr: 0.01\n",
            "\u001b[34m\u001b[1mwandb\u001b[0m: \tn_epochs: 10\n",
            "Failed to detect the name of this notebook, you can set it manually with the WANDB_NOTEBOOK_NAME environment variable to enable code saving.\n"
          ]
        },
        {
          "output_type": "display_data",
          "data": {
            "text/plain": [
              "<IPython.core.display.HTML object>"
            ],
            "text/html": [
              "Tracking run with wandb version 0.13.5"
            ]
          },
          "metadata": {}
        },
        {
          "output_type": "display_data",
          "data": {
            "text/plain": [
              "<IPython.core.display.HTML object>"
            ],
            "text/html": [
              "Run data is saved locally in <code>/content/wandb/run-20221106_145743-rr439453</code>"
            ]
          },
          "metadata": {}
        },
        {
          "output_type": "display_data",
          "data": {
            "text/plain": [
              "<IPython.core.display.HTML object>"
            ],
            "text/html": [
              "Syncing run <strong><a href=\"https://wandb.ai/iloncka-ds/recsys-app/runs/rr439453\" target=\"_blank\">cool-sweep-18</a></strong> to <a href=\"https://wandb.ai/iloncka-ds/recsys-app\" target=\"_blank\">Weights & Biases</a> (<a href=\"https://wandb.me/run\" target=\"_blank\">docs</a>)<br/>Sweep page:  <a href=\"https://wandb.ai/iloncka-ds/recsys-app/sweeps/r5ls7bmj\" target=\"_blank\">https://wandb.ai/iloncka-ds/recsys-app/sweeps/r5ls7bmj</a>"
            ]
          },
          "metadata": {}
        },
        {
          "output_type": "stream",
          "name": "stdout",
          "text": [
            "total params: \u001b[33m416,045\u001b[0m | embedding params: \u001b[33m413,485\u001b[0m | network params: \u001b[33m2,560\u001b[0m\n",
            "Training start time: \u001b[35m2022-11-06 14:57:49\u001b[0m\n",
            "With lr_decay, epoch 1 learning rate: 0.009999999776482582\n"
          ]
        },
        {
          "output_type": "stream",
          "name": "stderr",
          "text": [
            "train: 100%|██████████| 2521/2521 [00:32<00:00, 78.71it/s]\n"
          ]
        },
        {
          "output_type": "stream",
          "name": "stdout",
          "text": [
            "Epoch 1 elapsed: 32.089s\n",
            "\t \u001b[32mtrain_loss: 0.5003\u001b[0m\n"
          ]
        },
        {
          "output_type": "stream",
          "name": "stderr",
          "text": [
            "eval_pred: 100%|██████████| 3/3 [00:00<00:00, 187.56it/s]\n",
            "eval_rec: 100%|██████████| 610/610 [00:00<00:00, 1772.03it/s]\n"
          ]
        },
        {
          "output_type": "stream",
          "name": "stdout",
          "text": [
            "\t eval log_loss: 0.5281\n",
            "\t eval roc_auc: 0.8344\n",
            "\t eval precision@10: 0.0316\n",
            "\t eval recall@10: 0.0380\n",
            "\t eval map@10: 0.0854\n",
            "\t eval ndcg@10: 0.1239\n",
            "==============================\n",
            "With lr_decay, epoch 2 learning rate: 0.009215999394655228\n"
          ]
        },
        {
          "output_type": "stream",
          "name": "stderr",
          "text": [
            "train: 100%|██████████| 2521/2521 [00:31<00:00, 79.62it/s]\n"
          ]
        },
        {
          "output_type": "stream",
          "name": "stdout",
          "text": [
            "Epoch 2 elapsed: 31.715s\n",
            "\t \u001b[32mtrain_loss: 0.2942\u001b[0m\n"
          ]
        },
        {
          "output_type": "stream",
          "name": "stderr",
          "text": [
            "eval_pred: 100%|██████████| 3/3 [00:00<00:00, 180.39it/s]\n",
            "eval_rec: 100%|██████████| 610/610 [00:00<00:00, 761.62it/s]\n"
          ]
        },
        {
          "output_type": "stream",
          "name": "stdout",
          "text": [
            "\t eval log_loss: 0.6133\n",
            "\t eval roc_auc: 0.8225\n",
            "\t eval precision@10: 0.0289\n",
            "\t eval recall@10: 0.0244\n",
            "\t eval map@10: 0.0753\n",
            "\t eval ndcg@10: 0.1093\n",
            "==============================\n",
            "With lr_decay, epoch 3 learning rate: 0.008493464440107346\n"
          ]
        },
        {
          "output_type": "stream",
          "name": "stderr",
          "text": [
            "train: 100%|██████████| 2521/2521 [00:32<00:00, 78.47it/s]\n"
          ]
        },
        {
          "output_type": "stream",
          "name": "stdout",
          "text": [
            "Epoch 3 elapsed: 32.188s\n",
            "\t \u001b[32mtrain_loss: 0.1694\u001b[0m\n"
          ]
        },
        {
          "output_type": "stream",
          "name": "stderr",
          "text": [
            "eval_pred: 100%|██████████| 3/3 [00:00<00:00, 235.23it/s]\n",
            "eval_rec: 100%|██████████| 610/610 [00:00<00:00, 1720.06it/s]\n"
          ]
        },
        {
          "output_type": "stream",
          "name": "stdout",
          "text": [
            "\t eval log_loss: 0.7935\n",
            "\t eval roc_auc: 0.7891\n",
            "\t eval precision@10: 0.0226\n",
            "\t eval recall@10: 0.0213\n",
            "\t eval map@10: 0.0608\n",
            "\t eval ndcg@10: 0.0906\n",
            "==============================\n",
            "With lr_decay, epoch 4 learning rate: 0.00782757718116045\n"
          ]
        },
        {
          "output_type": "stream",
          "name": "stderr",
          "text": [
            "train: 100%|██████████| 2521/2521 [00:31<00:00, 80.90it/s]\n"
          ]
        },
        {
          "output_type": "stream",
          "name": "stdout",
          "text": [
            "Epoch 4 elapsed: 31.215s\n",
            "\t \u001b[32mtrain_loss: 0.1084\u001b[0m\n"
          ]
        },
        {
          "output_type": "stream",
          "name": "stderr",
          "text": [
            "eval_pred: 100%|██████████| 3/3 [00:00<00:00, 207.81it/s]\n",
            "eval_rec: 100%|██████████| 610/610 [00:00<00:00, 1646.09it/s]\n"
          ]
        },
        {
          "output_type": "stream",
          "name": "stdout",
          "text": [
            "\t eval log_loss: 1.0162\n",
            "\t eval roc_auc: 0.7800\n",
            "\t eval precision@10: 0.0216\n",
            "\t eval recall@10: 0.0164\n",
            "\t eval map@10: 0.0537\n",
            "\t eval ndcg@10: 0.0812\n",
            "==============================\n",
            "With lr_decay, epoch 5 learning rate: 0.007213894743472338\n"
          ]
        },
        {
          "output_type": "stream",
          "name": "stderr",
          "text": [
            "train: 100%|██████████| 2521/2521 [00:31<00:00, 79.93it/s]\n"
          ]
        },
        {
          "output_type": "stream",
          "name": "stdout",
          "text": [
            "Epoch 5 elapsed: 31.601s\n",
            "\t \u001b[32mtrain_loss: 0.0758\u001b[0m\n"
          ]
        },
        {
          "output_type": "stream",
          "name": "stderr",
          "text": [
            "eval_pred: 100%|██████████| 3/3 [00:00<00:00, 223.99it/s]\n",
            "eval_rec: 100%|██████████| 610/610 [00:00<00:00, 1653.49it/s]\n"
          ]
        },
        {
          "output_type": "stream",
          "name": "stdout",
          "text": [
            "\t eval log_loss: 1.0926\n",
            "\t eval roc_auc: 0.7995\n",
            "\t eval precision@10: 0.0211\n",
            "\t eval recall@10: 0.0153\n",
            "\t eval map@10: 0.0670\n",
            "\t eval ndcg@10: 0.0934\n",
            "==============================\n",
            "With lr_decay, epoch 6 learning rate: 0.006648324429988861\n"
          ]
        },
        {
          "output_type": "stream",
          "name": "stderr",
          "text": [
            "train: 100%|██████████| 2521/2521 [00:31<00:00, 79.77it/s]\n"
          ]
        },
        {
          "output_type": "stream",
          "name": "stdout",
          "text": [
            "Epoch 6 elapsed: 31.657s\n",
            "\t \u001b[32mtrain_loss: 0.0558\u001b[0m\n"
          ]
        },
        {
          "output_type": "stream",
          "name": "stderr",
          "text": [
            "eval_pred: 100%|██████████| 3/3 [00:00<00:00, 157.53it/s]\n",
            "eval_rec: 100%|██████████| 610/610 [00:00<00:00, 1698.03it/s]\n"
          ]
        },
        {
          "output_type": "stream",
          "name": "stdout",
          "text": [
            "\t eval log_loss: 1.2484\n",
            "\t eval roc_auc: 0.7936\n",
            "\t eval precision@10: 0.0221\n",
            "\t eval recall@10: 0.0161\n",
            "\t eval map@10: 0.0596\n",
            "\t eval ndcg@10: 0.0898\n",
            "==============================\n",
            "With lr_decay, epoch 7 learning rate: 0.006127095781266689\n"
          ]
        },
        {
          "output_type": "stream",
          "name": "stderr",
          "text": [
            "train: 100%|██████████| 2521/2521 [00:31<00:00, 79.20it/s]\n"
          ]
        },
        {
          "output_type": "stream",
          "name": "stdout",
          "text": [
            "Epoch 7 elapsed: 31.889s\n",
            "\t \u001b[32mtrain_loss: 0.0405\u001b[0m\n"
          ]
        },
        {
          "output_type": "stream",
          "name": "stderr",
          "text": [
            "eval_pred: 100%|██████████| 3/3 [00:00<00:00, 150.22it/s]\n",
            "eval_rec: 100%|██████████| 610/610 [00:00<00:00, 1567.31it/s]\n"
          ]
        },
        {
          "output_type": "stream",
          "name": "stdout",
          "text": [
            "\t eval log_loss: 1.3494\n",
            "\t eval roc_auc: 0.7894\n",
            "\t eval precision@10: 0.0192\n",
            "\t eval recall@10: 0.0122\n",
            "\t eval map@10: 0.0525\n",
            "\t eval ndcg@10: 0.0784\n",
            "==============================\n",
            "With lr_decay, epoch 8 learning rate: 0.005646731238812208\n"
          ]
        },
        {
          "output_type": "stream",
          "name": "stderr",
          "text": [
            "train: 100%|██████████| 2521/2521 [00:31<00:00, 80.15it/s]\n"
          ]
        },
        {
          "output_type": "stream",
          "name": "stdout",
          "text": [
            "Epoch 8 elapsed: 31.503s\n",
            "\t \u001b[32mtrain_loss: 0.0308\u001b[0m\n"
          ]
        },
        {
          "output_type": "stream",
          "name": "stderr",
          "text": [
            "eval_pred: 100%|██████████| 3/3 [00:00<00:00, 210.95it/s]\n",
            "eval_rec: 100%|██████████| 610/610 [00:00<00:00, 1696.76it/s]\n"
          ]
        },
        {
          "output_type": "stream",
          "name": "stdout",
          "text": [
            "\t eval log_loss: 1.4794\n",
            "\t eval roc_auc: 0.7847\n",
            "\t eval precision@10: 0.0193\n",
            "\t eval recall@10: 0.0129\n",
            "\t eval map@10: 0.0454\n",
            "\t eval ndcg@10: 0.0722\n",
            "==============================\n",
            "With lr_decay, epoch 9 learning rate: 0.0052040270529687405\n"
          ]
        },
        {
          "output_type": "stream",
          "name": "stderr",
          "text": [
            "train: 100%|██████████| 2521/2521 [00:31<00:00, 79.95it/s]\n"
          ]
        },
        {
          "output_type": "stream",
          "name": "stdout",
          "text": [
            "Epoch 9 elapsed: 31.582s\n",
            "\t \u001b[32mtrain_loss: 0.0229\u001b[0m\n"
          ]
        },
        {
          "output_type": "stream",
          "name": "stderr",
          "text": [
            "eval_pred: 100%|██████████| 3/3 [00:00<00:00, 185.46it/s]\n",
            "eval_rec: 100%|██████████| 610/610 [00:00<00:00, 1716.09it/s]\n"
          ]
        },
        {
          "output_type": "stream",
          "name": "stdout",
          "text": [
            "\t eval log_loss: 1.6067\n",
            "\t eval roc_auc: 0.7862\n",
            "\t eval precision@10: 0.0167\n",
            "\t eval recall@10: 0.0111\n",
            "\t eval map@10: 0.0471\n",
            "\t eval ndcg@10: 0.0684\n",
            "==============================\n",
            "With lr_decay, epoch 10 learning rate: 0.004796031396836042\n"
          ]
        },
        {
          "output_type": "stream",
          "name": "stderr",
          "text": [
            "train: 100%|██████████| 2521/2521 [00:31<00:00, 80.45it/s]\n"
          ]
        },
        {
          "output_type": "stream",
          "name": "stdout",
          "text": [
            "Epoch 10 elapsed: 31.395s\n",
            "\t \u001b[32mtrain_loss: 0.0182\u001b[0m\n"
          ]
        },
        {
          "output_type": "stream",
          "name": "stderr",
          "text": [
            "eval_pred: 100%|██████████| 3/3 [00:00<00:00, 222.42it/s]\n",
            "eval_rec: 100%|██████████| 610/610 [00:00<00:00, 1813.67it/s]\n"
          ]
        },
        {
          "output_type": "stream",
          "name": "stdout",
          "text": [
            "\t eval log_loss: 1.7261\n",
            "\t eval roc_auc: 0.7892\n",
            "\t eval precision@10: 0.0180\n",
            "\t eval recall@10: 0.0144\n",
            "\t eval map@10: 0.0459\n",
            "\t eval ndcg@10: 0.0671\n",
            "==============================\n"
          ]
        },
        {
          "output_type": "stream",
          "name": "stderr",
          "text": [
            "eval_pred: 100%|██████████| 3/3 [00:00<00:00, 246.11it/s]\n",
            "eval_rec: 100%|██████████| 608/608 [00:00<00:00, 1709.44it/s]\n"
          ]
        },
        {
          "output_type": "display_data",
          "data": {
            "text/plain": [
              "<IPython.core.display.HTML object>"
            ],
            "text/html": [
              "Waiting for W&B process to finish... <strong style=\"color:green\">(success).</strong>"
            ]
          },
          "metadata": {}
        },
        {
          "output_type": "display_data",
          "data": {
            "text/plain": [
              "<IPython.core.display.HTML object>"
            ],
            "text/html": [
              "<style>\n",
              "    table.wandb td:nth-child(1) { padding: 0 10px; text-align: left ; width: auto;} td:nth-child(2) {text-align: left ; width: 100%}\n",
              "    .wandb-row { display: flex; flex-direction: row; flex-wrap: wrap; justify-content: flex-start; width: 100% }\n",
              "    .wandb-col { display: flex; flex-direction: column; flex-basis: 100%; flex: 1; padding: 10px; }\n",
              "    </style>\n",
              "<div class=\"wandb-row\"><div class=\"wandb-col\"><h3>Run history:</h3><br/><table class=\"wandb\"><tr><td>epoch</td><td>▁▂▃▃▄▅▆▆▇█</td></tr><tr><td>log_loss</td><td>▁▁▃▄▄▅▆▇▇█</td></tr><tr><td>loss</td><td>▁</td></tr><tr><td>map</td><td>▁</td></tr><tr><td>map@10</td><td>█▆▄▂▅▃▂▁▁▁</td></tr><tr><td>ndcg</td><td>▁</td></tr><tr><td>ndcg@10</td><td>█▆▄▃▄▄▂▂▁▁</td></tr><tr><td>precision</td><td>▁</td></tr><tr><td>precision@10</td><td>█▇▄▃▃▄▂▂▁▂</td></tr><tr><td>recall</td><td>▁</td></tr><tr><td>recall@10</td><td>█▄▄▂▂▂▁▁▁▂</td></tr><tr><td>roc_auc</td><td>█▇▄▃▅▄▄▄▄▄▁</td></tr><tr><td>train_loss</td><td>█▅▃▂▂▂▁▁▁▁</td></tr></table><br/></div><div class=\"wandb-col\"><h3>Run summary:</h3><br/><table class=\"wandb\"><tr><td>epoch</td><td>10</td></tr><tr><td>log_loss</td><td>1.72612</td></tr><tr><td>loss</td><td>1.99656</td></tr><tr><td>map</td><td>0.03181</td></tr><tr><td>map@10</td><td>0.04587</td></tr><tr><td>ndcg</td><td>0.05239</td></tr><tr><td>ndcg@10</td><td>0.06712</td></tr><tr><td>precision</td><td>0.01316</td></tr><tr><td>precision@10</td><td>0.01803</td></tr><tr><td>recall</td><td>0.01243</td></tr><tr><td>recall@10</td><td>0.01436</td></tr><tr><td>roc_auc</td><td>0.75638</td></tr><tr><td>train_loss</td><td>0.0182</td></tr></table><br/></div></div>"
            ]
          },
          "metadata": {}
        },
        {
          "output_type": "display_data",
          "data": {
            "text/plain": [
              "<IPython.core.display.HTML object>"
            ],
            "text/html": [
              "Synced <strong style=\"color:#cdcd00\">cool-sweep-18</strong>: <a href=\"https://wandb.ai/iloncka-ds/recsys-app/runs/rr439453\" target=\"_blank\">https://wandb.ai/iloncka-ds/recsys-app/runs/rr439453</a><br/>Synced 5 W&B file(s), 0 media file(s), 0 artifact file(s) and 0 other file(s)"
            ]
          },
          "metadata": {}
        },
        {
          "output_type": "display_data",
          "data": {
            "text/plain": [
              "<IPython.core.display.HTML object>"
            ],
            "text/html": [
              "Find logs at: <code>./wandb/run-20221106_145743-rr439453/logs</code>"
            ]
          },
          "metadata": {}
        },
        {
          "output_type": "stream",
          "name": "stderr",
          "text": [
            "\u001b[34m\u001b[1mwandb\u001b[0m: Agent Starting Run: 7iqpqto2 with config:\n",
            "\u001b[34m\u001b[1mwandb\u001b[0m: \tbatch_size: 64\n",
            "\u001b[34m\u001b[1mwandb\u001b[0m: \tembed_size: 32\n",
            "\u001b[34m\u001b[1mwandb\u001b[0m: \tlr: 0.0001\n",
            "\u001b[34m\u001b[1mwandb\u001b[0m: \tn_epochs: 10\n",
            "Failed to detect the name of this notebook, you can set it manually with the WANDB_NOTEBOOK_NAME environment variable to enable code saving.\n"
          ]
        },
        {
          "output_type": "display_data",
          "data": {
            "text/plain": [
              "<IPython.core.display.HTML object>"
            ],
            "text/html": [
              "Tracking run with wandb version 0.13.5"
            ]
          },
          "metadata": {}
        },
        {
          "output_type": "display_data",
          "data": {
            "text/plain": [
              "<IPython.core.display.HTML object>"
            ],
            "text/html": [
              "Run data is saved locally in <code>/content/wandb/run-20221106_150323-7iqpqto2</code>"
            ]
          },
          "metadata": {}
        },
        {
          "output_type": "display_data",
          "data": {
            "text/plain": [
              "<IPython.core.display.HTML object>"
            ],
            "text/html": [
              "Syncing run <strong><a href=\"https://wandb.ai/iloncka-ds/recsys-app/runs/7iqpqto2\" target=\"_blank\">dauntless-sweep-19</a></strong> to <a href=\"https://wandb.ai/iloncka-ds/recsys-app\" target=\"_blank\">Weights & Biases</a> (<a href=\"https://wandb.me/run\" target=\"_blank\">docs</a>)<br/>Sweep page:  <a href=\"https://wandb.ai/iloncka-ds/recsys-app/sweeps/r5ls7bmj\" target=\"_blank\">https://wandb.ai/iloncka-ds/recsys-app/sweeps/r5ls7bmj</a>"
            ]
          },
          "metadata": {}
        },
        {
          "output_type": "stream",
          "name": "stdout",
          "text": [
            "total params: \u001b[33m821,981\u001b[0m | embedding params: \u001b[33m818,653\u001b[0m | network params: \u001b[33m3,328\u001b[0m\n",
            "Training start time: \u001b[35m2022-11-06 15:03:30\u001b[0m\n",
            "With lr_decay, epoch 1 learning rate: 9.999999747378752e-05\n"
          ]
        },
        {
          "output_type": "stream",
          "name": "stderr",
          "text": [
            "train: 100%|██████████| 2521/2521 [00:38<00:00, 65.24it/s]\n"
          ]
        },
        {
          "output_type": "stream",
          "name": "stdout",
          "text": [
            "Epoch 1 elapsed: 38.700s\n",
            "\t \u001b[32mtrain_loss: 0.544\u001b[0m\n"
          ]
        },
        {
          "output_type": "stream",
          "name": "stderr",
          "text": [
            "eval_pred: 100%|██████████| 3/3 [00:00<00:00, 159.94it/s]\n",
            "eval_rec: 100%|██████████| 610/610 [00:00<00:00, 1602.62it/s]\n"
          ]
        },
        {
          "output_type": "stream",
          "name": "stdout",
          "text": [
            "\t eval log_loss: 0.5039\n",
            "\t eval roc_auc: 0.8373\n",
            "\t eval precision@10: 0.0310\n",
            "\t eval recall@10: 0.0308\n",
            "\t eval map@10: 0.0697\n",
            "\t eval ndcg@10: 0.1033\n",
            "==============================\n",
            "With lr_decay, epoch 2 learning rate: 9.215999307343736e-05\n"
          ]
        },
        {
          "output_type": "stream",
          "name": "stderr",
          "text": [
            "train: 100%|██████████| 2521/2521 [00:38<00:00, 65.54it/s]\n"
          ]
        },
        {
          "output_type": "stream",
          "name": "stdout",
          "text": [
            "Epoch 2 elapsed: 38.517s\n",
            "\t \u001b[32mtrain_loss: 0.4364\u001b[0m\n"
          ]
        },
        {
          "output_type": "stream",
          "name": "stderr",
          "text": [
            "eval_pred: 100%|██████████| 3/3 [00:00<00:00, 210.46it/s]\n",
            "eval_rec: 100%|██████████| 610/610 [00:00<00:00, 1440.49it/s]\n"
          ]
        },
        {
          "output_type": "stream",
          "name": "stdout",
          "text": [
            "\t eval log_loss: 0.5027\n",
            "\t eval roc_auc: 0.8397\n",
            "\t eval precision@10: 0.0305\n",
            "\t eval recall@10: 0.0293\n",
            "\t eval map@10: 0.0702\n",
            "\t eval ndcg@10: 0.1057\n",
            "==============================\n",
            "With lr_decay, epoch 3 learning rate: 8.49346470204182e-05\n"
          ]
        },
        {
          "output_type": "stream",
          "name": "stderr",
          "text": [
            "train: 100%|██████████| 2521/2521 [00:38<00:00, 66.20it/s]\n"
          ]
        },
        {
          "output_type": "stream",
          "name": "stdout",
          "text": [
            "Epoch 3 elapsed: 38.132s\n",
            "\t \u001b[32mtrain_loss: 0.4134\u001b[0m\n"
          ]
        },
        {
          "output_type": "stream",
          "name": "stderr",
          "text": [
            "eval_pred: 100%|██████████| 3/3 [00:00<00:00, 226.21it/s]\n",
            "eval_rec: 100%|██████████| 610/610 [00:00<00:00, 1578.28it/s]\n"
          ]
        },
        {
          "output_type": "stream",
          "name": "stdout",
          "text": [
            "\t eval log_loss: 0.5113\n",
            "\t eval roc_auc: 0.8348\n",
            "\t eval precision@10: 0.0302\n",
            "\t eval recall@10: 0.0283\n",
            "\t eval map@10: 0.0716\n",
            "\t eval ndcg@10: 0.1069\n",
            "==============================\n",
            "With lr_decay, epoch 4 learning rate: 7.827577064745128e-05\n"
          ]
        },
        {
          "output_type": "stream",
          "name": "stderr",
          "text": [
            "train: 100%|██████████| 2521/2521 [00:38<00:00, 65.95it/s]\n"
          ]
        },
        {
          "output_type": "stream",
          "name": "stdout",
          "text": [
            "Epoch 4 elapsed: 38.288s\n",
            "\t \u001b[32mtrain_loss: 0.3995\u001b[0m\n"
          ]
        },
        {
          "output_type": "stream",
          "name": "stderr",
          "text": [
            "eval_pred: 100%|██████████| 3/3 [00:00<00:00, 185.43it/s]\n",
            "eval_rec: 100%|██████████| 610/610 [00:00<00:00, 1434.47it/s]\n"
          ]
        },
        {
          "output_type": "stream",
          "name": "stdout",
          "text": [
            "\t eval log_loss: 0.5280\n",
            "\t eval roc_auc: 0.8307\n",
            "\t eval precision@10: 0.0287\n",
            "\t eval recall@10: 0.0272\n",
            "\t eval map@10: 0.0669\n",
            "\t eval ndcg@10: 0.1010\n",
            "==============================\n",
            "With lr_decay, epoch 5 learning rate: 7.213894423330203e-05\n"
          ]
        },
        {
          "output_type": "stream",
          "name": "stderr",
          "text": [
            "train: 100%|██████████| 2521/2521 [00:38<00:00, 66.24it/s]\n"
          ]
        },
        {
          "output_type": "stream",
          "name": "stdout",
          "text": [
            "Epoch 5 elapsed: 38.109s\n",
            "\t \u001b[32mtrain_loss: 0.3883\u001b[0m\n"
          ]
        },
        {
          "output_type": "stream",
          "name": "stderr",
          "text": [
            "eval_pred: 100%|██████████| 3/3 [00:00<00:00, 188.79it/s]\n",
            "eval_rec: 100%|██████████| 610/610 [00:00<00:00, 1391.01it/s]\n"
          ]
        },
        {
          "output_type": "stream",
          "name": "stdout",
          "text": [
            "\t eval log_loss: 0.5437\n",
            "\t eval roc_auc: 0.8231\n",
            "\t eval precision@10: 0.0280\n",
            "\t eval recall@10: 0.0270\n",
            "\t eval map@10: 0.0673\n",
            "\t eval ndcg@10: 0.1015\n",
            "==============================\n",
            "With lr_decay, epoch 6 learning rate: 6.648324779234827e-05\n"
          ]
        },
        {
          "output_type": "stream",
          "name": "stderr",
          "text": [
            "train: 100%|██████████| 2521/2521 [00:38<00:00, 66.08it/s]\n"
          ]
        },
        {
          "output_type": "stream",
          "name": "stdout",
          "text": [
            "Epoch 6 elapsed: 38.203s\n",
            "\t \u001b[32mtrain_loss: 0.3788\u001b[0m\n"
          ]
        },
        {
          "output_type": "stream",
          "name": "stderr",
          "text": [
            "eval_pred: 100%|██████████| 3/3 [00:00<00:00, 181.29it/s]\n",
            "eval_rec: 100%|██████████| 610/610 [00:00<00:00, 1675.99it/s]\n"
          ]
        },
        {
          "output_type": "stream",
          "name": "stdout",
          "text": [
            "\t eval log_loss: 0.5529\n",
            "\t eval roc_auc: 0.8195\n",
            "\t eval precision@10: 0.0284\n",
            "\t eval recall@10: 0.0263\n",
            "\t eval map@10: 0.0702\n",
            "\t eval ndcg@10: 0.1036\n",
            "==============================\n",
            "With lr_decay, epoch 7 learning rate: 6.127095548436046e-05\n"
          ]
        },
        {
          "output_type": "stream",
          "name": "stderr",
          "text": [
            "train: 100%|██████████| 2521/2521 [00:38<00:00, 65.53it/s]\n"
          ]
        },
        {
          "output_type": "stream",
          "name": "stdout",
          "text": [
            "Epoch 7 elapsed: 38.527s\n",
            "\t \u001b[32mtrain_loss: 0.3706\u001b[0m\n"
          ]
        },
        {
          "output_type": "stream",
          "name": "stderr",
          "text": [
            "eval_pred: 100%|██████████| 3/3 [00:00<00:00, 179.53it/s]\n",
            "eval_rec: 100%|██████████| 610/610 [00:00<00:00, 1533.37it/s]\n"
          ]
        },
        {
          "output_type": "stream",
          "name": "stdout",
          "text": [
            "\t eval log_loss: 0.5637\n",
            "\t eval roc_auc: 0.8167\n",
            "\t eval precision@10: 0.0303\n",
            "\t eval recall@10: 0.0301\n",
            "\t eval map@10: 0.0708\n",
            "\t eval ndcg@10: 0.1067\n",
            "==============================\n",
            "With lr_decay, epoch 8 learning rate: 5.6467310059815645e-05\n"
          ]
        },
        {
          "output_type": "stream",
          "name": "stderr",
          "text": [
            "train: 100%|██████████| 2521/2521 [00:38<00:00, 65.14it/s]\n"
          ]
        },
        {
          "output_type": "stream",
          "name": "stdout",
          "text": [
            "Epoch 8 elapsed: 38.757s\n",
            "\t \u001b[32mtrain_loss: 0.3635\u001b[0m\n"
          ]
        },
        {
          "output_type": "stream",
          "name": "stderr",
          "text": [
            "eval_pred: 100%|██████████| 3/3 [00:00<00:00, 169.35it/s]\n",
            "eval_rec: 100%|██████████| 610/610 [00:00<00:00, 1510.80it/s]\n"
          ]
        },
        {
          "output_type": "stream",
          "name": "stdout",
          "text": [
            "\t eval log_loss: 0.5762\n",
            "\t eval roc_auc: 0.8180\n",
            "\t eval precision@10: 0.0300\n",
            "\t eval recall@10: 0.0272\n",
            "\t eval map@10: 0.0721\n",
            "\t eval ndcg@10: 0.1072\n",
            "==============================\n",
            "With lr_decay, epoch 9 learning rate: 5.2040271839359775e-05\n"
          ]
        },
        {
          "output_type": "stream",
          "name": "stderr",
          "text": [
            "train: 100%|██████████| 2521/2521 [00:37<00:00, 67.46it/s]\n"
          ]
        },
        {
          "output_type": "stream",
          "name": "stdout",
          "text": [
            "Epoch 9 elapsed: 37.427s\n",
            "\t \u001b[32mtrain_loss: 0.3565\u001b[0m\n"
          ]
        },
        {
          "output_type": "stream",
          "name": "stderr",
          "text": [
            "eval_pred: 100%|██████████| 3/3 [00:00<00:00, 118.32it/s]\n",
            "eval_rec: 100%|██████████| 610/610 [00:00<00:00, 1575.11it/s]\n"
          ]
        },
        {
          "output_type": "stream",
          "name": "stdout",
          "text": [
            "\t eval log_loss: 0.5810\n",
            "\t eval roc_auc: 0.8179\n",
            "\t eval precision@10: 0.0290\n",
            "\t eval recall@10: 0.0271\n",
            "\t eval map@10: 0.0677\n",
            "\t eval ndcg@10: 0.1021\n",
            "==============================\n",
            "With lr_decay, epoch 10 learning rate: 4.796031134901568e-05\n"
          ]
        },
        {
          "output_type": "stream",
          "name": "stderr",
          "text": [
            "train: 100%|██████████| 2521/2521 [00:37<00:00, 67.84it/s]\n"
          ]
        },
        {
          "output_type": "stream",
          "name": "stdout",
          "text": [
            "Epoch 10 elapsed: 37.211s\n",
            "\t \u001b[32mtrain_loss: 0.3499\u001b[0m\n"
          ]
        },
        {
          "output_type": "stream",
          "name": "stderr",
          "text": [
            "eval_pred: 100%|██████████| 3/3 [00:00<00:00, 182.85it/s]\n",
            "eval_rec: 100%|██████████| 610/610 [00:00<00:00, 1572.70it/s]\n"
          ]
        },
        {
          "output_type": "stream",
          "name": "stdout",
          "text": [
            "\t eval log_loss: 0.5845\n",
            "\t eval roc_auc: 0.8162\n",
            "\t eval precision@10: 0.0298\n",
            "\t eval recall@10: 0.0284\n",
            "\t eval map@10: 0.0699\n",
            "\t eval ndcg@10: 0.1059\n",
            "==============================\n"
          ]
        },
        {
          "output_type": "stream",
          "name": "stderr",
          "text": [
            "eval_pred: 100%|██████████| 3/3 [00:00<00:00, 201.60it/s]\n",
            "eval_rec: 100%|██████████| 608/608 [00:00<00:00, 1366.40it/s]\n"
          ]
        },
        {
          "output_type": "display_data",
          "data": {
            "text/plain": [
              "<IPython.core.display.HTML object>"
            ],
            "text/html": [
              "Waiting for W&B process to finish... <strong style=\"color:green\">(success).</strong>"
            ]
          },
          "metadata": {}
        },
        {
          "output_type": "display_data",
          "data": {
            "text/plain": [
              "VBox(children=(Label(value='0.001 MB of 0.001 MB uploaded (0.000 MB deduped)\\r'), FloatProgress(value=1.0, max…"
            ],
            "application/vnd.jupyter.widget-view+json": {
              "version_major": 2,
              "version_minor": 0,
              "model_id": "e3ad2371ecc143c280b1be2e83a09ed2"
            }
          },
          "metadata": {}
        },
        {
          "output_type": "display_data",
          "data": {
            "text/plain": [
              "<IPython.core.display.HTML object>"
            ],
            "text/html": [
              "<style>\n",
              "    table.wandb td:nth-child(1) { padding: 0 10px; text-align: left ; width: auto;} td:nth-child(2) {text-align: left ; width: 100%}\n",
              "    .wandb-row { display: flex; flex-direction: row; flex-wrap: wrap; justify-content: flex-start; width: 100% }\n",
              "    .wandb-col { display: flex; flex-direction: column; flex-basis: 100%; flex: 1; padding: 10px; }\n",
              "    </style>\n",
              "<div class=\"wandb-row\"><div class=\"wandb-col\"><h3>Run history:</h3><br/><table class=\"wandb\"><tr><td>epoch</td><td>▁▂▃▃▄▅▆▆▇█</td></tr><tr><td>log_loss</td><td>▁▁▂▃▅▅▆▇██</td></tr><tr><td>loss</td><td>▁</td></tr><tr><td>map</td><td>▁</td></tr><tr><td>map@10</td><td>▅▅▇▁▁▅▆█▂▅</td></tr><tr><td>ndcg</td><td>▁</td></tr><tr><td>ndcg@10</td><td>▄▆█▁▂▄▇█▂▆</td></tr><tr><td>precision</td><td>▁</td></tr><tr><td>precision@10</td><td>█▇▆▃▁▂▆▆▃▅</td></tr><tr><td>recall</td><td>▁</td></tr><tr><td>recall@10</td><td>█▆▄▂▂▁▇▂▂▄</td></tr><tr><td>roc_auc</td><td>██▇▆▅▅▄▄▄▄▁</td></tr><tr><td>train_loss</td><td>█▄▃▃▂▂▂▁▁▁</td></tr></table><br/></div><div class=\"wandb-col\"><h3>Run summary:</h3><br/><table class=\"wandb\"><tr><td>epoch</td><td>10</td></tr><tr><td>log_loss</td><td>0.58454</td></tr><tr><td>loss</td><td>0.63225</td></tr><tr><td>map</td><td>0.06318</td></tr><tr><td>map@10</td><td>0.06994</td></tr><tr><td>ndcg</td><td>0.09088</td></tr><tr><td>ndcg@10</td><td>0.10587</td></tr><tr><td>precision</td><td>0.02451</td></tr><tr><td>precision@10</td><td>0.02984</td></tr><tr><td>recall</td><td>0.01984</td></tr><tr><td>recall@10</td><td>0.02842</td></tr><tr><td>roc_auc</td><td>0.79827</td></tr><tr><td>train_loss</td><td>0.3499</td></tr></table><br/></div></div>"
            ]
          },
          "metadata": {}
        },
        {
          "output_type": "display_data",
          "data": {
            "text/plain": [
              "<IPython.core.display.HTML object>"
            ],
            "text/html": [
              "Synced <strong style=\"color:#cdcd00\">dauntless-sweep-19</strong>: <a href=\"https://wandb.ai/iloncka-ds/recsys-app/runs/7iqpqto2\" target=\"_blank\">https://wandb.ai/iloncka-ds/recsys-app/runs/7iqpqto2</a><br/>Synced 5 W&B file(s), 0 media file(s), 0 artifact file(s) and 0 other file(s)"
            ]
          },
          "metadata": {}
        },
        {
          "output_type": "display_data",
          "data": {
            "text/plain": [
              "<IPython.core.display.HTML object>"
            ],
            "text/html": [
              "Find logs at: <code>./wandb/run-20221106_150323-7iqpqto2/logs</code>"
            ]
          },
          "metadata": {}
        },
        {
          "output_type": "stream",
          "name": "stderr",
          "text": [
            "\u001b[34m\u001b[1mwandb\u001b[0m: Sweep Agent: Waiting for job.\n",
            "\u001b[34m\u001b[1mwandb\u001b[0m: Job received.\n",
            "\u001b[34m\u001b[1mwandb\u001b[0m: Agent Starting Run: cgmt22uh with config:\n",
            "\u001b[34m\u001b[1mwandb\u001b[0m: \tbatch_size: 128\n",
            "\u001b[34m\u001b[1mwandb\u001b[0m: \tembed_size: 16\n",
            "\u001b[34m\u001b[1mwandb\u001b[0m: \tlr: 0.01\n",
            "\u001b[34m\u001b[1mwandb\u001b[0m: \tn_epochs: 5\n"
          ]
        },
        {
          "output_type": "display_data",
          "data": {
            "text/plain": [
              "<IPython.core.display.HTML object>"
            ],
            "text/html": [
              "Tracking run with wandb version 0.13.5"
            ]
          },
          "metadata": {}
        },
        {
          "output_type": "display_data",
          "data": {
            "text/plain": [
              "<IPython.core.display.HTML object>"
            ],
            "text/html": [
              "Run data is saved locally in <code>/content/wandb/run-20221106_151020-cgmt22uh</code>"
            ]
          },
          "metadata": {}
        },
        {
          "output_type": "display_data",
          "data": {
            "text/plain": [
              "<IPython.core.display.HTML object>"
            ],
            "text/html": [
              "Syncing run <strong><a href=\"https://wandb.ai/iloncka-ds/recsys-app/runs/cgmt22uh\" target=\"_blank\">daily-sweep-20</a></strong> to <a href=\"https://wandb.ai/iloncka-ds/recsys-app\" target=\"_blank\">Weights & Biases</a> (<a href=\"https://wandb.me/run\" target=\"_blank\">docs</a>)<br/>Sweep page:  <a href=\"https://wandb.ai/iloncka-ds/recsys-app/sweeps/r5ls7bmj\" target=\"_blank\">https://wandb.ai/iloncka-ds/recsys-app/sweeps/r5ls7bmj</a>"
            ]
          },
          "metadata": {}
        },
        {
          "output_type": "stream",
          "name": "stdout",
          "text": [
            "total params: \u001b[33m416,045\u001b[0m | embedding params: \u001b[33m413,485\u001b[0m | network params: \u001b[33m2,560\u001b[0m\n",
            "Training start time: \u001b[35m2022-11-06 15:10:26\u001b[0m\n",
            "With lr_decay, epoch 1 learning rate: 0.009999999776482582\n"
          ]
        },
        {
          "output_type": "stream",
          "name": "stderr",
          "text": [
            "train: 100%|██████████| 1261/1261 [00:22<00:00, 55.86it/s]\n"
          ]
        },
        {
          "output_type": "stream",
          "name": "stdout",
          "text": [
            "Epoch 1 elapsed: 22.639s\n",
            "\t \u001b[32mtrain_loss: 0.494\u001b[0m\n"
          ]
        },
        {
          "output_type": "stream",
          "name": "stderr",
          "text": [
            "eval_pred: 100%|██████████| 3/3 [00:00<00:00, 204.14it/s]\n",
            "eval_rec: 100%|██████████| 610/610 [00:00<00:00, 1911.01it/s]\n"
          ]
        },
        {
          "output_type": "stream",
          "name": "stdout",
          "text": [
            "\t eval log_loss: 0.5103\n",
            "\t eval roc_auc: 0.8388\n",
            "\t eval precision@10: 0.0321\n",
            "\t eval recall@10: 0.0309\n",
            "\t eval map@10: 0.0787\n",
            "\t eval ndcg@10: 0.1162\n",
            "==============================\n",
            "With lr_decay, epoch 2 learning rate: 0.009215999394655228\n"
          ]
        },
        {
          "output_type": "stream",
          "name": "stderr",
          "text": [
            "train: 100%|██████████| 1261/1261 [00:22<00:00, 56.13it/s]\n"
          ]
        },
        {
          "output_type": "stream",
          "name": "stdout",
          "text": [
            "Epoch 2 elapsed: 22.520s\n",
            "\t \u001b[32mtrain_loss: 0.2895\u001b[0m\n"
          ]
        },
        {
          "output_type": "stream",
          "name": "stderr",
          "text": [
            "eval_pred: 100%|██████████| 3/3 [00:00<00:00, 187.32it/s]\n",
            "eval_rec: 100%|██████████| 610/610 [00:00<00:00, 1713.67it/s]\n"
          ]
        },
        {
          "output_type": "stream",
          "name": "stdout",
          "text": [
            "\t eval log_loss: 0.5913\n",
            "\t eval roc_auc: 0.8261\n",
            "\t eval precision@10: 0.0279\n",
            "\t eval recall@10: 0.0251\n",
            "\t eval map@10: 0.0685\n",
            "\t eval ndcg@10: 0.1054\n",
            "==============================\n",
            "With lr_decay, epoch 3 learning rate: 0.008493464440107346\n"
          ]
        },
        {
          "output_type": "stream",
          "name": "stderr",
          "text": [
            "train: 100%|██████████| 1261/1261 [00:22<00:00, 56.30it/s]\n"
          ]
        },
        {
          "output_type": "stream",
          "name": "stdout",
          "text": [
            "Epoch 3 elapsed: 22.450s\n",
            "\t \u001b[32mtrain_loss: 0.1612\u001b[0m\n"
          ]
        },
        {
          "output_type": "stream",
          "name": "stderr",
          "text": [
            "eval_pred: 100%|██████████| 3/3 [00:00<00:00, 167.24it/s]\n",
            "eval_rec: 100%|██████████| 610/610 [00:00<00:00, 1556.84it/s]\n"
          ]
        },
        {
          "output_type": "stream",
          "name": "stdout",
          "text": [
            "\t eval log_loss: 0.6971\n",
            "\t eval roc_auc: 0.8010\n",
            "\t eval precision@10: 0.0249\n",
            "\t eval recall@10: 0.0208\n",
            "\t eval map@10: 0.0659\n",
            "\t eval ndcg@10: 0.1004\n",
            "==============================\n",
            "With lr_decay, epoch 4 learning rate: 0.00782757718116045\n"
          ]
        },
        {
          "output_type": "stream",
          "name": "stderr",
          "text": [
            "train: 100%|██████████| 1261/1261 [00:22<00:00, 56.60it/s]\n"
          ]
        },
        {
          "output_type": "stream",
          "name": "stdout",
          "text": [
            "Epoch 4 elapsed: 22.336s\n",
            "\t \u001b[32mtrain_loss: 0.1019\u001b[0m\n"
          ]
        },
        {
          "output_type": "stream",
          "name": "stderr",
          "text": [
            "eval_pred: 100%|██████████| 3/3 [00:00<00:00, 181.40it/s]\n",
            "eval_rec: 100%|██████████| 610/610 [00:00<00:00, 1637.23it/s]\n"
          ]
        },
        {
          "output_type": "stream",
          "name": "stdout",
          "text": [
            "\t eval log_loss: 0.8164\n",
            "\t eval roc_auc: 0.8044\n",
            "\t eval precision@10: 0.0236\n",
            "\t eval recall@10: 0.0175\n",
            "\t eval map@10: 0.0667\n",
            "\t eval ndcg@10: 0.0982\n",
            "==============================\n",
            "With lr_decay, epoch 5 learning rate: 0.007213894743472338\n"
          ]
        },
        {
          "output_type": "stream",
          "name": "stderr",
          "text": [
            "train: 100%|██████████| 1261/1261 [00:22<00:00, 55.94it/s]\n"
          ]
        },
        {
          "output_type": "stream",
          "name": "stdout",
          "text": [
            "Epoch 5 elapsed: 22.597s\n",
            "\t \u001b[32mtrain_loss: 0.0705\u001b[0m\n"
          ]
        },
        {
          "output_type": "stream",
          "name": "stderr",
          "text": [
            "eval_pred: 100%|██████████| 3/3 [00:00<00:00, 206.08it/s]\n",
            "eval_rec: 100%|██████████| 610/610 [00:00<00:00, 1570.59it/s]\n"
          ]
        },
        {
          "output_type": "stream",
          "name": "stdout",
          "text": [
            "\t eval log_loss: 0.9689\n",
            "\t eval roc_auc: 0.8091\n",
            "\t eval precision@10: 0.0238\n",
            "\t eval recall@10: 0.0229\n",
            "\t eval map@10: 0.0692\n",
            "\t eval ndcg@10: 0.0996\n",
            "==============================\n"
          ]
        },
        {
          "output_type": "stream",
          "name": "stderr",
          "text": [
            "eval_pred: 100%|██████████| 3/3 [00:00<00:00, 239.16it/s]\n",
            "eval_rec: 100%|██████████| 608/608 [00:00<00:00, 1647.42it/s]\n"
          ]
        },
        {
          "output_type": "display_data",
          "data": {
            "text/plain": [
              "<IPython.core.display.HTML object>"
            ],
            "text/html": [
              "Waiting for W&B process to finish... <strong style=\"color:green\">(success).</strong>"
            ]
          },
          "metadata": {}
        },
        {
          "output_type": "display_data",
          "data": {
            "text/plain": [
              "VBox(children=(Label(value='0.001 MB of 0.001 MB uploaded (0.000 MB deduped)\\r'), FloatProgress(value=1.0, max…"
            ],
            "application/vnd.jupyter.widget-view+json": {
              "version_major": 2,
              "version_minor": 0,
              "model_id": "ef9e6844893844a18344c00187c28bb5"
            }
          },
          "metadata": {}
        },
        {
          "output_type": "display_data",
          "data": {
            "text/plain": [
              "<IPython.core.display.HTML object>"
            ],
            "text/html": [
              "<style>\n",
              "    table.wandb td:nth-child(1) { padding: 0 10px; text-align: left ; width: auto;} td:nth-child(2) {text-align: left ; width: 100%}\n",
              "    .wandb-row { display: flex; flex-direction: row; flex-wrap: wrap; justify-content: flex-start; width: 100% }\n",
              "    .wandb-col { display: flex; flex-direction: column; flex-basis: 100%; flex: 1; padding: 10px; }\n",
              "    </style>\n",
              "<div class=\"wandb-row\"><div class=\"wandb-col\"><h3>Run history:</h3><br/><table class=\"wandb\"><tr><td>epoch</td><td>▁▃▅▆█</td></tr><tr><td>log_loss</td><td>▁▂▄▆█</td></tr><tr><td>loss</td><td>▁</td></tr><tr><td>map</td><td>▁</td></tr><tr><td>map@10</td><td>█▂▁▁▃</td></tr><tr><td>ndcg</td><td>▁</td></tr><tr><td>ndcg@10</td><td>█▄▂▁▂</td></tr><tr><td>precision</td><td>▁</td></tr><tr><td>precision@10</td><td>█▅▂▁▁</td></tr><tr><td>recall</td><td>▁</td></tr><tr><td>recall@10</td><td>█▅▃▁▄</td></tr><tr><td>roc_auc</td><td>█▇▄▄▅▁</td></tr><tr><td>train_loss</td><td>█▅▂▂▁</td></tr></table><br/></div><div class=\"wandb-col\"><h3>Run summary:</h3><br/><table class=\"wandb\"><tr><td>epoch</td><td>5</td></tr><tr><td>log_loss</td><td>0.96886</td></tr><tr><td>loss</td><td>1.15354</td></tr><tr><td>map</td><td>0.04871</td></tr><tr><td>map@10</td><td>0.06924</td></tr><tr><td>ndcg</td><td>0.07894</td></tr><tr><td>ndcg@10</td><td>0.0996</td></tr><tr><td>precision</td><td>0.02023</td></tr><tr><td>precision@10</td><td>0.02377</td></tr><tr><td>recall</td><td>0.02174</td></tr><tr><td>recall@10</td><td>0.02287</td></tr><tr><td>roc_auc</td><td>0.7719</td></tr><tr><td>train_loss</td><td>0.0705</td></tr></table><br/></div></div>"
            ]
          },
          "metadata": {}
        },
        {
          "output_type": "display_data",
          "data": {
            "text/plain": [
              "<IPython.core.display.HTML object>"
            ],
            "text/html": [
              "Synced <strong style=\"color:#cdcd00\">daily-sweep-20</strong>: <a href=\"https://wandb.ai/iloncka-ds/recsys-app/runs/cgmt22uh\" target=\"_blank\">https://wandb.ai/iloncka-ds/recsys-app/runs/cgmt22uh</a><br/>Synced 5 W&B file(s), 0 media file(s), 0 artifact file(s) and 0 other file(s)"
            ]
          },
          "metadata": {}
        },
        {
          "output_type": "display_data",
          "data": {
            "text/plain": [
              "<IPython.core.display.HTML object>"
            ],
            "text/html": [
              "Find logs at: <code>./wandb/run-20221106_151020-cgmt22uh/logs</code>"
            ]
          },
          "metadata": {}
        }
      ],
      "source": [
        "MODEL_PATH = \"/content/drive/MyDrive/Colab Notebooks/00-MTC/models/WaveNet\" \n",
        "MODEL_NAME = 'WaveNet'\n",
        "\n",
        "sweep_config = {\n",
        "    \"name\": \"WaveNet-sweep\",\n",
        "    \"metric\": {\"name\": \"loss\", \"goal\": \"minimize\"},    \n",
        "    \"method\": \"random\",  \n",
        "    'early_terminate':{\n",
        "      'type': 'hyperband',\n",
        "      'min_iter': 5\n",
        "  },  \n",
        "    \"parameters\": {        \n",
        "          \"embed_size\": {\n",
        "              \"values\": [16, 32]\n",
        "          },\n",
        "          'n_epochs': {\n",
        "              \"values\": [5,10]\n",
        "          }, \n",
        "          \"lr\": {\n",
        "              \"values\": [0.1, 0.01, 0.001, 0.0001]\n",
        "          },\n",
        "                    \n",
        "          \"batch_size\": {\n",
        "              \"values\": [64, 128, 256]\n",
        "          },\n",
        "          }\n",
        "}\n",
        "metrics = [\"loss\", \"roc_auc\", \"precision\", \"recall\", \"map\", \"ndcg\"]    \n",
        "sweep_id = wandb.sweep(sweep_config, \n",
        "                       project=\"recsys-app\", \n",
        "                       entity=\"iloncka-ds\")\n",
        "\n",
        "os.environ[\"WANDB_RUN_GROUP\"] = \"experiment-WaveNet\"\n",
        "\n",
        "def train_with_wandb():  \n",
        "      with wandb.init(group=MODEL_NAME,\n",
        "                      notes=f\"{MODEL_NAME} hyperparameters search\",\n",
        "                      tags=[\"embed\", \"sequence\", \"hyperparameters\"]) as runwb:\n",
        "        # Overwrite the random run names chosen by wandb\n",
        "        sc = runwb.config\n",
        "        name_str = f'{MODEL_NAME}_met_{sweep_config[\"method\"]}' + \\\n",
        "          f'_n_epoch_{sc.n_epochs}_' + \\\n",
        "          f'emb_size_{sc.embed_size}_lr_{sc.lr}_' + \\\n",
        "          f'batch_size_{sc.batch_size}'\n",
        "        runwb.config.update({\"name\": name_str})\n",
        "        current_dir = os.path.join(MODEL_PATH, name_str)\n",
        "        if not os.path.isdir(current_dir):\n",
        "            os.mkdir(current_dir)  \n",
        "        # Rest of code.\n",
        "        model = WaveNet(task=\"ranking\", data_info=data_info, \n",
        "                        embed_size=sc.embed_size, n_epochs=sc.n_epochs, \n",
        "                        lr=sc.lr, reg=None, batch_size=sc.batch_size, lr_decay=True,)\n",
        "        #NB!! param runwb is absent in official version of LibRecommender, for training unpublished changes to this library were used\n",
        "        model.fit(runwb, train_data, verbose=2, eval_data=eval_data, metrics=metrics)\n",
        "        #NB!! param runwb is absent in official version of LibRecommender, for training unpublished changes to this library were used\n",
        "        evaluate(runwb=runwb, model=model, data=test_data,\n",
        "                                    metrics=metrics)\n",
        "        # specify model saving directory\n",
        "        save_embed(current_dir, model)        \n",
        "        model.save(path=current_dir, model_name=\"WaveNet\", manual=True, inference_only=True)\n",
        "wandb.agent(sweep_id, function=train_with_wandb, entity=\"iloncka-ds\", project=\"recsys-app\", count=20)"
      ]
    },
    {
      "cell_type": "markdown",
      "source": [
        "https://wandb.ai/iloncka-ds/recsys-app/groups/WaveNet/workspace?workspace=user-iloncka-ds"
      ],
      "metadata": {
        "id": "9A7mHb-369Se"
      }
    }
  ],
  "metadata": {
    "colab": {
      "provenance": [],
      "collapsed_sections": []
    },
    "kernelspec": {
      "display_name": "Python 3",
      "language": "python",
      "name": "python3"
    },
    "language_info": {
      "codemirror_mode": {
        "name": "ipython",
        "version": 3
      },
      "file_extension": ".py",
      "mimetype": "text/x-python",
      "name": "python",
      "nbconvert_exporter": "python",
      "pygments_lexer": "ipython3",
      "version": "3.7.12"
    },
    "widgets": {
      "application/vnd.jupyter.widget-state+json": {
        "8a2184d58d28486e97d0e785d594c5f8": {
          "model_module": "@jupyter-widgets/controls",
          "model_name": "VBoxModel",
          "model_module_version": "1.5.0",
          "state": {
            "_dom_classes": [],
            "_model_module": "@jupyter-widgets/controls",
            "_model_module_version": "1.5.0",
            "_model_name": "VBoxModel",
            "_view_count": null,
            "_view_module": "@jupyter-widgets/controls",
            "_view_module_version": "1.5.0",
            "_view_name": "VBoxView",
            "box_style": "",
            "children": [
              "IPY_MODEL_4a78ad34f5664a21b429b7271132307f",
              "IPY_MODEL_d9bf9d086c294c00ac0de7aa031b5117"
            ],
            "layout": "IPY_MODEL_8ca2a150341a4c048c301310de59f018"
          }
        },
        "4a78ad34f5664a21b429b7271132307f": {
          "model_module": "@jupyter-widgets/controls",
          "model_name": "LabelModel",
          "model_module_version": "1.5.0",
          "state": {
            "_dom_classes": [],
            "_model_module": "@jupyter-widgets/controls",
            "_model_module_version": "1.5.0",
            "_model_name": "LabelModel",
            "_view_count": null,
            "_view_module": "@jupyter-widgets/controls",
            "_view_module_version": "1.5.0",
            "_view_name": "LabelView",
            "description": "",
            "description_tooltip": null,
            "layout": "IPY_MODEL_0eb6c096716f4a1386ae2ae7d730a28c",
            "placeholder": "​",
            "style": "IPY_MODEL_39806d6bc9964ce6ac3e77ae66885b3b",
            "value": "0.001 MB of 0.009 MB uploaded (0.000 MB deduped)\r"
          }
        },
        "d9bf9d086c294c00ac0de7aa031b5117": {
          "model_module": "@jupyter-widgets/controls",
          "model_name": "FloatProgressModel",
          "model_module_version": "1.5.0",
          "state": {
            "_dom_classes": [],
            "_model_module": "@jupyter-widgets/controls",
            "_model_module_version": "1.5.0",
            "_model_name": "FloatProgressModel",
            "_view_count": null,
            "_view_module": "@jupyter-widgets/controls",
            "_view_module_version": "1.5.0",
            "_view_name": "ProgressView",
            "bar_style": "",
            "description": "",
            "description_tooltip": null,
            "layout": "IPY_MODEL_d68d958d5c2e4ad5a7148bc813f314c5",
            "max": 1,
            "min": 0,
            "orientation": "horizontal",
            "style": "IPY_MODEL_07c3fd4a249b447389ecf0331733a36a",
            "value": 0.06443631669535284
          }
        },
        "8ca2a150341a4c048c301310de59f018": {
          "model_module": "@jupyter-widgets/base",
          "model_name": "LayoutModel",
          "model_module_version": "1.2.0",
          "state": {
            "_model_module": "@jupyter-widgets/base",
            "_model_module_version": "1.2.0",
            "_model_name": "LayoutModel",
            "_view_count": null,
            "_view_module": "@jupyter-widgets/base",
            "_view_module_version": "1.2.0",
            "_view_name": "LayoutView",
            "align_content": null,
            "align_items": null,
            "align_self": null,
            "border": null,
            "bottom": null,
            "display": null,
            "flex": null,
            "flex_flow": null,
            "grid_area": null,
            "grid_auto_columns": null,
            "grid_auto_flow": null,
            "grid_auto_rows": null,
            "grid_column": null,
            "grid_gap": null,
            "grid_row": null,
            "grid_template_areas": null,
            "grid_template_columns": null,
            "grid_template_rows": null,
            "height": null,
            "justify_content": null,
            "justify_items": null,
            "left": null,
            "margin": null,
            "max_height": null,
            "max_width": null,
            "min_height": null,
            "min_width": null,
            "object_fit": null,
            "object_position": null,
            "order": null,
            "overflow": null,
            "overflow_x": null,
            "overflow_y": null,
            "padding": null,
            "right": null,
            "top": null,
            "visibility": null,
            "width": null
          }
        },
        "0eb6c096716f4a1386ae2ae7d730a28c": {
          "model_module": "@jupyter-widgets/base",
          "model_name": "LayoutModel",
          "model_module_version": "1.2.0",
          "state": {
            "_model_module": "@jupyter-widgets/base",
            "_model_module_version": "1.2.0",
            "_model_name": "LayoutModel",
            "_view_count": null,
            "_view_module": "@jupyter-widgets/base",
            "_view_module_version": "1.2.0",
            "_view_name": "LayoutView",
            "align_content": null,
            "align_items": null,
            "align_self": null,
            "border": null,
            "bottom": null,
            "display": null,
            "flex": null,
            "flex_flow": null,
            "grid_area": null,
            "grid_auto_columns": null,
            "grid_auto_flow": null,
            "grid_auto_rows": null,
            "grid_column": null,
            "grid_gap": null,
            "grid_row": null,
            "grid_template_areas": null,
            "grid_template_columns": null,
            "grid_template_rows": null,
            "height": null,
            "justify_content": null,
            "justify_items": null,
            "left": null,
            "margin": null,
            "max_height": null,
            "max_width": null,
            "min_height": null,
            "min_width": null,
            "object_fit": null,
            "object_position": null,
            "order": null,
            "overflow": null,
            "overflow_x": null,
            "overflow_y": null,
            "padding": null,
            "right": null,
            "top": null,
            "visibility": null,
            "width": null
          }
        },
        "39806d6bc9964ce6ac3e77ae66885b3b": {
          "model_module": "@jupyter-widgets/controls",
          "model_name": "DescriptionStyleModel",
          "model_module_version": "1.5.0",
          "state": {
            "_model_module": "@jupyter-widgets/controls",
            "_model_module_version": "1.5.0",
            "_model_name": "DescriptionStyleModel",
            "_view_count": null,
            "_view_module": "@jupyter-widgets/base",
            "_view_module_version": "1.2.0",
            "_view_name": "StyleView",
            "description_width": ""
          }
        },
        "d68d958d5c2e4ad5a7148bc813f314c5": {
          "model_module": "@jupyter-widgets/base",
          "model_name": "LayoutModel",
          "model_module_version": "1.2.0",
          "state": {
            "_model_module": "@jupyter-widgets/base",
            "_model_module_version": "1.2.0",
            "_model_name": "LayoutModel",
            "_view_count": null,
            "_view_module": "@jupyter-widgets/base",
            "_view_module_version": "1.2.0",
            "_view_name": "LayoutView",
            "align_content": null,
            "align_items": null,
            "align_self": null,
            "border": null,
            "bottom": null,
            "display": null,
            "flex": null,
            "flex_flow": null,
            "grid_area": null,
            "grid_auto_columns": null,
            "grid_auto_flow": null,
            "grid_auto_rows": null,
            "grid_column": null,
            "grid_gap": null,
            "grid_row": null,
            "grid_template_areas": null,
            "grid_template_columns": null,
            "grid_template_rows": null,
            "height": null,
            "justify_content": null,
            "justify_items": null,
            "left": null,
            "margin": null,
            "max_height": null,
            "max_width": null,
            "min_height": null,
            "min_width": null,
            "object_fit": null,
            "object_position": null,
            "order": null,
            "overflow": null,
            "overflow_x": null,
            "overflow_y": null,
            "padding": null,
            "right": null,
            "top": null,
            "visibility": null,
            "width": null
          }
        },
        "07c3fd4a249b447389ecf0331733a36a": {
          "model_module": "@jupyter-widgets/controls",
          "model_name": "ProgressStyleModel",
          "model_module_version": "1.5.0",
          "state": {
            "_model_module": "@jupyter-widgets/controls",
            "_model_module_version": "1.5.0",
            "_model_name": "ProgressStyleModel",
            "_view_count": null,
            "_view_module": "@jupyter-widgets/base",
            "_view_module_version": "1.2.0",
            "_view_name": "StyleView",
            "bar_color": null,
            "description_width": ""
          }
        },
        "f52771d84f72499db7acd8b58ba08a94": {
          "model_module": "@jupyter-widgets/controls",
          "model_name": "VBoxModel",
          "model_module_version": "1.5.0",
          "state": {
            "_dom_classes": [],
            "_model_module": "@jupyter-widgets/controls",
            "_model_module_version": "1.5.0",
            "_model_name": "VBoxModel",
            "_view_count": null,
            "_view_module": "@jupyter-widgets/controls",
            "_view_module_version": "1.5.0",
            "_view_name": "VBoxView",
            "box_style": "",
            "children": [
              "IPY_MODEL_48d1ba673a14408193278f55cc0f45a5",
              "IPY_MODEL_d50210fe7ae9402e9abdef3cdfd5e23a"
            ],
            "layout": "IPY_MODEL_f64b8ebbb50d41e8b873c828c603d629"
          }
        },
        "48d1ba673a14408193278f55cc0f45a5": {
          "model_module": "@jupyter-widgets/controls",
          "model_name": "LabelModel",
          "model_module_version": "1.5.0",
          "state": {
            "_dom_classes": [],
            "_model_module": "@jupyter-widgets/controls",
            "_model_module_version": "1.5.0",
            "_model_name": "LabelModel",
            "_view_count": null,
            "_view_module": "@jupyter-widgets/controls",
            "_view_module_version": "1.5.0",
            "_view_name": "LabelView",
            "description": "",
            "description_tooltip": null,
            "layout": "IPY_MODEL_7edf20229ad3468292f0cbcf037940c0",
            "placeholder": "​",
            "style": "IPY_MODEL_4fc7b97ad7bc4d2b95bbda41bbca52b9",
            "value": "0.001 MB of 0.001 MB uploaded (0.000 MB deduped)\r"
          }
        },
        "d50210fe7ae9402e9abdef3cdfd5e23a": {
          "model_module": "@jupyter-widgets/controls",
          "model_name": "FloatProgressModel",
          "model_module_version": "1.5.0",
          "state": {
            "_dom_classes": [],
            "_model_module": "@jupyter-widgets/controls",
            "_model_module_version": "1.5.0",
            "_model_name": "FloatProgressModel",
            "_view_count": null,
            "_view_module": "@jupyter-widgets/controls",
            "_view_module_version": "1.5.0",
            "_view_name": "ProgressView",
            "bar_style": "",
            "description": "",
            "description_tooltip": null,
            "layout": "IPY_MODEL_9f1be44a7b80440187f8bed87bf19a1c",
            "max": 1,
            "min": 0,
            "orientation": "horizontal",
            "style": "IPY_MODEL_6bf975325ff64d31922d7447cbf67169",
            "value": 1
          }
        },
        "f64b8ebbb50d41e8b873c828c603d629": {
          "model_module": "@jupyter-widgets/base",
          "model_name": "LayoutModel",
          "model_module_version": "1.2.0",
          "state": {
            "_model_module": "@jupyter-widgets/base",
            "_model_module_version": "1.2.0",
            "_model_name": "LayoutModel",
            "_view_count": null,
            "_view_module": "@jupyter-widgets/base",
            "_view_module_version": "1.2.0",
            "_view_name": "LayoutView",
            "align_content": null,
            "align_items": null,
            "align_self": null,
            "border": null,
            "bottom": null,
            "display": null,
            "flex": null,
            "flex_flow": null,
            "grid_area": null,
            "grid_auto_columns": null,
            "grid_auto_flow": null,
            "grid_auto_rows": null,
            "grid_column": null,
            "grid_gap": null,
            "grid_row": null,
            "grid_template_areas": null,
            "grid_template_columns": null,
            "grid_template_rows": null,
            "height": null,
            "justify_content": null,
            "justify_items": null,
            "left": null,
            "margin": null,
            "max_height": null,
            "max_width": null,
            "min_height": null,
            "min_width": null,
            "object_fit": null,
            "object_position": null,
            "order": null,
            "overflow": null,
            "overflow_x": null,
            "overflow_y": null,
            "padding": null,
            "right": null,
            "top": null,
            "visibility": null,
            "width": null
          }
        },
        "7edf20229ad3468292f0cbcf037940c0": {
          "model_module": "@jupyter-widgets/base",
          "model_name": "LayoutModel",
          "model_module_version": "1.2.0",
          "state": {
            "_model_module": "@jupyter-widgets/base",
            "_model_module_version": "1.2.0",
            "_model_name": "LayoutModel",
            "_view_count": null,
            "_view_module": "@jupyter-widgets/base",
            "_view_module_version": "1.2.0",
            "_view_name": "LayoutView",
            "align_content": null,
            "align_items": null,
            "align_self": null,
            "border": null,
            "bottom": null,
            "display": null,
            "flex": null,
            "flex_flow": null,
            "grid_area": null,
            "grid_auto_columns": null,
            "grid_auto_flow": null,
            "grid_auto_rows": null,
            "grid_column": null,
            "grid_gap": null,
            "grid_row": null,
            "grid_template_areas": null,
            "grid_template_columns": null,
            "grid_template_rows": null,
            "height": null,
            "justify_content": null,
            "justify_items": null,
            "left": null,
            "margin": null,
            "max_height": null,
            "max_width": null,
            "min_height": null,
            "min_width": null,
            "object_fit": null,
            "object_position": null,
            "order": null,
            "overflow": null,
            "overflow_x": null,
            "overflow_y": null,
            "padding": null,
            "right": null,
            "top": null,
            "visibility": null,
            "width": null
          }
        },
        "4fc7b97ad7bc4d2b95bbda41bbca52b9": {
          "model_module": "@jupyter-widgets/controls",
          "model_name": "DescriptionStyleModel",
          "model_module_version": "1.5.0",
          "state": {
            "_model_module": "@jupyter-widgets/controls",
            "_model_module_version": "1.5.0",
            "_model_name": "DescriptionStyleModel",
            "_view_count": null,
            "_view_module": "@jupyter-widgets/base",
            "_view_module_version": "1.2.0",
            "_view_name": "StyleView",
            "description_width": ""
          }
        },
        "9f1be44a7b80440187f8bed87bf19a1c": {
          "model_module": "@jupyter-widgets/base",
          "model_name": "LayoutModel",
          "model_module_version": "1.2.0",
          "state": {
            "_model_module": "@jupyter-widgets/base",
            "_model_module_version": "1.2.0",
            "_model_name": "LayoutModel",
            "_view_count": null,
            "_view_module": "@jupyter-widgets/base",
            "_view_module_version": "1.2.0",
            "_view_name": "LayoutView",
            "align_content": null,
            "align_items": null,
            "align_self": null,
            "border": null,
            "bottom": null,
            "display": null,
            "flex": null,
            "flex_flow": null,
            "grid_area": null,
            "grid_auto_columns": null,
            "grid_auto_flow": null,
            "grid_auto_rows": null,
            "grid_column": null,
            "grid_gap": null,
            "grid_row": null,
            "grid_template_areas": null,
            "grid_template_columns": null,
            "grid_template_rows": null,
            "height": null,
            "justify_content": null,
            "justify_items": null,
            "left": null,
            "margin": null,
            "max_height": null,
            "max_width": null,
            "min_height": null,
            "min_width": null,
            "object_fit": null,
            "object_position": null,
            "order": null,
            "overflow": null,
            "overflow_x": null,
            "overflow_y": null,
            "padding": null,
            "right": null,
            "top": null,
            "visibility": null,
            "width": null
          }
        },
        "6bf975325ff64d31922d7447cbf67169": {
          "model_module": "@jupyter-widgets/controls",
          "model_name": "ProgressStyleModel",
          "model_module_version": "1.5.0",
          "state": {
            "_model_module": "@jupyter-widgets/controls",
            "_model_module_version": "1.5.0",
            "_model_name": "ProgressStyleModel",
            "_view_count": null,
            "_view_module": "@jupyter-widgets/base",
            "_view_module_version": "1.2.0",
            "_view_name": "StyleView",
            "bar_color": null,
            "description_width": ""
          }
        },
        "0cf7b605a28745c4915194483ac0c833": {
          "model_module": "@jupyter-widgets/controls",
          "model_name": "VBoxModel",
          "model_module_version": "1.5.0",
          "state": {
            "_dom_classes": [],
            "_model_module": "@jupyter-widgets/controls",
            "_model_module_version": "1.5.0",
            "_model_name": "VBoxModel",
            "_view_count": null,
            "_view_module": "@jupyter-widgets/controls",
            "_view_module_version": "1.5.0",
            "_view_name": "VBoxView",
            "box_style": "",
            "children": [
              "IPY_MODEL_dce8f39e60814af38abaf2d77a992876",
              "IPY_MODEL_14a0da174f2848fb8064ecf39d2d9861"
            ],
            "layout": "IPY_MODEL_49a22ba674bc44e98141d05c8c2fac50"
          }
        },
        "dce8f39e60814af38abaf2d77a992876": {
          "model_module": "@jupyter-widgets/controls",
          "model_name": "LabelModel",
          "model_module_version": "1.5.0",
          "state": {
            "_dom_classes": [],
            "_model_module": "@jupyter-widgets/controls",
            "_model_module_version": "1.5.0",
            "_model_name": "LabelModel",
            "_view_count": null,
            "_view_module": "@jupyter-widgets/controls",
            "_view_module_version": "1.5.0",
            "_view_name": "LabelView",
            "description": "",
            "description_tooltip": null,
            "layout": "IPY_MODEL_b570b5b4f26043ccaa28c5b1bc376bf8",
            "placeholder": "​",
            "style": "IPY_MODEL_98bd7e5c405b4abbb582e0c45b7ab744",
            "value": "0.001 MB of 0.001 MB uploaded (0.000 MB deduped)\r"
          }
        },
        "14a0da174f2848fb8064ecf39d2d9861": {
          "model_module": "@jupyter-widgets/controls",
          "model_name": "FloatProgressModel",
          "model_module_version": "1.5.0",
          "state": {
            "_dom_classes": [],
            "_model_module": "@jupyter-widgets/controls",
            "_model_module_version": "1.5.0",
            "_model_name": "FloatProgressModel",
            "_view_count": null,
            "_view_module": "@jupyter-widgets/controls",
            "_view_module_version": "1.5.0",
            "_view_name": "ProgressView",
            "bar_style": "",
            "description": "",
            "description_tooltip": null,
            "layout": "IPY_MODEL_ef1677001245443c9a0eb64229939e01",
            "max": 1,
            "min": 0,
            "orientation": "horizontal",
            "style": "IPY_MODEL_a0347d10f7e24b6d8b786e6896359acf",
            "value": 1
          }
        },
        "49a22ba674bc44e98141d05c8c2fac50": {
          "model_module": "@jupyter-widgets/base",
          "model_name": "LayoutModel",
          "model_module_version": "1.2.0",
          "state": {
            "_model_module": "@jupyter-widgets/base",
            "_model_module_version": "1.2.0",
            "_model_name": "LayoutModel",
            "_view_count": null,
            "_view_module": "@jupyter-widgets/base",
            "_view_module_version": "1.2.0",
            "_view_name": "LayoutView",
            "align_content": null,
            "align_items": null,
            "align_self": null,
            "border": null,
            "bottom": null,
            "display": null,
            "flex": null,
            "flex_flow": null,
            "grid_area": null,
            "grid_auto_columns": null,
            "grid_auto_flow": null,
            "grid_auto_rows": null,
            "grid_column": null,
            "grid_gap": null,
            "grid_row": null,
            "grid_template_areas": null,
            "grid_template_columns": null,
            "grid_template_rows": null,
            "height": null,
            "justify_content": null,
            "justify_items": null,
            "left": null,
            "margin": null,
            "max_height": null,
            "max_width": null,
            "min_height": null,
            "min_width": null,
            "object_fit": null,
            "object_position": null,
            "order": null,
            "overflow": null,
            "overflow_x": null,
            "overflow_y": null,
            "padding": null,
            "right": null,
            "top": null,
            "visibility": null,
            "width": null
          }
        },
        "b570b5b4f26043ccaa28c5b1bc376bf8": {
          "model_module": "@jupyter-widgets/base",
          "model_name": "LayoutModel",
          "model_module_version": "1.2.0",
          "state": {
            "_model_module": "@jupyter-widgets/base",
            "_model_module_version": "1.2.0",
            "_model_name": "LayoutModel",
            "_view_count": null,
            "_view_module": "@jupyter-widgets/base",
            "_view_module_version": "1.2.0",
            "_view_name": "LayoutView",
            "align_content": null,
            "align_items": null,
            "align_self": null,
            "border": null,
            "bottom": null,
            "display": null,
            "flex": null,
            "flex_flow": null,
            "grid_area": null,
            "grid_auto_columns": null,
            "grid_auto_flow": null,
            "grid_auto_rows": null,
            "grid_column": null,
            "grid_gap": null,
            "grid_row": null,
            "grid_template_areas": null,
            "grid_template_columns": null,
            "grid_template_rows": null,
            "height": null,
            "justify_content": null,
            "justify_items": null,
            "left": null,
            "margin": null,
            "max_height": null,
            "max_width": null,
            "min_height": null,
            "min_width": null,
            "object_fit": null,
            "object_position": null,
            "order": null,
            "overflow": null,
            "overflow_x": null,
            "overflow_y": null,
            "padding": null,
            "right": null,
            "top": null,
            "visibility": null,
            "width": null
          }
        },
        "98bd7e5c405b4abbb582e0c45b7ab744": {
          "model_module": "@jupyter-widgets/controls",
          "model_name": "DescriptionStyleModel",
          "model_module_version": "1.5.0",
          "state": {
            "_model_module": "@jupyter-widgets/controls",
            "_model_module_version": "1.5.0",
            "_model_name": "DescriptionStyleModel",
            "_view_count": null,
            "_view_module": "@jupyter-widgets/base",
            "_view_module_version": "1.2.0",
            "_view_name": "StyleView",
            "description_width": ""
          }
        },
        "ef1677001245443c9a0eb64229939e01": {
          "model_module": "@jupyter-widgets/base",
          "model_name": "LayoutModel",
          "model_module_version": "1.2.0",
          "state": {
            "_model_module": "@jupyter-widgets/base",
            "_model_module_version": "1.2.0",
            "_model_name": "LayoutModel",
            "_view_count": null,
            "_view_module": "@jupyter-widgets/base",
            "_view_module_version": "1.2.0",
            "_view_name": "LayoutView",
            "align_content": null,
            "align_items": null,
            "align_self": null,
            "border": null,
            "bottom": null,
            "display": null,
            "flex": null,
            "flex_flow": null,
            "grid_area": null,
            "grid_auto_columns": null,
            "grid_auto_flow": null,
            "grid_auto_rows": null,
            "grid_column": null,
            "grid_gap": null,
            "grid_row": null,
            "grid_template_areas": null,
            "grid_template_columns": null,
            "grid_template_rows": null,
            "height": null,
            "justify_content": null,
            "justify_items": null,
            "left": null,
            "margin": null,
            "max_height": null,
            "max_width": null,
            "min_height": null,
            "min_width": null,
            "object_fit": null,
            "object_position": null,
            "order": null,
            "overflow": null,
            "overflow_x": null,
            "overflow_y": null,
            "padding": null,
            "right": null,
            "top": null,
            "visibility": null,
            "width": null
          }
        },
        "a0347d10f7e24b6d8b786e6896359acf": {
          "model_module": "@jupyter-widgets/controls",
          "model_name": "ProgressStyleModel",
          "model_module_version": "1.5.0",
          "state": {
            "_model_module": "@jupyter-widgets/controls",
            "_model_module_version": "1.5.0",
            "_model_name": "ProgressStyleModel",
            "_view_count": null,
            "_view_module": "@jupyter-widgets/base",
            "_view_module_version": "1.2.0",
            "_view_name": "StyleView",
            "bar_color": null,
            "description_width": ""
          }
        },
        "4e2261ccc25f4b63b14bd7a3ea5aedc4": {
          "model_module": "@jupyter-widgets/controls",
          "model_name": "VBoxModel",
          "model_module_version": "1.5.0",
          "state": {
            "_dom_classes": [],
            "_model_module": "@jupyter-widgets/controls",
            "_model_module_version": "1.5.0",
            "_model_name": "VBoxModel",
            "_view_count": null,
            "_view_module": "@jupyter-widgets/controls",
            "_view_module_version": "1.5.0",
            "_view_name": "VBoxView",
            "box_style": "",
            "children": [
              "IPY_MODEL_e9e86a37bd42467fb5dc17fd83463842",
              "IPY_MODEL_299da67c0e3347c09e104ec4b91910c0"
            ],
            "layout": "IPY_MODEL_7c5651d5a7e74583b87117bcb2547a83"
          }
        },
        "e9e86a37bd42467fb5dc17fd83463842": {
          "model_module": "@jupyter-widgets/controls",
          "model_name": "LabelModel",
          "model_module_version": "1.5.0",
          "state": {
            "_dom_classes": [],
            "_model_module": "@jupyter-widgets/controls",
            "_model_module_version": "1.5.0",
            "_model_name": "LabelModel",
            "_view_count": null,
            "_view_module": "@jupyter-widgets/controls",
            "_view_module_version": "1.5.0",
            "_view_name": "LabelView",
            "description": "",
            "description_tooltip": null,
            "layout": "IPY_MODEL_ff2529119ac840b38df5d17a950a8d1c",
            "placeholder": "​",
            "style": "IPY_MODEL_69d535abd38b45978330fb1707439b66",
            "value": "0.001 MB of 0.008 MB uploaded (0.000 MB deduped)\r"
          }
        },
        "299da67c0e3347c09e104ec4b91910c0": {
          "model_module": "@jupyter-widgets/controls",
          "model_name": "FloatProgressModel",
          "model_module_version": "1.5.0",
          "state": {
            "_dom_classes": [],
            "_model_module": "@jupyter-widgets/controls",
            "_model_module_version": "1.5.0",
            "_model_name": "FloatProgressModel",
            "_view_count": null,
            "_view_module": "@jupyter-widgets/controls",
            "_view_module_version": "1.5.0",
            "_view_name": "ProgressView",
            "bar_style": "",
            "description": "",
            "description_tooltip": null,
            "layout": "IPY_MODEL_caa9372aab2c4fa683099cda96941bce",
            "max": 1,
            "min": 0,
            "orientation": "horizontal",
            "style": "IPY_MODEL_2574597898614677abba19a39bea8617",
            "value": 0.06803725579282144
          }
        },
        "7c5651d5a7e74583b87117bcb2547a83": {
          "model_module": "@jupyter-widgets/base",
          "model_name": "LayoutModel",
          "model_module_version": "1.2.0",
          "state": {
            "_model_module": "@jupyter-widgets/base",
            "_model_module_version": "1.2.0",
            "_model_name": "LayoutModel",
            "_view_count": null,
            "_view_module": "@jupyter-widgets/base",
            "_view_module_version": "1.2.0",
            "_view_name": "LayoutView",
            "align_content": null,
            "align_items": null,
            "align_self": null,
            "border": null,
            "bottom": null,
            "display": null,
            "flex": null,
            "flex_flow": null,
            "grid_area": null,
            "grid_auto_columns": null,
            "grid_auto_flow": null,
            "grid_auto_rows": null,
            "grid_column": null,
            "grid_gap": null,
            "grid_row": null,
            "grid_template_areas": null,
            "grid_template_columns": null,
            "grid_template_rows": null,
            "height": null,
            "justify_content": null,
            "justify_items": null,
            "left": null,
            "margin": null,
            "max_height": null,
            "max_width": null,
            "min_height": null,
            "min_width": null,
            "object_fit": null,
            "object_position": null,
            "order": null,
            "overflow": null,
            "overflow_x": null,
            "overflow_y": null,
            "padding": null,
            "right": null,
            "top": null,
            "visibility": null,
            "width": null
          }
        },
        "ff2529119ac840b38df5d17a950a8d1c": {
          "model_module": "@jupyter-widgets/base",
          "model_name": "LayoutModel",
          "model_module_version": "1.2.0",
          "state": {
            "_model_module": "@jupyter-widgets/base",
            "_model_module_version": "1.2.0",
            "_model_name": "LayoutModel",
            "_view_count": null,
            "_view_module": "@jupyter-widgets/base",
            "_view_module_version": "1.2.0",
            "_view_name": "LayoutView",
            "align_content": null,
            "align_items": null,
            "align_self": null,
            "border": null,
            "bottom": null,
            "display": null,
            "flex": null,
            "flex_flow": null,
            "grid_area": null,
            "grid_auto_columns": null,
            "grid_auto_flow": null,
            "grid_auto_rows": null,
            "grid_column": null,
            "grid_gap": null,
            "grid_row": null,
            "grid_template_areas": null,
            "grid_template_columns": null,
            "grid_template_rows": null,
            "height": null,
            "justify_content": null,
            "justify_items": null,
            "left": null,
            "margin": null,
            "max_height": null,
            "max_width": null,
            "min_height": null,
            "min_width": null,
            "object_fit": null,
            "object_position": null,
            "order": null,
            "overflow": null,
            "overflow_x": null,
            "overflow_y": null,
            "padding": null,
            "right": null,
            "top": null,
            "visibility": null,
            "width": null
          }
        },
        "69d535abd38b45978330fb1707439b66": {
          "model_module": "@jupyter-widgets/controls",
          "model_name": "DescriptionStyleModel",
          "model_module_version": "1.5.0",
          "state": {
            "_model_module": "@jupyter-widgets/controls",
            "_model_module_version": "1.5.0",
            "_model_name": "DescriptionStyleModel",
            "_view_count": null,
            "_view_module": "@jupyter-widgets/base",
            "_view_module_version": "1.2.0",
            "_view_name": "StyleView",
            "description_width": ""
          }
        },
        "caa9372aab2c4fa683099cda96941bce": {
          "model_module": "@jupyter-widgets/base",
          "model_name": "LayoutModel",
          "model_module_version": "1.2.0",
          "state": {
            "_model_module": "@jupyter-widgets/base",
            "_model_module_version": "1.2.0",
            "_model_name": "LayoutModel",
            "_view_count": null,
            "_view_module": "@jupyter-widgets/base",
            "_view_module_version": "1.2.0",
            "_view_name": "LayoutView",
            "align_content": null,
            "align_items": null,
            "align_self": null,
            "border": null,
            "bottom": null,
            "display": null,
            "flex": null,
            "flex_flow": null,
            "grid_area": null,
            "grid_auto_columns": null,
            "grid_auto_flow": null,
            "grid_auto_rows": null,
            "grid_column": null,
            "grid_gap": null,
            "grid_row": null,
            "grid_template_areas": null,
            "grid_template_columns": null,
            "grid_template_rows": null,
            "height": null,
            "justify_content": null,
            "justify_items": null,
            "left": null,
            "margin": null,
            "max_height": null,
            "max_width": null,
            "min_height": null,
            "min_width": null,
            "object_fit": null,
            "object_position": null,
            "order": null,
            "overflow": null,
            "overflow_x": null,
            "overflow_y": null,
            "padding": null,
            "right": null,
            "top": null,
            "visibility": null,
            "width": null
          }
        },
        "2574597898614677abba19a39bea8617": {
          "model_module": "@jupyter-widgets/controls",
          "model_name": "ProgressStyleModel",
          "model_module_version": "1.5.0",
          "state": {
            "_model_module": "@jupyter-widgets/controls",
            "_model_module_version": "1.5.0",
            "_model_name": "ProgressStyleModel",
            "_view_count": null,
            "_view_module": "@jupyter-widgets/base",
            "_view_module_version": "1.2.0",
            "_view_name": "StyleView",
            "bar_color": null,
            "description_width": ""
          }
        },
        "06ffca4f5dc24c2580622dc2944b07b6": {
          "model_module": "@jupyter-widgets/controls",
          "model_name": "VBoxModel",
          "model_module_version": "1.5.0",
          "state": {
            "_dom_classes": [],
            "_model_module": "@jupyter-widgets/controls",
            "_model_module_version": "1.5.0",
            "_model_name": "VBoxModel",
            "_view_count": null,
            "_view_module": "@jupyter-widgets/controls",
            "_view_module_version": "1.5.0",
            "_view_name": "VBoxView",
            "box_style": "",
            "children": [
              "IPY_MODEL_1ab25f0517c44d3bab1cc4341bb3b7fe",
              "IPY_MODEL_e3f8e557e74940098e0086937f8cbca4"
            ],
            "layout": "IPY_MODEL_134f1eebc4c34d63be569c9fab1c8189"
          }
        },
        "1ab25f0517c44d3bab1cc4341bb3b7fe": {
          "model_module": "@jupyter-widgets/controls",
          "model_name": "LabelModel",
          "model_module_version": "1.5.0",
          "state": {
            "_dom_classes": [],
            "_model_module": "@jupyter-widgets/controls",
            "_model_module_version": "1.5.0",
            "_model_name": "LabelModel",
            "_view_count": null,
            "_view_module": "@jupyter-widgets/controls",
            "_view_module_version": "1.5.0",
            "_view_name": "LabelView",
            "description": "",
            "description_tooltip": null,
            "layout": "IPY_MODEL_a44cd3b6284841009b61bcdde8e98830",
            "placeholder": "​",
            "style": "IPY_MODEL_07a46d225b81474cb3dd884eed413289",
            "value": "0.001 MB of 0.012 MB uploaded (0.000 MB deduped)\r"
          }
        },
        "e3f8e557e74940098e0086937f8cbca4": {
          "model_module": "@jupyter-widgets/controls",
          "model_name": "FloatProgressModel",
          "model_module_version": "1.5.0",
          "state": {
            "_dom_classes": [],
            "_model_module": "@jupyter-widgets/controls",
            "_model_module_version": "1.5.0",
            "_model_name": "FloatProgressModel",
            "_view_count": null,
            "_view_module": "@jupyter-widgets/controls",
            "_view_module_version": "1.5.0",
            "_view_name": "ProgressView",
            "bar_style": "",
            "description": "",
            "description_tooltip": null,
            "layout": "IPY_MODEL_5369c872cee64a2a95e7ff3b1a92874c",
            "max": 1,
            "min": 0,
            "orientation": "horizontal",
            "style": "IPY_MODEL_62604ea7060a4474885fd422c0bce8a4",
            "value": 0.04824808699154249
          }
        },
        "134f1eebc4c34d63be569c9fab1c8189": {
          "model_module": "@jupyter-widgets/base",
          "model_name": "LayoutModel",
          "model_module_version": "1.2.0",
          "state": {
            "_model_module": "@jupyter-widgets/base",
            "_model_module_version": "1.2.0",
            "_model_name": "LayoutModel",
            "_view_count": null,
            "_view_module": "@jupyter-widgets/base",
            "_view_module_version": "1.2.0",
            "_view_name": "LayoutView",
            "align_content": null,
            "align_items": null,
            "align_self": null,
            "border": null,
            "bottom": null,
            "display": null,
            "flex": null,
            "flex_flow": null,
            "grid_area": null,
            "grid_auto_columns": null,
            "grid_auto_flow": null,
            "grid_auto_rows": null,
            "grid_column": null,
            "grid_gap": null,
            "grid_row": null,
            "grid_template_areas": null,
            "grid_template_columns": null,
            "grid_template_rows": null,
            "height": null,
            "justify_content": null,
            "justify_items": null,
            "left": null,
            "margin": null,
            "max_height": null,
            "max_width": null,
            "min_height": null,
            "min_width": null,
            "object_fit": null,
            "object_position": null,
            "order": null,
            "overflow": null,
            "overflow_x": null,
            "overflow_y": null,
            "padding": null,
            "right": null,
            "top": null,
            "visibility": null,
            "width": null
          }
        },
        "a44cd3b6284841009b61bcdde8e98830": {
          "model_module": "@jupyter-widgets/base",
          "model_name": "LayoutModel",
          "model_module_version": "1.2.0",
          "state": {
            "_model_module": "@jupyter-widgets/base",
            "_model_module_version": "1.2.0",
            "_model_name": "LayoutModel",
            "_view_count": null,
            "_view_module": "@jupyter-widgets/base",
            "_view_module_version": "1.2.0",
            "_view_name": "LayoutView",
            "align_content": null,
            "align_items": null,
            "align_self": null,
            "border": null,
            "bottom": null,
            "display": null,
            "flex": null,
            "flex_flow": null,
            "grid_area": null,
            "grid_auto_columns": null,
            "grid_auto_flow": null,
            "grid_auto_rows": null,
            "grid_column": null,
            "grid_gap": null,
            "grid_row": null,
            "grid_template_areas": null,
            "grid_template_columns": null,
            "grid_template_rows": null,
            "height": null,
            "justify_content": null,
            "justify_items": null,
            "left": null,
            "margin": null,
            "max_height": null,
            "max_width": null,
            "min_height": null,
            "min_width": null,
            "object_fit": null,
            "object_position": null,
            "order": null,
            "overflow": null,
            "overflow_x": null,
            "overflow_y": null,
            "padding": null,
            "right": null,
            "top": null,
            "visibility": null,
            "width": null
          }
        },
        "07a46d225b81474cb3dd884eed413289": {
          "model_module": "@jupyter-widgets/controls",
          "model_name": "DescriptionStyleModel",
          "model_module_version": "1.5.0",
          "state": {
            "_model_module": "@jupyter-widgets/controls",
            "_model_module_version": "1.5.0",
            "_model_name": "DescriptionStyleModel",
            "_view_count": null,
            "_view_module": "@jupyter-widgets/base",
            "_view_module_version": "1.2.0",
            "_view_name": "StyleView",
            "description_width": ""
          }
        },
        "5369c872cee64a2a95e7ff3b1a92874c": {
          "model_module": "@jupyter-widgets/base",
          "model_name": "LayoutModel",
          "model_module_version": "1.2.0",
          "state": {
            "_model_module": "@jupyter-widgets/base",
            "_model_module_version": "1.2.0",
            "_model_name": "LayoutModel",
            "_view_count": null,
            "_view_module": "@jupyter-widgets/base",
            "_view_module_version": "1.2.0",
            "_view_name": "LayoutView",
            "align_content": null,
            "align_items": null,
            "align_self": null,
            "border": null,
            "bottom": null,
            "display": null,
            "flex": null,
            "flex_flow": null,
            "grid_area": null,
            "grid_auto_columns": null,
            "grid_auto_flow": null,
            "grid_auto_rows": null,
            "grid_column": null,
            "grid_gap": null,
            "grid_row": null,
            "grid_template_areas": null,
            "grid_template_columns": null,
            "grid_template_rows": null,
            "height": null,
            "justify_content": null,
            "justify_items": null,
            "left": null,
            "margin": null,
            "max_height": null,
            "max_width": null,
            "min_height": null,
            "min_width": null,
            "object_fit": null,
            "object_position": null,
            "order": null,
            "overflow": null,
            "overflow_x": null,
            "overflow_y": null,
            "padding": null,
            "right": null,
            "top": null,
            "visibility": null,
            "width": null
          }
        },
        "62604ea7060a4474885fd422c0bce8a4": {
          "model_module": "@jupyter-widgets/controls",
          "model_name": "ProgressStyleModel",
          "model_module_version": "1.5.0",
          "state": {
            "_model_module": "@jupyter-widgets/controls",
            "_model_module_version": "1.5.0",
            "_model_name": "ProgressStyleModel",
            "_view_count": null,
            "_view_module": "@jupyter-widgets/base",
            "_view_module_version": "1.2.0",
            "_view_name": "StyleView",
            "bar_color": null,
            "description_width": ""
          }
        },
        "d990b5e499054113809f8bbe21bdb35c": {
          "model_module": "@jupyter-widgets/controls",
          "model_name": "VBoxModel",
          "model_module_version": "1.5.0",
          "state": {
            "_dom_classes": [],
            "_model_module": "@jupyter-widgets/controls",
            "_model_module_version": "1.5.0",
            "_model_name": "VBoxModel",
            "_view_count": null,
            "_view_module": "@jupyter-widgets/controls",
            "_view_module_version": "1.5.0",
            "_view_name": "VBoxView",
            "box_style": "",
            "children": [
              "IPY_MODEL_56cd91c465cd43ca9a4a8058c1a49461",
              "IPY_MODEL_45414f39bbac4f8c96737dc3b39100f3"
            ],
            "layout": "IPY_MODEL_e62f0b3e92d54947996cf8f1eed1c947"
          }
        },
        "56cd91c465cd43ca9a4a8058c1a49461": {
          "model_module": "@jupyter-widgets/controls",
          "model_name": "LabelModel",
          "model_module_version": "1.5.0",
          "state": {
            "_dom_classes": [],
            "_model_module": "@jupyter-widgets/controls",
            "_model_module_version": "1.5.0",
            "_model_name": "LabelModel",
            "_view_count": null,
            "_view_module": "@jupyter-widgets/controls",
            "_view_module_version": "1.5.0",
            "_view_name": "LabelView",
            "description": "",
            "description_tooltip": null,
            "layout": "IPY_MODEL_5b6165267beb454583ee15e9e4e0129d",
            "placeholder": "​",
            "style": "IPY_MODEL_cb4a944d002747baa82037343f83dd84",
            "value": "0.001 MB of 0.012 MB uploaded (0.000 MB deduped)\r"
          }
        },
        "45414f39bbac4f8c96737dc3b39100f3": {
          "model_module": "@jupyter-widgets/controls",
          "model_name": "FloatProgressModel",
          "model_module_version": "1.5.0",
          "state": {
            "_dom_classes": [],
            "_model_module": "@jupyter-widgets/controls",
            "_model_module_version": "1.5.0",
            "_model_name": "FloatProgressModel",
            "_view_count": null,
            "_view_module": "@jupyter-widgets/controls",
            "_view_module_version": "1.5.0",
            "_view_name": "ProgressView",
            "bar_style": "",
            "description": "",
            "description_tooltip": null,
            "layout": "IPY_MODEL_e646798789cb4154b64ffb306a7a4345",
            "max": 1,
            "min": 0,
            "orientation": "horizontal",
            "style": "IPY_MODEL_61ff815d8c94454db0a565018dec4e3c",
            "value": 0.048487796967485605
          }
        },
        "e62f0b3e92d54947996cf8f1eed1c947": {
          "model_module": "@jupyter-widgets/base",
          "model_name": "LayoutModel",
          "model_module_version": "1.2.0",
          "state": {
            "_model_module": "@jupyter-widgets/base",
            "_model_module_version": "1.2.0",
            "_model_name": "LayoutModel",
            "_view_count": null,
            "_view_module": "@jupyter-widgets/base",
            "_view_module_version": "1.2.0",
            "_view_name": "LayoutView",
            "align_content": null,
            "align_items": null,
            "align_self": null,
            "border": null,
            "bottom": null,
            "display": null,
            "flex": null,
            "flex_flow": null,
            "grid_area": null,
            "grid_auto_columns": null,
            "grid_auto_flow": null,
            "grid_auto_rows": null,
            "grid_column": null,
            "grid_gap": null,
            "grid_row": null,
            "grid_template_areas": null,
            "grid_template_columns": null,
            "grid_template_rows": null,
            "height": null,
            "justify_content": null,
            "justify_items": null,
            "left": null,
            "margin": null,
            "max_height": null,
            "max_width": null,
            "min_height": null,
            "min_width": null,
            "object_fit": null,
            "object_position": null,
            "order": null,
            "overflow": null,
            "overflow_x": null,
            "overflow_y": null,
            "padding": null,
            "right": null,
            "top": null,
            "visibility": null,
            "width": null
          }
        },
        "5b6165267beb454583ee15e9e4e0129d": {
          "model_module": "@jupyter-widgets/base",
          "model_name": "LayoutModel",
          "model_module_version": "1.2.0",
          "state": {
            "_model_module": "@jupyter-widgets/base",
            "_model_module_version": "1.2.0",
            "_model_name": "LayoutModel",
            "_view_count": null,
            "_view_module": "@jupyter-widgets/base",
            "_view_module_version": "1.2.0",
            "_view_name": "LayoutView",
            "align_content": null,
            "align_items": null,
            "align_self": null,
            "border": null,
            "bottom": null,
            "display": null,
            "flex": null,
            "flex_flow": null,
            "grid_area": null,
            "grid_auto_columns": null,
            "grid_auto_flow": null,
            "grid_auto_rows": null,
            "grid_column": null,
            "grid_gap": null,
            "grid_row": null,
            "grid_template_areas": null,
            "grid_template_columns": null,
            "grid_template_rows": null,
            "height": null,
            "justify_content": null,
            "justify_items": null,
            "left": null,
            "margin": null,
            "max_height": null,
            "max_width": null,
            "min_height": null,
            "min_width": null,
            "object_fit": null,
            "object_position": null,
            "order": null,
            "overflow": null,
            "overflow_x": null,
            "overflow_y": null,
            "padding": null,
            "right": null,
            "top": null,
            "visibility": null,
            "width": null
          }
        },
        "cb4a944d002747baa82037343f83dd84": {
          "model_module": "@jupyter-widgets/controls",
          "model_name": "DescriptionStyleModel",
          "model_module_version": "1.5.0",
          "state": {
            "_model_module": "@jupyter-widgets/controls",
            "_model_module_version": "1.5.0",
            "_model_name": "DescriptionStyleModel",
            "_view_count": null,
            "_view_module": "@jupyter-widgets/base",
            "_view_module_version": "1.2.0",
            "_view_name": "StyleView",
            "description_width": ""
          }
        },
        "e646798789cb4154b64ffb306a7a4345": {
          "model_module": "@jupyter-widgets/base",
          "model_name": "LayoutModel",
          "model_module_version": "1.2.0",
          "state": {
            "_model_module": "@jupyter-widgets/base",
            "_model_module_version": "1.2.0",
            "_model_name": "LayoutModel",
            "_view_count": null,
            "_view_module": "@jupyter-widgets/base",
            "_view_module_version": "1.2.0",
            "_view_name": "LayoutView",
            "align_content": null,
            "align_items": null,
            "align_self": null,
            "border": null,
            "bottom": null,
            "display": null,
            "flex": null,
            "flex_flow": null,
            "grid_area": null,
            "grid_auto_columns": null,
            "grid_auto_flow": null,
            "grid_auto_rows": null,
            "grid_column": null,
            "grid_gap": null,
            "grid_row": null,
            "grid_template_areas": null,
            "grid_template_columns": null,
            "grid_template_rows": null,
            "height": null,
            "justify_content": null,
            "justify_items": null,
            "left": null,
            "margin": null,
            "max_height": null,
            "max_width": null,
            "min_height": null,
            "min_width": null,
            "object_fit": null,
            "object_position": null,
            "order": null,
            "overflow": null,
            "overflow_x": null,
            "overflow_y": null,
            "padding": null,
            "right": null,
            "top": null,
            "visibility": null,
            "width": null
          }
        },
        "61ff815d8c94454db0a565018dec4e3c": {
          "model_module": "@jupyter-widgets/controls",
          "model_name": "ProgressStyleModel",
          "model_module_version": "1.5.0",
          "state": {
            "_model_module": "@jupyter-widgets/controls",
            "_model_module_version": "1.5.0",
            "_model_name": "ProgressStyleModel",
            "_view_count": null,
            "_view_module": "@jupyter-widgets/base",
            "_view_module_version": "1.2.0",
            "_view_name": "StyleView",
            "bar_color": null,
            "description_width": ""
          }
        },
        "1323349e90404fa494397e257260ff7f": {
          "model_module": "@jupyter-widgets/controls",
          "model_name": "VBoxModel",
          "model_module_version": "1.5.0",
          "state": {
            "_dom_classes": [],
            "_model_module": "@jupyter-widgets/controls",
            "_model_module_version": "1.5.0",
            "_model_name": "VBoxModel",
            "_view_count": null,
            "_view_module": "@jupyter-widgets/controls",
            "_view_module_version": "1.5.0",
            "_view_name": "VBoxView",
            "box_style": "",
            "children": [
              "IPY_MODEL_0f5178969e5c45c2bc80c07122be18d4",
              "IPY_MODEL_29eb21bd7ddf4b24866be3f68d386e78"
            ],
            "layout": "IPY_MODEL_a7c355c6c2c54b9e8a639662d698bbf9"
          }
        },
        "0f5178969e5c45c2bc80c07122be18d4": {
          "model_module": "@jupyter-widgets/controls",
          "model_name": "LabelModel",
          "model_module_version": "1.5.0",
          "state": {
            "_dom_classes": [],
            "_model_module": "@jupyter-widgets/controls",
            "_model_module_version": "1.5.0",
            "_model_name": "LabelModel",
            "_view_count": null,
            "_view_module": "@jupyter-widgets/controls",
            "_view_module_version": "1.5.0",
            "_view_name": "LabelView",
            "description": "",
            "description_tooltip": null,
            "layout": "IPY_MODEL_6e3279f555224bf79d4f18833f837e9a",
            "placeholder": "​",
            "style": "IPY_MODEL_e4ee4729fdca4cdc8ebdd3321f71ef91",
            "value": "0.001 MB of 0.001 MB uploaded (0.000 MB deduped)\r"
          }
        },
        "29eb21bd7ddf4b24866be3f68d386e78": {
          "model_module": "@jupyter-widgets/controls",
          "model_name": "FloatProgressModel",
          "model_module_version": "1.5.0",
          "state": {
            "_dom_classes": [],
            "_model_module": "@jupyter-widgets/controls",
            "_model_module_version": "1.5.0",
            "_model_name": "FloatProgressModel",
            "_view_count": null,
            "_view_module": "@jupyter-widgets/controls",
            "_view_module_version": "1.5.0",
            "_view_name": "ProgressView",
            "bar_style": "",
            "description": "",
            "description_tooltip": null,
            "layout": "IPY_MODEL_f626bb12e4cf45d4a15a6bff1208f688",
            "max": 1,
            "min": 0,
            "orientation": "horizontal",
            "style": "IPY_MODEL_8cd4d8195a7b4094932d5fac0b065b43",
            "value": 1
          }
        },
        "a7c355c6c2c54b9e8a639662d698bbf9": {
          "model_module": "@jupyter-widgets/base",
          "model_name": "LayoutModel",
          "model_module_version": "1.2.0",
          "state": {
            "_model_module": "@jupyter-widgets/base",
            "_model_module_version": "1.2.0",
            "_model_name": "LayoutModel",
            "_view_count": null,
            "_view_module": "@jupyter-widgets/base",
            "_view_module_version": "1.2.0",
            "_view_name": "LayoutView",
            "align_content": null,
            "align_items": null,
            "align_self": null,
            "border": null,
            "bottom": null,
            "display": null,
            "flex": null,
            "flex_flow": null,
            "grid_area": null,
            "grid_auto_columns": null,
            "grid_auto_flow": null,
            "grid_auto_rows": null,
            "grid_column": null,
            "grid_gap": null,
            "grid_row": null,
            "grid_template_areas": null,
            "grid_template_columns": null,
            "grid_template_rows": null,
            "height": null,
            "justify_content": null,
            "justify_items": null,
            "left": null,
            "margin": null,
            "max_height": null,
            "max_width": null,
            "min_height": null,
            "min_width": null,
            "object_fit": null,
            "object_position": null,
            "order": null,
            "overflow": null,
            "overflow_x": null,
            "overflow_y": null,
            "padding": null,
            "right": null,
            "top": null,
            "visibility": null,
            "width": null
          }
        },
        "6e3279f555224bf79d4f18833f837e9a": {
          "model_module": "@jupyter-widgets/base",
          "model_name": "LayoutModel",
          "model_module_version": "1.2.0",
          "state": {
            "_model_module": "@jupyter-widgets/base",
            "_model_module_version": "1.2.0",
            "_model_name": "LayoutModel",
            "_view_count": null,
            "_view_module": "@jupyter-widgets/base",
            "_view_module_version": "1.2.0",
            "_view_name": "LayoutView",
            "align_content": null,
            "align_items": null,
            "align_self": null,
            "border": null,
            "bottom": null,
            "display": null,
            "flex": null,
            "flex_flow": null,
            "grid_area": null,
            "grid_auto_columns": null,
            "grid_auto_flow": null,
            "grid_auto_rows": null,
            "grid_column": null,
            "grid_gap": null,
            "grid_row": null,
            "grid_template_areas": null,
            "grid_template_columns": null,
            "grid_template_rows": null,
            "height": null,
            "justify_content": null,
            "justify_items": null,
            "left": null,
            "margin": null,
            "max_height": null,
            "max_width": null,
            "min_height": null,
            "min_width": null,
            "object_fit": null,
            "object_position": null,
            "order": null,
            "overflow": null,
            "overflow_x": null,
            "overflow_y": null,
            "padding": null,
            "right": null,
            "top": null,
            "visibility": null,
            "width": null
          }
        },
        "e4ee4729fdca4cdc8ebdd3321f71ef91": {
          "model_module": "@jupyter-widgets/controls",
          "model_name": "DescriptionStyleModel",
          "model_module_version": "1.5.0",
          "state": {
            "_model_module": "@jupyter-widgets/controls",
            "_model_module_version": "1.5.0",
            "_model_name": "DescriptionStyleModel",
            "_view_count": null,
            "_view_module": "@jupyter-widgets/base",
            "_view_module_version": "1.2.0",
            "_view_name": "StyleView",
            "description_width": ""
          }
        },
        "f626bb12e4cf45d4a15a6bff1208f688": {
          "model_module": "@jupyter-widgets/base",
          "model_name": "LayoutModel",
          "model_module_version": "1.2.0",
          "state": {
            "_model_module": "@jupyter-widgets/base",
            "_model_module_version": "1.2.0",
            "_model_name": "LayoutModel",
            "_view_count": null,
            "_view_module": "@jupyter-widgets/base",
            "_view_module_version": "1.2.0",
            "_view_name": "LayoutView",
            "align_content": null,
            "align_items": null,
            "align_self": null,
            "border": null,
            "bottom": null,
            "display": null,
            "flex": null,
            "flex_flow": null,
            "grid_area": null,
            "grid_auto_columns": null,
            "grid_auto_flow": null,
            "grid_auto_rows": null,
            "grid_column": null,
            "grid_gap": null,
            "grid_row": null,
            "grid_template_areas": null,
            "grid_template_columns": null,
            "grid_template_rows": null,
            "height": null,
            "justify_content": null,
            "justify_items": null,
            "left": null,
            "margin": null,
            "max_height": null,
            "max_width": null,
            "min_height": null,
            "min_width": null,
            "object_fit": null,
            "object_position": null,
            "order": null,
            "overflow": null,
            "overflow_x": null,
            "overflow_y": null,
            "padding": null,
            "right": null,
            "top": null,
            "visibility": null,
            "width": null
          }
        },
        "8cd4d8195a7b4094932d5fac0b065b43": {
          "model_module": "@jupyter-widgets/controls",
          "model_name": "ProgressStyleModel",
          "model_module_version": "1.5.0",
          "state": {
            "_model_module": "@jupyter-widgets/controls",
            "_model_module_version": "1.5.0",
            "_model_name": "ProgressStyleModel",
            "_view_count": null,
            "_view_module": "@jupyter-widgets/base",
            "_view_module_version": "1.2.0",
            "_view_name": "StyleView",
            "bar_color": null,
            "description_width": ""
          }
        },
        "87d002d0df7e4c6e9bb7b4d4540fd745": {
          "model_module": "@jupyter-widgets/controls",
          "model_name": "VBoxModel",
          "model_module_version": "1.5.0",
          "state": {
            "_dom_classes": [],
            "_model_module": "@jupyter-widgets/controls",
            "_model_module_version": "1.5.0",
            "_model_name": "VBoxModel",
            "_view_count": null,
            "_view_module": "@jupyter-widgets/controls",
            "_view_module_version": "1.5.0",
            "_view_name": "VBoxView",
            "box_style": "",
            "children": [
              "IPY_MODEL_38d5acb66eef45a4a7e66380a143e632",
              "IPY_MODEL_f18461e2b04f4e4b895a452b7ed76906"
            ],
            "layout": "IPY_MODEL_7fbabf87cd9c4f1caa72602c624fb13c"
          }
        },
        "38d5acb66eef45a4a7e66380a143e632": {
          "model_module": "@jupyter-widgets/controls",
          "model_name": "LabelModel",
          "model_module_version": "1.5.0",
          "state": {
            "_dom_classes": [],
            "_model_module": "@jupyter-widgets/controls",
            "_model_module_version": "1.5.0",
            "_model_name": "LabelModel",
            "_view_count": null,
            "_view_module": "@jupyter-widgets/controls",
            "_view_module_version": "1.5.0",
            "_view_name": "LabelView",
            "description": "",
            "description_tooltip": null,
            "layout": "IPY_MODEL_ba5007dd1c86477daf84e7ce46ae6957",
            "placeholder": "​",
            "style": "IPY_MODEL_289eb5adc1504f29a753230541dcb722",
            "value": "0.001 MB of 0.001 MB uploaded (0.000 MB deduped)\r"
          }
        },
        "f18461e2b04f4e4b895a452b7ed76906": {
          "model_module": "@jupyter-widgets/controls",
          "model_name": "FloatProgressModel",
          "model_module_version": "1.5.0",
          "state": {
            "_dom_classes": [],
            "_model_module": "@jupyter-widgets/controls",
            "_model_module_version": "1.5.0",
            "_model_name": "FloatProgressModel",
            "_view_count": null,
            "_view_module": "@jupyter-widgets/controls",
            "_view_module_version": "1.5.0",
            "_view_name": "ProgressView",
            "bar_style": "",
            "description": "",
            "description_tooltip": null,
            "layout": "IPY_MODEL_d48f531e9dff4103be8504c19e5a13c6",
            "max": 1,
            "min": 0,
            "orientation": "horizontal",
            "style": "IPY_MODEL_45e996e0a24c4874904e562d5035e84b",
            "value": 1
          }
        },
        "7fbabf87cd9c4f1caa72602c624fb13c": {
          "model_module": "@jupyter-widgets/base",
          "model_name": "LayoutModel",
          "model_module_version": "1.2.0",
          "state": {
            "_model_module": "@jupyter-widgets/base",
            "_model_module_version": "1.2.0",
            "_model_name": "LayoutModel",
            "_view_count": null,
            "_view_module": "@jupyter-widgets/base",
            "_view_module_version": "1.2.0",
            "_view_name": "LayoutView",
            "align_content": null,
            "align_items": null,
            "align_self": null,
            "border": null,
            "bottom": null,
            "display": null,
            "flex": null,
            "flex_flow": null,
            "grid_area": null,
            "grid_auto_columns": null,
            "grid_auto_flow": null,
            "grid_auto_rows": null,
            "grid_column": null,
            "grid_gap": null,
            "grid_row": null,
            "grid_template_areas": null,
            "grid_template_columns": null,
            "grid_template_rows": null,
            "height": null,
            "justify_content": null,
            "justify_items": null,
            "left": null,
            "margin": null,
            "max_height": null,
            "max_width": null,
            "min_height": null,
            "min_width": null,
            "object_fit": null,
            "object_position": null,
            "order": null,
            "overflow": null,
            "overflow_x": null,
            "overflow_y": null,
            "padding": null,
            "right": null,
            "top": null,
            "visibility": null,
            "width": null
          }
        },
        "ba5007dd1c86477daf84e7ce46ae6957": {
          "model_module": "@jupyter-widgets/base",
          "model_name": "LayoutModel",
          "model_module_version": "1.2.0",
          "state": {
            "_model_module": "@jupyter-widgets/base",
            "_model_module_version": "1.2.0",
            "_model_name": "LayoutModel",
            "_view_count": null,
            "_view_module": "@jupyter-widgets/base",
            "_view_module_version": "1.2.0",
            "_view_name": "LayoutView",
            "align_content": null,
            "align_items": null,
            "align_self": null,
            "border": null,
            "bottom": null,
            "display": null,
            "flex": null,
            "flex_flow": null,
            "grid_area": null,
            "grid_auto_columns": null,
            "grid_auto_flow": null,
            "grid_auto_rows": null,
            "grid_column": null,
            "grid_gap": null,
            "grid_row": null,
            "grid_template_areas": null,
            "grid_template_columns": null,
            "grid_template_rows": null,
            "height": null,
            "justify_content": null,
            "justify_items": null,
            "left": null,
            "margin": null,
            "max_height": null,
            "max_width": null,
            "min_height": null,
            "min_width": null,
            "object_fit": null,
            "object_position": null,
            "order": null,
            "overflow": null,
            "overflow_x": null,
            "overflow_y": null,
            "padding": null,
            "right": null,
            "top": null,
            "visibility": null,
            "width": null
          }
        },
        "289eb5adc1504f29a753230541dcb722": {
          "model_module": "@jupyter-widgets/controls",
          "model_name": "DescriptionStyleModel",
          "model_module_version": "1.5.0",
          "state": {
            "_model_module": "@jupyter-widgets/controls",
            "_model_module_version": "1.5.0",
            "_model_name": "DescriptionStyleModel",
            "_view_count": null,
            "_view_module": "@jupyter-widgets/base",
            "_view_module_version": "1.2.0",
            "_view_name": "StyleView",
            "description_width": ""
          }
        },
        "d48f531e9dff4103be8504c19e5a13c6": {
          "model_module": "@jupyter-widgets/base",
          "model_name": "LayoutModel",
          "model_module_version": "1.2.0",
          "state": {
            "_model_module": "@jupyter-widgets/base",
            "_model_module_version": "1.2.0",
            "_model_name": "LayoutModel",
            "_view_count": null,
            "_view_module": "@jupyter-widgets/base",
            "_view_module_version": "1.2.0",
            "_view_name": "LayoutView",
            "align_content": null,
            "align_items": null,
            "align_self": null,
            "border": null,
            "bottom": null,
            "display": null,
            "flex": null,
            "flex_flow": null,
            "grid_area": null,
            "grid_auto_columns": null,
            "grid_auto_flow": null,
            "grid_auto_rows": null,
            "grid_column": null,
            "grid_gap": null,
            "grid_row": null,
            "grid_template_areas": null,
            "grid_template_columns": null,
            "grid_template_rows": null,
            "height": null,
            "justify_content": null,
            "justify_items": null,
            "left": null,
            "margin": null,
            "max_height": null,
            "max_width": null,
            "min_height": null,
            "min_width": null,
            "object_fit": null,
            "object_position": null,
            "order": null,
            "overflow": null,
            "overflow_x": null,
            "overflow_y": null,
            "padding": null,
            "right": null,
            "top": null,
            "visibility": null,
            "width": null
          }
        },
        "45e996e0a24c4874904e562d5035e84b": {
          "model_module": "@jupyter-widgets/controls",
          "model_name": "ProgressStyleModel",
          "model_module_version": "1.5.0",
          "state": {
            "_model_module": "@jupyter-widgets/controls",
            "_model_module_version": "1.5.0",
            "_model_name": "ProgressStyleModel",
            "_view_count": null,
            "_view_module": "@jupyter-widgets/base",
            "_view_module_version": "1.2.0",
            "_view_name": "StyleView",
            "bar_color": null,
            "description_width": ""
          }
        },
        "ff7fe04bf7964eea8430ccba7034fdd1": {
          "model_module": "@jupyter-widgets/controls",
          "model_name": "VBoxModel",
          "model_module_version": "1.5.0",
          "state": {
            "_dom_classes": [],
            "_model_module": "@jupyter-widgets/controls",
            "_model_module_version": "1.5.0",
            "_model_name": "VBoxModel",
            "_view_count": null,
            "_view_module": "@jupyter-widgets/controls",
            "_view_module_version": "1.5.0",
            "_view_name": "VBoxView",
            "box_style": "",
            "children": [
              "IPY_MODEL_fc4e79dd76804b83aed29fa4da525e6c",
              "IPY_MODEL_f7b501d00eb8442faea24de750030b74"
            ],
            "layout": "IPY_MODEL_fc976e1e6e2640ca8c901650eee31be1"
          }
        },
        "fc4e79dd76804b83aed29fa4da525e6c": {
          "model_module": "@jupyter-widgets/controls",
          "model_name": "LabelModel",
          "model_module_version": "1.5.0",
          "state": {
            "_dom_classes": [],
            "_model_module": "@jupyter-widgets/controls",
            "_model_module_version": "1.5.0",
            "_model_name": "LabelModel",
            "_view_count": null,
            "_view_module": "@jupyter-widgets/controls",
            "_view_module_version": "1.5.0",
            "_view_name": "LabelView",
            "description": "",
            "description_tooltip": null,
            "layout": "IPY_MODEL_6b7a90c8416547dea5bde77ee2276c2b",
            "placeholder": "​",
            "style": "IPY_MODEL_347f2943d80045d1ac1a4920143d24ee",
            "value": "0.001 MB of 0.012 MB uploaded (0.000 MB deduped)\r"
          }
        },
        "f7b501d00eb8442faea24de750030b74": {
          "model_module": "@jupyter-widgets/controls",
          "model_name": "FloatProgressModel",
          "model_module_version": "1.5.0",
          "state": {
            "_dom_classes": [],
            "_model_module": "@jupyter-widgets/controls",
            "_model_module_version": "1.5.0",
            "_model_name": "FloatProgressModel",
            "_view_count": null,
            "_view_module": "@jupyter-widgets/controls",
            "_view_module_version": "1.5.0",
            "_view_name": "ProgressView",
            "bar_style": "",
            "description": "",
            "description_tooltip": null,
            "layout": "IPY_MODEL_535fe5188ea244568d77fb0960fd5ec7",
            "max": 1,
            "min": 0,
            "orientation": "horizontal",
            "style": "IPY_MODEL_f7b851f9b59c49058e1916aee334e1ed",
            "value": 0.059644059644059645
          }
        },
        "fc976e1e6e2640ca8c901650eee31be1": {
          "model_module": "@jupyter-widgets/base",
          "model_name": "LayoutModel",
          "model_module_version": "1.2.0",
          "state": {
            "_model_module": "@jupyter-widgets/base",
            "_model_module_version": "1.2.0",
            "_model_name": "LayoutModel",
            "_view_count": null,
            "_view_module": "@jupyter-widgets/base",
            "_view_module_version": "1.2.0",
            "_view_name": "LayoutView",
            "align_content": null,
            "align_items": null,
            "align_self": null,
            "border": null,
            "bottom": null,
            "display": null,
            "flex": null,
            "flex_flow": null,
            "grid_area": null,
            "grid_auto_columns": null,
            "grid_auto_flow": null,
            "grid_auto_rows": null,
            "grid_column": null,
            "grid_gap": null,
            "grid_row": null,
            "grid_template_areas": null,
            "grid_template_columns": null,
            "grid_template_rows": null,
            "height": null,
            "justify_content": null,
            "justify_items": null,
            "left": null,
            "margin": null,
            "max_height": null,
            "max_width": null,
            "min_height": null,
            "min_width": null,
            "object_fit": null,
            "object_position": null,
            "order": null,
            "overflow": null,
            "overflow_x": null,
            "overflow_y": null,
            "padding": null,
            "right": null,
            "top": null,
            "visibility": null,
            "width": null
          }
        },
        "6b7a90c8416547dea5bde77ee2276c2b": {
          "model_module": "@jupyter-widgets/base",
          "model_name": "LayoutModel",
          "model_module_version": "1.2.0",
          "state": {
            "_model_module": "@jupyter-widgets/base",
            "_model_module_version": "1.2.0",
            "_model_name": "LayoutModel",
            "_view_count": null,
            "_view_module": "@jupyter-widgets/base",
            "_view_module_version": "1.2.0",
            "_view_name": "LayoutView",
            "align_content": null,
            "align_items": null,
            "align_self": null,
            "border": null,
            "bottom": null,
            "display": null,
            "flex": null,
            "flex_flow": null,
            "grid_area": null,
            "grid_auto_columns": null,
            "grid_auto_flow": null,
            "grid_auto_rows": null,
            "grid_column": null,
            "grid_gap": null,
            "grid_row": null,
            "grid_template_areas": null,
            "grid_template_columns": null,
            "grid_template_rows": null,
            "height": null,
            "justify_content": null,
            "justify_items": null,
            "left": null,
            "margin": null,
            "max_height": null,
            "max_width": null,
            "min_height": null,
            "min_width": null,
            "object_fit": null,
            "object_position": null,
            "order": null,
            "overflow": null,
            "overflow_x": null,
            "overflow_y": null,
            "padding": null,
            "right": null,
            "top": null,
            "visibility": null,
            "width": null
          }
        },
        "347f2943d80045d1ac1a4920143d24ee": {
          "model_module": "@jupyter-widgets/controls",
          "model_name": "DescriptionStyleModel",
          "model_module_version": "1.5.0",
          "state": {
            "_model_module": "@jupyter-widgets/controls",
            "_model_module_version": "1.5.0",
            "_model_name": "DescriptionStyleModel",
            "_view_count": null,
            "_view_module": "@jupyter-widgets/base",
            "_view_module_version": "1.2.0",
            "_view_name": "StyleView",
            "description_width": ""
          }
        },
        "535fe5188ea244568d77fb0960fd5ec7": {
          "model_module": "@jupyter-widgets/base",
          "model_name": "LayoutModel",
          "model_module_version": "1.2.0",
          "state": {
            "_model_module": "@jupyter-widgets/base",
            "_model_module_version": "1.2.0",
            "_model_name": "LayoutModel",
            "_view_count": null,
            "_view_module": "@jupyter-widgets/base",
            "_view_module_version": "1.2.0",
            "_view_name": "LayoutView",
            "align_content": null,
            "align_items": null,
            "align_self": null,
            "border": null,
            "bottom": null,
            "display": null,
            "flex": null,
            "flex_flow": null,
            "grid_area": null,
            "grid_auto_columns": null,
            "grid_auto_flow": null,
            "grid_auto_rows": null,
            "grid_column": null,
            "grid_gap": null,
            "grid_row": null,
            "grid_template_areas": null,
            "grid_template_columns": null,
            "grid_template_rows": null,
            "height": null,
            "justify_content": null,
            "justify_items": null,
            "left": null,
            "margin": null,
            "max_height": null,
            "max_width": null,
            "min_height": null,
            "min_width": null,
            "object_fit": null,
            "object_position": null,
            "order": null,
            "overflow": null,
            "overflow_x": null,
            "overflow_y": null,
            "padding": null,
            "right": null,
            "top": null,
            "visibility": null,
            "width": null
          }
        },
        "f7b851f9b59c49058e1916aee334e1ed": {
          "model_module": "@jupyter-widgets/controls",
          "model_name": "ProgressStyleModel",
          "model_module_version": "1.5.0",
          "state": {
            "_model_module": "@jupyter-widgets/controls",
            "_model_module_version": "1.5.0",
            "_model_name": "ProgressStyleModel",
            "_view_count": null,
            "_view_module": "@jupyter-widgets/base",
            "_view_module_version": "1.2.0",
            "_view_name": "StyleView",
            "bar_color": null,
            "description_width": ""
          }
        },
        "e3ad2371ecc143c280b1be2e83a09ed2": {
          "model_module": "@jupyter-widgets/controls",
          "model_name": "VBoxModel",
          "model_module_version": "1.5.0",
          "state": {
            "_dom_classes": [],
            "_model_module": "@jupyter-widgets/controls",
            "_model_module_version": "1.5.0",
            "_model_name": "VBoxModel",
            "_view_count": null,
            "_view_module": "@jupyter-widgets/controls",
            "_view_module_version": "1.5.0",
            "_view_name": "VBoxView",
            "box_style": "",
            "children": [
              "IPY_MODEL_f840dc45b54c47698357f5befc105dc8",
              "IPY_MODEL_79def18b0b764581be9d267498093bcf"
            ],
            "layout": "IPY_MODEL_5f779be756534f368da32a692cbbcd0d"
          }
        },
        "f840dc45b54c47698357f5befc105dc8": {
          "model_module": "@jupyter-widgets/controls",
          "model_name": "LabelModel",
          "model_module_version": "1.5.0",
          "state": {
            "_dom_classes": [],
            "_model_module": "@jupyter-widgets/controls",
            "_model_module_version": "1.5.0",
            "_model_name": "LabelModel",
            "_view_count": null,
            "_view_module": "@jupyter-widgets/controls",
            "_view_module_version": "1.5.0",
            "_view_name": "LabelView",
            "description": "",
            "description_tooltip": null,
            "layout": "IPY_MODEL_4b905cd23a014ebf8d420d758384da59",
            "placeholder": "​",
            "style": "IPY_MODEL_c5e54e472a0c428dae11a6545e5f974a",
            "value": "0.001 MB of 0.001 MB uploaded (0.000 MB deduped)\r"
          }
        },
        "79def18b0b764581be9d267498093bcf": {
          "model_module": "@jupyter-widgets/controls",
          "model_name": "FloatProgressModel",
          "model_module_version": "1.5.0",
          "state": {
            "_dom_classes": [],
            "_model_module": "@jupyter-widgets/controls",
            "_model_module_version": "1.5.0",
            "_model_name": "FloatProgressModel",
            "_view_count": null,
            "_view_module": "@jupyter-widgets/controls",
            "_view_module_version": "1.5.0",
            "_view_name": "ProgressView",
            "bar_style": "",
            "description": "",
            "description_tooltip": null,
            "layout": "IPY_MODEL_ab772ad294194facb7838aee2f8062a7",
            "max": 1,
            "min": 0,
            "orientation": "horizontal",
            "style": "IPY_MODEL_ac6f47cca9af4fe58e44e4a7e5b29e59",
            "value": 1
          }
        },
        "5f779be756534f368da32a692cbbcd0d": {
          "model_module": "@jupyter-widgets/base",
          "model_name": "LayoutModel",
          "model_module_version": "1.2.0",
          "state": {
            "_model_module": "@jupyter-widgets/base",
            "_model_module_version": "1.2.0",
            "_model_name": "LayoutModel",
            "_view_count": null,
            "_view_module": "@jupyter-widgets/base",
            "_view_module_version": "1.2.0",
            "_view_name": "LayoutView",
            "align_content": null,
            "align_items": null,
            "align_self": null,
            "border": null,
            "bottom": null,
            "display": null,
            "flex": null,
            "flex_flow": null,
            "grid_area": null,
            "grid_auto_columns": null,
            "grid_auto_flow": null,
            "grid_auto_rows": null,
            "grid_column": null,
            "grid_gap": null,
            "grid_row": null,
            "grid_template_areas": null,
            "grid_template_columns": null,
            "grid_template_rows": null,
            "height": null,
            "justify_content": null,
            "justify_items": null,
            "left": null,
            "margin": null,
            "max_height": null,
            "max_width": null,
            "min_height": null,
            "min_width": null,
            "object_fit": null,
            "object_position": null,
            "order": null,
            "overflow": null,
            "overflow_x": null,
            "overflow_y": null,
            "padding": null,
            "right": null,
            "top": null,
            "visibility": null,
            "width": null
          }
        },
        "4b905cd23a014ebf8d420d758384da59": {
          "model_module": "@jupyter-widgets/base",
          "model_name": "LayoutModel",
          "model_module_version": "1.2.0",
          "state": {
            "_model_module": "@jupyter-widgets/base",
            "_model_module_version": "1.2.0",
            "_model_name": "LayoutModel",
            "_view_count": null,
            "_view_module": "@jupyter-widgets/base",
            "_view_module_version": "1.2.0",
            "_view_name": "LayoutView",
            "align_content": null,
            "align_items": null,
            "align_self": null,
            "border": null,
            "bottom": null,
            "display": null,
            "flex": null,
            "flex_flow": null,
            "grid_area": null,
            "grid_auto_columns": null,
            "grid_auto_flow": null,
            "grid_auto_rows": null,
            "grid_column": null,
            "grid_gap": null,
            "grid_row": null,
            "grid_template_areas": null,
            "grid_template_columns": null,
            "grid_template_rows": null,
            "height": null,
            "justify_content": null,
            "justify_items": null,
            "left": null,
            "margin": null,
            "max_height": null,
            "max_width": null,
            "min_height": null,
            "min_width": null,
            "object_fit": null,
            "object_position": null,
            "order": null,
            "overflow": null,
            "overflow_x": null,
            "overflow_y": null,
            "padding": null,
            "right": null,
            "top": null,
            "visibility": null,
            "width": null
          }
        },
        "c5e54e472a0c428dae11a6545e5f974a": {
          "model_module": "@jupyter-widgets/controls",
          "model_name": "DescriptionStyleModel",
          "model_module_version": "1.5.0",
          "state": {
            "_model_module": "@jupyter-widgets/controls",
            "_model_module_version": "1.5.0",
            "_model_name": "DescriptionStyleModel",
            "_view_count": null,
            "_view_module": "@jupyter-widgets/base",
            "_view_module_version": "1.2.0",
            "_view_name": "StyleView",
            "description_width": ""
          }
        },
        "ab772ad294194facb7838aee2f8062a7": {
          "model_module": "@jupyter-widgets/base",
          "model_name": "LayoutModel",
          "model_module_version": "1.2.0",
          "state": {
            "_model_module": "@jupyter-widgets/base",
            "_model_module_version": "1.2.0",
            "_model_name": "LayoutModel",
            "_view_count": null,
            "_view_module": "@jupyter-widgets/base",
            "_view_module_version": "1.2.0",
            "_view_name": "LayoutView",
            "align_content": null,
            "align_items": null,
            "align_self": null,
            "border": null,
            "bottom": null,
            "display": null,
            "flex": null,
            "flex_flow": null,
            "grid_area": null,
            "grid_auto_columns": null,
            "grid_auto_flow": null,
            "grid_auto_rows": null,
            "grid_column": null,
            "grid_gap": null,
            "grid_row": null,
            "grid_template_areas": null,
            "grid_template_columns": null,
            "grid_template_rows": null,
            "height": null,
            "justify_content": null,
            "justify_items": null,
            "left": null,
            "margin": null,
            "max_height": null,
            "max_width": null,
            "min_height": null,
            "min_width": null,
            "object_fit": null,
            "object_position": null,
            "order": null,
            "overflow": null,
            "overflow_x": null,
            "overflow_y": null,
            "padding": null,
            "right": null,
            "top": null,
            "visibility": null,
            "width": null
          }
        },
        "ac6f47cca9af4fe58e44e4a7e5b29e59": {
          "model_module": "@jupyter-widgets/controls",
          "model_name": "ProgressStyleModel",
          "model_module_version": "1.5.0",
          "state": {
            "_model_module": "@jupyter-widgets/controls",
            "_model_module_version": "1.5.0",
            "_model_name": "ProgressStyleModel",
            "_view_count": null,
            "_view_module": "@jupyter-widgets/base",
            "_view_module_version": "1.2.0",
            "_view_name": "StyleView",
            "bar_color": null,
            "description_width": ""
          }
        },
        "ef9e6844893844a18344c00187c28bb5": {
          "model_module": "@jupyter-widgets/controls",
          "model_name": "VBoxModel",
          "model_module_version": "1.5.0",
          "state": {
            "_dom_classes": [],
            "_model_module": "@jupyter-widgets/controls",
            "_model_module_version": "1.5.0",
            "_model_name": "VBoxModel",
            "_view_count": null,
            "_view_module": "@jupyter-widgets/controls",
            "_view_module_version": "1.5.0",
            "_view_name": "VBoxView",
            "box_style": "",
            "children": [
              "IPY_MODEL_acaf51fa534a4337aa649d0dc83966bf",
              "IPY_MODEL_49bb54dcd5c34c458bdcfbf530249ded"
            ],
            "layout": "IPY_MODEL_78a4e1decd9d4ffdadde0040a4230229"
          }
        },
        "acaf51fa534a4337aa649d0dc83966bf": {
          "model_module": "@jupyter-widgets/controls",
          "model_name": "LabelModel",
          "model_module_version": "1.5.0",
          "state": {
            "_dom_classes": [],
            "_model_module": "@jupyter-widgets/controls",
            "_model_module_version": "1.5.0",
            "_model_name": "LabelModel",
            "_view_count": null,
            "_view_module": "@jupyter-widgets/controls",
            "_view_module_version": "1.5.0",
            "_view_name": "LabelView",
            "description": "",
            "description_tooltip": null,
            "layout": "IPY_MODEL_e7d7421d28d94a2ea6f5f9818fe7a97e",
            "placeholder": "​",
            "style": "IPY_MODEL_cfb9c3f5b3644eb1bcfaf7ccb777fe1b",
            "value": "0.001 MB of 0.009 MB uploaded (0.000 MB deduped)\r"
          }
        },
        "49bb54dcd5c34c458bdcfbf530249ded": {
          "model_module": "@jupyter-widgets/controls",
          "model_name": "FloatProgressModel",
          "model_module_version": "1.5.0",
          "state": {
            "_dom_classes": [],
            "_model_module": "@jupyter-widgets/controls",
            "_model_module_version": "1.5.0",
            "_model_name": "FloatProgressModel",
            "_view_count": null,
            "_view_module": "@jupyter-widgets/controls",
            "_view_module_version": "1.5.0",
            "_view_name": "ProgressView",
            "bar_style": "",
            "description": "",
            "description_tooltip": null,
            "layout": "IPY_MODEL_5f1e9df123ac4b1f9bbd4aaf6427c7b4",
            "max": 1,
            "min": 0,
            "orientation": "horizontal",
            "style": "IPY_MODEL_7f831593a7c44267b6e1f1ce3fdb8ddf",
            "value": 0.08324952508660186
          }
        },
        "78a4e1decd9d4ffdadde0040a4230229": {
          "model_module": "@jupyter-widgets/base",
          "model_name": "LayoutModel",
          "model_module_version": "1.2.0",
          "state": {
            "_model_module": "@jupyter-widgets/base",
            "_model_module_version": "1.2.0",
            "_model_name": "LayoutModel",
            "_view_count": null,
            "_view_module": "@jupyter-widgets/base",
            "_view_module_version": "1.2.0",
            "_view_name": "LayoutView",
            "align_content": null,
            "align_items": null,
            "align_self": null,
            "border": null,
            "bottom": null,
            "display": null,
            "flex": null,
            "flex_flow": null,
            "grid_area": null,
            "grid_auto_columns": null,
            "grid_auto_flow": null,
            "grid_auto_rows": null,
            "grid_column": null,
            "grid_gap": null,
            "grid_row": null,
            "grid_template_areas": null,
            "grid_template_columns": null,
            "grid_template_rows": null,
            "height": null,
            "justify_content": null,
            "justify_items": null,
            "left": null,
            "margin": null,
            "max_height": null,
            "max_width": null,
            "min_height": null,
            "min_width": null,
            "object_fit": null,
            "object_position": null,
            "order": null,
            "overflow": null,
            "overflow_x": null,
            "overflow_y": null,
            "padding": null,
            "right": null,
            "top": null,
            "visibility": null,
            "width": null
          }
        },
        "e7d7421d28d94a2ea6f5f9818fe7a97e": {
          "model_module": "@jupyter-widgets/base",
          "model_name": "LayoutModel",
          "model_module_version": "1.2.0",
          "state": {
            "_model_module": "@jupyter-widgets/base",
            "_model_module_version": "1.2.0",
            "_model_name": "LayoutModel",
            "_view_count": null,
            "_view_module": "@jupyter-widgets/base",
            "_view_module_version": "1.2.0",
            "_view_name": "LayoutView",
            "align_content": null,
            "align_items": null,
            "align_self": null,
            "border": null,
            "bottom": null,
            "display": null,
            "flex": null,
            "flex_flow": null,
            "grid_area": null,
            "grid_auto_columns": null,
            "grid_auto_flow": null,
            "grid_auto_rows": null,
            "grid_column": null,
            "grid_gap": null,
            "grid_row": null,
            "grid_template_areas": null,
            "grid_template_columns": null,
            "grid_template_rows": null,
            "height": null,
            "justify_content": null,
            "justify_items": null,
            "left": null,
            "margin": null,
            "max_height": null,
            "max_width": null,
            "min_height": null,
            "min_width": null,
            "object_fit": null,
            "object_position": null,
            "order": null,
            "overflow": null,
            "overflow_x": null,
            "overflow_y": null,
            "padding": null,
            "right": null,
            "top": null,
            "visibility": null,
            "width": null
          }
        },
        "cfb9c3f5b3644eb1bcfaf7ccb777fe1b": {
          "model_module": "@jupyter-widgets/controls",
          "model_name": "DescriptionStyleModel",
          "model_module_version": "1.5.0",
          "state": {
            "_model_module": "@jupyter-widgets/controls",
            "_model_module_version": "1.5.0",
            "_model_name": "DescriptionStyleModel",
            "_view_count": null,
            "_view_module": "@jupyter-widgets/base",
            "_view_module_version": "1.2.0",
            "_view_name": "StyleView",
            "description_width": ""
          }
        },
        "5f1e9df123ac4b1f9bbd4aaf6427c7b4": {
          "model_module": "@jupyter-widgets/base",
          "model_name": "LayoutModel",
          "model_module_version": "1.2.0",
          "state": {
            "_model_module": "@jupyter-widgets/base",
            "_model_module_version": "1.2.0",
            "_model_name": "LayoutModel",
            "_view_count": null,
            "_view_module": "@jupyter-widgets/base",
            "_view_module_version": "1.2.0",
            "_view_name": "LayoutView",
            "align_content": null,
            "align_items": null,
            "align_self": null,
            "border": null,
            "bottom": null,
            "display": null,
            "flex": null,
            "flex_flow": null,
            "grid_area": null,
            "grid_auto_columns": null,
            "grid_auto_flow": null,
            "grid_auto_rows": null,
            "grid_column": null,
            "grid_gap": null,
            "grid_row": null,
            "grid_template_areas": null,
            "grid_template_columns": null,
            "grid_template_rows": null,
            "height": null,
            "justify_content": null,
            "justify_items": null,
            "left": null,
            "margin": null,
            "max_height": null,
            "max_width": null,
            "min_height": null,
            "min_width": null,
            "object_fit": null,
            "object_position": null,
            "order": null,
            "overflow": null,
            "overflow_x": null,
            "overflow_y": null,
            "padding": null,
            "right": null,
            "top": null,
            "visibility": null,
            "width": null
          }
        },
        "7f831593a7c44267b6e1f1ce3fdb8ddf": {
          "model_module": "@jupyter-widgets/controls",
          "model_name": "ProgressStyleModel",
          "model_module_version": "1.5.0",
          "state": {
            "_model_module": "@jupyter-widgets/controls",
            "_model_module_version": "1.5.0",
            "_model_name": "ProgressStyleModel",
            "_view_count": null,
            "_view_module": "@jupyter-widgets/base",
            "_view_module_version": "1.2.0",
            "_view_name": "StyleView",
            "bar_color": null,
            "description_width": ""
          }
        }
      }
    }
  },
  "nbformat": 4,
  "nbformat_minor": 0
}