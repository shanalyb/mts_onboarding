{
  "metadata": {
    "kernelspec": {
      "language": "python",
      "display_name": "Python 3",
      "name": "python3"
    },
    "language_info": {
      "name": "python",
      "version": "3.7.12",
      "mimetype": "text/x-python",
      "codemirror_mode": {
        "name": "ipython",
        "version": 3
      },
      "pygments_lexer": "ipython3",
      "nbconvert_exporter": "python",
      "file_extension": ".py"
    },
    "colab": {
      "provenance": [],
      "collapsed_sections": []
    }
  },
  "nbformat_minor": 0,
  "nbformat": 4,
  "cells": [
    {
      "cell_type": "code",
      "source": [
        "!pip install nmslib"
      ],
      "metadata": {
        "id": "ArTWd-2aeX7r"
      },
      "execution_count": null,
      "outputs": []
    },
    {
      "cell_type": "code",
      "source": [
        "!pip install LibRecommender"
      ],
      "metadata": {
        "id": "xzhrK1x9FJ6z"
      },
      "execution_count": null,
      "outputs": []
    },
    {
      "cell_type": "code",
      "source": [
        "import numpy as np\n",
        "import pandas as pd\n",
        "from libreco.data import random_split, split_by_ratio_chrono, DatasetPure\n",
        "from libreco.algorithms import SVDpp, RNN4Rec  # pure data, algorithm SVD++\n",
        "from libreco.evaluation import evaluate"
      ],
      "metadata": {
        "id": "6LS6-YnNY5rT"
      },
      "execution_count": null,
      "outputs": []
    },
    {
      "cell_type": "code",
      "source": [
        "data = pd.read_csv(\"https://s3-us-west-2.amazonaws.com/recommender-tutorial/ratings.csv\")\n",
        "data.columns = [\"user\", \"item\", \"label\", \"time\"]\n",
        "data[\"label\"] = 1 \n",
        "# data = pd.read_csv(MOVIE_PATH, sep=\"::\", names=[\"user\", \"item\", \"label\", \"time\"])\n",
        "metrics = [\"loss\", \"roc_auc\", \"precision\", \"recall\", \"map\", \"ndcg\"]\n",
        "# split whole data into three folds for training, evaluating and testing\n",
        "train_data, eval_data, test_data = split_by_ratio_chrono(data, multi_ratios=[0.8, 0.1, 0.1])\n",
        "\n",
        "train_data, data_info = DatasetPure.build_trainset(train_data)\n",
        "eval_data = DatasetPure.build_evalset(eval_data)\n",
        "test_data = DatasetPure.build_testset(test_data)\n",
        "train_data.build_negative_samples(data_info)  # sample negative items for each record\n",
        "eval_data.build_negative_samples(data_info) \n",
        "test_data.build_negative_samples(data_info)\n",
        "print(data_info)   # n_users: 5894, n_items: 3253, data sparsity: 0.4172 %\n",
        "\n",
        "model = RNN4Rec(task=\"ranking\", data_info=data_info, embed_size=16, n_epochs=3, lr=0.001,\n",
        "              reg=None, batch_size=256)\n",
        "model.fit(train_data, verbose=2, eval_data=eval_data, metrics=metrics)\n",
        "model.init_knn(approximate=True, sim_type=\"cosine\")\n",
        "model.search_knn_users(user=1, k=3)\n",
        "model.search_knn_items(item=2, k=3)\n",
        "\n",
        "# do final evaluation on test data\n",
        "print(\"evaluate_result: \", evaluate(model=model, data=test_data,\n",
        "                                    metrics=metrics))\n",
        "# predict preference of user 2211 to item 110\n",
        "print(\"prediction: \", model.predict(user=2211, item=110))\n",
        "# recommend 7 items for user 2211\n",
        "print(\"recommendation: \", model.recommend_user(user=2211, n_rec=7))\n",
        "\n",
        "# cold-start prediction\n",
        "print(\"cold prediction: \", model.predict(user=\"ccc\", item=\"not item\",\n",
        "                                         cold_start=\"average\"))\n",
        "# cold-start recommendation\n",
        "print(\"cold recommendation: \", model.recommend_user(user=\"are we good?\",\n",
        "                                                    n_rec=7,\n",
        "                                                    cold_start=\"popular\"))\n"
      ],
      "metadata": {
        "colab": {
          "base_uri": "https://localhost:8080/"
        },
        "id": "zCMxhyEnHErG",
        "outputId": "5c237f24-8405-4e5a-ab2c-849ffd106f5f"
      },
      "execution_count": null,
      "outputs": [
        {
          "output_type": "stream",
          "name": "stdout",
          "text": [
            "random neg item sampling elapsed: 0.154s\n",
            "random neg item sampling elapsed: 0.013s\n",
            "random neg item sampling elapsed: 0.010s\n",
            "n_users: 610, n_items: 8237, data sparsity: 1.6056 %\n",
            "total params: \u001b[33m274,221\u001b[0m | embedding params: \u001b[33m271,917\u001b[0m | network params: \u001b[33m2,304\u001b[0m\n",
            "Training start time: \u001b[35m2022-10-30 20:09:54\u001b[0m\n"
          ]
        },
        {
          "output_type": "stream",
          "name": "stderr",
          "text": [
            "train: 100%|██████████| 631/631 [00:24<00:00, 26.01it/s]\n"
          ]
        },
        {
          "output_type": "stream",
          "name": "stdout",
          "text": [
            "Epoch 1 elapsed: 24.327s\n",
            "\t \u001b[32mtrain_loss: 0.5225\u001b[0m\n"
          ]
        },
        {
          "output_type": "stream",
          "name": "stderr",
          "text": [
            "eval_pred: 100%|██████████| 3/3 [00:00<00:00, 347.58it/s]\n",
            "eval_rec: 100%|██████████| 610/610 [00:00<00:00, 2673.19it/s]\n"
          ]
        },
        {
          "output_type": "stream",
          "name": "stdout",
          "text": [
            "\t eval log_loss: 0.5082\n",
            "\t eval roc_auc: 0.8311\n",
            "\t eval precision@10: 0.0298\n",
            "\t eval recall@10: 0.0307\n",
            "\t eval map@10: 0.0692\n",
            "\t eval ndcg@10: 0.1030\n",
            "==============================\n"
          ]
        },
        {
          "output_type": "stream",
          "name": "stderr",
          "text": [
            "train: 100%|██████████| 631/631 [00:15<00:00, 40.53it/s]\n"
          ]
        },
        {
          "output_type": "stream",
          "name": "stdout",
          "text": [
            "Epoch 2 elapsed: 15.618s\n",
            "\t \u001b[32mtrain_loss: 0.4243\u001b[0m\n"
          ]
        },
        {
          "output_type": "stream",
          "name": "stderr",
          "text": [
            "eval_pred: 100%|██████████| 3/3 [00:00<00:00, 246.30it/s]\n",
            "eval_rec: 100%|██████████| 610/610 [00:00<00:00, 2523.49it/s]\n"
          ]
        },
        {
          "output_type": "stream",
          "name": "stdout",
          "text": [
            "\t eval log_loss: 0.5359\n",
            "\t eval roc_auc: 0.8131\n",
            "\t eval precision@10: 0.0290\n",
            "\t eval recall@10: 0.0292\n",
            "\t eval map@10: 0.0712\n",
            "\t eval ndcg@10: 0.1054\n",
            "==============================\n"
          ]
        },
        {
          "output_type": "stream",
          "name": "stderr",
          "text": [
            "train: 100%|██████████| 631/631 [00:15<00:00, 41.10it/s]\n"
          ]
        },
        {
          "output_type": "stream",
          "name": "stdout",
          "text": [
            "Epoch 3 elapsed: 15.402s\n",
            "\t \u001b[32mtrain_loss: 0.4054\u001b[0m\n"
          ]
        },
        {
          "output_type": "stream",
          "name": "stderr",
          "text": [
            "eval_pred: 100%|██████████| 3/3 [00:00<00:00, 292.95it/s]\n",
            "eval_rec: 100%|██████████| 610/610 [00:00<00:00, 2622.33it/s]\n"
          ]
        },
        {
          "output_type": "stream",
          "name": "stdout",
          "text": [
            "\t eval log_loss: 0.5470\n",
            "\t eval roc_auc: 0.8065\n",
            "\t eval precision@10: 0.0289\n",
            "\t eval recall@10: 0.0317\n",
            "\t eval map@10: 0.0699\n",
            "\t eval ndcg@10: 0.1037\n",
            "==============================\n",
            "using approximate searching mode...\n"
          ]
        },
        {
          "output_type": "stream",
          "name": "stderr",
          "text": [
            "eval_pred: 100%|██████████| 3/3 [00:00<00:00, 168.14it/s]\n",
            "eval_rec: 100%|██████████| 608/608 [00:00<00:00, 2907.25it/s]\n"
          ]
        },
        {
          "output_type": "stream",
          "name": "stdout",
          "text": [
            "evaluate_result:  {'loss': 0.5856958662919252, 'roc_auc': 0.784601032029443, 'precision': 0.022697368421052633, 'recall': 0.020756789378215065, 'map': 0.06326330148287385, 'ndcg': 0.08798167775564955}\n",
            "\u001b[31mDetect 1 unknown interaction(s), position: [0]\u001b[0m\n",
            "prediction:  [0.9796386]\n",
            "\u001b[31mdetect unknown user: 2211\u001b[0m\n",
            "recommendation:  [(260, 0.98528856), (356, 0.9848156), (3578, 0.9810573), (110, 0.9796386), (457, 0.9745798), (1210, 0.97250855), (593, 0.9702036)]\n",
            "\u001b[31mDetect 1 unknown interaction(s), position: [0]\u001b[0m\n",
            "cold prediction:  [0.19510597]\n",
            "\u001b[31mdetect unknown user: are we good?\u001b[0m\n",
            "cold recommendation:  [356, 318, 296, 2571, 593, 260, 110]\n"
          ]
        }
      ]
    }
  ]
}