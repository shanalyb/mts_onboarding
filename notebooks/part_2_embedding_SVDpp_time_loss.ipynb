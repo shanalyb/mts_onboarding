{
  "metadata": {
    "kernelspec": {
      "language": "python",
      "display_name": "Python 3",
      "name": "python3"
    },
    "language_info": {
      "name": "python",
      "version": "3.7.12",
      "mimetype": "text/x-python",
      "codemirror_mode": {
        "name": "ipython",
        "version": 3
      },
      "pygments_lexer": "ipython3",
      "nbconvert_exporter": "python",
      "file_extension": ".py"
    },
    "colab": {
      "provenance": [],
      "collapsed_sections": []
    }
  },
  "nbformat_minor": 0,
  "nbformat": 4,
  "cells": [
    {
      "cell_type": "code",
      "source": [
        "!pip install LibRecommender"
      ],
      "metadata": {
        "id": "xzhrK1x9FJ6z"
      },
      "execution_count": null,
      "outputs": []
    },
    {
      "cell_type": "code",
      "source": [
        "import os\n",
        "import numpy as np\n",
        "import pandas as pd"
      ],
      "metadata": {
        "execution": {
          "iopub.status.busy": "2022-10-28T12:43:22.636680Z",
          "iopub.execute_input": "2022-10-28T12:43:22.637154Z",
          "iopub.status.idle": "2022-10-28T12:43:22.643911Z",
          "shell.execute_reply.started": "2022-10-28T12:43:22.637110Z",
          "shell.execute_reply": "2022-10-28T12:43:22.642703Z"
        },
        "trusted": true,
        "id": "wuzzLxaX-PYM"
      },
      "execution_count": null,
      "outputs": []
    },
    {
      "cell_type": "code",
      "source": [
        "import numpy as np\n",
        "import pandas as pd\n",
        "from libreco.data import random_split, split_by_ratio_chrono, DatasetPure\n",
        "from libreco.algorithms import SVDpp, RNN4Rec  # pure data, algorithm SVD++\n",
        "from libreco.evaluation import evaluate"
      ],
      "metadata": {
        "id": "6LS6-YnNY5rT"
      },
      "execution_count": null,
      "outputs": []
    },
    {
      "cell_type": "code",
      "source": [
        "data = pd.read_csv(\"https://s3-us-west-2.amazonaws.com/recommender-tutorial/ratings.csv\")\n",
        "data.columns = [\"user\", \"item\", \"label\", \"time\"]\n",
        "# data = pd.read_csv(MOVIE_PATH, sep=\"::\", names=[\"user\", \"item\", \"label\", \"time\"])\n",
        "\n",
        "# split whole data into three folds for training, evaluating and testing\n",
        "train_data, eval_data, test_data = split_by_ratio_chrono(data, multi_ratios=[0.8, 0.1, 0.1])\n",
        "\n",
        "train_data, data_info = DatasetPure.build_trainset(train_data)\n",
        "eval_data = DatasetPure.build_evalset(eval_data)\n",
        "test_data = DatasetPure.build_testset(test_data)\n",
        "print(data_info)   # n_users: 5894, n_items: 3253, data sparsity: 0.4172 %\n",
        "\n",
        "svdpp = SVDpp(task=\"rating\", data_info=data_info, embed_size=16, n_epochs=3, lr=0.001,\n",
        "              reg=None, batch_size=256)\n",
        "# monitor metrics on eval_data during training\n",
        "svdpp.fit(train_data, verbose=2, eval_data=eval_data, metrics=[\"rmse\", \"mae\", \"r2\"])\n",
        "\n",
        "# do final evaluation on test data\n",
        "print(\"evaluate_result: \", evaluate(model=svdpp, data=test_data,\n",
        "                                    metrics=[\"rmse\", \"mae\"]))\n",
        "# predict preference of user 2211 to item 110\n",
        "print(\"prediction: \", svdpp.predict(user=2211, item=110))\n",
        "# recommend 7 items for user 2211\n",
        "print(\"recommendation: \", svdpp.recommend_user(user=2211, n_rec=7))\n",
        "\n",
        "# cold-start prediction\n",
        "print(\"cold prediction: \", svdpp.predict(user=\"ccc\", item=\"not item\",\n",
        "                                         cold_start=\"average\"))\n",
        "# cold-start recommendation\n",
        "print(\"cold recommendation: \", svdpp.recommend_user(user=\"are we good?\",\n",
        "                                                    n_rec=7,\n",
        "                                                    cold_start=\"popular\"))\n"
      ],
      "metadata": {
        "colab": {
          "base_uri": "https://localhost:8080/"
        },
        "id": "zCMxhyEnHErG",
        "outputId": "e5a9aad7-d0e7-4641-b0b7-400b99d5bc0a"
      },
      "execution_count": null,
      "outputs": [
        {
          "output_type": "stream",
          "name": "stdout",
          "text": [
            "n_users: 610, n_items: 8237, data sparsity: 1.6056 %\n",
            "Training start time: \u001b[35m2022-10-30 19:46:32\u001b[0m\n"
          ]
        },
        {
          "output_type": "stream",
          "name": "stderr",
          "text": [
            "train: 100%|██████████| 316/316 [00:08<00:00, 37.14it/s]\n"
          ]
        },
        {
          "output_type": "stream",
          "name": "stdout",
          "text": [
            "Epoch 1 elapsed: 8.557s\n",
            "\t \u001b[32mtrain_loss: 6.7125\u001b[0m\n"
          ]
        },
        {
          "output_type": "stream",
          "name": "stderr",
          "text": [
            "eval_pred: 100%|██████████| 2/2 [00:00<00:00, 280.64it/s]\n"
          ]
        },
        {
          "output_type": "stream",
          "name": "stdout",
          "text": [
            "\t eval rmse: 1.6842\n",
            "\t eval mae: 1.3649\n",
            "\t eval r2: -1.5746\n",
            "==============================\n"
          ]
        },
        {
          "output_type": "stream",
          "name": "stderr",
          "text": [
            "train: 100%|██████████| 316/316 [00:04<00:00, 63.36it/s]\n"
          ]
        },
        {
          "output_type": "stream",
          "name": "stdout",
          "text": [
            "Epoch 2 elapsed: 5.063s\n",
            "\t \u001b[32mtrain_loss: 1.9607\u001b[0m\n"
          ]
        },
        {
          "output_type": "stream",
          "name": "stderr",
          "text": [
            "eval_pred: 100%|██████████| 2/2 [00:00<00:00, 361.70it/s]\n"
          ]
        },
        {
          "output_type": "stream",
          "name": "stdout",
          "text": [
            "\t eval rmse: 1.2714\n",
            "\t eval mae: 0.9914\n",
            "\t eval r2: -0.4672\n",
            "==============================\n"
          ]
        },
        {
          "output_type": "stream",
          "name": "stderr",
          "text": [
            "train: 100%|██████████| 316/316 [00:04<00:00, 74.53it/s]\n"
          ]
        },
        {
          "output_type": "stream",
          "name": "stdout",
          "text": [
            "Epoch 3 elapsed: 4.284s\n",
            "\t \u001b[32mtrain_loss: 1.259\u001b[0m\n"
          ]
        },
        {
          "output_type": "stream",
          "name": "stderr",
          "text": [
            "eval_pred: 100%|██████████| 2/2 [00:00<00:00, 559.13it/s]\n"
          ]
        },
        {
          "output_type": "stream",
          "name": "stdout",
          "text": [
            "\t eval rmse: 1.1060\n",
            "\t eval mae: 0.8574\n",
            "\t eval r2: -0.1104\n",
            "==============================\n"
          ]
        },
        {
          "output_type": "stream",
          "name": "stderr",
          "text": [
            "eval_pred: 100%|██████████| 2/2 [00:00<00:00, 457.47it/s]"
          ]
        },
        {
          "output_type": "stream",
          "name": "stdout",
          "text": [
            "evaluate_result:  {'rmse': 1.1385330277090324, 'mae': 0.887031397593311}\n",
            "\u001b[31mDetect 1 unknown interaction(s), position: [0]\u001b[0m\n",
            "prediction:  [3.4911852]\n",
            "\u001b[31mdetect unknown user: 2211\u001b[0m\n",
            "recommendation:  [(318, 3.8710794), (593, 3.7615657), (898, 3.7542315), (750, 3.7521029), (1683, 3.7368088), (296, 3.728684), (1041, 3.7017095)]\n",
            "\u001b[31mDetect 1 unknown interaction(s), position: [0]\u001b[0m\n",
            "cold prediction:  [2.0983768]\n",
            "\u001b[31mdetect unknown user: are we good?\u001b[0m\n",
            "cold recommendation:  [356, 318, 296, 2571, 593, 260, 110]\n"
          ]
        },
        {
          "output_type": "stream",
          "name": "stderr",
          "text": [
            "\n"
          ]
        }
      ]
    }
  ]
}