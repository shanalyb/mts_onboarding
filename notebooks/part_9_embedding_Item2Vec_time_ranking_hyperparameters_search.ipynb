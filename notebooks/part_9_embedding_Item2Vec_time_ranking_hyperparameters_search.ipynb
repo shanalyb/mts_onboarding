{
  "cells": [
    {
      "cell_type": "code",
      "execution_count": null,
      "metadata": {
        "id": "Owp20xO1OoDo"
      },
      "outputs": [],
      "source": [
        "%pip install wandb -Uqq"
      ]
    },
    {
      "cell_type": "code",
      "execution_count": null,
      "metadata": {
        "colab": {
          "base_uri": "https://localhost:8080/"
        },
        "id": "ArTWd-2aeX7r",
        "outputId": "fe2af7c1-e665-46cf-d09e-18ba42eb5602"
      },
      "outputs": [
        {
          "output_type": "stream",
          "name": "stdout",
          "text": [
            "\u001b[K     |████████████████████████████████| 13.5 MB 5.1 MB/s \n",
            "\u001b[K     |████████████████████████████████| 188 kB 47.6 MB/s \n",
            "\u001b[?25h"
          ]
        }
      ],
      "source": [
        "%pip install nmslib -Uqq"
      ]
    },
    {
      "cell_type": "code",
      "execution_count": null,
      "metadata": {
        "colab": {
          "base_uri": "https://localhost:8080/"
        },
        "id": "xzhrK1x9FJ6z",
        "outputId": "10b4a303-f7e2-4e79-e02d-eb5e8f087435"
      },
      "outputs": [
        {
          "output_type": "stream",
          "name": "stdout",
          "text": [
            "\u001b[K     |████████████████████████████████| 2.0 MB 5.2 MB/s \n",
            "\u001b[K     |████████████████████████████████| 24.1 MB 1.6 MB/s \n",
            "\u001b[?25h"
          ]
        }
      ],
      "source": [
        "%pip install LibRecommender -Uqq"
      ]
    },
    {
      "cell_type": "code",
      "execution_count": null,
      "metadata": {
        "colab": {
          "base_uri": "https://localhost:8080/"
        },
        "id": "WpVLVrPtnGdZ",
        "outputId": "1cffdf0b-c1c3-45ac-96d3-db17f0dc40dc"
      },
      "outputs": [
        {
          "output_type": "stream",
          "name": "stdout",
          "text": [
            "\u001b[K     |████████████████████████████████| 4.7 MB 4.9 MB/s \n",
            "\u001b[?25h"
          ]
        }
      ],
      "source": [
        "%pip install faiss==1.5.3 -Uqq"
      ]
    },
    {
      "cell_type": "code",
      "execution_count": null,
      "metadata": {
        "colab": {
          "base_uri": "https://localhost:8080/"
        },
        "id": "LecCNFAYXuBT",
        "outputId": "f900934c-76f2-4129-b061-16e2b53c42bb"
      },
      "outputs": [
        {
          "output_type": "stream",
          "name": "stdout",
          "text": [
            "\u001b[K     |████████████████████████████████| 45 kB 2.2 MB/s \n",
            "\u001b[K     |████████████████████████████████| 246 kB 8.7 MB/s \n",
            "\u001b[?25h"
          ]
        }
      ],
      "source": [
        "%pip install ujson redis -Uqq"
      ]
    },
    {
      "cell_type": "code",
      "source": [
        "import wandb\n",
        "wandb.login()"
      ],
      "metadata": {
        "id": "F_JurJjZxmPY"
      },
      "execution_count": null,
      "outputs": []
    },
    {
      "cell_type": "code",
      "execution_count": null,
      "metadata": {
        "id": "6LS6-YnNY5rT"
      },
      "outputs": [],
      "source": [
        "import os\n",
        "from pathlib import Path\n",
        "\n",
        "import numpy as np\n",
        "import pandas as pd\n",
        "\n",
        "from libreco.data import random_split, split_by_ratio_chrono, DatasetPure\n",
        "from libreco.algorithms import Item2Vec   # pure data, algorithm SVD++\n",
        "from libreco.evaluation import evaluate\n",
        "\n",
        "import warnings\n",
        "warnings.filterwarnings('ignore')\n",
        "warnings.simplefilter('ignore')"
      ]
    },
    {
      "cell_type": "code",
      "execution_count": null,
      "metadata": {
        "id": "sYjMJUUITNWs"
      },
      "outputs": [],
      "source": [
        "from libserving.serialization import save_embed"
      ]
    },
    {
      "cell_type": "code",
      "source": [
        "MODEL_PATH = \"/content/drive/MyDrive/Colab Notebooks/00-MTC/models/Item2Vec\" \n",
        "if not os.path.isdir(MODEL_PATH):\n",
        "    os.mkdir(MODEL_PATH)  \n",
        "MODEL_NAME = 'Item2Vec'"
      ],
      "metadata": {
        "id": "OGF58N8oR6WL"
      },
      "execution_count": null,
      "outputs": []
    },
    {
      "cell_type": "code",
      "execution_count": null,
      "metadata": {
        "colab": {
          "base_uri": "https://localhost:8080/"
        },
        "id": "zCMxhyEnHErG",
        "outputId": "e3936edd-3fdc-4b72-ad8e-d49559b96571"
      },
      "outputs": [
        {
          "output_type": "stream",
          "name": "stdout",
          "text": [
            "random neg item sampling elapsed: 0.095s\n",
            "random neg item sampling elapsed: 0.011s\n",
            "random neg item sampling elapsed: 0.010s\n",
            "n_users: 610, n_items: 8237, data sparsity: 1.6056 %\n"
          ]
        }
      ],
      "source": [
        "data = pd.read_csv(\"https://s3-us-west-2.amazonaws.com/recommender-tutorial/ratings.csv\")\n",
        "data.columns = [\"user\", \"item\", \"label\", \"time\"]\n",
        "data[\"label\"] = 1 \n",
        "\n",
        "train_data, eval_data, test_data = split_by_ratio_chrono(data, multi_ratios=[0.8, 0.1, 0.1])\n",
        "\n",
        "train_data, data_info = DatasetPure.build_trainset(train_data)\n",
        "eval_data = DatasetPure.build_evalset(eval_data)\n",
        "test_data = DatasetPure.build_testset(test_data)\n",
        "train_data.build_negative_samples(data_info)  # sample negative items for each record\n",
        "eval_data.build_negative_samples(data_info) \n",
        "test_data.build_negative_samples(data_info)\n",
        "print(data_info)   # n_users: 5894, n_items: 3253, data sparsity: 0.4172 %"
      ]
    },
    {
      "cell_type": "code",
      "source": [
        "result = max(len(seq) for seq in data_info.user_consumed.values()) + 5\n",
        "result"
      ],
      "metadata": {
        "colab": {
          "base_uri": "https://localhost:8080/"
        },
        "id": "_Oe4df2Vg0zN",
        "outputId": "abac39a6-ecc0-4de5-9255-c490148ff83e"
      },
      "execution_count": null,
      "outputs": [
        {
          "output_type": "execute_result",
          "data": {
            "text/plain": [
              "2163"
            ]
          },
          "metadata": {},
          "execution_count": 18
        }
      ]
    },
    {
      "cell_type": "code",
      "source": [
        "from types import SimpleNamespace  \n",
        "\n",
        "cfg = {\n",
        "  \"embed_size\": 16,\n",
        "  \"n_epochs\": 3,\n",
        "  \"norm_embed\": False,\n",
        "  \"window_size\": None,\n",
        "  \"k\":10,\n",
        "}\n",
        "cfg = SimpleNamespace(**cfg)\n",
        "\n",
        "metrics = [\"loss\", \"roc_auc\", \"precision\", \"recall\", \"map\", \"ndcg\"]    \n",
        "# Rest of code.\n",
        "model = Item2Vec(task=\"ranking\", data_info=data_info, \n",
        "                embed_size=cfg.embed_size, n_epochs=cfg.n_epochs, \n",
        "                norm_embed=cfg.norm_embed, window_size=cfg.window_size)\n",
        "model.fit(train_data, verbose=2, eval_data=eval_data, metrics=metrics)\n",
        "evaluate(model=model, data=test_data, metrics=metrics)\n",
        "# specify model saving directory\n",
        "name_str = f'{MODEL_NAME}' + \\\n",
        "  f'_n_epoch_{cfg.n_epochs}_' + \\\n",
        "  f'emb_size_{cfg.embed_size}_norm_embed_{cfg.norm_embed}_' + \\\n",
        "  f'window_size_{cfg.window_size}'\n",
        "current_dir = os.path.join(MODEL_PATH, name_str)\n",
        "if not os.path.isdir(current_dir):\n",
        "    os.mkdir(current_dir) \n",
        "save_embed(current_dir, model)        \n",
        "model.save(path=current_dir, model_name=\"Item2Vec\", manual=True, inference_only=True)"
      ],
      "metadata": {
        "colab": {
          "base_uri": "https://localhost:8080/"
        },
        "id": "WvkGvN1nRoBx",
        "outputId": "130280c5-b263-48ca-e161-8ea34491f9b8"
      },
      "execution_count": null,
      "outputs": [
        {
          "output_type": "stream",
          "name": "stdout",
          "text": [
            "\u001b[31mwindow size: 2163, using too large window size may slow down training.\u001b[0m\n",
            "Training start time: \u001b[35m2022-11-06 10:54:16\u001b[0m\n"
          ]
        },
        {
          "output_type": "stream",
          "name": "stderr",
          "text": [
            "Item2vec iter0: 100%|██████████| 610/610 [00:00<00:00, 19501.40it/s]\n",
            "Item2vec iter1: 100%|██████████| 610/610 [00:04<00:00, 132.13it/s]\n",
            "Item2vec iter2: 100%|██████████| 610/610 [00:04<00:00, 134.63it/s]\n",
            "Item2vec iter3: 100%|██████████| 610/610 [00:04<00:00, 127.38it/s]\n"
          ]
        },
        {
          "output_type": "stream",
          "name": "stdout",
          "text": [
            "gensim word2vec training elapsed: 79.657s\n"
          ]
        },
        {
          "output_type": "stream",
          "name": "stderr",
          "text": [
            "eval_pred: 100%|██████████| 3/3 [00:00<00:00, 315.96it/s]\n",
            "eval_rec: 100%|██████████| 610/610 [00:00<00:00, 1741.43it/s]\n"
          ]
        },
        {
          "output_type": "stream",
          "name": "stdout",
          "text": [
            "\t eval log_loss: 1.1418\n",
            "\t eval roc_auc: 0.4442\n",
            "\t eval precision@10: 0.0005\n",
            "\t eval recall@10: 0.0001\n",
            "\t eval map@10: 0.0035\n",
            "\t eval ndcg@10: 0.0038\n",
            "==============================\n"
          ]
        },
        {
          "output_type": "stream",
          "name": "stderr",
          "text": [
            "eval_pred: 100%|██████████| 3/3 [00:00<00:00, 380.37it/s]\n",
            "eval_rec: 100%|██████████| 608/608 [00:00<00:00, 1996.16it/s]\n"
          ]
        }
      ]
    },
    {
      "cell_type": "markdown",
      "source": [
        "https://wandb.ai/iloncka-ds/recsys-app/sweeps/tw52paxu?workspace=user-iloncka-ds"
      ],
      "metadata": {
        "id": "9A7mHb-369Se"
      }
    }
  ],
  "metadata": {
    "colab": {
      "provenance": [],
      "collapsed_sections": []
    },
    "kernelspec": {
      "display_name": "Python 3",
      "language": "python",
      "name": "python3"
    },
    "language_info": {
      "codemirror_mode": {
        "name": "ipython",
        "version": 3
      },
      "file_extension": ".py",
      "mimetype": "text/x-python",
      "name": "python",
      "nbconvert_exporter": "python",
      "pygments_lexer": "ipython3",
      "version": "3.7.12"
    }
  },
  "nbformat": 4,
  "nbformat_minor": 0
}